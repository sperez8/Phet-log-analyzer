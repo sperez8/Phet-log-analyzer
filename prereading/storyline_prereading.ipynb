{
 "cells": [
  {
   "cell_type": "markdown",
   "metadata": {},
   "source": [
    "# Prereading study storyline\n",
    "## Loading the data"
   ]
  },
  {
   "cell_type": "code",
   "execution_count": 40,
   "metadata": {
    "collapsed": true
   },
   "outputs": [],
   "source": [
    "%matplotlib inline\n",
    "import scipy\n",
    "import numpy as np\n",
    "import matplotlib.pyplot as plt\n",
    "import matplotlib\n",
    "import pandas as pd\n",
    "import numpy as np\n",
    "import sys\n",
    "import getpass\n",
    "import math"
   ]
  },
  {
   "cell_type": "code",
   "execution_count": 41,
   "metadata": {
    "collapsed": false
   },
   "outputs": [],
   "source": [
    "# from scipy import stats \n",
    "dfraw = pd.read_csv('C:\\Users\\\\'+getpass.getuser()+'\\Desktop\\Clean-data_160217_JBS_cleaned_051316.csv')\n",
    "dfsurvey = pd.read_csv('C:\\Users\\\\'+getpass.getuser()+'\\Desktop\\Clean-data_addSurvey_160309_JBS_cleaned_051316.csv')\n",
    "#please read this about unicode strings eventually: http://www.joelonsoftware.com/articles/Unicode.html\n",
    "\n",
    "\n",
    "# Klugetastic: make a list, convert to an array and then a df\n",
    "datalist = []\n",
    "#header = df.keys()\n",
    "topics = ['Blackbody','Masses','Resonance']\n",
    "treatments = ['TextThenPhet','TextOnly','PhetThenText']\n",
    "\n",
    "\n",
    "#merge with main dataframe\n",
    "dfmerged = pd.merge(left=dfraw,right=dfsurvey, left_on='anon-id', right_on='anon-id')\n",
    "\n",
    "phetquestion = {'Blackbody':'q01 - Approximately how long did you spend with the PhET simulation? (in minutes)',\n",
    "                'Masses':'q5 - Approximately how long did you spend with the PhET simulation? (in minutes)',\n",
    "                'Resonance':'q6 - Approximately how long did you spend with the PhET simulation? (in minutes)'}\n",
    "textquestion = {'Blackbody':'q02 - Approximately how long did you spend reading the textbook sections? (in minutes)',\n",
    "                'Masses':'q6 - Approximately how long did you spend reading the textbook sections? (in minutes)',\n",
    "                'Resonance':'q7 - Approximately how long did you spend reading the textbook sections? (in minutes)'}\n",
    "\n",
    "conv_pos = {'nan':np.nan, 'Not at all':0.0, 'Somewhat':1.0, 'Mostly':2.0, 'Definitely':3.0}\n",
    "conv_neg = {'nan':np.nan, 'Not at all':3.0, 'Somewhat':2.0, 'Mostly':1.0, 'Definitely':0.0}\n",
    "\n",
    "encountered_question = {'Blackbody':'q03 -  Have you learned about blackbody radiation before? (Choose all that apply.)',\n",
    "                        'Masses':'q7 - Have you learned about simple harmonic motion before? (Choose all that apply.)',\n",
    "                        'Resonance':'q8 - Have you learned about resonance before? (Choose all that apply.)'}\n",
    "\n",
    "def transform_encountered(response):\n",
    "    response = str(response)\n",
    "    if response == 'No.':\n",
    "        return False\n",
    "    if 'Yes' in response:\n",
    "        return True\n",
    "    else: \n",
    "        return np.nan\n",
    "\n",
    "def lickert_convert(response):\n",
    "    return float(conv_neg[str(response).split('<')[0]])\n",
    "\n",
    "def compute_survey(responses):\n",
    "    NAs = 0\n",
    "    newresponses = []\n",
    "    for s in responses:\n",
    "        if s != np.nan:\n",
    "            newresponses.append(s)\n",
    "    return sum(newresponses)/len(newresponses)\n",
    "\n",
    "#now we iterate through the dataframe and creat a row per student x topic\n",
    "for index, row in dfmerged.iterrows():\n",
    "    for topic in topics:\n",
    "        #print row['q5 - For me personally; PhET Sims are usually useless.']\n",
    "#         calculated_survey = compute_survey([lickert_convert(row['q2 - For me personally; PhET Sims are usually boring.']),\n",
    "#                     lickert_convert(row['q5 - For me personally; PhET Sims are usually useless.']),\n",
    "#                     lickert_convert(row['q4 - For me personally; PhET Sims are usually fun.']),\n",
    "#                     lickert_convert(row['q3 - For me personally; PhET Sims are usually productive.'])])\n",
    "        datalist.append([str(row['anon-id']),\n",
    "                        str(row[\"Reading group_x\"]),\n",
    "                        float(str(row['PreScore.'+topic]).replace('%',''))/100.0,\n",
    "                        topic,\n",
    "                        row['Treatment.'+topic+'_x'],\n",
    "                        float(str(row['PostScore.'+topic]).replace('%',''))/100.0,\n",
    "                        float(str(row['ClickerScore.'+topic]).replace('%',''))/100.0,\n",
    "                        row[textquestion[topic]],\n",
    "                        row[phetquestion[topic]],\n",
    "#                         calculated_survey,\n",
    "                        row['q9 - How beneficial was this assignment to your learning?'],\n",
    "                        row['q10 - How much did you enjoy this assignment?'],\n",
    "                        transform_encountered(row[encountered_question[topic]])\n",
    "                        ])\n",
    "\n",
    "# convert list2 to an array then a dataframe\n",
    "array2 = np.array(datalist)\n",
    "colnames = ['student id',\"Reading group\",'Prescore','Topic','Treatment',\n",
    "            'Postscore','Clickerscore','Time on text','Time on PhET',\n",
    "#             'Preattitude',\n",
    "            'Postattitude - benefitted','Postattitude - enjoyed','Encountered']\n",
    "df = pd.DataFrame(array2,columns=colnames)"
   ]
  },
  {
   "cell_type": "markdown",
   "metadata": {},
   "source": [
    "# Organizing the dataframe\n",
    "#### Now that we have our data frame we can see what it looks like:"
   ]
  },
  {
   "cell_type": "code",
   "execution_count": 42,
   "metadata": {
    "collapsed": false
   },
   "outputs": [
    {
     "data": {
      "text/html": [
       "<div>\n",
       "<table border=\"1\" class=\"dataframe\">\n",
       "  <thead>\n",
       "    <tr style=\"text-align: right;\">\n",
       "      <th></th>\n",
       "      <th>student id</th>\n",
       "      <th>Reading group</th>\n",
       "      <th>Prescore</th>\n",
       "      <th>Topic</th>\n",
       "      <th>Treatment</th>\n",
       "      <th>Postscore</th>\n",
       "      <th>Clickerscore</th>\n",
       "      <th>Time on text</th>\n",
       "      <th>Time on PhET</th>\n",
       "      <th>Postattitude - benefitted</th>\n",
       "      <th>Postattitude - enjoyed</th>\n",
       "      <th>Encountered</th>\n",
       "    </tr>\n",
       "  </thead>\n",
       "  <tbody>\n",
       "    <tr>\n",
       "      <th>0</th>\n",
       "      <td>5963</td>\n",
       "      <td>3</td>\n",
       "      <td>nan</td>\n",
       "      <td>Blackbody</td>\n",
       "      <td>TextOnly</td>\n",
       "      <td>1.0</td>\n",
       "      <td>0.67</td>\n",
       "      <td>nan</td>\n",
       "      <td>nan</td>\n",
       "      <td>Not very beneficial.</td>\n",
       "      <td>Somewhat enjoyed it.</td>\n",
       "      <td>nan</td>\n",
       "    </tr>\n",
       "    <tr>\n",
       "      <th>1</th>\n",
       "      <td>5963</td>\n",
       "      <td>3</td>\n",
       "      <td>nan</td>\n",
       "      <td>Masses</td>\n",
       "      <td>TextThenPhet</td>\n",
       "      <td>1.0</td>\n",
       "      <td>1.0</td>\n",
       "      <td>25.0</td>\n",
       "      <td>7.0</td>\n",
       "      <td>Not very beneficial.</td>\n",
       "      <td>Somewhat enjoyed it.</td>\n",
       "      <td>True</td>\n",
       "    </tr>\n",
       "    <tr>\n",
       "      <th>2</th>\n",
       "      <td>5963</td>\n",
       "      <td>3</td>\n",
       "      <td>nan</td>\n",
       "      <td>Resonance</td>\n",
       "      <td>PhetThenText</td>\n",
       "      <td>0.67</td>\n",
       "      <td>0.33</td>\n",
       "      <td>20.0</td>\n",
       "      <td>6.0</td>\n",
       "      <td>Not very beneficial.</td>\n",
       "      <td>Somewhat enjoyed it.</td>\n",
       "      <td>True</td>\n",
       "    </tr>\n",
       "    <tr>\n",
       "      <th>3</th>\n",
       "      <td>25630</td>\n",
       "      <td>1</td>\n",
       "      <td>0.33</td>\n",
       "      <td>Blackbody</td>\n",
       "      <td>PhetThenText</td>\n",
       "      <td>0.67</td>\n",
       "      <td>0.67</td>\n",
       "      <td>nan</td>\n",
       "      <td>nan</td>\n",
       "      <td>Somewhat beneficial.</td>\n",
       "      <td>Somewhat enjoyed it.</td>\n",
       "      <td>nan</td>\n",
       "    </tr>\n",
       "    <tr>\n",
       "      <th>4</th>\n",
       "      <td>25630</td>\n",
       "      <td>1</td>\n",
       "      <td>0.0</td>\n",
       "      <td>Masses</td>\n",
       "      <td>TextOnly</td>\n",
       "      <td>0.0</td>\n",
       "      <td>0.75</td>\n",
       "      <td>20.0</td>\n",
       "      <td>0.0</td>\n",
       "      <td>Somewhat beneficial.</td>\n",
       "      <td>Somewhat enjoyed it.</td>\n",
       "      <td>True</td>\n",
       "    </tr>\n",
       "  </tbody>\n",
       "</table>\n",
       "</div>"
      ],
      "text/plain": [
       "  student id Reading group Prescore      Topic     Treatment Postscore  \\\n",
       "0       5963             3      nan  Blackbody      TextOnly       1.0   \n",
       "1       5963             3      nan     Masses  TextThenPhet       1.0   \n",
       "2       5963             3      nan  Resonance  PhetThenText      0.67   \n",
       "3      25630             1     0.33  Blackbody  PhetThenText      0.67   \n",
       "4      25630             1      0.0     Masses      TextOnly       0.0   \n",
       "\n",
       "  Clickerscore Time on text Time on PhET Postattitude - benefitted  \\\n",
       "0         0.67          nan          nan      Not very beneficial.   \n",
       "1          1.0         25.0          7.0      Not very beneficial.   \n",
       "2         0.33         20.0          6.0      Not very beneficial.   \n",
       "3         0.67          nan          nan      Somewhat beneficial.   \n",
       "4         0.75         20.0          0.0      Somewhat beneficial.   \n",
       "\n",
       "  Postattitude - enjoyed Encountered  \n",
       "0   Somewhat enjoyed it.         nan  \n",
       "1   Somewhat enjoyed it.        True  \n",
       "2   Somewhat enjoyed it.        True  \n",
       "3   Somewhat enjoyed it.         nan  \n",
       "4   Somewhat enjoyed it.        True  "
      ]
     },
     "execution_count": 42,
     "metadata": {},
     "output_type": "execute_result"
    }
   ],
   "source": [
    "df.head()"
   ]
  },
  {
   "cell_type": "markdown",
   "metadata": {},
   "source": [
    "#### First we want to make sure that the columns containing numerical data are treated as such. Let's also collapse the post attitude columns"
   ]
  },
  {
   "cell_type": "code",
   "execution_count": 43,
   "metadata": {
    "collapsed": false
   },
   "outputs": [
    {
     "data": {
      "text/html": [
       "<div>\n",
       "<table border=\"1\" class=\"dataframe\">\n",
       "  <thead>\n",
       "    <tr style=\"text-align: right;\">\n",
       "      <th></th>\n",
       "      <th>student id</th>\n",
       "      <th>Reading group</th>\n",
       "      <th>Prescore</th>\n",
       "      <th>Topic</th>\n",
       "      <th>Treatment</th>\n",
       "      <th>Postscore</th>\n",
       "      <th>Clickerscore</th>\n",
       "      <th>Time on text</th>\n",
       "      <th>Time on PhET</th>\n",
       "      <th>Postattitude - benefitted</th>\n",
       "      <th>Postattitude - enjoyed</th>\n",
       "      <th>Encountered</th>\n",
       "      <th>Benefitted</th>\n",
       "      <th>Enjoyed</th>\n",
       "    </tr>\n",
       "  </thead>\n",
       "  <tbody>\n",
       "    <tr>\n",
       "      <th>0</th>\n",
       "      <td>5963</td>\n",
       "      <td>3</td>\n",
       "      <td>NaN</td>\n",
       "      <td>Blackbody</td>\n",
       "      <td>TextOnly</td>\n",
       "      <td>1.00</td>\n",
       "      <td>0.67</td>\n",
       "      <td>NaN</td>\n",
       "      <td>NaN</td>\n",
       "      <td>Not very beneficial.</td>\n",
       "      <td>Somewhat enjoyed it.</td>\n",
       "      <td>nan</td>\n",
       "      <td>False</td>\n",
       "      <td>True</td>\n",
       "    </tr>\n",
       "    <tr>\n",
       "      <th>1</th>\n",
       "      <td>5963</td>\n",
       "      <td>3</td>\n",
       "      <td>NaN</td>\n",
       "      <td>Masses</td>\n",
       "      <td>TextThenPhet</td>\n",
       "      <td>1.00</td>\n",
       "      <td>1.00</td>\n",
       "      <td>25.0</td>\n",
       "      <td>7.0</td>\n",
       "      <td>Not very beneficial.</td>\n",
       "      <td>Somewhat enjoyed it.</td>\n",
       "      <td>True</td>\n",
       "      <td>False</td>\n",
       "      <td>True</td>\n",
       "    </tr>\n",
       "    <tr>\n",
       "      <th>2</th>\n",
       "      <td>5963</td>\n",
       "      <td>3</td>\n",
       "      <td>NaN</td>\n",
       "      <td>Resonance</td>\n",
       "      <td>PhetThenText</td>\n",
       "      <td>0.67</td>\n",
       "      <td>0.33</td>\n",
       "      <td>20.0</td>\n",
       "      <td>6.0</td>\n",
       "      <td>Not very beneficial.</td>\n",
       "      <td>Somewhat enjoyed it.</td>\n",
       "      <td>True</td>\n",
       "      <td>False</td>\n",
       "      <td>True</td>\n",
       "    </tr>\n",
       "    <tr>\n",
       "      <th>3</th>\n",
       "      <td>25630</td>\n",
       "      <td>1</td>\n",
       "      <td>0.33</td>\n",
       "      <td>Blackbody</td>\n",
       "      <td>PhetThenText</td>\n",
       "      <td>0.67</td>\n",
       "      <td>0.67</td>\n",
       "      <td>NaN</td>\n",
       "      <td>NaN</td>\n",
       "      <td>Somewhat beneficial.</td>\n",
       "      <td>Somewhat enjoyed it.</td>\n",
       "      <td>nan</td>\n",
       "      <td>True</td>\n",
       "      <td>True</td>\n",
       "    </tr>\n",
       "    <tr>\n",
       "      <th>4</th>\n",
       "      <td>25630</td>\n",
       "      <td>1</td>\n",
       "      <td>0.00</td>\n",
       "      <td>Masses</td>\n",
       "      <td>TextOnly</td>\n",
       "      <td>0.00</td>\n",
       "      <td>0.75</td>\n",
       "      <td>20.0</td>\n",
       "      <td>0.0</td>\n",
       "      <td>Somewhat beneficial.</td>\n",
       "      <td>Somewhat enjoyed it.</td>\n",
       "      <td>True</td>\n",
       "      <td>True</td>\n",
       "      <td>True</td>\n",
       "    </tr>\n",
       "  </tbody>\n",
       "</table>\n",
       "</div>"
      ],
      "text/plain": [
       "  student id Reading group  Prescore      Topic     Treatment  Postscore  \\\n",
       "0       5963             3       NaN  Blackbody      TextOnly       1.00   \n",
       "1       5963             3       NaN     Masses  TextThenPhet       1.00   \n",
       "2       5963             3       NaN  Resonance  PhetThenText       0.67   \n",
       "3      25630             1      0.33  Blackbody  PhetThenText       0.67   \n",
       "4      25630             1      0.00     Masses      TextOnly       0.00   \n",
       "\n",
       "   Clickerscore  Time on text  Time on PhET Postattitude - benefitted  \\\n",
       "0          0.67           NaN           NaN      Not very beneficial.   \n",
       "1          1.00          25.0           7.0      Not very beneficial.   \n",
       "2          0.33          20.0           6.0      Not very beneficial.   \n",
       "3          0.67           NaN           NaN      Somewhat beneficial.   \n",
       "4          0.75          20.0           0.0      Somewhat beneficial.   \n",
       "\n",
       "  Postattitude - enjoyed Encountered Benefitted Enjoyed  \n",
       "0   Somewhat enjoyed it.         nan      False    True  \n",
       "1   Somewhat enjoyed it.        True      False    True  \n",
       "2   Somewhat enjoyed it.        True      False    True  \n",
       "3   Somewhat enjoyed it.         nan       True    True  \n",
       "4   Somewhat enjoyed it.        True       True    True  "
      ]
     },
     "execution_count": 43,
     "metadata": {},
     "output_type": "execute_result"
    }
   ],
   "source": [
    "#converting columns to numerical types\n",
    "for column in ['Prescore','Postscore','Clickerscore', 'Time on text','Time on PhET']:\n",
    "    df[column] = pd.to_numeric(df[column],errors='coerce')\n",
    "df = df.fillna(np.nan)\n",
    "\n",
    "def transform_enjoy(response):\n",
    "    response = str(response)\n",
    "    if 'No' in response or 'not' in response:\n",
    "        return False\n",
    "    elif 'enjoy' in response: \n",
    "        return True\n",
    "    else: return np.nan\n",
    "    \n",
    "def transform_benefit(response):\n",
    "    response = str(response)\n",
    "    if 'Not' in response:\n",
    "        return False\n",
    "    elif 'beneficial' in response: \n",
    "        return True\n",
    "    else: return np.nan\n",
    "    \n",
    "df['Benefitted'] = df['Postattitude - benefitted'].apply(transform_benefit)\n",
    "df['Enjoyed'] = df['Postattitude - enjoyed'].apply(transform_enjoy)\n",
    "df.head()"
   ]
  },
  {
   "cell_type": "markdown",
   "metadata": {},
   "source": [
    "Unfortunately we have a lot of rows with missing data. If we remove them, we end up with almost half the dataset. We will use this dataset when looking at engagement."
   ]
  },
  {
   "cell_type": "code",
   "execution_count": 73,
   "metadata": {
    "collapsed": false
   },
   "outputs": [
    {
     "data": {
      "text/plain": [
       "((531, 15), (1533, 15), (1064, 5))"
      ]
     },
     "execution_count": 73,
     "metadata": {},
     "output_type": "execute_result"
    }
   ],
   "source": [
    "df2 = df.dropna()\n",
    "df_score1 = df[['Prescore','Postscore','Topic','Clickerscore','Treatment']]\n",
    "df_score = df_score1.dropna()\n",
    "df_score.shape\n",
    "df2.shape, df.shape, df_score.shape"
   ]
  },
  {
   "cell_type": "code",
   "execution_count": 74,
   "metadata": {
    "collapsed": false
   },
   "outputs": [
    {
     "data": {
      "text/html": [
       "<div>\n",
       "<table border=\"1\" class=\"dataframe\">\n",
       "  <thead>\n",
       "    <tr style=\"text-align: right;\">\n",
       "      <th></th>\n",
       "      <th>Prescore</th>\n",
       "      <th>Postscore</th>\n",
       "      <th>Clickerscore</th>\n",
       "    </tr>\n",
       "  </thead>\n",
       "  <tbody>\n",
       "    <tr>\n",
       "      <th>count</th>\n",
       "      <td>1064.000000</td>\n",
       "      <td>1064.000000</td>\n",
       "      <td>1064.000000</td>\n",
       "    </tr>\n",
       "    <tr>\n",
       "      <th>mean</th>\n",
       "      <td>0.317096</td>\n",
       "      <td>0.469276</td>\n",
       "      <td>0.612650</td>\n",
       "    </tr>\n",
       "    <tr>\n",
       "      <th>std</th>\n",
       "      <td>0.306948</td>\n",
       "      <td>0.340606</td>\n",
       "      <td>0.308482</td>\n",
       "    </tr>\n",
       "    <tr>\n",
       "      <th>min</th>\n",
       "      <td>0.000000</td>\n",
       "      <td>0.000000</td>\n",
       "      <td>0.000000</td>\n",
       "    </tr>\n",
       "    <tr>\n",
       "      <th>25%</th>\n",
       "      <td>0.000000</td>\n",
       "      <td>0.330000</td>\n",
       "      <td>0.330000</td>\n",
       "    </tr>\n",
       "    <tr>\n",
       "      <th>50%</th>\n",
       "      <td>0.330000</td>\n",
       "      <td>0.500000</td>\n",
       "      <td>0.670000</td>\n",
       "    </tr>\n",
       "    <tr>\n",
       "      <th>75%</th>\n",
       "      <td>0.500000</td>\n",
       "      <td>0.670000</td>\n",
       "      <td>1.000000</td>\n",
       "    </tr>\n",
       "    <tr>\n",
       "      <th>max</th>\n",
       "      <td>1.000000</td>\n",
       "      <td>1.000000</td>\n",
       "      <td>1.000000</td>\n",
       "    </tr>\n",
       "  </tbody>\n",
       "</table>\n",
       "</div>"
      ],
      "text/plain": [
       "          Prescore    Postscore  Clickerscore\n",
       "count  1064.000000  1064.000000   1064.000000\n",
       "mean      0.317096     0.469276      0.612650\n",
       "std       0.306948     0.340606      0.308482\n",
       "min       0.000000     0.000000      0.000000\n",
       "25%       0.000000     0.330000      0.330000\n",
       "50%       0.330000     0.500000      0.670000\n",
       "75%       0.500000     0.670000      1.000000\n",
       "max       1.000000     1.000000      1.000000"
      ]
     },
     "execution_count": 74,
     "metadata": {},
     "output_type": "execute_result"
    }
   ],
   "source": [
    "df_score.describe()"
   ]
  },
  {
   "cell_type": "markdown",
   "metadata": {},
   "source": [
    "# Descriptors\n",
    "## Did the students learn?\n",
    "#### Let's get a sense of what the students were doing. First let's compare their pre and post scores. In these boxplots, means are in green and medians in red."
   ]
  },
  {
   "cell_type": "code",
   "execution_count": 90,
   "metadata": {
    "collapsed": false
   },
   "outputs": [
    {
     "name": "stderr",
     "output_type": "stream",
     "text": [
      "C:\\Users\\Sarah\\Anaconda2\\lib\\site-packages\\ipykernel\\__main__.py:1: SettingWithCopyWarning: \n",
      "A value is trying to be set on a copy of a slice from a DataFrame.\n",
      "Try using .loc[row_indexer,col_indexer] = value instead\n",
      "\n",
      "See the caveats in the documentation: http://pandas.pydata.org/pandas-docs/stable/indexing.html#indexing-view-versus-copy\n",
      "  if __name__ == '__main__':\n"
     ]
    },
    {
     "data": {
      "text/plain": [
       "array([<matplotlib.axes._subplots.AxesSubplot object at 0x000000000E71A978>,\n",
       "       <matplotlib.axes._subplots.AxesSubplot object at 0x000000000E886EB8>], dtype=object)"
      ]
     },
     "execution_count": 90,
     "metadata": {},
     "output_type": "execute_result"
    },
    {
     "data": {
      "image/png": "[encoded data removed]",
      "text/plain": [
       "<matplotlib.figure.Figure at 0xc1edcc0>"
      ]
     },
     "metadata": {},
     "output_type": "display_data"
    },
    {
     "data": {
      "image/png": "[encoded data removed]",
      "text/plain": [
       "<matplotlib.figure.Figure at 0xd76cac8>"
      ]
     },
     "metadata": {},
     "output_type": "display_data"
    }
   ],
   "source": [
    "df_score['diff'] = df['Prescore']-df['Postscore']\n",
    "df_score.hist(column=['Prescore','Postscore','diff'],bins=5, layout=(1,3),figsize=(15,4),color='slateblue')\n",
    "meanlineprops = dict(linestyle='-', linewidth=2, color='mediumseagreen')\n",
    "df.boxplot(by='Topic',\n",
    "                column=['Prescore','Postscore'],\n",
    "                figsize=(15,6),\n",
    "                meanprops=meanlineprops, meanline=True, showmeans=True)"
   ]
  },
  {
   "cell_type": "markdown",
   "metadata": {},
   "source": [
    "We can see from the histograms that we a wide spectrum of knowledge levels. The boxplots confirm that the student did indeed learn, as post-scores increased for all topics though in varying amounts per topic. We do a Mann-Whitney test (the equivalent a simple t-test for non normal data) to find out if the difference in score is significant."
   ]
  },
  {
   "cell_type": "code",
   "execution_count": 76,
   "metadata": {
    "collapsed": false
   },
   "outputs": [
    {
     "name": "stdout",
     "output_type": "stream",
     "text": [
      "The significance of the post score difference is:\n",
      "MannwhitneyuResult(statistic=37082.5, pvalue=6.5778029651621694e-14) for Masses, \n",
      "MannwhitneyuResult(statistic=45640.5, pvalue=1.5005392378609296e-07) for Resonance, \n",
      "MannwhitneyuResult(statistic=61780.0, pvalue=8.8689502032254699e-08) for Blackbody\n"
     ]
    }
   ],
   "source": [
    "from scipy.stats import mannwhitneyu\n",
    "m = mannwhitneyu(df_score[df_score['Topic']=='Masses']['Prescore'],df_score[df_score['Topic']=='Masses']['Postscore'])\n",
    "r = mannwhitneyu(df_score[df_score['Topic']=='Resonance']['Prescore'],df_score[df_score['Topic']=='Resonance']['Postscore'])\n",
    "b = mannwhitneyu(df_score[df_score['Topic']=='Blackbody']['Prescore'],df_score[df_score['Topic']=='Blackbody']['Postscore'])\n",
    "print(\"The significance of the post score difference is:\\n{0} for Masses, \\n{1} for Resonance, \\n{2} for Blackbody\".format(m,r,b))"
   ]
  },
  {
   "cell_type": "code",
   "execution_count": 77,
   "metadata": {
    "collapsed": false
   },
   "outputs": [
    {
     "name": "stdout",
     "output_type": "stream",
     "text": [
      "The significance of the post score difference is:\n",
      "WilcoxonResult(statistic=1674.5, pvalue=3.737850387280999e-17) for Masses, \n",
      "WilcoxonResult(statistic=6157.5, pvalue=7.1031929202349846e-09) for Resonance, \n",
      "WilcoxonResult(statistic=6276.0, pvalue=8.2879438215317674e-10) for Blackbody\n"
     ]
    }
   ],
   "source": [
    "m = scipy.stats.wilcoxon(df_score[df_score['Topic']=='Masses']['Prescore'],df_score[df_score['Topic']=='Masses']['Postscore'])\n",
    "r = scipy.stats.wilcoxon(df_score[df_score['Topic']=='Resonance']['Prescore'],df_score[df_score['Topic']=='Resonance']['Postscore'])\n",
    "b = scipy.stats.wilcoxon(df_score[df_score['Topic']=='Blackbody']['Prescore'],df_score[df_score['Topic']=='Blackbody']['Postscore'])\n",
    "print(\"The significance of the post score difference is:\\n{0} for Masses, \\n{1} for Resonance, \\n{2} for Blackbody\".format(m,r,b))"
   ]
  },
  {
   "cell_type": "code",
   "execution_count": 79,
   "metadata": {
    "collapsed": false
   },
   "outputs": [
    {
     "data": {
      "text/html": [
       "<div>\n",
       "<table border=\"1\" class=\"dataframe\">\n",
       "  <thead>\n",
       "    <tr style=\"text-align: right;\">\n",
       "      <th></th>\n",
       "      <th>Prescore</th>\n",
       "      <th>Postscore</th>\n",
       "      <th>Clickerscore</th>\n",
       "    </tr>\n",
       "  </thead>\n",
       "  <tbody>\n",
       "    <tr>\n",
       "      <th>count</th>\n",
       "      <td>327.000000</td>\n",
       "      <td>327.000000</td>\n",
       "      <td>327.000000</td>\n",
       "    </tr>\n",
       "    <tr>\n",
       "      <th>mean</th>\n",
       "      <td>0.206422</td>\n",
       "      <td>0.429664</td>\n",
       "      <td>0.789755</td>\n",
       "    </tr>\n",
       "    <tr>\n",
       "      <th>std</th>\n",
       "      <td>0.314850</td>\n",
       "      <td>0.398934</td>\n",
       "      <td>0.249897</td>\n",
       "    </tr>\n",
       "    <tr>\n",
       "      <th>min</th>\n",
       "      <td>0.000000</td>\n",
       "      <td>0.000000</td>\n",
       "      <td>0.000000</td>\n",
       "    </tr>\n",
       "    <tr>\n",
       "      <th>25%</th>\n",
       "      <td>0.000000</td>\n",
       "      <td>0.000000</td>\n",
       "      <td>0.750000</td>\n",
       "    </tr>\n",
       "    <tr>\n",
       "      <th>50%</th>\n",
       "      <td>0.000000</td>\n",
       "      <td>0.500000</td>\n",
       "      <td>0.750000</td>\n",
       "    </tr>\n",
       "    <tr>\n",
       "      <th>75%</th>\n",
       "      <td>0.500000</td>\n",
       "      <td>1.000000</td>\n",
       "      <td>1.000000</td>\n",
       "    </tr>\n",
       "    <tr>\n",
       "      <th>max</th>\n",
       "      <td>1.000000</td>\n",
       "      <td>1.000000</td>\n",
       "      <td>1.000000</td>\n",
       "    </tr>\n",
       "  </tbody>\n",
       "</table>\n",
       "</div>"
      ],
      "text/plain": [
       "         Prescore   Postscore  Clickerscore\n",
       "count  327.000000  327.000000    327.000000\n",
       "mean     0.206422    0.429664      0.789755\n",
       "std      0.314850    0.398934      0.249897\n",
       "min      0.000000    0.000000      0.000000\n",
       "25%      0.000000    0.000000      0.750000\n",
       "50%      0.000000    0.500000      0.750000\n",
       "75%      0.500000    1.000000      1.000000\n",
       "max      1.000000    1.000000      1.000000"
      ]
     },
     "execution_count": 79,
     "metadata": {},
     "output_type": "execute_result"
    }
   ],
   "source": [
    "df_score[df_score['Topic']=='Masses'].describe()"
   ]
  },
  {
   "cell_type": "code",
   "execution_count": 80,
   "metadata": {
    "collapsed": false
   },
   "outputs": [
    {
     "data": {
      "text/html": [
       "<div>\n",
       "<table border=\"1\" class=\"dataframe\">\n",
       "  <thead>\n",
       "    <tr style=\"text-align: right;\">\n",
       "      <th></th>\n",
       "      <th>Prescore</th>\n",
       "      <th>Postscore</th>\n",
       "      <th>Clickerscore</th>\n",
       "    </tr>\n",
       "  </thead>\n",
       "  <tbody>\n",
       "    <tr>\n",
       "      <th>count</th>\n",
       "      <td>342.000000</td>\n",
       "      <td>342.000000</td>\n",
       "      <td>342.000000</td>\n",
       "    </tr>\n",
       "    <tr>\n",
       "      <th>mean</th>\n",
       "      <td>0.308129</td>\n",
       "      <td>0.435117</td>\n",
       "      <td>0.366959</td>\n",
       "    </tr>\n",
       "    <tr>\n",
       "      <th>std</th>\n",
       "      <td>0.283272</td>\n",
       "      <td>0.319250</td>\n",
       "      <td>0.256315</td>\n",
       "    </tr>\n",
       "    <tr>\n",
       "      <th>min</th>\n",
       "      <td>0.000000</td>\n",
       "      <td>0.000000</td>\n",
       "      <td>0.000000</td>\n",
       "    </tr>\n",
       "    <tr>\n",
       "      <th>25%</th>\n",
       "      <td>0.000000</td>\n",
       "      <td>0.330000</td>\n",
       "      <td>0.330000</td>\n",
       "    </tr>\n",
       "    <tr>\n",
       "      <th>50%</th>\n",
       "      <td>0.330000</td>\n",
       "      <td>0.330000</td>\n",
       "      <td>0.330000</td>\n",
       "    </tr>\n",
       "    <tr>\n",
       "      <th>75%</th>\n",
       "      <td>0.330000</td>\n",
       "      <td>0.670000</td>\n",
       "      <td>0.670000</td>\n",
       "    </tr>\n",
       "    <tr>\n",
       "      <th>max</th>\n",
       "      <td>1.000000</td>\n",
       "      <td>1.000000</td>\n",
       "      <td>1.000000</td>\n",
       "    </tr>\n",
       "  </tbody>\n",
       "</table>\n",
       "</div>"
      ],
      "text/plain": [
       "         Prescore   Postscore  Clickerscore\n",
       "count  342.000000  342.000000    342.000000\n",
       "mean     0.308129    0.435117      0.366959\n",
       "std      0.283272    0.319250      0.256315\n",
       "min      0.000000    0.000000      0.000000\n",
       "25%      0.000000    0.330000      0.330000\n",
       "50%      0.330000    0.330000      0.330000\n",
       "75%      0.330000    0.670000      0.670000\n",
       "max      1.000000    1.000000      1.000000"
      ]
     },
     "execution_count": 80,
     "metadata": {},
     "output_type": "execute_result"
    }
   ],
   "source": [
    "df_score[df_score['Topic']=='Resonance'].describe()"
   ]
  },
  {
   "cell_type": "markdown",
   "metadata": {},
   "source": [
    "## How much were they engaged in the activity?\n",
    "#### Next we look at the time spent on task. Next let's look at how much time they spent on each activity."
   ]
  },
  {
   "cell_type": "code",
   "execution_count": 81,
   "metadata": {
    "collapsed": false
   },
   "outputs": [
    {
     "data": {
      "text/html": [
       "<div>\n",
       "<table border=\"1\" class=\"dataframe\">\n",
       "  <thead>\n",
       "    <tr style=\"text-align: right;\">\n",
       "      <th></th>\n",
       "      <th>Prescore</th>\n",
       "      <th>Postscore</th>\n",
       "      <th>Clickerscore</th>\n",
       "    </tr>\n",
       "  </thead>\n",
       "  <tbody>\n",
       "    <tr>\n",
       "      <th>count</th>\n",
       "      <td>395.000000</td>\n",
       "      <td>395.000000</td>\n",
       "      <td>395.000000</td>\n",
       "    </tr>\n",
       "    <tr>\n",
       "      <th>mean</th>\n",
       "      <td>0.416481</td>\n",
       "      <td>0.531646</td>\n",
       "      <td>0.678759</td>\n",
       "    </tr>\n",
       "    <tr>\n",
       "      <th>std</th>\n",
       "      <td>0.287378</td>\n",
       "      <td>0.294774</td>\n",
       "      <td>0.255734</td>\n",
       "    </tr>\n",
       "    <tr>\n",
       "      <th>min</th>\n",
       "      <td>0.000000</td>\n",
       "      <td>0.000000</td>\n",
       "      <td>0.000000</td>\n",
       "    </tr>\n",
       "    <tr>\n",
       "      <th>25%</th>\n",
       "      <td>0.330000</td>\n",
       "      <td>0.330000</td>\n",
       "      <td>0.670000</td>\n",
       "    </tr>\n",
       "    <tr>\n",
       "      <th>50%</th>\n",
       "      <td>0.330000</td>\n",
       "      <td>0.670000</td>\n",
       "      <td>0.670000</td>\n",
       "    </tr>\n",
       "    <tr>\n",
       "      <th>75%</th>\n",
       "      <td>0.670000</td>\n",
       "      <td>0.670000</td>\n",
       "      <td>1.000000</td>\n",
       "    </tr>\n",
       "    <tr>\n",
       "      <th>max</th>\n",
       "      <td>1.000000</td>\n",
       "      <td>1.000000</td>\n",
       "      <td>1.000000</td>\n",
       "    </tr>\n",
       "  </tbody>\n",
       "</table>\n",
       "</div>"
      ],
      "text/plain": [
       "         Prescore   Postscore  Clickerscore\n",
       "count  395.000000  395.000000    395.000000\n",
       "mean     0.416481    0.531646      0.678759\n",
       "std      0.287378    0.294774      0.255734\n",
       "min      0.000000    0.000000      0.000000\n",
       "25%      0.330000    0.330000      0.670000\n",
       "50%      0.330000    0.670000      0.670000\n",
       "75%      0.670000    0.670000      1.000000\n",
       "max      1.000000    1.000000      1.000000"
      ]
     },
     "execution_count": 81,
     "metadata": {},
     "output_type": "execute_result"
    }
   ],
   "source": [
    "df_score[df_score['Topic']=='Blackbody'].describe()"
   ]
  },
  {
   "cell_type": "code",
   "execution_count": 48,
   "metadata": {
    "collapsed": false
   },
   "outputs": [
    {
     "data": {
      "text/plain": [
       "<matplotlib.legend.Legend at 0xb619630>"
      ]
     },
     "execution_count": 48,
     "metadata": {},
     "output_type": "execute_result"
    },
    {
     "data": {
      "image/png": "[encoded data removed]",
      "text/plain": [
       "<matplotlib.figure.Figure at 0xc0cb0b8>"
      ]
     },
     "metadata": {},
     "output_type": "display_data"
    }
   ],
   "source": [
    "maxtime = int(np.max(df['Time on text']))\n",
    "slices = [0,5,10,20,50,60,maxtime]\n",
    "\n",
    "def calculate_totals(time,treatment):\n",
    "    return sum(df[df['Treatment']==treatment]['Time on text']<=time)/float(sum(df[df['Treatment']==treatment]['Time on text']<=1000))\n",
    "\n",
    "ind = np.arange(len(treatments))# the x locations for the groups\n",
    "width = 0.35                    # the width of the bars: can also be len(x) sequence\n",
    "cmap = matplotlib.cm.get_cmap('viridis')\n",
    "\n",
    "ax = plt.subplot(111)\n",
    "plt.bar(ind, [calculate_totals(slices[-1],t) for t in treatments], width, color=cmap((len(slices)-1)/float(len(slices))))\n",
    "for i in reversed(range(len(slices)-1)):\n",
    "    plt.bar(ind, [calculate_totals(slices[i],t) for t in treatments], \n",
    "            width, #bottom= [calculate_totals(slices[i],t) for t in treatments],\n",
    "            color=cmap((i)/float(len(slices))))\n",
    "plt.ylabel('Total number of students')\n",
    "plt.title('Time spent reading depending on treatment')\n",
    "plt.xticks(ind + width/2., treatments)\n",
    "box = ax.get_position()\n",
    "ax.set_position([box.x0, box.y0, box.width * 0.8, box.height])\n",
    "# Put a legend below current axis\n",
    "ax.legend(['<='+str(slices[i]) for i in reversed(range(len(slices)))],loc='center left', bbox_to_anchor=(1, 0.5))"
   ]
  },
  {
   "cell_type": "code",
   "execution_count": 49,
   "metadata": {
    "collapsed": false
   },
   "outputs": [
    {
     "data": {
      "text/plain": [
       "<matplotlib.legend.Legend at 0xc83e4a8>"
      ]
     },
     "execution_count": 49,
     "metadata": {},
     "output_type": "execute_result"
    },
    {
     "data": {
      "image/png": "[encoded data removed]",
      "text/plain": [
       "<matplotlib.figure.Figure at 0xc0cb320>"
      ]
     },
     "metadata": {},
     "output_type": "display_data"
    }
   ],
   "source": [
    "maxtime = int(np.max(df['Time on PhET']))\n",
    "slices = [0,5,10,20,60,maxtime]\n",
    "\n",
    "def calculate_totals(time,treatment):\n",
    "    return sum(df[df['Treatment']==treatment]['Time on PhET']<=time)/float(sum(df[df['Treatment']==treatment]['Time on PhET']<=1000))\n",
    "\n",
    "ind = np.arange(len(treatments))# the x locations for the groups\n",
    "width = 0.35                    # the width of the bars: can also be len(x) sequence\n",
    "cmap = matplotlib.cm.get_cmap('viridis')\n",
    "\n",
    "ax = plt.subplot(111)\n",
    "plt.bar(ind, [calculate_totals(slices[-1],t) for t in treatments], width, color=cmap((len(slices)-1)/float(len(slices))))\n",
    "for i in reversed(range(len(slices)-1)):\n",
    "    plt.bar(ind, [calculate_totals(slices[i],t) for t in treatments], \n",
    "            width, #bottom= [calculate_totals(slices[i],t) for t in treatments],\n",
    "            color=cmap((i)/float(len(slices))))\n",
    "plt.ylabel('Total number of students')\n",
    "plt.title('Time spent reading depending on treatment')\n",
    "plt.xticks(ind + width/2., treatments)\n",
    "box = ax.get_position()\n",
    "ax.set_position([box.x0, box.y0, box.width * 0.8, box.height])\n",
    "# Put a legend below current axis\n",
    "ax.legend(['<='+str(slices[i]) for i in reversed(range(len(slices)))],loc='center left', bbox_to_anchor=(1, 0.5))"
   ]
  },
  {
   "cell_type": "code",
   "execution_count": 50,
   "metadata": {
    "collapsed": false
   },
   "outputs": [
    {
     "name": "stdout",
     "output_type": "stream",
     "text": [
      "The significance of difference between time on task of conditions PhetThenText and TextThenPhet:\n",
      "MannwhitneyuResult(statistic=104747.0, pvalue=0.98307411002794387) for Phet, \n",
      "MannwhitneyuResult(statistic=107757.0, pvalue=0.46439842056534641) for text\n"
     ]
    }
   ],
   "source": [
    "p = mannwhitneyu(df[df['Treatment']=='TextThenPhet']['Time on PhET'],df[df['Treatment']=='PhetThenText']['Time on PhET'])\n",
    "t = mannwhitneyu(df[df['Treatment']=='TextThenPhet']['Time on text'],df[df['Treatment']=='PhetThenText']['Time on text'])\n",
    "print(\"The significance of difference between time on task of conditions PhetThenText and TextThenPhet:\\n{0} for Phet, \\n{1} for text\".format(p,t))"
   ]
  },
  {
   "cell_type": "markdown",
   "metadata": {},
   "source": [
    "## Prior and knowledge and attitude influence on engagement\n",
    "#### If they already encountered the topic were they more likely to score well on the pretest?"
   ]
  },
  {
   "cell_type": "code",
   "execution_count": 51,
   "metadata": {
    "collapsed": false
   },
   "outputs": [
    {
     "name": "stdout",
     "output_type": "stream",
     "text": [
      "The significance of difference between having encountered the topic and on prescore MannwhitneyuResult(statistic=30962.5, pvalue=0.0096002869873254102)\n"
     ]
    }
   ],
   "source": [
    "m0 = mannwhitneyu(df2[df2['Encountered']=='False']['Prescore'],df2[df2['Encountered']=='True']['Prescore'])\n",
    "print(\"The significance of difference between having encountered the topic and on prescore {0}\".format(m0))"
   ]
  },
  {
   "cell_type": "markdown",
   "metadata": {},
   "source": [
    "#### If they already encountered the topic were they more likely to be engaged?¶"
   ]
  },
  {
   "cell_type": "code",
   "execution_count": 52,
   "metadata": {
    "collapsed": false
   },
   "outputs": [
    {
     "name": "stdout",
     "output_type": "stream",
     "text": [
      "The significance of difference between time on task of conditions depending on if they encountered the topic previously:\n",
      "MannwhitneyuResult(statistic=93191.0, pvalue=0.91992610482092085) for Phet, \n",
      "MannwhitneyuResult(statistic=99550.5, pvalue=0.064606164765661347) for text\n"
     ]
    }
   ],
   "source": [
    "p = mannwhitneyu(df[df['Encountered']=='True']['Time on PhET'],df[df['Encountered']=='False']['Time on PhET'])\n",
    "t = mannwhitneyu(df[df['Encountered']=='True']['Time on text'],df[df['Encountered']=='False']['Time on text'])\n",
    "print(\"The significance of difference between time on task of conditions depending on if they encountered the topic previously:\\n{0} for Phet, \\n{1} for text\".format(p,t))"
   ]
  },
  {
   "cell_type": "markdown",
   "metadata": {},
   "source": [
    "#### If they enjoyed the activity, were they more likely to be engaged?\n",
    "#### If they benefitted from the activity, were they more likely to be engaged?\n",
    "#### *WARNING* - I don't think spearman is the appropriate measure... either way we may not need significance for these tests, only show the bar plots Jared already made."
   ]
  },
  {
   "cell_type": "code",
   "execution_count": 53,
   "metadata": {
    "collapsed": false
   },
   "outputs": [
    {
     "name": "stdout",
     "output_type": "stream",
     "text": [
      "The correlation between time spent doing the Phet and benifitted is: SpearmanrResult(correlation=0.030861294060812519, pvalue=0.47792527611114555)\n",
      "The correlation between time spent doing the Phet and enjoyement is: SpearmanrResult(correlation=0.035616517502192864, pvalue=0.4127563211784655)\n",
      "The correlation between time spent doing the reading and benefitted is: SpearmanrResult(correlation=-0.036957576608362672, pvalue=0.39537344522680362)\n",
      "The correlation between time spent doing the reading and enjoyement is: SpearmanrResult(correlation=-0.067678409857134733, pvalue=0.11931522080970305)\n",
      "\n"
     ]
    },
    {
     "name": "stderr",
     "output_type": "stream",
     "text": [
      "C:\\Users\\Sarah\\Anaconda2\\lib\\site-packages\\ipykernel\\__main__.py:2: SettingWithCopyWarning: \n",
      "A value is trying to be set on a copy of a slice from a DataFrame.\n",
      "Try using .loc[row_indexer,col_indexer] = value instead\n",
      "\n",
      "See the caveats in the documentation: http://pandas.pydata.org/pandas-docs/stable/indexing.html#indexing-view-versus-copy\n",
      "  from ipykernel import kernelapp as app\n",
      "C:\\Users\\Sarah\\Anaconda2\\lib\\site-packages\\ipykernel\\__main__.py:4: SettingWithCopyWarning: \n",
      "A value is trying to be set on a copy of a slice from a DataFrame.\n",
      "Try using .loc[row_indexer,col_indexer] = value instead\n",
      "\n",
      "See the caveats in the documentation: http://pandas.pydata.org/pandas-docs/stable/indexing.html#indexing-view-versus-copy\n"
     ]
    }
   ],
   "source": [
    "convert = {\"Not beneficial at all.\":0,\"Not very beneficial.\":1,\"Somewhat beneficial.\":2,\"Very beneficial.\":3}\n",
    "df2['Quantified benefitted'] = df2['Postattitude - benefitted'].apply(lambda x: convert[x])\n",
    "convert = {\"No enjoyment at all.\":0,\"Did not enjoy it very much.\":1,\"Somewhat enjoyed it.\":2,\"Enjoyed it very much.\":3}\n",
    "df2['Quantified enjoyed'] = df2['Postattitude - enjoyed'].apply(lambda x: convert[x])\n",
    "\n",
    "s1 = scipy.stats.spearmanr(df2['Quantified benefitted'],df2['Time on PhET'])\n",
    "s2 = scipy.stats.spearmanr(df2['Quantified enjoyed'],df2['Time on PhET'])\n",
    "s3 = scipy.stats.spearmanr(df2['Quantified benefitted'],df2['Time on text'])\n",
    "s4 = scipy.stats.spearmanr(df2['Quantified enjoyed'],df2['Time on text'])\n",
    "print(\"The correlation between time spent doing the Phet and benifitted is: {0}\\n\".format(s1) +\n",
    "      \"The correlation between time spent doing the Phet and enjoyement is: {0}\\n\".format(s2) +\n",
    "      \"The correlation between time spent doing the reading and benefitted is: {0}\\n\".format(s3) +\n",
    "      \"The correlation between time spent doing the reading and enjoyement is: {0}\\n\".format(s4))"
   ]
  },
  {
   "cell_type": "markdown",
   "metadata": {},
   "source": [
    "# Performance analysis by engagement\n",
    "## Visual investigation of effect of engagement"
   ]
  },
  {
   "cell_type": "code",
   "execution_count": 54,
   "metadata": {
    "collapsed": false
   },
   "outputs": [],
   "source": [
    "##show line plots with x = pre to post, colored by condition, grouped by engagement level\n",
    "##SORRY! I didn't have time to tackle this piece..."
   ]
  },
  {
   "cell_type": "markdown",
   "metadata": {},
   "source": [
    "## Postscore analysis with engagement * condition interaction term\n",
    "#### Next let's group by engagement and see if there is a different in performance.\n"
   ]
  },
  {
   "cell_type": "code",
   "execution_count": 55,
   "metadata": {
    "collapsed": false
   },
   "outputs": [
    {
     "name": "stdout",
     "output_type": "stream",
     "text": [
      "                 Generalized Linear Model Regression Results                  \n",
      "==============================================================================\n",
      "Dep. Variable:       df2[\"Postscore\"]   No. Observations:                  531\n",
      "Model:                            GLM   Df Residuals:                      517\n",
      "Model Family:                Binomial   Df Model:                           13\n",
      "Link Function:                  logit   Scale:                             1.0\n",
      "Method:                          IRLS   Log-Likelihood:                -342.04\n",
      "Date:                Tue, 31 May 2016   Deviance:                       630.74\n",
      "Time:                        12:52:39   Pearson chi2:                     262.\n",
      "No. Iterations:                     7                                         \n",
      "============================================================================================================================================\n",
      "                                                                               coef    std err          z      P>|z|      [95.0% Conf. Int.]\n",
      "--------------------------------------------------------------------------------------------------------------------------------------------\n",
      "Intercept                                                                   -0.7863      0.517     -1.520      0.128        -1.800     0.228\n",
      "df2[\"Reading group\"][T.2]                                                   -0.2966      0.270     -1.099      0.272        -0.826     0.232\n",
      "df2[\"Reading group\"][T.3]                                                   -0.3013      0.274     -1.099      0.272        -0.839     0.236\n",
      "df2[\"Topic\"][T.Resonance]                                                    0.0014      0.197      0.007      0.994        -0.384     0.387\n",
      "df2[\"Treatment\"][T.TextOnly]                                                 0.3112      0.538      0.578      0.563        -0.744     1.366\n",
      "df2[\"Treatment\"][T.TextThenPhet]                                             0.0320      0.590      0.054      0.957        -1.125     1.188\n",
      "df2[\"Prescore\"]                                                              1.7934      0.323      5.551      0.000         1.160     2.427\n",
      "df2[\"Time on text\"]                                                          0.0121      0.009      1.282      0.200        -0.006     0.031\n",
      "df2[\"Treatment\"][T.TextOnly]:df2[\"Time on text\"]                            -0.0107      0.011     -0.953      0.340        -0.033     0.011\n",
      "df2[\"Treatment\"][T.TextThenPhet]:df2[\"Time on text\"]                        -0.0076      0.012     -0.648      0.517        -0.030     0.015\n",
      "df2[\"Time on PhET\"]                                                         -0.0060      0.039     -0.152      0.879        -0.083     0.071\n",
      "df2[\"Treatment\"][T.TextOnly]:df2[\"Time on PhET\"]                          2.059e-16   1.28e-16      1.615      0.106      -4.4e-17  4.56e-16\n",
      "df2[\"Treatment\"][T.TextThenPhet]:df2[\"Time on PhET\"]                        -0.0191      0.054     -0.353      0.724        -0.125     0.087\n",
      "df2[\"Time on text\"]:df2[\"Time on PhET\"]                                     -0.0002      0.001     -0.309      0.758        -0.001     0.001\n",
      "df2[\"Treatment\"][T.TextOnly]:df2[\"Time on text\"]:df2[\"Time on PhET\"]              0          0        nan        nan             0         0\n",
      "df2[\"Treatment\"][T.TextThenPhet]:df2[\"Time on text\"]:df2[\"Time on PhET\"]     0.0004      0.001      0.504      0.614        -0.001     0.002\n",
      "============================================================================================================================================\n"
     ]
    }
   ],
   "source": [
    "import statsmodels.formula.api as smf\n",
    "import statsmodels.api as sm\n",
    "\n",
    "formula = '''df2[\"Postscore\"] ~ df2[\"Reading group\"] + \n",
    "            df2[\"Prescore\"] + df2[\"Topic\"] +\n",
    "            df2[\"Treatment\"]*df2[\"Time on text\"]*df2[\"Time on PhET\"]'''\n",
    "glm_f_binom = smf.glm(formula = formula, data = df2.dropna(),  family=sm.families.Binomial())\n",
    "res = glm_f_binom.fit()\n",
    "print(res.summary())"
   ]
  },
  {
   "cell_type": "code",
   "execution_count": 56,
   "metadata": {
    "collapsed": false
   },
   "outputs": [
    {
     "name": "stderr",
     "output_type": "stream",
     "text": [
      "C:\\Users\\Sarah\\Anaconda2\\lib\\site-packages\\ipykernel\\__main__.py:2: SettingWithCopyWarning: \n",
      "A value is trying to be set on a copy of a slice from a DataFrame.\n",
      "Try using .loc[row_indexer,col_indexer] = value instead\n",
      "\n",
      "See the caveats in the documentation: http://pandas.pydata.org/pandas-docs/stable/indexing.html#indexing-view-versus-copy\n",
      "  from ipykernel import kernelapp as app\n",
      "C:\\Users\\Sarah\\Anaconda2\\lib\\site-packages\\ipykernel\\__main__.py:4: SettingWithCopyWarning: \n",
      "A value is trying to be set on a copy of a slice from a DataFrame.\n",
      "Try using .loc[row_indexer,col_indexer] = value instead\n",
      "\n",
      "See the caveats in the documentation: http://pandas.pydata.org/pandas-docs/stable/indexing.html#indexing-view-versus-copy\n"
     ]
    },
    {
     "data": {
      "text/plain": [
       "'The median engagment times for PhET and text are 8.0 and 30.0 minutes.'"
      ]
     },
     "execution_count": 56,
     "metadata": {},
     "output_type": "execute_result"
    }
   ],
   "source": [
    "phet_median = df2[df2['Treatment']!='TextOnly']['Time on PhET'].median()\n",
    "df2['Engaged PhET'] = df2[df2['Treatment']!='TextOnly']['Time on PhET'] >= phet_median\n",
    "text_median = df2['Time on text'].median()\n",
    "df2['Engaged text'] = df2['Time on text'] >= text_median\n",
    "'The median engagment times for PhET and text are {0} and {1} minutes.'.format(phet_median,text_median)"
   ]
  },
  {
   "cell_type": "code",
   "execution_count": 83,
   "metadata": {
    "collapsed": false
   },
   "outputs": [
    {
     "name": "stdout",
     "output_type": "stream",
     "text": [
      "                   Generalized Linear Model Regression Results                   \n",
      "=================================================================================\n",
      "Dep. Variable:     df_score[\"Postscore\"]   No. Observations:                 1064\n",
      "Model:                               GLM   Df Residuals:                     1054\n",
      "Model Family:                   Binomial   Df Model:                            9\n",
      "Link Function:                     logit   Scale:                             1.0\n",
      "Method:                             IRLS   Log-Likelihood:                -696.56\n",
      "Date:                   Tue, 31 May 2016   Deviance:                       1367.1\n",
      "Time:                           13:22:07   Pearson chi2:                     455.\n",
      "No. Iterations:                        7                                         \n",
      "========================================================================================================================================\n",
      "                                                                           coef    std err          z      P>|z|      [95.0% Conf. Int.]\n",
      "----------------------------------------------------------------------------------------------------------------------------------------\n",
      "Intercept                                                               -0.5258      0.204     -2.572      0.010        -0.926    -0.125\n",
      "df_score[\"Topic\"][T.Masses]                                             -0.0702      0.275     -0.255      0.799        -0.610     0.470\n",
      "df_score[\"Topic\"][T.Resonance]                                          -0.4145      0.267     -1.553      0.121        -0.938     0.109\n",
      "df_score[\"Treatment\"][T.TextOnly]                                       -0.0693      0.253     -0.273      0.785        -0.566     0.428\n",
      "df_score[\"Treatment\"][T.TextThenPhet]                                   -0.1226      0.257     -0.478      0.633        -0.625     0.380\n",
      "df_score[\"Topic\"][T.Masses]:df_score[\"Treatment\"][T.TextOnly]            0.2584      0.375      0.688      0.491        -0.477     0.994\n",
      "df_score[\"Topic\"][T.Resonance]:df_score[\"Treatment\"][T.TextOnly]         0.3317      0.376      0.881      0.378        -0.406     1.070\n",
      "df_score[\"Topic\"][T.Masses]:df_score[\"Treatment\"][T.TextThenPhet]       -0.2727      0.390     -0.699      0.485        -1.037     0.492\n",
      "df_score[\"Topic\"][T.Resonance]:df_score[\"Treatment\"][T.TextThenPhet]     0.2657      0.374      0.710      0.478        -0.468     0.999\n",
      "df_score[\"Prescore\"]                                                     1.7433      0.225      7.732      0.000         1.301     2.185\n",
      "========================================================================================================================================\n"
     ]
    }
   ],
   "source": [
    "import statsmodels.formula.api as smf\n",
    "import statsmodels.api as sm\n",
    "\n",
    "formula = '''df_score[\"Postscore\"] ~ df_score[\"Prescore\"] + df_score[\"Topic\"]*df_score[\"Treatment\"]'''\n",
    "glm_f_binom = smf.glm(formula = formula, data = df_score,  family=sm.families.Binomial())\n",
    "res = glm_f_binom.fit()\n",
    "print(res.summary())"
   ]
  },
  {
   "cell_type": "markdown",
   "metadata": {},
   "source": [
    "## Clickerscore analysis with engagement * condition interaction term"
   ]
  },
  {
   "cell_type": "code",
   "execution_count": 84,
   "metadata": {
    "collapsed": false
   },
   "outputs": [
    {
     "name": "stdout",
     "output_type": "stream",
     "text": [
      "                    Generalized Linear Model Regression Results                     \n",
      "====================================================================================\n",
      "Dep. Variable:     df_score[\"Clickerscore\"]   No. Observations:                 1064\n",
      "Model:                                  GLM   Df Residuals:                     1054\n",
      "Model Family:                      Binomial   Df Model:                            9\n",
      "Link Function:                        logit   Scale:                             1.0\n",
      "Method:                                IRLS   Log-Likelihood:                -636.01\n",
      "Date:                      Tue, 31 May 2016   Deviance:                       1642.7\n",
      "Time:                              13:23:25   Pearson chi2:                     328.\n",
      "No. Iterations:                           7                                         \n",
      "========================================================================================================================================\n",
      "                                                                           coef    std err          z      P>|z|      [95.0% Conf. Int.]\n",
      "----------------------------------------------------------------------------------------------------------------------------------------\n",
      "Intercept                                                                0.4523      0.212      2.133      0.033         0.037     0.868\n",
      "df_score[\"Topic\"][T.Masses]                                              0.6433      0.301      2.135      0.033         0.053     1.234\n",
      "df_score[\"Topic\"][T.Resonance]                                          -1.2475      0.271     -4.606      0.000        -1.778    -0.717\n",
      "df_score[\"Treatment\"][T.TextOnly]                                        0.1901      0.267      0.712      0.477        -0.333     0.713\n",
      "df_score[\"Treatment\"][T.TextThenPhet]                                   -0.1036      0.264     -0.393      0.695        -0.621     0.413\n",
      "df_score[\"Topic\"][T.Masses]:df_score[\"Treatment\"][T.TextOnly]            0.0298      0.423      0.070      0.944        -0.799     0.858\n",
      "df_score[\"Topic\"][T.Resonance]:df_score[\"Treatment\"][T.TextOnly]        -0.0499      0.385     -0.129      0.897        -0.805     0.705\n",
      "df_score[\"Topic\"][T.Masses]:df_score[\"Treatment\"][T.TextThenPhet]        0.1996      0.427      0.468      0.640        -0.637     1.036\n",
      "df_score[\"Topic\"][T.Resonance]:df_score[\"Treatment\"][T.TextThenPhet]     0.1012      0.380      0.266      0.790        -0.644     0.846\n",
      "df_score[\"Prescore\"]                                                     0.6556      0.238      2.753      0.006         0.189     1.122\n",
      "========================================================================================================================================\n"
     ]
    }
   ],
   "source": [
    "formula = '''df_score[\"Clickerscore\"] ~ df_score[\"Prescore\"] + df_score[\"Topic\"]*df_score[\"Treatment\"]'''\n",
    "glm_f_binom = smf.glm(formula = formula, data = df_score,  family=sm.families.Binomial())\n",
    "res = glm_f_binom.fit()\n",
    "print(res.summary())"
   ]
  },
  {
   "cell_type": "code",
   "execution_count": 85,
   "metadata": {
    "collapsed": false
   },
   "outputs": [
    {
     "name": "stdout",
     "output_type": "stream",
     "text": [
      "                    Generalized Linear Model Regression Results                     \n",
      "====================================================================================\n",
      "Dep. Variable:     df_score[\"Clickerscore\"]   No. Observations:                 1064\n",
      "Model:                                  GLM   Df Residuals:                     1052\n",
      "Model Family:                      Binomial   Df Model:                           11\n",
      "Link Function:                        logit   Scale:                             1.0\n",
      "Method:                                IRLS   Log-Likelihood:                -631.66\n",
      "Date:                      Tue, 31 May 2016   Deviance:                       1635.2\n",
      "Time:                              13:26:55   Pearson chi2:                     321.\n",
      "No. Iterations:                           7                                         \n",
      "========================================================================================================================================\n",
      "                                                                           coef    std err          z      P>|z|      [95.0% Conf. Int.]\n",
      "----------------------------------------------------------------------------------------------------------------------------------------\n",
      "Intercept                                                                0.2140      0.240      0.893      0.372        -0.256     0.684\n",
      "df_score[\"Topic\"][T.Masses]                                              0.6685      0.303      2.203      0.028         0.074     1.263\n",
      "df_score[\"Topic\"][T.Resonance]                                          -1.1945      0.272     -4.384      0.000        -1.728    -0.660\n",
      "df_score[\"Treatment\"][T.TextOnly]                                        0.2010      0.268      0.750      0.453        -0.324     0.726\n",
      "df_score[\"Treatment\"][T.TextThenPhet]                                   -0.0860      0.265     -0.324      0.746        -0.606     0.434\n",
      "df_score[\"Topic\"][T.Masses]:df_score[\"Treatment\"][T.TextOnly]           -0.0071      0.425     -0.017      0.987        -0.840     0.826\n",
      "df_score[\"Topic\"][T.Resonance]:df_score[\"Treatment\"][T.TextOnly]        -0.0988      0.387     -0.255      0.799        -0.858     0.660\n",
      "df_score[\"Topic\"][T.Masses]:df_score[\"Treatment\"][T.TextThenPhet]        0.2373      0.429      0.553      0.580        -0.603     1.078\n",
      "df_score[\"Topic\"][T.Resonance]:df_score[\"Treatment\"][T.TextThenPhet]     0.0644      0.382      0.169      0.866        -0.684     0.813\n",
      "df_score[\"Prescore\"]                                                     0.3793      0.444      0.854      0.393        -0.491     1.250\n",
      "df_score[\"Postscore\"]                                                    0.6403      0.296      2.166      0.030         0.061     1.220\n",
      "df_score[\"Prescore\"]:df_score[\"Postscore\"]                               0.0364      0.685      0.053      0.958        -1.305     1.378\n",
      "========================================================================================================================================\n"
     ]
    }
   ],
   "source": [
    "formula = '''df_score[\"Clickerscore\"] ~ df_score[\"Prescore\"]*df_score[\"Postscore\"] + df_score[\"Topic\"]*df_score[\"Treatment\"]'''\n",
    "glm_f_binom = smf.glm(formula = formula, data = df_score,  family=sm.families.Binomial())\n",
    "res = glm_f_binom.fit()\n",
    "print(res.summary())"
   ]
  },
  {
   "cell_type": "markdown",
   "metadata": {},
   "source": [
    "#### Interestingly, low or no effect by the prescore on the clickerscore... Treatment marginally mattered, engagement didn't."
   ]
  },
  {
   "cell_type": "markdown",
   "metadata": {},
   "source": [
    "## Reading assignment and preparedness: what's the difference between the clicker and postscore?\n",
    "#### To see if the reading material was sufficient to prepare students for class, let's so how differently they performed on the clicker versus post reading quiz.\n"
   ]
  },
  {
   "cell_type": "code",
   "execution_count": 59,
   "metadata": {
    "collapsed": false
   },
   "outputs": [
    {
     "name": "stdout",
     "output_type": "stream",
     "text": [
      "                  Generalized Linear Model Regression Results                  \n",
      "===============================================================================\n",
      "Dep. Variable:     df2[\"Clickerscore\"]   No. Observations:                  355\n",
      "Model:                             GLM   Df Residuals:                      343\n",
      "Model Family:                 Binomial   Df Model:                           11\n",
      "Link Function:                   logit   Scale:                             1.0\n",
      "Method:                           IRLS   Log-Likelihood:                -207.80\n",
      "Date:                 Tue, 31 May 2016   Deviance:                       460.51\n",
      "Time:                         12:52:39   Pearson chi2:                     108.\n",
      "No. Iterations:                      7                                         \n",
      "============================================================================================================================================================\n",
      "                                                                                               coef    std err          z      P>|z|      [95.0% Conf. Int.]\n",
      "------------------------------------------------------------------------------------------------------------------------------------------------------------\n",
      "Intercept                                                                                    0.1794      0.190      0.945      0.345        -0.193     0.551\n",
      "df2[\"Reading group\"][T.2]                                                                    0.4985      0.245      2.033      0.042         0.018     0.979\n",
      "df2[\"Reading group\"][T.3]                                                                    0.4552      0.221      2.060      0.039         0.022     0.888\n",
      "df2[\"Topic\"][T.Resonance]                                                                   -1.7451      0.250     -6.993      0.000        -2.234    -1.256\n",
      "df2[\"Treatment\"][T.TextOnly]                                                              -5.41e-16   5.49e-16     -0.986      0.324     -1.62e-15  5.35e-16\n",
      "df2[\"Treatment\"][T.TextThenPhet]                                                             0.6518      0.377      1.731      0.083        -0.086     1.390\n",
      "df2[\"Engaged PhET\"][T.True]                                                                  0.0418      0.452      0.093      0.926        -0.844     0.927\n",
      "df2[\"Engaged text\"][T.True]                                                                  0.2086      0.524      0.398      0.691        -0.818     1.236\n",
      "df2[\"Treatment\"][T.TextOnly]:df2[\"Engaged PhET\"][T.True]                                  5.545e-16   3.77e-16      1.472      0.141     -1.84e-16  1.29e-15\n",
      "df2[\"Treatment\"][T.TextThenPhet]:df2[\"Engaged PhET\"][T.True]                                -0.4679      0.670     -0.699      0.485        -1.780     0.844\n",
      "df2[\"Treatment\"][T.TextOnly]:df2[\"Engaged text\"][T.True]                                  1.398e-16   1.76e-16      0.796      0.426     -2.05e-16  4.84e-16\n",
      "df2[\"Treatment\"][T.TextThenPhet]:df2[\"Engaged text\"][T.True]                                -0.9475      0.721     -1.315      0.189        -2.360     0.465\n",
      "df2[\"Engaged PhET\"][T.True]:df2[\"Engaged text\"][T.True]                                     -0.2548      0.682     -0.374      0.709        -1.591     1.081\n",
      "df2[\"Treatment\"][T.TextOnly]:df2[\"Engaged PhET\"][T.True]:df2[\"Engaged text\"][T.True]              0          0        nan        nan             0         0\n",
      "df2[\"Treatment\"][T.TextThenPhet]:df2[\"Engaged PhET\"][T.True]:df2[\"Engaged text\"][T.True]     1.2472      0.979      1.274      0.203        -0.672     3.167\n",
      "df2[\"Prescore\"]                                                                              0.2145      0.441      0.487      0.626        -0.649     1.078\n",
      "df2[\"Postscore\"]                                                                             0.9769      0.379      2.580      0.010         0.235     1.719\n",
      "============================================================================================================================================================\n"
     ]
    }
   ],
   "source": [
    "formula = '''df2[\"Clickerscore\"] ~ df2[\"Reading group\"] + \n",
    "            df2[\"Prescore\"] + df2[\"Postscore\"] + df2[\"Topic\"] +\n",
    "            df2[\"Treatment\"]*df2[\"Engaged PhET\"]*df2[\"Engaged text\"]'''\n",
    "glm_f_binom = smf.glm(formula = formula, data = df2,  family=sm.families.Binomial())\n",
    "res = glm_f_binom.fit()\n",
    "print(res.summary())"
   ]
  },
  {
   "cell_type": "markdown",
   "metadata": {},
   "source": [
    "#### Postscore had an increasing effect on clickerscore. Apparently, students did really poorly on the Resonance clicker questions (or maybe on question in particular?)"
   ]
  }
 ],
 "metadata": {
  "kernelspec": {
   "display_name": "Python 2",
   "language": "python",
   "name": "python2"
  },
  "language_info": {
   "codemirror_mode": {
    "name": "ipython",
    "version": 2
   },
   "file_extension": ".py",
   "mimetype": "text/x-python",
   "name": "python",
   "nbconvert_exporter": "python",
   "pygments_lexer": "ipython2",
   "version": "2.7.11"
  }
 },
 "nbformat": 4,
 "nbformat_minor": 0
}
