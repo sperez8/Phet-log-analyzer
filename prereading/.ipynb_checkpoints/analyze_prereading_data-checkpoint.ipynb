{
 "cells": [
  {
   "cell_type": "markdown",
   "metadata": {},
   "source": [
    "# Prereading data analysis"
   ]
  },
  {
   "cell_type": "markdown",
   "metadata": {},
   "source": [
    "## Loading data and survey data"
   ]
  },
  {
   "cell_type": "code",
   "execution_count": 38,
   "metadata": {
    "collapsed": true
   },
   "outputs": [],
   "source": [
    "%matplotlib inline\n",
    "import numpy as np\n",
    "import matplotlib.pyplot as plt\n",
    "import pandas as pd\n",
    "import numpy as np\n",
    "import sys\n",
    "import getpass"
   ]
  },
  {
   "cell_type": "code",
   "execution_count": 51,
   "metadata": {
    "collapsed": false
   },
   "outputs": [],
   "source": [
    "# from scipy import stats \n",
    "dfraw = pd.read_csv('C:\\Users\\\\'+getpass.getuser()+'\\Desktop\\Clean-data_160217_JBS_removed_empty_columns.csv')\n",
    "dfsurvey = pd.read_csv('C:\\Users\\\\'+getpass.getuser()+'\\Desktop\\Clean-data_addSurvey_160309_JBS_removed_empty_columns.csv')\n",
    "#please read this about unicode strings eventually: http://www.joelonsoftware.com/articles/Unicode.html\n",
    "\n",
    "\n",
    "# Klugetastic: make a list, convert to an array and then a df\n",
    "datalist = []\n",
    "#header = df.keys()\n",
    "topics = ['Blackbody','Masses','Resonance']\n",
    "treatments = ['TextThenPhet','TextOnly','PhetThenText']\n",
    "\n",
    "\n",
    "#merge with main dataframe\n",
    "dfmerged = pd.merge(left=dfraw,right=dfsurvey, left_on='anon-id', right_on='anon-id')\n",
    "\n",
    "phetquestion = {'Blackbody':'q01 - Approximately how long did you spend with the PhET simulation? (in minutes)',\n",
    "                'Masses':'q5 - Approximately how long did you spend with the PhET simulation? (in minutes)',\n",
    "                'Resonance':'q6 - Approximately how long did you spend with the PhET simulation? (in minutes)'}\n",
    "textquestion = {'Blackbody':'q02 - Approximately how long did you spend reading the textbook sections? (in minutes)',\n",
    "                'Masses':'q6 - Approximately how long did you spend reading the textbook sections? (in minutes)',\n",
    "                'Resonance':'q7 - Approximately how long did you spend reading the textbook sections? (in minutes)'}\n",
    "\n",
    "#now we iterate through the dataframe and creat a row per student x topic\n",
    "for index, row in dfmerged.iterrows():\n",
    "    for topic in topics:\n",
    "        datalist.append([str(row['anon-id']),\n",
    "                        str(row[\"Reading group_x\"]),\n",
    "                        str(row['TotalPrescore']).replace('%',''),\n",
    "                        topic,\n",
    "                        row['Treatment.'+topic+'_x'],\n",
    "                        str(row['PostScore.'+topic]).replace('%',''),\n",
    "                        row[textquestion[topic]],\n",
    "                        row[phetquestion[topic]]\n",
    "                        ])\n",
    "\n",
    "# convert list2 to an array then a dataframe\n",
    "array2 = np.array(datalist)\n",
    "colnames = ['student id',\"Reading group\",'Prescore total','Topic','Treatment for topic',\n",
    "            'PostScore for Topic','Time on text for topic','Time on PhET for topic']\n",
    "df = pd.DataFrame(array2,columns=colnames)"
   ]
  },
  {
   "cell_type": "markdown",
   "metadata": {},
   "source": [
    "## Organizing the dataframe"
   ]
  },
  {
   "cell_type": "markdown",
   "metadata": {},
   "source": [
    "Now that we have our data frame we can see what it looks like:"
   ]
  },
  {
   "cell_type": "code",
   "execution_count": 52,
   "metadata": {
    "collapsed": false
   },
   "outputs": [
    {
     "data": {
      "text/html": [
       "<div>\n",
       "<table border=\"1\" class=\"dataframe\">\n",
       "  <thead>\n",
       "    <tr style=\"text-align: right;\">\n",
       "      <th></th>\n",
       "      <th>student id</th>\n",
       "      <th>Reading group</th>\n",
       "      <th>Prescore total</th>\n",
       "      <th>Topic</th>\n",
       "      <th>Treatment for topic</th>\n",
       "      <th>PostScore for Topic</th>\n",
       "      <th>Time on text for topic</th>\n",
       "      <th>Time on PhET for topic</th>\n",
       "    </tr>\n",
       "  </thead>\n",
       "  <tbody>\n",
       "    <tr>\n",
       "      <th>0</th>\n",
       "      <td>5963</td>\n",
       "      <td>3</td>\n",
       "      <td>nan</td>\n",
       "      <td>Blackbody</td>\n",
       "      <td>TextOnly</td>\n",
       "      <td>100</td>\n",
       "      <td>nan</td>\n",
       "      <td>nan</td>\n",
       "    </tr>\n",
       "    <tr>\n",
       "      <th>1</th>\n",
       "      <td>5963</td>\n",
       "      <td>3</td>\n",
       "      <td>nan</td>\n",
       "      <td>Masses</td>\n",
       "      <td>TextThenPhet</td>\n",
       "      <td>100</td>\n",
       "      <td>25.0</td>\n",
       "      <td>7.0</td>\n",
       "    </tr>\n",
       "    <tr>\n",
       "      <th>2</th>\n",
       "      <td>5963</td>\n",
       "      <td>3</td>\n",
       "      <td>nan</td>\n",
       "      <td>Resonance</td>\n",
       "      <td>PhetThenText</td>\n",
       "      <td>67</td>\n",
       "      <td>20.0</td>\n",
       "      <td>6.0</td>\n",
       "    </tr>\n",
       "    <tr>\n",
       "      <th>3</th>\n",
       "      <td>25630</td>\n",
       "      <td>1</td>\n",
       "      <td>50</td>\n",
       "      <td>Blackbody</td>\n",
       "      <td>PhetThenText</td>\n",
       "      <td>67</td>\n",
       "      <td>nan</td>\n",
       "      <td>nan</td>\n",
       "    </tr>\n",
       "    <tr>\n",
       "      <th>4</th>\n",
       "      <td>25630</td>\n",
       "      <td>1</td>\n",
       "      <td>50</td>\n",
       "      <td>Masses</td>\n",
       "      <td>TextOnly</td>\n",
       "      <td>0</td>\n",
       "      <td>20.0</td>\n",
       "      <td>0.0</td>\n",
       "    </tr>\n",
       "  </tbody>\n",
       "</table>\n",
       "</div>"
      ],
      "text/plain": [
       "  student id Reading group Prescore total      Topic Treatment for topic  \\\n",
       "0       5963             3            nan  Blackbody            TextOnly   \n",
       "1       5963             3            nan     Masses        TextThenPhet   \n",
       "2       5963             3            nan  Resonance        PhetThenText   \n",
       "3      25630             1             50  Blackbody        PhetThenText   \n",
       "4      25630             1             50     Masses            TextOnly   \n",
       "\n",
       "  PostScore for Topic Time on text for topic Time on PhET for topic  \n",
       "0                 100                    nan                    nan  \n",
       "1                 100                   25.0                    7.0  \n",
       "2                  67                   20.0                    6.0  \n",
       "3                  67                    nan                    nan  \n",
       "4                   0                   20.0                    0.0  "
      ]
     },
     "execution_count": 52,
     "metadata": {},
     "output_type": "execute_result"
    }
   ],
   "source": [
    "df.head()"
   ]
  },
  {
   "cell_type": "markdown",
   "metadata": {},
   "source": [
    "First we want to make sure that the columns containing numerical data are treated as such. Also we create columns to group students into \"Engaged\" groupings"
   ]
  },
  {
   "cell_type": "code",
   "execution_count": 95,
   "metadata": {
    "collapsed": false
   },
   "outputs": [],
   "source": [
    "#converting columns to numerical types\n",
    "for column in ['Prescore total','PostScore for Topic','Time on text for topic','Time on PhET for topic']:\n",
    "    df[column] = pd.to_numeric(df[column],errors='coerce')\n",
    "\n",
    "df['Engaged PhET'] = df['Time on PhET for topic'] > 5\n",
    "df['Engaged text'] = df['Time on text for topic'] > 20\n",
    "df = df.fillna(np.nan)"
   ]
  },
  {
   "cell_type": "code",
   "execution_count": 96,
   "metadata": {
    "collapsed": false
   },
   "outputs": [
    {
     "data": {
      "text/html": [
       "<div>\n",
       "<table border=\"1\" class=\"dataframe\">\n",
       "  <thead>\n",
       "    <tr style=\"text-align: right;\">\n",
       "      <th></th>\n",
       "      <th>student id</th>\n",
       "      <th>Reading group</th>\n",
       "      <th>Prescore total</th>\n",
       "      <th>Topic</th>\n",
       "      <th>Treatment for topic</th>\n",
       "      <th>PostScore for Topic</th>\n",
       "      <th>Time on text for topic</th>\n",
       "      <th>Time on PhET for topic</th>\n",
       "      <th>Engaged PhET</th>\n",
       "      <th>Engaged text</th>\n",
       "    </tr>\n",
       "  </thead>\n",
       "  <tbody>\n",
       "    <tr>\n",
       "      <th>0</th>\n",
       "      <td>5963</td>\n",
       "      <td>3</td>\n",
       "      <td>NaN</td>\n",
       "      <td>Blackbody</td>\n",
       "      <td>TextOnly</td>\n",
       "      <td>100.0</td>\n",
       "      <td>NaN</td>\n",
       "      <td>NaN</td>\n",
       "      <td>False</td>\n",
       "      <td>False</td>\n",
       "    </tr>\n",
       "    <tr>\n",
       "      <th>1</th>\n",
       "      <td>5963</td>\n",
       "      <td>3</td>\n",
       "      <td>NaN</td>\n",
       "      <td>Masses</td>\n",
       "      <td>TextThenPhet</td>\n",
       "      <td>100.0</td>\n",
       "      <td>25.0</td>\n",
       "      <td>7.0</td>\n",
       "      <td>True</td>\n",
       "      <td>True</td>\n",
       "    </tr>\n",
       "    <tr>\n",
       "      <th>2</th>\n",
       "      <td>5963</td>\n",
       "      <td>3</td>\n",
       "      <td>NaN</td>\n",
       "      <td>Resonance</td>\n",
       "      <td>PhetThenText</td>\n",
       "      <td>67.0</td>\n",
       "      <td>20.0</td>\n",
       "      <td>6.0</td>\n",
       "      <td>True</td>\n",
       "      <td>False</td>\n",
       "    </tr>\n",
       "    <tr>\n",
       "      <th>3</th>\n",
       "      <td>25630</td>\n",
       "      <td>1</td>\n",
       "      <td>50.0</td>\n",
       "      <td>Blackbody</td>\n",
       "      <td>PhetThenText</td>\n",
       "      <td>67.0</td>\n",
       "      <td>NaN</td>\n",
       "      <td>NaN</td>\n",
       "      <td>False</td>\n",
       "      <td>False</td>\n",
       "    </tr>\n",
       "    <tr>\n",
       "      <th>4</th>\n",
       "      <td>25630</td>\n",
       "      <td>1</td>\n",
       "      <td>50.0</td>\n",
       "      <td>Masses</td>\n",
       "      <td>TextOnly</td>\n",
       "      <td>0.0</td>\n",
       "      <td>20.0</td>\n",
       "      <td>0.0</td>\n",
       "      <td>False</td>\n",
       "      <td>False</td>\n",
       "    </tr>\n",
       "  </tbody>\n",
       "</table>\n",
       "</div>"
      ],
      "text/plain": [
       "  student id Reading group  Prescore total      Topic Treatment for topic  \\\n",
       "0       5963             3             NaN  Blackbody            TextOnly   \n",
       "1       5963             3             NaN     Masses        TextThenPhet   \n",
       "2       5963             3             NaN  Resonance        PhetThenText   \n",
       "3      25630             1            50.0  Blackbody        PhetThenText   \n",
       "4      25630             1            50.0     Masses            TextOnly   \n",
       "\n",
       "   PostScore for Topic  Time on text for topic  Time on PhET for topic  \\\n",
       "0                100.0                     NaN                     NaN   \n",
       "1                100.0                    25.0                     7.0   \n",
       "2                 67.0                    20.0                     6.0   \n",
       "3                 67.0                     NaN                     NaN   \n",
       "4                  0.0                    20.0                     0.0   \n",
       "\n",
       "  Engaged PhET Engaged text  \n",
       "0        False        False  \n",
       "1         True         True  \n",
       "2         True        False  \n",
       "3        False        False  \n",
       "4        False        False  "
      ]
     },
     "execution_count": 96,
     "metadata": {},
     "output_type": "execute_result"
    }
   ],
   "source": [
    "df.head()"
   ]
  },
  {
   "cell_type": "markdown",
   "metadata": {},
   "source": [
    "## Descriptors\n",
    "Let's get a sense of what the students were doing. First let's compare their pre and post scores."
   ]
  },
  {
   "cell_type": "code",
   "execution_count": 97,
   "metadata": {
    "collapsed": false
   },
   "outputs": [
    {
     "data": {
      "text/plain": [
       "array([[<matplotlib.axes._subplots.AxesSubplot object at 0x000000001B4B4FD0>,\n",
       "        <matplotlib.axes._subplots.AxesSubplot object at 0x000000001ADD4908>]], dtype=object)"
      ]
     },
     "execution_count": 97,
     "metadata": {},
     "output_type": "execute_result"
    },
    {
     "data": {
      "image/png": "[encoded data removed]",
      "text/plain": [
       "<matplotlib.figure.Figure at 0x1b954ba8>"
      ]
     },
     "metadata": {},
     "output_type": "display_data"
    }
   ],
   "source": [
    "df.hist(column=['Prescore total','PostScore for Topic'],bins=12, layout=(1,2),figsize=(15,4),color='deepskyblue')"
   ]
  },
  {
   "cell_type": "markdown",
   "metadata": {},
   "source": [
    "Next let's look at how much time they spent on each activity"
   ]
  },
  {
   "cell_type": "code",
   "execution_count": 98,
   "metadata": {
    "collapsed": false
   },
   "outputs": [
    {
     "data": {
      "text/plain": [
       "array([[<matplotlib.axes._subplots.AxesSubplot object at 0x000000001F9005C0>,\n",
       "        <matplotlib.axes._subplots.AxesSubplot object at 0x000000001FB78F28>]], dtype=object)"
      ]
     },
     "execution_count": 98,
     "metadata": {},
     "output_type": "execute_result"
    },
    {
     "data": {
      "image/png": "[encoded data removed]",
      "text/plain": [
       "<matplotlib.figure.Figure at 0x1ad06978>"
      ]
     },
     "metadata": {},
     "output_type": "display_data"
    }
   ],
   "source": [
    "df.hist(column=['Time on text for topic','Time on PhET for topic'],bins=20, layout=(1,2),figsize=(15,4),color='darkorange')"
   ]
  },
  {
   "cell_type": "code",
   "execution_count": 113,
   "metadata": {
    "collapsed": false
   },
   "outputs": [
    {
     "data": {
      "image/png": "[encoded data removed]",
      "text/plain": [
       "<matplotlib.figure.Figure at 0x215c2b00>"
      ]
     },
     "metadata": {},
     "output_type": "display_data"
    }
   ],
   "source": [
    "meanlineprops = dict(linestyle='-', linewidth=2, color='purple')\n",
    "ax = df.boxplot(by='Topic',\n",
    "                column=['Prescore total','PostScore for Topic','Time on text for topic','Time on PhET for topic'],\n",
    "                figsize=(15,10),\n",
    "                meanprops=meanlineprops, meanline=True, showmeans=True)\n"
   ]
  },
  {
   "cell_type": "code",
   "execution_count": 116,
   "metadata": {
    "collapsed": false
   },
   "outputs": [
    {
     "ename": "AttributeError",
     "evalue": "'numpy.ndarray' object has no attribute 'patches'",
     "output_type": "error",
     "traceback": [
      "\u001b[1;31m---------------------------------------------------------------------------\u001b[0m",
      "\u001b[1;31mAttributeError\u001b[0m                            Traceback (most recent call last)",
      "\u001b[1;32m<ipython-input-116-f594641cf8bd>\u001b[0m in \u001b[0;36m<module>\u001b[1;34m()\u001b[0m\n\u001b[1;32m----> 1\u001b[1;33m \u001b[0max\u001b[0m\u001b[1;33m.\u001b[0m\u001b[0mpatches\u001b[0m\u001b[1;33m\u001b[0m\u001b[0m\n\u001b[0m",
      "\u001b[1;31mAttributeError\u001b[0m: 'numpy.ndarray' object has no attribute 'patches'"
     ]
    }
   ],
   "source": []
  },
  {
   "cell_type": "code",
   "execution_count": null,
   "metadata": {
    "collapsed": true
   },
   "outputs": [],
   "source": []
  }
 ],
 "metadata": {
  "kernelspec": {
   "display_name": "Python 2",
   "language": "python",
   "name": "python2"
  },
  "language_info": {
   "codemirror_mode": {
    "name": "ipython",
    "version": 2
   },
   "file_extension": ".py",
   "mimetype": "text/x-python",
   "name": "python",
   "nbconvert_exporter": "python",
   "pygments_lexer": "ipython2",
   "version": "2.7.11"
  }
 },
 "nbformat": 4,
 "nbformat_minor": 0
}
