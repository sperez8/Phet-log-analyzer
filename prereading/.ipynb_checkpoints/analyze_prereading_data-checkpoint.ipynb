{
 "cells": [
  {
   "cell_type": "markdown",
   "metadata": {},
   "source": [
    "# Prereading data analysis"
   ]
  },
  {
   "cell_type": "markdown",
   "metadata": {},
   "source": [
    "## Loading data and survey data"
   ]
  },
  {
   "cell_type": "code",
   "execution_count": 14,
   "metadata": {
    "collapsed": true
   },
   "outputs": [],
   "source": [
    "%matplotlib inline\n",
    "import numpy as np\n",
    "import matplotlib.pyplot as plt\n",
    "import pandas as pd\n",
    "import numpy as np\n",
    "import sys\n",
    "import getpass"
   ]
  },
  {
   "cell_type": "code",
   "execution_count": 15,
   "metadata": {
    "collapsed": false
   },
   "outputs": [],
   "source": [
    "# from scipy import stats \n",
    "dfraw = pd.read_csv('C:\\Users\\\\'+getpass.getuser()+'\\Desktop\\Clean-data_160217_JBS_removed_empty_columns.csv')\n",
    "dfsurvey = pd.read_csv('C:\\Users\\\\'+getpass.getuser()+'\\Desktop\\Clean-data_addSurvey_160309_JBS_removed_empty_columns.csv')\n",
    "#please read this about unicode strings eventually: http://www.joelonsoftware.com/articles/Unicode.html\n",
    "\n",
    "\n",
    "# Klugetastic: make a list, convert to an array and then a df\n",
    "datalist = []\n",
    "#header = df.keys()\n",
    "topics = ['Blackbody','Masses','Resonance']\n",
    "treatments = ['TextThenPhet','TextOnly','PhetThenText']\n",
    "\n",
    "\n",
    "#merge with main dataframe\n",
    "dfmerged = pd.merge(left=dfraw,right=dfsurvey, left_on='anon-id', right_on='anon-id')\n",
    "\n",
    "phetquestion = {'Blackbody':'q01 - Approximately how long did you spend with the PhET simulation? (in minutes)',\n",
    "                'Masses':'q5 - Approximately how long did you spend with the PhET simulation? (in minutes)',\n",
    "                'Resonance':'q6 - Approximately how long did you spend with the PhET simulation? (in minutes)'}\n",
    "textquestion = {'Blackbody':'q02 - Approximately how long did you spend reading the textbook sections? (in minutes)',\n",
    "                'Masses':'q6 - Approximately how long did you spend reading the textbook sections? (in minutes)',\n",
    "                'Resonance':'q7 - Approximately how long did you spend reading the textbook sections? (in minutes)'}\n",
    "\n",
    "#now we iterate through the dataframe and creat a row per student x topic\n",
    "for index, row in dfmerged.iterrows():\n",
    "    for topic in topics:\n",
    "        datalist.append([str(row['anon-id']),\n",
    "                        str(row[\"Reading group_x\"]),\n",
    "                        str(row['TotalPrescore']).replace('%',''),\n",
    "                        topic,\n",
    "                        row['Treatment.'+topic+'_x'],\n",
    "                        str(row['PostScore.'+topic]).replace('%',''),\n",
    "                        row[textquestion[topic]],\n",
    "                        row[phetquestion[topic]]\n",
    "                        ])\n",
    "\n",
    "# convert list2 to an array then a dataframe\n",
    "array2 = np.array(datalist)\n",
    "colnames = ['student id',\"Reading group\",'Prescore total','Topic','Treatment for topic',\n",
    "            'Postscore for topic','Time on text for topic','Time on PhET for topic']\n",
    "df = pd.DataFrame(array2,columns=colnames)"
   ]
  },
  {
   "cell_type": "markdown",
   "metadata": {},
   "source": [
    "## Organizing the dataframe"
   ]
  },
  {
   "cell_type": "markdown",
   "metadata": {},
   "source": [
    "Now that we have our data frame we can see what it looks like:"
   ]
  },
  {
   "cell_type": "code",
   "execution_count": 16,
   "metadata": {
    "collapsed": false
   },
   "outputs": [
    {
     "data": {
      "text/html": [
       "<div>\n",
       "<table border=\"1\" class=\"dataframe\">\n",
       "  <thead>\n",
       "    <tr style=\"text-align: right;\">\n",
       "      <th></th>\n",
       "      <th>student id</th>\n",
       "      <th>Reading group</th>\n",
       "      <th>Prescore total</th>\n",
       "      <th>Topic</th>\n",
       "      <th>Treatment for topic</th>\n",
       "      <th>Postscore for topic</th>\n",
       "      <th>Time on text for topic</th>\n",
       "      <th>Time on PhET for topic</th>\n",
       "    </tr>\n",
       "  </thead>\n",
       "  <tbody>\n",
       "    <tr>\n",
       "      <th>0</th>\n",
       "      <td>5963</td>\n",
       "      <td>3</td>\n",
       "      <td>nan</td>\n",
       "      <td>Blackbody</td>\n",
       "      <td>TextOnly</td>\n",
       "      <td>100</td>\n",
       "      <td>nan</td>\n",
       "      <td>nan</td>\n",
       "    </tr>\n",
       "    <tr>\n",
       "      <th>1</th>\n",
       "      <td>5963</td>\n",
       "      <td>3</td>\n",
       "      <td>nan</td>\n",
       "      <td>Masses</td>\n",
       "      <td>TextThenPhet</td>\n",
       "      <td>100</td>\n",
       "      <td>25.0</td>\n",
       "      <td>7.0</td>\n",
       "    </tr>\n",
       "    <tr>\n",
       "      <th>2</th>\n",
       "      <td>5963</td>\n",
       "      <td>3</td>\n",
       "      <td>nan</td>\n",
       "      <td>Resonance</td>\n",
       "      <td>PhetThenText</td>\n",
       "      <td>67</td>\n",
       "      <td>20.0</td>\n",
       "      <td>6.0</td>\n",
       "    </tr>\n",
       "    <tr>\n",
       "      <th>3</th>\n",
       "      <td>25630</td>\n",
       "      <td>1</td>\n",
       "      <td>50</td>\n",
       "      <td>Blackbody</td>\n",
       "      <td>PhetThenText</td>\n",
       "      <td>67</td>\n",
       "      <td>nan</td>\n",
       "      <td>nan</td>\n",
       "    </tr>\n",
       "    <tr>\n",
       "      <th>4</th>\n",
       "      <td>25630</td>\n",
       "      <td>1</td>\n",
       "      <td>50</td>\n",
       "      <td>Masses</td>\n",
       "      <td>TextOnly</td>\n",
       "      <td>0</td>\n",
       "      <td>20.0</td>\n",
       "      <td>0.0</td>\n",
       "    </tr>\n",
       "  </tbody>\n",
       "</table>\n",
       "</div>"
      ],
      "text/plain": [
       "  student id Reading group Prescore total      Topic Treatment for topic  \\\n",
       "0       5963             3            nan  Blackbody            TextOnly   \n",
       "1       5963             3            nan     Masses        TextThenPhet   \n",
       "2       5963             3            nan  Resonance        PhetThenText   \n",
       "3      25630             1             50  Blackbody        PhetThenText   \n",
       "4      25630             1             50     Masses            TextOnly   \n",
       "\n",
       "  Postscore for topic Time on text for topic Time on PhET for topic  \n",
       "0                 100                    nan                    nan  \n",
       "1                 100                   25.0                    7.0  \n",
       "2                  67                   20.0                    6.0  \n",
       "3                  67                    nan                    nan  \n",
       "4                   0                   20.0                    0.0  "
      ]
     },
     "execution_count": 16,
     "metadata": {},
     "output_type": "execute_result"
    }
   ],
   "source": [
    "df.head()"
   ]
  },
  {
   "cell_type": "markdown",
   "metadata": {},
   "source": [
    "First we want to make sure that the columns containing numerical data are treated as such."
   ]
  },
  {
   "cell_type": "code",
   "execution_count": 17,
   "metadata": {
    "collapsed": false
   },
   "outputs": [],
   "source": [
    "#converting columns to numerical types\n",
    "for column in ['Prescore total','Postscore for topic','Time on text for topic','Time on PhET for topic']:\n",
    "    df[column] = pd.to_numeric(df[column],errors='coerce')\n",
    "df = df.fillna(np.nan)"
   ]
  },
  {
   "cell_type": "markdown",
   "metadata": {},
   "source": [
    "Unfortunately we have a lot of rows with missing data. If we remove them, we end up with almost half the dataset. We will use this dataset when looking at engagement."
   ]
  },
  {
   "cell_type": "code",
   "execution_count": 18,
   "metadata": {
    "collapsed": false
   },
   "outputs": [
    {
     "data": {
      "text/plain": [
       "((708, 8), (1533, 8))"
      ]
     },
     "execution_count": 18,
     "metadata": {},
     "output_type": "execute_result"
    }
   ],
   "source": [
    "df2 = df.dropna()\n",
    "df2.shape, df.shape"
   ]
  },
  {
   "cell_type": "markdown",
   "metadata": {},
   "source": [
    "## Descriptors\n",
    "Let's get a sense of what the students were doing. First let's compare their pre and post scores. In these boxplots, means are in green and medians in red."
   ]
  },
  {
   "cell_type": "code",
   "execution_count": 19,
   "metadata": {
    "collapsed": false
   },
   "outputs": [
    {
     "data": {
      "text/plain": [
       "array([<matplotlib.axes._subplots.AxesSubplot object at 0x000000000B914240>,\n",
       "       <matplotlib.axes._subplots.AxesSubplot object at 0x000000000C52C9E8>], dtype=object)"
      ]
     },
     "execution_count": 19,
     "metadata": {},
     "output_type": "execute_result"
    },
    {
     "data": {
      "image/png": "[encoded data removed]",
      "text/plain": [
       "<matplotlib.figure.Figure at 0xc521390>"
      ]
     },
     "metadata": {},
     "output_type": "display_data"
    },
    {
     "data": {
      "image/png": "[encoded data removed]",
      "text/plain": [
       "<matplotlib.figure.Figure at 0xb860550>"
      ]
     },
     "metadata": {},
     "output_type": "display_data"
    }
   ],
   "source": [
    "df.hist(column=['Prescore total','Postscore for topic'],bins=12, layout=(1,2),figsize=(15,4),color='slateblue')\n",
    "meanlineprops = dict(linestyle='-', linewidth=2, color='mediumseagreen')\n",
    "df.boxplot(by='Topic',\n",
    "                column=['Prescore total','Postscore for topic'],\n",
    "                figsize=(15,6),\n",
    "                meanprops=meanlineprops, meanline=True, showmeans=True)"
   ]
  },
  {
   "cell_type": "markdown",
   "metadata": {},
   "source": [
    "We can see from the histograms that we a wide spectrum of knowledge levels. The boxplots confirm that the student did indeed learn, as post-scores increased for all topics though in varying amounts per topic. We do a Mann-Whitney test (the equivalent a simple t-test for non normal data) to find out if the difference in score is significant."
   ]
  },
  {
   "cell_type": "code",
   "execution_count": 20,
   "metadata": {
    "collapsed": false
   },
   "outputs": [
    {
     "data": {
      "text/plain": [
       "MannwhitneyuResult(statistic=219464.0, pvalue=4.4061345369925079e-05)"
      ]
     },
     "execution_count": 20,
     "metadata": {},
     "output_type": "execute_result"
    }
   ],
   "source": [
    "from scipy.stats import mannwhitneyu\n",
    "mannwhitneyu(df2['Prescore total'], df2['Postscore for topic'])"
   ]
  },
  {
   "cell_type": "markdown",
   "metadata": {},
   "source": [
    "Next we look at the time spent on task. Next let's look at how much time they spent on each activity."
   ]
  },
  {
   "cell_type": "code",
   "execution_count": 21,
   "metadata": {
    "collapsed": false
   },
   "outputs": [
    {
     "data": {
      "text/plain": [
       "<matplotlib.text.Text at 0xcb85be0>"
      ]
     },
     "execution_count": 21,
     "metadata": {},
     "output_type": "execute_result"
    },
    {
     "data": {
      "image/png": "[encoded data removed]",
      "text/plain": [
       "<matplotlib.figure.Figure at 0xc9ef2b0>"
      ]
     },
     "metadata": {},
     "output_type": "display_data"
    }
   ],
   "source": [
    "#df.hist(column=['Time on text for topic','Time on PhET for topic'],bins=20, layout=(1,2),figsize=(15,4),color='darkorange')\n",
    "bins = np.linspace(0, 250, 50)\n",
    "plt.figure(figsize=(15,6))\n",
    "plt.hist(df2['Time on text for topic'], bins, alpha=0.5, label='text')\n",
    "plt.hist(df2['Time on PhET for topic'], bins, alpha=0.5, label='PhET')\n",
    "plt.legend(loc='upper right');plt.xlabel('minutes');plt.ylabel('Count of students');plt.title('Histogram of time on task')"
   ]
  },
  {
   "cell_type": "markdown",
   "metadata": {},
   "source": [
    "Clearly more time was spent reading than using PhET, with very few students using PhET for more than 10 minutes. Let's now compare the performance of students given their time on task. First we provide definitions of \"engagement\" using median measures."
   ]
  },
  {
   "cell_type": "code",
   "execution_count": 51,
   "metadata": {
    "collapsed": false
   },
   "outputs": [
    {
     "name": "stderr",
     "output_type": "stream",
     "text": [
      "C:\\Users\\sperez8\\AppData\\Local\\Continuum\\Anaconda2\\lib\\site-packages\\ipykernel\\__main__.py:2: SettingWithCopyWarning: \n",
      "A value is trying to be set on a copy of a slice from a DataFrame.\n",
      "Try using .loc[row_indexer,col_indexer] = value instead\n",
      "\n",
      "See the caveats in the documentation: http://pandas.pydata.org/pandas-docs/stable/indexing.html#indexing-view-versus-copy\n",
      "  from ipykernel import kernelapp as app\n",
      "C:\\Users\\sperez8\\AppData\\Local\\Continuum\\Anaconda2\\lib\\site-packages\\ipykernel\\__main__.py:4: SettingWithCopyWarning: \n",
      "A value is trying to be set on a copy of a slice from a DataFrame.\n",
      "Try using .loc[row_indexer,col_indexer] = value instead\n",
      "\n",
      "See the caveats in the documentation: http://pandas.pydata.org/pandas-docs/stable/indexing.html#indexing-view-versus-copy\n"
     ]
    },
    {
     "data": {
      "text/plain": [
       "'The median engagment times for PhET and text are 5.0 and 30.0 minutes.'"
      ]
     },
     "execution_count": 51,
     "metadata": {},
     "output_type": "execute_result"
    }
   ],
   "source": [
    "phet_median = df2['Time on PhET for topic'].median()\n",
    "df2['Engaged PhET'] = df2['Time on PhET for topic'] > phet_median\n",
    "text_median = df2['Time on text for topic'].median()\n",
    "df2['Engaged text'] = df2['Time on text for topic'] > text_median\n",
    "'The median engagment times for PhET and text are {0} and {1} minutes.'.format(phet_median,text_median)"
   ]
  },
  {
   "cell_type": "markdown",
   "metadata": {
    "collapsed": false
   },
   "source": [
    "## Performance analysis by engagement"
   ]
  },
  {
   "cell_type": "code",
   "execution_count": 29,
   "metadata": {
    "collapsed": false
   },
   "outputs": [
    {
     "data": {
      "text/plain": [
       "array([<matplotlib.axes._subplots.AxesSubplot object at 0x000000000CA5A0B8>,\n",
       "       <matplotlib.axes._subplots.AxesSubplot object at 0x000000000D9AB128>], dtype=object)"
      ]
     },
     "execution_count": 29,
     "metadata": {},
     "output_type": "execute_result"
    },
    {
     "data": {
      "image/png": "[encoded data removed]",
      "text/plain": [
       "<matplotlib.figure.Figure at 0xd03a710>"
      ]
     },
     "metadata": {},
     "output_type": "display_data"
    },
    {
     "data": {
      "image/png": "[encoded data removed]",
      "text/plain": [
       "<matplotlib.figure.Figure at 0xca50f60>"
      ]
     },
     "metadata": {},
     "output_type": "display_data"
    }
   ],
   "source": [
    "meanlineprops = dict(linestyle='-', linewidth=2, color='mediumseagreen')\n",
    "df2.boxplot(by='Engaged PhET', column=['Prescore total','Postscore for topic'],\n",
    "                figsize=(15,6), meanprops=meanlineprops, meanline=True, showmeans=True)\n",
    "meanlineprops = dict(linestyle='-', linewidth=2, color='mediumseagreen')\n",
    "df2.boxplot(by='Engaged text', column=['Prescore total','Postscore for topic'],\n",
    "                figsize=(15,6), meanprops=meanlineprops, meanline=True, showmeans=True)"
   ]
  },
  {
   "cell_type": "markdown",
   "metadata": {},
   "source": [
    "Those that engaged more with PhET had similar incoming knowledge and don't see to have benefited from engaging with PhET. Those that engaged more in the reading seemed to have lower incoming knowledge and they perhaps benefited from the engagement."
   ]
  },
  {
   "cell_type": "markdown",
   "metadata": {
    "collapsed": false
   },
   "source": [
    "Next let's group by engagement and see if there is a different in performance."
   ]
  },
  {
   "cell_type": "code",
   "execution_count": 40,
   "metadata": {
    "collapsed": false
   },
   "outputs": [],
   "source": [
    "# from statsmodels.formula.api import ols\n",
    "# t1 = df2[df2['Treatment for topic']!='TextOnly']\n",
    "# t2 = df2[df2['Treatment for topic']=='TextOnly']\n",
    "# t1.shape,t2.shape\n",
    "# model = ols(\"'Postscore from topic' ~ 'Prescore total' \",df2)"
   ]
  },
  {
   "cell_type": "code",
   "execution_count": null,
   "metadata": {
    "collapsed": false
   },
   "outputs": [],
   "source": []
  },
  {
   "cell_type": "code",
   "execution_count": null,
   "metadata": {
    "collapsed": true
   },
   "outputs": [],
   "source": []
  }
 ],
 "metadata": {
  "kernelspec": {
   "display_name": "Python 2",
   "language": "python",
   "name": "python2"
  },
  "language_info": {
   "codemirror_mode": {
    "name": "ipython",
    "version": 2
   },
   "file_extension": ".py",
   "mimetype": "text/x-python",
   "name": "python",
   "nbconvert_exporter": "python",
   "pygments_lexer": "ipython2",
   "version": "2.7.11"
  }
 },
 "nbformat": 4,
 "nbformat_minor": 0
}
