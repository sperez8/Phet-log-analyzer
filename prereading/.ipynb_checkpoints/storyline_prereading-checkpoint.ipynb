{
 "cells": [
  {
   "cell_type": "markdown",
   "metadata": {},
   "source": [
    "# Prereading study storyline\n",
    "## Loading the data"
   ]
  },
  {
   "cell_type": "code",
   "execution_count": 30,
   "metadata": {
    "collapsed": true
   },
   "outputs": [],
   "source": [
    "%matplotlib inline\n",
    "import scipy\n",
    "from scipy.stats import mannwhitneyu\n",
    "import numpy as np\n",
    "import matplotlib.pyplot as plt\n",
    "import matplotlib\n",
    "import pandas as pd\n",
    "import numpy as np\n",
    "import sys\n",
    "import getpass\n",
    "import math"
   ]
  },
  {
   "cell_type": "code",
   "execution_count": 2,
   "metadata": {
    "collapsed": false
   },
   "outputs": [],
   "source": [
    "# from scipy import stats \n",
    "dfraw = pd.read_csv('C:\\Users\\\\'+getpass.getuser()+'\\Desktop\\Clean-data_160217_JBS_cleaned_051316.csv')\n",
    "dfsurvey = pd.read_csv('C:\\Users\\\\'+getpass.getuser()+'\\Desktop\\Clean-data_addSurvey_160309_JBS_cleaned_051316.csv')\n",
    "#please read this about unicode strings eventually: http://www.joelonsoftware.com/articles/Unicode.html\n",
    "\n",
    "\n",
    "# Klugetastic: make a list, convert to an array and then a df\n",
    "datalist = []\n",
    "#header = df.keys()\n",
    "topics = ['Blackbody','Masses','Resonance']\n",
    "treatments = ['TextThenPhet','PhetThenText','TextOnly']\n",
    "\n",
    "\n",
    "#merge with main dataframe\n",
    "dfmerged = pd.merge(left=dfraw,right=dfsurvey, left_on='anon-id', right_on='anon-id')\n",
    "\n",
    "phetquestion = {'Blackbody':'q01 - Approximately how long did you spend with the PhET simulation? (in minutes)',\n",
    "                'Masses':'q5 - Approximately how long did you spend with the PhET simulation? (in minutes)',\n",
    "                'Resonance':'q6 - Approximately how long did you spend with the PhET simulation? (in minutes)'}\n",
    "textquestion = {'Blackbody':'q02 - Approximately how long did you spend reading the textbook sections? (in minutes)',\n",
    "                'Masses':'q6 - Approximately how long did you spend reading the textbook sections? (in minutes)',\n",
    "                'Resonance':'q7 - Approximately how long did you spend reading the textbook sections? (in minutes)'}\n",
    "\n",
    "conv_pos = {'nan':np.nan, 'Not at all':0.0, 'Somewhat':1.0, 'Mostly':2.0, 'Definitely':3.0}\n",
    "conv_neg = {'nan':np.nan, 'Not at all':3.0, 'Somewhat':2.0, 'Mostly':1.0, 'Definitely':0.0}\n",
    "\n",
    "encountered_question = {'Blackbody':'q03 -  Have you learned about blackbody radiation before? (Choose all that apply.)',\n",
    "                        'Masses':'q7 - Have you learned about simple harmonic motion before? (Choose all that apply.)',\n",
    "                        'Resonance':'q8 - Have you learned about resonance before? (Choose all that apply.)'}\n",
    "\n",
    "def transform_encountered(response):\n",
    "    response = str(response)\n",
    "    if response == 'No.':\n",
    "        return False\n",
    "    if 'Yes' in response:\n",
    "        return True\n",
    "    else: \n",
    "        return np.nan\n",
    "\n",
    "def lickert_convert(response):\n",
    "    return float(conv_neg[str(response).split('<')[0]])\n",
    "\n",
    "def compute_survey(responses):\n",
    "    NAs = 0\n",
    "    newresponses = []\n",
    "    for s in responses:\n",
    "        if s != np.nan:\n",
    "            newresponses.append(s)\n",
    "    return sum(newresponses)/len(newresponses)\n",
    "\n",
    "#now we iterate through the dataframe and creat a row per student x topic\n",
    "for index, row in dfmerged.iterrows():\n",
    "    for topic in topics:\n",
    "        #print row['q5 - For me personally; PhET Sims are usually useless.']\n",
    "#         calculated_survey = compute_survey([lickert_convert(row['q2 - For me personally; PhET Sims are usually boring.']),\n",
    "#                     lickert_convert(row['q5 - For me personally; PhET Sims are usually useless.']),\n",
    "#                     lickert_convert(row['q4 - For me personally; PhET Sims are usually fun.']),\n",
    "#                     lickert_convert(row['q3 - For me personally; PhET Sims are usually productive.'])])\n",
    "        datalist.append([str(row['anon-id']),\n",
    "                        str(row[\"Reading group_x\"]),\n",
    "                        float(str(row['PreScore.'+topic]).replace('%',''))/100.0,\n",
    "                        topic,\n",
    "                        row['Treatment.'+topic+'_x'],\n",
    "                        float(str(row['PostScore.'+topic]).replace('%',''))/100.0,\n",
    "                        float(str(row['ClickerScore.'+topic]).replace('%',''))/100.0,\n",
    "                        row[textquestion[topic]],\n",
    "                        row[phetquestion[topic]],\n",
    "#                         calculated_survey,\n",
    "                        row['q9 - How beneficial was this assignment to your learning?'],\n",
    "                        row['q10 - How much did you enjoy this assignment?'],\n",
    "                        transform_encountered(row[encountered_question[topic]])\n",
    "                        ])\n",
    "\n",
    "# convert list2 to an array then a dataframe\n",
    "array2 = np.array(datalist)\n",
    "colnames = ['student id',\"Reading group\",'Prescore','Topic','Treatment',\n",
    "            'Postscore','Clickerscore','Time on text','Time on PhET',\n",
    "#             'Preattitude',\n",
    "            'Postattitude - benefitted','Postattitude - enjoyed','Encountered']\n",
    "df = pd.DataFrame(array2,columns=colnames)"
   ]
  },
  {
   "cell_type": "markdown",
   "metadata": {},
   "source": [
    "# Organizing the dataframe\n",
    "#### Now that we have our data frame we can see what it looks like:"
   ]
  },
  {
   "cell_type": "code",
   "execution_count": 3,
   "metadata": {
    "collapsed": false
   },
   "outputs": [
    {
     "data": {
      "text/html": [
       "<div>\n",
       "<table border=\"1\" class=\"dataframe\">\n",
       "  <thead>\n",
       "    <tr style=\"text-align: right;\">\n",
       "      <th></th>\n",
       "      <th>student id</th>\n",
       "      <th>Reading group</th>\n",
       "      <th>Prescore</th>\n",
       "      <th>Topic</th>\n",
       "      <th>Treatment</th>\n",
       "      <th>Postscore</th>\n",
       "      <th>Clickerscore</th>\n",
       "      <th>Time on text</th>\n",
       "      <th>Time on PhET</th>\n",
       "      <th>Postattitude - benefitted</th>\n",
       "      <th>Postattitude - enjoyed</th>\n",
       "      <th>Encountered</th>\n",
       "    </tr>\n",
       "  </thead>\n",
       "  <tbody>\n",
       "    <tr>\n",
       "      <th>0</th>\n",
       "      <td>5963</td>\n",
       "      <td>3</td>\n",
       "      <td>nan</td>\n",
       "      <td>Blackbody</td>\n",
       "      <td>TextOnly</td>\n",
       "      <td>1.0</td>\n",
       "      <td>0.67</td>\n",
       "      <td>nan</td>\n",
       "      <td>nan</td>\n",
       "      <td>Not very beneficial.</td>\n",
       "      <td>Somewhat enjoyed it.</td>\n",
       "      <td>nan</td>\n",
       "    </tr>\n",
       "    <tr>\n",
       "      <th>1</th>\n",
       "      <td>5963</td>\n",
       "      <td>3</td>\n",
       "      <td>nan</td>\n",
       "      <td>Masses</td>\n",
       "      <td>TextThenPhet</td>\n",
       "      <td>1.0</td>\n",
       "      <td>1.0</td>\n",
       "      <td>25.0</td>\n",
       "      <td>7.0</td>\n",
       "      <td>Not very beneficial.</td>\n",
       "      <td>Somewhat enjoyed it.</td>\n",
       "      <td>True</td>\n",
       "    </tr>\n",
       "    <tr>\n",
       "      <th>2</th>\n",
       "      <td>5963</td>\n",
       "      <td>3</td>\n",
       "      <td>nan</td>\n",
       "      <td>Resonance</td>\n",
       "      <td>PhetThenText</td>\n",
       "      <td>0.67</td>\n",
       "      <td>0.33</td>\n",
       "      <td>20.0</td>\n",
       "      <td>6.0</td>\n",
       "      <td>Not very beneficial.</td>\n",
       "      <td>Somewhat enjoyed it.</td>\n",
       "      <td>True</td>\n",
       "    </tr>\n",
       "    <tr>\n",
       "      <th>3</th>\n",
       "      <td>25630</td>\n",
       "      <td>1</td>\n",
       "      <td>0.33</td>\n",
       "      <td>Blackbody</td>\n",
       "      <td>PhetThenText</td>\n",
       "      <td>0.67</td>\n",
       "      <td>0.67</td>\n",
       "      <td>nan</td>\n",
       "      <td>nan</td>\n",
       "      <td>Somewhat beneficial.</td>\n",
       "      <td>Somewhat enjoyed it.</td>\n",
       "      <td>nan</td>\n",
       "    </tr>\n",
       "    <tr>\n",
       "      <th>4</th>\n",
       "      <td>25630</td>\n",
       "      <td>1</td>\n",
       "      <td>0.0</td>\n",
       "      <td>Masses</td>\n",
       "      <td>TextOnly</td>\n",
       "      <td>0.0</td>\n",
       "      <td>0.75</td>\n",
       "      <td>20.0</td>\n",
       "      <td>0.0</td>\n",
       "      <td>Somewhat beneficial.</td>\n",
       "      <td>Somewhat enjoyed it.</td>\n",
       "      <td>True</td>\n",
       "    </tr>\n",
       "    <tr>\n",
       "      <th>5</th>\n",
       "      <td>25630</td>\n",
       "      <td>1</td>\n",
       "      <td>1.0</td>\n",
       "      <td>Resonance</td>\n",
       "      <td>TextThenPhet</td>\n",
       "      <td>0.67</td>\n",
       "      <td>0.0</td>\n",
       "      <td>20.0</td>\n",
       "      <td>10.0</td>\n",
       "      <td>Somewhat beneficial.</td>\n",
       "      <td>Somewhat enjoyed it.</td>\n",
       "      <td>True</td>\n",
       "    </tr>\n",
       "    <tr>\n",
       "      <th>6</th>\n",
       "      <td>41441</td>\n",
       "      <td>1</td>\n",
       "      <td>0.67</td>\n",
       "      <td>Blackbody</td>\n",
       "      <td>PhetThenText</td>\n",
       "      <td>0.67</td>\n",
       "      <td>0.67</td>\n",
       "      <td>nan</td>\n",
       "      <td>nan</td>\n",
       "      <td>Somewhat beneficial.</td>\n",
       "      <td>Somewhat enjoyed it.</td>\n",
       "      <td>nan</td>\n",
       "    </tr>\n",
       "    <tr>\n",
       "      <th>7</th>\n",
       "      <td>41441</td>\n",
       "      <td>1</td>\n",
       "      <td>0.0</td>\n",
       "      <td>Masses</td>\n",
       "      <td>TextOnly</td>\n",
       "      <td>0.0</td>\n",
       "      <td>0.75</td>\n",
       "      <td>30.0</td>\n",
       "      <td>0.0</td>\n",
       "      <td>Somewhat beneficial.</td>\n",
       "      <td>Somewhat enjoyed it.</td>\n",
       "      <td>False</td>\n",
       "    </tr>\n",
       "    <tr>\n",
       "      <th>8</th>\n",
       "      <td>41441</td>\n",
       "      <td>1</td>\n",
       "      <td>0.67</td>\n",
       "      <td>Resonance</td>\n",
       "      <td>TextThenPhet</td>\n",
       "      <td>0.33</td>\n",
       "      <td>0.0</td>\n",
       "      <td>15.0</td>\n",
       "      <td>8.0</td>\n",
       "      <td>Somewhat beneficial.</td>\n",
       "      <td>Somewhat enjoyed it.</td>\n",
       "      <td>False</td>\n",
       "    </tr>\n",
       "    <tr>\n",
       "      <th>9</th>\n",
       "      <td>51900</td>\n",
       "      <td>1</td>\n",
       "      <td>0.33</td>\n",
       "      <td>Blackbody</td>\n",
       "      <td>PhetThenText</td>\n",
       "      <td>1.0</td>\n",
       "      <td>0.67</td>\n",
       "      <td>nan</td>\n",
       "      <td>nan</td>\n",
       "      <td>nan</td>\n",
       "      <td>nan</td>\n",
       "      <td>nan</td>\n",
       "    </tr>\n",
       "    <tr>\n",
       "      <th>10</th>\n",
       "      <td>51900</td>\n",
       "      <td>1</td>\n",
       "      <td>0.0</td>\n",
       "      <td>Masses</td>\n",
       "      <td>TextOnly</td>\n",
       "      <td>0.5</td>\n",
       "      <td>0.75</td>\n",
       "      <td>20.0</td>\n",
       "      <td>0.0</td>\n",
       "      <td>nan</td>\n",
       "      <td>nan</td>\n",
       "      <td>True</td>\n",
       "    </tr>\n",
       "    <tr>\n",
       "      <th>11</th>\n",
       "      <td>51900</td>\n",
       "      <td>1</td>\n",
       "      <td>0.33</td>\n",
       "      <td>Resonance</td>\n",
       "      <td>nan</td>\n",
       "      <td>nan</td>\n",
       "      <td>nan</td>\n",
       "      <td>nan</td>\n",
       "      <td>nan</td>\n",
       "      <td>nan</td>\n",
       "      <td>nan</td>\n",
       "      <td>nan</td>\n",
       "    </tr>\n",
       "    <tr>\n",
       "      <th>12</th>\n",
       "      <td>55238</td>\n",
       "      <td>1</td>\n",
       "      <td>1.0</td>\n",
       "      <td>Blackbody</td>\n",
       "      <td>PhetThenText</td>\n",
       "      <td>1.0</td>\n",
       "      <td>1.0</td>\n",
       "      <td>nan</td>\n",
       "      <td>nan</td>\n",
       "      <td>nan</td>\n",
       "      <td>nan</td>\n",
       "      <td>nan</td>\n",
       "    </tr>\n",
       "    <tr>\n",
       "      <th>13</th>\n",
       "      <td>55238</td>\n",
       "      <td>1</td>\n",
       "      <td>0.5</td>\n",
       "      <td>Masses</td>\n",
       "      <td>TextOnly</td>\n",
       "      <td>0.5</td>\n",
       "      <td>1.0</td>\n",
       "      <td>30.0</td>\n",
       "      <td>0.0</td>\n",
       "      <td>nan</td>\n",
       "      <td>nan</td>\n",
       "      <td>False</td>\n",
       "    </tr>\n",
       "    <tr>\n",
       "      <th>14</th>\n",
       "      <td>55238</td>\n",
       "      <td>1</td>\n",
       "      <td>1.0</td>\n",
       "      <td>Resonance</td>\n",
       "      <td>nan</td>\n",
       "      <td>nan</td>\n",
       "      <td>0.33</td>\n",
       "      <td>nan</td>\n",
       "      <td>nan</td>\n",
       "      <td>nan</td>\n",
       "      <td>nan</td>\n",
       "      <td>nan</td>\n",
       "    </tr>\n",
       "    <tr>\n",
       "      <th>15</th>\n",
       "      <td>59198</td>\n",
       "      <td>2</td>\n",
       "      <td>0.33</td>\n",
       "      <td>Blackbody</td>\n",
       "      <td>TextThenPhet</td>\n",
       "      <td>0.67</td>\n",
       "      <td>0.67</td>\n",
       "      <td>nan</td>\n",
       "      <td>nan</td>\n",
       "      <td>Somewhat beneficial.</td>\n",
       "      <td>Somewhat enjoyed it.</td>\n",
       "      <td>nan</td>\n",
       "    </tr>\n",
       "    <tr>\n",
       "      <th>16</th>\n",
       "      <td>59198</td>\n",
       "      <td>2</td>\n",
       "      <td>0.0</td>\n",
       "      <td>Masses</td>\n",
       "      <td>PhetThenText</td>\n",
       "      <td>0.0</td>\n",
       "      <td>0.75</td>\n",
       "      <td>120.0</td>\n",
       "      <td>8.0</td>\n",
       "      <td>Somewhat beneficial.</td>\n",
       "      <td>Somewhat enjoyed it.</td>\n",
       "      <td>True</td>\n",
       "    </tr>\n",
       "    <tr>\n",
       "      <th>17</th>\n",
       "      <td>59198</td>\n",
       "      <td>2</td>\n",
       "      <td>0.0</td>\n",
       "      <td>Resonance</td>\n",
       "      <td>TextOnly</td>\n",
       "      <td>0.33</td>\n",
       "      <td>0.33</td>\n",
       "      <td>40.0</td>\n",
       "      <td>0.0</td>\n",
       "      <td>Somewhat beneficial.</td>\n",
       "      <td>Somewhat enjoyed it.</td>\n",
       "      <td>True</td>\n",
       "    </tr>\n",
       "    <tr>\n",
       "      <th>18</th>\n",
       "      <td>62422</td>\n",
       "      <td>3</td>\n",
       "      <td>nan</td>\n",
       "      <td>Blackbody</td>\n",
       "      <td>TextOnly</td>\n",
       "      <td>0.67</td>\n",
       "      <td>nan</td>\n",
       "      <td>nan</td>\n",
       "      <td>nan</td>\n",
       "      <td>Somewhat beneficial.</td>\n",
       "      <td>Somewhat enjoyed it.</td>\n",
       "      <td>nan</td>\n",
       "    </tr>\n",
       "    <tr>\n",
       "      <th>19</th>\n",
       "      <td>62422</td>\n",
       "      <td>3</td>\n",
       "      <td>nan</td>\n",
       "      <td>Masses</td>\n",
       "      <td>TextThenPhet</td>\n",
       "      <td>1.0</td>\n",
       "      <td>0.5</td>\n",
       "      <td>10.0</td>\n",
       "      <td>10.0</td>\n",
       "      <td>Somewhat beneficial.</td>\n",
       "      <td>Somewhat enjoyed it.</td>\n",
       "      <td>True</td>\n",
       "    </tr>\n",
       "    <tr>\n",
       "      <th>20</th>\n",
       "      <td>62422</td>\n",
       "      <td>3</td>\n",
       "      <td>nan</td>\n",
       "      <td>Resonance</td>\n",
       "      <td>PhetThenText</td>\n",
       "      <td>0.67</td>\n",
       "      <td>0.67</td>\n",
       "      <td>10.0</td>\n",
       "      <td>20.0</td>\n",
       "      <td>Somewhat beneficial.</td>\n",
       "      <td>Somewhat enjoyed it.</td>\n",
       "      <td>True</td>\n",
       "    </tr>\n",
       "    <tr>\n",
       "      <th>21</th>\n",
       "      <td>92545</td>\n",
       "      <td>2</td>\n",
       "      <td>0.33</td>\n",
       "      <td>Blackbody</td>\n",
       "      <td>TextThenPhet</td>\n",
       "      <td>1.0</td>\n",
       "      <td>0.33</td>\n",
       "      <td>nan</td>\n",
       "      <td>nan</td>\n",
       "      <td>Somewhat beneficial.</td>\n",
       "      <td>Enjoyed it very much.</td>\n",
       "      <td>nan</td>\n",
       "    </tr>\n",
       "    <tr>\n",
       "      <th>22</th>\n",
       "      <td>92545</td>\n",
       "      <td>2</td>\n",
       "      <td>0.0</td>\n",
       "      <td>Masses</td>\n",
       "      <td>nan</td>\n",
       "      <td>nan</td>\n",
       "      <td>nan</td>\n",
       "      <td>nan</td>\n",
       "      <td>nan</td>\n",
       "      <td>Somewhat beneficial.</td>\n",
       "      <td>Enjoyed it very much.</td>\n",
       "      <td>nan</td>\n",
       "    </tr>\n",
       "    <tr>\n",
       "      <th>23</th>\n",
       "      <td>92545</td>\n",
       "      <td>2</td>\n",
       "      <td>0.33</td>\n",
       "      <td>Resonance</td>\n",
       "      <td>TextOnly</td>\n",
       "      <td>0.33</td>\n",
       "      <td>nan</td>\n",
       "      <td>10.0</td>\n",
       "      <td>0.0</td>\n",
       "      <td>Somewhat beneficial.</td>\n",
       "      <td>Enjoyed it very much.</td>\n",
       "      <td>True</td>\n",
       "    </tr>\n",
       "    <tr>\n",
       "      <th>24</th>\n",
       "      <td>103819</td>\n",
       "      <td>1</td>\n",
       "      <td>0.0</td>\n",
       "      <td>Blackbody</td>\n",
       "      <td>PhetThenText</td>\n",
       "      <td>1.0</td>\n",
       "      <td>0.67</td>\n",
       "      <td>nan</td>\n",
       "      <td>nan</td>\n",
       "      <td>Somewhat beneficial.</td>\n",
       "      <td>Did not enjoy it very much.</td>\n",
       "      <td>nan</td>\n",
       "    </tr>\n",
       "    <tr>\n",
       "      <th>25</th>\n",
       "      <td>103819</td>\n",
       "      <td>1</td>\n",
       "      <td>0.0</td>\n",
       "      <td>Masses</td>\n",
       "      <td>TextOnly</td>\n",
       "      <td>0.0</td>\n",
       "      <td>0.75</td>\n",
       "      <td>30.0</td>\n",
       "      <td>0.0</td>\n",
       "      <td>Somewhat beneficial.</td>\n",
       "      <td>Did not enjoy it very much.</td>\n",
       "      <td>False</td>\n",
       "    </tr>\n",
       "    <tr>\n",
       "      <th>26</th>\n",
       "      <td>103819</td>\n",
       "      <td>1</td>\n",
       "      <td>0.0</td>\n",
       "      <td>Resonance</td>\n",
       "      <td>TextThenPhet</td>\n",
       "      <td>0.67</td>\n",
       "      <td>0.0</td>\n",
       "      <td>25.0</td>\n",
       "      <td>6.0</td>\n",
       "      <td>Somewhat beneficial.</td>\n",
       "      <td>Did not enjoy it very much.</td>\n",
       "      <td>False</td>\n",
       "    </tr>\n",
       "    <tr>\n",
       "      <th>27</th>\n",
       "      <td>154711</td>\n",
       "      <td>3</td>\n",
       "      <td>0.67</td>\n",
       "      <td>Blackbody</td>\n",
       "      <td>TextOnly</td>\n",
       "      <td>0.33</td>\n",
       "      <td>1.0</td>\n",
       "      <td>nan</td>\n",
       "      <td>nan</td>\n",
       "      <td>nan</td>\n",
       "      <td>nan</td>\n",
       "      <td>nan</td>\n",
       "    </tr>\n",
       "    <tr>\n",
       "      <th>28</th>\n",
       "      <td>154711</td>\n",
       "      <td>3</td>\n",
       "      <td>0.5</td>\n",
       "      <td>Masses</td>\n",
       "      <td>TextThenPhet</td>\n",
       "      <td>1.0</td>\n",
       "      <td>nan</td>\n",
       "      <td>30.0</td>\n",
       "      <td>2.0</td>\n",
       "      <td>nan</td>\n",
       "      <td>nan</td>\n",
       "      <td>True</td>\n",
       "    </tr>\n",
       "    <tr>\n",
       "      <th>29</th>\n",
       "      <td>154711</td>\n",
       "      <td>3</td>\n",
       "      <td>0.33</td>\n",
       "      <td>Resonance</td>\n",
       "      <td>PhetThenText</td>\n",
       "      <td>nan</td>\n",
       "      <td>0.67</td>\n",
       "      <td>nan</td>\n",
       "      <td>nan</td>\n",
       "      <td>nan</td>\n",
       "      <td>nan</td>\n",
       "      <td>nan</td>\n",
       "    </tr>\n",
       "    <tr>\n",
       "      <th>...</th>\n",
       "      <td>...</td>\n",
       "      <td>...</td>\n",
       "      <td>...</td>\n",
       "      <td>...</td>\n",
       "      <td>...</td>\n",
       "      <td>...</td>\n",
       "      <td>...</td>\n",
       "      <td>...</td>\n",
       "      <td>...</td>\n",
       "      <td>...</td>\n",
       "      <td>...</td>\n",
       "      <td>...</td>\n",
       "    </tr>\n",
       "    <tr>\n",
       "      <th>1503</th>\n",
       "      <td>9719133</td>\n",
       "      <td>3</td>\n",
       "      <td>0.33</td>\n",
       "      <td>Blackbody</td>\n",
       "      <td>TextOnly</td>\n",
       "      <td>0.33</td>\n",
       "      <td>0.67</td>\n",
       "      <td>nan</td>\n",
       "      <td>nan</td>\n",
       "      <td>Not very beneficial.</td>\n",
       "      <td>Did not enjoy it very much.</td>\n",
       "      <td>nan</td>\n",
       "    </tr>\n",
       "    <tr>\n",
       "      <th>1504</th>\n",
       "      <td>9719133</td>\n",
       "      <td>3</td>\n",
       "      <td>0.0</td>\n",
       "      <td>Masses</td>\n",
       "      <td>TextThenPhet</td>\n",
       "      <td>0.0</td>\n",
       "      <td>0.25</td>\n",
       "      <td>30.0</td>\n",
       "      <td>10.0</td>\n",
       "      <td>Not very beneficial.</td>\n",
       "      <td>Did not enjoy it very much.</td>\n",
       "      <td>False</td>\n",
       "    </tr>\n",
       "    <tr>\n",
       "      <th>1505</th>\n",
       "      <td>9719133</td>\n",
       "      <td>3</td>\n",
       "      <td>0.33</td>\n",
       "      <td>Resonance</td>\n",
       "      <td>PhetThenText</td>\n",
       "      <td>0.67</td>\n",
       "      <td>0.0</td>\n",
       "      <td>25.0</td>\n",
       "      <td>4.0</td>\n",
       "      <td>Not very beneficial.</td>\n",
       "      <td>Did not enjoy it very much.</td>\n",
       "      <td>False</td>\n",
       "    </tr>\n",
       "    <tr>\n",
       "      <th>1506</th>\n",
       "      <td>9721682</td>\n",
       "      <td>2</td>\n",
       "      <td>0.0</td>\n",
       "      <td>Blackbody</td>\n",
       "      <td>TextThenPhet</td>\n",
       "      <td>0.67</td>\n",
       "      <td>0.67</td>\n",
       "      <td>nan</td>\n",
       "      <td>nan</td>\n",
       "      <td>Somewhat beneficial.</td>\n",
       "      <td>Did not enjoy it very much.</td>\n",
       "      <td>nan</td>\n",
       "    </tr>\n",
       "    <tr>\n",
       "      <th>1507</th>\n",
       "      <td>9721682</td>\n",
       "      <td>2</td>\n",
       "      <td>0.0</td>\n",
       "      <td>Masses</td>\n",
       "      <td>PhetThenText</td>\n",
       "      <td>0.0</td>\n",
       "      <td>0.25</td>\n",
       "      <td>nan</td>\n",
       "      <td>2.0</td>\n",
       "      <td>Somewhat beneficial.</td>\n",
       "      <td>Did not enjoy it very much.</td>\n",
       "      <td>True</td>\n",
       "    </tr>\n",
       "    <tr>\n",
       "      <th>1508</th>\n",
       "      <td>9721682</td>\n",
       "      <td>2</td>\n",
       "      <td>0.0</td>\n",
       "      <td>Resonance</td>\n",
       "      <td>TextOnly</td>\n",
       "      <td>0.0</td>\n",
       "      <td>nan</td>\n",
       "      <td>40.0</td>\n",
       "      <td>0.0</td>\n",
       "      <td>Somewhat beneficial.</td>\n",
       "      <td>Did not enjoy it very much.</td>\n",
       "      <td>False</td>\n",
       "    </tr>\n",
       "    <tr>\n",
       "      <th>1509</th>\n",
       "      <td>9763875</td>\n",
       "      <td>3</td>\n",
       "      <td>1.0</td>\n",
       "      <td>Blackbody</td>\n",
       "      <td>TextOnly</td>\n",
       "      <td>0.67</td>\n",
       "      <td>1.0</td>\n",
       "      <td>nan</td>\n",
       "      <td>nan</td>\n",
       "      <td>Not very beneficial.</td>\n",
       "      <td>Somewhat enjoyed it.</td>\n",
       "      <td>nan</td>\n",
       "    </tr>\n",
       "    <tr>\n",
       "      <th>1510</th>\n",
       "      <td>9763875</td>\n",
       "      <td>3</td>\n",
       "      <td>0.0</td>\n",
       "      <td>Masses</td>\n",
       "      <td>TextThenPhet</td>\n",
       "      <td>0.5</td>\n",
       "      <td>1.0</td>\n",
       "      <td>60.0</td>\n",
       "      <td>15.0</td>\n",
       "      <td>Not very beneficial.</td>\n",
       "      <td>Somewhat enjoyed it.</td>\n",
       "      <td>True</td>\n",
       "    </tr>\n",
       "    <tr>\n",
       "      <th>1511</th>\n",
       "      <td>9763875</td>\n",
       "      <td>3</td>\n",
       "      <td>0.0</td>\n",
       "      <td>Resonance</td>\n",
       "      <td>PhetThenText</td>\n",
       "      <td>0.33</td>\n",
       "      <td>0.33</td>\n",
       "      <td>40.0</td>\n",
       "      <td>5.0</td>\n",
       "      <td>Not very beneficial.</td>\n",
       "      <td>Somewhat enjoyed it.</td>\n",
       "      <td>False</td>\n",
       "    </tr>\n",
       "    <tr>\n",
       "      <th>1512</th>\n",
       "      <td>9773997</td>\n",
       "      <td>2</td>\n",
       "      <td>0.0</td>\n",
       "      <td>Blackbody</td>\n",
       "      <td>TextThenPhet</td>\n",
       "      <td>0.67</td>\n",
       "      <td>0.67</td>\n",
       "      <td>nan</td>\n",
       "      <td>nan</td>\n",
       "      <td>nan</td>\n",
       "      <td>nan</td>\n",
       "      <td>nan</td>\n",
       "    </tr>\n",
       "    <tr>\n",
       "      <th>1513</th>\n",
       "      <td>9773997</td>\n",
       "      <td>2</td>\n",
       "      <td>0.5</td>\n",
       "      <td>Masses</td>\n",
       "      <td>PhetThenText</td>\n",
       "      <td>0.5</td>\n",
       "      <td>1.0</td>\n",
       "      <td>30.0</td>\n",
       "      <td>15.0</td>\n",
       "      <td>nan</td>\n",
       "      <td>nan</td>\n",
       "      <td>False</td>\n",
       "    </tr>\n",
       "    <tr>\n",
       "      <th>1514</th>\n",
       "      <td>9773997</td>\n",
       "      <td>2</td>\n",
       "      <td>0.67</td>\n",
       "      <td>Resonance</td>\n",
       "      <td>nan</td>\n",
       "      <td>nan</td>\n",
       "      <td>nan</td>\n",
       "      <td>nan</td>\n",
       "      <td>nan</td>\n",
       "      <td>nan</td>\n",
       "      <td>nan</td>\n",
       "      <td>nan</td>\n",
       "    </tr>\n",
       "    <tr>\n",
       "      <th>1515</th>\n",
       "      <td>9806099</td>\n",
       "      <td>2</td>\n",
       "      <td>0.33</td>\n",
       "      <td>Blackbody</td>\n",
       "      <td>TextThenPhet</td>\n",
       "      <td>0.0</td>\n",
       "      <td>0.33</td>\n",
       "      <td>nan</td>\n",
       "      <td>nan</td>\n",
       "      <td>nan</td>\n",
       "      <td>nan</td>\n",
       "      <td>nan</td>\n",
       "    </tr>\n",
       "    <tr>\n",
       "      <th>1516</th>\n",
       "      <td>9806099</td>\n",
       "      <td>2</td>\n",
       "      <td>0.5</td>\n",
       "      <td>Masses</td>\n",
       "      <td>PhetThenText</td>\n",
       "      <td>0.0</td>\n",
       "      <td>1.0</td>\n",
       "      <td>15.0</td>\n",
       "      <td>5.0</td>\n",
       "      <td>nan</td>\n",
       "      <td>nan</td>\n",
       "      <td>True</td>\n",
       "    </tr>\n",
       "    <tr>\n",
       "      <th>1517</th>\n",
       "      <td>9806099</td>\n",
       "      <td>2</td>\n",
       "      <td>0.67</td>\n",
       "      <td>Resonance</td>\n",
       "      <td>nan</td>\n",
       "      <td>nan</td>\n",
       "      <td>0.33</td>\n",
       "      <td>nan</td>\n",
       "      <td>nan</td>\n",
       "      <td>nan</td>\n",
       "      <td>nan</td>\n",
       "      <td>nan</td>\n",
       "    </tr>\n",
       "    <tr>\n",
       "      <th>1518</th>\n",
       "      <td>9907670</td>\n",
       "      <td>2</td>\n",
       "      <td>0.33</td>\n",
       "      <td>Blackbody</td>\n",
       "      <td>TextThenPhet</td>\n",
       "      <td>0.33</td>\n",
       "      <td>0.67</td>\n",
       "      <td>nan</td>\n",
       "      <td>nan</td>\n",
       "      <td>Very beneficial.</td>\n",
       "      <td>Enjoyed it very much.</td>\n",
       "      <td>nan</td>\n",
       "    </tr>\n",
       "    <tr>\n",
       "      <th>1519</th>\n",
       "      <td>9907670</td>\n",
       "      <td>2</td>\n",
       "      <td>0.0</td>\n",
       "      <td>Masses</td>\n",
       "      <td>PhetThenText</td>\n",
       "      <td>1.0</td>\n",
       "      <td>1.0</td>\n",
       "      <td>30.0</td>\n",
       "      <td>10.0</td>\n",
       "      <td>Very beneficial.</td>\n",
       "      <td>Enjoyed it very much.</td>\n",
       "      <td>False</td>\n",
       "    </tr>\n",
       "    <tr>\n",
       "      <th>1520</th>\n",
       "      <td>9907670</td>\n",
       "      <td>2</td>\n",
       "      <td>0.0</td>\n",
       "      <td>Resonance</td>\n",
       "      <td>TextOnly</td>\n",
       "      <td>0.67</td>\n",
       "      <td>0.33</td>\n",
       "      <td>20.0</td>\n",
       "      <td>0.0</td>\n",
       "      <td>Very beneficial.</td>\n",
       "      <td>Enjoyed it very much.</td>\n",
       "      <td>False</td>\n",
       "    </tr>\n",
       "    <tr>\n",
       "      <th>1521</th>\n",
       "      <td>9929390</td>\n",
       "      <td>2</td>\n",
       "      <td>0.0</td>\n",
       "      <td>Blackbody</td>\n",
       "      <td>TextThenPhet</td>\n",
       "      <td>0.33</td>\n",
       "      <td>0.33</td>\n",
       "      <td>nan</td>\n",
       "      <td>nan</td>\n",
       "      <td>Somewhat beneficial.</td>\n",
       "      <td>Somewhat enjoyed it.</td>\n",
       "      <td>nan</td>\n",
       "    </tr>\n",
       "    <tr>\n",
       "      <th>1522</th>\n",
       "      <td>9929390</td>\n",
       "      <td>2</td>\n",
       "      <td>0.0</td>\n",
       "      <td>Masses</td>\n",
       "      <td>PhetThenText</td>\n",
       "      <td>0.5</td>\n",
       "      <td>1.0</td>\n",
       "      <td>50.0</td>\n",
       "      <td>7.0</td>\n",
       "      <td>Somewhat beneficial.</td>\n",
       "      <td>Somewhat enjoyed it.</td>\n",
       "      <td>True</td>\n",
       "    </tr>\n",
       "    <tr>\n",
       "      <th>1523</th>\n",
       "      <td>9929390</td>\n",
       "      <td>2</td>\n",
       "      <td>0.33</td>\n",
       "      <td>Resonance</td>\n",
       "      <td>TextOnly</td>\n",
       "      <td>0.33</td>\n",
       "      <td>0.67</td>\n",
       "      <td>20.0</td>\n",
       "      <td>0.0</td>\n",
       "      <td>Somewhat beneficial.</td>\n",
       "      <td>Somewhat enjoyed it.</td>\n",
       "      <td>True</td>\n",
       "    </tr>\n",
       "    <tr>\n",
       "      <th>1524</th>\n",
       "      <td>9963274</td>\n",
       "      <td>1</td>\n",
       "      <td>nan</td>\n",
       "      <td>Blackbody</td>\n",
       "      <td>PhetThenText</td>\n",
       "      <td>1.0</td>\n",
       "      <td>1.0</td>\n",
       "      <td>nan</td>\n",
       "      <td>nan</td>\n",
       "      <td>Somewhat beneficial.</td>\n",
       "      <td>Somewhat enjoyed it.</td>\n",
       "      <td>nan</td>\n",
       "    </tr>\n",
       "    <tr>\n",
       "      <th>1525</th>\n",
       "      <td>9963274</td>\n",
       "      <td>1</td>\n",
       "      <td>nan</td>\n",
       "      <td>Masses</td>\n",
       "      <td>TextOnly</td>\n",
       "      <td>0.0</td>\n",
       "      <td>1.0</td>\n",
       "      <td>40.0</td>\n",
       "      <td>0.0</td>\n",
       "      <td>Somewhat beneficial.</td>\n",
       "      <td>Somewhat enjoyed it.</td>\n",
       "      <td>False</td>\n",
       "    </tr>\n",
       "    <tr>\n",
       "      <th>1526</th>\n",
       "      <td>9963274</td>\n",
       "      <td>1</td>\n",
       "      <td>nan</td>\n",
       "      <td>Resonance</td>\n",
       "      <td>TextThenPhet</td>\n",
       "      <td>0.33</td>\n",
       "      <td>0.33</td>\n",
       "      <td>45.0</td>\n",
       "      <td>10.0</td>\n",
       "      <td>Somewhat beneficial.</td>\n",
       "      <td>Somewhat enjoyed it.</td>\n",
       "      <td>False</td>\n",
       "    </tr>\n",
       "    <tr>\n",
       "      <th>1527</th>\n",
       "      <td>9969236</td>\n",
       "      <td>3</td>\n",
       "      <td>0.33</td>\n",
       "      <td>Blackbody</td>\n",
       "      <td>TextOnly</td>\n",
       "      <td>nan</td>\n",
       "      <td>0.67</td>\n",
       "      <td>nan</td>\n",
       "      <td>nan</td>\n",
       "      <td>Somewhat beneficial.</td>\n",
       "      <td>Somewhat enjoyed it.</td>\n",
       "      <td>nan</td>\n",
       "    </tr>\n",
       "    <tr>\n",
       "      <th>1528</th>\n",
       "      <td>9969236</td>\n",
       "      <td>3</td>\n",
       "      <td>0.0</td>\n",
       "      <td>Masses</td>\n",
       "      <td>TextThenPhet</td>\n",
       "      <td>0.0</td>\n",
       "      <td>0.5</td>\n",
       "      <td>15.0</td>\n",
       "      <td>8.0</td>\n",
       "      <td>Somewhat beneficial.</td>\n",
       "      <td>Somewhat enjoyed it.</td>\n",
       "      <td>True</td>\n",
       "    </tr>\n",
       "    <tr>\n",
       "      <th>1529</th>\n",
       "      <td>9969236</td>\n",
       "      <td>3</td>\n",
       "      <td>0.0</td>\n",
       "      <td>Resonance</td>\n",
       "      <td>PhetThenText</td>\n",
       "      <td>0.0</td>\n",
       "      <td>0.67</td>\n",
       "      <td>5.0</td>\n",
       "      <td>5.0</td>\n",
       "      <td>Somewhat beneficial.</td>\n",
       "      <td>Somewhat enjoyed it.</td>\n",
       "      <td>False</td>\n",
       "    </tr>\n",
       "    <tr>\n",
       "      <th>1530</th>\n",
       "      <td>9982082</td>\n",
       "      <td>1</td>\n",
       "      <td>nan</td>\n",
       "      <td>Blackbody</td>\n",
       "      <td>PhetThenText</td>\n",
       "      <td>0.33</td>\n",
       "      <td>1.0</td>\n",
       "      <td>nan</td>\n",
       "      <td>nan</td>\n",
       "      <td>Somewhat beneficial.</td>\n",
       "      <td>Did not enjoy it very much.</td>\n",
       "      <td>nan</td>\n",
       "    </tr>\n",
       "    <tr>\n",
       "      <th>1531</th>\n",
       "      <td>9982082</td>\n",
       "      <td>1</td>\n",
       "      <td>nan</td>\n",
       "      <td>Masses</td>\n",
       "      <td>TextOnly</td>\n",
       "      <td>1.0</td>\n",
       "      <td>0.75</td>\n",
       "      <td>20.0</td>\n",
       "      <td>0.0</td>\n",
       "      <td>Somewhat beneficial.</td>\n",
       "      <td>Did not enjoy it very much.</td>\n",
       "      <td>True</td>\n",
       "    </tr>\n",
       "    <tr>\n",
       "      <th>1532</th>\n",
       "      <td>9982082</td>\n",
       "      <td>1</td>\n",
       "      <td>nan</td>\n",
       "      <td>Resonance</td>\n",
       "      <td>TextThenPhet</td>\n",
       "      <td>0.33</td>\n",
       "      <td>0.33</td>\n",
       "      <td>20.0</td>\n",
       "      <td>5.0</td>\n",
       "      <td>Somewhat beneficial.</td>\n",
       "      <td>Did not enjoy it very much.</td>\n",
       "      <td>True</td>\n",
       "    </tr>\n",
       "  </tbody>\n",
       "</table>\n",
       "<p>1533 rows × 12 columns</p>\n",
       "</div>"
      ],
      "text/plain": [
       "     student id Reading group Prescore      Topic     Treatment Postscore  \\\n",
       "0          5963             3      nan  Blackbody      TextOnly       1.0   \n",
       "1          5963             3      nan     Masses  TextThenPhet       1.0   \n",
       "2          5963             3      nan  Resonance  PhetThenText      0.67   \n",
       "3         25630             1     0.33  Blackbody  PhetThenText      0.67   \n",
       "4         25630             1      0.0     Masses      TextOnly       0.0   \n",
       "5         25630             1      1.0  Resonance  TextThenPhet      0.67   \n",
       "6         41441             1     0.67  Blackbody  PhetThenText      0.67   \n",
       "7         41441             1      0.0     Masses      TextOnly       0.0   \n",
       "8         41441             1     0.67  Resonance  TextThenPhet      0.33   \n",
       "9         51900             1     0.33  Blackbody  PhetThenText       1.0   \n",
       "10        51900             1      0.0     Masses      TextOnly       0.5   \n",
       "11        51900             1     0.33  Resonance           nan       nan   \n",
       "12        55238             1      1.0  Blackbody  PhetThenText       1.0   \n",
       "13        55238             1      0.5     Masses      TextOnly       0.5   \n",
       "14        55238             1      1.0  Resonance           nan       nan   \n",
       "15        59198             2     0.33  Blackbody  TextThenPhet      0.67   \n",
       "16        59198             2      0.0     Masses  PhetThenText       0.0   \n",
       "17        59198             2      0.0  Resonance      TextOnly      0.33   \n",
       "18        62422             3      nan  Blackbody      TextOnly      0.67   \n",
       "19        62422             3      nan     Masses  TextThenPhet       1.0   \n",
       "20        62422             3      nan  Resonance  PhetThenText      0.67   \n",
       "21        92545             2     0.33  Blackbody  TextThenPhet       1.0   \n",
       "22        92545             2      0.0     Masses           nan       nan   \n",
       "23        92545             2     0.33  Resonance      TextOnly      0.33   \n",
       "24       103819             1      0.0  Blackbody  PhetThenText       1.0   \n",
       "25       103819             1      0.0     Masses      TextOnly       0.0   \n",
       "26       103819             1      0.0  Resonance  TextThenPhet      0.67   \n",
       "27       154711             3     0.67  Blackbody      TextOnly      0.33   \n",
       "28       154711             3      0.5     Masses  TextThenPhet       1.0   \n",
       "29       154711             3     0.33  Resonance  PhetThenText       nan   \n",
       "...         ...           ...      ...        ...           ...       ...   \n",
       "1503    9719133             3     0.33  Blackbody      TextOnly      0.33   \n",
       "1504    9719133             3      0.0     Masses  TextThenPhet       0.0   \n",
       "1505    9719133             3     0.33  Resonance  PhetThenText      0.67   \n",
       "1506    9721682             2      0.0  Blackbody  TextThenPhet      0.67   \n",
       "1507    9721682             2      0.0     Masses  PhetThenText       0.0   \n",
       "1508    9721682             2      0.0  Resonance      TextOnly       0.0   \n",
       "1509    9763875             3      1.0  Blackbody      TextOnly      0.67   \n",
       "1510    9763875             3      0.0     Masses  TextThenPhet       0.5   \n",
       "1511    9763875             3      0.0  Resonance  PhetThenText      0.33   \n",
       "1512    9773997             2      0.0  Blackbody  TextThenPhet      0.67   \n",
       "1513    9773997             2      0.5     Masses  PhetThenText       0.5   \n",
       "1514    9773997             2     0.67  Resonance           nan       nan   \n",
       "1515    9806099             2     0.33  Blackbody  TextThenPhet       0.0   \n",
       "1516    9806099             2      0.5     Masses  PhetThenText       0.0   \n",
       "1517    9806099             2     0.67  Resonance           nan       nan   \n",
       "1518    9907670             2     0.33  Blackbody  TextThenPhet      0.33   \n",
       "1519    9907670             2      0.0     Masses  PhetThenText       1.0   \n",
       "1520    9907670             2      0.0  Resonance      TextOnly      0.67   \n",
       "1521    9929390             2      0.0  Blackbody  TextThenPhet      0.33   \n",
       "1522    9929390             2      0.0     Masses  PhetThenText       0.5   \n",
       "1523    9929390             2     0.33  Resonance      TextOnly      0.33   \n",
       "1524    9963274             1      nan  Blackbody  PhetThenText       1.0   \n",
       "1525    9963274             1      nan     Masses      TextOnly       0.0   \n",
       "1526    9963274             1      nan  Resonance  TextThenPhet      0.33   \n",
       "1527    9969236             3     0.33  Blackbody      TextOnly       nan   \n",
       "1528    9969236             3      0.0     Masses  TextThenPhet       0.0   \n",
       "1529    9969236             3      0.0  Resonance  PhetThenText       0.0   \n",
       "1530    9982082             1      nan  Blackbody  PhetThenText      0.33   \n",
       "1531    9982082             1      nan     Masses      TextOnly       1.0   \n",
       "1532    9982082             1      nan  Resonance  TextThenPhet      0.33   \n",
       "\n",
       "     Clickerscore Time on text Time on PhET Postattitude - benefitted  \\\n",
       "0            0.67          nan          nan      Not very beneficial.   \n",
       "1             1.0         25.0          7.0      Not very beneficial.   \n",
       "2            0.33         20.0          6.0      Not very beneficial.   \n",
       "3            0.67          nan          nan      Somewhat beneficial.   \n",
       "4            0.75         20.0          0.0      Somewhat beneficial.   \n",
       "5             0.0         20.0         10.0      Somewhat beneficial.   \n",
       "6            0.67          nan          nan      Somewhat beneficial.   \n",
       "7            0.75         30.0          0.0      Somewhat beneficial.   \n",
       "8             0.0         15.0          8.0      Somewhat beneficial.   \n",
       "9            0.67          nan          nan                       nan   \n",
       "10           0.75         20.0          0.0                       nan   \n",
       "11            nan          nan          nan                       nan   \n",
       "12            1.0          nan          nan                       nan   \n",
       "13            1.0         30.0          0.0                       nan   \n",
       "14           0.33          nan          nan                       nan   \n",
       "15           0.67          nan          nan      Somewhat beneficial.   \n",
       "16           0.75        120.0          8.0      Somewhat beneficial.   \n",
       "17           0.33         40.0          0.0      Somewhat beneficial.   \n",
       "18            nan          nan          nan      Somewhat beneficial.   \n",
       "19            0.5         10.0         10.0      Somewhat beneficial.   \n",
       "20           0.67         10.0         20.0      Somewhat beneficial.   \n",
       "21           0.33          nan          nan      Somewhat beneficial.   \n",
       "22            nan          nan          nan      Somewhat beneficial.   \n",
       "23            nan         10.0          0.0      Somewhat beneficial.   \n",
       "24           0.67          nan          nan      Somewhat beneficial.   \n",
       "25           0.75         30.0          0.0      Somewhat beneficial.   \n",
       "26            0.0         25.0          6.0      Somewhat beneficial.   \n",
       "27            1.0          nan          nan                       nan   \n",
       "28            nan         30.0          2.0                       nan   \n",
       "29           0.67          nan          nan                       nan   \n",
       "...           ...          ...          ...                       ...   \n",
       "1503         0.67          nan          nan      Not very beneficial.   \n",
       "1504         0.25         30.0         10.0      Not very beneficial.   \n",
       "1505          0.0         25.0          4.0      Not very beneficial.   \n",
       "1506         0.67          nan          nan      Somewhat beneficial.   \n",
       "1507         0.25          nan          2.0      Somewhat beneficial.   \n",
       "1508          nan         40.0          0.0      Somewhat beneficial.   \n",
       "1509          1.0          nan          nan      Not very beneficial.   \n",
       "1510          1.0         60.0         15.0      Not very beneficial.   \n",
       "1511         0.33         40.0          5.0      Not very beneficial.   \n",
       "1512         0.67          nan          nan                       nan   \n",
       "1513          1.0         30.0         15.0                       nan   \n",
       "1514          nan          nan          nan                       nan   \n",
       "1515         0.33          nan          nan                       nan   \n",
       "1516          1.0         15.0          5.0                       nan   \n",
       "1517         0.33          nan          nan                       nan   \n",
       "1518         0.67          nan          nan          Very beneficial.   \n",
       "1519          1.0         30.0         10.0          Very beneficial.   \n",
       "1520         0.33         20.0          0.0          Very beneficial.   \n",
       "1521         0.33          nan          nan      Somewhat beneficial.   \n",
       "1522          1.0         50.0          7.0      Somewhat beneficial.   \n",
       "1523         0.67         20.0          0.0      Somewhat beneficial.   \n",
       "1524          1.0          nan          nan      Somewhat beneficial.   \n",
       "1525          1.0         40.0          0.0      Somewhat beneficial.   \n",
       "1526         0.33         45.0         10.0      Somewhat beneficial.   \n",
       "1527         0.67          nan          nan      Somewhat beneficial.   \n",
       "1528          0.5         15.0          8.0      Somewhat beneficial.   \n",
       "1529         0.67          5.0          5.0      Somewhat beneficial.   \n",
       "1530          1.0          nan          nan      Somewhat beneficial.   \n",
       "1531         0.75         20.0          0.0      Somewhat beneficial.   \n",
       "1532         0.33         20.0          5.0      Somewhat beneficial.   \n",
       "\n",
       "           Postattitude - enjoyed Encountered  \n",
       "0            Somewhat enjoyed it.         nan  \n",
       "1            Somewhat enjoyed it.        True  \n",
       "2            Somewhat enjoyed it.        True  \n",
       "3            Somewhat enjoyed it.         nan  \n",
       "4            Somewhat enjoyed it.        True  \n",
       "5            Somewhat enjoyed it.        True  \n",
       "6            Somewhat enjoyed it.         nan  \n",
       "7            Somewhat enjoyed it.       False  \n",
       "8            Somewhat enjoyed it.       False  \n",
       "9                             nan         nan  \n",
       "10                            nan        True  \n",
       "11                            nan         nan  \n",
       "12                            nan         nan  \n",
       "13                            nan       False  \n",
       "14                            nan         nan  \n",
       "15           Somewhat enjoyed it.         nan  \n",
       "16           Somewhat enjoyed it.        True  \n",
       "17           Somewhat enjoyed it.        True  \n",
       "18           Somewhat enjoyed it.         nan  \n",
       "19           Somewhat enjoyed it.        True  \n",
       "20           Somewhat enjoyed it.        True  \n",
       "21          Enjoyed it very much.         nan  \n",
       "22          Enjoyed it very much.         nan  \n",
       "23          Enjoyed it very much.        True  \n",
       "24    Did not enjoy it very much.         nan  \n",
       "25    Did not enjoy it very much.       False  \n",
       "26    Did not enjoy it very much.       False  \n",
       "27                            nan         nan  \n",
       "28                            nan        True  \n",
       "29                            nan         nan  \n",
       "...                           ...         ...  \n",
       "1503  Did not enjoy it very much.         nan  \n",
       "1504  Did not enjoy it very much.       False  \n",
       "1505  Did not enjoy it very much.       False  \n",
       "1506  Did not enjoy it very much.         nan  \n",
       "1507  Did not enjoy it very much.        True  \n",
       "1508  Did not enjoy it very much.       False  \n",
       "1509         Somewhat enjoyed it.         nan  \n",
       "1510         Somewhat enjoyed it.        True  \n",
       "1511         Somewhat enjoyed it.       False  \n",
       "1512                          nan         nan  \n",
       "1513                          nan       False  \n",
       "1514                          nan         nan  \n",
       "1515                          nan         nan  \n",
       "1516                          nan        True  \n",
       "1517                          nan         nan  \n",
       "1518        Enjoyed it very much.         nan  \n",
       "1519        Enjoyed it very much.       False  \n",
       "1520        Enjoyed it very much.       False  \n",
       "1521         Somewhat enjoyed it.         nan  \n",
       "1522         Somewhat enjoyed it.        True  \n",
       "1523         Somewhat enjoyed it.        True  \n",
       "1524         Somewhat enjoyed it.         nan  \n",
       "1525         Somewhat enjoyed it.       False  \n",
       "1526         Somewhat enjoyed it.       False  \n",
       "1527         Somewhat enjoyed it.         nan  \n",
       "1528         Somewhat enjoyed it.        True  \n",
       "1529         Somewhat enjoyed it.       False  \n",
       "1530  Did not enjoy it very much.         nan  \n",
       "1531  Did not enjoy it very much.        True  \n",
       "1532  Did not enjoy it very much.        True  \n",
       "\n",
       "[1533 rows x 12 columns]"
      ]
     },
     "execution_count": 3,
     "metadata": {},
     "output_type": "execute_result"
    }
   ],
   "source": [
    "df"
   ]
  },
  {
   "cell_type": "markdown",
   "metadata": {},
   "source": [
    "#### First we want to make sure that the columns containing numerical data are treated as such. Let's also collapse the post attitude columns"
   ]
  },
  {
   "cell_type": "code",
   "execution_count": 4,
   "metadata": {
    "collapsed": false
   },
   "outputs": [
    {
     "data": {
      "text/html": [
       "<div>\n",
       "<table border=\"1\" class=\"dataframe\">\n",
       "  <thead>\n",
       "    <tr style=\"text-align: right;\">\n",
       "      <th></th>\n",
       "      <th>student id</th>\n",
       "      <th>Reading group</th>\n",
       "      <th>Prescore</th>\n",
       "      <th>Topic</th>\n",
       "      <th>Treatment</th>\n",
       "      <th>Postscore</th>\n",
       "      <th>Clickerscore</th>\n",
       "      <th>Time on text</th>\n",
       "      <th>Time on PhET</th>\n",
       "      <th>Postattitude - benefitted</th>\n",
       "      <th>Postattitude - enjoyed</th>\n",
       "      <th>Encountered</th>\n",
       "      <th>Benefitted</th>\n",
       "      <th>Enjoyed</th>\n",
       "    </tr>\n",
       "  </thead>\n",
       "  <tbody>\n",
       "    <tr>\n",
       "      <th>0</th>\n",
       "      <td>5963</td>\n",
       "      <td>3</td>\n",
       "      <td>NaN</td>\n",
       "      <td>Blackbody</td>\n",
       "      <td>TextOnly</td>\n",
       "      <td>1.00</td>\n",
       "      <td>0.67</td>\n",
       "      <td>NaN</td>\n",
       "      <td>NaN</td>\n",
       "      <td>Not very beneficial.</td>\n",
       "      <td>Somewhat enjoyed it.</td>\n",
       "      <td>NaN</td>\n",
       "      <td>False</td>\n",
       "      <td>True</td>\n",
       "    </tr>\n",
       "    <tr>\n",
       "      <th>1</th>\n",
       "      <td>5963</td>\n",
       "      <td>3</td>\n",
       "      <td>NaN</td>\n",
       "      <td>Masses</td>\n",
       "      <td>TextThenPhet</td>\n",
       "      <td>1.00</td>\n",
       "      <td>1.00</td>\n",
       "      <td>25.0</td>\n",
       "      <td>7.0</td>\n",
       "      <td>Not very beneficial.</td>\n",
       "      <td>Somewhat enjoyed it.</td>\n",
       "      <td>True</td>\n",
       "      <td>False</td>\n",
       "      <td>True</td>\n",
       "    </tr>\n",
       "    <tr>\n",
       "      <th>2</th>\n",
       "      <td>5963</td>\n",
       "      <td>3</td>\n",
       "      <td>NaN</td>\n",
       "      <td>Resonance</td>\n",
       "      <td>PhetThenText</td>\n",
       "      <td>0.67</td>\n",
       "      <td>0.33</td>\n",
       "      <td>20.0</td>\n",
       "      <td>6.0</td>\n",
       "      <td>Not very beneficial.</td>\n",
       "      <td>Somewhat enjoyed it.</td>\n",
       "      <td>True</td>\n",
       "      <td>False</td>\n",
       "      <td>True</td>\n",
       "    </tr>\n",
       "    <tr>\n",
       "      <th>3</th>\n",
       "      <td>25630</td>\n",
       "      <td>1</td>\n",
       "      <td>0.33</td>\n",
       "      <td>Blackbody</td>\n",
       "      <td>PhetThenText</td>\n",
       "      <td>0.67</td>\n",
       "      <td>0.67</td>\n",
       "      <td>NaN</td>\n",
       "      <td>NaN</td>\n",
       "      <td>Somewhat beneficial.</td>\n",
       "      <td>Somewhat enjoyed it.</td>\n",
       "      <td>NaN</td>\n",
       "      <td>True</td>\n",
       "      <td>True</td>\n",
       "    </tr>\n",
       "    <tr>\n",
       "      <th>4</th>\n",
       "      <td>25630</td>\n",
       "      <td>1</td>\n",
       "      <td>0.00</td>\n",
       "      <td>Masses</td>\n",
       "      <td>TextOnly</td>\n",
       "      <td>0.00</td>\n",
       "      <td>0.75</td>\n",
       "      <td>20.0</td>\n",
       "      <td>0.0</td>\n",
       "      <td>Somewhat beneficial.</td>\n",
       "      <td>Somewhat enjoyed it.</td>\n",
       "      <td>True</td>\n",
       "      <td>True</td>\n",
       "      <td>True</td>\n",
       "    </tr>\n",
       "  </tbody>\n",
       "</table>\n",
       "</div>"
      ],
      "text/plain": [
       "  student id Reading group  Prescore      Topic     Treatment  Postscore  \\\n",
       "0       5963             3       NaN  Blackbody      TextOnly       1.00   \n",
       "1       5963             3       NaN     Masses  TextThenPhet       1.00   \n",
       "2       5963             3       NaN  Resonance  PhetThenText       0.67   \n",
       "3      25630             1      0.33  Blackbody  PhetThenText       0.67   \n",
       "4      25630             1      0.00     Masses      TextOnly       0.00   \n",
       "\n",
       "   Clickerscore  Time on text  Time on PhET Postattitude - benefitted  \\\n",
       "0          0.67           NaN           NaN      Not very beneficial.   \n",
       "1          1.00          25.0           7.0      Not very beneficial.   \n",
       "2          0.33          20.0           6.0      Not very beneficial.   \n",
       "3          0.67           NaN           NaN      Somewhat beneficial.   \n",
       "4          0.75          20.0           0.0      Somewhat beneficial.   \n",
       "\n",
       "  Postattitude - enjoyed Encountered Benefitted Enjoyed  \n",
       "0   Somewhat enjoyed it.         NaN      False    True  \n",
       "1   Somewhat enjoyed it.        True      False    True  \n",
       "2   Somewhat enjoyed it.        True      False    True  \n",
       "3   Somewhat enjoyed it.         NaN       True    True  \n",
       "4   Somewhat enjoyed it.        True       True    True  "
      ]
     },
     "execution_count": 4,
     "metadata": {},
     "output_type": "execute_result"
    }
   ],
   "source": [
    "#converting columns to numerical types\n",
    "for column in ['Prescore','Postscore','Clickerscore', 'Time on text','Time on PhET']:\n",
    "    df[column] = pd.to_numeric(df[column],errors='coerce')\n",
    "df = df.fillna(np.nan)\n",
    "df = df.replace(to_replace='nan',value=np.nan)\n",
    "\n",
    "def transform_enjoy(response):\n",
    "    response = str(response)\n",
    "    if 'No' in response or 'not' in response:\n",
    "        return False\n",
    "    elif 'enjoy' in response: \n",
    "        return True\n",
    "    else: return np.nan\n",
    "    \n",
    "def transform_benefit(response):\n",
    "    response = str(response)\n",
    "    if 'Not' in response:\n",
    "        return False\n",
    "    elif 'beneficial' in response: \n",
    "        return True\n",
    "    else: return np.nan\n",
    "    \n",
    "df['Benefitted'] = df['Postattitude - benefitted'].apply(transform_benefit)\n",
    "df['Enjoyed'] = df['Postattitude - enjoyed'].apply(transform_enjoy)\n",
    "df.head()"
   ]
  },
  {
   "cell_type": "code",
   "execution_count": 5,
   "metadata": {
    "collapsed": false
   },
   "outputs": [
    {
     "data": {
      "text/html": [
       "<div>\n",
       "<table border=\"1\" class=\"dataframe\">\n",
       "  <thead>\n",
       "    <tr style=\"text-align: right;\">\n",
       "      <th></th>\n",
       "      <th>Topic</th>\n",
       "      <th>Blackbody</th>\n",
       "      <th>Masses</th>\n",
       "      <th>Resonance</th>\n",
       "    </tr>\n",
       "    <tr>\n",
       "      <th>Reading group</th>\n",
       "      <th>Treatment</th>\n",
       "      <th></th>\n",
       "      <th></th>\n",
       "      <th></th>\n",
       "    </tr>\n",
       "  </thead>\n",
       "  <tbody>\n",
       "    <tr>\n",
       "      <th rowspan=\"3\" valign=\"top\">1</th>\n",
       "      <th>PhetThenText</th>\n",
       "      <td>165.0</td>\n",
       "      <td>2.0</td>\n",
       "      <td>NaN</td>\n",
       "    </tr>\n",
       "    <tr>\n",
       "      <th>TextOnly</th>\n",
       "      <td>NaN</td>\n",
       "      <td>151.0</td>\n",
       "      <td>NaN</td>\n",
       "    </tr>\n",
       "    <tr>\n",
       "      <th>TextThenPhet</th>\n",
       "      <td>NaN</td>\n",
       "      <td>NaN</td>\n",
       "      <td>143.0</td>\n",
       "    </tr>\n",
       "    <tr>\n",
       "      <th rowspan=\"3\" valign=\"top\">2</th>\n",
       "      <th>PhetThenText</th>\n",
       "      <td>NaN</td>\n",
       "      <td>150.0</td>\n",
       "      <td>NaN</td>\n",
       "    </tr>\n",
       "    <tr>\n",
       "      <th>TextOnly</th>\n",
       "      <td>NaN</td>\n",
       "      <td>NaN</td>\n",
       "      <td>134.0</td>\n",
       "    </tr>\n",
       "    <tr>\n",
       "      <th>TextThenPhet</th>\n",
       "      <td>163.0</td>\n",
       "      <td>NaN</td>\n",
       "      <td>NaN</td>\n",
       "    </tr>\n",
       "    <tr>\n",
       "      <th rowspan=\"3\" valign=\"top\">3</th>\n",
       "      <th>PhetThenText</th>\n",
       "      <td>NaN</td>\n",
       "      <td>3.0</td>\n",
       "      <td>148.0</td>\n",
       "    </tr>\n",
       "    <tr>\n",
       "      <th>TextOnly</th>\n",
       "      <td>169.0</td>\n",
       "      <td>NaN</td>\n",
       "      <td>NaN</td>\n",
       "    </tr>\n",
       "    <tr>\n",
       "      <th>TextThenPhet</th>\n",
       "      <td>NaN</td>\n",
       "      <td>142.0</td>\n",
       "      <td>NaN</td>\n",
       "    </tr>\n",
       "  </tbody>\n",
       "</table>\n",
       "</div>"
      ],
      "text/plain": [
       "Topic                       Blackbody  Masses  Resonance\n",
       "Reading group Treatment                                 \n",
       "1             PhetThenText      165.0     2.0        NaN\n",
       "              TextOnly            NaN   151.0        NaN\n",
       "              TextThenPhet        NaN     NaN      143.0\n",
       "2             PhetThenText        NaN   150.0        NaN\n",
       "              TextOnly            NaN     NaN      134.0\n",
       "              TextThenPhet      163.0     NaN        NaN\n",
       "3             PhetThenText        NaN     3.0      148.0\n",
       "              TextOnly          169.0     NaN        NaN\n",
       "              TextThenPhet        NaN   142.0        NaN"
      ]
     },
     "execution_count": 5,
     "metadata": {},
     "output_type": "execute_result"
    }
   ],
   "source": [
    "df_copy = df.copy()\n",
    "df_copy['D'] = 1\n",
    "table = pd.pivot_table(df_copy, values='D', index=['Reading group', 'Treatment'],columns=['Topic'], aggfunc=np.sum)\n",
    "table"
   ]
  },
  {
   "cell_type": "markdown",
   "metadata": {},
   "source": [
    "#### Some students didn't do the assignment for the right topic/treatment so we eliminate them."
   ]
  },
  {
   "cell_type": "code",
   "execution_count": 6,
   "metadata": {
    "collapsed": false
   },
   "outputs": [],
   "source": [
    "df = df[(df['Reading group']!='3') | (df['Topic']!='Masses') | (df['Treatment']!='PhetThenText')]\n",
    "df = df[(df['Reading group']!='1') | (df['Topic']!='Masses') | (df['Treatment']!='PhetThenText')]"
   ]
  },
  {
   "cell_type": "code",
   "execution_count": 7,
   "metadata": {
    "collapsed": false
   },
   "outputs": [],
   "source": [
    "#exporting data\n",
    "#df.to_csv(path_or_buf='C:\\Users\\\\'+getpass.getuser()+'\\Desktop\\Data_per_student_per_treatment_03062016.csv', sep=',',na_rep=\"NA\", header=True, index=False)"
   ]
  },
  {
   "cell_type": "markdown",
   "metadata": {},
   "source": [
    "#### Unfortunately we have a lot of rows with missing data. If we remove them, we end up with almost half the dataset. We will use two datasets for our analysis."
   ]
  },
  {
   "cell_type": "code",
   "execution_count": 20,
   "metadata": {
    "collapsed": false
   },
   "outputs": [
    {
     "data": {
      "text/plain": [
       "((531, 14), (1528, 14), (1061, 5), (743, 7), (816, 7))"
      ]
     },
     "execution_count": 20,
     "metadata": {},
     "output_type": "execute_result"
    }
   ],
   "source": [
    "df2 = df.dropna()\n",
    "df_score = df[['Prescore','Postscore','Topic','Clickerscore','Treatment']].dropna()\n",
    "df_time = df[['Time on PhET','Time on text','Topic','Treatment','Encountered','Postattitude - enjoyed','Postattitude - benefitted']].dropna()\n",
    "df2.shape, df.shape, df_score.shape, df_time.shape, df_att.shape"
   ]
  },
  {
   "cell_type": "code",
   "execution_count": 21,
   "metadata": {
    "collapsed": false
   },
   "outputs": [
    {
     "data": {
      "text/html": [
       "<div>\n",
       "<table border=\"1\" class=\"dataframe\">\n",
       "  <thead>\n",
       "    <tr style=\"text-align: right;\">\n",
       "      <th></th>\n",
       "      <th>Prescore</th>\n",
       "      <th>Postscore</th>\n",
       "      <th>Clickerscore</th>\n",
       "    </tr>\n",
       "  </thead>\n",
       "  <tbody>\n",
       "    <tr>\n",
       "      <th>count</th>\n",
       "      <td>1061.000000</td>\n",
       "      <td>1061.000000</td>\n",
       "      <td>1061.000000</td>\n",
       "    </tr>\n",
       "    <tr>\n",
       "      <th>mean</th>\n",
       "      <td>0.317992</td>\n",
       "      <td>0.468718</td>\n",
       "      <td>0.612026</td>\n",
       "    </tr>\n",
       "    <tr>\n",
       "      <th>std</th>\n",
       "      <td>0.306917</td>\n",
       "      <td>0.340695</td>\n",
       "      <td>0.308439</td>\n",
       "    </tr>\n",
       "    <tr>\n",
       "      <th>min</th>\n",
       "      <td>0.000000</td>\n",
       "      <td>0.000000</td>\n",
       "      <td>0.000000</td>\n",
       "    </tr>\n",
       "    <tr>\n",
       "      <th>25%</th>\n",
       "      <td>0.000000</td>\n",
       "      <td>0.330000</td>\n",
       "      <td>0.330000</td>\n",
       "    </tr>\n",
       "    <tr>\n",
       "      <th>50%</th>\n",
       "      <td>0.330000</td>\n",
       "      <td>0.500000</td>\n",
       "      <td>0.670000</td>\n",
       "    </tr>\n",
       "    <tr>\n",
       "      <th>75%</th>\n",
       "      <td>0.500000</td>\n",
       "      <td>0.670000</td>\n",
       "      <td>1.000000</td>\n",
       "    </tr>\n",
       "    <tr>\n",
       "      <th>max</th>\n",
       "      <td>1.000000</td>\n",
       "      <td>1.000000</td>\n",
       "      <td>1.000000</td>\n",
       "    </tr>\n",
       "  </tbody>\n",
       "</table>\n",
       "</div>"
      ],
      "text/plain": [
       "          Prescore    Postscore  Clickerscore\n",
       "count  1061.000000  1061.000000   1061.000000\n",
       "mean      0.317992     0.468718      0.612026\n",
       "std       0.306917     0.340695      0.308439\n",
       "min       0.000000     0.000000      0.000000\n",
       "25%       0.000000     0.330000      0.330000\n",
       "50%       0.330000     0.500000      0.670000\n",
       "75%       0.500000     0.670000      1.000000\n",
       "max       1.000000     1.000000      1.000000"
      ]
     },
     "execution_count": 21,
     "metadata": {},
     "output_type": "execute_result"
    }
   ],
   "source": [
    "df_score.describe()"
   ]
  },
  {
   "cell_type": "markdown",
   "metadata": {},
   "source": [
    "# Descriptors\n",
    "## Did the students learn?\n",
    "#### Let's get a sense of what the students were doing. First let's compare their pre and post scores. In these boxplots, means are in green and medians in red."
   ]
  },
  {
   "cell_type": "code",
   "execution_count": 26,
   "metadata": {
    "collapsed": false
   },
   "outputs": [
    {
     "data": {
      "text/plain": [
       "array([[<matplotlib.axes._subplots.AxesSubplot object at 0x000000000CE07B00>,\n",
       "        <matplotlib.axes._subplots.AxesSubplot object at 0x000000000DA8C5C0>],\n",
       "       [<matplotlib.axes._subplots.AxesSubplot object at 0x000000000DBA43C8>,\n",
       "        <matplotlib.axes._subplots.AxesSubplot object at 0x000000000DF99C88>]], dtype=object)"
      ]
     },
     "execution_count": 26,
     "metadata": {},
     "output_type": "execute_result"
    },
    {
     "data": {
      "image/png": "[encoded data removed]",
      "text/plain": [
       "<matplotlib.figure.Figure at 0xc587f28>"
      ]
     },
     "metadata": {},
     "output_type": "display_data"
    },
    {
     "data": {
      "image/png": "[encoded data removed]",
      "text/plain": [
       "<matplotlib.figure.Figure at 0xcad77b8>"
      ]
     },
     "metadata": {},
     "output_type": "display_data"
    }
   ],
   "source": [
    "# df_score['diff'] = df['Prescore']-df['Postscore']\n",
    "# df_score.hist(column=['Prescore','Postscore','diff'],bins=5, layout=(1,3),figsize=(15,4),color='slateblue')\n",
    "# meanlineprops = dict(linestyle='-', linewidth=2, color='mediumseagreen')\n",
    "df_score.hist(column=['Prescore','Postscore','Clickerscore'],bins=7, layout=(1,3),figsize=(15,4),color='slateblue')\n",
    "meanlineprops = dict(linestyle='-', linewidth=2, color='mediumseagreen')\n",
    "df.boxplot(by='Topic',\n",
    "                column=['Prescore','Postscore','Clickerscore'],\n",
    "                figsize=(15,10),\n",
    "                meanprops=meanlineprops, meanline=True, showmeans=True)"
   ]
  },
  {
   "cell_type": "markdown",
   "metadata": {},
   "source": [
    "We can see from the histograms that we a wide spectrum of knowledge levels. The boxplots confirm that the student did indeed learn, as post-scores increased for all topics though in varying amounts per topic. We do a Mann-Whitney test (the equivalent a simple t-test for non normal data) to find out if the difference in score is significant."
   ]
  },
  {
   "cell_type": "code",
   "execution_count": 27,
   "metadata": {
    "collapsed": false
   },
   "outputs": [
    {
     "data": {
      "text/plain": [
       "(NormaltestResult(statistic=314.97366418270531, pvalue=4.0210349720812256e-69),\n",
       " NormaltestResult(statistic=94.588230987963385, pvalue=2.8868659256727557e-21))"
      ]
     },
     "execution_count": 27,
     "metadata": {},
     "output_type": "execute_result"
    }
   ],
   "source": [
    "#from http://stackoverflow.com/questions/12838993/scipy-normaltest-how-is-it-used\n",
    "scipy.stats.mstats.normaltest(df_score['Postscore']),scipy.stats.mstats.normaltest(df_score['Clickerscore'])"
   ]
  },
  {
   "cell_type": "markdown",
   "metadata": {},
   "source": [
    "#### Our postscore and clickerscore data is not normal!"
   ]
  },
  {
   "cell_type": "code",
   "execution_count": 28,
   "metadata": {
    "collapsed": false
   },
   "outputs": [
    {
     "name": "stdout",
     "output_type": "stream",
     "text": [
      "The significance of the post score difference is:\n",
      "WilcoxonResult(statistic=1645.0, pvalue=1.2352473059906735e-16) for Masses, \n",
      "WilcoxonResult(statistic=6157.5, pvalue=7.1031929202349846e-09) for Resonance, \n",
      "WilcoxonResult(statistic=6276.0, pvalue=8.2879438215317674e-10) for Blackbody\n"
     ]
    }
   ],
   "source": [
    "m = scipy.stats.wilcoxon(df_score[df_score['Topic']=='Masses']['Prescore'],df_score[df_score['Topic']=='Masses']['Postscore'])\n",
    "r = scipy.stats.wilcoxon(df_score[df_score['Topic']=='Resonance']['Prescore'],df_score[df_score['Topic']=='Resonance']['Postscore'])\n",
    "b = scipy.stats.wilcoxon(df_score[df_score['Topic']=='Blackbody']['Prescore'],df_score[df_score['Topic']=='Blackbody']['Postscore'])\n",
    "print(\"The significance of the post score difference is:\\n{0} for Masses, \\n{1} for Resonance, \\n{2} for Blackbody\".format(m,r,b))"
   ]
  },
  {
   "cell_type": "code",
   "execution_count": 29,
   "metadata": {
    "collapsed": false
   },
   "outputs": [
    {
     "name": "stdout",
     "output_type": "stream",
     "text": [
      "The significance of the clickerscore difference is:\n",
      "WilcoxonResult(statistic=513.0, pvalue=3.1155163925668978e-48) for Masses, \n",
      "WilcoxonResult(statistic=8869.5, pvalue=0.00086276300276209275) for Resonance, \n",
      "WilcoxonResult(statistic=4634.5, pvalue=1.6308634531726238e-31) for Blackbody\n"
     ]
    }
   ],
   "source": [
    "m = scipy.stats.wilcoxon(df_score[df_score['Topic']=='Masses']['Prescore'],df_score[df_score['Topic']=='Masses']['Clickerscore'])\n",
    "r = scipy.stats.wilcoxon(df_score[df_score['Topic']=='Resonance']['Prescore'],df_score[df_score['Topic']=='Resonance']['Clickerscore'])\n",
    "b = scipy.stats.wilcoxon(df_score[df_score['Topic']=='Blackbody']['Prescore'],df_score[df_score['Topic']=='Blackbody']['Clickerscore'])\n",
    "print(\"The significance of the clickerscore difference is:\\n{0} for Masses, \\n{1} for Resonance, \\n{2} for Blackbody\".format(m,r,b))"
   ]
  },
  {
   "cell_type": "code",
   "execution_count": 13,
   "metadata": {
    "collapsed": false
   },
   "outputs": [
    {
     "data": {
      "text/html": [
       "<div>\n",
       "<table border=\"1\" class=\"dataframe\">\n",
       "  <thead>\n",
       "    <tr style=\"text-align: right;\">\n",
       "      <th></th>\n",
       "      <th>Prescore</th>\n",
       "      <th>Postscore</th>\n",
       "      <th>Clickerscore</th>\n",
       "    </tr>\n",
       "  </thead>\n",
       "  <tbody>\n",
       "    <tr>\n",
       "      <th>count</th>\n",
       "      <td>324.000000</td>\n",
       "      <td>324.000000</td>\n",
       "      <td>324.000000</td>\n",
       "    </tr>\n",
       "    <tr>\n",
       "      <th>mean</th>\n",
       "      <td>0.208333</td>\n",
       "      <td>0.427469</td>\n",
       "      <td>0.789352</td>\n",
       "    </tr>\n",
       "    <tr>\n",
       "      <th>std</th>\n",
       "      <td>0.315677</td>\n",
       "      <td>0.399479</td>\n",
       "      <td>0.249989</td>\n",
       "    </tr>\n",
       "    <tr>\n",
       "      <th>min</th>\n",
       "      <td>0.000000</td>\n",
       "      <td>0.000000</td>\n",
       "      <td>0.000000</td>\n",
       "    </tr>\n",
       "    <tr>\n",
       "      <th>25%</th>\n",
       "      <td>0.000000</td>\n",
       "      <td>0.000000</td>\n",
       "      <td>0.750000</td>\n",
       "    </tr>\n",
       "    <tr>\n",
       "      <th>50%</th>\n",
       "      <td>0.000000</td>\n",
       "      <td>0.500000</td>\n",
       "      <td>0.750000</td>\n",
       "    </tr>\n",
       "    <tr>\n",
       "      <th>75%</th>\n",
       "      <td>0.500000</td>\n",
       "      <td>1.000000</td>\n",
       "      <td>1.000000</td>\n",
       "    </tr>\n",
       "    <tr>\n",
       "      <th>max</th>\n",
       "      <td>1.000000</td>\n",
       "      <td>1.000000</td>\n",
       "      <td>1.000000</td>\n",
       "    </tr>\n",
       "  </tbody>\n",
       "</table>\n",
       "</div>"
      ],
      "text/plain": [
       "         Prescore   Postscore  Clickerscore\n",
       "count  324.000000  324.000000    324.000000\n",
       "mean     0.208333    0.427469      0.789352\n",
       "std      0.315677    0.399479      0.249989\n",
       "min      0.000000    0.000000      0.000000\n",
       "25%      0.000000    0.000000      0.750000\n",
       "50%      0.000000    0.500000      0.750000\n",
       "75%      0.500000    1.000000      1.000000\n",
       "max      1.000000    1.000000      1.000000"
      ]
     },
     "execution_count": 13,
     "metadata": {},
     "output_type": "execute_result"
    }
   ],
   "source": [
    "df_score[df_score['Topic']=='Masses'].describe()"
   ]
  },
  {
   "cell_type": "code",
   "execution_count": 14,
   "metadata": {
    "collapsed": false
   },
   "outputs": [
    {
     "data": {
      "text/html": [
       "<div>\n",
       "<table border=\"1\" class=\"dataframe\">\n",
       "  <thead>\n",
       "    <tr style=\"text-align: right;\">\n",
       "      <th></th>\n",
       "      <th>Prescore</th>\n",
       "      <th>Postscore</th>\n",
       "      <th>Clickerscore</th>\n",
       "    </tr>\n",
       "  </thead>\n",
       "  <tbody>\n",
       "    <tr>\n",
       "      <th>count</th>\n",
       "      <td>342.000000</td>\n",
       "      <td>342.000000</td>\n",
       "      <td>342.000000</td>\n",
       "    </tr>\n",
       "    <tr>\n",
       "      <th>mean</th>\n",
       "      <td>0.308129</td>\n",
       "      <td>0.435117</td>\n",
       "      <td>0.366959</td>\n",
       "    </tr>\n",
       "    <tr>\n",
       "      <th>std</th>\n",
       "      <td>0.283272</td>\n",
       "      <td>0.319250</td>\n",
       "      <td>0.256315</td>\n",
       "    </tr>\n",
       "    <tr>\n",
       "      <th>min</th>\n",
       "      <td>0.000000</td>\n",
       "      <td>0.000000</td>\n",
       "      <td>0.000000</td>\n",
       "    </tr>\n",
       "    <tr>\n",
       "      <th>25%</th>\n",
       "      <td>0.000000</td>\n",
       "      <td>0.330000</td>\n",
       "      <td>0.330000</td>\n",
       "    </tr>\n",
       "    <tr>\n",
       "      <th>50%</th>\n",
       "      <td>0.330000</td>\n",
       "      <td>0.330000</td>\n",
       "      <td>0.330000</td>\n",
       "    </tr>\n",
       "    <tr>\n",
       "      <th>75%</th>\n",
       "      <td>0.330000</td>\n",
       "      <td>0.670000</td>\n",
       "      <td>0.670000</td>\n",
       "    </tr>\n",
       "    <tr>\n",
       "      <th>max</th>\n",
       "      <td>1.000000</td>\n",
       "      <td>1.000000</td>\n",
       "      <td>1.000000</td>\n",
       "    </tr>\n",
       "  </tbody>\n",
       "</table>\n",
       "</div>"
      ],
      "text/plain": [
       "         Prescore   Postscore  Clickerscore\n",
       "count  342.000000  342.000000    342.000000\n",
       "mean     0.308129    0.435117      0.366959\n",
       "std      0.283272    0.319250      0.256315\n",
       "min      0.000000    0.000000      0.000000\n",
       "25%      0.000000    0.330000      0.330000\n",
       "50%      0.330000    0.330000      0.330000\n",
       "75%      0.330000    0.670000      0.670000\n",
       "max      1.000000    1.000000      1.000000"
      ]
     },
     "execution_count": 14,
     "metadata": {},
     "output_type": "execute_result"
    }
   ],
   "source": [
    "df_score[df_score['Topic']=='Resonance'].describe()"
   ]
  },
  {
   "cell_type": "code",
   "execution_count": 15,
   "metadata": {
    "collapsed": false
   },
   "outputs": [
    {
     "data": {
      "text/html": [
       "<div>\n",
       "<table border=\"1\" class=\"dataframe\">\n",
       "  <thead>\n",
       "    <tr style=\"text-align: right;\">\n",
       "      <th></th>\n",
       "      <th>Prescore</th>\n",
       "      <th>Postscore</th>\n",
       "      <th>Clickerscore</th>\n",
       "    </tr>\n",
       "  </thead>\n",
       "  <tbody>\n",
       "    <tr>\n",
       "      <th>count</th>\n",
       "      <td>395.000000</td>\n",
       "      <td>395.000000</td>\n",
       "      <td>395.000000</td>\n",
       "    </tr>\n",
       "    <tr>\n",
       "      <th>mean</th>\n",
       "      <td>0.416481</td>\n",
       "      <td>0.531646</td>\n",
       "      <td>0.678759</td>\n",
       "    </tr>\n",
       "    <tr>\n",
       "      <th>std</th>\n",
       "      <td>0.287378</td>\n",
       "      <td>0.294774</td>\n",
       "      <td>0.255734</td>\n",
       "    </tr>\n",
       "    <tr>\n",
       "      <th>min</th>\n",
       "      <td>0.000000</td>\n",
       "      <td>0.000000</td>\n",
       "      <td>0.000000</td>\n",
       "    </tr>\n",
       "    <tr>\n",
       "      <th>25%</th>\n",
       "      <td>0.330000</td>\n",
       "      <td>0.330000</td>\n",
       "      <td>0.670000</td>\n",
       "    </tr>\n",
       "    <tr>\n",
       "      <th>50%</th>\n",
       "      <td>0.330000</td>\n",
       "      <td>0.670000</td>\n",
       "      <td>0.670000</td>\n",
       "    </tr>\n",
       "    <tr>\n",
       "      <th>75%</th>\n",
       "      <td>0.670000</td>\n",
       "      <td>0.670000</td>\n",
       "      <td>1.000000</td>\n",
       "    </tr>\n",
       "    <tr>\n",
       "      <th>max</th>\n",
       "      <td>1.000000</td>\n",
       "      <td>1.000000</td>\n",
       "      <td>1.000000</td>\n",
       "    </tr>\n",
       "  </tbody>\n",
       "</table>\n",
       "</div>"
      ],
      "text/plain": [
       "         Prescore   Postscore  Clickerscore\n",
       "count  395.000000  395.000000    395.000000\n",
       "mean     0.416481    0.531646      0.678759\n",
       "std      0.287378    0.294774      0.255734\n",
       "min      0.000000    0.000000      0.000000\n",
       "25%      0.330000    0.330000      0.670000\n",
       "50%      0.330000    0.670000      0.670000\n",
       "75%      0.670000    0.670000      1.000000\n",
       "max      1.000000    1.000000      1.000000"
      ]
     },
     "execution_count": 15,
     "metadata": {},
     "output_type": "execute_result"
    }
   ],
   "source": [
    "df_score[df_score['Topic']=='Blackbody'].describe()"
   ]
  },
  {
   "cell_type": "markdown",
   "metadata": {},
   "source": [
    "## How much were they engaged in the activity?\n",
    "#### Next let's look at how much time they spent on each activity."
   ]
  },
  {
   "cell_type": "code",
   "execution_count": 16,
   "metadata": {
    "collapsed": false
   },
   "outputs": [
    {
     "data": {
      "text/html": [
       "<div>\n",
       "<table border=\"1\" class=\"dataframe\">\n",
       "  <thead>\n",
       "    <tr style=\"text-align: right;\">\n",
       "      <th></th>\n",
       "      <th>Time on PhET</th>\n",
       "      <th>Time on text</th>\n",
       "    </tr>\n",
       "  </thead>\n",
       "  <tbody>\n",
       "    <tr>\n",
       "      <th>count</th>\n",
       "      <td>743.000000</td>\n",
       "      <td>743.000000</td>\n",
       "    </tr>\n",
       "    <tr>\n",
       "      <th>mean</th>\n",
       "      <td>6.994616</td>\n",
       "      <td>33.634590</td>\n",
       "    </tr>\n",
       "    <tr>\n",
       "      <th>std</th>\n",
       "      <td>10.210189</td>\n",
       "      <td>28.389238</td>\n",
       "    </tr>\n",
       "    <tr>\n",
       "      <th>min</th>\n",
       "      <td>0.000000</td>\n",
       "      <td>0.000000</td>\n",
       "    </tr>\n",
       "    <tr>\n",
       "      <th>25%</th>\n",
       "      <td>0.000000</td>\n",
       "      <td>15.000000</td>\n",
       "    </tr>\n",
       "    <tr>\n",
       "      <th>50%</th>\n",
       "      <td>5.000000</td>\n",
       "      <td>30.000000</td>\n",
       "    </tr>\n",
       "    <tr>\n",
       "      <th>75%</th>\n",
       "      <td>10.000000</td>\n",
       "      <td>44.000000</td>\n",
       "    </tr>\n",
       "    <tr>\n",
       "      <th>max</th>\n",
       "      <td>180.000000</td>\n",
       "      <td>300.000000</td>\n",
       "    </tr>\n",
       "  </tbody>\n",
       "</table>\n",
       "</div>"
      ],
      "text/plain": [
       "       Time on PhET  Time on text\n",
       "count    743.000000    743.000000\n",
       "mean       6.994616     33.634590\n",
       "std       10.210189     28.389238\n",
       "min        0.000000      0.000000\n",
       "25%        0.000000     15.000000\n",
       "50%        5.000000     30.000000\n",
       "75%       10.000000     44.000000\n",
       "max      180.000000    300.000000"
      ]
     },
     "execution_count": 16,
     "metadata": {},
     "output_type": "execute_result"
    }
   ],
   "source": [
    "df_time.describe()"
   ]
  },
  {
   "cell_type": "code",
   "execution_count": 17,
   "metadata": {
    "collapsed": false
   },
   "outputs": [
    {
     "data": {
      "text/plain": [
       "array([<matplotlib.axes._subplots.AxesSubplot object at 0x000000000A5774E0>,\n",
       "       <matplotlib.axes._subplots.AxesSubplot object at 0x000000000A8990F0>], dtype=object)"
      ]
     },
     "execution_count": 17,
     "metadata": {},
     "output_type": "execute_result"
    },
    {
     "data": {
      "image/png": "[encoded data removed]",
      "text/plain": [
       "<matplotlib.figure.Figure at 0xa4c1ac8>"
      ]
     },
     "metadata": {},
     "output_type": "display_data"
    }
   ],
   "source": [
    "df_time.boxplot(by='Treatment',\n",
    "                column=['Time on PhET','Time on text'],\n",
    "                figsize=(15,12),\n",
    "                meanprops=meanlineprops, meanline=True, showmeans=True)"
   ]
  },
  {
   "cell_type": "code",
   "execution_count": null,
   "metadata": {
    "collapsed": false
   },
   "outputs": [],
   "source": []
  },
  {
   "cell_type": "code",
   "execution_count": 31,
   "metadata": {
    "collapsed": false
   },
   "outputs": [
    {
     "data": {
      "text/plain": [
       "<matplotlib.legend.Legend at 0xb25c8d0>"
      ]
     },
     "execution_count": 31,
     "metadata": {},
     "output_type": "execute_result"
    },
    {
     "data": {
      "image/png": "[encoded data removed]",
      "text/plain": [
       "<matplotlib.figure.Figure at 0xbf1d0b8>"
      ]
     },
     "metadata": {},
     "output_type": "display_data"
    }
   ],
   "source": [
    "maxtime = int(np.max(df_time['Time on text']))\n",
    "slices = [0,5,10,30,60,maxtime]\n",
    "\n",
    "def calculate_totals(time,treatment):\n",
    "    return sum(df_time[df_time['Treatment']==treatment]['Time on text']<=time)/float(sum(df_time[df_time['Treatment']==treatment]['Time on text']<=1000))\n",
    "\n",
    "ind = np.arange(len(treatments))# the x locations for the groups\n",
    "width = 0.35                    # the width of the bars: can also be len(x) sequence\n",
    "cmap = matplotlib.cm.get_cmap('viridis')\n",
    "\n",
    "ax = plt.subplot(111)\n",
    "plt.bar(ind, [calculate_totals(slices[-1],t) for t in treatments], width, color=cmap((len(slices)-1)/float(len(slices))))\n",
    "for i in reversed(range(len(slices)-1)):\n",
    "    plt.bar(ind, [calculate_totals(slices[i],t) for t in treatments], \n",
    "            width, #bottom= [calculate_totals(slices[i],t) for t in treatments],\n",
    "            color=cmap((i)/float(len(slices))))\n",
    "plt.ylabel('Total number of students')\n",
    "plt.title('Time spent reading depending on treatment')\n",
    "plt.xticks(ind + width/2., treatments)\n",
    "box = ax.get_position()\n",
    "ax.set_position([box.x0, box.y0, box.width * 0.8, box.height])\n",
    "# Put a legend below current axis\n",
    "ax.legend(['<='+str(slices[i]) for i in reversed(range(len(slices)))],loc='center left', bbox_to_anchor=(1, 0.5))"
   ]
  },
  {
   "cell_type": "code",
   "execution_count": 32,
   "metadata": {
    "collapsed": false
   },
   "outputs": [
    {
     "data": {
      "text/plain": [
       "<matplotlib.legend.Legend at 0xe5525c0>"
      ]
     },
     "execution_count": 32,
     "metadata": {},
     "output_type": "execute_result"
    },
    {
     "data": {
      "image/png": "[encoded data removed]",
      "text/plain": [
       "<matplotlib.figure.Figure at 0xdb675f8>"
      ]
     },
     "metadata": {},
     "output_type": "display_data"
    }
   ],
   "source": [
    "maxtime = int(np.max(df_time['Time on PhET']))\n",
    "slices = [0,3,5,10,20,maxtime]\n",
    "\n",
    "def calculate_totals(time,treatment):\n",
    "    return sum(df_time[df_time['Treatment']==treatment]['Time on PhET']<=time)/float(sum(df_time[df_time['Treatment']==treatment]['Time on PhET']<=1000))\n",
    "\n",
    "ind = np.arange(len(treatments))# the x locations for the groups\n",
    "width = 0.35                    # the width of the bars: can also be len(x) sequence\n",
    "cmap = matplotlib.cm.get_cmap('viridis')\n",
    "\n",
    "ax = plt.subplot(111)\n",
    "plt.bar(ind, [calculate_totals(slices[-1],t) for t in treatments], width, color=cmap((len(slices)-1)/float(len(slices))))\n",
    "for i in reversed(range(len(slices)-1)):\n",
    "    plt.bar(ind, [calculate_totals(slices[i],t) for t in treatments], \n",
    "            width, #bottom= [calculate_totals(slices[i],t) for t in treatments],\n",
    "            color=cmap((i)/float(len(slices))))\n",
    "plt.ylabel('Total number of students')\n",
    "plt.title('Time spent on phet depending on treatment')\n",
    "plt.xticks(ind + width/2., treatments)\n",
    "box = ax.get_position()\n",
    "ax.set_position([box.x0, box.y0, box.width * 0.8, box.height])\n",
    "# Put a legend below current axis\n",
    "ax.legend(['<='+str(slices[i]) for i in reversed(range(len(slices)))],loc='center left', bbox_to_anchor=(1, 0.5))"
   ]
  },
  {
   "cell_type": "code",
   "execution_count": 33,
   "metadata": {
    "collapsed": false
   },
   "outputs": [
    {
     "data": {
      "text/plain": [
       "<matplotlib.legend.Legend at 0xe415ba8>"
      ]
     },
     "execution_count": 33,
     "metadata": {},
     "output_type": "execute_result"
    },
    {
     "data": {
      "image/png": "[encoded data removed]",
      "text/plain": [
       "<matplotlib.figure.Figure at 0xbd34278>"
      ]
     },
     "metadata": {},
     "output_type": "display_data"
    }
   ],
   "source": [
    "df_time['total time']=df_time['Time on text']+ df_time['Time on PhET']\n",
    "maxtime = int(np.max(df_time['total time']))\n",
    "slices = [0,5,10,30,60,maxtime]\n",
    "\n",
    "def calculate_totals(time,treatment):\n",
    "    return sum(df_time[df_time['Treatment']==treatment]['total time']<=time)/float(sum(df_time[df_time['Treatment']==treatment]['total time']<=1000))\n",
    "\n",
    "ind = np.arange(len(treatments))# the x locations for the groups\n",
    "width = 0.35                    # the width of the bars: can also be len(x) sequence\n",
    "cmap = matplotlib.cm.get_cmap('viridis')\n",
    "\n",
    "ax = plt.subplot(111)\n",
    "plt.bar(ind, [calculate_totals(slices[-1],t) for t in treatments], width, color=cmap((len(slices)-1)/float(len(slices))))\n",
    "for i in reversed(range(len(slices)-1)):\n",
    "    plt.bar(ind, [calculate_totals(slices[i],t) for t in treatments], \n",
    "            width, #bottom= [calculate_totals(slices[i],t) for t in treatments],\n",
    "            color=cmap((i)/float(len(slices))))\n",
    "plt.ylabel('Total number of students')\n",
    "plt.title('Time spent in total depending on treatment')\n",
    "plt.xticks(ind + width/2., treatments)\n",
    "box = ax.get_position()\n",
    "ax.set_position([box.x0, box.y0, box.width * 0.8, box.height])\n",
    "# Put a legend below current axis\n",
    "ax.legend(['<='+str(slices[i]) for i in reversed(range(len(slices)))],loc='center left', bbox_to_anchor=(1, 0.5))"
   ]
  },
  {
   "cell_type": "code",
   "execution_count": 34,
   "metadata": {
    "collapsed": false
   },
   "outputs": [
    {
     "data": {
      "text/plain": [
       "((245, 8), (255, 8), (243, 8))"
      ]
     },
     "execution_count": 34,
     "metadata": {},
     "output_type": "execute_result"
    }
   ],
   "source": [
    "df_time[df_time['Treatment']=='TextThenPhet'].shape, df_time[df_time['Treatment']=='PhetThenText'].shape, df_time[df_time['Treatment']=='TextOnly'].shape"
   ]
  },
  {
   "cell_type": "code",
   "execution_count": 35,
   "metadata": {
    "collapsed": false
   },
   "outputs": [
    {
     "name": "stdout",
     "output_type": "stream",
     "text": [
      "The significance of difference between time on task of conditions PhetThenText and TextThenPhet:\n",
      "MannwhitneyuResult(statistic=28601.5, pvalue=0.094920983214969251) for Phet, \n",
      "MannwhitneyuResult(statistic=31960.0, pvalue=0.65276057947284805) for text\n"
     ]
    }
   ],
   "source": [
    "p = mannwhitneyu(df_time[df_time['Treatment']=='TextThenPhet']['Time on PhET'],df_time[df_time['Treatment']=='PhetThenText']['Time on PhET'])\n",
    "t = mannwhitneyu(df_time[df_time['Treatment']=='TextThenPhet']['Time on text'],df_time[df_time['Treatment']=='PhetThenText']['Time on text'])\n",
    "print(\"The significance of difference between time on task of conditions PhetThenText and TextThenPhet:\\n{0} for Phet, \\n{1} for text\".format(p,t))"
   ]
  },
  {
   "cell_type": "markdown",
   "metadata": {},
   "source": [
    "#### Now that we know that time spent reading are similar for the \"phet\" conditions, let's compare each 'PhET' condition to the \"Textonly\" condition"
   ]
  },
  {
   "cell_type": "code",
   "execution_count": 38,
   "metadata": {
    "collapsed": false
   },
   "outputs": [
    {
     "name": "stdout",
     "output_type": "stream",
     "text": [
      "The significance of difference between time reading compared to 'TextOnly' condition for \n",
      "PhetThenText: MannwhitneyuResult(statistic=25998.0, pvalue=0.014806525195323326) \n",
      "and TextThenPhet: MannwhitneyuResult(statistic=26476.0, pvalue=0.0047018545689846902)\n"
     ]
    }
   ],
   "source": [
    "p1 = mannwhitneyu(df_time[df_time['Treatment']=='TextThenPhet']['Time on text'],\n",
    "             df_time[df_time['Treatment']=='TextOnly']['Time on text'])\n",
    "p2 = mannwhitneyu(df_time[df_time['Treatment']=='PhetThenText']['Time on text'],\n",
    "             df_time[df_time['Treatment']=='TextOnly']['Time on text'])\n",
    "print(\"The significance of difference between time reading compared to 'TextOnly' condition for \\nPhetThenText: {0} \\nand TextThenPhet: {1}\".format(p1,p2))"
   ]
  },
  {
   "cell_type": "code",
   "execution_count": 39,
   "metadata": {
    "collapsed": false
   },
   "outputs": [
    {
     "name": "stdout",
     "output_type": "stream",
     "text": [
      "The significance of difference between time overall compared to 'TextOnly' condition for \n",
      "PhetThenText: MannwhitneyuResult(statistic=34024.5, pvalue=0.0061298566781711836) \n",
      "and TextThenPhet: MannwhitneyuResult(statistic=35265.5, pvalue=0.0074122498373376837)\n"
     ]
    }
   ],
   "source": [
    "p1 = mannwhitneyu(df_time[df_time['Treatment']=='TextThenPhet']['total time'],\n",
    "             df_time[df_time['Treatment']=='TextOnly']['total time'])\n",
    "p2 = mannwhitneyu(df_time[df_time['Treatment']=='PhetThenText']['total time'],\n",
    "             df_time[df_time['Treatment']=='TextOnly']['total time'])\n",
    "print(\"The significance of difference between time overall compared to 'TextOnly' condition for \\nPhetThenText: {0} \\nand TextThenPhet: {1}\".format(p1,p2))"
   ]
  },
  {
   "cell_type": "markdown",
   "metadata": {},
   "source": [
    "## Prior and knowledge and attitude influence on engagement\n",
    "#### If they already encountered the topic were they more likely to score well on the pretest?"
   ]
  },
  {
   "cell_type": "code",
   "execution_count": 43,
   "metadata": {
    "collapsed": false
   },
   "outputs": [
    {
     "data": {
      "text/plain": [
       "((146, 14), (110, 14), (91, 14), (184, 14))"
      ]
     },
     "execution_count": 43,
     "metadata": {},
     "output_type": "execute_result"
    }
   ],
   "source": [
    "df2[(df2['Encountered']=='True')&(df2['Topic']=='Masses')].shape, df2[(df2['Encountered']=='True')&(df2['Topic']=='Resonance')].shape, df2[(df2['Encountered']=='False')&(df2['Topic']=='Masses')].shape, df2[(df2['Encountered']=='False')&(df2['Topic']=='Resonance')].shape"
   ]
  },
  {
   "cell_type": "code",
   "execution_count": 44,
   "metadata": {
    "collapsed": false
   },
   "outputs": [
    {
     "name": "stdout",
     "output_type": "stream",
     "text": [
      "The significance of difference between having encountered the topic 'Masses' on prescore MannwhitneyuResult(statistic=5460.0, pvalue=0.0041033250837857246)\n"
     ]
    }
   ],
   "source": [
    "m0 = mannwhitneyu(df2[(df2['Encountered']=='False')&(df2['Topic']=='Masses')]['Prescore'],df2[(df2['Encountered']=='True')&(df2['Topic']=='Masses')]['Prescore'])\n",
    "print(\"The significance of difference between having encountered the topic 'Masses' on prescore {0}\".format(m0))"
   ]
  },
  {
   "cell_type": "code",
   "execution_count": 45,
   "metadata": {
    "collapsed": false
   },
   "outputs": [
    {
     "name": "stdout",
     "output_type": "stream",
     "text": [
      "The significance of difference between having encountered the topic 'Resonance' on prescore MannwhitneyuResult(statistic=8085.5, pvalue=0.002067685112211482)\n"
     ]
    }
   ],
   "source": [
    "m0 = mannwhitneyu(df2[(df2['Encountered']=='False')&(df2['Topic']=='Resonance')]['Prescore'],df2[(df2['Encountered']=='True')&(df2['Topic']=='Resonance')]['Prescore'])\n",
    "print(\"The significance of difference between having encountered the topic 'Resonance' on prescore {0}\".format(m0))"
   ]
  },
  {
   "cell_type": "code",
   "execution_count": 50,
   "metadata": {
    "collapsed": false
   },
   "outputs": [],
   "source": [
    "#No encounter data for \"blackbody\" topic so we can't repreat the analysis for that topic"
   ]
  },
  {
   "cell_type": "markdown",
   "metadata": {},
   "source": [
    "#### If they already encountered the topic were they more likely to be engaged?¶"
   ]
  },
  {
   "cell_type": "code",
   "execution_count": 51,
   "metadata": {
    "collapsed": false
   },
   "outputs": [
    {
     "data": {
      "text/plain": [
       "<matplotlib.axes._subplots.AxesSubplot at 0xd134518>"
      ]
     },
     "execution_count": 51,
     "metadata": {},
     "output_type": "execute_result"
    },
    {
     "data": {
      "image/png": "[encoded data removed]",
      "text/plain": [
       "<matplotlib.figure.Figure at 0xc64bbe0>"
      ]
     },
     "metadata": {},
     "output_type": "display_data"
    },
    {
     "data": {
      "image/png": "[encoded data removed]",
      "text/plain": [
       "<matplotlib.figure.Figure at 0xa751d68>"
      ]
     },
     "metadata": {},
     "output_type": "display_data"
    }
   ],
   "source": [
    "df_time[df_time['Treatment']!='TextOnly'].boxplot(by='Encountered',\n",
    "                column=['Time on PhET'],\n",
    "                figsize=(7,7),\n",
    "                meanprops=meanlineprops, meanline=True, showmeans=True)\n",
    "df_time.boxplot(by='Encountered',\n",
    "                column=['Time on text'],\n",
    "                figsize=(7,7),\n",
    "                meanprops=meanlineprops, meanline=True, showmeans=True)"
   ]
  },
  {
   "cell_type": "code",
   "execution_count": 52,
   "metadata": {
    "collapsed": false
   },
   "outputs": [
    {
     "name": "stdout",
     "output_type": "stream",
     "text": [
      "The significance of difference between time on task of conditions depending on if they encountered the topic previously:\n",
      "MannwhitneyuResult(statistic=32473.0, pvalue=0.4020947747424013) for Phet, \n",
      "MannwhitneyuResult(statistic=75321.5, pvalue=0.024507422717818236) for text\n"
     ]
    }
   ],
   "source": [
    "p = mannwhitneyu(df_time[(df_time['Encountered']=='True') & (df_time['Treatment']!='TextOnly')]['Time on PhET'],\n",
    "                 df_time[(df_time['Encountered']=='False') & (df_time['Treatment']!='TextOnly')]['Time on PhET'])\n",
    "t = mannwhitneyu(df_time[df_time['Encountered']=='True']['Time on text'],df_time[df_time['Encountered']=='False']['Time on text'])\n",
    "print(\"The significance of difference between time on task of conditions depending on if they encountered the topic previously:\\n{0} for Phet, \\n{1} for text\".format(p,t))"
   ]
  },
  {
   "cell_type": "markdown",
   "metadata": {},
   "source": [
    "#### If they enjoyed the activity, were they more likely to be engaged?"
   ]
  },
  {
   "cell_type": "code",
   "execution_count": 53,
   "metadata": {
    "collapsed": false
   },
   "outputs": [
    {
     "data": {
      "text/plain": [
       "[<matplotlib.text.Text at 0xec505c0>,\n",
       " <matplotlib.text.Text at 0xec5c898>,\n",
       " <matplotlib.text.Text at 0x10442e10>,\n",
       " <matplotlib.text.Text at 0x104514a8>]"
      ]
     },
     "execution_count": 53,
     "metadata": {},
     "output_type": "execute_result"
    },
    {
     "data": {
      "image/png": "[encoded data removed]",
      "text/plain": [
       "<matplotlib.figure.Figure at 0xe9f2748>"
      ]
     },
     "metadata": {},
     "output_type": "display_data"
    }
   ],
   "source": [
    "fig, axs = plt.subplots(nrows=2, ncols=2,figsize=(17,12))\n",
    "options = ['Not beneficial at all.','Not very beneficial.','Somewhat beneficial.','Very beneficial.']\n",
    "N = len(options)\n",
    "\n",
    "ax = axs[0][0]\n",
    "means = [np.mean(df_time[df_time['Postattitude - benefitted']==option]['Time on PhET']) for option in options]\n",
    "stdes = [scipy.stats.sem(df_time[df_time['Postattitude - benefitted']==option]['Time on PhET']) for option in options]\n",
    "ax.bar(np.arange(N), means, 0.6, color='slateblue', yerr=stdes)\n",
    "# add some text for labels, title and axes ticks\n",
    "ax.set_ylabel('Time on PhET')\n",
    "ax.set_title('Time spent on PhET by how much they benefitted from the activity')\n",
    "ax.set_xticks(np.arange(N)+0.6)\n",
    "ax.set_xticklabels(options)\n",
    "\n",
    "ax = axs[0][1]\n",
    "means = [np.mean(df_time[df_time['Postattitude - benefitted']==option]['Time on text']) for option in options]\n",
    "stdes = [scipy.stats.sem(df_time[df_time['Postattitude - benefitted']==option]['Time on text']) for option in options]\n",
    "ax.bar(np.arange(N), means, 0.6, color='slateblue', yerr=stdes)\n",
    "# add some text for labels, title and axes ticks\n",
    "ax.set_ylabel('Time on text')\n",
    "ax.set_title('Time spent reading by how much they benefitted from the activity')\n",
    "ax.set_xticks(np.arange(N)+0.6)\n",
    "ax.set_xticklabels(options)\n",
    "\n",
    "options = ['No enjoyment at all.','Did not enjoy it very much.','Somewhat enjoyed it.','Enjoyed it very much.']\n",
    "N = len(options)\n",
    "\n",
    "ax = axs[1][0]\n",
    "means = [np.mean(df_time[df_time['Postattitude - enjoyed']==option]['Time on PhET']) for option in options]\n",
    "stdes = [scipy.stats.sem(df_time[df_time['Postattitude - enjoyed']==option]['Time on PhET']) for option in options]\n",
    "ax.bar(np.arange(N), means, 0.6, color='slateblue', yerr=stdes)\n",
    "# add some text for labels, title and axes ticks\n",
    "ax.set_ylabel('Time on PhET')\n",
    "ax.set_title('Time spent on PhET by how much they enjoyed the activity')\n",
    "ax.set_xticks(np.arange(N)+0.6)\n",
    "ax.set_xticklabels(options)\n",
    "\n",
    "ax = axs[1][1]\n",
    "means = [np.mean(df_time[df_time['Postattitude - enjoyed']==option]['Time on text']) for option in options]\n",
    "stdes = [scipy.stats.sem(df_time[df_time['Postattitude - enjoyed']==option]['Time on text']) for option in options]\n",
    "ax.bar(np.arange(N), means, 0.6, color='slateblue', yerr=stdes)\n",
    "# add some text for labels, title and axes ticks\n",
    "ax.set_ylabel('Time on text')\n",
    "ax.set_title('Time spent reading by how much they enjoyed the activity')\n",
    "ax.set_xticks(np.arange(N)+0.6)\n",
    "ax.set_xticklabels(options)\n"
   ]
  },
  {
   "cell_type": "markdown",
   "metadata": {},
   "source": [
    "means"
   ]
  },
  {
   "cell_type": "code",
   "execution_count": 54,
   "metadata": {
    "collapsed": false
   },
   "outputs": [
    {
     "data": {
      "text/plain": [
       "6.903981264637002"
      ]
     },
     "execution_count": 54,
     "metadata": {},
     "output_type": "execute_result"
    }
   ],
   "source": [
    "# np.mean(df_time[df_time['Postattitude - enjoyed']=='Somewhat enjoyed it.']['Time on PhET'])\n",
    "# # df_time['Postattitude - enjoyed']"
   ]
  },
  {
   "cell_type": "markdown",
   "metadata": {},
   "source": [
    "#### If they benefitted from the activity, were they more likely to be engaged?"
   ]
  },
  {
   "cell_type": "code",
   "execution_count": null,
   "metadata": {
    "collapsed": true
   },
   "outputs": [],
   "source": []
  },
  {
   "cell_type": "markdown",
   "metadata": {},
   "source": [
    "# Performance analysis by engagement\n",
    "## Visual investigation of effect of engagement"
   ]
  },
  {
   "cell_type": "code",
   "execution_count": null,
   "metadata": {
    "collapsed": false
   },
   "outputs": [],
   "source": [
    "df3 = df2[df2['Treatment']!='TextOnly']\n",
    "eng_levels_phet = (np.percentile(df3['Time on PhET'],33), np.percentile(df3['Time on PhET'],66))\n",
    "eng_levels_text = (np.percentile(df2['Time on text'],33), np.percentile(df2['Time on text'],66))\n",
    "eng_levels_phet, eng_levels_text\n",
    "# np.std(df2[(df2['Treatment']==t) & (df2['Time on PhET']<eng_levels_phet[0])]['Prescore'])/math.sqrt(df2[(df2['Treatment']==t) & (df2['Time on PhET']<eng_levels_phet[0])].shape[0])"
   ]
  },
  {
   "cell_type": "code",
   "execution_count": null,
   "metadata": {
    "collapsed": false
   },
   "outputs": [],
   "source": [
    "##show line plots with x = pre to post, colored by condition, grouped by engagement level\n",
    "fig, axs = plt.subplots(nrows=1, ncols=3, sharex=True)\n",
    "shape_treatment={'TextThenPhet':'-','TextOnly':'.','PhetThenText':'.-'}\n",
    "treatments_to_use = ['TextThenPhet','PhetThenText']\n",
    "\n",
    "\n",
    "ax = axs[0]\n",
    "for t in treatments_to_use:\n",
    "    ax.errorbar([1,2],[np.mean(df2[(df2['Treatment']==t) & (df2['Time on PhET']<eng_levels_phet[0])]['Prescore']),\n",
    "        np.mean(df2[(df2['Treatment']==t) & (df2['Time on PhET']<eng_levels_phet[0])]['Postscore'])],\n",
    "        yerr=[scipy.stats.sem(df2[(df2['Treatment']==t) & (df2['Time on PhET']<eng_levels_phet[0])]['Prescore']),\n",
    "        scipy.stats.sem(df2[(df2['Treatment']==t) & (df2['Time on PhET']<eng_levels_phet[0])]['Postscore'])],\n",
    "        label=t,fmt='-o')\n",
    "ax.set_title('No engagement')\n",
    "\n",
    "ax = axs[1]\n",
    "for t in treatments_to_use:\n",
    "    ax.errorbar([1,2],[np.mean(df2[(df2['Treatment']==t) & (df2['Time on PhET']>=eng_levels_phet[0]) & (df2['Time on PhET']<eng_levels_phet[1])]['Prescore']),\n",
    "        np.mean(df2[(df2['Treatment']==t) & (df2['Time on PhET']>=eng_levels_phet[0]) & (df2['Time on PhET']<eng_levels_phet[1])]['Postscore'])],\n",
    "        yerr=[scipy.stats.sem(df2[(df2['Treatment']==t) & (df2['Time on PhET']>=eng_levels_phet[0]) & (df2['Time on PhET']<eng_levels_phet[1])]['Prescore']),\n",
    "        scipy.stats.sem(df2[(df2['Treatment']==t) & (df2['Time on PhET']>=eng_levels_phet[0]) & (df2['Time on PhET']<eng_levels_phet[1])]['Postscore'])],\n",
    "        label=t,fmt='-o')\n",
    "ax.set_title('Medium engagement')\n",
    "\n",
    "ax = axs[2]\n",
    "for t in treatments_to_use:\n",
    "    ax.errorbar([1,2],[np.mean(df2[(df2['Treatment']==t) & (df2['Time on PhET']>=eng_levels_phet[1])]['Prescore']),\n",
    "        np.mean(df2[(df2['Treatment']==t) & (df2['Time on PhET']>=eng_levels_phet[1])]['Postscore'])],\n",
    "        yerr=[scipy.stats.sem(df2[(df2['Treatment']==t) & (df2['Time on PhET']>=eng_levels_phet[1])]['Prescore']),\n",
    "        scipy.stats.sem(df2[(df2['Treatment']==t) & (df2['Time on PhET']>=eng_levels_phet[1])]['Postscore'])],\n",
    "        label=t,fmt='-o')\n",
    "ax.set_title('High engagement')\n",
    "\n",
    "ax.set_xlim([0,3])\n",
    "ax.legend(bbox_to_anchor=(1.05, 1), loc=2, borderaxespad=0.)"
   ]
  },
  {
   "cell_type": "code",
   "execution_count": null,
   "metadata": {
    "collapsed": false
   },
   "outputs": [],
   "source": [
    "ax.set_xlim([0,3])##show line plots with x = pre to post, colored by condition, grouped by engagement level\n",
    "fig, axs = plt.subplots(nrows=1, ncols=3, sharex=True)\n",
    "shape_treatment={'TextThenPhet':'-','TextOnly':'.','PhetThenText':'.-'}\n",
    "\n",
    "\n",
    "ax = axs[0]\n",
    "for t in treatments:\n",
    "    ax.errorbar([1,2],[np.mean(df2[(df2['Treatment']==t) & (df2['Time on text']<eng_levels_text[0])]['Prescore']),\n",
    "        np.mean(df2[(df2['Treatment']==t) & (df2['Time on text']<eng_levels_text[0])]['Postscore'])],\n",
    "        yerr=[scipy.stats.sem(df2[(df2['Treatment']==t) & (df2['Time on text']<eng_levels_text[0])]['Prescore']),\n",
    "        scipy.stats.sem(df2[(df2['Treatment']==t) & (df2['Time on text']<eng_levels_text[0])]['Postscore'])],\n",
    "        label=t,fmt='-o')\n",
    "ax.set_title('No engagement')\n",
    "\n",
    "ax = axs[1]\n",
    "for t in treatments:\n",
    "    ax.errorbar([1,2],[np.mean(df2[(df2['Treatment']==t) & (df2['Time on text']>=eng_levels_text[0]) & (df2['Time on text']<eng_levels_text[1])]['Prescore']),\n",
    "        np.mean(df2[(df2['Treatment']==t) & (df2['Time on text']>=eng_levels_text[0]) & (df2['Time on text']<eng_levels_text[1])]['Postscore'])],\n",
    "        yerr=[scipy.stats.sem(df2[(df2['Treatment']==t) & (df2['Time on text']>=eng_levels_text[0]) & (df2['Time on text']<eng_levels_text[1])]['Prescore']),\n",
    "        scipy.stats.sem(df2[(df2['Treatment']==t) & (df2['Time on text']>=eng_levels_text[0]) & (df2['Time on text']<eng_levels_text[1])]['Postscore'])],\n",
    "        label=t,fmt='-o')\n",
    "ax.set_title('Medium engagement')\n",
    "\n",
    "ax = axs[2]\n",
    "for t in treatments:\n",
    "    ax.errorbar([1,2],[np.mean(df2[(df2['Treatment']==t) & (df2['Time on text']>=eng_levels_text[1])]['Prescore']),\n",
    "        np.mean(df2[(df2['Treatment']==t) & (df2['Time on text']>=eng_levels_text[1])]['Postscore'])],\n",
    "        yerr=[scipy.stats.sem(df2[(df2['Treatment']==t) & (df2['Time on text']>=eng_levels_text[1])]['Prescore']),\n",
    "        scipy.stats.sem(df2[(df2['Treatment']==t) & (df2['Time on text']>=eng_levels_text[1])]['Postscore'])],\n",
    "        label=t,fmt='-o')\n",
    "ax.set_title('High engagement')\n",
    "\n",
    "ax.set_xlim([0,3])\n",
    "ax.legend(bbox_to_anchor=(1.05, 1), loc=2, borderaxespad=0.)"
   ]
  },
  {
   "cell_type": "markdown",
   "metadata": {},
   "source": [
    "## Postscore analysis\n",
    "#### Next let's group by engagement and see if there is a different in performance."
   ]
  },
  {
   "cell_type": "code",
   "execution_count": null,
   "metadata": {
    "collapsed": false
   },
   "outputs": [],
   "source": [
    "import statsmodels.formula.api as smf\n",
    "# formula = '''df_score[\"Postscore\"] ~ df_score[\"Prescore\"] + df_score[\"Topic\"]*df_score[\"Treatment\"]'''\n",
    "# glm_f_binom = smf.glm(formula = formula, data = df_score,  family=sm.families.Binomial())\n",
    "# res = glm_f_binom.fit()\n",
    "# print(res.summary())\n",
    "\n",
    "mod = smf.ols(formula= '''Postscore ~ Prescore + Topic*Treatment''', data=df_score)\n",
    "res = mod.fit()\n",
    "res.summary()"
   ]
  },
  {
   "cell_type": "code",
   "execution_count": null,
   "metadata": {
    "collapsed": false
   },
   "outputs": [],
   "source": [
    "# fig, ax = plt.subplots(figsize=(15,20))\n",
    "# fig = sm.graphics.plot_partregress_grid(res, fig=fig)"
   ]
  },
  {
   "cell_type": "code",
   "execution_count": null,
   "metadata": {
    "collapsed": false
   },
   "outputs": [],
   "source": []
  },
  {
   "cell_type": "markdown",
   "metadata": {},
   "source": [
    "## Clickerscore analysis"
   ]
  },
  {
   "cell_type": "code",
   "execution_count": null,
   "metadata": {
    "collapsed": false
   },
   "outputs": [],
   "source": [
    "# formula = '''df_score[\"Clickerscore\"] ~ df_score[\"Prescore\"] + df_score[\"Topic\"]*df_score[\"Treatment\"]'''\n",
    "# glm_f_binom = smf.glm(formula = formula, data = df_score,  family=sm.families.Binomial())\n",
    "# res = glm_f_binom.fit()\n",
    "# print(res.summary())\n",
    "\n",
    "mod = smf.ols(formula= '''Clickerscore ~ Prescore*Postscore + Topic*Treatment''', data=df_score)\n",
    "res = mod.fit()\n",
    "res.summary()"
   ]
  },
  {
   "cell_type": "code",
   "execution_count": null,
   "metadata": {
    "collapsed": false
   },
   "outputs": [],
   "source": []
  },
  {
   "cell_type": "markdown",
   "metadata": {},
   "source": [
    "#### Interestingly, low or no effect by the prescore on the clickerscore when including the post-score as a covariate... A high effect by post-score! No effect on their interaction. Which means that the postscore was a better indicator than prescore and that the effect by the prescore is included in the post-score. Thus the reading assignment was an equalizing force!"
   ]
  },
  {
   "cell_type": "code",
   "execution_count": null,
   "metadata": {
    "collapsed": true
   },
   "outputs": [],
   "source": []
  },
  {
   "cell_type": "code",
   "execution_count": null,
   "metadata": {
    "collapsed": false
   },
   "outputs": [],
   "source": []
  },
  {
   "cell_type": "code",
   "execution_count": null,
   "metadata": {
    "collapsed": false
   },
   "outputs": [],
   "source": []
  },
  {
   "cell_type": "code",
   "execution_count": null,
   "metadata": {
    "collapsed": true
   },
   "outputs": [],
   "source": []
  }
 ],
 "metadata": {
  "kernelspec": {
   "display_name": "Python 2",
   "language": "python",
   "name": "python2"
  },
  "language_info": {
   "codemirror_mode": {
    "name": "ipython",
    "version": 2
   },
   "file_extension": ".py",
   "mimetype": "text/x-python",
   "name": "python",
   "nbconvert_exporter": "python",
   "pygments_lexer": "ipython2",
   "version": "2.7.11"
  }
 },
 "nbformat": 4,
 "nbformat_minor": 0
}
