{
 "cells": [
  {
   "cell_type": "markdown",
   "metadata": {},
   "source": [
    "# Prereading study storyline\n",
    "## Loading the data"
   ]
  },
  {
   "cell_type": "code",
   "execution_count": 1,
   "metadata": {
    "collapsed": true
   },
   "outputs": [],
   "source": [
    "%matplotlib inline\n",
    "import scipy\n",
    "from scipy.stats import mannwhitneyu\n",
    "import numpy as np\n",
    "import matplotlib.pyplot as plt\n",
    "import matplotlib\n",
    "import pandas as pd\n",
    "import sys\n",
    "import getpass\n",
    "import math"
   ]
  },
  {
   "cell_type": "code",
   "execution_count": 3,
   "metadata": {
    "collapsed": false
   },
   "outputs": [],
   "source": [
    "# from scipy import stats \n",
    "dfraw = pd.read_csv('C:\\Users\\\\'+getpass.getuser()+'\\Desktop\\data\\prereading\\Clean-data_160217_JBS_cleaned_051316.csv')\n",
    "dfsurvey = pd.read_csv('C:\\Users\\\\'+getpass.getuser()+'\\Desktop\\data\\prereading\\Clean-data_addSurvey_160309_JBS_cleaned_051316.csv')\n",
    "#please read this about unicode strings eventually: http://www.joelonsoftware.com/articles/Unicode.html\n",
    "\n",
    "\n",
    "# Klugetastic: make a list, convert to an array and then a df\n",
    "datalist = []\n",
    "#header = df.keys()\n",
    "topics = ['Blackbody','Masses','Resonance']\n",
    "treatments = ['TextThenPhet','PhetThenText','TextOnly']\n",
    "\n",
    "\n",
    "#merge with main dataframe\n",
    "dfmerged = pd.merge(left=dfraw,right=dfsurvey, left_on='anon-id', right_on='anon-id')\n",
    "\n",
    "phetquestion = {'Blackbody':'q01 - Approximately how long did you spend with the PhET simulation? (in minutes)',\n",
    "                'Masses':'q5 - Approximately how long did you spend with the PhET simulation? (in minutes)',\n",
    "                'Resonance':'q6 - Approximately how long did you spend with the PhET simulation? (in minutes)'}\n",
    "textquestion = {'Blackbody':'q02 - Approximately how long did you spend reading the textbook sections? (in minutes)',\n",
    "                'Masses':'q6 - Approximately how long did you spend reading the textbook sections? (in minutes)',\n",
    "                'Resonance':'q7 - Approximately how long did you spend reading the textbook sections? (in minutes)'}\n",
    "\n",
    "conv_pos = {'nan':np.nan, 'Not at all':0.0, 'Somewhat':1.0, 'Mostly':2.0, 'Definitely':3.0}\n",
    "conv_neg = {'nan':np.nan, 'Not at all':3.0, 'Somewhat':2.0, 'Mostly':1.0, 'Definitely':0.0}\n",
    "\n",
    "encountered_question = {'Blackbody':'q03 -  Have you learned about blackbody radiation before? (Choose all that apply.)',\n",
    "                        'Masses':'q7 - Have you learned about simple harmonic motion before? (Choose all that apply.)',\n",
    "                        'Resonance':'q8 - Have you learned about resonance before? (Choose all that apply.)'}\n",
    "\n",
    "benefit_question = {'Blackbody':'q04 - How beneficial was this assignment to your learning?',\n",
    "                        'Masses':'q8 - How beneficial was this assignment to your learning?',\n",
    "                        'Resonance':'q9 - How beneficial was this assignment to your learning?'}\n",
    "enjoy_question = {'Blackbody':'q05 - How much did you enjoy this assignment?',\n",
    "                        'Masses':'q9 - How much did you enjoy this assignment?',\n",
    "                        'Resonance':'q10 - How much did you enjoy this assignment?'}\n",
    "\n",
    "def transform_encountered(response):\n",
    "    response = str(response)\n",
    "    if response == 'No.':\n",
    "        return False\n",
    "    if 'Yes' in response:\n",
    "        return True\n",
    "    else: \n",
    "        return np.nan\n",
    "\n",
    "def lickert_convert(response):\n",
    "    return float(conv_neg[str(response).split('<')[0]])\n",
    "\n",
    "def compute_survey(responses):\n",
    "    NAs = 0\n",
    "    newresponses = []\n",
    "    for s in responses:\n",
    "        if s != np.nan:\n",
    "            newresponses.append(s)\n",
    "    return sum(newresponses)/len(newresponses)\n",
    "\n",
    "#now we iterate through the dataframe and creat a row per student x topic\n",
    "for index, row in dfmerged.iterrows():\n",
    "    for topic in topics:\n",
    "        #print row['q5 - For me personally; PhET Sims are usually useless.']\n",
    "#         calculated_survey = compute_survey([lickert_convert(row['q2 - For me personally; PhET Sims are usually boring.']),\n",
    "#                     lickert_convert(row['q5 - For me personally; PhET Sims are usually useless.']),\n",
    "#                     lickert_convert(row['q4 - For me personally; PhET Sims are usually fun.']),\n",
    "#                     lickert_convert(row['q3 - For me personally; PhET Sims are usually productive.'])])\n",
    "        datalist.append([str(row['anon-id']),\n",
    "                        str(row[\"Reading group_x\"]),\n",
    "                        float(str(row['PreScore.'+topic]).replace('%',''))/100.0,\n",
    "                        topic,\n",
    "                        row['Treatment.'+topic+'_x'],\n",
    "                        float(str(row['PostScore.'+topic]).replace('%',''))/100.0,\n",
    "                        float(str(row['ClickerScore.'+topic]).replace('%',''))/100.0,\n",
    "                        row[textquestion[topic]],\n",
    "                        row[phetquestion[topic]],\n",
    "#                         calculated_survey,\n",
    "                        row[benefit_question[topic]],\n",
    "                        row[enjoy_question[topic]],\n",
    "                        transform_encountered(row[encountered_question[topic]])\n",
    "                        ])\n",
    "\n",
    "# convert list2 to an array then a dataframe\n",
    "array2 = np.array(datalist)\n",
    "colnames = ['student id',\"Reading group\",'Prescore','Topic','Treatment',\n",
    "            'Postscore','Clickerscore','Time on text','Time on PhET',\n",
    "#             'Preattitude',\n",
    "            'Postattitude - benefitted','Postattitude - enjoyed','Encountered']\n",
    "df = pd.DataFrame(array2,columns=colnames)"
   ]
  },
  {
   "cell_type": "code",
   "execution_count": 4,
   "metadata": {
    "collapsed": true
   },
   "outputs": [],
   "source": [
    "#From https://en.wikipedia.org/wiki/Effect_size#Difference_family:_Effect_sizes_based_on_differences_between_means\n",
    "def effect_size(x,y):\n",
    "    '''non-parametric for mann-whitney'''\n",
    "    U = mannwhitneyu(x,y)[0]\n",
    "    nx = len(x)\n",
    "    ny = len(y)\n",
    "    return 1- 2*U/(nx*ny)\n",
    "    \n",
    "    \n",
    "#     '''Cohen's d'''\n",
    "#     nx = len(x)\n",
    "#     ny = len(y)\n",
    "#     return (np.mean(x) - np.mean(y)) / math.sqrt(((nx-1)*np.std(x, ddof=1) ** 2 + (ny-1)*np.std(y, ddof=1) ** 2) / (nx + ny - 2))\n"
   ]
  },
  {
   "cell_type": "markdown",
   "metadata": {},
   "source": [
    "# Organizing the dataframe\n",
    "#### Now that we have our data frame we can see what it looks like:"
   ]
  },
  {
   "cell_type": "code",
   "execution_count": 5,
   "metadata": {
    "collapsed": false
   },
   "outputs": [
    {
     "data": {
      "text/html": [
       "<div>\n",
       "<table border=\"1\" class=\"dataframe\">\n",
       "  <thead>\n",
       "    <tr style=\"text-align: right;\">\n",
       "      <th></th>\n",
       "      <th>student id</th>\n",
       "      <th>Reading group</th>\n",
       "      <th>Prescore</th>\n",
       "      <th>Topic</th>\n",
       "      <th>Treatment</th>\n",
       "      <th>Postscore</th>\n",
       "      <th>Clickerscore</th>\n",
       "      <th>Time on text</th>\n",
       "      <th>Time on PhET</th>\n",
       "      <th>Postattitude - benefitted</th>\n",
       "      <th>Postattitude - enjoyed</th>\n",
       "      <th>Encountered</th>\n",
       "    </tr>\n",
       "  </thead>\n",
       "  <tbody>\n",
       "    <tr>\n",
       "      <th>0</th>\n",
       "      <td>5963</td>\n",
       "      <td>3</td>\n",
       "      <td>nan</td>\n",
       "      <td>Blackbody</td>\n",
       "      <td>TextOnly</td>\n",
       "      <td>1.0</td>\n",
       "      <td>0.67</td>\n",
       "      <td>nan</td>\n",
       "      <td>nan</td>\n",
       "      <td>nan</td>\n",
       "      <td>nan</td>\n",
       "      <td>nan</td>\n",
       "    </tr>\n",
       "    <tr>\n",
       "      <th>1</th>\n",
       "      <td>5963</td>\n",
       "      <td>3</td>\n",
       "      <td>nan</td>\n",
       "      <td>Masses</td>\n",
       "      <td>TextThenPhet</td>\n",
       "      <td>1.0</td>\n",
       "      <td>1.0</td>\n",
       "      <td>25.0</td>\n",
       "      <td>7.0</td>\n",
       "      <td>Somewhat beneficial.</td>\n",
       "      <td>Enjoyed it very much.</td>\n",
       "      <td>True</td>\n",
       "    </tr>\n",
       "    <tr>\n",
       "      <th>2</th>\n",
       "      <td>5963</td>\n",
       "      <td>3</td>\n",
       "      <td>nan</td>\n",
       "      <td>Resonance</td>\n",
       "      <td>PhetThenText</td>\n",
       "      <td>0.67</td>\n",
       "      <td>0.33</td>\n",
       "      <td>20.0</td>\n",
       "      <td>6.0</td>\n",
       "      <td>Not very beneficial.</td>\n",
       "      <td>Somewhat enjoyed it.</td>\n",
       "      <td>True</td>\n",
       "    </tr>\n",
       "    <tr>\n",
       "      <th>3</th>\n",
       "      <td>25630</td>\n",
       "      <td>1</td>\n",
       "      <td>0.33</td>\n",
       "      <td>Blackbody</td>\n",
       "      <td>PhetThenText</td>\n",
       "      <td>0.67</td>\n",
       "      <td>0.67</td>\n",
       "      <td>nan</td>\n",
       "      <td>nan</td>\n",
       "      <td>nan</td>\n",
       "      <td>nan</td>\n",
       "      <td>nan</td>\n",
       "    </tr>\n",
       "    <tr>\n",
       "      <th>4</th>\n",
       "      <td>25630</td>\n",
       "      <td>1</td>\n",
       "      <td>0.0</td>\n",
       "      <td>Masses</td>\n",
       "      <td>TextOnly</td>\n",
       "      <td>0.0</td>\n",
       "      <td>0.75</td>\n",
       "      <td>20.0</td>\n",
       "      <td>0.0</td>\n",
       "      <td>Somewhat beneficial.</td>\n",
       "      <td>Somewhat enjoyed it.</td>\n",
       "      <td>True</td>\n",
       "    </tr>\n",
       "    <tr>\n",
       "      <th>5</th>\n",
       "      <td>25630</td>\n",
       "      <td>1</td>\n",
       "      <td>1.0</td>\n",
       "      <td>Resonance</td>\n",
       "      <td>TextThenPhet</td>\n",
       "      <td>0.67</td>\n",
       "      <td>0.0</td>\n",
       "      <td>20.0</td>\n",
       "      <td>10.0</td>\n",
       "      <td>Somewhat beneficial.</td>\n",
       "      <td>Somewhat enjoyed it.</td>\n",
       "      <td>True</td>\n",
       "    </tr>\n",
       "    <tr>\n",
       "      <th>6</th>\n",
       "      <td>41441</td>\n",
       "      <td>1</td>\n",
       "      <td>0.67</td>\n",
       "      <td>Blackbody</td>\n",
       "      <td>PhetThenText</td>\n",
       "      <td>0.67</td>\n",
       "      <td>0.67</td>\n",
       "      <td>nan</td>\n",
       "      <td>nan</td>\n",
       "      <td>nan</td>\n",
       "      <td>nan</td>\n",
       "      <td>nan</td>\n",
       "    </tr>\n",
       "    <tr>\n",
       "      <th>7</th>\n",
       "      <td>41441</td>\n",
       "      <td>1</td>\n",
       "      <td>0.0</td>\n",
       "      <td>Masses</td>\n",
       "      <td>TextOnly</td>\n",
       "      <td>0.0</td>\n",
       "      <td>0.75</td>\n",
       "      <td>30.0</td>\n",
       "      <td>0.0</td>\n",
       "      <td>Not very beneficial.</td>\n",
       "      <td>Somewhat enjoyed it.</td>\n",
       "      <td>False</td>\n",
       "    </tr>\n",
       "    <tr>\n",
       "      <th>8</th>\n",
       "      <td>41441</td>\n",
       "      <td>1</td>\n",
       "      <td>0.67</td>\n",
       "      <td>Resonance</td>\n",
       "      <td>TextThenPhet</td>\n",
       "      <td>0.33</td>\n",
       "      <td>0.0</td>\n",
       "      <td>15.0</td>\n",
       "      <td>8.0</td>\n",
       "      <td>Somewhat beneficial.</td>\n",
       "      <td>Somewhat enjoyed it.</td>\n",
       "      <td>False</td>\n",
       "    </tr>\n",
       "    <tr>\n",
       "      <th>9</th>\n",
       "      <td>51900</td>\n",
       "      <td>1</td>\n",
       "      <td>0.33</td>\n",
       "      <td>Blackbody</td>\n",
       "      <td>PhetThenText</td>\n",
       "      <td>1.0</td>\n",
       "      <td>0.67</td>\n",
       "      <td>nan</td>\n",
       "      <td>nan</td>\n",
       "      <td>nan</td>\n",
       "      <td>nan</td>\n",
       "      <td>nan</td>\n",
       "    </tr>\n",
       "    <tr>\n",
       "      <th>10</th>\n",
       "      <td>51900</td>\n",
       "      <td>1</td>\n",
       "      <td>0.0</td>\n",
       "      <td>Masses</td>\n",
       "      <td>TextOnly</td>\n",
       "      <td>0.5</td>\n",
       "      <td>0.75</td>\n",
       "      <td>20.0</td>\n",
       "      <td>0.0</td>\n",
       "      <td>Very beneficial.</td>\n",
       "      <td>Enjoyed it very much.</td>\n",
       "      <td>True</td>\n",
       "    </tr>\n",
       "    <tr>\n",
       "      <th>11</th>\n",
       "      <td>51900</td>\n",
       "      <td>1</td>\n",
       "      <td>0.33</td>\n",
       "      <td>Resonance</td>\n",
       "      <td>nan</td>\n",
       "      <td>nan</td>\n",
       "      <td>nan</td>\n",
       "      <td>nan</td>\n",
       "      <td>nan</td>\n",
       "      <td>nan</td>\n",
       "      <td>nan</td>\n",
       "      <td>nan</td>\n",
       "    </tr>\n",
       "    <tr>\n",
       "      <th>12</th>\n",
       "      <td>55238</td>\n",
       "      <td>1</td>\n",
       "      <td>1.0</td>\n",
       "      <td>Blackbody</td>\n",
       "      <td>PhetThenText</td>\n",
       "      <td>1.0</td>\n",
       "      <td>1.0</td>\n",
       "      <td>nan</td>\n",
       "      <td>nan</td>\n",
       "      <td>nan</td>\n",
       "      <td>nan</td>\n",
       "      <td>nan</td>\n",
       "    </tr>\n",
       "    <tr>\n",
       "      <th>13</th>\n",
       "      <td>55238</td>\n",
       "      <td>1</td>\n",
       "      <td>0.5</td>\n",
       "      <td>Masses</td>\n",
       "      <td>TextOnly</td>\n",
       "      <td>0.5</td>\n",
       "      <td>1.0</td>\n",
       "      <td>30.0</td>\n",
       "      <td>0.0</td>\n",
       "      <td>Very beneficial.</td>\n",
       "      <td>Somewhat enjoyed it.</td>\n",
       "      <td>False</td>\n",
       "    </tr>\n",
       "    <tr>\n",
       "      <th>14</th>\n",
       "      <td>55238</td>\n",
       "      <td>1</td>\n",
       "      <td>1.0</td>\n",
       "      <td>Resonance</td>\n",
       "      <td>nan</td>\n",
       "      <td>nan</td>\n",
       "      <td>0.33</td>\n",
       "      <td>nan</td>\n",
       "      <td>nan</td>\n",
       "      <td>nan</td>\n",
       "      <td>nan</td>\n",
       "      <td>nan</td>\n",
       "    </tr>\n",
       "    <tr>\n",
       "      <th>15</th>\n",
       "      <td>59198</td>\n",
       "      <td>2</td>\n",
       "      <td>0.33</td>\n",
       "      <td>Blackbody</td>\n",
       "      <td>TextThenPhet</td>\n",
       "      <td>0.67</td>\n",
       "      <td>0.67</td>\n",
       "      <td>nan</td>\n",
       "      <td>nan</td>\n",
       "      <td>nan</td>\n",
       "      <td>nan</td>\n",
       "      <td>nan</td>\n",
       "    </tr>\n",
       "    <tr>\n",
       "      <th>16</th>\n",
       "      <td>59198</td>\n",
       "      <td>2</td>\n",
       "      <td>0.0</td>\n",
       "      <td>Masses</td>\n",
       "      <td>PhetThenText</td>\n",
       "      <td>0.0</td>\n",
       "      <td>0.75</td>\n",
       "      <td>120.0</td>\n",
       "      <td>8.0</td>\n",
       "      <td>Somewhat beneficial.</td>\n",
       "      <td>Somewhat enjoyed it.</td>\n",
       "      <td>True</td>\n",
       "    </tr>\n",
       "    <tr>\n",
       "      <th>17</th>\n",
       "      <td>59198</td>\n",
       "      <td>2</td>\n",
       "      <td>0.0</td>\n",
       "      <td>Resonance</td>\n",
       "      <td>TextOnly</td>\n",
       "      <td>0.33</td>\n",
       "      <td>0.33</td>\n",
       "      <td>40.0</td>\n",
       "      <td>0.0</td>\n",
       "      <td>Somewhat beneficial.</td>\n",
       "      <td>Somewhat enjoyed it.</td>\n",
       "      <td>True</td>\n",
       "    </tr>\n",
       "    <tr>\n",
       "      <th>18</th>\n",
       "      <td>62422</td>\n",
       "      <td>3</td>\n",
       "      <td>nan</td>\n",
       "      <td>Blackbody</td>\n",
       "      <td>TextOnly</td>\n",
       "      <td>0.67</td>\n",
       "      <td>nan</td>\n",
       "      <td>nan</td>\n",
       "      <td>nan</td>\n",
       "      <td>nan</td>\n",
       "      <td>nan</td>\n",
       "      <td>nan</td>\n",
       "    </tr>\n",
       "    <tr>\n",
       "      <th>19</th>\n",
       "      <td>62422</td>\n",
       "      <td>3</td>\n",
       "      <td>nan</td>\n",
       "      <td>Masses</td>\n",
       "      <td>TextThenPhet</td>\n",
       "      <td>1.0</td>\n",
       "      <td>0.5</td>\n",
       "      <td>10.0</td>\n",
       "      <td>10.0</td>\n",
       "      <td>Somewhat beneficial.</td>\n",
       "      <td>Did not enjoy it very much.</td>\n",
       "      <td>True</td>\n",
       "    </tr>\n",
       "    <tr>\n",
       "      <th>20</th>\n",
       "      <td>62422</td>\n",
       "      <td>3</td>\n",
       "      <td>nan</td>\n",
       "      <td>Resonance</td>\n",
       "      <td>PhetThenText</td>\n",
       "      <td>0.67</td>\n",
       "      <td>0.67</td>\n",
       "      <td>10.0</td>\n",
       "      <td>20.0</td>\n",
       "      <td>Somewhat beneficial.</td>\n",
       "      <td>Somewhat enjoyed it.</td>\n",
       "      <td>True</td>\n",
       "    </tr>\n",
       "    <tr>\n",
       "      <th>21</th>\n",
       "      <td>92545</td>\n",
       "      <td>2</td>\n",
       "      <td>0.33</td>\n",
       "      <td>Blackbody</td>\n",
       "      <td>TextThenPhet</td>\n",
       "      <td>1.0</td>\n",
       "      <td>0.33</td>\n",
       "      <td>nan</td>\n",
       "      <td>nan</td>\n",
       "      <td>nan</td>\n",
       "      <td>nan</td>\n",
       "      <td>nan</td>\n",
       "    </tr>\n",
       "    <tr>\n",
       "      <th>22</th>\n",
       "      <td>92545</td>\n",
       "      <td>2</td>\n",
       "      <td>0.0</td>\n",
       "      <td>Masses</td>\n",
       "      <td>nan</td>\n",
       "      <td>nan</td>\n",
       "      <td>nan</td>\n",
       "      <td>nan</td>\n",
       "      <td>nan</td>\n",
       "      <td>nan</td>\n",
       "      <td>nan</td>\n",
       "      <td>nan</td>\n",
       "    </tr>\n",
       "    <tr>\n",
       "      <th>23</th>\n",
       "      <td>92545</td>\n",
       "      <td>2</td>\n",
       "      <td>0.33</td>\n",
       "      <td>Resonance</td>\n",
       "      <td>TextOnly</td>\n",
       "      <td>0.33</td>\n",
       "      <td>nan</td>\n",
       "      <td>10.0</td>\n",
       "      <td>0.0</td>\n",
       "      <td>Somewhat beneficial.</td>\n",
       "      <td>Enjoyed it very much.</td>\n",
       "      <td>True</td>\n",
       "    </tr>\n",
       "    <tr>\n",
       "      <th>24</th>\n",
       "      <td>103819</td>\n",
       "      <td>1</td>\n",
       "      <td>0.0</td>\n",
       "      <td>Blackbody</td>\n",
       "      <td>PhetThenText</td>\n",
       "      <td>1.0</td>\n",
       "      <td>0.67</td>\n",
       "      <td>nan</td>\n",
       "      <td>nan</td>\n",
       "      <td>nan</td>\n",
       "      <td>nan</td>\n",
       "      <td>nan</td>\n",
       "    </tr>\n",
       "    <tr>\n",
       "      <th>25</th>\n",
       "      <td>103819</td>\n",
       "      <td>1</td>\n",
       "      <td>0.0</td>\n",
       "      <td>Masses</td>\n",
       "      <td>TextOnly</td>\n",
       "      <td>0.0</td>\n",
       "      <td>0.75</td>\n",
       "      <td>30.0</td>\n",
       "      <td>0.0</td>\n",
       "      <td>Not very beneficial.</td>\n",
       "      <td>Did not enjoy it very much.</td>\n",
       "      <td>False</td>\n",
       "    </tr>\n",
       "    <tr>\n",
       "      <th>26</th>\n",
       "      <td>103819</td>\n",
       "      <td>1</td>\n",
       "      <td>0.0</td>\n",
       "      <td>Resonance</td>\n",
       "      <td>TextThenPhet</td>\n",
       "      <td>0.67</td>\n",
       "      <td>0.0</td>\n",
       "      <td>25.0</td>\n",
       "      <td>6.0</td>\n",
       "      <td>Somewhat beneficial.</td>\n",
       "      <td>Did not enjoy it very much.</td>\n",
       "      <td>False</td>\n",
       "    </tr>\n",
       "    <tr>\n",
       "      <th>27</th>\n",
       "      <td>154711</td>\n",
       "      <td>3</td>\n",
       "      <td>0.67</td>\n",
       "      <td>Blackbody</td>\n",
       "      <td>TextOnly</td>\n",
       "      <td>0.33</td>\n",
       "      <td>1.0</td>\n",
       "      <td>nan</td>\n",
       "      <td>nan</td>\n",
       "      <td>nan</td>\n",
       "      <td>nan</td>\n",
       "      <td>nan</td>\n",
       "    </tr>\n",
       "    <tr>\n",
       "      <th>28</th>\n",
       "      <td>154711</td>\n",
       "      <td>3</td>\n",
       "      <td>0.5</td>\n",
       "      <td>Masses</td>\n",
       "      <td>TextThenPhet</td>\n",
       "      <td>1.0</td>\n",
       "      <td>nan</td>\n",
       "      <td>30.0</td>\n",
       "      <td>2.0</td>\n",
       "      <td>Somewhat beneficial.</td>\n",
       "      <td>Did not enjoy it very much.</td>\n",
       "      <td>True</td>\n",
       "    </tr>\n",
       "    <tr>\n",
       "      <th>29</th>\n",
       "      <td>154711</td>\n",
       "      <td>3</td>\n",
       "      <td>0.33</td>\n",
       "      <td>Resonance</td>\n",
       "      <td>PhetThenText</td>\n",
       "      <td>nan</td>\n",
       "      <td>0.67</td>\n",
       "      <td>nan</td>\n",
       "      <td>nan</td>\n",
       "      <td>nan</td>\n",
       "      <td>nan</td>\n",
       "      <td>nan</td>\n",
       "    </tr>\n",
       "    <tr>\n",
       "      <th>...</th>\n",
       "      <td>...</td>\n",
       "      <td>...</td>\n",
       "      <td>...</td>\n",
       "      <td>...</td>\n",
       "      <td>...</td>\n",
       "      <td>...</td>\n",
       "      <td>...</td>\n",
       "      <td>...</td>\n",
       "      <td>...</td>\n",
       "      <td>...</td>\n",
       "      <td>...</td>\n",
       "      <td>...</td>\n",
       "    </tr>\n",
       "    <tr>\n",
       "      <th>1503</th>\n",
       "      <td>9719133</td>\n",
       "      <td>3</td>\n",
       "      <td>0.33</td>\n",
       "      <td>Blackbody</td>\n",
       "      <td>TextOnly</td>\n",
       "      <td>0.33</td>\n",
       "      <td>0.67</td>\n",
       "      <td>nan</td>\n",
       "      <td>nan</td>\n",
       "      <td>nan</td>\n",
       "      <td>nan</td>\n",
       "      <td>nan</td>\n",
       "    </tr>\n",
       "    <tr>\n",
       "      <th>1504</th>\n",
       "      <td>9719133</td>\n",
       "      <td>3</td>\n",
       "      <td>0.0</td>\n",
       "      <td>Masses</td>\n",
       "      <td>TextThenPhet</td>\n",
       "      <td>0.0</td>\n",
       "      <td>0.25</td>\n",
       "      <td>30.0</td>\n",
       "      <td>10.0</td>\n",
       "      <td>Very beneficial.</td>\n",
       "      <td>Somewhat enjoyed it.</td>\n",
       "      <td>False</td>\n",
       "    </tr>\n",
       "    <tr>\n",
       "      <th>1505</th>\n",
       "      <td>9719133</td>\n",
       "      <td>3</td>\n",
       "      <td>0.33</td>\n",
       "      <td>Resonance</td>\n",
       "      <td>PhetThenText</td>\n",
       "      <td>0.67</td>\n",
       "      <td>0.0</td>\n",
       "      <td>25.0</td>\n",
       "      <td>4.0</td>\n",
       "      <td>Not very beneficial.</td>\n",
       "      <td>Did not enjoy it very much.</td>\n",
       "      <td>False</td>\n",
       "    </tr>\n",
       "    <tr>\n",
       "      <th>1506</th>\n",
       "      <td>9721682</td>\n",
       "      <td>2</td>\n",
       "      <td>0.0</td>\n",
       "      <td>Blackbody</td>\n",
       "      <td>TextThenPhet</td>\n",
       "      <td>0.67</td>\n",
       "      <td>0.67</td>\n",
       "      <td>nan</td>\n",
       "      <td>nan</td>\n",
       "      <td>nan</td>\n",
       "      <td>nan</td>\n",
       "      <td>nan</td>\n",
       "    </tr>\n",
       "    <tr>\n",
       "      <th>1507</th>\n",
       "      <td>9721682</td>\n",
       "      <td>2</td>\n",
       "      <td>0.0</td>\n",
       "      <td>Masses</td>\n",
       "      <td>PhetThenText</td>\n",
       "      <td>0.0</td>\n",
       "      <td>0.25</td>\n",
       "      <td>nan</td>\n",
       "      <td>2.0</td>\n",
       "      <td>Somewhat beneficial.</td>\n",
       "      <td>Did not enjoy it very much.</td>\n",
       "      <td>True</td>\n",
       "    </tr>\n",
       "    <tr>\n",
       "      <th>1508</th>\n",
       "      <td>9721682</td>\n",
       "      <td>2</td>\n",
       "      <td>0.0</td>\n",
       "      <td>Resonance</td>\n",
       "      <td>TextOnly</td>\n",
       "      <td>0.0</td>\n",
       "      <td>nan</td>\n",
       "      <td>40.0</td>\n",
       "      <td>0.0</td>\n",
       "      <td>Somewhat beneficial.</td>\n",
       "      <td>Did not enjoy it very much.</td>\n",
       "      <td>False</td>\n",
       "    </tr>\n",
       "    <tr>\n",
       "      <th>1509</th>\n",
       "      <td>9763875</td>\n",
       "      <td>3</td>\n",
       "      <td>1.0</td>\n",
       "      <td>Blackbody</td>\n",
       "      <td>TextOnly</td>\n",
       "      <td>0.67</td>\n",
       "      <td>1.0</td>\n",
       "      <td>nan</td>\n",
       "      <td>nan</td>\n",
       "      <td>nan</td>\n",
       "      <td>nan</td>\n",
       "      <td>nan</td>\n",
       "    </tr>\n",
       "    <tr>\n",
       "      <th>1510</th>\n",
       "      <td>9763875</td>\n",
       "      <td>3</td>\n",
       "      <td>0.0</td>\n",
       "      <td>Masses</td>\n",
       "      <td>TextThenPhet</td>\n",
       "      <td>0.5</td>\n",
       "      <td>1.0</td>\n",
       "      <td>60.0</td>\n",
       "      <td>15.0</td>\n",
       "      <td>Somewhat beneficial.</td>\n",
       "      <td>Somewhat enjoyed it.</td>\n",
       "      <td>True</td>\n",
       "    </tr>\n",
       "    <tr>\n",
       "      <th>1511</th>\n",
       "      <td>9763875</td>\n",
       "      <td>3</td>\n",
       "      <td>0.0</td>\n",
       "      <td>Resonance</td>\n",
       "      <td>PhetThenText</td>\n",
       "      <td>0.33</td>\n",
       "      <td>0.33</td>\n",
       "      <td>40.0</td>\n",
       "      <td>5.0</td>\n",
       "      <td>Not very beneficial.</td>\n",
       "      <td>Somewhat enjoyed it.</td>\n",
       "      <td>False</td>\n",
       "    </tr>\n",
       "    <tr>\n",
       "      <th>1512</th>\n",
       "      <td>9773997</td>\n",
       "      <td>2</td>\n",
       "      <td>0.0</td>\n",
       "      <td>Blackbody</td>\n",
       "      <td>TextThenPhet</td>\n",
       "      <td>0.67</td>\n",
       "      <td>0.67</td>\n",
       "      <td>nan</td>\n",
       "      <td>nan</td>\n",
       "      <td>nan</td>\n",
       "      <td>nan</td>\n",
       "      <td>nan</td>\n",
       "    </tr>\n",
       "    <tr>\n",
       "      <th>1513</th>\n",
       "      <td>9773997</td>\n",
       "      <td>2</td>\n",
       "      <td>0.5</td>\n",
       "      <td>Masses</td>\n",
       "      <td>PhetThenText</td>\n",
       "      <td>0.5</td>\n",
       "      <td>1.0</td>\n",
       "      <td>30.0</td>\n",
       "      <td>15.0</td>\n",
       "      <td>Somewhat beneficial.</td>\n",
       "      <td>Somewhat enjoyed it.</td>\n",
       "      <td>False</td>\n",
       "    </tr>\n",
       "    <tr>\n",
       "      <th>1514</th>\n",
       "      <td>9773997</td>\n",
       "      <td>2</td>\n",
       "      <td>0.67</td>\n",
       "      <td>Resonance</td>\n",
       "      <td>nan</td>\n",
       "      <td>nan</td>\n",
       "      <td>nan</td>\n",
       "      <td>nan</td>\n",
       "      <td>nan</td>\n",
       "      <td>nan</td>\n",
       "      <td>nan</td>\n",
       "      <td>nan</td>\n",
       "    </tr>\n",
       "    <tr>\n",
       "      <th>1515</th>\n",
       "      <td>9806099</td>\n",
       "      <td>2</td>\n",
       "      <td>0.33</td>\n",
       "      <td>Blackbody</td>\n",
       "      <td>TextThenPhet</td>\n",
       "      <td>0.0</td>\n",
       "      <td>0.33</td>\n",
       "      <td>nan</td>\n",
       "      <td>nan</td>\n",
       "      <td>nan</td>\n",
       "      <td>nan</td>\n",
       "      <td>nan</td>\n",
       "    </tr>\n",
       "    <tr>\n",
       "      <th>1516</th>\n",
       "      <td>9806099</td>\n",
       "      <td>2</td>\n",
       "      <td>0.5</td>\n",
       "      <td>Masses</td>\n",
       "      <td>PhetThenText</td>\n",
       "      <td>0.0</td>\n",
       "      <td>1.0</td>\n",
       "      <td>15.0</td>\n",
       "      <td>5.0</td>\n",
       "      <td>Not very beneficial.</td>\n",
       "      <td>Somewhat enjoyed it.</td>\n",
       "      <td>True</td>\n",
       "    </tr>\n",
       "    <tr>\n",
       "      <th>1517</th>\n",
       "      <td>9806099</td>\n",
       "      <td>2</td>\n",
       "      <td>0.67</td>\n",
       "      <td>Resonance</td>\n",
       "      <td>nan</td>\n",
       "      <td>nan</td>\n",
       "      <td>0.33</td>\n",
       "      <td>nan</td>\n",
       "      <td>nan</td>\n",
       "      <td>nan</td>\n",
       "      <td>nan</td>\n",
       "      <td>nan</td>\n",
       "    </tr>\n",
       "    <tr>\n",
       "      <th>1518</th>\n",
       "      <td>9907670</td>\n",
       "      <td>2</td>\n",
       "      <td>0.33</td>\n",
       "      <td>Blackbody</td>\n",
       "      <td>TextThenPhet</td>\n",
       "      <td>0.33</td>\n",
       "      <td>0.67</td>\n",
       "      <td>nan</td>\n",
       "      <td>nan</td>\n",
       "      <td>nan</td>\n",
       "      <td>nan</td>\n",
       "      <td>nan</td>\n",
       "    </tr>\n",
       "    <tr>\n",
       "      <th>1519</th>\n",
       "      <td>9907670</td>\n",
       "      <td>2</td>\n",
       "      <td>0.0</td>\n",
       "      <td>Masses</td>\n",
       "      <td>PhetThenText</td>\n",
       "      <td>1.0</td>\n",
       "      <td>1.0</td>\n",
       "      <td>30.0</td>\n",
       "      <td>10.0</td>\n",
       "      <td>Very beneficial.</td>\n",
       "      <td>Somewhat enjoyed it.</td>\n",
       "      <td>False</td>\n",
       "    </tr>\n",
       "    <tr>\n",
       "      <th>1520</th>\n",
       "      <td>9907670</td>\n",
       "      <td>2</td>\n",
       "      <td>0.0</td>\n",
       "      <td>Resonance</td>\n",
       "      <td>TextOnly</td>\n",
       "      <td>0.67</td>\n",
       "      <td>0.33</td>\n",
       "      <td>20.0</td>\n",
       "      <td>0.0</td>\n",
       "      <td>Very beneficial.</td>\n",
       "      <td>Enjoyed it very much.</td>\n",
       "      <td>False</td>\n",
       "    </tr>\n",
       "    <tr>\n",
       "      <th>1521</th>\n",
       "      <td>9929390</td>\n",
       "      <td>2</td>\n",
       "      <td>0.0</td>\n",
       "      <td>Blackbody</td>\n",
       "      <td>TextThenPhet</td>\n",
       "      <td>0.33</td>\n",
       "      <td>0.33</td>\n",
       "      <td>nan</td>\n",
       "      <td>nan</td>\n",
       "      <td>nan</td>\n",
       "      <td>nan</td>\n",
       "      <td>nan</td>\n",
       "    </tr>\n",
       "    <tr>\n",
       "      <th>1522</th>\n",
       "      <td>9929390</td>\n",
       "      <td>2</td>\n",
       "      <td>0.0</td>\n",
       "      <td>Masses</td>\n",
       "      <td>PhetThenText</td>\n",
       "      <td>0.5</td>\n",
       "      <td>1.0</td>\n",
       "      <td>50.0</td>\n",
       "      <td>7.0</td>\n",
       "      <td>Not very beneficial.</td>\n",
       "      <td>Somewhat enjoyed it.</td>\n",
       "      <td>True</td>\n",
       "    </tr>\n",
       "    <tr>\n",
       "      <th>1523</th>\n",
       "      <td>9929390</td>\n",
       "      <td>2</td>\n",
       "      <td>0.33</td>\n",
       "      <td>Resonance</td>\n",
       "      <td>TextOnly</td>\n",
       "      <td>0.33</td>\n",
       "      <td>0.67</td>\n",
       "      <td>20.0</td>\n",
       "      <td>0.0</td>\n",
       "      <td>Somewhat beneficial.</td>\n",
       "      <td>Somewhat enjoyed it.</td>\n",
       "      <td>True</td>\n",
       "    </tr>\n",
       "    <tr>\n",
       "      <th>1524</th>\n",
       "      <td>9963274</td>\n",
       "      <td>1</td>\n",
       "      <td>nan</td>\n",
       "      <td>Blackbody</td>\n",
       "      <td>PhetThenText</td>\n",
       "      <td>1.0</td>\n",
       "      <td>1.0</td>\n",
       "      <td>nan</td>\n",
       "      <td>nan</td>\n",
       "      <td>nan</td>\n",
       "      <td>nan</td>\n",
       "      <td>nan</td>\n",
       "    </tr>\n",
       "    <tr>\n",
       "      <th>1525</th>\n",
       "      <td>9963274</td>\n",
       "      <td>1</td>\n",
       "      <td>nan</td>\n",
       "      <td>Masses</td>\n",
       "      <td>TextOnly</td>\n",
       "      <td>0.0</td>\n",
       "      <td>1.0</td>\n",
       "      <td>40.0</td>\n",
       "      <td>0.0</td>\n",
       "      <td>Somewhat beneficial.</td>\n",
       "      <td>Somewhat enjoyed it.</td>\n",
       "      <td>False</td>\n",
       "    </tr>\n",
       "    <tr>\n",
       "      <th>1526</th>\n",
       "      <td>9963274</td>\n",
       "      <td>1</td>\n",
       "      <td>nan</td>\n",
       "      <td>Resonance</td>\n",
       "      <td>TextThenPhet</td>\n",
       "      <td>0.33</td>\n",
       "      <td>0.33</td>\n",
       "      <td>45.0</td>\n",
       "      <td>10.0</td>\n",
       "      <td>Somewhat beneficial.</td>\n",
       "      <td>Somewhat enjoyed it.</td>\n",
       "      <td>False</td>\n",
       "    </tr>\n",
       "    <tr>\n",
       "      <th>1527</th>\n",
       "      <td>9969236</td>\n",
       "      <td>3</td>\n",
       "      <td>0.33</td>\n",
       "      <td>Blackbody</td>\n",
       "      <td>TextOnly</td>\n",
       "      <td>nan</td>\n",
       "      <td>0.67</td>\n",
       "      <td>nan</td>\n",
       "      <td>nan</td>\n",
       "      <td>nan</td>\n",
       "      <td>nan</td>\n",
       "      <td>nan</td>\n",
       "    </tr>\n",
       "    <tr>\n",
       "      <th>1528</th>\n",
       "      <td>9969236</td>\n",
       "      <td>3</td>\n",
       "      <td>0.0</td>\n",
       "      <td>Masses</td>\n",
       "      <td>TextThenPhet</td>\n",
       "      <td>0.0</td>\n",
       "      <td>0.5</td>\n",
       "      <td>15.0</td>\n",
       "      <td>8.0</td>\n",
       "      <td>Somewhat beneficial.</td>\n",
       "      <td>Somewhat enjoyed it.</td>\n",
       "      <td>True</td>\n",
       "    </tr>\n",
       "    <tr>\n",
       "      <th>1529</th>\n",
       "      <td>9969236</td>\n",
       "      <td>3</td>\n",
       "      <td>0.0</td>\n",
       "      <td>Resonance</td>\n",
       "      <td>PhetThenText</td>\n",
       "      <td>0.0</td>\n",
       "      <td>0.67</td>\n",
       "      <td>5.0</td>\n",
       "      <td>5.0</td>\n",
       "      <td>Somewhat beneficial.</td>\n",
       "      <td>Somewhat enjoyed it.</td>\n",
       "      <td>False</td>\n",
       "    </tr>\n",
       "    <tr>\n",
       "      <th>1530</th>\n",
       "      <td>9982082</td>\n",
       "      <td>1</td>\n",
       "      <td>nan</td>\n",
       "      <td>Blackbody</td>\n",
       "      <td>PhetThenText</td>\n",
       "      <td>0.33</td>\n",
       "      <td>1.0</td>\n",
       "      <td>nan</td>\n",
       "      <td>nan</td>\n",
       "      <td>nan</td>\n",
       "      <td>nan</td>\n",
       "      <td>nan</td>\n",
       "    </tr>\n",
       "    <tr>\n",
       "      <th>1531</th>\n",
       "      <td>9982082</td>\n",
       "      <td>1</td>\n",
       "      <td>nan</td>\n",
       "      <td>Masses</td>\n",
       "      <td>TextOnly</td>\n",
       "      <td>1.0</td>\n",
       "      <td>0.75</td>\n",
       "      <td>20.0</td>\n",
       "      <td>0.0</td>\n",
       "      <td>Somewhat beneficial.</td>\n",
       "      <td>Somewhat enjoyed it.</td>\n",
       "      <td>True</td>\n",
       "    </tr>\n",
       "    <tr>\n",
       "      <th>1532</th>\n",
       "      <td>9982082</td>\n",
       "      <td>1</td>\n",
       "      <td>nan</td>\n",
       "      <td>Resonance</td>\n",
       "      <td>TextThenPhet</td>\n",
       "      <td>0.33</td>\n",
       "      <td>0.33</td>\n",
       "      <td>20.0</td>\n",
       "      <td>5.0</td>\n",
       "      <td>Somewhat beneficial.</td>\n",
       "      <td>Did not enjoy it very much.</td>\n",
       "      <td>True</td>\n",
       "    </tr>\n",
       "  </tbody>\n",
       "</table>\n",
       "<p>1533 rows × 12 columns</p>\n",
       "</div>"
      ],
      "text/plain": [
       "     student id Reading group Prescore      Topic     Treatment Postscore  \\\n",
       "0          5963             3      nan  Blackbody      TextOnly       1.0   \n",
       "1          5963             3      nan     Masses  TextThenPhet       1.0   \n",
       "2          5963             3      nan  Resonance  PhetThenText      0.67   \n",
       "3         25630             1     0.33  Blackbody  PhetThenText      0.67   \n",
       "4         25630             1      0.0     Masses      TextOnly       0.0   \n",
       "5         25630             1      1.0  Resonance  TextThenPhet      0.67   \n",
       "6         41441             1     0.67  Blackbody  PhetThenText      0.67   \n",
       "7         41441             1      0.0     Masses      TextOnly       0.0   \n",
       "8         41441             1     0.67  Resonance  TextThenPhet      0.33   \n",
       "9         51900             1     0.33  Blackbody  PhetThenText       1.0   \n",
       "10        51900             1      0.0     Masses      TextOnly       0.5   \n",
       "11        51900             1     0.33  Resonance           nan       nan   \n",
       "12        55238             1      1.0  Blackbody  PhetThenText       1.0   \n",
       "13        55238             1      0.5     Masses      TextOnly       0.5   \n",
       "14        55238             1      1.0  Resonance           nan       nan   \n",
       "15        59198             2     0.33  Blackbody  TextThenPhet      0.67   \n",
       "16        59198             2      0.0     Masses  PhetThenText       0.0   \n",
       "17        59198             2      0.0  Resonance      TextOnly      0.33   \n",
       "18        62422             3      nan  Blackbody      TextOnly      0.67   \n",
       "19        62422             3      nan     Masses  TextThenPhet       1.0   \n",
       "20        62422             3      nan  Resonance  PhetThenText      0.67   \n",
       "21        92545             2     0.33  Blackbody  TextThenPhet       1.0   \n",
       "22        92545             2      0.0     Masses           nan       nan   \n",
       "23        92545             2     0.33  Resonance      TextOnly      0.33   \n",
       "24       103819             1      0.0  Blackbody  PhetThenText       1.0   \n",
       "25       103819             1      0.0     Masses      TextOnly       0.0   \n",
       "26       103819             1      0.0  Resonance  TextThenPhet      0.67   \n",
       "27       154711             3     0.67  Blackbody      TextOnly      0.33   \n",
       "28       154711             3      0.5     Masses  TextThenPhet       1.0   \n",
       "29       154711             3     0.33  Resonance  PhetThenText       nan   \n",
       "...         ...           ...      ...        ...           ...       ...   \n",
       "1503    9719133             3     0.33  Blackbody      TextOnly      0.33   \n",
       "1504    9719133             3      0.0     Masses  TextThenPhet       0.0   \n",
       "1505    9719133             3     0.33  Resonance  PhetThenText      0.67   \n",
       "1506    9721682             2      0.0  Blackbody  TextThenPhet      0.67   \n",
       "1507    9721682             2      0.0     Masses  PhetThenText       0.0   \n",
       "1508    9721682             2      0.0  Resonance      TextOnly       0.0   \n",
       "1509    9763875             3      1.0  Blackbody      TextOnly      0.67   \n",
       "1510    9763875             3      0.0     Masses  TextThenPhet       0.5   \n",
       "1511    9763875             3      0.0  Resonance  PhetThenText      0.33   \n",
       "1512    9773997             2      0.0  Blackbody  TextThenPhet      0.67   \n",
       "1513    9773997             2      0.5     Masses  PhetThenText       0.5   \n",
       "1514    9773997             2     0.67  Resonance           nan       nan   \n",
       "1515    9806099             2     0.33  Blackbody  TextThenPhet       0.0   \n",
       "1516    9806099             2      0.5     Masses  PhetThenText       0.0   \n",
       "1517    9806099             2     0.67  Resonance           nan       nan   \n",
       "1518    9907670             2     0.33  Blackbody  TextThenPhet      0.33   \n",
       "1519    9907670             2      0.0     Masses  PhetThenText       1.0   \n",
       "1520    9907670             2      0.0  Resonance      TextOnly      0.67   \n",
       "1521    9929390             2      0.0  Blackbody  TextThenPhet      0.33   \n",
       "1522    9929390             2      0.0     Masses  PhetThenText       0.5   \n",
       "1523    9929390             2     0.33  Resonance      TextOnly      0.33   \n",
       "1524    9963274             1      nan  Blackbody  PhetThenText       1.0   \n",
       "1525    9963274             1      nan     Masses      TextOnly       0.0   \n",
       "1526    9963274             1      nan  Resonance  TextThenPhet      0.33   \n",
       "1527    9969236             3     0.33  Blackbody      TextOnly       nan   \n",
       "1528    9969236             3      0.0     Masses  TextThenPhet       0.0   \n",
       "1529    9969236             3      0.0  Resonance  PhetThenText       0.0   \n",
       "1530    9982082             1      nan  Blackbody  PhetThenText      0.33   \n",
       "1531    9982082             1      nan     Masses      TextOnly       1.0   \n",
       "1532    9982082             1      nan  Resonance  TextThenPhet      0.33   \n",
       "\n",
       "     Clickerscore Time on text Time on PhET Postattitude - benefitted  \\\n",
       "0            0.67          nan          nan                       nan   \n",
       "1             1.0         25.0          7.0      Somewhat beneficial.   \n",
       "2            0.33         20.0          6.0      Not very beneficial.   \n",
       "3            0.67          nan          nan                       nan   \n",
       "4            0.75         20.0          0.0      Somewhat beneficial.   \n",
       "5             0.0         20.0         10.0      Somewhat beneficial.   \n",
       "6            0.67          nan          nan                       nan   \n",
       "7            0.75         30.0          0.0      Not very beneficial.   \n",
       "8             0.0         15.0          8.0      Somewhat beneficial.   \n",
       "9            0.67          nan          nan                       nan   \n",
       "10           0.75         20.0          0.0          Very beneficial.   \n",
       "11            nan          nan          nan                       nan   \n",
       "12            1.0          nan          nan                       nan   \n",
       "13            1.0         30.0          0.0          Very beneficial.   \n",
       "14           0.33          nan          nan                       nan   \n",
       "15           0.67          nan          nan                       nan   \n",
       "16           0.75        120.0          8.0      Somewhat beneficial.   \n",
       "17           0.33         40.0          0.0      Somewhat beneficial.   \n",
       "18            nan          nan          nan                       nan   \n",
       "19            0.5         10.0         10.0      Somewhat beneficial.   \n",
       "20           0.67         10.0         20.0      Somewhat beneficial.   \n",
       "21           0.33          nan          nan                       nan   \n",
       "22            nan          nan          nan                       nan   \n",
       "23            nan         10.0          0.0      Somewhat beneficial.   \n",
       "24           0.67          nan          nan                       nan   \n",
       "25           0.75         30.0          0.0      Not very beneficial.   \n",
       "26            0.0         25.0          6.0      Somewhat beneficial.   \n",
       "27            1.0          nan          nan                       nan   \n",
       "28            nan         30.0          2.0      Somewhat beneficial.   \n",
       "29           0.67          nan          nan                       nan   \n",
       "...           ...          ...          ...                       ...   \n",
       "1503         0.67          nan          nan                       nan   \n",
       "1504         0.25         30.0         10.0          Very beneficial.   \n",
       "1505          0.0         25.0          4.0      Not very beneficial.   \n",
       "1506         0.67          nan          nan                       nan   \n",
       "1507         0.25          nan          2.0      Somewhat beneficial.   \n",
       "1508          nan         40.0          0.0      Somewhat beneficial.   \n",
       "1509          1.0          nan          nan                       nan   \n",
       "1510          1.0         60.0         15.0      Somewhat beneficial.   \n",
       "1511         0.33         40.0          5.0      Not very beneficial.   \n",
       "1512         0.67          nan          nan                       nan   \n",
       "1513          1.0         30.0         15.0      Somewhat beneficial.   \n",
       "1514          nan          nan          nan                       nan   \n",
       "1515         0.33          nan          nan                       nan   \n",
       "1516          1.0         15.0          5.0      Not very beneficial.   \n",
       "1517         0.33          nan          nan                       nan   \n",
       "1518         0.67          nan          nan                       nan   \n",
       "1519          1.0         30.0         10.0          Very beneficial.   \n",
       "1520         0.33         20.0          0.0          Very beneficial.   \n",
       "1521         0.33          nan          nan                       nan   \n",
       "1522          1.0         50.0          7.0      Not very beneficial.   \n",
       "1523         0.67         20.0          0.0      Somewhat beneficial.   \n",
       "1524          1.0          nan          nan                       nan   \n",
       "1525          1.0         40.0          0.0      Somewhat beneficial.   \n",
       "1526         0.33         45.0         10.0      Somewhat beneficial.   \n",
       "1527         0.67          nan          nan                       nan   \n",
       "1528          0.5         15.0          8.0      Somewhat beneficial.   \n",
       "1529         0.67          5.0          5.0      Somewhat beneficial.   \n",
       "1530          1.0          nan          nan                       nan   \n",
       "1531         0.75         20.0          0.0      Somewhat beneficial.   \n",
       "1532         0.33         20.0          5.0      Somewhat beneficial.   \n",
       "\n",
       "           Postattitude - enjoyed Encountered  \n",
       "0                             nan         nan  \n",
       "1           Enjoyed it very much.        True  \n",
       "2            Somewhat enjoyed it.        True  \n",
       "3                             nan         nan  \n",
       "4            Somewhat enjoyed it.        True  \n",
       "5            Somewhat enjoyed it.        True  \n",
       "6                             nan         nan  \n",
       "7            Somewhat enjoyed it.       False  \n",
       "8            Somewhat enjoyed it.       False  \n",
       "9                             nan         nan  \n",
       "10          Enjoyed it very much.        True  \n",
       "11                            nan         nan  \n",
       "12                            nan         nan  \n",
       "13           Somewhat enjoyed it.       False  \n",
       "14                            nan         nan  \n",
       "15                            nan         nan  \n",
       "16           Somewhat enjoyed it.        True  \n",
       "17           Somewhat enjoyed it.        True  \n",
       "18                            nan         nan  \n",
       "19    Did not enjoy it very much.        True  \n",
       "20           Somewhat enjoyed it.        True  \n",
       "21                            nan         nan  \n",
       "22                            nan         nan  \n",
       "23          Enjoyed it very much.        True  \n",
       "24                            nan         nan  \n",
       "25    Did not enjoy it very much.       False  \n",
       "26    Did not enjoy it very much.       False  \n",
       "27                            nan         nan  \n",
       "28    Did not enjoy it very much.        True  \n",
       "29                            nan         nan  \n",
       "...                           ...         ...  \n",
       "1503                          nan         nan  \n",
       "1504         Somewhat enjoyed it.       False  \n",
       "1505  Did not enjoy it very much.       False  \n",
       "1506                          nan         nan  \n",
       "1507  Did not enjoy it very much.        True  \n",
       "1508  Did not enjoy it very much.       False  \n",
       "1509                          nan         nan  \n",
       "1510         Somewhat enjoyed it.        True  \n",
       "1511         Somewhat enjoyed it.       False  \n",
       "1512                          nan         nan  \n",
       "1513         Somewhat enjoyed it.       False  \n",
       "1514                          nan         nan  \n",
       "1515                          nan         nan  \n",
       "1516         Somewhat enjoyed it.        True  \n",
       "1517                          nan         nan  \n",
       "1518                          nan         nan  \n",
       "1519         Somewhat enjoyed it.       False  \n",
       "1520        Enjoyed it very much.       False  \n",
       "1521                          nan         nan  \n",
       "1522         Somewhat enjoyed it.        True  \n",
       "1523         Somewhat enjoyed it.        True  \n",
       "1524                          nan         nan  \n",
       "1525         Somewhat enjoyed it.       False  \n",
       "1526         Somewhat enjoyed it.       False  \n",
       "1527                          nan         nan  \n",
       "1528         Somewhat enjoyed it.        True  \n",
       "1529         Somewhat enjoyed it.       False  \n",
       "1530                          nan         nan  \n",
       "1531         Somewhat enjoyed it.        True  \n",
       "1532  Did not enjoy it very much.        True  \n",
       "\n",
       "[1533 rows x 12 columns]"
      ]
     },
     "execution_count": 5,
     "metadata": {},
     "output_type": "execute_result"
    }
   ],
   "source": [
    "df"
   ]
  },
  {
   "cell_type": "markdown",
   "metadata": {},
   "source": [
    "#### First we want to make sure that the columns containing numerical data are treated as such. Let's also collapse the post attitude columns"
   ]
  },
  {
   "cell_type": "code",
   "execution_count": 6,
   "metadata": {
    "collapsed": false
   },
   "outputs": [
    {
     "data": {
      "text/html": [
       "<div>\n",
       "<table border=\"1\" class=\"dataframe\">\n",
       "  <thead>\n",
       "    <tr style=\"text-align: right;\">\n",
       "      <th></th>\n",
       "      <th>student id</th>\n",
       "      <th>Reading group</th>\n",
       "      <th>Prescore</th>\n",
       "      <th>Topic</th>\n",
       "      <th>Treatment</th>\n",
       "      <th>Postscore</th>\n",
       "      <th>Clickerscore</th>\n",
       "      <th>Time on text</th>\n",
       "      <th>Time on PhET</th>\n",
       "      <th>Postattitude - benefitted</th>\n",
       "      <th>Postattitude - enjoyed</th>\n",
       "      <th>Encountered</th>\n",
       "      <th>Benefitted</th>\n",
       "      <th>Enjoyed</th>\n",
       "    </tr>\n",
       "  </thead>\n",
       "  <tbody>\n",
       "    <tr>\n",
       "      <th>0</th>\n",
       "      <td>5963</td>\n",
       "      <td>3</td>\n",
       "      <td>NaN</td>\n",
       "      <td>Blackbody</td>\n",
       "      <td>TextOnly</td>\n",
       "      <td>1.00</td>\n",
       "      <td>0.67</td>\n",
       "      <td>NaN</td>\n",
       "      <td>NaN</td>\n",
       "      <td>NaN</td>\n",
       "      <td>NaN</td>\n",
       "      <td>NaN</td>\n",
       "      <td>NaN</td>\n",
       "      <td>NaN</td>\n",
       "    </tr>\n",
       "    <tr>\n",
       "      <th>1</th>\n",
       "      <td>5963</td>\n",
       "      <td>3</td>\n",
       "      <td>NaN</td>\n",
       "      <td>Masses</td>\n",
       "      <td>TextThenPhet</td>\n",
       "      <td>1.00</td>\n",
       "      <td>1.00</td>\n",
       "      <td>25.0</td>\n",
       "      <td>7.0</td>\n",
       "      <td>Somewhat beneficial.</td>\n",
       "      <td>Enjoyed it very much.</td>\n",
       "      <td>True</td>\n",
       "      <td>True</td>\n",
       "      <td>True</td>\n",
       "    </tr>\n",
       "    <tr>\n",
       "      <th>2</th>\n",
       "      <td>5963</td>\n",
       "      <td>3</td>\n",
       "      <td>NaN</td>\n",
       "      <td>Resonance</td>\n",
       "      <td>PhetThenText</td>\n",
       "      <td>0.67</td>\n",
       "      <td>0.33</td>\n",
       "      <td>20.0</td>\n",
       "      <td>6.0</td>\n",
       "      <td>Not very beneficial.</td>\n",
       "      <td>Somewhat enjoyed it.</td>\n",
       "      <td>True</td>\n",
       "      <td>False</td>\n",
       "      <td>True</td>\n",
       "    </tr>\n",
       "    <tr>\n",
       "      <th>3</th>\n",
       "      <td>25630</td>\n",
       "      <td>1</td>\n",
       "      <td>0.33</td>\n",
       "      <td>Blackbody</td>\n",
       "      <td>PhetThenText</td>\n",
       "      <td>0.67</td>\n",
       "      <td>0.67</td>\n",
       "      <td>NaN</td>\n",
       "      <td>NaN</td>\n",
       "      <td>NaN</td>\n",
       "      <td>NaN</td>\n",
       "      <td>NaN</td>\n",
       "      <td>NaN</td>\n",
       "      <td>NaN</td>\n",
       "    </tr>\n",
       "    <tr>\n",
       "      <th>4</th>\n",
       "      <td>25630</td>\n",
       "      <td>1</td>\n",
       "      <td>0.00</td>\n",
       "      <td>Masses</td>\n",
       "      <td>TextOnly</td>\n",
       "      <td>0.00</td>\n",
       "      <td>0.75</td>\n",
       "      <td>20.0</td>\n",
       "      <td>0.0</td>\n",
       "      <td>Somewhat beneficial.</td>\n",
       "      <td>Somewhat enjoyed it.</td>\n",
       "      <td>True</td>\n",
       "      <td>True</td>\n",
       "      <td>True</td>\n",
       "    </tr>\n",
       "  </tbody>\n",
       "</table>\n",
       "</div>"
      ],
      "text/plain": [
       "  student id Reading group  Prescore      Topic     Treatment  Postscore  \\\n",
       "0       5963             3       NaN  Blackbody      TextOnly       1.00   \n",
       "1       5963             3       NaN     Masses  TextThenPhet       1.00   \n",
       "2       5963             3       NaN  Resonance  PhetThenText       0.67   \n",
       "3      25630             1      0.33  Blackbody  PhetThenText       0.67   \n",
       "4      25630             1      0.00     Masses      TextOnly       0.00   \n",
       "\n",
       "   Clickerscore  Time on text  Time on PhET Postattitude - benefitted  \\\n",
       "0          0.67           NaN           NaN                       NaN   \n",
       "1          1.00          25.0           7.0      Somewhat beneficial.   \n",
       "2          0.33          20.0           6.0      Not very beneficial.   \n",
       "3          0.67           NaN           NaN                       NaN   \n",
       "4          0.75          20.0           0.0      Somewhat beneficial.   \n",
       "\n",
       "  Postattitude - enjoyed Encountered Benefitted Enjoyed  \n",
       "0                    NaN         NaN        NaN     NaN  \n",
       "1  Enjoyed it very much.        True       True    True  \n",
       "2   Somewhat enjoyed it.        True      False    True  \n",
       "3                    NaN         NaN        NaN     NaN  \n",
       "4   Somewhat enjoyed it.        True       True    True  "
      ]
     },
     "execution_count": 6,
     "metadata": {},
     "output_type": "execute_result"
    }
   ],
   "source": [
    "#converting columns to numerical types\n",
    "for column in ['Prescore','Postscore','Clickerscore', 'Time on text','Time on PhET']:\n",
    "    df[column] = pd.to_numeric(df[column],errors='coerce')\n",
    "df = df.fillna(np.nan)\n",
    "df = df.replace(to_replace='nan',value=np.nan)\n",
    "\n",
    "def transform_enjoy(response):\n",
    "    response = str(response)\n",
    "    if 'No' in response or 'not' in response:\n",
    "        return False\n",
    "    elif 'enjoy' in response or 'Enjoy' in response: \n",
    "        return True\n",
    "    else: return np.nan\n",
    "    \n",
    "def transform_benefit(response):\n",
    "    response = str(response)\n",
    "    if 'Not' in response:\n",
    "        return False\n",
    "    elif 'beneficial' in response: \n",
    "        return True\n",
    "    else: return np.nan\n",
    "    \n",
    "df['Benefitted'] = df['Postattitude - benefitted'].apply(transform_benefit)\n",
    "df['Enjoyed'] = df['Postattitude - enjoyed'].apply(transform_enjoy)\n",
    "df.head()"
   ]
  },
  {
   "cell_type": "code",
   "execution_count": 7,
   "metadata": {
    "collapsed": false
   },
   "outputs": [
    {
     "data": {
      "text/html": [
       "<div>\n",
       "<table border=\"1\" class=\"dataframe\">\n",
       "  <thead>\n",
       "    <tr style=\"text-align: right;\">\n",
       "      <th></th>\n",
       "      <th>Topic</th>\n",
       "      <th>Blackbody</th>\n",
       "      <th>Masses</th>\n",
       "      <th>Resonance</th>\n",
       "    </tr>\n",
       "    <tr>\n",
       "      <th>Reading group</th>\n",
       "      <th>Treatment</th>\n",
       "      <th></th>\n",
       "      <th></th>\n",
       "      <th></th>\n",
       "    </tr>\n",
       "  </thead>\n",
       "  <tbody>\n",
       "    <tr>\n",
       "      <th rowspan=\"3\" valign=\"top\">1</th>\n",
       "      <th>PhetThenText</th>\n",
       "      <td>165.0</td>\n",
       "      <td>2.0</td>\n",
       "      <td>NaN</td>\n",
       "    </tr>\n",
       "    <tr>\n",
       "      <th>TextOnly</th>\n",
       "      <td>NaN</td>\n",
       "      <td>151.0</td>\n",
       "      <td>NaN</td>\n",
       "    </tr>\n",
       "    <tr>\n",
       "      <th>TextThenPhet</th>\n",
       "      <td>NaN</td>\n",
       "      <td>NaN</td>\n",
       "      <td>143.0</td>\n",
       "    </tr>\n",
       "    <tr>\n",
       "      <th rowspan=\"3\" valign=\"top\">2</th>\n",
       "      <th>PhetThenText</th>\n",
       "      <td>NaN</td>\n",
       "      <td>150.0</td>\n",
       "      <td>NaN</td>\n",
       "    </tr>\n",
       "    <tr>\n",
       "      <th>TextOnly</th>\n",
       "      <td>NaN</td>\n",
       "      <td>NaN</td>\n",
       "      <td>134.0</td>\n",
       "    </tr>\n",
       "    <tr>\n",
       "      <th>TextThenPhet</th>\n",
       "      <td>163.0</td>\n",
       "      <td>NaN</td>\n",
       "      <td>NaN</td>\n",
       "    </tr>\n",
       "    <tr>\n",
       "      <th rowspan=\"3\" valign=\"top\">3</th>\n",
       "      <th>PhetThenText</th>\n",
       "      <td>NaN</td>\n",
       "      <td>3.0</td>\n",
       "      <td>148.0</td>\n",
       "    </tr>\n",
       "    <tr>\n",
       "      <th>TextOnly</th>\n",
       "      <td>169.0</td>\n",
       "      <td>NaN</td>\n",
       "      <td>NaN</td>\n",
       "    </tr>\n",
       "    <tr>\n",
       "      <th>TextThenPhet</th>\n",
       "      <td>NaN</td>\n",
       "      <td>142.0</td>\n",
       "      <td>NaN</td>\n",
       "    </tr>\n",
       "  </tbody>\n",
       "</table>\n",
       "</div>"
      ],
      "text/plain": [
       "Topic                       Blackbody  Masses  Resonance\n",
       "Reading group Treatment                                 \n",
       "1             PhetThenText      165.0     2.0        NaN\n",
       "              TextOnly            NaN   151.0        NaN\n",
       "              TextThenPhet        NaN     NaN      143.0\n",
       "2             PhetThenText        NaN   150.0        NaN\n",
       "              TextOnly            NaN     NaN      134.0\n",
       "              TextThenPhet      163.0     NaN        NaN\n",
       "3             PhetThenText        NaN     3.0      148.0\n",
       "              TextOnly          169.0     NaN        NaN\n",
       "              TextThenPhet        NaN   142.0        NaN"
      ]
     },
     "execution_count": 7,
     "metadata": {},
     "output_type": "execute_result"
    }
   ],
   "source": [
    "df_copy = df.copy()\n",
    "df_copy['D'] = 1\n",
    "table = pd.pivot_table(df_copy, values='D', index=['Reading group', 'Treatment'],columns=['Topic'], aggfunc=np.sum)\n",
    "table"
   ]
  },
  {
   "cell_type": "markdown",
   "metadata": {},
   "source": [
    "#### Some students didn't do the assignment for the right topic/treatment so we eliminate them."
   ]
  },
  {
   "cell_type": "code",
   "execution_count": 8,
   "metadata": {
    "collapsed": false
   },
   "outputs": [
    {
     "data": {
      "text/html": [
       "<div>\n",
       "<table border=\"1\" class=\"dataframe\">\n",
       "  <thead>\n",
       "    <tr style=\"text-align: right;\">\n",
       "      <th></th>\n",
       "      <th>Topic</th>\n",
       "      <th>Blackbody</th>\n",
       "      <th>Masses</th>\n",
       "      <th>Resonance</th>\n",
       "    </tr>\n",
       "    <tr>\n",
       "      <th>Reading group</th>\n",
       "      <th>Treatment</th>\n",
       "      <th></th>\n",
       "      <th></th>\n",
       "      <th></th>\n",
       "    </tr>\n",
       "  </thead>\n",
       "  <tbody>\n",
       "    <tr>\n",
       "      <th rowspan=\"3\" valign=\"top\">1</th>\n",
       "      <th>PhetThenText</th>\n",
       "      <td>165.0</td>\n",
       "      <td>NaN</td>\n",
       "      <td>NaN</td>\n",
       "    </tr>\n",
       "    <tr>\n",
       "      <th>TextOnly</th>\n",
       "      <td>NaN</td>\n",
       "      <td>151.0</td>\n",
       "      <td>NaN</td>\n",
       "    </tr>\n",
       "    <tr>\n",
       "      <th>TextThenPhet</th>\n",
       "      <td>NaN</td>\n",
       "      <td>NaN</td>\n",
       "      <td>143.0</td>\n",
       "    </tr>\n",
       "    <tr>\n",
       "      <th rowspan=\"3\" valign=\"top\">2</th>\n",
       "      <th>PhetThenText</th>\n",
       "      <td>NaN</td>\n",
       "      <td>150.0</td>\n",
       "      <td>NaN</td>\n",
       "    </tr>\n",
       "    <tr>\n",
       "      <th>TextOnly</th>\n",
       "      <td>NaN</td>\n",
       "      <td>NaN</td>\n",
       "      <td>134.0</td>\n",
       "    </tr>\n",
       "    <tr>\n",
       "      <th>TextThenPhet</th>\n",
       "      <td>163.0</td>\n",
       "      <td>NaN</td>\n",
       "      <td>NaN</td>\n",
       "    </tr>\n",
       "    <tr>\n",
       "      <th rowspan=\"3\" valign=\"top\">3</th>\n",
       "      <th>PhetThenText</th>\n",
       "      <td>NaN</td>\n",
       "      <td>NaN</td>\n",
       "      <td>148.0</td>\n",
       "    </tr>\n",
       "    <tr>\n",
       "      <th>TextOnly</th>\n",
       "      <td>169.0</td>\n",
       "      <td>NaN</td>\n",
       "      <td>NaN</td>\n",
       "    </tr>\n",
       "    <tr>\n",
       "      <th>TextThenPhet</th>\n",
       "      <td>NaN</td>\n",
       "      <td>142.0</td>\n",
       "      <td>NaN</td>\n",
       "    </tr>\n",
       "  </tbody>\n",
       "</table>\n",
       "</div>"
      ],
      "text/plain": [
       "Topic                       Blackbody  Masses  Resonance\n",
       "Reading group Treatment                                 \n",
       "1             PhetThenText      165.0     NaN        NaN\n",
       "              TextOnly            NaN   151.0        NaN\n",
       "              TextThenPhet        NaN     NaN      143.0\n",
       "2             PhetThenText        NaN   150.0        NaN\n",
       "              TextOnly            NaN     NaN      134.0\n",
       "              TextThenPhet      163.0     NaN        NaN\n",
       "3             PhetThenText        NaN     NaN      148.0\n",
       "              TextOnly          169.0     NaN        NaN\n",
       "              TextThenPhet        NaN   142.0        NaN"
      ]
     },
     "execution_count": 8,
     "metadata": {},
     "output_type": "execute_result"
    }
   ],
   "source": [
    "df = df[(df['Reading group']!='3') | (df['Topic']!='Masses') | (df['Treatment']!='PhetThenText')]\n",
    "df = df[(df['Reading group']!='1') | (df['Topic']!='Masses') | (df['Treatment']!='PhetThenText')]\n",
    "df_copy = df.copy()\n",
    "df_copy['D'] = 1\n",
    "table = pd.pivot_table(df_copy, values='D', index=['Reading group', 'Treatment'],columns=['Topic'], aggfunc=np.sum)\n",
    "table"
   ]
  },
  {
   "cell_type": "code",
   "execution_count": 9,
   "metadata": {
    "collapsed": false
   },
   "outputs": [],
   "source": [
    "#exporting data\n",
    "df.to_csv(path_or_buf='C:\\Users\\\\'+getpass.getuser()+'\\Desktop\\Data_per_student_per_treatment_03062016.csv', sep=',',na_rep=\"NA\", header=True, index=False)"
   ]
  },
  {
   "cell_type": "markdown",
   "metadata": {},
   "source": [
    "#### Unfortunately we have a lot of rows with missing data. If we remove them, we end up with almost half the dataset. We will use two datasets for our analysis."
   ]
  },
  {
   "cell_type": "code",
   "execution_count": 10,
   "metadata": {
    "collapsed": false
   },
   "outputs": [
    {
     "data": {
      "text/plain": [
       "((660, 14), (1528, 14), (1061, 6), (815, 10))"
      ]
     },
     "execution_count": 10,
     "metadata": {},
     "output_type": "execute_result"
    }
   ],
   "source": [
    "df2 = df.dropna()\n",
    "df_score = df[['student id','Prescore','Postscore','Topic','Clickerscore','Treatment']].dropna()\n",
    "df_time = df[['student id','Time on PhET','Time on text','Topic','Treatment','Encountered','Postattitude - enjoyed','Postattitude - benefitted','Benefitted','Enjoyed']].dropna()\n",
    "df2.shape, df.shape, df_score.shape, df_time.shape"
   ]
  },
  {
   "cell_type": "code",
   "execution_count": 11,
   "metadata": {
    "collapsed": false
   },
   "outputs": [
    {
     "data": {
      "text/html": [
       "<div>\n",
       "<table border=\"1\" class=\"dataframe\">\n",
       "  <thead>\n",
       "    <tr style=\"text-align: right;\">\n",
       "      <th></th>\n",
       "      <th>Prescore</th>\n",
       "      <th>Postscore</th>\n",
       "      <th>Clickerscore</th>\n",
       "    </tr>\n",
       "  </thead>\n",
       "  <tbody>\n",
       "    <tr>\n",
       "      <th>count</th>\n",
       "      <td>1061.000000</td>\n",
       "      <td>1061.000000</td>\n",
       "      <td>1061.000000</td>\n",
       "    </tr>\n",
       "    <tr>\n",
       "      <th>mean</th>\n",
       "      <td>0.317992</td>\n",
       "      <td>0.468718</td>\n",
       "      <td>0.612026</td>\n",
       "    </tr>\n",
       "    <tr>\n",
       "      <th>std</th>\n",
       "      <td>0.306917</td>\n",
       "      <td>0.340695</td>\n",
       "      <td>0.308439</td>\n",
       "    </tr>\n",
       "    <tr>\n",
       "      <th>min</th>\n",
       "      <td>0.000000</td>\n",
       "      <td>0.000000</td>\n",
       "      <td>0.000000</td>\n",
       "    </tr>\n",
       "    <tr>\n",
       "      <th>25%</th>\n",
       "      <td>0.000000</td>\n",
       "      <td>0.330000</td>\n",
       "      <td>0.330000</td>\n",
       "    </tr>\n",
       "    <tr>\n",
       "      <th>50%</th>\n",
       "      <td>0.330000</td>\n",
       "      <td>0.500000</td>\n",
       "      <td>0.670000</td>\n",
       "    </tr>\n",
       "    <tr>\n",
       "      <th>75%</th>\n",
       "      <td>0.500000</td>\n",
       "      <td>0.670000</td>\n",
       "      <td>1.000000</td>\n",
       "    </tr>\n",
       "    <tr>\n",
       "      <th>max</th>\n",
       "      <td>1.000000</td>\n",
       "      <td>1.000000</td>\n",
       "      <td>1.000000</td>\n",
       "    </tr>\n",
       "  </tbody>\n",
       "</table>\n",
       "</div>"
      ],
      "text/plain": [
       "          Prescore    Postscore  Clickerscore\n",
       "count  1061.000000  1061.000000   1061.000000\n",
       "mean      0.317992     0.468718      0.612026\n",
       "std       0.306917     0.340695      0.308439\n",
       "min       0.000000     0.000000      0.000000\n",
       "25%       0.000000     0.330000      0.330000\n",
       "50%       0.330000     0.500000      0.670000\n",
       "75%       0.500000     0.670000      1.000000\n",
       "max       1.000000     1.000000      1.000000"
      ]
     },
     "execution_count": 11,
     "metadata": {},
     "output_type": "execute_result"
    }
   ],
   "source": [
    "df_score.describe()"
   ]
  },
  {
   "cell_type": "markdown",
   "metadata": {},
   "source": [
    "# Descriptors\n",
    "## Did the students learn?\n",
    "#### Let's get a sense of what the students were doing. First let's compare their pre and post scores. In these boxplots, means are in green and medians in red."
   ]
  },
  {
   "cell_type": "code",
   "execution_count": 12,
   "metadata": {
    "collapsed": false
   },
   "outputs": [
    {
     "data": {
      "text/plain": [
       "array([[<matplotlib.axes._subplots.AxesSubplot object at 0x000000000A937320>,\n",
       "        <matplotlib.axes._subplots.AxesSubplot object at 0x000000000A9A23C8>],\n",
       "       [<matplotlib.axes._subplots.AxesSubplot object at 0x000000000AA9FE10>,\n",
       "        <matplotlib.axes._subplots.AxesSubplot object at 0x000000000AA59B70>]], dtype=object)"
      ]
     },
     "execution_count": 12,
     "metadata": {},
     "output_type": "execute_result"
    },
    {
     "data": {
      "image/png": "[encoded data removed]",
      "text/plain": [
       "<matplotlib.figure.Figure at 0x9c90630>"
      ]
     },
     "metadata": {},
     "output_type": "display_data"
    },
    {
     "data": {
      "image/png": "[encoded data removed]",
      "text/plain": [
       "<matplotlib.figure.Figure at 0xa81ce48>"
      ]
     },
     "metadata": {},
     "output_type": "display_data"
    }
   ],
   "source": [
    "# df_score['diff'] = df['Prescore']-df['Postscore']\n",
    "# df_score.hist(column=['Prescore','Postscore','diff'],bins=5, layout=(1,3),figsize=(15,4),color='slateblue')\n",
    "# meanlineprops = dict(linestyle='-', linewidth=2, color='mediumseagreen')\n",
    "df_score.hist(column=['Prescore','Postscore','Clickerscore'],bins=7, layout=(1,3),figsize=(15,4),color='slateblue')\n",
    "meanlineprops = dict(linestyle='-', linewidth=2, color='mediumseagreen')\n",
    "df.boxplot(by='Topic',\n",
    "                column=['Prescore','Postscore','Clickerscore'],\n",
    "                figsize=(15,10),\n",
    "                meanprops=meanlineprops, meanline=True, showmeans=True)"
   ]
  },
  {
   "cell_type": "markdown",
   "metadata": {},
   "source": [
    "We can see from the histograms that we a wide spectrum of knowledge levels. The boxplots confirm that the student did indeed learn, as post-scores increased for all topics though in varying amounts per topic. We do a Mann-Whitney test (the equivalent a simple t-test for non normal data) to find out if the difference in score is significant."
   ]
  },
  {
   "cell_type": "code",
   "execution_count": 13,
   "metadata": {
    "collapsed": false
   },
   "outputs": [
    {
     "data": {
      "text/plain": [
       "(NormaltestResult(statistic=314.97366418270531, pvalue=4.0210349720812256e-69),\n",
       " NormaltestResult(statistic=94.588230987963385, pvalue=2.8868659256727557e-21))"
      ]
     },
     "execution_count": 13,
     "metadata": {},
     "output_type": "execute_result"
    }
   ],
   "source": [
    "#from http://stackoverflow.com/questions/12838993/scipy-normaltest-how-is-it-used\n",
    "scipy.stats.mstats.normaltest(df_score['Postscore']),scipy.stats.mstats.normaltest(df_score['Clickerscore'])"
   ]
  },
  {
   "cell_type": "markdown",
   "metadata": {},
   "source": [
    "#### Our postscore and clickerscore data is not normal!"
   ]
  },
  {
   "cell_type": "code",
   "execution_count": 14,
   "metadata": {
    "collapsed": false
   },
   "outputs": [
    {
     "name": "stdout",
     "output_type": "stream",
     "text": [
      "The significance of the post score difference is:\n",
      "WilcoxonResult(statistic=1645.0, pvalue=1.2352473059906735e-16) for Masses, \n",
      "WilcoxonResult(statistic=6157.5, pvalue=7.1031929202349846e-09) for Resonance, \n",
      "WilcoxonResult(statistic=6276.0, pvalue=8.2879438215317674e-10) for Blackbody\n"
     ]
    }
   ],
   "source": [
    "m = scipy.stats.wilcoxon(df_score[df_score['Topic']=='Masses']['Prescore'],df_score[df_score['Topic']=='Masses']['Postscore'])\n",
    "r = scipy.stats.wilcoxon(df_score[df_score['Topic']=='Resonance']['Prescore'],df_score[df_score['Topic']=='Resonance']['Postscore'])\n",
    "b = scipy.stats.wilcoxon(df_score[df_score['Topic']=='Blackbody']['Prescore'],df_score[df_score['Topic']=='Blackbody']['Postscore'])\n",
    "print(\"The significance of the post score difference is:\\n{0} for Masses, \\n{1} for Resonance, \\n{2} for Blackbody\".format(m,r,b))"
   ]
  },
  {
   "cell_type": "code",
   "execution_count": 15,
   "metadata": {
    "collapsed": false
   },
   "outputs": [
    {
     "name": "stdout",
     "output_type": "stream",
     "text": [
      "The effect size on the postscore is:\n",
      "0.300030483158 for Masses, \n",
      "0.219580383708 for Resonance, \n",
      "0.208075628906 for Blackbody\n"
     ]
    }
   ],
   "source": [
    "m = effect_size(df_score[df_score['Topic']=='Masses']['Prescore'],df_score[df_score['Topic']=='Masses']['Postscore'])\n",
    "r = effect_size(df_score[df_score['Topic']=='Resonance']['Prescore'],df_score[df_score['Topic']=='Resonance']['Postscore'])\n",
    "b = effect_size(df_score[df_score['Topic']=='Blackbody']['Prescore'],df_score[df_score['Topic']=='Blackbody']['Postscore'])\n",
    "print(\"The effect size on the postscore is:\\n{0} for Masses, \\n{1} for Resonance, \\n{2} for Blackbody\".format(m,r,b))"
   ]
  },
  {
   "cell_type": "code",
   "execution_count": 16,
   "metadata": {
    "collapsed": false
   },
   "outputs": [
    {
     "name": "stdout",
     "output_type": "stream",
     "text": [
      "The significance of the clickerscore difference is:\n",
      "WilcoxonResult(statistic=513.0, pvalue=3.1155163925668978e-48) for Masses, \n",
      "WilcoxonResult(statistic=8869.5, pvalue=0.00086276300276209275) for Resonance, \n",
      "WilcoxonResult(statistic=4634.5, pvalue=1.6308634531726238e-31) for Blackbody\n"
     ]
    }
   ],
   "source": [
    "m = scipy.stats.wilcoxon(df_score[df_score['Topic']=='Masses']['Prescore'],df_score[df_score['Topic']=='Masses']['Clickerscore'])\n",
    "r = scipy.stats.wilcoxon(df_score[df_score['Topic']=='Resonance']['Prescore'],df_score[df_score['Topic']=='Resonance']['Clickerscore'])\n",
    "b = scipy.stats.wilcoxon(df_score[df_score['Topic']=='Blackbody']['Prescore'],df_score[df_score['Topic']=='Blackbody']['Clickerscore'])\n",
    "print(\"The significance of the clickerscore difference is:\\n{0} for Masses, \\n{1} for Resonance, \\n{2} for Blackbody\".format(m,r,b))"
   ]
  },
  {
   "cell_type": "code",
   "execution_count": 17,
   "metadata": {
    "collapsed": false
   },
   "outputs": [
    {
     "name": "stdout",
     "output_type": "stream",
     "text": [
      "The effect size on the clickerscore is:\n",
      "0.791095107453 for Masses, \n",
      "0.139085530591 for Resonance, \n",
      "0.480288415318 for Blackbody\n"
     ]
    }
   ],
   "source": [
    "m = effect_size(df_score[df_score['Topic']=='Masses']['Prescore'],df_score[df_score['Topic']=='Masses']['Clickerscore'])\n",
    "r = effect_size(df_score[df_score['Topic']=='Resonance']['Prescore'],df_score[df_score['Topic']=='Resonance']['Clickerscore'])\n",
    "b = effect_size(df_score[df_score['Topic']=='Blackbody']['Prescore'],df_score[df_score['Topic']=='Blackbody']['Clickerscore'])\n",
    "print(\"The effect size on the clickerscore is:\\n{0} for Masses, \\n{1} for Resonance, \\n{2} for Blackbody\".format(m,r,b))"
   ]
  },
  {
   "cell_type": "code",
   "execution_count": 18,
   "metadata": {
    "collapsed": false
   },
   "outputs": [
    {
     "data": {
      "text/html": [
       "<div>\n",
       "<table border=\"1\" class=\"dataframe\">\n",
       "  <thead>\n",
       "    <tr style=\"text-align: right;\">\n",
       "      <th></th>\n",
       "      <th>Prescore</th>\n",
       "      <th>Postscore</th>\n",
       "      <th>Clickerscore</th>\n",
       "    </tr>\n",
       "  </thead>\n",
       "  <tbody>\n",
       "    <tr>\n",
       "      <th>count</th>\n",
       "      <td>324.000000</td>\n",
       "      <td>324.000000</td>\n",
       "      <td>324.000000</td>\n",
       "    </tr>\n",
       "    <tr>\n",
       "      <th>mean</th>\n",
       "      <td>0.208333</td>\n",
       "      <td>0.427469</td>\n",
       "      <td>0.789352</td>\n",
       "    </tr>\n",
       "    <tr>\n",
       "      <th>std</th>\n",
       "      <td>0.315677</td>\n",
       "      <td>0.399479</td>\n",
       "      <td>0.249989</td>\n",
       "    </tr>\n",
       "    <tr>\n",
       "      <th>min</th>\n",
       "      <td>0.000000</td>\n",
       "      <td>0.000000</td>\n",
       "      <td>0.000000</td>\n",
       "    </tr>\n",
       "    <tr>\n",
       "      <th>25%</th>\n",
       "      <td>0.000000</td>\n",
       "      <td>0.000000</td>\n",
       "      <td>0.750000</td>\n",
       "    </tr>\n",
       "    <tr>\n",
       "      <th>50%</th>\n",
       "      <td>0.000000</td>\n",
       "      <td>0.500000</td>\n",
       "      <td>0.750000</td>\n",
       "    </tr>\n",
       "    <tr>\n",
       "      <th>75%</th>\n",
       "      <td>0.500000</td>\n",
       "      <td>1.000000</td>\n",
       "      <td>1.000000</td>\n",
       "    </tr>\n",
       "    <tr>\n",
       "      <th>max</th>\n",
       "      <td>1.000000</td>\n",
       "      <td>1.000000</td>\n",
       "      <td>1.000000</td>\n",
       "    </tr>\n",
       "  </tbody>\n",
       "</table>\n",
       "</div>"
      ],
      "text/plain": [
       "         Prescore   Postscore  Clickerscore\n",
       "count  324.000000  324.000000    324.000000\n",
       "mean     0.208333    0.427469      0.789352\n",
       "std      0.315677    0.399479      0.249989\n",
       "min      0.000000    0.000000      0.000000\n",
       "25%      0.000000    0.000000      0.750000\n",
       "50%      0.000000    0.500000      0.750000\n",
       "75%      0.500000    1.000000      1.000000\n",
       "max      1.000000    1.000000      1.000000"
      ]
     },
     "execution_count": 18,
     "metadata": {},
     "output_type": "execute_result"
    }
   ],
   "source": [
    "df_score[df_score['Topic']=='Masses'].describe()"
   ]
  },
  {
   "cell_type": "code",
   "execution_count": 19,
   "metadata": {
    "collapsed": false
   },
   "outputs": [
    {
     "data": {
      "text/html": [
       "<div>\n",
       "<table border=\"1\" class=\"dataframe\">\n",
       "  <thead>\n",
       "    <tr style=\"text-align: right;\">\n",
       "      <th></th>\n",
       "      <th>Prescore</th>\n",
       "      <th>Postscore</th>\n",
       "      <th>Clickerscore</th>\n",
       "    </tr>\n",
       "  </thead>\n",
       "  <tbody>\n",
       "    <tr>\n",
       "      <th>count</th>\n",
       "      <td>342.000000</td>\n",
       "      <td>342.000000</td>\n",
       "      <td>342.000000</td>\n",
       "    </tr>\n",
       "    <tr>\n",
       "      <th>mean</th>\n",
       "      <td>0.308129</td>\n",
       "      <td>0.435117</td>\n",
       "      <td>0.366959</td>\n",
       "    </tr>\n",
       "    <tr>\n",
       "      <th>std</th>\n",
       "      <td>0.283272</td>\n",
       "      <td>0.319250</td>\n",
       "      <td>0.256315</td>\n",
       "    </tr>\n",
       "    <tr>\n",
       "      <th>min</th>\n",
       "      <td>0.000000</td>\n",
       "      <td>0.000000</td>\n",
       "      <td>0.000000</td>\n",
       "    </tr>\n",
       "    <tr>\n",
       "      <th>25%</th>\n",
       "      <td>0.000000</td>\n",
       "      <td>0.330000</td>\n",
       "      <td>0.330000</td>\n",
       "    </tr>\n",
       "    <tr>\n",
       "      <th>50%</th>\n",
       "      <td>0.330000</td>\n",
       "      <td>0.330000</td>\n",
       "      <td>0.330000</td>\n",
       "    </tr>\n",
       "    <tr>\n",
       "      <th>75%</th>\n",
       "      <td>0.330000</td>\n",
       "      <td>0.670000</td>\n",
       "      <td>0.670000</td>\n",
       "    </tr>\n",
       "    <tr>\n",
       "      <th>max</th>\n",
       "      <td>1.000000</td>\n",
       "      <td>1.000000</td>\n",
       "      <td>1.000000</td>\n",
       "    </tr>\n",
       "  </tbody>\n",
       "</table>\n",
       "</div>"
      ],
      "text/plain": [
       "         Prescore   Postscore  Clickerscore\n",
       "count  342.000000  342.000000    342.000000\n",
       "mean     0.308129    0.435117      0.366959\n",
       "std      0.283272    0.319250      0.256315\n",
       "min      0.000000    0.000000      0.000000\n",
       "25%      0.000000    0.330000      0.330000\n",
       "50%      0.330000    0.330000      0.330000\n",
       "75%      0.330000    0.670000      0.670000\n",
       "max      1.000000    1.000000      1.000000"
      ]
     },
     "execution_count": 19,
     "metadata": {},
     "output_type": "execute_result"
    }
   ],
   "source": [
    "df_score[df_score['Topic']=='Resonance'].describe()"
   ]
  },
  {
   "cell_type": "code",
   "execution_count": 20,
   "metadata": {
    "collapsed": false
   },
   "outputs": [
    {
     "data": {
      "text/html": [
       "<div>\n",
       "<table border=\"1\" class=\"dataframe\">\n",
       "  <thead>\n",
       "    <tr style=\"text-align: right;\">\n",
       "      <th></th>\n",
       "      <th>Prescore</th>\n",
       "      <th>Postscore</th>\n",
       "      <th>Clickerscore</th>\n",
       "    </tr>\n",
       "  </thead>\n",
       "  <tbody>\n",
       "    <tr>\n",
       "      <th>count</th>\n",
       "      <td>395.000000</td>\n",
       "      <td>395.000000</td>\n",
       "      <td>395.000000</td>\n",
       "    </tr>\n",
       "    <tr>\n",
       "      <th>mean</th>\n",
       "      <td>0.416481</td>\n",
       "      <td>0.531646</td>\n",
       "      <td>0.678759</td>\n",
       "    </tr>\n",
       "    <tr>\n",
       "      <th>std</th>\n",
       "      <td>0.287378</td>\n",
       "      <td>0.294774</td>\n",
       "      <td>0.255734</td>\n",
       "    </tr>\n",
       "    <tr>\n",
       "      <th>min</th>\n",
       "      <td>0.000000</td>\n",
       "      <td>0.000000</td>\n",
       "      <td>0.000000</td>\n",
       "    </tr>\n",
       "    <tr>\n",
       "      <th>25%</th>\n",
       "      <td>0.330000</td>\n",
       "      <td>0.330000</td>\n",
       "      <td>0.670000</td>\n",
       "    </tr>\n",
       "    <tr>\n",
       "      <th>50%</th>\n",
       "      <td>0.330000</td>\n",
       "      <td>0.670000</td>\n",
       "      <td>0.670000</td>\n",
       "    </tr>\n",
       "    <tr>\n",
       "      <th>75%</th>\n",
       "      <td>0.670000</td>\n",
       "      <td>0.670000</td>\n",
       "      <td>1.000000</td>\n",
       "    </tr>\n",
       "    <tr>\n",
       "      <th>max</th>\n",
       "      <td>1.000000</td>\n",
       "      <td>1.000000</td>\n",
       "      <td>1.000000</td>\n",
       "    </tr>\n",
       "  </tbody>\n",
       "</table>\n",
       "</div>"
      ],
      "text/plain": [
       "         Prescore   Postscore  Clickerscore\n",
       "count  395.000000  395.000000    395.000000\n",
       "mean     0.416481    0.531646      0.678759\n",
       "std      0.287378    0.294774      0.255734\n",
       "min      0.000000    0.000000      0.000000\n",
       "25%      0.330000    0.330000      0.670000\n",
       "50%      0.330000    0.670000      0.670000\n",
       "75%      0.670000    0.670000      1.000000\n",
       "max      1.000000    1.000000      1.000000"
      ]
     },
     "execution_count": 20,
     "metadata": {},
     "output_type": "execute_result"
    }
   ],
   "source": [
    "df_score[df_score['Topic']=='Blackbody'].describe()"
   ]
  },
  {
   "cell_type": "code",
   "execution_count": 21,
   "metadata": {
    "collapsed": false
   },
   "outputs": [
    {
     "name": "stdout",
     "output_type": "stream",
     "text": [
      "TextThenPhet \n",
      "         Prescore   Postscore  Clickerscore\n",
      "count  348.000000  348.000000    348.000000\n",
      "mean     0.332845    0.448563      0.592184\n",
      "std      0.303526    0.332978      0.312422\n",
      "min      0.000000    0.000000      0.000000\n",
      "25%      0.000000    0.330000      0.330000\n",
      "50%      0.330000    0.330000      0.670000\n",
      "75%      0.500000    0.670000      0.750000\n",
      "max      1.000000    1.000000      1.000000\n",
      "PhetThenText \n",
      "         Prescore   Postscore  Clickerscore\n",
      "count  355.000000  355.000000    355.000000\n",
      "mean     0.313239    0.463634      0.597380\n",
      "std      0.316637    0.349500      0.314473\n",
      "min      0.000000    0.000000      0.000000\n",
      "25%      0.000000    0.330000      0.330000\n",
      "50%      0.330000    0.330000      0.670000\n",
      "75%      0.500000    0.670000      0.750000\n",
      "max      1.000000    1.000000      1.000000\n",
      "TextOnly \n",
      "         Prescore   Postscore  Clickerscore\n",
      "count  358.000000  358.000000    358.000000\n",
      "mean     0.308268    0.493352      0.645838\n",
      "std      0.300659    0.338703      0.296301\n",
      "min      0.000000    0.000000      0.000000\n",
      "25%      0.000000    0.330000      0.330000\n",
      "50%      0.330000    0.500000      0.670000\n",
      "75%      0.500000    0.670000      1.000000\n",
      "max      1.000000    1.000000      1.000000\n"
     ]
    }
   ],
   "source": [
    "for t in treatments:\n",
    "    print t,'\\n',df_score[df_score['Treatment']==t].describe()"
   ]
  },
  {
   "cell_type": "markdown",
   "metadata": {},
   "source": [
    "## How much were they engaged in the activity?\n",
    "#### Next let's look at how much time they spent on each activity."
   ]
  },
  {
   "cell_type": "code",
   "execution_count": 22,
   "metadata": {
    "collapsed": false
   },
   "outputs": [
    {
     "data": {
      "text/plain": [
       "count    815.000000\n",
       "mean      34.425153\n",
       "std       29.014483\n",
       "min        0.000000\n",
       "25%       15.000000\n",
       "50%       30.000000\n",
       "75%       45.000000\n",
       "max      300.000000\n",
       "Name: Time on text, dtype: float64"
      ]
     },
     "execution_count": 22,
     "metadata": {},
     "output_type": "execute_result"
    }
   ],
   "source": [
    "df_time['Time on text'].describe()"
   ]
  },
  {
   "cell_type": "code",
   "execution_count": 23,
   "metadata": {
    "collapsed": false
   },
   "outputs": [
    {
     "data": {
      "text/plain": [
       "count    543.000000\n",
       "mean      10.289134\n",
       "std       10.720158\n",
       "min        0.000000\n",
       "25%        5.000000\n",
       "50%       10.000000\n",
       "75%       10.000000\n",
       "max      180.000000\n",
       "Name: Time on PhET, dtype: float64"
      ]
     },
     "execution_count": 23,
     "metadata": {},
     "output_type": "execute_result"
    }
   ],
   "source": [
    "df_time2 = df_time[df_time['Treatment']!='TextOnly']\n",
    "df_time2['Time on PhET'].describe()"
   ]
  },
  {
   "cell_type": "code",
   "execution_count": 24,
   "metadata": {
    "collapsed": false
   },
   "outputs": [
    {
     "data": {
      "text/plain": [
       "count    815.000000\n",
       "mean      41.280368\n",
       "std       31.936442\n",
       "min        1.000000\n",
       "25%       20.000000\n",
       "50%       30.000000\n",
       "75%       50.000000\n",
       "max      330.000000\n",
       "Name: total time, dtype: float64"
      ]
     },
     "execution_count": 24,
     "metadata": {},
     "output_type": "execute_result"
    }
   ],
   "source": [
    "df_time['total time']=df_time['Time on text']+ df_time['Time on PhET']\n",
    "df_time['total time'].describe()"
   ]
  },
  {
   "cell_type": "code",
   "execution_count": 25,
   "metadata": {
    "collapsed": false
   },
   "outputs": [
    {
     "name": "stdout",
     "output_type": "stream",
     "text": [
      "Masses TextThenPhet \n",
      "count    127.000000\n",
      "mean      44.031496\n",
      "std       29.564816\n",
      "min        5.000000\n",
      "25%       25.000000\n",
      "50%       35.000000\n",
      "75%       55.000000\n",
      "max      130.000000\n",
      "Name: total time, dtype: float64 \n",
      "\n",
      "Masses PhetThenText \n",
      "count    137.000000\n",
      "mean      51.397810\n",
      "std       42.642026\n",
      "min        5.000000\n",
      "25%       27.000000\n",
      "50%       40.000000\n",
      "75%       60.000000\n",
      "max      330.000000\n",
      "Name: total time, dtype: float64 \n",
      "\n",
      "Masses TextOnly \n",
      "count    144.000000\n",
      "mean      45.895833\n",
      "std       31.743006\n",
      "min        1.000000\n",
      "25%       28.750000\n",
      "50%       40.000000\n",
      "75%       60.000000\n",
      "max      180.000000\n",
      "Name: total time, dtype: float64 \n",
      "\n",
      "Resonance TextThenPhet \n",
      "count    136.000000\n",
      "mean      40.794118\n",
      "std       33.817619\n",
      "min        7.000000\n",
      "25%       25.000000\n",
      "50%       31.000000\n",
      "75%       45.000000\n",
      "max      300.000000\n",
      "Name: total time, dtype: float64 \n",
      "\n",
      "Resonance PhetThenText \n",
      "count    143.000000\n",
      "mean      35.503497\n",
      "std       24.282630\n",
      "min        3.000000\n",
      "25%       20.000000\n",
      "50%       30.000000\n",
      "75%       45.000000\n",
      "max      160.000000\n",
      "Name: total time, dtype: float64 \n",
      "\n",
      "Resonance TextOnly \n",
      "count    128.000000\n",
      "mean      29.500000\n",
      "std       19.835941\n",
      "min        1.000000\n",
      "25%       15.000000\n",
      "50%       24.000000\n",
      "75%       31.250000\n",
      "max      100.000000\n",
      "Name: total time, dtype: float64 \n",
      "\n"
     ]
    },
    {
     "name": "stderr",
     "output_type": "stream",
     "text": [
      "C:\\Users\\Sarah\\Anaconda2\\lib\\site-packages\\ipykernel\\__main__.py:3: UserWarning: Boolean Series key will be reindexed to match DataFrame index.\n",
      "  app.launch_new_instance()\n"
     ]
    }
   ],
   "source": [
    "for x in ['Masses','Resonance']:\n",
    "    for t in treatments:\n",
    "        print x, t, '\\n',df_time[(df['Treatment']==t)&(df_time['Topic']==x)]['total time'].describe(), '\\n'"
   ]
  },
  {
   "cell_type": "code",
   "execution_count": 26,
   "metadata": {
    "collapsed": false
   },
   "outputs": [
    {
     "data": {
      "text/plain": [
       "(30.0, 10.0, 30.0)"
      ]
     },
     "execution_count": 26,
     "metadata": {},
     "output_type": "execute_result"
    }
   ],
   "source": [
    "np.median(df_time['Time on text']), np.median(df_time2['Time on PhET']), np.median(df_time['total time'])"
   ]
  },
  {
   "cell_type": "code",
   "execution_count": 27,
   "metadata": {
    "collapsed": false
   },
   "outputs": [
    {
     "data": {
      "text/plain": [
       "array([<matplotlib.axes._subplots.AxesSubplot object at 0x000000000AA6F978>,\n",
       "       <matplotlib.axes._subplots.AxesSubplot object at 0x000000000A7F1358>], dtype=object)"
      ]
     },
     "execution_count": 27,
     "metadata": {},
     "output_type": "execute_result"
    },
    {
     "data": {
      "image/png": "[encoded data removed]",
      "text/plain": [
       "<matplotlib.figure.Figure at 0xaaecc18>"
      ]
     },
     "metadata": {},
     "output_type": "display_data"
    }
   ],
   "source": [
    "df_time.boxplot(by='Treatment',\n",
    "                column=['Time on PhET','Time on text'],\n",
    "                figsize=(15,12),\n",
    "                meanprops=meanlineprops, meanline=True, showmeans=True)"
   ]
  },
  {
   "cell_type": "code",
   "execution_count": 28,
   "metadata": {
    "collapsed": false
   },
   "outputs": [
    {
     "data": {
      "text/plain": [
       "['TextThenPhet', 'PhetThenText', 'TextOnly']"
      ]
     },
     "execution_count": 28,
     "metadata": {},
     "output_type": "execute_result"
    }
   ],
   "source": [
    "treatments"
   ]
  },
  {
   "cell_type": "code",
   "execution_count": 29,
   "metadata": {
    "collapsed": false
   },
   "outputs": [
    {
     "data": {
      "text/plain": [
       "<matplotlib.legend.Legend at 0xa74f128>"
      ]
     },
     "execution_count": 29,
     "metadata": {},
     "output_type": "execute_result"
    },
    {
     "data": {
      "image/png": "[encoded data removed]",
      "text/plain": [
       "<matplotlib.figure.Figure at 0xacd9e10>"
      ]
     },
     "metadata": {},
     "output_type": "display_data"
    }
   ],
   "source": [
    "maxtime = int(np.max(df_time['Time on text']))\n",
    "slices = [0,5,10,30,60,maxtime]\n",
    "\n",
    "def calculate_totals(time,treatment):\n",
    "    return sum(df_time[df_time['Treatment']==treatment]['Time on text']<=time)/float(sum(df_time[df_time['Treatment']==treatment]['Time on text']<=1000))\n",
    "\n",
    "ind = np.arange(len(treatments))# the x locations for the groups\n",
    "width = 0.35                    # the width of the bars: can also be len(x) sequence\n",
    "cmap = matplotlib.cm.get_cmap('viridis')\n",
    "\n",
    "ax = plt.subplot(111)\n",
    "plt.bar(ind, [calculate_totals(slices[-1],t) for t in treatments], width, color=cmap((len(slices)-1)/float(len(slices))))\n",
    "for i in reversed(range(len(slices)-1)):\n",
    "    plt.bar(ind, [calculate_totals(slices[i],t) for t in treatments], \n",
    "            width, #bottom= [calculate_totals(slices[i],t) for t in treatments],\n",
    "            color=cmap((i)/float(len(slices))))\n",
    "plt.ylabel('Total number of students')\n",
    "plt.title('Time spent reading depending on treatment')\n",
    "plt.xticks(ind + width/2., treatments)\n",
    "box = ax.get_position()\n",
    "ax.set_position([box.x0, box.y0, box.width * 0.8, box.height])\n",
    "# Put a legend below current axis\n",
    "ax.legend(['<='+str(slices[i]) for i in reversed(range(len(slices)))],loc='center left', bbox_to_anchor=(1, 0.5))"
   ]
  },
  {
   "cell_type": "code",
   "execution_count": 30,
   "metadata": {
    "collapsed": false
   },
   "outputs": [
    {
     "data": {
      "text/plain": [
       "<matplotlib.legend.Legend at 0xa65a2e8>"
      ]
     },
     "execution_count": 30,
     "metadata": {},
     "output_type": "execute_result"
    },
    {
     "data": {
      "image/png": "[encoded data removed]",
      "text/plain": [
       "<matplotlib.figure.Figure at 0x9c903c8>"
      ]
     },
     "metadata": {},
     "output_type": "display_data"
    }
   ],
   "source": [
    "maxtime = int(np.max(df_time['Time on PhET']))\n",
    "slices = [0,3,5,10,20,maxtime]\n",
    "\n",
    "def calculate_totals(time,treatment):\n",
    "    return sum(df_time[df_time['Treatment']==treatment]['Time on PhET']<=time)/float(sum(df_time[df_time['Treatment']==treatment]['Time on PhET']<=1000))\n",
    "\n",
    "ind = np.arange(len(treatments))# the x locations for the groups\n",
    "width = 0.35                    # the width of the bars: can also be len(x) sequence\n",
    "cmap = matplotlib.cm.get_cmap('viridis')\n",
    "\n",
    "ax = plt.subplot(111)\n",
    "plt.bar(ind, [calculate_totals(slices[-1],t) for t in treatments], width, color=cmap((len(slices)-1)/float(len(slices))))\n",
    "for i in reversed(range(len(slices)-1)):\n",
    "    plt.bar(ind, [calculate_totals(slices[i],t) for t in treatments], \n",
    "            width, #bottom= [calculate_totals(slices[i],t) for t in treatments],\n",
    "            color=cmap((i)/float(len(slices))))\n",
    "plt.ylabel('Total number of students')\n",
    "plt.title('Time spent on phet depending on treatment')\n",
    "plt.xticks(ind + width/2., treatments)\n",
    "box = ax.get_position()\n",
    "ax.set_position([box.x0, box.y0, box.width * 0.8, box.height])\n",
    "# Put a legend below current axis\n",
    "ax.legend(['<='+str(slices[i]) for i in reversed(range(len(slices)))],loc='center left', bbox_to_anchor=(1, 0.5))"
   ]
  },
  {
   "cell_type": "code",
   "execution_count": null,
   "metadata": {
    "collapsed": false
   },
   "outputs": [],
   "source": [
    "maxtime = int(np.max(df_time['total time']))\n",
    "slices = [0,5,10,30,60,maxtime]\n",
    "\n",
    "def calculate_totals(time,treatment):\n",
    "    return sum(df_time[df_time['Treatment']==treatment]['total time']<=time)/float(sum(df_time[df_time['Treatment']==treatment]['total time']<=1000))\n",
    "\n",
    "ind = np.arange(len(treatments))# the x locations for the groups\n",
    "width = 0.35                    # the width of the bars: can also be len(x) sequence\n",
    "cmap = matplotlib.cm.get_cmap('viridis')\n",
    "\n",
    "ax = plt.subplot(111)\n",
    "plt.bar(ind, [calculate_totals(slices[-1],t) for t in treatments], width, color=cmap((len(slices)-1)/float(len(slices))))\n",
    "for i in reversed(range(len(slices)-1)):\n",
    "    plt.bar(ind, [calculate_totals(slices[i],t) for t in treatments], \n",
    "            width, #bottom= [calculate_totals(slices[i],t) for t in treatments],\n",
    "            color=cmap((i)/float(len(slices))))\n",
    "plt.ylabel('Total number of students')\n",
    "plt.title('Time spent in total depending on treatment')\n",
    "plt.xticks(ind + width/2., treatments)\n",
    "box = ax.get_position()\n",
    "ax.set_position([box.x0, box.y0, box.width * 0.8, box.height])\n",
    "# Put a legend below current axis\n",
    "ax.legend(['<='+str(slices[i]) for i in reversed(range(len(slices)))],loc='center left', bbox_to_anchor=(1, 0.5))"
   ]
  },
  {
   "cell_type": "code",
   "execution_count": null,
   "metadata": {
    "collapsed": false
   },
   "outputs": [],
   "source": [
    "df_time[df_time['Treatment']=='TextThenPhet'].shape, df_time[df_time['Treatment']=='PhetThenText'].shape, df_time[df_time['Treatment']=='TextOnly'].shape"
   ]
  },
  {
   "cell_type": "code",
   "execution_count": null,
   "metadata": {
    "collapsed": false
   },
   "outputs": [],
   "source": [
    "p = mannwhitneyu(df_time[df_time['Treatment']=='TextThenPhet']['Time on PhET'],df_time[df_time['Treatment']=='PhetThenText']['Time on PhET'])\n",
    "t = mannwhitneyu(df_time[df_time['Treatment']=='TextThenPhet']['Time on text'],df_time[df_time['Treatment']=='PhetThenText']['Time on text'])\n",
    "print(\"The significance of difference between time on task of conditions PhetThenText and TextThenPhet:\\n{0} for Phet, \\n{1} for text\".format(p,t))"
   ]
  },
  {
   "cell_type": "code",
   "execution_count": null,
   "metadata": {
    "collapsed": false
   },
   "outputs": [],
   "source": [
    "effect_size(df_time[df_time['Treatment']=='TextThenPhet']['Time on PhET'],df_time[df_time['Treatment']=='PhetThenText']['Time on PhET'])"
   ]
  },
  {
   "cell_type": "code",
   "execution_count": null,
   "metadata": {
    "collapsed": false
   },
   "outputs": [],
   "source": [
    "for topic in ['Masses','Resonance']:\n",
    "    p = mannwhitneyu(df_time[(df_time['Topic']==topic) & (df_time['Treatment']=='TextThenPhet')]['Time on PhET'],df_time[(df_time['Topic']==topic) & (df_time['Treatment']=='PhetThenText')]['Time on PhET'])\n",
    "    t = mannwhitneyu(df_time[(df_time['Topic']==topic) & (df_time['Treatment']=='TextThenPhet')]['Time on text'],df_time[(df_time['Topic']==topic) & (df_time['Treatment']=='PhetThenText')]['Time on text'])\n",
    "    print(\"For topic {2}, the significance of difference between time on task of conditions PhetThenText and TextThenPhet:\\n{0} for Phet, \\n{1} for text\\n\".format(p,t,topic))"
   ]
  },
  {
   "cell_type": "markdown",
   "metadata": {},
   "source": [
    "#### Now that we know that time spent reading are similar for the \"phet\" conditions, let's compare each 'PhET' condition to the \"Textonly\" condition"
   ]
  },
  {
   "cell_type": "code",
   "execution_count": null,
   "metadata": {
    "collapsed": false
   },
   "outputs": [],
   "source": [
    "p1 = mannwhitneyu(df_time[df_time['Treatment']=='TextThenPhet']['Time on text'],\n",
    "             df_time[df_time['Treatment']=='TextOnly']['Time on text'])\n",
    "p2 = mannwhitneyu(df_time[df_time['Treatment']=='PhetThenText']['Time on text'],\n",
    "             df_time[df_time['Treatment']=='TextOnly']['Time on text'])\n",
    "print(\"The significance of difference between time reading compared to 'TextOnly' condition for \\nPhetThenText: {0} \\nand TextThenPhet: {1}\".format(p1,p2))"
   ]
  },
  {
   "cell_type": "code",
   "execution_count": null,
   "metadata": {
    "collapsed": false
   },
   "outputs": [],
   "source": [
    "p1 = effect_size(df_time[df_time['Treatment']=='TextThenPhet']['Time on text'],\n",
    "             df_time[df_time['Treatment']=='TextOnly']['Time on text'])\n",
    "p2 = effect_size(df_time[df_time['Treatment']=='PhetThenText']['Time on text'],\n",
    "             df_time[df_time['Treatment']=='TextOnly']['Time on text'])\n",
    "print(\"The effect size for time reading compared to 'TextOnly' condition for \\nPhetThenText: {0} \\nand TextThenPhet: {1}\".format(p1,p2))"
   ]
  },
  {
   "cell_type": "code",
   "execution_count": null,
   "metadata": {
    "collapsed": true
   },
   "outputs": [],
   "source": []
  },
  {
   "cell_type": "code",
   "execution_count": null,
   "metadata": {
    "collapsed": false
   },
   "outputs": [],
   "source": [
    "for topic in ['Masses','Resonance']:\n",
    "    p1 = mannwhitneyu(df_time[(df_time['Topic']==topic) & (df_time['Treatment']=='TextThenPhet')]['total time'],\n",
    "             df_time[(df_time['Topic']==topic) & (df_time['Treatment']=='TextOnly')]['total time'])\n",
    "    p2 = mannwhitneyu(df_time[(df_time['Topic']==topic) & (df_time['Treatment']=='PhetThenText')]['total time'],\n",
    "             df_time[(df_time['Topic']==topic) & (df_time['Treatment']=='TextOnly')]['total time'])\n",
    "    print(\"for topic {2}, the significance of difference between time overall compared to 'TextOnly' condition for \\n\\tPhetThenText: {0} \\n\\tand TextThenPhet: {1}\".format(p1,p2,topic))"
   ]
  },
  {
   "cell_type": "code",
   "execution_count": null,
   "metadata": {
    "collapsed": false
   },
   "outputs": [],
   "source": [
    "p1 = mannwhitneyu(df_time[df_time['Treatment']=='TextThenPhet']['total time'],\n",
    "             df_time[df_time['Treatment']=='TextOnly']['total time'])\n",
    "p2 = mannwhitneyu(df_time[df_time['Treatment']=='PhetThenText']['total time'],\n",
    "             df_time[df_time['Treatment']=='TextOnly']['total time'])\n",
    "print(\"The significance of difference between time overall compared to 'TextOnly' condition for \\nPhetThenText: {0} \\nand TextThenPhet: {1}\".format(p1,p2))"
   ]
  },
  {
   "cell_type": "code",
   "execution_count": null,
   "metadata": {
    "collapsed": false
   },
   "outputs": [],
   "source": [
    "for topic in ['Masses','Resonance']:\n",
    "    p1 = effect_size(df_time[(df_time['Topic']==topic) & (df_time['Treatment']=='TextThenPhet')]['total time'],\n",
    "             df_time[(df_time['Topic']==topic) & (df_time['Treatment']=='TextOnly')]['total time'])\n",
    "    p2 = effect_size(df_time[(df_time['Topic']==topic) & (df_time['Treatment']=='PhetThenText')]['total time'],\n",
    "             df_time[(df_time['Topic']==topic) & (df_time['Treatment']=='TextOnly')]['total time'])\n",
    "    print(\"The effect size of time overall compared to 'TextOnly' condition for \\n\\tPhetThenText: {0} \\n\\tand TextThenPhet: {1}\".format(p1,p2))"
   ]
  },
  {
   "cell_type": "markdown",
   "metadata": {},
   "source": [
    "## Prior and knowledge and attitude influence on engagement\n",
    "#### If they already encountered the topic were they more likely to score well on the pretest?"
   ]
  },
  {
   "cell_type": "code",
   "execution_count": null,
   "metadata": {
    "collapsed": false
   },
   "outputs": [],
   "source": [
    "df2[(df2['Encountered']=='True')&(df2['Topic']=='Masses')].shape, df2[(df2['Encountered']=='True')&(df2['Topic']=='Resonance')].shape, df2[(df2['Encountered']=='False')&(df2['Topic']=='Masses')].shape, df2[(df2['Encountered']=='False')&(df2['Topic']=='Resonance')].shape"
   ]
  },
  {
   "cell_type": "code",
   "execution_count": null,
   "metadata": {
    "collapsed": false
   },
   "outputs": [],
   "source": [
    "m0 = mannwhitneyu(df2[(df2['Encountered']=='False')&(df2['Topic']=='Masses')]['Prescore'],df2[(df2['Encountered']=='True')&(df2['Topic']=='Masses')]['Prescore'])\n",
    "m1 = effect_size(df2[(df2['Encountered']=='False')&(df2['Topic']=='Masses')]['Prescore'],df2[(df2['Encountered']=='True')&(df2['Topic']=='Masses')]['Prescore'])\n",
    "print(\"The significance of difference between having encountered the topic 'Masses' on prescore {0}, with effect size: {1}\".format(m0,m1))"
   ]
  },
  {
   "cell_type": "code",
   "execution_count": null,
   "metadata": {
    "collapsed": false
   },
   "outputs": [],
   "source": [
    "m0 = mannwhitneyu(df2[(df2['Encountered']=='False')&(df2['Topic']=='Resonance')]['Prescore'],df2[(df2['Encountered']=='True')&(df2['Topic']=='Resonance')]['Prescore'])\n",
    "m1 = effect_size(df2[(df2['Encountered']=='False')&(df2['Topic']=='Resonance')]['Prescore'],df2[(df2['Encountered']=='True')&(df2['Topic']=='Resonance')]['Prescore'])\n",
    "print(\"The significance of difference between having encountered the topic 'Resonance' on prescore {0}, with effect size: {1}\".format(m0,m1))"
   ]
  },
  {
   "cell_type": "code",
   "execution_count": null,
   "metadata": {
    "collapsed": false
   },
   "outputs": [],
   "source": [
    "#No encounter data for \"blackbody\" topic so we can't repreat the analysis for that topic"
   ]
  },
  {
   "cell_type": "markdown",
   "metadata": {},
   "source": [
    "#### If they already encountered the topic were they more likely to be engaged?¶"
   ]
  },
  {
   "cell_type": "code",
   "execution_count": null,
   "metadata": {
    "collapsed": false
   },
   "outputs": [],
   "source": [
    "# df_time2.boxplot(by='Encountered',\n",
    "#                 column=['Time on PhET'],\n",
    "#                 figsize=(7,7),\n",
    "#                 meanprops=meanlineprops, meanline=True, showmeans=True)\n",
    "# df_time.boxplot(by='Encountered',\n",
    "#                 column=['Time on text'],\n",
    "#                 figsize=(7,7),\n",
    "#                 meanprops=meanlineprops, meanline=True, showmeans=True)"
   ]
  },
  {
   "cell_type": "code",
   "execution_count": null,
   "metadata": {
    "collapsed": false
   },
   "outputs": [],
   "source": [
    "p = mannwhitneyu(df_time2[(df_time2['Encountered']=='True')]['Time on PhET'],\n",
    "                 df_time2[(df_time2['Encountered']=='False')]['Time on PhET'])\n",
    "t = mannwhitneyu(df_time[df_time['Encountered']=='True']['Time on text'],df_time[df_time['Encountered']=='False']['Time on text'])\n",
    "print(\"The significance of difference between time on task of conditions depending on if they encountered the topic previously:\\n{0} for Phet, \\n{1} for text\".format(p,t))"
   ]
  },
  {
   "cell_type": "code",
   "execution_count": null,
   "metadata": {
    "collapsed": false
   },
   "outputs": [],
   "source": [
    "p = effect_size(df_time2[(df_time2['Encountered']=='True')]['Time on PhET'],\n",
    "                 df_time2[(df_time2['Encountered']=='False')]['Time on PhET'])\n",
    "t = effect_size(df_time[df_time['Encountered']=='True']['Time on text'],df_time[df_time['Encountered']=='False']['Time on text'])\n",
    "print(\"The effect size for time on task of conditions depending on if they encountered the topic previously:\\n{0} for Phet, \\n{1} for text\".format(p,t))"
   ]
  },
  {
   "cell_type": "markdown",
   "metadata": {},
   "source": [
    "#### If they enjoyed the activity, were they more likely to be engaged?"
   ]
  },
  {
   "cell_type": "code",
   "execution_count": null,
   "metadata": {
    "collapsed": false
   },
   "outputs": [],
   "source": [
    "fig, axs = plt.subplots(nrows=2, ncols=2,figsize=(17,12))\n",
    "options = ['Not beneficial at all.','Not very beneficial.','Somewhat beneficial.','Very beneficial.']\n",
    "N = len(options)\n",
    "\n",
    "ax = axs[0][0]\n",
    "means = [np.mean(df_time2[df_time2['Postattitude - benefitted']==option]['Time on PhET']) for option in options]\n",
    "stdes = [scipy.stats.sem(df_time2[df_time2['Postattitude - benefitted']==option]['Time on PhET']) for option in options]\n",
    "ax.bar(np.arange(N), means, 0.6, color='slateblue', yerr=stdes)\n",
    "# add some text for labels, title and axes ticks\n",
    "ax.set_ylabel('Time on PhET')\n",
    "ax.set_title('Time spent on PhET by how much they benefitted from the activity')\n",
    "ax.set_xticks(np.arange(N)+0.6)\n",
    "ax.set_xticklabels(options)\n",
    "\n",
    "ax = axs[0][1]\n",
    "means = [np.mean(df_time[df_time['Postattitude - benefitted']==option]['Time on text']) for option in options]\n",
    "stdes = [scipy.stats.sem(df_time[df_time['Postattitude - benefitted']==option]['Time on text']) for option in options]\n",
    "ax.bar(np.arange(N), means, 0.6, color='slateblue', yerr=stdes)\n",
    "# add some text for labels, title and axes ticks\n",
    "ax.set_ylabel('Time on text')\n",
    "ax.set_title('Time spent reading by how much they benefitted from the activity')\n",
    "ax.set_xticks(np.arange(N)+0.6)\n",
    "ax.set_xticklabels(options)\n",
    "\n",
    "options = ['No enjoyment at all.','Did not enjoy it very much.','Somewhat enjoyed it.','Enjoyed it very much.']\n",
    "N = len(options)\n",
    "\n",
    "ax = axs[1][0]\n",
    "means = [np.mean(df_time2[df_time2['Postattitude - enjoyed']==option]['Time on PhET']) for option in options]\n",
    "stdes = [scipy.stats.sem(df_time2[df_time2['Postattitude - enjoyed']==option]['Time on PhET']) for option in options]\n",
    "ax.bar(np.arange(N), means, 0.6, color='slateblue', yerr=stdes)\n",
    "# add some text for labels, title and axes ticks\n",
    "ax.set_ylabel('Time on PhET')\n",
    "ax.set_title('Time spent on PhET by how much they enjoyed the activity')\n",
    "ax.set_xticks(np.arange(N)+0.6)\n",
    "ax.set_xticklabels(options)\n",
    "\n",
    "ax = axs[1][1]\n",
    "means = [np.mean(df_time[df_time['Postattitude - enjoyed']==option]['Time on text']) for option in options]\n",
    "stdes = [scipy.stats.sem(df_time[df_time['Postattitude - enjoyed']==option]['Time on text']) for option in options]\n",
    "ax.bar(np.arange(N), means, 0.6, color='slateblue', yerr=stdes)\n",
    "# add some text for labels, title and axes ticks\n",
    "ax.set_ylabel('Time on text')\n",
    "ax.set_title('Time spent reading by how much they enjoyed the activity')\n",
    "ax.set_xticks(np.arange(N)+0.6)\n",
    "ax.set_xticklabels(options)\n"
   ]
  },
  {
   "cell_type": "code",
   "execution_count": null,
   "metadata": {
    "collapsed": false
   },
   "outputs": [],
   "source": []
  },
  {
   "cell_type": "code",
   "execution_count": null,
   "metadata": {
    "collapsed": false
   },
   "outputs": [],
   "source": [
    "fig, axs = plt.subplots(nrows=2, ncols=2,figsize=(17,12))\n",
    "options = [True,False]\n",
    "N = len(options)\n",
    "\n",
    "ax = axs[0][0]\n",
    "means = [np.mean(df_time2[df_time2['Benefitted']==option]['Time on PhET']) for option in options]\n",
    "stdes = [scipy.stats.sem(df_time2[df_time2['Benefitted']==option]['Time on PhET']) for option in options]\n",
    "ax.bar(np.arange(N), means, 0.6, color='slateblue', yerr=stdes)\n",
    "# add some text for labels, title and axes ticks\n",
    "ax.set_ylabel('Time on PhET')\n",
    "ax.set_title('Time spent on PhET by how much they benefitted from the activity')\n",
    "ax.set_xticks(np.arange(N)+0.6)\n",
    "ax.set_xticklabels(options)\n",
    "ax.grid()\n",
    "\n",
    "ax = axs[0][1]\n",
    "means = [np.mean(df_time[df_time['Benefitted']==option]['Time on text']) for option in options]\n",
    "stdes = [scipy.stats.sem(df_time[df_time['Benefitted']==option]['Time on text']) for option in options]\n",
    "ax.bar(np.arange(N), means, 0.6, color='slateblue', yerr=stdes)\n",
    "# add some text for labels, title and axes ticks\n",
    "ax.set_ylabel('Time on text')\n",
    "ax.set_title('Time spent reading by how much they benefitted from the activity')\n",
    "ax.set_xticks(np.arange(N)+0.6)\n",
    "ax.set_xticklabels(options)\n",
    "ax.grid()\n",
    "\n",
    "options = [True,False]\n",
    "N = len(options)\n",
    "\n",
    "ax = axs[1][0]\n",
    "means = [np.mean(df_time2[df_time2['Enjoyed']==option]['Time on PhET']) for option in options]\n",
    "stdes = [scipy.stats.sem(df_time2[df_time2['Enjoyed']==option]['Time on PhET']) for option in options]\n",
    "ax.bar(np.arange(N), means, 0.6, color='slateblue', yerr=stdes)\n",
    "# add some text for labels, title and axes ticks\n",
    "ax.set_ylabel('Time on PhET')\n",
    "ax.set_title('Time spent on PhET by how much they enjoyed the activity')\n",
    "ax.set_xticks(np.arange(N)+0.6)\n",
    "ax.set_xticklabels(options)\n",
    "ax.grid()\n",
    "\n",
    "ax = axs[1][1]\n",
    "means = [np.mean(df_time[df_time['Enjoyed']==option]['Time on text']) for option in options]\n",
    "stdes = [scipy.stats.sem(df_time[df_time['Enjoyed']==option]['Time on text']) for option in options]\n",
    "ax.bar(np.arange(N), means, 0.6, color='slateblue', yerr=stdes)\n",
    "# add some text for labels, title and axes ticks\n",
    "ax.set_ylabel('Time on text')\n",
    "ax.set_title('Time spent reading by how much they enjoyed the activity')\n",
    "ax.set_xticks(np.arange(N)+0.6)\n",
    "ax.set_xticklabels(options)\n",
    "ax.grid()"
   ]
  },
  {
   "cell_type": "markdown",
   "metadata": {},
   "source": [
    "means"
   ]
  },
  {
   "cell_type": "code",
   "execution_count": null,
   "metadata": {
    "collapsed": false
   },
   "outputs": [],
   "source": [
    "df_time2.boxplot(by='Enjoyed',\n",
    "                column=['Time on PhET'],\n",
    "                figsize=(15,12),\n",
    "                meanprops=meanlineprops, meanline=True, showmeans=True)"
   ]
  },
  {
   "cell_type": "code",
   "execution_count": null,
   "metadata": {
    "collapsed": false
   },
   "outputs": [],
   "source": [
    "df_time2.boxplot(by='Benefitted',\n",
    "                column=['Time on PhET'],\n",
    "                figsize=(15,12),\n",
    "                meanprops=meanlineprops, meanline=True, showmeans=True)"
   ]
  },
  {
   "cell_type": "code",
   "execution_count": null,
   "metadata": {
    "collapsed": false
   },
   "outputs": [],
   "source": [
    "df_time.boxplot(by='Enjoyed',\n",
    "                column=['Time on text'],\n",
    "                figsize=(15,12),\n",
    "                meanprops=meanlineprops, meanline=True, showmeans=True)"
   ]
  },
  {
   "cell_type": "code",
   "execution_count": null,
   "metadata": {
    "collapsed": false,
    "scrolled": true
   },
   "outputs": [],
   "source": [
    "df_time.boxplot(by='Benefitted',\n",
    "                column=['Time on text'],\n",
    "                figsize=(15,12),\n",
    "                meanprops=meanlineprops, meanline=True, showmeans=True)"
   ]
  },
  {
   "cell_type": "code",
   "execution_count": null,
   "metadata": {
    "collapsed": false
   },
   "outputs": [],
   "source": [
    "for question in ['Benefitted', 'Enjoyed']:\n",
    "    for option in [True,False]:\n",
    "        print \"Time spent on Phet if {0} = {1}:\\t {2} +/- {3} minutes\".format(question, option, np.mean(df_time2[df_time2[question]==option]['Time on PhET']), np.std(df_time2[df_time2[question]==option]['Time on PhET']))"
   ]
  },
  {
   "cell_type": "code",
   "execution_count": null,
   "metadata": {
    "collapsed": true
   },
   "outputs": [],
   "source": []
  },
  {
   "cell_type": "code",
   "execution_count": null,
   "metadata": {
    "collapsed": true
   },
   "outputs": [],
   "source": []
  },
  {
   "cell_type": "code",
   "execution_count": null,
   "metadata": {
    "collapsed": false
   },
   "outputs": [],
   "source": [
    "for question in ['Benefitted', 'Enjoyed']:\n",
    "    for option in options:\n",
    "        print \"Time spent on text if {0} = {1}: {2} +/- {3} minutes\".format(question, option, np.mean(df_time[df_time[question]==option]['Time on text']), np.std(df_time[df_time[question]==option]['Time on text']))"
   ]
  },
  {
   "cell_type": "code",
   "execution_count": null,
   "metadata": {
    "collapsed": false
   },
   "outputs": [],
   "source": [
    "for question in ['Benefitted', 'Enjoyed']:\n",
    "    p = mannwhitneyu(df_time2[df_time2[question]==True]['Time on PhET'],\n",
    "                     df_time2[df_time2[question]==False]['Time on PhET'])\n",
    "    p1 = effect_size(df_time2[df_time2[question]==True]['Time on PhET'],\n",
    "                     df_time2[df_time2[question]==False]['Time on PhET'])\n",
    "    \n",
    "    t = mannwhitneyu(df_time[df_time[question]==True]['Time on text'],\n",
    "                    df_time[df_time[question]==False]['Time on text'])\n",
    "    t1 = effect_size(df_time[df_time[question]==True]['Time on text'],\n",
    "                    df_time[df_time[question]==False]['Time on text'])                \n",
    "    print(\"The significance of difference between time on task for {0} question:\\n{1} for Phet with effect size {2}, \\n{3} for text with effect size {4}\\n\\n\".format(question,p,p1, t, t1))"
   ]
  },
  {
   "cell_type": "markdown",
   "metadata": {},
   "source": [
    "#### If they were more engaged, did they report benefitting or enjoying the activity?\n",
    "#### If their time on Phet increased, they tended to report benefitting from the activity (significant, low-medium effect) and enjoy it (significant, very low effect)\n",
    "#### If their time on text increased, they tended didnt report benefitting differently but did report enjoying it leff (significant, low effect)"
   ]
  },
  {
   "cell_type": "markdown",
   "metadata": {},
   "source": [
    "### Raw counts of benefit and enjoy questions"
   ]
  },
  {
   "cell_type": "code",
   "execution_count": null,
   "metadata": {
    "collapsed": false
   },
   "outputs": [],
   "source": [
    "df_time[df_time['Topic']=='Masses'].shape, df_time[df_time['Topic']=='Resonance'].shape "
   ]
  },
  {
   "cell_type": "code",
   "execution_count": null,
   "metadata": {
    "collapsed": false,
    "scrolled": true
   },
   "outputs": [],
   "source": [
    "df_time_copy = df_time.copy()\n",
    "df_time_copy['D'] = 1\n",
    "table = pd.pivot_table(df_time_copy, values='D', index=['Treatment'],columns=['Benefitted'], aggfunc=np.sum)\n",
    "table"
   ]
  },
  {
   "cell_type": "code",
   "execution_count": null,
   "metadata": {
    "collapsed": false
   },
   "outputs": [],
   "source": [
    "table = pd.pivot_table(df_time_copy, values='D', index=['Treatment'],columns=['Enjoyed'], aggfunc=np.sum)\n",
    "table"
   ]
  },
  {
   "cell_type": "markdown",
   "metadata": {
    "collapsed": true
   },
   "source": [
    "## Benefit and enjoy by topic"
   ]
  },
  {
   "cell_type": "code",
   "execution_count": null,
   "metadata": {
    "collapsed": true
   },
   "outputs": [],
   "source": [
    "# Something we may want to explore."
   ]
  },
  {
   "cell_type": "markdown",
   "metadata": {},
   "source": [
    "# Performance analysis by engagement\n",
    "## Visual investigation of effect of engagement"
   ]
  },
  {
   "cell_type": "code",
   "execution_count": null,
   "metadata": {
    "collapsed": false
   },
   "outputs": [],
   "source": [
    "df3 = df2[df2['Treatment']!='TextOnly']\n",
    "eng_levels_phet = (np.percentile(df3['Time on PhET'],33), np.percentile(df3['Time on PhET'],66))\n",
    "eng_levels_text = (np.percentile(df2['Time on text'],33), np.percentile(df2['Time on text'],66))\n",
    "eng_levels_phet, eng_levels_text\n",
    "# np.std(df2[(df2['Treatment']==t) & (df2['Time on PhET']<eng_levels_phet[0])]['Prescore'])/math.sqrt(df2[(df2['Treatment']==t) & (df2['Time on PhET']<eng_levels_phet[0])].shape[0])"
   ]
  },
  {
   "cell_type": "code",
   "execution_count": null,
   "metadata": {
    "collapsed": false
   },
   "outputs": [],
   "source": [
    "##show line plots with x = pre to post, colored by condition, grouped by engagement level\n",
    "fig, axs = plt.subplots(nrows=1, ncols=3, sharex=True)\n",
    "shape_treatment={'TextThenPhet':'-','TextOnly':'.','PhetThenText':'.-'}\n",
    "treatments_to_use = ['TextThenPhet','PhetThenText']\n",
    "\n",
    "\n",
    "ax = axs[0]\n",
    "for t in treatments_to_use:\n",
    "    ax.errorbar([1,2],[np.mean(df2[(df2['Treatment']==t) & (df2['Time on PhET']<eng_levels_phet[0])]['Prescore']),\n",
    "        np.mean(df2[(df2['Treatment']==t) & (df2['Time on PhET']<eng_levels_phet[0])]['Postscore'])],\n",
    "        yerr=[scipy.stats.sem(df2[(df2['Treatment']==t) & (df2['Time on PhET']<eng_levels_phet[0])]['Prescore']),\n",
    "        scipy.stats.sem(df2[(df2['Treatment']==t) & (df2['Time on PhET']<eng_levels_phet[0])]['Postscore'])],\n",
    "        label=t,fmt='-o')\n",
    "ax.set_title('No engagement')\n",
    "\n",
    "ax = axs[1]\n",
    "for t in treatments_to_use:\n",
    "    ax.errorbar([1,2],[np.mean(df2[(df2['Treatment']==t) & (df2['Time on PhET']>=eng_levels_phet[0]) & (df2['Time on PhET']<eng_levels_phet[1])]['Prescore']),\n",
    "        np.mean(df2[(df2['Treatment']==t) & (df2['Time on PhET']>=eng_levels_phet[0]) & (df2['Time on PhET']<eng_levels_phet[1])]['Postscore'])],\n",
    "        yerr=[scipy.stats.sem(df2[(df2['Treatment']==t) & (df2['Time on PhET']>=eng_levels_phet[0]) & (df2['Time on PhET']<eng_levels_phet[1])]['Prescore']),\n",
    "        scipy.stats.sem(df2[(df2['Treatment']==t) & (df2['Time on PhET']>=eng_levels_phet[0]) & (df2['Time on PhET']<eng_levels_phet[1])]['Postscore'])],\n",
    "        label=t,fmt='-o')\n",
    "ax.set_title('Medium engagement')\n",
    "\n",
    "ax = axs[2]\n",
    "for t in treatments_to_use:\n",
    "    ax.errorbar([1,2],[np.mean(df2[(df2['Treatment']==t) & (df2['Time on PhET']>=eng_levels_phet[1])]['Prescore']),\n",
    "        np.mean(df2[(df2['Treatment']==t) & (df2['Time on PhET']>=eng_levels_phet[1])]['Postscore'])],\n",
    "        yerr=[scipy.stats.sem(df2[(df2['Treatment']==t) & (df2['Time on PhET']>=eng_levels_phet[1])]['Prescore']),\n",
    "        scipy.stats.sem(df2[(df2['Treatment']==t) & (df2['Time on PhET']>=eng_levels_phet[1])]['Postscore'])],\n",
    "        label=t,fmt='-o')\n",
    "ax.set_title('High engagement')\n",
    "\n",
    "ax.set_xlim([0,3])\n",
    "ax.legend(bbox_to_anchor=(1.05, 1), loc=2, borderaxespad=0.)"
   ]
  },
  {
   "cell_type": "code",
   "execution_count": null,
   "metadata": {
    "collapsed": false
   },
   "outputs": [],
   "source": [
    "ax.set_xlim([0,3])##show line plots with x = pre to post, colored by condition, grouped by engagement level\n",
    "fig, axs = plt.subplots(nrows=1, ncols=3, sharex=True)\n",
    "shape_treatment={'TextThenPhet':'-','TextOnly':'.','PhetThenText':'.-'}\n",
    "\n",
    "ax = axs[0]\n",
    "for t in treatments:\n",
    "    ax.errorbar([1,2],[np.mean(df2[(df2['Treatment']==t) & (df2['Time on text']<eng_levels_text[0])]['Prescore']),\n",
    "        np.mean(df2[(df2['Treatment']==t) & (df2['Time on text']<eng_levels_text[0])]['Postscore'])],\n",
    "        yerr=[scipy.stats.sem(df2[(df2['Treatment']==t) & (df2['Time on text']<eng_levels_text[0])]['Prescore']),\n",
    "        scipy.stats.sem(df2[(df2['Treatment']==t) & (df2['Time on text']<eng_levels_text[0])]['Postscore'])],\n",
    "        label=t,fmt='-o')\n",
    "ax.set_title('No engagement')\n",
    "\n",
    "ax = axs[1]\n",
    "for t in treatments:\n",
    "    ax.errorbar([1,2],[np.mean(df2[(df2['Treatment']==t) & (df2['Time on text']>=eng_levels_text[0]) & (df2['Time on text']<eng_levels_text[1])]['Prescore']),\n",
    "        np.mean(df2[(df2['Treatment']==t) & (df2['Time on text']>=eng_levels_text[0]) & (df2['Time on text']<eng_levels_text[1])]['Postscore'])],\n",
    "        yerr=[scipy.stats.sem(df2[(df2['Treatment']==t) & (df2['Time on text']>=eng_levels_text[0]) & (df2['Time on text']<eng_levels_text[1])]['Prescore']),\n",
    "        scipy.stats.sem(df2[(df2['Treatment']==t) & (df2['Time on text']>=eng_levels_text[0]) & (df2['Time on text']<eng_levels_text[1])]['Postscore'])],\n",
    "        label=t,fmt='-o')\n",
    "ax.set_title('Medium engagement')\n",
    "\n",
    "ax = axs[2]\n",
    "for t in treatments:\n",
    "    ax.errorbar([1,2],[np.mean(df2[(df2['Treatment']==t) & (df2['Time on text']>=eng_levels_text[1])]['Prescore']),\n",
    "        np.mean(df2[(df2['Treatment']==t) & (df2['Time on text']>=eng_levels_text[1])]['Postscore'])],\n",
    "        yerr=[scipy.stats.sem(df2[(df2['Treatment']==t) & (df2['Time on text']>=eng_levels_text[1])]['Prescore']),\n",
    "        scipy.stats.sem(df2[(df2['Treatment']==t) & (df2['Time on text']>=eng_levels_text[1])]['Postscore'])],\n",
    "        label=t,fmt='-o')\n",
    "ax.set_title('High engagement')\n",
    "\n",
    "ax.set_xlim([0,3])\n",
    "ax.legend(bbox_to_anchor=(1.05, 1), loc=2, borderaxespad=0.)"
   ]
  },
  {
   "cell_type": "markdown",
   "metadata": {},
   "source": [
    "## Postscore analysis\n",
    "#### Next let's group by engagement and see if there is a different in performance."
   ]
  },
  {
   "cell_type": "code",
   "execution_count": 31,
   "metadata": {
    "collapsed": false
   },
   "outputs": [
    {
     "data": {
      "text/html": [
       "<table class=\"simpletable\">\n",
       "<tr>\n",
       "       <td>Model:</td>       <td>MixedLM</td> <td>Dependent Variable:</td> <td>Postscore</td>\n",
       "</tr>\n",
       "<tr>\n",
       "  <td>No. Observations:</td>  <td>1061</td>         <td>Method:</td>         <td>REML</td>   \n",
       "</tr>\n",
       "<tr>\n",
       "     <td>No. Groups:</td>      <td>446</td>         <td>Scale:</td>         <td>0.0889</td>  \n",
       "</tr>\n",
       "<tr>\n",
       "  <td>Min. group size:</td>     <td>1</td>        <td>Likelihood:</td>     <td>-290.1167</td>\n",
       "</tr>\n",
       "<tr>\n",
       "  <td>Max. group size:</td>     <td>3</td>        <td>Converged:</td>         <td>Yes</td>   \n",
       "</tr>\n",
       "<tr>\n",
       "  <td>Mean group size:</td>    <td>2.4</td>            <td></td>               <td></td>     \n",
       "</tr>\n",
       "</table>\n",
       "<table class=\"simpletable\">\n",
       "<tr>\n",
       "                     <td></td>                     <th>Coef.</th> <th>Std.Err.</th>    <th>z</th>   <th>P>|z|</th> <th>[0.025</th> <th>0.975]</th>\n",
       "</tr>\n",
       "<tr>\n",
       "  <th>Intercept</th>                               <td>0.362</td>   <td>0.025</td>  <td>14.665</td> <td>0.000</td>  <td>0.314</td>  <td>0.411</td>\n",
       "</tr>\n",
       "<tr>\n",
       "  <th>Topic[T.Masses]</th>                        <td>-0.022</td>   <td>0.024</td>  <td>-0.927</td> <td>0.354</td> <td>-0.068</td>  <td>0.024</td>\n",
       "</tr>\n",
       "<tr>\n",
       "  <th>Topic[T.Resonance]</th>                     <td>-0.051</td>   <td>0.023</td>  <td>-2.265</td> <td>0.023</td> <td>-0.095</td> <td>-0.007</td>\n",
       "</tr>\n",
       "<tr>\n",
       "  <th>C(Treatment, contrast)[T.TextThenPhet]</th>  <td>0.030</td>   <td>0.023</td>   <td>1.347</td> <td>0.178</td> <td>-0.014</td>  <td>0.075</td>\n",
       "</tr>\n",
       "<tr>\n",
       "  <th>C(Treatment, contrast)[T.PhetThenText]</th> <td>-0.023</td>   <td>0.023</td>  <td>-0.998</td> <td>0.319</td> <td>-0.067</td>  <td>0.022</td>\n",
       "</tr>\n",
       "<tr>\n",
       "  <th>Prescore</th>                                <td>0.399</td>   <td>0.033</td>  <td>11.967</td> <td>0.000</td>  <td>0.333</td>  <td>0.464</td>\n",
       "</tr>\n",
       "<tr>\n",
       "  <th>Intercept RE</th>                            <td>0.010</td>   <td>0.014</td>     <td></td>      <td></td>       <td></td>       <td></td>   \n",
       "</tr>\n",
       "</table>"
      ],
      "text/plain": [
       "<class 'statsmodels.iolib.summary2.Summary'>\n",
       "\"\"\"\n",
       "                      Mixed Linear Model Regression Results\n",
       "=================================================================================\n",
       "Model:                      MixedLM         Dependent Variable:         Postscore\n",
       "No. Observations:           1061            Method:                     REML     \n",
       "No. Groups:                 446             Scale:                      0.0889   \n",
       "Min. group size:            1               Likelihood:                 -290.1167\n",
       "Max. group size:            3               Converged:                  Yes      \n",
       "Mean group size:            2.4                                                  \n",
       "---------------------------------------------------------------------------------\n",
       "                                       Coef.  Std.Err.   z    P>|z| [0.025 0.975]\n",
       "---------------------------------------------------------------------------------\n",
       "Intercept                               0.362    0.025 14.665 0.000  0.314  0.411\n",
       "Topic[T.Masses]                        -0.022    0.024 -0.927 0.354 -0.068  0.024\n",
       "Topic[T.Resonance]                     -0.051    0.023 -2.265 0.023 -0.095 -0.007\n",
       "C(Treatment, contrast)[T.TextThenPhet]  0.030    0.023  1.347 0.178 -0.014  0.075\n",
       "C(Treatment, contrast)[T.PhetThenText] -0.023    0.023 -0.998 0.319 -0.067  0.022\n",
       "Prescore                                0.399    0.033 11.967 0.000  0.333  0.464\n",
       "Intercept RE                            0.010    0.014                           \n",
       "=================================================================================\n",
       "\n",
       "\"\"\""
      ]
     },
     "execution_count": 31,
     "metadata": {},
     "output_type": "execute_result"
    }
   ],
   "source": [
    "import statsmodels.formula.api as smf\n",
    "import patsy\n",
    "from patsy.contrasts import Treatment as TheTreatment\n",
    "import statsmodels.regression.mixed_linear_model as mlm\n",
    "levels = ['TextOnly','TextThenPhet','PhetThenText']\n",
    "contrast = TheTreatment(reference=0).code_without_intercept(levels)\n",
    "formula= '''Postscore ~ Prescore + Topic + C(Treatment, contrast)'''\n",
    "y,X = patsy.dmatrices(formula, df_score, return_type='dataframe')\n",
    "\n",
    "mod = mlm.MixedLM(y,X, groups=df_score['student id'])\n",
    "# mod = smf.mixedlm(formula= '''Postscore ~ Prescore + Topic + C(Treatment, contrast)''', data=df_score, groups=df_score['student id'])\n",
    "res = mod.fit()\n",
    "res.summary()"
   ]
  },
  {
   "cell_type": "code",
   "execution_count": 32,
   "metadata": {
    "collapsed": false
   },
   "outputs": [
    {
     "ename": "ValueError",
     "evalue": "could not broadcast input array from shape (5,2) into shape (5)",
     "output_type": "error",
     "traceback": [
      "\u001b[1;31m---------------------------------------------------------------------------\u001b[0m",
      "\u001b[1;31mValueError\u001b[0m                                Traceback (most recent call last)",
      "\u001b[1;32m<ipython-input-32-e81ca3ae617d>\u001b[0m in \u001b[0;36m<module>\u001b[1;34m()\u001b[0m\n\u001b[0;32m     11\u001b[0m \u001b[1;33m\u001b[0m\u001b[0m\n\u001b[0;32m     12\u001b[0m \u001b[0mmod\u001b[0m \u001b[1;33m=\u001b[0m \u001b[0msmf\u001b[0m\u001b[1;33m.\u001b[0m\u001b[0mmixedlm\u001b[0m\u001b[1;33m(\u001b[0m\u001b[0mformula\u001b[0m\u001b[1;33m=\u001b[0m \u001b[1;34m'''Postscore + Prescore ~ Topic + C(Treatment)'''\u001b[0m\u001b[1;33m,\u001b[0m \u001b[0mdata\u001b[0m\u001b[1;33m=\u001b[0m\u001b[0mdf_score\u001b[0m\u001b[1;33m,\u001b[0m \u001b[0mgroups\u001b[0m\u001b[1;33m=\u001b[0m\u001b[0mdf_score\u001b[0m\u001b[1;33m[\u001b[0m\u001b[1;34m'student id'\u001b[0m\u001b[1;33m]\u001b[0m\u001b[1;33m)\u001b[0m\u001b[1;33m\u001b[0m\u001b[0m\n\u001b[1;32m---> 13\u001b[1;33m \u001b[0mres\u001b[0m \u001b[1;33m=\u001b[0m \u001b[0mmod\u001b[0m\u001b[1;33m.\u001b[0m\u001b[0mfit\u001b[0m\u001b[1;33m(\u001b[0m\u001b[1;33m)\u001b[0m\u001b[1;33m\u001b[0m\u001b[0m\n\u001b[0m\u001b[0;32m     14\u001b[0m \u001b[0mres\u001b[0m\u001b[1;33m.\u001b[0m\u001b[0msummary\u001b[0m\u001b[1;33m(\u001b[0m\u001b[1;33m)\u001b[0m\u001b[1;33m\u001b[0m\u001b[0m\n",
      "\u001b[1;32mC:\\Users\\Sarah\\Anaconda2\\lib\\site-packages\\statsmodels\\regression\\mixed_linear_model.pyc\u001b[0m in \u001b[0;36mfit\u001b[1;34m(self, start_params, reml, niter_em, niter_sa, do_cg, fe_pen, cov_pen, free, full_output, **kwargs)\u001b[0m\n\u001b[0;32m   1658\u001b[0m             \u001b[0mhist\u001b[0m \u001b[1;33m=\u001b[0m \u001b[0mNone\u001b[0m\u001b[1;33m\u001b[0m\u001b[0m\n\u001b[0;32m   1659\u001b[0m \u001b[1;33m\u001b[0m\u001b[0m\n\u001b[1;32m-> 1660\u001b[1;33m         \u001b[0mparams\u001b[0m \u001b[1;33m=\u001b[0m \u001b[0mself\u001b[0m\u001b[1;33m.\u001b[0m\u001b[0mstarting_values\u001b[0m\u001b[1;33m(\u001b[0m\u001b[0mstart_params\u001b[0m\u001b[1;33m)\u001b[0m\u001b[1;33m\u001b[0m\u001b[0m\n\u001b[0m\u001b[0;32m   1661\u001b[0m \u001b[1;33m\u001b[0m\u001b[0m\n\u001b[0;32m   1662\u001b[0m         \u001b[0msuccess\u001b[0m \u001b[1;33m=\u001b[0m \u001b[0mFalse\u001b[0m\u001b[1;33m\u001b[0m\u001b[0m\n",
      "\u001b[1;32mC:\\Users\\Sarah\\Anaconda2\\lib\\site-packages\\statsmodels\\regression\\mixed_linear_model.pyc\u001b[0m in \u001b[0;36mstarting_values\u001b[1;34m(self, start_params)\u001b[0m\n\u001b[0;32m   1588\u001b[0m         \u001b[0mcov_re\u001b[0m \u001b[1;33m=\u001b[0m \u001b[0mnp\u001b[0m\u001b[1;33m.\u001b[0m\u001b[0meye\u001b[0m\u001b[1;33m(\u001b[0m\u001b[0mself\u001b[0m\u001b[1;33m.\u001b[0m\u001b[0mk_re\u001b[0m\u001b[1;33m)\u001b[0m\u001b[1;33m\u001b[0m\u001b[0m\n\u001b[0;32m   1589\u001b[0m         pa = MixedLMParams.from_components(fe_params, cov_re=cov_re,\n\u001b[1;32m-> 1590\u001b[1;33m                                            use_sqrt=self.use_sqrt)\n\u001b[0m\u001b[0;32m   1591\u001b[0m \u001b[1;33m\u001b[0m\u001b[0m\n\u001b[0;32m   1592\u001b[0m         \u001b[1;32mreturn\u001b[0m \u001b[0mpa\u001b[0m\u001b[1;33m\u001b[0m\u001b[0m\n",
      "\u001b[1;32mC:\\Users\\Sarah\\Anaconda2\\lib\\site-packages\\statsmodels\\regression\\mixed_linear_model.pyc\u001b[0m in \u001b[0;36mfrom_components\u001b[1;34m(fe_params, cov_re, cov_re_sqrt, use_sqrt)\u001b[0m\n\u001b[0;32m    220\u001b[0m         \u001b[0mk_re\u001b[0m \u001b[1;33m=\u001b[0m \u001b[0mcov_re\u001b[0m\u001b[1;33m.\u001b[0m\u001b[0mshape\u001b[0m\u001b[1;33m[\u001b[0m\u001b[1;36m0\u001b[0m\u001b[1;33m]\u001b[0m\u001b[1;33m\u001b[0m\u001b[0m\n\u001b[0;32m    221\u001b[0m         \u001b[0mpa\u001b[0m \u001b[1;33m=\u001b[0m \u001b[0mMixedLMParams\u001b[0m\u001b[1;33m(\u001b[0m\u001b[0mk_fe\u001b[0m\u001b[1;33m,\u001b[0m \u001b[0mk_re\u001b[0m\u001b[1;33m,\u001b[0m \u001b[0muse_sqrt\u001b[0m\u001b[1;33m)\u001b[0m\u001b[1;33m\u001b[0m\u001b[0m\n\u001b[1;32m--> 222\u001b[1;33m         \u001b[0mpa\u001b[0m\u001b[1;33m.\u001b[0m\u001b[0mset_fe_params\u001b[0m\u001b[1;33m(\u001b[0m\u001b[0mfe_params\u001b[0m\u001b[1;33m)\u001b[0m\u001b[1;33m\u001b[0m\u001b[0m\n\u001b[0m\u001b[0;32m    223\u001b[0m         \u001b[0mpa\u001b[0m\u001b[1;33m.\u001b[0m\u001b[0mset_cov_re\u001b[0m\u001b[1;33m(\u001b[0m\u001b[0mcov_re\u001b[0m\u001b[1;33m)\u001b[0m\u001b[1;33m\u001b[0m\u001b[0m\n\u001b[0;32m    224\u001b[0m \u001b[1;33m\u001b[0m\u001b[0m\n",
      "\u001b[1;32mC:\\Users\\Sarah\\Anaconda2\\lib\\site-packages\\statsmodels\\regression\\mixed_linear_model.pyc\u001b[0m in \u001b[0;36mset_fe_params\u001b[1;34m(self, fe_params)\u001b[0m\n\u001b[0;32m    278\u001b[0m         \u001b[0mSet\u001b[0m \u001b[0mthe\u001b[0m \u001b[0mfixed\u001b[0m \u001b[0meffect\u001b[0m \u001b[0mparameters\u001b[0m \u001b[0mto\u001b[0m \u001b[0mthe\u001b[0m \u001b[0mgiven\u001b[0m \u001b[0mvector\u001b[0m\u001b[1;33m.\u001b[0m\u001b[1;33m\u001b[0m\u001b[0m\n\u001b[0;32m    279\u001b[0m         \"\"\"\n\u001b[1;32m--> 280\u001b[1;33m         \u001b[0mself\u001b[0m\u001b[1;33m.\u001b[0m\u001b[0m_params\u001b[0m\u001b[1;33m[\u001b[0m\u001b[1;36m0\u001b[0m\u001b[1;33m:\u001b[0m\u001b[0mself\u001b[0m\u001b[1;33m.\u001b[0m\u001b[0mk_fe\u001b[0m\u001b[1;33m]\u001b[0m \u001b[1;33m=\u001b[0m \u001b[0mfe_params\u001b[0m\u001b[1;33m\u001b[0m\u001b[0m\n\u001b[0m\u001b[0;32m    281\u001b[0m \u001b[1;33m\u001b[0m\u001b[0m\n\u001b[0;32m    282\u001b[0m     \u001b[1;32mdef\u001b[0m \u001b[0mset_cov_re\u001b[0m\u001b[1;33m(\u001b[0m\u001b[0mself\u001b[0m\u001b[1;33m,\u001b[0m \u001b[0mcov_re\u001b[0m\u001b[1;33m=\u001b[0m\u001b[0mNone\u001b[0m\u001b[1;33m,\u001b[0m \u001b[0mcov_re_sqrt\u001b[0m\u001b[1;33m=\u001b[0m\u001b[0mNone\u001b[0m\u001b[1;33m)\u001b[0m\u001b[1;33m:\u001b[0m\u001b[1;33m\u001b[0m\u001b[0m\n",
      "\u001b[1;31mValueError\u001b[0m: could not broadcast input array from shape (5,2) into shape (5)"
     ]
    }
   ],
   "source": [
    "import statsmodels.formula.api as smf\n",
    "import patsy\n",
    "from patsy.contrasts import Treatment as TheTreatment\n",
    "import statsmodels.regression.mixed_linear_model as mlm\n",
    "levels = ['TextOnly','TextThenPhet','PhetThenText']\n",
    "contrast = TheTreatment(reference=0).code_without_intercept(levels)\n",
    "\n",
    "# formula= '''Postscore ~ Prescore + Topic*C(Treatment, contrast)'''\n",
    "# y,X = patsy.dmatrices(formula, df_score, return_type='dataframe')\n",
    "# mod = mlm.MixedLM(y,X, groups=df_score['student id'])\n",
    "\n",
    "mod = smf.mixedlm(formula= '''Postscore ~ Prescore + Topic + C(Treatment)''', data=df_score, groups=df_score['student id'])\n",
    "res = mod.fit()\n",
    "res.summary()"
   ]
  },
  {
   "cell_type": "code",
   "execution_count": null,
   "metadata": {
    "collapsed": false
   },
   "outputs": [],
   "source": [
    "# fig, ax = plt.subplots(figsize=(15,20))\n",
    "# fig = sm.graphics.plot_partregress_grid(res, fig=fig)"
   ]
  },
  {
   "cell_type": "code",
   "execution_count": null,
   "metadata": {
    "collapsed": false
   },
   "outputs": [],
   "source": []
  },
  {
   "cell_type": "markdown",
   "metadata": {},
   "source": [
    "## Clickerscore analysis"
   ]
  },
  {
   "cell_type": "code",
   "execution_count": null,
   "metadata": {
    "collapsed": false
   },
   "outputs": [],
   "source": [
    "# formula = '''df_score[\"Clickerscore\"] ~ df_score[\"Prescore\"] + df_score[\"Topic\"]*df_score[\"Treatment\"]'''\n",
    "# glm_f_binom = smf.glm(formula = formula, data = df_score,  family=sm.families.Binomial())\n",
    "# res = glm_f_binom.fit()\n",
    "# print(res.summary())\n",
    "\n",
    "mod = smf.mixedlm(formula= '''Clickerscore ~ Prescore + Topic*C(Treatment)''', data=df_score, groups=df_score['student id'])\n",
    "res = mod.fit()\n",
    "res.summary()"
   ]
  },
  {
   "cell_type": "code",
   "execution_count": null,
   "metadata": {
    "collapsed": false
   },
   "outputs": [],
   "source": [
    "# formula = '''df_score[\"Clickerscore\"] ~ df_score[\"Prescore\"] + df_score[\"Topic\"]*df_score[\"Treatment\"]'''\n",
    "# glm_f_binom = smf.glm(formula = formula, data = df_score,  family=sm.families.Binomial())\n",
    "# res = glm_f_binom.fit()\n",
    "# print(res.summary())\n",
    "\n",
    "mod = smf.mixedlm(formula= '''Clickerscore ~ Postscore + Topic*C(Treatment)''', data=df_score,groups=df_score['student id'])\n",
    "res = mod.fit()\n",
    "res.summary()"
   ]
  },
  {
   "cell_type": "markdown",
   "metadata": {},
   "source": [
    "#### Interestingly, low or no effect by the prescore on the clickerscore when including the post-score as a covariate... A high effect by post-score! No effect on their interaction. Which means that the postscore was a better indicator than prescore and that the effect by the prescore is included in the post-score. Thus the reading assignment was an equalizing force!"
   ]
  },
  {
   "cell_type": "code",
   "execution_count": null,
   "metadata": {
    "collapsed": false
   },
   "outputs": [],
   "source": [
    "mod = smf.ols(formula= '''Clickerscore ~ Prescore*Postscore + Topic*C(Treatment, contrast)''', data=df_score)\n",
    "res = mod.fit()\n",
    "res.summary()"
   ]
  },
  {
   "cell_type": "markdown",
   "metadata": {
    "collapsed": false
   },
   "source": [
    "Some notes:\n",
    "\n",
    "* interpreting effect size:http://rpsychologist.com/d3/cohend/\n",
    "* non parametric effec size: https://www.google.ca/url?sa=t&rct=j&q=&esrc=s&source=web&cd=1&ved=0ahUKEwj-3__RpJTNAhUK12MKHYynBOAQFgghMAA&url=http%3A%2F%2Fcore.ecu.edu%2Fpsyc%2Fwuenschk%2Fdocs30%2FNonparametric-EffectSize.docx&usg=AFQjCNEG_QTb5CNYOJg5MWkriyNfwzCBxA&sig2=iUXeyP-_9pA07BcDiAqL8Q&cad=rja\n",
    "* Haven't looked at \"benefit\" and \"enjoy\" questions per topic (masses and resonance only)\n"
   ]
  },
  {
   "cell_type": "code",
   "execution_count": null,
   "metadata": {
    "collapsed": true
   },
   "outputs": [],
   "source": []
  }
 ],
 "metadata": {
  "kernelspec": {
   "display_name": "Python 2",
   "language": "python",
   "name": "python2"
  },
  "language_info": {
   "codemirror_mode": {
    "name": "ipython",
    "version": 2
   },
   "file_extension": ".py",
   "mimetype": "text/x-python",
   "name": "python",
   "nbconvert_exporter": "python",
   "pygments_lexer": "ipython2",
   "version": "2.7.11"
  }
 },
 "nbformat": 4,
 "nbformat_minor": 0
}
