{
 "cells": [
  {
   "cell_type": "code",
   "execution_count": 1,
   "metadata": {
    "collapsed": true
   },
   "outputs": [],
   "source": [
    "from datetime import datetime, timedelta, date"
   ]
  },
  {
   "cell_type": "code",
   "execution_count": 2,
   "metadata": {
    "collapsed": true
   },
   "outputs": [],
   "source": [
    "def fix_time(time_start,current_time):\n",
    "    \"\"\"This function fixes the timestamps used by converting them to seconds, starting at zero.\n",
    "    \n",
    "    Args:\n",
    "        time_start (str): The time at which the first action was done.\n",
    "        current_time (str): The current time we are converting.\n",
    "\n",
    "    Returns:\n",
    "        current_time_fixed: The time of the current action converted into seconds given that the first action was done as 0 seconds.\n",
    "    \"\"\"\n",
    "    #check that the current time is later than first time stamp\n",
    "    if datetime.combine(date.min, current_time) >= datetime.combine(date.min, time_start):\n",
    "        current_time_fixed = (datetime.combine(date.min, current_time) - datetime.combine(date.min, time_start)).total_seconds()\n",
    "    else:\n",
    "        #ex: this is the case when time_start is 59:00 min and cuurent_time is 02:00 min, so we add an hour to find the duration in between\n",
    "        current_time_fixed = (datetime.combine(date.min, current_time) + timedelta(hours=1) - datetime.combine(date.min, time_start)).total_seconds()\n",
    "    return current_time_fixed\n",
    "\n",
    "def get_duration(row):\n",
    "    \"\"\"This function gets the duration of an action given the difference in time\n",
    "    between the current and next timestamp.\n",
    "    \n",
    "    Args:\n",
    "        row (Pandas element): The row of the action for which we want to find the duration.\n",
    "\n",
    "    Returns:\n",
    "        duration: The difference in time in seconds between the Timeshifted and Time variables.\n",
    "    \"\"\"\n",
    "    if pd.notnull(row['Timeshifted']): #check that this is not the last action which will have a NA Timeshifted value\n",
    "        #check that the time of the next action is indeed later than time of the current actin\n",
    "        if datetime.combine(date.min, row['Timeshifted']) >= datetime.combine(date.min, row['Time']):\n",
    "            duration = (datetime.combine(date.min, row['Timeshifted']) - datetime.combine(date.min, row['Time'])).total_seconds()\n",
    "        else:\n",
    "            #ex: this is the case when TimeSHifted is 59:00 min and Time is 02:00 min, so we add an hour to find the duration in between\n",
    "            duration = (datetime.combine(date.min, row['Timeshifted']) + timedelta(hours=1) - datetime.combine(date.min, row['Time'])).total_seconds()\n",
    "    else:\n",
    "        duration = 10 #last action lasts zero seconds but we need to put a dummy variable here.\n",
    "    return duration\n",
    "\n",
    "def get_action_usage(df,column,action):\n",
    "    '''Given an action or method, we detect its use using a particular column\n",
    "    and then extract a list of time coordinates for when\n",
    "    they were used. These coordinates are in the format (start_time, duration)\n",
    "    \n",
    "    Args:\n",
    "        df (Pandas dataframe): The dataframe to search in.\n",
    "        column (str): The column where the method or action might be logged.\n",
    "        action (str): The name of the action or method to search for in the column.\n",
    "        \n",
    "\n",
    "    Returns:\n",
    "        A list of tuples with start times of the action and it's duration [(start1,duration1),(start2,duration2),...]\n",
    "    '''\n",
    "    return zip(df[df[column].str.contains(action,na=False)]['Time_seconds'],df[df[column].str.contains(action,na=False)]['Duration'])"
   ]
  },
  {
   "cell_type": "code",
   "execution_count": null,
   "metadata": {
    "collapsed": true
   },
   "outputs": [],
   "source": []
  }
 ],
 "metadata": {
  "kernelspec": {
   "display_name": "Python [Root]",
   "language": "python",
   "name": "Python [Root]"
  },
  "language_info": {
   "codemirror_mode": {
    "name": "ipython",
    "version": 2
   },
   "file_extension": ".py",
   "mimetype": "text/x-python",
   "name": "python",
   "nbconvert_exporter": "python",
   "pygments_lexer": "ipython2",
   "version": "2.7.12"
  }
 },
 "nbformat": 4,
 "nbformat_minor": 0
}
