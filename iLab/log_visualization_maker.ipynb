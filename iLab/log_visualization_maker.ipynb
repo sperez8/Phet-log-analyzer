{
 "cells": [
  {
   "cell_type": "code",
   "execution_count": 1,
   "metadata": {
    "collapsed": false
   },
   "outputs": [],
   "source": [
    "import numpy as np\n",
    "import pandas as pd\n",
    "import sys\n",
    "import matplotlib.pyplot as plt\n",
    "import seaborn as sns\n",
    "from datetime import datetime, timedelta, date\n",
    "%matplotlib inline\n",
    "pd.options.display.max_rows = 10\n",
    "pd.options.display.max_columns = 60"
   ]
  },
  {
   "cell_type": "markdown",
   "metadata": {},
   "source": [
    "### The data"
   ]
  },
  {
   "cell_type": "code",
   "execution_count": 2,
   "metadata": {
    "collapsed": true
   },
   "outputs": [],
   "source": [
    "df_all = pd.read_excel('all data v3.xlsx', 'iLab data.txt', index_col=None, na_values=['NA'])"
   ]
  },
  {
   "cell_type": "markdown",
   "metadata": {},
   "source": [
    "Let's first use a particular session as a test case. We extract only the data relevant to that case"
   ]
  },
  {
   "cell_type": "code",
   "execution_count": 3,
   "metadata": {
    "collapsed": false
   },
   "outputs": [],
   "source": [
    "#Using the example used for sketch.\n",
    "#(df_all.condition1 == 'Savanna') & (df_all.student1 == 'penguin') & (df_all.student2 == 'gorilla')]\n",
    "df_test = df_all[df_all['Session Id'] == 'L-2567b17a:120eda25685:-8000']"
   ]
  },
  {
   "cell_type": "markdown",
   "metadata": {},
   "source": [
    "Next we filter out all actions with \"INCORRECT\" outcomes"
   ]
  },
  {
   "cell_type": "code",
   "execution_count": 4,
   "metadata": {
    "collapsed": false
   },
   "outputs": [
    {
     "name": "stdout",
     "output_type": "stream",
     "text": [
      "We are left with 212 rows out of 285\n"
     ]
    }
   ],
   "source": [
    "before = df_test.shape[0]\n",
    "df_test = df_test[df_test['Outcome'] == 'CORRECT']\n",
    "print \"We are left with {0} rows out of {1}\".format(df_test.shape[0],before)"
   ]
  },
  {
   "cell_type": "code",
   "execution_count": 5,
   "metadata": {
    "collapsed": false
   },
   "outputs": [
    {
     "data": {
      "text/html": [
       "<div>\n",
       "<table border=\"1\" class=\"dataframe\">\n",
       "  <thead>\n",
       "    <tr style=\"text-align: right;\">\n",
       "      <th></th>\n",
       "      <th>Row ID</th>\n",
       "      <th>login name</th>\n",
       "      <th>condition1</th>\n",
       "      <th>condition2</th>\n",
       "      <th>student1</th>\n",
       "      <th>student2</th>\n",
       "      <th>student 3</th>\n",
       "      <th>class</th>\n",
       "      <th>Session Id</th>\n",
       "      <th>time first action</th>\n",
       "      <th>time last action</th>\n",
       "      <th>Time</th>\n",
       "      <th>Time Taken</th>\n",
       "      <th>Problem Name</th>\n",
       "      <th>Step Name</th>\n",
       "      <th>Attempt At Step</th>\n",
       "      <th>Outcome</th>\n",
       "      <th>Selection</th>\n",
       "      <th>Graph #</th>\n",
       "      <th>Method_Recognized_1_Copied</th>\n",
       "      <th>Method_Recognized_2_Copied</th>\n",
       "      <th>Action</th>\n",
       "      <th>Input</th>\n",
       "      <th>Next_Input</th>\n",
       "      <th>Feedback Text</th>\n",
       "      <th>CF(Method1)</th>\n",
       "      <th>CF(Method2)</th>\n",
       "      <th>CF(advice)</th>\n",
       "      <th>CF(new1)</th>\n",
       "      <th>CF(new2)</th>\n",
       "      <th>CF(step1_1)</th>\n",
       "      <th>CF(step1_2)</th>\n",
       "      <th>CF(step1_3)</th>\n",
       "      <th>CF(step1_4)</th>\n",
       "      <th>CF(step1_5)</th>\n",
       "      <th>CF(step1_6)</th>\n",
       "      <th>CF(step1_7)</th>\n",
       "      <th>CF(step1_8)</th>\n",
       "      <th>CF(step2_1)</th>\n",
       "      <th>CF(step2_2)</th>\n",
       "      <th>CF(step2_3)</th>\n",
       "      <th>CF(step2_4)</th>\n",
       "      <th>CF(step2_5)</th>\n",
       "      <th>CF(step2_6)</th>\n",
       "      <th>CF(step2_7)</th>\n",
       "      <th>CF(step2_8)</th>\n",
       "      <th>Unnamed: 46</th>\n",
       "      <th>Unnamed: 47</th>\n",
       "      <th>Unnamed: 48</th>\n",
       "      <th>Input.1</th>\n",
       "      <th>Next_Input.1</th>\n",
       "    </tr>\n",
       "  </thead>\n",
       "  <tbody>\n",
       "    <tr>\n",
       "      <th>15384</th>\n",
       "      <td>ID25386</td>\n",
       "      <td>penguin8gorilla8</td>\n",
       "      <td>Savanna</td>\n",
       "      <td>Savanna</td>\n",
       "      <td>penguin</td>\n",
       "      <td>gorilla</td>\n",
       "      <td>NaN</td>\n",
       "      <td>8</td>\n",
       "      <td>L-2567b17a:120eda25685:-8000</td>\n",
       "      <td>00:57:29</td>\n",
       "      <td>NaN</td>\n",
       "      <td>00:57:29</td>\n",
       "      <td>NaN</td>\n",
       "      <td>trampoline</td>\n",
       "      <td>intuition UpdateComboBox</td>\n",
       "      <td>1.0</td>\n",
       "      <td>CORRECT</td>\n",
       "      <td>intuition</td>\n",
       "      <td>NaN</td>\n",
       "      <td>st1</td>\n",
       "      <td>st1</td>\n",
       "      <td>UpdateComboBox</td>\n",
       "      <td>Trampoline B</td>\n",
       "      <td>Dormin Button</td>\n",
       "      <td>Good. Now please work on part 2.</td>\n",
       "      <td>NaN</td>\n",
       "      <td>NaN</td>\n",
       "      <td>NaN</td>\n",
       "      <td>1 \"3\" \"5\" \"7\" \"9\"</td>\n",
       "      <td>3 \"4\" \"5\" \"6\" \"7\"</td>\n",
       "      <td>NaN</td>\n",
       "      <td>NaN</td>\n",
       "      <td>NaN</td>\n",
       "      <td>NaN</td>\n",
       "      <td>NaN</td>\n",
       "      <td>NaN</td>\n",
       "      <td>NaN</td>\n",
       "      <td>NaN</td>\n",
       "      <td>NaN</td>\n",
       "      <td>NaN</td>\n",
       "      <td>NaN</td>\n",
       "      <td>NaN</td>\n",
       "      <td>NaN</td>\n",
       "      <td>NaN</td>\n",
       "      <td>NaN</td>\n",
       "      <td>NaN</td>\n",
       "      <td>NaN</td>\n",
       "      <td>NaN</td>\n",
       "      <td>NaN</td>\n",
       "      <td>NaN</td>\n",
       "      <td>NaN</td>\n",
       "    </tr>\n",
       "    <tr>\n",
       "      <th>15385</th>\n",
       "      <td>ID25387</td>\n",
       "      <td>penguin8gorilla8</td>\n",
       "      <td>Savanna</td>\n",
       "      <td>Savanna</td>\n",
       "      <td>penguin</td>\n",
       "      <td>gorilla</td>\n",
       "      <td>NaN</td>\n",
       "      <td>8</td>\n",
       "      <td>L-2567b17a:120eda25685:-8000</td>\n",
       "      <td>NaN</td>\n",
       "      <td>NaN</td>\n",
       "      <td>00:57:40</td>\n",
       "      <td>00:00:11</td>\n",
       "      <td>trampoline</td>\n",
       "      <td>button1_9 ButtonPressed</td>\n",
       "      <td>1.0</td>\n",
       "      <td>CORRECT</td>\n",
       "      <td>button1_9</td>\n",
       "      <td>1.0</td>\n",
       "      <td>st1 9</td>\n",
       "      <td>st1</td>\n",
       "      <td>ButtonPressed</td>\n",
       "      <td>Dormin Button</td>\n",
       "      <td>Average</td>\n",
       "      <td>NaN</td>\n",
       "      <td>NaN</td>\n",
       "      <td>NaN</td>\n",
       "      <td>NaN</td>\n",
       "      <td>1 \"3\" \"5\" \"7\" \"9\"</td>\n",
       "      <td>3 \"4\" \"5\" \"6\" \"7\"</td>\n",
       "      <td>NaN</td>\n",
       "      <td>NaN</td>\n",
       "      <td>NaN</td>\n",
       "      <td>NaN</td>\n",
       "      <td>NaN</td>\n",
       "      <td>NaN</td>\n",
       "      <td>NaN</td>\n",
       "      <td>NaN</td>\n",
       "      <td>NaN</td>\n",
       "      <td>NaN</td>\n",
       "      <td>NaN</td>\n",
       "      <td>NaN</td>\n",
       "      <td>NaN</td>\n",
       "      <td>NaN</td>\n",
       "      <td>NaN</td>\n",
       "      <td>NaN</td>\n",
       "      <td>NaN</td>\n",
       "      <td>NaN</td>\n",
       "      <td>NaN</td>\n",
       "      <td>NaN</td>\n",
       "      <td>NaN</td>\n",
       "    </tr>\n",
       "    <tr>\n",
       "      <th>15388</th>\n",
       "      <td>ID25390</td>\n",
       "      <td>penguin8gorilla8</td>\n",
       "      <td>Savanna</td>\n",
       "      <td>Savanna</td>\n",
       "      <td>penguin</td>\n",
       "      <td>gorilla</td>\n",
       "      <td>NaN</td>\n",
       "      <td>8</td>\n",
       "      <td>L-2567b17a:120eda25685:-8000</td>\n",
       "      <td>NaN</td>\n",
       "      <td>NaN</td>\n",
       "      <td>00:58:11</td>\n",
       "      <td>00:00:09</td>\n",
       "      <td>trampoline</td>\n",
       "      <td>delete1 ButtonPressed</td>\n",
       "      <td>1.0</td>\n",
       "      <td>CORRECT</td>\n",
       "      <td>delete1</td>\n",
       "      <td>1.0</td>\n",
       "      <td>st1</td>\n",
       "      <td>st1</td>\n",
       "      <td>ButtonPressed</td>\n",
       "      <td>Delete step</td>\n",
       "      <td>Average</td>\n",
       "      <td>NaN</td>\n",
       "      <td>NaN</td>\n",
       "      <td>NaN</td>\n",
       "      <td>NaN</td>\n",
       "      <td>1 \"3\" \"5\" \"7\" \"9\"</td>\n",
       "      <td>3 \"4\" \"5\" \"6\" \"7\"</td>\n",
       "      <td>NaN</td>\n",
       "      <td>NaN</td>\n",
       "      <td>NaN</td>\n",
       "      <td>NaN</td>\n",
       "      <td>NaN</td>\n",
       "      <td>NaN</td>\n",
       "      <td>NaN</td>\n",
       "      <td>NaN</td>\n",
       "      <td>NaN</td>\n",
       "      <td>NaN</td>\n",
       "      <td>NaN</td>\n",
       "      <td>NaN</td>\n",
       "      <td>NaN</td>\n",
       "      <td>NaN</td>\n",
       "      <td>NaN</td>\n",
       "      <td>NaN</td>\n",
       "      <td>NaN</td>\n",
       "      <td>NaN</td>\n",
       "      <td>NaN</td>\n",
       "      <td>NaN</td>\n",
       "      <td>NaN</td>\n",
       "    </tr>\n",
       "    <tr>\n",
       "      <th>15389</th>\n",
       "      <td>ID25391</td>\n",
       "      <td>penguin8gorilla8</td>\n",
       "      <td>Savanna</td>\n",
       "      <td>Savanna</td>\n",
       "      <td>penguin</td>\n",
       "      <td>gorilla</td>\n",
       "      <td>NaN</td>\n",
       "      <td>8</td>\n",
       "      <td>L-2567b17a:120eda25685:-8000</td>\n",
       "      <td>NaN</td>\n",
       "      <td>NaN</td>\n",
       "      <td>00:58:21</td>\n",
       "      <td>00:00:10</td>\n",
       "      <td>trampoline</td>\n",
       "      <td>function1 UpdateComboBox</td>\n",
       "      <td>2.0</td>\n",
       "      <td>CORRECT</td>\n",
       "      <td>function1</td>\n",
       "      <td>1.0</td>\n",
       "      <td>st1 Average</td>\n",
       "      <td>st1</td>\n",
       "      <td>UpdateComboBox</td>\n",
       "      <td>Average</td>\n",
       "      <td>all</td>\n",
       "      <td>NaN</td>\n",
       "      <td>NaN</td>\n",
       "      <td>NaN</td>\n",
       "      <td>NaN</td>\n",
       "      <td>1 \"3\" \"5\" \"7\" \"9\"</td>\n",
       "      <td>3 \"4\" \"5\" \"6\" \"7\"</td>\n",
       "      <td>NaN</td>\n",
       "      <td>NaN</td>\n",
       "      <td>NaN</td>\n",
       "      <td>NaN</td>\n",
       "      <td>NaN</td>\n",
       "      <td>NaN</td>\n",
       "      <td>NaN</td>\n",
       "      <td>NaN</td>\n",
       "      <td>NaN</td>\n",
       "      <td>NaN</td>\n",
       "      <td>NaN</td>\n",
       "      <td>NaN</td>\n",
       "      <td>NaN</td>\n",
       "      <td>NaN</td>\n",
       "      <td>NaN</td>\n",
       "      <td>NaN</td>\n",
       "      <td>NaN</td>\n",
       "      <td>NaN</td>\n",
       "      <td>NaN</td>\n",
       "      <td>NaN</td>\n",
       "      <td>NaN</td>\n",
       "    </tr>\n",
       "    <tr>\n",
       "      <th>15390</th>\n",
       "      <td>ID25392</td>\n",
       "      <td>penguin8gorilla8</td>\n",
       "      <td>Savanna</td>\n",
       "      <td>Savanna</td>\n",
       "      <td>penguin</td>\n",
       "      <td>gorilla</td>\n",
       "      <td>NaN</td>\n",
       "      <td>8</td>\n",
       "      <td>L-2567b17a:120eda25685:-8000</td>\n",
       "      <td>NaN</td>\n",
       "      <td>NaN</td>\n",
       "      <td>00:58:24</td>\n",
       "      <td>00:00:03</td>\n",
       "      <td>trampoline</td>\n",
       "      <td>pointsSelection1 UpdateComboBox</td>\n",
       "      <td>2.0</td>\n",
       "      <td>CORRECT</td>\n",
       "      <td>pointsSelection1</td>\n",
       "      <td>1.0</td>\n",
       "      <td>st1 Average all</td>\n",
       "      <td>st1</td>\n",
       "      <td>UpdateComboBox</td>\n",
       "      <td>all</td>\n",
       "      <td>Average</td>\n",
       "      <td>NaN</td>\n",
       "      <td>NaN</td>\n",
       "      <td>NaN</td>\n",
       "      <td>NaN</td>\n",
       "      <td>1 \"3\" \"5\" \"7\" \"9\"</td>\n",
       "      <td>3 \"4\" \"5\" \"6\" \"7\"</td>\n",
       "      <td>NaN</td>\n",
       "      <td>NaN</td>\n",
       "      <td>NaN</td>\n",
       "      <td>NaN</td>\n",
       "      <td>NaN</td>\n",
       "      <td>NaN</td>\n",
       "      <td>NaN</td>\n",
       "      <td>NaN</td>\n",
       "      <td>NaN</td>\n",
       "      <td>NaN</td>\n",
       "      <td>NaN</td>\n",
       "      <td>NaN</td>\n",
       "      <td>NaN</td>\n",
       "      <td>NaN</td>\n",
       "      <td>NaN</td>\n",
       "      <td>NaN</td>\n",
       "      <td>NaN</td>\n",
       "      <td>NaN</td>\n",
       "      <td>NaN</td>\n",
       "      <td>NaN</td>\n",
       "      <td>NaN</td>\n",
       "    </tr>\n",
       "  </tbody>\n",
       "</table>\n",
       "</div>"
      ],
      "text/plain": [
       "        Row ID        login name condition1 condition2 student1 student2  \\\n",
       "15384  ID25386  penguin8gorilla8    Savanna    Savanna  penguin  gorilla   \n",
       "15385  ID25387  penguin8gorilla8    Savanna    Savanna  penguin  gorilla   \n",
       "15388  ID25390  penguin8gorilla8    Savanna    Savanna  penguin  gorilla   \n",
       "15389  ID25391  penguin8gorilla8    Savanna    Savanna  penguin  gorilla   \n",
       "15390  ID25392  penguin8gorilla8    Savanna    Savanna  penguin  gorilla   \n",
       "\n",
       "      student 3  class                    Session Id time first action  \\\n",
       "15384       NaN      8  L-2567b17a:120eda25685:-8000          00:57:29   \n",
       "15385       NaN      8  L-2567b17a:120eda25685:-8000               NaN   \n",
       "15388       NaN      8  L-2567b17a:120eda25685:-8000               NaN   \n",
       "15389       NaN      8  L-2567b17a:120eda25685:-8000               NaN   \n",
       "15390       NaN      8  L-2567b17a:120eda25685:-8000               NaN   \n",
       "\n",
       "      time last action      Time Time Taken Problem Name  \\\n",
       "15384              NaN  00:57:29        NaN   trampoline   \n",
       "15385              NaN  00:57:40   00:00:11   trampoline   \n",
       "15388              NaN  00:58:11   00:00:09   trampoline   \n",
       "15389              NaN  00:58:21   00:00:10   trampoline   \n",
       "15390              NaN  00:58:24   00:00:03   trampoline   \n",
       "\n",
       "                             Step Name  Attempt At Step  Outcome  \\\n",
       "15384         intuition UpdateComboBox              1.0  CORRECT   \n",
       "15385          button1_9 ButtonPressed              1.0  CORRECT   \n",
       "15388            delete1 ButtonPressed              1.0  CORRECT   \n",
       "15389         function1 UpdateComboBox              2.0  CORRECT   \n",
       "15390  pointsSelection1 UpdateComboBox              2.0  CORRECT   \n",
       "\n",
       "              Selection  Graph # Method_Recognized_1_Copied  \\\n",
       "15384         intuition      NaN                        st1   \n",
       "15385         button1_9      1.0                      st1 9   \n",
       "15388           delete1      1.0                        st1   \n",
       "15389         function1      1.0                st1 Average   \n",
       "15390  pointsSelection1      1.0            st1 Average all   \n",
       "\n",
       "      Method_Recognized_2_Copied          Action          Input  \\\n",
       "15384                        st1  UpdateComboBox   Trampoline B   \n",
       "15385                        st1   ButtonPressed  Dormin Button   \n",
       "15388                        st1   ButtonPressed    Delete step   \n",
       "15389                        st1  UpdateComboBox        Average   \n",
       "15390                        st1  UpdateComboBox            all   \n",
       "\n",
       "          Next_Input                     Feedback Text CF(Method1)  \\\n",
       "15384  Dormin Button  Good. Now please work on part 2.         NaN   \n",
       "15385        Average                               NaN         NaN   \n",
       "15388        Average                               NaN         NaN   \n",
       "15389            all                               NaN         NaN   \n",
       "15390        Average                               NaN         NaN   \n",
       "\n",
       "      CF(Method2) CF(advice)           CF(new1)           CF(new2)  \\\n",
       "15384         NaN        NaN  1 \"3\" \"5\" \"7\" \"9\"  3 \"4\" \"5\" \"6\" \"7\"   \n",
       "15385         NaN        NaN  1 \"3\" \"5\" \"7\" \"9\"  3 \"4\" \"5\" \"6\" \"7\"   \n",
       "15388         NaN        NaN  1 \"3\" \"5\" \"7\" \"9\"  3 \"4\" \"5\" \"6\" \"7\"   \n",
       "15389         NaN        NaN  1 \"3\" \"5\" \"7\" \"9\"  3 \"4\" \"5\" \"6\" \"7\"   \n",
       "15390         NaN        NaN  1 \"3\" \"5\" \"7\" \"9\"  3 \"4\" \"5\" \"6\" \"7\"   \n",
       "\n",
       "      CF(step1_1) CF(step1_2) CF(step1_3) CF(step1_4) CF(step1_5) CF(step1_6)  \\\n",
       "15384         NaN         NaN         NaN         NaN         NaN         NaN   \n",
       "15385         NaN         NaN         NaN         NaN         NaN         NaN   \n",
       "15388         NaN         NaN         NaN         NaN         NaN         NaN   \n",
       "15389         NaN         NaN         NaN         NaN         NaN         NaN   \n",
       "15390         NaN         NaN         NaN         NaN         NaN         NaN   \n",
       "\n",
       "      CF(step1_7) CF(step1_8) CF(step2_1) CF(step2_2) CF(step2_3) CF(step2_4)  \\\n",
       "15384         NaN         NaN         NaN         NaN         NaN         NaN   \n",
       "15385         NaN         NaN         NaN         NaN         NaN         NaN   \n",
       "15388         NaN         NaN         NaN         NaN         NaN         NaN   \n",
       "15389         NaN         NaN         NaN         NaN         NaN         NaN   \n",
       "15390         NaN         NaN         NaN         NaN         NaN         NaN   \n",
       "\n",
       "      CF(step2_5) CF(step2_6) CF(step2_7) CF(step2_8)  Unnamed: 46  \\\n",
       "15384         NaN         NaN         NaN         NaN          NaN   \n",
       "15385         NaN         NaN         NaN         NaN          NaN   \n",
       "15388         NaN         NaN         NaN         NaN          NaN   \n",
       "15389         NaN         NaN         NaN         NaN          NaN   \n",
       "15390         NaN         NaN         NaN         NaN          NaN   \n",
       "\n",
       "       Unnamed: 47  Unnamed: 48 Input.1 Next_Input.1  \n",
       "15384          NaN          NaN     NaN          NaN  \n",
       "15385          NaN          NaN     NaN          NaN  \n",
       "15388          NaN          NaN     NaN          NaN  \n",
       "15389          NaN          NaN     NaN          NaN  \n",
       "15390          NaN          NaN     NaN          NaN  "
      ]
     },
     "execution_count": 5,
     "metadata": {},
     "output_type": "execute_result"
    }
   ],
   "source": [
    "df_test.head()"
   ]
  },
  {
   "cell_type": "code",
   "execution_count": 6,
   "metadata": {
    "collapsed": false
   },
   "outputs": [],
   "source": [
    "def fix_time(time_start,x):\n",
    "    if datetime.combine(date.min, x) >= datetime.combine(date.min, time_start):\n",
    "        start = (datetime.combine(date.min, x) - datetime.combine(date.min, time_start)).total_seconds()\n",
    "    else:\n",
    "        #ex: this is the case when time_start is 59:00 min and x is 02:00 min, so we add an hour to find the duration\n",
    "        start = (datetime.combine(date.min, x) + timedelta(hours=1) - datetime.combine(date.min, time_start)).total_seconds()\n",
    "    return start\n",
    "\n",
    "def get_duration(row):\n",
    "    if pd.notnull(row['Timeshifted']):\n",
    "        duration = (datetime.combine(date.min, row['Timeshifted']) - datetime.combine(date.min, row['Time'])).total_seconds()\n",
    "    else:\n",
    "        duration = 0\n",
    "    return duration"
   ]
  },
  {
   "cell_type": "markdown",
   "metadata": {},
   "source": [
    "Next we fix the time logs and convert them to seconds. We also recalculate the time between actions now that we have gotten rid of incorrect actions."
   ]
  },
  {
   "cell_type": "code",
   "execution_count": 7,
   "metadata": {
    "collapsed": false
   },
   "outputs": [],
   "source": [
    "time_start = list(df_test['time first action'])[0]\n",
    "df_test['Time_seconds'] = df_test[['Time']].applymap(lambda x: fix_time(time_start,x) )\n",
    "df_test['Timeshifted'] = df_test[['Time']].shift(-1)\n",
    "df_test['Duration'] = df_test[['Time','Timeshifted']].apply(get_duration, axis=1)"
   ]
  },
  {
   "cell_type": "code",
   "execution_count": 8,
   "metadata": {
    "collapsed": false
   },
   "outputs": [],
   "source": [
    "def get_method_usage(df,method):\n",
    "    '''for each method, need a list of time coordinates for when\n",
    "    they were used. These coordinates are in the format (start_time, duration)'''\n",
    "    \n",
    "    #first let's get time stamps for use of average\n",
    "    method1 = zip(df[df['Method_Recognized_1_Copied'].str.contains(method)]['Time_seconds'],df[df['Method_Recognized_1_Copied'].str.contains(method)]['Duration'])\n",
    "    method2 = zip(df[df['Method_Recognized_2_Copied'].str.contains(method)]['Time_seconds'],df[df['Method_Recognized_2_Copied'].str.contains(method)]['Duration'])\n",
    "    return method1,method2"
   ]
  },
  {
   "cell_type": "code",
   "execution_count": 9,
   "metadata": {
    "collapsed": false
   },
   "outputs": [],
   "source": [
    "METHODS = ['Median','Average','Sum','all']\n",
    "COLORS=iter(plt.cm.rainbow(np.linspace(0,1,len(METHODS))))\n",
    "color =  {'Median': \"#2ecc71\",\n",
    "    'Average': \"#9b59b6\",\n",
    "    'Sum': \"#3498db\",\n",
    "    'all': \"#95a5a6\",\n",
    "    'Count': \"#95a5a6\",\n",
    "    }"
   ]
  },
  {
   "cell_type": "code",
   "execution_count": 10,
   "metadata": {
    "collapsed": false
   },
   "outputs": [
    {
     "data": {
      "image/png": "[encoded data removed]",
      "text/plain": [
       "<matplotlib.figure.Figure at 0xc9a9f60>"
      ]
     },
     "metadata": {},
     "output_type": "display_data"
    }
   ],
   "source": [
    "fig = plt.figure(figsize=(14,6))\n",
    "ax = plt.subplot()\n",
    "spacing =10\n",
    "pos = 0\n",
    "for i,method in enumerate(METHODS):\n",
    "    m1,m2 = get_method_usage(df_test,method)\n",
    "    ax.broken_barh(m1,(pos,spacing),facecolors=color[method],alpha=1)\n",
    "    pos += spacing\n",
    "    ax.broken_barh(m2,(pos,spacing),facecolors=color[method],alpha=1)\n",
    "    pos += spacing\n",
    "    \n",
    "    \n",
    "ax.set_xlabel('seconds since start')\n",
    "ax.set_yticks(range(spacing,len(METHODS)*2*spacing,spacing*2))\n",
    "ax.set_yticklabels(METHODS)\n",
    "ax.grid(True)\n",
    "plt.show()"
   ]
  },
  {
   "cell_type": "markdown",
   "metadata": {},
   "source": [
    "## Let's add the interface actions"
   ]
  },
  {
   "cell_type": "code",
   "execution_count": 18,
   "metadata": {
    "collapsed": false
   },
   "outputs": [
    {
     "name": "stdout",
     "output_type": "stream",
     "text": [
      "add1 ButtonPressed\n",
      "add2 ButtonPressed\n",
      "button1_1 ButtonPressed\n",
      "button1_3 ButtonPressed\n",
      "button1_7 ButtonPressed\n",
      "button1_9 ButtonPressed\n",
      "button2_1 ButtonPressed\n",
      "button2_3 ButtonPressed\n",
      "button2_4 ButtonPressed\n",
      "button2_6 ButtonPressed\n",
      "button2_7 ButtonPressed\n",
      "button2_9 ButtonPressed\n",
      "checkIntuition UpdateComboBox\n",
      "delete1 ButtonPressed\n",
      "delete2 ButtonPressed\n",
      "deleteAll1 ButtonPressed\n",
      "deleteAll2 ButtonPressed\n",
      "evaluation UpdateComboBox\n",
      "fakeDone ButtonPressed\n",
      "function1 UpdateComboBox\n",
      "function2 UpdateComboBox\n",
      "intuition UpdateComboBox\n",
      "operator1_1 UpdateComboBox\n",
      "operator1_2 UpdateComboBox\n",
      "operator1_3 UpdateComboBox\n",
      "operator2_1 UpdateComboBox\n",
      "operator2_2 UpdateComboBox\n",
      "operator2_3 UpdateComboBox\n",
      "pointsSelection1 UpdateComboBox\n",
      "pointsSelection2 UpdateComboBox\n",
      "step1_1 ButtonPressed\n",
      "step1_2 ButtonPressed\n",
      "step2_1 ButtonPressed\n",
      "step2_2 ButtonPressed\n",
      "submit ButtonPressed\n",
      "use1 ButtonPressed\n",
      "use2 ButtonPressed\n"
     ]
    }
   ],
   "source": [
    "steps = list(set(df_test['Step Name']))\n",
    "steps.sort()\n",
    "for s in steps:\n",
    "    print s"
   ]
  },
  {
   "cell_type": "code",
   "execution_count": 19,
   "metadata": {
    "collapsed": true
   },
   "outputs": [],
   "source": [
    "interface_actions = [\"checkIntuition UpdateComboBox\",\"evaluation UpdateComboBox\",\"fakeDone ButtonPressed\",\"submit ButtonPressed\"]"
   ]
  },
  {
   "cell_type": "code",
   "execution_count": 25,
   "metadata": {
    "collapsed": true
   },
   "outputs": [],
   "source": [
    "color = {\"checkIntuition UpdateComboBox\": \"#2ecc71\",\n",
    "\"evaluation UpdateComboBox\": \"#9b59b6\",\n",
    "\"fakeDone ButtonPressed\": \"#3498db\",\n",
    "\"submit ButtonPressed\": \"#95a5a6\"}"
   ]
  },
  {
   "cell_type": "code",
   "execution_count": 26,
   "metadata": {
    "collapsed": true
   },
   "outputs": [],
   "source": [
    "def get_interface_action_usage(df,action):\n",
    "    '''for each interface action, need a list of time coordinates for when\n",
    "    they were used. These coordinates are in the format (start_time, duration)'''\n",
    "    \n",
    "    #first let's get time stamps for use of average\n",
    "    action = zip(df[df['Step Name'].str.contains(action)]['Time_seconds'],df[df['Step Name'].str.contains(action)]['Duration'])\n",
    "    return action"
   ]
  },
  {
   "cell_type": "code",
   "execution_count": 27,
   "metadata": {
    "collapsed": false
   },
   "outputs": [
    {
     "data": {
      "image/png": "[encoded data removed]",
      "text/plain": [
       "<matplotlib.figure.Figure at 0xd70e3c8>"
      ]
     },
     "metadata": {},
     "output_type": "display_data"
    }
   ],
   "source": [
    "fig = plt.figure(figsize=(14,6))\n",
    "ax = plt.subplot()\n",
    "spacing =10\n",
    "pos = 0\n",
    "for i,action in enumerate(interface_actions):\n",
    "    action_use = get_interface_action_usage(df_test,action)\n",
    "    ax.broken_barh(action_use,(pos,spacing),facecolors=color[action],alpha=1)\n",
    "    pos += spacing\n",
    "    \n",
    "    \n",
    "ax.set_xlabel('seconds since start')\n",
    "ax.set_yticks(range(spacing,len(interface_actions)*2*spacing,spacing*2))\n",
    "ax.set_yticklabels(interface_actions)\n",
    "ax.grid(True)\n",
    "plt.show()"
   ]
  },
  {
   "cell_type": "code",
   "execution_count": null,
   "metadata": {
    "collapsed": true
   },
   "outputs": [],
   "source": []
  }
 ],
 "metadata": {
  "kernelspec": {
   "display_name": "Python 2",
   "language": "python",
   "name": "python2"
  },
  "language_info": {
   "codemirror_mode": {
    "name": "ipython",
    "version": 2
   },
   "file_extension": ".py",
   "mimetype": "text/x-python",
   "name": "python",
   "nbconvert_exporter": "python",
   "pygments_lexer": "ipython2",
   "version": "2.7.12"
  }
 },
 "nbformat": 4,
 "nbformat_minor": 0
}
