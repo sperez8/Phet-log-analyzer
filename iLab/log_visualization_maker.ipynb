{
 "cells": [
  {
   "cell_type": "code",
   "execution_count": 1,
   "metadata": {
    "collapsed": false
   },
   "outputs": [],
   "source": [
    "import numpy as np\n",
    "import pandas as pd\n",
    "import sys\n",
    "import matplotlib.pyplot as plt\n",
    "import seaborn as sns\n",
    "from datetime import datetime, timedelta, date\n",
    "%matplotlib inline\n",
    "pd.options.display.max_rows = 1000\n",
    "pd.options.display.max_columns = 60"
   ]
  },
  {
   "cell_type": "markdown",
   "metadata": {},
   "source": [
    "### Here lives some of the functions used in the rest of the notebook"
   ]
  },
  {
   "cell_type": "code",
   "execution_count": 2,
   "metadata": {
    "collapsed": true
   },
   "outputs": [],
   "source": [
    "def fix_time(time_start,current_time):\n",
    "    \"\"\"This function fixes the timestamps used by converting them to seconds, starting at zero.\n",
    "    \n",
    "    Args:\n",
    "        time_start (str): The time at which the first action was done.\n",
    "        current_time (str): The current time we are converting.\n",
    "\n",
    "    Returns:\n",
    "        current_time_fixed: The time of the current action converted into seconds given that the first action was done as 0 seconds.\n",
    "    \"\"\"\n",
    "    #check that the current time is later than first time stamp\n",
    "    if datetime.combine(date.min, current_time) >= datetime.combine(date.min, time_start):\n",
    "        current_time_fixed = (datetime.combine(date.min, current_time) - datetime.combine(date.min, time_start)).total_seconds()\n",
    "    else:\n",
    "        #ex: this is the case when time_start is 59:00 min and cuurent_time is 02:00 min, so we add an hour to find the duration in between\n",
    "        current_time_fixed = (datetime.combine(date.min, current_time) + timedelta(hours=1) - datetime.combine(date.min, time_start)).total_seconds()\n",
    "    return current_time_fixed\n",
    "\n",
    "def get_duration(row):\n",
    "    \"\"\"This function gets the duration of an action given the difference in time\n",
    "    between the current and next timestamp.\n",
    "    \n",
    "    Args:\n",
    "        row (Pandas element): The row of the action for which we want to find the duration.\n",
    "\n",
    "    Returns:\n",
    "        duration: The difference in time in seconds between the Timeshifted and Time variables.\n",
    "    \"\"\"\n",
    "    if pd.notnull(row['Timeshifted']): #check that this is not the last action which will have a NA Timeshifted value\n",
    "        #check that the time of the next action is indeed later than time of the current actin\n",
    "        if datetime.combine(date.min, row['Timeshifted']) >= datetime.combine(date.min, row['Time']):\n",
    "            duration = (datetime.combine(date.min, row['Timeshifted']) - datetime.combine(date.min, row['Time'])).total_seconds()\n",
    "        else:\n",
    "            #ex: this is the case when TimeSHifted is 59:00 min and Time is 02:00 min, so we add an hour to find the duration in between\n",
    "            duration = (datetime.combine(date.min, row['Timeshifted']) + timedelta(hours=1) - datetime.combine(date.min, row['Time'])).total_seconds()\n",
    "    else:\n",
    "        duration = 10 #last action lasts zero seconds but we need to put a dummy variable here.\n",
    "    return duration\n",
    "\n",
    "def get_action_usage(df,column,action):\n",
    "    '''Given an action or method, we detect its use using a particular column\n",
    "    and then extract a list of time coordinates for when\n",
    "    they were used. These coordinates are in the format (start_time, duration)\n",
    "    \n",
    "    Args:\n",
    "        df (Pandas dataframe): The dataframe to search in.\n",
    "        column (str): The column where the method or action might be logged.\n",
    "        action (str): The name of the action or method to search for in the column.\n",
    "        \n",
    "\n",
    "    Returns:\n",
    "        A list of tuples with start times of the action and it's duration [(start1,duration1),(start2,duration2),...]\n",
    "    '''\n",
    "    return zip(df[df[column].str.contains(action,na=False)]['Time_seconds'],df[df[column].str.contains(action,na=False)]['Duration'])"
   ]
  },
  {
   "cell_type": "markdown",
   "metadata": {},
   "source": [
    "# The data"
   ]
  },
  {
   "cell_type": "code",
   "execution_count": 3,
   "metadata": {
    "collapsed": true
   },
   "outputs": [],
   "source": [
    "df_all = pd.read_excel('all data v3.xlsx', 'iLab data.txt', index_col=None, na_values=['NA'])"
   ]
  },
  {
   "cell_type": "markdown",
   "metadata": {},
   "source": [
    "### Preparing a test sample\n",
    "Let's first use a particular session as a test case. We extract only the data relevant to that case"
   ]
  },
  {
   "cell_type": "code",
   "execution_count": 4,
   "metadata": {
    "collapsed": false
   },
   "outputs": [],
   "source": [
    "#Using the example used for sketch.\n",
    "#(df_all.condition1 == 'Savanna') & (df_all.student1 == 'penguin') & (df_all.student2 == 'gorilla')]\n",
    "df_test = df_all[df_all['Session Id'] == 'L-2567b17a:120eda25685:-8000']"
   ]
  },
  {
   "cell_type": "markdown",
   "metadata": {},
   "source": [
    "Next we filter out all actions with \"INCORRECT\" outcomes"
   ]
  },
  {
   "cell_type": "code",
   "execution_count": 5,
   "metadata": {
    "collapsed": false
   },
   "outputs": [
    {
     "name": "stdout",
     "output_type": "stream",
     "text": [
      "We are left with 212 rows out of 285\n"
     ]
    }
   ],
   "source": [
    "before = df_test.shape[0]\n",
    "df_test = df_test[df_test['Outcome'] == 'CORRECT']\n",
    "print \"We are left with {0} rows out of {1}\".format(df_test.shape[0],before)"
   ]
  },
  {
   "cell_type": "markdown",
   "metadata": {},
   "source": [
    "### We need to extract the time stamp of each action and it's duration"
   ]
  },
  {
   "cell_type": "markdown",
   "metadata": {},
   "source": [
    "Next we fix the time logs and convert them to seconds. We also recalculate the time between actions now that we have gotten rid of incorrect actions."
   ]
  },
  {
   "cell_type": "code",
   "execution_count": 6,
   "metadata": {
    "collapsed": false
   },
   "outputs": [],
   "source": [
    "time_start = list(df_test['time first action'])[0]\n",
    "df_test['Time_seconds'] = df_test[['Time']].applymap(lambda current_time: fix_time(time_start,current_time))\n",
    "df_test['Timeshifted'] = df_test[['Time']].shift(-1)\n",
    "df_test['Duration'] = df_test[['Time','Timeshifted']].apply(get_duration, axis=1)"
   ]
  },
  {
   "cell_type": "code",
   "execution_count": 7,
   "metadata": {
    "collapsed": false
   },
   "outputs": [
    {
     "ename": "NameError",
     "evalue": "name 'utils' is not defined",
     "output_type": "error",
     "traceback": [
      "\u001b[1;31m---------------------------------------------------------------------------\u001b[0m",
      "\u001b[1;31mNameError\u001b[0m                                 Traceback (most recent call last)",
      "\u001b[1;32m<ipython-input-7-2476cedfd671>\u001b[0m in \u001b[0;36m<module>\u001b[1;34m()\u001b[0m\n\u001b[1;32m----> 1\u001b[1;33m \u001b[0mutils\u001b[0m\u001b[1;33m.\u001b[0m\u001b[0mfix_time\u001b[0m\u001b[1;33m(\u001b[0m\u001b[1;33m)\u001b[0m\u001b[1;33m\u001b[0m\u001b[0m\n\u001b[0m",
      "\u001b[1;31mNameError\u001b[0m: name 'utils' is not defined"
     ]
    }
   ],
   "source": [
    "utils.fix_time()"
   ]
  },
  {
   "cell_type": "markdown",
   "metadata": {},
   "source": [
    "### A first plot"
   ]
  },
  {
   "cell_type": "code",
   "execution_count": null,
   "metadata": {
    "collapsed": false
   },
   "outputs": [],
   "source": [
    "color = {\"Now try working on this new example\":\"#252525\",\n",
    "         \"intuition\": \"#bdbdbd\",\n",
    "         \"submit\": \"#969696\",\n",
    "         \"evaluation\": \"#737373\",\n",
    "         \"checkIntuition\": \"#525252\",\n",
    "         'Median': \"#33a02c\",\n",
    "         'Average': \"#6a3d9a\",\n",
    "         'Sum': \"#1f78b4\",\n",
    "         'all': \"#ff7f00\",\n",
    "        }\n",
    "column_to_use = {\"Now try working on this new example\":\"Feedback Text\",\n",
    "                 \"intuition\": \"Selection\",\n",
    "                 \"submit\": \"Selection\",\n",
    "                 \"evaluation\": \"Selection\",\n",
    "                 \"checkIntuition\": \"Selection\",\n",
    "                 \"Now try working on this new example\":\"Feedback Text\",\n",
    "                 'Median': 'Method_Recognized_1_Copied',\n",
    "                 'Average': 'Method_Recognized_1_Copied',\n",
    "                 'Sum': 'Method_Recognized_1_Copied',\n",
    "                 'all': 'Method_Recognized_1_Copied',\n",
    "                }\n",
    "to_plot = [\"intuition\",\"submit\",\"evaluation\",\"checkIntuition\",'Median','Average','Sum','all']"
   ]
  },
  {
   "cell_type": "code",
   "execution_count": null,
   "metadata": {
    "collapsed": false
   },
   "outputs": [],
   "source": [
    "fig = plt.figure(figsize=(18,8))\n",
    "ax = plt.subplot()\n",
    "spacing =10\n",
    "pos = 0\n",
    "max_time = 0\n",
    "actions = list(reversed(to_plot))\n",
    "black = '#252525'\n",
    "for i,action in enumerate(actions):\n",
    "    action_use = get_action_usage(df_test,column_to_use[action],action)\n",
    "    max_time = max(max_time,sum(action_use[-1]))\n",
    "    ax.broken_barh(action_use,(pos,spacing),facecolors=color[action],alpha=1,linewidth=0)\n",
    "    pos += spacing\n",
    "\n",
    "#Add horizontal bar\n",
    "ax.broken_barh([(0,ax.get_xlim()[1])],(40,0.5),facecolors='white',alpha=1,linewidth=0)\n",
    "\n",
    "#Add new case bar\n",
    "new_case = \"Now try working on this new example\"\n",
    "action_use = get_action_usage(df_test,column_to_use[new_case],new_case)\n",
    "max_time = max(max_time,sum(action_use[-1]))\n",
    "ax.broken_barh(action_use,(0,len(actions)*spacing),facecolors=black,alpha=1,linewidth=0)\n",
    "\n",
    "ax.set_xlabel('minutes in activity')\n",
    "ax.set_xticks(range(0,int(max_time),60*5))\n",
    "ax.set_xticklabels([str(x/60)+'' for x in range(0,int(max_time),60*5)])\n",
    "ax.set_yticks(range(spacing/2,len(actions)*spacing,spacing))\n",
    "ax.set_yticklabels(actions)\n",
    "ax.grid(True)\n",
    "plt.show()"
   ]
  },
  {
   "cell_type": "markdown",
   "metadata": {},
   "source": [
    "The black vertical bar in the graph shows when a \"new case\" is presented"
   ]
  },
  {
   "cell_type": "markdown",
   "metadata": {},
   "source": [
    "### TODO\n",
    "* figure out why overlap? for example between submit and evaluation\n",
    "* add non ready made functions"
   ]
  },
  {
   "cell_type": "code",
   "execution_count": null,
   "metadata": {
    "collapsed": false
   },
   "outputs": [],
   "source": [
    "df_test"
   ]
  },
  {
   "cell_type": "code",
   "execution_count": null,
   "metadata": {
    "collapsed": true
   },
   "outputs": [],
   "source": []
  }
 ],
 "metadata": {
  "anaconda-cloud": {},
  "kernelspec": {
   "display_name": "Python [Root]",
   "language": "python",
   "name": "Python [Root]"
  },
  "language_info": {
   "codemirror_mode": {
    "name": "ipython",
    "version": 2
   },
   "file_extension": ".py",
   "mimetype": "text/x-python",
   "name": "python",
   "nbconvert_exporter": "python",
   "pygments_lexer": "ipython2",
   "version": "2.7.12"
  }
 },
 "nbformat": 4,
 "nbformat_minor": 0
}
