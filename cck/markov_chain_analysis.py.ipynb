{
 "cells": [
  {
   "cell_type": "code",
   "execution_count": 1,
   "metadata": {
    "collapsed": false
   },
   "outputs": [],
   "source": [
    "import networkx as nx\n",
    "import matplotlib\n",
    "import matplotlib.pyplot as plt\n",
    "import numpy as np\n",
    "import pandas as pd\n",
    "import sys\n",
    "import getpass\n",
    "from pymarkovchain import MarkovChain\n",
    "from functions import *\n",
    "np.set_printoptions(precision=2)\n",
    "pd.set_option('precision', 2)\n",
    "%matplotlib inline\n",
    "matplotlib.style.use('ggplot')"
   ]
  },
  {
   "cell_type": "markdown",
   "metadata": {},
   "source": [
    "### Load data"
   ]
  },
  {
   "cell_type": "code",
   "execution_count": 2,
   "metadata": {
    "collapsed": true
   },
   "outputs": [],
   "source": [
    "df = pd.read_csv('C:\\Users\\\\'+getpass.getuser()+'\\\\Google Drive\\Sarah Ido folder\\data\\CCK\\MATCHING_phet_cck_user_actions+sophistication_WITHPAUSE_anonymized.txt')\n",
    "df_scores = pd.read_csv('C:\\Users\\\\'+getpass.getuser()+'\\\\Google Drive\\Sarah Ido folder\\data\\CCK\\MATCHING_phet_cck_user_data_anonymized.txt')\n",
    "df[\"student\"] = df[\"student\"].astype('category')\n",
    "df_scores[\"student\"] = df_scores[\"student\"].astype('category')\n",
    "df[\"Family\"]=df[\"Family\"].str.capitalize()\n",
    "\n",
    "def remodel_families(row):\n",
    "    if row[\"Family\"] == \"Build\" or row[\"Family\"] == \"Revise\" or row[\"Family\"] == \"Extra\":\n",
    "        if row[\"Outcome\"] != \"None\":\n",
    "            return \"ConstructWithFeedback\"\n",
    "        else:\n",
    "            return \"Construct\"\n",
    "    else:\n",
    "        return row[\"Family\"]\n",
    "    \n",
    "df['Family'] = df.apply (lambda row: remodel_families (row),axis=1)"
   ]
  },
  {
   "cell_type": "markdown",
   "metadata": {},
   "source": [
    "Here we set up some paramters"
   ]
  },
  {
   "cell_type": "code",
   "execution_count": 3,
   "metadata": {
    "collapsed": true
   },
   "outputs": [],
   "source": [
    "ACTIONS_TO_REMOVE = ['I', 'O','S','']"
   ]
  },
  {
   "cell_type": "markdown",
   "metadata": {},
   "source": [
    "###  Some functions that we use later"
   ]
  },
  {
   "cell_type": "code",
   "execution_count": 4,
   "metadata": {
    "collapsed": false
   },
   "outputs": [],
   "source": [
    "def get_markov_chains(df,activity, attribute=None, level=None):\n",
    "    df2 = df[df.Activity == activity]\n",
    "    blocks = get_blocks(df2,get_students(),add_spaces = True)\n",
    "    if attribute:\n",
    "        blocks = select_blocks(blocks, attribute, level)\n",
    "    seqs = '.'.join(blocks.values())\n",
    "\n",
    "    mc = MarkovChain()\n",
    "    mc.generateDatabase(seqs)\n",
    "    return mc.db\n",
    "\n",
    "def make_graph_from_chain(chain_probs):\n",
    "    edge_labels={}\n",
    "    G = nx.MultiDiGraph()\n",
    "    for last_actions,probs in chain_probs.iteritems():\n",
    "        if len(last_actions) == 1:\n",
    "            last_action = last_actions[0]\n",
    "            for next_action,p in probs.iteritems():\n",
    "                G.add_edge(last_action, next_action, weight = p, label=\"{:.02f}\".format(p))\n",
    "            edge_labels[(last_action, next_action)] = label=\"{:.02f}\".format(p)\n",
    "    G.remove_nodes_from(ACTIONS_TO_REMOVE)\n",
    "    return G\n",
    "\n",
    "def plot_graph(G, pos = None, reds=False):\n",
    "    if pos == None:\n",
    "        pos = nx.circular_layout(G)\n",
    "    nx.draw_networkx_nodes(G,pos,node_size=700,node_color='#cccccc',alpha=0.8)\n",
    "    nx.draw_networkx_labels(G,pos,font_size=20,font_family='sans-serif')\n",
    "#     labels = nx.get_edge_attributes(G,'weight')\n",
    "#     nx.draw_networkx_edge_labels(G,pos,edge_labels={(k[0],k[1]):round(v,3) for k,v in labels.iteritems()})\n",
    "\n",
    "    cut1 = np.percentile(nx.get_edge_attributes(G,'weight').values(), 20)\n",
    "    cut2 = np.percentile(nx.get_edge_attributes(G,'weight').values(), 40)\n",
    "    cut3 = np.percentile(nx.get_edge_attributes(G,'weight').values(), 60)\n",
    "    cut4 = np.percentile(nx.get_edge_attributes(G,'weight').values(), 80)\n",
    "\n",
    "    esmall = [(u,v) for (u,v,d) in G.edges(data=True) if d['weight'] <= cut1]\n",
    "    emedium = [(u,v) for (u,v,d) in G.edges(data=True) if d['weight'] > cut1 and d['weight'] <= cut2]\n",
    "    elarge = [(u,v) for (u,v,d) in G.edges(data=True) if d['weight'] > cut2 and d['weight'] <= cut3]\n",
    "    ehuge = [(u,v) for (u,v,d) in G.edges(data=True) if d['weight'] > cut3 and d['weight'] <= cut4]\n",
    "    enormous = [(u,v) for (u,v,d) in G.edges(data=True) if d['weight'] > cut4]\n",
    "    \n",
    "    colors = [\"#c7e9b4\",\"#7fcdbb\",\"#41b6c4\",\"#2c7fb8\",\"#253494\"]\n",
    "    if reds:\n",
    "        colors = [\"#fed976\",\"#feb24c\",\"#fd8d3c\",\"#f03b20\",\"#bd0026\"]\n",
    "        colors = ['#d7191c','#fdae61','#ffffbf','#a6d96a','#1a9641']\n",
    "    nx.draw_networkx_edges(G,pos,edgelist=esmall,width=3,alpha=1,arros=True,edge_color=colors[0])\n",
    "    nx.draw_networkx_edges(G,pos,edgelist=emedium,width=3,alpha=1,arros=True,edge_color=colors[1])\n",
    "    nx.draw_networkx_edges(G,pos,edgelist=elarge,width=3,alpha=1,arros=True,edge_color=colors[2])\n",
    "    nx.draw_networkx_edges(G,pos,edgelist=ehuge,width=3,alpha=1,arros=True,edge_color=colors[3])\n",
    "    nx.draw_networkx_edges(G,pos,edgelist=enormous,width=3,alpha=1,arros=True,edge_color=colors[4])\n",
    "    plt.axis('off')\n",
    "    return pos\n",
    "\n",
    "# def plot_graph2(G, pos = None):\n",
    "#     if pos == None:\n",
    "#         pos = nx.circular_layout(G)\n",
    "#     from matplotlib.patches import FancyArrowPatch, Circle\n",
    "\n",
    "#     def draw_network(G,pos,ax,sg=None):\n",
    "#         cut1 = np.percentile(nx.get_edge_attributes(G,'weight').values(), 20)\n",
    "#         cut2 = np.percentile(nx.get_edge_attributes(G,'weight').values(), 40)\n",
    "#         cut3 = np.percentile(nx.get_edge_attributes(G,'weight').values(), 60)\n",
    "#         cut4 = np.percentile(nx.get_edge_attributes(G,'weight').values(), 80)\n",
    "\n",
    "#         esmall = [(u,v,d) for (u,v,d) in G.edges(data=True) if d['weight'] <= cut1]\n",
    "#         emedium = [(u,v,d) for (u,v,d) in G.edges(data=True) if d['weight'] > cut1 and d['weight'] <= cut2]\n",
    "#         elarge = [(u,v,d) for (u,v,d) in G.edges(data=True) if d['weight'] > cut2 and d['weight'] <= cut3]\n",
    "#         ehuge = [(u,v,d) for (u,v,d) in G.edges(data=True) if d['weight'] > cut3 and d['weight'] <= cut4]\n",
    "#         enormous = [(u,v,d) for (u,v,d) in G.edges(data=True) if d['weight'] > cut4]\n",
    "\n",
    "#         colors = [\"#c7e9b4\",\"#7fcdbb\",\"#41b6c4\",\"#2c7fb8\",\"#253494\"]\n",
    "        \n",
    "#         for n in G:\n",
    "#             c=Circle(pos[n],radius=10)\n",
    "# #             ax.add_patch(c)\n",
    "#             G.node[n]['patch']=c\n",
    "#             x,y=pos[n]\n",
    "#         seen={}\n",
    "#         for edges, color, width in zip([esmall,emedium,elarge,ehuge,enormous],colors,range(5)):\n",
    "#             for (u,v,d) in edges:\n",
    "#                 n1=G.node[u]['patch']\n",
    "#                 n2=G.node[v]['patch']\n",
    "#                 rad=0.15\n",
    "#                 if (u,v) in seen:\n",
    "#                     rad=seen.get((u,v))\n",
    "#                     rad=(rad+np.sign(rad)*0.1)*-1\n",
    "#                 alpha=0.7\n",
    "\n",
    "#                 e = FancyArrowPatch(n1.center,n2.center,patchA=n1,patchB=n2,\n",
    "#                                     arrowstyle='-|>',\n",
    "#                                     connectionstyle='arc3,rad=%s'%rad,\n",
    "#                                     mutation_scale=30.0,\n",
    "#                                     lw=5,\n",
    "#                                     alpha=alpha,\n",
    "#                                     color=color)\n",
    "#                 seen[(u,v)]=rad\n",
    "#                 ax.add_patch(e)\n",
    "#         return e\n",
    "\n",
    "#     nx.draw_networkx_nodes(G,pos,node_size=500,node_color='#cccccc',alpha=0.9)\n",
    "#     nx.draw_networkx_labels(G,pos,font_size=15,font_family='sans-serif')\n",
    "\n",
    "#     ax=plt.gca()\n",
    "#     draw_network(G,pos,ax)\n",
    "#     ax.autoscale()\n",
    "#     plt.axis('off')\n",
    "\n",
    "def make_difference_graph(G1,G2):\n",
    "    H = nx.MultiDiGraph()\n",
    "    edges1 = nx.get_edge_attributes(G1,'weight')\n",
    "    edges2 = nx.get_edge_attributes(G2,'weight')\n",
    "    for (u,v,d),w1 in edges1.iteritems():\n",
    "        w2 = edges2[(u,v,d)]\n",
    "        w = (w1-w2)*2/(w1+w2)\n",
    "        H.add_edge(u,v, weight = w , label=\"{:.02f}\".format(w))\n",
    "    return H"
   ]
  },
  {
   "cell_type": "markdown",
   "metadata": {},
   "source": [
    "### Get sequences\n",
    "Add to the markov chain sentences where each sentence is a student seqence and each word is an action."
   ]
  },
  {
   "cell_type": "code",
   "execution_count": 5,
   "metadata": {
    "collapsed": false
   },
   "outputs": [
    {
     "ename": "TypeError",
     "evalue": "argument of type 'NoneType' is not iterable",
     "output_type": "error",
     "traceback": [
      "\u001b[1;31m---------------------------------------------------------------------------\u001b[0m",
      "\u001b[1;31mTypeError\u001b[0m                                 Traceback (most recent call last)",
      "\u001b[1;32m<ipython-input-5-bdfd75bb266b>\u001b[0m in \u001b[0;36m<module>\u001b[1;34m()\u001b[0m\n\u001b[1;32m----> 1\u001b[1;33m \u001b[0mchain_probs1_scaff\u001b[0m \u001b[1;33m=\u001b[0m \u001b[0mget_markov_chains\u001b[0m\u001b[1;33m(\u001b[0m\u001b[0mdf\u001b[0m\u001b[1;33m,\u001b[0m\u001b[1;34m'a1'\u001b[0m\u001b[1;33m,\u001b[0m\u001b[1;34m'scaffolding'\u001b[0m\u001b[1;33m,\u001b[0m\u001b[1;34m'scaff'\u001b[0m\u001b[1;33m)\u001b[0m\u001b[1;33m\u001b[0m\u001b[0m\n\u001b[0m\u001b[0;32m      2\u001b[0m \u001b[0mchain_probs1_not\u001b[0m \u001b[1;33m=\u001b[0m \u001b[0mget_markov_chains\u001b[0m\u001b[1;33m(\u001b[0m\u001b[0mdf\u001b[0m\u001b[1;33m,\u001b[0m\u001b[1;34m'a1'\u001b[0m\u001b[1;33m,\u001b[0m\u001b[1;34m'scaffolding'\u001b[0m\u001b[1;33m,\u001b[0m\u001b[1;34m'not'\u001b[0m\u001b[1;33m)\u001b[0m\u001b[1;33m\u001b[0m\u001b[0m\n\u001b[0;32m      3\u001b[0m \u001b[0mchain_probs2_scaff\u001b[0m \u001b[1;33m=\u001b[0m \u001b[0mget_markov_chains\u001b[0m\u001b[1;33m(\u001b[0m\u001b[0mdf\u001b[0m\u001b[1;33m,\u001b[0m\u001b[1;34m'a2'\u001b[0m\u001b[1;33m,\u001b[0m\u001b[1;34m'scaffolding'\u001b[0m\u001b[1;33m,\u001b[0m\u001b[1;34m'scaff'\u001b[0m\u001b[1;33m)\u001b[0m\u001b[1;33m\u001b[0m\u001b[0m\n\u001b[0;32m      4\u001b[0m \u001b[0mchain_probs2_not\u001b[0m \u001b[1;33m=\u001b[0m \u001b[0mget_markov_chains\u001b[0m\u001b[1;33m(\u001b[0m\u001b[0mdf\u001b[0m\u001b[1;33m,\u001b[0m\u001b[1;34m'a2'\u001b[0m\u001b[1;33m,\u001b[0m\u001b[1;34m'scaffolding'\u001b[0m\u001b[1;33m,\u001b[0m\u001b[1;34m'not'\u001b[0m\u001b[1;33m)\u001b[0m\u001b[1;33m\u001b[0m\u001b[0m\n",
      "\u001b[1;32m<ipython-input-4-217059a29e75>\u001b[0m in \u001b[0;36mget_markov_chains\u001b[1;34m(df, activity, attribute, level)\u001b[0m\n\u001b[0;32m      1\u001b[0m \u001b[1;32mdef\u001b[0m \u001b[0mget_markov_chains\u001b[0m\u001b[1;33m(\u001b[0m\u001b[0mdf\u001b[0m\u001b[1;33m,\u001b[0m\u001b[0mactivity\u001b[0m\u001b[1;33m,\u001b[0m \u001b[0mattribute\u001b[0m\u001b[1;33m=\u001b[0m\u001b[0mNone\u001b[0m\u001b[1;33m,\u001b[0m \u001b[0mlevel\u001b[0m\u001b[1;33m=\u001b[0m\u001b[0mNone\u001b[0m\u001b[1;33m)\u001b[0m\u001b[1;33m:\u001b[0m\u001b[1;33m\u001b[0m\u001b[0m\n\u001b[0;32m      2\u001b[0m     \u001b[0mdf2\u001b[0m \u001b[1;33m=\u001b[0m \u001b[0mdf\u001b[0m\u001b[1;33m[\u001b[0m\u001b[0mdf\u001b[0m\u001b[1;33m.\u001b[0m\u001b[0mActivity\u001b[0m \u001b[1;33m==\u001b[0m \u001b[0mactivity\u001b[0m\u001b[1;33m]\u001b[0m\u001b[1;33m\u001b[0m\u001b[0m\n\u001b[1;32m----> 3\u001b[1;33m     \u001b[0mblocks\u001b[0m \u001b[1;33m=\u001b[0m \u001b[0mget_blocks\u001b[0m\u001b[1;33m(\u001b[0m\u001b[0mdf2\u001b[0m\u001b[1;33m,\u001b[0m\u001b[0mget_students\u001b[0m\u001b[1;33m(\u001b[0m\u001b[1;33m)\u001b[0m\u001b[1;33m,\u001b[0m\u001b[0madd_spaces\u001b[0m \u001b[1;33m=\u001b[0m \u001b[0mTrue\u001b[0m\u001b[1;33m)\u001b[0m\u001b[1;33m\u001b[0m\u001b[0m\n\u001b[0m\u001b[0;32m      4\u001b[0m     \u001b[1;32mif\u001b[0m \u001b[0mattribute\u001b[0m\u001b[1;33m:\u001b[0m\u001b[1;33m\u001b[0m\u001b[0m\n\u001b[0;32m      5\u001b[0m         \u001b[0mblocks\u001b[0m \u001b[1;33m=\u001b[0m \u001b[0mselect_blocks\u001b[0m\u001b[1;33m(\u001b[0m\u001b[0mblocks\u001b[0m\u001b[1;33m,\u001b[0m \u001b[0mattribute\u001b[0m\u001b[1;33m,\u001b[0m \u001b[0mlevel\u001b[0m\u001b[1;33m)\u001b[0m\u001b[1;33m\u001b[0m\u001b[0m\n",
      "\u001b[1;32mC:\\Users\\sperez8\\Documents\\GitHub\\Phet-log-analyzer\\cck\\functions.pyc\u001b[0m in \u001b[0;36mget_blocks\u001b[1;34m(df, students, add_spaces, ignore, start)\u001b[0m\n\u001b[0;32m    117\u001b[0m     \u001b[1;32mfor\u001b[0m \u001b[0mstudent\u001b[0m \u001b[1;32min\u001b[0m \u001b[0mstudents\u001b[0m\u001b[1;33m:\u001b[0m\u001b[1;33m\u001b[0m\u001b[0m\n\u001b[0;32m    118\u001b[0m         \u001b[0msequence\u001b[0m \u001b[1;33m=\u001b[0m  \u001b[0mlist\u001b[0m\u001b[1;33m(\u001b[0m\u001b[0mdf\u001b[0m\u001b[1;33m[\u001b[0m\u001b[0mdf\u001b[0m\u001b[1;33m[\u001b[0m\u001b[1;34m'student'\u001b[0m\u001b[1;33m]\u001b[0m\u001b[1;33m==\u001b[0m\u001b[0mstudent\u001b[0m\u001b[1;33m]\u001b[0m\u001b[1;33m[\u001b[0m\u001b[1;34m'Family'\u001b[0m\u001b[1;33m]\u001b[0m\u001b[1;33m)\u001b[0m\u001b[1;33m\u001b[0m\u001b[0m\n\u001b[1;32m--> 119\u001b[1;33m         \u001b[0mblock\u001b[0m \u001b[1;33m=\u001b[0m \u001b[0mre\u001b[0m\u001b[1;33m.\u001b[0m\u001b[0msub\u001b[0m\u001b[1;33m(\u001b[0m\u001b[1;34mr'(.)\\1+'\u001b[0m\u001b[1;33m,\u001b[0m \u001b[1;34mr'\\1'\u001b[0m\u001b[1;33m,\u001b[0m\u001b[1;34m''\u001b[0m\u001b[1;33m.\u001b[0m\u001b[0mjoin\u001b[0m\u001b[1;33m(\u001b[0m\u001b[1;33m[\u001b[0m\u001b[0mconvert\u001b[0m\u001b[1;33m(\u001b[0m\u001b[0maction\u001b[0m\u001b[1;33m,\u001b[0m\u001b[0mignore\u001b[0m\u001b[1;33m)\u001b[0m \u001b[1;32mfor\u001b[0m \u001b[0maction\u001b[0m \u001b[1;32min\u001b[0m \u001b[0msequence\u001b[0m\u001b[1;33m]\u001b[0m\u001b[1;33m)\u001b[0m\u001b[1;33m)\u001b[0m\u001b[1;33m\u001b[0m\u001b[0m\n\u001b[0m\u001b[0;32m    120\u001b[0m         \u001b[1;32mif\u001b[0m \u001b[0madd_spaces\u001b[0m\u001b[1;33m:\u001b[0m\u001b[1;33m\u001b[0m\u001b[0m\n\u001b[0;32m    121\u001b[0m             \u001b[0mspaced_block\u001b[0m \u001b[1;33m=\u001b[0m \u001b[0mblock\u001b[0m\u001b[1;33m[\u001b[0m\u001b[1;36m0\u001b[0m\u001b[1;33m]\u001b[0m\u001b[1;33m\u001b[0m\u001b[0m\n",
      "\u001b[1;32mC:\\Users\\sperez8\\Documents\\GitHub\\Phet-log-analyzer\\cck\\functions.pyc\u001b[0m in \u001b[0;36mconvert\u001b[1;34m(action, ignore)\u001b[0m\n\u001b[0;32m    100\u001b[0m     \u001b[1;34m'''gets blocks of sequences a list of students'''\u001b[0m\u001b[1;33m\u001b[0m\u001b[0m\n\u001b[0;32m    101\u001b[0m     \u001b[1;32mdef\u001b[0m \u001b[0mconvert\u001b[0m\u001b[1;33m(\u001b[0m\u001b[0maction\u001b[0m\u001b[1;33m,\u001b[0m\u001b[0mignore\u001b[0m\u001b[1;33m)\u001b[0m\u001b[1;33m:\u001b[0m\u001b[1;33m\u001b[0m\u001b[0m\n\u001b[1;32m--> 102\u001b[1;33m         \u001b[1;32mif\u001b[0m \u001b[0maction\u001b[0m\u001b[1;33m[\u001b[0m\u001b[1;36m0\u001b[0m\u001b[1;33m]\u001b[0m \u001b[1;32min\u001b[0m \u001b[0mignore\u001b[0m\u001b[1;33m:\u001b[0m\u001b[1;33m\u001b[0m\u001b[0m\n\u001b[0m\u001b[0;32m    103\u001b[0m             \u001b[1;32mreturn\u001b[0m \u001b[1;34m''\u001b[0m\u001b[1;33m\u001b[0m\u001b[0m\n\u001b[0;32m    104\u001b[0m         \u001b[1;32melif\u001b[0m \u001b[0maction\u001b[0m \u001b[1;33m==\u001b[0m \u001b[1;34m'Reset'\u001b[0m\u001b[1;33m:\u001b[0m\u001b[1;33m\u001b[0m\u001b[0m\n",
      "\u001b[1;31mTypeError\u001b[0m: argument of type 'NoneType' is not iterable"
     ]
    }
   ],
   "source": [
    "chain_probs1_scaff = get_markov_chains(df,'a1','scaffolding','scaff')\n",
    "chain_probs1_not = get_markov_chains(df,'a1','scaffolding','not')\n",
    "chain_probs2_scaff = get_markov_chains(df,'a2','scaffolding','scaff')\n",
    "chain_probs2_not = get_markov_chains(df,'a2','scaffolding','not')"
   ]
  },
  {
   "cell_type": "markdown",
   "metadata": {},
   "source": [
    "### Create the graph from markov probabilities"
   ]
  },
  {
   "cell_type": "code",
   "execution_count": null,
   "metadata": {
    "collapsed": false
   },
   "outputs": [],
   "source": [
    "G_1_scaff = make_graph_from_chain(chain_probs1_scaff)\n",
    "G_1_not = make_graph_from_chain(chain_probs1_not)\n",
    "G_2_scaff = make_graph_from_chain(chain_probs2_scaff)\n",
    "G_2_not = make_graph_from_chain(chain_probs2_not)"
   ]
  },
  {
   "cell_type": "markdown",
   "metadata": {},
   "source": [
    "### Visualize!"
   ]
  },
  {
   "cell_type": "code",
   "execution_count": null,
   "metadata": {
    "collapsed": false
   },
   "outputs": [],
   "source": [
    "fig = plt.figure(figsize=(15,10))\n",
    "plt.subplot(2, 3, 1)\n",
    "pos = plot_graph(G_1_scaff) #keep the same node position for all graphs\n",
    "fig.suptitle('Markov chain of actions by scaffolded students (left) and not scaffolded (middle), and the % difference (right) in Activity 1',fontsize=15)\n",
    "plt.subplot(2, 3, 2)\n",
    "plot_graph(G_1_not, pos=pos)\n",
    "plt.subplot(2, 3, 3)\n",
    "H1 = make_difference_graph(G_1_scaff,G_1_not)\n",
    "plot_graph(H1, pos=pos, reds=True)\n",
    "plt.subplot(2, 3, 4)\n",
    "plot_graph(G_2_scaff, pos=pos)\n",
    "fig.suptitle('Markov chain of actions by scaffolded students (left) and not scaffolded (middle), and the % difference (right) in Activity 2',fontsize=15)\n",
    "plt.subplot(2, 3, 5)\n",
    "plot_graph(G_2_not, pos=pos)\n",
    "plt.subplot(2, 3, 6)\n",
    "H2 = make_difference_graph(G_2_scaff,G_2_not)\n",
    "plot_graph(H2, pos=pos, reds =True)"
   ]
  },
  {
   "cell_type": "markdown",
   "metadata": {},
   "source": [
    "Green means scaffolded students did it more. Red means non scaff did it more.\n",
    "In activity 1 (graphs in top row) students that were scaffolded tended to:\n",
    "* Test to Pause and vice versa much more.\n",
    "* Test then Feedback, Pause then Feedback and Pause then Construct much less.\n",
    "* Reset after different actions\n",
    "\n",
    "### Do these differences persist in Activity 2?\n",
    "\n",
    "Some:\n",
    "* Scaffolded students still more likely to Pause then Test, and slightly more likely to Test then Pause\n",
    "* Non scaffolded students still Pause then Construct more.\n",
    "\n",
    "However,\n",
    "\n",
    "Scaffolded students are now more likely to Test then Feedback"
   ]
  },
  {
   "cell_type": "markdown",
   "metadata": {},
   "source": [
    "## Now let's split by learning gains in activity 2\n",
    "So far, nothing surprising. Let's student actions given learning gains in activity 2."
   ]
  },
  {
   "cell_type": "code",
   "execution_count": null,
   "metadata": {
    "collapsed": false
   },
   "outputs": [],
   "source": [
    "# chain_probs1_high = get_markov_chains(df,'a1','learning2','high')\n",
    "# chain_probs1_low = get_markov_chains(df,'a1','learning2','low')\n",
    "chain_probs2_high = get_markov_chains(df,'a2','learning2','high')\n",
    "chain_probs2_low = get_markov_chains(df,'a2','learning2','low')"
   ]
  },
  {
   "cell_type": "code",
   "execution_count": null,
   "metadata": {
    "collapsed": false
   },
   "outputs": [],
   "source": [
    "# G_1_high = make_graph_from_chain(chain_probs1_high)\n",
    "# G_1_low = make_graph_from_chain(chain_probs1_low)\n",
    "G_2_high = make_graph_from_chain(chain_probs2_high)\n",
    "G_2_low = make_graph_from_chain(chain_probs2_low)"
   ]
  },
  {
   "cell_type": "code",
   "execution_count": null,
   "metadata": {
    "collapsed": false
   },
   "outputs": [],
   "source": [
    "fig = plt.figure(figsize=(15,5))\n",
    "# plt.subplot(2, 2, 1)\n",
    "# plot_graph(G_1_high,pos=pos) #keep the same node position for all graphs\n",
    "# plt.title('Markov chain of actions by students with high learning gains (left) and low (right) in Activity 1')\n",
    "# plt.subplot(2, 2, 2)\n",
    "# plot_graph(G_1_low, pos=pos)\n",
    "plt.subplot(1, 3, 1)\n",
    "plot_graph(G_2_high, pos=pos)\n",
    "fig.suptitle('Markov chain of actions by students with high learning gains (left) and low (middle), and the % difference (right) in Activity 2',fontsize=15)\n",
    "plt.subplot(1, 3, 2)\n",
    "plot_graph(G_2_low, pos=pos)\n",
    "plt.subplot(1, 3, 3)\n",
    "H2 = make_difference_graph(G_2_high,G_2_low)\n",
    "plot_graph(H2, pos=pos, reds =True)"
   ]
  },
  {
   "cell_type": "markdown",
   "metadata": {},
   "source": [
    "In activity 2, Students with high learning gains tended to:\n",
    "* Test then Pause and vice versa more.\n",
    "* Feedback then Test more\n",
    "Low learning gains students tend to:\n",
    "* Feedback then Construct more\n",
    "* Pause then Construct and vice versa more."
   ]
  },
  {
   "cell_type": "code",
   "execution_count": null,
   "metadata": {
    "collapsed": true
   },
   "outputs": [],
   "source": []
  }
 ],
 "metadata": {
  "anaconda-cloud": {},
  "kernelspec": {
   "display_name": "Python [Root]",
   "language": "python",
   "name": "Python [Root]"
  },
  "language_info": {
   "codemirror_mode": {
    "name": "ipython",
    "version": 2
   },
   "file_extension": ".py",
   "mimetype": "text/x-python",
   "name": "python",
   "nbconvert_exporter": "python",
   "pygments_lexer": "ipython2",
   "version": "2.7.12"
  }
 },
 "nbformat": 4,
 "nbformat_minor": 0
}
