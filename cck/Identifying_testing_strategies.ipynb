{
 "cells": [
  {
   "cell_type": "code",
   "execution_count": 1,
   "metadata": {
    "collapsed": true
   },
   "outputs": [],
   "source": [
    "import math\n",
    "import numpy as np\n",
    "import pandas as pd\n",
    "import sys\n",
    "import re\n",
    "from functions import *\n",
    "from mining_functions import *\n",
    "from collections import Counter\n",
    "from matplotlib.backends.backend_pdf import PdfPages\n",
    "import seaborn as sns\n",
    "from scipy import stats\n",
    "np.set_printoptions(precision=2)\n",
    "pd.set_option('precision', 2)\n",
    "%matplotlib inline\n",
    "matplotlib.style.use('ggplot')"
   ]
  },
  {
   "cell_type": "code",
   "execution_count": 2,
   "metadata": {
    "collapsed": false
   },
   "outputs": [],
   "source": [
    "PATH = '/Google Drive/Jonathan Sarah Ido folder/data/CCK/'\n",
    "def get_path(path = PATH):\n",
    "    if os.name == 'posix':\n",
    "        path = '/Documents/code/Phet-log-analyzer/cck/raw_data_parsing_check/'\n",
    "        return os.environ['HOME']+path #'/Google Drive/Jonathan Sarah Ido folder/data/CCK/'\n",
    "    elif os.name == 'nt':\n",
    "        if os.getenv(\"COMPUTERNAME\") == 'PYRRHA':\n",
    "                path = '/Documents/git/Phet-log-analyzer/cck/raw_data_parsing_check/'\n",
    "        else:\n",
    "            path = '/git/Phet-log-analyzer/cck/raw_data_parsing_check/'\n",
    "        return os.environ['USERPROFILE']+ path.replace('/','\\\\') #'\\\\Google Drive\\Jonathan Sarah Ido folder\\data\\CCK\\\\'\n",
    "    else:\n",
    "        raise Exception('OS not recongnized. I\\'m confused.')\n",
    "        \n",
    "df = pd.read_csv(get_path() + 'phet_cck_user_actions+sophistication_WITHPAUSE_more_circuit_info.txt',index_col=False)\n",
    "# dfx = pd.read_csv('C:\\Users\\Sarah\\Documents\\git\\Phet-log-analyzer\\cck\\\\raw_data_parsing_check\\phet_cck_user_actions+sophistication_WITHPAUSE_more_circuit_info.txt',index_col=False)\n",
    "df[\"student\"] = df[\"student\"].astype('category')\n",
    "df[\"Family\"]=df[\"Family\"].str.capitalize()\n",
    "df[\"Family_tool\"]=df[\"Family_tool\"].str.capitalize()\n",
    "df[\"Family_default\"]=df[\"Family_default\"].str.capitalize()\n",
    "df[\"Family_both\"]=df[\"Family_both\"].str.capitalize()\n",
    "\n",
    "df_scores = pd.read_csv(data_path + 'MATCHING_phet_cck_user_data_anonymized.txt')\n",
    "df_scores[\"student\"] = df_scores[\"student\"].astype('category')"
   ]
  },
  {
   "cell_type": "markdown",
   "metadata": {},
   "source": [
    "\n",
    "#### Crop activity data to get rid of activity #3"
   ]
  },
  {
   "cell_type": "code",
   "execution_count": 3,
   "metadata": {
    "collapsed": true
   },
   "outputs": [],
   "source": [
    "max_time = 25*60*1000\n",
    "max_times = {s:min(df[df['student']==s][\"Time Stamp\"])+max_time for s in set(df['student'])}\n",
    "\n",
    "def keep_by_time (row):\n",
    "    if row[\"Time Stamp\"] <= max_times[row[\"student\"]]:\n",
    "        return True\n",
    "    else: \n",
    "        return False\n",
    "\n",
    "df['keep'] = df.apply (lambda row: keep_by_time (row),axis=1)\n",
    "df=df[df['keep']]"
   ]
  },
  {
   "cell_type": "code",
   "execution_count": 9,
   "metadata": {
    "collapsed": true
   },
   "outputs": [],
   "source": [
    "def add_text(attribute,family_category,cut_off, shortest_seq_length, longest_seq_length,B):\n",
    "    text = \"\"\"Showing sequences for students split by {0}, using the categories {1}.\n",
    "            Removed sequences used by less than {2}% of students.\n",
    "            Found sequences of lenght {3} to {4}.\n",
    "            Using {5} time bins\"\"\".format(attribute,family_category,int(cut_off*100), shortest_seq_length, longest_seq_length,B)\n",
    "    fig = plt.figure(figsize=(10, 4))\n",
    "    ax = plt.gca()\n",
    "    ax.text(0.5,0.5,text,\n",
    "        horizontalalignment='center',\n",
    "        verticalalignment='center',\n",
    "        fontsize = 15)\n",
    "    plt.axis('off')\n",
    "    return fig\n",
    "\n",
    "def rank_sequences(sequence_counts,B,axesnum=None):\n",
    "    ranks = []\n",
    "    for seq,counts in sequence_counts.iteritems():\n",
    "#         if np.sum(counts)>0:\n",
    "        ranks.append((seq,calc_infogain(counts,B,axesnum)))\n",
    "    return sorted(ranks, key=lambda tup: tup[1])\n",
    "\n",
    "def get_top_seqs(ranks,N):\n",
    "    return ranks[-N:]"
   ]
  },
  {
   "cell_type": "markdown",
   "metadata": {},
   "source": [
    "STEPS\n",
    "- get sequences (the same way we always do)\n",
    "- remove all actions except C,P,$T_O$\n",
    "- repeat analysis by group and time for seqs of lenths 2-10 (like last time)\n",
    "- keep filter of 35% though prehaps we can increase it\n",
    "\n",
    "OR, test frequency of all these seqs (6 combos):\n",
    "\n",
    "* $T_1,T_2,T_M$ increasing complexity\n",
    "* $T_1,T_M,T_2$ skipping compare and contrast\n",
    "* $T_2,T_M,T_1$ back to basics\n",
    "* $T_2,T_1,T_M$ back to basics then complex\n",
    "* $T_M,T_1,T_2$ complex, then increasing\n",
    "* $T_M,T_2,T_1$ decreasing in complextiy\n",
    "\n",
    "\n",
    "\n"
   ]
  },
  {
   "cell_type": "markdown",
   "metadata": {},
   "source": [
    "### We are only interested in testing actions so we remove the rest\n",
    "For now we don't do anything ig Test other and leave them there."
   ]
  },
  {
   "cell_type": "code",
   "execution_count": 10,
   "metadata": {
    "collapsed": false
   },
   "outputs": [],
   "source": [
    "def keep_tests(k,seq):\n",
    "    seq = [c for c in seq if c not in ['C','P']]\n",
    "    return seq\n",
    "blocks, timecoords = get_blocks_withTime_new(df, get_students('split pre','low'), 'Family', as_list = True, ignore = ['I'], start = False)\n",
    "newblocks = {k:keep_tests(k,v) for k,v in blocks.iteritems()}"
   ]
  },
  {
   "cell_type": "markdown",
   "metadata": {},
   "source": [
    "### Next we run the info gain analysis"
   ]
  },
  {
   "cell_type": "code",
   "execution_count": 25,
   "metadata": {
    "collapsed": false
   },
   "outputs": [
    {
     "name": "stdout",
     "output_type": "stream",
     "text": [
      "Getting sequence use over 1 time bins for 74 students split by split post t2. \n",
      "    Keeping only sequences used once by at least 35% of students \n",
      "    in each group and overall.\n",
      "Getting sequence use over 4 time bins for 74 students split by split post t2. \n",
      "    Keeping only sequences used once by at least 35% of students \n",
      "    in each group and overall.\n"
     ]
    }
   ],
   "source": [
    "students = get_students(attribute='split pre',level='low')\n",
    "CUT_OFF = 0.35 #we keep only sequences used once by at least 10% of students\n",
    "shortest_seq_length = 2\n",
    "longest_seq_length = 10\n",
    "\n",
    "### PARAMETERS\n",
    "attributes = [('split post t2','high','low')]\n",
    "family_categories = [\"Family\"]#,\"Family_tool\",\"Family_default\"]\n",
    "\n",
    "BINS = 1\n",
    "sequence_counts = get_sequence_use_by_timebin(df,students,family_category,\n",
    "                                          1,attribute,level1,level2,\n",
    "                                          shortest_seq_length,longest_seq_length,CUT_OFF,remove_actions= ['C','P'])\n",
    "tops = get_top_seqs(rank_sequences(sequence_counts,B,axis),15)\n",
    "\n",
    "BINS = 4\n",
    "sequence_counts = get_sequence_use_by_timebin(df,students,family_category,\n",
    "                                  BINS,attribute,level1,level2,\n",
    "                                  shortest_seq_length,longest_seq_length,CUT_OFF,remove_actions= ['C','P'])\n"
   ]
  },
  {
   "cell_type": "markdown",
   "metadata": {},
   "source": [
    "## Let's take a closer look at the top sequences"
   ]
  },
  {
   "cell_type": "code",
   "execution_count": 26,
   "metadata": {
    "collapsed": false
   },
   "outputs": [
    {
     "data": {
      "text/plain": [
       "[('TsTcTcTc', 0.0059697885230435288),\n",
       " ('TcTcTb', 0.0059697885230435288),\n",
       " ('TbTbTbTs', 0.0059697885230435288),\n",
       " ('TbTbTs', 0.0067661802602934085),\n",
       " ('TsTcTc', 0.0080075965461443577),\n",
       " ('TbTb', 0.0080075965461443577),\n",
       " ('TbTbTb', 0.010412478777944267),\n",
       " ('TbTsTs', 0.010412478777944267),\n",
       " ('TsTc', 0.0123074911041966),\n",
       " ('TbTc', 0.020131243348847194),\n",
       " ('TcTcTcTcTcTcTc', 0.024880935059134024),\n",
       " ('TbTs', 0.026331935450379929),\n",
       " ('TcTcTcTcTcTcTcTc', 0.045565997075034947),\n",
       " ('TcTcTcTcTcTcTcTcTc', 0.067888432383325314),\n",
       " ('TcTcTcTcTcTcTcTcTcTc', 0.12601895187264223)]"
      ]
     },
     "execution_count": 26,
     "metadata": {},
     "output_type": "execute_result"
    }
   ],
   "source": [
    "tops"
   ]
  },
  {
   "cell_type": "code",
   "execution_count": 28,
   "metadata": {
    "collapsed": false
   },
   "outputs": [
    {
     "data": {
      "image/png": "[encoded data removed]",
      "text/plain": [
       "<matplotlib.figure.Figure at 0x13288cf8>"
      ]
     },
     "metadata": {},
     "output_type": "display_data"
    }
   ],
   "source": [
    "sns.set_style(\"darkgrid\")\n",
    "sns.set_context(\"paper\")\n",
    "all_seqs = zip(*tops)[0]\n",
    "fig, axes = plt.subplots(len(tops),1)#, sharex=True, sharey=True)\n",
    "maximum = int(max([np.amax(counts) for seq,counts in sequence_counts.iteritems() if seq in all_seqs]))\n",
    "for i,(seq,ig) in enumerate(tops):\n",
    "    ax = axes[i]\n",
    "    data = sequence_counts[seq]\n",
    "    ax = axes[i]\n",
    "    hl,ll = 0,0\n",
    "    seq = \"$\"+seq.replace('Ts','T_2').replace('Tb','T_1').replace('Tc','T_m')+\"$\"\n",
    "    ax.text(0,2.05, seq, fontsize=14)\n",
    "    ax.text(2.0,2.05, \"$IG$= {0}, $LL$: {1}, $LH$: {2}\".format(str(round(ig,2)),ll,hl), fontsize=10)\n",
    "    heatmap = sns.heatmap(data, ax=ax, cmap=plt.cm.Blues,alpha=0.8, vmin=0, vmax=maximum, cbar=False,\n",
    "                          annot=False) #, annot_kws={'fontweight':'bold'})\n",
    "    fig.set_size_inches(10,30*len(test_seqs))\n",
    "    ax.set_frame_on(False)\n",
    "    i += 1"
   ]
  },
  {
   "cell_type": "code",
   "execution_count": null,
   "metadata": {
    "collapsed": true
   },
   "outputs": [],
   "source": []
  },
  {
   "cell_type": "code",
   "execution_count": null,
   "metadata": {
    "collapsed": true
   },
   "outputs": [],
   "source": []
  },
  {
   "cell_type": "code",
   "execution_count": null,
   "metadata": {
    "collapsed": true
   },
   "outputs": [],
   "source": []
  },
  {
   "cell_type": "code",
   "execution_count": null,
   "metadata": {
    "collapsed": true
   },
   "outputs": [],
   "source": []
  },
  {
   "cell_type": "code",
   "execution_count": null,
   "metadata": {
    "collapsed": true
   },
   "outputs": [],
   "source": []
  },
  {
   "cell_type": "code",
   "execution_count": null,
   "metadata": {
    "collapsed": true
   },
   "outputs": [],
   "source": [
    "# students = get_students(attribute='split pre',level='low')\n",
    "# CUT_OFF = 0.35 #we keep only sequences used once by at least 10% of students\n",
    "# shortest_seq_length = 2\n",
    "# longest_seq_length = 10\n",
    "# BINS = 4  #number of bins\n",
    "\n",
    "# ### PARAMETERS\n",
    "# attributes = [('split post t2','high','low')]\n",
    "# family_categories = [\"Family\"]#,\"Family_tool\",\"Family_default\"]\n",
    "\n",
    "# parse_axis = {0:'time',1:'group',None:'time and group'}\n",
    "# pdf = PdfPages('infogain_results_by_post2_testing_seqs.pdf')\n",
    "# test_seqs = {}\n",
    "# for attribute,level1,level2 in attributes:\n",
    "#     for family_category in family_categories:\n",
    "#         for axis in [1]:#,1,None]:\n",
    "#             if axis == 1: B = 1\n",
    "#             else: B = BINS\n",
    "        \n",
    "#             print \"For attribute {0}, categories {1}\".format(attribute,family_category)\n",
    "#             pdf.savefig(add_text(attribute,family_category,CUT_OFF, shortest_seq_length, longest_seq_length,B))\n",
    "#             sequence_counts = get_sequence_use_by_timebin(df,students,family_category,\n",
    "#                                                           B,attribute,level1,level2,\n",
    "#                                                           shortest_seq_length,longest_seq_length,CUT_OFF,remove_actions= ['C','P'])\n",
    "#             test_seqs[axis] = sequence_counts\n",
    "#             ylabels = [level1,level2]\n",
    "#             tops = get_top_seqs(rank_sequences(sequence_counts,B,axis),15)\n",
    "# #             print parse_axis[axis]\n",
    "#             for seq,infogain in tops:\n",
    "# #                 print seq, infogain\n",
    "#                 title = '{0}: infogain {1} by {2}'.format(seq,round(infogain,3),parse_axis[axis])\n",
    "#                 plot = plot_heat_map(sequence_counts[seq],title, ylabels)\n",
    "#                 pdf.savefig( plot )\n",
    "#                 plot.clf()\n",
    "# pdf.close()"
   ]
  }
 ],
 "metadata": {
  "kernelspec": {
   "display_name": "Python 2",
   "language": "python",
   "name": "python2"
  },
  "language_info": {
   "codemirror_mode": {
    "name": "ipython",
    "version": 2
   },
   "file_extension": ".py",
   "mimetype": "text/x-python",
   "name": "python",
   "nbconvert_exporter": "python",
   "pygments_lexer": "ipython2",
   "version": "2.7.12"
  }
 },
 "nbformat": 4,
 "nbformat_minor": 0
}
