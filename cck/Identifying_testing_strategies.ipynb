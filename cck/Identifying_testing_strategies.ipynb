{
 "cells": [
  {
   "cell_type": "code",
   "execution_count": 39,
   "metadata": {
    "collapsed": true
   },
   "outputs": [],
   "source": [
    "import math\n",
    "import numpy as np\n",
    "import pandas as pd\n",
    "import sys\n",
    "import re\n",
    "from functions import *\n",
    "from mining_functions import *\n",
    "from collections import Counter\n",
    "from matplotlib.backends.backend_pdf import PdfPages\n",
    "import seaborn as sns\n",
    "from scipy import stats\n",
    "from tabulate import tabulate\n",
    "np.set_printoptions(precision=2)\n",
    "pd.set_option('precision', 2)\n",
    "%matplotlib inline\n",
    "matplotlib.style.use('ggplot')"
   ]
  },
  {
   "cell_type": "code",
   "execution_count": 40,
   "metadata": {
    "collapsed": false
   },
   "outputs": [],
   "source": [
    "PATH = '/Google Drive/Jonathan Sarah Ido folder/data/CCK/'\n",
    "def get_path(path = PATH):\n",
    "    if os.name == 'posix':\n",
    "        path = '/Documents/code/Phet-log-analyzer/cck/raw_data_parsing_check/'\n",
    "        return os.environ['HOME']+path #'/Google Drive/Jonathan Sarah Ido folder/data/CCK/'\n",
    "    elif os.name == 'nt':\n",
    "        if os.getenv(\"COMPUTERNAME\") == 'PYRRHA':\n",
    "                path = '/Documents/git/Phet-log-analyzer/cck/raw_data_parsing_check/'\n",
    "        else:\n",
    "            path = '/git/Phet-log-analyzer/cck/raw_data_parsing_check/'\n",
    "        return os.environ['USERPROFILE']+ path.replace('/','\\\\') #'\\\\Google Drive\\Jonathan Sarah Ido folder\\data\\CCK\\\\'\n",
    "    else:\n",
    "        raise Exception('OS not recongnized. I\\'m confused.')\n",
    "        \n",
    "df = pd.read_csv(get_path() + 'phet_cck_user_actions+sophistication_WITHPAUSE_more_circuit_info.txt',index_col=False)\n",
    "# dfx = pd.read_csv('C:\\Users\\Sarah\\Documents\\git\\Phet-log-analyzer\\cck\\\\raw_data_parsing_check\\phet_cck_user_actions+sophistication_WITHPAUSE_more_circuit_info.txt',index_col=False)\n",
    "df[\"student\"] = df[\"student\"].astype('category')\n",
    "df[\"Family\"]=df[\"Family\"].str.capitalize()\n",
    "df[\"Family_tool\"]=df[\"Family_tool\"].str.capitalize()\n",
    "df[\"Family_default\"]=df[\"Family_default\"].str.capitalize()\n",
    "df[\"Family_both\"]=df[\"Family_both\"].str.capitalize()\n",
    "\n",
    "df_scores = pd.read_csv(data_path + 'MATCHING_phet_cck_user_data_anonymized.txt')\n",
    "df_scores[\"student\"] = df_scores[\"student\"].astype('category')"
   ]
  },
  {
   "cell_type": "markdown",
   "metadata": {},
   "source": [
    "\n",
    "#### Crop activity data to get rid of activity #3"
   ]
  },
  {
   "cell_type": "code",
   "execution_count": 41,
   "metadata": {
    "collapsed": true
   },
   "outputs": [],
   "source": [
    "max_time = 25*60*1000\n",
    "max_times = {s:min(df[df['student']==s][\"Time Stamp\"])+max_time for s in set(df['student'])}\n",
    "\n",
    "def keep_by_time (row):\n",
    "    if row[\"Time Stamp\"] <= max_times[row[\"student\"]]:\n",
    "        return True\n",
    "    else: \n",
    "        return False\n",
    "\n",
    "df['keep'] = df.apply (lambda row: keep_by_time (row),axis=1)\n",
    "df=df[df['keep']]"
   ]
  },
  {
   "cell_type": "markdown",
   "metadata": {},
   "source": [
    "Functions from the notebook \"\""
   ]
  },
  {
   "cell_type": "code",
   "execution_count": 42,
   "metadata": {
    "collapsed": true
   },
   "outputs": [],
   "source": [
    "def add_text(attribute,family_category,cut_off, shortest_seq_length, longest_seq_length,B):\n",
    "    text = \"\"\"Showing sequences for students split by {0}, using the categories {1}.\n",
    "            Removed sequences used by less than {2}% of students.\n",
    "            Found sequences of lenght {3} to {4}.\n",
    "            Using {5} time bins\"\"\".format(attribute,family_category,int(cut_off*100), shortest_seq_length, longest_seq_length,B)\n",
    "    fig = plt.figure(figsize=(10, 4))\n",
    "    ax = plt.gca()\n",
    "    ax.text(0.5,0.5,text,\n",
    "        horizontalalignment='center',\n",
    "        verticalalignment='center',\n",
    "        fontsize = 15)\n",
    "    plt.axis('off')\n",
    "    return fig\n",
    "\n",
    "def rank_sequences(sequence_counts,B,axesnum=None):\n",
    "    ranks = []\n",
    "    for seq,counts in sequence_counts.iteritems():\n",
    "#         if np.sum(counts)>0:\n",
    "        ranks.append((seq,calc_infogain(counts,B,axesnum)))\n",
    "    return sorted(ranks, key=lambda tup: tup[1])\n",
    "\n",
    "def get_top_seqs(ranks,N):\n",
    "    return ranks[-N:]"
   ]
  },
  {
   "cell_type": "code",
   "execution_count": 43,
   "metadata": {
    "collapsed": true
   },
   "outputs": [],
   "source": [
    "merge_actions = {'C':'C', 'P':'P', 'Tb':'T', 'Tc':'T', 'Ts':'T', 'To':'T'}\n",
    "\n",
    "def occurrences(string, sub):\n",
    "    count = start = 0\n",
    "    while True:\n",
    "        start = string.find(sub, start) + 1\n",
    "        if start > 0:\n",
    "            count+=1\n",
    "        else:\n",
    "            return count\n",
    "        \n",
    "def make_hist_discrete(seq_of_interest,freq_HL,freq_LL):\n",
    "    fig, axs = plt.subplots(1,figsize=(12,2.5))\n",
    "    ymax= max(max(freq_HL),max(freq_LL))\n",
    "    bins = range(0,int(ymax)+1,1)\n",
    "    plt.hist(freq_HL,color ='r',alpha = 0.4,bins = bins)\n",
    "    plt.hist(freq_LL,color = 'b',alpha = 0.4,bins = bins)\n",
    "    plt.title(\"Use of the sequence ''{0}'' by HL (red) and LL (blue)\".format(seq_of_interest))\n",
    "    return plt\n",
    "\n",
    "def make_hist_continuous(seq_of_interest,freq_HL,freq_LL):\n",
    "    fig, axs = plt.subplots(1,figsize=(12,2.5))\n",
    "    end = 10\n",
    "    bins = np.arange(0,end,0.05)\n",
    "    plt.hist(freq_HL,color ='r',alpha = 0.4,bins = bins)\n",
    "    plt.hist(freq_LL,color = 'b',alpha = 0.4,bins = bins)\n",
    "    plt.title(\"Use of the sequence ''{0}'' by HL (red) and LL (blue)\".format(seq_of_interest))\n",
    "    return plt\n",
    "\n",
    "def get_frequencies(seq_of_interest,blocks1,blocks2,normalize_by='length'):\n",
    "    def coo(seq, seq_of_interest):\n",
    "        return float(occurrences(''.join(seq),seq_of_interest))\n",
    "    \n",
    "    if normalize_by == None:\n",
    "        # count number of occurrences of \"seq_of_interest\" in a student's seq\n",
    "        freq1 = {student : coo(seq, seq_of_interest) for student,seq in blocks1.iteritems()}\n",
    "        freq2 = {student : coo(seq, seq_of_interest) for student,seq in blocks2.iteritems()}\n",
    "    elif normalize_by == 'length':\n",
    "        len_seqi = len(''.join([c for c in seq_of_interest if c.isupper()]))\n",
    "        # count number of occurrences of \"seq_of_interest\" in a student's seq divided by the length of seq\n",
    "        freq1 = {student : coo(seq, seq_of_interest)/(len(seq)/len_seqi) if coo(seq, seq_of_interest) >0 else 0 for student,seq in blocks1.iteritems()}\n",
    "        freq2 = {student : coo(seq, seq_of_interest)/(len(seq)/len_seqi) if coo(seq, seq_of_interest) >0 else 0 for student,seq in blocks2.iteritems()}\n",
    "    else:\n",
    "        # count number of occurrences of \"seq_of_interest\" in a student's seq divided by the number of occurrences of the seq \"normalize_by\"\n",
    "        freq1 = {student : coo(seq, seq_of_interest)/coo(seq, normalize_by) if coo(seq, normalize_by) >0 else 0 for student,seq in blocks1.iteritems()}\n",
    "        freq2 = {student : coo(seq, seq_of_interest)/coo(seq, normalize_by) if coo(seq, normalize_by) >0 else 0 for student,seq in blocks2.iteritems()}\n",
    "    return freq1.values(),freq2.values()\n",
    "\n",
    "def run_chi2(seq_of_interest,blocks1,blocks2,consider_if=None):\n",
    "    def coo(seq, seq_of_interest):\n",
    "        if occurrences(\"\".join(seq),seq_of_interest) >=1:\n",
    "            return 1\n",
    "        else:\n",
    "            return 0\n",
    "        \n",
    "    if consider_if:\n",
    "        hl = sum([coo(seq, seq_of_interest) for student,seq in blocks1.iteritems()])\n",
    "        nhl = sum([coo(seq, consider_if) for student,seq in blocks1.iteritems()])-hl\n",
    "        ll =  sum([coo(seq, seq_of_interest) for student,seq in blocks2.iteritems()])\n",
    "        nll = sum([coo(seq, consider_if) for student,seq in blocks2.iteritems()])-ll\n",
    "    else:\n",
    "        hl = sum([coo(seq, seq_of_interest) for student,seq in blocks1.iteritems()])\n",
    "        nhl = len(blocks1.keys())-hl\n",
    "        ll =  sum([coo(seq, seq_of_interest) for student,seq in blocks2.iteritems()])\n",
    "        nll = len(blocks2.keys())-ll\n",
    "    \n",
    "    to_print = [[\"\",\"Low-High\",\"Low-Low\",\"total\"]]\n",
    "    to_print.append([\"used it\",hl,ll,ll+hl])\n",
    "    to_print.append([\"didn't use it\",nhl,nll,nll+nhl])\n",
    "    to_print.append([\"total\",nhl+hl,nll+ll,nll+ll+nhl+hl])\n",
    "    print tabulate(to_print)\n",
    "    \n",
    "    total = float(hl + nhl + ll + nll)\n",
    "    print 'old: ',stats.chisquare(f_obs= [hl,ll],   # Array of observed counts\n",
    "                    f_exp= [(hl+nhl)*(hl+ll)/total,(ll+nll)*(hl+ll)/total])   # Array of expected counts\n",
    "    print 'new:', stats.chi2_contingency([[hl,ll],[nhl,nll]], correction=False)\n",
    "    return None\n",
    "# ### Demonstration of function above\n",
    "# b1 = {1:[\"A\",\"Bo\",\"C\",\"Bo\",\"C\",\"A\",\"C\",\"A\"]}\n",
    "# b2 = {3:[\"A\",\"Bo\",\"C\",\"Bo\",\"A\",\"Bo\",\"A\",\"Bo\"]}\n",
    "# f1,f2 = get_frequencies('BoC',b1,b2,normalize_by='Bo')\n",
    "# print f1,f2\n",
    "\n",
    "def perform_comparative_stats(seq_of_interest,freq1,freq2):\n",
    "    t,p =  stats.ttest_ind(freq1,freq2,equal_var=False)\n",
    "    print seq_of_interest,':'\n",
    "    print \"\\tT-test:\\t{0} \\t p={1}\".format(round(t,3),round(p,4))\n",
    "    m,p = stats.mannwhitneyu(freq1,freq2, alternative='less')\n",
    "    print '\\tHL<LL:\\t{0} \\t p={1}'.format(round(m,3),round(p,4))\n",
    "    m,p = stats.mannwhitneyu(freq1,freq2, alternative='greater')\n",
    "    print '\\tHL>LL:\\t{0} \\t p={1}'.format(round(m,3),round(p,4))\n",
    "    m,p = stats.mannwhitneyu(freq1,freq2, alternative='two-sided')\n",
    "    print '\\ttwo-sided:\\t{0} \\t p={1}'.format(round(m,3),round(p,4))"
   ]
  },
  {
   "cell_type": "markdown",
   "metadata": {},
   "source": [
    "## Overview of Analysis\n",
    "- get sequences (the same way we always do)\n",
    "- remove all actions of type C,P,$T_O$\n",
    "- repeat analysis by group and time for seqs of lenths 2-10 (like last time)\n",
    "- keep filter of 35%\n",
    "\n",
    "Below we run the sequence mining analysis:\n",
    "\n",
    "1. by keeping individual testing blocks from the sequences with C and P (using the \"remove_action=['C','P','To']\" option\n",
    "        ($CPT_1PT_1T_2$ becomes $T_1T_2T_2$)\n",
    "2. by keeping the sequence of tests (using the \"ignore=['C','P','To']\" option)\n",
    "        ($CPT_1PT_1T_2$ becomes $T_1T_2$)\n",
    "\n",
    "Then we calculate the following frequencies:\n",
    "\n",
    "* frequency of $T_1$ followed by $T_2$ increasing complexity\n",
    "* frequency of $T_1$ followed by $T_M$ skipping compare and contrast\n",
    "* frequency of $T_2$ followed by $T_M$ increasing complexity\n",
    "* frequency of $T_2$ followed by $T_1$ back to basics\n",
    "* frequency of $T_M$ followed by $T_1$ back to basics\n",
    "* frequency of $T_M$ followed by $T_2$ back to CC?"
   ]
  },
  {
   "cell_type": "markdown",
   "metadata": {},
   "source": [
    "### We run the info gain analysis on sequences with only Testing actions\n",
    "$CPT_1PT_1T_2$ becomes $T_1T_2T_2$"
   ]
  },
  {
   "cell_type": "code",
   "execution_count": 5,
   "metadata": {
    "collapsed": false
   },
   "outputs": [
    {
     "name": "stdout",
     "output_type": "stream",
     "text": [
      "Getting sequence use over 1 time bins for 74 students split by split post t2. \n",
      "    Keeping only sequences used once by at least 35% of students \n",
      "    in each group and overall.\n",
      "Getting sequence use over 4 time bins for 74 students split by split post t2. \n",
      "    Keeping only sequences used once by at least 35% of students \n",
      "    in each group and overall.\n"
     ]
    }
   ],
   "source": [
    "students = get_students(attribute='split pre',level='low')\n",
    "CUT_OFF = 0.35 #we keep only sequences used once by at least 10% of students\n",
    "shortest_seq_length = 2\n",
    "longest_seq_length = 10\n",
    "\n",
    "### PARAMETERS\n",
    "attribute = 'split post t2'\n",
    "level1 = 'high'\n",
    "level2 = 'low'\n",
    "family_category = \"Family\"\n",
    "axis = 1\n",
    "\n",
    "BINS = 1\n",
    "sequence_counts_group = get_sequence_use_by_timebin(df,students,family_category,\n",
    "                                          1,attribute,level1,level2,\n",
    "                                          shortest_seq_length,longest_seq_length,CUT_OFF,ignore=['I'],remove_actions= ['C','P','To'])\n",
    "tops = get_top_seqs(rank_sequences(sequence_counts_group,BINS,axis),15)\n",
    "\n",
    "BINS = 4\n",
    "sequence_counts_both = get_sequence_use_by_timebin(df,students,family_category,\n",
    "                                  BINS,attribute,level1,level2,\n",
    "                                  shortest_seq_length,longest_seq_length,CUT_OFF,ignore=['I'],remove_actions= ['C','P','To'])\n"
   ]
  },
  {
   "cell_type": "markdown",
   "metadata": {},
   "source": [
    "Here are the sequences and how they were used by LH and LL"
   ]
  },
  {
   "cell_type": "code",
   "execution_count": 6,
   "metadata": {
    "collapsed": false
   },
   "outputs": [
    {
     "data": {
      "text/plain": [
       "{'TbTb': array([[ 21.],\n",
       "        [ 17.]]), 'TbTbTb': array([[ 11.],\n",
       "        [ 14.]]), 'TbTbTbTs': array([[ 10.],\n",
       "        [ 12.]]), 'TbTbTs': array([[ 17.],\n",
       "        [ 14.]]), 'TbTc': array([[ 14.],\n",
       "        [ 10.]]), 'TbTs': array([[ 25.],\n",
       "        [ 17.]]), 'TbTsTs': array([[ 14.],\n",
       "        [ 11.]]), 'TcTb': array([[ 15.],\n",
       "        [ 14.]]), 'TcTc': array([[ 32.],\n",
       "        [ 30.]]), 'TcTcTb': array([[ 10.],\n",
       "        [ 12.]]), 'TcTcTc': array([[ 29.],\n",
       "        [ 28.]]), 'TcTcTcTc': array([[ 25.],\n",
       "        [ 25.]]), 'TcTcTcTcTc': array([[ 20.],\n",
       "        [ 20.]]), 'TcTcTcTcTcTc': array([[ 17.],\n",
       "        [ 18.]]), 'TcTcTcTcTcTcTc': array([[ 11.],\n",
       "        [ 16.]]), 'TcTcTcTcTcTcTcTc': array([[  9.],\n",
       "        [ 15.]]), 'TcTcTcTcTcTcTcTcTc': array([[  8.],\n",
       "        [ 15.]]), 'TcTcTcTcTcTcTcTcTcTc': array([[  5.],\n",
       "        [ 12.]]), 'TcTs': array([[ 16.],\n",
       "        [ 14.]]), 'TsTc': array([[ 26.],\n",
       "        [ 20.]]), 'TsTcTc': array([[ 21.],\n",
       "        [ 17.]]), 'TsTcTcTc': array([[ 18.],\n",
       "        [ 15.]]), 'TsTcTcTcTc': array([[ 13.],\n",
       "        [ 13.]]), 'TsTs': array([[ 21.],\n",
       "        [ 20.]]), 'TsTsTc': array([[ 16.],\n",
       "        [ 16.]]), 'TsTsTs': array([[ 17.],\n",
       "        [ 17.]]), 'TsTsTsTc': array([[ 12.],\n",
       "        [ 13.]]), 'TsTsTsTs': array([[ 12.],\n",
       "        [ 13.]])}"
      ]
     },
     "execution_count": 6,
     "metadata": {},
     "output_type": "execute_result"
    }
   ],
   "source": [
    "sequence_counts_group"
   ]
  },
  {
   "cell_type": "markdown",
   "metadata": {},
   "source": [
    "Here are the sequences and how they were used by LH and LL over time"
   ]
  },
  {
   "cell_type": "code",
   "execution_count": 7,
   "metadata": {
    "collapsed": false
   },
   "outputs": [
    {
     "data": {
      "text/plain": [
       "{'TbTb': array([[ 19.,   3.,   3.,   2.],\n",
       "        [ 16.,   4.,   3.,   1.]]), 'TbTbTb': array([[ 10.,   0.,   1.,   1.],\n",
       "        [ 12.,   3.,   1.,   0.]]), 'TbTbTbTs': array([[  9.,   0.,   1.,   1.],\n",
       "        [ 10.,   3.,   0.,   0.]]), 'TbTbTs': array([[ 16.,   0.,   2.,   1.],\n",
       "        [ 13.,   4.,   0.,   0.]]), 'TbTc': array([[ 3.,  3.,  5.,  7.],\n",
       "        [ 4.,  0.,  4.,  5.]]), 'TbTs': array([[ 22.,   4.,   3.,   3.],\n",
       "        [ 16.,   4.,   3.,   2.]]), 'TbTsTs': array([[ 13.,   2.,   1.,   0.],\n",
       "        [  9.,   2.,   2.,   1.]]), 'TcTb': array([[ 3.,  5.,  5.,  8.],\n",
       "        [ 3.,  4.,  7.,  5.]]), 'TcTc': array([[ 15.,  24.,  21.,  22.],\n",
       "        [ 18.,  25.,  23.,  23.]]), 'TcTcTb': array([[ 2.,  2.,  3.,  6.],\n",
       "        [ 1.,  4.,  6.,  4.]]), 'TcTcTc': array([[ 11.,  21.,  16.,  17.],\n",
       "        [ 16.,  21.,  20.,  14.]]), 'TcTcTcTc': array([[  9.,  16.,  12.,   7.],\n",
       "        [ 13.,  20.,  17.,   7.]]), 'TcTcTcTcTc': array([[  9.,  12.,   8.,   3.],\n",
       "        [ 11.,  15.,  13.,   4.]]), 'TcTcTcTcTcTc': array([[  9.,   9.,   5.,   2.],\n",
       "        [ 11.,  12.,  11.,   3.]]), 'TcTcTcTcTcTcTc': array([[  7.,   5.,   4.,   1.],\n",
       "        [  9.,  10.,   9.,   3.]]), 'TcTcTcTcTcTcTcTc': array([[ 6.,  4.,  3.,  1.],\n",
       "        [ 9.,  9.,  7.,  2.]]), 'TcTcTcTcTcTcTcTcTc': array([[ 4.,  4.,  2.,  0.],\n",
       "        [ 9.,  9.,  4.,  2.]]), 'TcTcTcTcTcTcTcTcTcTc': array([[ 2.,  1.,  2.,  0.],\n",
       "        [ 7.,  7.,  2.,  1.]]), 'TcTs': array([[  3.,   8.,   6.,   2.],\n",
       "        [  2.,   5.,  11.,   3.]]), 'TsTc': array([[ 10.,  12.,   6.,   8.],\n",
       "        [  6.,  13.,  11.,   4.]]), 'TsTcTc': array([[  8.,  10.,   4.,   3.],\n",
       "        [  5.,  11.,   8.,   2.]]), 'TsTcTcTc': array([[  8.,   8.,   4.,   1.],\n",
       "        [  4.,  10.,   6.,   1.]]), 'TsTcTcTcTc': array([[ 7.,  4.,  3.,  0.],\n",
       "        [ 3.,  9.,  4.,  0.]]), 'TsTs': array([[ 13.,  12.,  11.,   4.],\n",
       "        [ 12.,  12.,   9.,   8.]]), 'TsTsTc': array([[ 5.,  6.,  5.,  2.],\n",
       "        [ 4.,  7.,  6.,  2.]]), 'TsTsTs': array([[ 11.,   8.,   7.,   2.],\n",
       "        [ 11.,   9.,   7.,   5.]]), 'TsTsTsTc': array([[ 5.,  4.,  4.,  0.],\n",
       "        [ 5.,  5.,  4.,  1.]]), 'TsTsTsTs': array([[ 9.,  7.,  2.,  2.],\n",
       "        [ 8.,  6.,  5.,  3.]])}"
      ]
     },
     "execution_count": 7,
     "metadata": {},
     "output_type": "execute_result"
    }
   ],
   "source": [
    "sequence_counts_both"
   ]
  },
  {
   "cell_type": "code",
   "execution_count": 8,
   "metadata": {
    "collapsed": false
   },
   "outputs": [
    {
     "data": {
      "text/plain": [
       "[('TsTcTcTc', 0.0059697885230435288),\n",
       " ('TcTcTb', 0.0059697885230435288),\n",
       " ('TbTbTbTs', 0.0059697885230435288),\n",
       " ('TbTbTs', 0.0067661802602934085),\n",
       " ('TsTcTc', 0.0080075965461443577),\n",
       " ('TbTb', 0.0080075965461443577),\n",
       " ('TbTbTb', 0.010412478777944267),\n",
       " ('TbTsTs', 0.010412478777944267),\n",
       " ('TsTc', 0.0123074911041966),\n",
       " ('TbTc', 0.020131243348847194),\n",
       " ('TcTcTcTcTcTcTc', 0.024880935059134024),\n",
       " ('TbTs', 0.026331935450379929),\n",
       " ('TcTcTcTcTcTcTcTc', 0.045565997075034947),\n",
       " ('TcTcTcTcTcTcTcTcTc', 0.067888432383325314),\n",
       " ('TcTcTcTcTcTcTcTcTcTc', 0.12601895187264223)]"
      ]
     },
     "execution_count": 8,
     "metadata": {},
     "output_type": "execute_result"
    }
   ],
   "source": [
    "tops"
   ]
  },
  {
   "cell_type": "code",
   "execution_count": 9,
   "metadata": {
    "collapsed": false
   },
   "outputs": [
    {
     "data": {
      "image/png": "[encoded data removed]",
      "text/plain": [
       "<matplotlib.figure.Figure at 0xcca82e8>"
      ]
     },
     "metadata": {},
     "output_type": "display_data"
    }
   ],
   "source": [
    "sns.set_style(\"darkgrid\")\n",
    "sns.set_context(\"paper\")\n",
    "all_seqs = zip(*tops)[0]\n",
    "fig, axes = plt.subplots(len(tops),1)#, sharex=True, sharey=True)\n",
    "maximum = int(max([np.amax(counts) for seq,counts in sequence_counts_both.iteritems() if seq in all_seqs]))\n",
    "for i,(seq,ig) in enumerate(tops):\n",
    "    ax = axes[i]\n",
    "    data = sequence_counts_both[seq]\n",
    "    ax = axes[i]\n",
    "    hl,ll = 0,0\n",
    "    seq = \"$\"+seq.replace('Ts','T_2').replace('Tb','T_1').replace('Tc','T_m')+\"$\"\n",
    "    ax.text(0,2.05, seq, fontsize=14)\n",
    "    ax.text(2.0,2.05, \"$IG$= {0}, $LL$: {1}, $LH$: {2}\".format(str(round(ig,2)),ll,hl), fontsize=10)\n",
    "    heatmap = sns.heatmap(data, ax=ax, cmap=plt.cm.Blues,alpha=0.8, vmin=0, vmax=maximum, cbar=False,\n",
    "                          annot=False) #, annot_kws={'fontweight':'bold'})\n",
    "    fig.set_size_inches(10,30)\n",
    "    ax.set_frame_on(False)\n",
    "    i += 1"
   ]
  },
  {
   "cell_type": "markdown",
   "metadata": {},
   "source": [
    "### We run the info gain analysis on blocks of testing sequences\n",
    "$CPT_1PT_1T_2$ becomes $T_1T_2$"
   ]
  },
  {
   "cell_type": "code",
   "execution_count": 22,
   "metadata": {
    "collapsed": false
   },
   "outputs": [
    {
     "name": "stdout",
     "output_type": "stream",
     "text": [
      "Getting sequence use over 1 time bins for 74 students split by split post t2. \n",
      "    Keeping only sequences used once by at least 10% of students \n",
      "    in each group and overall.\n",
      "Getting sequence use over 4 time bins for 74 students split by split post t2. \n",
      "    Keeping only sequences used once by at least 10% of students \n",
      "    in each group and overall.\n"
     ]
    }
   ],
   "source": [
    "students = get_students(attribute='split pre',level='low')\n",
    "CUT_OFF = 0.1 #we keep only sequences used once by at least 10% of students\n",
    "shortest_seq_length = 2\n",
    "longest_seq_length = 10\n",
    "\n",
    "### PARAMETERS\n",
    "attribute = 'split post t2'\n",
    "level1 = 'high'\n",
    "level2 = 'low'\n",
    "family_category = \"Family\"\n",
    "axis = 1\n",
    "\n",
    "BINS = 1\n",
    "sequence_counts_group = get_sequence_use_by_timebin(df,students,family_category,\n",
    "                                          1,attribute,level1,level2,\n",
    "                                          shortest_seq_length,longest_seq_length,CUT_OFF,ignore = ['I','C','P','To'])\n",
    "tops = get_top_seqs(rank_sequences(sequence_counts_group,BINS,axis),15)\n",
    "\n",
    "BINS = 4\n",
    "sequence_counts_both = get_sequence_use_by_timebin(df,students,family_category,\n",
    "                                  BINS,attribute,level1,level2,\n",
    "                                  shortest_seq_length,longest_seq_length,CUT_OFF,ignore = ['I','C','P','To'])\n"
   ]
  },
  {
   "cell_type": "markdown",
   "metadata": {},
   "source": [
    "Here are the sequences and how they were used by LH and LL"
   ]
  },
  {
   "cell_type": "code",
   "execution_count": 23,
   "metadata": {
    "collapsed": false
   },
   "outputs": [
    {
     "data": {
      "text/plain": [
       "{'TbTc': array([[ 14.],\n",
       "        [ 10.]]), 'TbTcTb': array([[ 8.],\n",
       "        [ 4.]]), 'TbTcTbTc': array([[ 7.],\n",
       "        [ 3.]]), 'TbTcTs': array([[ 5.],\n",
       "        [ 4.]]), 'TbTcTsTc': array([[ 3.],\n",
       "        [ 3.]]), 'TbTcTsTcTs': array([[ 0.],\n",
       "        [ 3.]]), 'TbTs': array([[ 25.],\n",
       "        [ 17.]]), 'TbTsTb': array([[ 3.],\n",
       "        [ 5.]]), 'TbTsTbTs': array([[ 2.],\n",
       "        [ 4.]]), 'TbTsTbTsTb': array([[ 0.],\n",
       "        [ 2.]]), 'TbTsTbTsTbTs': array([[ 0.],\n",
       "        [ 2.]]), 'TbTsTbTsTbTsTc': array([[ 0.],\n",
       "        [ 2.]]), 'TbTsTbTsTc': array([[ 2.],\n",
       "        [ 4.]]), 'TbTsTbTsTcTb': array([[ 1.],\n",
       "        [ 2.]]), 'TbTsTbTsTcTs': array([[ 1.],\n",
       "        [ 3.]]), 'TbTsTc': array([[ 23.],\n",
       "        [ 15.]]), 'TbTsTcTb': array([[ 9.],\n",
       "        [ 7.]]), 'TbTsTcTbTc': array([[ 4.],\n",
       "        [ 3.]]), 'TbTsTcTbTcTb': array([[ 4.],\n",
       "        [ 1.]]), 'TbTsTcTbTcTbTc': array([[ 4.],\n",
       "        [ 1.]]), 'TbTsTcTbTs': array([[ 3.],\n",
       "        [ 4.]]), 'TbTsTcTbTsTc': array([[ 3.],\n",
       "        [ 3.]]), 'TbTsTcTs': array([[ 11.],\n",
       "        [  8.]]), 'TbTsTcTsTb': array([[ 5.],\n",
       "        [ 2.]]), 'TbTsTcTsTc': array([[ 6.],\n",
       "        [ 7.]]), 'TbTsTcTsTcTs': array([[ 3.],\n",
       "        [ 3.]]), 'TcTb': array([[ 15.],\n",
       "        [ 14.]]), 'TcTbTc': array([[ 9.],\n",
       "        [ 7.]]), 'TcTbTcTb': array([[ 5.],\n",
       "        [ 1.]]), 'TcTbTcTbTc': array([[ 5.],\n",
       "        [ 1.]]), 'TcTbTcTs': array([[ 2.],\n",
       "        [ 3.]]), 'TcTbTs': array([[ 5.],\n",
       "        [ 7.]]), 'TcTbTsTc': array([[ 5.],\n",
       "        [ 5.]]), 'TcTs': array([[ 16.],\n",
       "        [ 14.]]), 'TcTsTb': array([[ 9.],\n",
       "        [ 6.]]), 'TcTsTbTc': array([[ 4.],\n",
       "        [ 3.]]), 'TcTsTbTs': array([[ 5.],\n",
       "        [ 2.]]), 'TcTsTbTsTb': array([[ 1.],\n",
       "        [ 2.]]), 'TcTsTbTsTbTs': array([[ 1.],\n",
       "        [ 2.]]), 'TcTsTc': array([[  9.],\n",
       "        [ 11.]]), 'TcTsTcTb': array([[ 4.],\n",
       "        [ 2.]]), 'TcTsTcTs': array([[ 3.],\n",
       "        [ 7.]]), 'TcTsTcTsTb': array([[ 1.],\n",
       "        [ 2.]]), 'TsTb': array([[ 13.],\n",
       "        [  8.]]), 'TsTbTc': array([[ 6.],\n",
       "        [ 4.]]), 'TsTbTcTb': array([[ 3.],\n",
       "        [ 3.]]), 'TsTbTs': array([[ 6.],\n",
       "        [ 4.]]), 'TsTbTsTb': array([[ 1.],\n",
       "        [ 3.]]), 'TsTbTsTbTs': array([[ 1.],\n",
       "        [ 3.]]), 'TsTbTsTbTsTc': array([[ 1.],\n",
       "        [ 3.]]), 'TsTbTsTc': array([[ 5.],\n",
       "        [ 4.]]), 'TsTbTsTcTb': array([[ 3.],\n",
       "        [ 2.]]), 'TsTbTsTcTs': array([[ 2.],\n",
       "        [ 3.]]), 'TsTc': array([[ 26.],\n",
       "        [ 20.]]), 'TsTcTb': array([[ 11.],\n",
       "        [ 10.]]), 'TsTcTbTc': array([[ 6.],\n",
       "        [ 4.]]), 'TsTcTbTcTb': array([[ 5.],\n",
       "        [ 1.]]), 'TsTcTbTcTbTc': array([[ 5.],\n",
       "        [ 1.]]), 'TsTcTbTs': array([[ 3.],\n",
       "        [ 5.]]), 'TsTcTbTsTc': array([[ 3.],\n",
       "        [ 4.]]), 'TsTcTs': array([[ 11.],\n",
       "        [ 12.]]), 'TsTcTsTb': array([[ 6.],\n",
       "        [ 4.]]), 'TsTcTsTbTs': array([[ 3.],\n",
       "        [ 2.]]), 'TsTcTsTbTsTb': array([[ 0.],\n",
       "        [ 2.]]), 'TsTcTsTbTsTbTs': array([[ 0.],\n",
       "        [ 2.]]), 'TsTcTsTc': array([[ 6.],\n",
       "        [ 9.]]), 'TsTcTsTcTs': array([[ 3.],\n",
       "        [ 4.]])}"
      ]
     },
     "execution_count": 23,
     "metadata": {},
     "output_type": "execute_result"
    }
   ],
   "source": [
    "sequence_counts_group"
   ]
  },
  {
   "cell_type": "markdown",
   "metadata": {},
   "source": [
    "Here are the sequences and how they were used by LH and LL over time"
   ]
  },
  {
   "cell_type": "code",
   "execution_count": 12,
   "metadata": {
    "collapsed": false
   },
   "outputs": [
    {
     "data": {
      "text/plain": [
       "{'TbTc': array([[ 6.,  3.,  5.,  6.],\n",
       "        [ 4.,  1.,  2.,  7.]]), 'TbTs': array([[ 24.,   3.,   3.,   3.],\n",
       "        [ 17.,   3.,   1.,   3.]]), 'TbTsTc': array([[ 21.,   3.,   3.,   2.],\n",
       "        [ 14.,   3.,   0.,   2.]]), 'TcTb': array([[ 7.,  3.,  6.,  3.],\n",
       "        [ 8.,  4.,  3.,  3.]]), 'TcTs': array([[ 13.,   3.,   3.,   2.],\n",
       "        [  8.,   5.,   5.,   5.]]), 'TsTc': array([[ 21.,   6.,   6.,   4.],\n",
       "        [ 16.,   6.,   6.,   5.]]), 'TsTcTs': array([[ 10.,   1.,   3.,   1.],\n",
       "        [  7.,   4.,   6.,   2.]])}"
      ]
     },
     "execution_count": 12,
     "metadata": {},
     "output_type": "execute_result"
    }
   ],
   "source": [
    "sequence_counts_both"
   ]
  },
  {
   "cell_type": "code",
   "execution_count": 13,
   "metadata": {
    "collapsed": false
   },
   "outputs": [
    {
     "data": {
      "text/plain": [
       "[('TcTb', 0.00085789600809116351),\n",
       " ('TsTcTs', 0.0013640358414281906),\n",
       " ('TcTs', 0.0032083680183634389),\n",
       " ('TsTc', 0.0123074911041966),\n",
       " ('TbTc', 0.020131243348847194),\n",
       " ('TbTs', 0.026331935450379929),\n",
       " ('TbTsTc', 0.032211537173232108)]"
      ]
     },
     "execution_count": 13,
     "metadata": {},
     "output_type": "execute_result"
    }
   ],
   "source": [
    "tops"
   ]
  },
  {
   "cell_type": "code",
   "execution_count": 14,
   "metadata": {
    "collapsed": false
   },
   "outputs": [
    {
     "data": {
      "image/png": "[encoded data removed]",
      "text/plain": [
       "<matplotlib.figure.Figure at 0x40f7358>"
      ]
     },
     "metadata": {},
     "output_type": "display_data"
    }
   ],
   "source": [
    "sns.set_style(\"darkgrid\")\n",
    "sns.set_context(\"paper\")\n",
    "all_seqs = zip(*tops)[0]\n",
    "fig, axes = plt.subplots(len(tops),1)#, sharex=True, sharey=True)\n",
    "maximum = int(max([np.amax(counts) for seq,counts in sequence_counts_both.iteritems() if seq in all_seqs]))\n",
    "for i,(seq,ig) in enumerate(tops):\n",
    "    ax = axes[i]\n",
    "    data = sequence_counts_both[seq]\n",
    "    ax = axes[i]\n",
    "    hl,ll = 0,0\n",
    "    seq = \"$\"+seq.replace('Ts','T_2').replace('Tb','T_1').replace('Tc','T_m')+\"$\"\n",
    "    ax.text(0,2.05, seq, fontsize=14)\n",
    "    ax.text(2.0,2.05, \"$IG$= {0}, $LL$: {1}, $LH$: {2}\".format(str(round(ig,2)),ll,hl), fontsize=10)\n",
    "    heatmap = sns.heatmap(data, ax=ax, cmap=plt.cm.Blues,alpha=0.8, vmin=0, vmax=maximum, cbar=False,\n",
    "                          annot=False) #, annot_kws={'fontweight':'bold'})\n",
    "    fig.set_size_inches(10,20)\n",
    "    ax.set_frame_on(False)\n",
    "    i += 1"
   ]
  },
  {
   "cell_type": "markdown",
   "metadata": {},
   "source": [
    "## Look at pairs of testing blocks\n",
    "Let's get an idea of the sequence lengths if we only look at testing blocks"
   ]
  },
  {
   "cell_type": "code",
   "execution_count": 27,
   "metadata": {
    "collapsed": false
   },
   "outputs": [
    {
     "name": "stdout",
     "output_type": "stream",
     "text": [
      "length in blocks :\n",
      "\tT-test:\t0.214 \t p=0.8308\n",
      "\tHL<LL:\t715.0 \t p=0.6344\n",
      "\tHL>LL:\t715.0 \t p=0.3697\n",
      "\ttwo-sided:\t715.0 \t p=0.7394\n",
      "5.31081081081 4.49602129117\n"
     ]
    },
    {
     "data": {
      "image/png": "[encoded data removed]",
      "text/plain": [
       "<matplotlib.figure.Figure at 0xedbe7b8>"
      ]
     },
     "metadata": {},
     "output_type": "display_data"
    }
   ],
   "source": [
    "length_HL = [len(seq) for seq in blocks_HL.values()];length_LL = [len(seq) for seq in blocks_LL.values()]\n",
    "fig, axs = plt.subplots(1,figsize=(12,2.5))\n",
    "ymax= max(max(length_HL),max(length_LL))\n",
    "bins = range(0,ymax+2,)\n",
    "plt.hist(length_HL,color ='r',alpha = 0.5,bins = bins);plt.hist(length_LL,color = 'b',alpha = 0.5,bins = bins)\n",
    "plt.title(\" Length of activity in blocks of actions for HL (red) and LL (blue)\")\n",
    "perform_comparative_stats('length in blocks',length_HL,length_LL)\n",
    "L = length_HL\n",
    "L.extend(length_LL)\n",
    "print np.mean(L), np.std(L)"
   ]
  },
  {
   "cell_type": "markdown",
   "metadata": {},
   "source": [
    "So most people have sequences under 5 blocks so it doesn't make sense to compare frequencies. Let's compare how many students of each group use each pair."
   ]
  },
  {
   "cell_type": "code",
   "execution_count": 45,
   "metadata": {
    "collapsed": false
   },
   "outputs": [
    {
     "name": "stdout",
     "output_type": "stream",
     "text": [
      "TbTs\n",
      "-------------  --------  -------  -----\n",
      "               Low-High  Low-Low  total\n",
      "used it        25        17       42\n",
      "didn't use it  13        19       32\n",
      "total          38        36       74\n",
      "-------------  --------  -------  -----\n",
      "old:  Power_divergenceResult(statistic=1.1228766360345301, pvalue=0.28929988196266532)\n",
      "new: (2.596652220829851, 0.10708971102135106, 1L, array([[ 21.57,  20.43],\n",
      "       [ 16.43,  15.57]]))\n",
      "TbTc\n",
      "-------------  --------  -------  -----\n",
      "               Low-High  Low-Low  total\n",
      "used it        14        10       24\n",
      "didn't use it  24        26       50\n",
      "total          38        36       74\n",
      "-------------  --------  -------  -----\n",
      "old:  Power_divergenceResult(statistic=0.46832358674463925, pvalue=0.49375940959644182)\n",
      "new: (0.69311890838206658, 0.40510554607107374, 1L, array([[ 12.32,  11.68],\n",
      "       [ 25.68,  24.32]]))\n",
      "TsTc\n",
      "-------------  --------  -------  -----\n",
      "               Low-High  Low-Low  total\n",
      "used it        26        20       46\n",
      "didn't use it  12        16       28\n",
      "total          38        36       74\n",
      "-------------  --------  -------  -----\n",
      "old:  Power_divergenceResult(statistic=0.49224510551741696, pvalue=0.48292751999993588)\n",
      "new: (1.3009334931531733, 0.25404278073808295, 1L, array([[ 23.62,  22.38],\n",
      "       [ 14.38,  13.62]]))\n",
      "TsTb\n",
      "-------------  --------  -------  -----\n",
      "               Low-High  Low-Low  total\n",
      "used it        13        8        21\n",
      "didn't use it  25        28       53\n",
      "total          38        36       74\n",
      "-------------  --------  -------  -----\n",
      "old:  Power_divergenceResult(statistic=0.93622946254525174, pvalue=0.33324941757619242)\n",
      "new: (1.3071883061952576, 0.25290435948117784, 1L, array([[ 10.78,  10.22],\n",
      "       [ 27.22,  25.78]]))\n",
      "TcTb\n",
      "-------------  --------  -------  -----\n",
      "               Low-High  Low-Low  total\n",
      "used it        15        14       29\n",
      "didn't use it  23        22       45\n",
      "total          38        36       74\n",
      "-------------  --------  -------  -----\n",
      "old:  Power_divergenceResult(statistic=0.0016132284734825771, pvalue=0.96796156866448912)\n",
      "new: (0.0026528646008380156, 0.95892234746270577, 1L, array([[ 14.89,  14.11],\n",
      "       [ 23.11,  21.89]]))\n",
      "TcTs\n",
      "-------------  --------  -------  -----\n",
      "               Low-High  Low-Low  total\n",
      "used it        16        14       30\n",
      "didn't use it  22        22       44\n",
      "total          38        36       74\n",
      "-------------  --------  -------  -----\n",
      "old:  Power_divergenceResult(statistic=0.047173489278752458, pvalue=0.82805670177454394)\n",
      "new: (0.079337231968810762, 0.77819759036001301, 1L, array([[ 15.41,  14.59],\n",
      "       [ 22.59,  21.41]]))\n"
     ]
    }
   ],
   "source": [
    "students_Lpre = set(get_students('split pre','low'));H_post = set(get_students('split post t2','high'));L_post = set(get_students('split post t2','low'))\n",
    "students_HL = H_post.intersection(students_Lpre)\n",
    "students_LL = L_post.intersection(students_Lpre)\n",
    "blocks_HL, _ =  get_blocks_withTime_new(df,students_HL,\"Family\",start=False,ignore=['I','C','P','To'], as_list=True)\n",
    "blocks_LL, _ =  get_blocks_withTime_new(df,students_LL,\"Family\",start=False,ignore=['I','C','P','To'], as_list=True)\n",
    "\n",
    "paired_seqs = ['TbTs','TbTc','TsTc','TsTb','TcTb','TcTs']\n",
    "for seq in paired_seqs:\n",
    "    print seq\n",
    "    run_chi2(seq,blocks_HL,blocks_LL)"
   ]
  },
  {
   "cell_type": "markdown",
   "metadata": {},
   "source": [
    "There's nothing here! Clearly the order in which you test doesn't really matter. It's the deliberateness and reflectin that matters"
   ]
  },
  {
   "cell_type": "code",
   "execution_count": null,
   "metadata": {
    "collapsed": true
   },
   "outputs": [],
   "source": []
  }
 ],
 "metadata": {
  "anaconda-cloud": {},
  "kernelspec": {
   "display_name": "Python [Root]",
   "language": "python",
   "name": "Python [Root]"
  },
  "language_info": {
   "codemirror_mode": {
    "name": "ipython",
    "version": 2
   },
   "file_extension": ".py",
   "mimetype": "text/x-python",
   "name": "python",
   "nbconvert_exporter": "python",
   "pygments_lexer": "ipython2",
   "version": "2.7.12"
  }
 },
 "nbformat": 4,
 "nbformat_minor": 0
}
