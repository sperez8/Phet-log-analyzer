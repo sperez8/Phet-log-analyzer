{
 "cells": [
  {
   "cell_type": "code",
   "execution_count": 20,
   "metadata": {
    "collapsed": true
   },
   "outputs": [],
   "source": [
    "import math\n",
    "import numpy as np\n",
    "import pandas as pd\n",
    "import sys\n",
    "import re\n",
    "from functions import *\n",
    "from mining_functions import *\n",
    "from collections import Counter\n",
    "from matplotlib.backends.backend_pdf import PdfPages\n",
    "import seaborn as sns\n",
    "from scipy import stats\n",
    "np.set_printoptions(precision=2)\n",
    "pd.set_option('precision', 2)\n",
    "%matplotlib inline\n",
    "matplotlib.style.use('ggplot')"
   ]
  },
  {
   "cell_type": "code",
   "execution_count": 21,
   "metadata": {
    "collapsed": false
   },
   "outputs": [],
   "source": [
    "PATH = '/Google Drive/Jonathan Sarah Ido folder/data/CCK/'\n",
    "def get_path(path = PATH):\n",
    "    if os.name == 'posix':\n",
    "        path = '/Documents/code/Phet-log-analyzer/cck/raw_data_parsing_check/'\n",
    "        return os.environ['HOME']+path #'/Google Drive/Jonathan Sarah Ido folder/data/CCK/'\n",
    "    elif os.name == 'nt':\n",
    "        if os.getenv(\"COMPUTERNAME\") == 'PYRRHA':\n",
    "                path = '/Documents/git/Phet-log-analyzer/cck/raw_data_parsing_check/'\n",
    "        else:\n",
    "            path = '/git/Phet-log-analyzer/cck/raw_data_parsing_check/'\n",
    "        return os.environ['USERPROFILE']+ path.replace('/','\\\\') #'\\\\Google Drive\\Jonathan Sarah Ido folder\\data\\CCK\\\\'\n",
    "    else:\n",
    "        raise Exception('OS not recongnized. I\\'m confused.')\n",
    "        \n",
    "df = pd.read_csv(get_path() + 'phet_cck_user_actions+sophistication_WITHPAUSE_more_circuit_info.txt',index_col=False)\n",
    "# dfx = pd.read_csv('C:\\Users\\Sarah\\Documents\\git\\Phet-log-analyzer\\cck\\\\raw_data_parsing_check\\phet_cck_user_actions+sophistication_WITHPAUSE_more_circuit_info.txt',index_col=False)\n",
    "df[\"student\"] = df[\"student\"].astype('category')\n",
    "df[\"Family\"]=df[\"Family\"].str.capitalize()\n",
    "df[\"Family_tool\"]=df[\"Family_tool\"].str.capitalize()\n",
    "df[\"Family_default\"]=df[\"Family_default\"].str.capitalize()\n",
    "df[\"Family_both\"]=df[\"Family_both\"].str.capitalize()\n",
    "\n",
    "df_scores = pd.read_csv(data_path + 'MATCHING_phet_cck_user_data_anonymized.txt')\n",
    "df_scores[\"student\"] = df_scores[\"student\"].astype('category')"
   ]
  },
  {
   "cell_type": "markdown",
   "metadata": {},
   "source": [
    "\n",
    "#### Crop activity data to get rid of activity #3"
   ]
  },
  {
   "cell_type": "code",
   "execution_count": 22,
   "metadata": {
    "collapsed": true
   },
   "outputs": [],
   "source": [
    "max_time = 25*60*1000\n",
    "max_times = {s:min(df[df['student']==s][\"Time Stamp\"])+max_time for s in set(df['student'])}\n",
    "\n",
    "def keep_by_time (row):\n",
    "    if row[\"Time Stamp\"] <= max_times[row[\"student\"]]:\n",
    "        return True\n",
    "    else: \n",
    "        return False\n",
    "\n",
    "df['keep'] = df.apply (lambda row: keep_by_time (row),axis=1)\n",
    "df=df[df['keep']]"
   ]
  },
  {
   "cell_type": "code",
   "execution_count": 23,
   "metadata": {
    "collapsed": true
   },
   "outputs": [],
   "source": [
    "def add_text(attribute,family_category,cut_off, shortest_seq_length, longest_seq_length,B):\n",
    "    text = \"\"\"Showing sequences for students split by {0}, using the categories {1}.\n",
    "            Removed sequences used by less than {2}% of students.\n",
    "            Found sequences of lenght {3} to {4}.\n",
    "            Using {5} time bins\"\"\".format(attribute,family_category,int(cut_off*100), shortest_seq_length, longest_seq_length,B)\n",
    "    fig = plt.figure(figsize=(10, 4))\n",
    "    ax = plt.gca()\n",
    "    ax.text(0.5,0.5,text,\n",
    "        horizontalalignment='center',\n",
    "        verticalalignment='center',\n",
    "        fontsize = 15)\n",
    "    plt.axis('off')\n",
    "    return fig\n",
    "\n",
    "def rank_sequences(sequence_counts,B,axesnum=None):\n",
    "    ranks = []\n",
    "    for seq,counts in sequence_counts.iteritems():\n",
    "#         if np.sum(counts)>0:\n",
    "        ranks.append((seq,calc_infogain(counts,B,axesnum)))\n",
    "    return sorted(ranks, key=lambda tup: tup[1])\n",
    "\n",
    "def get_top_seqs(ranks,N):\n",
    "    return ranks[-N:]"
   ]
  },
  {
   "cell_type": "markdown",
   "metadata": {},
   "source": [
    "STEPS\n",
    "- get sequences (the same way we always do)\n",
    "- remove all actions except C,P,$T_O$\n",
    "- repeat analysis by group and time for seqs of lenths 2-10 (like last time)\n",
    "- keep filter of 35% though prehaps we can increase it\n",
    "\n",
    "OR, test frequency of all these seqs (6 combos):\n",
    "\n",
    "* $T_1,T_2,T_M$ increasing complexity\n",
    "* $T_1,T_M,T_2$ skipping compare and contrast\n",
    "* $T_2,T_M,T_1$ back to basics\n",
    "* $T_2,T_1,T_M$ back to basics then complex\n",
    "* $T_M,T_1,T_2$ complex, then increasing\n",
    "* $T_M,T_2,T_1$ decreasing in complextiy\n",
    "\n",
    "\n",
    "\n"
   ]
  },
  {
   "cell_type": "markdown",
   "metadata": {},
   "source": [
    "### First we get the student groups and their sequences of actions"
   ]
  },
  {
   "cell_type": "code",
   "execution_count": 24,
   "metadata": {
    "collapsed": false
   },
   "outputs": [],
   "source": [
    "# students_Lpre = set(get_students('split pre','low'));H_post = set(get_students('split post t2','high'));L_post = set(get_students('split post t2','low'))\n",
    "# LH = H_post.intersection(students_Lpre)\n",
    "# LL = L_post.intersection(students_Lpre)\n",
    "# print \"There are {0} low pre students, of which {1} are low to high learners and {2} low to low learners.\".format(len(students_Lpre),len(LH),len(LL))"
   ]
  },
  {
   "cell_type": "code",
   "execution_count": 25,
   "metadata": {
    "collapsed": true
   },
   "outputs": [],
   "source": [
    "# #get all action blocks in one long string per students for LL and LH groups.\n",
    "# blocksLH, _ = get_blocks_withTime_new(df, LH, 'Family', as_list = True, ignore = ['I'], start = False)\n",
    "# blocksLL, _ = get_blocks_withTime_new(df, LL, 'Family', as_list = True, ignore = ['I'], start = False)"
   ]
  },
  {
   "cell_type": "markdown",
   "metadata": {},
   "source": [
    "### Now we are only interested in testing actions so we remove the rest\n",
    "For now we don't do anything ig Test other and leave them there."
   ]
  },
  {
   "cell_type": "code",
   "execution_count": 26,
   "metadata": {
    "collapsed": false
   },
   "outputs": [],
   "source": [
    "def keep_tests(k,seq):\n",
    "    seq = [c for c in seq if c not in ['C','P']]\n",
    "    return seq\n",
    "blocks, timecoords = get_blocks_withTime_new(df, get_students('split pre','low'), 'Family', as_list = True, ignore = ['I'], start = False)\n",
    "newblocks = {k:keep_tests(k,v) for k,v in blocks.iteritems()}"
   ]
  },
  {
   "cell_type": "markdown",
   "metadata": {},
   "source": [
    "### Next we run the info gain analysis"
   ]
  },
  {
   "cell_type": "code",
   "execution_count": 27,
   "metadata": {
    "collapsed": false
   },
   "outputs": [],
   "source": [
    "def get_blocks_withTime_new(df, students, category_column, as_list = True, ignore = [], start = False, remove_actions = []):\n",
    "    '''gets blocks of sequences for a list of students\n",
    "    From the column \"Family\", \"Family_tool\", \"Family_default\" or \"Family_both\" in the dataframe, each action family is converted to a string in\n",
    "    the format with at least one capitalized character: 'C', or 'Cccc'.\n",
    "    To facilitate sequence mining. The sequence is exported as a list:\n",
    "    ['Ta', 'C','Tb',.....].\n",
    "    \n",
    "    Arguments:\n",
    "        students: list with student ids to generate blocks for\n",
    "        category_column: the column of the dataframe from which cetagories are taken from\n",
    "        as_list: by default true. returns sequences as a list of strings instead of a single string\n",
    "        ignore: list of actions to ignore\n",
    "        start: if we want a start action to find the first sequence of action of every student   \n",
    "    \n",
    "    returns:\n",
    "     blocks = {student_1_id: ['Ta', 'C','Tb',.....], student_2_id: [...]}    \n",
    "     time_coords = {student_1_id: [(start_of_action_1, duration), (start_of_action_2, duration),...], student_2_id: [...]}    \n",
    "    '''\n",
    "    def convert(action):\n",
    "        return converter[action]\n",
    "    \n",
    "    if start:\n",
    "        blocks = {student:'S' for student in students}\n",
    "    else:\n",
    "        blocks = {student:'' for student in students}\n",
    "\n",
    "    time_coords = {student:[] for student in students}\n",
    "    for student in students:\n",
    "        sequence =  list(df[df['student']==student][category_column])\n",
    "        time_stamps =  list(df[df['student']==student]['Time Stamp'])\n",
    "        time_stamps = (time_stamps - min(time_stamps))/1000.  #human readable seconds\n",
    "        time_coord=[]  #coordinate array for broken bar plot, takes array of (start time, duration)\n",
    "        p = re.compile(r'([A-Z][a-z]{0,3})\\1*')  #this regex finds all action blocks of length 1+\n",
    "        #print ''.join([convert(action) for action in sequence])\n",
    "        #print time_stamps\n",
    "        #use finditer to return a sequence of matches as an iterator\n",
    "        previous_end = 0\n",
    "        for match in p.finditer(''.join([convert(action) for action in sequence if convert(action) not in ignore])):\n",
    "            ind = match.span()  #this gives start and end of matched block\n",
    "            #for matches of action denoted by more than 1 letter, need to correct the span\n",
    "            ind = (previous_end, previous_end + (ind[1]-ind[0])/len(set(match.group())))\n",
    "            #save the end time of one action as the start action of the next\n",
    "            previous_end = ind[1]\n",
    "            #print match.group(), ind\n",
    "            if ind[1] >= len(time_stamps):  #block location offset from real index by 1\n",
    "                duration = time_stamps[ind[1]-1] - time_stamps[ind[0]]  #time duration of block\n",
    "                #print time_stamps[ind[1]-1], time_stamps[ind[0]]  #time duration of block\n",
    "            else:\n",
    "                duration = time_stamps[ind[1]] - time_stamps[ind[0]]\n",
    "                #print time_stamps[ind[1]] , time_stamps[ind[0]]\n",
    "            time_coord.append((time_stamps[ind[0]],duration))\n",
    "            #print match.group(), match.span(), duration\n",
    "        #actual regex that converts block of similar actions to just one action\n",
    "        block = re.sub(r'([A-Z][a-z]{0,3})\\1+', r'\\1',''.join([convert(action) for action in sequence if convert(action) not in ignore]))\n",
    "        list_block = block[0] + ''.join([' ' + c if c.isupper() else c for c in block[1:]])\n",
    "        list_block = list_block.split(' ')\n",
    "        if remove_actions:\n",
    "            for action_to_remove in remove_actions:\n",
    "                indices = [i for i, x in enumerate(list_block) if x == action_to_remove]\n",
    "                list_block = [a for i,a in enumerate(list_block) if i not in indices]\n",
    "                time_coord = [a for i,a in enumerate(time_coord) if i not in indices]\n",
    "        if as_list:\n",
    "            blocks[student] = list_block\n",
    "            time_coords[student] = time_coord\n",
    "        else:\n",
    "            blocks[student] += block\n",
    "            time_coords[student] = time_coord\n",
    "    return blocks, time_coords\n"
   ]
  },
  {
   "cell_type": "code",
   "execution_count": 43,
   "metadata": {
    "collapsed": true
   },
   "outputs": [],
   "source": [
    "def get_frequencies_by_bin(blocks, students, time_coords, B,shortest=3, longest=11):\n",
    "    '''\n",
    "    Given blocks of actions and a range of sequence lengths, we can find the frequency of sequence\n",
    "    use within each bin.\n",
    "    \n",
    "    Arguments:\n",
    "        blocks: blocked sequences for each student\n",
    "        action_bins\n",
    "        shortest: length of shortest possible mined sequence\n",
    "        longest: length of longest possible mined sequence\n",
    "        \n",
    "    returns:\n",
    "        frequencies = {student: [list of Counters for each bin]}\n",
    "                    = {student1: [ Counter{'TPT':3, 'CPT':5...}, Counter{},... ],  ...}\n",
    "    '''\n",
    "    action_bins = get_bins_per_student(students, time_coords,B)\n",
    "    frequencies = {student:[Counter() for i in range(B)] for student in blocks.keys()}        \n",
    "    for student,sequence in blocks.iteritems():\n",
    "        for seq_length in range(shortest, longest+1):  # loops through different possible sequence lengths\n",
    "            for j,(start_action,end_action) in enumerate(action_bins[student]): \n",
    "                if start_action == None: start_action = 0\n",
    "                if end_action == None: end_action = seq_length\n",
    "                #since we want to find sequence THAT START in bin, we remove the parts of the sequence that fall in previous bins\n",
    "                portion_of_sequence = sequence[start_action:end_action+seq_length-1]\n",
    "                frequencies[student][j] += Counter(''.join(portion_of_sequence[i:i+seq_length]) for i in range(end_action-start_action))  # counts string matches for every string of the current length\n",
    "    return frequencies"
   ]
  },
  {
   "cell_type": "code",
   "execution_count": 48,
   "metadata": {
    "collapsed": true
   },
   "outputs": [],
   "source": [
    "def get_sequence_use_by_timebin(df, students, category_column, B, attribute, level1, level2, shortest_seq_length, longest_seq_length, cut_off,remove_actions = []):\n",
    "    '''\n",
    "    '''\n",
    "    \n",
    "    print \"\"\"Getting sequence use over {3} time bins for {0} students split by {1}. \n",
    "    Keeping only sequences used once by at least {2}% of students \n",
    "    in each group and overall.\"\"\".format(len(students),attribute,int(cut_off*100),B)\n",
    "\n",
    "    #get all seqs per student per time bin        \n",
    "    blocks, time_coords =  get_blocks_withTime_new(df, students, category_column, start=False, ignore = ['I'], remove_actions = remove_actions)\n",
    "    frequencies_by_bin = get_frequencies_by_bin(blocks, students, time_coords, B, shortest = shortest_seq_length, longest = longest_seq_length)\n",
    "\n",
    "    cleaned_frequencies = Counter()\n",
    "    for attr,level in [(attribute,level1),(attribute,level2)]:\n",
    "        students_in_group = get_students(attr,level)\n",
    "        N = int(cut_off*len(students_in_group))\n",
    "        blocks, time_coords =  get_blocks_withTime_new(df, students_in_group, category_column, start=False, ignore = ['I'], remove_actions = remove_actions)\n",
    "        #find all sequences to consider for analysis, given that they have been used by enough students\n",
    "        frequencies = get_frequencies(blocks, shortest = shortest_seq_length, longest = longest_seq_length)\n",
    "        counts_frequencies = Counter({f:sum([ 1 if f in freq else 0 for freq in frequencies.values()]) for f in list(sum(frequencies.values(),Counter()))})\n",
    "        cleaned_frequencies += remove_rare_frequencies(counts_frequencies, N)    \n",
    "    \n",
    "    counts = count_use_per_group_per_bin(cleaned_frequencies, frequencies_by_bin, B, attribute, level1, level2)\n",
    "    return counts"
   ]
  },
  {
   "cell_type": "code",
   "execution_count": 51,
   "metadata": {
    "collapsed": false
   },
   "outputs": [
    {
     "name": "stdout",
     "output_type": "stream",
     "text": [
      "For attribute split post t2, categories Family\n",
      "Getting sequence use over 4 time bins for 74 students split by split post t2. \n",
      "    Keeping only sequences used once by at least 35% of students \n",
      "    in each group and overall.\n",
      "For attribute split post t2, categories Family\n",
      "Getting sequence use over 1 time bins for 74 students split by split post t2. \n",
      "    Keeping only sequences used once by at least 35% of students \n",
      "    in each group and overall.\n"
     ]
    },
    {
     "name": "stderr",
     "output_type": "stream",
     "text": [
      "C:\\Users\\Sarah\\Anaconda2\\lib\\site-packages\\matplotlib\\pyplot.py:516: RuntimeWarning: More than 20 figures have been opened. Figures created through the pyplot interface (`matplotlib.pyplot.figure`) are retained until explicitly closed and may consume too much memory. (To control this warning, see the rcParam `figure.max_open_warning`).\n",
      "  max_open_warning, RuntimeWarning)\n"
     ]
    },
    {
     "name": "stdout",
     "output_type": "stream",
     "text": [
      "For attribute split post t2, categories Family\n",
      "Getting sequence use over 4 time bins for 74 students split by split post t2. \n",
      "    Keeping only sequences used once by at least 35% of students \n",
      "    in each group and overall.\n"
     ]
    },
    {
     "data": {
      "image/png": "[encoded data removed]",
      "text/plain": [
       "<matplotlib.figure.Figure at 0x9b66b38>"
      ]
     },
     "metadata": {},
     "output_type": "display_data"
    },
    {
     "data": {
      "text/plain": [
       "<matplotlib.figure.Figure at 0x9bed668>"
      ]
     },
     "metadata": {},
     "output_type": "display_data"
    },
    {
     "data": {
      "text/plain": [
       "<matplotlib.figure.Figure at 0xf9fdac8>"
      ]
     },
     "metadata": {},
     "output_type": "display_data"
    },
    {
     "data": {
      "text/plain": [
       "<matplotlib.figure.Figure at 0x1052c940>"
      ]
     },
     "metadata": {},
     "output_type": "display_data"
    },
    {
     "data": {
      "text/plain": [
       "<matplotlib.figure.Figure at 0xa151cf8>"
      ]
     },
     "metadata": {},
     "output_type": "display_data"
    },
    {
     "data": {
      "text/plain": [
       "<matplotlib.figure.Figure at 0x9b66b00>"
      ]
     },
     "metadata": {},
     "output_type": "display_data"
    },
    {
     "data": {
      "text/plain": [
       "<matplotlib.figure.Figure at 0x9e18a58>"
      ]
     },
     "metadata": {},
     "output_type": "display_data"
    },
    {
     "data": {
      "text/plain": [
       "<matplotlib.figure.Figure at 0x113da4a8>"
      ]
     },
     "metadata": {},
     "output_type": "display_data"
    },
    {
     "data": {
      "text/plain": [
       "<matplotlib.figure.Figure at 0xedcdcf8>"
      ]
     },
     "metadata": {},
     "output_type": "display_data"
    },
    {
     "data": {
      "text/plain": [
       "<matplotlib.figure.Figure at 0x110d9fd0>"
      ]
     },
     "metadata": {},
     "output_type": "display_data"
    },
    {
     "data": {
      "text/plain": [
       "<matplotlib.figure.Figure at 0xf9d1ac8>"
      ]
     },
     "metadata": {},
     "output_type": "display_data"
    },
    {
     "data": {
      "text/plain": [
       "<matplotlib.figure.Figure at 0xa1ec7b8>"
      ]
     },
     "metadata": {},
     "output_type": "display_data"
    },
    {
     "data": {
      "text/plain": [
       "<matplotlib.figure.Figure at 0xf8dc518>"
      ]
     },
     "metadata": {},
     "output_type": "display_data"
    },
    {
     "data": {
      "text/plain": [
       "<matplotlib.figure.Figure at 0xa1db1d0>"
      ]
     },
     "metadata": {},
     "output_type": "display_data"
    },
    {
     "data": {
      "text/plain": [
       "<matplotlib.figure.Figure at 0x9c34ef0>"
      ]
     },
     "metadata": {},
     "output_type": "display_data"
    },
    {
     "data": {
      "text/plain": [
       "<matplotlib.figure.Figure at 0xa09b278>"
      ]
     },
     "metadata": {},
     "output_type": "display_data"
    },
    {
     "data": {
      "image/png": "[encoded data removed]",
      "text/plain": [
       "<matplotlib.figure.Figure at 0x9c34400>"
      ]
     },
     "metadata": {},
     "output_type": "display_data"
    },
    {
     "data": {
      "text/plain": [
       "<matplotlib.figure.Figure at 0x9c9b5c0>"
      ]
     },
     "metadata": {},
     "output_type": "display_data"
    },
    {
     "data": {
      "text/plain": [
       "<matplotlib.figure.Figure at 0x9c9b278>"
      ]
     },
     "metadata": {},
     "output_type": "display_data"
    },
    {
     "data": {
      "text/plain": [
       "<matplotlib.figure.Figure at 0x9f85080>"
      ]
     },
     "metadata": {},
     "output_type": "display_data"
    },
    {
     "data": {
      "text/plain": [
       "<matplotlib.figure.Figure at 0xa104160>"
      ]
     },
     "metadata": {},
     "output_type": "display_data"
    },
    {
     "data": {
      "text/plain": [
       "<matplotlib.figure.Figure at 0x105a6550>"
      ]
     },
     "metadata": {},
     "output_type": "display_data"
    },
    {
     "data": {
      "text/plain": [
       "<matplotlib.figure.Figure at 0x10968eb8>"
      ]
     },
     "metadata": {},
     "output_type": "display_data"
    },
    {
     "data": {
      "text/plain": [
       "<matplotlib.figure.Figure at 0xfb526d8>"
      ]
     },
     "metadata": {},
     "output_type": "display_data"
    },
    {
     "data": {
      "text/plain": [
       "<matplotlib.figure.Figure at 0xa0554a8>"
      ]
     },
     "metadata": {},
     "output_type": "display_data"
    },
    {
     "data": {
      "text/plain": [
       "<matplotlib.figure.Figure at 0xa074ac8>"
      ]
     },
     "metadata": {},
     "output_type": "display_data"
    },
    {
     "data": {
      "text/plain": [
       "<matplotlib.figure.Figure at 0x110b72e8>"
      ]
     },
     "metadata": {},
     "output_type": "display_data"
    },
    {
     "data": {
      "text/plain": [
       "<matplotlib.figure.Figure at 0xa068c50>"
      ]
     },
     "metadata": {},
     "output_type": "display_data"
    },
    {
     "data": {
      "text/plain": [
       "<matplotlib.figure.Figure at 0x10d5d7f0>"
      ]
     },
     "metadata": {},
     "output_type": "display_data"
    },
    {
     "data": {
      "text/plain": [
       "<matplotlib.figure.Figure at 0x9c7b400>"
      ]
     },
     "metadata": {},
     "output_type": "display_data"
    },
    {
     "data": {
      "text/plain": [
       "<matplotlib.figure.Figure at 0x11fc4240>"
      ]
     },
     "metadata": {},
     "output_type": "display_data"
    },
    {
     "data": {
      "text/plain": [
       "<matplotlib.figure.Figure at 0x9c8f5f8>"
      ]
     },
     "metadata": {},
     "output_type": "display_data"
    },
    {
     "data": {
      "image/png": "[encoded data removed]",
      "text/plain": [
       "<matplotlib.figure.Figure at 0x112664e0>"
      ]
     },
     "metadata": {},
     "output_type": "display_data"
    },
    {
     "data": {
      "text/plain": [
       "<matplotlib.figure.Figure at 0xec6c780>"
      ]
     },
     "metadata": {},
     "output_type": "display_data"
    },
    {
     "data": {
      "text/plain": [
       "<matplotlib.figure.Figure at 0xec6cb70>"
      ]
     },
     "metadata": {},
     "output_type": "display_data"
    },
    {
     "data": {
      "text/plain": [
       "<matplotlib.figure.Figure at 0xfa859e8>"
      ]
     },
     "metadata": {},
     "output_type": "display_data"
    },
    {
     "data": {
      "text/plain": [
       "<matplotlib.figure.Figure at 0xec25c18>"
      ]
     },
     "metadata": {},
     "output_type": "display_data"
    },
    {
     "data": {
      "text/plain": [
       "<matplotlib.figure.Figure at 0xf1deeb8>"
      ]
     },
     "metadata": {},
     "output_type": "display_data"
    },
    {
     "data": {
      "text/plain": [
       "<matplotlib.figure.Figure at 0x9db1ac8>"
      ]
     },
     "metadata": {},
     "output_type": "display_data"
    },
    {
     "data": {
      "text/plain": [
       "<matplotlib.figure.Figure at 0xd4dfe48>"
      ]
     },
     "metadata": {},
     "output_type": "display_data"
    },
    {
     "data": {
      "text/plain": [
       "<matplotlib.figure.Figure at 0x9c339b0>"
      ]
     },
     "metadata": {},
     "output_type": "display_data"
    },
    {
     "data": {
      "text/plain": [
       "<matplotlib.figure.Figure at 0xf87b4e0>"
      ]
     },
     "metadata": {},
     "output_type": "display_data"
    },
    {
     "data": {
      "text/plain": [
       "<matplotlib.figure.Figure at 0xd4b4ac8>"
      ]
     },
     "metadata": {},
     "output_type": "display_data"
    },
    {
     "data": {
      "text/plain": [
       "<matplotlib.figure.Figure at 0xa022198>"
      ]
     },
     "metadata": {},
     "output_type": "display_data"
    },
    {
     "data": {
      "text/plain": [
       "<matplotlib.figure.Figure at 0x10d618d0>"
      ]
     },
     "metadata": {},
     "output_type": "display_data"
    },
    {
     "data": {
      "text/plain": [
       "<matplotlib.figure.Figure at 0xf8fa8d0>"
      ]
     },
     "metadata": {},
     "output_type": "display_data"
    },
    {
     "data": {
      "text/plain": [
       "<matplotlib.figure.Figure at 0xf621f98>"
      ]
     },
     "metadata": {},
     "output_type": "display_data"
    },
    {
     "data": {
      "text/plain": [
       "<matplotlib.figure.Figure at 0x10caafd0>"
      ]
     },
     "metadata": {},
     "output_type": "display_data"
    }
   ],
   "source": [
    "students = get_students(attribute='split pre',level='low')\n",
    "CUT_OFF = 0.35 #we keep only sequences used once by at least 10% of students\n",
    "shortest_seq_length = 2\n",
    "longest_seq_length = 10\n",
    "BINS = 4  #number of bins\n",
    "\n",
    "### PARAMETERS\n",
    "attributes = [('split post t2','high','low')]\n",
    "family_categories = [\"Family\"]#,\"Family_tool\",\"Family_default\"]\n",
    "\n",
    "parse_axis = {0:'time',1:'group',None:'time and group'}\n",
    "pdf = PdfPages('infogain_results_by_post2_testing_seqs.pdf')\n",
    "\n",
    "for attribute,level1,level2 in attributes:\n",
    "    for family_category in family_categories:\n",
    "        for axis in [0,1,None]:\n",
    "            if axis == 1: B = 1\n",
    "            else: B = BINS\n",
    "        \n",
    "            print \"For attribute {0}, categories {1}\".format(attribute,family_category)\n",
    "            pdf.savefig(add_text(attribute,family_category,CUT_OFF, shortest_seq_length, longest_seq_length,B))\n",
    "            sequence_counts = get_sequence_use_by_timebin(df,students,family_category,\n",
    "                                                          B,attribute,level1,level2,\n",
    "                                                          shortest_seq_length,longest_seq_length,CUT_OFF,remove_actions= ['C','P'])\n",
    "            ylabels = [level1,level2]\n",
    "            tops = get_top_seqs(rank_sequences(sequence_counts,B,axis),15)\n",
    "#             print parse_axis[axis]\n",
    "            for seq,infogain in tops:\n",
    "#                 print seq, infogain\n",
    "                title = '{0}: infogain {1} by {2}'.format(seq,round(infogain,3),parse_axis[axis])\n",
    "                plot = plot_heat_map(sequence_counts[seq],title, ylabels)\n",
    "                pdf.savefig( plot )\n",
    "                plot.clf()\n",
    "pdf.close()"
   ]
  },
  {
   "cell_type": "code",
   "execution_count": null,
   "metadata": {
    "collapsed": true
   },
   "outputs": [],
   "source": []
  },
  {
   "cell_type": "code",
   "execution_count": null,
   "metadata": {
    "collapsed": true
   },
   "outputs": [],
   "source": []
  }
 ],
 "metadata": {
  "kernelspec": {
   "display_name": "Python 2",
   "language": "python",
   "name": "python2"
  },
  "language_info": {
   "codemirror_mode": {
    "name": "ipython",
    "version": 2
   },
   "file_extension": ".py",
   "mimetype": "text/x-python",
   "name": "python",
   "nbconvert_exporter": "python",
   "pygments_lexer": "ipython2",
   "version": "2.7.12"
  }
 },
 "nbformat": 4,
 "nbformat_minor": 0
}
