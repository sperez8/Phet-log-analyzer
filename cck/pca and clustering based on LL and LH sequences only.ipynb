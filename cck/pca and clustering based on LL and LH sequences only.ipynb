{
 "cells": [
  {
   "cell_type": "code",
   "execution_count": 1,
   "metadata": {},
   "outputs": [
    {
     "name": "stderr",
     "output_type": "stream",
     "text": [
      "/Users/jonathanma/anaconda/lib/python2.7/site-packages/numpy/lib/function_base.py:4033: RuntimeWarning: Invalid value encountered in median\n",
      "  r = func(a, **kwargs)\n"
     ]
    }
   ],
   "source": [
    "import math\n",
    "import numpy as np\n",
    "import pandas as pd\n",
    "import sys\n",
    "import re\n",
    "import itertools\n",
    "from functions import *\n",
    "from sklearn.cluster import KMeans\n",
    "from sklearn.decomposition import PCA as sklearnPCA\n",
    "from sklearn.discriminant_analysis import LinearDiscriminantAnalysis as sklearnLDA\n",
    "from scipy.spatial.distance import cdist\n",
    "import scipy.cluster.hierarchy\n",
    "import jellyfish as jf\n",
    "import seaborn as sns\n",
    "np.set_printoptions(precision=2)\n",
    "pd.set_option('precision', 2)\n",
    "%matplotlib inline\n",
    "matplotlib.style.use('ggplot')\n",
    "matplotlib.rcParams['figure.figsize'] = (10, 3)\n",
    "%load_ext autoreload\n",
    "%autoreload 2"
   ]
  },
  {
   "cell_type": "markdown",
   "metadata": {},
   "source": [
    "### Data wrangling"
   ]
  },
  {
   "cell_type": "markdown",
   "metadata": {},
   "source": [
    "#### Loaded dataframe with every actions for all students and dataframe with student pre/post scores"
   ]
  },
  {
   "cell_type": "code",
   "execution_count": 2,
   "metadata": {},
   "outputs": [
    {
     "data": {
      "text/html": [
       "<div>\n",
       "<style scoped>\n",
       "    .dataframe tbody tr th:only-of-type {\n",
       "        vertical-align: middle;\n",
       "    }\n",
       "\n",
       "    .dataframe tbody tr th {\n",
       "        vertical-align: top;\n",
       "    }\n",
       "\n",
       "    .dataframe thead th {\n",
       "        text-align: right;\n",
       "    }\n",
       "</style>\n",
       "<table border=\"1\" class=\"dataframe\">\n",
       "  <thead>\n",
       "    <tr style=\"text-align: right;\">\n",
       "      <th></th>\n",
       "      <th>Activity</th>\n",
       "      <th>student</th>\n",
       "      <th>Time Stamp</th>\n",
       "      <th>Family</th>\n",
       "      <th>Family_tool</th>\n",
       "      <th>Family_default</th>\n",
       "      <th>Family_both</th>\n",
       "      <th>Action</th>\n",
       "      <th>Component</th>\n",
       "      <th>Outcome</th>\n",
       "      <th>...</th>\n",
       "      <th>current_is_circuit</th>\n",
       "      <th>current_#loops</th>\n",
       "      <th>current_#components</th>\n",
       "      <th>current_#battery</th>\n",
       "      <th>current_#circuitSwitch</th>\n",
       "      <th>current_#grabBagResistor</th>\n",
       "      <th>current_#lightBulb</th>\n",
       "      <th>current_#resistor</th>\n",
       "      <th>current_#seriesAmmeter</th>\n",
       "      <th>non_default_resistor_values</th>\n",
       "    </tr>\n",
       "  </thead>\n",
       "  <tbody>\n",
       "    <tr>\n",
       "      <th>0</th>\n",
       "      <td>a2</td>\n",
       "      <td>10009106</td>\n",
       "      <td>1363981168331</td>\n",
       "      <td>Construct</td>\n",
       "      <td>Construct</td>\n",
       "      <td>Construct</td>\n",
       "      <td>Construct</td>\n",
       "      <td>add</td>\n",
       "      <td>wire</td>\n",
       "      <td>None</td>\n",
       "      <td>...</td>\n",
       "      <td>0</td>\n",
       "      <td>0</td>\n",
       "      <td>0</td>\n",
       "      <td>0</td>\n",
       "      <td>0</td>\n",
       "      <td>0</td>\n",
       "      <td>0</td>\n",
       "      <td>0</td>\n",
       "      <td>0</td>\n",
       "      <td>0</td>\n",
       "    </tr>\n",
       "    <tr>\n",
       "      <th>1</th>\n",
       "      <td>a2</td>\n",
       "      <td>10009106</td>\n",
       "      <td>1363981175425</td>\n",
       "      <td>Construct</td>\n",
       "      <td>Construct</td>\n",
       "      <td>Construct</td>\n",
       "      <td>Construct</td>\n",
       "      <td>add</td>\n",
       "      <td>battery</td>\n",
       "      <td>None</td>\n",
       "      <td>...</td>\n",
       "      <td>0</td>\n",
       "      <td>0</td>\n",
       "      <td>0</td>\n",
       "      <td>0</td>\n",
       "      <td>0</td>\n",
       "      <td>0</td>\n",
       "      <td>0</td>\n",
       "      <td>0</td>\n",
       "      <td>0</td>\n",
       "      <td>0</td>\n",
       "    </tr>\n",
       "  </tbody>\n",
       "</table>\n",
       "<p>2 rows × 30 columns</p>\n",
       "</div>"
      ],
      "text/plain": [
       "  Activity   student     Time Stamp     Family Family_tool Family_default  \\\n",
       "0       a2  10009106  1363981168331  Construct   Construct      Construct   \n",
       "1       a2  10009106  1363981175425  Construct   Construct      Construct   \n",
       "\n",
       "  Family_both Action Component Outcome             ...               \\\n",
       "0   Construct    add      wire    None             ...                \n",
       "1   Construct    add   battery    None             ...                \n",
       "\n",
       "   current_is_circuit  current_#loops  current_#components  current_#battery  \\\n",
       "0                   0               0                    0                 0   \n",
       "1                   0               0                    0                 0   \n",
       "\n",
       "   current_#circuitSwitch  current_#grabBagResistor  current_#lightBulb  \\\n",
       "0                       0                         0                   0   \n",
       "1                       0                         0                   0   \n",
       "\n",
       "   current_#resistor  current_#seriesAmmeter  non_default_resistor_values  \n",
       "0                  0                       0                            0  \n",
       "1                  0                       0                            0  \n",
       "\n",
       "[2 rows x 30 columns]"
      ]
     },
     "execution_count": 2,
     "metadata": {},
     "output_type": "execute_result"
    }
   ],
   "source": [
    "df.head(2)"
   ]
  },
  {
   "cell_type": "code",
   "execution_count": 3,
   "metadata": {},
   "outputs": [
    {
     "data": {
      "text/html": [
       "<div>\n",
       "<style scoped>\n",
       "    .dataframe tbody tr th:only-of-type {\n",
       "        vertical-align: middle;\n",
       "    }\n",
       "\n",
       "    .dataframe tbody tr th {\n",
       "        vertical-align: top;\n",
       "    }\n",
       "\n",
       "    .dataframe thead th {\n",
       "        text-align: right;\n",
       "    }\n",
       "</style>\n",
       "<table border=\"1\" class=\"dataframe\">\n",
       "  <thead>\n",
       "    <tr style=\"text-align: right;\">\n",
       "      <th></th>\n",
       "      <th>Wave</th>\n",
       "      <th>scaffolding</th>\n",
       "      <th>how many PhETs in the past?</th>\n",
       "      <th>how comfortable with phets?</th>\n",
       "      <th>p100</th>\n",
       "      <th>used this circuit sim before?</th>\n",
       "      <th>COMPLETEDNESS</th>\n",
       "      <th>PRIORKNOWLEDGE</th>\n",
       "      <th>COMPLEXITY</th>\n",
       "      <th>DIAGRAMS</th>\n",
       "      <th>...</th>\n",
       "      <th>Anon Student Id</th>\n",
       "      <th>incoming_knowledge</th>\n",
       "      <th>incoming_attitude</th>\n",
       "      <th>learning1score</th>\n",
       "      <th>learning1</th>\n",
       "      <th>learning2score</th>\n",
       "      <th>learning2</th>\n",
       "      <th>split pre</th>\n",
       "      <th>split post t2</th>\n",
       "      <th>three groups</th>\n",
       "    </tr>\n",
       "  </thead>\n",
       "  <tbody>\n",
       "    <tr>\n",
       "      <th>0</th>\n",
       "      <td>March</td>\n",
       "      <td>not</td>\n",
       "      <td>NaN</td>\n",
       "      <td>NaN</td>\n",
       "      <td>NaN</td>\n",
       "      <td>NaN</td>\n",
       "      <td>NaN</td>\n",
       "      <td>NaN</td>\n",
       "      <td>NaN</td>\n",
       "      <td>NaN</td>\n",
       "      <td>...</td>\n",
       "      <td>NaN</td>\n",
       "      <td>high</td>\n",
       "      <td>low</td>\n",
       "      <td>NaN</td>\n",
       "      <td>low</td>\n",
       "      <td>NaN</td>\n",
       "      <td>low</td>\n",
       "      <td>high</td>\n",
       "      <td>high</td>\n",
       "      <td>HH</td>\n",
       "    </tr>\n",
       "    <tr>\n",
       "      <th>1</th>\n",
       "      <td>March</td>\n",
       "      <td>scaff</td>\n",
       "      <td>NaN</td>\n",
       "      <td>NaN</td>\n",
       "      <td>NaN</td>\n",
       "      <td>NaN</td>\n",
       "      <td>NaN</td>\n",
       "      <td>NaN</td>\n",
       "      <td>NaN</td>\n",
       "      <td>NaN</td>\n",
       "      <td>...</td>\n",
       "      <td>NaN</td>\n",
       "      <td>high</td>\n",
       "      <td>low</td>\n",
       "      <td>NaN</td>\n",
       "      <td>low</td>\n",
       "      <td>NaN</td>\n",
       "      <td>low</td>\n",
       "      <td>high</td>\n",
       "      <td>high</td>\n",
       "      <td>HH</td>\n",
       "    </tr>\n",
       "  </tbody>\n",
       "</table>\n",
       "<p>2 rows × 37 columns</p>\n",
       "</div>"
      ],
      "text/plain": [
       "    Wave scaffolding  how many PhETs in the past?  \\\n",
       "0  March         not                          NaN   \n",
       "1  March       scaff                          NaN   \n",
       "\n",
       "   how comfortable with phets?  p100  used this circuit sim before?  \\\n",
       "0                          NaN   NaN                            NaN   \n",
       "1                          NaN   NaN                            NaN   \n",
       "\n",
       "   COMPLETEDNESS  PRIORKNOWLEDGE  COMPLEXITY  DIAGRAMS      ...       \\\n",
       "0            NaN             NaN         NaN       NaN      ...        \n",
       "1            NaN             NaN         NaN       NaN      ...        \n",
       "\n",
       "   Anon Student Id  incoming_knowledge  incoming_attitude  learning1score  \\\n",
       "0              NaN                high                low             NaN   \n",
       "1              NaN                high                low             NaN   \n",
       "\n",
       "   learning1  learning2score  learning2  split pre  split post t2  \\\n",
       "0        low             NaN        low       high           high   \n",
       "1        low             NaN        low       high           high   \n",
       "\n",
       "   three groups  \n",
       "0            HH  \n",
       "1            HH  \n",
       "\n",
       "[2 rows x 37 columns]"
      ]
     },
     "execution_count": 3,
     "metadata": {},
     "output_type": "execute_result"
    }
   ],
   "source": [
    "df_scores.head(2)"
   ]
  },
  {
   "cell_type": "markdown",
   "metadata": {},
   "source": [
    "#### Crop activity data to get rid of activity #3"
   ]
  },
  {
   "cell_type": "code",
   "execution_count": 4,
   "metadata": {},
   "outputs": [],
   "source": [
    "max_time = 25*60*1000\n",
    "max_times = {s:min(df[df['student']==s][\"Time Stamp\"])+max_time for s in set(df['student'])}\n",
    "\n",
    "def keep_by_time (row):\n",
    "    if row[\"Time Stamp\"] <= max_times[row[\"student\"]]:\n",
    "        return True\n",
    "    else: \n",
    "        return False\n",
    "\n",
    "df['keep'] = df.apply (lambda row: keep_by_time (row),axis=1)\n",
    "df=df[df['keep']]"
   ]
  },
  {
   "cell_type": "markdown",
   "metadata": {},
   "source": [
    "#### Define LL, LH, HL and HH groups based on median split on pre and bimodal dist of post tests"
   ]
  },
  {
   "cell_type": "code",
   "execution_count": 5,
   "metadata": {},
   "outputs": [],
   "source": [
    "median_learning0 = 0.45\n",
    "df_scores['split pre'] = df_scores.apply (lambda row: label_learning (median_learning0,row,\"z pre\"),axis=1)\n",
    "median_learning2 = np.median(df_scores[df_scores['split pre']=='low']['z post t2'])\n",
    "df_scores['split post t2'] = df_scores.apply (lambda row: label_learning (median_learning2,row,\"z post t2\"),axis=1)"
   ]
  },
  {
   "cell_type": "code",
   "execution_count": 6,
   "metadata": {},
   "outputs": [
    {
     "name": "stdout",
     "output_type": "stream",
     "text": [
      "high high 22\n",
      "high low 3\n",
      "low high 38\n",
      "low low 36\n"
     ]
    }
   ],
   "source": [
    "for x in ['high','low']:\n",
    "    for y in ['high','low']:\n",
    "        print x,y, len(set(df_scores[(df_scores['split pre']==x)&(df_scores['split post t2']==y)]['student']))"
   ]
  },
  {
   "cell_type": "code",
   "execution_count": 7,
   "metadata": {},
   "outputs": [],
   "source": [
    "def label_3_groups (row):\n",
    "    if row['split pre']  == 'high' and row['split post t2'] == 'high':\n",
    "        return 'HH'\n",
    "    if row['split pre']  == 'high' and row['split post t2'] == 'low':\n",
    "        return 'HL'\n",
    "    if row['split pre']  == 'low' and row['split post t2'] == 'high':\n",
    "        return 'LH'\n",
    "    if row['split pre']  == 'low' and row['split post t2'] == 'low':\n",
    "        return 'LL'\n",
    "df_scores['three groups'] = df_scores.apply (lambda row: label_3_groups (row),axis=1)"
   ]
  },
  {
   "cell_type": "markdown",
   "metadata": {},
   "source": [
    "#### Convert action families into string sequences"
   ]
  },
  {
   "cell_type": "code",
   "execution_count": 8,
   "metadata": {},
   "outputs": [],
   "source": [
    "def convert(action, test_granular = True):\n",
    "        \n",
    "    '''\n",
    "    this function converts action families into single codes more amenable for sequence interpretation\n",
    "    '''\n",
    "\n",
    "    if test_granular:\n",
    "        converter =  {\"Construct\" : \"C\",\n",
    "        \"Interface\" : \"I\",\n",
    "        \"Pause\" : \"P\",\n",
    "        \"Test_basic\" : \"T1\",\n",
    "        \"Test_complex\" : \"Tm\",\n",
    "        \"Test_other\" : \"To\",\n",
    "        \"Test_simple\" : \"T2\",\n",
    "        }\n",
    "    else:\n",
    "        converter =  {\"Construct\" : \"C\",\n",
    "        \"Interface\" : \"I\",\n",
    "        \"Pause\" : \"P\",\n",
    "        \"Test_basic\" : \"T\",\n",
    "        \"Test_complex\" : \"T\",\n",
    "        \"Test_other\" : \"T\",\n",
    "        \"Test_simple\" : \"T\",\n",
    "        }   \n",
    "    return converter[action]"
   ]
  },
  {
   "cell_type": "code",
   "execution_count": 9,
   "metadata": {},
   "outputs": [
    {
     "name": "stdout",
     "output_type": "stream",
     "text": [
      "CCCCCCCCCCCCCCCCCCCCCTmTmTmTmTmTmTmCTmTmTmCCCCCCCCTmCCCCCCT2T2T2T2T2T2T2T2CCCCCT1T1T1CT1T1T1CT1T1PT1CT1T1T1T1CT1T1PCCCCCCCT2T2T2T2CCCCCCCCCCT1T2T2T2T2T2PCCCCCCCCCCCCCCCCCTmTmPT2T1T2TmPCT2T2T2T2TmCTmTmTmPT2T2T2T2TmTmTmPT1T1CPCCCCCCCCCCCCCCCCCCCCCCCCCCCCCCCCCCCCCCCCCCCCCCCCCCCCCCCCCCCCCCCCCCCCCCCCCCCCCCCCCCCCCCCCCCCCCT1TmTmTmTmTmPTmTmPCTmTmTmPCTmTmTmTmTmT1TmTmPCCCCCCCCCCCT1CCCT1CCCCCCCCCCCCCCCCPT2PCCCCCCCCCCCCCCCCCCCCCCTmCT1TmTmTmCTmTmCCTmTmTmCCTmT1TmPTmCTmCCCCCCCCCCCC\n",
      "------\n",
      "CTmCTmCTmCT2CT1CT1CT1PT1CT1CT1PCT2CT1T2PCTmPT2T1T2TmPCT2TmCTmPT2TmPT1CPCT1TmPTmPCTmPCTmT1TmPCT1CT1CPT2PCTmCT1TmCTmCTmCTmT1TmPTmCTmC\n",
      "------\n",
      "CTmTmTmTmTmTmTmCTmTmTmCTmCT2T2T2T2T2T2T2T2CT1T1T1CT1T1T1CT1T1PT1CT1T1T1T1CT1T1PCT2T2T2T2CT1T2T2T2T2T2PCTmTmPT2T1T2TmPCT2T2T2T2TmCTmTmTmPT2T2T2T2TmTmTmPT1T1CPCT1TmTmTmTmTmPTmTmPCTmTmTmPCTmTmTmTmTmT1TmTmPCT1CT1CPT2PCTmCT1TmTmTmCTmTmCTmTmTmCTmT1TmPTmCTmC\n"
     ]
    }
   ],
   "source": [
    "''' \n",
    "this is a test cell to assess regex\n",
    "'''\n",
    "ignore=['I', 'To']\n",
    "sequence = list(df[df['student']==1075123][\"Family\"])\n",
    "\n",
    "#prints raw sequence\n",
    "print ''.join([convert(action) for action in sequence if convert(action) not in ignore])\n",
    "print '------'\n",
    "\n",
    "#prints blocked action sequence\n",
    "block = re.sub(r'([A-Z][12m]{0,3})\\1+', \n",
    "               r'\\1',\n",
    "               ''.join([convert(action) for action in sequence if convert(action) not in ignore]))\n",
    "print block\n",
    "print '------'\n",
    "\n",
    "#prints blocked action for all action families except tests\n",
    "block2 = re.sub(r'([CPI])\\1+', \n",
    "                r'\\1',\n",
    "                ''.join([convert(action) for action in sequence if convert(action) not in ignore]))\n",
    "print block2"
   ]
  },
  {
   "cell_type": "code",
   "execution_count": 10,
   "metadata": {},
   "outputs": [],
   "source": [
    "#choose which student groups to cluster\n",
    "students = list(df_scores[(df_scores['split pre'] == 'low')]['student'])\n",
    "# students = list(df['student'].unique())"
   ]
  },
  {
   "cell_type": "code",
   "execution_count": 32,
   "metadata": {},
   "outputs": [],
   "source": [
    "'''\n",
    "This creates dictionary (keys are student ID) and values are action sequences\n",
    "'''\n",
    "ignore=['I', 'To']\n",
    "sequences = {student:'' for student in students}\n",
    "for student in students:\n",
    "    sequence = list(df[df['student']==student][\"Family\"])\n",
    "    sequences[student] = re.sub(r'([A-Z][12m]{0,3})\\1+',\n",
    "               r'\\1',\n",
    "               ''.join([convert(action, False) for action in sequence if convert(action, False) not in ignore]))"
   ]
  },
  {
   "cell_type": "code",
   "execution_count": 33,
   "metadata": {},
   "outputs": [
    {
     "name": "stdout",
     "output_type": "stream",
     "text": [
      "45\n"
     ]
    }
   ],
   "source": [
    "'''\n",
    "This creates a list of possible 4 action \"phrases\" (short sequences of actions) that will define\n",
    "the dimensions along which we will cluster students.  The phrases cannot contain the same action in a row.\n",
    "'''\n",
    "# actions = ['C','P','T1','T2','Tm']\n",
    "actions = ['C','P','T']\n",
    "phrases1 = phrases2 = phrases3 = phrases4 =[]    \n",
    "for action1 in actions:\n",
    "    phrases1 = phrases1 + [action1]\n",
    "    temp2 = actions[:]\n",
    "    temp2.remove(action1)\n",
    "    for action2 in temp2:\n",
    "        phrases2 = phrases2 + [action1+action2]\n",
    "        temp3 = actions[:]\n",
    "        temp3.remove(action2)\n",
    "        for action3 in temp3:\n",
    "            phrases3 = phrases3 + [action1+action2+action3]\n",
    "            temp4 = actions[:]\n",
    "            temp4.remove(action3)\n",
    "            for action4 in temp4: \n",
    "                phrases4 = phrases4 + [action1+action2+action3+action4]\n",
    "\n",
    "phrases = phrases1 + phrases2 + phrases3 + phrases4                   \n",
    "\n",
    "print len(phrases)             \n",
    "# print phrases"
   ]
  },
  {
   "cell_type": "code",
   "execution_count": 34,
   "metadata": {},
   "outputs": [],
   "source": [
    "'''\n",
    "This creates a large matrix where each row is a student and each column represent a phrase.  \n",
    "Each element is the normalized count of instances that the corresponding phrase appears\n",
    "in that students whole sequence.\n",
    "'''\n",
    "# phrases = 'T1PT1C T1PCPCP TmCT2 PT2PCT2 CPCT2C CPCTmCP T1PCT1 T2CT2C CTmCTmCP TmCPCP'.split()\n",
    "# phrases = ['CPCTC', 'CPCTCP', 'TCTC', 'TCPCP', 'CTCT', 'PTPCT', 'PTCT', 'TPTC', 'TPCPCP', 'TPCT']\n",
    "# phrases = ['TP','PT', 'CT', 'TC']\n",
    "# phrases = ['T2P', 'PT2', 'CT2', 'T2C']\n",
    "# phrases = ['C', 'P', 'T1', 'T2', 'Tm']\n",
    "# phrases = ['PT1', 'PT2', 'PTm', 'PC', 'T1P', 'T1T2', 'T1Tm', 'T1C', 'T2P', 'T2T1', \n",
    "#            'T2Tm', 'T2C', 'TmP', 'TmT1', 'TmT2', 'TmC', 'CP', 'CT1', 'CT2', 'CTm']\n",
    "phrases = ['PT', 'PC', 'TP', 'TC', 'CP', 'CT']\n",
    "X=np.zeros([len(students),len(phrases)])\n",
    "nn = 0\n",
    "for student in students:\n",
    "    mm = 0\n",
    "    for phrase in phrases:\n",
    "        rx = r'(?=({0}))'.format(phrase)\n",
    "        matches = re.finditer(rx,sequences[student])\n",
    "        X[nn,mm] = len([match.group(1) for match in matches]) / float(len(sequences[student]))\n",
    "        mm += 1\n",
    "    nn += 1  "
   ]
  },
  {
   "cell_type": "code",
   "execution_count": 35,
   "metadata": {},
   "outputs": [
    {
     "name": "stdout",
     "output_type": "stream",
     "text": [
      "[6.15e-01 2.80e-01 1.02e-01 1.72e-03 3.28e-04 2.31e-04]\n"
     ]
    }
   ],
   "source": [
    "#do PCA to find which reduce dimensions on which we will cluster\n",
    "# n_components=2\n",
    "sklearn_pca = sklearnPCA()\n",
    "pca = sklearn_pca.fit(X)\n",
    "# transformed_X = np.dot(X, pca.components_.T)\n",
    "X_tr = sklearn_pca.fit_transform(X)\n",
    "# plt.figure(figsize=(5, 6))\n",
    "# plt.scatter(transformed_X[:,0],transformed_X[:,1])\n",
    "# plt.scatter(X_tr[:,0],X_tr[:,1])\n",
    "# print(pca.components_[1:3,:]) \n",
    "print(pca.explained_variance_ratio_)"
   ]
  },
  {
   "cell_type": "code",
   "execution_count": 36,
   "metadata": {},
   "outputs": [
    {
     "data": {
      "image/png": "[encoded data removed]",
      "text/plain": [
       "<Figure size 1296x216 with 2 Axes>"
      ]
     },
     "metadata": {},
     "output_type": "display_data"
    }
   ],
   "source": [
    "#visualize the principal components\n",
    "plt.figure(figsize=(18, 3))\n",
    "ax = sns.heatmap(pca.components_[0:3,0:10], cmap=\"RdBu\", xticklabels=phrases[0:10], vmin=-1, vmax=1)"
   ]
  },
  {
   "cell_type": "code",
   "execution_count": 37,
   "metadata": {},
   "outputs": [
    {
     "data": {
      "text/plain": [
       "<seaborn.axisgrid.FacetGrid at 0x1a25b67390>"
      ]
     },
     "execution_count": 37,
     "metadata": {},
     "output_type": "execute_result"
    },
    {
     "data": {
      "image/png": "[encoded data removed]",
      "text/plain": [
       "<Figure size 445.5x360 with 1 Axes>"
      ]
     },
     "metadata": {},
     "output_type": "display_data"
    }
   ],
   "source": [
    "#visualize transformed data vs first two PCs and how they separate the groups\n",
    "df_action_counts = pd.DataFrame(X_tr)\n",
    "df_action_counts.columns = ['PC'+ str(nn) for nn in range(0,X_tr.shape[1])]\n",
    "df_action_counts['student'] = students\n",
    "# df_action_counts.head()\n",
    "df_category = df_scores.loc[:,['student','three groups']]\n",
    "df_action_counts = df_action_counts.join(df_category.set_index('student'), on='student')\n",
    "# df_action_counts.head()\n",
    "sns.lmplot('PC0', 'PC1', data=df_action_counts, hue='three groups', fit_reg=False)"
   ]
  },
  {
   "cell_type": "markdown",
   "metadata": {},
   "source": [
    "### k-means clustering based on PCA"
   ]
  },
  {
   "cell_type": "code",
   "execution_count": 40,
   "metadata": {},
   "outputs": [],
   "source": [
    "# do K-means clustering\n",
    "K=3\n",
    "Xarr = X_tr\n",
    "# Number of clusters\n",
    "kmeans = KMeans(n_clusters=K)\n",
    "# Fitting the input data\n",
    "kmeans = kmeans.fit(Xarr)\n",
    "# Getting the cluster labels\n",
    "labels = kmeans.predict(Xarr)\n",
    "# Centroid values\n",
    "centroids = kmeans.cluster_centers_"
   ]
  },
  {
   "cell_type": "code",
   "execution_count": 41,
   "metadata": {},
   "outputs": [
    {
     "data": {
      "text/plain": [
       "<matplotlib.collections.PathCollection at 0x1a26ea6450>"
      ]
     },
     "execution_count": 41,
     "metadata": {},
     "output_type": "execute_result"
    },
    {
     "data": {
      "image/png": "[encoded data removed]",
      "text/plain": [
       "<Figure size 445.5x360 with 1 Axes>"
      ]
     },
     "metadata": {},
     "output_type": "display_data"
    }
   ],
   "source": [
    "#plot the data with the cluster centroids along with cluster labels\n",
    "g= sns.lmplot('PC0', 'PC1', data=df_action_counts, hue='three groups', fit_reg=False, scatter_kws={\"s\": 90})\n",
    "markerShape = ['$0$', '$1$', '$2$', '$3$', '$4$', '$5$']\n",
    "for i in range(K):\n",
    "        points = np.array([Xarr[j] for j in range(len(Xarr)) if labels[j] == i])\n",
    "        plt.scatter(points[:, 0], points[:, 1], s=20, marker=markerShape[i], color = 'k')\n",
    "plt.scatter(centroids[:, 0], centroids[:, 1], marker='*', s=200, c='#050505')"
   ]
  },
  {
   "cell_type": "code",
   "execution_count": 42,
   "metadata": {},
   "outputs": [
    {
     "name": "stdout",
     "output_type": "stream",
     "text": [
      "22\n",
      "22\n",
      "30\n"
     ]
    }
   ],
   "source": [
    "#plot cluster sizes\n",
    "for nn in range(0, K):\n",
    "    print len([label for label in labels if label == nn])"
   ]
  },
  {
   "cell_type": "code",
   "execution_count": 43,
   "metadata": {},
   "outputs": [
    {
     "data": {
      "image/png": "[encoded data removed]",
      "text/plain": [
       "<Figure size 1296x216 with 2 Axes>"
      ]
     },
     "metadata": {},
     "output_type": "display_data"
    }
   ],
   "source": [
    "#visualize centroid coordinates wrt PCs\n",
    "plt.figure(figsize=(18, 3))\n",
    "# ax = sns.heatmap(centroids/np.max(centroids[:]), cmap=\"YlGnBu\", xticklabels=phrases)\n",
    "ax = sns.heatmap(centroids/np.max(centroids[:]), cmap=\"YlGnBu\", xticklabels=['PC0','PC1'])"
   ]
  },
  {
   "cell_type": "code",
   "execution_count": 44,
   "metadata": {},
   "outputs": [
    {
     "data": {
      "image/png": "[encoded data removed]",
      "text/plain": [
       "<Figure size 432x288 with 1 Axes>"
      ]
     },
     "metadata": {},
     "output_type": "display_data"
    }
   ],
   "source": [
    "#see if there is elbow in SSE vs number of clusters k to determine optimal k\n",
    "sse = []\n",
    "K = range(1,10)\n",
    "for k in K:\n",
    "    kmeanModel = KMeans(n_clusters=k).fit(X)\n",
    "    kmeanModel.fit(X)\n",
    "#     sse.append(sum(np.min(cdist(X, kmeanModel.cluster_centers_, 'sqeuclidean'), axis=1)))\n",
    "    sse.append(kmeanModel.inertia_)\n",
    "\n",
    "plt.plot(K, sse, 'bx-')\n",
    "plt.xlabel('k')\n",
    "plt.ylabel('sse')\n",
    "plt.title('Elbow Method showing the optimal k')\n",
    "plt.show()"
   ]
  },
  {
   "cell_type": "markdown",
   "metadata": {},
   "source": [
    "#### Creating new dataframe with clusters and pre-identified groups"
   ]
  },
  {
   "cell_type": "code",
   "execution_count": 45,
   "metadata": {},
   "outputs": [
    {
     "data": {
      "text/html": [
       "<div>\n",
       "<style scoped>\n",
       "    .dataframe tbody tr th:only-of-type {\n",
       "        vertical-align: middle;\n",
       "    }\n",
       "\n",
       "    .dataframe tbody tr th {\n",
       "        vertical-align: top;\n",
       "    }\n",
       "\n",
       "    .dataframe thead th {\n",
       "        text-align: right;\n",
       "    }\n",
       "</style>\n",
       "<table border=\"1\" class=\"dataframe\">\n",
       "  <thead>\n",
       "    <tr style=\"text-align: right;\">\n",
       "      <th>three groups</th>\n",
       "      <th>LH</th>\n",
       "      <th>LL</th>\n",
       "    </tr>\n",
       "    <tr>\n",
       "      <th>k-means label</th>\n",
       "      <th></th>\n",
       "      <th></th>\n",
       "    </tr>\n",
       "  </thead>\n",
       "  <tbody>\n",
       "    <tr>\n",
       "      <th>0</th>\n",
       "      <td>17</td>\n",
       "      <td>5</td>\n",
       "    </tr>\n",
       "    <tr>\n",
       "      <th>1</th>\n",
       "      <td>9</td>\n",
       "      <td>13</td>\n",
       "    </tr>\n",
       "    <tr>\n",
       "      <th>2</th>\n",
       "      <td>12</td>\n",
       "      <td>18</td>\n",
       "    </tr>\n",
       "  </tbody>\n",
       "</table>\n",
       "</div>"
      ],
      "text/plain": [
       "three groups   LH  LL\n",
       "k-means label        \n",
       "0              17   5\n",
       "1               9  13\n",
       "2              12  18"
      ]
     },
     "execution_count": 45,
     "metadata": {},
     "output_type": "execute_result"
    }
   ],
   "source": [
    "df2 = pd.DataFrame(np.array([students,labels]).transpose())\n",
    "df2.columns = ['student','k-means label']\n",
    "df_category = df_scores.loc[:,['student','three groups']]\n",
    "df2 = df2.join(df_category.set_index('student'), on='student')\n",
    "\n",
    "# see how well k-means clusters match up with original groups\n",
    "df2.groupby(['k-means label', 'three groups']).size().unstack().fillna(0)"
   ]
  },
  {
   "cell_type": "markdown",
   "metadata": {},
   "source": [
    "### Use hierarchical clustering based on similarity of sequences"
   ]
  },
  {
   "cell_type": "code",
   "execution_count": 54,
   "metadata": {},
   "outputs": [
    {
     "data": {
      "image/png": "[encoded data removed]",
      "text/plain": [
       "<Figure size 1296x432 with 1 Axes>"
      ]
     },
     "metadata": {},
     "output_type": "display_data"
    }
   ],
   "source": [
    "sentences = map(unicode, sequences.values())\n",
    "\n",
    "def distmetric(coord):\n",
    "    ''' Computes the 'distance' between two strings based on some metric.  Jaro distance gives a measure \n",
    "    of similarity between two strings normalized to 1 (1 is identical) thus why output is 1-jaro ''' \n",
    "    i, j = coord\n",
    "    return 1 - jf.jaro_distance(sentences[i], sentences[j])\n",
    "#     return jf.damerau_levenshtein_distance(sentences[i], sentences[j])\n",
    "\n",
    "#creates tuple of two arrays, each gives row/column coordinates of upper triangle matrix that will match \n",
    "#each sequence to all other sequences\n",
    "coord = np.triu_indices(len(sentences), 1)\n",
    "#creates array of distances between every sequence as per the above specified coordinates\n",
    "distmatrix = np.apply_along_axis(distmetric, 0, coord)\n",
    "#create the cluster hierarchy\n",
    "Z = scipy.cluster.hierarchy.linkage(distmatrix,'complete')\n",
    "plt.figure(figsize=(18, 6))\n",
    "max_d = 0.75*max(Z[:,2])\n",
    "results = scipy.cluster.hierarchy.dendrogram(Z, color_threshold = max_d)"
   ]
  },
  {
   "cell_type": "code",
   "execution_count": 55,
   "metadata": {},
   "outputs": [
    {
     "data": {
      "text/html": [
       "<div>\n",
       "<style scoped>\n",
       "    .dataframe tbody tr th:only-of-type {\n",
       "        vertical-align: middle;\n",
       "    }\n",
       "\n",
       "    .dataframe tbody tr th {\n",
       "        vertical-align: top;\n",
       "    }\n",
       "\n",
       "    .dataframe thead th {\n",
       "        text-align: right;\n",
       "    }\n",
       "</style>\n",
       "<table border=\"1\" class=\"dataframe\">\n",
       "  <thead>\n",
       "    <tr style=\"text-align: right;\">\n",
       "      <th>three groups</th>\n",
       "      <th>LH</th>\n",
       "      <th>LL</th>\n",
       "    </tr>\n",
       "    <tr>\n",
       "      <th>hierarchical label</th>\n",
       "      <th></th>\n",
       "      <th></th>\n",
       "    </tr>\n",
       "  </thead>\n",
       "  <tbody>\n",
       "    <tr>\n",
       "      <th>1</th>\n",
       "      <td>4</td>\n",
       "      <td>2</td>\n",
       "    </tr>\n",
       "    <tr>\n",
       "      <th>2</th>\n",
       "      <td>7</td>\n",
       "      <td>11</td>\n",
       "    </tr>\n",
       "    <tr>\n",
       "      <th>3</th>\n",
       "      <td>3</td>\n",
       "      <td>2</td>\n",
       "    </tr>\n",
       "    <tr>\n",
       "      <th>4</th>\n",
       "      <td>24</td>\n",
       "      <td>21</td>\n",
       "    </tr>\n",
       "  </tbody>\n",
       "</table>\n",
       "</div>"
      ],
      "text/plain": [
       "three groups        LH  LL\n",
       "hierarchical label        \n",
       "1                    4   2\n",
       "2                    7  11\n",
       "3                    3   2\n",
       "4                   24  21"
      ]
     },
     "execution_count": 55,
     "metadata": {},
     "output_type": "execute_result"
    }
   ],
   "source": [
    "#see how well the clusters match up with original groups\n",
    "clusters = scipy.cluster.hierarchy.fcluster(Z, max_d, criterion='distance')\n",
    "df3 = pd.DataFrame(np.array([students,clusters]).transpose())\n",
    "df3.columns = ['student','hierarchical label']\n",
    "df_category3 = df_scores.loc[:,['student','three groups']]\n",
    "df3 = df3.join(df_category3.set_index('student'), on='student')\n",
    "# df3[df3['three groups']=='LH']\n",
    "df3.groupby(['hierarchical label', 'three groups']).size().unstack()"
   ]
  },
  {
   "cell_type": "code",
   "execution_count": null,
   "metadata": {},
   "outputs": [],
   "source": []
  }
 ],
 "metadata": {
  "kernelspec": {
   "display_name": "Python [conda env:anaconda]",
   "language": "python",
   "name": "conda-env-anaconda-py"
  },
  "language_info": {
   "codemirror_mode": {
    "name": "ipython",
    "version": 2
   },
   "file_extension": ".py",
   "mimetype": "text/x-python",
   "name": "python",
   "nbconvert_exporter": "python",
   "pygments_lexer": "ipython2",
   "version": "2.7.14"
  }
 },
 "nbformat": 4,
 "nbformat_minor": 2
}
