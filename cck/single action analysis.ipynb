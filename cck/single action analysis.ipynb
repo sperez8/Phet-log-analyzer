{
 "cells": [
  {
   "cell_type": "code",
   "execution_count": 30,
   "metadata": {},
   "outputs": [
    {
     "name": "stdout",
     "output_type": "stream",
     "text": [
      "The autoreload extension is already loaded. To reload it, use:\n",
      "  %reload_ext autoreload\n"
     ]
    }
   ],
   "source": [
    "import math\n",
    "import numpy as np\n",
    "import pandas as pd\n",
    "import sys\n",
    "import re\n",
    "import itertools\n",
    "from functions import *\n",
    "from sklearn.cluster import KMeans\n",
    "from scipy.spatial.distance import cdist\n",
    "import seaborn as sns\n",
    "np.set_printoptions(precision=2)\n",
    "pd.set_option('precision', 2)\n",
    "%matplotlib inline\n",
    "matplotlib.style.use('ggplot')\n",
    "matplotlib.rcParams['figure.figsize'] = (10, 3)\n",
    "%load_ext autoreload\n",
    "%autoreload 2"
   ]
  },
  {
   "cell_type": "markdown",
   "metadata": {},
   "source": [
    "### Data wrangling"
   ]
  },
  {
   "cell_type": "markdown",
   "metadata": {},
   "source": [
    "#### Loaded dataframe with every actions for all students and dataframe with student pre/post scores"
   ]
  },
  {
   "cell_type": "code",
   "execution_count": 31,
   "metadata": {},
   "outputs": [
    {
     "data": {
      "text/html": [
       "<div>\n",
       "<style scoped>\n",
       "    .dataframe tbody tr th:only-of-type {\n",
       "        vertical-align: middle;\n",
       "    }\n",
       "\n",
       "    .dataframe tbody tr th {\n",
       "        vertical-align: top;\n",
       "    }\n",
       "\n",
       "    .dataframe thead th {\n",
       "        text-align: right;\n",
       "    }\n",
       "</style>\n",
       "<table border=\"1\" class=\"dataframe\">\n",
       "  <thead>\n",
       "    <tr style=\"text-align: right;\">\n",
       "      <th></th>\n",
       "      <th>Activity</th>\n",
       "      <th>student</th>\n",
       "      <th>Time Stamp</th>\n",
       "      <th>Family</th>\n",
       "      <th>Family_tool</th>\n",
       "      <th>Family_default</th>\n",
       "      <th>Family_both</th>\n",
       "      <th>Action</th>\n",
       "      <th>Component</th>\n",
       "      <th>Outcome</th>\n",
       "      <th>...</th>\n",
       "      <th>current_#loops</th>\n",
       "      <th>current_#components</th>\n",
       "      <th>current_#battery</th>\n",
       "      <th>current_#circuitSwitch</th>\n",
       "      <th>current_#grabBagResistor</th>\n",
       "      <th>current_#lightBulb</th>\n",
       "      <th>current_#resistor</th>\n",
       "      <th>current_#seriesAmmeter</th>\n",
       "      <th>non_default_resistor_values</th>\n",
       "      <th>keep</th>\n",
       "    </tr>\n",
       "  </thead>\n",
       "  <tbody>\n",
       "    <tr>\n",
       "      <th>0</th>\n",
       "      <td>a2</td>\n",
       "      <td>10009106</td>\n",
       "      <td>1363981168331</td>\n",
       "      <td>Construct</td>\n",
       "      <td>Construct</td>\n",
       "      <td>Construct</td>\n",
       "      <td>Construct</td>\n",
       "      <td>add</td>\n",
       "      <td>wire</td>\n",
       "      <td>None</td>\n",
       "      <td>...</td>\n",
       "      <td>0</td>\n",
       "      <td>0</td>\n",
       "      <td>0</td>\n",
       "      <td>0</td>\n",
       "      <td>0</td>\n",
       "      <td>0</td>\n",
       "      <td>0</td>\n",
       "      <td>0</td>\n",
       "      <td>0</td>\n",
       "      <td>True</td>\n",
       "    </tr>\n",
       "    <tr>\n",
       "      <th>1</th>\n",
       "      <td>a2</td>\n",
       "      <td>10009106</td>\n",
       "      <td>1363981175425</td>\n",
       "      <td>Construct</td>\n",
       "      <td>Construct</td>\n",
       "      <td>Construct</td>\n",
       "      <td>Construct</td>\n",
       "      <td>add</td>\n",
       "      <td>battery</td>\n",
       "      <td>None</td>\n",
       "      <td>...</td>\n",
       "      <td>0</td>\n",
       "      <td>0</td>\n",
       "      <td>0</td>\n",
       "      <td>0</td>\n",
       "      <td>0</td>\n",
       "      <td>0</td>\n",
       "      <td>0</td>\n",
       "      <td>0</td>\n",
       "      <td>0</td>\n",
       "      <td>True</td>\n",
       "    </tr>\n",
       "  </tbody>\n",
       "</table>\n",
       "<p>2 rows × 31 columns</p>\n",
       "</div>"
      ],
      "text/plain": [
       "  Activity   student     Time Stamp     Family Family_tool Family_default  \\\n",
       "0       a2  10009106  1363981168331  Construct   Construct      Construct   \n",
       "1       a2  10009106  1363981175425  Construct   Construct      Construct   \n",
       "\n",
       "  Family_both Action Component Outcome  ...   current_#loops  \\\n",
       "0   Construct    add      wire    None  ...                0   \n",
       "1   Construct    add   battery    None  ...                0   \n",
       "\n",
       "   current_#components  current_#battery  current_#circuitSwitch  \\\n",
       "0                    0                 0                       0   \n",
       "1                    0                 0                       0   \n",
       "\n",
       "   current_#grabBagResistor  current_#lightBulb  current_#resistor  \\\n",
       "0                         0                   0                  0   \n",
       "1                         0                   0                  0   \n",
       "\n",
       "   current_#seriesAmmeter  non_default_resistor_values  keep  \n",
       "0                       0                            0  True  \n",
       "1                       0                            0  True  \n",
       "\n",
       "[2 rows x 31 columns]"
      ]
     },
     "execution_count": 31,
     "metadata": {},
     "output_type": "execute_result"
    }
   ],
   "source": [
    "df.head(2)"
   ]
  },
  {
   "cell_type": "code",
   "execution_count": 32,
   "metadata": {},
   "outputs": [
    {
     "data": {
      "text/html": [
       "<div>\n",
       "<style scoped>\n",
       "    .dataframe tbody tr th:only-of-type {\n",
       "        vertical-align: middle;\n",
       "    }\n",
       "\n",
       "    .dataframe tbody tr th {\n",
       "        vertical-align: top;\n",
       "    }\n",
       "\n",
       "    .dataframe thead th {\n",
       "        text-align: right;\n",
       "    }\n",
       "</style>\n",
       "<table border=\"1\" class=\"dataframe\">\n",
       "  <thead>\n",
       "    <tr style=\"text-align: right;\">\n",
       "      <th></th>\n",
       "      <th>Wave</th>\n",
       "      <th>scaffolding</th>\n",
       "      <th>how many PhETs in the past?</th>\n",
       "      <th>how comfortable with phets?</th>\n",
       "      <th>p100</th>\n",
       "      <th>used this circuit sim before?</th>\n",
       "      <th>COMPLETEDNESS</th>\n",
       "      <th>PRIORKNOWLEDGE</th>\n",
       "      <th>COMPLEXITY</th>\n",
       "      <th>DIAGRAMS</th>\n",
       "      <th>...</th>\n",
       "      <th>Anon Student Id</th>\n",
       "      <th>incoming_knowledge</th>\n",
       "      <th>incoming_attitude</th>\n",
       "      <th>learning1score</th>\n",
       "      <th>learning1</th>\n",
       "      <th>learning2score</th>\n",
       "      <th>learning2</th>\n",
       "      <th>split pre</th>\n",
       "      <th>split post t2</th>\n",
       "      <th>three groups</th>\n",
       "    </tr>\n",
       "  </thead>\n",
       "  <tbody>\n",
       "    <tr>\n",
       "      <th>0</th>\n",
       "      <td>March</td>\n",
       "      <td>not</td>\n",
       "      <td>NaN</td>\n",
       "      <td>NaN</td>\n",
       "      <td>NaN</td>\n",
       "      <td>NaN</td>\n",
       "      <td>NaN</td>\n",
       "      <td>NaN</td>\n",
       "      <td>NaN</td>\n",
       "      <td>NaN</td>\n",
       "      <td>...</td>\n",
       "      <td>NaN</td>\n",
       "      <td>high</td>\n",
       "      <td>low</td>\n",
       "      <td>NaN</td>\n",
       "      <td>low</td>\n",
       "      <td>NaN</td>\n",
       "      <td>low</td>\n",
       "      <td>high</td>\n",
       "      <td>high</td>\n",
       "      <td>HH</td>\n",
       "    </tr>\n",
       "    <tr>\n",
       "      <th>1</th>\n",
       "      <td>March</td>\n",
       "      <td>scaff</td>\n",
       "      <td>NaN</td>\n",
       "      <td>NaN</td>\n",
       "      <td>NaN</td>\n",
       "      <td>NaN</td>\n",
       "      <td>NaN</td>\n",
       "      <td>NaN</td>\n",
       "      <td>NaN</td>\n",
       "      <td>NaN</td>\n",
       "      <td>...</td>\n",
       "      <td>NaN</td>\n",
       "      <td>high</td>\n",
       "      <td>low</td>\n",
       "      <td>NaN</td>\n",
       "      <td>low</td>\n",
       "      <td>NaN</td>\n",
       "      <td>low</td>\n",
       "      <td>high</td>\n",
       "      <td>high</td>\n",
       "      <td>HH</td>\n",
       "    </tr>\n",
       "  </tbody>\n",
       "</table>\n",
       "<p>2 rows × 37 columns</p>\n",
       "</div>"
      ],
      "text/plain": [
       "    Wave scaffolding  how many PhETs in the past?  \\\n",
       "0  March         not                          NaN   \n",
       "1  March       scaff                          NaN   \n",
       "\n",
       "   how comfortable with phets?  p100  used this circuit sim before?  \\\n",
       "0                          NaN   NaN                            NaN   \n",
       "1                          NaN   NaN                            NaN   \n",
       "\n",
       "   COMPLETEDNESS  PRIORKNOWLEDGE  COMPLEXITY  DIAGRAMS      ...       \\\n",
       "0            NaN             NaN         NaN       NaN      ...        \n",
       "1            NaN             NaN         NaN       NaN      ...        \n",
       "\n",
       "   Anon Student Id  incoming_knowledge  incoming_attitude  learning1score  \\\n",
       "0              NaN                high                low             NaN   \n",
       "1              NaN                high                low             NaN   \n",
       "\n",
       "   learning1  learning2score  learning2  split pre  split post t2  \\\n",
       "0        low             NaN        low       high           high   \n",
       "1        low             NaN        low       high           high   \n",
       "\n",
       "   three groups  \n",
       "0            HH  \n",
       "1            HH  \n",
       "\n",
       "[2 rows x 37 columns]"
      ]
     },
     "execution_count": 32,
     "metadata": {},
     "output_type": "execute_result"
    }
   ],
   "source": [
    "df_scores.head(2)"
   ]
  },
  {
   "cell_type": "markdown",
   "metadata": {},
   "source": [
    "#### Crop activity data to get rid of activity #3"
   ]
  },
  {
   "cell_type": "code",
   "execution_count": 33,
   "metadata": {},
   "outputs": [],
   "source": [
    "max_time = 25*60*1000\n",
    "max_times = {s:min(df[df['student']==s][\"Time Stamp\"])+max_time for s in set(df['student'])}\n",
    "\n",
    "def keep_by_time (row):\n",
    "    if row[\"Time Stamp\"] <= max_times[row[\"student\"]]:\n",
    "        return True\n",
    "    else: \n",
    "        return False\n",
    "\n",
    "df['keep'] = df.apply (lambda row: keep_by_time (row),axis=1)\n",
    "df=df[df['keep']]"
   ]
  },
  {
   "cell_type": "markdown",
   "metadata": {},
   "source": [
    "#### Define LL, LH, HL and HH groups based on median split on pre and bimodal dist of post tests"
   ]
  },
  {
   "cell_type": "code",
   "execution_count": 34,
   "metadata": {},
   "outputs": [],
   "source": [
    "median_learning0 = 0.45\n",
    "df_scores['split pre'] = df_scores.apply (lambda row: label_learning (median_learning0,row,\"z pre\"),axis=1)\n",
    "median_learning2 = np.median(df_scores[df_scores['split pre']=='low']['z post t2'])\n",
    "df_scores['split post t2'] = df_scores.apply (lambda row: label_learning (median_learning2,row,\"z post t2\"),axis=1)"
   ]
  },
  {
   "cell_type": "code",
   "execution_count": 35,
   "metadata": {},
   "outputs": [
    {
     "name": "stdout",
     "output_type": "stream",
     "text": [
      "high high 22\n",
      "high low 3\n",
      "low high 38\n",
      "low low 36\n"
     ]
    }
   ],
   "source": [
    "for x in ['high','low']:\n",
    "    for y in ['high','low']:\n",
    "        print x,y, len(set(df_scores[(df_scores['split pre']==x)&(df_scores['split post t2']==y)]['student']))"
   ]
  },
  {
   "cell_type": "code",
   "execution_count": 36,
   "metadata": {},
   "outputs": [],
   "source": [
    "def label_3_groups (row):\n",
    "    if row['split pre']  == 'high' and row['split post t2'] == 'high':\n",
    "        return 'HH'\n",
    "    if row['split pre']  == 'high' and row['split post t2'] == 'low':\n",
    "        return 'HL'\n",
    "    if row['split pre']  == 'low' and row['split post t2'] == 'high':\n",
    "        return 'LH'\n",
    "    if row['split pre']  == 'low' and row['split post t2'] == 'low':\n",
    "        return 'LL'\n",
    "df_scores['three groups'] = df_scores.apply (lambda row: label_3_groups (row),axis=1)"
   ]
  },
  {
   "cell_type": "markdown",
   "metadata": {},
   "source": [
    "#### Convert action families into string sequences"
   ]
  },
  {
   "cell_type": "code",
   "execution_count": 37,
   "metadata": {},
   "outputs": [],
   "source": [
    "def convert(action, test_granular = True):\n",
    "    ''' this function converts action families into single \n",
    "    codes more amenable for sequence interpretation'''\n",
    "\n",
    "    if test_granular:\n",
    "        converter =  {\"Construct\" : \"C\",\n",
    "        \"Interface\" : \"I\",\n",
    "        \"Pause\" : \"P\",\n",
    "        \"Test_basic\" : \"T1\",\n",
    "        \"Test_complex\" : \"Tm\",\n",
    "        \"Test_other\" : \"To\",\n",
    "        \"Test_simple\" : \"T2\",\n",
    "        }\n",
    "    else:\n",
    "        converter =  {\"Construct\" : \"C\",\n",
    "        \"Interface\" : \"I\",\n",
    "        \"Pause\" : \"P\",\n",
    "        \"Test_basic\" : \"T\",\n",
    "        \"Test_complex\" : \"T\",\n",
    "        \"Test_other\" : \"T\",\n",
    "        \"Test_simple\" : \"T\",\n",
    "        }   \n",
    "    return converter[action]"
   ]
  },
  {
   "cell_type": "code",
   "execution_count": 129,
   "metadata": {},
   "outputs": [
    {
     "name": "stdout",
     "output_type": "stream",
     "text": [
      "CCCCCCCCCCCCCCCCCCCCCCCT1T1T1T1CT1T1T1PCCPCCCCCCCCCCCCT1CCCCCCPCCCCCCCCCCCCCCCCCCCT2T2T2CCCCCCCCCCCCCCCTmTmTmTmTmTmCCCCCCCCCCCCCCCCCCCCCCCCTmTmTmTmTmTmTmTmPCCCCCCCCCCTmT1CCCCCCCCCCCCCCCCCCT2T2T2TmTmTmTmTmTmTmTmTmTmT2T2CCTmTmTmTmTmTmTmTmPTmTmTmTmTmTmTmTmTmTmTmTmTmTmTmPTmTmPCCCCCCCCCCCCCCCPT2T2PCCCCCCCCCCCCCCCCCCCCCCCCCCCCPCCCCCCCCCCCCCCCCCCCCCCCCCCCCCCCCCCCCCCCCCCCCCCCCCCCCCCCCCCCCCCCCCCCCCCCCCCCCCCCCCCCCCCCCCCCCCCCCCCCCPCCCCCCCCCCCCCCCCCCCCCCCCCCCCCCCCCCCCCPCCCCCCCCCCCCCCCCCCCCCCCCCCCCCCT1T1CCCCCCCCCCCCCCCCCC\n",
      "------\n",
      "CT1CT1PCPCT1CPCT2CTmCTmPCTmT1CT2TmT2CTmPTmPTmPCPT2PCPCPCPCT1C\n",
      "------\n",
      "CT1T1T1T1CT1T1T1PCPCT1CPCT2T2T2CTmTmTmTmTmTmCTmTmTmTmTmTmTmTmPCTmT1CT2T2T2TmTmTmTmTmTmTmTmTmTmT2T2CTmTmTmTmTmTmTmTmPTmTmTmTmTmTmTmTmTmTmTmTmTmTmTmPTmTmPCPT2T2PCPCPCPCT1T1C\n"
     ]
    }
   ],
   "source": [
    "''' \n",
    "this is a test cell to assess regex\n",
    "'''\n",
    "ignore=['I', 'To']\n",
    "sequence = list(df[df['student']==3591123][\"Family\"])\n",
    "\n",
    "#prints raw sequence\n",
    "print ''.join([convert(action) for action in sequence if convert(action) not in ignore])\n",
    "print '------'\n",
    "\n",
    "#prints blocked action sequence\n",
    "block = re.sub(r'([A-Z][12m]{0,3})\\1+', \n",
    "               r'\\1',\n",
    "               ''.join([convert(action) for action in sequence if convert(action) not in ignore]))\n",
    "print block\n",
    "print '------'\n",
    "\n",
    "#prints blocked action for all action families except tests\n",
    "block2 = re.sub(r'([CPI])\\1+', \n",
    "                r'\\1',\n",
    "                ''.join([convert(action) for action in sequence if convert(action) not in ignore]))\n",
    "print block2"
   ]
  },
  {
   "cell_type": "code",
   "execution_count": 122,
   "metadata": {},
   "outputs": [],
   "source": [
    "'''\n",
    "This creates dictionary (keys are student ID) and values are action sequences\n",
    "'''\n",
    "ignore=['I', 'To']\n",
    "students = list(df['student'].unique())\n",
    "sequences = {student:'' for student in students}\n",
    "for student in students:\n",
    "    sequence = list(df[df['student']==student][\"Family\"])\n",
    "    sequences[student] = re.sub(r'([A-Z][12m]{0,3})\\1+', \n",
    "                                r'\\1',\n",
    "                                ''.join([convert(action) for action in sequence \n",
    "                                         if convert(action) not in ignore]))"
   ]
  },
  {
   "cell_type": "code",
   "execution_count": 128,
   "metadata": {},
   "outputs": [
    {
     "name": "stdout",
     "output_type": "stream",
     "text": [
      "5\n"
     ]
    }
   ],
   "source": [
    "#testing regex for detecting number of instances a phrase appears in a student whole sequence\n",
    "s = sequences[3591123]\n",
    "# s = 'CTmCTmCTmCT2CT1CT1CT1P'\n",
    "matches = re.finditer(r'(?=(T1))',s)\n",
    "results = [match.group(1) for match in matches]\n",
    "print len(results)"
   ]
  },
  {
   "cell_type": "code",
   "execution_count": 133,
   "metadata": {},
   "outputs": [
    {
     "name": "stdout",
     "output_type": "stream",
     "text": [
      "[6, 3, 5, 2, 1, 1, 9, 1, 1, 2, 1, 8, 5, 5, 2, 3, 5, 0, 5, 1, 2, 0]\n"
     ]
    }
   ],
   "source": [
    "'''\n",
    "This creates a df with all single actions counts for every students.\n",
    "'''\n",
    "\n",
    "phrases = 'C P T1 T2 Tm'.split()\n",
    "data = {}\n",
    "for phrase in phrases:\n",
    "    data[phrase] = {}\n",
    "    for student in students:\n",
    "        rx = r'(?=({0}))'.format(phrase)\n",
    "        matches = re.finditer(rx,sequences[student])\n",
    "        data[phrase][student] = len([match.group(1) for match in matches]) \n",
    "\n",
    "dfcounts = pd.DataFrame(data = data)\n",
    "dfcounts['T'] = dfcounts[['T1','T2','Tm']].sum(axis=1)\n",
    "dfcounts['group'] = [list(df_scores[df_scores['student']==student]['three groups'])[0] for student in list(dfcounts.index)]\n",
    "print dfcounts[dfcounts['group']=='HH']['T1'].tolist()\n",
    "# dfcounts.to_csv('single_actions_counts_allBlocked.csv', sep=',', index=False)\n",
    "                 "
   ]
  }
 ],
 "metadata": {
  "kernelspec": {
   "display_name": "Python [conda env:anaconda]",
   "language": "python",
   "name": "conda-env-anaconda-py"
  },
  "language_info": {
   "codemirror_mode": {
    "name": "ipython",
    "version": 2
   },
   "file_extension": ".py",
   "mimetype": "text/x-python",
   "name": "python",
   "nbconvert_exporter": "python",
   "pygments_lexer": "ipython2",
   "version": "2.7.14"
  }
 },
 "nbformat": 4,
 "nbformat_minor": 2
}
