{
 "cells": [
  {
   "cell_type": "code",
   "execution_count": 26,
   "metadata": {
    "collapsed": false
   },
   "outputs": [],
   "source": [
    "%matplotlib inline\n",
    "import numpy as np\n",
    "import pandas as pd\n",
    "import matplotlib.pyplot as plt\n",
    "import sys\n",
    "import getpass\n",
    "import matplotlib.pyplot as plt\n",
    "np.set_printoptions(precision=2)\n",
    "pd.set_option('precision', 2)"
   ]
  },
  {
   "cell_type": "markdown",
   "metadata": {},
   "source": [
    "## Reading in dataframe"
   ]
  },
  {
   "cell_type": "code",
   "execution_count": 2,
   "metadata": {
    "collapsed": false
   },
   "outputs": [],
   "source": [
    "df = pd.read_csv('C:\\Users\\\\'+getpass.getuser()+'\\\\Google Drive\\Sarah Ido folder\\data\\CCK\\CCK click stream data\\phet_cck_user_actions+sophistication_WITHPAUSE.csv')\n",
    "df[\"Student#\"] = df[\"Student#\"].astype('category')\n",
    "df[\"Family\"]=df[\"Family\"].str.capitalize()"
   ]
  },
  {
   "cell_type": "markdown",
   "metadata": {},
   "source": [
    "## Getting a sense of the data"
   ]
  },
  {
   "cell_type": "code",
   "execution_count": 3,
   "metadata": {
    "collapsed": false,
    "scrolled": true
   },
   "outputs": [
    {
     "data": {
      "text/plain": [
       "'There are 96 students with an average number of actions of: 537.94 actvity 1, 407.00 for actvity 2, 81.83 for actvity 3'"
      ]
     },
     "execution_count": 3,
     "metadata": {},
     "output_type": "execute_result"
    }
   ],
   "source": [
    "actions = [np.mean([  df[ (df['Student#']==student) & \n",
    "            (df['Activity']=='a'+str(activity)) ].shape[0] for student in set(df['Student#'])  ]) for activity in [1,2,3]]\n",
    "'''There are {0} students with an average number of actions of: {1:.2f} actvity 1, {2:.2f} for actvity 2, {3:.2f} for actvity 3'''.format(len(set(df['Student#'])), actions[0],actions[1],actions[2])"
   ]
  },
  {
   "cell_type": "code",
   "execution_count": 15,
   "metadata": {
    "collapsed": false
   },
   "outputs": [
    {
     "data": {
      "text/plain": [
       "\"There are 8 different families of actions set(['Reset', 'pause', 'Extra', 'Test', 'Organize', 'Build', 'Interface', 'Revise'])\""
      ]
     },
     "execution_count": 15,
     "metadata": {},
     "output_type": "execute_result"
    }
   ],
   "source": [
    "'''There are {0} different families of actions {1}'''.format(len(set(df['Family'])),set(df['Family']))"
   ]
  },
  {
   "cell_type": "code",
   "execution_count": 13,
   "metadata": {
    "collapsed": false
   },
   "outputs": [
    {
     "data": {
      "text/plain": [
       "\"There are 25 different actions:set(['moreVoltsOption', 'deiconified', 'help', 'enableComponent', 'startMeasure', 'pause', 'add', 'split', 'organizeWorkspace', 'disableComponent', 'playPause', 'exitSim', 'changeResistance', 'sliderEndDrag', 'changeVoltage', 'reset', 'join', 'reverse', 'iconified', 'remove', 'switch', 'traceMeasure', 'endMeasure', 'joinX', 'view'])\""
      ]
     },
     "execution_count": 13,
     "metadata": {},
     "output_type": "execute_result"
    }
   ],
   "source": [
    "'''There are {0} different actions:{1}'''.format(len(set(df['Action'])),set(df['Action']))"
   ]
  },
  {
   "cell_type": "code",
   "execution_count": 4,
   "metadata": {
    "collapsed": false
   },
   "outputs": [
    {
     "data": {
      "text/html": [
       "<div>\n",
       "<table border=\"1\" class=\"dataframe\">\n",
       "  <thead>\n",
       "    <tr style=\"text-align: right;\">\n",
       "      <th></th>\n",
       "      <th>Activity</th>\n",
       "      <th>Student#</th>\n",
       "      <th>Time Stamp</th>\n",
       "      <th>Family</th>\n",
       "      <th>Action</th>\n",
       "      <th>Component</th>\n",
       "      <th>Outcome</th>\n",
       "      <th>#circuits</th>\n",
       "      <th>#loops</th>\n",
       "      <th>#components</th>\n",
       "      <th>#battery</th>\n",
       "      <th>#circuitSwitch</th>\n",
       "      <th>#grabBagResistor</th>\n",
       "      <th>#lightBulb</th>\n",
       "      <th>#resistor</th>\n",
       "      <th>#seriesAmmeter</th>\n",
       "    </tr>\n",
       "  </thead>\n",
       "  <tbody>\n",
       "    <tr>\n",
       "      <th>0</th>\n",
       "      <td>a1</td>\n",
       "      <td>10009106</td>\n",
       "      <td>1363978501425</td>\n",
       "      <td>Build</td>\n",
       "      <td>add</td>\n",
       "      <td>lightBulb</td>\n",
       "      <td>None</td>\n",
       "      <td>NaN</td>\n",
       "      <td>NaN</td>\n",
       "      <td>NaN</td>\n",
       "      <td>NaN</td>\n",
       "      <td>NaN</td>\n",
       "      <td>NaN</td>\n",
       "      <td>NaN</td>\n",
       "      <td>NaN</td>\n",
       "      <td>NaN</td>\n",
       "    </tr>\n",
       "    <tr>\n",
       "      <th>1</th>\n",
       "      <td>a1</td>\n",
       "      <td>10009106</td>\n",
       "      <td>1363978503940</td>\n",
       "      <td>Organize</td>\n",
       "      <td>organizeWorkspace</td>\n",
       "      <td>junction</td>\n",
       "      <td>None</td>\n",
       "      <td>NaN</td>\n",
       "      <td>NaN</td>\n",
       "      <td>NaN</td>\n",
       "      <td>NaN</td>\n",
       "      <td>NaN</td>\n",
       "      <td>NaN</td>\n",
       "      <td>NaN</td>\n",
       "      <td>NaN</td>\n",
       "      <td>NaN</td>\n",
       "    </tr>\n",
       "    <tr>\n",
       "      <th>2</th>\n",
       "      <td>a1</td>\n",
       "      <td>10009106</td>\n",
       "      <td>1363978506034</td>\n",
       "      <td>Organize</td>\n",
       "      <td>organizeWorkspace</td>\n",
       "      <td>junction</td>\n",
       "      <td>None</td>\n",
       "      <td>NaN</td>\n",
       "      <td>NaN</td>\n",
       "      <td>NaN</td>\n",
       "      <td>NaN</td>\n",
       "      <td>NaN</td>\n",
       "      <td>NaN</td>\n",
       "      <td>NaN</td>\n",
       "      <td>NaN</td>\n",
       "      <td>NaN</td>\n",
       "    </tr>\n",
       "    <tr>\n",
       "      <th>3</th>\n",
       "      <td>a1</td>\n",
       "      <td>10009106</td>\n",
       "      <td>1363978508034</td>\n",
       "      <td>Organize</td>\n",
       "      <td>organizeWorkspace</td>\n",
       "      <td>junction</td>\n",
       "      <td>None</td>\n",
       "      <td>NaN</td>\n",
       "      <td>NaN</td>\n",
       "      <td>NaN</td>\n",
       "      <td>NaN</td>\n",
       "      <td>NaN</td>\n",
       "      <td>NaN</td>\n",
       "      <td>NaN</td>\n",
       "      <td>NaN</td>\n",
       "      <td>NaN</td>\n",
       "    </tr>\n",
       "    <tr>\n",
       "      <th>4</th>\n",
       "      <td>a1</td>\n",
       "      <td>10009106</td>\n",
       "      <td>1363978509800</td>\n",
       "      <td>Organize</td>\n",
       "      <td>organizeWorkspace</td>\n",
       "      <td>lightBulb</td>\n",
       "      <td>None</td>\n",
       "      <td>NaN</td>\n",
       "      <td>NaN</td>\n",
       "      <td>NaN</td>\n",
       "      <td>NaN</td>\n",
       "      <td>NaN</td>\n",
       "      <td>NaN</td>\n",
       "      <td>NaN</td>\n",
       "      <td>NaN</td>\n",
       "      <td>NaN</td>\n",
       "    </tr>\n",
       "  </tbody>\n",
       "</table>\n",
       "</div>"
      ],
      "text/plain": [
       "  Activity  Student#     Time Stamp    Family             Action  Component  \\\n",
       "0       a1  10009106  1363978501425     Build                add  lightBulb   \n",
       "1       a1  10009106  1363978503940  Organize  organizeWorkspace   junction   \n",
       "2       a1  10009106  1363978506034  Organize  organizeWorkspace   junction   \n",
       "3       a1  10009106  1363978508034  Organize  organizeWorkspace   junction   \n",
       "4       a1  10009106  1363978509800  Organize  organizeWorkspace  lightBulb   \n",
       "\n",
       "  Outcome  #circuits  #loops  #components  #battery  #circuitSwitch  \\\n",
       "0    None        NaN     NaN          NaN       NaN             NaN   \n",
       "1    None        NaN     NaN          NaN       NaN             NaN   \n",
       "2    None        NaN     NaN          NaN       NaN             NaN   \n",
       "3    None        NaN     NaN          NaN       NaN             NaN   \n",
       "4    None        NaN     NaN          NaN       NaN             NaN   \n",
       "\n",
       "   #grabBagResistor  #lightBulb  #resistor  #seriesAmmeter  \n",
       "0               NaN         NaN        NaN             NaN  \n",
       "1               NaN         NaN        NaN             NaN  \n",
       "2               NaN         NaN        NaN             NaN  \n",
       "3               NaN         NaN        NaN             NaN  \n",
       "4               NaN         NaN        NaN             NaN  "
      ]
     },
     "execution_count": 4,
     "metadata": {},
     "output_type": "execute_result"
    }
   ],
   "source": [
    "df.head()"
   ]
  },
  {
   "cell_type": "markdown",
   "metadata": {},
   "source": [
    "## Let's look at sequence of action types for Activity 2\n",
    "For each student we want to find the number of transitions from one type of actions to another"
   ]
  },
  {
   "cell_type": "code",
   "execution_count": 22,
   "metadata": {
    "collapsed": false
   },
   "outputs": [
    {
     "name": "stdout",
     "output_type": "stream",
     "text": [
      "The following are the possible actions grouped by family:\n",
      "\n",
      "Reset:\t reset\n",
      "Pause:\t pause\n",
      "Extra:\t moreVoltsOption,join,remove,changeResistance,sliderEndDrag,add,organizeWorkspace,joinX\n",
      "Test:\t startMeasure,playPause,traceMeasure,endMeasure\n",
      "Organize:\t organizeWorkspace\n",
      "Build:\t join,reverse,switch,changeResistance,sliderEndDrag,add,changeVoltage,joinX\n",
      "Interface:\t deiconified,help,iconified,exitSim,enableComponent,disableComponent,view\n",
      "Revise:\t join,reverse,switch,remove,changeResistance,sliderEndDrag,add,split,changeVoltage,joinX\n"
     ]
    }
   ],
   "source": [
    "df2 = df[df['Activity']==\"a2\"]\n",
    "print \"The following are the possible actions grouped by family:\\n\"\n",
    "actionTypes = {}\n",
    "for family in set(df2['Family']):\n",
    "    actionTypes[family] = list(set(df2[df2['Family']==family]['Action']))\n",
    "    print '{0}:\\t {1}'.format(family,','.join(list(set(df2[df2['Family']==family]['Action']))))"
   ]
  },
  {
   "cell_type": "markdown",
   "metadata": {},
   "source": [
    "First, we find what actions students are doing in consecutively. We count the number of succesive actions for each pair and normalize by the number of times the first action is done in total."
   ]
  },
  {
   "cell_type": "code",
   "execution_count": 110,
   "metadata": {
    "collapsed": false
   },
   "outputs": [
    {
     "data": {
      "text/html": [
       "<div>\n",
       "<table border=\"1\" class=\"dataframe\">\n",
       "  <thead>\n",
       "    <tr style=\"text-align: right;\">\n",
       "      <th></th>\n",
       "      <th>Reset</th>\n",
       "      <th>pause</th>\n",
       "      <th>Extra</th>\n",
       "      <th>Interface</th>\n",
       "      <th>Organize</th>\n",
       "      <th>Build</th>\n",
       "      <th>Test</th>\n",
       "      <th>Revise</th>\n",
       "    </tr>\n",
       "  </thead>\n",
       "  <tbody>\n",
       "    <tr>\n",
       "      <th>Reset</th>\n",
       "      <td>0.008929</td>\n",
       "      <td>0.006902</td>\n",
       "      <td>0.002519</td>\n",
       "      <td>0.008959</td>\n",
       "      <td>0.000000</td>\n",
       "      <td>0.003910</td>\n",
       "      <td>0.003115</td>\n",
       "      <td>0.001617</td>\n",
       "    </tr>\n",
       "    <tr>\n",
       "      <th>pause</th>\n",
       "      <td>0.526786</td>\n",
       "      <td>0.018405</td>\n",
       "      <td>0.030227</td>\n",
       "      <td>0.111647</td>\n",
       "      <td>0.031589</td>\n",
       "      <td>0.014372</td>\n",
       "      <td>0.034187</td>\n",
       "      <td>0.038804</td>\n",
       "    </tr>\n",
       "    <tr>\n",
       "      <th>Extra</th>\n",
       "      <td>0.026786</td>\n",
       "      <td>0.011503</td>\n",
       "      <td>0.503778</td>\n",
       "      <td>0.023432</td>\n",
       "      <td>0.009148</td>\n",
       "      <td>0.002853</td>\n",
       "      <td>0.001671</td>\n",
       "      <td>0.005174</td>\n",
       "    </tr>\n",
       "    <tr>\n",
       "      <th>Interface</th>\n",
       "      <td>0.026786</td>\n",
       "      <td>0.082055</td>\n",
       "      <td>0.148615</td>\n",
       "      <td>0.393522</td>\n",
       "      <td>0.011721</td>\n",
       "      <td>0.014583</td>\n",
       "      <td>0.027881</td>\n",
       "      <td>0.020049</td>\n",
       "    </tr>\n",
       "    <tr>\n",
       "      <th>Organize</th>\n",
       "      <td>0.116071</td>\n",
       "      <td>0.069785</td>\n",
       "      <td>0.148615</td>\n",
       "      <td>0.087526</td>\n",
       "      <td>0.310034</td>\n",
       "      <td>0.256050</td>\n",
       "      <td>0.018917</td>\n",
       "      <td>0.301536</td>\n",
       "    </tr>\n",
       "    <tr>\n",
       "      <th>Build</th>\n",
       "      <td>0.080357</td>\n",
       "      <td>0.065184</td>\n",
       "      <td>0.037783</td>\n",
       "      <td>0.043418</td>\n",
       "      <td>0.376501</td>\n",
       "      <td>0.598436</td>\n",
       "      <td>0.014358</td>\n",
       "      <td>0.130315</td>\n",
       "    </tr>\n",
       "    <tr>\n",
       "      <th>Test</th>\n",
       "      <td>0.116071</td>\n",
       "      <td>0.515337</td>\n",
       "      <td>0.035264</td>\n",
       "      <td>0.166092</td>\n",
       "      <td>0.060177</td>\n",
       "      <td>0.022297</td>\n",
       "      <td>0.842969</td>\n",
       "      <td>0.080032</td>\n",
       "    </tr>\n",
       "    <tr>\n",
       "      <th>Revise</th>\n",
       "      <td>0.098214</td>\n",
       "      <td>0.230828</td>\n",
       "      <td>0.093199</td>\n",
       "      <td>0.165403</td>\n",
       "      <td>0.200829</td>\n",
       "      <td>0.087499</td>\n",
       "      <td>0.056902</td>\n",
       "      <td>0.422474</td>\n",
       "    </tr>\n",
       "  </tbody>\n",
       "</table>\n",
       "</div>"
      ],
      "text/plain": [
       "              Reset     pause     Extra  Interface  Organize     Build  \\\n",
       "Reset      0.008929  0.006902  0.002519   0.008959  0.000000  0.003910   \n",
       "pause      0.526786  0.018405  0.030227   0.111647  0.031589  0.014372   \n",
       "Extra      0.026786  0.011503  0.503778   0.023432  0.009148  0.002853   \n",
       "Interface  0.026786  0.082055  0.148615   0.393522  0.011721  0.014583   \n",
       "Organize   0.116071  0.069785  0.148615   0.087526  0.310034  0.256050   \n",
       "Build      0.080357  0.065184  0.037783   0.043418  0.376501  0.598436   \n",
       "Test       0.116071  0.515337  0.035264   0.166092  0.060177  0.022297   \n",
       "Revise     0.098214  0.230828  0.093199   0.165403  0.200829  0.087499   \n",
       "\n",
       "               Test    Revise  \n",
       "Reset      0.003115  0.001617  \n",
       "pause      0.034187  0.038804  \n",
       "Extra      0.001671  0.005174  \n",
       "Interface  0.027881  0.020049  \n",
       "Organize   0.018917  0.301536  \n",
       "Build      0.014358  0.130315  \n",
       "Test       0.842969  0.080032  \n",
       "Revise     0.056902  0.422474  "
      ]
     },
     "execution_count": 110,
     "metadata": {},
     "output_type": "execute_result"
    }
   ],
   "source": [
    "families = actionTypes.keys()\n",
    "data = np.zeros((len(families),len(families)), dtype='float')\n",
    "data_blocks = np.zeros((len(families),len(families)), dtype='float')\n",
    "sequence = list(df2['Family'])\n",
    "def get_i(family): return families.index(family)\n",
    "for i,family in enumerate(sequence):\n",
    "    if i +1 < len(sequence):\n",
    "        data[get_i(family)][get_i(sequence[i+1])] += 1\n",
    "        if families.index(family) != families.index(sequence[i+1]):\n",
    "            data_blocks[get_i(family)][get_i(sequence[i+1])] += 1\n",
    "data = data / sum(data); data_blocks = data_blocks / sum(data_blocks)\n",
    "df_actions = pd.DataFrame(data);df_actions.columns = families;df_actions.index = families\n",
    "df_actions_blocks = pd.DataFrame(data_blocks);df_actions_blocks.columns = families;df_actions_blocks.index = families\n",
    "df_actions"
   ]
  },
  {
   "cell_type": "code",
   "execution_count": null,
   "metadata": {
    "collapsed": false
   },
   "outputs": [],
   "source": []
  },
  {
   "cell_type": "code",
   "execution_count": 111,
   "metadata": {
    "collapsed": false
   },
   "outputs": [
    {
     "data": {
      "image/png": "[encoded data removed]",
      "text/plain": [
       "<matplotlib.figure.Figure at 0xb6839e8>"
      ]
     },
     "metadata": {},
     "output_type": "display_data"
    }
   ],
   "source": [
    "fig, axs = plt.subplots(nrows=1,ncols=2,figsize=(16,8))\n",
    "ax = axs[0]\n",
    "heatmap = ax.pcolor(df_actions, cmap=plt.cm.Blues)\n",
    "ax.set_xticks(np.arange(data.shape[1])+0.5, minor=False)\n",
    "ax.set_yticks(np.arange(data.shape[0])+0.5, minor=False)\n",
    "ax.invert_yaxis()\n",
    "ax.xaxis.tick_top()\n",
    "ax.set_xticklabels(df_actions.columns, minor=False)\n",
    "ax.set_yticklabels(df_actions.index, minor=False)\n",
    "plt.text(0.5, 1.08, \"Paired events\",fontsize=15,horizontalalignment='center',transform = ax.transAxes)\n",
    "ax = axs[1]\n",
    "heatmap = ax.pcolor(df_actions_blocks, cmap=plt.cm.Blues)\n",
    "ax.set_xticks(np.arange(data.shape[1])+0.5, minor=False)\n",
    "ax.set_yticks(np.arange(data.shape[0])+0.5, minor=False)\n",
    "ax.invert_yaxis()\n",
    "ax.xaxis.tick_top()\n",
    "ax.set_xticklabels(df_actions_blocks.columns, minor=False)\n",
    "ax.set_yticklabels(df_actions_blocks.index, minor=False)\n",
    "plt.text(0.5, 1.08, \"Paired blocks of events\",fontsize=15,horizontalalignment='center',transform = ax.transAxes)\n",
    "plt.show()"
   ]
  },
  {
   "cell_type": "code",
   "execution_count": 112,
   "metadata": {
    "collapsed": false
   },
   "outputs": [
    {
     "data": {
      "text/plain": [
       "array([[ 0.,  0.,  0.,  0.],\n",
       "       [ 0.,  0.,  0.,  0.],\n",
       "       [ 0.,  0.,  0.,  0.],\n",
       "       [ 0.,  0.,  0.,  0.],\n",
       "       [ 0.,  0.,  0.,  0.],\n",
       "       [ 0.,  0.,  0.,  0.],\n",
       "       [ 0.,  0.,  0.,  0.],\n",
       "       [ 0.,  0.,  0.,  0.]])"
      ]
     },
     "execution_count": 112,
     "metadata": {},
     "output_type": "execute_result"
    }
   ],
   "source": [
    "times =  list(df2[df2['Student#']==10009106]['Time Stamp'])\n",
    "timeblocks = [times[x] for x in range(1,len(times)+2,len(times)/4)]\n",
    "timeblocks.pop(0)\n",
    "data_time = np.zeros((len(families),len(timeblocks)), dtype='float')\n",
    "def find_index(time):\n",
    "    i=0\n",
    "    while time >= timeblocks[i]:\n",
    "        i+=1\n",
    "        if i+1==len(timeblocks): break\n",
    "    return i\n",
    "\n",
    "for time,family in zip(times,sequence):\n",
    "    if i +1 < len(sequence):\n",
    "        if families.index(family) != families.index(sequence[i+1]):\n",
    "            data_time[families.index(family)][find_index(time)] += 1\n",
    "    \n",
    "data_time"
   ]
  },
  {
   "cell_type": "code",
   "execution_count": 113,
   "metadata": {
    "collapsed": false
   },
   "outputs": [
    {
     "data": {
      "image/png": "[encoded data removed]",
      "text/plain": [
       "<matplotlib.figure.Figure at 0xb5d77b8>"
      ]
     },
     "metadata": {},
     "output_type": "display_data"
    }
   ],
   "source": [
    "column_labels = families\n",
    "row_labels = [\"1st\",\"2nd\",\"3rd\",\"4th\"]\n",
    "fig, ax = plt.subplots()\n",
    "heatmap = ax.pcolor(data_time, cmap=plt.cm.Blues)\n",
    "\n",
    "# # put the major ticks at the middle of each cell\n",
    "ax.set_xticks(np.arange(data_time.shape[1])+0.5, minor=False)\n",
    "ax.set_yticks(np.arange(data_time.shape[0])+0.5, minor=False)\n",
    "\n",
    "#want a more natural, table-like display\n",
    "ax.invert_yaxis()\n",
    "ax.xaxis.tick_top()\n",
    "\n",
    "ax.set_xticklabels(row_labels, minor=False)\n",
    "ax.set_yticklabels(column_labels, minor=False)\n",
    "plt.show() "
   ]
  },
  {
   "cell_type": "markdown",
   "metadata": {},
   "source": [
    "Next tasks:\n",
    "1. collapse df to block of actions\n",
    "* redo plots\n",
    "* import survey and knowledge test data\n",
    "* create a dictionary with key = studentid, values =\n",
    "    * pre-test\n",
    "    * post-test\n",
    "    * pre-att\n",
    "    * post-att\n",
    "    * cluster\n",
    "* recreate above graphs splitting students by:\n",
    "    * cluster\n",
    "    * high knowledge - low knowledge\n",
    "    * high att - low att\n",
    "    * learning gains\n",
    "    * attitude gains (shifts up or down)\n",
    "    "
   ]
  },
  {
   "cell_type": "code",
   "execution_count": null,
   "metadata": {
    "collapsed": false
   },
   "outputs": [],
   "source": []
  },
  {
   "cell_type": "code",
   "execution_count": null,
   "metadata": {
    "collapsed": false
   },
   "outputs": [],
   "source": []
  },
  {
   "cell_type": "code",
   "execution_count": null,
   "metadata": {
    "collapsed": false
   },
   "outputs": [],
   "source": []
  },
  {
   "cell_type": "code",
   "execution_count": null,
   "metadata": {
    "collapsed": true
   },
   "outputs": [],
   "source": []
  }
 ],
 "metadata": {
  "kernelspec": {
   "display_name": "Python 2",
   "language": "python",
   "name": "python2"
  },
  "language_info": {
   "codemirror_mode": {
    "name": "ipython",
    "version": 2
   },
   "file_extension": ".py",
   "mimetype": "text/x-python",
   "name": "python",
   "nbconvert_exporter": "python",
   "pygments_lexer": "ipython2",
   "version": "2.7.11"
  }
 },
 "nbformat": 4,
 "nbformat_minor": 0
}
