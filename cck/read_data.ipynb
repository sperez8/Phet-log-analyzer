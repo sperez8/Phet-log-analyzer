{
 "cells": [
  {
   "cell_type": "code",
   "execution_count": 37,
   "metadata": {
    "collapsed": true
   },
   "outputs": [],
   "source": [
    "%matplotlib inline\n",
    "import numpy as np\n",
    "import pandas as pd\n",
    "import sys\n",
    "import getpass\n",
    "import matplotlib.pyplot as plt\n",
    "np.set_printoptions(precision=2)\n",
    "pd.set_option('precision', 2)"
   ]
  },
  {
   "cell_type": "markdown",
   "metadata": {},
   "source": [
    "## Reading in dataframe"
   ]
  },
  {
   "cell_type": "code",
   "execution_count": 2,
   "metadata": {
    "collapsed": false
   },
   "outputs": [],
   "source": [
    "df = pd.read_csv('C:\\Users\\\\'+getpass.getuser()+'\\\\Google Drive\\Sarah Ido folder\\data\\CCK\\CCK click stream data\\phet_cck_user_actions+sophistication_WITHPAUSE.csv')\n",
    "df[\"Student#\"] = df[\"Student#\"].astype('category')\n",
    "df[\"Family\"]=df[\"Family\"].str.capitalize()"
   ]
  },
  {
   "cell_type": "markdown",
   "metadata": {},
   "source": [
    "## Getting a sense of the data"
   ]
  },
  {
   "cell_type": "code",
   "execution_count": 3,
   "metadata": {
    "collapsed": false
   },
   "outputs": [
    {
     "data": {
      "text/plain": [
       "'There are 96 students with an average number of actions of: 537.94 actvity 1, 407.00 for actvity 2, 81.83 for actvity 3'"
      ]
     },
     "execution_count": 3,
     "metadata": {},
     "output_type": "execute_result"
    }
   ],
   "source": [
    "actions = [np.mean([  df[ (df['Student#']==student) & \n",
    "            (df['Activity']=='a'+str(activity)) ].shape[0] for student in set(df['Student#'])  ]) for activity in [1,2,3]]\n",
    "'''There are {0} students with an average number of actions of: {1:.2f} actvity 1, {2:.2f} for actvity 2, {3:.2f} for actvity 3'''.format(len(set(df['Student#'])), actions[0],actions[1],actions[2])"
   ]
  },
  {
   "cell_type": "code",
   "execution_count": 4,
   "metadata": {
    "collapsed": false
   },
   "outputs": [
    {
     "data": {
      "text/html": [
       "<div>\n",
       "<table border=\"1\" class=\"dataframe\">\n",
       "  <thead>\n",
       "    <tr style=\"text-align: right;\">\n",
       "      <th></th>\n",
       "      <th>Activity</th>\n",
       "      <th>Student#</th>\n",
       "      <th>Time Stamp</th>\n",
       "      <th>Family</th>\n",
       "      <th>Action</th>\n",
       "      <th>Component</th>\n",
       "      <th>Outcome</th>\n",
       "      <th>#circuits</th>\n",
       "      <th>#loops</th>\n",
       "      <th>#components</th>\n",
       "      <th>#battery</th>\n",
       "      <th>#circuitSwitch</th>\n",
       "      <th>#grabBagResistor</th>\n",
       "      <th>#lightBulb</th>\n",
       "      <th>#resistor</th>\n",
       "      <th>#seriesAmmeter</th>\n",
       "    </tr>\n",
       "  </thead>\n",
       "  <tbody>\n",
       "    <tr>\n",
       "      <th>0</th>\n",
       "      <td>a1</td>\n",
       "      <td>10009106</td>\n",
       "      <td>1363978501425</td>\n",
       "      <td>Build</td>\n",
       "      <td>add</td>\n",
       "      <td>lightBulb</td>\n",
       "      <td>None</td>\n",
       "      <td>NaN</td>\n",
       "      <td>NaN</td>\n",
       "      <td>NaN</td>\n",
       "      <td>NaN</td>\n",
       "      <td>NaN</td>\n",
       "      <td>NaN</td>\n",
       "      <td>NaN</td>\n",
       "      <td>NaN</td>\n",
       "      <td>NaN</td>\n",
       "    </tr>\n",
       "    <tr>\n",
       "      <th>1</th>\n",
       "      <td>a1</td>\n",
       "      <td>10009106</td>\n",
       "      <td>1363978503940</td>\n",
       "      <td>Organize</td>\n",
       "      <td>organizeWorkspace</td>\n",
       "      <td>junction</td>\n",
       "      <td>None</td>\n",
       "      <td>NaN</td>\n",
       "      <td>NaN</td>\n",
       "      <td>NaN</td>\n",
       "      <td>NaN</td>\n",
       "      <td>NaN</td>\n",
       "      <td>NaN</td>\n",
       "      <td>NaN</td>\n",
       "      <td>NaN</td>\n",
       "      <td>NaN</td>\n",
       "    </tr>\n",
       "    <tr>\n",
       "      <th>2</th>\n",
       "      <td>a1</td>\n",
       "      <td>10009106</td>\n",
       "      <td>1363978506034</td>\n",
       "      <td>Organize</td>\n",
       "      <td>organizeWorkspace</td>\n",
       "      <td>junction</td>\n",
       "      <td>None</td>\n",
       "      <td>NaN</td>\n",
       "      <td>NaN</td>\n",
       "      <td>NaN</td>\n",
       "      <td>NaN</td>\n",
       "      <td>NaN</td>\n",
       "      <td>NaN</td>\n",
       "      <td>NaN</td>\n",
       "      <td>NaN</td>\n",
       "      <td>NaN</td>\n",
       "    </tr>\n",
       "    <tr>\n",
       "      <th>3</th>\n",
       "      <td>a1</td>\n",
       "      <td>10009106</td>\n",
       "      <td>1363978508034</td>\n",
       "      <td>Organize</td>\n",
       "      <td>organizeWorkspace</td>\n",
       "      <td>junction</td>\n",
       "      <td>None</td>\n",
       "      <td>NaN</td>\n",
       "      <td>NaN</td>\n",
       "      <td>NaN</td>\n",
       "      <td>NaN</td>\n",
       "      <td>NaN</td>\n",
       "      <td>NaN</td>\n",
       "      <td>NaN</td>\n",
       "      <td>NaN</td>\n",
       "      <td>NaN</td>\n",
       "    </tr>\n",
       "    <tr>\n",
       "      <th>4</th>\n",
       "      <td>a1</td>\n",
       "      <td>10009106</td>\n",
       "      <td>1363978509800</td>\n",
       "      <td>Organize</td>\n",
       "      <td>organizeWorkspace</td>\n",
       "      <td>lightBulb</td>\n",
       "      <td>None</td>\n",
       "      <td>NaN</td>\n",
       "      <td>NaN</td>\n",
       "      <td>NaN</td>\n",
       "      <td>NaN</td>\n",
       "      <td>NaN</td>\n",
       "      <td>NaN</td>\n",
       "      <td>NaN</td>\n",
       "      <td>NaN</td>\n",
       "      <td>NaN</td>\n",
       "    </tr>\n",
       "  </tbody>\n",
       "</table>\n",
       "</div>"
      ],
      "text/plain": [
       "  Activity  Student#     Time Stamp    Family             Action  Component  \\\n",
       "0       a1  10009106  1363978501425     Build                add  lightBulb   \n",
       "1       a1  10009106  1363978503940  Organize  organizeWorkspace   junction   \n",
       "2       a1  10009106  1363978506034  Organize  organizeWorkspace   junction   \n",
       "3       a1  10009106  1363978508034  Organize  organizeWorkspace   junction   \n",
       "4       a1  10009106  1363978509800  Organize  organizeWorkspace  lightBulb   \n",
       "\n",
       "  Outcome  #circuits  #loops  #components  #battery  #circuitSwitch  \\\n",
       "0    None        NaN     NaN          NaN       NaN             NaN   \n",
       "1    None        NaN     NaN          NaN       NaN             NaN   \n",
       "2    None        NaN     NaN          NaN       NaN             NaN   \n",
       "3    None        NaN     NaN          NaN       NaN             NaN   \n",
       "4    None        NaN     NaN          NaN       NaN             NaN   \n",
       "\n",
       "   #grabBagResistor  #lightBulb  #resistor  #seriesAmmeter  \n",
       "0               NaN         NaN        NaN             NaN  \n",
       "1               NaN         NaN        NaN             NaN  \n",
       "2               NaN         NaN        NaN             NaN  \n",
       "3               NaN         NaN        NaN             NaN  \n",
       "4               NaN         NaN        NaN             NaN  "
      ]
     },
     "execution_count": 4,
     "metadata": {},
     "output_type": "execute_result"
    }
   ],
   "source": [
    "df.head()"
   ]
  },
  {
   "cell_type": "markdown",
   "metadata": {},
   "source": [
    "## Let's look at sequence of action types for Activity 2\n",
    "For each student we want to find the number of transitions from one type of actions to another"
   ]
  },
  {
   "cell_type": "code",
   "execution_count": 5,
   "metadata": {
    "collapsed": false
   },
   "outputs": [
    {
     "name": "stdout",
     "output_type": "stream",
     "text": [
      "The following are the possible actions grouped by family:\n",
      "\n",
      "Reset:\t reset\n",
      "Pause:\t pause\n",
      "Extra:\t moreVoltsOption,join,remove,changeResistance,sliderEndDrag,add,organizeWorkspace,joinX\n",
      "Test:\t startMeasure,playPause,traceMeasure,endMeasure\n",
      "Organize:\t organizeWorkspace\n",
      "Build:\t join,reverse,switch,changeResistance,sliderEndDrag,add,changeVoltage,joinX\n",
      "Interface:\t deiconified,help,iconified,exitSim,enableComponent,disableComponent,view\n",
      "Revise:\t join,reverse,switch,remove,changeResistance,sliderEndDrag,add,split,changeVoltage,joinX\n"
     ]
    }
   ],
   "source": [
    "df2 = df[df['Activity']==\"a2\"]\n",
    "print \"The following are the possible actions grouped by family:\\n\"\n",
    "actionTypes = {}\n",
    "for family in set(df2['Family']):\n",
    "    actionTypes[family] = list(set(df2[df2['Family']==family]['Action']))\n",
    "    print '{0}:\\t {1}'.format(family,','.join(list(set(df2[df2['Family']==family]['Action']))))"
   ]
  },
  {
   "cell_type": "markdown",
   "metadata": {},
   "source": [
    "First, we find what actions students are doing in consecutively. We count the number of succesive actions for each pair and normalize by the number of times the first action is done in total."
   ]
  },
  {
   "cell_type": "code",
   "execution_count": 38,
   "metadata": {
    "collapsed": false
   },
   "outputs": [
    {
     "data": {
      "text/html": [
       "<div>\n",
       "<table border=\"1\" class=\"dataframe\">\n",
       "  <thead>\n",
       "    <tr style=\"text-align: right;\">\n",
       "      <th></th>\n",
       "      <th>Reset</th>\n",
       "      <th>Pause</th>\n",
       "      <th>Extra</th>\n",
       "      <th>Interface</th>\n",
       "      <th>Organize</th>\n",
       "      <th>Build</th>\n",
       "      <th>Test</th>\n",
       "      <th>Revise</th>\n",
       "    </tr>\n",
       "  </thead>\n",
       "  <tbody>\n",
       "    <tr>\n",
       "      <th>Reset</th>\n",
       "      <td>8.93e-03</td>\n",
       "      <td>6.90e-03</td>\n",
       "      <td>2.52e-03</td>\n",
       "      <td>8.96e-03</td>\n",
       "      <td>0.00e+00</td>\n",
       "      <td>3.91e-03</td>\n",
       "      <td>3.11e-03</td>\n",
       "      <td>1.62e-03</td>\n",
       "    </tr>\n",
       "    <tr>\n",
       "      <th>Pause</th>\n",
       "      <td>5.27e-01</td>\n",
       "      <td>1.84e-02</td>\n",
       "      <td>3.02e-02</td>\n",
       "      <td>1.12e-01</td>\n",
       "      <td>3.16e-02</td>\n",
       "      <td>1.44e-02</td>\n",
       "      <td>3.42e-02</td>\n",
       "      <td>3.88e-02</td>\n",
       "    </tr>\n",
       "    <tr>\n",
       "      <th>Extra</th>\n",
       "      <td>2.68e-02</td>\n",
       "      <td>1.15e-02</td>\n",
       "      <td>5.04e-01</td>\n",
       "      <td>2.34e-02</td>\n",
       "      <td>9.15e-03</td>\n",
       "      <td>2.85e-03</td>\n",
       "      <td>1.67e-03</td>\n",
       "      <td>5.17e-03</td>\n",
       "    </tr>\n",
       "    <tr>\n",
       "      <th>Interface</th>\n",
       "      <td>2.68e-02</td>\n",
       "      <td>8.21e-02</td>\n",
       "      <td>1.49e-01</td>\n",
       "      <td>3.94e-01</td>\n",
       "      <td>1.17e-02</td>\n",
       "      <td>1.46e-02</td>\n",
       "      <td>2.79e-02</td>\n",
       "      <td>2.00e-02</td>\n",
       "    </tr>\n",
       "    <tr>\n",
       "      <th>Organize</th>\n",
       "      <td>1.16e-01</td>\n",
       "      <td>6.98e-02</td>\n",
       "      <td>1.49e-01</td>\n",
       "      <td>8.75e-02</td>\n",
       "      <td>3.10e-01</td>\n",
       "      <td>2.56e-01</td>\n",
       "      <td>1.89e-02</td>\n",
       "      <td>3.02e-01</td>\n",
       "    </tr>\n",
       "    <tr>\n",
       "      <th>Build</th>\n",
       "      <td>8.04e-02</td>\n",
       "      <td>6.52e-02</td>\n",
       "      <td>3.78e-02</td>\n",
       "      <td>4.34e-02</td>\n",
       "      <td>3.77e-01</td>\n",
       "      <td>5.98e-01</td>\n",
       "      <td>1.44e-02</td>\n",
       "      <td>1.30e-01</td>\n",
       "    </tr>\n",
       "    <tr>\n",
       "      <th>Test</th>\n",
       "      <td>1.16e-01</td>\n",
       "      <td>5.15e-01</td>\n",
       "      <td>3.53e-02</td>\n",
       "      <td>1.66e-01</td>\n",
       "      <td>6.02e-02</td>\n",
       "      <td>2.23e-02</td>\n",
       "      <td>8.43e-01</td>\n",
       "      <td>8.00e-02</td>\n",
       "    </tr>\n",
       "    <tr>\n",
       "      <th>Revise</th>\n",
       "      <td>9.82e-02</td>\n",
       "      <td>2.31e-01</td>\n",
       "      <td>9.32e-02</td>\n",
       "      <td>1.65e-01</td>\n",
       "      <td>2.01e-01</td>\n",
       "      <td>8.75e-02</td>\n",
       "      <td>5.69e-02</td>\n",
       "      <td>4.22e-01</td>\n",
       "    </tr>\n",
       "  </tbody>\n",
       "</table>\n",
       "</div>"
      ],
      "text/plain": [
       "              Reset     Pause     Extra  Interface  Organize     Build  \\\n",
       "Reset      8.93e-03  6.90e-03  2.52e-03   8.96e-03  0.00e+00  3.91e-03   \n",
       "Pause      5.27e-01  1.84e-02  3.02e-02   1.12e-01  3.16e-02  1.44e-02   \n",
       "Extra      2.68e-02  1.15e-02  5.04e-01   2.34e-02  9.15e-03  2.85e-03   \n",
       "Interface  2.68e-02  8.21e-02  1.49e-01   3.94e-01  1.17e-02  1.46e-02   \n",
       "Organize   1.16e-01  6.98e-02  1.49e-01   8.75e-02  3.10e-01  2.56e-01   \n",
       "Build      8.04e-02  6.52e-02  3.78e-02   4.34e-02  3.77e-01  5.98e-01   \n",
       "Test       1.16e-01  5.15e-01  3.53e-02   1.66e-01  6.02e-02  2.23e-02   \n",
       "Revise     9.82e-02  2.31e-01  9.32e-02   1.65e-01  2.01e-01  8.75e-02   \n",
       "\n",
       "               Test    Revise  \n",
       "Reset      3.11e-03  1.62e-03  \n",
       "Pause      3.42e-02  3.88e-02  \n",
       "Extra      1.67e-03  5.17e-03  \n",
       "Interface  2.79e-02  2.00e-02  \n",
       "Organize   1.89e-02  3.02e-01  \n",
       "Build      1.44e-02  1.30e-01  \n",
       "Test       8.43e-01  8.00e-02  \n",
       "Revise     5.69e-02  4.22e-01  "
      ]
     },
     "execution_count": 38,
     "metadata": {},
     "output_type": "execute_result"
    }
   ],
   "source": [
    "families = actionTypes.keys()\n",
    "data = np.zeros((len(families),len(families)), dtype='float')\n",
    "data_blocks = np.zeros((len(families),len(families)), dtype='float')\n",
    "sequence = list(df2['Family'])\n",
    "def get_i(family): return families.index(family)\n",
    "for i,family in enumerate(sequence):\n",
    "    if i +1 < len(sequence):\n",
    "        data[get_i(family)][get_i(sequence[i+1])] += 1\n",
    "        if families.index(family) != families.index(sequence[i+1]):\n",
    "            data_blocks[get_i(family)][get_i(sequence[i+1])] += 1\n",
    "data = data / sum(data); data_blocks = data_blocks / sum(data_blocks)\n",
    "df_actions = pd.DataFrame(data);df_actions.columns = families;df_actions.index = families\n",
    "df_actions_blocks = pd.DataFrame(data_blocks);df_actions_blocks.columns = families;df_actions_blocks.index = families\n",
    "df_actions"
   ]
  },
  {
   "cell_type": "code",
   "execution_count": null,
   "metadata": {
    "collapsed": false
   },
   "outputs": [],
   "source": []
  },
  {
   "cell_type": "code",
   "execution_count": 29,
   "metadata": {
    "collapsed": false
   },
   "outputs": [
    {
     "data": {
      "image/png": "[encoded data removed]",
      "text/plain": [
       "<matplotlib.figure.Figure at 0xb607710>"
      ]
     },
     "metadata": {},
     "output_type": "display_data"
    }
   ],
   "source": [
    "fig, axs = plt.subplots(nrows=1,ncols=2,figsize=(16,8))\n",
    "ax = axs[0]\n",
    "heatmap = ax.pcolor(df_actions, cmap=plt.cm.Blues)\n",
    "ax.set_xticks(np.arange(data.shape[1])+0.5, minor=False)\n",
    "ax.set_yticks(np.arange(data.shape[0])+0.5, minor=False)\n",
    "ax.invert_yaxis()\n",
    "ax.xaxis.tick_top()\n",
    "ax.set_xticklabels(df_actions.columns, minor=False)\n",
    "ax.set_yticklabels(df_actions.index, minor=False)\n",
    "plt.text(0.5, 1.08, \"Paired events\",fontsize=15,horizontalalignment='center',transform = ax.transAxes)\n",
    "ax = axs[1]\n",
    "heatmap = ax.pcolor(df_actions_blocks, cmap=plt.cm.Blues)\n",
    "ax.set_xticks(np.arange(data.shape[1])+0.5, minor=False)\n",
    "ax.set_yticks(np.arange(data.shape[0])+0.5, minor=False)\n",
    "ax.invert_yaxis()\n",
    "ax.xaxis.tick_top()\n",
    "ax.set_xticklabels(df_actions_blocks.columns, minor=False)\n",
    "ax.set_yticklabels(df_actions_blocks.index, minor=False)\n",
    "plt.text(0.5, 1.08, \"Paired blocks of events\",fontsize=15,horizontalalignment='center',transform = ax.transAxes)\n",
    "plt.show()"
   ]
  },
  {
   "cell_type": "code",
   "execution_count": null,
   "metadata": {
    "collapsed": false
   },
   "outputs": [],
   "source": []
  },
  {
   "cell_type": "code",
   "execution_count": null,
   "metadata": {
    "collapsed": true
   },
   "outputs": [],
   "source": []
  }
 ],
 "metadata": {
  "kernelspec": {
   "display_name": "Python 2",
   "language": "python",
   "name": "python2"
  },
  "language_info": {
   "codemirror_mode": {
    "name": "ipython",
    "version": 2
   },
   "file_extension": ".py",
   "mimetype": "text/x-python",
   "name": "python",
   "nbconvert_exporter": "python",
   "pygments_lexer": "ipython2",
   "version": "2.7.11"
  }
 },
 "nbformat": 4,
 "nbformat_minor": 0
}
