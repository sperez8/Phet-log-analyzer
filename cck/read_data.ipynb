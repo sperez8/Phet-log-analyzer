{
 "cells": [
  {
   "cell_type": "code",
   "execution_count": 27,
   "metadata": {
    "collapsed": false
   },
   "outputs": [],
   "source": [
    "%matplotlib inline\n",
    "import numpy as np\n",
    "import pandas as pd\n",
    "import sys\n",
    "import getpass\n",
    "import matplotlib.pyplot as plt\n",
    "np.set_printoptions(precision=2)\n",
    "pd.set_option('precision', 2)"
   ]
  },
  {
   "cell_type": "markdown",
   "metadata": {},
   "source": [
    "## Reading in dataframe\n",
    "and fixing students that don't behave properly\n",
    "and anonymizing data to save as csv"
   ]
  },
  {
   "cell_type": "code",
   "execution_count": 28,
   "metadata": {
    "collapsed": false
   },
   "outputs": [],
   "source": [
    "df = pd.read_csv('C:\\Users\\\\'+getpass.getuser()+'\\\\Google Drive\\Sarah Ido folder\\data\\CCK\\MATCHING_phet_cck_user_actions+sophistication_WITHPAUSE_anonymized.txt')\n",
    "df_scores = pd.read_csv('C:\\Users\\\\'+getpass.getuser()+'\\\\Google Drive\\Sarah Ido folder\\data\\CCK\\MATCHING_phet_cck_user_data_anonymized.txt')\n",
    "df[\"student\"] = df[\"student\"].astype('category')\n",
    "df[\"Family\"]=df[\"Family\"].str.capitalize()"
   ]
  },
  {
   "cell_type": "markdown",
   "metadata": {},
   "source": [
    "## Getting a sense of the data"
   ]
  },
  {
   "cell_type": "code",
   "execution_count": 29,
   "metadata": {
    "collapsed": false,
    "scrolled": true
   },
   "outputs": [
    {
     "data": {
      "text/plain": [
       "'There are 96 students with an average number of actions of: 537.94 activity 1, 407.00 for activity 2, 81.83 for activity 3'"
      ]
     },
     "execution_count": 29,
     "metadata": {},
     "output_type": "execute_result"
    }
   ],
   "source": [
    "actions = [np.mean([  df[ (df['student']==student) & \n",
    "            (df['Activity']=='a'+str(activity)) ].shape[0] for student in set(df['student'])  ]) for activity in [1,2,3]]\n",
    "'''There are {0} students with an average number of actions of: {1:.2f} activity 1, {2:.2f} for activity 2, {3:.2f} for activity 3'''.format(len(set(df['student'])), actions[0],actions[1],actions[2])"
   ]
  },
  {
   "cell_type": "code",
   "execution_count": 30,
   "metadata": {
    "collapsed": false
   },
   "outputs": [
    {
     "data": {
      "text/plain": [
       "\"There are 8 different families of actions set(['Reset', 'Pause', 'Extra', 'Test', 'Organize', 'Build', 'Interface', 'Revise'])\""
      ]
     },
     "execution_count": 30,
     "metadata": {},
     "output_type": "execute_result"
    }
   ],
   "source": [
    "'''There are {0} different families of actions {1}'''.format(len(set(df['Family'])),set(df['Family']))"
   ]
  },
  {
   "cell_type": "code",
   "execution_count": 31,
   "metadata": {
    "collapsed": false
   },
   "outputs": [
    {
     "data": {
      "text/plain": [
       "\"There are 25 different actions:set(['moreVoltsOption', 'deiconified', 'help', 'enableComponent', 'startMeasure', 'pause', 'add', 'split', 'organizeWorkspace', 'disableComponent', 'playPause', 'exitSim', 'changeResistance', 'sliderEndDrag', 'changeVoltage', 'reset', 'join', 'reverse', 'iconified', 'remove', 'switch', 'traceMeasure', 'endMeasure', 'joinX', 'view'])\""
      ]
     },
     "execution_count": 31,
     "metadata": {},
     "output_type": "execute_result"
    }
   ],
   "source": [
    "'''There are {0} different actions:{1}'''.format(len(set(df['Action'])),set(df['Action']))"
   ]
  },
  {
   "cell_type": "code",
   "execution_count": 32,
   "metadata": {
    "collapsed": false
   },
   "outputs": [
    {
     "data": {
      "text/html": [
       "<div>\n",
       "<table border=\"1\" class=\"dataframe\">\n",
       "  <thead>\n",
       "    <tr style=\"text-align: right;\">\n",
       "      <th></th>\n",
       "      <th>Activity</th>\n",
       "      <th>Time Stamp</th>\n",
       "      <th>Family</th>\n",
       "      <th>Action</th>\n",
       "      <th>Component</th>\n",
       "      <th>Outcome</th>\n",
       "      <th>#circuits</th>\n",
       "      <th>#loops</th>\n",
       "      <th>#components</th>\n",
       "      <th>#battery</th>\n",
       "      <th>#circuitSwitch</th>\n",
       "      <th>#grabBagResistor</th>\n",
       "      <th>#lightBulb</th>\n",
       "      <th>#resistor</th>\n",
       "      <th>#seriesAmmeter</th>\n",
       "      <th>student</th>\n",
       "      <th>Anon Student Id</th>\n",
       "    </tr>\n",
       "  </thead>\n",
       "  <tbody>\n",
       "    <tr>\n",
       "      <th>0</th>\n",
       "      <td>a1</td>\n",
       "      <td>1363978501425</td>\n",
       "      <td>Build</td>\n",
       "      <td>add</td>\n",
       "      <td>lightBulb</td>\n",
       "      <td>None</td>\n",
       "      <td>NaN</td>\n",
       "      <td>NaN</td>\n",
       "      <td>NaN</td>\n",
       "      <td>NaN</td>\n",
       "      <td>NaN</td>\n",
       "      <td>NaN</td>\n",
       "      <td>NaN</td>\n",
       "      <td>NaN</td>\n",
       "      <td>NaN</td>\n",
       "      <td>10009106</td>\n",
       "      <td>986526943</td>\n",
       "    </tr>\n",
       "    <tr>\n",
       "      <th>1</th>\n",
       "      <td>a1</td>\n",
       "      <td>1363978503940</td>\n",
       "      <td>Organize</td>\n",
       "      <td>organizeWorkspace</td>\n",
       "      <td>junction</td>\n",
       "      <td>None</td>\n",
       "      <td>NaN</td>\n",
       "      <td>NaN</td>\n",
       "      <td>NaN</td>\n",
       "      <td>NaN</td>\n",
       "      <td>NaN</td>\n",
       "      <td>NaN</td>\n",
       "      <td>NaN</td>\n",
       "      <td>NaN</td>\n",
       "      <td>NaN</td>\n",
       "      <td>10009106</td>\n",
       "      <td>986526943</td>\n",
       "    </tr>\n",
       "    <tr>\n",
       "      <th>2</th>\n",
       "      <td>a1</td>\n",
       "      <td>1363978506034</td>\n",
       "      <td>Organize</td>\n",
       "      <td>organizeWorkspace</td>\n",
       "      <td>junction</td>\n",
       "      <td>None</td>\n",
       "      <td>NaN</td>\n",
       "      <td>NaN</td>\n",
       "      <td>NaN</td>\n",
       "      <td>NaN</td>\n",
       "      <td>NaN</td>\n",
       "      <td>NaN</td>\n",
       "      <td>NaN</td>\n",
       "      <td>NaN</td>\n",
       "      <td>NaN</td>\n",
       "      <td>10009106</td>\n",
       "      <td>986526943</td>\n",
       "    </tr>\n",
       "    <tr>\n",
       "      <th>3</th>\n",
       "      <td>a1</td>\n",
       "      <td>1363978508034</td>\n",
       "      <td>Organize</td>\n",
       "      <td>organizeWorkspace</td>\n",
       "      <td>junction</td>\n",
       "      <td>None</td>\n",
       "      <td>NaN</td>\n",
       "      <td>NaN</td>\n",
       "      <td>NaN</td>\n",
       "      <td>NaN</td>\n",
       "      <td>NaN</td>\n",
       "      <td>NaN</td>\n",
       "      <td>NaN</td>\n",
       "      <td>NaN</td>\n",
       "      <td>NaN</td>\n",
       "      <td>10009106</td>\n",
       "      <td>986526943</td>\n",
       "    </tr>\n",
       "    <tr>\n",
       "      <th>4</th>\n",
       "      <td>a1</td>\n",
       "      <td>1363978509800</td>\n",
       "      <td>Organize</td>\n",
       "      <td>organizeWorkspace</td>\n",
       "      <td>lightBulb</td>\n",
       "      <td>None</td>\n",
       "      <td>NaN</td>\n",
       "      <td>NaN</td>\n",
       "      <td>NaN</td>\n",
       "      <td>NaN</td>\n",
       "      <td>NaN</td>\n",
       "      <td>NaN</td>\n",
       "      <td>NaN</td>\n",
       "      <td>NaN</td>\n",
       "      <td>NaN</td>\n",
       "      <td>10009106</td>\n",
       "      <td>986526943</td>\n",
       "    </tr>\n",
       "  </tbody>\n",
       "</table>\n",
       "</div>"
      ],
      "text/plain": [
       "  Activity     Time Stamp    Family             Action  Component Outcome  \\\n",
       "0       a1  1363978501425     Build                add  lightBulb    None   \n",
       "1       a1  1363978503940  Organize  organizeWorkspace   junction    None   \n",
       "2       a1  1363978506034  Organize  organizeWorkspace   junction    None   \n",
       "3       a1  1363978508034  Organize  organizeWorkspace   junction    None   \n",
       "4       a1  1363978509800  Organize  organizeWorkspace  lightBulb    None   \n",
       "\n",
       "   #circuits  #loops  #components  #battery  #circuitSwitch  #grabBagResistor  \\\n",
       "0        NaN     NaN          NaN       NaN             NaN               NaN   \n",
       "1        NaN     NaN          NaN       NaN             NaN               NaN   \n",
       "2        NaN     NaN          NaN       NaN             NaN               NaN   \n",
       "3        NaN     NaN          NaN       NaN             NaN               NaN   \n",
       "4        NaN     NaN          NaN       NaN             NaN               NaN   \n",
       "\n",
       "   #lightBulb  #resistor  #seriesAmmeter   student  Anon Student Id  \n",
       "0         NaN        NaN             NaN  10009106        986526943  \n",
       "1         NaN        NaN             NaN  10009106        986526943  \n",
       "2         NaN        NaN             NaN  10009106        986526943  \n",
       "3         NaN        NaN             NaN  10009106        986526943  \n",
       "4         NaN        NaN             NaN  10009106        986526943  "
      ]
     },
     "execution_count": 32,
     "metadata": {},
     "output_type": "execute_result"
    }
   ],
   "source": [
    "df.head()"
   ]
  },
  {
   "cell_type": "code",
   "execution_count": 33,
   "metadata": {
    "collapsed": false
   },
   "outputs": [
    {
     "data": {
      "text/html": [
       "<div>\n",
       "<table border=\"1\" class=\"dataframe\">\n",
       "  <thead>\n",
       "    <tr style=\"text-align: right;\">\n",
       "      <th></th>\n",
       "      <th>Wave</th>\n",
       "      <th>scaffolding</th>\n",
       "      <th>how many PhETs in the past?</th>\n",
       "      <th>how comfortable with phets?</th>\n",
       "      <th>p100</th>\n",
       "      <th>used this circuit sim before?</th>\n",
       "      <th>COMPLETEDNESS</th>\n",
       "      <th>PRIORKNOWLEDGE</th>\n",
       "      <th>COMPLEXITY</th>\n",
       "      <th>DIAGRAMS</th>\n",
       "      <th>...</th>\n",
       "      <th>z post t2</th>\n",
       "      <th>T0_PoCC</th>\n",
       "      <th>T1_PoCC</th>\n",
       "      <th>T2_PoCC</th>\n",
       "      <th>Avg_Mast_Or</th>\n",
       "      <th>Perceived Value</th>\n",
       "      <th>Clustergroups</th>\n",
       "      <th>fourgroups</th>\n",
       "      <th>student</th>\n",
       "      <th>Anon Student Id</th>\n",
       "    </tr>\n",
       "  </thead>\n",
       "  <tbody>\n",
       "    <tr>\n",
       "      <th>0</th>\n",
       "      <td>March</td>\n",
       "      <td>scaff</td>\n",
       "      <td>2</td>\n",
       "      <td>2</td>\n",
       "      <td>0</td>\n",
       "      <td>0</td>\n",
       "      <td>1</td>\n",
       "      <td>1</td>\n",
       "      <td>1</td>\n",
       "      <td>0</td>\n",
       "      <td>...</td>\n",
       "      <td>0.33</td>\n",
       "      <td>2.67</td>\n",
       "      <td>2.78</td>\n",
       "      <td>2.67</td>\n",
       "      <td>4.0</td>\n",
       "      <td>3.50</td>\n",
       "      <td>attitude</td>\n",
       "      <td>scaffolded_attitude</td>\n",
       "      <td>1075123</td>\n",
       "      <td>1920143974</td>\n",
       "    </tr>\n",
       "    <tr>\n",
       "      <th>1</th>\n",
       "      <td>March</td>\n",
       "      <td>scaff</td>\n",
       "      <td>2</td>\n",
       "      <td>3</td>\n",
       "      <td>0</td>\n",
       "      <td>0</td>\n",
       "      <td>1</td>\n",
       "      <td>0</td>\n",
       "      <td>1</td>\n",
       "      <td>1</td>\n",
       "      <td>...</td>\n",
       "      <td>-0.12</td>\n",
       "      <td>2.44</td>\n",
       "      <td>3.11</td>\n",
       "      <td>3.33</td>\n",
       "      <td>4.5</td>\n",
       "      <td>3.25</td>\n",
       "      <td>attitude</td>\n",
       "      <td>scaffolded_attitude</td>\n",
       "      <td>3591123</td>\n",
       "      <td>-714775387</td>\n",
       "    </tr>\n",
       "    <tr>\n",
       "      <th>2</th>\n",
       "      <td>March</td>\n",
       "      <td>not</td>\n",
       "      <td>2</td>\n",
       "      <td>3</td>\n",
       "      <td>0</td>\n",
       "      <td>0</td>\n",
       "      <td>1</td>\n",
       "      <td>1</td>\n",
       "      <td>1</td>\n",
       "      <td>2</td>\n",
       "      <td>...</td>\n",
       "      <td>-0.72</td>\n",
       "      <td>2.22</td>\n",
       "      <td>2.78</td>\n",
       "      <td>2.44</td>\n",
       "      <td>3.5</td>\n",
       "      <td>3.00</td>\n",
       "      <td>attitude</td>\n",
       "      <td>notscaffolded_attitude</td>\n",
       "      <td>3932129</td>\n",
       "      <td>1194576952</td>\n",
       "    </tr>\n",
       "    <tr>\n",
       "      <th>3</th>\n",
       "      <td>March</td>\n",
       "      <td>scaff</td>\n",
       "      <td>2</td>\n",
       "      <td>3</td>\n",
       "      <td>1</td>\n",
       "      <td>1</td>\n",
       "      <td>1</td>\n",
       "      <td>1</td>\n",
       "      <td>1</td>\n",
       "      <td>2</td>\n",
       "      <td>...</td>\n",
       "      <td>-1.18</td>\n",
       "      <td>3.00</td>\n",
       "      <td>3.22</td>\n",
       "      <td>3.11</td>\n",
       "      <td>4.5</td>\n",
       "      <td>3.00</td>\n",
       "      <td>attitude</td>\n",
       "      <td>scaffolded_attitude</td>\n",
       "      <td>4762120</td>\n",
       "      <td>-450686147</td>\n",
       "    </tr>\n",
       "    <tr>\n",
       "      <th>4</th>\n",
       "      <td>July</td>\n",
       "      <td>not</td>\n",
       "      <td>1</td>\n",
       "      <td>2</td>\n",
       "      <td>1</td>\n",
       "      <td>0</td>\n",
       "      <td>1</td>\n",
       "      <td>0</td>\n",
       "      <td>1</td>\n",
       "      <td>0</td>\n",
       "      <td>...</td>\n",
       "      <td>-0.18</td>\n",
       "      <td>2.67</td>\n",
       "      <td>3.22</td>\n",
       "      <td>2.78</td>\n",
       "      <td>5.0</td>\n",
       "      <td>3.00</td>\n",
       "      <td>knowledge</td>\n",
       "      <td>notscaffolded_knowledge</td>\n",
       "      <td>4936123</td>\n",
       "      <td>-901793583</td>\n",
       "    </tr>\n",
       "  </tbody>\n",
       "</table>\n",
       "<p>5 rows × 28 columns</p>\n",
       "</div>"
      ],
      "text/plain": [
       "    Wave scaffolding  how many PhETs in the past?  \\\n",
       "0  March       scaff                            2   \n",
       "1  March       scaff                            2   \n",
       "2  March         not                            2   \n",
       "3  March       scaff                            2   \n",
       "4   July         not                            1   \n",
       "\n",
       "   how comfortable with phets?  p100  used this circuit sim before?  \\\n",
       "0                            2     0                              0   \n",
       "1                            3     0                              0   \n",
       "2                            3     0                              0   \n",
       "3                            3     1                              1   \n",
       "4                            2     1                              0   \n",
       "\n",
       "   COMPLETEDNESS  PRIORKNOWLEDGE  COMPLEXITY  DIAGRAMS       ...         \\\n",
       "0              1               1           1         0       ...          \n",
       "1              1               0           1         1       ...          \n",
       "2              1               1           1         2       ...          \n",
       "3              1               1           1         2       ...          \n",
       "4              1               0           1         0       ...          \n",
       "\n",
       "   z post t2  T0_PoCC  T1_PoCC  T2_PoCC  Avg_Mast_Or  Perceived Value   \\\n",
       "0       0.33     2.67     2.78     2.67          4.0              3.50   \n",
       "1      -0.12     2.44     3.11     3.33          4.5              3.25   \n",
       "2      -0.72     2.22     2.78     2.44          3.5              3.00   \n",
       "3      -1.18     3.00     3.22     3.11          4.5              3.00   \n",
       "4      -0.18     2.67     3.22     2.78          5.0              3.00   \n",
       "\n",
       "   Clustergroups               fourgroups  student  Anon Student Id  \n",
       "0       attitude      scaffolded_attitude  1075123       1920143974  \n",
       "1       attitude      scaffolded_attitude  3591123       -714775387  \n",
       "2       attitude   notscaffolded_attitude  3932129       1194576952  \n",
       "3       attitude      scaffolded_attitude  4762120       -450686147  \n",
       "4      knowledge  notscaffolded_knowledge  4936123       -901793583  \n",
       "\n",
       "[5 rows x 28 columns]"
      ]
     },
     "execution_count": 33,
     "metadata": {},
     "output_type": "execute_result"
    }
   ],
   "source": [
    "df_scores.head()"
   ]
  },
  {
   "cell_type": "markdown",
   "metadata": {},
   "source": [
    "Next we check that we indeed have data for students in both tables. And of course we don't... so we remove those students."
   ]
  },
  {
   "cell_type": "markdown",
   "metadata": {},
   "source": [
    "## Let's look at sequence of action types for Activity 2\n",
    "For each student we want to find the number of transitions from one type of actions to another"
   ]
  },
  {
   "cell_type": "code",
   "execution_count": 39,
   "metadata": {
    "collapsed": false
   },
   "outputs": [
    {
     "name": "stdout",
     "output_type": "stream",
     "text": [
      "The following are the possible actions grouped by family:\n",
      "\n",
      "Reset:\t reset\n",
      "Pause:\t pause\n",
      "Extra:\t moreVoltsOption, join, remove, changeResistance, sliderEndDrag, add, organizeWorkspace, joinX\n",
      "Test:\t startMeasure, playPause, traceMeasure, endMeasure\n",
      "Organize:\t organizeWorkspace\n",
      "Build:\t join, reverse, switch, changeResistance, sliderEndDrag, add, changeVoltage, joinX\n",
      "Interface:\t deiconified, help, iconified, exitSim, enableComponent, disableComponent, view\n",
      "Revise:\t join, reverse, switch, remove, changeResistance, sliderEndDrag, add, split, changeVoltage, joinX\n"
     ]
    }
   ],
   "source": [
    "df2 = df[df['Activity']==\"a2\"]\n",
    "print \"The following are the possible actions grouped by family:\\n\"\n",
    "actionTypes = {}\n",
    "for family in set(df2['Family']):\n",
    "    actionTypes[family] = list(set(df2[df2['Family']==family]['Action']))\n",
    "    print '{0}:\\t {1}'.format(family,', '.join(list(set(df2[df2['Family']==family]['Action']))))"
   ]
  },
  {
   "cell_type": "markdown",
   "metadata": {},
   "source": [
    "Now I am going to define some functions to help us plot action pairs."
   ]
  },
  {
   "cell_type": "code",
   "execution_count": 40,
   "metadata": {
    "collapsed": false
   },
   "outputs": [],
   "source": [
    "families = ['Start']\n",
    "families.extend(actionTypes.keys())\n",
    "#get sequence by student\n",
    "def get_sequence(students):\n",
    "    '''gets sequence data for a list of students'''\n",
    "    sequences = {student:['Start'] for student in students}\n",
    "    for student in students:\n",
    "        for action in df2[df2['student']==student]['Family']:\n",
    "            sequences[student].append(action)   \n",
    "    return sequences\n",
    "\n",
    "def get_students(attribute=None, level=None):\n",
    "    '''gets id of students given an attribute'''\n",
    "    students = []\n",
    "    if attribute:\n",
    "        students =  set(df_scores[df_scores[attribute]==level]['student'])\n",
    "    else:\n",
    "        students = set(df_scores['student'])\n",
    "    return students"
   ]
  },
  {
   "cell_type": "code",
   "execution_count": 43,
   "metadata": {
    "collapsed": false
   },
   "outputs": [],
   "source": [
    "def get_action_pairs(sequences, normalize=True):\n",
    "    data = np.zeros((len(families),len(families)), dtype='f')\n",
    "    def get_i(family): return families.index(family)\n",
    "    for sequence in sequences.values():\n",
    "        for i,family in enumerate(sequence):\n",
    "            if i +1 < len(sequence):\n",
    "                data[get_i(family)][get_i(sequence[i+1])] += 1\n",
    "    if normalize:\n",
    "        data = data / np.sum(data, axis=1)                \n",
    "    df_actions = pd.DataFrame(data);df_actions.columns = families;df_actions.index = families\n",
    "    df_actions = df_actions.fillna(value=0)\n",
    "    return df_actions\n",
    "\n",
    "def get_action_pairs_blocks(sequences, normalize=True):\n",
    "    data = np.zeros((len(families),len(families)), dtype='f')\n",
    "    def get_i(family): return families.index(family)\n",
    "    for sequence in sequences.values():\n",
    "        for i,family in enumerate(sequence):\n",
    "            if i +1 < len(sequence):\n",
    "                if families.index(family) != families.index(sequence[i+1]):\n",
    "                    data[get_i(family)][get_i(sequence[i+1])] += 1\n",
    "    if normalize:\n",
    "        data = data / np.sum(data, axis=1)\n",
    "    df_actions = pd.DataFrame(data);df_actions.columns = families;df_actions.index = families\n",
    "    df_actions = df_actions.fillna(value=0)\n",
    "    return df_actions\n",
    "\n",
    "def plot_heatmap(actions, ax, title):\n",
    "    heatmap = ax.pcolor(actions, cmap=plt.cm.BuPu)\n",
    "    ax.set_xticks(np.arange(actions.shape[1])+0.5, minor=False)\n",
    "    ax.set_yticks(np.arange(actions.shape[0])+0.5, minor=False)\n",
    "    ax.invert_yaxis();ax.xaxis.tick_top()\n",
    "    ax.set_xticklabels(actions.columns, minor=False)\n",
    "    ax.set_yticklabels(actions.index, minor=False)\n",
    "    plt.text(0.5, 1.08, title,fontsize=15,horizontalalignment='center',transform = ax.transAxes)"
   ]
  },
  {
   "cell_type": "markdown",
   "metadata": {
    "collapsed": false
   },
   "source": [
    "First, we find what actions students are doing in consecutively. We count the number of succesive actions for each pair.\n",
    "Next we plot the frequency of these pairs of events or pairs of \"blocks\" of events. A block is a success of events of the same family. The rows denote the \"first\" action and the columns correspond to the following action conducted."
   ]
  },
  {
   "cell_type": "code",
   "execution_count": 44,
   "metadata": {
    "collapsed": false
   },
   "outputs": [
    {
     "data": {
      "image/png": "[encoded data removed]",
      "text/plain": [
       "<matplotlib.figure.Figure at 0xa948f98>"
      ]
     },
     "metadata": {},
     "output_type": "display_data"
    }
   ],
   "source": [
    "sequences = get_sequence(get_students())\n",
    "df_actions = get_action_pairs(sequences,normalize=False)\n",
    "df_actions_blocks = get_action_pairs_blocks(sequences,normalize=False)\n",
    "\n",
    "fig, axs = plt.subplots(nrows=1,ncols=2,figsize=(18,9))\n",
    "ax = axs[0]\n",
    "plot_heatmap(df_actions, ax, \"Paired events\")\n",
    "ax = axs[1]\n",
    "plot_heatmap(df_actions_blocks,ax, \"Paired blocks of events\")\n",
    "plt.show()"
   ]
  },
  {
   "cell_type": "markdown",
   "metadata": {},
   "source": [
    "Let's replot the heatmaps, this time normalizing the counts by the total number of counts of the firts action"
   ]
  },
  {
   "cell_type": "code",
   "execution_count": null,
   "metadata": {
    "collapsed": false
   },
   "outputs": [],
   "source": []
  },
  {
   "cell_type": "code",
   "execution_count": 45,
   "metadata": {
    "collapsed": false
   },
   "outputs": [
    {
     "data": {
      "image/png": "[encoded data removed]",
      "text/plain": [
       "<matplotlib.figure.Figure at 0xcf7f7b8>"
      ]
     },
     "metadata": {},
     "output_type": "display_data"
    }
   ],
   "source": [
    "sequences = get_sequence(get_students())\n",
    "df_actions = get_action_pairs(sequences,normalize=True)\n",
    "df_actions_blocks = get_action_pairs_blocks(sequences,normalize=True)\n",
    "\n",
    "fig, axs = plt.subplots(nrows=1,ncols=2,figsize=(18,9))\n",
    "ax = axs[0]\n",
    "plot_heatmap(df_actions, ax, \"Paired events\")\n",
    "ax = axs[1]\n",
    "plot_heatmap(df_actions_blocks,ax, \"Paired blocks of events\")\n",
    "plt.show()"
   ]
  },
  {
   "cell_type": "markdown",
   "metadata": {},
   "source": [
    "### Now let's split by scaffolding group"
   ]
  },
  {
   "cell_type": "code",
   "execution_count": 46,
   "metadata": {
    "collapsed": false
   },
   "outputs": [
    {
     "data": {
      "image/png": "[encoded data removed]",
      "text/plain": [
       "<matplotlib.figure.Figure at 0xab8e5c0>"
      ]
     },
     "metadata": {},
     "output_type": "display_data"
    }
   ],
   "source": [
    "sequences = get_sequence(get_students('scaffolding','scaff'))\n",
    "df_actions = get_action_pairs(sequences,normalize=True)\n",
    "df_actions_blocks = get_action_pairs_blocks(sequences,normalize=True)\n",
    "\n",
    "fig, axs = plt.subplots(nrows=2,ncols=2,figsize=(18,18))\n",
    "ax = axs[0,0]\n",
    "plot_heatmap(df_actions, ax, \"Scaffolded students' paired events\")\n",
    "ax = axs[0,1]\n",
    "plot_heatmap(df_actions_blocks,ax, \"Scaffolded students' paired blocks of events\")\n",
    "\n",
    "sequences = get_sequence(get_students('scaffolding','not'))\n",
    "df_actions = get_action_pairs(sequences,normalize=True)\n",
    "df_actions_blocks = get_action_pairs_blocks(sequences,normalize=True)\n",
    "\n",
    "ax = axs[1,0]\n",
    "plot_heatmap(df_actions, ax, \"Not scaffolded students' paired events\")\n",
    "ax = axs[1,1]\n",
    "plot_heatmap(df_actions_blocks,ax, \"Not scaffolded students' paired blocks of events\")\n",
    "plt.show()"
   ]
  },
  {
   "cell_type": "code",
   "execution_count": 47,
   "metadata": {
    "collapsed": false
   },
   "outputs": [
    {
     "data": {
      "image/png": "[encoded data removed]",
      "text/plain": [
       "<matplotlib.figure.Figure at 0xd112a90>"
      ]
     },
     "metadata": {},
     "output_type": "display_data"
    }
   ],
   "source": [
    "sequences_scaff = get_sequence(get_students('scaffolding','scaff'))\n",
    "sequences_not = get_sequence(get_students('scaffolding','not'))\n",
    "df_actions_diff = get_action_pairs(sequences_scaff,normalize=True) - get_action_pairs(sequences_scaff,normalize=True)\n",
    "df_actions_blocks_diff = get_action_pairs_blocks(sequences_scaff,normalize=True) - get_action_pairs_blocks(sequences_not,normalize=True)\n",
    "\n",
    "fig, axs = plt.subplots(nrows=1,ncols=2,figsize=(18,9))\n",
    "ax = axs[0]\n",
    "plot_heatmap(df_actions_diff, ax, \"Diff scaffolded VS. not paired events\")\n",
    "ax = axs[1]\n",
    "plot_heatmap(df_actions_blocks_diff,ax, \"Diff scaffolded VS. not' paired blocks of events\")"
   ]
  },
  {
   "cell_type": "markdown",
   "metadata": {
    "collapsed": true
   },
   "source": [
    "## Let's look what actions are done during time intervals of the activity for a specific student for Activity 2\n",
    "We count the number of times certain actions are performed, and normalize for each time block"
   ]
  },
  {
   "cell_type": "code",
   "execution_count": 48,
   "metadata": {
    "collapsed": false
   },
   "outputs": [
    {
     "data": {
      "text/plain": [
       "array([[ 0.02,  0.  ,  0.  ,  0.  ],\n",
       "       [ 0.  ,  0.  ,  0.  ,  0.  ],\n",
       "       [ 0.02,  0.02,  0.21,  0.16],\n",
       "       [ 0.  ,  0.  ,  0.  ,  0.  ],\n",
       "       [ 0.06,  0.02,  0.17,  0.28],\n",
       "       [ 0.38,  0.43,  0.  ,  0.  ],\n",
       "       [ 0.35,  0.4 ,  0.07,  0.  ],\n",
       "       [ 0.02,  0.02,  0.38,  0.4 ],\n",
       "       [ 0.15,  0.1 ,  0.17,  0.16]])"
      ]
     },
     "execution_count": 48,
     "metadata": {},
     "output_type": "execute_result"
    }
   ],
   "source": [
    "student = 10009106\n",
    "sequence = sequences[student]\n",
    "times =  list(df2[df2['student']==student]['Time Stamp'])\n",
    "timeblocks = [times[x] for x in range(1,len(times)+2,len(times)/4)]\n",
    "timeblocks.pop(0)\n",
    "data_time = np.zeros((len(families),len(timeblocks)), dtype='float')\n",
    "data_time_blocks = np.zeros((len(families),len(timeblocks)), dtype='float')\n",
    "def find_index(time):\n",
    "    i=0\n",
    "    while time >= timeblocks[i]:\n",
    "        i+=1\n",
    "        if i+1==len(timeblocks): break\n",
    "    return i\n",
    "\n",
    "for i,(time,family) in enumerate(zip(times,sequence)):\n",
    "    data_time[families.index(family)][find_index(time)] += 1\n",
    "    if i +1 < len(sequence):\n",
    "        if family != sequence[i+1]:\n",
    "            data_time_blocks[families.index(family)][find_index(time)] += 1\n",
    "data_time_blocks = data_time_blocks/np.sum(data_time_blocks,axis=0)\n",
    "data_time_blocks "
   ]
  },
  {
   "cell_type": "code",
   "execution_count": 49,
   "metadata": {
    "collapsed": false
   },
   "outputs": [
    {
     "data": {
      "image/png": "[encoded data removed]",
      "text/plain": [
       "<matplotlib.figure.Figure at 0xf4de358>"
      ]
     },
     "metadata": {},
     "output_type": "display_data"
    }
   ],
   "source": [
    "fig, axs = plt.subplots(nrows=1,ncols=2,figsize=(15,7))\n",
    "ax = axs[0]\n",
    "row_labels = families\n",
    "column_labels = [\"1st\",\"2nd\",\"3rd\",\"4th\"]\n",
    "heatmap = ax.pcolor(data_time, cmap=plt.cm.BuPu)\n",
    "ax.set_xticks(np.arange(data_time.shape[1])+0.5, minor=False)\n",
    "ax.set_yticks(np.arange(data_time.shape[0])+0.5, minor=False)\n",
    "ax.invert_yaxis()\n",
    "ax.xaxis.tick_top()\n",
    "ax.set_xticklabels(column_labels, minor=False)\n",
    "ax.set_yticklabels(row_labels, minor=False)\n",
    "plt.text(0.5, 1.08, \"Occurence of actions over quartiles of activity\",fontsize=15,horizontalalignment='center',transform = ax.transAxes)\n",
    "\n",
    "ax = axs[1]\n",
    "heatmap = ax.pcolor(data_time_blocks, cmap=plt.cm.BuPu)\n",
    "ax.set_xticks(np.arange(data_time_blocks.shape[1])+0.5, minor=False)\n",
    "ax.set_yticks(np.arange(data_time_blocks.shape[0])+0.5, minor=False)\n",
    "ax.invert_yaxis()\n",
    "ax.xaxis.tick_top()\n",
    "ax.set_xticklabels(column_labels, minor=False)\n",
    "ax.set_yticklabels(row_labels, minor=False)\n",
    "plt.text(0.5, 1.08, \"Occurence of blocks actions over quartiles of activity\",fontsize=15,horizontalalignment='center',transform = ax.transAxes)\n",
    "plt.show() "
   ]
  },
  {
   "cell_type": "markdown",
   "metadata": {},
   "source": [
    "Next tasks:\n",
    "1. create a dictionary with key = student, values =\n",
    "    * pre-test\n",
    "    * post-test\n",
    "    * pre-att\n",
    "    * post-att\n",
    "    * cluster\n",
    "2. recreate above graphs splitting students by:\n",
    "    * cluster\n",
    "    * high knowledge - low knowledge\n",
    "    * high att - low att\n",
    "    * learning gains\n",
    "    * attitude gains (shifts up or down)\n",
    "    "
   ]
  },
  {
   "cell_type": "code",
   "execution_count": null,
   "metadata": {
    "collapsed": false
   },
   "outputs": [],
   "source": []
  },
  {
   "cell_type": "code",
   "execution_count": null,
   "metadata": {
    "collapsed": false
   },
   "outputs": [],
   "source": []
  },
  {
   "cell_type": "code",
   "execution_count": null,
   "metadata": {
    "collapsed": false
   },
   "outputs": [],
   "source": []
  },
  {
   "cell_type": "code",
   "execution_count": null,
   "metadata": {
    "collapsed": true
   },
   "outputs": [],
   "source": []
  }
 ],
 "metadata": {
  "kernelspec": {
   "display_name": "Python 2",
   "language": "python",
   "name": "python2"
  },
  "language_info": {
   "codemirror_mode": {
    "name": "ipython",
    "version": 2
   },
   "file_extension": ".py",
   "mimetype": "text/x-python",
   "name": "python",
   "nbconvert_exporter": "python",
   "pygments_lexer": "ipython2",
   "version": "2.7.11"
  }
 },
 "nbformat": 4,
 "nbformat_minor": 0
}
