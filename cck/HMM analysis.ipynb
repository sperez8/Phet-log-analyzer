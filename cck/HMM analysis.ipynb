{
 "cells": [
  {
   "cell_type": "code",
   "execution_count": 1,
   "metadata": {
    "collapsed": false
   },
   "outputs": [],
   "source": [
    "import networkx as nx\n",
    "import matplotlib\n",
    "import matplotlib.pyplot as plt\n",
    "import numpy as np\n",
    "import pandas as pd\n",
    "import sys\n",
    "import getpass\n",
    "from hmmlearn import hmm\n",
    "from functions import *\n",
    "np.set_printoptions(precision=2)\n",
    "pd.set_option('precision', 2)\n",
    "%matplotlib inline\n",
    "matplotlib.style.use('ggplot')"
   ]
  },
  {
   "cell_type": "code",
   "execution_count": 2,
   "metadata": {
    "collapsed": false
   },
   "outputs": [],
   "source": [
    "df = pd.read_csv('C:\\Users\\\\'+getpass.getuser()+'\\\\Google Drive\\Sarah Ido folder\\data\\CCK\\MATCHING_phet_cck_user_actions+sophistication_WITHPAUSE_anonymized.txt')\n",
    "df_scores = pd.read_csv('C:\\Users\\\\'+getpass.getuser()+'\\\\Google Drive\\Sarah Ido folder\\data\\CCK\\MATCHING_phet_cck_user_data_anonymized.txt')\n",
    "df[\"student\"] = df[\"student\"].astype('category')\n",
    "df_scores[\"student\"] = df_scores[\"student\"].astype('category')\n",
    "df[\"Family\"]=df[\"Family\"].str.capitalize()\n",
    "\n",
    "def remodel_families(row):\n",
    "    if row[\"Family\"] == \"Build\" or row[\"Family\"] == \"Revise\" or row[\"Family\"] == \"Extra\":\n",
    "        if row[\"Outcome\"] != \"None\":\n",
    "            return \"ConstructWithFeedback\"\n",
    "        else:\n",
    "            return \"Construct\"\n",
    "    else:\n",
    "        return row[\"Family\"]\n",
    "    \n",
    "df['Family'] = df.apply (lambda row: remodel_families (row),axis=1)"
   ]
  },
  {
   "cell_type": "markdown",
   "metadata": {},
   "source": [
    "Some parameters"
   ]
  },
  {
   "cell_type": "code",
   "execution_count": 3,
   "metadata": {
    "collapsed": false
   },
   "outputs": [],
   "source": [
    "ACTIONS_TO_REMOVE = ['I','O','S']\n",
    "ITERS = 100"
   ]
  },
  {
   "cell_type": "code",
   "execution_count": 42,
   "metadata": {
    "collapsed": false
   },
   "outputs": [
    {
     "data": {
      "text/plain": [
       "{1075123: 'C F P F P F T P T P T F C F P T P T F C F T P T P T P T X C F C F T F T P T P C F P T P T C F C F C T C T C F C F T P T P T P X C F T P C F C P T C F T F T F C F T F C F T F T F T F T F T P T F T F T P T F C F T C F T P C F T P T P F T F T P T P T F P X T C T C F C F C F C F C F C F C F C F C F C F C F T P T P F T P F T P T X C F T F T C F P T P F C F C F C F T F T F T F T F T P T F T F C F T F T F T F T F T F T X C F T P C F T F T P T C F T',\n",
       " 3591123: 'C F P T P T P T C F C F C F T F T C F T C F C F T C F T P T P C T C F P T P T X C T C T C F T P T P F C F T P T P X T C F T C T C T P T P T P F C F T F C F C F C F C T C F T F T F P X T C F T F T P F P T F T F P C T C T C F T F C F C F T C F C T P C F T C F T F T P T P T P C P T P C F P F C F C F C F C F C F C F C F P T F C F T F T F C F T F P X T C T C F T C F P T C T P T P T F C F T P C F T F C F C F C F C P C F P F C F C F P C F T F C F T',\n",
       " 3932129: 'C F C F P F C F C F C F C F C F C F T F C F C F C F T F X T C F T C T C F P C F T C F C F C T C F P C F C F X C F C F P T P T C T C F P C F C F P T P F T C T C T C T P T X C X C X C T C T X C T P C F C T C F T P T F C F T P T P F C F P T C F C F C T F T P X T C F C F P T P T P T P C F T F T C T C F P F P X T C T C F C T C F C F T P T P T F C F T F T F C F T P T F C T P F C F P T P C F C T F T F C F C F C F T P X P C F T P T F P C F T C F C F C P T F T C F C F T F C F C F C F T X C F C T C T F T C F C F T C F T F C F T',\n",
       " 4762120: 'C F T C T C T C T F T P C T F C F T P T F C F T P T P F C F P T F P C F T P C T C F P T F C F C F T P F C F C T C F T C T C T P T P C F T C F P T P F C F C F C F C F C F C F P T P T F C F T P T F C F T P F C F C T P T F T P T P T F C F T F C T C T P F T P T F T F C F T F C F T P T F T P F C F T F C F T P F T P F C F T P T P T F C F C F P F C F P',\n",
       " 4936123: 'C T P C P T C F C T C F C F C T C F C F C P F C F C P C P C F P T P T C F C F T F T P F C F C F T P C F C F T P C T C F C T C F P F C F C F C F C F T F P F C T F T C F C F T F C F P F T F C T C T C F T F T F T C T C T C T F C F T C F C F C F C F C F T P C F C F T F C F P C F T P T F C F T C F P T C F T P T C T F C F T P T F T F T F T F T F P F T C T C F P T F C F C F C F C F C F C P C F C F C F C F C P F C F C F C F P C F C F C F C F C F C F C F C F C F T C F C F C F C F C F C F C F C F C F C T C T P F T P C F C F C F C F P F C F T F T F C F T P C F T P C F T F T P C F T C F T F C T P T C F C F T P T P C F T',\n",
       " 8580120: 'C P C T C F T P F T P T F T C F T P T P T P T F C F T C F T P T P T F C F C F C F C F T P T F C F T P T P T P T P C T F C F T P T P T P T C P C T P T F T P T F C F T P T P T P T F C F C F T P T P T P F T P T P T P F T P C F C F T P F T C F T',\n",
       " 8775127: 'C P C F T P T C F C F C F C F P C F P T F T C T C T C T C T C T P T C T C T C T C T C P T C X C P C P C F T F C F T C P F C F C F P T P T P T F C F P T C F C F P T P T P T P F T P T P T P X C F P T F C F T P F C T C T C F T P T F C F T P T P C F C F C F P T P T P T F C F T P T P T P T C F C F T P T P T F C F T P T C F T C T F C F T P F T F T P C F C T F C P F P',\n",
       " 8889108: 'C P C F C F P F C F P T P T F C F C P C F C F T P C F T P C T P T P T C F C F C F T P T F C P C P C F C F T P T P T P T C F C F C F C F P T P T C F C T C F T C P C F T F T F C F P F C T F C T F C F C F P F C T F C F C F C F C T F C F C F C F P F C F C F C F C F C F C F C F C F C F C F C F P C F C F C T P C F C F C T F T P T P F C F C F P F C F P C F P T F C P X T C F P C F P C F C F C F T F C F P X P C F P T P T P T F C F C F C F C F C T F T P T F C F C',\n",
       " 9331415: 'C F P T P T P T F C F T P T P T F C F T P T P F C T F C F T C F C F C F C F T P F C T C F C F C T C F T P T P T P T P T P F C F C F C F P T P T F C P F C F C F P C F C F C F C F C F P T P T P T P F C F C F C F C F P T P F C T P T P T P C T P T P T P F C F C F T P T P F P T P T P T P T F C F P C P C F C F P T F C F C F P T P T C F C F C F C T P',\n",
       " 10009106: 'C F P T F C T C T P F T C X T C F T P T C F C F T P T P C F C F C F C T P T P C F C T C F C T C F T P T F C T P C F T P F T P T C F C F T P T P F C T C P C F T F C F C F C F C F C F C F T P T P T F T F C F C T P T P T P T P T P T F T F T P F T F T P F T F T P F C F T P T C P C F T F C P',\n",
       " 10942128: 'C F P F C T F P F C F C F C F P C F C F C F C F P T F C F T F C F P T C T F T P F C T X T C T C F P T F T C F T P T P C F C F T F T F T F C F C F T C F P F T F T C T C T C F C F C F T C F C F P C F C F C F C F C F P F C F C F C F P F P C P F C F P F C F T C P C P C F C F',\n",
       " 12235124: 'C X P C F C T C T C T C T P X P C T P T X T C F C F T C T P T P X T C F T C F T F C F T P T P X P C P C F C F C F C F P T F C F C F P C T P T P C X C F C F C F T F C F T F C F T P X C T C X P C P C F T F P T F C P X P C F C F T F P T F C F T P T X T C T C P C P T X T P C F T P T P X T C F C F T F T C F T P T X T C F P T P X T C F P T F T P X P C P C F C F T C F T F C F T X T C F C F T F T P X C T C F C F C P C F C F T F T F C F C F C F C F T F C F C F T F C F T F P',\n",
       " 12949120: 'C F P T F C F P T F C F T P F C F T P T F C F C F T P C F T P T P T P T P F C F C T F C F C F C F C F C F C F C F P T P C F C F C P F C F T P T F T C F C F C F C F C F T F T P T F C F T P T P C F T F C F T F T F T P T P F T P T P T C F T F T P T P T F C F C F C F T F T P T F C F T C F C F T P T F C F T P T P F P T P F P T P T F T P F T P T',\n",
       " 13205111: 'C P F C F C F P T P T F P C F P T P T P F C F P T P F X T C F C F T P T C T C T C F T P T F C X C F C F T C F T P T F C F P T P T F C F T F C F C F T C F T P T P C F T P T F T P F C F P T P F P T P T F C F T P F T',\n",
       " 13378139: 'C X C F C F C F C F P F C F C F C F P X C F T C F C F C X T C P C P C F T P C F P T P F C F T P T P X T C T C F C F P T P C F T P X C F P T C F P T C F C F C F P T P T P F P T P T P F P T P F P F P F P',\n",
       " 13679110: 'C F C F C F P C F C F P F C F C F P F C F C F C F T C F C T F C T C T P F P F C T C T C T F C F C T C X C T C P T C T P T P C F C F C T P T P T P T P T F C F T P T F T C T C F T F T P T C P T C F C F T P T F C F C T C T C T C F C F T F C F C F C F C F T C F T P T F T F C F T P T C F C F C F C F T P T F T P T F C F T P T C F T F C F T F C F C F T C F C F C F C T C F C T F C F T F C T F C F C F C F C F C F C F C F P T P C T C T F C F C F T P T F T P T F T F C F C F T P F T F T P F P F P F T P T C T C T C T P T C F C P',\n",
       " 14769115: 'C F T F C F C F C F C F C T F C F C F C F C F P T C F C F T F T F C F C F T C F C F C F T P F C F T C T P T P T P F C T F P F C F C P F C T C T F T F T C T C F P T P T F C F T C F C F C F C P T P F C F C F C F C F C F C F T P T C F T C T C T C F T C T C P T F T F T F C T C T P C F T F T C T P C T C T F C F P F T F T P T F T F P T C F C F P F P T F C T C F T F T P T C F P F C F C F C F C F P T F T F C F T P T P F C F C F C F T P T P C P C P T C T P',\n",
       " 15616121: 'C P C P T P C T P C T C T C F C F T P T C F C T P C F C F T P C T C F P F P C F T P T C F T C F T F C F C F P C F P T P T P T P T P T P C F T C P C F P T P T F P C F P F P F C F P C T C T C F C P C F C F C F C F C F C F C F P X C P C F C T C F C F P C T P T P T P C',\n",
       " 17070059: 'C F C F P T P T P T P T P T C F T C T P C F P T P F C F C F T P F C F T P T P F C F C P C F T P T P T F T P T P F T F T P T F P T P T P T P T P F C F T P T P T P F P T F T P T P C F C F P T C T',\n",
       " 17580122: 'C P C X C T C T C T F T X T C T P T C X T C F T X P C T P C F P X T C F C F C F P T F T C F C F C F P X C F C F T P C F C F C F C P C T C F T F P C F C F C F',\n",
       " 18088102: 'C T C F T C T P C T C T F C F C F P C F C F C F C F C F P F C F P F C F C F P C F C F P F C F C F P F C F C F P F C T C F P C F P C F C F C F P F C F P F P C F C F P C T F C F T P T P C P C F C F P T P C F C F T F P C F C F T F T P F C F C F C F C F P F C F P C F P C F P T P C F C F P C F C F C F C F C P F C F C F C F P F C F P T C T F C F C F T C T P F C F C F C F C F C P T C F C F P C F C F C F C F C P C F P F C F P F P C',\n",
       " 18838125: 'C F T F C F C T C F C F T F C T C F T P C F C F T P T P F T C F C F T P T C F T P T P C F C F T P T F T P T P X T C T C T C F T P T P T C F C P T P T F T F C T P T F C F C F T F T P T F C T C F T P C F T C F T F T P C F C F T P F T P X C P C F P T P T P T F T P F C F C F T F T P T P T F C F T C T C F C F T P T F T F T C T F T F P C',\n",
       " 18893119: 'C F P T P T F C F C F T P C F P T P F T F T F T C F C T C F C T C F C F C F C F T P T C F P T P F C F C T C F C F C F C T C T C T C F C F C F P T P C F C P T P T C T C F P T P T C T F C T C F P T P F C F P T F C T F T P T C F T P T F C T P T P F P T F C F C F P T P F C T F C T C F C F P T P T P T P T F C X C P C F C F C T F C F T P T P C F C F P T P C F C T F C P C F P T P F T P F P F C F C F C F C F C P X C T C T C',\n",
       " 19930112: 'C P C F P T P F T C F T P T F C F C F C F P F T F C F P X T C F T F P F C F C F P T C F C F P F C F C F P F P F C F P F T C F C F T F P F C F T C F C P F P F C F P F C F C P C P C P C F C F P T F P F C F C F P C F T C F P F C F P F C F T P F T P T F C F T F T P T C F P F C F P F P F P F P C F C P C F C F C F P C F C F C T C F P F P F P F C F C F C F C F P F T F C F T F',\n",
       " 20717120: 'C P C F C F C F T C F C F C F C F C F C F C F C F P F C F C F C F C F C F C F C F C F C F C F P C F C F C F C F P F C F C F C F C F C F C F C F C F P X P C F C F C F P C F C F C F C F C F C F P F C F C F C F C F C F C F C F C F X C F C F C F C F C F C F C F C F C F C F P C F C F C F C F C P C F T C F C F P F P T P F C T X C X C F C F C F C F T P F C F T C F C F C F C F C F C F C F C F C F C F C F T C F T C F C T C F P X C F C F C F C F C F C F C F C F C F C F C F C F C T P X C F C F P X C P C F P T P T',\n",
       " 23112113: 'C P C P C P C P C T P C F C F C F P C F T P T C F C F C F C F P F C F C F P F C F T C T P F C T C F T C F T C T C F C F P F C F C F C P F C F C F C F C F C F T P F C T P T C F C T C F P T F C F C P F C F P F P F C F C F C F C F C F C F P F C T C T C T C T C P C T C T P T P F C F T P F P F T P C F C T F T P C F P C X C',\n",
       " 23143099: 'C P C P X C F T C T C T C T F T C F C F C X C F C F T P T F C F T P T P T P X C X C F T P T P T P T P T C F P T P T P T P T P X T C X C F T P T C F T F P T F P T P T F P F C F C F P T P F C F C F T F T P T F T C T F T C T F T F T P T F T F T P T F C T C T F C T C T C T C F C F T F C F T P X C F P C F T F T P T C F T P F C F C F T P X C X C T C T C F T P C T P T C F T P T P C F T C F C T C F',\n",
       " 24387118: 'C P C F C F P C F T P T F C F T F C F C F T F C F T P F C F C F T F C F T F C P F P T P T F C F C F C T F C F T P T F C F T F C F T F C F T P T P C F T X C F T F C F T P F C F T C T C T P C T F T C T F C P T C T C T C F X C F C F C F C F C F C F C F P T C T P C X C F P T P F C F T P T F C F T F T F T P F P F C F T P C T F P T P F C F T P C F T P T P F C F P F T P C F T C F P T P C F T F T P C F C P C F C F',\n",
       " 24582121: 'C P X C P C F P T P T C T C T P T P T P F C F C F T P T P F T C T C F T P T P X T C F T P T P F C F T P T P T P T P X C F P T C F T F T P F C F P T C F T P F P T F T C F T C T C F T P T F T P F T F T P F T P T P T P T F C F C F C T P T F C F T P T P X T C F C F T P C F C F C F C F C T P T P T P X P C F T P F C T F T C F T F C F T F C F T F P T F T F C F T X C F T X',\n",
       " 26225080: 'C P C F T F C F C F T F C P C F C F P C F C F P F P C F C F C F P F C F T F T F C F C T F C F P F P F C T F T F T P T P F C F T P T C F T F T F C T C F C F C F C F C F C F C F C F C F C F C F C F P T P T C F C F C T C T P F C T F P C F P C X C P C F C F C F C F T P X T P C P C P C X C P C F T F C F C F C F C F T',\n",
       " 28098102: 'C P C T C T C T C T C X C F P T C F C F T P X T C F C P C T C F T P F C F T P C F C F P F C T F C F P F C F P F C F P C F C F P C F C T C T C T C F C T C F C T C T F C T C F P T C P C F C F P F C F C P C F C T F C F C F P T P C F C F T F C F P F C F P F C F C F P F C X T',\n",
       " 28582129: 'C F C F P F C F P C F P F C F P F C F P T F T C T F T P T P F C F C F T F T C F T P T P T C F P C F C F C F C F C F C F C F P T F C F T F T P F T P F T C F C F C F T F P F P F C F T P T P T P F T F C P X C T C F C F C F T F T F C F C F P F C F P T C T C F T F T P F C T F T P T F C F T P T P C F P C F T F T C F C T C F T P T P T P X T C F T C F T P X T C F T C T C T P F C F C F C F C F C F X',\n",
       " 31091114: 'C F P F C F C F C F P X C F C F C F C F P T F C F T P C X T C F C F T F T X C F C F T P T F C F P X T C X C F C X C P X C F T F T P T X T C T C F P C X C F C F P T P T F T P F P F P T F C F T P F P T F C F C F C F T P F T F T P T P T F T F T F T F P T F C F C F C F C F T P X P C F C',\n",
       " 35155125: 'C P C F P T P T P T F C F P C F T P T P F C T F C F C F T P T F C F T C T C T P F C T C T P T C F T P T P T C F T P T P T P T F C F C F C F C F C F C T C F C F T P X C T C F P T F T P T F T F P T F C F T P T P T P T F C F C P F C F P C F T C F C F C F T P T X C F C F T P T F C F T C F C F T C F C F C T P C F C F C F C T C F C F C F C P C F P C P C T C T C F C P X C P C F C F C F C F C F C F P T P X C',\n",
       " 37842114: 'C P T P T C F T C F T F T C T F P T P T C F T C T C F P T P T P X T C T C F T P T P T P C F T P T F C F T P T P T P T P T P T P T P X T C T C F C F C F C F T C P C F C F P T P T P F C F P T P X T C F T P T C T C F C F P T P T P X C',\n",
       " 37987123: 'C P C F C P C F C F C F C F X C F C F T C F C F C F T F C T C F C F C F C F T X T C F T F C F T F C T C T C T F T P T F C F T P T P T C F T C F T P T F T C T F P T P T P F P T P C T C T F P X T C F C F T P T P C F T F C F P C F P X T C F C T F T C F C F X C F T F C F C F C P C F T P F C T P C F T C T C F C F T F C T P C T F T P C T C F C F C T C F C F C F P F P T P C F P F P F C F P C F C F P F C F P F C F C F P F C F C F C T F P X T P C F C F T C F P C F C F C F C F P X',\n",
       " 38648120: 'C P T P T C T P T P F C F P T P C F C F P T P X T C F T P C F C F C F T P T P T P X C F P T P F C F C F C F X C F C F C F C F C F C F C F X C F C F X C F T F C F T C T C F X C P C F C F C F T C F C P T F T F C T P T F C F T F C F T C F T C F T P T P F C F C F C F C F C F T P F C F T P T F C F T X C F T F T C F T C F T F C F T P T P F C F C X C F C F T C F C F C F X P C F T C F T F C F T F C F T F T C F T P T P',\n",
       " 38732121: 'C F C F C F T P X T C F P T P T P T F C T C T F T F C T F T C F C T F P T P T P F C F P T P T P F C T C T C T C F T C F P T P T P T P T C F P T P T P T P T P F C F P T P T C P C T F P F T P T F T F T F T P F T F C F T P T F T P F T P T F T P F T F T P T F T P F C F C F P T F T P T F T P T F T P F T F T F T P F C P F C F C F C F C F C F C F C T C F C F C F T C F T C F T C T F T C F C F T F T F C F C F C F P C',\n",
       " 39619124: 'C P C F P C T C T F T P T C F C F T P T P T P T P T P T P T F C F T P F C F P C F P F C T F T F C F T P T P T F C F C F P T P T C F T P C F P T F T P C T C T C T F T F T P T F T C F T F T P T P F C F C F C F T P T C F C F C F C F C F P T F C F C F C F T C T F T C T F T P F P T P F T C F P T',\n",
       " 41045127: 'C F P T C T C T P C F C F P T P T F C F T P X T C X C F C F C F T P T P T C T C F P T P T P X T C F C F C F C F C F C F T C F C F T P X T C T C F P F C F P C F P T P T P T P F C F P C F C F P T F T P F T P T F C F C F C F P T P F T P T P T F C F C F P T P T P F T P T P X C T C T C F C F P T P T P C F T P T P F T P T C F C F C F C F C F C F T C F C F C F C F C P X C F T C T C F T F T C F T F C F T C F T C T F C F T C T F C T F C F T F C F T F T P T P T C T',\n",
       " 41295172: 'C F T P T P T C T P T P T P F C F P T P F C F C F C F P T P F C F C F T P T P C F T P X C F C F C F C F C F T P T P T P C T F C F T F P X C F T F C F T P F C F P C F P F C F P F T P C F C F C T',\n",
       " 42175126: 'C F C P T P T C T P T C F C T P T P T P F C F T P T P T P T P F C F T P T P F C F C F T P T P T P F T F C T C F T C F C F T P T P F P C F C F T F C F C F T F C T C F T C F C F C F T F T F T P T P F T C T C F C F T F T P T P C T P C P T P F C F C T C F T F T P T F C T F T C F C F T P C T F C F T P T P C F C T F P C F C T C T C F T F T P T',\n",
       " 42822113: 'C F T C T C F P T F C F C F C F T P T F C F P C F P X T C P C F C P F C F P C F P T P T F C F T P F T F T P F C F P C F T P C F P T F P C T C T C T C T P F C P T C F T C T C F C F P T C P C F P F P T P T F C F P T P F C F C F P F C F C F T P C F C F C F P F C F C F C F P F T F C F P T P T F C F T F C T F P F P F C T P C F P C F C F C F T C F C F C F C F C F C F C P F P C F C T F C F',\n",
       " 43999105: 'C P C F C F C F C P C F C F P F C F P F C F T C F T F T C T C F T P T F C F T F T C F T P T P C F C F C F C F C F C T C F C F C F C F P F C F C F C F C F C F C F P F C F C F C F P C F C F C F C F C F C F C F C F C F C F C F C F C F C F C F C F C F C F P F C F C F P T C F T F C F P F C P T F P F P F T C F T P T P F C F C F T F C F P T P F T P F C T C F T P F P F T F C F T P F T F C F P F C F C F T F C F C F C P F C T F C T C T C F T F C F T P X T',\n",
       " 44827119: 'C T P C P C F P C F C F P T F T F T P T F T P C F C F P C T C F P C P X C T C F C T F C T F T C T C T F C F C P C T P C F C F T F C F P T F C F P C F C F C T C T C P C P C T P X T C F C F P C F C F P C F C T C F C T C F C F P C T C F P T F T P T P F T P T F C F P F C F C F C F P F C F C T C F C F C F P T P T P F C F C F P C T C T F P C T P X T C P C F T P T',\n",
       " 46231117: 'C P X P C F C F P F C F T P T P C F C F T F P T C F T P F C F C F P T P X T C T C F P F C F C F C F C P C F C F C P T P C F T P X T C F P T P T C F T F C F T P T F C T F C F C F C F P T C F X C F C F C F C F C F T P F C F T C T F T F C T C F C F T F T F P C P X T C F P F C F C F C P C F C F P F T C F T P X C F C F C T F T F T C T F C F T C F C F T C F T F C F C F C F T F C F C F T C T C T X C F T F T F C F C F',\n",
       " 48107113: 'C F C F C F C F T P T C F C P T C F C F C F T F C F C F T P T P T P F C F C F T P T P C F C F C F C F C T C F P T P T P C T C T F C F T F C X C F C F C F C F T C F P T F T P T P C F T F T P X T C F T F T C F T F C F C F C F T C F T C F T P T F C F T P T P F T F T F P F C P F C T C T F C F C F T X C P C F C F T F T F P T F T C T C F C F P X C P C F T F C F T C P C F T C F T P F T F C F T F C T P C F T P F C T',\n",
       " 51352592: 'C X C X C F C T C T X T C P C T C F C F T P C T P F C F C F C F C F T P T P F T C T C F T C T C T C T P F C F C F T C T F P T P T P X C T C F P T P X T C F T P X T C T C F T P T X T X C F C F C T F T P T F T F P F T F P F C T C T C F C F C F P F C F C F P F C F C F P C T F C F T F C F P X T C P C F C F C F P F C F C F P X C P C F C F C F C F P C F C P F C F C F P',\n",
       " 51876107: 'C P C F T C F T F C T C T C T C T C T C T C T C T C T C F C F T C F C F C F C F C F P F T F C F C F C F P F P T P F T C F T F P F P C F C F T P T F T P F C F T P T F T P T F T F C T F T F T C F T F T F P C F C T P T P C F T P T F T F P T F P T P T F T P T F P T P T P T P F C F P T P F P T F P T F T F T F T F T F T P T F T F T P T F C T F C F T P T P C F C F P C F',\n",
       " 52041105: 'C F C F C T C T C T C T F T C T C T F T C T F T C F C F C F T F P T P F P F P F T C T C F P T F C T F C T F T P T F P T F T P F C T F T F P F C F T F C F T F C F P F C T F C F T F T P F C F C T P F T F T P T F T P F T F P T P F T F C F P F T P X C T C F T P F T C T F T C F C F T F T F',\n",
       " 55188124: 'C F C F C F C F C F P F C F C F C F C F C F C F C F P T P T P C F C F P F C F T P F C F T F P T P F C F C T F T P F T C F C F C F C F T P X C T C T C T C F C F T F C F T F T F T F T F T P F C F C F C F T P F T P T P T P C F C F C F T P C F C F C F T C P F C F C',\n",
       " 57521121: 'C P C T C F C F C F C F C F P C F C F C F P C F C F C F P F C F C F C F C F C F C T C F T F C F T F P C F C F P T P F C F C F T F C F C F T P T P T P C F C F C F T F T F T F P F T P T F T C F T C F T F T P T P C F T P T C F T F C F T F T F P C F T F C F C F T F T P X P C F T P C F P T',\n",
       " 59553121: 'C P C F P T C T P T C F T P C T C T C F T P T P F C F C F C F P C F C F C F C F C F C F C F T P C F T P T F C F C F T C P C F T P T F C F T P T F T P T F C F C F P T P F T C F T F T C T C F T P T F C F C F P T F P T P T F C F P T F C F P T P F C F C P C F C F C F C P T P C P T P C F C F T F T C F T F C P F C F T C T C F T C T C',\n",
       " 60076128: 'C F P F C F P T C T P C P C F P T P T F C F C P F C F C F T P F C F C P T C P C F C F C F C F C F T P F C X T C F P F C F C P F C F C F C F P C F P C T P C F T P X T P C F C T P F T F T F P T F C F P F P F T F C F P C F C F C P T C T P C F C F T F T C F C F C F C P X C F T F T F T P X T C F T P C F C F P C P T F C F T P F T C F T P T F T F C F P X',\n",
       " 61117124: 'C F P T C T P T P T P T F C T C F C F C F C F P C F C F T P T P T F C F T P T P T P F C T C F C F P T P T P T F C F C F C F T P T P F C F C F C F C T C T C F T F T F T F C T F C F C F T P T F C F C F T F C F C F C F P T C F C F C F T P C F C F C F C F C F C F C F C F C F',\n",
       " 61296129: 'C F C T P T P F T F T C P C F C F C F C F C P F C F C F P F C F T C T C T C T P F C F P C T C F C F T P C F C F P T P T F C T C T C T C T C T C T C F T P F C T C T C T C T F C F T F T C T C T C T C F T C T C T C T C T P F C F C F C F C F P F C P C F C F C F P C F P T C F C F P T P F T P T F T C F C F C F C F P F C F P C T C T C F P T P C F C F T P F T F P C F P F P C F P F C F P C F P F C F',\n",
       " 62238125: 'C P C F P T P T P C T F C T C P T P C F C F T P T P F T F T F C T F C F C T C F C F T P T C F P T P T P T P T P X C F T P C F C F T P C F C P C F P X T C F P F C F P F C F C F C F C F C T P T F C F P X T C T C T C F P T F C F P T P F T C F P T P T C F T P T P T P T P F C F C F T P T X C F T P T F C F C F P T C F C T F P T P F C X T C F C P T F C T F T C F C F C F C F C F T C F C F C F C F C T X C F C F P T F T C F C F C F X',\n",
       " 62898116: 'C P T F C F P F C F C F P T P F C F T F C F T P X T C P C F C F C F C P C F C P T X C F C F C F T C P C F T C F T P T P C T F T F C F T P T P F C F C P C P F C F C P T P C F C F P X C F C F C F C F P X C P C F C X C F C F C F C F P T C F T F P F X C F C F C F C F C F T P T P T P F T F T F P T P T F C F T F T P T P F T P F C X C F T F C F T F P F T C F C F C F C F T F T F C F T F C F T F T F C F C F C F C F T F T P T F C F T F C F T F T P T F C F T F C F T F C F C F T F C T F T F C F T C F C F X C',\n",
       " 62935112: 'C P C F C F P T P F C F C F P T P T C T P X T C F T P T P X T C F P T P X T C F P T P T F C F P T P X T C F P F C F C F P T P X T C P C F P T P F C F C P C F C T P F T C F P T F P T P F C F T P T P F T P X T C',\n",
       " 64153126: 'C P C F P T C T P F C F C F C F P T P T F C F C F C F C F P T P T F T C F T F P C T C F P T P C F P T P T P T F C F C F C X C F C F P T P F T F T F C F P F X P C F C F T F T F C F T P C F C F T P T F P C F C F T P F T F P F C X C F T F C F T P F C F C F T P T P T F C F T C F C F C T C T F C F T F C F C F C P T P T F P C F C F T F C F T C F C T F T F T F C F C P X C F C F P C F C F P F C F C F P C F C P C P C F C F C F T P T P',\n",
       " 64687090: 'C P C F P T C F C F T P T P F P C F P T P F C T C F C F T P T P T F C F P F C F T P F C F P F T C F C F T P T P T F C F C F T P T P T P T P F C P C F C F T C F C F T F C T P T P T P T F C F C F C F T P C P C P C F T P T P T P F C F T P T P T P T F C F C F P F C F C F T P T P F T F T P C F C F C T C F C F T F T',\n",
       " 64944126: 'C T C F P T F C F T P T F C F T P F C T C T C F T P C T C T F T P F C F C F T P T P F T F P F P T F C T C T F C T F T F P T P T P F C F P T F C F C F T P T P T C F T P F P T F C P C F T C T F T P C F P C F C T P T P C F T P T F C F C F P T P T P T F C F P T P X T C T C F P C F C F T',\n",
       " 66362122: 'C P C T C T C T P C T P T P T C T C F T C F T P T C F C F T P T C F C F P F P T C F C F P F P C F C F P F P F C F P T P T P T F T C T C P T P F C F P C F C F P F C F C F P T P T F T P T F T P C F T C F C F P T P T P F C F T P T C F P T P T F C T P C F C F P F T P F P F T F T F C T F C T C F T C T F T F C F T P F P C F C T F T F C F C F C F C F C P F P T C F T C T F C T P T P F C F T C T C F T F C F C T P C F T F C T P T C F C F C T F T P C F C F C T P T C F C F C F C F C F T F T F C F T F C F T F C F T F C F T F C T F C F T C F C F C F C F T C T C T F C F T F T F C F C F C F C T C F T F C F C T C F C P',\n",
       " 66472128: 'C P C F T P F T C F C F C F P F C F C P C F C F P F C F C F P F T C F T F C T C F T F T C F T P T C F T C F P F C F P F T P F C T F C F C T F C T C F P F T F C F C X C T C T C T C T C T P C T C X T C T P C T C T C F T C F T P C F P F P F C F C P C F C F T F T P T F T P F P C F C T F P T C F C F T C F C F P C F P F C T C T C T C T P X C T P C T C T C T F C F C P F T F T C F C F C P C F C P T F C F T C P C T C F P F P F C F C F C F C F P F C F C F C F P T F C F P C X T C',\n",
       " 66828119: 'C T C T C T C T C T P C T C T P T C T C P F C F T C T P T X T C T C T P T X C T C T C T C T C T C X C P C F T X C F T C F C T C F C F C P C F T P T C T C T P C F C T C T C F C F C F C T F C F T C F C F T F P F T F T P T P C F C F C F C F X T C F C F C F C F T C F C F T P T F C P C F C F P F C F T F C F T F C F C T F T C T C F C F P F C F T P T F P F C T F T C F C F T P C F T C T C T C T C T C T C F C F C F C F C F C F T F C T F T C T F T C T C F C F T F X T C T C F T F T F T C T F T F T C F T F T C F C F T F C F T F T C T F T F C F T F C F C F T C F C F C F T F C T F T F T C T C F T F C F T C T C F C F P X C F T C F C F T C F C F T F C T C T C T C T',\n",
       " 67755125: 'C F P T P T P T F C F C F C F C F C F C F C F C F T P T F C F C F P T P T P F C F C F C F P T P T P T P T P T P C F C F T C T C P C F C F C F T P C F T C F C F C F T P F T P F T P T F C F C F T P T P T F C F C F T P T P C F C F C F T P F T P T P T F C F T',\n",
       " 67899116: 'C T C T F T F C F C F C F P F C F C T C P C T F C F C F C F T P F C T C T C F T P C F C T C T C F T F T C F P F T C T C F T F C T P T F P C X C T P C X C P C F C F P F T C F T C F T C T F C F T P C F C F C F C F P F C T F C F C T C F C F C F C F T P T C T C F C F T F C F T F C F C T C F T F T C F T F C F T F C F C F C F T F C F P F C F C F T P T C F C F T C F T C T C T C F C F C F T F T P F P T F C P F P F P C F C F C F C F T C T F C T F C F T P F C T C T C F C F C F T F C T F C T F C P T P T F C F C F T P F C F C F T F C F C F C P C F C P T F C F T P T F P T C F C F P X T C F C P F C F C T F C F T P T C X T C F C F T F C F T P F P F C F T',\n",
       " 68995094: 'C F C F T C T C F T C F T C F P X C F C F P X C F C F T P C F T C P C F T P T P T P C F C F C F C F C F C F C F C T P C P C F C F P T P X T C F C F C F P F C F C F C F P T P F P X C F C F P C F C F C F C F C F C F C F C F C F C F C F P X',\n",
       " 69251126: 'C P C F C F T C T C F C F C T F C F P T P F C T C T C F C T F T P T P F C P C F P T P T F C P F C F T P T P T C F T C T P T P T F C F C F C F C F P X T C F T F C F T F C F T P X T C T C F T P T F C F C F T F P F P T F C F T F C F T F C F T F T P T P T F C F P T P T P F T P T F T P T F T P T F C F T P F T P T F C F C F C F C T P X C F C F T P T F C F C F C F C F T C F T F C F T C F C F T F C F T P F T F C F P F T',\n",
       " 70209120: 'C P C P C P C F P T P T C F C F T P T P C F C F C F C T C F P T P T P F C F C F C F C F P T P T P F C F P T P T P F C F C F C F C F C F P T P C F C F C F T F P T P T F P T P F C F C F C F C F C F C F C F P C P T P C F C F C F C F C F C F C F C F C P F C F C F C F C F C F C F C F C F C F P T P F P C F C F C',\n",
       " 72794100: 'C F C F P T X C F T P F C F P T P T F C F C F T P T F C F C F T P T P T C F T F T C T C T C F C F C F T P T P F C F C F C F C F C F C F P F C F P T P T P F C F T P T P C T P F C F T C F T F P X T C F X C F C F P X C F C P F C F T F T F T P T P T C F C F T F T F C T P T F T P T P T F C F C F C F T F T P T F T P T P T P T F C F C F P F C F C F T F C F T F T P C T C T C T F C F C T P C F T F T P C X C F C F C F C F C F C F X P C F C F T F C F T F C F T C F T F C F T P C T C T C F T F C F T',\n",
       " 73538121: 'C P C F T P T P T F C F C F P T P C F P C F C F T P T P F T C F C F C F T P C F T P T C F C T F C F T P T P F C F T P X T C T C F P T F P T P F C F C F C F P F C F T C P T F C F C F C F C F T P C F C F T P T P C F C F T P F T P F C F C F T P F C F C F T F C F P C F C F T P F C F P F C F C F C F C F',\n",
       " 77882125: 'C F P F C F T P C F C F C T C X C T C T C P C F T P F T C F C F C F C F C F T C F C F T F T P C F T P F P T P C T C X C P C F T F C F T P T F C F C F C F X C F T P F T P F T P T F C F C F C T C F C F C F C F C F C T P F C T C T P F T F C F C F T P F C F C F C F C F T C F C F T P T P F T P X T C F T F C F P X C F C F P C F C F C F P C F C F T P F C F C F C F C F T',\n",
       " 77984114: 'C P C F P T C T C T P T P T P C F C F T P T F C F C F C F T P X T C T C F C F P T P T P C F T P T P X T C T C F T P T P T C P C F C F C T C T F T F P T C T C T C F T C T C T C T C T P X C T C F T F P F T F P T C F T F T P T P T P C P C F T C F C F T C F T P T P T C P C P C F C F P',\n",
       " 80308126: 'C P X C X P C F C F P T C T C F P T P T C T C T C T C T P T P T C F T P T C F P T P T P T F C F C F C F C F C F C F T C T P T C F T P T P T P C F C F T P T F C F C T P T C P C T F T F T P T F C F C P T F C F T F C T X C P T C T C F T C T C T P C T C T C P C P C P C P C T C T C F C T C P C F C F C F C F P X C',\n",
       " 82224125: 'C F C F C F C F C F P F C F P F C F C F C F P C F C F P T F T C F T F C F T F C F T P T C F C F T P F C F T F P F C F T C F C F C F C F C F T P T P T F T P C P T F C F T P T P T P T P T P T C F T F T F C F T P C T F C F C T C F T F T F T F T P C F T F T P F T P T P T P T P F T F C F C F C F C F C T F P T P F C P F P T F C F T P F T P T F P F T P T P T C P C F T P T P T F T P T C F C F C T C F T F T F C F T P T F T P T F C F T',\n",
       " 82243121: 'C P C F T X T C F C F T P T C F C F T P F C T C T F C T F T F C F C F T C F C F C F T P C F C F T F T C P F T C T C F T F T P F C T F C T C T F C F T F C F P F C T C P T F C F T F T F T F T C T F C F C F T F T C F T F T C F C F C F T C T C F C F C F T F T C F C F C F T P F X T C T C F C T C F C F C T C F C F T F T F T P T F C F C F T C F C F T F T P C T C T C T C F T C T C F C F C F C F T F C F C F T P C F C T C F C F P F C F C F T C T P F C T C F T C F C T F C F T P F T F T F C F C F T C F C F T P C F T P F P F C F C T F T C F C P T P T P F C F T F T F T F T F X C T C F C F C F T F C T C F C T P T P T P T X T C F P T F C F T P T C F T C F C F T C F T C F C F C F T F C F T C F C F T C F T F C T C F T C F T F C F T F C F T F C F T P T P F T F T C F C F C F C F P C T C T F C T',\n",
       " 82616120: 'C P C X C P X C P C F P T C P C T C T P C F C F C T C P T C T C F C F X T C F T P X T C T C P X C P C F T P X T C F P C F C F C F P F C F C F X C F P F T F P T F C F C F C F P X T C T P C F C F C F P F C F X P C F C F C P X C P C F P T F C F P C F C F C X P C F X',\n",
       " 82752122: 'C F C F P T P T C T P F C F C F P T P T P T P T F C F P C F P T F C T C F T P T P T P T P F C F T F C F C F P T P F T X C F P T P T C T F C F T C T P T P T P T P T P X T C F T F C F C F T F C F P F P X T C T C F C F T F T F C T X T C T P C T C F P C F C F P X C F C F T P T P F C F P T P X T P C F C F T P F T P T P F T P T F T F T F T F P X T C F T C',\n",
       " 82885110: 'C F C F P F C F T F T C F T P T F C F T P T F C F T P T P T F C F C F P T P T F C F C F C F C F C F C F C F C F T P C F C F C F T P T P F C T C F C F C F T P C F C F C T C F C F T F C F C F C F T F C F T C F T C F T F T F P F T F P T F C F C F T F T F T P C F T P T P T C T C F P T P T P T C F C F C F C T C T F T P T C F C T C F P T P T P T C T C T F C T C F C F P C T C T C T F C T F C F C F C P T P T F C T F C T C P C F C F C F C F T F C F C T C T C F T P T C F C F C F C F T P F T P F T C F C F C F C F C F C F C T C F C F C X C P C T C P C T P T F C F C F T C F T P F C F C F C F C F T C F T P F T F T C F T F C F P C F C F T F C T P F T F C F T',\n",
       " 82920121: 'C F C F P T C F C F T C F P C F P T F C F C F C F C F C F C F P T P T F P F T F P T P F T F C F T F P T F C F T P T F C F C F P F C F C F T F T F P C F C F T C T C F C F P C T P T F P F C F C F C F P C T C F C F T F T P T P C F C F P F P C F C T C F C F C F T P C P C X T C F C F C T P F P F P C F C F P F C T C T C F T C F T P T P F P T F T P T P C F T F C T P T P T F P T P T P F C T F T F T F T F P F P F P T P T F C F C F C F C F T F T P F T F C F P F T F C F T F C F T F C F T F C F T P T C T F C T F C F T F C F T F C F T F C F P C F C',\n",
       " 83841128: 'C F C F P F C F C F C F C F C F P T P T X P C T C F T F C F C F T F C F T P F C T C F T C F T F T C F T C T C T C F P T P C F T P T P T F C F C F T P T C T P T P X C T C T P C P C P C F C F C F C F T C F C T C F T',\n",
       " 85298121: 'C P C F T F C F P T P T F C F T P T P T F C F C F T P T C F C F T P T P T P F C F X C F C F P T P X T C F C F C F C X C F T F C F T F C F T X T C T F T F T F P T F X C F T F C F T P F T P T P X T C F T F T P T P T F C F T X C F T P F C F T P T P T P F C F T F T P F C F T F T P T P F T F C T P X C F C F C X C X C P C F T P T X C F C T C T C F P T P F C F P X T C T',\n",
       " 85458129: 'C F P F C F C F C F C F P C T C T C F T C T C F C F C F C F P C P C T C X C P C T F C F T F C F T P F C F C P C F C F C F C F C F P T C P C F T P T F C F P T F T P T P F C F C F C F P T P F P T P F C F T F C F T F T F T F C F P C F T F T F T F T P T F T P T F T F C F T F T P T P T P F C T P F P C T C T C P C F T C F T F C F C F T F C F T F C T C F C F T P T P T P T P T P F T F',\n",
       " 85576116: 'C P C T C T X T C P C P C F P C P T P C T C P T F C T C F P T P T P F C F C F C F T F C T C T F T P T P F C T C F P C F C F C F T P T P T C F T P T P T P C F C F C F C F P T P T P T C F C F T F P F C F C F P F C F P C F T F C F T C P T F C F T P T F T C T F T P T F C F T F T C F C F C T F T F C T F T F T F C F C F C F C F C F C F C F C F P F C F T P T P C F C F C F T C P X C P C P C F C F C F C F C F P C F C F C F C F P F C P C F C F C P C',\n",
       " 86170104: 'C F C F T P T F C F T P T F C F T C P C F T P T F C F T P T F C F C F T P T P T P F C T C F C F C F C F C F C F C F C F C T C F C F C F C F C F C F T F C F C F C F C F C F C F C F C F C F C F P T P T P T P T P T F T F T F T P F C F T F P T F C F T F P T F T C F C F T F T C F C F T P T P T F P T P F P F T P T P T C T C F C P T F T',\n",
       " 87612126: 'C F C F C F P T P F C F C T C F C F C F P T F C F C F C T F T P F C T C T C T C T C T C T C T F T C T C T C T C F C T C F C F C F C F P T C F C F C F C F P F C F C F P F T C P F C F C F T P T P F T P F C F P F P T P T P C F T F C F C F C F C F C F P F C F C F C F C F P F C F C F C F C F C F C T F C F T P T P F C F T C F C T F T P F P F T F T P F C F T F C F C F C F T P F T P T F C F C F C T F T P T F C F C F T P T P C F C F T F T P X T C F T F C P C F T C F C F C F C F C F P F C F C F C T P T F C F C F C F C F C F P F P X',\n",
       " 88156121: 'C P C F P C F P T P T P T P C F P C F C F C F T C F T C F C F C F C F C F C F C F C P C F P C F C F T P C F C F C F T C P T P F C F T P T P T P F C F T C F C F C F P C F C P C F C F C F C P T P C F C F P T F P T F P T F C F C F C F C F C T F T F C T F T P F C F C F C P T C F C F C F C F C T C F C F T P T F T P X T C F C F T P F T P T P C F C F C F C F P F C F T F C P C F C T P F T P T P T P T P F T C T F C T C F C F T C F C F T C F C F C F C F C T C F C F C T P C',\n",
       " 89224093: 'C F T P C T P T F C F P T P T F C F T P X T C T C F T P C F T P T P F C F T C F P T P T P T C F C T F P T F C F C F T P T P T C F T F C F C F C F C F T F C F C F C F C F C F C F C F T C F C F C F C F C F C F C F C F C F C F',\n",
       " 89332129: 'C P C F P C F C P C F C F P T F C T F T P T P T P T F C F T P T P F T F P T C F T C T C T F T P T P F C T C F C F P T P T P F C F C F T P T P T P F T C F C F T F T C F T C T C T C F P T P T P T C F C T F T F T P C F T P T P T F C F T P C F T P F C F T P T P T F C P F C F P T F C F T C T C F C T F C F T C F T C F T F C F C F T P C F C F T P F C F T',\n",
       " 89337123: 'C F P C F C F C F P T P T P T P T P C F C F T P T P C F C F T P C F T P C F C F T P T C F C F C F T P C P C P T P T P T P T P C T P T P C T P C T P C T P T C T P C P C P T P T P T P T P C T P T P C T P C T P C T P T C T P C P C P T P T P T P T P C T P T P C T P C T P C T P T C T P C P C P T P T P T P T P C T P T P C T P C T P C T P T C T P C F P T F T P C F P T P F T F T F T P C F P T C F T F T F C F T F T F T F T P F C F T P T F C F T P C F T P T P T P T P T P T P T',\n",
       " 91203122: 'C F T F T F P T P T P F T C T F P F C F T P C T F T P T X C P T P C T C F C F T P T P F C T C F T P T P T P F T P T P T C F T F T F P F P T F C F T F T P C P T F T P T P T P F T F T P F T C T C T C F C F T P F T P T F T P C F T P T F T P F P F C F C T F T C F C T F T F T F C F C F',\n",
       " 91235128: 'C T P T P F C F P T P X T C T C F C F T P T P T F C F T P T P T P C F P C T F C T C F T P F C F T X T C F C F C F C F C F C F C F T C T C F C T C F C F C F C F C P T F T C F C F P X T C X C T F P C F C F T P F T P T P F C F T P C P F P C F C F T C F T F C F T F C T C F C F C F C F P T P C T C T C X C P T P X T C T C F C F P T F T C F T P C F C T C F T F T C F T F T F T F T F T F C F T F C F T F C F C T C F T F T',\n",
       " 94186123: 'C P C X C T C T C P T C P C X C T C T C T C T C F T C F C T C T C T C T F C T F T C F C T C F T F C F C T C T F C F C F P F C F C F C F P F C F C P C F P T P F P C F P C P T P T P C F C T C T P C F C F P C F C F T C T F C F C F C F C F C F T X C T C T C T C F T C T P C T C T C F T C T C T F P F C F C F C F C F C F C X C F T C T F C F T P F P F C F P T P F C F P T P F P F C F C T C T C T F T X T C P C F C F T C X C T F C F C F C F C F T P F P X T C F C F C F C F P T P T P F C T C T C T C F T P C F',\n",
       " 94792123: 'C P C F C F C F T P T P T P T P T F C F C F C F P T P T F C F P T P F C F T P T F C F P X T C T C F P T P T P F C F C F T P F C F C F P T P X T C T C T C T C F C F C F C F C F T F C F T P F P T F T F C P F C P F T F C F P C F C T C F C F C F C F T C F P F T F C F C F C F C F P X T C T C F C F C F C F C F T F C F C F C F T F C F C F C F T P T P T P T P T P T P T C P C T C T C F T F T F T F C T F T F T C F T P T P C F T',\n",
       " 96314111: 'C P C F C F C F P T P C F C F P C F C T X T C T C T F T P T P T P F C F T P T F C F P C F P T P T P F C F C F C F C F C F T P T P T P X C T C T C T C F P T P T P F C P F P C F P C T C T F P T P T F P T F C F T P T F C F C F T F C F P T P T P X T C P C F T P C F P C F C F P X T C P C P C T C T F T C F P C F P C F C F P X T C'}"
      ]
     },
     "execution_count": 42,
     "metadata": {},
     "output_type": "execute_result"
    }
   ],
   "source": [
    "blocks = get_blocks(df,get_students(),add_spaces=True, ignore = ACTIONS_TO_REMOVE, start = False)\n",
    "blocks"
   ]
  },
  {
   "cell_type": "code",
   "execution_count": 13,
   "metadata": {
    "collapsed": false
   },
   "outputs": [],
   "source": [
    "events = [e for e in [\"S\",\"C\",\"O\",\"F\",\"T\",\"P\",\"I\",\"E\",\"X\"] if e not in ACTIONS_TO_REMOVE]\n",
    "translater = {e:events.index(e) for e in events}\n",
    "decoder = {events.index(e):e for e in events}"
   ]
  },
  {
   "cell_type": "code",
   "execution_count": 14,
   "metadata": {
    "collapsed": false
   },
   "outputs": [
    {
     "data": {
      "text/plain": [
       "array([[0],\n",
       "       [3],\n",
       "       [0],\n",
       "       ..., \n",
       "       [0],\n",
       "       [1],\n",
       "       [2]])"
      ]
     },
     "execution_count": 14,
     "metadata": {},
     "output_type": "execute_result"
    }
   ],
   "source": [
    "X = np.array( np.array([np.concatenate([  [translater[event] for event in block.split(' ')] for block in blocks.values()])]).T )\n",
    "lengths = [len(b.split(' ')) for b in blocks.values()]\n",
    "X"
   ]
  },
  {
   "cell_type": "code",
   "execution_count": 29,
   "metadata": {
    "collapsed": false
   },
   "outputs": [
    {
     "data": {
      "text/plain": [
       "True"
      ]
     },
     "execution_count": 29,
     "metadata": {},
     "output_type": "execute_result"
    }
   ],
   "source": [
    "model = hmm.GaussianHMM(n_components=3, covariance_type=\"diag\", n_iter=ITERS).fit(X,lengths)\n",
    "model.monitor_.converged"
   ]
  },
  {
   "cell_type": "code",
   "execution_count": 30,
   "metadata": {
    "collapsed": false
   },
   "outputs": [
    {
     "data": {
      "text/plain": [
       "array([0, 1, 0, ..., 0, 2, 1])"
      ]
     },
     "execution_count": 30,
     "metadata": {},
     "output_type": "execute_result"
    }
   ],
   "source": [
    "model.predict(X)"
   ]
  },
  {
   "cell_type": "code",
   "execution_count": 31,
   "metadata": {
    "collapsed": false
   },
   "outputs": [
    {
     "data": {
      "text/plain": [
       "(array([  1.00e+00,   1.14e-55,   0.00e+00]), array([[ 0.  ,  0.26,  0.74],\n",
       "        [ 0.28,  0.46,  0.26],\n",
       "        [ 0.53,  0.47,  0.  ]]))"
      ]
     },
     "execution_count": 31,
     "metadata": {},
     "output_type": "execute_result"
    }
   ],
   "source": [
    "model.startprob_,model.transmat_"
   ]
  },
  {
   "cell_type": "code",
   "execution_count": 37,
   "metadata": {
    "collapsed": false
   },
   "outputs": [
    {
     "data": {
      "text/plain": [
       "(38318.465173314595, array([0, 1, 0, ..., 0, 2, 1]))"
      ]
     },
     "execution_count": 37,
     "metadata": {},
     "output_type": "execute_result"
    }
   ],
   "source": [
    "model.decode(X)"
   ]
  },
  {
   "cell_type": "code",
   "execution_count": null,
   "metadata": {
    "collapsed": true
   },
   "outputs": [],
   "source": []
  },
  {
   "cell_type": "code",
   "execution_count": null,
   "metadata": {
    "collapsed": true
   },
   "outputs": [],
   "source": []
  }
 ],
 "metadata": {
  "anaconda-cloud": {},
  "kernelspec": {
   "display_name": "Python [Root]",
   "language": "python",
   "name": "Python [Root]"
  },
  "language_info": {
   "codemirror_mode": {
    "name": "ipython",
    "version": 2
   },
   "file_extension": ".py",
   "mimetype": "text/x-python",
   "name": "python",
   "nbconvert_exporter": "python",
   "pygments_lexer": "ipython2",
   "version": "2.7.12"
  }
 },
 "nbformat": 4,
 "nbformat_minor": 0
}
