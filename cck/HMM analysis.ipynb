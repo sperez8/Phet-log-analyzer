{
 "cells": [
  {
   "cell_type": "code",
   "execution_count": 1,
   "metadata": {
    "collapsed": false
   },
   "outputs": [],
   "source": [
    "import networkx as nx\n",
    "import matplotlib\n",
    "import matplotlib.pyplot as plt\n",
    "import numpy as np\n",
    "import pandas as pd\n",
    "import sys\n",
    "import getpass\n",
    "from hmmlearn import hmm\n",
    "from functions import *\n",
    "from random import shuffle\n",
    "from random import seed\n",
    "np.set_printoptions(precision=2)\n",
    "pd.set_option('precision', 2)\n",
    "%matplotlib inline\n",
    "matplotlib.style.use('ggplot')"
   ]
  },
  {
   "cell_type": "markdown",
   "metadata": {},
   "source": [
    "### Loading the data"
   ]
  },
  {
   "cell_type": "code",
   "execution_count": 2,
   "metadata": {
    "collapsed": false
   },
   "outputs": [],
   "source": [
    "df = pd.read_csv('C:\\Users\\\\'+getpass.getuser()+'\\\\Google Drive\\Sarah Ido folder\\data\\CCK\\MATCHING_phet_cck_user_actions+sophistication_WITHPAUSE_anonymized.txt')\n",
    "df_scores = pd.read_csv('C:\\Users\\\\'+getpass.getuser()+'\\\\Google Drive\\Sarah Ido folder\\data\\CCK\\MATCHING_phet_cck_user_data_anonymized.txt')\n",
    "df[\"student\"] = df[\"student\"].astype('category')\n",
    "df_scores[\"student\"] = df_scores[\"student\"].astype('category')\n",
    "df[\"Family\"]=df[\"Family\"].str.capitalize()\n",
    "\n",
    "def remodel_families(row):\n",
    "    if row[\"Family\"] == \"Build\" or row[\"Family\"] == \"Revise\" or row[\"Family\"] == \"Extra\":\n",
    "        if row[\"Outcome\"] != \"None\":\n",
    "            return \"ConstructWithFeedback\"\n",
    "        else:\n",
    "            return \"Construct\"\n",
    "    else:\n",
    "        return row[\"Family\"]\n",
    "    \n",
    "df['Family'] = df.apply (lambda row: remodel_families (row),axis=1)"
   ]
  },
  {
   "cell_type": "markdown",
   "metadata": {},
   "source": [
    "### Some parameters"
   ]
  },
  {
   "cell_type": "code",
   "execution_count": 5,
   "metadata": {
    "collapsed": false
   },
   "outputs": [],
   "source": [
    "ACTIONS_TO_REMOVE = ['I','O','S','E']\n",
    "ITERS = 200\n",
    "RAND_INT = 2\n",
    "seed(RAND_INT)"
   ]
  },
  {
   "cell_type": "markdown",
   "metadata": {},
   "source": [
    "### Declaring a few functions"
   ]
  },
  {
   "cell_type": "code",
   "execution_count": 6,
   "metadata": {
    "collapsed": false
   },
   "outputs": [],
   "source": [
    "def get_model(X,lengths,n_states, iters=ITERS, random_state=RAND_INT):\n",
    "    '''Note that all integers in the range of observations must be present in the data!!'''\n",
    "    converged = False\n",
    "    print \"Computing HMM model for {0} samples of observations and {1} hidden states\".format(len(lengths),n_states)\n",
    "    tries = 0\n",
    "    while converged == False:\n",
    "        model = hmm.MultinomialHMM(n_components=n_states,\n",
    "                            n_iter = iters,\n",
    "                            random_state = random_state).fit(X,lengths)\n",
    "        converged = model.monitor_.converged\n",
    "        tries += 1\n",
    "    print \"\\tModel converged after {0} tries, with {1} iterations\\n\".format(tries, model.monitor_.iter)\n",
    "    return model"
   ]
  },
  {
   "cell_type": "markdown",
   "metadata": {},
   "source": [
    "### Modelling\n",
    "#### Getting the data\n",
    " First, we get the student actions in blocks and keep only the actions we care about. We also build a translator and decoder to pass the actions as discreet integers instead of strings"
   ]
  },
  {
   "cell_type": "code",
   "execution_count": 7,
   "metadata": {
    "collapsed": false
   },
   "outputs": [
    {
     "data": {
      "text/plain": [
       "['T', 'F', 'P', 'X', 'C']"
      ]
     },
     "execution_count": 7,
     "metadata": {},
     "output_type": "execute_result"
    }
   ],
   "source": [
    "blocks = get_blocks(df,get_students(),add_spaces=True, ignore = ACTIONS_TO_REMOVE, start = False)\n",
    "events = [e for e in [\"T\",\"S\",\"O\",\"F\",\"P\",\"I\",\"E\",\"X\",\"C\",] if e not in ACTIONS_TO_REMOVE]\n",
    "translater = {e:events.index(e) for e in events}\n",
    "decoder = {events.index(e):e for e in events}\n",
    "events"
   ]
  },
  {
   "cell_type": "markdown",
   "metadata": {},
   "source": [
    "We concatenate the student actions into one array and computer their lengths"
   ]
  },
  {
   "cell_type": "code",
   "execution_count": 8,
   "metadata": {
    "collapsed": false
   },
   "outputs": [],
   "source": [
    "shuffled_blocks = blocks.values()\n",
    "shuffle(shuffled_blocks)\n",
    "X = np.array( np.array([np.concatenate([  [int(translater[event]) for event in block.split(' ')] for block in shuffled_blocks])]).T )\n",
    "lengths = [len(b.split(' ')) for b in blocks.values()]"
   ]
  },
  {
   "cell_type": "markdown",
   "metadata": {},
   "source": [
    "#### Formatting the data for cross validation\n",
    "We split the data into a training and test set using a 60/40 % split"
   ]
  },
  {
   "cell_type": "code",
   "execution_count": 9,
   "metadata": {
    "collapsed": true
   },
   "outputs": [],
   "source": [
    "n_train = int(len(lengths)*0.6)\n",
    "n_test = len(lengths) - n_train\n",
    "lengths_train, lengths_test = lengths[0:n_test], lengths[n_test:]\n",
    "X_train, X_test = X[0:sum(lengths_train)], X[sum(lengths_train):]"
   ]
  },
  {
   "cell_type": "markdown",
   "metadata": {},
   "source": [
    "We produce the model with the train set using different number of hidden states"
   ]
  },
  {
   "cell_type": "code",
   "execution_count": 10,
   "metadata": {
    "collapsed": false
   },
   "outputs": [
    {
     "name": "stdout",
     "output_type": "stream",
     "text": [
      "Computing HMM model for 39 samples of observations and 1 hidden states\n",
      "\tModel converged after 1 tries, with 3 iterations\n",
      "\n",
      "Computing HMM model for 39 samples of observations and 2 hidden states\n",
      "\tModel converged after 1 tries, with 100 iterations\n",
      "\n",
      "Computing HMM model for 39 samples of observations and 3 hidden states\n",
      "\tModel converged after 1 tries, with 78 iterations\n",
      "\n",
      "Computing HMM model for 39 samples of observations and 4 hidden states\n",
      "\tModel converged after 1 tries, with 75 iterations\n",
      "\n",
      "Computing HMM model for 39 samples of observations and 5 hidden states\n",
      "\tModel converged after 1 tries, with 77 iterations\n",
      "\n"
     ]
    }
   ],
   "source": [
    "logs, scores = [], []\n",
    "n_states = range(1,len(events)+1)\n",
    "for n in n_states:\n",
    "    model = get_model(X_train, lengths_train, n)\n",
    "    logs.append(model.score(X_train, lengths = lengths_train))\n",
    "    scores.append(model.score_samples(X_test, lengths = lengths_test)[0])"
   ]
  },
  {
   "cell_type": "code",
   "execution_count": 11,
   "metadata": {
    "collapsed": false
   },
   "outputs": [
    {
     "data": {
      "text/plain": [
       "([<matplotlib.lines.Line2D at 0x1281e128>],\n",
       " [<matplotlib.lines.Line2D at 0x1281e2e8>])"
      ]
     },
     "execution_count": 11,
     "metadata": {},
     "output_type": "execute_result"
    },
    {
     "data": {
      "image/png": "[encoded data removed]",
      "text/plain": [
       "<matplotlib.figure.Figure at 0x1070b780>"
      ]
     },
     "metadata": {},
     "output_type": "display_data"
    }
   ],
   "source": [
    "plt.plot(n_states, logs,'-.'),plt.plot(n_states, logs,'x')"
   ]
  },
  {
   "cell_type": "markdown",
   "metadata": {
    "collapsed": false
   },
   "source": [
    "Now we can plot the scores"
   ]
  },
  {
   "cell_type": "code",
   "execution_count": 12,
   "metadata": {
    "collapsed": false
   },
   "outputs": [
    {
     "data": {
      "text/plain": [
       "([<matplotlib.lines.Line2D at 0x12ca6470>],\n",
       " [<matplotlib.lines.Line2D at 0x12ca6630>])"
      ]
     },
     "execution_count": 12,
     "metadata": {},
     "output_type": "execute_result"
    },
    {
     "data": {
      "image/png": "[encoded data removed]",
      "text/plain": [
       "<matplotlib.figure.Figure at 0x1293d860>"
      ]
     },
     "metadata": {},
     "output_type": "display_data"
    }
   ],
   "source": [
    "plt.plot(n_states, scores,'-.'),plt.plot(n_states, scores,'x')"
   ]
  },
  {
   "cell_type": "code",
   "execution_count": null,
   "metadata": {
    "collapsed": true
   },
   "outputs": [],
   "source": []
  }
 ],
 "metadata": {
  "anaconda-cloud": {},
  "kernelspec": {
   "display_name": "Python [Root]",
   "language": "python",
   "name": "Python [Root]"
  },
  "language_info": {
   "codemirror_mode": {
    "name": "ipython",
    "version": 2
   },
   "file_extension": ".py",
   "mimetype": "text/x-python",
   "name": "python",
   "nbconvert_exporter": "python",
   "pygments_lexer": "ipython2",
   "version": "2.7.12"
  }
 },
 "nbformat": 4,
 "nbformat_minor": 0
}
