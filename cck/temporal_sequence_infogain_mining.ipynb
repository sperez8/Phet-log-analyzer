{
 "cells": [
  {
   "cell_type": "code",
   "execution_count": 1,
   "metadata": {
    "collapsed": false
   },
   "outputs": [],
   "source": [
    "import math\n",
    "import numpy as np\n",
    "import pandas as pd\n",
    "import sys\n",
    "import re\n",
    "from functions import *\n",
    "from mining_functions import *\n",
    "from collections import Counter\n",
    "from matplotlib.backends.backend_pdf import PdfPages\n",
    "np.set_printoptions(precision=2)\n",
    "pd.set_option('precision', 2)\n",
    "# %matplotlib inline\n",
    "matplotlib.style.use('ggplot')"
   ]
  },
  {
   "cell_type": "code",
   "execution_count": 2,
   "metadata": {
    "collapsed": false
   },
   "outputs": [],
   "source": [
    "PATH = '/Google Drive/Jonathan Sarah Ido folder/data/CCK/'\n",
    "def get_path(path = PATH):\n",
    "    if os.name == 'posix':\n",
    "        return os.environ['HOME']+path #'/Google Drive/Jonathan Sarah Ido folder/data/CCK/'\n",
    "    elif os.name == 'nt':\n",
    "        return os.environ['USERPROFILE']+ path.replace('/','\\\\') #'\\\\Google Drive\\Jonathan Sarah Ido folder\\data\\CCK\\\\'\n",
    "    else:\n",
    "        raise Exception('OS not recongnized. I\\'m confused.')\n",
    "gitpath = '/Documents/git/Phet-log-analyzer/cck/raw_data_parsing_check/'\n",
    "df = pd.read_csv(get_path(path = gitpath) + 'phet_cck_user_actions+sophistication_WITHPAUSE_more_circuit_info.txt',index_col=False)\n",
    "# dfx = pd.read_csv('C:\\Users\\Sarah\\Documents\\git\\Phet-log-analyzer\\cck\\\\raw_data_parsing_check\\phet_cck_user_actions+sophistication_WITHPAUSE_more_circuit_info.txt',index_col=False)\n",
    "df[\"student\"] = df[\"student\"].astype('category')\n",
    "df[\"Family\"]=df[\"Family\"].str.capitalize()\n",
    "df[\"Family_tool\"]=df[\"Family_tool\"].str.capitalize()\n",
    "df[\"Family_default\"]=df[\"Family_default\"].str.capitalize()\n",
    "df[\"Family_both\"]=df[\"Family_both\"].str.capitalize()\n",
    "\n",
    "df_scores = pd.read_csv(data_path + 'MATCHING_phet_cck_user_data_anonymized.txt')\n",
    "df_scores[\"student\"] = df_scores[\"student\"].astype('category')"
   ]
  },
  {
   "cell_type": "markdown",
   "metadata": {},
   "source": [
    "### Functions used to calculate information gain, plot use, etc..."
   ]
  },
  {
   "cell_type": "code",
   "execution_count": 3,
   "metadata": {
    "collapsed": false
   },
   "outputs": [],
   "source": [
    "def add_text(attribute,family_category,N, shortest_seq_length, longest_seq_length,B):\n",
    "    text = \"\"\"Showing sequences for students split by {0}, using the categories {1}.\n",
    "            Removed sequences used by less than {2}.\n",
    "            Found sequences of lenght {3} to {4}.\n",
    "            Using {5} time bins\"\"\".format(attribute,family_category,N, shortest_seq_length, longest_seq_length,B)\n",
    "    fig = plt.figure(figsize=(10, 4))\n",
    "    ax = plt.gca()\n",
    "    ax.text(0.5,0.5,text,\n",
    "        horizontalalignment='center',\n",
    "        verticalalignment='center',\n",
    "        fontsize = 15)\n",
    "    plt.axis('off')\n",
    "    return fig"
   ]
  },
  {
   "cell_type": "code",
   "execution_count": 4,
   "metadata": {
    "collapsed": true
   },
   "outputs": [],
   "source": [
    "def rank_sequences(sequence_counts,B,axesnum=None):\n",
    "    ranks = []\n",
    "    for seq,counts in sequence_counts.iteritems():\n",
    "#         if np.sum(counts)>0:\n",
    "        ranks.append((seq,calc_infogain(counts,B,axesnum)))\n",
    "    return sorted(ranks, key=lambda tup: tup[1])\n",
    "\n",
    "def get_top_seqs(ranks,N):\n",
    "    return ranks[-N:]"
   ]
  },
  {
   "cell_type": "markdown",
   "metadata": {},
   "source": [
    "### First we get the raw count of unique students using a sequence per time bin"
   ]
  },
  {
   "cell_type": "code",
   "execution_count": 5,
   "metadata": {
    "collapsed": false
   },
   "outputs": [
    {
     "name": "stdout",
     "output_type": "stream",
     "text": [
      "['Wave', 'scaffolding', 'how many PhETs in the past?', 'how comfortable with phets?', 'p100', 'used this circuit sim before?', 'COMPLETEDNESS', 'PRIORKNOWLEDGE', 'COMPLEXITY', 'DIAGRAMS', 'NUMBERSANDCALCULATIONSONLYINATLEASTONEANSWER', 'pre', 'post t1', 'post t2', 'post identical to pre', 'z post identical to pre', 'z pre', 'z post t1', 'z post t2', 'T0_PoCC', 'T1_PoCC', 'T2_PoCC', 'Avg_Mast_Or', 'Perceived Value ', 'Clustergroups', 'fourgroups', 'student', 'Anon Student Id']\n"
     ]
    }
   ],
   "source": [
    "print list(df_scores.columns.values)"
   ]
  },
  {
   "cell_type": "code",
   "execution_count": 6,
   "metadata": {
    "collapsed": true
   },
   "outputs": [],
   "source": [
    "def label_learning (median,row,column):\n",
    "    if row[column] >= median: return 'high'\n",
    "    else: return 'low'\n",
    "\n",
    "median_pre = np.median(df_scores['pre'])\n",
    "df_scores['incoming_knowledge'] = df_scores.apply (lambda row: label_learning (median_pre,row,\"pre\"),axis=1)\n",
    "\n",
    "median_T0_PoCC = np.median(df_scores['T0_PoCC'])\n",
    "df_scores['incoming_attitude'] = df_scores.apply (lambda row: label_learning (median_T0_PoCC,row,\"T0_PoCC\"),axis=1)"
   ]
  },
  {
   "cell_type": "code",
   "execution_count": 11,
   "metadata": {
    "collapsed": false
   },
   "outputs": [],
   "source": [
    "students = get_students()\n",
    "CUT_OFF_SEQ_USE = 0.2 #we keep only sequences used once by at least 10% of students\n",
    "N = int(CUT_OFF_SEQ_USE*len(students))\n",
    "shortest_seq_length = 3\n",
    "longest_seq_length = 12\n",
    "B = 4  #number of bins\n",
    "\n",
    "### PARAMETERS\n",
    "attributes = [('learning2','high', 'low'),('scaffolding','scaff', 'not'),('incoming_knowledge','high', 'low'),('incoming_attitude','high', 'low')]\n",
    "# attributes = [('learning2','high', 'low')]\n",
    "\n",
    "family_categories = [\"Family\",\"Family_tool\",\"Family_default\",\"Family_both\"]\n",
    "# family_categories = [\"Family\"]\n",
    "\n",
    "# sequence_counts = get_sequence_use_by_timebin(df,students,family_category,B,attribute,level1,level2,shortest_seq_length,longest_seq_length,N)\n",
    "# for k,v in sequence_counts.iteritems():\n",
    "#     print k,v, np.sum(v)"
   ]
  },
  {
   "cell_type": "markdown",
   "metadata": {
    "collapsed": true
   },
   "source": [
    "### We can calculate the information gain of each sequence by time bin"
   ]
  },
  {
   "cell_type": "code",
   "execution_count": 12,
   "metadata": {
    "collapsed": false
   },
   "outputs": [
    {
     "name": "stdout",
     "output_type": "stream",
     "text": [
      "For attribute learning2, categories Family\n",
      "Getting sequence use over 4 time bins for 96 students split by learning2. \n",
      "            Keeping only sequences used once by at least 19 students.\n",
      "For attribute learning2, categories Family_tool\n",
      "Getting sequence use over 4 time bins for 96 students split by learning2. \n",
      "            Keeping only sequences used once by at least 19 students.\n",
      "For attribute learning2, categories Family_default\n",
      "Getting sequence use over 4 time bins for 96 students split by learning2. \n",
      "            Keeping only sequences used once by at least 19 students.\n",
      "For attribute learning2, categories Family_both\n",
      "Getting sequence use over 4 time bins for 96 students split by learning2. \n",
      "            Keeping only sequences used once by at least 19 students.\n"
     ]
    },
    {
     "name": "stderr",
     "output_type": "stream",
     "text": [
      "C:\\Users\\Sarah\\Anaconda2\\lib\\site-packages\\matplotlib\\pyplot.py:516: RuntimeWarning: More than 20 figures have been opened. Figures created through the pyplot interface (`matplotlib.pyplot.figure`) are retained until explicitly closed and may consume too much memory. (To control this warning, see the rcParam `figure.max_open_warning`).\n",
      "  max_open_warning, RuntimeWarning)\n"
     ]
    },
    {
     "name": "stdout",
     "output_type": "stream",
     "text": [
      "For attribute scaffolding, categories Family\n",
      "Getting sequence use over 4 time bins for 96 students split by scaffolding. \n",
      "            Keeping only sequences used once by at least 19 students.\n",
      "For attribute scaffolding, categories Family_tool\n",
      "Getting sequence use over 4 time bins for 96 students split by scaffolding. \n",
      "            Keeping only sequences used once by at least 19 students.\n",
      "For attribute scaffolding, categories Family_default\n",
      "Getting sequence use over 4 time bins for 96 students split by scaffolding. \n",
      "            Keeping only sequences used once by at least 19 students.\n",
      "For attribute scaffolding, categories Family_both\n",
      "Getting sequence use over 4 time bins for 96 students split by scaffolding. \n",
      "            Keeping only sequences used once by at least 19 students.\n",
      "For attribute incoming_knowledge, categories Family\n",
      "Getting sequence use over 4 time bins for 96 students split by incoming_knowledge. \n",
      "            Keeping only sequences used once by at least 19 students.\n",
      "For attribute incoming_knowledge, categories Family_tool\n",
      "Getting sequence use over 4 time bins for 96 students split by incoming_knowledge. \n",
      "            Keeping only sequences used once by at least 19 students.\n",
      "For attribute incoming_knowledge, categories Family_default\n",
      "Getting sequence use over 4 time bins for 96 students split by incoming_knowledge. \n",
      "            Keeping only sequences used once by at least 19 students.\n",
      "For attribute incoming_knowledge, categories Family_both\n",
      "Getting sequence use over 4 time bins for 96 students split by incoming_knowledge. \n",
      "            Keeping only sequences used once by at least 19 students.\n",
      "For attribute incoming_attitude, categories Family\n",
      "Getting sequence use over 4 time bins for 96 students split by incoming_attitude. \n",
      "            Keeping only sequences used once by at least 19 students.\n",
      "For attribute incoming_attitude, categories Family_tool\n",
      "Getting sequence use over 4 time bins for 96 students split by incoming_attitude. \n",
      "            Keeping only sequences used once by at least 19 students.\n",
      "For attribute incoming_attitude, categories Family_default\n",
      "Getting sequence use over 4 time bins for 96 students split by incoming_attitude. \n",
      "            Keeping only sequences used once by at least 19 students.\n",
      "For attribute incoming_attitude, categories Family_both\n",
      "Getting sequence use over 4 time bins for 96 students split by incoming_attitude. \n",
      "            Keeping only sequences used once by at least 19 students.\n"
     ]
    }
   ],
   "source": [
    "parse_axis = {0:'time',1:'group',None:'time and group'}\n",
    "\n",
    "pdf = PdfPages('infogain_results.pdf')\n",
    "\n",
    "for attribute,level1,level2 in attributes:\n",
    "    for family_category in family_categories:\n",
    "        print \"For attribute {0}, categories {1}\".format(attribute,family_category)\n",
    "        pdf.savefig(add_text(attribute,family_category,N, shortest_seq_length, longest_seq_length,B))\n",
    "        sequence_counts = get_sequence_use_by_timebin(df,students,family_category,B,attribute,level1,level2,shortest_seq_length,longest_seq_length,N)\n",
    "        ylabels = [level1,level2]\n",
    "        for axis in [0,1,None]:\n",
    "            tops = get_top_seqs(rank_sequences(sequence_counts,B,axis),1)\n",
    "            for seq,infogain in tops:\n",
    "                title = '{0}: infogain {1} by {2}'.format(seq,round(infogain,3),parse_axis[axis])\n",
    "                plot = plot_heat_map(sequence_counts[seq],title, ylabels)\n",
    "                pdf.savefig( plot )\n",
    "pdf.close()"
   ]
  },
  {
   "cell_type": "code",
   "execution_count": null,
   "metadata": {
    "collapsed": true
   },
   "outputs": [],
   "source": []
  }
 ],
 "metadata": {
  "anaconda-cloud": {},
  "kernelspec": {
   "display_name": "Python 2",
   "language": "python",
   "name": "python2"
  },
  "language_info": {
   "codemirror_mode": {
    "name": "ipython",
    "version": 2
   },
   "file_extension": ".py",
   "mimetype": "text/x-python",
   "name": "python",
   "nbconvert_exporter": "python",
   "pygments_lexer": "ipython2",
   "version": "2.7.12"
  }
 },
 "nbformat": 4,
 "nbformat_minor": 0
}
