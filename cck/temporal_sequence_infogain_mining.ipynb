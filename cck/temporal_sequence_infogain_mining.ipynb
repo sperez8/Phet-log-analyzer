{
 "cells": [
  {
   "cell_type": "code",
   "execution_count": 1,
   "metadata": {
    "collapsed": false
   },
   "outputs": [],
   "source": [
    "import math\n",
    "import numpy as np\n",
    "import pandas as pd\n",
    "import sys\n",
    "import re\n",
    "from functions import *\n",
    "from mining_functions import *\n",
    "from collections import Counter\n",
    "from matplotlib.backends.backend_pdf import PdfPages\n",
    "np.set_printoptions(precision=2)\n",
    "pd.set_option('precision', 2)\n",
    "%matplotlib inline\n",
    "matplotlib.style.use('ggplot')"
   ]
  },
  {
   "cell_type": "code",
   "execution_count": 2,
   "metadata": {
    "collapsed": false
   },
   "outputs": [],
   "source": [
    "PATH = '/Google Drive/Jonathan Sarah Ido folder/data/CCK/'\n",
    "def get_path(path = PATH):\n",
    "    if os.name == 'posix':\n",
    "        return os.environ['HOME']+path #'/Google Drive/Jonathan Sarah Ido folder/data/CCK/'\n",
    "    elif os.name == 'nt':\n",
    "        return os.environ['USERPROFILE']+ path.replace('/','\\\\') #'\\\\Google Drive\\Jonathan Sarah Ido folder\\data\\CCK\\\\'\n",
    "    else:\n",
    "        raise Exception('OS not recongnized. I\\'m confused.')\n",
    "gitpath = '/Documents/git/Phet-log-analyzer/cck/raw_data_parsing_check/'\n",
    "df = pd.read_csv(get_path(path = gitpath) + 'phet_cck_user_actions+sophistication_WITHPAUSE_more_circuit_info.txt',index_col=False)\n",
    "# dfx = pd.read_csv('C:\\Users\\Sarah\\Documents\\git\\Phet-log-analyzer\\cck\\\\raw_data_parsing_check\\phet_cck_user_actions+sophistication_WITHPAUSE_more_circuit_info.txt',index_col=False)\n",
    "df[\"student\"] = df[\"student\"].astype('category')\n",
    "df[\"Family\"]=df[\"Family\"].str.capitalize()\n",
    "df[\"Family_tool\"]=df[\"Family_tool\"].str.capitalize()\n",
    "df[\"Family_default\"]=df[\"Family_default\"].str.capitalize()\n",
    "df[\"Family_both\"]=df[\"Family_both\"].str.capitalize()\n",
    "\n",
    "df_scores = pd.read_csv(data_path + 'MATCHING_phet_cck_user_data_anonymized.txt')\n",
    "df_scores[\"student\"] = df_scores[\"student\"].astype('category')"
   ]
  },
  {
   "cell_type": "code",
   "execution_count": 3,
   "metadata": {
    "collapsed": true
   },
   "outputs": [],
   "source": [
    "max_time = 25*60*1000\n",
    "max_times = {s:min(df[df['student']==s][\"Time Stamp\"])+max_time for s in set(df['student'])}\n",
    "\n",
    "def keep_by_time (row):\n",
    "    if row[\"Time Stamp\"] <= max_times[row[\"student\"]]:\n",
    "        return True\n",
    "    else: \n",
    "        return False\n",
    "\n",
    "df['keep'] = df.apply (lambda row: keep_by_time (row),axis=1)\n",
    "df=df[df['keep']]"
   ]
  },
  {
   "cell_type": "markdown",
   "metadata": {},
   "source": [
    "### Functions used to calculate information gain, plot use, etc..."
   ]
  },
  {
   "cell_type": "code",
   "execution_count": 4,
   "metadata": {
    "collapsed": false
   },
   "outputs": [],
   "source": [
    "def add_text(attribute,family_category,cut_off, shortest_seq_length, longest_seq_length,B):\n",
    "    text = \"\"\"Showing sequences for students split by {0}, using the categories {1}.\n",
    "            Removed sequences used by less than {2}% of students.\n",
    "            Found sequences of lenght {3} to {4}.\n",
    "            Using {5} time bins\"\"\".format(attribute,family_category,int(cut_off*100), shortest_seq_length, longest_seq_length,B)\n",
    "    fig = plt.figure(figsize=(10, 4))\n",
    "    ax = plt.gca()\n",
    "    ax.text(0.5,0.5,text,\n",
    "        horizontalalignment='center',\n",
    "        verticalalignment='center',\n",
    "        fontsize = 15)\n",
    "    plt.axis('off')\n",
    "    return fig\n",
    "\n",
    "\n",
    "def plot_heat_map(data, title, ylabels, DisplayXProb = True, DisplayYProb = True, show_cbar=True):\n",
    "\n",
    "    ''' \n",
    "    This function plots a heat map given a 2D numpy array.  The array elements relate \n",
    "    to the amount of times a certain sequence of actions is used by students belonging to a \n",
    "    certain group at a certain time segment of their activity.\n",
    "    \n",
    "    Arguments:\n",
    "    data: 2D numpy array (data.shape = n*m, where n is len(ylabels) and m is whatever time segment resolution used)\n",
    "    \n",
    "    ylabels: list of strings to label the y-axis of heat-map (i.e. the 2 student groups compared)\n",
    "    By default plot_heat_map will also display the probabilities used in entropy calc corresponding\n",
    "    to each row and column of data array (on the side of the plot opposite the x/ylabels).\n",
    "    i.e. probabilities that sequence is used by a certain group over all time \n",
    "    and probabilities that sequence is used for a certain time segment over all groups \n",
    "    \n",
    "    show_cbar: show colorbar to the left of plot\n",
    "    '''\n",
    "\n",
    "    fig, ax = plt.subplots()\n",
    "    heatmap = ax.pcolor(data, cmap=plt.cm.Blues, alpha=0.8, vmin=0)\n",
    "\n",
    "    #set title\n",
    "    ax.set_title(title,y=1,loc='left',fontsize=14)\n",
    "\n",
    "    # put the major ticks at the middle of each cell\n",
    "    ax.set_yticks(np.arange(data.shape[0]) + 0.5)\n",
    "    ax.set_xticks(np.arange(data.shape[1]) + 0.5)\n",
    "\n",
    "    # Set the labels\n",
    "    xlabels = map(str, np.arange(data.shape[1])+1) \n",
    "#     ax.set_xticklabels(xlabels, fontweight='bold')\n",
    "    ax.set_xticklabels([],)\n",
    "    ax.set_yticklabels(ylabels, fontweight='bold')\n",
    "\n",
    "    # Create new axes that will show probability that sequence is used by a certain group over all time \n",
    "    total = np.sum(data).astype(float) #total number of students that used sequence\n",
    "    if DisplayXProb == True:\n",
    "        probx = np.sum(data, axis=0)/total\n",
    "        xlabels2 = list(\"%.2f\" % px for px in probx)\n",
    "        ax2 = ax.twiny()\n",
    "        ax2.xaxis.tick_bottom()\n",
    "        ax2.invert_yaxis()\n",
    "        ax2.set_frame_on(False)\n",
    "        ax2.set_xlim(ax.get_xlim())\n",
    "        ax2.set_xticks(np.arange(data.shape[1]) + 0.5)\n",
    "        ax2.set_xticklabels(xlabels2)\n",
    "        ax2.tick_params(\n",
    "            axis='x',           # changes apply to both the x and y-axis\n",
    "            which='both',       # both major and minor ticks are affected\n",
    "            bottom='off',       # ticks along the those edges are off\n",
    "            top='off') \n",
    "\n",
    "    # Create new axes that will show probability that sequence is used for a certain time segment over all groups \n",
    "    if DisplayYProb == True:\n",
    "        proby = np.sum(data, axis=1)/total\n",
    "        ylabels3 = list(\"%.2f\" % py for py in proby)\n",
    "        ax3 = ax.twinx()\n",
    "        ax3.set_frame_on(False)\n",
    "        ax3.set_ylim(ax.get_ylim())\n",
    "        ax3.set_yticks(np.arange(data.shape[0]) + 0.5)\n",
    "        ax3.set_yticklabels(ylabels3)\t\n",
    "        ax3.tick_params(\n",
    "            axis='y',           # changes apply to both the x and y-axis\n",
    "            which='both',       # both major and minor ticks are affected\n",
    "            right='off',        # ticks along the those edges are off\n",
    "            left='off') \n",
    "\n",
    "    # put time labels on top\n",
    "    ax.xaxis.tick_top()\n",
    "    # figure size \n",
    "    fig.set_size_inches(10, 4)\n",
    "    # turn off the frame\n",
    "    ax.set_frame_on(False)\n",
    "    # rotate the xticks labels if needed\n",
    "    # plt.xticks(rotation=90)\n",
    "    # Turn off all the ticks\n",
    "    ax.tick_params(\n",
    "        axis='both',        # changes apply to both the x and y-axis\n",
    "        which='both',       # both major and minor ticks are affected\n",
    "        bottom='off',       # ticks along the those edges are off\n",
    "        right='off', \n",
    "        left='off',\n",
    "        top='off') \n",
    "    \n",
    "    if show_cbar == True: # Add colorbar\n",
    "        cbaxes = fig.add_axes([0.95, 0.1, 0.02, 0.8])  # [left, bottom, width, height]\n",
    "        cbar = fig.colorbar(heatmap, cax=cbaxes)\n",
    "#         cbarticks = [np.amin(data),(np.amin(data)+np.amax(data))/2,np.amax(data)]\n",
    "#         cbar.set_ticks(cbarticks)\n",
    "#         cbar.set_ticklabels(map(str, cbarticks))\n",
    "    \n",
    "    return fig"
   ]
  },
  {
   "cell_type": "code",
   "execution_count": 5,
   "metadata": {
    "collapsed": true
   },
   "outputs": [],
   "source": [
    "def rank_sequences(sequence_counts,B,axesnum=None):\n",
    "    ranks = []\n",
    "    for seq,counts in sequence_counts.iteritems():\n",
    "#         if np.sum(counts)>0:\n",
    "        ranks.append((seq,calc_infogain(counts,B,axesnum)))\n",
    "    return sorted(ranks, key=lambda tup: tup[1])\n",
    "\n",
    "def get_top_seqs(ranks,N):\n",
    "    return ranks[-N:]"
   ]
  },
  {
   "cell_type": "markdown",
   "metadata": {},
   "source": [
    "### Let's investigate how best to split students"
   ]
  },
  {
   "cell_type": "code",
   "execution_count": 6,
   "metadata": {
    "collapsed": false
   },
   "outputs": [
    {
     "data": {
      "text/plain": [
       "array([[<matplotlib.axes._subplots.AxesSubplot object at 0x000000000E4FD240>]], dtype=object)"
      ]
     },
     "execution_count": 6,
     "metadata": {},
     "output_type": "execute_result"
    },
    {
     "data": {
      "image/png": "[encoded data removed]",
      "text/plain": [
       "<matplotlib.figure.Figure at 0x7e6bf98>"
      ]
     },
     "metadata": {},
     "output_type": "display_data"
    }
   ],
   "source": [
    "df_scores.hist(column='z pre')"
   ]
  },
  {
   "cell_type": "markdown",
   "metadata": {},
   "source": [
    "#### Clearly, students' pre test is a bi modal distribution. Let's split them this way."
   ]
  },
  {
   "cell_type": "code",
   "execution_count": 7,
   "metadata": {
    "collapsed": false
   },
   "outputs": [
    {
     "data": {
      "text/plain": [
       "array([[<matplotlib.axes._subplots.AxesSubplot object at 0x00000000113628D0>]], dtype=object)"
      ]
     },
     "execution_count": 7,
     "metadata": {},
     "output_type": "execute_result"
    },
    {
     "data": {
      "image/png": "[encoded data removed]",
      "text/plain": [
       "<matplotlib.figure.Figure at 0x113623c8>"
      ]
     },
     "metadata": {},
     "output_type": "display_data"
    }
   ],
   "source": [
    "def label_learning (median,row,column):\n",
    "    if row[column] >= median: return 'high'\n",
    "    else: return 'low'\n",
    "    \n",
    "median_learning1 = np.median(df_scores['z post t1'])\n",
    "df_scores['split_post_t1'] = df_scores.apply (lambda row: label_learning (median_learning1,row,\"z post t1\"),axis=1)\n",
    "df_scores[df_scores['split_post_t1']=='high'].hist(column='z post t2')"
   ]
  },
  {
   "cell_type": "code",
   "execution_count": 8,
   "metadata": {
    "collapsed": false
   },
   "outputs": [],
   "source": [
    "median_learning1 = 0.45\n",
    "df_scores['split pre'] = df_scores.apply (lambda row: label_learning (median_learning1,row,\"z pre\"),axis=1)\n",
    "median_learning1 = np.median(df_scores[df_scores['split pre']=='low']['z post t2'])\n",
    "df_scores['split post t2'] = df_scores.apply (lambda row: label_learning (median_learning1,row,\"z post t2\"),axis=1)"
   ]
  },
  {
   "cell_type": "code",
   "execution_count": 9,
   "metadata": {
    "collapsed": false
   },
   "outputs": [
    {
     "name": "stdout",
     "output_type": "stream",
     "text": [
      "high high 19\n",
      "high low 3\n",
      "low high 38\n",
      "low low 36\n"
     ]
    }
   ],
   "source": [
    "for x in ['high','low']:\n",
    "    for y in ['high','low']:\n",
    "        print x,y, len(set(df_scores[(df_scores['split pre']==x)&(df_scores['split post t2']==y)]['student']))"
   ]
  },
  {
   "cell_type": "code",
   "execution_count": 10,
   "metadata": {
    "collapsed": false
   },
   "outputs": [
    {
     "name": "stdout",
     "output_type": "stream",
     "text": [
      "57 37 20 17\n"
     ]
    }
   ],
   "source": [
    "a = set(get_students('split post t2','high'))\n",
    "b = set(get_students('used this circuit sim before?',1))\n",
    "c = set(get_students('split post t2','low'))\n",
    "print len(a), len(b), len(a.intersection(b)), len(c.intersection(b))"
   ]
  },
  {
   "cell_type": "code",
   "execution_count": 11,
   "metadata": {
    "collapsed": false
   },
   "outputs": [
    {
     "name": "stdout",
     "output_type": "stream",
     "text": [
      "(-0.010227478363913882, 0.93108127855166911)\n",
      "SpearmanrResult(correlation=0.056539492731624882, pvalue=0.63231299992151602)\n"
     ]
    },
    {
     "data": {
      "text/plain": [
       "[<matplotlib.lines.Line2D at 0x104a7630>]"
      ]
     },
     "execution_count": 11,
     "metadata": {},
     "output_type": "execute_result"
    },
    {
     "data": {
      "image/png": "[encoded data removed]",
      "text/plain": [
       "<matplotlib.figure.Figure at 0xb6fcfd0>"
      ]
     },
     "metadata": {},
     "output_type": "display_data"
    }
   ],
   "source": [
    "import scipy.stats as st\n",
    "print st.pearsonr(df_scores[df_scores['split pre']=='low'][\"z pre\"],df_scores[df_scores['split pre']=='low'][\"z post t2\"] )\n",
    "print st.spearmanr(df_scores[df_scores['split pre']=='low'][\"z pre\"],df_scores[df_scores['split pre']=='low'][\"z post t2\"] )\n",
    "plt.plot(df_scores[df_scores['split pre']=='low'][\"z pre\"],df_scores[df_scores['split pre']=='low'][\"z post t2\"],'.')"
   ]
  },
  {
   "cell_type": "markdown",
   "metadata": {},
   "source": [
    "### We can calculate the information gain of each sequence by time bin \n",
    "given a split by pre test"
   ]
  },
  {
   "cell_type": "code",
   "execution_count": 12,
   "metadata": {
    "collapsed": false
   },
   "outputs": [],
   "source": [
    "### if redoing this analysis, fix algorithm wot use frequency of use in each time bin because we have unequal groups\n",
    "\n",
    "# students = get_students()\n",
    "# CUT_OFF = 0.35 #we keep only sequences used once by at least 20% of students\n",
    "# shortest_seq_length = 2\n",
    "# longest_seq_length = 10\n",
    "# BINS = 4  #number of bins\n",
    "\n",
    "# ### PARAMETERS\n",
    "# attributes = [('split pre','high','low')]\n",
    "# family_categories = [\"Family\",\"Family_tool\",\"Family_default\"]\n",
    "\n",
    "# parse_axis = {0:'time',1:'group',None:'time and group'}\n",
    "# pdf = PdfPages('infogain_results_by_pre.pdf')\n",
    "\n",
    "# for attribute,level1,level2 in attributes:\n",
    "#     for family_category in family_categories:\n",
    "#         for axis in [0,1,None]:\n",
    "#             if axis == 1: B = 1\n",
    "#             else: B = BINS\n",
    "        \n",
    "#             print \"For attribute {0}, category {1}\".format(attribute,family_category)\n",
    "#             pdf.savefig(add_text(attribute,family_category,CUT_OFF, shortest_seq_length, longest_seq_length,B))\n",
    "#             sequence_counts = get_sequence_use_by_timebin(df,students,family_category,\n",
    "#                                                           B,attribute,level1,level2,\n",
    "#                                                           shortest_seq_length,longest_seq_length,CUT_OFF)\n",
    "#             print len(sequence_counts)\n",
    "#             ylabels = [level1,level2]\n",
    "#             tops = get_top_seqs(rank_sequences(sequence_counts,B,axis),5)\n",
    "#             for seq,infogain in tops:\n",
    "# #                 print seq, sequence_counts[seq]\n",
    "#                 title = '{0}: infogain {1} by {2}'.format(seq,round(infogain,3),parse_axis[axis])\n",
    "#                 plot = plot_heat_map(sequence_counts[seq],title, ylabels)\n",
    "#                 pdf.savefig( plot )\n",
    "#                 plot.clf()\n",
    "# pdf.close()"
   ]
  },
  {
   "cell_type": "markdown",
   "metadata": {},
   "source": [
    "### We can calculate the information gain of each sequence by time bin \n",
    "given a split by post test, for only students that did poorly on pre test"
   ]
  },
  {
   "cell_type": "code",
   "execution_count": 13,
   "metadata": {
    "collapsed": false
   },
   "outputs": [
    {
     "name": "stdout",
     "output_type": "stream",
     "text": [
      "For attribute split post t2, categories Family\n",
      "Getting sequence use over 4 time bins for 74 students split by split post t2. \n",
      "    Keeping only sequences used once by at least 35% of students \n",
      "    in each group and overall.\n",
      "time\n",
      "CTcPTcP 0.3641088892\n",
      "CTsPTs 0.376542673861\n",
      "TbPC 0.392319968297\n",
      "CTsPTsP 0.408294311177\n",
      "PCTsP 0.445414830662\n",
      "CTbP 0.48959483968\n",
      "CTbPC 0.506922529124\n",
      "TbCTb 0.761104577765\n",
      "TbCP 0.878166070846\n",
      "PTb 0.88163019901\n",
      "PTbC 1.00388178622\n",
      "TbCPC 1.01357327127\n",
      "CTbCP 1.07255207679\n",
      "TbCTbP 1.07807190511\n",
      "CPTb 1.5861831497\n",
      "For attribute split post t2, categories Family\n",
      "Getting sequence use over 1 time bins for 74 students split by split post t2. \n",
      "    Keeping only sequences used once by at least 35% of students \n",
      "    in each group and overall.\n",
      "group\n",
      "TcCTcCTc 0.0573168107445\n",
      "CPCPCP 0.0706363739863\n",
      "TsPTsP 0.0817041659455\n",
      "CPTsP 0.0817041659455\n"
     ]
    },
    {
     "name": "stderr",
     "output_type": "stream",
     "text": [
      "C:\\Users\\Sarah\\Anaconda2\\lib\\site-packages\\matplotlib\\pyplot.py:516: RuntimeWarning: More than 20 figures have been opened. Figures created through the pyplot interface (`matplotlib.pyplot.figure`) are retained until explicitly closed and may consume too much memory. (To control this warning, see the rcParam `figure.max_open_warning`).\n",
      "  max_open_warning, RuntimeWarning)\n"
     ]
    },
    {
     "name": "stdout",
     "output_type": "stream",
     "text": [
      "CPCPCPC 0.0817041659455\n",
      "CPTs 0.097606717205\n",
      "TsCTsC 0.100256241302\n",
      "TcCPC 0.109508359781\n",
      "PCPCTcC 0.126018951873\n",
      "PTsP 0.142851562572\n",
      "CTsPTsP 0.147594821351\n",
      "CPCTsC 0.147594821351\n",
      "TsPTsPC 0.147594821351\n",
      "PCTcCTcC 0.147594821351\n",
      "PTsPC 0.174373473842\n",
      "For attribute split post t2, categories Family\n",
      "Getting sequence use over 4 time bins for 74 students split by split post t2. \n",
      "    Keeping only sequences used once by at least 35% of students \n",
      "    in each group and overall.\n",
      "time and group\n",
      "PTsPC 0.500601817653\n",
      "CTbPC 0.525396482895\n",
      "TsPTsPC 0.526730310485\n",
      "CTbP 0.533804738916\n",
      "PCTcCTcC 0.542080435435\n",
      "PCTsP 0.576408927464\n",
      "CTsPTsP 0.743767189094\n",
      "TbCTb 0.76916263947\n",
      "PTb 0.941032318835\n",
      "TbCP 0.954185868451\n",
      "TbCPC 1.0638427325\n",
      "TbCTbP 1.08711237848\n",
      "PTbC 1.09946672294\n",
      "CTbCP 1.17442707894\n",
      "CPTb 1.60816422215\n"
     ]
    },
    {
     "data": {
      "image/png": "[encoded data removed]",
      "text/plain": [
       "<matplotlib.figure.Figure at 0x105b5550>"
      ]
     },
     "metadata": {},
     "output_type": "display_data"
    },
    {
     "data": {
      "text/plain": [
       "<matplotlib.figure.Figure at 0xb734240>"
      ]
     },
     "metadata": {},
     "output_type": "display_data"
    },
    {
     "data": {
      "text/plain": [
       "<matplotlib.figure.Figure at 0xb74ecc0>"
      ]
     },
     "metadata": {},
     "output_type": "display_data"
    },
    {
     "data": {
      "text/plain": [
       "<matplotlib.figure.Figure at 0x10eefb70>"
      ]
     },
     "metadata": {},
     "output_type": "display_data"
    },
    {
     "data": {
      "text/plain": [
       "<matplotlib.figure.Figure at 0x10f626d8>"
      ]
     },
     "metadata": {},
     "output_type": "display_data"
    },
    {
     "data": {
      "text/plain": [
       "<matplotlib.figure.Figure at 0x10c280f0>"
      ]
     },
     "metadata": {},
     "output_type": "display_data"
    },
    {
     "data": {
      "text/plain": [
       "<matplotlib.figure.Figure at 0x10c25278>"
      ]
     },
     "metadata": {},
     "output_type": "display_data"
    },
    {
     "data": {
      "text/plain": [
       "<matplotlib.figure.Figure at 0x11476da0>"
      ]
     },
     "metadata": {},
     "output_type": "display_data"
    },
    {
     "data": {
      "text/plain": [
       "<matplotlib.figure.Figure at 0x1182d4a8>"
      ]
     },
     "metadata": {},
     "output_type": "display_data"
    },
    {
     "data": {
      "text/plain": [
       "<matplotlib.figure.Figure at 0x10f629b0>"
      ]
     },
     "metadata": {},
     "output_type": "display_data"
    },
    {
     "data": {
      "text/plain": [
       "<matplotlib.figure.Figure at 0x10736b00>"
      ]
     },
     "metadata": {},
     "output_type": "display_data"
    },
    {
     "data": {
      "text/plain": [
       "<matplotlib.figure.Figure at 0x1181b9b0>"
      ]
     },
     "metadata": {},
     "output_type": "display_data"
    },
    {
     "data": {
      "text/plain": [
       "<matplotlib.figure.Figure at 0x10ec6c50>"
      ]
     },
     "metadata": {},
     "output_type": "display_data"
    },
    {
     "data": {
      "text/plain": [
       "<matplotlib.figure.Figure at 0x10fdd470>"
      ]
     },
     "metadata": {},
     "output_type": "display_data"
    },
    {
     "data": {
      "text/plain": [
       "<matplotlib.figure.Figure at 0x1152a278>"
      ]
     },
     "metadata": {},
     "output_type": "display_data"
    },
    {
     "data": {
      "text/plain": [
       "<matplotlib.figure.Figure at 0x10f0ef28>"
      ]
     },
     "metadata": {},
     "output_type": "display_data"
    },
    {
     "data": {
      "image/png": "[encoded data removed]",
      "text/plain": [
       "<matplotlib.figure.Figure at 0x11a7c9e8>"
      ]
     },
     "metadata": {},
     "output_type": "display_data"
    },
    {
     "data": {
      "text/plain": [
       "<matplotlib.figure.Figure at 0xe4a6fd0>"
      ]
     },
     "metadata": {},
     "output_type": "display_data"
    },
    {
     "data": {
      "text/plain": [
       "<matplotlib.figure.Figure at 0x11847f60>"
      ]
     },
     "metadata": {},
     "output_type": "display_data"
    },
    {
     "data": {
      "text/plain": [
       "<matplotlib.figure.Figure at 0x114763c8>"
      ]
     },
     "metadata": {},
     "output_type": "display_data"
    },
    {
     "data": {
      "text/plain": [
       "<matplotlib.figure.Figure at 0x10c21358>"
      ]
     },
     "metadata": {},
     "output_type": "display_data"
    },
    {
     "data": {
      "text/plain": [
       "<matplotlib.figure.Figure at 0x10c211d0>"
      ]
     },
     "metadata": {},
     "output_type": "display_data"
    },
    {
     "data": {
      "text/plain": [
       "<matplotlib.figure.Figure at 0x10765b00>"
      ]
     },
     "metadata": {},
     "output_type": "display_data"
    },
    {
     "data": {
      "text/plain": [
       "<matplotlib.figure.Figure at 0x11097518>"
      ]
     },
     "metadata": {},
     "output_type": "display_data"
    },
    {
     "data": {
      "text/plain": [
       "<matplotlib.figure.Figure at 0x11ca8208>"
      ]
     },
     "metadata": {},
     "output_type": "display_data"
    },
    {
     "data": {
      "text/plain": [
       "<matplotlib.figure.Figure at 0x10f5c0b8>"
      ]
     },
     "metadata": {},
     "output_type": "display_data"
    },
    {
     "data": {
      "text/plain": [
       "<matplotlib.figure.Figure at 0x1192c668>"
      ]
     },
     "metadata": {},
     "output_type": "display_data"
    },
    {
     "data": {
      "text/plain": [
       "<matplotlib.figure.Figure at 0x10c3ea90>"
      ]
     },
     "metadata": {},
     "output_type": "display_data"
    },
    {
     "data": {
      "text/plain": [
       "<matplotlib.figure.Figure at 0x1182da90>"
      ]
     },
     "metadata": {},
     "output_type": "display_data"
    },
    {
     "data": {
      "text/plain": [
       "<matplotlib.figure.Figure at 0x109bc080>"
      ]
     },
     "metadata": {},
     "output_type": "display_data"
    },
    {
     "data": {
      "text/plain": [
       "<matplotlib.figure.Figure at 0x10d896d8>"
      ]
     },
     "metadata": {},
     "output_type": "display_data"
    },
    {
     "data": {
      "text/plain": [
       "<matplotlib.figure.Figure at 0x11eec2b0>"
      ]
     },
     "metadata": {},
     "output_type": "display_data"
    },
    {
     "data": {
      "image/png": "[encoded data removed]",
      "text/plain": [
       "<matplotlib.figure.Figure at 0x1169f438>"
      ]
     },
     "metadata": {},
     "output_type": "display_data"
    },
    {
     "data": {
      "text/plain": [
       "<matplotlib.figure.Figure at 0xdf7e4a8>"
      ]
     },
     "metadata": {},
     "output_type": "display_data"
    },
    {
     "data": {
      "text/plain": [
       "<matplotlib.figure.Figure at 0x10756a58>"
      ]
     },
     "metadata": {},
     "output_type": "display_data"
    },
    {
     "data": {
      "text/plain": [
       "<matplotlib.figure.Figure at 0x110970f0>"
      ]
     },
     "metadata": {},
     "output_type": "display_data"
    },
    {
     "data": {
      "text/plain": [
       "<matplotlib.figure.Figure at 0x10b99a90>"
      ]
     },
     "metadata": {},
     "output_type": "display_data"
    },
    {
     "data": {
      "text/plain": [
       "<matplotlib.figure.Figure at 0x10eb02e8>"
      ]
     },
     "metadata": {},
     "output_type": "display_data"
    },
    {
     "data": {
      "text/plain": [
       "<matplotlib.figure.Figure at 0x120f56a0>"
      ]
     },
     "metadata": {},
     "output_type": "display_data"
    },
    {
     "data": {
      "text/plain": [
       "<matplotlib.figure.Figure at 0x11809390>"
      ]
     },
     "metadata": {},
     "output_type": "display_data"
    },
    {
     "data": {
      "text/plain": [
       "<matplotlib.figure.Figure at 0x1151e668>"
      ]
     },
     "metadata": {},
     "output_type": "display_data"
    },
    {
     "data": {
      "text/plain": [
       "<matplotlib.figure.Figure at 0x10796c88>"
      ]
     },
     "metadata": {},
     "output_type": "display_data"
    },
    {
     "data": {
      "text/plain": [
       "<matplotlib.figure.Figure at 0x10d714a8>"
      ]
     },
     "metadata": {},
     "output_type": "display_data"
    },
    {
     "data": {
      "text/plain": [
       "<matplotlib.figure.Figure at 0x10fce828>"
      ]
     },
     "metadata": {},
     "output_type": "display_data"
    },
    {
     "data": {
      "text/plain": [
       "<matplotlib.figure.Figure at 0x115ba9b0>"
      ]
     },
     "metadata": {},
     "output_type": "display_data"
    },
    {
     "data": {
      "text/plain": [
       "<matplotlib.figure.Figure at 0x10faa2e8>"
      ]
     },
     "metadata": {},
     "output_type": "display_data"
    },
    {
     "data": {
      "text/plain": [
       "<matplotlib.figure.Figure at 0x10c3a198>"
      ]
     },
     "metadata": {},
     "output_type": "display_data"
    },
    {
     "data": {
      "text/plain": [
       "<matplotlib.figure.Figure at 0x118a1d30>"
      ]
     },
     "metadata": {},
     "output_type": "display_data"
    }
   ],
   "source": [
    "students = get_students(attribute='split pre',level='low')\n",
    "CUT_OFF = 0.35 #we keep only sequences used once by at least 10% of students\n",
    "shortest_seq_length = 2\n",
    "longest_seq_length = 10\n",
    "BINS = 4  #number of bins\n",
    "\n",
    "### PARAMETERS\n",
    "attributes = [('split post t2','high','low')]\n",
    "family_categories = [\"Family\"]#,\"Family_tool\",\"Family_default\"]\n",
    "\n",
    "parse_axis = {0:'time',1:'group',None:'time and group'}\n",
    "pdf = PdfPages('infogain_results_by_post2.pdf')\n",
    "\n",
    "for attribute,level1,level2 in attributes:\n",
    "    for family_category in family_categories:\n",
    "        for axis in [0,1,None]:\n",
    "            if axis == 1: B = 1\n",
    "            else: B = BINS\n",
    "        \n",
    "            print \"For attribute {0}, categories {1}\".format(attribute,family_category)\n",
    "            pdf.savefig(add_text(attribute,family_category,CUT_OFF, shortest_seq_length, longest_seq_length,B))\n",
    "            sequence_counts = get_sequence_use_by_timebin(df,students,family_category,\n",
    "                                                          B,attribute,level1,level2,\n",
    "                                                          shortest_seq_length,longest_seq_length,CUT_OFF)\n",
    "            ylabels = [level1,level2]\n",
    "            tops = get_top_seqs(rank_sequences(sequence_counts,B,axis),15)\n",
    "            print parse_axis[axis]\n",
    "            for seq,infogain in tops:\n",
    "                print seq, infogain\n",
    "                title = '{0}: infogain {1} by {2}'.format(seq,round(infogain,3),parse_axis[axis])\n",
    "                plot = plot_heat_map(sequence_counts[seq],title, ylabels)\n",
    "                pdf.savefig( plot )\n",
    "                plot.clf()\n",
    "pdf.close()"
   ]
  },
  {
   "cell_type": "markdown",
   "metadata": {},
   "source": [
    "### We repeat the same analysis, only remove the first time bin before to see if what students do in other time bins differentiates them as well (though not as significantly)."
   ]
  },
  {
   "cell_type": "code",
   "execution_count": 14,
   "metadata": {
    "collapsed": false
   },
   "outputs": [],
   "source": [
    "# parse_axis = {0:'time',1:'group',None:'time and group'}\n",
    "\n",
    "# pdf = PdfPages('infogain_results_no_first_bin.pdf')\n",
    "\n",
    "# for attribute,level1,level2 in attributes:\n",
    "#     for family_category in family_categories:\n",
    "#         for axis in [0,1,None]:\n",
    "#             if axis == 1:\n",
    "#                 B = 1\n",
    "#             else:\n",
    "#                 B = 3\n",
    "        \n",
    "#             print \"For attribute {0}, categories {1}\".format(attribute,family_category)\n",
    "#             pdf.savefig(add_text(attribute,family_category,N, shortest_seq_length, longest_seq_length,B))\n",
    "#             sequence_counts = get_sequence_use_by_timebin(df,students,family_category,B,attribute,level1,level2,shortest_seq_length,longest_seq_length,N)\n",
    "#             sequence_counts = remove_first_bin(sequence_counts)\n",
    "#             ylabels = [level1,level2]\n",
    "#             tops = get_top_seqs(rank_sequences(sequence_counts,B,axis),1)\n",
    "#             for seq,infogain in tops:\n",
    "#                 print seq, sequence_counts[seq]\n",
    "#                 title = '{0}: infogain {1} by {2}'.format(seq,round(infogain,3),parse_axis[axis])\n",
    "#                 plot = plot_heat_map(sequence_counts[seq],title, ylabels)\n",
    "#                 pdf.savefig( plot )\n",
    "#                 plot.clf()\n",
    "# pdf.close()"
   ]
  },
  {
   "cell_type": "code",
   "execution_count": 15,
   "metadata": {
    "collapsed": false
   },
   "outputs": [],
   "source": [
    "# def remove_first_bin(sequence_counts):\n",
    "#     new_seq_counts = {}\n",
    "#     for s,c in sequence_counts.iteritems():\n",
    "#         new_seq_counts[s] = c[:,1:]\n",
    "#     return new_seq_counts  "
   ]
  },
  {
   "cell_type": "code",
   "execution_count": 16,
   "metadata": {
    "collapsed": false
   },
   "outputs": [
    {
     "name": "stdout",
     "output_type": "stream",
     "text": [
      "Getting sequence use over 4 time bins for 74 students split by split post t2. \n",
      "    Keeping only sequences used once by at least 35% of students \n",
      "    in each group and overall.\n"
     ]
    }
   ],
   "source": [
    "students = get_students(attribute='split pre',level='low')\n",
    "CUT_OFF = 0.35 #we keep only sequences used once by at least 35% of students\n",
    "shortest_seq_length = 1\n",
    "longest_seq_length = 10\n",
    "B = 4  #number of bins\n",
    "\n",
    "### PARAMETERS\n",
    "attribute, level1, level2 = ('split post t2','high','low')\n",
    "family_category = \"Family\"\n",
    "sequence_counts = get_sequence_use_by_timebin(df,students,family_category,\n",
    "                                                          B,attribute,level1,level2,\n",
    "                                                          shortest_seq_length,longest_seq_length,CUT_OFF)"
   ]
  },
  {
   "cell_type": "code",
   "execution_count": 17,
   "metadata": {
    "collapsed": false
   },
   "outputs": [
    {
     "name": "stdout",
     "output_type": "stream",
     "text": [
      "Figure(800x320)\n"
     ]
    },
    {
     "data": {
      "image/png": "[encoded data removed]",
      "text/plain": [
       "<matplotlib.figure.Figure at 0xb729cc0>"
      ]
     },
     "metadata": {},
     "output_type": "display_data"
    }
   ],
   "source": [
    "print plot_heat_map(sequence_counts['PTsP'],'','')"
   ]
  },
  {
   "cell_type": "code",
   "execution_count": 18,
   "metadata": {
    "collapsed": false
   },
   "outputs": [
    {
     "name": "stdout",
     "output_type": "stream",
     "text": [
      "Figure(800x320)\n"
     ]
    },
    {
     "data": {
      "image/png": "[encoded data removed]",
      "text/plain": [
       "<matplotlib.figure.Figure at 0x10670400>"
      ]
     },
     "metadata": {},
     "output_type": "display_data"
    }
   ],
   "source": [
    "print plot_heat_map(sequence_counts['Ts'],'','')"
   ]
  },
  {
   "cell_type": "code",
   "execution_count": 19,
   "metadata": {
    "collapsed": false
   },
   "outputs": [
    {
     "name": "stdout",
     "output_type": "stream",
     "text": [
      "Figure(800x320)\n"
     ]
    },
    {
     "data": {
      "image/png": "[encoded data removed]",
      "text/plain": [
       "<matplotlib.figure.Figure at 0x11072550>"
      ]
     },
     "metadata": {},
     "output_type": "display_data"
    }
   ],
   "source": [
    "print plot_heat_map(sequence_counts['Tc'],'','')"
   ]
  },
  {
   "cell_type": "code",
   "execution_count": null,
   "metadata": {
    "collapsed": true
   },
   "outputs": [],
   "source": []
  }
 ],
 "metadata": {
  "anaconda-cloud": {},
  "kernelspec": {
   "display_name": "Python 2",
   "language": "python",
   "name": "python2"
  },
  "language_info": {
   "codemirror_mode": {
    "name": "ipython",
    "version": 2
   },
   "file_extension": ".py",
   "mimetype": "text/x-python",
   "name": "python",
   "nbconvert_exporter": "python",
   "pygments_lexer": "ipython2",
   "version": "2.7.12"
  }
 },
 "nbformat": 4,
 "nbformat_minor": 0
}
