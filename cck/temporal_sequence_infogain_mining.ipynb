{
 "cells": [
  {
   "cell_type": "code",
   "execution_count": 1,
   "metadata": {
    "collapsed": false
   },
   "outputs": [],
   "source": [
    "import numpy as np\n",
    "import pandas as pd\n",
    "import sys\n",
    "import getpass\n",
    "import re\n",
    "from functions import *\n",
    "from collections import Counter\n",
    "import copy\n",
    "np.set_printoptions(precision=2)\n",
    "pd.set_option('precision', 2)\n",
    "%matplotlib inline\n",
    "matplotlib.style.use('ggplot')"
   ]
  },
  {
   "cell_type": "code",
   "execution_count": 2,
   "metadata": {
    "collapsed": false
   },
   "outputs": [],
   "source": [
    "PATH = '/Google Drive/Jonathan Sarah Ido folder/data/CCK/'\n",
    "def get_path(path = PATH):\n",
    "    if os.name == 'posix':\n",
    "        return os.environ['HOME']+path #'/Google Drive/Jonathan Sarah Ido folder/data/CCK/'\n",
    "    elif os.name == 'nt':\n",
    "        return os.environ['USERPROFILE']+ path.replace('/','\\\\') #'\\\\Google Drive\\Jonathan Sarah Ido folder\\data\\CCK\\\\'\n",
    "    else:\n",
    "        raise Exception('OS not recongnized. I\\'m confused.')\n",
    "gitpath = '/Documents/git/Phet-log-analyzer/cck/raw_data_parsing_check/'\n",
    "df = pd.read_csv(get_path(path = gitpath) + 'phet_cck_user_actions+sophistication_WITHPAUSE_more_circuit_info.txt',index_col=False)\n",
    "# dfx = pd.read_csv('C:\\Users\\Sarah\\Documents\\git\\Phet-log-analyzer\\cck\\\\raw_data_parsing_check\\phet_cck_user_actions+sophistication_WITHPAUSE_more_circuit_info.txt',index_col=False)\n",
    "df[\"student\"] = df[\"student\"].astype('category')\n",
    "df[\"Family\"]=df[\"Family\"].str.capitalize()\n",
    "\n",
    "df_scores = pd.read_csv(data_path + 'MATCHING_phet_cck_user_data_anonymized.txt')\n",
    "df_scores[\"student\"] = df_scores[\"student\"].astype('category')"
   ]
  },
  {
   "cell_type": "code",
   "execution_count": 3,
   "metadata": {
    "collapsed": false
   },
   "outputs": [],
   "source": [
    "CUT_OFF_SEQ_USE = 0.25"
   ]
  },
  {
   "cell_type": "markdown",
   "metadata": {
    "collapsed": false
   },
   "source": [
    "Let's get the sequences by students in blocks of actions."
   ]
  },
  {
   "cell_type": "markdown",
   "metadata": {
    "collapsed": true
   },
   "source": [
    "## Here is how we get sequences "
   ]
  },
  {
   "cell_type": "code",
   "execution_count": 66,
   "metadata": {
    "collapsed": false
   },
   "outputs": [],
   "source": [
    "converter =  {\"Construct\" : \"C\",\n",
    "\"Interface\" : \"I\",\n",
    "\"Pause\" : \"P\",\n",
    "\"Test_basic\" : \"Tb\",\n",
    "\"Test_basic_default\" : \"Tbd\",\n",
    "\"Test_basic_nonContactAmmeter\" : \"Tba\",\n",
    "\"Test_basic_nonContactAmmeter_default\" : \"Tbad\",\n",
    "\"Test_basic_nonContactAmmeter_not\" : \"Tban\",\n",
    "\"Test_basic_not\" : \"Tbn\",\n",
    "\"Test_basic_voltmeter\" : \"Tbv\",\n",
    "\"Test_basic_voltmeter_default\" : \"Tbvd\",\n",
    "\"Test_basic_voltmeter_not\" : \"Tbvn\",\n",
    "\"Test_complex\" : \"Tc\",\n",
    "\"Test_complex_default\" : \"Tcd\",\n",
    "\"Test_complex_nonContactAmmeter\" : \"Tca\",\n",
    "\"Test_complex_nonContactAmmeter_default\" : \"Tcad\",\n",
    "\"Test_complex_nonContactAmmeter_not\" : \"Tcan\",\n",
    "\"Test_complex_not\" : \"Tcn\",\n",
    "\"Test_complex_seriesAmmeter\" : \"Tc\",\n",
    "\"Test_complex_seriesAmmeter_default\" : \"Tcd\",\n",
    "\"Test_complex_seriesAmmeter_not\" : \"Tcn\",\n",
    "\"Test_complex_voltmeter\" : \"Tcv\",\n",
    "\"Test_complex_voltmeter_default\" : \"Tcvd\",\n",
    "\"Test_complex_voltmeter_not\" : \"Tcvn\",\n",
    "\"Test_other\" : \"To\",\n",
    "\"Test_other_default\" : \"Tod\",\n",
    "\"Test_other_nonContactAmmeter\" : \"Toa\",\n",
    "\"Test_other_nonContactAmmeter_default\" : \"Toad\",\n",
    "\"Test_other_nonContactAmmeter_not\" : \"Toan\",\n",
    "\"Test_other_not\" : \"Ton\",\n",
    "\"Test_other_voltmeter_not\" : \"Tovn\",\n",
    "\"Test_other_voltmeter\" : \"Tov\",\n",
    "\"Test_other_voltmeter_default\" : \"Tovd\",\n",
    "\"Test_simple\" : \"Ts\",\n",
    "\"Test_simple_default\" : \"Tsd\",\n",
    "\"Test_simple_nonContactAmmeter\" : \"Tsa\",\n",
    "\"Test_simple_nonContactAmmeter_default\" : \"Tsad\",\n",
    "\"Test_simple_nonContactAmmeter_not\" : \"Tsan\",\n",
    "\"Test_simple_not\" : \"Tsn\",\n",
    "\"Test_simple_voltmeter\" : \"Tsv\",\n",
    "\"Test_simple_voltmeter_default\" : \"Tsvd\",\n",
    "\"Test_simple_voltmeter_not\" : \"Tsvn\",\n",
    "    }\n",
    "\n",
    "\n",
    "\n",
    "def get_blocks_withTime_new(df, students, as_list = True, ignore = [], start = True):\n",
    "    '''gets blocks of sequences for a list of students'''\n",
    "    def convert(action,ignore):\n",
    "        return converter[action]\n",
    "    \n",
    "    if start:\n",
    "        if add_spaces:\n",
    "            blocks = {student:'S ' for student in students}\n",
    "        else:\n",
    "            blocks = {student:'S' for student in students}\n",
    "    else:\n",
    "        blocks = {student:'' for student in students}\n",
    "\n",
    "    time_coords = {student:[] for student in students}\n",
    "    for student in students:\n",
    "        sequence =  list(df[df['student']==student]['Family'])\n",
    "        time_stamps =  list(df[df['student']==student]['Time Stamp'])\n",
    "        time_stamps = (time_stamps - min(time_stamps))/1000.  #human readable seconds\n",
    "        time_coord=[]  #coordinate array for broken bar plot, takes array of (start time, duration)\n",
    "        p = re.compile(r'([A-Z][a-z]{0,3})\\1*')  #this regex finds all action blocks of length 1+\n",
    "        #print ''.join([convert(action,ignore) for action in sequence])\n",
    "        #print time_stamps\n",
    "        #use finditer to return a sequence of matches as an iterator\n",
    "        previous_start = 0\n",
    "        for match in p.finditer(''.join([convert(action,ignore) for action in sequence])):\n",
    "            ind = match.span()  #this gives start and end of matched block\n",
    "            #for matches of action denoted by more than 1 letter, need to correct the span\n",
    "            ind = (previous_start, previous_start + (ind[1]-ind[0])/len(set(match.group())))\n",
    "            previous_start = ind[1]\n",
    "            #print match.group(), ind\n",
    "            if ind[1] >= len(time_stamps):  #block location offset from real index by 1\n",
    "                duration = time_stamps[ind[1]-1] - time_stamps[ind[0]]  #time duration of block\n",
    "                #print time_stamps[ind[1]-1], time_stamps[ind[0]]  #time duration of block\n",
    "            else:\n",
    "                duration = time_stamps[ind[1]] - time_stamps[ind[0]]\n",
    "                #print time_stamps[ind[1]] , time_stamps[ind[0]]\n",
    "            time_coord.append((time_stamps[ind[0]],duration))\n",
    "            #print match.group(), match.span(), duration\n",
    "        #actual regex that converts block of similar actions to just one action\n",
    "        block = re.sub(r'([A-Z][a-z]{0,3})\\1+', r'\\1',''.join([convert(action,ignore) for action in sequence]))\n",
    "        if as_list:            \n",
    "            list_block = block[0] + ''.join([' ' + c if c.isupper() else c for c in block[1:]])\n",
    "            blocks[student] = list_block.split(' ')\n",
    "            time_coords[student] = time_coord\n",
    "        else:\n",
    "            blocks[student] += block\n",
    "            time_coords[student] = time_coord\n",
    "    return blocks, time_coords"
   ]
  },
  {
   "cell_type": "code",
   "execution_count": 67,
   "metadata": {
    "collapsed": false
   },
   "outputs": [
    {
     "name": "stdout",
     "output_type": "stream",
     "text": [
      "{10942128: ['C', 'P', 'C', 'I', 'Tc', 'C', 'Tc', 'C', 'P', 'C', 'P', 'C', 'I', 'C', 'P', 'C', 'P', 'C', 'P', 'C', 'P', 'C', 'I', 'Tc'], 94792123: ['C', 'I', 'Tc', 'C', 'Tc', 'P', 'C', 'P', 'Tb', 'I', 'C', 'Tb', 'C', 'P', 'C', 'P', 'C', 'Tb', 'C', 'P', 'C', 'I', 'C', 'I', 'C', 'Tc', 'C', 'Ts', 'C', 'P', 'C', 'Tc', 'I', 'C', 'P', 'C', 'Tb', 'Ts', 'Tc', 'C', 'Tc', 'Tb', 'Ts', 'Tc', 'C', 'Ts', 'P', 'Tb', 'P', 'Ts', 'P', 'Tc', 'P', 'Tc', 'P', 'C', 'P', 'Ts', 'C', 'P', 'C']}\n",
      "{10942128: [(0.0, 73.647000000000006), (73.647000000000006, 54.765000000000001), (128.41200000000001, 3.2980000000000018), (131.71000000000001, 4.3449999999999989), (136.05500000000001, 17.879999999999995), (153.935, 83.835999999999984), (237.77099999999999, 14.786000000000001), (252.55699999999999, 50.125000000000028), (302.68200000000002, 106.76400000000001), (409.44600000000003, 179.08399999999995), (588.52999999999997, 70.456000000000017), (658.98599999999999, 12.988000000000056), (671.97400000000005, 2.6889999999999645), (674.66300000000001, 20.350000000000023), (695.01300000000003, 150.63599999999997), (845.649, 33.682999999999993), (879.33199999999999, 216.29599999999994), (1095.6279999999999, 8.206000000000131), (1103.8340000000001, 117.98599999999988), (1221.8199999999999, 53.188000000000102), (1275.008, 180.84799999999996), (1455.856, 56.970000000000027), (1512.826, 9.7059999999999036), (1522.5319999999999, 2.0630000000001019)], 94792123: [(0.0, 84.384), (84.384, 4.1159999999999997), (88.5, 27.944000000000003), (116.444, 14.422000000000011), (130.86600000000001, 0.00099999999997635314), (130.86699999999999, 36.596000000000004), (167.46299999999999, 1.8619999999999948), (169.32499999999999, 16.348000000000013), (185.673, 5.4350000000000023), (191.108, 5.2489999999999952), (196.357, 51.814999999999998), (248.172, 2.5970000000000084), (250.76900000000001, 5.8550000000000182), (256.62400000000002, 19.489999999999952), (276.11399999999998, 25.886000000000024), (302.0, 18.538000000000011), (320.53800000000001, 2.2119999999999891), (322.75, 5.2099999999999795), (327.95999999999998, 15.631000000000029), (343.59100000000001, 43.747000000000014), (387.33800000000002, 26.822000000000003), (414.16000000000003, 5.6999999999999886), (419.86000000000001, 47.368999999999971), (467.22899999999998, 7.2330000000000041), (474.46199999999999, 8.6920000000000073), (483.154, 2.9200000000000159), (486.07400000000001, 43.355999999999938), (529.42999999999995, 31.196000000000026), (560.62599999999998, 7.0299999999999727), (567.65599999999995, 55.177999999999997), (622.83399999999995, 14.614000000000033), (637.44799999999998, 11.135999999999967), (648.58399999999995, 13.244000000000028), (661.82799999999997, 75.603000000000065), (737.43100000000004, 66.440999999999917), (803.87199999999996, 124.80100000000004), (928.673, 2.0009999999999764), (930.67399999999998, 2.2720000000000482), (932.94600000000003, 14.605000000000018), (947.55100000000004, 28.164999999999964), (975.71600000000001, 13.398000000000025), (989.11400000000003, 2.9119999999999209), (992.02599999999995, 6.9770000000000891), (999.00300000000004, 7.7259999999999991), (1006.729, 29.990000000000009), (1036.7190000000001, 4.6299999999998818), (1041.3489999999999, 24.741999999999962), (1066.0909999999999, 0.0010000000002037268), (1066.0920000000001, 32.482999999999947), (1098.575, 0.00099999999997635314), (1098.576, 31.340999999999894), (1129.9169999999999, 6.6200000000001182), (1136.537, 21.988000000000056), (1158.5250000000001, 3.8619999999998527), (1162.3869999999999, 35.0), (1197.3869999999999, 20.705000000000155), (1218.0920000000001, 21.798999999999978), (1239.8910000000001, 9.8269999999999982), (1249.7180000000001, 2.1549999999999727), (1251.873, 221.0619999999999), (1472.9349999999999, 20.238000000000056)]}\n"
     ]
    }
   ],
   "source": [
    "students = [94792123,10942128]\n",
    "blocks, time_coords =  get_blocks_withTime_new(df,students,start=False)\n",
    "print blocks\n",
    "print time_coords\n"
   ]
  },
  {
   "cell_type": "code",
   "execution_count": 86,
   "metadata": {
    "collapsed": false
   },
   "outputs": [],
   "source": [
    "def get_frequencies(blocks, shortest=3, longest=11):\n",
    "    frequencies = {student:Counter() for student in blocks.keys()}\n",
    "    for student,sequence in blocks.iteritems():\n",
    "        for seq_length in range(shortest, longest+1):  # loops through different possible sequence lengths\n",
    "            frequencies[student] += Counter(''.join(sequence[i:i+seq_length]) for i in range(len(sequence)-seq_length+1))  # counts string matches for every string of the current length\n",
    "    return frequencies"
   ]
  },
  {
   "cell_type": "code",
   "execution_count": 87,
   "metadata": {
    "collapsed": false
   },
   "outputs": [],
   "source": [
    "frequencies = get_frequencies(blocks, shortest=2, longest=4)\n",
    "#Count number of time sequences occurs accross all students\n",
    "sum_frequencies = sum(frequencies.values(), Counter())\n",
    "#Count number of students that conducted that frequency\n",
    "counts_frequencies = Counter({f:sum([ 1 if f in freq else 0 for freq in frequencies.values()]) for f in list(sum_frequencies)})"
   ]
  },
  {
   "cell_type": "code",
   "execution_count": 88,
   "metadata": {
    "collapsed": false
   },
   "outputs": [
    {
     "name": "stdout",
     "output_type": "stream",
     "text": [
      "{10942128: [(0, 9), (9, 11), (11, 17), (17, 19), (19, 24)], 94792123: [(0, 15), (15, 30), (30, 36), (36, 55), (55, 61)]}\n"
     ]
    }
   ],
   "source": [
    "#We need to know, for each student, what is the index of action that starts each bin\n",
    "action_bins = {}\n",
    "B = 5\n",
    "for student in students:\n",
    "    action_indices = [None for i in range(1,B)]\n",
    "    total_time = sum(time_coords[student][-1])\n",
    "    time_of_bins = [total_time*i/B for i in range(1,B)]\n",
    "    for i,(t,duration) in enumerate(time_coords[student]):\n",
    "        for j,b in enumerate(time_of_bins):\n",
    "            if t <= b:\n",
    "                action_indices[j] = i+1\n",
    "    action_indices.append(len(time_coords[student])) #add last index\n",
    "    action_indices.insert(0,0)\n",
    "    #Transform bins in tuples of ranges\n",
    "    action_bins[student] = [(action_indices[i],action_indices[i+1]) for i in range(0,B)]\n",
    "\n",
    "print action_bins"
   ]
  },
  {
   "cell_type": "code",
   "execution_count": 92,
   "metadata": {
    "collapsed": false
   },
   "outputs": [
    {
     "name": "stdout",
     "output_type": "stream",
     "text": [
      "{10942128: ['C', 'P', 'C', 'I', 'Tc', 'C', 'Tc', 'C', 'P', 'C', 'P', 'C', 'I', 'C', 'P', 'C', 'P', 'C', 'P', 'C', 'P', 'C', 'I', 'Tc'], 94792123: ['C', 'I', 'Tc', 'C', 'Tc', 'P', 'C', 'P', 'Tb', 'I', 'C', 'Tb', 'C', 'P', 'C', 'P', 'C', 'Tb', 'C', 'P', 'C', 'I', 'C', 'I', 'C', 'Tc', 'C', 'Ts', 'C', 'P', 'C', 'Tc', 'I', 'C', 'P', 'C', 'Tb', 'Ts', 'Tc', 'C', 'Tc', 'Tb', 'Ts', 'Tc', 'C', 'Ts', 'P', 'Tb', 'P', 'Ts', 'P', 'Tc', 'P', 'Tc', 'P', 'C', 'P', 'Ts', 'C', 'P', 'C']}\n",
      "{10942128: [Counter({'CP': 2, 'TcC': 2, 'CI': 1, 'ITc': 1, 'PC': 1, 'CTc': 1}), Counter({'CP': 1}), Counter({'CP': 2, 'PC': 1, 'CI': 1, 'IC': 1}), Counter({'CP': 1}), Counter({'PC': 1, 'CI': 1, 'CP': 1, 'ITc': 1})], 94792123: [Counter({'PC': 2, 'CP': 2, 'CI': 1, 'ITc': 1, 'TcP': 1, 'PTb': 1, 'TbI': 1, 'TcC': 1, 'CTb': 1, 'CTc': 1, 'IC': 1, 'TbC': 1}), Counter({'CI': 2, 'PC': 2, 'IC': 2, 'CP': 2, 'CTs': 1, 'TsC': 1, 'CTb': 1, 'CTc': 1, 'TbC': 1, 'TcC': 1}), Counter({'PC': 1, 'IC': 1, 'CP': 1, 'CTc': 1, 'TcI': 1}), Counter({'PTc': 2, 'TsTc': 2, 'TcP': 2, 'TcC': 2, 'TbTs': 2, 'TsP': 2, 'TcTb': 1, 'CTs': 1, 'TbP': 1, 'PTb': 1, 'CTc': 1, 'PTs': 1}), Counter({'CP': 2, 'PC': 1, 'PTs': 1, 'TsC': 1})]}\n"
     ]
    }
   ],
   "source": [
    "def get_frequencies_by_bin(blocks, B, action_bins,shortest=3, longest=11):\n",
    "    frequencies = {student:[Counter() for i in range(B)] for student in blocks.keys()}\n",
    "#     def fix_seq(sequence,i,seq_length,end_action):\n",
    "#         if sequence[i] == sequence[i].upper() :    #check that first letter in seq is UPPER\n",
    "#             #extend pattern until next digit is not a lower case, and that the length of the seq is actually seq_length, \n",
    "#             j = i\n",
    "#             new_seq = sequence[i:i+seq_length]\n",
    "#             while len([c for c in new_seq if c.isupper()]) < seq_length and sequence[i+seq_length+1].isupper():\n",
    "#                 j += 1\n",
    "#                 new_seq = sequence[i:j+seq_length]\n",
    "                \n",
    "# #             print i, seq_length, sequence[i:i+seq_length], new_seq\n",
    "#             return new_seq\n",
    "        \n",
    "    for student,sequence in blocks.iteritems():\n",
    "        for seq_length in range(shortest, longest+1):  # loops through different possible sequence lengths\n",
    "            for j,(start_action,end_action) in enumerate(action_bins[student]): \n",
    "                #since we want to find sequence THAT START in bin, we remove the parts of the sequence that fall in previous bins\n",
    "                portion_of_sequence = sequence[start_action:end_action]\n",
    "                frequencies[student][j] += Counter(''.join(portion_of_sequence[i:i+seq_length]) for i in range(len(portion_of_sequence)-seq_length+1))  # counts string matches for every string of the current length\n",
    "    return frequencies\n",
    "\n",
    "\n",
    "frequencies_by_bin = get_frequencies_by_bin(blocks, B, action_bins,shortest=2, longest=2)\n",
    "print blocks\n",
    "print frequencies_by_bin"
   ]
  },
  {
   "cell_type": "markdown",
   "metadata": {},
   "source": [
    "## Here is how to select certain sequences"
   ]
  },
  {
   "cell_type": "code",
   "execution_count": 95,
   "metadata": {
    "collapsed": false
   },
   "outputs": [
    {
     "data": {
      "text/plain": [
       "[('CIC', 2),\n",
       " ('CPC', 2),\n",
       " ('TcCTc', 2),\n",
       " ('CITc', 2),\n",
       " ('ITcC', 2),\n",
       " ('ICP', 2),\n",
       " ('TcC', 2),\n",
       " ('CTc', 2),\n",
       " ('CI', 2),\n",
       " ('CPCP', 2)]"
      ]
     },
     "execution_count": 95,
     "metadata": {},
     "output_type": "execute_result"
    }
   ],
   "source": [
    "## Clean up sequences with count less than N\n",
    "N = int(CUT_OFF_SEQ_USE*len(blocks.keys()))\n",
    "remove_rare_frequencies(counts_frequencies,N)\n",
    "#keep_frequencies_with(counts_frequencies,keep='P')\n",
    "frequencies = clean_student_frequencies(counts_frequencies, frequencies)\n",
    "counts_frequencies.most_common(10)"
   ]
  },
  {
   "cell_type": "markdown",
   "metadata": {},
   "source": [
    "### Let's see what sequences occur often for both activities"
   ]
  },
  {
   "cell_type": "code",
   "execution_count": null,
   "metadata": {
    "collapsed": true
   },
   "outputs": [],
   "source": [
    "blocks = get_blocks(df,get_students())\n",
    "frequencies = get_frequencies(blocks, shortest=3, longest=10)\n",
    "#Count number of time sequences occurs accross all students\n",
    "sum_frequencies = sum(frequencies.values(), Counter())\n",
    "#Count number of students that conducted that frequency\n",
    "counts_frequencies = Counter({f:sum([ 1 if f in freq else 0 for freq in frequencies.values()]) for f in list(sum_frequencies)})"
   ]
  },
  {
   "cell_type": "code",
   "execution_count": null,
   "metadata": {
    "collapsed": false
   },
   "outputs": [],
   "source": [
    "counts_frequencies"
   ]
  },
  {
   "cell_type": "markdown",
   "metadata": {
    "collapsed": false
   },
   "source": [
    "## Let's compare sequences from students in the different conditions in Activity 1\n",
    "Get all frequencies of length 3 to 10, cleaning them up by removing those common to all students and the rare ones."
   ]
  },
  {
   "cell_type": "code",
   "execution_count": null,
   "metadata": {
    "collapsed": false
   },
   "outputs": [],
   "source": [
    "summed_seqs, seq_scaff, seq_not = mega_process(activity='a1', level='scaffolding', value1='scaff', value2='not', shortest=3, longest=10)\n",
    "difference(seq_scaff,seq_not,N=10)\n",
    "seq_scaff"
   ]
  },
  {
   "cell_type": "markdown",
   "metadata": {
    "collapsed": false
   },
   "source": [
    "We can now look at the difference in number of students that conduct sequences in both groups."
   ]
  },
  {
   "cell_type": "code",
   "execution_count": null,
   "metadata": {
    "collapsed": false
   },
   "outputs": [],
   "source": [
    "## Does this difference persist in activity 2?"
   ]
  },
  {
   "cell_type": "code",
   "execution_count": null,
   "metadata": {
    "collapsed": false
   },
   "outputs": [],
   "source": [
    "summed_seqs, seq_scaff, seq_not = mega_process(activity='a2', level='scaffolding', value1='scaff', value2='not', shortest=3, longest=10)\n",
    "difference(seq_scaff,seq_not,N=10)"
   ]
  },
  {
   "cell_type": "markdown",
   "metadata": {},
   "source": [
    "## Let's compare sequences from students from different clusters\n",
    "In activity 1"
   ]
  },
  {
   "cell_type": "code",
   "execution_count": null,
   "metadata": {
    "collapsed": false
   },
   "outputs": [],
   "source": [
    "summed_seqs, seq_know, seq_att = mega_process(activity='a1', level='Clustergroups', value1='knowledge', value2='attitude', shortest=3, longest=10)\n",
    "difference(seq_know+seq_know,seq_att,N=10)"
   ]
  },
  {
   "cell_type": "markdown",
   "metadata": {},
   "source": [
    "**Note**: Here we are doubling the number of counts for the knowledge group since it's half the size"
   ]
  },
  {
   "cell_type": "markdown",
   "metadata": {},
   "source": [
    "In activity 2"
   ]
  },
  {
   "cell_type": "code",
   "execution_count": null,
   "metadata": {
    "collapsed": false
   },
   "outputs": [],
   "source": [
    "summed_seqs, seq_know, seq_att = mega_process(activity='a2', level='Clustergroups', value1='knowledge', value2='attitude', shortest=3, longest=10)\n",
    "difference(seq_know+seq_know,seq_att,N=10)"
   ]
  },
  {
   "cell_type": "markdown",
   "metadata": {},
   "source": [
    "**Note**: Here we are doubling the number of counts for the knowledge group since it's half the size"
   ]
  },
  {
   "cell_type": "markdown",
   "metadata": {},
   "source": [
    "## Let's compare sequences from students with high and low learning gain"
   ]
  },
  {
   "cell_type": "markdown",
   "metadata": {},
   "source": [
    "First we need to split students by learning gains in each activity"
   ]
  },
  {
   "cell_type": "code",
   "execution_count": null,
   "metadata": {
    "collapsed": false
   },
   "outputs": [],
   "source": [
    "def label_learning (row,column):\n",
    "    if row[column] >= median_learning: return 'high'\n",
    "    else: return 'low'\n",
    "\n",
    "df_scores['learning1score'] = float(df_scores[\"post t1\"] - df_scores[\"pre\"])/float(df_scores[\"pre\"])\n",
    "median_learning = np.median(df_scores['learning1score'])\n",
    "df_scores['learning1'] = df_scores.apply (lambda row: label_learning (row,\"learning1score\"),axis=1)\n",
    "\n",
    "df_scores['learning2score'] = float(df_scores[\"post t2\"] - df_scores[\"pre\"])/float(df_scores[\"pre\"])\n",
    "median_learning = np.median(df_scores['learning2score'])\n",
    "df_scores['learning2'] = df_scores.apply (lambda row: label_learning (row,\"learning2score\"),axis=1)\n",
    "# len(df_scores[(df_scores['learning1']=='high') & (df_scores['learning2']=='high')])"
   ]
  },
  {
   "cell_type": "markdown",
   "metadata": {
    "collapsed": true
   },
   "source": [
    "Now we look at the different in sequences in activity 1"
   ]
  },
  {
   "cell_type": "code",
   "execution_count": null,
   "metadata": {
    "collapsed": false
   },
   "outputs": [],
   "source": [
    "summed_seqs, seq_high, seq_low = mega_process(activity='a1', level='learning1', value1='high', value2='low', shortest=3, longest=10)\n",
    "difference(seq_high,seq_low,N=10)"
   ]
  },
  {
   "cell_type": "markdown",
   "metadata": {
    "collapsed": false
   },
   "source": [
    "\n",
    "\n",
    "And activity 2"
   ]
  },
  {
   "cell_type": "code",
   "execution_count": null,
   "metadata": {
    "collapsed": false
   },
   "outputs": [],
   "source": [
    "summed_seqs, seq_high, seq_low = mega_process(activity='a2', level='learning2', value1='high', value2='low', shortest=3, longest=10)\n",
    "difference(seq_high,seq_low,N=10)"
   ]
  },
  {
   "cell_type": "markdown",
   "metadata": {},
   "source": [
    "## Well, one thing we are really interested in, is what happens before/after students pause. So let's look at those sequences, and compare low/high learners."
   ]
  },
  {
   "cell_type": "code",
   "execution_count": null,
   "metadata": {
    "collapsed": false
   },
   "outputs": [],
   "source": [
    "# summed_seqs, seq_high, seq_low = mega_process(activity='a1', level='learning1', value1='high', \n",
    "#                                               value2='low', shortest=3, longest=10, keep = \"P\")\n",
    "# difference(seq_high,seq_low,N=10)"
   ]
  },
  {
   "cell_type": "code",
   "execution_count": null,
   "metadata": {
    "collapsed": false
   },
   "outputs": [],
   "source": [
    "# summed_seqs, seq_high, seq_low = mega_process(activity='a2', level='learning2', value1='high', \n",
    "#                                               value2='low', shortest=3, longest=10, keep = \"P\")\n",
    "# difference(seq_high,seq_low,N=10)"
   ]
  },
  {
   "cell_type": "markdown",
   "metadata": {
    "collapsed": true
   },
   "source": [
    "#### Now let's pick a sequence visualize how much it's used by students"
   ]
  },
  {
   "cell_type": "code",
   "execution_count": null,
   "metadata": {
    "collapsed": false
   },
   "outputs": [],
   "source": [
    "def plot_seq_gains(activity, seqs):\n",
    "    df2 = df[df.Activity == activity]\n",
    "    if activity == 'a1': score_column = \"learning1score\"\n",
    "    else: score_column = \"learning2score\"\n",
    "        \n",
    "    blocks = get_blocks(df2,get_students())\n",
    "    frequencies = get_frequencies(blocks, shortest=3, longest=6)\n",
    "    sum_frequencies = sum(frequencies.values(), Counter())\n",
    "    counts_frequencies = Counter({f:sum([ 1 if f in freq else 0 for freq in frequencies.values()]) for f in list(sum_frequencies)})\n",
    "    totals = {student:float(sum(count.values())) for student,count in frequencies.iteritems()}\n",
    "\n",
    "    fig, axs = plt.subplots(nrows=len(seqs),ncols=1,figsize=(15,3*len(seqs)))\n",
    "    fig.suptitle('Normalize frequency of usage of sequences versus learning gain. Students are colored depending on their scaffolding.',fontsize=16)\n",
    "    for seq,ax in zip(seqs,axs):\n",
    "        counts = keep_frequencies_with(counts_frequencies,keep=seq)\n",
    "        cleaned_frequencies = clean_student_frequencies(counts, frequencies)\n",
    "\n",
    "        f1 = select_frequencies(cleaned_frequencies,\"scaffolding\",\"scaff\")\n",
    "        f2 = select_frequencies(cleaned_frequencies,\"scaffolding\",\"not\")\n",
    "\n",
    "        total1 = {student:float(sum(count.values()))/totals[student] for student,count in f1.iteritems()}\n",
    "        values1 = {k:(v, float(df_scores[df_scores[\"student\"]==k][score_column]) ) for k,v in total1.iteritems()}\n",
    "        total2 = {student:float(sum(count.values()))/totals[student] for student,count in f2.iteritems()}\n",
    "        values2 = {k:(v, float(df_scores[df_scores[\"student\"]==k][score_column]) ) for k,v in total2.iteritems()}\n",
    "        x,y = zip(*values1.values())\n",
    "        rec1 = ax.scatter(x,y, c='r',s=100, alpha=0.4)\n",
    "        x,y = zip(*values2.values())\n",
    "        rec2 = ax.scatter(x,y, c='b',s=100, alpha=0.4)\n",
    "        ax.axhline(0, color='darkgrey')\n",
    "        ax.set_ylabel(seq)\n",
    "        ax.legend((rec1, rec2), ('Scaffolded', 'Not scaffolded'))\n",
    "        \n",
    "#         ax.set_xlabel('Normalized frequency of usage')\n",
    "#         ax.set_ylabel('Learning gain in activity 1 (post-pre)')\n",
    "#         ax.set_title('Normalize frequency of usage of {0} versus learning gain. Students are colored depending on their scaffolding.'.format(seq))"
   ]
  },
  {
   "cell_type": "markdown",
   "metadata": {
    "collapsed": false
   },
   "source": [
    "### Want to make a matrix where rows are sequences, columns students, cells represent number of times sequence was performed by student"
   ]
  },
  {
   "cell_type": "code",
   "execution_count": null,
   "metadata": {
    "collapsed": false
   },
   "outputs": [],
   "source": [
    "df2 = df[df.Activity == 'a1']\n",
    "blocks = get_blocks(df2,get_students())\n",
    "frequencies = get_frequencies(blocks, shortest=3, longest=6)\n",
    "sum_frequencies = sum(frequencies.values(), Counter())\n",
    "counts_frequencies = Counter({f:sum([ 1 if f in freq else 0 for freq in frequencies.values()]) for f in list(sum_frequencies)})\n",
    "totals = {student:float(sum(count.values())) for student,count in frequencies.iteritems()}\n",
    "\n",
    "students, sequences = frequencies.keys(), sum_frequencies.keys()\n",
    "A = np.zeros((len(students), len(sequences)))\n",
    "A.shape\n",
    "\n",
    "for st,seqs in frequencies.iteritems():\n",
    "    i = students.index(st)\n",
    "    for sq,count in seqs.iteritems():\n",
    "        j = sequences.index(sq)\n",
    "        A[i][j] = count"
   ]
  },
  {
   "cell_type": "markdown",
   "metadata": {},
   "source": [
    "We normalize the matrix (in reality the right way to normalize is to divide by number of blocks of sequences per student. Right now, the number of sequences per students depends on how diverse their set of seqs is)"
   ]
  },
  {
   "cell_type": "code",
   "execution_count": null,
   "metadata": {
    "collapsed": false
   },
   "outputs": [],
   "source": []
  },
  {
   "cell_type": "code",
   "execution_count": null,
   "metadata": {
    "collapsed": false
   },
   "outputs": [],
   "source": []
  },
  {
   "cell_type": "code",
   "execution_count": null,
   "metadata": {
    "collapsed": false
   },
   "outputs": [],
   "source": [
    "B = np.zeros((len(students), len(sequences)))\n",
    "for i,row in enumerate(A):\n",
    "    B[i,:] = A[i,:]/len(blocks[students[i]])"
   ]
  },
  {
   "cell_type": "markdown",
   "metadata": {
    "collapsed": false
   },
   "source": [
    "We calculate correlations with learning outcomes for each sequence"
   ]
  },
  {
   "cell_type": "code",
   "execution_count": null,
   "metadata": {
    "collapsed": false
   },
   "outputs": [],
   "source": [
    "gains = [round(float(df_scores[df_scores[\"student\"]==student]['learning1score']),5) for student in students]\n",
    "\n",
    "from scipy.stats import pearsonr\n",
    "correlation_measure = pearsonr\n",
    "corr = []\n",
    "for sq in sequences:\n",
    "    j = sequences.index(sq)\n",
    "    if np.count_nonzero(B[:,j]) > 10:\n",
    "        c = correlation_measure(B[:,j],gains)\n",
    "        corr.append((sq, c[0], c[1]))    "
   ]
  },
  {
   "cell_type": "markdown",
   "metadata": {},
   "source": [
    "Now let's keep only the significant sequences.\n",
    "\n",
    "**Note**: we still need to do some boostrapping and permutation test to confirm that these are significant results."
   ]
  },
  {
   "cell_type": "code",
   "execution_count": null,
   "metadata": {
    "collapsed": false
   },
   "outputs": [],
   "source": [
    "sig_corr = []\n",
    "for s,c,p in corr:\n",
    "    p = p/2.0\n",
    "    if p <= 0.05 and abs(c) > 0.25:\n",
    "        sig_corr.append((s,c,p))\n",
    "        print s,c,p        "
   ]
  },
  {
   "cell_type": "code",
   "execution_count": null,
   "metadata": {
    "collapsed": false,
    "scrolled": false
   },
   "outputs": [],
   "source": [
    "plot_seq_gains('a1',zip(*sig_corr)[0])"
   ]
  },
  {
   "cell_type": "markdown",
   "metadata": {},
   "source": [
    "Clearly, how much students did an action doesn't matter as much as who did it at least once (or more?)\n",
    "Let's repeat the analysis using # of students who did the sequence instead of frequency."
   ]
  },
  {
   "cell_type": "code",
   "execution_count": null,
   "metadata": {
    "collapsed": true
   },
   "outputs": [],
   "source": [
    "df2 = df[df.Activity == 'a1']\n",
    "blocks = get_blocks(df2,get_students())\n",
    "frequencies = get_frequencies(blocks, shortest=3, longest=6)\n",
    "sum_frequencies = sum(frequencies.values(), Counter())\n",
    "counts_frequencies = Counter({f:sum([ 1 if f in freq else 0 for freq in frequencies.values()]) for f in list(sum_frequencies)})\n",
    "totals = {student:float(sum(count.values())) for student,count in frequencies.iteritems()}\n",
    "\n",
    "students, sequences = frequencies.keys(), sum_frequencies.keys()\n",
    "A = np.zeros((len(students), len(sequences)))\n",
    "A.shape\n",
    "\n",
    "\n",
    "for st,seqs in frequencies.iteritems():\n",
    "    i = students.index(st)\n",
    "    for sq,count in seqs.iteritems():\n",
    "        j = sequences.index(sq)\n",
    "        if count >= 1: x =1\n",
    "        else: x = 0\n",
    "        A[i][j] = x"
   ]
  },
  {
   "cell_type": "code",
   "execution_count": null,
   "metadata": {
    "collapsed": false
   },
   "outputs": [],
   "source": [
    "from scipy.stats import ttest_ind\n",
    "gains = np.array([round(float(df_scores[df_scores[\"student\"]==student]['learning1score']),5) for student in students])\n",
    "\n",
    "tests = []\n",
    "seq_gains = {}\n",
    "for sq in sequences:\n",
    "    j = sequences.index(sq)\n",
    "    a = gains[np.where(A[:,j]==1)] #learning gains of student who used sequence\n",
    "    b = gains[np.where(A[:,j]==0)] #learning gains of student who didn't\n",
    "    t = ttest_ind(a, b, equal_var=False)\n",
    "    tests.append((sq, t[0], t[1]))\n",
    "    seq_gains[sq] = (a,b)"
   ]
  },
  {
   "cell_type": "code",
   "execution_count": null,
   "metadata": {
    "collapsed": false
   },
   "outputs": [],
   "source": [
    "sig_tests = []\n",
    "print \"Sequence, # students/{0}, t-test, p-value\".format(len(students))\n",
    "for s,t,p in tests:\n",
    "    p = p/2.0\n",
    "    if p <= 0.05:\n",
    "        n = len(seq_gains[s][0]) #number of students who did the sequence\n",
    "        if n > 10 and n < 86: # and 'P' in s:\n",
    "            sig_tests.append((s,n,t,p))\n",
    "\n",
    "# order by ttest value\n",
    "results = sorted(sig_tests, key=lambda x: x[2])\n",
    "for s,n,t,p in results:\n",
    "    print \"{0} \\t\\t {1}\\t {2} \\t {3}\".format(s, n, round(t,2), round(p,3))"
   ]
  },
  {
   "cell_type": "code",
   "execution_count": null,
   "metadata": {
    "collapsed": false
   },
   "outputs": [],
   "source": [
    "plt.figure()\n",
    "seq = 'ROPT'\n",
    "means = [np.mean(seq_gains[seq][0]),np.mean(seq_gains[seq][1])]\n",
    "stdes = [np.std(seq_gains[seq][0]),np.std(seq_gains[seq][1])]\n",
    "plt.boxplot(seq_gains[seq])\n",
    "plt.ylabel('Average learning gain')\n",
    "plt.xticks(range(1,3),[str(len(seq_gains[seq][0])) +' did it', str(len(seq_gains[seq][1])) + ' didn\\'t'])\n",
    "plt.title('Learning gains depending on use of sequence '+seq)\n",
    "plt.grid()"
   ]
  },
  {
   "cell_type": "code",
   "execution_count": null,
   "metadata": {
    "collapsed": true
   },
   "outputs": [],
   "source": []
  },
  {
   "cell_type": "code",
   "execution_count": null,
   "metadata": {
    "collapsed": true
   },
   "outputs": [],
   "source": []
  }
 ],
 "metadata": {
  "anaconda-cloud": {},
  "kernelspec": {
   "display_name": "Python 2",
   "language": "python",
   "name": "python2"
  },
  "language_info": {
   "codemirror_mode": {
    "name": "ipython",
    "version": 2
   },
   "file_extension": ".py",
   "mimetype": "text/x-python",
   "name": "python",
   "nbconvert_exporter": "python",
   "pygments_lexer": "ipython2",
   "version": "2.7.12"
  }
 },
 "nbformat": 4,
 "nbformat_minor": 0
}
