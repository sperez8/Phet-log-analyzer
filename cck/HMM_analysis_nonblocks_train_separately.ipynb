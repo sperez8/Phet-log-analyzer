{
 "cells": [
  {
   "cell_type": "code",
   "execution_count": 1,
   "metadata": {
    "collapsed": false
   },
   "outputs": [],
   "source": [
    "import networkx as nx\n",
    "import matplotlib\n",
    "import matplotlib.pyplot as plt\n",
    "import numpy as np\n",
    "import pandas as pd\n",
    "import sys\n",
    "import getpass\n",
    "from hmmlearn import hmm\n",
    "from functions import *\n",
    "from random import shuffle\n",
    "from random import seed\n",
    "from graphviz import Digraph\n",
    "import pydot\n",
    "np.set_printoptions(precision=2)\n",
    "pd.set_option('precision', 2)\n",
    "%matplotlib inline\n",
    "matplotlib.style.use('ggplot')"
   ]
  },
  {
   "cell_type": "markdown",
   "metadata": {},
   "source": [
    "### Loading the data"
   ]
  },
  {
   "cell_type": "code",
   "execution_count": 2,
   "metadata": {
    "collapsed": false
   },
   "outputs": [],
   "source": [
    "df = pd.read_csv('C:\\Users\\\\'+getpass.getuser()+'\\\\Google Drive\\Jonathan Sarah Ido folder\\data\\CCK\\MATCHING_phet_cck_user_actions+sophistication_WITHPAUSE_anonymized.txt')\n",
    "df_scores = pd.read_csv('C:\\Users\\\\'+getpass.getuser()+'\\\\Google Drive\\Jonathan Sarah Ido folder\\data\\CCK\\MATCHING_phet_cck_user_data_anonymized.txt')\n",
    "df[\"student\"] = df[\"student\"].astype('category')\n",
    "df_scores[\"student\"] = df_scores[\"student\"].astype('category')\n",
    "df[\"Family\"]=df[\"Family\"].str.capitalize()\n",
    "\n",
    "def remodel_families(row):\n",
    "    if row[\"Family\"] == \"Build\" or row[\"Family\"] == \"Revise\":  # or row[\"Family\"] == \"Extra\":\n",
    "        if row[\"Outcome\"] != \"None\":\n",
    "            return \"ConstructWithFeedback\"\n",
    "        else:\n",
    "            return \"Construct\"\n",
    "    else:\n",
    "        return row[\"Family\"]\n",
    "    \n",
    "df['Family'] = df.apply (lambda row: remodel_families (row),axis=1)"
   ]
  },
  {
   "cell_type": "code",
   "execution_count": 3,
   "metadata": {
    "collapsed": false
   },
   "outputs": [],
   "source": [
    "# from pivottablejs import pivot_ui\n",
    "# pivot_ui(df)"
   ]
  },
  {
   "cell_type": "markdown",
   "metadata": {},
   "source": [
    "### Some parameters"
   ]
  },
  {
   "cell_type": "code",
   "execution_count": 4,
   "metadata": {
    "collapsed": false
   },
   "outputs": [],
   "source": [
    "ACTIONS_TO_REMOVE = ['I','O','S']\n",
    "ITERS = 300\n",
    "RAND_INT = 2\n",
    "seed(RAND_INT)\n",
    "CUTOFF = 0.01\n",
    "events = [e for e in [\"T\",\"S\",\"O\",\"F\",\"P\",\"I\",\"E\",\"X\",\"C\",] if e not in ACTIONS_TO_REMOVE]\n",
    "blues = [\"#c7e9b4\",\"#7fcdbb\",\"#41b6c4\",\"#2c7fb8\",\"#253494\"]\n",
    "greys = ['#d9d9d9','#bdbdbd','#969696','#737373','#525252']"
   ]
  },
  {
   "cell_type": "markdown",
   "metadata": {},
   "source": [
    "### Declaring a few functions"
   ]
  },
  {
   "cell_type": "code",
   "execution_count": 5,
   "metadata": {
    "collapsed": false
   },
   "outputs": [],
   "source": [
    "translater = {e:events.index(e) for e in events}\n",
    "decoder = {events.index(e):e for e in events}\n",
    "decoder_plus = {\"T\":\"Test\",\"S\":\"Start\",\"O\":\"Organize\",\"F\":\"C.w.Feedback\",\"P\":\"Pause\",\"I\":\"Interface\",\"E\":\"Extra\",\"X\":\"Reset\",\"C\":\"Construct\"}\n",
    "\n",
    "def state_labeller(state,emission):\n",
    "    indices = list(np.where(emission[state]>0.05)[0])\n",
    "    label = \" +\\n\".join([decoder_plus[decoder[i]] + ' (' + str(int(emission[state,i]*100)) + '%)' for i in indices])\n",
    "    return label\n",
    "    \n",
    "def get_color(w,color_set):\n",
    "    def get_cmap(colors):\n",
    "        return [(float(i)/len(colors),c) for i,c in enumerate(colors)]\n",
    "    color = None\n",
    "    for p,c in get_cmap(color_set):\n",
    "        if w >= p:\n",
    "            color = c\n",
    "    return color\n",
    "\n",
    "def prepare_data(blocks):\n",
    "    shuffled_blocks = blocks.values()\n",
    "    shuffle(shuffled_blocks)\n",
    "    X = np.array( np.array([np.concatenate([  [int(translater[event]) for event in block.split(' ')] for block in shuffled_blocks])]).T )\n",
    "    lengths = [len(b.split(' ')) for b in blocks.values()]\n",
    "    return X, lengths\n",
    "\n",
    "def split_data(X, lengths, split):\n",
    "    n_train = int(len(lengths)*split)\n",
    "    n_test = len(lengths) - n_train\n",
    "    lengths_train, lengths_test = lengths[0:n_test], lengths[n_test:]\n",
    "    X_train, X_test = X[0:sum(lengths_train)], X[sum(lengths_train):]\n",
    "    return X_train, X_test, lengths_train, lengths_test\n",
    "\n",
    "def get_model(X,lengths,n_states, iters=ITERS, random_state=RAND_INT):\n",
    "    '''Note that all integers in the range of observations must be present in the data!!'''\n",
    "    converged = False\n",
    "    tries = 0\n",
    "    while converged == False:\n",
    "        model = hmm.MultinomialHMM(n_components=n_states,\n",
    "                            n_iter = iters,\n",
    "                            random_state = random_state).fit(X,lengths)\n",
    "        converged = model.monitor_.converged\n",
    "        tries += 1\n",
    "    print \"Model with {0} hidden states converged after {1} tries, with {2} iterations\".format(n_states, tries, model.monitor_.iter)\n",
    "    return model\n",
    "\n",
    "def draw_states_graph(model, cutoff = CUTOFF, label = True):\n",
    "    states = Digraph('states')\n",
    "    states.graph_attr.update(rankdir='LR')\n",
    "    states.node_attr.update(shape='circle')\n",
    "    for (i,j), p in np.ndenumerate(model.transmat_):\n",
    "        if p >= cutoff:\n",
    "            if label:\n",
    "                states.edge(str(state_labeller(i,model.emissionprob_)),\n",
    "                        str(state_labeller(j,model.emissionprob_)), \n",
    "                        color = get_color(p,blues), label = \"{:.02f}\".format(p), penwidth=str(5*p+2))\n",
    "            else:\n",
    "                states.edge(str(i), str(j), \n",
    "                    color = get_color(p,blues), label = \"{:.02f}\".format(p), penwidth=str(5*p+2))\n",
    "#     if save:\n",
    "#         figname = 'hmm_non_blocked.png'#N={0}_act={1}_{2}.png'.format(N,ACTIVITY,'low')\n",
    "#         plt.savefig(figname)\n",
    "    return states\n",
    "\n",
    "def draw_hmm_graph(model, cutoff = CUTOFF, label = True, layout_circle=True):\n",
    "    g = Digraph('G')\n",
    "    if layout_circle:\n",
    "        g.graph_attr.update(layout='circo')\n",
    "    states = Digraph('states')\n",
    "    states.node_attr.update(shape='circle',rank=\"max\", fontsize='12')\n",
    "    #Adding edge between hidden states\n",
    "    for (i,j), p in np.ndenumerate(model.transmat_):\n",
    "        if p >= cutoff:\n",
    "            if label:\n",
    "                states.edge(str(state_labeller(i,model.emissionprob_)),\n",
    "                        str(state_labeller(j,model.emissionprob_)), \n",
    "                        color = get_color(p,blues), label = \"{:.02f}\".format(p), penwidth=str(5*p+2))\n",
    "            else:\n",
    "                states.edge(str(i), str(j), \n",
    "                        color = get_color(p,blues), label = \"{:.02f}\".format(p), penwidth=str(5*p+2))\n",
    "    states.body.append('label = \"states\"')\n",
    "\n",
    "    actions = Digraph('actions')\n",
    "    actions.node_attr.update(shape='square')\n",
    "    for (i,j), p in np.ndenumerate(model.emissionprob_):\n",
    "        if p >= CUTOFF:\n",
    "            if label:\n",
    "                actions.edge(str(state_labeller(i,model.emissionprob_)),\n",
    "                         str(decoder[j]), color = get_color(p,greys), \n",
    "                         label = \"{:.02f}\".format(p), penwidth=str(5*p+2))\n",
    "            else:\n",
    "                actions.edge(str(i), str(decoder[j]), color = get_color(p,greys), \n",
    "                         label = \"{:.02f}\".format(p), penwidth=str(5*p+2))\n",
    "    actions.body.append('label = \"actions\"')\n",
    "    actions.body.append('color=blue')\n",
    "\n",
    "    g.subgraph(states);g.subgraph(actions)\n",
    "    return g"
   ]
  },
  {
   "cell_type": "markdown",
   "metadata": {},
   "source": [
    "### Modelling\n",
    "#### Getting the data\n",
    " First, we get the student actions in blocks and keep only the actions we care about. We also build a translator and decoder to pass the actions as discreet integers instead of strings"
   ]
  },
  {
   "cell_type": "code",
   "execution_count": 6,
   "metadata": {
    "collapsed": false
   },
   "outputs": [],
   "source": [
    "ACTIVITY = 'a1'\n",
    "blocks = get_non_blocks(df[df.Activity==ACTIVITY],get_students(),add_spaces=True, ignore = ACTIONS_TO_REMOVE, start = False)"
   ]
  },
  {
   "cell_type": "markdown",
   "metadata": {},
   "source": [
    "We concatenate the student actions into one array and computer their lengths. Since the student sequences might be stored in a specific order, we shuffle them first."
   ]
  },
  {
   "cell_type": "code",
   "execution_count": 7,
   "metadata": {
    "collapsed": false
   },
   "outputs": [
    {
     "data": {
      "text/plain": [
       "{1075123: 'C C C C C C C C C C C F F F F P F F P F T T T T P T T T T T T T T T T T T T P T F C C C C F P T T T T T T T T T T T T T T T T T T T T T T T T T T T T T T T T P T T F C C C C F T T T T T T T T T T T T T T T T T P T T T T T T T P T T T T T T T P T T T T T T X C C C C C C C C C C C C C C C F C C C C C C C C C C F T T T T T T T T T T T T T T F F T T T T T T T T T T T T T T T T T T T P T T P C C C C C C C C C C F P T T T T T T T T T T T T T T T T P T T T C F C F C T T T C T C C F C C C C C C C C C C F T T T T T T T T T T T T T T T T T T T T T T T T T T T T T T T T T T T T T T T T T T P P T T T T T T T T T T T T T T T T T T T T T T T T T P T T T T T T T P X C C C C C C C C C C C C C C C C C C C C C C C C F T T T T T T T T T T T T T T T T T T T T T T T T T T P C C C C C C C C C F F F F C C C P T T T T T T T T T',\n",
       " 3591123: 'C C C C C C C C C C C F P T T T T T T T T P T T T T T T T T T T T T T T T T T T T T T T T T T P T T T C C F C C C C C C F F C C C F T T T T T F T T T C C C C F F T T C F C F T T T T C C F T T T T T T T T T T T T T T T T T P T T T T T P C C T T T T T T T T T T C C F P T T T T T T T T T T T T T P T T T T X C C C C T C C C C C T T C C C C C C C C C C C C C C C C C C C C C C C C C C F T T T T T T T T T T T P T T T T T T T T T P F C C C C C C C C C F T T T T T T T T T T T T T T T T T T T T T P T T T T T T T T T T T T P X T T C C C C C C C C C C C C C C C C C C C C C C C C C C C C C C F T T T T C T C T T T T T T T T T T T T T T T T T T T T T T T T T T T T T T T T T T T T T P T P T T T T T T P P E E E E C C F T T F F C F C C F F C C F F C C T T T T T T T T T T T T T T T T T T T C C C F F F T T T T T T T T T T T T T T T T T T T T T T T T T F T T F P X T',\n",
       " 3932129: 'C C C C C C C C C C C C C C F C F P F C C C F F C C C C C C C C F C F C F F C F E E E E E E E E E T T F C C F F C F F C F T T T T T T T F X T C C C C C C C C C C C C C C C C F T T T T T T T T T T T T T C C T C F P C F T C F C F C C T C C F P C F C F X C C C C C C C C C C C C C C C C C C C C C C C C C C C C C F C C F P T T T T T T T P T T T T T T T T T T T T T T T T T C C T C F P P C F C C F P T T T T T T T T T T T T T T T T T T T T T T T P F T C C C C C T T C C C T T C T T T T T T P T T T T X C C C C C C C C C C C C C X C C C C C C C C C C C C X C C C C C C C C T T T C C T T X C C C C C C C C T T T T P C C C C C C C C C F C T T T T T T T T C C C C C C C C C C C C C C C C F T T T T T T T T T T T T T T T T T T P T T T T T T T T T T T T T T T T T T T T F C C C C F T T T T P T T T T T T T T T T T T T T T T T T T T T T T P F F F C C C C C C C C C C F P T T T',\n",
       " 4762120: 'C C C C C C C C C C C C F T C T T C T C T F T P C C C C C C C C T T T T T T T T T T T T T T T T T T T T T T T T T T T T T T T T T T T T F C C F T T T P T T T F C C C C C C F T T P T T T T T T T T T T T T T T T T T T T T P F F F C C F P T T F P C C C C C C C C C C C C C C C C C C F T T T T T T T T T T T T T T T T T T T T T T T T T T T T T T T T P C C C T C C C C C C C C C C C C F P T T T T T T T T T T T T T T T T T T T T T T T T T T T T T T F C C C C C C F F C C F T T T T T T T T T T T T T T T T T P F C C C C C C C C C C C F C C C C C C C C C T C C C C C C C C C C C C C C C C F T C C C C C C C C C C C T T C C C C T P T T T T T T T T T T T T T T T T T T T T T T T P C C C C C C C C C C C C C C C C C C C C C C C C C C F T T T T T T T T T T T T T C C C C C C C C C C F P T T T T T T T T T T T T T T T T T T T T T T T T T P F C F C C C C C C F C C C C C C C C C C C C C F C F C C C C C F C C C C C C C C F P T T T T T T T T T T T T T T T T T T T T T T T T T T T T P T T T F C C C C',\n",
       " 4936123: 'C C C C C C C C C C C C C C C C C C T T T P C P T T T T T T T C F C C C C C C C C C C C C C C C C C C C C C C T T C F C C F C T T T T T T T T C C C C C C C C C C C C C C C C C C C C F C F C P F C C F C C C C C C P C C C C C C C P C C C F P T T T T T T T T P T T T T T T T T T T C F C F T T T T T T T T T T T T F F T T T T T T T T P F C C C C C F F C F T T T T T T T T P C C F F C C F T T T T T T T T T T P C C C T T T T C C C C C C C C C C F F C C T T T T T T C C C C C C C C C C C C F F P F F C F C C C F C F C C F T F P F C T F F T T C C C C F C C F T T F C F P F T F C T C C C T C F T T F T T F T C T C C T C T T F C C C F F T T T C C C C C F C F C C F F C C C C C C C C F C C C F F T T P C C F C F T T T T F C C F F P C C F T T T T T T T T T T P T F C C F T C C C C C C F P T T T T',\n",
       " 8580120: 'C P C C C C C C C C C C C C C C C C C C C T T C F T T T T T T T T P F T T T T T T T T T T T P T F T T T C F T T T T T T T T T P T T T T T T T T T T T P T T T T T T P T T T T F C C F F T T C F T T T T T T T T T T P T P P T T F C C C C C F C C C C F C F C C C C C C F T T T T T T T T T T T T T P T T T F C C C C C C C C C C C C C C C C F T T T T T T P T T P T T T T T T P T T T T T T T T T T T T P C T T F C C C C F F F T T T T T T T T P T T P T T T T T T T T T T T T T T T T T T T T T T T P T T T T T T T T T T',\n",
       " 8775127: 'C C C C C C C C P C C C C C C F T T T T T T T T T T T T T T P T C F F F C F C F C C F P C C F P T F T C T C C T T C C C C C C T C C T C C C C C C T T T T T T T T T T T T T T T T T T T T P T T T C C C T T T C C T C T T C C C C C C C T T C C C C C C C C C P T T C C C C C C X C C C C C C C C C C C C P C C C P C C C C C C C C F T T T T T T T T T T F C C F T T T T T T T T T T T T T T T T T T T C P F C C C F F C C C C C C C C C C C F F P T T P T T T T T T T T T T T T T T T T T T T T T T T P T T F C C F P T T C C F C C F P T T T T T T T T T T T T T T T T T T T T T T T T T T T T T T T T T T T T T T P T T T T P T T T T P F F T T T T P T T T P T T T T T T T T T T T P X',\n",
       " 8889108: 'C P C C C C C C C C C C F C C C C C C C F P F C F P T T T T T P T T T T T T T T T T T T T T T T T T T T T T T T T T T T F C C C C C C C C F F F C P C C C C C C C F C C C F T T T T T T T T T T T T T T T T T P C C C C C F T P C T T T T T T T T T T T T P T T T T T P T T T T T T T T T T T T T T T C C F F C C C C F C C F T T T T P T T T F C C C C C P C C C C C C C C C P C C C C F C C C C C C C C C F F F T T P T T T T T T T T P T T T T T T T T T P T T T T C F C C C C C C C C C C C C C C C C C C F C C C C F C C F P T T T T T T T T T T T T T T T T T T T T T T T T T T T T T P T T C F F C C C C C C C C C C C C C C C C C C C C C C C C C C C C C C C C C C C C C C C C C C C C C C C C T T T T C C C F T T T T T T T T T T T T T T T T T T T T T T T T T',\n",
       " 9331415: 'C C C C C C C F P T T T T T T T T T T T T P T T T T T T T T T T T P T F C C C C C C C C C C F T T T T T T T T T T T T T T T T T T T T T T T T T T T T T T T T T T P T T T T T T T T T T T T T T T T T P T T T T T F C C C C C C F T T T T T T T T T T T T T T T T T T T T T T T T P T T T T T T T T T T P F C C T T F F C F T C C C C C C C F C F C C F F C F T T T T T T T T T T T T T T T T T T T T T T T T T T T T T T T T T T T P F C T T T C C C C C C F C C C C C F C C C C T T C F T T T T T T T T T T T T T T T T T T T T T T T T T T T T T T T T P T T T T T T T T T T T T T T T T T T T T T T T T T T T T T T T T T T T T T T T T T T T T P P T T T T T T T T T T T T T T T T T T T P T T P P T T T T T T T T T T T T T T T T T T T T T T T T T T T T T T T T T T T P F C C C F C C C C C C C C C C C C C C C C C F C C C C C C C C C C C C F P T T T T T T T T T T T T T T T T T T T T T T T T T T T T T T T T T T T T T T P T F F F F F C C C C P F C F F C C C C C C C C C C C C C F P C C C C C C F F C C C C C C C C C F',\n",
       " 10009106: 'C C C C C C C C C C C C C E E E P T T E C T C C C C C C T T T T T T T T T T P F T T T C C X T C C C C C C C C C C C C C C C C C F T T T T T P T T T T T T T C F C C C C C C F T T T T T T T T P T T T T T T T T T T P C F C C C C C C C C C C C C F C C C C C C C C C C C C C C C C C C C F C T T T T T T P T T T T T T T T T T T T T T T T T T T T T T T T T T T T T T T T T T T T P C F C C C C C C C T T C F F C T C F T T T T T T T T T T T T T T T T T T T T T T T P T T F C T T T T T T T T T T T T P C C C C C F T T T T T T T T T T T T T T T T T T T T T T T P F F T T T T T T T T T T T T T T P T T T T C C C C C F C C C C C C C C C C C C C C C C C C C C C F T T T T T T P T T T T T T T T T T T T T T T T T T T T T T T T T T T T T T T T T T T T T T T T T T T T T T T T T T T T T T T T T T T T T T T T P F C T T T T',\n",
       " 10942128: 'C C C C C C C C C C C C C C C C C C C C C C C C C C C C C C C C C C C C C C C C C F P F F C C C T T F P F C C C F C C F C C C C C C F F F P C C C C C C C C F C F C C C C C F F F F C C C C C F P T F C C F T T T T T T T T T F C C C C C C F P T T T T T T T T T T T T T T T T T T T T T T T T C T T F F T P F F F C T T T X T T T T T C C C C C C C C C C C C C C C C C C C C C T T C C C F P T T T T T T T T T T T T T T T T F T C C C C F T T T T T T T T T T T T T T T T T P T T T T P C F C C C C C C C F T T T T T T T T T T T T T F T T T F T F C C C C C C C C F C C C C C C C C C C C F T T T T T',\n",
       " 12235124: 'C X P C C C C C C C F C C C T C C C C C C T T C C C C C C T T C C C C C C C C C C C C C C C C C C C C C C C C C T T P X P C C C C C C C C T T T T T P T T T T T T T X T C C C C C C C C C C C C C F C C C F T T T T T T T T T T T T T T T T T T T T T T C T T T T P T T T P X T C C C C C C C C C C C C F T T T T T T T T T T T C C C C C C F T T T T T T F C C C C C C C C C C F T T T T P T T T T T T T T T T T T T T T T T T T T T T T T T T T T T T T P X P C C C P C C C C C C C C C C C C C C C F C C C E E E E E E E E E E C C C C C C C F C C C C C C C C C C F P T T T T F C C C C F F C C C C C C C C F P C T T T T T T T T T T T T T T T T T T T T T P T T T T T T T T T T T T T T T T T T T T T T T T P E E E X C C C C C C C C C C C C C C C C C C C C C C C C E E E E E E E E E E E C C F T T T T T T T F C C F T T T T T T T T T T T T T T F C C C C F T T T P X C T C C C C C C X',\n",
       " 12949120: 'C C C C C C C C C C C C C C C F P T T F C F P T T T T T T T T T T T T T T T T T T T T T T T T T T F C C C C F T T T T T T T T T T T T T T T T T T T T T P F C C C C C C F T T T T T T T T T T T T T T T T T P T T T F C C C C C C C C C C C C C C C C F C C C C C C C C C F T T T T T T T T T T T T T T T T T T P P C C C C C C C C C C F T T T T T T T T T T P T T T T T P T T T T T T T T T T T T T T T T T T T T T T T T T T T T T T T T T T P T T T T T T T T T T T T P F C F C C T F C C F F C C C C C C C C C C C C C C C F C C C C C C C C C C C C F C C C C F C C C C F C C C C C C C C C C C C C C C C C C C C C C C C C C C F C C F P T T T T T T T T T T T T T T T T T T T T T T T T T T T T T T P C F C C C C C C C F F C C C C C C C C C C P F F C C F T T T T T T T T T T P T T T T T T T T T T T T T F T T C C F C C F C C F F F F C C F F C C C F T T T T T T T T T T T T T T T T T F F T T P T T T T T T T T T F C C C C C C C F T T T T P T T T T T T T T T T T T T T T T P',\n",
       " 13205111: 'C C C C C C C C P F C C C C F F C C C C F P T T T T T T T T T T T T T T T T P P T T T T T T T T F P C C C C F P T T T T T T T T T T T P T T T T T T T T T T T T P F C C C C F P T T T T T T T T T T T T T T T T T T T T T T T T T T T T T T P F F X T T C C C C C C C C C C C C C C C C C C F C C C C C C C C C F F F T T T T T T T T T T T T T T T T T T T T T T T P T T C T C C C C C C C C T C F T T T T T T T T T T T T T T T T T T T T T T T T T T T T P T F F F C X C C C C C C C C C C C C C C C C C C C C C C C C C C C C C F C C F F F F F T T T T T T T T T T T T T T T T T T T T T T T T T T T T T T T T T',\n",
       " 13378139: 'C C C C C C C C C C C C C C C C C C C C C C C C C C C C C C C C X C C C C C C C C C C C C C C C C C C C C F F C F C F C C C C C F P F C C C F C C C F F F C C C C F F P X C C C C C C C C C C C C C C C F T T T T T T T T T T T C F C C C F F C C C C C C C C X T T C C C C C C C P C C C C C C C P C C C C C C C C C C C C C C C C C C C F T T T T T T T T T T T P C C C C C C F P T T T T T T T T T T T T T P F F C C F T T T T T T T T T T T T T T T T P T P X T C C C T T C C C C C C C C C C C C C C C C F C C C C C C C C C F P T T T T T T T T T T T T T T T T P C C C C C C C C C C F T T T T T T T T T T T T T T T T T T T T T T T T T T T T T T T T T T T T T T T T T T T T T T T P X C C C C C C C C C C C C C C C C C C C C C C C C C C C C C C C C C C C C C C C C C C C C C C C C C C C F P T T T T T T T T T T T T T T T T T T T T T T T T T T T',\n",
       " 13679110: 'C C C C C C C C C C C F C C F C F P C C C C C C C C C C F F C C C F P F F C F F C C F P F C C F C C C C C C C C C C C C C F F C C F T T C C C C C C C F F C T F C C T C C T T T T T T P F F P F F F C C C C T C C T T T C C C C C C C C C T F C C C C C C C C F F F F C C C C C C C C C C C C C C C C C C T C C C C C C C C C C X C C C C C C C C C C C C C C C C C C C C C C C C C C C C C C C C C C C T T C C C C C C C C C C C C P T T C C C T T T T T T T P T T T T T T T T T T T T T T T T T T T T T T T T T T P C C C C C C C C C C C C C C C F C C C C C C F C T T T T T T P T T T T T T T T P T T T T T T T T T T T T T T T T T T T T T T T T T T T T T T P T P T T F C C C C C C F T T T T T T T T T T T T T T T T T T P T T T T T T T T T T T T T T T F T C T C F T T T T T T T T F F T T T T T T T T T T T T T T P T T T T T T T T T T T T T T T T T T T T T T T T T T T T T T E E E E P T T T T T T T T T T T T T T T T T T T T T T T T T T C C C C F C C F T T T T T T T T T T T T P T T T T F C C F F C C T C C C T T T T T T T T C C C T T T E E F E E E E E E T T T T T T T E E E C E E E C E E E F F F F C C F F C C F F C C C C F T',\n",
       " 14769115: 'C C C C C C C C C C C C F T T F C C F F C F F C C F F C C F F C T T F F C C F F C C C C C C F F C C F F C C C C C C F P T T T T T T T T T T T T T T T T T T T T T T T T T T T T T C F C F F T F T T F C F F C F T T T T T T T T T C C F C C C C C C F F F F C F T T T T T T P F C C C C C C C C C C C F T T T T T T C T P T T T T T T T T T T T T T T T T T T T T T T T T T T T T P T T T T T T T T T T T T T T T T T T T T T T T T T T T T P F F E E E E E E T E E E E E E E E E P F F F C C F F F F C C C C P F C C T C T T T F T F T C C C C C T C F P T T T T T T P T T T T F C C C C C C C F T T T T T T T T T T C C C C C C C C C C C F C C C F E F F F F F F E E F F F F F F F F F F F F C C P T T T T T T T T T T T T T T P E F C F F F F F F F F F C C C C C C C C F F F C C C E F F C C F C F F F F F F F F F F F F C C C C F T T T T P T T T T T T T T T T T E E F T E T T E E E E T E E T E E T',\n",
       " 15616121: 'C C C C C C C C P C C P T T T P C C C C T T T T T P C C C C T T T T C T C C C C C C C C C C C F F F F C C C C C C C C C C C C C F T T T T P T T T T T T T T T C C C C C C C F C C C T T P C C F C F T P C C C C C C C C C C C C C C T T T T C C C C C C C C C F P F P C C C C C F T T T T T T T T T T T T T T T T T T P T T T T T T T T T T T T T T T T T T T T T T T T T C F T T C C C C C C C C C C C C F T T T T T T T T T T T T F C C F C C F P P C C C C C C C F P T T T T T T T T T T T T T T T T T T P T T T T T T T T T T P T T T T P T T T T T T T T P T T P C C C C C C F T T T T T T T T T',\n",
       " 17070059: 'C C C C C C C C C C C C C F F C C F P P T T T T T T T T T T T T T T T T T T T T T T T T T T T P T T T T T T T T T T T T T T P T T T T P T T T T T T T T T T T T P T T C C C C C C C C C C C C C C C C C C C C C C C C C C C C C C F T T T T T T T T C T T T T T T T T T T T T T T P C C C C C C C C C C C C C C C C C C C C C C C C C C C C F P T T T T T T T T T T T T T T T T T T T T T T T T T T T T T T P P F C C C C C C C F C C C C C C C C C C C C C C C C C C C C C C C C C C C C C C C C C C C C C C C C C C C C F T T T T T T T T T T T T T T T T T T T T T T T T T T T T T T P F C C C C C C C C C C C C C C C C C C C C C C C C C C C F T T T T T T T T T T T T T T T T T T T T T T T T T T T T T T T T P T T T T T T T T T T T T T T T T T T T T T T T T T T T T T T T T T T T T T T T T T T T T T T T T T T T T T T P F F F C C C C C C C C C C C C C C C C C C C C C C C C C C C C C C C C C C C C C C C C C C C C C C C C C F',\n",
       " 17580122: 'C P C X C C C C C C C T T T T T C C C T C C C T F T T X T C T P T T C C C X T T C C C C C C C C C C C C C C C C C C C C F T T T T T T X P C C C C C C C C C C C C C T T T T P C C C C C C C C F P X T T C C C C C C C C C C C C C C F C C C C C C F F C C C C C C C C C F P T T T T T T T T T T T T F T T T T T T T T T T T T C F C C C C C C F C C F P P X C C C C C C C C C C C C C C C C C C C C C C C C C C C C C C F C C C C C C C F T T T T T T T T P C F C C C C C F F F C C F',\n",
       " 18088102: 'C C C C C C C C C C T T C C C C C F T C C C C C C C C C C T T P C C C C C C C C T T C C C C C C C C T F C F F C F P C C F F C F C C C C C F F F C F C C C C C C C C C F P F C C C C F P F F F C F C F P C C E E E E E E E F F P P F C C F F C C F P E E E E E E E E E E E P E E E E F C C C T T C C C C C C C C C C C C C F P C C C F P C F F C F C C C C F F F P P F C C C C F P F F P C F F C C F P C C C C T T T T T T T T T F C F T T T P T T T T T T T T T P',\n",
       " 18838125: 'C C C C C C C C C C C C C C C F T T T T T T T T T T T T T T T T T T T T T T T T T T T T T T T T T T F C C F F C C C C C T C F F C C C C C F T T T T T T F C C T C C C C F T T T T T T T T T T T T T T T T T T T T T T T T T T T T T T T T T T T T P C F C C C C C F T T T T T T T T T T T T T T T T T T T P T T T T T T T T T T P F T T T T C C C F C C C C C C C C C C F T T T T T T T T T T T T T T T T T T T T T T T T T P T T T C C C C C C C C C C F T T T T T T T T T T T T T T T T T T T T T T T T P T T T T T P C F C C C C C C C C C F T T T P T T T T T F F T T T T T T T T T T T T P T T T T T P X T C C C C C C C C C C C C T T C C C C C C C C C C C T C C C C C C C C C C C C C C C C C C C C C C C C F T T T T T T T T T T T T T T T T T T T T T T T T T T P T T T T T T T T T T T T T T T T T T T T T T T T P T T T',\n",
       " 18893119: 'C C C C C C C C C C C C C C C F P T T T T T P T T T T T T T T T T T T T T T T F C C C C F F C F T T T T T T T T T T T T T T T T T T T T P C C C C F P T T T T T T T T T T T T T T T T T P F T T F T F T T T T C C F F C T C F F C C C C C T C C C F C C C F C C F C F T T T T T T T T T T T T T T T T T T T T T P T T T T T C C C C C C C C C C F P T T T T T T T T T T T T T T T T T T T T T T T T T T T T T T T T T T T T T T T T T T T T P F C F C C C T T T T C C C F C C C F C C C C C C C C C C C C C F F C C C T T T T C C C C T T C C C C T C C C C C F F C C F C C F P T T T T T T T T T T T T T T T T T T T T T T T T T T T T P C C C C C F C C P T T T T T T T T T T T P T T C T T C C C C C F P T T T T T T T T P T E E T T F C E E E T T E F P T T T T T T T P E',\n",
       " 19930112: 'C P C C C C C C C C C C C C C C C C F P T T T T T T P F F F T C C F T P T T T F C F F C F F C F P F T T F F F C F P X T C C C C C C C C C C C C C C C C C C C C C C C C C C C C C C C C C C F T T T T T T T F F P F F C C C C F F C F P T T T T C C C C F F C F P F F F F F F C C C C F F C F F F P F P F C F F F F P F T C C C C F F C F T F F F F P F F F C C F F F T T C C F F C P F P F C F F F P F F F C C F F F',\n",
       " 20717120: 'C P C C C C C C C C C C C C F F C C C F E E E E E E C C C C F T T C C C F C C C C F C F F F C C F C C F F C C F C C C C C C C F C C F F P F F F F F F F F F E E E E E E E E E E E C C C C C C C C C C C C C C C C C C F C C C C C C F C C E E E F E F C C C C C C C C F F C C C C C C C C C C C F F C C C C F C C F C C F F C C F P C E E E E F F E F F C F F C C C C C C C C C C C C C C C C C C C F F C C F P F F C C C F F F F C C F F C C F F C C C F C F F F C C F C C F F F F C C C C C F P P X P C C C C C C C C C C C C C C C C C C C C C C C C C F C C C C C C F F C C F P C C C C C C C C F C C C C C C C C C C C C C F F C C C C C C F C C F F C C F C F P F F C C F C C F F F F C C C C C C C C C C C C F C F F C F F C F F C F F F C F F F F X C C C C C C C C C C C C C C C C C C C C C C C C C C C C C C C C C C C C C C C C C C C C C C C C C C C C C C C C F C C C C F F C C F F C C F C F C F F C C F F C F F C C C F C F P E E F E E E E F E E E E E E C C C E E E E',\n",
       " 23112113: 'C C C C C P C P C C P C C P C C C C C C C C C C C C C C C C C C C C C T T P C C C C F F C C F F C C C C F F F P P C F F F T T T T T T T T T T T T P T T C F C F C F C C F P P F C C F F C C F P F C C C C C C C C C C C C C F T T T T T T T T T T C C C T T T T T T T T T T T P F F C C T C F T C F T C T C F F C C F P F C C C C C C C C C C C C F F C C C C F F C C P F C C F F C F C C C C C C C C C C F F F C C C C C C C F F C C C C C C C C C F T T T T P F C C C T T P P T',\n",
       " 23143099: 'C C C C C C C C C C P C C C C C C P X C C C C C C C C C C C C C C C F T T T T T T T T T T T T T T T T C T T C C C C C C C C C C C T T T T T T T T T T T T T T T C C C C T T T F T C F C C F C X C C C C C C C C C C C F F C C F T T T T T T T T T T T T T T T T T P P T T T F C C C C F T T T T T T T T T T T T T T T T T T T T P T T T T T T T T P T T T T T T T T T T T T T T T T T T T P X X C C C C X C C C C C C C C C C C C C C C C C C C C C C C C C C C F T T T T T T T T T T T T T T T T T T T T T T T T T T T T T T T T T T T T T T T T T T T T T T T T T T T P T T T T T T T T T T T T T T T T T T T T P T T T T P T T T T P T T C C C C C C C C C C C C F P T T T T T T T T T T T T T T T T T T T T T T T T T T T T T T T T T T T T T T T T T T T T T T T T T T T T T P T T T T T T T T T T T T P T T T T P T T T T T T T T T T T T T T T T T P X T C C C C C C C C C C X X X X X C C C C C C C C C C C C C C C C C C C C C C C C C C C C C C C C C C C C C F T T T T T T T T T T T T T T T T P T T T T T T T T T T T T T T T T T T T T',\n",
       " 24387118: 'C P C C C C C C C C C C C C C F F C C F P C C C C C C C C C C C C F T P T T T T T T T T T F C C C C C F T T T T F C C C C F F C C C F T T T T T T T T T T T T T F F F C F T P F C F F F F F F C C F T T T T T T T T T T T T T T T T T T T T T T T T T T T T T T T T T T T T T T T T T T F C F T T T T T T T T T T F C P F F P T P T F C C C F F C C F C C C T T T T F F C C C C F T T T T T T T T T T T T T T T T T T T T T P T T T T T T T T F C C F T T T T T T T F F C C F T T F C C F T T T T T T T T T T T P T T T T T T T T T T T T T P C C C C C C C C C F T T T T T T X C C C C C C C C C C C C C C C C C C C C C C C C F T T T T T T T T F C C C C F T T T T T T T T T T P F F F F F F C F T C C C C T T T T C C C T T P C C C C C C C C T F F F F F T C C C T F E P T C C C C C C C C C C C C C C C T T C C C C T C F X C C C C C C C C C F C C C C C C F C C C C C C F F C C C C C F C C F F F C C F F F F F F C F P T T T T T T T T C C T T T T T T T T T T P C X',\n",
       " 24582121: 'C C C C C C C C C C C P X C C P C C C C C C C C C F P P T T T T T T T T T T T T P T T T T T T T T T T C C T T C C C C T P T T T T T T T T P T T T T T T T P F C C C C F F C F T P T T T T T T T T T T T T T T T T T T T P F T T C C C T T T C F T T T T T T T T T T T P T T T T T T T T T T T T T T T T P X T T C C C C C C C C C C C C C C C C C C C C C C C C C C F T T T T T T T T T T T T T T T T T T T T T T T T T T T P T T T T T T T T T T P F F F F C C C C C C C C C C C C C C C C C C C C C C C F T T T T T T T T T T T T T T T T T T T T T T T T T T T T T P T T T T T T P T T T T P T T T T T T T T P X C C C C C C C C C C C C C C C C C C C C C C C C C C C C C C C C F P T T T T T T T T T T T T T T T T T T T T T T T T T T T T T T T T T T T T T T T T',\n",
       " 26225080: 'C P C C C C C C C C C C C C C C C C C C C C C F F F T T T T T T T T T T T T T T T T F F C C C C C F C C F T T T T T T T T T T T T F C P C C C C C F F C C F P C C C C C C C C C C C C C C C C C C F C C C C C C C C C C C F P F F F P C C C C F F C C C F F C F P F F F C C F T T F T F C C F C T F C C F P F F P F C C C T T F T T T F T T T T T T T T T T T T T T T T T T T T T T P T T T T T T T T T T T T P F C C C C F T T T T T T T T T T T T P P T T T C F T F T T F C T C C C C F F C C F',\n",
       " 28098102: 'C P P C C C C C C C C C C C T T T T C T T C C T T T C C T T T T C C C C X C C C C C C C C C C C C C C C C C C F P T T T T T T T T C F C C C C C F T T T T T T P X T T C C C C C C C C C C C C C C C F C C P C C T T T T C C C C C C C F T T T T P F C C C C C C C C C F T T T T P C C F C C F P F C T F F C C C C C F P F C F P F C C F P C F C C C F P E E E E E E C C C E E C F E T C C T E E T C C F F E E T C C F E C E T C C C C E E E C C C C T F F C C T E C F P T T T T T T T T T T T T',\n",
       " 28582129: 'C C C C C C C C C C C C C C C F F C F P F C C F P C C C C F P F C C C C F P F C C C C F P T T T T T T T T F T T C C T F T T T T T T T P T T T T T T T T P F C C C F F C F T T T T T T T T T T T T T F T C C C C F T P T T P T T T T T T C F F F P C C C C C F F C F F C C F C C C F C C F C C F C C F P T T F F C F F T F T T T T T T T T T T T T T T T T T T T T T T T P F T T T T T T T T T T P F T T T T C F C C F F C C C C C C C C C C C C C C C C C C C C F T F P F P F C C C C C C C C F T T T T P T T P T T T T T T T T T T T T T T T T T P F F T T T F F C P X C T T',\n",
       " 31091114: 'C C C C C C C C C C F F P F C C C C F F F F C C F F F C F P X C C C C C C C C C C C C C C C C C C C C C C C C C C C C C C C F F C F F C F F C F P T T T T T T T T T T T T T T T T T T T T T T T T T T T T T T F C F T T T P C X T T C C C C C C C C C C C C C C C C C C C C C C F F C C C C C C C C C C C C C C C C C C C C C C C C C F F F T T T F T X C C C C C C C C C C C C C C C C C C F C C C C C C C C C C C C F T T T T T T T P T T T T F F F F F C C C F P X T C C C C C C C C E X C C C C C C C C C C C F C X C P X C C C C C C C C C C C C C C C C C C F T T T T T T T T T T T F F F F F F F T T T T T T T T T T T T T T P T T T T T T T X T C C C C C T C C C C C C C C C C C C C F P P P C C C C C C C C C C C C X C C C C C C C C C C C C C C C C C C C C C C C C C C C C C C C C C C',\n",
       " 35155125: 'C C C C C P C C F P T T T T T T T P T T T T T T T T P T T T T T T T T T T T T F C C F P C C C C C C C C C C C C C C C F T T T T P T T T T T T T T T T T T T T T T T T T T T T T P F C T F C C C C C C C F F C C F T T T T T T T T T T T T T T T T T T T P T F C C C C C C C C C C C F T C C C C C C C C C C C C C C C C C C T T C C C C T T T T T T P F C T C T T T T T T T T T T T T T T T T P T T T C C C C C C F T T T T T T T T T T T T T P T T T T P T T C F T T T T T T T T T T T T T T T T T T T T T P T T T T T T P T T T P T F C C C C F C F C C C C C C C C C C F F C F F C C C F F C C C C C T C F C C C C C C F T T T T T T T T T T T T T T T T T T T T T T T T T T T T T T T P X C C C T T',\n",
       " 37842114: 'C C C C C C C C C C C C P T T T T T T T T T T T T T T T P T T T T C C F T T C C F T T F T C C T F P P T T T T T T T T T T T T P T T T T T T T T C C F T C C C C C T C F P T T T T T T T T T T T T T T T P T T T T P X T C C C C T T C C C C C C C C C C C C C C C C C C C C C C F T T T T T T T P T T T T T T T T T T T T T T T T T T P T T T T P C C C C C C F T T T T T T T T T T T T T T T T T T T T T T T T T T T T T P T T T T T T T T T T T T T T T T T T T T T T T T T T T T T T T T T T T T T T T T T F C C C C C C C C C C F T T T T T T T T T T T T T T T T T T T T P T T T T T T T T T T P T T T T T T T T T T T T T T T T T T T T T P T T T T T P T T P T T T T T T T T T T T T T T P T T T T T T P X T C C C C C C C C C C C C T T C C C C C C C C C C C C C C C C C C C C C C F F C C C C C C C C C C F F C C F F C C F T T T T T T T T T T T T T T T T T T T T T T T T T T T T T T T T T T T T T T T T',\n",
       " 37987123: 'C P C C C C C C C C C C C C C C C C C C F C C C C C C C C C C C C P C C F C F F C F F C F X C C C C C C C C C C C C C C C C C C C C C C C C C C C C C F C C F T T T T T T T T T T T T C C F F F C F F C F T T T T T T T T F C C C T C F F C C F F C F C C F T T T T T T T T T T T T T T T T T T T T T T T T T T T T T X T T C C C C C C C C C C C C C F T T F C C F T T T T T T T T T T T T T F C C T T C T C T T F T T T T T P T T F C C F T T T T T T T T T T T T P T T T T P T T T T C F T C F T T P T F F T C C C T F P T P T T T T T T T T T T T T T T T T T T T T T T T T T T T P F P T T T T T P C T C T T F P X T T C C C C C C C C C C C C C C C C C C C C C C C F C C F T T P T T T T P C C C C C C C C C C C C C C C C C F T T T T F C C F P C C C C F P X T T C C C C C C C C C C C C C C C C C F C C C C C C C C C C C T F T C C C F F C C F X C C C C C C C C C C C C C C C C C F T T F C C C C F F C C F F C P C C F T T T T T T T T P F C C C C C C C C C C C C C C C C C C C C T P C C F T T T T T T T T',\n",
       " 38648120: 'C C C C C C C C P T T T T T T T T T T P T T T T C T T T T T T T T T T T T T T P T T T T T P F C C C C C C C C C C F P T T T T T T T T T T T T T T T T T T T T P C F C C C C C C F P T T T T T T T T T T T T T T T P X T C C C C C C C C C C C C C C C C C C C C C C C C C C C C C C F T T T T T T T T T T T T T T T T T T T T T T T T T T T T T T T T T T T P C C C C C C F C F C C C C C C C C C C C C C C C F T T T T T T T T T P T T T T T T T T T T T T T T T T T P T T T T T T T T T T P X C C C C C C C C C C C C C C C C C C C C C C C C C C C C C C C C F P T T T T T T T T T T T T T T T T T T T T T T T T T T T T T T T T P F F C C F C C F F F C C C C C F X C C C C C C C C C C C C C C C C C C C C F F C C C C C C C C C C C C C C C F F C C F F C C C F C C C C C C C C C C C F C C C C C C F F C C C C C C C C F X C C C C C C C C C C C C C C C C C C C C C C C C C C C C F F F F C C C C C F F F X C C C C C C C C C C C C C C C F T T T T T T F C C C C C C F T T T C C C T C C F X C C C C C P C C C C C C C C C C C C C C C C C C C C C C C C C C C C C C C C F F C C C C C C C C C C F F C C C C C C F F F T T T T T T T T T T',\n",
       " 38732121: 'C C C C C C C C C C C C C C C C C C C C C C C C C C C C C F F F E E F E E E E E E T T T T T T T T T T T T T T T T T T T T T T T T T T T P X T C C C C C C C C C C C C C C F P T T T T P T T T T T T T T T T T T T T T T T T T T T T T T T T T T T P T T F C C C T C T F T T F C C T T T T F F T T C C C F F C T T F P T T T T T T T T T T T T T T T T T T T T P T T T T T T T T T T T T T T T T T T T T P F C C C C F P T T T T T T T T T T T T T P T T T T T T T T T T T P F C T T T C C T C T C C C C C C C C C C F T T C C C C C C C C F P T T T T T T T T T T T T T T T T T T T T T T T T T T T T P T T T T T T T T T T T T T T P T T T T T T T T T T T T T P T C C C C C C C C C C F P T T T T T T T T T T T T T T T T T T T T T T T T T T T T T T T T T T T T T T T P T T T T T T T T T T T T T T T T T T T T T T T T T T T P P T T T T T T T T P T T T P F C C C C C C C C F F F F F F F F P T T T T T T P T T T T T T T T T T T T T T T T T T T T T T T T T T T T T T T T T T T T T',\n",
       " 39619124: 'C P C C C C C C C C C C C C C C C C C C F P C T T T T T T T T T T C T T T T F T T T T T T T T T T T T T T T T T T P T T C C C C F C C C C F T P T T T T T T T T T T T T T T T T T T T T T P T T T T T P T T T P T T T T T T P T T T T T T T T P T F C C C C F T T T T T T T T T T T T T T T T T T T T T T T T T P F F F C F P C F P F C C C C C C C C C T F T T F C C C C F F T T T T T T T T T T T T T T T P T T T T T T T T T T T P T T F C C C C C C F C C C C C C F P T T T T T T T T T T T T T T T T T T T T T T P T T T T T T T T T T T T T T T T',\n",
       " 41045127: 'C C C C C C C C C C C C C C C F P T T T T T T T T C C T T T C T T T T T T T T T T T P C F C C C F P T T T T T T T T T T T T T P T T T T T T T T T T T T F C C C C F T T T T T T T T T T T T T T T T T T P X T T C C C C C C C C C C C C C C C C C C C C C C X C C C C C C C C C C C C C C C C C C F C C C C C C C C C C F F C C F T T T T T T P T T T T T T T T T T T T P T T T T T T T T T T C C T T C C C C C C F P T T T T T T T T T T T P T T T T T T T T T T T T P P X T C C C C C C C C C C C C C C C C C C C C C C C C C C C C F C C F C F C C C F C C F F C C F T C F C F T T T T T T T T T T T T T T T T T T T T T T T T T T T T T T T T T P X T C C C T T C C C C C C C C C C C C C C C C C C C C C C C C C C C C C C C C C C C C C C C C C C C C C C C C C C F P F C C C C C C C C C C C F F F P C C F P T T T T T T T T T T T T P T T T T T T T T P T T T T T T T T T T T T T T T T T P E E E E E E E P E E E E E F E E E',\n",
       " 41295172: 'C C C C C C C C C C C C C F T P T T P T C C C T P T T T T T T T P T T T T T T T T T T P F C C C C C C F P T T T T T T T T T T T T T T T T T T T T T T T P F C C C C F F C C C C F F C F P T T T T T T T T T T T T T T T T P F C C C C C C C C C C C C C C F C C C F T T T T T T T T T T T T T T T T T T T T T T P P T P C C C C C C C C C C C F T T T T T T T T T T T T T T T T T T T T T T T T T T T T T T T T T P P P X C C C C C C C C C C C C C C C C C C C C C C C C C C C C C C C C F F C C C F C C F C C F C C C C C C C C F T T T T T T T T T T T T T T T T T T T P T T T T T T T T T T T T T T T T P T T T T P C C C C C C T T T F C F F T T T T T F P X',\n",
       " 42175126: 'C C C C C C C C C C C C C C C F C P T T T T T T T T T T P T T T T T T T T T T T T T T T T C T T T T T T T P T T T T T T T T T T T T T T T T T T T T T T T T T T T T T T T T T T T C C C C C F F C C T T T T T T T T T T T T T T T P T T T T T T T T T T T T T T T T T T T T P T P F C C C C C C F T T T T T T T P T T T T T T T T T T T T T T T T T T T T T T T T P T T T P T T T T P F C C C C C C F T T T T T T T T T T T T T T T T T T T T P T T T T T T T T P F C C C C C C C C C C F C C C C C C C C C C F T T T T T T T T T T T T T T T T T P T T T T T T T T T P T T T P F T T T F F F C T C F T T C C C C F C C C C C C C C C C F T T T P T T T T T T T T T T T T T T T P F P C C C C F C C C C C C C C C F T F C C F F C C C C C C C C F T T T T T T T T T T T T T T T T T T T F C T C F T T T T T T T T T T T T T T T T T',\n",
       " 42822113: 'C C C C C C C C C C C C C C C F T C C T C F P T T T T T T T T T T T T T T T T T F F F F F C C F F C C F F C F T T T T T P T T T T T T F C C F P C C C C F P X T T C C C C C C C C C C C P C C C C C C C C C C C C C C C C C C C C C C C C C F C C P F C C F F P C F P T T T T P T T T T T T F C C F T T T T T T P F T T F T T T T P F C F P C C F T T T T T T T T P C C F P T T T F F P C C C C T T T C C T T C T T T T C T P F C C C P T T T T T T T T T C F F T C T C C C C F F C C F F F P T T T T',\n",
       " 43999105: 'C P C C C C C C C C C C F F C C C C C C F F C C C C C C F F C P C C C C C C C C C C C C C C C F C C C C C C F P F C C C C C C F P F C C C C F T T T T T T C C F T T F T C C C C C T C F T T P T T F F C C C C C C F T T T T T T T F T C C C C C C F T T T T T T P T T T T T T T T T T T T T T T T T T T T T T P C C F C C C F C F F C C C F F C C C C C C F F C C C C C C C C T C C C C C C C F C E E E F F F F F F F F C F F P F C C C C C F F C C C C F F C C C C C C C F C C F C C F F F F C C C C C C F F F F F P E E E E E E E E F C C C E E E E E E P P C C F C F C C C C F F F C C C C C C F F C C C C C C C C C C F F C C F F F C C C C C C F F F C C C C C C C C C C C C C C C C C C F C C C C C C C C C F F C C C C F F C C C C C F F C C C C C C F F F C C C C C F C C C C C C F C C C C C F F C F F F C C C C C C F F C C F F P F C C C C C C F F C C F P T T T T T T T T T T T T',\n",
       " 44827119: 'C C C C C C C T T T T T T P C C C C C P C C C F F F P C C F C F P P T T T F T T F T T T T T T T T T T T T T T T T P T T T T T T F F T T T T P C C C F C C F P C T C F P C C C C C C C C C C C C C C C C C C C C C C C C C C C C P X C C C C C T T C C C C C C C C C C C F C T F F C T T F T T T T T C C T C C T T T F F F C C C F C C C C C C C C C C C C C C C P C C C C C C T T T T T T T T P P C C C F F F C C F T T T T F C C F P T T T T F C C F P P C F C C C F C T C C C C C C T C P C C C C P C C C C C C C C C C C C C C C T T T T T T T T T T T P X T C C C C C C C C C C C C C C C C C C C C C C C C C C C C C C C C F C C C C C C C C C C F P C F C C C F F P C F C T C C F F C T C C C F C C F P',\n",
       " 46231117: 'C C C C C C C C C C C C P X P C C C C C C C C C C C C C F F C C C C F P F C C C F T T T T T P T T T T T T T T P C C F C C F F F T T T T T T T T T T T F P T T C C C C F T T T T T T T T T T T T T T T T T T T T P F C C C C C C F F F F C C C C F P T T P X T C C C C C C C C T T C C C C C C C C C C C C C C C C C C C C C C C C C C C C C C C C C F P F C F C C F F C C C C F F C P C C C C C C C C F C C F C P T T T T T T T T T T T T T T T T T T T T T T T P C C C C C C C C C C F T T T T T T T T T T T T T T T T T T T P X T T C C C C C C C C C C C C C C C C C C C C C C C C C C C C C C C C C C C C C C C F P T T T T T T T T T T T T T T T T T T T T T T P T T T T T T T T T T T',\n",
       " 48107113: 'C C C C C C C F C C C F C C F F C F T T T T T T T T T T T T P T T C F C C C P T T T T C C C C C C F F C C F F C C F F F T T T T T T T T T T T T T T T T T T T T T T T T T T T T T T T T T T T T T T T F C C C C C C F F F F F F C C F T T T T T T T T T T T T T T T T T T T T T T T T T T T P T T T T T T T T T T T T T T T T P T T T T T T P F C C C C C C C C C C C F C C C C F T T T T T T T T T T T T T T T T T T T T T T T P P P T T T T P C F C F F F F C F F F C F F C C C C C C C C C C C C C C C C C T C C C C C C C C C C C C C F P T T T T T T T T T T T T T T T T T T T T T T T T T P T T P C C C C C T C T F F C F T T T F C C X C C C C C C C C C C C C C C C C C C C C F C C C C C F C C C C F C C C C C C C C C C C C C C F T T T T T T T T T T T T T T T T T T T T T T T T T T',\n",
       " 51352592: 'C C C C C C C C C X C C C C C C C C C C C C C C C C C C X C C C C C C C C C C C C C F E T E T T T T T T T T T T T T T T T T T T T T T X T T C C C C C C C C C C C C C C C C C C C C C C C C P P C C C C T C F C C F T T T T T T T T T T T T T T T T T T T T T T T T T T T T T T T P C T P F C C C C C C F F C C F C F C C F T T T T T T T T T T T T P T T T T P F T T T C C T C C C C C C C C C C C C C C C C C C C C F T C C C C C C C T C T C C T T T T T T T T T T T T T T T T T T T T T T P F C C C C C C C F C C C C C C C C F T C C C C C T T T F P T T T T T T T T T T T T T P T T T T T T T T T T T T T T T T T T T T T T T T T T T T T T T T T T T T T T T T T T T T T T T P X C C C C C C C C C C C T T C C C C C C C C C C C C C C C C C C C C C C C C C C C C C C C C C C C F P T T T T T T T T T T T T T T T T T T T T T T T T T T T T T P X T T C C C C C C C C C C C C C C C F T T T T T T T T T T T T T T P X T C C T T C C C C C C C C C C C C C C C C C C C C C C C C F T T T T T T T T P T T T X T T X',\n",
       " 51876107: 'C P C C C C C C C C C C C C C C C C C C C C F F T T C C F T T T T T T T T T T T T T T T T T T T T T T T T F C T T T T T T C C C T T T T T C C T C C C C C C C T C C C C C C C C C C C C C C C C C C C C C C C C C E E C C C C C C C C C C C C C C C C C C C C C C C C C C C C T T T T T T T T T T T C C T T E E E E E E E T T C C C C C T T T T E E E E E E E E E T E F C F F T T T C C F C F C F E F E E E E C C C F C C F P E T T T T T T T T T T T T T T T T T T F C C C C C C C C C C C C C C F F C C C F F C F F F P F F P T T T T P F T C C C C F T E E F F P F P C C F C F E T T T T T T T T T T T T T T T T T T T T T T T T T T T T T T P P T F T T T T T T T T T T T T P F F C F T T T T T T T T T T T T T T P T T T T T T T T T T T T T T T T T T T T T T T T T T T T T T T T E T T T P T T T T T E T T T T T T T T T T T T F C T T F F T T T T T T T T T T T E T T T T T T T T T T T T T T T T T T T T T T',\n",
       " 52041105: 'C C C C C C C C C C C C F C C C C C C C C C C C C C F C C C C C C C C C C C C C C C C C C C C C C T C C C C C C C C C C C C C C C C C C C C C C C C C C C C C C C C C C C C C C C C C C C C C C C C T T C C T T T T C C C C C T F T C T T C C C C C C C C C C T F T C C C C C C C C C C C C T F F F F F F F F T T C C C C F C C F C F F F F F F T T T T T T T T T T T T F F F F P T T T T P P F P F P F T C C C C C T C F P T T T T F F C C T T T T T F C T F T T P T T F F P T T T T T T F F T T T T T T T T T T T T P F F C T T T T T T F T T T F F P F C C C C F T F C C C C C C F T F C C C C C C F P F C C T F',\n",
       " 55188124: 'C C C C C C C C C C C C F F C C C C C C F F C C C C C C F F C C F F F F C C F P F F C C C C C C C C C C C C C F C C C C C C C C C C C C F F F F F F C C C C C F F F C C C C C C F C C C C C C C C F C C C C C C C F F F F F F F C C C C C C F P T T T T T T T T T T T T T P T T T T T T T T T T T T T T T P C C F C C C C C F P F C C C C C C C C C C C C C C C C C C C F T T T T T T T T T T T T T T P F C C C C C C F T T T T T T F F P P T T T T T T T T T T T T T T T T T T T T T T T T P F C C F C T T T T T T T T T T T T T F F F F T P F T C C C C C C C C C C C C C C C C C F F C C C C F C C F F F F C C C C C C F T T T T T T T T T P X',\n",
       " 57521121: 'C C C C C C C C C C C C C C C C C C C C C C C C C C C C C P P C C C C T T C C C C C C C C F F F F C C C C F C C C C C C C C C C F C C C C C C C C C C C C C C C C C C C C C F C C C C C F P C C C C C C C C C C C C C C C C C C C C C C C F F F F F C C C F C C F P C F C C C C C C C C C F C C C C C F P F C C F C C C F F F F C F C C F F C C C F C C C C C T T T T T T T T T T T T T T T T T T T T T T T T T T T T T T T T T T C C C C C C C C C C C C C C C C C F T T T T T T T T T T T T T T F F F F F F F F F F F F F F F F F F E E E E E E E E F T T T T T T T T T T T T F P C F C F P T T T T T T T T T T T T P E E E E E E E F C C C C C F T T T T F C F F C C C C F F T T T T T T T T T T P T T T T T T T T T T T T T T T T T T T T T T T T T T P T T P',\n",
       " 59553121: 'C P P C C C C C C C C C C C C C C C C C C F P T T T T T T T T T T T T T T T T T T C T T T T T T T P T C C C C C C C C C C C C C C C C C C C C C C C F T T T T T T T T T T T T T T T T T T T T T T T T T T T T T T T P C C C C C C C C C C C C C C T C C C T C C C C F T T T T T T T T T T T T T T T T T T T T T T T T T T T T T T T T T T P T T T P P F C C C C C C C C C C C C C F C C C C C C C C F F C C C C C C C C C C C C C C F P C C F C F C C F F C C F C C C C C C C C C C C F C C C C C C C C C C C C C C C C C C C C C C C C C C F C C C C C C C C C C F T T T T T T T T T T T T T T T P C C C C C C C C C C F T T T T T T T T P T F C C C C C F C C C C C C C C C C C C C C C C C C C C C C F T T T T T T T T T T T T T T T T T T T T T T T',\n",
       " 60076128: 'C C C C C C C C C C C C C C C C C C C C C C C C C C C C F P F C C C C C C C C C C C C C C C F P T C C C C C C C C C C C C C C C C C C C C C C C C C C C C C C C C T P C C C C C C C C P C C C C C C C C C F P T T T T T T T T T T T T T T T T T P T F C C C F C C C P E E E E E E E E E T T T T T T T T T T T T T T T T P F C C F C C C C C C C P T T T T T T T T T T T T C P C C F F F C F F F C C F C C C F F C C F T T P F C C C X T C C C C C C C C C C C C C C C C C C C F P F C F C C C C C C C C C P F C C C F C C C C C F C C F P C C C F P C C T T T T T T T T T T T T T T T T T T T T T T P C C C C C C C C C C F T T T T T T P X T T P C',\n",
       " 61117124: 'C C C C C C C C C F P T T C T T T T T T T T T T P T T T T T T T T T T P T T T T T P T T T T T F C C C T C C C C C C C C C C C C C F F C C C C C C C C C C C C C F C C C C C C C C C C C C F C C C C C C C C F P C F F C F T T T T T T T T T T T T T T T T T T T T T T T T T P T T T T T T T T T T T P T T F C C F T T T T T T T T P T T T T T T T T T P T T T T P F C C C T C C C C F C C C C F P T T T T T T T T T P T T T T T T P T T T T F C C F C C C C C C C C F F C C F T T T T T T T T T T T T T T T T T T P T T T T T T P F F F C C F C C C F F F C C C C C C F F F F C C T C C',\n",
       " 61296129: 'C C C C C C C C C C C C C C C F C C C C C C C C C T T P T T T T P F F T T T T T F F T C P C F C F C F F C C F F C P F F C F F C F P F F F C C C F T T C T C T T C T P F C C C F P C T C F C C C F T T T T T T P C F C C C F P T T T T T T P P T T F C T C T C C C C C T T T C C C C C T C T T T C C C C C C C C C C C C C C C C C C C C C T T T C C C C F T T T T T P F C T C C T C C C C C C C C C C T T C T F F C F F T F F F F F T T C C C T T C T T C T C C C C C C C C C C C C C C C C C C C C C C C C C C C C C C C C C C C C C C C C C C C F T C C C C C C C C C C C C C C C C C C C C C C C C C C C C T C C C C C C C C C C C C C C C C C C C C C T C C C C C T T T T C C C C C C C C C C C C T T T T T T T T T P F F F C C F C F C C F F C C C C F P F C P C F F F C F C C C F P C F P T T T T T T T T T T T T',\n",
       " 62238125: 'C P C C C C C C C F P T T T T T T T T P T T T T T T T T T T T P C T T T F C C C C C T T C P T T T T T T T T T T T T T T T P C F C C C C C C C C C F T T T T T T T T T T T P T T T T T P F T F T F C C T F C C F C C C T T C C C C C C C C C C C C C C C F C C C C F T T T T T T T T T T T T T T T T T T T T T T T T T T T T T T T T P T C C C C C C C C C C C F P T T T T T T T T T T T T T T T T T T T P T T T T T T T T T T T T T T T T T T T T T T T T T T T T T T T T T T T T T T T T P T T T T T T T T T T T T T T T T T T T T T P T T T P X C C C C C C C C C C C C C C C C C C C C C C C C C C C C F T T T T T T T T T T T T T T T T T T T T T T T T T T T T T T T P E F E E E E E E E E E E T T T T T T P E F F C C C E E E E E E E E E E P E C C F P X T C C C C C E E E E E E E C C C C C C C C C C C C C C C C C C C F P F F F C C F P F C C F C F C C F F F F C F F F F',\n",
       " 62898116: 'C C C C C C C C C C C C C C C C P T T T T T T T T F C C F P F C C C C C C F F C C F P T T P F C C F T T T T T T F C C C C F T P X T C C C C C C C C C C C C C P C C C C C C C C C C C C C C C C F F C C F C C F F F C C C C C P C F C P T T T T T T T T X C C C C C C C C C C C C C C C C C C C C C C C C C C C C C C C F F F F C C C C C C C C C F C C F T T T C C C C P C C C C C C F T T T T T T T C C C F T T T T P T P C C C T F T T T T T T T T T T F C C F T T T T T T T T P T T T T P F F C C C C C C C C C C C C C F F C P C P F F C C F F C P T P C C C C C C C F F C F F P X C C C C C C C C C C C C C C C C C C C C C C C C C C C C C C C C C C C C F C C C C F C C F C C F P X C P C C C C C C C C C F C X C C C C C C C C C C C C C F F C C F',\n",
       " 62935112: 'C C C C P C C C C C C C C C C F C C C C C F P T T T T P F C F F C F P T P T T T T C C C T T T T T P X T C C C C C C C C C C C C C C C C C C C F T T T T T T T T T T T T P T T T T T T T P X T C C C C C C C C C C C C C C C C C C C C C C C C C F P T T T T T T T T T T T T T T T T T T T P X T C C C C C C C C C C C C C C C C C C C C C C C C C C C C C C C C C F P T T T T T T T T T T T T T T T T T T T T T T T P T F C C C C C C C C C C C C C C C C C C F P T T T T T T T T T T T T T T T T T T T T T T T P X T C C C C C C C C C C C C C C C C C C C C C C C C C C C C C C C C C F P F C C C C F F C C F P T T T T T T T T T T T T T T T T T T T T T T T T T P X T C C C C C C',\n",
       " 64153126: 'C C C C C C C C C C C C C P C C C C C C C C C C F P T T T T T T T T T T T T T T T T T T T T C C C C T T T T T T T T T P F C C C C C C F C F C C F P T T T T T T T T T T T T T T T T T T T T P T T T T F C C C C C C C C C C C C F F C F C F C F P T T T T T T T T T T T T T T T T T T T T T T T T T P T T T F F F F F F T C F T F F P C T C C C C C C C C C C C C C C C C C C C C C C C C F P T T T T T T T T T T T T T T T T T T T T P C C C C C C C C C C F P T T T T T T T T T T T T T T T T P T T T P T F C C C C C C C C F F C F F C C C C C C X C C C C C C C C C C C C C C C C C C C C C C C C C C C C C C C C C F C C F F F P T T T T T T T T T T T T T T T T T T T T P P F T T T T F T T F C C C C F P F F F X P C C C C C C C',\n",
       " 64687090: 'C C C C C P C C F P T T T T T T T T T T T T C C C F C C F T T T T T T T P T P F P C C C C C C C C C C F P T T T T T T T T T T T T T T T T T T T T T T P F C C C T C C C C C C C C C F F C C C F T T T T T T T T P T T T T T T T T T T T T T T T T T T T T T T T T T T P T T T T T T T T T T F C C C C C F P F C C C C F T T T T T T T T T T T T T T T T T T T T T T P F C F P F T C C C C C C F C C C C C C C C C F T T T T T T T T T T T T T T T T T T T T T T T T T T T T T T T T T T T T T T P T T T T T T T T T T T T T T T T T T T T P T F C C F C C C C C C C C C C F T T T T T T T T T T T T T T T T T T T T T T T T T T T T T T T T T P T T T T T T P T T T T T T T T T T T T P T T T T T T T T T T T T T T P F F F C C C C C C C C C C C C C C C C P C C C C F C C C C C C C C C C F T T T T T T T T T T T T T T T T T T T T T T T T T T T T',\n",
       " 64944126: 'C C C C C C C C C C T T C C C C C C C C C C C F P T T T T T T T T T T T T T T T T F C C C C F T T T T T T T T T T T T P T F C C C C F T T T P F C T T C T C F T P C T C C C T F T T T T T T T T T T T T T T T T T T T T T T T T P F C F C C C C F T T T T T T T T P T P F F T T T T F F P F F F F P T T F F C T C T F C T F T F P T T T T T T P T T T T T T T T T T T T T T T T T T P F C C C F P T T T T T T T T T T T T T T F C F F C F T T P T T T T P T T T T T T T T T T',\n",
       " 66362122: 'C P C C C C C C C T T C T T C C T T T T P C C C C C C C C C C C C C C C C C C C C C C C C C C C C T T P T T P T C C T C C C C C C C C C C C C C C C F F T T T C C F T P T T T T C C C C F C F T T P T T C F C F P F F P T T T T T T T T C F C F P F F P C F C F P F P F C C C C C C C F P T T T T T T P T T T T T T T T T T T T T T T T T T T P T T F T C T T T C C C C C C C C C C C C C C C C C C C C C C C C C C C C C C C P T T T T P F C C F P C C F C C F P F F C C C F C F P T T T T T T T T P T T T T T T F F T T P T T F T T T T T T T T P C F F T T T T T T T T C F C F P T T T T T P T T T T T T P F C C C C F T T T T T T T T T P T T T T T T',\n",
       " 66472128: 'C C C C C P C C C C C C C C C C C C F T T T T T T P F T T C C C C F F C F F C C F P F C C C C F C P C C C C C C C F F C C C C C C C F P F F F F C C C C C C C C C C C C C C C F F C C C C C C F P F T T T T C C F T T T T T T T T F C C T T T C F T T T F T T T C F T T T P T T T T C C C F F T T T T C C C F F P F C C C F P F T P F C C C C C C T F C F C C C C T F C C C C T C C F P F T T F C F F C C C C C C C C C C C C C C C C C C C C C C C C C C C C C C C C C C C C C C C C C C C C C C C C C C C C C C C C C C C C X C C C C C C C C C C C C C C C C C C C C C C C C C C C C C C C C C C C C C C C C C C C C C C C C C C C C T C T T T C C C C C C C C C C C C C C C C C T T C C C C C C C C T T T C C T T T T T T T P C T C C C X T',\n",
       " 66828119: 'C C C C C C C C C C C T T T T C C C C C C T T T T T T T C C C C C T T C C C C T T C C C C C C T P C T C C C C C C C T P T C C C C C C C C C C T C C C P F C C C C C C C C C C C F T T T T T T T T T T T T T C C C C C C C C T T T P T T T T T T T T T T T X T T C C C C C C C C C C C C T T T T T T T T T T T T T T T T T C C C T T P T X C C C C C C C C C C C C C C C C C C C C C C C C C C C C C C C C T T C C C C T T T T C C C C T T C C C C T T C C C C C C C T C C C C C C X C C C C C C C C P C C C C C C C F T T T T T T T T T T T X C C C C C C C C C C C C C F T T T T C C C F F C C C C C C C T T C C E E E E E E E E E E E E E E E E E E E E E E E E C C C P C C C C C C F T T T T T T T T T T P T T T C C C C C C C C C C T T C C C T P C F C C T T T T T T T T C C T T C F C C C C C C F C C C C C C C F C T T F F C C C C F T T C C C F F C C C C F T T T T F F F F F F F F P F T F F T T T T T T P T T T T T T T T T T P C C C C F C C F C C C F C F X T T C C C C C C C F C C C C C C F C C F C C C F T T T T T T T T T T T T T T T T T T C C C C C C F',\n",
       " 67755125: 'C C C C C C C C C F P T T T T T T T T T T T T P T T T T T T T T T T T T T T T T T T T T T T P T T F C C C C C C F C C F C C C C C C C C C C C C C C C C C F F C C F F C F F C C C C C C F F C C F F C C F T T T T T T T T T T T P T T F C C C C C C C C C C C C C C C C C C C F C C C C C C C C C C F P T T T T T T T T T P T T T T T T T T T T T T T T T T T T P F C C C C F C C C C C C C C C C C C C C F C C C C C C C C C C F P T T T T T T T T T T T P T T T T T T T T T P T T T T P T T T T P T T T T T T T T T T T T P C C C C F C F T C C C C C C C C C T C C C C C C C P C C F F C C C C C C C C C C C C C C C C C C C C C C C C C C C C C C F F C C F T T T T T T T T T T T T T T T T T T T T T T T T T T T T T T P C C C C C C C C F T T T T T T T T T T T T T T T T T T T T C F F C C C C C C F C C C C C C C C C C C C',\n",
       " 67899116: 'C C C C C C C C T T C C T F T T F C C C C C C C C C C F F F C C F C C F P F C C C C C F C C C C C C C C C C C T T T T C C C C C C C C P C C T T T F F C C C C C F C F F F C F T T T T T T T P F C C C C C C C C C C C C C C C T C C T C C C C C C C C C C C C C C C F T T T T T T P C F C C C C T T T C T C F T T T F T C C C C C C C F P F T T C C C C C T C C C F T F F F C C T P T T T T T F P C C C C C C C C C C C C C C X C T T P C C C C C C C C C C C C C C C X C C C C C C C C C C C C C C C C C C C C C E E E E P C F C F P F F F T T T T T T C C C F T T C C F T T C C C T T T T T T F C F T P C F F C C F F F F F F C F F C C C C F P E E E F C C C C T F E E E E C F C C T T C C F F C C C C C C C C C F F C C F F C C C C F T T T T P T T C C C C C C C C C C C C T T T T T E E F C F T T T T T E E E E T T E E E F E E E C E E E C E E E E E T T E C E E E E C E F T T F T C C C C C C F T F C F T T F C C C F F C F',\n",
       " 68995094: 'C C C C C C C F F F F C F T T C T T T C F T T T T C C C C C F T C C C C C C C C F P X C C C C C C C C C C C C C C C C C C C C C C C C F F C C C C F P X C C C C C C C C C C C C C C C C C C C C C C C C C C C C C C F C C C C C C C F T T T T T T T T T T T T T T T T T P C C C C C C C C C C C F T T T T C P C C C C C C C C C C C C C C C C C C C C C C C C C C C C C C C C C F T T T T T T T T P T T T T T T T T T P T T T T T T T P E E E C C C C C C C C C C C E E E E E E E E E C F E E E E E E E E E E E E E E E E E E E E T T P',\n",
       " 69251126: 'C P C C C C C C C C C C C F C C F F F T T T T T T T T T T T T T T T T T T T T T T T T C C T C F C F C C T T T F C F P T T T T T T T T T T P F C C C T T T T T C C C C C C C C C C C C C C C C C C C C C C C C C C C C C C C C T T T T T T T T T T T T T T T T T T T T C C F C C C C C T T F T T T T T T T T T T P T T T T T T T T T T T P F F C C C C C C C C C C C C C P C C C C F P T T T T T T T T T T T T T P T T T T T T T F C C C C C C C P F C C C C C C C C C C C C C C C C C C C C C C C C C C C C C C C C C C C C F T T T T T T T T T T T T T T T T T T T T T T T T T T T T T T T T T P T T T T T T T T T T P T T C C C C C C C C F T C C C C C C C C C C C C C T T T T T T T T T T T T T P T T T T T T T T T T T T T T T T P T T T T F C F F C C F C C C C C C F C C C C C C F P X T C C C C C C C C C C C C C C C C C C C C C C C C C C C C C C C C C F T T T T F C C C C F T T T T T T T T T T T T T T T F C C C C F T T T T T T T T P X T C C C C C C C C T T C C C C C C C C',\n",
       " 70209120: 'C P C C C C C P C C C C C C C P C C C C C C C C C C C C C C C C C C C C C C F P T T T T T T T T T T T T T T T T T T P T T T T T T T T T T T T T T T T T T T T T T T T C C C C F C F T T T T T T P T T T T T T T T T T T T T T P C F F F F F C C C F F C F F C C T T C C F P T P T T T T T T T T T P F C C C C C F C C C C C C F C F F F F C C C C C C C C C C F P T T T T T T T T T T T T T T T T T T T T T T T T T T T T T T T T T T T T T P T T T T T T P F F F C C C C C C C C C C C C C F P T T T T T T T T T T T P T T T T T T T T T T T T T T T T T T T T T T T T T T T T P F F C F F C F F F C F F F C F C C C C C C C C C C C C C C C C C C C C C C C C C C C C C C C C C C C C C C C C C C C C C C C C F P T T T T T T T T T T T T T T T T T T T T T T T T T T T T T T T T T T T T T P C C C C C C',\n",
       " 72794100: 'C C C C C C C C C C C F C C C C C C C C C C C C C C C F P T T X C C C C C C C C C C C C C C C F T T T T T T T T T T T T T T T T T T T T T T T T T T T T T T T T T T T T T T T T T T P F C C C C C C F P T T T T T T T T T T T T T T T T T T T P T T T F C C C C C C F F C C F T T T T T T T T T P T T T T T F C C C C C F F C C C C C C C C C C C C C C C C F T T T T T T T T T T T T T T T T T T T T T T T T T T T T T T T T P T T T T P T T T T T T T T T T T T C C C C F T T T F T T T C T T T C T T T T T C C F C C C C C C F C C C C C C F T T T T T T T T T T P T T T T T T T T T T T T T T T T T T P F C C C C C C C F F C C C C C C C C C F F C C C C C F C C F C C C C C C C C C C F C C C C F P F C C C C C C C C C C F P T T T T T T T T T T T T T T T T T T T T T T T T T T T T T T T T P T T T T T T T T T T T P F C C C F T P T T T T T T T T P C C C C C C C C C C T T T T T T T T T T T T T T T T P F C C C C C C F T T T T T T T T T T T T T T T T T C C C F T T F P X T T C C C C C C C F X C C C C C C C C C C C C C C C C C C F C C F P X C C C C C C C C C C C C C C C C C C C C C C C C C C C C C F F C C P F',\n",
       " 73538121: 'C P C C C C C C C C C C C C C C C C F T T T T T T T T T T T T T T T T T T P T T T T T T T T T P T T T T F C C C C F F F F C F P T T T T T T T T T T T T T T T T T T T P C C C C F F P C C F F C C C C C F T T T T T T T T T T T T P T T T T T T T T T T T T T T T T T T T P F T T T T C C C F C F F C C F T T T T T T T T T T T T T T T T T T T T T T T T T T T T T T P C C C C C C C C C C F T T T T T T T T T T T T T T T T T T T P T C C F C C C C C C C C C C C C C C C C C C C C C C C C T T F F C C C C C C C C C F T T T T T T T T T T T T T T T T P T T T T T T T T T T T T T T T T T T T T T T T P F C F T T T T T T T T T T T T T T T T T T T T T P X T C C C C C C C T T',\n",
       " 77882125: 'C C C C C C C C C C C C C C C C C C C C C C C C C C C C C F P F C C F T T T T T T T T T T T P C C C F C C C C F F C C C C C C C C C T T C C C C C C C C C C C C C C C C C X C C C C C C C C C C C C C C C C C C C C C C C C C C C C C C T T C T T C P C C C C C C C C C C C C C C C C C C C C C C C C C C F T T T T T T T T P F F F T C C C C C C C C C C C C F F C C C C C C C C C C C C F F F F F F F F F C C C C C C C C C C C C C C C C C C C C C C C C C C C C C C C C C C C C F F C C C C C C C C C C C F E E E E E E E E E E E E E E E E T T C C C F F F F F F F F C C C C C C C C C C C C C C C F E E E F T T E F F T T T T T T T T T T T T T T T T T T T T T T T T T T T T T T T T T T T T T T T P C C C C C C C C C C C C C C C C C C C C C C C C C C C C F F F T T T T T T T T T T T T T T T T T T T T T T P F F P T T T T T T T T T T T T T T P C C T T C C X C C C C C C C C C C C C C C C C C C P C C C C C C C C C C C C C C C C C C C C C C C C C C C C C C C C C C C C C C C C C C C C C C C F T T T T T T F C C C C C F T T P T T F C C C C C C C C C C C C C C C C C C C C C C C C C C C C C C C C C C C C C C C C C C C C C F C C C C C C C C C C C C F F F E E E E E E E C C C C C C C C C C C C C C C C C C C C C C C C C C C C C C F E E E X C C C C C C C C C C C C C C C C C C C C C C C C C C C',\n",
       " 77984114: 'C P C C C C C C C C C C C C C C F P T T T T T T C C C C T T C C T P T T T T T T T T T T T T T T T T T T T T P T T T T T T T T T T T T T P C F C C C C C F T T T T T T T T T T T T T T T T T T T T T T T T T T T T T T T T T T T T T P T T T T T T T T F C C C C C C C C C C C C C C C C C C F F C C F F C C F T T T T T T T T T T T T T T T T T T T T T T T T T T T T T T P P X T C C C T T C C C C C C C C C C C C C C C C C C C C C C F C C C C C C F P T T T T P T T T T T T T T T T T T T T T T T T T T T T T T T T T T T T T T T T T P C C C C C C C C C C C C C F T T T T T T T T T T T T T T T T T T T T T T T T T T T T T T T T T T P T T T T T T T T T T T T T T T T T T T T T T T P X T C C C C C C C C C C C C C C C C C T T C C C C C C C C C C C C C C C C C C C C C C C C C C C C C C C C C C C C F T T T T T T T T T T T T T T T T T T T T P T T T T T T T T T T T T T P T T T',\n",
       " 80308126: 'C P X C C X P C C C C C C C C F F C C C F P T C C C C C C T C C C C C C C C F P T T T T T T P T T T T T T T T T T T C T C C C C C T T C T T C T P T T T T P T T T C C C C C C C C C C C F T T T T T T T T T T T T T T T T T T T P T T T T T C C C C C C C C C C C C C C C F P T T T P T T T T T T T T T T T T T T T T P T T T F C C C F C C C C C C C C C C C C C F C C C C C F F F C C C C C C C C C C C C C C C F C C C C C F F C C F T T T C T T T T T T P T T C C C C C C F T T T T T T T T T P T T T T T T P T T T T T T T T T T T T T T T P C C C C C C C C C C C C C C C C F C C C C C F T T T P T T T T T T T T T T T T T T T F C F C C C C C C C C T T T T T T T T T T T T T P T',\n",
       " 82224125: 'C C C C C C C C C C C F C C C C C C C C C C C C C C C C C F C F F F C F F C F P F C C C C C C C C C C C C C C C C C C C C C C C C F F F F P F C C C C C C C C C C C C C C C C C F F F C F C C C C C C C C F P C F C C C C C C C C C F P T T T F T T T T T T T T T T T T T T T T T C C F T T T T T T T T T T T T T T T T T T T T T T T T T T T T T T T T T T F C F T T T T T T T T T T T F C C F T T T T T T T T T T T P T T T T T C C F C F T T T P F C C C C F T T F P F F C C F T T C C F C F C F C C C C C C C F C C F T T T T T T T T T T T T T T T T T T T T T T T T T T T T T T T T T T T T T T T T P T T T T T T T T T T T T T T T T T T T P T T T T F F T T T T T T T T T T T T P C C C P T T T T T T T T F C C F T T T T T T T T T T T T T T T T P T P T T T T T T T T T T T T T T T T T T T T T T T T T T T T T T T T T T T T T T T T P T T T T T T P T T T T T T T P P P T T',\n",
       " 82243121: 'C P C C C C C C C C F T T T T T T T T X T T C C C C C C C C C C C C C C C F F F F F C F T T T T P T T T T T T T T T T T T T T T T T T T T T T T T T T T T T T C C C C F C F T T P F C T T C C C C C C C C T T T F C C T T T T F T T F F C F C C C C C F T T T C F F C F F C F T T T T T T P C C F C C F T T T T T T T T T T T T T T T T T T T T F F T T T T T T T T T C C C P F F F T C T T T T C F T T T T T T F T T T T T T P F C T T F F C T C T F C C F T T T T T T T T T T T T T T T T T T T T F C C C C F P F F E E E E E T T C C P T T T T T T T T T T T T T T F C C F T F F T T T T T T T T T T T F T T F F F T C C C T F C C C C C F C C C C C C C F T T T F F F F T C C C C C C C F T T T T T T T T T F T T T T T C F C C F C C C F T T C C C C C C C C C C C T T T T T T C C C C F C F F C C F F T T T T T T T T T T T T T T T T T T T F T T T T T C C F F F F F F F F F F F F F F F F F C F C F T T T T T P F X T C C C C C C C C C C C C C C T T C C C C C C C C C C C C C C C C C C C C C F F C C T C F F C C C C F F F F C C C T C F C C C C C C C C C C C C C F F F F F F T T T T T T T T T T T T T T F T F T T T T T T T T T P T T T T T T T T T T T T T T T T T E E E E E E F F F F F F E E E E E E E E E E T T T T T T C C F F C C F T F F F T T T T T T T T T T T T T T T T T T T T T T P C C C C T C C T T C C C C C C C C T C C C C C C C C C C C C C C C F T T T T T T T T T T T T T T T T T T T T T T T C C C T T T T T T T T T T T T T T T T T T T C C F F C C F C F F F F F F F F F F F F F F F F E E F F F F F T F F',\n",
       " 82616120: 'C P C C X C C C C C C C C C C C C C C C P X C C C C C C C C C C C C C C C C C E E E E P C C F P T T T T T T T T T T C C C P E E C C C C C C C T T T C C C C C C C C C C C C C T T P C F C C C C F C C C C C E C T T T C C C C C C C C P T T T T C C T T T T C C C C C C C F F C C C C C C F X T T C C C C C C C C C C C C C C C C C C C C C C C C C C C C C C C C C C C C C C C C C C C C C C C C C C C C C C C C C C C C C C C C C C F T T T T T T T T T T T P X T C C C C C C C C C C C C C C C C C C C C C C C C T T C C C C C C C C C C C C C C C C C C C C C C C C C C C C C C C C C C C C C C C C C C C C C P X C P C C C C C C C C C C C C C C C C C C C C C C C C C C C C C C C C C C C F T T T T T T P X T T C C C C C C C F P C C C F C C C C C C C F C C C C C C F P F C C F F C C C C C C C F X',\n",
       " 82752122: 'C C C C C C C C C C C C C C C F C C F F P T T T T T T T T T T T T T T T T T T T T T T T T T T T T T T T T T T T T T T T T T T P T T C T T T T T T T T T T T T T T P F C C F F C C C C C C C C C C C C C C C C C C C C C C C C C C C C C C C F P T T T T T T T T P T T T T T T T T T T T T P T T T T T T T T P T T T T T T T T T T T T T T F C C F F F P C C F P T T T T T T T T T T T T F C C C C T C C C C C C F T T T T T T T T T T T T T T T T T T T T T T T T T T T T T P T T T T T T T T P T T T T T T T T T T T T P T T T T T T T T T T T T T T T T T T T T T T T P F F C C F F T T T F F C C C F F F F F F F F C C C C F P T P F T X C C C C C C C C C C C C C C C C C C C C C C C C C C F P T T T T T T T T T T T T T T T T T T T P T T C C C C C C C C C C C C C C C T F C C F T C C C T P T T T T T T T T T T T T T T T T T T T T T T T T T T T T T T T T T T T P T T T T T T T T T P T T P T T T T T P X T C C C C C C C C C C',\n",
       " 82885110: 'C C C C C C C C C C C C F C C C C C C F F P F F C F T T T T T T T T T T T T F T C C F T T T T T T T T T T T P T T T T T T F C C C C F T T T T T T T T T T T T T T T P T T T T T F C C C C C C C C C C C C F T T P T T T T T T T T T T T T T P T T T F C C F F C C C F P T T T T T T T T T T T T T T T T T T P T T T T F C C C C C C C C C C C C C C C C F C C C C C C F C C C C C C C C C C C C C F C C F C C C C C C C C C F C C C F F F C F C C C C C C C C F T T T T T T T T T T T T T T T T T T P C F C C F C C C C C C C C C C F T T T T T T T T T T T T T T T T T T P T T T P F C T T T C C C C C C C C F C C C C C C C F C C C C C F T T T T T T T T T T T T T T T T T T T T T T T T T P C C F F F C F C T C F F C C C C C F T F C F F C F F C F F T F F C F T T T T C C C C C C F T',\n",
       " 82920121: 'C C C C C C C C C C C F F C C C C F P T T T T T T T T T T T C F C F F F F T C F P C F P T T T T T T T T T F C F F C C C C F C C F C C C F C C F F C C F P T T T T T T T T P T T F P F T T T T T T T T T T E E E E P P T T T T P E E E F T F F C C C C F T T T T T T T T T F F F F F F F F F F F F F F F P T T T T T T T E E E E T T P T T T F C F E E E E P E F C F C C C C C C C C F T T T T T T T T E T T T T T T T T T T T T T T T E P C C C C F F C F F F T T T T T T T T T T T T T E E T T T T T E E E E E F E E E P C T T T T T T T T T P T T E E E E E E E P F E E E E E E E E E E E E E E E E E E E E E E E E P E E T T E E C F C F T T T T T T T E T P T P C F F F F C F F P F P C F C T C F F C F C F T P C P C C C X T',\n",
       " 83841128: 'C C C C C C C C C C C C C C C C C C C C C C C C C C C C C C C C C F C C C C C F P F C C C C C C C C C C C C C C C C C C C C C C C C C F F C C C C C C C C C C C C C C C C C C C C C C C F C C F C C F C C F P T P T T T X P C C C C C T T T T T T T T T T T T T T C C C C C C C C C C C C C C F T T T T T T T T F C C C C C C F F C F T T T T T T T T T T T T F C C C C C C F T T T T P F C C T T C C C C C C F T T T T T C C C C C F T T T T T T T T T T T T T T T T T T T T T T T T T F F F F T T T T T T T T T T T T T T T C F T T T T T T C T C C T C C C F P T T T P',\n",
       " 85298121: 'C P C C C C C C C C C C C C C C F T T T T T T T T T T T T T T T T T T T T T T T T T T T T T T T T T T T T T T T T T T F C C C C C C C C F P T T T T T T T T T T T T T T T T T T T T T T T P T F C C C C F T T T T T T T T T T T T T T P T T T T T T T T T P T T F C C C C C C C C C C C C C C C C C C C C C F C C C C C C C C C C C C F T T T T T T T T T T T T T T T T T T P T T T C C C C C C C C C C F F C C F T T T T T T T T T T T T T T T T T P T T T T T T T T T T T T T T T T T T T T T T T T T T T T T P T T T T T T T T T T T P F C C F X C C C C C C C C C C C C C C C C C C C C C C C F C C C C C C C C F P T T T T T T T T T T T T T T T T T T T T T T T T T T T T T T T P X T T C C C C C C C C C C C C C C C F F C C C C C C C C F F C F F C C C C C C X C C C C C E E E C E C C C C C C C C F T T T T T T T T T T T T T T T T T T T T T T F C C C C F T T T T T T T T T T T F C C C C F T T T T T T T T T T T T T T T T T T T T T T T T T T T T T T X T C C C',\n",
       " 85458129: 'C C C C C C C C C C C C C C C C F F F E E E E E E E E E E E E E E P P F C C C C F E E E F C F F C F P P C T T T T T T T T T T T C C C C C C C C C C C C C C C C C C C C C C C C C C C C C C C C C C T T C C F T T C C T C F C F C C C C C C F F C C C C F P C C C C C C C C C C C C C C C C C C C C C C C C C C C C C C C C C C C C C C C C C C C C C C P C C C C C C C C C C C C C C C C C C C C E E E E C C C C C C C C C C C C C C C C C C T T T T C X C C C C C C C C C C C C C C C C P C C C C T T T T T T T T F C C C C F T T F C C C C F T T T T T T T T P F C F C C C C P C C F C F C C C C C F F C C F F C C F P T T T T T T T T T T T T',\n",
       " 85576116: 'C P C C C C C C T T C C C C C C C C T T X T T C P C C C C C C C P C C C C C C F P C P T T T T T T T P C C T C P T T T T T T T T T T T F C C T C C C C F P T T T T T T P T T T T T T T T T T T T T P F C C C C C C F F C C C F F C C C C C F T T F C C C T C C T F T T P T T T T T T T T T T T T T T T T T T T T T T P F C T T T T T T T C C C C C C C C C C C C C C C F P C C C C C C C F F C C F F C C F T T T T T T T T T T T T T T P T T T T T T T T T T T T T T T T T T T T T T T T T T T T T T T T T P T T C C C C C C C C C C F T T T T T T T T T T P T T T T T T P T T T T T T T T T T T P C F C C F C C C C C C C C C C C C C C C C C C C C C C F F C C C C C C C C C C C C F P T T T T T T T T T T T T T T T T T T T T T T T P T T P T T T T T T T T T T T T T T T T T T T T T T T T T',\n",
       " 86170104: 'C C C C C C C C C C C C C C C C F F C C F T T T T T T T T T T T T T T T T T T T T T T P T T T T T T F C C C C F T P T T T T T T T T T F C C C C C C C C C C C C C C C C F T T T T T T C C C P C C C C C C C F T T T T T T T T T T T T T T P T T E E E E C C C C C C C C C C F T T T T T T T T T T T T T T T P T F C C C C F C C C C F T T T T T T T T T T T T T T T T T T T P T T T T T T T T T T T T T T T T T T T T T T T P T T T P F C C C T T C F F C C F F C C C F F F F F F C C F C C C F C C F E C F F F F F F F F C C C F F E T E C C C C C C C E E E C C C C F F F F F F F E E E E E E E E F F F F F F F F F F F F F F F C F F F F F F C F C F T T T F C F C F C F E F F F F F F F F F F F F F F F F F F F C F F F F F F F F C C F F F F C F F F F F C F F C F F F F C F P T T T T T T P T T T T T T T T T T T T T T T T P T P T T T T T T T T T T T T T T T P T T T E E E E E E E F F F T T T T T T T T T T T T T E E T T T T E F F E T T T T T T P F',\n",
       " 87612126: 'C C C C C C C C C F C C F C F P T T T T T T P F F C F C T C C F F F C F F F C C F P T T F C F C C C C C F C T T F T T T T P F C T T C C T T C T T C T C T C T C C T F T C T T C C C C C T T C C C C C C C C C C C C C C C C C C C C T C C C C C F C C C C C C C C T T C F F F C F C C C F C C C C C C C C C C F F F P T T T T T T T T T T T T T T T T T T T T T T T T T T T T C F C C C C F F F F F C C F F C C C F P P F F F F F F C F C F F P F T T T C P F F C F C C C F F F F F F T T T T T T T P T T T T T T T T T T T T T T P F T T T T T T T T T T T T T T T T T T T T T T T T T T T T T T T T T P F F F F C C C C F F F F P F F P T T T T T T P T T T T T T T T T T T T P C C C C C C C C C C C C C C F T T T T T T T T T T T T T T T T F C C C C F C C C C C C C C C C C C F F C C C C C C F C C F F C F P F C C C C C C F C F F F C C F C C C F P P F C C C C F',\n",
       " 88156121: 'C C C P C C C C C C C C C C C C C C C C C C C C C C C C C C C C C C C F P C C C C C C C C C C C C C C C F P T T T T T T T T T T T T T T T T T T T T T T T T T T T T T T T T T T P T P T T P C F P C F C F C F T T T T C F T C F C C C C C C C C C F C C C F C C F C C F C F C C C C C C C F F C C P C C F F F P C C C C C C C C C F C C C C F T T T T T T T T T T P C F F F C F C F T T T C P T T T T T T T T T P F F F C C F T T T T T T P T T T T T T T T P T T P F C F T T T T C C C F C C F C F P C C C C C C C C F F C C C C C C C C C C C C C C C C C C C C C C P C C C C C C C C C C C C C C C C C C F C C C C C C F F C C F C C P T T T P C F',\n",
       " 89224093: 'C C C C C C C C C C C C C C C F T T T T T T T T T T T T T P C C C T T T T T T T T P T T F C C C C C C F P T T T T T T T P T T T T F C C C C C C F T T T T T T T P X T C C C C T T C C C C C C C C C C C C C C C C C C C C C C C C C C F F T T T T T T T T T T T T T T P C C C C C C C C C C C F T T T T P T T T T T T T T T T T T T P P P F C C C C F T T C C C C C C F P T T T T T T T P T T P T T T T T T T',\n",
       " 89332129: 'C P C C C C C C C C C C C C C C F F P C F F C C C C C C P C F F C C C C F P T T T T T T T T T T T T T T T T T T T T T T T T T T T T T T T T T T T T T T T T T T T F C T F T T T T T T T T T T P P T T T P T T T T T T T P T F C C C C C C F T T T T T T T P T T T T T T T T P F T T F P T T T T T T T T T C F T T C C C C T C C C C C C C T F T T T T T T T T T T T T P T T T T T T T T T T T T T T T T T T T T T T P F C T C C C C F C C C C F P P T T T T T T T T T T T T T T T P T T T T T T T P F F C C C C C F C C C C C C C C C C F T T T T T T T T T T T P T T T T T T P T T T T T T T T T T T T T T P F T C C F F C C F F T T F T C C C F F T C C T C T C C C C C C F P T T T T T T T T T T T T T T T T T T T T T T T T T T T P T T T T T T P T T T T',\n",
       " 89337123: 'C C C C C C C C C C C F P P C F F C C C C C C C C C C C F F C F P T T T T T T T T T T T T P T T T T P T T T T P T T T T P C F C C C F T T T T T T P T T T T T T P C C C C C C F F C F T T T T T T T T T T T T P C C C C C C C C F F T T T T T T T T T T T T T T T T T P C C C F C C C C C C F T T T P T C C C F C F C C C C C C C C C C C C C C C C C C C F T T T T T T T T T T T T T T T T T T P P P C C C C C C C C C C C C P P C C C C C C C C C C C C C C C C C C P T T T T T T T T T T T T T T P T T T T P T T T T T T T P T T T T P C C C C C C T T T T T T T T T T P T T T T T T P C C C C C C C C C C T T T T T T T T T T T T T T P C C C C C C C C C C T T T T T T T T T T T T T T T T T T T T T T T T T P C C C C C C C C C C C T T T T P T C C C C C C C C C C C C C C C C C C C C C C C C C C T T T T T T T T T T T T T T T T T T P P P C C C C C C C C C C C C P P C C C C C C C C C C C C C C C C C C P T T T T T T T T T T T T T T P T T T T P T T T T T T T P T T T T P C C C C C C T T T T T T T T T T P T T T T T T P C C C C C C C C C C T T T T T T T T T T T T T T P C C C C C C C C C C T T T T T T T T T T T T T T T T T T T T T T T T T P C C C C C C C C C C C T T T T P T C C C C C C C C C C C C C C C C C C C C C C C C C C T T T T T T T T T T T T T T T T T T P P P C C C C C C C C C C C C P P C C C C C C C C C C C C C C C C C C P T T T T T T T T T T T T T T P T T T T P T T T T T T T P T T T T P C C C C C C T T T T T T T T T T P T T T T T T P C C C C C C C C C C T T T T T T T T T T T T T T P C C C C C C C C C C T T T T T T T T T T T T T T T T T T T T T T T T T P C C C C C C C C C C C T T T T P T C C C C C C C C C C C C C C C C C C C C C C C C C C T T T T T T T T T T T T T T T T T T P P P C C C C C C C C C C C C P P C C C C C C C C C C C C C C C C C C P T T T T T T T T T T T T T T P T T T T P T T T T T T T P T T T T P C C C C C C T T T T T T T T T T P T T T T T T P C C C C C C C C C C T T T T T T T T T T T T T T P C C C C C C C C C C T T T T T T T T T T T T T T T T T T T T T T T T T P C C C C C C C C C C C T T T T P T C C C C C C C C C C C C C C C C C C C C C C C C C C T T T T T T T T T T T T T T T T T T P P',\n",
       " 91203122: 'C C C C C C C C C C C C C C C C C C C C C C F F F F T T T T T T T T T T T T T T T T T T T T T T T T T T F T F F F P T T T T T T T T T T T T T T T P T T T T T T T T T T T T T T T T T P F T C C T F P F C C F T T T T T T T T T T T T T T T P C C T F T T T T T T T T P T X C C C C P P T T T T T T T T T T P C C T T C C C F C C C C C C F T T T T P T T T T T T T T T T T T T T P P F C C C C C C C C C C T T C C C C C C C C C C C C C C C C C C C C C C C F T P T T T T T T T T P T T T T T T T T T T T T T T T T T T T T T P E T T T T T T T T T T T T P T T T T T T P T T',\n",
       " 91235128: 'C C C C C C C C C C C C C C C C T T T T T T T P T T T T T T T T T P F C C C C C C F P T T T T T T T T T P X T C C T T C C C C C C C C C F C C C C F T T T T T P T P T T T T T F C C C C C C C C C C C C C C C C C C C C C C C C C C C F T T T T T T T T T T T T T T T P T T T T T T T P T T T T T T T P C F P C C C C T F C T T C C C C C F F T T T T T T T T T T T T T T T T T T T T T T T T T T T T T T T P E E E E E E E E C C F F T T T T T T X T T C C C C C C C C C C C C C C C C C E C C C C E C C C C C C C F F E E E E E E E E E E E E E E E E E E E E E F T T E T E E E E T E E C C C C C C C C C C C C C C C C F F C C C C C C C C C C C C C C C C C C C C C F C F C C C C C C C C C C C C C C F C P T T T T T T T T T F T T C C F F C C C C C C C C C C C C C C C C C C C C C C C C C C C C C C C C C C F P X T C C C C C C C C C C C C C C C C C C C C C C C C C C C C C C C C C C C C C C X',\n",
       " 94186123: 'C P C C C C C C C C C C C C X C C C C C C C C C C C C C C C C C C C C C C C C C C C C C C C C C C C C C T T C C T C C C C C P T C C C P C X C C C C C C C C C C T C C T C C C C C C C C T T C T T C C C C C F T C F C C C C C C C C C C C C C C C C T C C C C T C C T T C C T T F C T F T C C F F C C T T C F T F F C C F C T C C C C C C C C C C T F F C F C C C C F P F C F F C F F C C C C F P F C C F C C C C C C C C C C C C C C C P C C C C C C C C E E P T T T T T T T T T T T T T T T T P E E E E E E P C C C C E E E E E E E E E E P C P T T T T P T T P C F C T C C C C C C C C C C C C C C C C C C T T T T T T T T T T T P C C C C C C C C C C C C C C C C C F F C C F P C C C C C C F F C F F T C T T T T T F F F C C F F C C F F F F C C F C F C C C C C C C F E E E E E E E T T T X C C C C T T C C C C C C C C C C C C C C C C C C C C C C C C C C C C T T T T T T C C T T T T T C C C F T C C C C T T P C C C C T T C C C C C T E E E E E F F T C C C C C C T T E E T E P F C C F E E E E E E E E E E E E E E E E E E E E E E E',\n",
       " 94792123: 'C P C C C C C C F F C C C C C C F F C C C C C C F T T P T T T T T T T T T T T T T T T T T T T T T T T T T T T T T T T P T T T T T T T T T T P T T T T T T T T T T T T T T T T T T T T T T T T T T T T T T T T T T T T T T T T T T T T T T T T P T F C C C C F F C C F F C C C C F P T T T T T T T T T T T T T T T T T T T T T T T T T T T T T T T T T T T T T T T T T T T T T T T T T T T T T T T T T T T T T T T T T T T T T T T T T P T T T T T F C C C C F P T T T T T T T T T T T T T T T T T T T T T T T T T T T T T T T T T T T T T T T T T T T T T T T T P F C C C C F T T T T P T T T T T T T T T T F F F C C C C F P X T C C C C C C C C C C C C C T T C C C C C C C C C C C C C C C C C C C C C C C C C C F P T T T T T T T T T T T T T T T T T T T T T T T T T T T T T T T T T T T T T T T T T T T T T T T T T T T T T T T T T T T T T T T T T T T T T T T T T T T T T T T T T T T T T T T P T T T T T T T T T T P F C C C C C C C C C C C C F F C F F F F F F F F T T T T T T T T T T T T T T T T T T T T T T T T T T T T T T T T T T T T T T T T T T T T T T T P F C C F C F P T T T T T T T T P X T C C C C C C C C C C C T T C C C C C C C C T C T C C C C C C C C C C F C F C F C C C C C C C C C C F F F F F',\n",
       " 96314111: 'C P C C C C C C C C C C C C F C C F C F P P T T T T T P C F C F P P C C F C C C C C T T X T C C C C C C C T T C C C C C C C C C C C C C C C C C C C C C C C C C C T F T T T T T T T T T T T T T T T T T T T T T T T T T T T T T T T T T T T P T T T T T T T T T P T T T T T T T T P F F F F C C F T T T T P T T T F C C F P C C C F P T T P T T T T T T T P F C C F C C C C C F F F F C C F C C C C C F F C F T T T T T P T P T T T P X'}"
      ]
     },
     "execution_count": 7,
     "metadata": {},
     "output_type": "execute_result"
    }
   ],
   "source": [
    "blocks"
   ]
  },
  {
   "cell_type": "code",
   "execution_count": null,
   "metadata": {
    "collapsed": false
   },
   "outputs": [],
   "source": []
  },
  {
   "cell_type": "code",
   "execution_count": 8,
   "metadata": {
    "collapsed": false
   },
   "outputs": [],
   "source": [
    "X, lengths = prepare_data(blocks)"
   ]
  },
  {
   "cell_type": "markdown",
   "metadata": {},
   "source": [
    "#### Formatting the data for cross validation\n",
    "We split the data into a training and test set using a 60/40 % split"
   ]
  },
  {
   "cell_type": "code",
   "execution_count": 9,
   "metadata": {
    "collapsed": false
   },
   "outputs": [],
   "source": [
    "X_train, X_test, lengths_train, lengths_test = split_data(X, lengths, 0.6)"
   ]
  },
  {
   "cell_type": "markdown",
   "metadata": {},
   "source": [
    "We produce the model with the train set using different number of hidden states"
   ]
  },
  {
   "cell_type": "code",
   "execution_count": 10,
   "metadata": {
    "collapsed": false
   },
   "outputs": [],
   "source": [
    "# scores = []\n",
    "# models = []\n",
    "# n_states = range(1,len(events)+3)\n",
    "# print \"Computing HMM model for 39 samples of observations\"\n",
    "# for n in n_states:\n",
    "#     %time model = get_model(X_train, lengths_train, n)\n",
    "#     scores.append(model.score(X_test, lengths = lengths_test))\n",
    "#     models.append(model)"
   ]
  },
  {
   "cell_type": "markdown",
   "metadata": {
    "collapsed": false
   },
   "source": [
    "#### Now we can plot the scores"
   ]
  },
  {
   "cell_type": "code",
   "execution_count": 11,
   "metadata": {
    "collapsed": false
   },
   "outputs": [],
   "source": [
    "# bics = [-2*L + k*np.log(len(X_train)) for L,k in zip(scores, n_states)]\n",
    "# plt.plot(n_states, bics,'-o')\n",
    "# plt.title(\"BIC of models vs. number of hidden states in model\")"
   ]
  },
  {
   "cell_type": "markdown",
   "metadata": {},
   "source": [
    "### Analysis of model\n",
    "Given that we want to trade off between the number of hidden states and the information gained, we pick the number of hidden states as 4 (which is where there is an elbow in the plot above). We store the transition and emition probabilities and visualize them. \n",
    "\n",
    "**Note**: We only draw edges with an emission or transition porbability greater than the CUTOFF variable declared above."
   ]
  },
  {
   "cell_type": "code",
   "execution_count": 12,
   "metadata": {
    "collapsed": false
   },
   "outputs": [],
   "source": [
    "# N = 4\n",
    "# draw_hmm_graph(models[N-1], label=False)"
   ]
  },
  {
   "cell_type": "markdown",
   "metadata": {},
   "source": [
    "Unfortunately, seems like having 4 hidden states creates a pretty boring HMM: each states produces one of the main actions with 0.9 prob or more. So let's go back to 3 states and see what that gives us."
   ]
  },
  {
   "cell_type": "code",
   "execution_count": 13,
   "metadata": {
    "collapsed": false
   },
   "outputs": [],
   "source": [
    "# N = 3\n",
    "# draw_hmm_graph(models[N-1],label=False)"
   ]
  },
  {
   "cell_type": "markdown",
   "metadata": {},
   "source": [
    "### Analysis of student groups\n",
    "Now that we have it all figure it out, we can repeat the process with different groups of students and compare them!"
   ]
  },
  {
   "cell_type": "code",
   "execution_count": 14,
   "metadata": {
    "collapsed": true
   },
   "outputs": [],
   "source": [
    "ACTIVITY = 'a1'\n",
    "\n",
    "blocks_scaff = get_non_blocks(df[df.Activity==ACTIVITY],get_students(\"scaffolding\",\"scaff\"),add_spaces=True, ignore = ACTIONS_TO_REMOVE, start = False)\n",
    "blocks_not = get_non_blocks(df[df.Activity==ACTIVITY],get_students(\"scaffolding\",\"not\"),add_spaces=True, ignore = ACTIONS_TO_REMOVE, start = False)\n",
    "X_scaff, lengths_scaff = prepare_data(blocks_scaff)\n",
    "X_not, lengths_not = prepare_data(blocks_not)"
   ]
  },
  {
   "cell_type": "code",
   "execution_count": 26,
   "metadata": {
    "collapsed": false
   },
   "outputs": [
    {
     "name": "stdout",
     "output_type": "stream",
     "text": [
      "Model with 4 hidden states converged after 1 tries, with 160 iterations\n",
      "Model with 4 hidden states converged after 1 tries, with 300 iterations\n"
     ]
    }
   ],
   "source": [
    "N = 4\n",
    "model_scaff = get_model(X_scaff, lengths_scaff, N)\n",
    "model_not = get_model(X_not, lengths_not, N)"
   ]
  },
  {
   "cell_type": "code",
   "execution_count": 27,
   "metadata": {
    "collapsed": false
   },
   "outputs": [
    {
     "name": "stdout",
     "output_type": "stream",
     "text": [
      "-11148.8396457 -11899.4859981\n"
     ]
    }
   ],
   "source": [
    "print model_scaff.score(X_scaff,lengths_scaff), model_not.score(X_not,lengths_not)"
   ]
  },
  {
   "cell_type": "code",
   "execution_count": 28,
   "metadata": {
    "collapsed": false
   },
   "outputs": [],
   "source": [
    "graph = draw_states_graph(model_scaff)"
   ]
  },
  {
   "cell_type": "code",
   "execution_count": 18,
   "metadata": {
    "collapsed": false
   },
   "outputs": [
    {
     "data": {
      "image/svg+xml": [
       "<?xml version=\"1.0\" encoding=\"UTF-8\" standalone=\"no\"?>\r\n",
       "<!DOCTYPE svg PUBLIC \"-//W3C//DTD SVG 1.1//EN\"\r\n",
       " \"http://www.w3.org/Graphics/SVG/1.1/DTD/svg11.dtd\">\r\n",
       "<!-- Generated by graphviz version 2.38.0 (20140413.2041)\r\n",
       " -->\r\n",
       "<!-- Title: states Pages: 1 -->\r\n",
       "<svg width=\"758pt\" height=\"333pt\"\r\n",
       " viewBox=\"0.00 0.00 757.89 333.18\" xmlns=\"http://www.w3.org/2000/svg\" xmlns:xlink=\"http://www.w3.org/1999/xlink\">\r\n",
       "<g id=\"graph0\" class=\"graph\" transform=\"scale(1 1) rotate(0) translate(4 329.178)\">\r\n",
       "<title>states</title>\r\n",
       "<polygon fill=\"white\" stroke=\"none\" points=\"-4,4 -4,-329.178 753.886,-329.178 753.886,4 -4,4\"/>\r\n",
       "<!-- Extra (90%) -->\r\n",
       "<g id=\"node1\" class=\"node\"><title>Extra (90%)</title>\r\n",
       "<ellipse fill=\"none\" stroke=\"black\" cx=\"54.5952\" cy=\"-73.8192\" rx=\"54.6905\" ry=\"54.6905\"/>\r\n",
       "<text text-anchor=\"middle\" x=\"54.5952\" y=\"-70.1192\" font-family=\"Times New Roman,serif\" font-size=\"14.00\">Extra (90%)</text>\r\n",
       "</g>\r\n",
       "<!-- Extra (90%)&#45;&gt;Extra (90%) -->\r\n",
       "<g id=\"edge1\" class=\"edge\"><title>Extra (90%)&#45;&gt;Extra (90%)</title>\r\n",
       "<path fill=\"none\" stroke=\"#253494\" stroke-width=\"6.22105\" d=\"M39.2691,-126.351C40.7091,-137.96 45.8178,-146.414 54.5952,-146.414 60.6296,-146.414 64.93,-142.418 67.4964,-136.148\"/>\r\n",
       "<polygon fill=\"#253494\" stroke=\"#253494\" stroke-width=\"6.22105\" points=\"72.8027,-137.366 69.9212,-126.351 62.2347,-134.75 72.8027,-137.366\"/>\r\n",
       "<text text-anchor=\"middle\" x=\"54.5952\" y=\"-150.214\" font-family=\"Times New Roman,serif\" font-size=\"14.00\">0.84</text>\r\n",
       "</g>\r\n",
       "<!-- C.w.Feedback (53%) +\r\n",
       "Pause (10%) +\r\n",
       "Construct (31%) -->\r\n",
       "<g id=\"node2\" class=\"node\"><title>C.w.Feedback (53%) +\r\n",
       "Pause (10%) +\r\n",
       "Construct (31%)</title>\r\n",
       "<ellipse fill=\"none\" stroke=\"black\" cx=\"275.549\" cy=\"-186.819\" rx=\"105.218\" ry=\"105.218\"/>\r\n",
       "<text text-anchor=\"middle\" x=\"275.549\" y=\"-198.119\" font-family=\"Times New Roman,serif\" font-size=\"14.00\">C.w.Feedback (53%) +</text>\r\n",
       "<text text-anchor=\"middle\" x=\"275.549\" y=\"-183.119\" font-family=\"Times New Roman,serif\" font-size=\"14.00\">Pause (10%) +</text>\r\n",
       "<text text-anchor=\"middle\" x=\"275.549\" y=\"-168.119\" font-family=\"Times New Roman,serif\" font-size=\"14.00\">Construct (31%)</text>\r\n",
       "</g>\r\n",
       "<!-- Extra (90%)&#45;&gt;C.w.Feedback (53%) +\r\n",
       "Pause (10%) +\r\n",
       "Construct (31%) -->\r\n",
       "<g id=\"edge2\" class=\"edge\"><title>Extra (90%)&#45;&gt;C.w.Feedback (53%) +\r\n",
       "Pause (10%) +\r\n",
       "Construct (31%)</title>\r\n",
       "<path fill=\"none\" stroke=\"#c7e9b4\" stroke-width=\"2.47048\" d=\"M100.976,-102.77C109.582,-107.956 118.586,-113.18 127.19,-117.819 140.884,-125.202 155.505,-132.602 170.021,-139.669\"/>\r\n",
       "<polygon fill=\"#c7e9b4\" stroke=\"#c7e9b4\" stroke-width=\"2.47048\" points=\"168.509,-142.826 179.036,-144.024 171.554,-136.523 168.509,-142.826\"/>\r\n",
       "<text text-anchor=\"middle\" x=\"139.69\" y=\"-134.619\" font-family=\"Times New Roman,serif\" font-size=\"14.00\">0.09</text>\r\n",
       "</g>\r\n",
       "<!-- Construct (98%) -->\r\n",
       "<g id=\"node3\" class=\"node\"><title>Construct (98%)</title>\r\n",
       "<ellipse fill=\"none\" stroke=\"black\" cx=\"678.393\" cy=\"-120.819\" rx=\"71.4873\" ry=\"71.4873\"/>\r\n",
       "<text text-anchor=\"middle\" x=\"678.393\" y=\"-117.119\" font-family=\"Times New Roman,serif\" font-size=\"14.00\">Construct (98%)</text>\r\n",
       "</g>\r\n",
       "<!-- Extra (90%)&#45;&gt;Construct (98%) -->\r\n",
       "<g id=\"edge3\" class=\"edge\"><title>Extra (90%)&#45;&gt;Construct (98%)</title>\r\n",
       "<path fill=\"none\" stroke=\"#c7e9b4\" stroke-width=\"2.13832\" d=\"M106.16,-54.8258C196.8,-23.7295 391.856,29.6863 545.899,-21.8192 572.333,-30.6576 597.712,-47.1328 619.004,-64.1422\"/>\r\n",
       "<polygon fill=\"#c7e9b4\" stroke=\"#c7e9b4\" stroke-width=\"2.13832\" points=\"617.008,-67.0319 626.957,-70.6726 621.45,-61.6219 617.008,-67.0319\"/>\r\n",
       "<text text-anchor=\"middle\" x=\"411.408\" y=\"-4.6192\" font-family=\"Times New Roman,serif\" font-size=\"14.00\">0.03</text>\r\n",
       "</g>\r\n",
       "<!-- Test (95%) -->\r\n",
       "<g id=\"node4\" class=\"node\"><title>Test (95%)</title>\r\n",
       "<ellipse fill=\"none\" stroke=\"black\" cx=\"493.904\" cy=\"-82.8192\" rx=\"51.9908\" ry=\"51.9908\"/>\r\n",
       "<text text-anchor=\"middle\" x=\"493.904\" y=\"-79.1192\" font-family=\"Times New Roman,serif\" font-size=\"14.00\">Test (95%)</text>\r\n",
       "</g>\r\n",
       "<!-- Extra (90%)&#45;&gt;Test (95%) -->\r\n",
       "<g id=\"edge4\" class=\"edge\"><title>Extra (90%)&#45;&gt;Test (95%)</title>\r\n",
       "<path fill=\"none\" stroke=\"#c7e9b4\" stroke-width=\"2.17015\" d=\"M108.494,-64.872C127.844,-62.0125 149.95,-59.2254 170.19,-57.8192 263.617,-51.3284 287.82,-47.5558 380.908,-57.8192 398.206,-59.7264 416.74,-63.243 433.651,-67.0486\"/>\r\n",
       "<polygon fill=\"#c7e9b4\" stroke=\"#c7e9b4\" stroke-width=\"2.17015\" points=\"432.867,-70.4595 443.4,-69.3126 434.451,-63.641 432.867,-70.4595\"/>\r\n",
       "<text text-anchor=\"middle\" x=\"275.549\" y=\"-61.6192\" font-family=\"Times New Roman,serif\" font-size=\"14.00\">0.03</text>\r\n",
       "</g>\r\n",
       "<!-- C.w.Feedback (53%) +\r\n",
       "Pause (10%) +\r\n",
       "Construct (31%)&#45;&gt;Extra (90%) -->\r\n",
       "<g id=\"edge5\" class=\"edge\"><title>C.w.Feedback (53%) +\r\n",
       "Pause (10%) +\r\n",
       "Construct (31%)&#45;&gt;Extra (90%)</title>\r\n",
       "<path fill=\"none\" stroke=\"#c7e9b4\" stroke-width=\"2.05729\" d=\"M192.508,-121.663C179.489,-113.163 165.813,-105.206 152.19,-98.8192 141.53,-93.8216 129.721,-89.7154 118.125,-86.3796\"/>\r\n",
       "<polygon fill=\"#c7e9b4\" stroke=\"#c7e9b4\" stroke-width=\"2.05729\" points=\"119.032,-82.9993 108.464,-83.7561 117.197,-89.7546 119.032,-82.9993\"/>\r\n",
       "<text text-anchor=\"middle\" x=\"139.69\" y=\"-102.619\" font-family=\"Times New Roman,serif\" font-size=\"14.00\">0.01</text>\r\n",
       "</g>\r\n",
       "<!-- C.w.Feedback (53%) +\r\n",
       "Pause (10%) +\r\n",
       "Construct (31%)&#45;&gt;C.w.Feedback (53%) +\r\n",
       "Pause (10%) +\r\n",
       "Construct (31%) -->\r\n",
       "<g id=\"edge6\" class=\"edge\"><title>C.w.Feedback (53%) +\r\n",
       "Pause (10%) +\r\n",
       "Construct (31%)&#45;&gt;C.w.Feedback (53%) +\r\n",
       "Pause (10%) +\r\n",
       "Construct (31%)</title>\r\n",
       "<path fill=\"none\" stroke=\"#2c7fb8\" stroke-width=\"5.47574\" d=\"M254.106,-290.308C258.064,-302.346 265.211,-310.178 275.549,-310.178 282.818,-310.178 288.51,-306.306 292.624,-299.823\"/>\r\n",
       "<polygon fill=\"#2c7fb8\" stroke=\"#2c7fb8\" stroke-width=\"5.47574\" points=\"297.174,-301.395 296.992,-290.308 288.466,-297.397 297.174,-301.395\"/>\r\n",
       "<text text-anchor=\"middle\" x=\"275.549\" y=\"-313.978\" font-family=\"Times New Roman,serif\" font-size=\"14.00\">0.70</text>\r\n",
       "</g>\r\n",
       "<!-- C.w.Feedback (53%) +\r\n",
       "Pause (10%) +\r\n",
       "Construct (31%)&#45;&gt;Construct (98%) -->\r\n",
       "<g id=\"edge7\" class=\"edge\"><title>C.w.Feedback (53%) +\r\n",
       "Pause (10%) +\r\n",
       "Construct (31%)&#45;&gt;Construct (98%)</title>\r\n",
       "<path fill=\"none\" stroke=\"#c7e9b4\" stroke-width=\"2.83215\" d=\"M380.962,-191.736C431.355,-191.888 492.353,-188.785 545.899,-176.819 565.682,-172.398 586.231,-165.096 605.041,-157.201\"/>\r\n",
       "<polygon fill=\"#c7e9b4\" stroke=\"#c7e9b4\" stroke-width=\"2.83215\" points=\"606.617,-160.333 614.414,-153.16 603.845,-153.905 606.617,-160.333\"/>\r\n",
       "<text text-anchor=\"middle\" x=\"493.904\" y=\"-194.619\" font-family=\"Times New Roman,serif\" font-size=\"14.00\">0.17</text>\r\n",
       "</g>\r\n",
       "<!-- C.w.Feedback (53%) +\r\n",
       "Pause (10%) +\r\n",
       "Construct (31%)&#45;&gt;Test (95%) -->\r\n",
       "<g id=\"edge8\" class=\"edge\"><title>C.w.Feedback (53%) +\r\n",
       "Pause (10%) +\r\n",
       "Construct (31%)&#45;&gt;Test (95%)</title>\r\n",
       "<path fill=\"none\" stroke=\"#c7e9b4\" stroke-width=\"2.63482\" d=\"M363.899,-128.73C375.424,-122.214 387.277,-116.051 398.908,-110.819 409.827,-105.908 421.839,-101.583 433.519,-97.8916\"/>\r\n",
       "<polygon fill=\"#c7e9b4\" stroke=\"#c7e9b4\" stroke-width=\"2.63482\" points=\"434.672,-101.199 443.222,-94.9412 432.636,-94.502 434.672,-101.199\"/>\r\n",
       "<text text-anchor=\"middle\" x=\"411.408\" y=\"-114.619\" font-family=\"Times New Roman,serif\" font-size=\"14.00\">0.13</text>\r\n",
       "</g>\r\n",
       "<!-- Construct (98%)&#45;&gt;C.w.Feedback (53%) +\r\n",
       "Pause (10%) +\r\n",
       "Construct (31%) -->\r\n",
       "<g id=\"edge9\" class=\"edge\"><title>Construct (98%)&#45;&gt;C.w.Feedback (53%) +\r\n",
       "Pause (10%) +\r\n",
       "Construct (31%)</title>\r\n",
       "<path fill=\"none\" stroke=\"#c7e9b4\" stroke-width=\"2.61436\" d=\"M624.347,-167.641C601.786,-184.499 574.175,-201.424 545.899,-209.819 495.284,-224.846 437.138,-222.224 387.856,-214.563\"/>\r\n",
       "<polygon fill=\"#c7e9b4\" stroke=\"#c7e9b4\" stroke-width=\"2.61436\" points=\"388.236,-211.079 377.801,-212.912 387.102,-217.986 388.236,-211.079\"/>\r\n",
       "<text text-anchor=\"middle\" x=\"493.904\" y=\"-223.619\" font-family=\"Times New Roman,serif\" font-size=\"14.00\">0.12</text>\r\n",
       "</g>\r\n",
       "<!-- Construct (98%)&#45;&gt;Construct (98%) -->\r\n",
       "<g id=\"edge10\" class=\"edge\"><title>Construct (98%)&#45;&gt;Construct (98%)</title>\r\n",
       "<path fill=\"none\" stroke=\"#253494\" stroke-width=\"6.32044\" d=\"M660.889,-190.238C663.281,-202.097 669.115,-210.313 678.393,-210.313 684.771,-210.313 689.522,-206.429 692.645,-200.149\"/>\r\n",
       "<polygon fill=\"#253494\" stroke=\"#253494\" stroke-width=\"6.32044\" points=\"698.034,-201.463 695.896,-190.238 687.525,-198.016 698.034,-201.463\"/>\r\n",
       "<text text-anchor=\"middle\" x=\"678.393\" y=\"-214.113\" font-family=\"Times New Roman,serif\" font-size=\"14.00\">0.86</text>\r\n",
       "</g>\r\n",
       "<!-- Construct (98%)&#45;&gt;Test (95%) -->\r\n",
       "<g id=\"edge11\" class=\"edge\"><title>Construct (98%)&#45;&gt;Test (95%)</title>\r\n",
       "<path fill=\"none\" stroke=\"#c7e9b4\" stroke-width=\"2.05334\" d=\"M613.059,-90.5988C605.065,-87.8394 596.89,-85.4669 588.899,-83.8192 578.375,-81.6494 567.046,-80.5296 556.023,-80.0632\"/>\r\n",
       "<polygon fill=\"#c7e9b4\" stroke=\"#c7e9b4\" stroke-width=\"2.05334\" points=\"556.104,-76.5642 546.018,-79.8072 555.925,-83.5619 556.104,-76.5642\"/>\r\n",
       "<text text-anchor=\"middle\" x=\"576.399\" y=\"-87.6192\" font-family=\"Times New Roman,serif\" font-size=\"14.00\">0.01</text>\r\n",
       "</g>\r\n",
       "<!-- Test (95%)&#45;&gt;C.w.Feedback (53%) +\r\n",
       "Pause (10%) +\r\n",
       "Construct (31%) -->\r\n",
       "<g id=\"edge12\" class=\"edge\"><title>Test (95%)&#45;&gt;C.w.Feedback (53%) +\r\n",
       "Pause (10%) +\r\n",
       "Construct (31%)</title>\r\n",
       "<path fill=\"none\" stroke=\"#c7e9b4\" stroke-width=\"2.36902\" d=\"M450.107,-111.003C441.574,-116.19 432.569,-121.366 423.908,-125.819 411.103,-132.403 397.421,-138.829 383.745,-144.889\"/>\r\n",
       "<polygon fill=\"#c7e9b4\" stroke=\"#c7e9b4\" stroke-width=\"2.36902\" points=\"382.049,-141.811 374.289,-149.024 384.854,-148.224 382.049,-141.811\"/>\r\n",
       "<text text-anchor=\"middle\" x=\"411.408\" y=\"-141.619\" font-family=\"Times New Roman,serif\" font-size=\"14.00\">0.07</text>\r\n",
       "</g>\r\n",
       "<!-- Test (95%)&#45;&gt;Construct (98%) -->\r\n",
       "<g id=\"edge13\" class=\"edge\"><title>Test (95%)&#45;&gt;Construct (98%)</title>\r\n",
       "<path fill=\"none\" stroke=\"#c7e9b4\" stroke-width=\"2.15936\" d=\"M544.601,-94.5716C551.085,-96.038 557.645,-97.4884 563.899,-98.8192 574.907,-101.162 586.538,-103.533 597.99,-105.809\"/>\r\n",
       "<polygon fill=\"#c7e9b4\" stroke=\"#c7e9b4\" stroke-width=\"2.15936\" points=\"597.501,-109.28 607.989,-107.782 598.855,-102.412 597.501,-109.28\"/>\r\n",
       "<text text-anchor=\"middle\" x=\"576.399\" y=\"-108.619\" font-family=\"Times New Roman,serif\" font-size=\"14.00\">0.03</text>\r\n",
       "</g>\r\n",
       "<!-- Test (95%)&#45;&gt;Test (95%) -->\r\n",
       "<g id=\"edge14\" class=\"edge\"><title>Test (95%)&#45;&gt;Test (95%)</title>\r\n",
       "<path fill=\"none\" stroke=\"#253494\" stroke-width=\"6.44624\" d=\"M478.867,-132.839C480.163,-144.355 485.175,-152.815 493.904,-152.815 499.904,-152.815 504.149,-148.816 506.636,-142.575\"/>\r\n",
       "<polygon fill=\"#253494\" stroke=\"#253494\" stroke-width=\"6.44624\" points=\"512.126,-143.869 508.94,-132.839 501.148,-141.271 512.126,-143.869\"/>\r\n",
       "<text text-anchor=\"middle\" x=\"493.904\" y=\"-156.615\" font-family=\"Times New Roman,serif\" font-size=\"14.00\">0.89</text>\r\n",
       "</g>\r\n",
       "</g>\r\n",
       "</svg>\r\n"
      ],
      "text/plain": [
       "<graphviz.dot.Digraph at 0xaeea518>"
      ]
     },
     "execution_count": 18,
     "metadata": {},
     "output_type": "execute_result"
    }
   ],
   "source": [
    "draw_states_graph(model_not)"
   ]
  },
  {
   "cell_type": "markdown",
   "metadata": {},
   "source": [
    "Clearly, scaffolded students do switch from a state of Test + Pause to Construct with Feedback and later Construct. Not scaffolded students go from a Pause and Construct with Feedback state to Constructing state and occasionaly enter a Testing state."
   ]
  },
  {
   "cell_type": "markdown",
   "metadata": {},
   "source": [
    "#### Now let's see if the treatment differences transfered to activity 2"
   ]
  },
  {
   "cell_type": "code",
   "execution_count": 19,
   "metadata": {
    "collapsed": false
   },
   "outputs": [
    {
     "name": "stdout",
     "output_type": "stream",
     "text": [
      "Model with 4 hidden states converged after 1 tries, with 160 iterations\n",
      "Model with 4 hidden states converged after 1 tries, with 300 iterations\n",
      "-11148.8396457 -11899.4859981\n"
     ]
    }
   ],
   "source": [
    "ACTIVITY = 'a2'\n",
    "\n",
    "blocks_scaff = get_non_blocks(df[df.Activity==ACTIVITY],get_students(\"scaffolding\",\"scaff\"),add_spaces=True, ignore = ACTIONS_TO_REMOVE, start = False)\n",
    "blocks_not = get_non_blocks(df[df.Activity==ACTIVITY],get_students(\"scaffolding\",\"not\"),add_spaces=True, ignore = ACTIONS_TO_REMOVE, start = False)\n",
    "X_scaff, lengths_scaff = prepare_data(blocks_scaff)\n",
    "X_not, lengths_not = prepare_data(blocks_not)\n",
    "\n",
    "N = 4\n",
    "model_scaff = get_model(X_scaff, lengths_scaff, N)\n",
    "model_not = get_model(X_not, lengths_not, N)\n",
    "\n",
    "print model_scaff.score(X_scaff,lengths_scaff), model_not.score(X_not,lengths_not)"
   ]
  },
  {
   "cell_type": "code",
   "execution_count": 20,
   "metadata": {
    "collapsed": false
   },
   "outputs": [
    {
     "data": {
      "image/svg+xml": [
       "<?xml version=\"1.0\" encoding=\"UTF-8\" standalone=\"no\"?>\r\n",
       "<!DOCTYPE svg PUBLIC \"-//W3C//DTD SVG 1.1//EN\"\r\n",
       " \"http://www.w3.org/Graphics/SVG/1.1/DTD/svg11.dtd\">\r\n",
       "<!-- Generated by graphviz version 2.38.0 (20140413.2041)\r\n",
       " -->\r\n",
       "<!-- Title: states Pages: 1 -->\r\n",
       "<svg width=\"850pt\" height=\"395pt\"\r\n",
       " viewBox=\"0.00 0.00 849.51 394.77\" xmlns=\"http://www.w3.org/2000/svg\" xmlns:xlink=\"http://www.w3.org/1999/xlink\">\r\n",
       "<g id=\"graph0\" class=\"graph\" transform=\"scale(1 1) rotate(0) translate(4 390.768)\">\r\n",
       "<title>states</title>\r\n",
       "<polygon fill=\"white\" stroke=\"none\" points=\"-4,4 -4,-390.768 845.514,-390.768 845.514,4 -4,4\"/>\r\n",
       "<!-- C.w.Feedback (7%) +\r\n",
       "Pause (5%) +\r\n",
       "Extra (76%) +\r\n",
       "Construct (7%) -->\r\n",
       "<g id=\"node1\" class=\"node\"><title>C.w.Feedback (7%) +\r\n",
       "Pause (5%) +\r\n",
       "Extra (76%) +\r\n",
       "Construct (7%)</title>\r\n",
       "<ellipse fill=\"none\" stroke=\"black\" cx=\"100.409\" cy=\"-100.409\" rx=\"100.318\" ry=\"100.318\"/>\r\n",
       "<text text-anchor=\"middle\" x=\"100.409\" y=\"-119.209\" font-family=\"Times New Roman,serif\" font-size=\"14.00\">C.w.Feedback (7%) +</text>\r\n",
       "<text text-anchor=\"middle\" x=\"100.409\" y=\"-104.209\" font-family=\"Times New Roman,serif\" font-size=\"14.00\">Pause (5%) +</text>\r\n",
       "<text text-anchor=\"middle\" x=\"100.409\" y=\"-89.2092\" font-family=\"Times New Roman,serif\" font-size=\"14.00\">Extra (76%) +</text>\r\n",
       "<text text-anchor=\"middle\" x=\"100.409\" y=\"-74.2092\" font-family=\"Times New Roman,serif\" font-size=\"14.00\">Construct (7%)</text>\r\n",
       "</g>\r\n",
       "<!-- C.w.Feedback (7%) +\r\n",
       "Pause (5%) +\r\n",
       "Extra (76%) +\r\n",
       "Construct (7%)&#45;&gt;C.w.Feedback (7%) +\r\n",
       "Pause (5%) +\r\n",
       "Extra (76%) +\r\n",
       "Construct (7%) -->\r\n",
       "<g id=\"edge1\" class=\"edge\"><title>C.w.Feedback (7%) +\r\n",
       "Pause (5%) +\r\n",
       "Extra (76%) +\r\n",
       "Construct (7%)&#45;&gt;C.w.Feedback (7%) +\r\n",
       "Pause (5%) +\r\n",
       "Extra (76%) +\r\n",
       "Construct (7%)</title>\r\n",
       "<path fill=\"none\" stroke=\"#253494\" stroke-width=\"6.36964\" d=\"M79.3206,-198.861C83.0964,-210.915 90.126,-218.818 100.409,-218.818 107.64,-218.818 113.261,-214.911 117.275,-208.401\"/>\r\n",
       "<polygon fill=\"#253494\" stroke=\"#253494\" stroke-width=\"6.36964\" points=\"122.546,-210.261 121.498,-198.861 112.354,-205.749 122.546,-210.261\"/>\r\n",
       "<text text-anchor=\"middle\" x=\"100.409\" y=\"-222.618\" font-family=\"Times New Roman,serif\" font-size=\"14.00\">0.87</text>\r\n",
       "</g>\r\n",
       "<!-- Construct (96%) -->\r\n",
       "<g id=\"node2\" class=\"node\"><title>Construct (96%)</title>\r\n",
       "<ellipse fill=\"none\" stroke=\"black\" cx=\"333.312\" cy=\"-175.409\" rx=\"71.4873\" ry=\"71.4873\"/>\r\n",
       "<text text-anchor=\"middle\" x=\"333.312\" y=\"-171.709\" font-family=\"Times New Roman,serif\" font-size=\"14.00\">Construct (96%)</text>\r\n",
       "</g>\r\n",
       "<!-- C.w.Feedback (7%) +\r\n",
       "Pause (5%) +\r\n",
       "Extra (76%) +\r\n",
       "Construct (7%)&#45;&gt;Construct (96%) -->\r\n",
       "<g id=\"edge2\" class=\"edge\"><title>C.w.Feedback (7%) +\r\n",
       "Pause (5%) +\r\n",
       "Extra (76%) +\r\n",
       "Construct (7%)&#45;&gt;Construct (96%)</title>\r\n",
       "<path fill=\"none\" stroke=\"#c7e9b4\" stroke-width=\"2.36809\" d=\"M196.326,-131.239C215.922,-137.604 236.333,-144.234 255.203,-150.363\"/>\r\n",
       "<polygon fill=\"#c7e9b4\" stroke=\"#c7e9b4\" stroke-width=\"2.36809\" points=\"254.325,-153.758 264.917,-153.519 256.488,-147.1 254.325,-153.758\"/>\r\n",
       "<text text-anchor=\"middle\" x=\"231.318\" y=\"-150.209\" font-family=\"Times New Roman,serif\" font-size=\"14.00\">0.07</text>\r\n",
       "</g>\r\n",
       "<!-- Test (94%) -->\r\n",
       "<g id=\"node3\" class=\"node\"><title>Test (94%)</title>\r\n",
       "<ellipse fill=\"none\" stroke=\"black\" cx=\"789.519\" cy=\"-143.409\" rx=\"51.9908\" ry=\"51.9908\"/>\r\n",
       "<text text-anchor=\"middle\" x=\"789.519\" y=\"-139.709\" font-family=\"Times New Roman,serif\" font-size=\"14.00\">Test (94%)</text>\r\n",
       "</g>\r\n",
       "<!-- C.w.Feedback (7%) +\r\n",
       "Pause (5%) +\r\n",
       "Extra (76%) +\r\n",
       "Construct (7%)&#45;&gt;Test (94%) -->\r\n",
       "<g id=\"edge3\" class=\"edge\"><title>C.w.Feedback (7%) +\r\n",
       "Pause (5%) +\r\n",
       "Extra (76%) +\r\n",
       "Construct (7%)&#45;&gt;Test (94%)</title>\r\n",
       "<path fill=\"none\" stroke=\"#c7e9b4\" stroke-width=\"2.26228\" d=\"M200.576,-92.5789C315.763,-85.4863 511.143,-79.6583 676.523,-105.409 695.011,-108.288 714.527,-113.932 731.998,-120.008\"/>\r\n",
       "<polygon fill=\"#c7e9b4\" stroke=\"#c7e9b4\" stroke-width=\"2.26228\" points=\"730.879,-123.325 741.473,-123.413 733.246,-116.737 730.879,-123.325\"/>\r\n",
       "<text text-anchor=\"middle\" x=\"435.306\" y=\"-91.2092\" font-family=\"Times New Roman,serif\" font-size=\"14.00\">0.05</text>\r\n",
       "</g>\r\n",
       "<!-- Construct (96%)&#45;&gt;Construct (96%) -->\r\n",
       "<g id=\"edge8\" class=\"edge\"><title>Construct (96%)&#45;&gt;Construct (96%)</title>\r\n",
       "<path fill=\"none\" stroke=\"#253494\" stroke-width=\"6.32433\" d=\"M315.808,-244.828C318.2,-256.687 324.035,-264.903 333.312,-264.903 339.69,-264.903 344.441,-261.019 347.565,-254.739\"/>\r\n",
       "<polygon fill=\"#253494\" stroke=\"#253494\" stroke-width=\"6.32433\" points=\"352.957,-256.054 350.816,-244.828 342.441,-252.605 352.957,-256.054\"/>\r\n",
       "<text text-anchor=\"middle\" x=\"333.312\" y=\"-268.703\" font-family=\"Times New Roman,serif\" font-size=\"14.00\">0.86</text>\r\n",
       "</g>\r\n",
       "<!-- C.w.Feedback (80%) +\r\n",
       "Pause (8%) +\r\n",
       "Construct (11%) -->\r\n",
       "<g id=\"node4\" class=\"node\"><title>C.w.Feedback (80%) +\r\n",
       "Pause (8%) +\r\n",
       "Construct (11%)</title>\r\n",
       "<ellipse fill=\"none\" stroke=\"black\" cx=\"571.165\" cy=\"-248.409\" rx=\"105.218\" ry=\"105.218\"/>\r\n",
       "<text text-anchor=\"middle\" x=\"571.165\" y=\"-259.709\" font-family=\"Times New Roman,serif\" font-size=\"14.00\">C.w.Feedback (80%) +</text>\r\n",
       "<text text-anchor=\"middle\" x=\"571.165\" y=\"-244.709\" font-family=\"Times New Roman,serif\" font-size=\"14.00\">Pause (8%) +</text>\r\n",
       "<text text-anchor=\"middle\" x=\"571.165\" y=\"-229.709\" font-family=\"Times New Roman,serif\" font-size=\"14.00\">Construct (11%)</text>\r\n",
       "</g>\r\n",
       "<!-- Construct (96%)&#45;&gt;C.w.Feedback (80%) +\r\n",
       "Pause (8%) +\r\n",
       "Construct (11%) -->\r\n",
       "<g id=\"edge7\" class=\"edge\"><title>Construct (96%)&#45;&gt;C.w.Feedback (80%) +\r\n",
       "Pause (8%) +\r\n",
       "Construct (11%)</title>\r\n",
       "<path fill=\"none\" stroke=\"#c7e9b4\" stroke-width=\"2.61593\" d=\"M396.203,-209.628C404.968,-213.66 413.998,-217.401 422.806,-220.409 433.78,-224.157 445.395,-227.448 457.096,-230.328\"/>\r\n",
       "<polygon fill=\"#c7e9b4\" stroke=\"#c7e9b4\" stroke-width=\"2.61593\" points=\"456.396,-233.759 466.932,-232.652 458.005,-226.947 456.396,-233.759\"/>\r\n",
       "<text text-anchor=\"middle\" x=\"435.306\" y=\"-231.209\" font-family=\"Times New Roman,serif\" font-size=\"14.00\">0.12</text>\r\n",
       "</g>\r\n",
       "<!-- Test (94%)&#45;&gt;Construct (96%) -->\r\n",
       "<g id=\"edge10\" class=\"edge\"><title>Test (94%)&#45;&gt;Construct (96%)</title>\r\n",
       "<path fill=\"none\" stroke=\"#c7e9b4\" stroke-width=\"2.09129\" d=\"M738.985,-130.442C719.643,-125.999 697.188,-121.598 676.523,-119.409 583.392,-109.542 557.567,-100.683 465.806,-119.409 445.944,-123.462 425.367,-130.632 406.554,-138.516\"/>\r\n",
       "<polygon fill=\"#c7e9b4\" stroke=\"#c7e9b4\" stroke-width=\"2.09129\" points=\"404.976,-135.385 397.182,-142.561 407.751,-141.812 404.976,-135.385\"/>\r\n",
       "<text text-anchor=\"middle\" x=\"571.165\" y=\"-123.209\" font-family=\"Times New Roman,serif\" font-size=\"14.00\">0.02</text>\r\n",
       "</g>\r\n",
       "<!-- Test (94%)&#45;&gt;Test (94%) -->\r\n",
       "<g id=\"edge11\" class=\"edge\"><title>Test (94%)&#45;&gt;Test (94%)</title>\r\n",
       "<path fill=\"none\" stroke=\"#253494\" stroke-width=\"6.579\" d=\"M774.483,-193.429C775.778,-204.945 780.79,-213.405 789.519,-213.405 795.52,-213.405 799.764,-209.406 802.252,-203.165\"/>\r\n",
       "<polygon fill=\"#253494\" stroke=\"#253494\" stroke-width=\"6.579\" points=\"807.855,-204.485 804.555,-193.429 796.651,-201.835 807.855,-204.485\"/>\r\n",
       "<text text-anchor=\"middle\" x=\"789.519\" y=\"-217.205\" font-family=\"Times New Roman,serif\" font-size=\"14.00\">0.92</text>\r\n",
       "</g>\r\n",
       "<!-- Test (94%)&#45;&gt;C.w.Feedback (80%) +\r\n",
       "Pause (8%) +\r\n",
       "Construct (11%) -->\r\n",
       "<g id=\"edge9\" class=\"edge\"><title>Test (94%)&#45;&gt;C.w.Feedback (80%) +\r\n",
       "Pause (8%) +\r\n",
       "Construct (11%)</title>\r\n",
       "<path fill=\"none\" stroke=\"#c7e9b4\" stroke-width=\"2.31813\" d=\"M739.501,-158.603C724.801,-163.694 708.798,-169.78 694.523,-176.409 686.479,-180.145 678.279,-184.253 670.125,-188.555\"/>\r\n",
       "<polygon fill=\"#c7e9b4\" stroke=\"#c7e9b4\" stroke-width=\"2.31813\" points=\"668.46,-185.476 661.305,-193.291 671.772,-191.643 668.46,-185.476\"/>\r\n",
       "<text text-anchor=\"middle\" x=\"707.023\" y=\"-180.209\" font-family=\"Times New Roman,serif\" font-size=\"14.00\">0.06</text>\r\n",
       "</g>\r\n",
       "<!-- C.w.Feedback (80%) +\r\n",
       "Pause (8%) +\r\n",
       "Construct (11%)&#45;&gt;Construct (96%) -->\r\n",
       "<g id=\"edge5\" class=\"edge\"><title>C.w.Feedback (80%) +\r\n",
       "Pause (8%) +\r\n",
       "Construct (11%)&#45;&gt;Construct (96%)</title>\r\n",
       "<path fill=\"none\" stroke=\"#c7e9b4\" stroke-width=\"2.86169\" d=\"M471.885,-213.107C463.765,-210.424 455.661,-207.824 447.806,-205.409 436.543,-201.948 424.579,-198.52 412.805,-195.286\"/>\r\n",
       "<polygon fill=\"#c7e9b4\" stroke=\"#c7e9b4\" stroke-width=\"2.86169\" points=\"413.547,-191.861 402.979,-192.62 411.714,-198.617 413.547,-191.861\"/>\r\n",
       "<text text-anchor=\"middle\" x=\"435.306\" y=\"-209.209\" font-family=\"Times New Roman,serif\" font-size=\"14.00\">0.17</text>\r\n",
       "</g>\r\n",
       "<!-- C.w.Feedback (80%) +\r\n",
       "Pause (8%) +\r\n",
       "Construct (11%)&#45;&gt;Test (94%) -->\r\n",
       "<g id=\"edge6\" class=\"edge\"><title>C.w.Feedback (80%) +\r\n",
       "Pause (8%) +\r\n",
       "Construct (11%)&#45;&gt;Test (94%)</title>\r\n",
       "<path fill=\"none\" stroke=\"#7fcdbb\" stroke-width=\"3.01863\" d=\"M671.842,-217.193C688.143,-210.783 704.575,-203.489 719.523,-195.409 726.575,-191.598 733.688,-187.112 740.531,-182.399\"/>\r\n",
       "<polygon fill=\"#7fcdbb\" stroke=\"#7fcdbb\" stroke-width=\"3.01863\" points=\"742.918,-184.996 749.029,-176.342 738.854,-179.296 742.918,-184.996\"/>\r\n",
       "<text text-anchor=\"middle\" x=\"707.023\" y=\"-210.209\" font-family=\"Times New Roman,serif\" font-size=\"14.00\">0.20</text>\r\n",
       "</g>\r\n",
       "<!-- C.w.Feedback (80%) +\r\n",
       "Pause (8%) +\r\n",
       "Construct (11%)&#45;&gt;C.w.Feedback (80%) +\r\n",
       "Pause (8%) +\r\n",
       "Construct (11%) -->\r\n",
       "<g id=\"edge4\" class=\"edge\"><title>C.w.Feedback (80%) +\r\n",
       "Pause (8%) +\r\n",
       "Construct (11%)&#45;&gt;C.w.Feedback (80%) +\r\n",
       "Pause (8%) +\r\n",
       "Construct (11%)</title>\r\n",
       "<path fill=\"none\" stroke=\"#2c7fb8\" stroke-width=\"5.10095\" d=\"M549.722,-351.898C553.679,-363.936 560.827,-371.768 571.165,-371.768 578.433,-371.768 584.125,-367.896 588.239,-361.413\"/>\r\n",
       "<polygon fill=\"#2c7fb8\" stroke=\"#2c7fb8\" stroke-width=\"5.10095\" points=\"592.491,-362.849 592.608,-351.898 584.379,-359.124 592.491,-362.849\"/>\r\n",
       "<text text-anchor=\"middle\" x=\"571.165\" y=\"-375.568\" font-family=\"Times New Roman,serif\" font-size=\"14.00\">0.62</text>\r\n",
       "</g>\r\n",
       "</g>\r\n",
       "</svg>\r\n"
      ],
      "text/plain": [
       "<graphviz.dot.Digraph at 0xb08ecf8>"
      ]
     },
     "execution_count": 20,
     "metadata": {},
     "output_type": "execute_result"
    }
   ],
   "source": [
    "draw_states_graph(model_scaff)"
   ]
  },
  {
   "cell_type": "code",
   "execution_count": 21,
   "metadata": {
    "collapsed": false
   },
   "outputs": [
    {
     "data": {
      "image/svg+xml": [
       "<?xml version=\"1.0\" encoding=\"UTF-8\" standalone=\"no\"?>\r\n",
       "<!DOCTYPE svg PUBLIC \"-//W3C//DTD SVG 1.1//EN\"\r\n",
       " \"http://www.w3.org/Graphics/SVG/1.1/DTD/svg11.dtd\">\r\n",
       "<!-- Generated by graphviz version 2.38.0 (20140413.2041)\r\n",
       " -->\r\n",
       "<!-- Title: states Pages: 1 -->\r\n",
       "<svg width=\"850pt\" height=\"349pt\"\r\n",
       " viewBox=\"0.00 0.00 849.51 348.62\" xmlns=\"http://www.w3.org/2000/svg\" xmlns:xlink=\"http://www.w3.org/1999/xlink\">\r\n",
       "<g id=\"graph0\" class=\"graph\" transform=\"scale(1 1) rotate(0) translate(4 344.623)\">\r\n",
       "<title>states</title>\r\n",
       "<polygon fill=\"white\" stroke=\"none\" points=\"-4,4 -4,-344.623 845.514,-344.623 845.514,4 -4,4\"/>\r\n",
       "<!-- C.w.Feedback (82%) +\r\n",
       "Pause (11%) +\r\n",
       "Extra (5%) -->\r\n",
       "<g id=\"node1\" class=\"node\"><title>C.w.Feedback (82%) +\r\n",
       "Pause (11%) +\r\n",
       "Extra (5%)</title>\r\n",
       "<ellipse fill=\"none\" stroke=\"black\" cx=\"105.359\" cy=\"-135.623\" rx=\"105.218\" ry=\"105.218\"/>\r\n",
       "<text text-anchor=\"middle\" x=\"105.359\" y=\"-146.923\" font-family=\"Times New Roman,serif\" font-size=\"14.00\">C.w.Feedback (82%) +</text>\r\n",
       "<text text-anchor=\"middle\" x=\"105.359\" y=\"-131.923\" font-family=\"Times New Roman,serif\" font-size=\"14.00\">Pause (11%) +</text>\r\n",
       "<text text-anchor=\"middle\" x=\"105.359\" y=\"-116.923\" font-family=\"Times New Roman,serif\" font-size=\"14.00\">Extra (5%)</text>\r\n",
       "</g>\r\n",
       "<!-- C.w.Feedback (82%) +\r\n",
       "Pause (11%) +\r\n",
       "Extra (5%)&#45;&gt;C.w.Feedback (82%) +\r\n",
       "Pause (11%) +\r\n",
       "Extra (5%) -->\r\n",
       "<g id=\"edge1\" class=\"edge\"><title>C.w.Feedback (82%) +\r\n",
       "Pause (11%) +\r\n",
       "Extra (5%)&#45;&gt;C.w.Feedback (82%) +\r\n",
       "Pause (11%) +\r\n",
       "Extra (5%)</title>\r\n",
       "<path fill=\"none\" stroke=\"#2c7fb8\" stroke-width=\"5.06962\" d=\"M83.9159,-239.112C87.8733,-251.151 95.021,-258.982 105.359,-258.982 112.628,-258.982 118.319,-255.11 122.434,-248.627\"/>\r\n",
       "<polygon fill=\"#2c7fb8\" stroke=\"#2c7fb8\" stroke-width=\"5.06962\" points=\"126.661,-250.051 126.802,-239.112 118.598,-246.35 126.661,-250.051\"/>\r\n",
       "<text text-anchor=\"middle\" x=\"105.359\" y=\"-262.782\" font-family=\"Times New Roman,serif\" font-size=\"14.00\">0.61</text>\r\n",
       "</g>\r\n",
       "<!-- C.w.Feedback (9%) +\r\n",
       "Construct (87%) -->\r\n",
       "<g id=\"node2\" class=\"node\"><title>C.w.Feedback (9%) +\r\n",
       "Construct (87%)</title>\r\n",
       "<ellipse fill=\"none\" stroke=\"black\" cx=\"372.127\" cy=\"-173.623\" rx=\"100.318\" ry=\"100.318\"/>\r\n",
       "<text text-anchor=\"middle\" x=\"372.127\" y=\"-177.423\" font-family=\"Times New Roman,serif\" font-size=\"14.00\">C.w.Feedback (9%) +</text>\r\n",
       "<text text-anchor=\"middle\" x=\"372.127\" y=\"-162.423\" font-family=\"Times New Roman,serif\" font-size=\"14.00\">Construct (87%)</text>\r\n",
       "</g>\r\n",
       "<!-- C.w.Feedback (82%) +\r\n",
       "Pause (11%) +\r\n",
       "Extra (5%)&#45;&gt;C.w.Feedback (9%) +\r\n",
       "Construct (87%) -->\r\n",
       "<g id=\"edge2\" class=\"edge\"><title>C.w.Feedback (82%) +\r\n",
       "Pause (11%) +\r\n",
       "Extra (5%)&#45;&gt;C.w.Feedback (9%) +\r\n",
       "Construct (87%)</title>\r\n",
       "<path fill=\"none\" stroke=\"#c7e9b4\" stroke-width=\"2.86374\" d=\"M209.863,-150.478C227.079,-152.949 244.981,-155.519 262.324,-158.008\"/>\r\n",
       "<polygon fill=\"#c7e9b4\" stroke=\"#c7e9b4\" stroke-width=\"2.86374\" points=\"262.066,-161.507 272.462,-159.463 263.061,-154.578 262.066,-161.507\"/>\r\n",
       "<text text-anchor=\"middle\" x=\"241.218\" y=\"-160.423\" font-family=\"Times New Roman,serif\" font-size=\"14.00\">0.17</text>\r\n",
       "</g>\r\n",
       "<!-- Construct (96%) -->\r\n",
       "<g id=\"node3\" class=\"node\"><title>Construct (96%)</title>\r\n",
       "<ellipse fill=\"none\" stroke=\"black\" cx=\"770.021\" cy=\"-199.623\" rx=\"71.4873\" ry=\"71.4873\"/>\r\n",
       "<text text-anchor=\"middle\" x=\"770.021\" y=\"-195.923\" font-family=\"Times New Roman,serif\" font-size=\"14.00\">Construct (96%)</text>\r\n",
       "</g>\r\n",
       "<!-- C.w.Feedback (82%) +\r\n",
       "Pause (11%) +\r\n",
       "Extra (5%)&#45;&gt;Construct (96%) -->\r\n",
       "<g id=\"edge3\" class=\"edge\"><title>C.w.Feedback (82%) +\r\n",
       "Pause (11%) +\r\n",
       "Extra (5%)&#45;&gt;Construct (96%)</title>\r\n",
       "<path fill=\"none\" stroke=\"#c7e9b4\" stroke-width=\"2.19935\" d=\"M163.156,-224.267C191.114,-259.667 228.204,-296.509 271.718,-315.623 416.745,-379.327 601.577,-297.603 700.006,-242.419\"/>\r\n",
       "<polygon fill=\"#c7e9b4\" stroke=\"#c7e9b4\" stroke-width=\"2.19935\" points=\"701.998,-245.313 708.968,-237.333 698.543,-239.224 701.998,-245.313\"/>\r\n",
       "<text text-anchor=\"middle\" x=\"503.036\" y=\"-329.423\" font-family=\"Times New Roman,serif\" font-size=\"14.00\">0.04</text>\r\n",
       "</g>\r\n",
       "<!-- Test (94%) -->\r\n",
       "<g id=\"node4\" class=\"node\"><title>Test (94%)</title>\r\n",
       "<ellipse fill=\"none\" stroke=\"black\" cx=\"585.532\" cy=\"-78.6233\" rx=\"51.9908\" ry=\"51.9908\"/>\r\n",
       "<text text-anchor=\"middle\" x=\"585.532\" y=\"-74.9233\" font-family=\"Times New Roman,serif\" font-size=\"14.00\">Test (94%)</text>\r\n",
       "</g>\r\n",
       "<!-- C.w.Feedback (82%) +\r\n",
       "Pause (11%) +\r\n",
       "Extra (5%)&#45;&gt;Test (94%) -->\r\n",
       "<g id=\"edge4\" class=\"edge\"><title>C.w.Feedback (82%) +\r\n",
       "Pause (11%) +\r\n",
       "Extra (5%)&#45;&gt;Test (94%)</title>\r\n",
       "<path fill=\"none\" stroke=\"#c7e9b4\" stroke-width=\"2.86729\" d=\"M195.099,-79.6208C219.075,-67.2847 245.629,-56.002 271.718,-49.6233 358.417,-28.4258 383.999,-38.3464 472.536,-49.6233 490.107,-51.8614 508.864,-55.9991 525.903,-60.462\"/>\r\n",
       "<polygon fill=\"#c7e9b4\" stroke=\"#c7e9b4\" stroke-width=\"2.86729\" points=\"525.148,-63.8836 535.715,-63.1154 526.976,-57.1263 525.148,-63.8836\"/>\r\n",
       "<text text-anchor=\"middle\" x=\"372.127\" y=\"-53.4233\" font-family=\"Times New Roman,serif\" font-size=\"14.00\">0.17</text>\r\n",
       "</g>\r\n",
       "<!-- C.w.Feedback (9%) +\r\n",
       "Construct (87%)&#45;&gt;C.w.Feedback (82%) +\r\n",
       "Pause (11%) +\r\n",
       "Extra (5%) -->\r\n",
       "<g id=\"edge5\" class=\"edge\"><title>C.w.Feedback (9%) +\r\n",
       "Construct (87%)&#45;&gt;C.w.Feedback (82%) +\r\n",
       "Pause (11%) +\r\n",
       "Extra (5%)</title>\r\n",
       "<path fill=\"none\" stroke=\"#7fcdbb\" stroke-width=\"3.06943\" d=\"M277.591,-139.618C269.593,-137.609 261.563,-135.892 253.718,-134.623 243.18,-132.919 232.162,-131.797 221.101,-131.112\"/>\r\n",
       "<polygon fill=\"#7fcdbb\" stroke=\"#7fcdbb\" stroke-width=\"3.06943\" points=\"221.106,-127.608 210.943,-130.602 220.755,-134.599 221.106,-127.608\"/>\r\n",
       "<text text-anchor=\"middle\" x=\"241.218\" y=\"-138.423\" font-family=\"Times New Roman,serif\" font-size=\"14.00\">0.21</text>\r\n",
       "</g>\r\n",
       "<!-- C.w.Feedback (9%) +\r\n",
       "Construct (87%)&#45;&gt;C.w.Feedback (9%) +\r\n",
       "Construct (87%) -->\r\n",
       "<g id=\"edge6\" class=\"edge\"><title>C.w.Feedback (9%) +\r\n",
       "Construct (87%)&#45;&gt;C.w.Feedback (9%) +\r\n",
       "Construct (87%)</title>\r\n",
       "<path fill=\"none\" stroke=\"#2c7fb8\" stroke-width=\"5.71229\" d=\"M351.038,-272.075C354.814,-284.13 361.844,-292.032 372.127,-292.032 379.357,-292.032 384.979,-288.125 388.992,-281.615\"/>\r\n",
       "<polygon fill=\"#2c7fb8\" stroke=\"#2c7fb8\" stroke-width=\"5.71229\" points=\"393.738,-283.242 393.216,-272.075 384.597,-279.196 393.738,-283.242\"/>\r\n",
       "<text text-anchor=\"middle\" x=\"372.127\" y=\"-295.832\" font-family=\"Times New Roman,serif\" font-size=\"14.00\">0.74</text>\r\n",
       "</g>\r\n",
       "<!-- C.w.Feedback (9%) +\r\n",
       "Construct (87%)&#45;&gt;Test (94%) -->\r\n",
       "<g id=\"edge7\" class=\"edge\"><title>C.w.Feedback (9%) +\r\n",
       "Construct (87%)&#45;&gt;Test (94%)</title>\r\n",
       "<path fill=\"none\" stroke=\"#c7e9b4\" stroke-width=\"2.20572\" d=\"M464.399,-133.533C481.419,-125.976 499.037,-118.098 515.536,-110.623 519.892,-108.65 524.397,-106.594 528.921,-104.519\"/>\r\n",
       "<polygon fill=\"#c7e9b4\" stroke=\"#c7e9b4\" stroke-width=\"2.20572\" points=\"530.571,-107.613 538.192,-100.253 527.644,-101.254 530.571,-107.613\"/>\r\n",
       "<text text-anchor=\"middle\" x=\"503.036\" y=\"-125.423\" font-family=\"Times New Roman,serif\" font-size=\"14.00\">0.04</text>\r\n",
       "</g>\r\n",
       "<!-- Construct (96%)&#45;&gt;C.w.Feedback (9%) +\r\n",
       "Construct (87%) -->\r\n",
       "<g id=\"edge8\" class=\"edge\"><title>Construct (96%)&#45;&gt;C.w.Feedback (9%) +\r\n",
       "Construct (87%)</title>\r\n",
       "<path fill=\"none\" stroke=\"#c7e9b4\" stroke-width=\"2.42437\" d=\"M698.609,-194.999C638.677,-191.063 551.581,-185.343 482.563,-180.81\"/>\r\n",
       "<polygon fill=\"#c7e9b4\" stroke=\"#c7e9b4\" stroke-width=\"2.42437\" points=\"482.725,-177.314 472.517,-180.151 482.266,-184.299 482.725,-177.314\"/>\r\n",
       "<text text-anchor=\"middle\" x=\"585.532\" y=\"-195.423\" font-family=\"Times New Roman,serif\" font-size=\"14.00\">0.08</text>\r\n",
       "</g>\r\n",
       "<!-- Construct (96%)&#45;&gt;Construct (96%) -->\r\n",
       "<g id=\"edge9\" class=\"edge\"><title>Construct (96%)&#45;&gt;Construct (96%)</title>\r\n",
       "<path fill=\"none\" stroke=\"#253494\" stroke-width=\"6.56247\" d=\"M752.517,-269.042C754.909,-280.901 760.743,-289.117 770.021,-289.117 776.399,-289.117 781.15,-285.234 784.273,-278.953\"/>\r\n",
       "<polygon fill=\"#253494\" stroke=\"#253494\" stroke-width=\"6.56247\" points=\"789.864,-280.334 787.524,-269.042 778.951,-276.754 789.864,-280.334\"/>\r\n",
       "<text text-anchor=\"middle\" x=\"770.021\" y=\"-292.917\" font-family=\"Times New Roman,serif\" font-size=\"14.00\">0.91</text>\r\n",
       "</g>\r\n",
       "<!-- Test (94%)&#45;&gt;C.w.Feedback (82%) +\r\n",
       "Pause (11%) +\r\n",
       "Extra (5%) -->\r\n",
       "<g id=\"edge10\" class=\"edge\"><title>Test (94%)&#45;&gt;C.w.Feedback (82%) +\r\n",
       "Pause (11%) +\r\n",
       "Extra (5%)</title>\r\n",
       "<path fill=\"none\" stroke=\"#c7e9b4\" stroke-width=\"2.3591\" d=\"M542.16,-49.5302C522.021,-37.4231 497.033,-24.7718 472.536,-18.6233 385.969,3.10452 356.773,8.42439 271.718,-18.6233 243.987,-27.4417 216.907,-42.7826 192.955,-59.5084\"/>\r\n",
       "<polygon fill=\"#c7e9b4\" stroke=\"#c7e9b4\" stroke-width=\"2.3591\" points=\"190.713,-56.8085 184.617,-65.4738 194.787,-62.5015 190.713,-56.8085\"/>\r\n",
       "<text text-anchor=\"middle\" x=\"372.127\" y=\"-22.4233\" font-family=\"Times New Roman,serif\" font-size=\"14.00\">0.07</text>\r\n",
       "</g>\r\n",
       "<!-- Test (94%)&#45;&gt;C.w.Feedback (9%) +\r\n",
       "Construct (87%) -->\r\n",
       "<g id=\"edge11\" class=\"edge\"><title>Test (94%)&#45;&gt;C.w.Feedback (9%) +\r\n",
       "Construct (87%)</title>\r\n",
       "<path fill=\"none\" stroke=\"#c7e9b4\" stroke-width=\"2.05251\" d=\"M533.171,-81.3016C519.01,-83.2165 503.88,-86.3932 490.536,-91.6233 480.242,-95.6583 469.98,-100.766 460.052,-106.452\"/>\r\n",
       "<polygon fill=\"#c7e9b4\" stroke=\"#c7e9b4\" stroke-width=\"2.05251\" points=\"458.226,-103.466 451.42,-111.585 461.804,-109.482 458.226,-103.466\"/>\r\n",
       "<text text-anchor=\"middle\" x=\"503.036\" y=\"-95.4233\" font-family=\"Times New Roman,serif\" font-size=\"14.00\">0.01</text>\r\n",
       "</g>\r\n",
       "<!-- Test (94%)&#45;&gt;Construct (96%) -->\r\n",
       "<g id=\"edge12\" class=\"edge\"><title>Test (94%)&#45;&gt;Construct (96%)</title>\r\n",
       "<path fill=\"none\" stroke=\"#c7e9b4\" stroke-width=\"2.10488\" d=\"M629.317,-106.992C650.803,-121.239 677.34,-138.834 701.493,-154.849\"/>\r\n",
       "<polygon fill=\"#c7e9b4\" stroke=\"#c7e9b4\" stroke-width=\"2.10488\" points=\"699.657,-157.831 709.925,-160.44 703.525,-151.997 699.657,-157.831\"/>\r\n",
       "<text text-anchor=\"middle\" x=\"668.027\" y=\"-143.423\" font-family=\"Times New Roman,serif\" font-size=\"14.00\">0.02</text>\r\n",
       "</g>\r\n",
       "<!-- Test (94%)&#45;&gt;Test (94%) -->\r\n",
       "<g id=\"edge13\" class=\"edge\"><title>Test (94%)&#45;&gt;Test (94%)</title>\r\n",
       "<path fill=\"none\" stroke=\"#253494\" stroke-width=\"6.4835\" d=\"M570.495,-128.643C571.791,-140.159 576.803,-148.619 585.532,-148.619 591.532,-148.619 595.777,-144.62 598.264,-138.379\"/>\r\n",
       "<polygon fill=\"#253494\" stroke=\"#253494\" stroke-width=\"6.4835\" points=\"603.786,-139.68 600.568,-128.643 592.745,-137.068 603.786,-139.68\"/>\r\n",
       "<text text-anchor=\"middle\" x=\"585.532\" y=\"-152.419\" font-family=\"Times New Roman,serif\" font-size=\"14.00\">0.90</text>\r\n",
       "</g>\r\n",
       "</g>\r\n",
       "</svg>\r\n"
      ],
      "text/plain": [
       "<graphviz.dot.Digraph at 0xb08edd8>"
      ]
     },
     "execution_count": 21,
     "metadata": {},
     "output_type": "execute_result"
    }
   ],
   "source": [
    "draw_states_graph(model_not)"
   ]
  },
  {
   "cell_type": "markdown",
   "metadata": {},
   "source": [
    "### Let's compare students by learning"
   ]
  },
  {
   "cell_type": "code",
   "execution_count": 22,
   "metadata": {
    "collapsed": true
   },
   "outputs": [],
   "source": [
    "ACTIVITY = 'a2'\n",
    "\n",
    "blocks_high = get_non_blocks(df[df.Activity==ACTIVITY],get_students(\"learning2\",\"high\"),add_spaces=True, ignore = ACTIONS_TO_REMOVE, start = False)\n",
    "blocks_low = get_non_blocks(df[df.Activity==ACTIVITY],get_students(\"learning2\",\"low\"),add_spaces=True, ignore = ACTIONS_TO_REMOVE, start = False)\n",
    "X_high, lengths_high = prepare_data(blocks_high)\n",
    "X_low, lengths_low = prepare_data(blocks_low)"
   ]
  },
  {
   "cell_type": "code",
   "execution_count": 23,
   "metadata": {
    "collapsed": false
   },
   "outputs": [
    {
     "name": "stdout",
     "output_type": "stream",
     "text": [
      "Model with 4 hidden states converged after 1 tries, with 300 iterations\n",
      "Model with 4 hidden states converged after 1 tries, with 181 iterations\n",
      "-11054.049315 -12077.8474446\n"
     ]
    }
   ],
   "source": [
    "N = 4\n",
    "model_high = get_model(X_high, lengths_high, N)\n",
    "model_low = get_model(X_low, lengths_low, N)\n",
    "print model_high.score(X_high,lengths_high), model_low.score(X_low,lengths_low)"
   ]
  },
  {
   "cell_type": "code",
   "execution_count": 24,
   "metadata": {
    "collapsed": false
   },
   "outputs": [
    {
     "data": {
      "image/svg+xml": [
       "<?xml version=\"1.0\" encoding=\"UTF-8\" standalone=\"no\"?>\r\n",
       "<!DOCTYPE svg PUBLIC \"-//W3C//DTD SVG 1.1//EN\"\r\n",
       " \"http://www.w3.org/Graphics/SVG/1.1/DTD/svg11.dtd\">\r\n",
       "<!-- Generated by graphviz version 2.38.0 (20140413.2041)\r\n",
       " -->\r\n",
       "<!-- Title: states Pages: 1 -->\r\n",
       "<svg width=\"859pt\" height=\"416pt\"\r\n",
       " viewBox=\"0.00 0.00 859.41 415.72\" xmlns=\"http://www.w3.org/2000/svg\" xmlns:xlink=\"http://www.w3.org/1999/xlink\">\r\n",
       "<g id=\"graph0\" class=\"graph\" transform=\"scale(1 1) rotate(0) translate(4 411.718)\">\r\n",
       "<title>states</title>\r\n",
       "<polygon fill=\"white\" stroke=\"none\" points=\"-4,4 -4,-411.718 855.414,-411.718 855.414,4 -4,4\"/>\r\n",
       "<!-- Test (12%) +\r\n",
       "C.w.Feedback (57%) +\r\n",
       "Pause (17%) +\r\n",
       "Extra (9%) -->\r\n",
       "<g id=\"node1\" class=\"node\"><title>Test (12%) +\r\n",
       "C.w.Feedback (57%) +\r\n",
       "Pause (17%) +\r\n",
       "Extra (9%)</title>\r\n",
       "<ellipse fill=\"none\" stroke=\"black\" cx=\"105.359\" cy=\"-105.359\" rx=\"105.218\" ry=\"105.218\"/>\r\n",
       "<text text-anchor=\"middle\" x=\"105.359\" y=\"-124.159\" font-family=\"Times New Roman,serif\" font-size=\"14.00\">Test (12%) +</text>\r\n",
       "<text text-anchor=\"middle\" x=\"105.359\" y=\"-109.159\" font-family=\"Times New Roman,serif\" font-size=\"14.00\">C.w.Feedback (57%) +</text>\r\n",
       "<text text-anchor=\"middle\" x=\"105.359\" y=\"-94.1589\" font-family=\"Times New Roman,serif\" font-size=\"14.00\">Pause (17%) +</text>\r\n",
       "<text text-anchor=\"middle\" x=\"105.359\" y=\"-79.1589\" font-family=\"Times New Roman,serif\" font-size=\"14.00\">Extra (9%)</text>\r\n",
       "</g>\r\n",
       "<!-- Test (12%) +\r\n",
       "C.w.Feedback (57%) +\r\n",
       "Pause (17%) +\r\n",
       "Extra (9%)&#45;&gt;Test (12%) +\r\n",
       "C.w.Feedback (57%) +\r\n",
       "Pause (17%) +\r\n",
       "Extra (9%) -->\r\n",
       "<g id=\"edge1\" class=\"edge\"><title>Test (12%) +\r\n",
       "C.w.Feedback (57%) +\r\n",
       "Pause (17%) +\r\n",
       "Extra (9%)&#45;&gt;Test (12%) +\r\n",
       "C.w.Feedback (57%) +\r\n",
       "Pause (17%) +\r\n",
       "Extra (9%)</title>\r\n",
       "<path fill=\"none\" stroke=\"#41b6c4\" stroke-width=\"4.15983\" d=\"M83.9159,-208.848C87.8733,-220.886 95.021,-228.718 105.359,-228.718 112.628,-228.718 118.319,-224.846 122.434,-218.362\"/>\r\n",
       "<polygon fill=\"#41b6c4\" stroke=\"#41b6c4\" stroke-width=\"4.15983\" points=\"125.937,-219.455 126.802,-208.848 119.322,-216.417 125.937,-219.455\"/>\r\n",
       "<text text-anchor=\"middle\" x=\"105.359\" y=\"-232.518\" font-family=\"Times New Roman,serif\" font-size=\"14.00\">0.43</text>\r\n",
       "</g>\r\n",
       "<!-- C.w.Feedback (78%) +\r\n",
       "Pause (5%) +\r\n",
       "Construct (15%) -->\r\n",
       "<g id=\"node2\" class=\"node\"><title>C.w.Feedback (78%) +\r\n",
       "Pause (5%) +\r\n",
       "Construct (15%)</title>\r\n",
       "<ellipse fill=\"none\" stroke=\"black\" cx=\"377.077\" cy=\"-269.359\" rx=\"105.218\" ry=\"105.218\"/>\r\n",
       "<text text-anchor=\"middle\" x=\"377.077\" y=\"-280.659\" font-family=\"Times New Roman,serif\" font-size=\"14.00\">C.w.Feedback (78%) +</text>\r\n",
       "<text text-anchor=\"middle\" x=\"377.077\" y=\"-265.659\" font-family=\"Times New Roman,serif\" font-size=\"14.00\">Pause (5%) +</text>\r\n",
       "<text text-anchor=\"middle\" x=\"377.077\" y=\"-250.659\" font-family=\"Times New Roman,serif\" font-size=\"14.00\">Construct (15%)</text>\r\n",
       "</g>\r\n",
       "<!-- Test (12%) +\r\n",
       "C.w.Feedback (57%) +\r\n",
       "Pause (17%) +\r\n",
       "Extra (9%)&#45;&gt;C.w.Feedback (78%) +\r\n",
       "Pause (5%) +\r\n",
       "Construct (15%) -->\r\n",
       "<g id=\"edge2\" class=\"edge\"><title>Test (12%) +\r\n",
       "C.w.Feedback (57%) +\r\n",
       "Pause (17%) +\r\n",
       "Extra (9%)&#45;&gt;C.w.Feedback (78%) +\r\n",
       "Pause (5%) +\r\n",
       "Construct (15%)</title>\r\n",
       "<path fill=\"none\" stroke=\"#c7e9b4\" stroke-width=\"2.07064\" d=\"M187.163,-172.093C200.686,-182.084 214.839,-191.867 228.718,-200.359 241.988,-208.478 256.368,-216.296 270.766,-223.569\"/>\r\n",
       "<polygon fill=\"#c7e9b4\" stroke=\"#c7e9b4\" stroke-width=\"2.07064\" points=\"269.212,-226.704 279.724,-228.024 272.329,-220.437 269.212,-226.704\"/>\r\n",
       "<text text-anchor=\"middle\" x=\"241.218\" y=\"-218.159\" font-family=\"Times New Roman,serif\" font-size=\"14.00\">0.01</text>\r\n",
       "</g>\r\n",
       "<!-- Construct (99%) -->\r\n",
       "<g id=\"node3\" class=\"node\"><title>Construct (99%)</title>\r\n",
       "<ellipse fill=\"none\" stroke=\"black\" cx=\"779.92\" cy=\"-122.359\" rx=\"71.4873\" ry=\"71.4873\"/>\r\n",
       "<text text-anchor=\"middle\" x=\"779.92\" y=\"-118.659\" font-family=\"Times New Roman,serif\" font-size=\"14.00\">Construct (99%)</text>\r\n",
       "</g>\r\n",
       "<!-- Test (12%) +\r\n",
       "C.w.Feedback (57%) +\r\n",
       "Pause (17%) +\r\n",
       "Extra (9%)&#45;&gt;Construct (99%) -->\r\n",
       "<g id=\"edge3\" class=\"edge\"><title>Test (12%) +\r\n",
       "C.w.Feedback (57%) +\r\n",
       "Pause (17%) +\r\n",
       "Extra (9%)&#45;&gt;Construct (99%)</title>\r\n",
       "<path fill=\"none\" stroke=\"#7fcdbb\" stroke-width=\"3.4643\" d=\"M207.543,-79.4368C317.164,-55.4374 496.61,-28.0802 647.426,-61.3589 667.912,-65.8791 688.998,-73.9234 708.122,-82.7174\"/>\r\n",
       "<polygon fill=\"#7fcdbb\" stroke=\"#7fcdbb\" stroke-width=\"3.4643\" points=\"706.806,-85.9665 717.342,-87.0825 709.801,-79.6398 706.806,-85.9665\"/>\r\n",
       "<text text-anchor=\"middle\" x=\"512.936\" y=\"-51.1589\" font-family=\"Times New Roman,serif\" font-size=\"14.00\">0.29</text>\r\n",
       "</g>\r\n",
       "<!-- Test (96%) -->\r\n",
       "<g id=\"node4\" class=\"node\"><title>Test (96%)</title>\r\n",
       "<ellipse fill=\"none\" stroke=\"black\" cx=\"595.431\" cy=\"-122.359\" rx=\"51.9908\" ry=\"51.9908\"/>\r\n",
       "<text text-anchor=\"middle\" x=\"595.431\" y=\"-118.659\" font-family=\"Times New Roman,serif\" font-size=\"14.00\">Test (96%)</text>\r\n",
       "</g>\r\n",
       "<!-- Test (12%) +\r\n",
       "C.w.Feedback (57%) +\r\n",
       "Pause (17%) +\r\n",
       "Extra (9%)&#45;&gt;Test (96%) -->\r\n",
       "<g id=\"edge4\" class=\"edge\"><title>Test (12%) +\r\n",
       "C.w.Feedback (57%) +\r\n",
       "Pause (17%) +\r\n",
       "Extra (9%)&#45;&gt;Test (96%)</title>\r\n",
       "<path fill=\"none\" stroke=\"#7fcdbb\" stroke-width=\"3.30522\" d=\"M210.763,-108.995C308.917,-112.414 452.491,-117.415 533.296,-120.23\"/>\r\n",
       "<polygon fill=\"#7fcdbb\" stroke=\"#7fcdbb\" stroke-width=\"3.30522\" points=\"533.195,-123.728 543.311,-120.578 533.439,-116.732 533.195,-123.728\"/>\r\n",
       "<text text-anchor=\"middle\" x=\"377.077\" y=\"-123.159\" font-family=\"Times New Roman,serif\" font-size=\"14.00\">0.26</text>\r\n",
       "</g>\r\n",
       "<!-- C.w.Feedback (78%) +\r\n",
       "Pause (5%) +\r\n",
       "Construct (15%)&#45;&gt;Test (12%) +\r\n",
       "C.w.Feedback (57%) +\r\n",
       "Pause (17%) +\r\n",
       "Extra (9%) -->\r\n",
       "<g id=\"edge5\" class=\"edge\"><title>C.w.Feedback (78%) +\r\n",
       "Pause (5%) +\r\n",
       "Construct (15%)&#45;&gt;Test (12%) +\r\n",
       "C.w.Feedback (57%) +\r\n",
       "Pause (17%) +\r\n",
       "Extra (9%)</title>\r\n",
       "<path fill=\"none\" stroke=\"#c7e9b4\" stroke-width=\"2.1084\" d=\"M292.267,-206.632C279.554,-197.838 266.434,-189.152 253.718,-181.359 239.562,-172.683 224.304,-164.059 209.16,-155.903\"/>\r\n",
       "<polygon fill=\"#c7e9b4\" stroke=\"#c7e9b4\" stroke-width=\"2.1084\" points=\"210.736,-152.777 200.265,-151.158 207.441,-158.953 210.736,-152.777\"/>\r\n",
       "<text text-anchor=\"middle\" x=\"241.218\" y=\"-185.159\" font-family=\"Times New Roman,serif\" font-size=\"14.00\">0.02</text>\r\n",
       "</g>\r\n",
       "<!-- C.w.Feedback (78%) +\r\n",
       "Pause (5%) +\r\n",
       "Construct (15%)&#45;&gt;C.w.Feedback (78%) +\r\n",
       "Pause (5%) +\r\n",
       "Construct (15%) -->\r\n",
       "<g id=\"edge6\" class=\"edge\"><title>C.w.Feedback (78%) +\r\n",
       "Pause (5%) +\r\n",
       "Construct (15%)&#45;&gt;C.w.Feedback (78%) +\r\n",
       "Pause (5%) +\r\n",
       "Construct (15%)</title>\r\n",
       "<path fill=\"none\" stroke=\"#253494\" stroke-width=\"6.21301\" d=\"M355.634,-372.848C359.591,-384.886 366.739,-392.718 377.077,-392.718 384.346,-392.718 390.037,-388.846 394.152,-382.362\"/>\r\n",
       "<polygon fill=\"#253494\" stroke=\"#253494\" stroke-width=\"6.21301\" points=\"399.288,-384.204 398.52,-372.848 389.407,-379.668 399.288,-384.204\"/>\r\n",
       "<text text-anchor=\"middle\" x=\"377.077\" y=\"-396.518\" font-family=\"Times New Roman,serif\" font-size=\"14.00\">0.84</text>\r\n",
       "</g>\r\n",
       "<!-- C.w.Feedback (78%) +\r\n",
       "Pause (5%) +\r\n",
       "Construct (15%)&#45;&gt;Construct (99%) -->\r\n",
       "<g id=\"edge7\" class=\"edge\"><title>C.w.Feedback (78%) +\r\n",
       "Pause (5%) +\r\n",
       "Construct (15%)&#45;&gt;Construct (99%)</title>\r\n",
       "<path fill=\"none\" stroke=\"#c7e9b4\" stroke-width=\"2.24505\" d=\"M480.76,-289.77C545.565,-297.066 628.437,-295.635 690.426,-257.359 713.79,-242.933 732.233,-219.773 746.099,-196.679\"/>\r\n",
       "<polygon fill=\"#c7e9b4\" stroke=\"#c7e9b4\" stroke-width=\"2.24505\" points=\"749.227,-198.26 751.19,-187.849 743.163,-194.764 749.227,-198.26\"/>\r\n",
       "<text text-anchor=\"middle\" x=\"595.431\" y=\"-296.159\" font-family=\"Times New Roman,serif\" font-size=\"14.00\">0.05</text>\r\n",
       "</g>\r\n",
       "<!-- C.w.Feedback (78%) +\r\n",
       "Pause (5%) +\r\n",
       "Construct (15%)&#45;&gt;Test (96%) -->\r\n",
       "<g id=\"edge8\" class=\"edge\"><title>C.w.Feedback (78%) +\r\n",
       "Pause (5%) +\r\n",
       "Construct (15%)&#45;&gt;Test (96%)</title>\r\n",
       "<path fill=\"none\" stroke=\"#c7e9b4\" stroke-width=\"2.43355\" d=\"M472.503,-223.94C490.649,-213.783 509.079,-202.414 525.436,-190.359 534.65,-183.568 543.842,-175.581 552.372,-167.515\"/>\r\n",
       "<polygon fill=\"#c7e9b4\" stroke=\"#c7e9b4\" stroke-width=\"2.43355\" points=\"554.935,-169.905 559.682,-160.433 550.064,-164.878 554.935,-169.905\"/>\r\n",
       "<text text-anchor=\"middle\" x=\"512.936\" y=\"-210.159\" font-family=\"Times New Roman,serif\" font-size=\"14.00\">0.09</text>\r\n",
       "</g>\r\n",
       "<!-- Construct (99%)&#45;&gt;Test (12%) +\r\n",
       "C.w.Feedback (57%) +\r\n",
       "Pause (17%) +\r\n",
       "Extra (9%) -->\r\n",
       "<g id=\"edge9\" class=\"edge\"><title>Construct (99%)&#45;&gt;Test (12%) +\r\n",
       "C.w.Feedback (57%) +\r\n",
       "Pause (17%) +\r\n",
       "Extra (9%)</title>\r\n",
       "<path fill=\"none\" stroke=\"#c7e9b4\" stroke-width=\"2.60671\" d=\"M720.774,-81.556C710.827,-75.1694 700.462,-68.8681 690.426,-63.3589 624.634,-27.2409 600.31,-32.5509 525.436,-27.3589 412.746,-19.5447 382.083,-18.2867 271.718,-42.3589 251.985,-46.6629 231.482,-52.9111 211.906,-59.8211\"/>\r\n",
       "<polygon fill=\"#c7e9b4\" stroke=\"#c7e9b4\" stroke-width=\"2.60671\" points=\"210.595,-56.5732 202.377,-63.2608 212.972,-63.1573 210.595,-56.5732\"/>\r\n",
       "<text text-anchor=\"middle\" x=\"512.936\" y=\"-31.1589\" font-family=\"Times New Roman,serif\" font-size=\"14.00\">0.12</text>\r\n",
       "</g>\r\n",
       "<!-- Construct (99%)&#45;&gt;C.w.Feedback (78%) +\r\n",
       "Pause (5%) +\r\n",
       "Construct (15%) -->\r\n",
       "<g id=\"edge10\" class=\"edge\"><title>Construct (99%)&#45;&gt;C.w.Feedback (78%) +\r\n",
       "Pause (5%) +\r\n",
       "Construct (15%)</title>\r\n",
       "<path fill=\"none\" stroke=\"#c7e9b4\" stroke-width=\"2.12946\" d=\"M725.155,-168.729C702.489,-186.086 674.995,-204.46 647.426,-216.359 598.712,-237.385 541.427,-250.147 492.24,-257.856\"/>\r\n",
       "<polygon fill=\"#c7e9b4\" stroke=\"#c7e9b4\" stroke-width=\"2.12946\" points=\"491.557,-254.419 482.194,-259.378 492.606,-261.34 491.557,-254.419\"/>\r\n",
       "<text text-anchor=\"middle\" x=\"595.431\" y=\"-252.159\" font-family=\"Times New Roman,serif\" font-size=\"14.00\">0.03</text>\r\n",
       "</g>\r\n",
       "<!-- Construct (99%)&#45;&gt;Construct (99%) -->\r\n",
       "<g id=\"edge11\" class=\"edge\"><title>Construct (99%)&#45;&gt;Construct (99%)</title>\r\n",
       "<path fill=\"none\" stroke=\"#253494\" stroke-width=\"6.25138\" d=\"M762.416,-191.778C764.808,-203.636 770.643,-211.853 779.92,-211.853 786.298,-211.853 791.049,-207.969 794.173,-201.688\"/>\r\n",
       "<polygon fill=\"#253494\" stroke=\"#253494\" stroke-width=\"6.25138\" points=\"799.504,-202.984 797.424,-191.778 789.109,-199.575 799.504,-202.984\"/>\r\n",
       "<text text-anchor=\"middle\" x=\"779.92\" y=\"-215.653\" font-family=\"Times New Roman,serif\" font-size=\"14.00\">0.85</text>\r\n",
       "</g>\r\n",
       "<!-- Test (96%)&#45;&gt;Test (12%) +\r\n",
       "C.w.Feedback (57%) +\r\n",
       "Pause (17%) +\r\n",
       "Extra (9%) -->\r\n",
       "<g id=\"edge12\" class=\"edge\"><title>Test (96%)&#45;&gt;Test (12%) +\r\n",
       "C.w.Feedback (57%) +\r\n",
       "Pause (17%) +\r\n",
       "Extra (9%)</title>\r\n",
       "<path fill=\"none\" stroke=\"#c7e9b4\" stroke-width=\"2.34109\" d=\"M545.927,-106.397C526.427,-100.765 503.59,-95.1431 482.436,-92.3589 395.056,-80.8585 295.333,-85.089 220.542,-91.6645\"/>\r\n",
       "<polygon fill=\"#c7e9b4\" stroke=\"#c7e9b4\" stroke-width=\"2.34109\" points=\"219.8,-88.2173 210.158,-92.6065 220.433,-95.1887 219.8,-88.2173\"/>\r\n",
       "<text text-anchor=\"middle\" x=\"377.077\" y=\"-96.1589\" font-family=\"Times New Roman,serif\" font-size=\"14.00\">0.07</text>\r\n",
       "</g>\r\n",
       "<!-- Test (96%)&#45;&gt;C.w.Feedback (78%) +\r\n",
       "Pause (5%) +\r\n",
       "Construct (15%) -->\r\n",
       "<g id=\"edge13\" class=\"edge\"><title>Test (96%)&#45;&gt;C.w.Feedback (78%) +\r\n",
       "Pause (5%) +\r\n",
       "Construct (15%)</title>\r\n",
       "<path fill=\"none\" stroke=\"#c7e9b4\" stroke-width=\"2.07501\" d=\"M547.997,-144.3C532.504,-152.211 515.387,-161.607 500.436,-171.359 489.062,-178.777 477.475,-187.025 466.189,-195.499\"/>\r\n",
       "<polygon fill=\"#c7e9b4\" stroke=\"#c7e9b4\" stroke-width=\"2.07501\" points=\"463.874,-192.862 458.031,-201.7 468.11,-198.435 463.874,-192.862\"/>\r\n",
       "<text text-anchor=\"middle\" x=\"512.936\" y=\"-175.159\" font-family=\"Times New Roman,serif\" font-size=\"14.00\">0.02</text>\r\n",
       "</g>\r\n",
       "<!-- Test (96%)&#45;&gt;Construct (99%) -->\r\n",
       "<g id=\"edge14\" class=\"edge\"><title>Test (96%)&#45;&gt;Construct (99%)</title>\r\n",
       "<path fill=\"none\" stroke=\"#c7e9b4\" stroke-width=\"2.05381\" d=\"M647.75,-122.359C663.436,-122.359 681.084,-122.359 698.228,-122.359\"/>\r\n",
       "<polygon fill=\"#c7e9b4\" stroke=\"#c7e9b4\" stroke-width=\"2.05381\" points=\"698.245,-125.859 708.245,-122.359 698.245,-118.859 698.245,-125.859\"/>\r\n",
       "<text text-anchor=\"middle\" x=\"677.926\" y=\"-126.159\" font-family=\"Times New Roman,serif\" font-size=\"14.00\">0.01</text>\r\n",
       "</g>\r\n",
       "<!-- Test (96%)&#45;&gt;Test (96%) -->\r\n",
       "<g id=\"edge15\" class=\"edge\"><title>Test (96%)&#45;&gt;Test (96%)</title>\r\n",
       "<path fill=\"none\" stroke=\"#253494\" stroke-width=\"6.53009\" d=\"M580.395,-172.378C581.69,-183.895 586.703,-192.354 595.431,-192.354 601.432,-192.354 605.676,-188.356 608.164,-182.114\"/>\r\n",
       "<polygon fill=\"#253494\" stroke=\"#253494\" stroke-width=\"6.53009\" points=\"613.725,-183.425 610.467,-172.378 602.605,-180.794 613.725,-183.425\"/>\r\n",
       "<text text-anchor=\"middle\" x=\"595.431\" y=\"-196.154\" font-family=\"Times New Roman,serif\" font-size=\"14.00\">0.91</text>\r\n",
       "</g>\r\n",
       "</g>\r\n",
       "</svg>\r\n"
      ],
      "text/plain": [
       "<graphviz.dot.Digraph at 0xaeea198>"
      ]
     },
     "execution_count": 24,
     "metadata": {},
     "output_type": "execute_result"
    }
   ],
   "source": [
    "draw_states_graph(model_high)"
   ]
  },
  {
   "cell_type": "code",
   "execution_count": 25,
   "metadata": {
    "collapsed": false
   },
   "outputs": [
    {
     "ename": "TypeError",
     "evalue": "draw_states_graph() got an unexpected keyword argument 'save'",
     "output_type": "error",
     "traceback": [
      "\u001b[1;31m---------------------------------------------------------------------------\u001b[0m",
      "\u001b[1;31mTypeError\u001b[0m                                 Traceback (most recent call last)",
      "\u001b[1;32m<ipython-input-25-e3367c350cdb>\u001b[0m in \u001b[0;36m<module>\u001b[1;34m()\u001b[0m\n\u001b[1;32m----> 1\u001b[1;33m \u001b[0mdraw_states_graph\u001b[0m\u001b[1;33m(\u001b[0m\u001b[0mmodel_low\u001b[0m\u001b[1;33m,\u001b[0m \u001b[0msave\u001b[0m\u001b[1;33m=\u001b[0m\u001b[0mTrue\u001b[0m\u001b[1;33m)\u001b[0m\u001b[1;33m\u001b[0m\u001b[0m\n\u001b[0m",
      "\u001b[1;31mTypeError\u001b[0m: draw_states_graph() got an unexpected keyword argument 'save'"
     ]
    }
   ],
   "source": [
    "draw_states_graph(model_low, save=True)"
   ]
  },
  {
   "cell_type": "code",
   "execution_count": null,
   "metadata": {
    "collapsed": true
   },
   "outputs": [],
   "source": []
  },
  {
   "cell_type": "code",
   "execution_count": null,
   "metadata": {
    "collapsed": true
   },
   "outputs": [],
   "source": []
  },
  {
   "cell_type": "code",
   "execution_count": null,
   "metadata": {
    "collapsed": true
   },
   "outputs": [],
   "source": []
  },
  {
   "cell_type": "code",
   "execution_count": null,
   "metadata": {
    "collapsed": true
   },
   "outputs": [],
   "source": []
  }
 ],
 "metadata": {
  "anaconda-cloud": {},
  "kernelspec": {
   "display_name": "Python 2",
   "language": "python",
   "name": "python2"
  },
  "language_info": {
   "codemirror_mode": {
    "name": "ipython",
    "version": 2
   },
   "file_extension": ".py",
   "mimetype": "text/x-python",
   "name": "python",
   "nbconvert_exporter": "python",
   "pygments_lexer": "ipython2",
   "version": "2.7.12"
  }
 },
 "nbformat": 4,
 "nbformat_minor": 0
}
