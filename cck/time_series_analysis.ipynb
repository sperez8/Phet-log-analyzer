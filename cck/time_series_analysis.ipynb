{
 "cells": [
  {
   "cell_type": "code",
   "execution_count": 1,
   "metadata": {
    "collapsed": false
   },
   "outputs": [],
   "source": [
    "import matplotlib\n",
    "import matplotlib.pyplot as plt\n",
    "import plotly.plotly as py\n",
    "import numpy as np\n",
    "import pandas as pd\n",
    "import sys\n",
    "import getpass\n",
    "from functions import *\n",
    "np.set_printoptions(precision=2)\n",
    "pd.set_option('precision', 2)\n",
    "%matplotlib inline\n",
    "matplotlib.style.use('ggplot')"
   ]
  },
  {
   "cell_type": "code",
   "execution_count": 2,
   "metadata": {
    "collapsed": true
   },
   "outputs": [],
   "source": [
    "df = pd.read_csv('C:\\Users\\\\'+getpass.getuser()+'\\\\Google Drive\\Sarah Ido folder\\data\\CCK\\MATCHING_phet_cck_user_actions+sophistication_WITHPAUSE_anonymized.txt')\n",
    "df_scores = pd.read_csv('C:\\Users\\\\'+getpass.getuser()+'\\\\Google Drive\\Sarah Ido folder\\data\\CCK\\MATCHING_phet_cck_user_data_anonymized.txt')\n",
    "df[\"student\"] = df[\"student\"].astype('category')\n",
    "df_scores[\"student\"] = df_scores[\"student\"].astype('category')\n",
    "df[\"Family\"]=df[\"Family\"].str.capitalize()\n",
    "\n",
    "def remodel_families(row):\n",
    "    if row[\"Family\"] == \"Build\" or row[\"Family\"] == \"Revise\":  # or row[\"Family\"] == \"Extra\":\n",
    "        if row[\"Outcome\"] != \"None\":\n",
    "            return \"ConstructWithFeedback\"\n",
    "        else:\n",
    "            return \"Construct\"\n",
    "    else:\n",
    "        return row[\"Family\"]\n",
    "    \n",
    "df['Family'] = df.apply (lambda row: remodel_families (row),axis=1)"
   ]
  },
  {
   "cell_type": "code",
   "execution_count": 3,
   "metadata": {
    "collapsed": true
   },
   "outputs": [],
   "source": [
    "ACTIONS_TO_REMOVE = ['I','O','S']\n",
    "ACTIVITY = 'a2'\n",
    "events = [e for e in [\"T\",\"S\",\"O\",\"F\",\"P\",\"I\",\"E\",\"X\",\"C\",] if e not in ACTIONS_TO_REMOVE]"
   ]
  },
  {
   "cell_type": "code",
   "execution_count": 4,
   "metadata": {
    "collapsed": false
   },
   "outputs": [],
   "source": [
    "blocks_scaff = get_blocks(df[df.Activity==ACTIVITY],get_students(\"scaffolding\",\"scaff\"),add_spaces=False, ignore = ACTIONS_TO_REMOVE, start = False)\n",
    "blocks_not = get_blocks(df[df.Activity==ACTIVITY],get_students(\"scaffolding\",\"not\"),add_spaces=False, ignore = ACTIONS_TO_REMOVE, start = False)"
   ]
  },
  {
   "cell_type": "code",
   "execution_count": 5,
   "metadata": {
    "collapsed": false
   },
   "outputs": [],
   "source": [
    "def get_proportions(seq,n,action):\n",
    "    counts = [0 for x in range(n)]\n",
    "    totals = [0 for x in range(n)]\n",
    "    length = len(seq)\n",
    "    inc = round(float(length)/float(n),0)\n",
    "#     print length, n, inc\n",
    "    j = 0\n",
    "    percentile = inc\n",
    "    for i,a in enumerate(seq):\n",
    "        if i==percentile:\n",
    "            percentile += inc\n",
    "            if j+1 < len(totals):\n",
    "                j += 1\n",
    "        if a == action:\n",
    "            counts[j]+=1.0\n",
    "        totals[j]+=1.0\n",
    "#         print totals,counts, a, i, j ,percentile\n",
    "    if counts[-1]==0 and totals[-1]==0:\n",
    "        counts.pop(-1)\n",
    "        totals.pop(-1)\n",
    "    return [round(c/t,3) for c,t in zip(counts,totals)]\n",
    "\n",
    "def convert_blocks(blocks,n,action):\n",
    "    proportions = {}\n",
    "    for student, block in blocks.iteritems():\n",
    "        proportions[student] = get_proportions(block,n,action)\n",
    "    return proportions"
   ]
  },
  {
   "cell_type": "code",
   "execution_count": 44,
   "metadata": {
    "collapsed": false
   },
   "outputs": [
    {
     "name": "stdout",
     "output_type": "stream",
     "text": [
      "set([7])\n"
     ]
    }
   ],
   "source": [
    "N=7 #len('CFCTFTFTPCFTPTPT')-1\n",
    "action='T'\n",
    "prop_scaff = convert_blocks(blocks_scaff,N,action)\n",
    "prop_not = convert_blocks(blocks_not,N,action)\n",
    "print set([len(v) for v in prop_not.values()])"
   ]
  },
  {
   "cell_type": "code",
   "execution_count": 45,
   "metadata": {
    "collapsed": false
   },
   "outputs": [
    {
     "data": {
      "text/plain": [
       "(array([ 0.22,  0.23,  0.23,  0.23,  0.23,  0.2 ,  0.21]),\n",
       " array([ 0.27,  0.29,  0.29,  0.29,  0.25,  0.2 ,  0.22]))"
      ]
     },
     "execution_count": 45,
     "metadata": {},
     "output_type": "execute_result"
    }
   ],
   "source": [
    "stream_scaff = np.median(np.array(prop_scaff.values()), axis=0)\n",
    "stream_not = np.median(np.array(prop_not.values()), axis=0)\n",
    "stream_not,stream_scaff"
   ]
  },
  {
   "cell_type": "code",
   "execution_count": 46,
   "metadata": {
    "collapsed": false
   },
   "outputs": [
    {
     "data": {
      "text/plain": [
       "(0, 0.4671650572791643)"
      ]
     },
     "execution_count": 46,
     "metadata": {},
     "output_type": "execute_result"
    },
    {
     "data": {
      "image/png": "[encoded data removed]",
      "text/plain": [
       "<matplotlib.figure.Figure at 0x11bd2be0>"
      ]
     },
     "metadata": {},
     "output_type": "display_data"
    }
   ],
   "source": [
    "# Learn about API authentication here: https://plot.ly/python/getting-started\n",
    "# Find your api_key here: `https://plot.ly/settings/api\n",
    "\n",
    "# create our stacked data manually\n",
    "y0 = stream_not #red\n",
    "y1 = stream_scaff # blue\n",
    "y10 = np.mean(np.array(prop_scaff.values()), axis=0) + np.std(np.array(prop_scaff.values()), axis=0)\n",
    "y11 = np.mean(np.array(prop_scaff.values()), axis=0) - np.std(np.array(prop_scaff.values()), axis=0)\n",
    "y00 = np.mean(np.array(prop_not.values()), axis=0) + np.std(np.array(prop_not.values()), axis=0)\n",
    "y01 = np.mean(np.array(prop_not.values()), axis=0) - np.std(np.array(prop_not.values()), axis=0)\n",
    "\n",
    "# make the mpl plot (no fill yet)\n",
    "fig, ax = plt.subplots()\n",
    "ax.plot(y0, label='y0')\n",
    "ax.plot(y1, label='y1')\n",
    "ax.plot(y10, label='y1',linestyle='--',color='red')\n",
    "ax.plot(y11, label='y1',linestyle='--',color='red')\n",
    "ax.plot(y00, label='y1',linestyle='--',color='blue')\n",
    "ax.plot(y01, label='y1',linestyle='--',color='blue')\n",
    "plt.xlim(0,len(y1))\n",
    "plt.ylim(0,np.max(y10)+0.05)"
   ]
  },
  {
   "cell_type": "code",
   "execution_count": null,
   "metadata": {
    "collapsed": true
   },
   "outputs": [],
   "source": []
  },
  {
   "cell_type": "code",
   "execution_count": null,
   "metadata": {
    "collapsed": true
   },
   "outputs": [],
   "source": []
  }
 ],
 "metadata": {
  "anaconda-cloud": {},
  "kernelspec": {
   "display_name": "Python [Root]",
   "language": "python",
   "name": "Python [Root]"
  },
  "language_info": {
   "codemirror_mode": {
    "name": "ipython",
    "version": 2
   },
   "file_extension": ".py",
   "mimetype": "text/x-python",
   "name": "python",
   "nbconvert_exporter": "python",
   "pygments_lexer": "ipython2",
   "version": "2.7.12"
  }
 },
 "nbformat": 4,
 "nbformat_minor": 0
}
