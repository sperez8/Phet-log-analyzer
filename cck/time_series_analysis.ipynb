{
 "cells": [
  {
   "cell_type": "code",
   "execution_count": 5,
   "metadata": {
    "collapsed": false
   },
   "outputs": [],
   "source": [
    "import matplotlib\n",
    "import matplotlib.pyplot as plt\n",
    "import plotly.plotly as py\n",
    "import numpy as np\n",
    "import pandas as pd\n",
    "import sys\n",
    "import getpass\n",
    "from functions import *\n",
    "np.set_printoptions(precision=2)\n",
    "pd.set_option('precision', 2)\n",
    "%matplotlib inline\n",
    "matplotlib.style.use('ggplot')"
   ]
  },
  {
   "cell_type": "code",
   "execution_count": 15,
   "metadata": {
    "collapsed": true
   },
   "outputs": [],
   "source": [
    "df = pd.read_csv('C:\\Users\\\\'+getpass.getuser()+'\\\\Google Drive\\Sarah Ido folder\\data\\CCK\\MATCHING_phet_cck_user_actions+sophistication_WITHPAUSE_anonymized.txt')\n",
    "df_scores = pd.read_csv('C:\\Users\\\\'+getpass.getuser()+'\\\\Google Drive\\Sarah Ido folder\\data\\CCK\\MATCHING_phet_cck_user_data_anonymized.txt')\n",
    "df[\"student\"] = df[\"student\"].astype('category')\n",
    "df_scores[\"student\"] = df_scores[\"student\"].astype('category')\n",
    "df[\"Family\"]=df[\"Family\"].str.capitalize()\n",
    "\n",
    "def remodel_families(row):\n",
    "    if row[\"Family\"] == \"Build\" or row[\"Family\"] == \"Revise\":  # or row[\"Family\"] == \"Extra\":\n",
    "        if row[\"Outcome\"] != \"None\":\n",
    "            return \"ConstructWithFeedback\"\n",
    "        else:\n",
    "            return \"Construct\"\n",
    "    else:\n",
    "        return row[\"Family\"]\n",
    "    \n",
    "df['Family'] = df.apply (lambda row: remodel_families (row),axis=1)"
   ]
  },
  {
   "cell_type": "code",
   "execution_count": 89,
   "metadata": {
    "collapsed": true
   },
   "outputs": [],
   "source": [
    "ACTIONS_TO_REMOVE = ['I','O','S']\n",
    "ACTIVITY = 'a2'\n",
    "events = [e for e in [\"T\",\"S\",\"O\",\"F\",\"P\",\"I\",\"E\",\"X\",\"C\",] if e not in ACTIONS_TO_REMOVE]"
   ]
  },
  {
   "cell_type": "code",
   "execution_count": 21,
   "metadata": {
    "collapsed": false
   },
   "outputs": [],
   "source": [
    "blocks_scaff = get_blocks(df[df.Activity==ACTIVITY],get_students(\"scaffolding\",\"scaff\"),add_spaces=False, ignore = ACTIONS_TO_REMOVE, start = False)\n",
    "blocks_not = get_blocks(df[df.Activity==ACTIVITY],get_students(\"scaffolding\",\"not\"),add_spaces=False, ignore = ACTIONS_TO_REMOVE, start = False)"
   ]
  },
  {
   "cell_type": "code",
   "execution_count": 145,
   "metadata": {
    "collapsed": false
   },
   "outputs": [],
   "source": [
    "def get_proportions(seq,n,action):\n",
    "    counts = [0 for x in range(n)]\n",
    "    totals = [0 for x in range(n)]\n",
    "    length = len(seq)\n",
    "    inc = round(float(length)/float(n),0)\n",
    "#     print length, n, inc\n",
    "    j = 0\n",
    "    percentile = inc\n",
    "    for i,a in enumerate(seq):\n",
    "        if i==percentile:\n",
    "            percentile += inc\n",
    "            if j+1 < len(totals):\n",
    "                j += 1\n",
    "        if a == action:\n",
    "            counts[j]+=1.0\n",
    "        totals[j]+=1.0\n",
    "#         print totals,counts, a, i, j ,percentile\n",
    "    if counts[-1]==0 and totals[-1]==0:\n",
    "        counts.pop(-1)\n",
    "        totals.pop(-1)\n",
    "    return [round(c/t,3) for c,t in zip(counts,totals)]\n",
    "\n",
    "def convert_blocks(blocks,n,action):\n",
    "    proportions = {}\n",
    "    for student, block in blocks.iteritems():\n",
    "        proportions[student] = get_proportions(block,n,action)\n",
    "    return proportions"
   ]
  },
  {
   "cell_type": "code",
   "execution_count": 146,
   "metadata": {
    "collapsed": false
   },
   "outputs": [
    {
     "data": {
      "text/plain": [
       "{3932129: [0.071, 0.286, 0.143, 0.143, 0.143, 0.143, 0.273],\n",
       " 4936123: [0.095, 0.095, 0.143, 0.0, 0.048, 0.095, 0.182],\n",
       " 8775127: [0.167, 0.167, 0.25, 0.333, 0.167, 0.083, 0.267],\n",
       " 10009106: [0.125, 0.0, 0.25, 0.125, 0.5, 0.125, 0.25],\n",
       " 10942128: [0.125, 0.0, 0.125, 0.0, 0.125, 0.375, 0.167],\n",
       " 12235124: [0.263, 0.211, 0.158, 0.211, 0.158, 0.105, 0.0],\n",
       " 13679110: [0.105, 0.158, 0.0, 0.0, 0.158, 0.158, 0.25],\n",
       " 14769115: [0.154, 0.077, 0.231, 0.154, 0.154, 0.077, 0.313],\n",
       " 15616121: [0.375, 0.375, 0.125, 0.125, 0.0, 0.25, 0.125],\n",
       " 17580122: [0.5, 0.0, 0.0, 0.0, 0.5, 0.0, 0.0],\n",
       " 18088102: [0.214, 0.143, 0.214, 0.214, 0.143, 0.071, 0.154],\n",
       " 19930112: [0.3, 0.3, 0.2, 0.2, 0.2, 0.4, 0.125],\n",
       " 20717120: [0.235, 0.059, 0.0, 0.0, 0.059, 0.059, 0.286],\n",
       " 23112113: [0.091, 0.273, 0.091, 0.091, 0.182, 0.273, 0.222],\n",
       " 24387118: [0.222, 0.111, 0.333, 0.222, 0.333, 0.222, 0.273],\n",
       " 26225080: [0.0, 0.091, 0.182, 0.182, 0.182, 0.364, 0.0],\n",
       " 28098102: [0.286, 0.143, 0.0, 0.286, 0.143, 0.143, 0.143],\n",
       " 28582129: [0.0, 0.154, 0.154, 0.231, 0.231, 0.077, 0.067],\n",
       " 31091114: [0.2, 0.3, 0.2, 0.3, 0.1, 0.0, 0.286],\n",
       " 37987123: [0.091, 0.091, 0.182, 0.364, 0.182, 0.091, 0.2],\n",
       " 42822113: [0.357, 0.143, 0.143, 0.214, 0.214, 0.071, 0.118],\n",
       " 43999105: [0.231, 0.231, 0.231, 0.154, 0.154, 0.077, 0.077],\n",
       " 44827119: [0.222, 0.222, 0.222, 0.0, 0.333, 0.111, 0.333],\n",
       " 51876107: [0.1, 0.3, 0.3, 0.4, 0.4, 0.1, 0.182],\n",
       " 52041105: [0.125, 0.125, 0.25, 0.25, 0.25, 0.125, 0.0],\n",
       " 55188124: [0.0, 0.0, 0.0, 0.143, 0.143, 0.429, 0.167],\n",
       " 57521121: [0.0, 0.2, 0.2, 0.1, 0.1, 0.2, 0.25],\n",
       " 60076128: [0.154, 0.231, 0.154, 0.077, 0.077, 0.231, 0.188],\n",
       " 62898116: [0.1, 0.25, 0.15, 0.05, 0.05, 0.05, 0.0],\n",
       " 64944126: [0.222, 0.222, 0.222, 0.222, 0.333, 0.222, 0.125],\n",
       " 66362122: [0.286, 0.048, 0.143, 0.095, 0.095, 0.095, 0.0],\n",
       " 66472128: [0.111, 0.222, 0.222, 0.222, 0.222, 0.0, 0.2],\n",
       " 66828119: [0.1, 0.133, 0.0, 0.0, 0.0, 0.033, 0.0],\n",
       " 67755125: [0.286, 0.143, 0.286, 0.143, 0.143, 0.286, 0.167],\n",
       " 67899116: [0.118, 0.0, 0.294, 0.059, 0.0, 0.176, 0.167],\n",
       " 68995094: [0.2, 0.4, 0.0, 0.2, 0.0, 0.6, 0.125],\n",
       " 77882125: [0.3, 0.0, 0.0, 0.2, 0.1, 0.0, 0.3],\n",
       " 82224125: [0.067, 0.067, 0.333, 0.133, 0.267, 0.4, 0.071],\n",
       " 82243121: [0.111, 0.056, 0.056, 0.167, 0.167, 0.056, 0.211],\n",
       " 82616120: [0.25, 0.125, 0.125, 0.25, 0.125, 0.25, 0.182],\n",
       " 82920121: [0.214, 0.071, 0.357, 0.357, 0.143, 0.143, 0.182],\n",
       " 83841128: [0.286, 0.143, 0.286, 0.286, 0.143, 0.0, 0.0],\n",
       " 85458129: [0.267, 0.267, 0.067, 0.133, 0.267, 0.2, 0.0],\n",
       " 86170104: [0.143, 0.143, 0.0, 0.143, 0.429, 0.429, 0.143],\n",
       " 87612126: [0.0, 0.154, 0.231, 0.154, 0.077, 0.154, 0.154],\n",
       " 88156121: [0.214, 0.0, 0.143, 0.071, 0.286, 0.071, 0.357],\n",
       " 94186123: [0.0, 0.3, 0.3, 0.1, 0.1, 0.0, 0.143],\n",
       " 96314111: [0.231, 0.231, 0.308, 0.154, 0.308, 0.231, 0.2]}"
      ]
     },
     "execution_count": 146,
     "metadata": {},
     "output_type": "execute_result"
    }
   ],
   "source": [
    "N=7 #len('CFCTFTFTPCFTPTPT')-1\n",
    "action='P'\n",
    "prop_scaff = convert_blocks(blocks_scaff,N,action)\n",
    "prop_not = convert_blocks(blocks_not,N,action)\n",
    "prop_not"
   ]
  },
  {
   "cell_type": "code",
   "execution_count": 147,
   "metadata": {
    "collapsed": false
   },
   "outputs": [
    {
     "data": {
      "text/plain": [
       "(array([ 0.16,  0.14,  0.17,  0.15,  0.15,  0.12,  0.17]),\n",
       " array([ 0.15,  0.17,  0.16,  0.13,  0.14,  0.17,  0.17]))"
      ]
     },
     "execution_count": 147,
     "metadata": {},
     "output_type": "execute_result"
    }
   ],
   "source": [
    "stream_scaff = np.median(np.array(prop_scaff.values()), axis=0)\n",
    "stream_not = np.median(np.array(prop_not.values()), axis=0)\n",
    "stream_not,stream_scaff"
   ]
  },
  {
   "cell_type": "code",
   "execution_count": 155,
   "metadata": {
    "collapsed": false
   },
   "outputs": [
    {
     "data": {
      "image/png": "[encoded data removed]",
      "text/plain": [
       "<matplotlib.figure.Figure at 0x1121a1d0>"
      ]
     },
     "metadata": {},
     "output_type": "display_data"
    }
   ],
   "source": [
    "# Learn about API authentication here: https://plot.ly/python/getting-started\n",
    "# Find your api_key here: `https://plot.ly/settings/api\n",
    "\n",
    "# create our stacked data manually\n",
    "y0 = stream_not\n",
    "y1 = y0 + stream_scaff\n",
    "capacity = 3*np.ones(100)\n",
    "\n",
    "# make the mpl plot (no fill yet)\n",
    "fig, ax = plt.subplots()\n",
    "ax.plot(y0, label='y0')\n",
    "ax.plot(y1, label='y1')\n",
    "ax.plot(capacity, label='capacity')\n",
    "plt.xlim(0,len(y1))\n",
    "plt.ylim(0,np.max(y1))\n",
    "# set all traces' \"fill\" so that it fills to the next 'y' trace\n",
    "update = {'data':[{'fill': 'tonexty'}]}\n",
    "\n",
    "# strip style just lets Plotly make the styling choices (e.g., colors)\n",
    "# py.plot(fig, update=update, strip_style=True)"
   ]
  },
  {
   "cell_type": "code",
   "execution_count": null,
   "metadata": {
    "collapsed": true
   },
   "outputs": [],
   "source": []
  }
 ],
 "metadata": {
  "anaconda-cloud": {},
  "kernelspec": {
   "display_name": "Python [Root]",
   "language": "python",
   "name": "Python [Root]"
  },
  "language_info": {
   "codemirror_mode": {
    "name": "ipython",
    "version": 2
   },
   "file_extension": ".py",
   "mimetype": "text/x-python",
   "name": "python",
   "nbconvert_exporter": "python",
   "pygments_lexer": "ipython2",
   "version": "2.7.12"
  }
 },
 "nbformat": 4,
 "nbformat_minor": 0
}
