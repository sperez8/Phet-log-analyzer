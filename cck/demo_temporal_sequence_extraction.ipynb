{
 "cells": [
  {
   "cell_type": "code",
   "execution_count": 1,
   "metadata": {
    "collapsed": false
   },
   "outputs": [],
   "source": [
    "import numpy as np\n",
    "import pandas as pd\n",
    "import sys\n",
    "import re\n",
    "from functions import *\n",
    "from collections import Counter\n",
    "np.set_printoptions(precision=2)\n",
    "pd.set_option('precision', 2)\n",
    "%matplotlib inline\n",
    "matplotlib.style.use('ggplot')"
   ]
  },
  {
   "cell_type": "markdown",
   "metadata": {},
   "source": [
    "### NOTICE: The functions demoed in this notebook are now stored in mining_functions.py and may be outdates here"
   ]
  },
  {
   "cell_type": "code",
   "execution_count": 2,
   "metadata": {
    "collapsed": false
   },
   "outputs": [],
   "source": [
    "PATH = '/Google Drive/Jonathan Sarah Ido folder/data/CCK/'\n",
    "def get_path(path = PATH):\n",
    "    if os.name == 'posix':\n",
    "        return os.environ['HOME']+path #'/Google Drive/Jonathan Sarah Ido folder/data/CCK/'\n",
    "    elif os.name == 'nt':\n",
    "        return os.environ['USERPROFILE']+ path.replace('/','\\\\') #'\\\\Google Drive\\Jonathan Sarah Ido folder\\data\\CCK\\\\'\n",
    "    else:\n",
    "        raise Exception('OS not recongnized. I\\'m confused.')\n",
    "gitpath = '/Documents/git/Phet-log-analyzer/cck/raw_data_parsing_check/'\n",
    "df = pd.read_csv(get_path(path = gitpath) + 'phet_cck_user_actions+sophistication_WITHPAUSE_more_circuit_info.txt',index_col=False)\n",
    "# dfx = pd.read_csv('C:\\Users\\Sarah\\Documents\\git\\Phet-log-analyzer\\cck\\\\raw_data_parsing_check\\phet_cck_user_actions+sophistication_WITHPAUSE_more_circuit_info.txt',index_col=False)\n",
    "df[\"student\"] = df[\"student\"].astype('category')\n",
    "df[\"Family\"]=df[\"Family\"].str.capitalize()\n",
    "\n",
    "df_scores = pd.read_csv(data_path + 'MATCHING_phet_cck_user_data_anonymized.txt')\n",
    "df_scores[\"student\"] = df_scores[\"student\"].astype('category')"
   ]
  },
  {
   "cell_type": "markdown",
   "metadata": {
    "collapsed": true
   },
   "source": [
    "## Functions we use to get sequences "
   ]
  },
  {
   "cell_type": "code",
   "execution_count": 3,
   "metadata": {
    "collapsed": false
   },
   "outputs": [],
   "source": [
    "\n",
    "converter =  {\"Construct\" : \"C\",\n",
    "\"Interface\" : \"I\",\n",
    "\"Pause\" : \"P\",\n",
    "\"Test_basic\" : \"Tb\",\n",
    "\"Test_basic_default\" : \"Tbd\",\n",
    "\"Test_basic_nonContactAmmeter\" : \"Tba\",\n",
    "\"Test_basic_nonContactAmmeter_default\" : \"Tbad\",\n",
    "\"Test_basic_nonContactAmmeter_not\" : \"Tban\",\n",
    "\"Test_basic_not\" : \"Tbn\",\n",
    "\"Test_basic_voltmeter\" : \"Tbv\",\n",
    "\"Test_basic_voltmeter_default\" : \"Tbvd\",\n",
    "\"Test_basic_voltmeter_not\" : \"Tbvn\",\n",
    "\"Test_complex\" : \"Tc\",\n",
    "\"Test_complex_default\" : \"Tcd\",\n",
    "\"Test_complex_nonContactAmmeter\" : \"Tca\",\n",
    "\"Test_complex_nonContactAmmeter_default\" : \"Tcad\",\n",
    "\"Test_complex_nonContactAmmeter_not\" : \"Tcan\",\n",
    "\"Test_complex_not\" : \"Tcn\",\n",
    "\"Test_complex_seriesAmmeter\" : \"Tc\",\n",
    "\"Test_complex_seriesAmmeter_default\" : \"Tcd\",\n",
    "\"Test_complex_seriesAmmeter_not\" : \"Tcn\",\n",
    "\"Test_complex_voltmeter\" : \"Tcv\",\n",
    "\"Test_complex_voltmeter_default\" : \"Tcvd\",\n",
    "\"Test_complex_voltmeter_not\" : \"Tcvn\",\n",
    "\"Test_other\" : \"To\",\n",
    "\"Test_other_default\" : \"Tod\",\n",
    "\"Test_other_nonContactAmmeter\" : \"Toa\",\n",
    "\"Test_other_nonContactAmmeter_default\" : \"Toad\",\n",
    "\"Test_other_nonContactAmmeter_not\" : \"Toan\",\n",
    "\"Test_other_not\" : \"Ton\",\n",
    "\"Test_other_voltmeter_not\" : \"Tovn\",\n",
    "\"Test_other_voltmeter\" : \"Tov\",\n",
    "\"Test_other_voltmeter_default\" : \"Tovd\",\n",
    "\"Test_simple\" : \"Ts\",\n",
    "\"Test_simple_default\" : \"Tsd\",\n",
    "\"Test_simple_nonContactAmmeter\" : \"Tsa\",\n",
    "\"Test_simple_nonContactAmmeter_default\" : \"Tsad\",\n",
    "\"Test_simple_nonContactAmmeter_not\" : \"Tsan\",\n",
    "\"Test_simple_not\" : \"Tsn\",\n",
    "\"Test_simple_voltmeter\" : \"Tsv\",\n",
    "\"Test_simple_voltmeter_default\" : \"Tsvd\",\n",
    "\"Test_simple_voltmeter_not\" : \"Tsvn\",\n",
    "    }\n",
    "\n",
    "\n",
    "\n",
    "def get_blocks_withTime_new(df, students, as_list = True, ignore = [], start = False):\n",
    "    '''gets blocks of sequences for a list of students\n",
    "    From the column \"Family\" in the dataframe, each action family is converted to a string in\n",
    "    the format with at least one capitalized character: 'C', or 'Cccc'.\n",
    "    To facilitate sequence mining. The sequence is exported as a list:\n",
    "    ['Ta', 'C','Tb',.....].\n",
    "    \n",
    "    Arguments:\n",
    "        students: list with student ids to generate blocks for\n",
    "        as_list: by default true. returns sequences as a list of strings instead of a single string\n",
    "        ignore: list of actions to ignore\n",
    "        start: if we want a start action to find the first sequence of action of every student   \n",
    "    \n",
    "    returns:\n",
    "     blocks = {student_1_id: ['Ta', 'C','Tb',.....], student_2_id: [...]}    \n",
    "     time_coords = {student_1_id: [(start_of_action_1, duration), (start_of_action_2, duration),...], student_2_id: [...]}    \n",
    "    '''\n",
    "    def convert(action,ignore):\n",
    "        return converter[action]\n",
    "    \n",
    "    if start:\n",
    "        blocks = {student:'S' for student in students}\n",
    "    else:\n",
    "        blocks = {student:'' for student in students}\n",
    "\n",
    "    time_coords = {student:[] for student in students}\n",
    "    for student in students:\n",
    "        sequence =  list(df[df['student']==student]['Family'])\n",
    "        time_stamps =  list(df[df['student']==student]['Time Stamp'])\n",
    "        time_stamps = (time_stamps - min(time_stamps))/1000.  #human readable seconds\n",
    "        time_coord=[]  #coordinate array for broken bar plot, takes array of (start time, duration)\n",
    "        p = re.compile(r'([A-Z][a-z]{0,3})\\1*')  #this regex finds all action blocks of length 1+\n",
    "        #print ''.join([convert(action,ignore) for action in sequence])\n",
    "        #print time_stamps\n",
    "        #use finditer to return a sequence of matches as an iterator\n",
    "        previous_start = 0\n",
    "        for match in p.finditer(''.join([convert(action,ignore) for action in sequence])):\n",
    "            ind = match.span()  #this gives start and end of matched block\n",
    "            #for matches of action denoted by more than 1 letter, need to correct the span\n",
    "            ind = (previous_start, previous_start + (ind[1]-ind[0])/len(set(match.group())))\n",
    "            previous_start = ind[1]\n",
    "            #print match.group(), ind\n",
    "            if ind[1] >= len(time_stamps):  #block location offset from real index by 1\n",
    "                duration = time_stamps[ind[1]-1] - time_stamps[ind[0]]  #time duration of block\n",
    "                #print time_stamps[ind[1]-1], time_stamps[ind[0]]  #time duration of block\n",
    "            else:\n",
    "                duration = time_stamps[ind[1]] - time_stamps[ind[0]]\n",
    "                #print time_stamps[ind[1]] , time_stamps[ind[0]]\n",
    "            time_coord.append((time_stamps[ind[0]],duration))\n",
    "            #print match.group(), match.span(), duration\n",
    "        #actual regex that converts block of similar actions to just one action\n",
    "        block = re.sub(r'([A-Z][a-z]{0,3})\\1+', r'\\1',''.join([convert(action,ignore) for action in sequence]))\n",
    "        if as_list:            \n",
    "            list_block = block[0] + ''.join([' ' + c if c.isupper() else c for c in block[1:]])\n",
    "            blocks[student] = list_block.split(' ')\n",
    "            time_coords[student] = time_coord\n",
    "        else:\n",
    "            blocks[student] += block\n",
    "            time_coords[student] = time_coord\n",
    "    return blocks, time_coords\n",
    "\n",
    "def get_frequencies(blocks, shortest=3, longest=11):\n",
    "    '''For each student, given a range of sequence legnths, count how many times students perform each sequence\n",
    "    Arguments:\n",
    "        blocks: blocked sequences for each student\n",
    "        shortest: length of shortest possible mined sequence\n",
    "        longest: length of longest possible mined sequence\n",
    "        \n",
    "    returns:\n",
    "        frequencies: {student1: Counter{'TPT':3, 'CPT':5...}, ...}\n",
    "    '''\n",
    "    frequencies = {student:Counter() for student in blocks.keys()}\n",
    "    for student,sequence in blocks.iteritems():\n",
    "        for seq_length in range(shortest, longest+1):  # loops through different possible sequence lengths\n",
    "            frequencies[student] += Counter(''.join(sequence[i:i+seq_length]) for i in range(len(sequence)-seq_length+1))  # counts string matches for every string of the current length\n",
    "    return frequencies\n",
    "\n",
    "def get_bins_per_student(students,time_coords, B):\n",
    "    ''' For each student, given a certain number of time bins, we find the index of the action that starts each bin.\n",
    "    \n",
    "    Arguments:\n",
    "        students: list with student ids to generate bins for\n",
    "        B: the number of time bins (typically 5)\n",
    "        \n",
    "    returns:\n",
    "        action_bins = {student_1_id: [ (0,index_action_2nd_bin) , (index_action_2nd_bin,index_action_3rd_bin),... ]}    \n",
    "    '''\n",
    "    action_bins = {}\n",
    "    for student in students:\n",
    "        action_indices = [None for i in range(1,B)]\n",
    "        total_time = sum(time_coords[student][-1])\n",
    "        time_of_bins = [total_time*i/B for i in range(1,B)]\n",
    "        for i,(t,duration) in enumerate(time_coords[student]):\n",
    "            for j,b in enumerate(time_of_bins):\n",
    "                if t <= b:\n",
    "                    action_indices[j] = i+1\n",
    "        action_indices.append(len(time_coords[student])) #add last index\n",
    "        action_indices.insert(0,0)\n",
    "        #Transform bins in tuples of ranges\n",
    "        action_bins[student] = [(action_indices[i],action_indices[i+1]) for i in range(0,B)]\n",
    "\n",
    "    return action_bins\n",
    "\n",
    "def get_frequencies_by_bin(blocks, students, time_coords, B,shortest=3, longest=11):\n",
    "    '''\n",
    "    Given blocks of actions and a range of sequence lengths, we can find the frequency of sequence\n",
    "    use within each bin.\n",
    "    \n",
    "    Arguments:\n",
    "        blocks: blocked sequences for each student\n",
    "        action_bins\n",
    "        shortest: length of shortest possible mined sequence\n",
    "        longest: length of longest possible mined sequence\n",
    "        \n",
    "    returns:\n",
    "        frequencies = {student: [list of Counters for each bin]}\n",
    "                    = {student1: [ Counter{'TPT':3, 'CPT':5...}, Counter{},... ],  ...}\n",
    "    '''\n",
    "    action_bins = get_bins_per_student(students, time_coords,B)\n",
    "    frequencies = {student:[Counter() for i in range(B)] for student in blocks.keys()}        \n",
    "    for student,sequence in blocks.iteritems():\n",
    "        for seq_length in range(shortest, longest+1):  # loops through different possible sequence lengths\n",
    "            for j,(start_action,end_action) in enumerate(action_bins[student]): \n",
    "                #since we want to find sequence THAT START in bin, we remove the parts of the sequence that fall in previous bins\n",
    "                portion_of_sequence = sequence[start_action:end_action]\n",
    "                frequencies[student][j] += Counter(''.join(portion_of_sequence[i:i+seq_length]) for i in range(len(portion_of_sequence)-seq_length+1))  # counts string matches for every string of the current length\n",
    "    return frequencies\n",
    "\n",
    "def count_use_per_group_per_bin(allfrequencies, frequencies_by_bin, B, attribute, level1, level2):\n",
    "    '''\n",
    "    '''\n",
    "    sequences = allfrequencies.keys()\n",
    "    counts = {seq : np.zeros((2,B)) for seq in sequences} #initialize empty array for each sequence\n",
    "    \n",
    "    student_group_1 = get_students(attribute, level1)\n",
    "    student_group_2 = get_students(attribute, level2)\n",
    "    \n",
    "    for student,f_by_bin in frequencies_by_bin.iteritems():\n",
    "        for b,counter in enumerate(f_by_bin): \n",
    "            for seq in counter: \n",
    "                if seq in sequences:\n",
    "                    if student in student_group_1: \n",
    "                        group = 0\n",
    "                    elif student in student_group_2: \n",
    "                        group = 1\n",
    "                    else:\n",
    "                        raise Exception(\"Student not found in groups:{0}\".format(stdeunt))\n",
    "                    counts[seq][group][b] += 1\n",
    "    return counts\n",
    "\n",
    "def get_sequence_use_by_timebin(df,students, B, attribute, level1, level2, shortest_seq_length, longest_seq_length, N):\n",
    "    '''\n",
    "    '''\n",
    "    \n",
    "    print \"\"\"Getting sequence use over {3} time bins for {0} students split by {1}. \n",
    "            Keeping only sequences used once by at least {2} students.\"\"\".format(len(students),attribute,N,B)\n",
    "    blocks, time_coords =  get_blocks_withTime_new(df,students,start=False)\n",
    "    frequencies = get_frequencies(blocks, shortest = shortest_seq_length, longest = longest_seq_length)\n",
    "    frequencies_by_bin = get_frequencies_by_bin(blocks, students, time_coords, B, shortest = shortest_seq_length, longest = longest_seq_length)\n",
    "    counts_frequencies = Counter({f:sum([ 1 if f in freq else 0 for freq in frequencies.values()]) for f in list(sum(frequencies.values(),Counter()))})\n",
    "    cleaned_frequencies = remove_rare_frequencies(counts_frequencies, N)\n",
    "    counts = count_use_per_group_per_bin(cleaned_frequencies, frequencies_by_bin, B, attribute, level1, level2)\n",
    "    return counts"
   ]
  },
  {
   "cell_type": "markdown",
   "metadata": {},
   "source": [
    "### For a particular set of students, we find their sequences of actions (in block format) and find the time coordinate and duration of each action"
   ]
  },
  {
   "cell_type": "code",
   "execution_count": 4,
   "metadata": {
    "collapsed": false
   },
   "outputs": [
    {
     "name": "stdout",
     "output_type": "stream",
     "text": [
      "{19930112: ['C', 'P', 'C', 'P', 'C', 'P', 'C', 'P', 'I', 'Tb', 'C', 'P', 'C', 'P', 'C', 'Ts', 'C', 'P', 'C', 'P', 'C', 'Tc', 'P', 'C', 'Ts', 'P', 'Ts', 'C', 'Tc', 'C', 'Ts', 'P', 'C', 'Ts', 'C', 'P', 'C', 'P', 'C', 'P', 'C', 'P', 'C', 'P', 'C', 'P', 'I', 'C'], 61296129: ['C', 'I', 'C', 'I', 'P', 'Tb', 'P', 'C', 'Tb', 'P', 'C', 'I', 'C', 'I', 'C', 'I', 'C', 'P', 'C', 'P', 'C', 'I', 'C', 'P', 'C', 'P', 'Tc', 'P', 'C', 'Tc', 'P', 'C', 'P', 'C', 'P', 'C', 'P', 'C', 'P', 'C', 'P', 'C'], 57521121: ['C', 'I', 'C', 'I', 'Tb', 'I', 'Tb', 'C', 'Tb', 'C', 'Tb', 'I', 'C', 'P', 'C', 'Tb', 'P', 'C', 'Ts', 'C', 'Tc', 'C', 'Tc', 'P', 'Tc', 'P', 'C', 'Ts', 'Tc', 'P', 'Tc', 'Ts', 'Tc', 'C', 'Ts', 'C', 'Tc', 'C', 'Tc', 'I', 'C', 'I', 'P', 'C', 'Tc', 'Ts', 'Tc', 'C', 'Tc', 'C', 'Tc', 'Ts', 'Tc', 'P', 'C', 'P', 'C', 'Tc', 'C', 'I', 'P', 'C', 'P', 'Tc'], 13679110: ['C', 'I', 'C', 'I', 'Tb', 'P', 'C', 'Tb', 'C', 'Ts', 'P', 'Ts', 'C', 'I', 'C', 'Tc', 'P', 'Tc', 'C', 'Tc', 'P', 'Tc', 'C', 'Tc', 'P', 'Tc', 'C', 'Tc', 'C', 'Tc', 'C', 'Tc', 'I', 'C', 'Tc', 'C', 'Tc', 'C', 'P', 'Tc', 'P', 'C', 'Tc', 'C', 'Tc', 'C', 'Tc', 'C', 'Tc', 'P', 'Tc', 'C', 'Tc', 'P', 'Tc', 'C', 'Tc', 'C', 'Tc', 'P', 'C', 'Tc', 'C', 'Tc', 'P', 'C', 'P', 'C', 'P', 'C', 'P', 'Ts', 'C', 'Ts', 'C', 'P', 'Ts', 'C', 'P', 'C', 'I'], 4762120: ['C', 'I', 'Tb', 'P', 'Tb', 'C', 'Ts', 'P', 'C', 'P', 'I', 'Tb', 'C', 'Tb', 'P', 'Tb', 'C', 'Ts', 'C', 'Ts', 'C', 'Ts', 'C', 'Ts', 'P', 'C', 'Ts', 'P', 'Ts', 'C', 'Tb', 'C', 'Ts', 'C', 'Ts', 'P', 'Ts', 'C', 'Ts', 'P', 'C', 'Tc', 'I', 'Tc', 'C', 'Ts', 'P'], 51352592: ['C', 'Ts', 'C', 'Ts', 'P', 'Ts', 'C', 'Ts', 'C', 'P', 'C', 'Ts', 'C', 'P', 'C', 'P', 'C', 'P', 'C', 'I', 'C', 'P', 'C', 'P', 'C', 'P', 'C', 'I', 'C', 'P', 'C', 'P', 'C', 'P', 'C', 'I', 'C'], 10009106: ['C', 'P', 'I', 'C', 'I', 'C', 'I', 'C', 'Tc', 'C', 'Tb', 'I', 'P', 'Tb', 'P', 'I', 'Tb', 'C', 'Tb', 'C', 'Tb', 'I', 'P', 'I', 'Ts', 'P', 'Ts', 'P', 'Ts', 'P', 'Ts', 'I', 'P', 'Ts', 'C', 'Ts', 'I', 'Ts', 'C', 'Ts', 'I', 'Ts', 'P', 'C', 'Ts', 'I', 'Ts', 'C', 'Ts', 'I', 'Ts', 'P', 'C', 'Ts', 'I', 'Ts', 'C', 'Ts', 'I', 'Ts', 'I', 'P', 'I', 'P', 'C'], 68995094: ['I', 'C', 'P', 'I', 'C', 'I', 'C', 'I', 'C', 'I', 'C', 'P', 'I', 'Tb', 'P', 'C', 'I', 'C', 'I', 'C', 'P', 'C', 'I', 'C', 'I', 'C', 'P', 'I', 'Ts', 'Tb', 'P', 'C', 'I', 'P', 'C', 'P', 'C'], 8580120: ['C', 'P', 'C', 'I', 'C', 'Tb', 'I', 'P', 'Tb', 'C', 'Tb', 'P', 'I', 'C', 'Ts', 'P', 'Ts', 'P', 'Ts', 'P', 'C', 'Ts', 'P', 'Ts', 'P', 'Ts', 'P', 'C', 'Ts', 'P', 'C', 'Ts', 'P', 'Ts', 'P', 'C', 'Ts', 'P', 'C'], 64153126: ['C', 'I', 'C', 'I', 'C', 'I', 'Ts', 'C', 'Tb', 'C', 'Tc', 'I', 'Tc', 'P', 'I', 'C', 'I', 'C', 'Tc', 'P', 'C', 'P', 'C', 'Tb', 'P', 'I', 'C', 'I', 'Tb', 'I', 'C', 'I', 'P', 'C', 'I', 'Tc', 'C', 'Tc', 'P', 'C', 'Tc', 'P', 'I', 'P', 'Tc', 'P', 'I', 'Tc', 'C', 'I', 'C', 'Tc', 'I', 'C', 'To', 'C', 'To', 'I', 'To', 'I', 'C', 'I', 'C', 'I', 'C', 'I', 'To', 'I', 'C', 'I', 'C', 'I', 'C', 'I', 'C', 'I', 'C', 'I', 'C', 'P', 'To', 'P', 'To', 'C', 'P', 'C', 'To', 'C', 'To', 'C', 'To', 'C', 'To', 'C', 'I', 'C', 'P', 'C', 'I', 'C', 'P', 'C', 'P', 'C', 'I'], 24387118: ['C', 'P', 'I', 'To', 'P', 'C', 'Tc', 'I', 'P', 'C', 'Tc', 'C', 'I', 'C', 'Tc', 'P', 'C', 'P', 'C', 'I', 'Tc', 'P', 'C', 'P', 'C', 'Tc', 'P', 'C', 'Tc', 'P', 'Tc', 'P', 'I', 'P', 'C', 'P', 'C', 'I', 'C', 'P', 'C', 'Tc', 'P', 'C', 'Ts', 'C', 'P', 'Tb', 'I', 'P', 'C', 'I', 'C', 'I', 'Tc', 'C', 'I', 'Tc', 'Tb', 'P', 'C'], 82243121: ['I', 'C', 'I', 'Tb', 'C', 'Tb', 'P', 'C', 'Tb', 'C', 'P', 'C', 'Ts', 'C', 'Ts', 'P', 'C', 'Tb', 'C', 'Tb', 'C', 'Ts', 'P', 'C', 'Ts', 'C', 'Ts', 'C', 'Tc', 'C', 'Tc', 'P', 'C', 'Tc', 'P', 'C', 'P', 'C', 'I', 'C', 'Tc', 'I', 'Tc', 'I', 'C', 'I', 'C', 'I', 'C', 'I', 'C', 'I', 'C', 'P', 'Tc', 'Tb', 'P', 'C', 'Tc', 'C', 'Tc', 'C', 'Tc', 'C', 'Ts', 'C', 'Ts', 'C', 'Ts', 'C', 'Ts', 'C', 'P', 'Ts', 'P', 'Ts', 'P', 'Ts', 'C', 'I', 'P', 'C', 'Tb', 'I', 'C', 'Tc', 'P', 'Tc', 'C', 'Tb', 'C'], 91203122: ['C', 'I', 'Tb', 'I', 'Tb', 'C', 'Tb', 'C', 'P', 'C', 'P', 'C', 'Ts', 'C', 'Ts', 'P', 'C', 'P', 'Ts', 'C', 'Ts', 'P', 'Ts', 'P', 'Ts', 'P', 'C', 'Ts', 'C', 'Ts', 'P', 'C', 'Ts', 'P', 'C', 'Ts', 'P', 'Ts', 'C', 'Ts', 'P', 'C', 'Tc', 'P', 'C', 'Tc', 'C', 'Tc', 'P', 'C', 'P', 'I', 'C', 'Tc', 'C', 'Tc', 'C', 'Tc', 'C', 'Tc', 'C'], 39619124: ['C', 'I', 'To', 'P', 'C', 'P', 'I', 'To', 'C', 'To', 'P', 'C', 'Tb', 'P', 'C', 'Tc', 'P', 'Tc', 'P', 'C', 'Tc', 'P', 'C', 'P', 'Tc', 'C', 'Ts', 'C', 'Tc', 'P', 'C', 'P', 'Tc', 'P', 'C', 'Tc'], 28098102: ['C', 'P', 'C', 'P', 'C', 'I', 'C', 'P', 'C', 'I', 'Tb', 'C', 'P', 'Ts', 'P', 'C', 'Tc', 'C', 'P', 'C', 'P', 'C', 'P', 'C', 'I', 'C', 'I'], 20717120: ['C', 'P', 'C', 'I', 'C', 'I', 'C', 'P', 'C', 'I', 'C', 'P', 'Tb', 'I', 'Tb', 'I', 'P', 'C', 'Ts', 'C', 'I', 'C', 'I', 'C', 'I', 'C', 'I', 'Tc', 'P', 'C', 'Tc', 'C', 'Tc', 'C', 'Tc', 'C', 'P', 'C', 'I', 'C', 'I', 'Tc', 'I', 'P', 'C', 'I', 'C', 'I', 'P', 'C', 'P', 'C', 'P', 'I', 'Tc', 'P', 'C'], 70209120: ['C', 'I', 'Tc', 'C', 'P', 'Tc', 'P', 'Tc', 'I', 'Tc', 'C', 'P', 'Tc', 'I', 'P', 'I', 'C', 'I', 'C', 'P', 'I', 'C', 'I', 'P', 'Tc', 'P', 'I', 'C', 'P', 'C', 'P', 'I', 'Tc', 'P', 'C', 'P', 'C'], 62935112: ['C', 'P', 'C', 'P', 'Tc', 'I', 'Tc', 'C', 'Tc', 'C', 'Tc', 'P', 'I', 'C', 'P', 'C', 'Tc', 'I', 'Tc', 'C', 'Tc', 'P', 'C', 'I', 'C', 'P', 'Tc', 'I', 'C', 'Tc', 'C', 'P', 'I', 'Tc', 'I', 'C', 'Tc', 'C', 'Tc', 'C', 'P', 'C', 'I', 'P', 'I', 'C', 'Tc', 'C', 'P', 'I', 'C', 'I', 'Tc', 'I', 'Tc', 'C', 'Tc', 'P'], 73538121: ['C', 'I', 'P', 'I', 'Tc', 'I', 'C', 'P', 'I', 'Tc', 'P', 'C', 'I', 'C', 'P', 'C', 'I', 'C', 'Tc', 'I', 'C', 'I', 'C', 'I', 'C', 'I', 'P', 'I', 'Tc', 'C', 'Tc', 'P', 'C', 'Tc', 'I', 'Tc', 'P', 'I', 'Tc', 'P', 'C', 'Tc', 'P', 'C', 'Tc', 'P', 'I'], 46231117: ['C', 'I', 'To', 'I', 'C', 'Tc', 'P', 'I', 'C', 'Tc', 'C', 'P', 'Tc', 'C', 'I', 'C', 'I', 'Tc', 'P', 'C', 'Tc', 'C', 'Tc', 'C', 'Tb', 'C', 'Ts', 'C', 'Ts', 'C', 'P', 'C', 'P', 'C', 'I', 'C', 'P', 'C', 'P', 'C', 'P', 'C', 'I', 'Tc', 'C', 'Tc', 'C', 'Tc', 'P', 'C'], 17580122: ['C', 'P', 'C', 'I', 'C', 'I', 'Tb', 'C', 'P', 'C', 'I', 'C', 'I', 'C'], 13378139: ['C', 'I', 'C', 'P', 'I', 'Tc', 'I', 'Tc', 'I', 'Tc', 'I', 'C', 'I', 'C', 'I', 'P', 'I', 'Tc', 'P', 'Tc', 'P', 'C', 'I', 'C', 'I', 'P', 'Tc', 'P', 'I', 'Tc', 'I', 'Tc', 'I', 'Tc', 'P', 'C', 'I', 'P', 'I', 'Tc', 'P', 'C', 'P', 'I', 'P', 'C', 'P', 'C', 'P'], 38648120: ['C', 'P', 'I', 'Tb', 'C', 'Tb', 'C', 'Tb', 'P', 'I', 'C', 'I', 'Tb', 'C', 'Ts', 'C', 'Tc', 'C', 'Tc', 'C', 'Tc', 'P', 'I', 'Tc', 'P', 'I', 'C', 'I', 'C', 'I', 'Tc', 'P', 'I', 'C', 'I', 'Tc', 'C', 'Tc', 'C', 'P', 'I', 'Tc', 'C', 'Tc', 'C', 'Tb', 'C', 'Tb', 'C', 'Tc', 'C', 'Tc', 'C', 'Tb', 'Tc', 'C', 'Tc', 'P', 'Tc', 'P', 'I', 'P', 'C', 'Tc', 'C', 'I', 'C', 'I', 'C', 'P', 'C', 'Tb', 'C', 'Tc', 'C', 'Tc', 'Tb', 'Tc', 'C'], 60076128: ['C', 'I', 'C', 'I', 'P', 'C', 'Tc', 'C', 'P', 'To', 'C', 'P', 'C', 'P', 'C', 'P', 'C', 'I', 'C', 'P', 'I', 'Tc', 'C', 'Tc', 'P', 'C', 'P', 'C', 'I', 'C', 'Tc', 'C', 'Tc', 'C', 'Tc', 'I', 'Tc', 'P', 'C', 'Tc', 'I', 'Tc', 'P', 'C', 'P', 'I', 'C', 'I', 'P', 'Tc', 'C', 'Tc', 'C', 'P', 'C', 'Tc', 'C', 'Tb', 'P', 'C', 'I', 'C', 'Tc', 'C', 'Tc', 'C', 'P', 'C', 'I'], 4936123: ['C', 'I', 'C', 'I', 'Tb', 'I', 'P', 'Tb', 'I', 'C', 'Ts', 'P', 'Ts', 'C', 'Tb', 'C', 'Tb', 'C', 'Tb', 'C', 'Tb', 'C', 'P', 'C', 'P', 'Ts', 'C', 'P', 'C', 'P', 'C', 'P', 'I', 'C', 'Ts', 'C', 'Ts', 'C', 'Ts', 'I', 'P', 'C', 'Ts', 'P', 'C', 'P', 'C', 'Tc', 'C', 'Tc', 'C', 'Tc', 'P', 'C', 'Tc', 'P', 'I', 'C', 'Tc', 'I', 'C', 'Tc', 'P', 'C', 'Tc', 'I', 'Tc', 'C', 'Tc', 'C', 'Tc', 'P', 'Tc', 'C', 'I'], 83841128: ['C', 'I', 'C', 'I', 'Ts', 'P', 'I', 'Ts', 'P', 'C', 'Ts', 'P', 'Ts', 'I', 'C', 'Ts', 'P', 'Ts', 'P', 'C', 'P', 'C', 'P', 'C', 'P', 'C', 'Ts', 'C', 'Tc'], 48107113: ['C', 'P', 'I', 'Tb', 'C', 'Tb', 'P', 'Tb', 'P', 'C', 'Ts', 'C', 'P', 'C', 'Tb', 'C', 'Tb', 'C', 'I', 'Tb', 'C', 'I', 'C', 'I', 'C', 'I', 'C', 'I', 'C', 'I', 'C', 'Ts', 'Tc', 'C', 'I', 'C', 'I', 'Tc', 'Ts', 'C', 'I', 'C', 'Tb', 'Ts', 'Tb', 'Ts', 'Tc', 'P', 'Tb', 'Ts', 'Tc', 'C', 'Tc', 'P', 'Tc', 'Ts', 'P', 'C', 'Tc', 'C', 'Tc', 'C', 'P', 'C', 'P', 'C', 'Tc', 'C', 'P', 'C', 'To', 'C', 'To', 'C', 'P', 'C', 'I', 'C', 'I', 'C', 'I', 'C', 'I', 'C', 'P', 'C'], 18838125: ['C', 'P', 'I', 'Tb', 'I', 'P', 'Tb', 'C', 'Tb', 'P', 'C', 'Tb', 'C', 'P', 'C', 'Ts', 'P', 'C', 'Tc', 'I', 'Tc', 'C', 'Tc', 'P', 'C', 'I', 'C', 'P', 'C', 'Tc', 'C', 'Tc', 'Tb', 'P', 'C', 'P', 'C', 'P', 'Ts', 'P', 'Ts', 'C', 'Ts', 'P', 'I', 'C', 'Tb', 'C', 'Tb', 'C', 'Tb', 'I', 'P', 'C', 'Tc', 'I', 'Tc', 'C', 'Tc', 'P', 'Tc', 'P', 'C', 'I', 'C', 'Ts', 'C', 'Tc', 'Tb', 'P'], 67755125: ['C', 'I', 'Tb', 'I', 'Tb', 'P', 'C', 'Tb', 'P', 'C', 'Tb', 'P', 'C', 'Ts', 'P', 'Ts', 'P', 'C', 'Tc', 'P', 'C', 'P', 'C', 'P', 'I', 'C', 'I', 'Tc', 'P', 'Tc', 'P', 'C', 'Tc'], 13205111: ['C', 'I', 'Tb', 'P', 'Tb', 'I', 'Tb', 'I', 'C', 'I', 'P', 'Ts', 'I', 'Ts', 'P', 'C', 'I', 'Tc', 'I', 'C', 'Ts', 'I', 'Ts', 'C', 'Tc', 'P', 'I', 'Tc', 'P', 'C', 'Tb', 'P', 'Tb', 'I', 'Tb', 'C', 'Tb', 'P', 'C', 'I', 'C', 'I', 'P', 'Tc', 'I', 'Tc', 'P', 'C', 'P', 'I', 'Tc', 'P'], 15616121: ['C', 'P', 'C', 'I', 'C', 'P', 'I', 'Tb', 'P', 'C', 'I', 'C', 'P', 'C', 'P', 'C', 'P', 'C', 'I', 'C', 'P', 'C', 'P', 'C', 'P', 'C', 'P', 'C', 'I', 'Tc', 'I', 'C', 'P', 'C', 'P', 'I', 'C', 'I', 'Tc'], 82752122: ['C', 'I', 'To', 'C', 'Tc', 'C', 'P', 'C', 'P', 'C', 'Tc', 'C', 'Tc', 'C', 'I', 'C', 'Tc', 'C', 'P', 'C', 'P', 'C', 'P', 'C', 'Tc', 'I', 'Tc', 'P', 'Tc', 'P', 'C', 'I', 'C', 'P', 'Tc', 'P', 'C', 'P', 'C', 'I', 'Tc', 'P', 'C', 'Tc', 'P', 'I'], 12949120: ['C', 'I', 'Tb', 'I', 'Tb', 'C', 'I', 'C', 'Ts', 'C', 'I', 'Ts', 'C', 'Ts', 'P', 'Ts', 'P', 'C', 'Ts', 'P', 'Ts', 'P', 'I', 'P', 'C', 'Tc', 'C', 'I', 'Tc', 'P', 'Tc', 'P', 'C', 'Tc', 'C', 'Tc', 'I', 'P', 'Tc', 'C', 'Tc', 'P', 'Tc', 'C', 'I', 'Tc', 'P', 'C', 'P', 'C', 'I', 'P', 'Tc', 'P', 'C', 'P', 'Tc', 'P', 'I'], 41045127: ['C', 'I', 'P', 'I', 'Tb', 'C', 'Tb', 'P', 'C', 'Tb', 'P', 'C', 'I', 'C', 'I', 'P', 'Ts', 'P', 'C', 'Ts', 'P', 'Ts', 'P', 'I', 'C', 'I', 'P', 'Ts', 'P', 'I', 'Ts', 'P', 'C', 'Ts', 'P', 'Ts', 'P', 'C', 'I', 'C', 'I', 'P', 'I', 'Tb', 'P', 'Ts', 'P', 'C', 'Tc', 'I', 'Tc', 'P', 'Tc', 'P', 'C', 'I', 'Tb', 'Tc', 'P', 'I', 'Tc', 'I', 'C', 'I', 'C', 'I', 'C', 'To', 'I', 'C', 'I', 'C', 'I', 'C', 'I', 'C', 'I', 'C', 'P', 'C', 'Tb', 'C', 'Tb', 'Tc', 'C', 'Tc', 'C', 'Tb', 'Tc'], 94186123: ['C', 'I', 'C', 'I', 'To', 'P', 'C', 'P', 'C', 'P', 'To', 'P', 'C', 'P', 'To', 'P', 'C', 'P', 'I', 'C', 'I', 'C', 'To', 'C', 'To', 'C', 'To', 'C', 'To', 'C', 'To', 'C', 'P', 'C', 'I', 'C', 'Tb', 'I', 'C', 'I', 'C', 'I', 'Tc', 'P'], 42175126: ['C', 'I', 'Ts', 'C', 'Ts', 'C', 'Ts', 'I', 'Ts', 'P', 'I', 'Ts', 'P', 'C', 'Ts', 'C', 'Ts', 'P', 'Ts', 'P', 'C', 'Ts', 'P', 'C', 'P', 'C', 'Ts', 'C', 'Ts', 'P', 'C', 'Ts', 'C', 'Tb', 'C', 'Tc', 'P', 'C', 'P', 'C', 'Tc', 'P', 'Tc', 'P', 'I', 'C', 'I', 'C', 'I', 'C', 'I', 'C', 'P', 'I', 'C', 'To', 'C'], 55188124: ['I', 'C', 'I', 'C', 'I', 'Tc', 'C', 'I', 'C', 'I', 'C', 'I', 'Tb', 'C', 'I', 'Ts', 'C', 'Tc', 'C', 'Tc', 'C', 'Tc', 'C', 'Tc', 'P', 'C', 'Ts', 'I', 'P', 'C', 'Ts', 'C', 'P', 'Ts', 'P', 'Ts', 'P', 'C', 'I', 'Tc', 'P', 'C'], 18088102: ['C', 'P', 'C', 'I', 'C', 'I', 'C', 'P', 'I', 'Ts', 'P', 'C', 'Ts', 'C', 'P', 'C', 'I', 'Tc', 'C', 'Tc', 'P', 'C', 'P', 'C', 'P', 'C', 'P', 'C', 'P', 'Tc', 'P', 'C', 'P', 'C', 'P', 'C', 'P', 'C', 'P', 'Tc', 'C', 'Tc', 'C', 'Tc', 'C', 'Tc', 'P', 'C', 'I', 'C', 'P', 'Tc', 'C', 'Tc'], 10942128: ['C', 'P', 'C', 'I', 'Tc', 'C', 'Tc', 'C', 'P', 'C', 'P', 'C', 'I', 'C', 'P', 'C', 'P', 'C', 'P', 'C', 'P', 'C', 'I', 'Tc'], 35155125: ['C', 'P', 'I', 'C', 'Tb', 'C', 'Tb', 'P', 'C', 'I', 'Tb', 'C', 'P', 'C', 'Ts', 'P', 'Ts', 'P', 'Ts', 'P', 'C', 'P', 'C', 'P', 'C', 'Tc', 'C', 'Ts', 'P', 'C', 'Tc', 'P', 'Tc', 'C', 'Ts', 'C', 'Ts', 'C', 'Tb', 'P', 'I', 'P', 'I', 'C', 'I', 'C', 'I', 'C', 'I', 'C', 'I', 'C', 'I'], 82920121: ['C', 'I', 'Tb', 'P', 'C', 'P', 'C', 'P', 'C', 'P', 'C', 'Tc', 'P', 'Tc', 'P', 'C', 'P', 'Tc', 'C', 'Tc', 'P', 'I', 'Tc', 'P', 'I', 'C', 'I', 'C', 'Ts', 'I', 'Ts', 'P', 'I', 'Ts', 'P', 'Ts', 'C', 'I', 'P', 'I', 'Ts', 'P', 'Ts', 'P', 'C', 'Tb', 'Tc', 'Tb', 'C', 'Tc', 'C', 'Tc', 'C', 'I', 'P', 'C', 'I', 'P', 'C', 'P', 'Tc', 'P', 'Tc', 'C', 'Tc', 'P', 'C', 'Tb', 'Tc', 'C', 'P', 'C', 'Tc', 'Tb'], 23143099: ['C', 'I', 'C', 'I', 'Tb', 'C', 'P', 'Tb', 'C', 'P', 'Tb', 'P', 'C', 'P', 'C', 'P', 'Ts', 'P', 'C', 'I', 'C', 'Tc', 'C', 'Tc', 'P', 'Tc', 'C', 'Tc', 'C', 'Tc', 'C', 'Tc', 'C', 'Tc', 'C', 'Tc', 'P', 'Tc', 'C', 'Tc', 'C', 'Tc', 'P', 'Tc', 'I', 'Tc', 'C', 'Ts', 'C', 'Ts', 'P', 'C', 'I', 'C', 'I', 'P', 'C', 'I', 'C', 'I', 'Tb', 'Ts', 'Tb', 'Ts', 'Tb', 'I', 'C', 'Ts', 'P', 'Ts', 'C', 'Tc', 'P', 'C', 'I', 'Ts', 'P', 'I', 'P', 'C', 'I', 'Tc', 'I', 'Tc', 'P', 'C', 'Tc', 'P'], 66472128: ['C', 'I', 'P', 'I', 'P', 'C', 'I', 'C', 'P', 'C', 'P', 'I', 'C', 'P', 'C', 'P', 'C', 'I', 'C', 'Tc', 'P', 'Tc', 'C', 'Tc', 'P', 'I', 'C', 'I', 'C', 'P', 'C', 'P', 'I', 'C', 'I', 'P', 'C', 'P', 'C', 'I', 'Tc', 'C', 'I', 'C'], 37842114: ['C', 'P', 'I', 'C', 'P', 'I', 'Tb', 'I', 'P', 'Tb', 'I', 'Tb', 'P', 'C', 'P', 'Ts', 'P', 'C', 'Ts', 'P', 'Ts', 'C', 'P', 'Tc', 'P', 'C'], 61117124: ['C', 'I', 'C', 'I', 'C', 'I', 'C', 'I', 'C', 'Tc', 'I', 'C', 'Tc', 'C', 'I', 'Tc', 'I', 'Tc', 'C', 'Tc', 'I', 'C', 'Tc', 'P', 'Tc', 'C', 'Tc', 'C', 'P', 'Tc', 'C', 'I', 'C', 'I', 'C', 'I', 'C', 'I', 'C', 'I', 'Tc', 'P', 'C', 'I', 'C'], 85458129: ['C', 'P', 'C', 'I', 'C', 'I', 'Tb', 'I', 'Tb', 'P', 'C', 'P', 'Ts', 'C', 'Ts', 'P', 'C', 'P', 'C', 'I', 'C', 'I', 'C', 'I', 'C', 'I', 'Ts', 'P', 'C', 'P', 'Ts', 'P', 'C', 'Tc', 'C', 'Tc', 'C', 'I', 'C', 'Tc', 'C', 'I', 'C', 'Tc', 'C', 'P', 'C', 'Tc', 'C', 'Tc', 'C', 'Ts', 'C', 'Ts', 'P', 'Ts', 'C', 'I', 'C', 'I', 'Ts', 'C', 'Ts', 'P', 'Ts', 'C', 'Ts', 'C', 'Tc', 'C', 'Tc', 'C', 'I', 'C', 'P', 'Tc', 'P', 'C', 'Tc', 'P', 'C', 'Tb', 'P', 'C', 'P', 'C', 'I', 'C', 'P', 'C', 'I', 'Ts', 'C', 'I', 'C', 'Tc', 'C', 'Tc', 'C', 'Tc'], 9331415: ['C', 'P', 'I', 'Ts', 'P', 'Ts', 'P', 'I', 'Ts', 'P', 'C', 'I', 'P', 'Ts', 'I', 'Ts', 'I', 'P', 'C', 'I', 'Ts', 'I', 'P', 'Ts', 'P', 'I', 'Ts', 'P', 'C', 'Tc', 'I', 'P', 'I', 'Tc', 'C', 'Tc', 'C', 'Tc', 'P', 'I', 'Tc', 'P', 'C', 'I', 'Tc', 'P', 'Tc', 'I', 'Tc', 'P', 'I', 'C', 'I', 'C', 'I', 'P', 'Tc', 'P', 'I', 'Tc', 'P', 'Tc', 'P', 'C', 'I', 'C', 'P', 'C', 'P', 'C', 'P', 'I', 'Tc', 'C', 'P', 'Tc', 'I', 'Tc', 'P', 'I', 'Tc'], 87612126: ['C', 'I', 'C', 'I', 'Tc', 'C', 'Tc', 'P', 'Tc', 'P', 'C', 'Tc', 'C', 'Tc', 'P', 'C', 'P', 'C', 'Tc', 'C', 'Tc', 'P', 'C', 'Tc', 'I', 'C', 'I', 'C', 'Tc', 'P', 'C', 'Tc', 'P', 'Tc', 'C', 'Tc', 'C', 'Tc', 'P', 'Tc', 'C', 'Tc', 'P', 'Tc', 'P', 'C', 'Tc', 'C', 'Tc', 'C', 'Tc', 'P', 'C', 'I', 'C', 'I', 'Tb', 'C', 'P', 'C', 'I', 'Tc', 'I', 'C'], 67899116: ['C', 'I', 'Tc', 'C', 'P', 'C', 'Tc', 'P', 'C', 'Tc', 'C', 'Tc', 'P', 'C', 'P', 'Tc', 'C', 'P', 'C', 'P', 'C', 'P', 'C', 'I', 'C', 'Tc', 'P', 'C', 'Tc', 'C', 'Tc', 'C', 'Tc', 'C', 'P', 'Tc', 'P', 'C', 'Tc', 'P', 'C', 'P', 'C', 'Tc', 'C', 'P', 'C', 'P', 'Tc', 'C', 'Tc', 'P', 'I'], 28582129: ['C', 'I', 'Tb', 'I', 'C', 'I', 'Tb', 'C', 'P', 'C', 'P', 'Tb', 'C', 'I', 'Ts', 'C', 'Ts', 'P', 'C', 'Tb', 'P', 'C', 'Ts', 'P', 'Ts', 'P', 'C', 'I', 'P', 'C', 'Tc', 'P', 'Tc', 'P', 'Tc', 'P', 'C', 'Tc', 'C', 'Tb', 'Tc', 'Tb', 'Tc', 'P', 'C', 'P', 'C'], 96314111: ['C', 'P', 'Tb', 'P', 'Tb', 'I', 'P', 'C', 'P', 'C', 'P', 'C', 'P', 'C', 'P', 'Ts', 'P', 'Ts', 'C', 'P', 'C', 'Tc', 'P', 'C', 'Tc', 'C', 'P', 'Tc', 'C', 'Tc', 'P', 'Tc', 'I', 'Tc', 'P', 'C', 'P', 'C', 'Tb', 'P', 'C', 'P', 'C', 'P', 'C', 'P', 'C', 'P', 'C', 'Tb', 'C', 'P', 'C', 'P', 'C'], 66362122: ['C', 'P', 'I', 'Tc', 'P', 'Tc', 'C', 'To', 'P', 'C', 'P', 'C', 'Tc', 'P', 'C', 'P', 'C', 'Tb', 'C', 'Tb', 'C', 'Tb', 'C', 'Tb', 'C', 'Ts', 'C', 'Ts', 'P', 'C', 'P', 'C', 'Ts', 'C', 'P', 'C', 'P', 'C', 'Tc', 'P', 'Tc', 'P', 'C', 'Tc', 'C', 'Tc', 'P', 'C', 'Tb', 'C', 'Tb', 'P', 'Tc', 'C', 'Ts', 'Tc', 'Ts', 'C', 'Tb', 'P', 'C', 'Tc', 'P', 'Tc', 'C', 'Tc', 'C', 'Tc', 'C', 'Tc', 'C', 'I', 'C', 'Tc', 'C', 'Tc', 'C', 'Tc', 'C', 'Tc', 'C'], 51876107: ['C', 'I', 'Tb', 'I', 'C', 'Tb', 'I', 'Tb', 'C', 'P', 'C', 'Ts', 'P', 'Ts', 'I', 'P', 'C', 'Tc', 'P', 'Tc', 'C', 'Tc', 'C', 'P', 'Tc', 'C', 'P', 'Tc', 'P', 'Tc', 'I', 'C', 'Tc', 'P', 'I', 'Tc', 'C', 'P', 'Ts', 'P', 'Ts', 'P', 'I', 'Ts', 'P', 'C', 'P', 'Tc', 'P', 'I', 'P', 'C', 'P', 'I', 'Tc', 'C', 'P', 'Tc', 'C', 'Tc', 'C', 'Tc', 'C', 'Tc', 'I', 'C', 'Tc', 'C', 'Tc', 'P', 'Tc', 'C', 'Tc', 'C', 'Tc', 'P', 'I', 'Tc', 'I', 'Tc'], 77882125: ['C', 'I', 'Tc', 'I', 'Tc', 'P', 'C', 'Tc', 'P', 'C', 'Tc', 'P', 'C', 'Tc', 'P', 'C', 'Tc', 'C', 'Tc', 'P', 'C', 'Tc', 'C', 'Tc', 'P', 'C', 'Tc', 'C', 'Tc', 'P', 'Tc', 'P', 'I', 'P', 'C', 'Tc', 'P', 'C'], 8889108: ['C', 'P', 'C', 'I', 'Tc', 'C', 'Tc', 'C', 'P', 'C', 'Tc', 'C', 'Tc', 'C', 'P', 'C', 'I', 'C', 'Tc', 'C', 'I', 'C', 'P', 'C', 'P', 'C', 'Tc', 'P', 'I', 'C', 'I', 'C', 'Tc', 'C', 'I', 'Tc', 'C', 'P', 'C', 'Tc', 'P', 'C', 'P', 'C', 'P', 'C', 'P', 'Tc', 'I', 'Tc', 'C', 'P', 'C', 'P', 'C', 'P', 'C'], 89337123: ['C', 'P', 'I', 'Tb', 'I', 'Tb', 'I', 'C', 'I', 'Tb', 'I', 'P', 'I', 'C', 'I', 'P', 'I', 'Ts', 'I', 'Ts', 'P', 'I', 'C', 'I', 'Ts', 'C', 'Ts', 'C', 'I', 'P', 'I', 'C', 'I', 'C', 'I', 'P', 'I', 'Tc', 'C', 'Tb', 'C', 'Tb', 'Tc', 'C', 'Tb', 'I', 'C', 'I', 'C', 'I', 'Tc', 'C', 'I', 'P', 'C', 'Tc', 'I', 'P', 'I', 'Tc', 'C', 'Tc', 'I', 'Tc', 'P', 'C', 'Tc', 'P', 'Tc', 'P', 'Tc', 'P', 'Tc', 'P', 'Tc', 'C', 'P', 'Tc', 'P', 'Tc'], 37987123: ['C', 'I', 'C', 'Tc', 'C', 'Tc', 'P', 'C', 'Tb', 'P', 'C', 'I', 'C', 'P', 'I', 'C', 'P', 'Ts', 'P', 'C', 'P', 'C', 'P', 'C', 'P', 'C', 'I', 'C', 'I', 'P', 'C', 'P', 'C', 'P', 'I', 'P', 'C', 'P', 'C', 'P', 'C', 'I', 'C'], 82616120: ['C', 'P', 'C', 'I', 'Tc', 'C', 'P', 'I', 'Tc', 'C', 'P', 'C', 'I', 'P', 'C', 'I', 'C', 'P', 'C', 'P', 'C', 'P', 'C', 'P', 'C', 'I', 'P', 'I', 'Tc', 'I', 'C', 'I', 'C', 'P', 'C', 'P', 'C'], 18893119: ['C', 'I', 'P', 'Tb', 'C', 'Tb', 'C', 'Tb', 'P', 'C', 'Ts', 'P', 'Ts', 'C', 'Ts', 'P', 'Ts', 'P', 'C', 'P', 'Ts', 'C', 'P', 'Tc', 'P', 'C', 'P', 'Tc', 'P', 'Tc', 'P', 'Tc', 'P', 'C', 'P', 'C', 'Tb', 'C', 'Ts', 'P', 'Ts', 'P', 'C', 'P', 'Ts', 'P', 'I', 'C', 'P', 'C', 'P', 'C'], 41295172: ['C', 'I', 'To', 'I', 'To', 'C', 'Tc', 'I', 'P', 'C', 'P', 'C', 'I', 'C', 'P', 'I', 'C', 'P', 'I', 'P', 'C'], 69251126: ['C', 'I', 'Tb', 'I', 'P', 'C', 'Tb', 'C', 'Tb', 'C', 'P', 'C', 'P', 'C', 'Ts', 'C', 'Ts', 'P', 'Ts', 'P', 'Ts', 'C', 'I', 'C', 'P', 'Ts', 'P', 'Ts', 'P', 'C', 'Ts', 'I', 'Ts', 'P', 'C', 'Ts', 'P', 'C', 'I', 'C', 'Ts', 'P', 'C', 'Tc', 'I', 'P', 'I', 'C', 'I', 'Tc', 'P', 'C', 'P', 'C', 'Tc', 'I', 'Tc', 'P', 'Tc', 'C', 'Tc', 'C'], 3932129: ['C', 'I', 'Tb', 'I', 'Tb', 'C', 'Tb', 'P', 'C', 'I', 'C', 'P', 'Tc', 'P', 'I', 'Tc', 'P', 'Tc', 'C', 'Tc', 'P', 'C', 'I', 'C', 'Tc', 'C', 'Tc', 'C', 'P', 'C', 'P', 'C', 'I', 'C', 'I', 'C', 'I', 'C', 'I', 'C', 'Ts', 'C', 'Ts', 'P', 'Ts', 'C', 'I', 'C', 'Ts', 'Tc', 'Ts', 'C', 'Ts', 'C', 'Tc', 'P', 'Tc', 'C', 'Tc', 'P', 'C', 'P', 'Tc', 'P', 'C', 'Tc', 'C', 'Tc', 'C', 'Tc', 'P', 'C', 'P', 'C', 'I', 'Tb', 'P'], 91235128: ['C', 'I', 'Tb', 'C', 'P', 'C', 'Ts', 'P', 'C', 'Ts', 'P', 'Ts', 'P', 'I', 'C', 'I', 'C', 'Ts', 'P', 'C', 'P', 'C', 'I', 'P', 'C', 'Tc', 'I', 'Tc', 'C', 'Tc', 'C', 'I', 'C', 'I', 'C', 'I', 'C', 'I', 'C', 'P', 'C', 'I', 'C', 'Tc', 'C', 'I', 'C', 'I', 'C', 'P', 'To', 'I', 'To', 'I', 'To', 'P', 'C', 'I', 'C', 'I', 'C', 'I', 'C', 'P'], 66828119: ['C', 'I', 'Tb', 'P', 'Tb', 'I', 'Tb', 'C', 'P', 'C', 'P', 'C', 'Ts', 'C', 'Tc', 'C', 'Tc', 'C', 'Tc', 'C', 'P', 'C', 'Tb', 'P', 'Tb', 'C', 'P', 'C', 'Tb', 'C', 'Ts', 'P', 'C', 'Tc', 'C', 'Tc', 'C', 'Tc', 'C', 'Tc', 'C', 'Tc', 'C', 'Tc', 'C', 'Tc', 'C', 'To', 'C', 'To', 'C', 'To', 'C', 'Tc', 'C', 'Tc', 'C', 'Tc', 'C', 'Tc', 'I', 'C', 'Tc', 'I', 'C', 'Tc', 'C', 'Tc', 'I', 'Tc', 'C', 'I', 'C', 'I', 'Tc', 'I', 'C', 'I', 'C', 'Tc', 'C', 'Tc', 'C', 'Tc', 'C', 'I', 'C', 'Tc', 'I', 'C', 'I', 'C', 'P', 'C', 'I', 'C', 'I', 'Tb', 'I', 'C', 'I', 'C', 'I', 'C', 'Tb', 'C', 'Tb', 'C', 'Tc', 'C', 'Tc', 'I'], 38732121: ['C', 'P', 'C', 'I', 'Tb', 'I', 'C', 'P', 'C', 'Tb', 'P', 'Tb', 'C', 'Tb', 'C', 'Tb', 'C', 'Tb', 'P', 'C', 'Ts', 'P', 'Ts', 'C', 'Ts', 'P', 'C', 'Ts', 'P', 'Ts', 'C', 'I', 'Ts', 'P', 'C', 'Ts', 'C', 'Ts', 'P', 'Ts', 'C', 'P', 'C', 'P', 'Ts', 'C', 'Ts', 'P', 'Ts', 'C', 'Ts', 'P', 'C', 'Ts', 'P', 'C', 'Ts', 'C', 'Ts', 'C', 'Ts', 'P', 'C', 'P', 'C'], 59553121: ['C', 'P', 'C', 'I', 'Tb', 'P', 'Tb', 'C', 'I', 'C', 'I', 'Tb', 'P', 'Tb', 'C', 'I', 'C', 'I', 'Tb', 'P', 'C', 'P', 'C', 'I', 'P', 'Ts', 'P', 'C', 'I', 'C', 'I', 'Ts', 'I', 'Ts', 'C', 'I', 'C', 'I', 'Ts', 'P', 'C', 'I', 'C', 'I', 'C', 'I', 'P', 'Ts', 'I', 'Ts', 'C', 'I', 'P', 'Ts', 'P', 'Ts', 'C', 'I', 'C', 'P', 'Tc', 'I', 'Tc', 'C', 'I', 'P', 'I', 'Tc', 'P', 'C', 'P', 'C', 'I', 'C', 'P', 'Ts'], 77984114: ['C', 'P', 'I', 'C', 'P', 'C', 'P', 'C', 'Tb', 'I', 'Tb', 'C', 'P', 'C', 'Tb', 'C', 'P', 'C', 'Ts', 'C', 'Ts', 'P', 'C', 'Ts', 'P', 'Ts', 'P', 'C', 'P', 'C', 'Tc', 'I', 'C', 'I', 'C', 'Tc', 'P', 'Tc', 'P', 'Tc', 'I'], 12235124: ['P', 'C', 'P', 'C', 'I', 'Tc', 'C', 'P', 'I', 'Tc', 'C', 'P', 'I', 'C', 'P', 'C', 'I', 'Tc', 'C', 'P', 'Tc', 'I', 'C', 'I', 'Tc', 'P', 'I', 'Tc', 'C', 'I', 'C', 'P', 'C', 'P', 'I', 'Tc', 'I', 'C', 'I', 'P', 'C', 'I', 'Tc', 'P', 'I', 'Tc', 'P', 'C', 'I', 'C', 'I', 'Tc', 'I', 'C', 'I', 'Tc', 'C', 'Tc', 'I', 'P', 'I', 'Tc', 'I', 'Tc', 'C', 'I', 'C', 'P', 'C', 'I', 'Tc', 'I', 'Tc', 'P', 'C', 'I', 'C', 'P', 'I', 'Tc', 'I', 'C', 'Tc', 'I', 'Tc', 'P', 'I', 'C', 'P', 'C', 'P', 'C', 'I', 'Tc', 'I', 'C', 'I', 'Tc', 'I', 'Tc', 'I', 'Tc', 'I', 'C', 'I', 'Tc', 'C', 'I', 'C', 'I', 'C', 'I', 'Tc', 'P', 'C', 'I', 'C', 'P', 'C', 'I', 'Tc', 'C', 'I', 'C', 'I', 'C'], 43999105: ['C', 'I', 'Tb', 'C', 'P', 'C', 'P', 'I', 'Tb', 'C', 'P', 'C', 'P', 'C', 'Ts', 'P', 'Ts', 'P', 'I', 'C', 'Ts', 'C', 'P', 'I', 'Ts', 'P', 'C', 'Ts', 'P', 'C', 'Ts', 'P', 'C', 'P', 'C', 'Ts', 'P', 'C', 'P', 'C', 'Ts', 'C', 'I', 'C', 'P', 'C', 'Tc', 'P'], 52041105: ['C', 'I', 'C', 'I', 'Tc', 'C', 'Tc', 'P', 'C', 'Tc', 'P', 'C', 'Tc', 'C', 'Tc', 'P', 'Tc', 'C', 'Tc', 'P', 'C', 'Tc', 'C', 'P', 'Tc', 'P', 'C', 'Tc', 'C', 'P', 'C', 'Tc', 'P', 'C', 'Ts', 'P', 'C', 'Tb', 'C', 'Tc', 'C'], 89224093: ['C', 'I', 'C', 'I', 'Tb', 'C', 'P', 'C', 'Ts', 'P', 'Ts', 'P', 'C', 'Tc', 'C', 'Tc', 'C', 'I', 'C', 'I', 'C', 'I'], 80308126: ['C', 'P', 'C', 'I', 'Tb', 'I', 'Tb', 'C', 'Tb', 'C', 'Tb', 'P', 'Tb', 'C', 'P', 'Tb', 'C', 'Tc', 'C', 'P', 'C', 'Tc', 'P', 'C', 'Tc', 'C', 'Tc', 'C', 'P', 'C', 'P', 'C', 'P', 'C', 'P', 'C', 'P', 'C', 'P', 'C', 'I', 'C'], 89332129: ['C', 'I', 'Tb', 'C', 'Tb', 'C', 'Tb', 'P', 'C', 'Ts', 'P', 'C', 'Ts', 'P', 'Ts'], 31091114: ['C', 'I', 'C', 'I', 'C', 'P', 'I', 'Tb', 'P', 'Tb', 'C', 'Tb', 'P', 'C', 'P', 'C', 'P', 'C', 'Ts', 'P', 'C', 'P', 'C', 'I', 'C', 'Ts', 'P', 'C', 'Ts', 'P', 'I', 'Ts', 'P', 'C', 'Ts', 'C', 'Ts', 'C', 'Ts', 'C', 'Ts', 'C', 'P', 'C', 'I', 'Ts', 'Tb', 'I', 'Ts', 'Tb', 'P', 'C', 'I', 'P', 'C'], 62238125: ['C', 'I', 'Tb', 'P', 'Tb', 'C', 'P', 'C', 'P', 'Tb', 'C', 'P', 'Ts', 'P', 'C', 'P', 'Ts', 'P', 'Ts', 'C', 'Tc', 'P', 'Tc', 'P', 'Tc', 'P', 'C', 'Ts', 'Tb', 'Ts', 'P', 'C', 'Ts', 'P', 'C', 'Ts', 'C', 'P', 'Tc', 'C', 'P', 'Tc', 'P', 'C', 'P', 'Tc', 'C', 'Tc', 'C', 'Tb', 'C'], 23112113: ['C', 'I', 'C', 'P', 'I', 'C', 'P', 'C', 'P', 'C', 'P', 'I', 'C', 'I', 'C', 'P', 'C', 'I', 'Ts', 'C', 'Ts', 'C', 'I', 'P', 'C', 'I', 'Tc', 'C', 'Ts', 'P', 'I', 'C', 'Ts', 'P', 'I', 'C', 'Tc', 'P', 'C', 'P', 'C', 'P', 'C', 'Ts', 'P', 'C', 'Ts', 'C', 'P', 'C', 'I', 'C', 'I', 'C', 'P', 'C', 'I', 'C'], 1075123: ['C', 'I', 'Tc', 'I', 'Tc', 'C', 'Tc', 'I', 'Tc', 'C', 'Tc', 'C', 'Ts', 'C', 'Tb', 'C', 'Tb', 'I', 'C', 'Tb', 'P', 'Tb', 'C', 'Tb', 'C', 'Tb', 'P', 'C', 'I', 'Ts', 'C', 'Tb', 'Ts', 'I', 'Ts', 'P', 'C', 'Tc', 'P', 'Ts', 'Tb', 'Ts', 'Tc', 'P', 'C', 'Ts', 'Tc', 'C', 'Tc', 'I', 'P', 'I', 'Ts', 'Tc', 'P', 'Tb', 'C', 'I', 'P', 'C', 'I', 'C', 'I', 'C', 'I', 'Tb', 'Tc', 'P', 'Tc', 'P', 'C', 'I', 'Tc', 'P', 'C', 'Tc', 'I', 'Tc', 'Tb', 'Tc', 'P', 'C', 'Tb', 'C', 'Tb', 'C', 'P', 'Ts', 'P', 'C', 'Tc', 'C', 'Tb', 'Tc', 'I', 'C', 'I', 'Tc', 'C', 'Tc', 'C', 'Tc', 'Tb', 'Tc', 'I', 'P', 'Tc', 'C', 'Tc', 'C'], 85576116: ['C', 'I', 'Tb', 'C', 'P', 'C', 'P', 'C', 'P', 'C', 'Ts', 'C', 'Tc', 'C', 'P', 'Tc', 'C', 'Ts', 'P', 'Ts', 'C', 'Ts', 'C', 'Ts', 'C', 'Ts', 'P', 'C', 'Tc', 'C', 'Tc', 'C', 'Tc', 'C', 'Tc', 'C', 'Tc', 'C', 'Tc', 'C', 'Tc', 'C', 'I', 'C', 'P', 'C', 'I', 'C', 'Tc', 'P', 'Tc', 'P', 'C', 'Tc', 'C', 'P', 'C', 'P', 'I', 'C', 'P', 'C', 'I', 'C', 'I', 'C', 'I', 'C', 'I', 'P', 'C'], 26225080: ['C', 'I', 'C', 'I', 'C', 'P', 'I', 'Tb', 'P', 'C', 'Tc', 'C', 'Tc', 'P', 'C', 'P', 'C', 'P', 'C', 'P', 'C', 'I', 'C', 'I', 'C', 'I', 'Tc', 'P', 'C', 'P', 'C', 'P', 'C', 'P', 'C', 'I', 'C', 'P', 'C', 'Tc', 'I', 'Tc', 'C', 'Tc'], 94792123: ['C', 'I', 'Tc', 'C', 'Tc', 'P', 'C', 'P', 'Tb', 'I', 'C', 'Tb', 'C', 'P', 'C', 'P', 'C', 'Tb', 'C', 'P', 'C', 'I', 'C', 'I', 'C', 'Tc', 'C', 'Ts', 'C', 'P', 'C', 'Tc', 'I', 'C', 'P', 'C', 'Tb', 'Ts', 'Tc', 'C', 'Tc', 'Tb', 'Ts', 'Tc', 'C', 'Ts', 'P', 'Tb', 'P', 'Ts', 'P', 'Tc', 'P', 'Tc', 'P', 'C', 'P', 'Ts', 'C', 'P', 'C'], 62898116: ['C', 'P', 'I', 'Tb', 'C', 'Tb', 'I', 'Tb', 'C', 'P', 'I', 'P', 'C', 'I', 'Ts', 'P', 'I', 'Ts', 'P', 'Ts', 'P', 'C', 'I', 'Ts', 'I', 'Ts', 'C', 'Ts', 'C', 'P', 'Ts', 'P', 'I', 'C', 'I', 'Tc', 'C', 'Tc', 'P', 'Tc', 'P', 'C', 'Tc', 'P', 'C', 'Tb', 'C', 'Ts', 'C', 'P', 'C', 'Tc', 'C', 'Tc', 'C', 'Tc', 'C', 'Tc', 'C', 'Tc', 'C', 'Tc', 'C', 'Tc', 'P', 'Tc', 'C', 'Tc', 'C', 'Tc', 'C', 'Tc', 'P', 'C', 'Tc', 'C', 'Tc', 'C', 'Tc', 'C', 'Tc', 'C', 'Tc', 'C', 'Tc', 'I', 'C', 'I', 'C', 'I'], 85298121: ['C', 'I', 'C', 'Tb', 'C', 'Tb', 'C', 'Tb', 'C', 'P', 'C', 'Tb', 'C', 'Ts', 'I', 'P', 'C', 'Ts', 'P', 'Ts', 'P', 'C', 'Ts', 'C', 'Ts', 'P', 'Ts', 'P', 'C', 'Tc', 'C', 'Tc', 'P', 'C', 'I', 'C', 'Ts', 'P', 'Ts', 'P', 'Ts', 'P', 'C', 'Tb', 'C', 'Tb', 'P', 'C', 'Tc', 'Tb', 'Tc', 'C', 'Ts', 'P', 'Ts', 'P', 'C', 'Tb', 'C', 'Tb', 'P', 'C', 'I', 'C', 'I', 'C', 'I', 'C', 'P', 'C', 'I', 'Tb', 'P', 'C', 'I', 'C', 'Ts', 'C'], 3591123: ['C', 'I', 'Tb', 'I', 'Tb', 'C', 'Tb', 'P', 'C', 'P', 'C', 'Tb', 'C', 'P', 'C', 'Ts', 'C', 'Tc', 'C', 'Tc', 'P', 'C', 'Tc', 'Tb', 'C', 'I', 'Ts', 'Tc', 'Ts', 'C', 'Tc', 'P', 'Tc', 'P', 'Tc', 'P', 'I', 'C', 'P', 'Ts', 'P', 'C', 'P', 'C'], 8775127: ['C', 'I', 'P', 'Tb', 'C', 'I', 'Ts', 'P', 'C', 'Tc', 'P', 'C', 'Tc', 'P', 'Tc', 'P', 'C', 'I', 'P', 'Tc', 'P', 'Tc', 'P', 'Tc', 'C', 'Tc', 'P', 'Tc', 'P', 'Tc', 'P', 'Tc', 'C', 'Ts', 'P', 'Ts', 'I', 'P', 'Ts', 'C', 'Tb', 'P', 'C', 'Tc', 'I', 'Tc', 'P', 'C', 'Tc', 'C', 'Tc', 'P', 'C', 'Tc', 'C', 'P', 'C', 'P', 'C'], 88156121: ['C', 'P', 'I', 'Tb', 'I', 'Tb', 'C', 'P', 'Tb', 'C', 'P', 'C', 'Tc', 'C', 'Tc', 'C', 'Tc', 'C', 'Tc', 'P', 'C', 'P', 'C', 'I', 'C', 'I', 'Tc', 'I', 'P', 'Tc', 'C', 'Tc', 'P', 'C', 'I', 'C', 'I', 'Ts', 'Tb', 'P', 'C', 'Ts', 'P', 'C', 'P', 'C', 'Tc', 'Tb', 'C', 'P', 'C', 'Tc', 'P', 'C', 'Tb', 'I', 'P', 'Tc', 'C', 'Tc', 'P', 'Tc', 'P'], 14769115: ['I', 'C', 'P', 'I', 'Ts', 'C', 'Ts', 'C', 'Ts', 'P', 'C', 'Ts', 'C', 'Ts', 'C', 'Ts', 'P', 'I', 'C', 'Ts', 'I', 'C', 'I', 'Ts', 'C', 'P', 'C', 'Ts', 'I', 'C', 'I', 'C', 'Ts', 'P', 'C', 'Ts', 'I', 'C', 'P', 'Ts', 'C', 'I', 'C', 'P', 'C', 'P', 'Tc', 'C', 'Tc', 'C', 'I', 'C', 'Tc', 'P', 'Tc', 'C', 'P', 'C', 'I', 'C', 'P', 'Tc', 'C', 'Tb', 'P', 'I', 'P', 'C', 'Tc', 'P', 'Tc', 'C', 'P', 'C', 'I', 'C', 'P', 'C'], 42822113: ['C', 'P', 'C', 'I', 'C', 'I', 'P', 'C', 'P', 'I', 'Tb', 'P', 'C', 'P', 'Ts', 'P', 'C', 'P', 'C', 'Tc', 'P', 'C', 'P', 'C', 'P', 'C', 'P', 'Tc', 'P', 'Tc', 'C', 'Tc', 'C', 'P', 'C', 'P', 'C', 'Tc', 'P', 'C', 'I', 'P', 'C', 'Tc', 'C', 'P', 'C', 'P', 'C', 'Tc', 'C', 'I'], 24582121: ['C', 'I', 'Tb', 'C', 'Tb', 'P', 'C', 'P', 'C', 'Tc', 'P', 'C', 'P', 'Tc', 'C', 'Ts', 'P', 'Ts', 'C', 'Ts', 'P', 'C', 'Ts', 'C', 'Ts', 'P', 'C', 'Ts', 'P', 'Ts', 'P', 'C', 'Ts', 'P', 'Ts', 'C', 'Tc', 'P', 'Tc', 'C', 'Tc', 'P', 'C', 'Tc', 'P', 'C', 'Tc', 'P', 'Tc', 'P', 'C', 'Tc', 'P', 'C', 'P', 'C', 'P', 'C', 'Tb', 'P', 'C', 'Tb', 'C', 'Tc'], 17070059: ['C', 'P', 'C', 'I', 'Tc', 'P', 'Tc', 'I', 'Tc', 'P', 'Tc', 'C', 'I', 'C', 'I', 'P', 'Tc', 'P', 'C', 'Tc', 'C', 'I', 'Tc', 'P', 'C', 'I', 'P', 'Tc', 'P', 'Tc', 'P', 'Tc', 'P', 'I', 'C', 'I', 'Tc', 'P', 'I', 'Tc', 'P', 'Tc', 'P', 'I', 'C', 'I', 'P', 'Tc', 'C', 'P', 'I', 'Tc', 'P', 'I'], 44827119: ['C', 'I', 'C', 'P', 'I', 'Tb', 'C', 'Tb', 'P', 'I', 'P', 'C', 'Tb', 'P', 'C', 'P', 'C', 'P', 'C', 'P', 'Tc', 'P', 'Tc', 'P', 'C', 'P', 'C', 'Tc', 'C', 'P', 'C', 'I', 'Tc', 'P', 'C', 'P', 'I', 'C'], 64687090: ['C', 'I', 'Tb', 'C', 'Tb', 'I', 'Tb', 'P', 'Tb', 'P', 'Tb', 'P', 'C', 'Ts', 'P', 'I', 'C', 'I', 'P', 'I', 'C', 'I', 'P', 'I', 'C', 'Tc', 'P', 'Tc', 'P', 'Tc', 'P', 'C', 'Tc', 'P', 'Tc', 'P', 'C', 'P', 'C', 'I', 'C', 'I', 'C', 'I', 'Ts', 'Tc', 'P', 'I', 'P', 'I', 'P', 'C', 'Tb', 'C', 'Tc', 'Tb', 'Tc', 'P', 'C', 'Tc', 'Tb', 'Tc', 'Tb', 'Tc', 'C', 'Tc', 'Tb', 'Tc', 'C', 'Tc'], 72794100: ['C', 'I', 'Tb', 'C', 'Tb', 'C', 'Tb', 'P', 'Tb', 'P', 'C', 'Ts', 'C', 'Ts', 'C', 'Ts', 'P', 'Ts', 'C', 'Ts', 'P', 'Ts', 'P', 'C', 'Ts', 'C', 'Ts', 'P', 'Ts', 'C', 'Ts', 'P', 'Ts', 'P', 'Ts', 'P', 'Ts', 'C', 'P', 'C', 'Ts', 'C', 'Ts', 'P', 'I', 'P', 'C', 'Tc', 'C', 'Ts', 'C', 'Tc', 'P', 'C', 'Ts', 'C', 'P', 'I', 'C', 'I', 'C', 'I', 'C', 'I', 'C', 'I', 'C', 'I', 'C', 'I', 'C', 'I', 'C', 'I', 'C', 'I', 'C', 'I', 'C', 'P', 'C', 'I', 'Ts', 'C', 'Tc', 'C', 'Tc', 'C', 'Tc', 'I', 'Tc', 'I', 'C'], 82885110: ['C', 'I', 'Tb', 'C', 'I', 'Tb', 'C', 'P', 'C', 'Tb', 'C', 'P', 'C', 'Tc', 'C', 'Tc', 'C', 'Tb', 'P', 'C', 'Tc', 'P', 'Tc', 'P', 'C', 'P', 'Tc', 'P', 'Tc', 'P', 'C', 'Tc', 'C', 'P', 'C', 'Tc', 'C', 'P', 'Tc', 'P', 'Tc', 'P', 'C', 'Tc', 'C', 'Ts', 'C', 'P', 'C', 'P', 'C', 'P', 'C', 'Tb', 'Tc', 'P', 'Tb', 'C', 'Tc', 'C', 'Tc', 'C', 'P', 'C', 'Ts', 'C', 'Ts', 'C', 'Ts', 'P', 'C', 'Tc', 'C', 'P', 'C', 'Tc', 'C', 'P', 'C', 'Ts', 'C', 'I', 'C', 'P', 'C', 'P', 'C', 'I', 'C', 'I', 'Ts', 'P', 'Ts', 'C', 'Tc', 'C', 'Tc', 'I', 'P', 'C', 'P', 'C', 'Tc', 'C', 'Tc', 'P', 'C', 'Tc', 'C', 'P', 'C', 'Tc', 'P', 'C', 'Tc', 'C', 'Tc', 'I'], 86170104: ['C', 'I', 'C', 'I', 'Tb', 'C', 'P', 'Tb', 'C', 'Ts', 'C', 'P', 'C', 'Tc', 'C', 'Ts', 'P', 'Ts', 'P', 'Ts', 'C', 'P', 'C', 'Ts', 'P', 'C', 'P', 'C', 'Ts', 'P', 'Ts', 'P', 'C', 'I', 'C', 'P'], 82224125: ['C', 'I', 'Tb', 'C', 'Tb', 'C', 'Tb', 'C', 'Ts', 'I', 'Ts', 'P', 'C', 'Tc', 'C', 'Tc', 'C', 'Ts', 'C', 'Tc', 'C', 'P', 'C', 'Tc', 'C', 'Tc', 'P', 'C', 'Tc', 'P', 'Tc', 'P', 'Tc', 'P', 'Tc', 'I', 'P', 'C', 'Tc', 'C', 'P', 'Tc', 'P', 'C', 'P', 'C', 'I', 'P', 'C', 'Tc', 'C', 'Ts', 'Tb', 'C', 'P', 'C', 'Ts', 'Tb', 'P', 'Ts', 'C', 'P', 'I', 'C', 'Ts', 'P', 'Tb', 'Ts', 'I', 'Tb', 'Ts', 'P', 'C', 'P', 'C', 'Tc', 'P', 'Tc', 'C', 'Tb', 'C', 'P', 'C', 'Tb', 'I', 'C', 'Tb', 'P', 'Tc', 'I', 'Tc', 'C', 'Tc', 'C', 'Tc', 'C'], 64944126: ['C', 'I', 'C', 'I', 'Tb', 'P', 'C', 'P', 'Tb', 'C', 'P', 'I', 'C', 'I', 'C', 'I', 'C', 'I', 'C', 'Ts', 'P', 'I', 'C', 'P', 'C', 'I', 'Tc', 'P', 'Tc', 'P', 'C', 'I', 'C', 'Tc', 'P', 'C', 'I', 'C', 'P', 'Tc', 'P', 'Tc', 'P', 'C', 'I', 'C', 'P', 'C', 'Tc', 'P', 'C', 'P', 'C', 'I', 'C', 'Ts']}\n"
     ]
    }
   ],
   "source": [
    "# import random\n",
    "# random.seed(3)\n",
    "# students = random.sample(get_students(),5) #[94792123,10942128]\n",
    "students = get_students()\n",
    "B = 5  #number of bins\n",
    "CUT_OFF_SEQ_USE = 0.25 #we keep only sequences used once by at least 0.25% of students\n",
    "blocks, time_coords =  get_blocks_withTime_new(df,students,start=False)\n",
    "print blocks"
   ]
  },
  {
   "cell_type": "markdown",
   "metadata": {},
   "source": [
    "### Now we can get the frequency of use of sequences for each student to then:\n",
    "* Count number of time sequences occurs accross all students\n",
    "* Count unique number of students that conducted that sequence"
   ]
  },
  {
   "cell_type": "code",
   "execution_count": 5,
   "metadata": {
    "collapsed": false
   },
   "outputs": [],
   "source": [
    "frequencies = get_frequencies(blocks, shortest=2, longest=4)\n",
    "#Count number of time sequences occurs accross all students\n",
    "sum_frequencies = sum(frequencies.values(), Counter())\n",
    "#Count unique number of students that conducted that sequence\n",
    "counts_frequencies = Counter({f:sum([ 1 if f in freq else 0 for freq in frequencies.values()]) for f in list(sum_frequencies)})"
   ]
  },
  {
   "cell_type": "markdown",
   "metadata": {},
   "source": [
    "### Now we can select certain kinds of sequences such as:\n",
    "* keep all sequences with a certain action\n",
    "* remove rarely used sequences\n",
    "then the most common sequences can be printed"
   ]
  },
  {
   "cell_type": "code",
   "execution_count": 6,
   "metadata": {
    "collapsed": false
   },
   "outputs": [
    {
     "data": {
      "text/plain": [
       "[('PC', 96),\n",
       " ('CP', 94),\n",
       " ('CPC', 85),\n",
       " ('PCP', 78),\n",
       " ('TcP', 77),\n",
       " ('PCPC', 70),\n",
       " ('PCI', 69),\n",
       " ('PI', 69),\n",
       " ('TcPC', 68),\n",
       " ('PCTc', 68)]"
      ]
     },
     "execution_count": 6,
     "metadata": {},
     "output_type": "execute_result"
    }
   ],
   "source": [
    "N = int(CUT_OFF_SEQ_USE*len(blocks.keys()))\n",
    "counts_frequencies1 = remove_rare_frequencies(counts_frequencies,N)\n",
    "counts_frequencies2 = keep_frequencies_with(counts_frequencies,keep='P')\n",
    "counts_frequencies2.most_common(10)"
   ]
  },
  {
   "cell_type": "markdown",
   "metadata": {},
   "source": [
    "### Now lets count how many times a sequences is used, per student group, per time bin"
   ]
  },
  {
   "cell_type": "markdown",
   "metadata": {},
   "source": [
    "#### For each student, given a certain number of time bins, we find their sequences of actions within bins."
   ]
  },
  {
   "cell_type": "code",
   "execution_count": 7,
   "metadata": {
    "collapsed": false
   },
   "outputs": [
    {
     "ename": "TypeError",
     "evalue": "get_frequencies_by_bin() takes at least 4 arguments (4 given)",
     "output_type": "error",
     "traceback": [
      "\u001b[1;31m---------------------------------------------------------------------------\u001b[0m",
      "\u001b[1;31mTypeError\u001b[0m                                 Traceback (most recent call last)",
      "\u001b[1;32m<ipython-input-7-94ac42349a76>\u001b[0m in \u001b[0;36m<module>\u001b[1;34m()\u001b[0m\n\u001b[1;32m----> 1\u001b[1;33m \u001b[0mfrequencies_by_bin\u001b[0m \u001b[1;33m=\u001b[0m \u001b[0mget_frequencies_by_bin\u001b[0m\u001b[1;33m(\u001b[0m\u001b[0mblocks\u001b[0m\u001b[1;33m,\u001b[0m \u001b[0mB\u001b[0m\u001b[1;33m,\u001b[0m\u001b[0mshortest\u001b[0m\u001b[1;33m=\u001b[0m\u001b[1;36m2\u001b[0m\u001b[1;33m,\u001b[0m \u001b[0mlongest\u001b[0m\u001b[1;33m=\u001b[0m\u001b[1;36m2\u001b[0m\u001b[1;33m)\u001b[0m\u001b[1;33m\u001b[0m\u001b[0m\n\u001b[0m",
      "\u001b[1;31mTypeError\u001b[0m: get_frequencies_by_bin() takes at least 4 arguments (4 given)"
     ]
    }
   ],
   "source": [
    "frequencies_by_bin = get_frequencies_by_bin(blocks, B,shortest=2, longest=2)"
   ]
  },
  {
   "cell_type": "markdown",
   "metadata": {},
   "source": [
    "#### We would like, for each sequence, if it is not rare, to count how many times it is used per group per time bin."
   ]
  },
  {
   "cell_type": "code",
   "execution_count": null,
   "metadata": {
    "collapsed": false
   },
   "outputs": [],
   "source": [
    "### PARAMETERS\n",
    "students = get_students()\n",
    "attribute, level1, level2 = 'scaffolding','scaff','not'\n",
    "B = 5  #number of bins\n",
    "shortest_seq_length = 1\n",
    "longest_seq_length = 10\n",
    "CUT_OFF_SEQ_USE = 0.25 #we keep only sequences used once by at least 0.25% of students\n",
    "N = int(CUT_OFF_SEQ_USE*len(students))\n",
    "\n",
    "get_sequence_use_by_timebin(df,students,B,attribute,level1,level2,shortest_seq_length,longest_seq_length,N)\n",
    "for k,v in counts.iteritems():\n",
    "    print k,v[0],v[1]\n"
   ]
  },
  {
   "cell_type": "code",
   "execution_count": null,
   "metadata": {
    "collapsed": true
   },
   "outputs": [],
   "source": []
  }
 ],
 "metadata": {
  "anaconda-cloud": {},
  "kernelspec": {
   "display_name": "Python 2",
   "language": "python",
   "name": "python2"
  },
  "language_info": {
   "codemirror_mode": {
    "name": "ipython",
    "version": 2
   },
   "file_extension": ".py",
   "mimetype": "text/x-python",
   "name": "python",
   "nbconvert_exporter": "python",
   "pygments_lexer": "ipython2",
   "version": "2.7.12"
  }
 },
 "nbformat": 4,
 "nbformat_minor": 0
}
