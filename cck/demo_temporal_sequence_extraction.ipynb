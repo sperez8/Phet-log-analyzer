{
 "cells": [
  {
   "cell_type": "code",
   "execution_count": 2,
   "metadata": {
    "collapsed": false
   },
   "outputs": [],
   "source": [
    "import numpy as np\n",
    "import pandas as pd\n",
    "import sys\n",
    "import re\n",
    "from functions import *\n",
    "from collections import Counter\n",
    "np.set_printoptions(precision=2)\n",
    "pd.set_option('precision', 2)\n",
    "%matplotlib inline\n",
    "matplotlib.style.use('ggplot')"
   ]
  },
  {
   "cell_type": "markdown",
   "metadata": {},
   "source": [
    "### NOTICE: The functions demoed in this notebook are now stored in mining_functions.py\n",
    "#### (they may be outdated here)"
   ]
  },
  {
   "cell_type": "code",
   "execution_count": 14,
   "metadata": {
    "collapsed": false
   },
   "outputs": [],
   "source": [
    "PATH = '/Google Drive/Jonathan Sarah Ido folder/data/CCK/'\n",
    "def get_path(path = PATH):\n",
    "    if os.name == 'posix':\n",
    "        return os.environ['HOME']+path #'/Google Drive/Jonathan Sarah Ido folder/data/CCK/'\n",
    "    elif os.name == 'nt':\n",
    "        return os.environ['USERPROFILE']+ path.replace('/','\\\\') #'\\\\Google Drive\\Jonathan Sarah Ido folder\\data\\CCK\\\\'\n",
    "    else:\n",
    "        raise Exception('OS not recongnized. I\\'m confused.')\n",
    "gitpath = '/Documents/git/Phet-log-analyzer/cck/raw_data_parsing_check/'\n",
    "df = pd.read_csv(get_path(path = gitpath) + 'phet_cck_user_actions+sophistication_WITHPAUSE_more_circuit_info.txt',index_col=False)\n",
    "# dfx = pd.read_csv('C:\\Users\\Sarah\\Documents\\git\\Phet-log-analyzer\\cck\\\\raw_data_parsing_check\\phet_cck_user_actions+sophistication_WITHPAUSE_more_circuit_info.txt',index_col=False)\n",
    "df[\"student\"] = df[\"student\"].astype('category')\n",
    "df[\"Family\"]=df[\"Family\"].str.capitalize()\n",
    "df[\"Family_tool\"]=df[\"Family_tool\"].str.capitalize()\n",
    "df[\"Family_default\"]=df[\"Family_default\"].str.capitalize()\n",
    "df[\"Family_both\"]=df[\"Family_both\"].str.capitalize()\n",
    "\n",
    "df_scores = pd.read_csv(data_path + 'MATCHING_phet_cck_user_data_anonymized.txt')\n",
    "df_scores[\"student\"] = df_scores[\"student\"].astype('category')"
   ]
  },
  {
   "cell_type": "markdown",
   "metadata": {
    "collapsed": true
   },
   "source": [
    "## Functions we use to get sequences "
   ]
  },
  {
   "cell_type": "code",
   "execution_count": 15,
   "metadata": {
    "collapsed": false
   },
   "outputs": [],
   "source": [
    "\n",
    "converter =  {\"Construct\" : \"C\",\n",
    "\"Interface\" : \"I\",\n",
    "\"Pause\" : \"P\",\n",
    "\"Test_basic\" : \"Tb\",\n",
    "\"Test_basic_default\" : \"Tbd\",\n",
    "\"Test_basic_noncontactammeter\" : \"Tba\",\n",
    "\"Test_basic_noncontactammeter_default\" : \"Tbad\",\n",
    "\"Test_basic_noncontactammeter_not\" : \"Tban\",\n",
    "\"Test_basic_not\" : \"Tbn\",\n",
    "\"Test_basic_voltmeter\" : \"Tbv\",\n",
    "\"Test_basic_voltmeter_default\" : \"Tbvd\",\n",
    "\"Test_basic_voltmeter_not\" : \"Tbvn\",\n",
    "\"Test_complex\" : \"Tc\",\n",
    "\"Test_complex_default\" : \"Tcd\",\n",
    "\"Test_complex_noncontactammeter\" : \"Tca\",\n",
    "\"Test_complex_noncontactammeter_default\" : \"Tcad\",\n",
    "\"Test_complex_noncontactammeter_not\" : \"Tcan\",\n",
    "\"Test_complex_not\" : \"Tcn\",\n",
    "\"Test_complex_seriesammeter\" : \"Tc\",\n",
    "\"Test_complex_seriesammeter_default\" : \"Tcd\",\n",
    "\"Test_complex_seriesammeter_not\" : \"Tcn\",\n",
    "\"Test_complex_voltmeter\" : \"Tcv\",\n",
    "\"Test_complex_voltmeter_default\" : \"Tcvd\",\n",
    "\"Test_complex_voltmeter_not\" : \"Tcvn\",\n",
    "\"Test_other\" : \"To\",\n",
    "\"Test_other_default\" : \"Tod\",\n",
    "\"Test_other_noncontactammeter\" : \"Toa\",\n",
    "\"Test_other_noncontactammeter_default\" : \"Toad\",\n",
    "\"Test_other_noncontactammeter_not\" : \"Toan\",\n",
    "\"Test_other_not\" : \"Ton\",\n",
    "\"Test_other_voltmeter_not\" : \"Tovn\",\n",
    "\"Test_other_voltmeter\" : \"Tov\",\n",
    "\"Test_other_voltmeter_default\" : \"Tovd\",\n",
    "\"Test_simple\" : \"Ts\",\n",
    "\"Test_simple_default\" : \"Tsd\",\n",
    "\"Test_simple_noncontactammeter\" : \"Tsa\",\n",
    "\"Test_simple_noncontactammeter_default\" : \"Tsad\",\n",
    "\"Test_simple_noncontactammeter_not\" : \"Tsan\",\n",
    "\"Test_simple_not\" : \"Tsn\",\n",
    "\"Test_simple_voltmeter\" : \"Tsv\",\n",
    "\"Test_simple_voltmeter_default\" : \"Tsvd\",\n",
    "\"Test_simple_voltmeter_not\" : \"Tsvn\",\n",
    "    }\n",
    "\n",
    "\n",
    "def get_blocks_withTime_new(df, students, category_column, as_list = True, ignore = [], start = False):\n",
    "    '''gets blocks of sequences for a list of students\n",
    "    From the column \"Family\", \"Family_tool\", \"Family_default\" or \"Family_both\" in the dataframe, each action family is converted to a string in\n",
    "    the format with at least one capitalized character: 'C', or 'Cccc'.\n",
    "    To facilitate sequence mining. The sequence is exported as a list:\n",
    "    ['Ta', 'C','Tb',.....].\n",
    "    \n",
    "    Arguments:\n",
    "        students: list with student ids to generate blocks for\n",
    "        category_column: the column of the dataframe from which cetagories are taken from\n",
    "        as_list: by default true. returns sequences as a list of strings instead of a single string\n",
    "        ignore: list of actions to ignore\n",
    "        start: if we want a start action to find the first sequence of action of every student   \n",
    "    \n",
    "    returns:\n",
    "     blocks = {student_1_id: ['Ta', 'C','Tb',.....], student_2_id: [...]}    \n",
    "     time_coords = {student_1_id: [(start_of_action_1, duration), (start_of_action_2, duration),...], student_2_id: [...]}    \n",
    "    '''\n",
    "    def convert(action,ignore):\n",
    "        return converter[action]\n",
    "    \n",
    "    if start:\n",
    "        blocks = {student:'S' for student in students}\n",
    "    else:\n",
    "        blocks = {student:'' for student in students}\n",
    "\n",
    "    time_coords = {student:[] for student in students}\n",
    "    for student in students:\n",
    "        sequence =  list(df[df['student']==student][category_column])\n",
    "        time_stamps =  list(df[df['student']==student]['Time Stamp'])\n",
    "        time_stamps = (time_stamps - min(time_stamps))/1000.  #human readable seconds\n",
    "        time_coord=[]  #coordinate array for broken bar plot, takes array of (start time, duration)\n",
    "        p = re.compile(r'([A-Z][a-z]{0,3})\\1*')  #this regex finds all action blocks of length 1+\n",
    "        #print ''.join([convert(action,ignore) for action in sequence])\n",
    "        #print time_stamps\n",
    "        #use finditer to return a sequence of matches as an iterator\n",
    "        previous_start = 0\n",
    "        for match in p.finditer(''.join([convert(action,ignore) for action in sequence])):\n",
    "            ind = match.span()  #this gives start and end of matched block\n",
    "            #for matches of action denoted by more than 1 letter, need to correct the span\n",
    "            ind = (previous_start, previous_start + (ind[1]-ind[0])/len(set(match.group())))\n",
    "            previous_start = ind[1]\n",
    "            #print match.group(), ind\n",
    "            if ind[1] >= len(time_stamps):  #block location offset from real index by 1\n",
    "                duration = time_stamps[ind[1]-1] - time_stamps[ind[0]]  #time duration of block\n",
    "                #print time_stamps[ind[1]-1], time_stamps[ind[0]]  #time duration of block\n",
    "            else:\n",
    "                duration = time_stamps[ind[1]] - time_stamps[ind[0]]\n",
    "                #print time_stamps[ind[1]] , time_stamps[ind[0]]\n",
    "            time_coord.append((time_stamps[ind[0]],duration))\n",
    "            #print match.group(), match.span(), duration\n",
    "        #actual regex that converts block of similar actions to just one action\n",
    "        block = re.sub(r'([A-Z][a-z]{0,3})\\1+', r'\\1',''.join([convert(action,ignore) for action in sequence]))\n",
    "        if as_list:            \n",
    "            list_block = block[0] + ''.join([' ' + c if c.isupper() else c for c in block[1:]])\n",
    "            blocks[student] = list_block.split(' ')\n",
    "            time_coords[student] = time_coord\n",
    "        else:\n",
    "            blocks[student] += block\n",
    "            time_coords[student] = time_coord\n",
    "    return blocks, time_coords\n",
    "\n",
    "def get_frequencies(blocks, shortest=3, longest=11):\n",
    "    '''For each student, given a range of sequence legnths, count how many times students perform each sequence\n",
    "    Arguments:\n",
    "        blocks: blocked sequences for each student\n",
    "        shortest: length of shortest possible mined sequence\n",
    "        longest: length of longest possible mined sequence\n",
    "        \n",
    "    returns:\n",
    "        frequencies: {student1: Counter{'TPT':3, 'CPT':5...}, ...}\n",
    "    '''\n",
    "    frequencies = {student:Counter() for student in blocks.keys()}\n",
    "    for student,sequence in blocks.iteritems():\n",
    "        for seq_length in range(shortest, longest+1):  # loops through different possible sequence lengths\n",
    "            frequencies[student] += Counter(''.join(sequence[i:i+seq_length]) for i in range(len(sequence)-seq_length+1))  # counts string matches for every string of the current length\n",
    "    return frequencies\n",
    "\n",
    "def get_bins_per_student(students,time_coords, B):\n",
    "    ''' For each student, given a certain number of time bins, we find the index of the action that starts each bin.\n",
    "    \n",
    "    Arguments:\n",
    "        students: list with student ids to generate bins for\n",
    "        B: the number of time bins (typically 5)\n",
    "        \n",
    "    returns:\n",
    "        action_bins = {student_1_id: [ (0,index_action_2nd_bin) , (index_action_2nd_bin,index_action_3rd_bin),... ]}    \n",
    "    '''\n",
    "    action_bins = {}\n",
    "    for student in students:\n",
    "        action_indices = [None for i in range(1,B)]\n",
    "        total_time = sum(time_coords[student][-1])\n",
    "        time_of_bins = [total_time*i/B for i in range(1,B)]\n",
    "        for i,(t,duration) in enumerate(time_coords[student]):\n",
    "            for j,b in enumerate(time_of_bins):\n",
    "                if t <= b:\n",
    "                    action_indices[j] = i+1\n",
    "        action_indices.append(len(time_coords[student])) #add last index\n",
    "        action_indices.insert(0,0)\n",
    "        #Transform bins in tuples of ranges\n",
    "        action_bins[student] = [(action_indices[i],action_indices[i+1]) for i in range(0,B)]\n",
    "\n",
    "    return action_bins\n",
    "\n",
    "def get_frequencies_by_bin(blocks, students, time_coords, B,shortest=3, longest=11):\n",
    "    '''\n",
    "    Given blocks of actions and a range of sequence lengths, we can find the frequency of sequence\n",
    "    use within each bin.\n",
    "    \n",
    "    Arguments:\n",
    "        blocks: blocked sequences for each student\n",
    "        action_bins\n",
    "        shortest: length of shortest possible mined sequence\n",
    "        longest: length of longest possible mined sequence\n",
    "        \n",
    "    returns:\n",
    "        frequencies = {student: [list of Counters for each bin]}\n",
    "                    = {student1: [ Counter{'TPT':3, 'CPT':5...}, Counter{},... ],  ...}\n",
    "    '''\n",
    "    action_bins = get_bins_per_student(students, time_coords,B)\n",
    "    frequencies = {student:[Counter() for i in range(B)] for student in blocks.keys()}        \n",
    "    for student,sequence in blocks.iteritems():\n",
    "        for seq_length in range(shortest, longest+1):  # loops through different possible sequence lengths\n",
    "            for j,(start_action,end_action) in enumerate(action_bins[student]): \n",
    "                #since we want to find sequence THAT START in bin, we remove the parts of the sequence that fall in previous bins\n",
    "                portion_of_sequence = sequence[start_action:end_action]\n",
    "                frequencies[student][j] += Counter(''.join(portion_of_sequence[i:i+seq_length]) for i in range(len(portion_of_sequence)-seq_length+1))  # counts string matches for every string of the current length\n",
    "    return frequencies\n",
    "\n",
    "def count_use_per_group_per_bin(allfrequencies, frequencies_by_bin, B, attribute, level1, level2):\n",
    "    '''\n",
    "    '''\n",
    "    sequences = allfrequencies.keys()\n",
    "    counts = {seq : np.zeros((2,B)) for seq in sequences} #initialize empty array for each sequence\n",
    "    \n",
    "    student_group_1 = get_students(attribute, level1)\n",
    "    student_group_2 = get_students(attribute, level2)\n",
    "    \n",
    "    for student,f_by_bin in frequencies_by_bin.iteritems():\n",
    "        for b,counter in enumerate(f_by_bin): \n",
    "            for seq in counter: \n",
    "                if seq in sequences:\n",
    "                    if student in student_group_1: \n",
    "                        group = 0\n",
    "                    elif student in student_group_2: \n",
    "                        group = 1\n",
    "                    else:\n",
    "                        raise Exception(\"Student not found in groups:{0}\".format(stdeunt))\n",
    "                    counts[seq][group][b] += 1\n",
    "    return counts\n",
    "\n",
    "def get_sequence_use_by_timebin(df, students, category_column, B, attribute, level1, level2, shortest_seq_length, longest_seq_length, N):\n",
    "    '''\n",
    "    '''\n",
    "    \n",
    "    print \"\"\"Getting sequence use over {3} time bins for {0} students split by {1}. \n",
    "            Keeping only sequences used once by at least {2} students.\"\"\".format(len(students),attribute,N,B)\n",
    "    blocks, time_coords =  get_blocks_withTime_new(df, students, category_column, start=False)\n",
    "    frequencies = get_frequencies(blocks, shortest = shortest_seq_length, longest = longest_seq_length)\n",
    "    frequencies_by_bin = get_frequencies_by_bin(blocks, students, time_coords, B, shortest = shortest_seq_length, longest = longest_seq_length)\n",
    "    counts_frequencies = Counter({f:sum([ 1 if f in freq else 0 for freq in frequencies.values()]) for f in list(sum(frequencies.values(),Counter()))})\n",
    "    cleaned_frequencies = remove_rare_frequencies(counts_frequencies, N)\n",
    "    counts = count_use_per_group_per_bin(cleaned_frequencies, frequencies_by_bin, B, attribute, level1, level2)\n",
    "    return counts"
   ]
  },
  {
   "cell_type": "markdown",
   "metadata": {},
   "source": [
    "### For a particular set of students, we find their sequences of actions (in block format) and find the time coordinate and duration of each action"
   ]
  },
  {
   "cell_type": "code",
   "execution_count": 17,
   "metadata": {
    "collapsed": false
   },
   "outputs": [
    {
     "name": "stdout",
     "output_type": "stream",
     "text": [
      "{19930112: ['C', 'P', 'C', 'P', 'C', 'P', 'C', 'P', 'I', 'Tbv', 'Tba', 'Tbv', 'C', 'P', 'C', 'P', 'C', 'Tsa', 'C', 'P', 'C', 'P', 'C', 'Tca', 'P', 'C', 'Tsa', 'P', 'Tsa', 'C', 'Tca', 'C', 'Tsa', 'P', 'C', 'Tsa', 'C', 'P', 'C', 'P', 'C', 'P', 'C', 'P', 'C', 'P', 'C', 'P', 'I', 'C'], 61296129: ['C', 'I', 'C', 'I', 'P', 'Tbv', 'P', 'C', 'Tbv', 'P', 'C', 'I', 'C', 'I', 'C', 'I', 'C', 'P', 'C', 'P', 'C', 'I', 'C', 'P', 'C', 'P', 'Tcv', 'P', 'C', 'Tcv', 'P', 'C', 'P', 'C', 'P', 'C', 'P', 'C', 'P', 'C', 'P', 'C'], 57521121: ['C', 'I', 'C', 'I', 'Tba', 'I', 'Tbv', 'C', 'Tbv', 'Tba', 'C', 'Tba', 'I', 'C', 'P', 'C', 'Tbv', 'P', 'C', 'Tsa', 'C', 'Tca', 'C', 'Tca', 'P', 'Tca', 'P', 'C', 'Tsa', 'Tca', 'P', 'Tcv', 'Tca', 'Tsa', 'Tca', 'C', 'Tsa', 'C', 'Tca', 'C', 'Tca', 'I', 'C', 'I', 'P', 'C', 'Tca', 'Tsa', 'Tca', 'C', 'Tca', 'C', 'Tca', 'Tsa', 'Tca', 'P', 'C', 'P', 'C', 'Tca', 'C', 'I', 'P', 'C', 'P', 'Tca'], 13679110: ['C', 'I', 'C', 'I', 'Tbv', 'Tba', 'P', 'C', 'Tba', 'C', 'Tsv', 'Tsa', 'P', 'Tsa', 'C', 'I', 'C', 'Tcv', 'Tca', 'P', 'Tca', 'C', 'Tca', 'P', 'Tca', 'C', 'Tcv', 'Tca', 'P', 'Tca', 'C', 'Tca', 'C', 'Tcv', 'C', 'Tca', 'I', 'C', 'Tca', 'C', 'Tca', 'C', 'P', 'Tcv', 'P', 'C', 'Tcv', 'C', 'Tcv', 'C', 'Tcv', 'C', 'Tcv', 'P', 'Tca', 'C', 'Tca', 'P', 'Tca', 'C', 'Tca', 'C', 'Tca', 'P', 'C', 'Tca', 'C', 'Tca', 'P', 'C', 'P', 'C', 'P', 'C', 'P', 'Tsa', 'Tsv', 'Tsa', 'C', 'Tsa', 'C', 'P', 'Tsa', 'C', 'P', 'C', 'I'], 4762120: ['C', 'I', 'Tba', 'P', 'Tba', 'C', 'Tsa', 'P', 'C', 'P', 'I', 'Tbv', 'C', 'Tbv', 'P', 'Tbv', 'C', 'Tsv', 'C', 'Tsv', 'C', 'Tsv', 'C', 'Tsv', 'P', 'C', 'Tsv', 'P', 'Tsa', 'C', 'Tba', 'C', 'Tsa', 'C', 'Tsa', 'P', 'Tsa', 'C', 'Tsa', 'P', 'C', 'Tca', 'I', 'Tca', 'C', 'Tsa', 'Tsv', 'P'], 51352592: ['C', 'Tsa', 'C', 'Tsa', 'P', 'Tsv', 'C', 'Tsv', 'C', 'P', 'C', 'Tsv', 'C', 'P', 'C', 'P', 'C', 'P', 'C', 'I', 'C', 'P', 'C', 'P', 'C', 'P', 'C', 'I', 'C', 'P', 'C', 'P', 'C', 'P', 'C', 'I', 'C'], 10009106: ['C', 'P', 'I', 'C', 'I', 'C', 'I', 'C', 'Tca', 'C', 'Tbv', 'Tba', 'I', 'P', 'Tba', 'P', 'I', 'Tbv', 'C', 'Tbv', 'Tba', 'C', 'Tba', 'I', 'P', 'I', 'Tsv', 'P', 'Tsv', 'P', 'Tsa', 'P', 'Tsa', 'I', 'P', 'Tsa', 'C', 'Tsv', 'Tsa', 'I', 'Tsa', 'C', 'Tsa', 'I', 'Tsv', 'P', 'C', 'Tsv', 'Tsa', 'I', 'Tsa', 'C', 'Tsa', 'I', 'Tsv', 'P', 'C', 'Tsv', 'I', 'Tsa', 'C', 'Tsv', 'I', 'Tsv', 'Tsa', 'I', 'P', 'I', 'P', 'C'], 68995094: ['I', 'C', 'P', 'I', 'C', 'I', 'C', 'I', 'C', 'I', 'C', 'P', 'I', 'Tbv', 'P', 'C', 'I', 'C', 'I', 'C', 'P', 'C', 'I', 'C', 'I', 'C', 'P', 'I', 'Tsv', 'Tbv', 'P', 'C', 'I', 'P', 'C', 'P', 'C'], 8580120: ['C', 'P', 'C', 'I', 'C', 'Tbv', 'Tba', 'I', 'P', 'Tbv', 'C', 'Tba', 'P', 'I', 'C', 'Tsv', 'P', 'Tsa', 'P', 'Tsv', 'P', 'C', 'Tsv', 'P', 'Tsa', 'P', 'Tsa', 'P', 'C', 'Tsa', 'P', 'C', 'Tsa', 'P', 'Tsa', 'P', 'C', 'Tsa', 'P', 'C'], 64153126: ['C', 'I', 'C', 'I', 'C', 'I', 'Tsa', 'C', 'Tba', 'C', 'Tca', 'I', 'Tcv', 'P', 'I', 'C', 'I', 'C', 'Tca', 'P', 'C', 'P', 'C', 'Tba', 'P', 'I', 'C', 'I', 'Tbv', 'I', 'C', 'I', 'P', 'C', 'I', 'Tca', 'C', 'Tca', 'P', 'C', 'Tca', 'P', 'I', 'P', 'Tca', 'P', 'I', 'Tcv', 'C', 'I', 'C', 'Tca', 'I', 'C', 'Toa', 'C', 'Toa', 'I', 'Tov', 'I', 'C', 'I', 'C', 'I', 'C', 'I', 'Tov', 'I', 'C', 'I', 'C', 'I', 'C', 'I', 'C', 'I', 'C', 'I', 'C', 'P', 'Toa', 'P', 'Toa', 'C', 'P', 'C', 'Toa', 'C', 'Toa', 'C', 'Toa', 'C', 'Toa', 'C', 'I', 'C', 'P', 'C', 'I', 'C', 'P', 'C', 'P', 'C', 'I'], 24387118: ['C', 'P', 'I', 'Toa', 'P', 'C', 'Tca', 'I', 'P', 'C', 'Tca', 'C', 'I', 'C', 'Tca', 'P', 'C', 'P', 'C', 'I', 'Tca', 'P', 'C', 'P', 'C', 'Tca', 'P', 'C', 'Tcv', 'Tca', 'P', 'Tcv', 'P', 'I', 'P', 'C', 'P', 'C', 'I', 'C', 'P', 'C', 'Tca', 'P', 'C', 'Tsa', 'C', 'P', 'Tba', 'I', 'P', 'C', 'I', 'C', 'I', 'Tca', 'C', 'I', 'Tca', 'Tba', 'P', 'C'], 82243121: ['I', 'C', 'I', 'Tba', 'Tbv', 'Tba', 'C', 'Tbv', 'P', 'C', 'Tba', 'C', 'P', 'C', 'Tsv', 'C', 'Tsa', 'Tsv', 'P', 'C', 'Tba', 'C', 'Tba', 'Tbv', 'C', 'Tsv', 'Tsa', 'P', 'C', 'Tsv', 'Tsa', 'C', 'Tsv', 'C', 'Tcv', 'Tca', 'C', 'Tcv', 'P', 'C', 'Tcv', 'Tca', 'P', 'C', 'P', 'C', 'I', 'C', 'Tca', 'I', 'Tcv', 'I', 'C', 'I', 'C', 'I', 'C', 'I', 'C', 'I', 'C', 'P', 'Tca', 'Tba', 'P', 'C', 'Tca', 'C', 'Tca', 'C', 'Tcv', 'C', 'Tsv', 'Tsa', 'C', 'Tsa', 'C', 'Tsa', 'C', 'Tsa', 'C', 'P', 'Tsa', 'Tsv', 'P', 'Tsa', 'P', 'Tsa', 'C', 'I', 'P', 'C', 'Tba', 'I', 'C', 'Tca', 'P', 'Tca', 'C', 'Tba', 'C'], 91203122: ['C', 'I', 'Tba', 'I', 'Tbv', 'C', 'Tba', 'C', 'P', 'C', 'P', 'C', 'Tsa', 'C', 'Tsa', 'P', 'C', 'P', 'Tsv', 'C', 'Tsv', 'P', 'Tsa', 'P', 'Tsv', 'P', 'C', 'Tsa', 'C', 'Tsa', 'P', 'C', 'Tsv', 'P', 'C', 'Tsv', 'P', 'Tsa', 'C', 'Tsa', 'P', 'C', 'Tca', 'P', 'C', 'Tca', 'C', 'Tca', 'P', 'C', 'P', 'I', 'C', 'Tca', 'C', 'Tca', 'C', 'Tca', 'C', 'Tca', 'C'], 39619124: ['C', 'I', 'Toa', 'P', 'C', 'P', 'I', 'Tov', 'C', 'Tov', 'P', 'C', 'Tba', 'P', 'C', 'Tca', 'P', 'Tca', 'P', 'C', 'Tca', 'P', 'C', 'P', 'Tcv', 'C', 'Tsv', 'C', 'Tcv', 'P', 'C', 'P', 'Tcv', 'P', 'C', 'Tcv'], 28098102: ['C', 'P', 'C', 'P', 'C', 'I', 'C', 'P', 'C', 'I', 'Tbv', 'C', 'P', 'Tsv', 'P', 'C', 'Tcv', 'C', 'P', 'C', 'P', 'C', 'P', 'C', 'I', 'C', 'I'], 20717120: ['C', 'P', 'C', 'I', 'C', 'I', 'C', 'P', 'C', 'I', 'C', 'P', 'Tbv', 'I', 'Tba', 'I', 'P', 'C', 'Tsa', 'C', 'I', 'C', 'I', 'C', 'I', 'C', 'I', 'Tca', 'P', 'C', 'Tca', 'C', 'Tca', 'C', 'Tca', 'C', 'P', 'C', 'I', 'C', 'I', 'Tca', 'I', 'P', 'C', 'I', 'C', 'I', 'P', 'C', 'P', 'C', 'P', 'I', 'Tca', 'P', 'C'], 70209120: ['C', 'I', 'Tcv', 'C', 'P', 'Tcv', 'P', 'Tcv', 'I', 'Tca', 'C', 'P', 'Tca', 'I', 'P', 'I', 'C', 'I', 'C', 'P', 'I', 'C', 'I', 'P', 'Tcv', 'P', 'I', 'C', 'P', 'C', 'P', 'I', 'Tcv', 'P', 'C', 'P', 'C'], 62935112: ['C', 'P', 'C', 'P', 'Tcv', 'I', 'Tca', 'C', 'Tca', 'C', 'Tca', 'P', 'I', 'C', 'P', 'C', 'Tca', 'I', 'Tcv', 'C', 'Tcv', 'P', 'C', 'I', 'C', 'P', 'Tcv', 'I', 'C', 'Tca', 'C', 'P', 'I', 'Tcv', 'I', 'C', 'Tca', 'C', 'Tca', 'C', 'P', 'C', 'I', 'P', 'I', 'C', 'Tcv', 'C', 'P', 'I', 'C', 'I', 'Tcv', 'I', 'Tca', 'C', 'Tca', 'P'], 73538121: ['C', 'I', 'P', 'I', 'Tcv', 'Tca', 'I', 'C', 'P', 'I', 'Tca', 'P', 'C', 'I', 'C', 'P', 'C', 'I', 'C', 'Tcv', 'I', 'C', 'I', 'C', 'I', 'C', 'I', 'P', 'I', 'Tca', 'C', 'Tca', 'P', 'C', 'Tca', 'I', 'Tca', 'P', 'I', 'Tcv', 'P', 'C', 'Tcv', 'P', 'C', 'Tcv', 'P', 'I'], 46231117: ['C', 'I', 'Tov', 'I', 'C', 'Tcv', 'Tca', 'P', 'I', 'C', 'Tca', 'C', 'P', 'Tca', 'C', 'I', 'C', 'I', 'Tca', 'P', 'C', 'Tca', 'C', 'Tca', 'C', 'Tba', 'C', 'Tsa', 'C', 'Tsa', 'C', 'P', 'C', 'P', 'C', 'I', 'C', 'P', 'C', 'P', 'C', 'P', 'C', 'I', 'Tca', 'C', 'Tca', 'C', 'Tca', 'P', 'C'], 17580122: ['C', 'P', 'C', 'I', 'C', 'I', 'Tbv', 'C', 'P', 'C', 'I', 'C', 'I', 'C'], 13378139: ['C', 'I', 'C', 'P', 'I', 'Tcv', 'I', 'Tca', 'I', 'Tca', 'I', 'C', 'I', 'C', 'I', 'P', 'I', 'Tcv', 'P', 'Tca', 'P', 'C', 'I', 'C', 'I', 'P', 'Tcv', 'P', 'I', 'Tcv', 'I', 'Tcv', 'I', 'Tca', 'P', 'C', 'I', 'P', 'I', 'Tcv', 'P', 'C', 'P', 'I', 'P', 'C', 'P', 'C', 'P'], 38648120: ['C', 'P', 'I', 'Tbv', 'C', 'Tbv', 'C', 'Tbv', 'P', 'I', 'C', 'I', 'Tba', 'C', 'Tsa', 'C', 'Tca', 'C', 'Tca', 'C', 'Tca', 'P', 'I', 'Tcv', 'P', 'I', 'C', 'I', 'C', 'I', 'Tca', 'P', 'I', 'C', 'I', 'Tca', 'C', 'Tca', 'C', 'P', 'I', 'Tca', 'C', 'Tca', 'C', 'Tba', 'C', 'Tba', 'C', 'Tca', 'C', 'Tca', 'C', 'Tba', 'Tca', 'C', 'Tca', 'P', 'Tca', 'P', 'I', 'P', 'C', 'Tca', 'C', 'I', 'C', 'I', 'C', 'P', 'C', 'Tba', 'C', 'Tca', 'C', 'Tca', 'Tba', 'Tca', 'C'], 60076128: ['C', 'I', 'C', 'I', 'P', 'C', 'Tcv', 'C', 'P', 'Tov', 'C', 'P', 'C', 'P', 'C', 'P', 'C', 'I', 'C', 'P', 'I', 'Tca', 'C', 'Tca', 'P', 'C', 'P', 'C', 'I', 'C', 'Tca', 'C', 'Tca', 'C', 'Tca', 'I', 'Tcv', 'P', 'C', 'Tcv', 'I', 'Tca', 'P', 'C', 'P', 'I', 'C', 'I', 'P', 'Tca', 'C', 'Tca', 'C', 'P', 'C', 'Tca', 'C', 'Tba', 'P', 'C', 'I', 'C', 'Tca', 'C', 'Tca', 'C', 'P', 'C', 'I'], 4936123: ['C', 'I', 'C', 'I', 'Tba', 'I', 'P', 'Tbv', 'I', 'C', 'Tsv', 'P', 'Tsa', 'C', 'Tba', 'C', 'Tbv', 'C', 'Tba', 'C', 'Tba', 'C', 'P', 'C', 'P', 'Tsa', 'C', 'P', 'C', 'P', 'C', 'P', 'I', 'C', 'Tsv', 'C', 'Tsv', 'C', 'Tsv', 'I', 'P', 'C', 'Tsv', 'P', 'C', 'P', 'C', 'Tcv', 'Tca', 'C', 'Tcv', 'Tca', 'Tcv', 'C', 'Tcv', 'P', 'C', 'Tcv', 'P', 'I', 'C', 'Tcv', 'I', 'C', 'Tcv', 'Tca', 'P', 'C', 'Tca', 'Tcv', 'I', 'Tcv', 'C', 'Tcv', 'C', 'Tcv', 'P', 'Tcv', 'C', 'I'], 83841128: ['C', 'I', 'C', 'I', 'Tsv', 'P', 'I', 'Tsa', 'Tsv', 'P', 'C', 'Tsv', 'P', 'Tsv', 'Tsa', 'I', 'C', 'Tsa', 'P', 'Tsa', 'P', 'C', 'P', 'C', 'P', 'C', 'P', 'C', 'Tsa', 'C', 'Tca'], 48107113: ['C', 'P', 'I', 'Tbv', 'C', 'Tbv', 'P', 'Tba', 'P', 'C', 'Tsa', 'C', 'P', 'C', 'Tba', 'C', 'Tba', 'C', 'I', 'Tba', 'C', 'I', 'C', 'I', 'C', 'I', 'C', 'I', 'C', 'I', 'C', 'Tsa', 'Tca', 'C', 'I', 'C', 'I', 'Tca', 'Tsa', 'C', 'I', 'C', 'Tba', 'Tsa', 'Tba', 'Tsa', 'Tca', 'P', 'Tba', 'Tsa', 'Tca', 'C', 'Tca', 'P', 'Tca', 'Tsa', 'P', 'C', 'Tca', 'C', 'Tca', 'C', 'P', 'C', 'P', 'C', 'Tca', 'C', 'P', 'C', 'Tov', 'C', 'Tov', 'Toa', 'C', 'P', 'C', 'I', 'C', 'I', 'C', 'I', 'C', 'I', 'C', 'P', 'C'], 18838125: ['C', 'P', 'I', 'Tba', 'Tbv', 'I', 'P', 'Tba', 'C', 'Tba', 'P', 'C', 'Tba', 'C', 'P', 'C', 'Tsv', 'P', 'C', 'Tcv', 'I', 'Tcv', 'Tca', 'Tcv', 'C', 'Tcv', 'P', 'C', 'I', 'C', 'P', 'C', 'Tcv', 'C', 'Tca', 'Tba', 'P', 'C', 'P', 'C', 'P', 'Tsv', 'P', 'Tsv', 'C', 'Tsa', 'P', 'I', 'C', 'Tbv', 'C', 'Tbv', 'C', 'Tba', 'I', 'P', 'C', 'Tca', 'Tcv', 'Tca', 'I', 'Tca', 'C', 'Tcv', 'Tca', 'P', 'Tca', 'P', 'C', 'I', 'C', 'Tsv', 'C', 'Tcv', 'Tba', 'P'], 67755125: ['C', 'I', 'Tba', 'I', 'Tbv', 'P', 'C', 'Tba', 'Tbv', 'P', 'C', 'Tba', 'P', 'C', 'Tsv', 'Tsa', 'P', 'Tsa', 'Tsv', 'P', 'C', 'Tcv', 'Tca', 'P', 'C', 'P', 'C', 'P', 'I', 'C', 'I', 'Tcv', 'P', 'Tcv', 'Tca', 'P', 'C', 'Tcv', 'Tca'], 13205111: ['C', 'I', 'Tbv', 'P', 'Tbv', 'I', 'Tba', 'I', 'C', 'I', 'P', 'Tsv', 'I', 'Tsa', 'P', 'C', 'I', 'Tcv', 'I', 'C', 'Tsa', 'I', 'Tsv', 'C', 'Tcv', 'P', 'I', 'Tca', 'P', 'C', 'Tba', 'P', 'Tba', 'I', 'Tbv', 'C', 'Tba', 'Tbv', 'P', 'C', 'I', 'C', 'I', 'P', 'Tca', 'I', 'Tcv', 'P', 'C', 'P', 'I', 'Tca', 'P'], 15616121: ['C', 'P', 'C', 'I', 'C', 'P', 'I', 'Tba', 'P', 'C', 'I', 'C', 'P', 'C', 'P', 'C', 'P', 'C', 'I', 'C', 'P', 'C', 'P', 'C', 'P', 'C', 'P', 'C', 'I', 'Tcv', 'I', 'C', 'P', 'C', 'P', 'I', 'C', 'I', 'Tca'], 82752122: ['C', 'I', 'Tov', 'Toa', 'Tov', 'C', 'Tcv', 'Tca', 'C', 'P', 'C', 'P', 'C', 'Tcv', 'Tca', 'Tcv', 'Tca', 'C', 'Tca', 'C', 'I', 'C', 'Tcv', 'C', 'P', 'C', 'P', 'C', 'P', 'C', 'Tca', 'I', 'Tcv', 'P', 'Tca', 'P', 'C', 'I', 'C', 'P', 'Tca', 'P', 'C', 'P', 'C', 'I', 'Tca', 'P', 'C', 'Tca', 'P', 'I'], 12949120: ['C', 'I', 'Tbv', 'I', 'Tba', 'C', 'I', 'C', 'Tsa', 'C', 'I', 'Tsa', 'C', 'Tsa', 'P', 'Tsv', 'P', 'C', 'Tsv', 'P', 'Tsv', 'Tsa', 'P', 'I', 'P', 'C', 'Tca', 'C', 'I', 'Tca', 'P', 'Tca', 'Tcv', 'P', 'C', 'Tcv', 'C', 'Tcv', 'I', 'P', 'Tca', 'C', 'Tca', 'P', 'Tcv', 'C', 'I', 'Tca', 'Tcv', 'P', 'C', 'P', 'C', 'I', 'P', 'Tcv', 'P', 'C', 'P', 'Tcv', 'P', 'I'], 41045127: ['C', 'I', 'P', 'I', 'Tba', 'Tbv', 'C', 'Tba', 'P', 'C', 'Tba', 'P', 'C', 'I', 'C', 'I', 'P', 'Tsa', 'Tsv', 'P', 'C', 'Tsa', 'P', 'Tsv', 'P', 'I', 'C', 'I', 'P', 'Tsa', 'P', 'I', 'Tsv', 'P', 'C', 'Tsa', 'P', 'Tsv', 'P', 'C', 'I', 'C', 'I', 'P', 'I', 'Tba', 'P', 'Tsa', 'P', 'C', 'Tca', 'I', 'Tca', 'P', 'Tca', 'P', 'C', 'I', 'Tba', 'Tca', 'P', 'I', 'Tca', 'I', 'C', 'I', 'C', 'I', 'C', 'Toa', 'I', 'C', 'I', 'C', 'I', 'C', 'I', 'C', 'I', 'C', 'P', 'C', 'Tba', 'C', 'Tba', 'Tca', 'C', 'Tca', 'C', 'Tba', 'Tca'], 94186123: ['C', 'I', 'C', 'I', 'Tov', 'P', 'C', 'P', 'C', 'P', 'Tov', 'P', 'C', 'P', 'Tov', 'P', 'C', 'P', 'I', 'C', 'I', 'C', 'Tov', 'C', 'Tov', 'C', 'Tov', 'C', 'Tov', 'C', 'Tov', 'C', 'P', 'C', 'I', 'C', 'Tbv', 'I', 'C', 'I', 'C', 'I', 'Tca', 'P'], 42175126: ['C', 'I', 'Tsv', 'C', 'Tsv', 'C', 'Tsv', 'I', 'Tsa', 'P', 'I', 'Tsv', 'P', 'C', 'Tsv', 'C', 'Tsv', 'P', 'Tsa', 'P', 'C', 'Tsa', 'P', 'C', 'P', 'C', 'Tsv', 'C', 'Tsv', 'P', 'C', 'Tsv', 'C', 'Tbv', 'C', 'Tcv', 'P', 'C', 'P', 'C', 'Tcv', 'Tca', 'P', 'Tca', 'Tcv', 'P', 'I', 'C', 'I', 'C', 'I', 'C', 'I', 'C', 'P', 'I', 'C', 'Tov', 'C'], 55188124: ['I', 'C', 'I', 'C', 'I', 'Tcv', 'C', 'I', 'C', 'I', 'C', 'I', 'Tba', 'C', 'I', 'Tsa', 'C', 'Tca', 'C', 'Tca', 'C', 'Tca', 'C', 'Tca', 'P', 'C', 'Tsa', 'I', 'P', 'C', 'Tsa', 'C', 'P', 'Tsa', 'P', 'Tsa', 'P', 'C', 'I', 'Tca', 'P', 'C'], 18088102: ['C', 'P', 'C', 'I', 'C', 'I', 'C', 'P', 'I', 'Tsa', 'P', 'C', 'Tsa', 'C', 'P', 'C', 'I', 'Tca', 'C', 'Tca', 'P', 'C', 'P', 'C', 'P', 'C', 'P', 'C', 'P', 'Tca', 'P', 'C', 'P', 'C', 'P', 'C', 'P', 'C', 'P', 'Tca', 'C', 'Tca', 'C', 'Tca', 'C', 'Tca', 'P', 'C', 'I', 'C', 'P', 'Tca', 'C', 'Tca'], 10942128: ['C', 'P', 'C', 'I', 'Tcv', 'C', 'Tcv', 'C', 'P', 'C', 'P', 'C', 'I', 'C', 'P', 'C', 'P', 'C', 'P', 'C', 'P', 'C', 'I', 'Tcv'], 35155125: ['C', 'P', 'I', 'C', 'Tba', 'C', 'Tba', 'P', 'C', 'I', 'Tbv', 'C', 'P', 'C', 'Tsa', 'P', 'Tsa', 'Tsv', 'P', 'Tsv', 'P', 'C', 'P', 'C', 'P', 'C', 'Tca', 'C', 'Tsv', 'P', 'C', 'Tcv', 'Tca', 'Tcv', 'P', 'Tcv', 'C', 'Tsa', 'C', 'Tsa', 'Tsv', 'C', 'Tbv', 'P', 'I', 'P', 'I', 'C', 'I', 'C', 'I', 'C', 'I', 'C', 'I', 'C', 'I'], 82920121: ['C', 'I', 'Tba', 'P', 'C', 'P', 'C', 'P', 'C', 'P', 'C', 'Tca', 'P', 'Tca', 'P', 'C', 'P', 'Tca', 'C', 'Tca', 'P', 'I', 'Tca', 'P', 'I', 'C', 'I', 'C', 'Tsa', 'I', 'Tsa', 'P', 'I', 'Tsv', 'P', 'Tsv', 'C', 'I', 'P', 'I', 'Tsa', 'Tsv', 'P', 'Tsv', 'P', 'C', 'Tba', 'Tca', 'Tba', 'C', 'Tca', 'C', 'Tca', 'C', 'I', 'P', 'C', 'I', 'P', 'C', 'P', 'Tca', 'P', 'Tca', 'C', 'Tca', 'P', 'C', 'Tba', 'Tca', 'C', 'P', 'C', 'Tca', 'Tba'], 23143099: ['C', 'I', 'C', 'I', 'Tbv', 'Tba', 'C', 'P', 'Tbv', 'C', 'P', 'Tba', 'P', 'C', 'P', 'C', 'P', 'Tsa', 'P', 'C', 'I', 'C', 'Tca', 'C', 'Tca', 'P', 'Tca', 'C', 'Tca', 'C', 'Tca', 'C', 'Tca', 'C', 'Tca', 'C', 'Tca', 'P', 'Tca', 'C', 'Tca', 'C', 'Tca', 'P', 'Tca', 'I', 'Tca', 'C', 'Tsa', 'C', 'Tsa', 'P', 'C', 'I', 'C', 'I', 'P', 'C', 'I', 'C', 'I', 'Tba', 'Tsa', 'Tba', 'Tsa', 'Tba', 'I', 'C', 'Tsa', 'P', 'Tsa', 'C', 'Tca', 'P', 'C', 'I', 'Tsa', 'P', 'I', 'P', 'C', 'I', 'Tcv', 'I', 'Tca', 'P', 'C', 'Tca', 'P'], 66472128: ['C', 'I', 'P', 'I', 'P', 'C', 'I', 'C', 'P', 'C', 'P', 'I', 'C', 'P', 'C', 'P', 'C', 'I', 'C', 'Tcv', 'P', 'Tcv', 'C', 'Tcv', 'P', 'I', 'C', 'I', 'C', 'P', 'C', 'P', 'I', 'C', 'I', 'P', 'C', 'P', 'C', 'I', 'Tcv', 'C', 'I', 'C'], 37842114: ['C', 'P', 'I', 'C', 'P', 'I', 'Tbv', 'I', 'P', 'Tbv', 'I', 'Tba', 'P', 'C', 'P', 'Tsa', 'P', 'C', 'Tsv', 'P', 'Tsa', 'C', 'P', 'Tcv', 'Tca', 'P', 'C'], 61117124: ['C', 'I', 'C', 'I', 'C', 'I', 'C', 'I', 'C', 'Tcv', 'I', 'C', 'Tcv', 'C', 'I', 'Tcv', 'I', 'Tca', 'Tcv', 'C', 'Tcv', 'Tca', 'I', 'C', 'Tca', 'P', 'Tcv', 'C', 'Tca', 'C', 'P', 'Tcv', 'C', 'I', 'C', 'I', 'C', 'I', 'C', 'I', 'C', 'I', 'Tcv', 'P', 'C', 'I', 'C'], 85458129: ['C', 'P', 'C', 'I', 'C', 'I', 'Tba', 'I', 'Tbv', 'P', 'C', 'P', 'Tsa', 'Tsv', 'C', 'Tsa', 'Tsv', 'P', 'C', 'P', 'C', 'I', 'C', 'I', 'C', 'I', 'C', 'I', 'Tsa', 'P', 'C', 'P', 'Tsa', 'Tsv', 'P', 'C', 'Tca', 'C', 'Tca', 'C', 'I', 'C', 'Tca', 'C', 'I', 'C', 'Tca', 'C', 'P', 'C', 'Tca', 'C', 'Tca', 'C', 'Tsa', 'C', 'Tsa', 'P', 'Tsa', 'C', 'I', 'C', 'I', 'Tsa', 'C', 'Tsa', 'P', 'Tsa', 'C', 'Tsa', 'C', 'Tca', 'C', 'Tca', 'C', 'I', 'C', 'P', 'Tca', 'P', 'C', 'Tca', 'P', 'C', 'Tba', 'P', 'C', 'P', 'C', 'I', 'C', 'P', 'C', 'I', 'Tsa', 'C', 'I', 'C', 'Tca', 'C', 'Tca', 'C', 'Tca'], 9331415: ['C', 'P', 'I', 'Tsv', 'P', 'Tsv', 'P', 'I', 'Tsa', 'P', 'C', 'I', 'P', 'Tsa', 'I', 'Tsv', 'I', 'P', 'C', 'I', 'Tsv', 'I', 'P', 'Tsv', 'P', 'I', 'Tsa', 'P', 'C', 'Tca', 'I', 'P', 'I', 'Tcv', 'C', 'Tcv', 'C', 'Tcv', 'P', 'I', 'Tca', 'P', 'C', 'I', 'Tca', 'P', 'Tca', 'I', 'Tcv', 'P', 'I', 'C', 'I', 'C', 'I', 'P', 'Tcv', 'P', 'I', 'Tca', 'P', 'Tca', 'P', 'C', 'I', 'C', 'P', 'C', 'P', 'C', 'P', 'I', 'Tca', 'C', 'P', 'Tca', 'I', 'Tcv', 'P', 'I', 'Tca'], 87612126: ['C', 'I', 'C', 'I', 'Tca', 'C', 'Tca', 'P', 'Tca', 'P', 'C', 'Tcv', 'C', 'Tcv', 'P', 'C', 'P', 'C', 'Tca', 'C', 'Tca', 'P', 'C', 'Tcv', 'Tca', 'I', 'C', 'I', 'C', 'Tca', 'Tcv', 'P', 'C', 'Tcv', 'P', 'Tca', 'C', 'Tca', 'C', 'Tca', 'P', 'Tca', 'C', 'Tca', 'P', 'Tcv', 'P', 'C', 'Tca', 'C', 'Tca', 'Tcv', 'C', 'Tca', 'P', 'C', 'I', 'C', 'I', 'Tba', 'C', 'P', 'C', 'I', 'Tcv', 'I', 'C'], 67899116: ['C', 'I', 'Tcv', 'Tca', 'C', 'P', 'C', 'Tca', 'P', 'C', 'Tcv', 'C', 'Tcv', 'P', 'C', 'P', 'Tca', 'C', 'P', 'C', 'P', 'C', 'P', 'C', 'I', 'C', 'Tcv', 'P', 'C', 'Tcv', 'C', 'Tcv', 'C', 'Tcv', 'C', 'P', 'Tca', 'P', 'C', 'Tcv', 'P', 'C', 'P', 'C', 'Tcv', 'C', 'P', 'C', 'P', 'Tca', 'C', 'Tca', 'P', 'I'], 28582129: ['C', 'I', 'Tba', 'I', 'C', 'I', 'Tbv', 'C', 'P', 'C', 'P', 'Tba', 'C', 'I', 'Tsv', 'Tsa', 'C', 'Tsa', 'P', 'C', 'Tba', 'P', 'C', 'Tsv', 'P', 'Tsa', 'P', 'C', 'I', 'P', 'C', 'Tca', 'P', 'Tca', 'P', 'Tcv', 'P', 'C', 'Tca', 'C', 'Tba', 'Tca', 'Tba', 'Tbv', 'Tcv', 'P', 'C', 'P', 'C'], 96314111: ['C', 'P', 'Tbv', 'P', 'Tba', 'I', 'P', 'C', 'P', 'C', 'P', 'C', 'P', 'C', 'P', 'Tsa', 'Tsv', 'P', 'Tsv', 'C', 'P', 'C', 'Tca', 'P', 'C', 'Tca', 'C', 'P', 'Tca', 'C', 'Tca', 'P', 'Tca', 'I', 'Tca', 'P', 'C', 'P', 'C', 'Tba', 'P', 'C', 'P', 'C', 'P', 'C', 'P', 'C', 'P', 'C', 'Tba', 'C', 'P', 'C', 'P', 'C'], 66362122: ['C', 'P', 'I', 'Tca', 'P', 'Tca', 'Tcv', 'C', 'Toa', 'P', 'C', 'P', 'C', 'Tca', 'P', 'C', 'P', 'C', 'Tbv', 'C', 'Tbv', 'C', 'Tba', 'C', 'Tbv', 'C', 'Tsa', 'C', 'Tsa', 'P', 'C', 'P', 'C', 'Tsa', 'C', 'P', 'C', 'P', 'C', 'Tcv', 'P', 'Tca', 'P', 'C', 'Tca', 'C', 'Tca', 'P', 'C', 'Tba', 'C', 'Tba', 'P', 'Tca', 'C', 'Tsa', 'Tca', 'Tsa', 'C', 'Tba', 'P', 'C', 'Tca', 'P', 'Tca', 'C', 'Tca', 'C', 'Tca', 'C', 'Tca', 'C', 'I', 'C', 'Tca', 'C', 'Tca', 'C', 'Tca', 'C', 'Tca', 'C'], 51876107: ['C', 'I', 'Tbv', 'I', 'C', 'Tbv', 'I', 'Tbv', 'Tba', 'C', 'P', 'C', 'Tsv', 'P', 'Tsv', 'I', 'P', 'C', 'Tca', 'P', 'Tca', 'Tcv', 'C', 'Tcv', 'C', 'P', 'Tca', 'C', 'P', 'Tca', 'Tcv', 'P', 'Tcv', 'I', 'C', 'Tca', 'Tcv', 'P', 'I', 'Tca', 'C', 'P', 'Tsv', 'P', 'Tsa', 'P', 'I', 'Tsa', 'P', 'C', 'P', 'Tcv', 'P', 'I', 'P', 'C', 'P', 'I', 'Tcv', 'C', 'P', 'Tcv', 'C', 'Tcv', 'C', 'Tca', 'C', 'Tca', 'I', 'C', 'Tcv', 'C', 'Tca', 'P', 'Tca', 'C', 'Tca', 'C', 'Tca', 'P', 'I', 'Tcv', 'I', 'Tca', 'Tcv'], 77882125: ['C', 'I', 'Tca', 'I', 'Tcv', 'P', 'C', 'Tca', 'P', 'C', 'Tca', 'P', 'C', 'Tcv', 'Tca', 'P', 'C', 'Tca', 'C', 'Tca', 'P', 'C', 'Tca', 'C', 'Tca', 'Tcv', 'P', 'C', 'Tca', 'Tcv', 'C', 'Tca', 'Tcv', 'P', 'Tca', 'P', 'I', 'P', 'C', 'Tcv', 'P', 'C'], 8889108: ['C', 'P', 'C', 'I', 'Tca', 'Tcv', 'C', 'Tcv', 'Tca', 'C', 'P', 'C', 'Tcv', 'C', 'Tca', 'C', 'P', 'C', 'I', 'C', 'Tcv', 'Tca', 'C', 'I', 'C', 'P', 'C', 'P', 'C', 'Tca', 'P', 'I', 'C', 'I', 'C', 'Tca', 'C', 'I', 'Tca', 'C', 'P', 'C', 'Tca', 'P', 'C', 'P', 'C', 'P', 'C', 'P', 'Tca', 'I', 'Tcv', 'C', 'P', 'C', 'P', 'C', 'P', 'C'], 89337123: ['C', 'P', 'I', 'Tbv', 'I', 'Tba', 'I', 'C', 'I', 'Tbv', 'I', 'P', 'I', 'C', 'I', 'P', 'I', 'Tsv', 'I', 'Tsa', 'P', 'I', 'C', 'I', 'Tsa', 'C', 'Tsa', 'C', 'I', 'P', 'I', 'C', 'I', 'C', 'I', 'P', 'I', 'Tca', 'C', 'Tba', 'C', 'Tba', 'Tca', 'C', 'Tba', 'I', 'C', 'I', 'C', 'I', 'Tca', 'C', 'I', 'P', 'C', 'Tca', 'I', 'P', 'I', 'Tcv', 'C', 'Tcv', 'I', 'Tca', 'Tcv', 'P', 'C', 'Tcv', 'P', 'Tca', 'P', 'Tca', 'Tcv', 'Tca', 'P', 'Tca', 'P', 'Tcv', 'C', 'P', 'Tca', 'P', 'Tca'], 37987123: ['C', 'I', 'C', 'Tcv', 'C', 'Tcv', 'P', 'C', 'Tbv', 'P', 'C', 'I', 'C', 'P', 'I', 'C', 'P', 'Tsv', 'P', 'C', 'P', 'C', 'P', 'C', 'P', 'C', 'I', 'C', 'I', 'P', 'C', 'P', 'C', 'P', 'I', 'P', 'C', 'P', 'C', 'P', 'C', 'I', 'C'], 82616120: ['C', 'P', 'C', 'I', 'Tcv', 'C', 'P', 'I', 'Tca', 'C', 'P', 'C', 'I', 'P', 'C', 'I', 'C', 'P', 'C', 'P', 'C', 'P', 'C', 'P', 'C', 'I', 'P', 'I', 'Tcv', 'I', 'C', 'I', 'C', 'P', 'C', 'P', 'C'], 18893119: ['C', 'I', 'P', 'Tba', 'Tbv', 'C', 'Tba', 'C', 'Tba', 'P', 'C', 'Tsa', 'P', 'Tsv', 'Tsa', 'C', 'Tsv', 'P', 'Tsa', 'Tsv', 'P', 'C', 'P', 'Tsv', 'Tsa', 'C', 'P', 'Tca', 'Tcv', 'P', 'C', 'P', 'Tca', 'P', 'Tca', 'P', 'Tca', 'Tcv', 'P', 'C', 'P', 'C', 'Tbv', 'Tba', 'C', 'Tsa', 'P', 'Tsv', 'P', 'C', 'P', 'Tsv', 'Tsa', 'Tsv', 'Tsa', 'P', 'I', 'C', 'P', 'C', 'P', 'C'], 41295172: ['C', 'I', 'Toa', 'I', 'Toa', 'C', 'Tca', 'I', 'P', 'C', 'P', 'C', 'I', 'C', 'P', 'I', 'C', 'P', 'I', 'P', 'C'], 69251126: ['C', 'I', 'Tba', 'Tbv', 'Tba', 'Tbv', 'I', 'P', 'C', 'Tbv', 'C', 'Tba', 'C', 'P', 'C', 'P', 'C', 'Tsa', 'C', 'Tsa', 'Tsv', 'P', 'Tsa', 'P', 'Tsa', 'C', 'I', 'C', 'P', 'Tsa', 'P', 'Tsv', 'P', 'C', 'Tsa', 'Tsv', 'I', 'Tsv', 'P', 'C', 'Tsa', 'P', 'C', 'I', 'C', 'Tsa', 'P', 'C', 'Tcv', 'Tca', 'I', 'P', 'I', 'C', 'I', 'Tca', 'Tcv', 'P', 'C', 'P', 'C', 'Tca', 'Tcv', 'I', 'Tcv', 'P', 'Tca', 'C', 'Tca', 'C'], 3932129: ['C', 'I', 'Tba', 'I', 'Tbv', 'C', 'Tba', 'P', 'C', 'I', 'C', 'P', 'Tca', 'P', 'I', 'Tcv', 'P', 'Tcv', 'C', 'Tcv', 'P', 'C', 'I', 'C', 'Tca', 'C', 'Tca', 'C', 'P', 'C', 'P', 'C', 'I', 'C', 'I', 'C', 'I', 'C', 'I', 'C', 'Tsa', 'C', 'Tsa', 'P', 'Tsa', 'C', 'I', 'C', 'Tsa', 'Tca', 'Tsa', 'C', 'Tsa', 'C', 'Tca', 'P', 'Tca', 'C', 'Tca', 'P', 'C', 'P', 'Tca', 'P', 'C', 'Tca', 'C', 'Tca', 'C', 'Tca', 'P', 'C', 'P', 'C', 'I', 'Tba', 'P'], 91235128: ['C', 'I', 'Tbv', 'C', 'P', 'C', 'Tsv', 'P', 'C', 'Tsv', 'P', 'Tsa', 'P', 'I', 'C', 'I', 'C', 'Tsv', 'P', 'C', 'P', 'C', 'I', 'P', 'C', 'Tcv', 'I', 'Tca', 'C', 'Tca', 'C', 'I', 'C', 'I', 'C', 'I', 'C', 'I', 'C', 'P', 'C', 'I', 'C', 'Tcv', 'C', 'I', 'C', 'I', 'C', 'P', 'Toa', 'I', 'Tov', 'Toa', 'I', 'Toa', 'P', 'C', 'I', 'C', 'I', 'C', 'I', 'C', 'P'], 66828119: ['C', 'I', 'Tba', 'P', 'Tba', 'I', 'Tbv', 'Tba', 'C', 'P', 'C', 'P', 'C', 'Tsv', 'C', 'Tca', 'C', 'Tca', 'C', 'Tca', 'C', 'P', 'C', 'Tba', 'P', 'Tbv', 'C', 'P', 'C', 'Tba', 'C', 'Tsv', 'P', 'C', 'Tcv', 'C', 'Tca', 'C', 'Tca', 'C', 'Tca', 'C', 'Tca', 'C', 'Tca', 'C', 'Tca', 'C', 'Tov', 'C', 'Tov', 'C', 'Tov', 'C', 'Tcv', 'Tca', 'C', 'Tca', 'C', 'Tca', 'C', 'Tca', 'I', 'C', 'Tca', 'I', 'C', 'Tca', 'C', 'Tca', 'I', 'Tca', 'C', 'I', 'C', 'I', 'Tca', 'I', 'C', 'I', 'C', 'Tca', 'C', 'Tca', 'C', 'Tca', 'C', 'I', 'C', 'Tca', 'I', 'C', 'I', 'C', 'P', 'C', 'I', 'C', 'I', 'Tba', 'I', 'C', 'I', 'C', 'I', 'C', 'Tba', 'C', 'Tba', 'C', 'Tca', 'C', 'Tca', 'I'], 38732121: ['C', 'P', 'C', 'I', 'Tbv', 'I', 'C', 'P', 'C', 'Tbv', 'P', 'Tba', 'C', 'Tba', 'C', 'Tba', 'C', 'Tba', 'P', 'C', 'Tsv', 'Tsa', 'P', 'Tsv', 'C', 'Tsv', 'P', 'C', 'Tsv', 'P', 'Tsv', 'Tsa', 'C', 'I', 'Tsa', 'P', 'C', 'Tsa', 'C', 'Tsa', 'P', 'Tsa', 'C', 'P', 'C', 'P', 'Tsv', 'C', 'Tsv', 'P', 'Tsv', 'C', 'Tsv', 'P', 'C', 'Tsa', 'P', 'C', 'Tsa', 'C', 'Tsa', 'C', 'Tsa', 'P', 'C', 'P', 'C'], 59553121: ['C', 'P', 'C', 'I', 'Tbv', 'P', 'Tbv', 'C', 'I', 'C', 'I', 'Tbv', 'P', 'Tba', 'C', 'I', 'C', 'I', 'Tba', 'P', 'C', 'P', 'C', 'I', 'P', 'Tsv', 'Tsa', 'P', 'C', 'I', 'C', 'I', 'Tsv', 'I', 'Tsa', 'C', 'I', 'C', 'I', 'Tsa', 'P', 'C', 'I', 'C', 'I', 'C', 'I', 'P', 'Tsv', 'I', 'Tsa', 'C', 'I', 'P', 'Tsv', 'Tsa', 'P', 'Tsa', 'C', 'I', 'C', 'P', 'Tcv', 'Tca', 'I', 'Tca', 'C', 'I', 'P', 'I', 'Tcv', 'Tca', 'P', 'C', 'P', 'C', 'I', 'C', 'P', 'Tsv'], 77984114: ['C', 'P', 'I', 'C', 'P', 'C', 'P', 'C', 'Tba', 'I', 'Tba', 'C', 'P', 'C', 'Tbv', 'C', 'P', 'C', 'Tsa', 'C', 'Tsa', 'Tsv', 'P', 'C', 'Tsa', 'P', 'Tsa', 'P', 'C', 'P', 'C', 'Tca', 'I', 'C', 'I', 'C', 'Tca', 'P', 'Tca', 'P', 'Tca', 'I'], 12235124: ['P', 'C', 'P', 'C', 'I', 'Tcv', 'C', 'P', 'I', 'Tca', 'C', 'P', 'I', 'C', 'P', 'C', 'I', 'Tca', 'C', 'P', 'Tca', 'I', 'C', 'I', 'Tcv', 'Tca', 'P', 'I', 'Tca', 'C', 'I', 'C', 'P', 'C', 'P', 'I', 'Tca', 'I', 'C', 'I', 'P', 'C', 'I', 'Tca', 'P', 'I', 'Tcv', 'P', 'C', 'I', 'C', 'I', 'Tca', 'I', 'C', 'I', 'Tca', 'C', 'Tca', 'I', 'P', 'I', 'Tca', 'I', 'Tcv', 'C', 'I', 'C', 'P', 'C', 'I', 'Tca', 'I', 'Tcv', 'P', 'C', 'I', 'C', 'P', 'I', 'Tca', 'I', 'C', 'Tcv', 'I', 'Tca', 'P', 'I', 'C', 'P', 'C', 'P', 'C', 'I', 'Tcv', 'I', 'C', 'I', 'Tca', 'I', 'Tca', 'I', 'Tcv', 'I', 'C', 'I', 'Tcv', 'C', 'I', 'C', 'I', 'C', 'I', 'Tcv', 'P', 'C', 'I', 'C', 'P', 'C', 'I', 'Tcv', 'C', 'I', 'C', 'I', 'C'], 43999105: ['C', 'I', 'Tba', 'C', 'P', 'C', 'P', 'I', 'Tbv', 'C', 'P', 'C', 'P', 'C', 'Tsv', 'P', 'Tsv', 'P', 'I', 'C', 'Tsa', 'C', 'P', 'I', 'Tsv', 'P', 'C', 'Tsv', 'P', 'C', 'Tsv', 'P', 'C', 'P', 'C', 'Tsa', 'P', 'C', 'P', 'C', 'Tsa', 'C', 'I', 'C', 'P', 'C', 'Tcv', 'P'], 52041105: ['C', 'I', 'C', 'I', 'Tca', 'C', 'Tca', 'P', 'C', 'Tca', 'P', 'C', 'Tca', 'C', 'Tca', 'P', 'Tca', 'C', 'Tcv', 'P', 'C', 'Tcv', 'Tca', 'C', 'P', 'Tca', 'P', 'C', 'Tcv', 'C', 'P', 'C', 'Tca', 'P', 'C', 'Tsa', 'Tsv', 'P', 'C', 'Tbv', 'C', 'Tcv', 'C'], 89224093: ['C', 'I', 'C', 'I', 'Tba', 'Tbv', 'C', 'P', 'C', 'Tsv', 'Tsa', 'P', 'Tsa', 'P', 'C', 'Tca', 'C', 'Tcv', 'C', 'I', 'C', 'I', 'C', 'I'], 80308126: ['C', 'P', 'C', 'I', 'Tba', 'I', 'Tbv', 'C', 'Tbv', 'C', 'Tbv', 'P', 'Tba', 'C', 'P', 'Tba', 'C', 'Tca', 'C', 'P', 'C', 'Tcv', 'Tca', 'P', 'C', 'Tca', 'C', 'Tca', 'C', 'P', 'C', 'P', 'C', 'P', 'C', 'P', 'C', 'P', 'C', 'P', 'C', 'I', 'C'], 89332129: ['C', 'I', 'Tba', 'C', 'Tbv', 'C', 'Tbv', 'P', 'C', 'Tsa', 'P', 'C', 'Tsa', 'P', 'Tsv'], 31091114: ['C', 'I', 'C', 'I', 'C', 'P', 'I', 'Tbv', 'P', 'Tba', 'C', 'Tba', 'P', 'C', 'P', 'C', 'P', 'C', 'Tsa', 'P', 'C', 'P', 'C', 'I', 'C', 'Tsv', 'Tsa', 'P', 'C', 'Tsv', 'P', 'I', 'Tsa', 'P', 'C', 'Tsa', 'C', 'Tsa', 'C', 'Tsa', 'C', 'Tsa', 'C', 'P', 'C', 'I', 'Tsv', 'Tbv', 'I', 'Tsa', 'Tba', 'P', 'C', 'I', 'P', 'C'], 62238125: ['C', 'I', 'Tba', 'P', 'Tbv', 'C', 'P', 'C', 'P', 'Tba', 'C', 'P', 'Tsa', 'P', 'C', 'P', 'Tsa', 'P', 'Tsa', 'C', 'Tca', 'P', 'Tca', 'P', 'Tca', 'P', 'C', 'Tsa', 'Tba', 'Tsa', 'P', 'C', 'Tsa', 'P', 'C', 'Tsa', 'C', 'P', 'Tca', 'C', 'P', 'Tca', 'P', 'C', 'P', 'Tca', 'C', 'Tca', 'C', 'Tbv', 'C'], 23112113: ['C', 'I', 'C', 'P', 'I', 'C', 'P', 'C', 'P', 'C', 'P', 'I', 'C', 'I', 'C', 'P', 'C', 'I', 'Tsa', 'C', 'Tsa', 'C', 'I', 'P', 'C', 'I', 'Tca', 'C', 'Tsa', 'P', 'I', 'C', 'Tsv', 'P', 'I', 'C', 'Tca', 'P', 'C', 'P', 'C', 'P', 'C', 'Tsa', 'P', 'C', 'Tsa', 'C', 'P', 'C', 'I', 'C', 'I', 'C', 'P', 'C', 'I', 'C'], 1075123: ['C', 'I', 'Tca', 'I', 'Tcv', 'C', 'Tcv', 'I', 'Tcv', 'C', 'Tcv', 'C', 'Tsv', 'Tsa', 'C', 'Tba', 'C', 'Tba', 'I', 'C', 'Tba', 'P', 'Tba', 'C', 'Tba', 'Tbv', 'C', 'Tbv', 'P', 'C', 'I', 'Tsa', 'C', 'Tba', 'Tsa', 'I', 'Tsv', 'P', 'C', 'Tca', 'P', 'Tsa', 'Tba', 'Tsa', 'Tca', 'P', 'C', 'Tsa', 'Tca', 'C', 'Tca', 'I', 'P', 'I', 'Tsa', 'Tsv', 'Tcv', 'Tca', 'P', 'Tbv', 'C', 'I', 'P', 'C', 'I', 'C', 'I', 'C', 'I', 'Tbv', 'Tcv', 'Tca', 'P', 'Tca', 'P', 'C', 'I', 'Tca', 'P', 'C', 'Tca', 'I', 'Tca', 'Tba', 'Tca', 'P', 'C', 'Tba', 'C', 'Tba', 'C', 'P', 'Tsa', 'P', 'C', 'Tca', 'C', 'Tba', 'Tca', 'I', 'C', 'I', 'Tca', 'C', 'Tca', 'C', 'Tca', 'Tba', 'Tca', 'I', 'P', 'Tca', 'C', 'Tca', 'C'], 85576116: ['C', 'I', 'Tbv', 'Tba', 'C', 'P', 'C', 'P', 'C', 'P', 'C', 'Tsv', 'C', 'Tcv', 'C', 'P', 'Tca', 'C', 'Tsa', 'P', 'Tsa', 'C', 'Tsa', 'C', 'Tsa', 'C', 'Tsa', 'P', 'C', 'Tcv', 'C', 'Tcv', 'Tca', 'C', 'Tca', 'C', 'Tca', 'C', 'Tca', 'C', 'Tca', 'C', 'Tca', 'C', 'I', 'C', 'P', 'C', 'I', 'C', 'Tcv', 'P', 'Tca', 'P', 'C', 'Tcv', 'C', 'P', 'C', 'P', 'I', 'C', 'P', 'C', 'I', 'C', 'I', 'C', 'I', 'C', 'I', 'P', 'C'], 26225080: ['C', 'I', 'C', 'I', 'C', 'P', 'I', 'Tbv', 'P', 'C', 'Tc', 'C', 'Tc', 'P', 'C', 'P', 'C', 'P', 'C', 'P', 'C', 'I', 'C', 'I', 'C', 'I', 'Tcv', 'P', 'C', 'P', 'C', 'P', 'C', 'P', 'C', 'I', 'C', 'P', 'C', 'Tcv', 'I', 'Tcv', 'C', 'Tcv'], 94792123: ['C', 'I', 'Tca', 'Tcv', 'C', 'Tcv', 'P', 'C', 'P', 'Tba', 'I', 'C', 'Tba', 'C', 'P', 'C', 'P', 'C', 'Tbv', 'C', 'P', 'C', 'I', 'C', 'I', 'C', 'Tca', 'C', 'Tsv', 'Tsa', 'C', 'P', 'C', 'Tcv', 'I', 'C', 'P', 'C', 'Tba', 'Tsa', 'Tca', 'C', 'Tca', 'Tba', 'Tsa', 'Tca', 'C', 'Tsa', 'P', 'Tba', 'P', 'Tsa', 'P', 'Tca', 'P', 'Tca', 'P', 'C', 'P', 'Tsa', 'C', 'P', 'C'], 62898116: ['C', 'P', 'I', 'Tbv', 'C', 'Tbv', 'I', 'Tba', 'C', 'P', 'I', 'P', 'C', 'I', 'Tsv', 'P', 'I', 'Tsa', 'P', 'Tsa', 'P', 'C', 'I', 'Tsv', 'I', 'Tsa', 'C', 'Tsa', 'C', 'P', 'Tsa', 'P', 'I', 'C', 'I', 'Tca', 'C', 'Tca', 'P', 'Tca', 'P', 'C', 'Tca', 'P', 'C', 'Tba', 'C', 'Tsa', 'C', 'P', 'C', 'Tca', 'C', 'Tca', 'C', 'Tca', 'C', 'Tca', 'C', 'Tca', 'C', 'Tca', 'C', 'Tca', 'P', 'Tca', 'C', 'Tca', 'C', 'Tca', 'C', 'Tca', 'P', 'C', 'Tca', 'C', 'Tca', 'C', 'Tca', 'C', 'Tca', 'C', 'Tca', 'C', 'Tca', 'I', 'C', 'I', 'C', 'I'], 85298121: ['C', 'I', 'C', 'Tbv', 'C', 'Tbv', 'C', 'Tbv', 'Tba', 'C', 'P', 'C', 'Tbv', 'Tba', 'C', 'Tsa', 'Tsv', 'I', 'P', 'C', 'Tsv', 'P', 'Tsa', 'P', 'C', 'Tsa', 'C', 'Tsa', 'P', 'Tsv', 'P', 'C', 'Tcv', 'C', 'Tcv', 'P', 'C', 'I', 'C', 'Tsa', 'Tsv', 'P', 'Tsa', 'P', 'Tsa', 'P', 'C', 'Tba', 'C', 'Tba', 'Tbv', 'P', 'C', 'Tca', 'Tba', 'Tca', 'C', 'Tsa', 'P', 'Tsa', 'P', 'C', 'Tba', 'C', 'Tba', 'P', 'C', 'I', 'C', 'I', 'C', 'I', 'C', 'P', 'C', 'I', 'Tba', 'Tbv', 'Tba', 'P', 'C', 'I', 'C', 'Tsa', 'Tsv', 'C'], 3591123: ['C', 'I', 'Tbv', 'I', 'Tba', 'C', 'Tba', 'Tbv', 'P', 'C', 'P', 'C', 'Tba', 'C', 'P', 'C', 'Tsa', 'C', 'Tca', 'C', 'Tca', 'P', 'C', 'Tca', 'Tba', 'C', 'I', 'Tsa', 'Tcv', 'Tsv', 'C', 'Tcv', 'P', 'Tca', 'P', 'Tca', 'P', 'I', 'C', 'P', 'Tsv', 'P', 'C', 'P', 'C'], 8775127: ['C', 'I', 'P', 'Tba', 'Tbv', 'C', 'I', 'Tsa', 'Tsv', 'P', 'C', 'Tcv', 'Tca', 'Tcv', 'Tca', 'P', 'C', 'Tcv', 'P', 'Tcv', 'P', 'C', 'I', 'P', 'Tca', 'P', 'Tca', 'P', 'Tcv', 'C', 'Tca', 'P', 'Tcv', 'P', 'Tcv', 'Tca', 'P', 'Tca', 'C', 'Tsa', 'P', 'Tsa', 'Tsv', 'I', 'P', 'Tsa', 'C', 'Tba', 'Tbv', 'P', 'C', 'Tca', 'I', 'Tca', 'P', 'C', 'Tca', 'C', 'Tca', 'P', 'C', 'Tca', 'Tcv', 'C', 'P', 'C', 'P', 'C'], 88156121: ['C', 'P', 'I', 'Tbv', 'I', 'Tba', 'C', 'P', 'Tba', 'C', 'P', 'C', 'Tca', 'C', 'Tca', 'C', 'Tca', 'C', 'Tca', 'P', 'C', 'P', 'C', 'I', 'C', 'I', 'Tca', 'I', 'P', 'Tca', 'C', 'Tca', 'P', 'C', 'I', 'C', 'I', 'Tsa', 'Tba', 'P', 'C', 'Tsa', 'P', 'C', 'P', 'C', 'Tca', 'Tba', 'C', 'P', 'C', 'Tca', 'P', 'C', 'Tba', 'I', 'P', 'Tca', 'C', 'Tca', 'P', 'Tca', 'P'], 14769115: ['I', 'C', 'P', 'I', 'Tsa', 'C', 'Tsa', 'C', 'Tsa', 'P', 'C', 'Tsa', 'C', 'Tsa', 'C', 'Tsa', 'P', 'I', 'C', 'Tsa', 'I', 'C', 'I', 'Tsv', 'C', 'P', 'C', 'Tsa', 'I', 'C', 'I', 'C', 'Tsa', 'P', 'C', 'Tsa', 'I', 'C', 'P', 'Tsv', 'C', 'I', 'C', 'P', 'C', 'P', 'Tcv', 'C', 'Tcv', 'C', 'I', 'C', 'Tcv', 'P', 'Tca', 'C', 'P', 'C', 'I', 'C', 'P', 'Tc', 'C', 'Tbv', 'P', 'I', 'P', 'C', 'Tca', 'P', 'Tcv', 'C', 'P', 'C', 'I', 'C', 'P', 'C'], 42822113: ['C', 'P', 'C', 'I', 'C', 'I', 'P', 'C', 'P', 'I', 'Tbv', 'P', 'C', 'P', 'Tsv', 'P', 'C', 'P', 'C', 'Tcv', 'P', 'C', 'P', 'C', 'P', 'C', 'P', 'Tcv', 'P', 'Tcv', 'C', 'Tcv', 'C', 'P', 'C', 'P', 'C', 'Tcv', 'P', 'C', 'I', 'P', 'C', 'Tc', 'C', 'P', 'C', 'P', 'C', 'Tc', 'C', 'I'], 24582121: ['C', 'I', 'Tbv', 'Tba', 'C', 'Tba', 'P', 'C', 'P', 'C', 'Tcv', 'P', 'C', 'P', 'Tca', 'Tcv', 'C', 'Tsa', 'P', 'Tsv', 'C', 'Tsa', 'P', 'C', 'Tsa', 'C', 'Tsa', 'P', 'C', 'Tsa', 'P', 'Tsa', 'P', 'C', 'Tsa', 'Tsv', 'P', 'Tsa', 'C', 'Tca', 'P', 'Tcv', 'C', 'Tcv', 'P', 'C', 'Tca', 'P', 'C', 'Tca', 'P', 'Tca', 'Tcv', 'P', 'C', 'Tca', 'P', 'C', 'P', 'C', 'P', 'C', 'Tba', 'P', 'C', 'Tba', 'C', 'Tca'], 17070059: ['C', 'P', 'C', 'I', 'Tcv', 'P', 'Tcv', 'I', 'Tca', 'P', 'Tca', 'C', 'I', 'C', 'I', 'P', 'Tcv', 'P', 'C', 'Tcv', 'Tca', 'C', 'I', 'Tcv', 'Tca', 'P', 'C', 'I', 'P', 'Tcv', 'Tca', 'P', 'Tcv', 'P', 'Tca', 'P', 'I', 'C', 'I', 'Tcv', 'P', 'I', 'Tca', 'P', 'Tca', 'P', 'I', 'C', 'I', 'P', 'Tcv', 'C', 'P', 'I', 'Tca', 'P', 'I'], 44827119: ['C', 'I', 'C', 'P', 'I', 'Tbv', 'C', 'Tbv', 'P', 'I', 'P', 'C', 'Tbv', 'P', 'C', 'P', 'C', 'P', 'C', 'P', 'Tcv', 'P', 'Tcv', 'P', 'C', 'P', 'C', 'Tcv', 'C', 'P', 'C', 'I', 'Tcv', 'P', 'C', 'P', 'I', 'C'], 64687090: ['C', 'I', 'Tbv', 'C', 'Tbv', 'I', 'Tba', 'P', 'Tbv', 'P', 'Tba', 'P', 'C', 'Tsa', 'P', 'I', 'C', 'I', 'P', 'I', 'C', 'I', 'P', 'I', 'C', 'Tca', 'P', 'Tcv', 'P', 'Tcv', 'P', 'C', 'Tcv', 'P', 'Tcv', 'Tca', 'P', 'C', 'P', 'C', 'I', 'C', 'I', 'C', 'I', 'Tsa', 'Tca', 'P', 'I', 'P', 'I', 'P', 'C', 'Tba', 'C', 'Tca', 'Tba', 'Tca', 'P', 'C', 'Tca', 'Tba', 'Tca', 'Tba', 'Tca', 'C', 'Tca', 'Tba', 'Tca', 'C', 'Tca'], 72794100: ['C', 'I', 'Tba', 'Tbv', 'Tba', 'C', 'Tba', 'Tbv', 'C', 'Tbv', 'Tba', 'P', 'Tbv', 'P', 'C', 'Tsa', 'C', 'Tsa', 'Tsv', 'Tsa', 'C', 'Tsv', 'P', 'Tsa', 'C', 'Tsa', 'P', 'Tsv', 'P', 'C', 'Tsa', 'C', 'Tsa', 'Tsv', 'P', 'Tsa', 'C', 'Tsa', 'P', 'Tsa', 'P', 'Tsa', 'P', 'Tsa', 'C', 'P', 'C', 'Tsa', 'C', 'Tsa', 'P', 'I', 'P', 'C', 'Tca', 'C', 'Tsa', 'C', 'Tca', 'P', 'C', 'Tsa', 'C', 'P', 'I', 'C', 'I', 'C', 'I', 'C', 'I', 'C', 'I', 'C', 'I', 'C', 'I', 'C', 'I', 'C', 'I', 'C', 'I', 'C', 'I', 'C', 'P', 'C', 'I', 'Tsa', 'C', 'Tca', 'C', 'Tca', 'C', 'Tca', 'I', 'Tcv', 'I', 'C'], 82885110: ['C', 'I', 'Tbv', 'C', 'I', 'Tba', 'C', 'P', 'C', 'Tba', 'Tbv', 'C', 'P', 'C', 'Tcv', 'C', 'Tcv', 'C', 'Tbv', 'P', 'C', 'Tcv', 'P', 'Tca', 'P', 'C', 'P', 'Tcv', 'P', 'Tca', 'P', 'C', 'Tca', 'C', 'P', 'C', 'Tca', 'C', 'P', 'Tca', 'P', 'Tca', 'P', 'C', 'Tca', 'C', 'Tsa', 'C', 'P', 'C', 'P', 'C', 'P', 'C', 'Tba', 'Tca', 'P', 'Tba', 'C', 'Tca', 'C', 'Tca', 'C', 'P', 'C', 'Tsa', 'C', 'Tsa', 'C', 'Tsa', 'P', 'C', 'Tca', 'C', 'P', 'C', 'Tca', 'C', 'P', 'C', 'Tsa', 'C', 'I', 'C', 'P', 'C', 'P', 'C', 'I', 'C', 'I', 'Tsa', 'P', 'Tsa', 'C', 'Tca', 'C', 'Tca', 'I', 'P', 'C', 'P', 'C', 'Tca', 'C', 'Tca', 'P', 'C', 'Tca', 'C', 'P', 'C', 'Tca', 'P', 'C', 'Tca', 'C', 'Tca', 'I'], 86170104: ['C', 'I', 'C', 'I', 'Tbv', 'Tba', 'C', 'P', 'Tba', 'C', 'Tsa', 'Tsv', 'C', 'P', 'C', 'Tcv', 'C', 'Tsv', 'P', 'Tsa', 'P', 'Tsv', 'C', 'P', 'C', 'Tsa', 'Tsv', 'Tsa', 'P', 'C', 'P', 'C', 'Tsa', 'P', 'Tsa', 'P', 'C', 'I', 'C', 'P'], 82224125: ['C', 'I', 'Tba', 'C', 'Tba', 'C', 'Tba', 'C', 'Tsa', 'I', 'Tsv', 'P', 'C', 'Tca', 'C', 'Tca', 'C', 'Tsa', 'C', 'Tca', 'C', 'P', 'C', 'Tca', 'C', 'Tca', 'P', 'C', 'Tca', 'P', 'Tcv', 'P', 'Tca', 'P', 'Tcv', 'I', 'P', 'C', 'Tcv', 'C', 'P', 'Tcv', 'Tca', 'P', 'C', 'P', 'C', 'I', 'P', 'C', 'Tca', 'C', 'Tsa', 'Tsv', 'Tbv', 'C', 'P', 'C', 'Tsv', 'Tbv', 'P', 'Tsv', 'C', 'P', 'I', 'C', 'Tsv', 'P', 'Tbv', 'Tsv', 'I', 'Tbv', 'Tsv', 'P', 'C', 'P', 'C', 'Tcv', 'P', 'Tca', 'C', 'Tba', 'C', 'P', 'C', 'Tba', 'Tbv', 'I', 'C', 'Tbv', 'P', 'Tca', 'I', 'Tcv', 'C', 'Tca', 'C', 'Tca', 'C'], 64944126: ['C', 'I', 'C', 'I', 'Tba', 'P', 'C', 'P', 'Tbv', 'C', 'P', 'I', 'C', 'I', 'C', 'I', 'C', 'I', 'C', 'Tsa', 'P', 'I', 'C', 'P', 'C', 'I', 'Tcv', 'P', 'Tca', 'P', 'C', 'I', 'C', 'Tca', 'Tcv', 'P', 'C', 'I', 'C', 'P', 'Tcv', 'Tca', 'P', 'Tca', 'P', 'C', 'I', 'C', 'P', 'C', 'Tcv', 'Tca', 'Tcv', 'Tca', 'Tcv', 'P', 'C', 'P', 'C', 'I', 'C', 'Tsv', 'Tsa']}\n"
     ]
    }
   ],
   "source": [
    "# import random\n",
    "# random.seed(3)\n",
    "# students = random.sample(get_students(),5) #[94792123,10942128]\n",
    "students = get_students()\n",
    "B = 5  #number of bins\n",
    "CUT_OFF_SEQ_USE = 0.25 #we keep only sequences used once by at least 0.25% of students\n",
    "blocks, time_coords =  get_blocks_withTime_new(df,students,\"Family_tool\",start=False)\n",
    "print blocks"
   ]
  },
  {
   "cell_type": "markdown",
   "metadata": {},
   "source": [
    "### Now we can get the frequency of use of sequences for each student to then:\n",
    "* Count number of time sequences occurs accross all students\n",
    "* Count unique number of students that conducted that sequence"
   ]
  },
  {
   "cell_type": "code",
   "execution_count": 20,
   "metadata": {
    "collapsed": false
   },
   "outputs": [],
   "source": [
    "frequencies = get_frequencies(blocks, shortest=2, longest=10)\n",
    "#Count number of time sequences occurs accross all students\n",
    "sum_frequencies = sum(frequencies.values(), Counter())\n",
    "#Count unique number of students that conducted that sequence\n",
    "counts_frequencies = Counter({f:sum([ 1 if f in freq else 0 for freq in frequencies.values()]) for f in list(sum_frequencies)})"
   ]
  },
  {
   "cell_type": "markdown",
   "metadata": {},
   "source": [
    "### Now we can select certain kinds of sequences such as:\n",
    "* keep all sequences with a certain action\n",
    "* remove rarely used sequences\n",
    "then the most common sequences can be printed"
   ]
  },
  {
   "cell_type": "code",
   "execution_count": 22,
   "metadata": {
    "collapsed": false
   },
   "outputs": [
    {
     "data": {
      "text/plain": [
       "Counter({'CI': 93,\n",
       "         'CIC': 78,\n",
       "         'CICI': 56,\n",
       "         'CICIC': 33,\n",
       "         'CICICI': 25,\n",
       "         'CICP': 48,\n",
       "         'CICPC': 32,\n",
       "         'CIP': 35,\n",
       "         'CITba': 29,\n",
       "         'CITca': 26,\n",
       "         'CP': 94,\n",
       "         'CPC': 85,\n",
       "         'CPCI': 53,\n",
       "         'CPCIC': 40,\n",
       "         'CPCP': 56,\n",
       "         'CPCPC': 44,\n",
       "         'CPCPCP': 27,\n",
       "         'CPI': 49,\n",
       "         'CPIC': 25,\n",
       "         'CTba': 44,\n",
       "         'CTbaC': 27,\n",
       "         'CTbv': 34,\n",
       "         'CTca': 67,\n",
       "         'CTcaC': 48,\n",
       "         'CTcaCTca': 32,\n",
       "         'CTcaCTcaC': 24,\n",
       "         'CTcaP': 46,\n",
       "         'CTcaPC': 31,\n",
       "         'CTcv': 56,\n",
       "         'CTcvC': 30,\n",
       "         'CTcvP': 32,\n",
       "         'CTsa': 56,\n",
       "         'CTsaC': 38,\n",
       "         'CTsaP': 37,\n",
       "         'CTsv': 34,\n",
       "         'IC': 88,\n",
       "         'ICI': 68,\n",
       "         'ICIC': 46,\n",
       "         'ICICI': 33,\n",
       "         'ICP': 55,\n",
       "         'ICPC': 39,\n",
       "         'IP': 56,\n",
       "         'IPC': 42,\n",
       "         'ITba': 41,\n",
       "         'ITbv': 43,\n",
       "         'ITca': 46,\n",
       "         'ITcaC': 26,\n",
       "         'ITcv': 38,\n",
       "         'ITsa': 27,\n",
       "         'PC': 96,\n",
       "         'PCI': 69,\n",
       "         'PCIC': 56,\n",
       "         'PCICI': 30,\n",
       "         'PCICP': 28,\n",
       "         'PCP': 78,\n",
       "         'PCPC': 70,\n",
       "         'PCPCI': 30,\n",
       "         'PCPCP': 36,\n",
       "         'PCPCPC': 28,\n",
       "         'PCTba': 27,\n",
       "         'PCTca': 53,\n",
       "         'PCTcaC': 29,\n",
       "         'PCTcaP': 24,\n",
       "         'PCTcv': 41,\n",
       "         'PCTsa': 34,\n",
       "         'PCTsv': 24,\n",
       "         'PI': 69,\n",
       "         'PIC': 44,\n",
       "         'PICI': 26,\n",
       "         'PTca': 51,\n",
       "         'PTcaC': 25,\n",
       "         'PTcaP': 34,\n",
       "         'PTcv': 32,\n",
       "         'PTsa': 40,\n",
       "         'PTsaP': 24,\n",
       "         'PTsv': 30,\n",
       "         'TbaC': 48,\n",
       "         'TbaCP': 24,\n",
       "         'TbaP': 38,\n",
       "         'TbaPC': 28,\n",
       "         'TbvC': 44,\n",
       "         'TbvP': 30,\n",
       "         'TcaC': 65,\n",
       "         'TcaCP': 27,\n",
       "         'TcaCTca': 45,\n",
       "         'TcaCTcaC': 33,\n",
       "         'TcaCTcaP': 29,\n",
       "         'TcaI': 38,\n",
       "         'TcaP': 66,\n",
       "         'TcaPC': 52,\n",
       "         'TcaPCP': 25,\n",
       "         'TcaPCTca': 25,\n",
       "         'TcaPTca': 34,\n",
       "         'TcvC': 47,\n",
       "         'TcvCTcv': 25,\n",
       "         'TcvI': 26,\n",
       "         'TcvP': 52,\n",
       "         'TcvPC': 36,\n",
       "         'TcvTca': 32,\n",
       "         'TsaC': 48,\n",
       "         'TsaCTsa': 27,\n",
       "         'TsaP': 55,\n",
       "         'TsaPC': 38,\n",
       "         'TsaPTsa': 27,\n",
       "         'TsvP': 42,\n",
       "         'TsvPC': 32})"
      ]
     },
     "execution_count": 22,
     "metadata": {},
     "output_type": "execute_result"
    }
   ],
   "source": [
    "N = int(CUT_OFF_SEQ_USE*len(blocks.keys()))\n",
    "counts_frequencies1 = remove_rare_frequencies(counts_frequencies,N)\n",
    "counts_frequencies2 = keep_frequencies_with(counts_frequencies,keep='P')\n",
    "counts_frequencies2.most_common(10)\n",
    "counts_frequencies1"
   ]
  },
  {
   "cell_type": "markdown",
   "metadata": {},
   "source": [
    "### Now lets count how many times a sequences is used, per student group, per time bin"
   ]
  },
  {
   "cell_type": "markdown",
   "metadata": {},
   "source": [
    "#### For each student, given a certain number of time bins, we find their sequences of actions within bins."
   ]
  },
  {
   "cell_type": "code",
   "execution_count": 7,
   "metadata": {
    "collapsed": false
   },
   "outputs": [
    {
     "ename": "TypeError",
     "evalue": "get_frequencies_by_bin() takes at least 4 arguments (4 given)",
     "output_type": "error",
     "traceback": [
      "\u001b[1;31m---------------------------------------------------------------------------\u001b[0m",
      "\u001b[1;31mTypeError\u001b[0m                                 Traceback (most recent call last)",
      "\u001b[1;32m<ipython-input-7-94ac42349a76>\u001b[0m in \u001b[0;36m<module>\u001b[1;34m()\u001b[0m\n\u001b[1;32m----> 1\u001b[1;33m \u001b[0mfrequencies_by_bin\u001b[0m \u001b[1;33m=\u001b[0m \u001b[0mget_frequencies_by_bin\u001b[0m\u001b[1;33m(\u001b[0m\u001b[0mblocks\u001b[0m\u001b[1;33m,\u001b[0m \u001b[0mB\u001b[0m\u001b[1;33m,\u001b[0m\u001b[0mshortest\u001b[0m\u001b[1;33m=\u001b[0m\u001b[1;36m2\u001b[0m\u001b[1;33m,\u001b[0m \u001b[0mlongest\u001b[0m\u001b[1;33m=\u001b[0m\u001b[1;36m2\u001b[0m\u001b[1;33m)\u001b[0m\u001b[1;33m\u001b[0m\u001b[0m\n\u001b[0m",
      "\u001b[1;31mTypeError\u001b[0m: get_frequencies_by_bin() takes at least 4 arguments (4 given)"
     ]
    }
   ],
   "source": [
    "frequencies_by_bin = get_frequencies_by_bin(blocks, B,shortest=2, longest=2)"
   ]
  },
  {
   "cell_type": "markdown",
   "metadata": {},
   "source": [
    "#### We would like, for each sequence, if it is not rare, to count how many times it is used per group per time bin."
   ]
  },
  {
   "cell_type": "code",
   "execution_count": null,
   "metadata": {
    "collapsed": false
   },
   "outputs": [],
   "source": [
    "### PARAMETERS\n",
    "students = get_students()\n",
    "attribute, level1, level2 = 'scaffolding','scaff','not'\n",
    "B = 5  #number of bins\n",
    "shortest_seq_length = 1\n",
    "longest_seq_length = 10\n",
    "CUT_OFF_SEQ_USE = 0.25 #we keep only sequences used once by at least 0.25% of students\n",
    "N = int(CUT_OFF_SEQ_USE*len(students))\n",
    "\n",
    "get_sequence_use_by_timebin(df,students,B,attribute,level1,level2,shortest_seq_length,longest_seq_length,N)\n",
    "for k,v in counts.iteritems():\n",
    "    print k,v[0],v[1]\n"
   ]
  },
  {
   "cell_type": "code",
   "execution_count": null,
   "metadata": {
    "collapsed": true
   },
   "outputs": [],
   "source": []
  }
 ],
 "metadata": {
  "anaconda-cloud": {},
  "kernelspec": {
   "display_name": "Python 2",
   "language": "python",
   "name": "python2"
  },
  "language_info": {
   "codemirror_mode": {
    "name": "ipython",
    "version": 2
   },
   "file_extension": ".py",
   "mimetype": "text/x-python",
   "name": "python",
   "nbconvert_exporter": "python",
   "pygments_lexer": "ipython2",
   "version": "2.7.12"
  }
 },
 "nbformat": 4,
 "nbformat_minor": 0
}
