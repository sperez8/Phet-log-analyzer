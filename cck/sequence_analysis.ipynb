{
 "cells": [
  {
   "cell_type": "code",
   "execution_count": 1,
   "metadata": {
    "collapsed": true
   },
   "outputs": [],
   "source": [
    "import numpy as np\n",
    "import pandas as pd\n",
    "import sys\n",
    "import getpass\n",
    "import re\n",
    "from functions import *\n",
    "from collections import Counter\n",
    "np.set_printoptions(precision=2)\n",
    "pd.set_option('precision', 2)"
   ]
  },
  {
   "cell_type": "code",
   "execution_count": 2,
   "metadata": {
    "collapsed": true
   },
   "outputs": [],
   "source": [
    "df = pd.read_csv('C:\\Users\\\\'+getpass.getuser()+'\\\\Google Drive\\Sarah Ido folder\\data\\CCK\\MATCHING_phet_cck_user_actions+sophistication_WITHPAUSE_anonymized.txt')\n",
    "df_scores = pd.read_csv('C:\\Users\\\\'+getpass.getuser()+'\\\\Google Drive\\Sarah Ido folder\\data\\CCK\\MATCHING_phet_cck_user_data_anonymized.txt')\n",
    "df[\"student\"] = df[\"student\"].astype('category')\n",
    "df_scores[\"student\"] = df_scores[\"student\"].astype('category')\n",
    "df[\"Family\"]=df[\"Family\"].str.capitalize()"
   ]
  },
  {
   "cell_type": "markdown",
   "metadata": {
    "collapsed": false
   },
   "source": [
    "Let's get the sequences by students in blocks of actions."
   ]
  },
  {
   "cell_type": "code",
   "execution_count": 3,
   "metadata": {
    "collapsed": false
   },
   "outputs": [],
   "source": [
    "def get_blocks(df, students):\n",
    "    '''gets blocks of sequences a list of students'''\n",
    "    def convert(action):\n",
    "        if action == 'Reset':\n",
    "            return 'X'\n",
    "#         if action == \"Organize\" or action == \"Build\":\n",
    "#             return 'M'\n",
    "        else: \n",
    "            return action[0]\n",
    "    \n",
    "    blocks = {student:'S' for student in students}\n",
    "    for student in students:\n",
    "        sequence =  list(df[df['student']==student]['Family'])\n",
    "        blocks[student] += re.sub(r'(.)\\1+', r'\\1',''.join([convert(action) for action in sequence]))\n",
    "    return blocks\n",
    "\n",
    "def get_frequencies(blocks, shortest=3, longest=11):\n",
    "    frequencies = {student:Counter() for student in blocks.keys()}\n",
    "    for student,sequence in blocks.iteritems():\n",
    "        for seq_length in range(shortest, longest+1):  # loops through different possible sequence lengths\n",
    "            frequencies[student] += Counter(sequence[i:i+seq_length] for i in range(len(sequence)-seq_length-1))  # counts string matches for every string of the current length\n",
    "    return frequencies\n",
    "\n",
    "def remove_rare_frequencies(frequencies, N=2):\n",
    "    for k in list(frequencies):\n",
    "            if frequencies[k] < N:\n",
    "                del frequencies[k]\n",
    "    return None\n",
    "\n",
    "def remove_omni_frequencies(frequencies, N=96):\n",
    "    for k in list(frequencies):\n",
    "            if frequencies[k] == N:\n",
    "                del frequencies[k]\n",
    "    return None\n",
    "\n",
    "def clean_student_frequencies(all_frequencies, frequencies):\n",
    "    new_frequencies = {}\n",
    "    for student, freqs in frequencies.iteritems():\n",
    "        new_frequencies[student] = freqs & all_frequencies\n",
    "    return new_frequencies\n",
    "\n",
    "def keep_frequencies_with(frequencies,keep='P'):\n",
    "    for k in list(frequencies):\n",
    "        if keep not in k:\n",
    "            del frequencies[k]\n",
    "    return None\n",
    "\n",
    "def select_frequencies(frequencies, attribute, level):\n",
    "    new_frequencies = {}\n",
    "    '''gets frequencies of students given an attribute of the student'''\n",
    "    relevant_students =  set(df_scores[df_scores[attribute]==level]['student'])\n",
    "    for student, f in frequencies.iteritems():\n",
    "        if student in relevant_students:\n",
    "            new_frequencies[student] = f\n",
    "    return new_frequencies"
   ]
  },
  {
   "cell_type": "markdown",
   "metadata": {
    "collapsed": true
   },
   "source": [
    "## Here is how we get sequences "
   ]
  },
  {
   "cell_type": "code",
   "execution_count": 4,
   "metadata": {
    "collapsed": false
   },
   "outputs": [],
   "source": [
    "df2 = df[df.Activity == 'a1']\n",
    "blocks = get_blocks(df2,get_students())\n",
    "frequencies = get_frequencies(blocks, shortest=3, longest=10)\n",
    "#Count number of time sequences occurs accross all students\n",
    "sum_frequencies = sum(frequencies.values(), Counter())\n",
    "#Count number of students that conducted that frequency\n",
    "counts_frequencies = Counter({f:sum([ 1 if f in freq else 0 for freq in frequencies.values()]) for f in list(sum_frequencies)})"
   ]
  },
  {
   "cell_type": "markdown",
   "metadata": {},
   "source": [
    "## Here is how to select certain sequences"
   ]
  },
  {
   "cell_type": "code",
   "execution_count": 5,
   "metadata": {
    "collapsed": false
   },
   "outputs": [],
   "source": [
    "## Clean up sequences with count less than N\n",
    "N = 5\n",
    "remove_rare_frequencies(counts_frequencies,N)\n",
    "# keep_frequencies_with(counts_frequencies,keep='P')\n",
    "frequencies = clean_student_frequencies(counts_frequencies, frequencies)\n",
    "# counts_frequencies.most_common(10)"
   ]
  },
  {
   "cell_type": "markdown",
   "metadata": {
    "collapsed": false
   },
   "source": [
    "## Let's compare sequences from students in the different conditions in Activity 1\n",
    "Get all frequencies of length 3 to 10, cleaning them up by removing those common to all students and the rare ones."
   ]
  },
  {
   "cell_type": "code",
   "execution_count": 6,
   "metadata": {
    "collapsed": false
   },
   "outputs": [],
   "source": [
    "df2 = df[df.Activity == 'a1']\n",
    "blocks = get_blocks(df2,get_students())\n",
    "frequencies = get_frequencies(blocks, shortest=3, longest=10)\n",
    "\n",
    "sum_frequencies = sum(frequencies.values(), Counter())\n",
    "counts_frequencies = Counter({f:sum([ 1 if f in freq else 0 for freq in frequencies.values()]) for f in list(sum_frequencies)})\n",
    "\n",
    "# Remove rare frequencies and those done by all students\n",
    "remove_rare_frequencies(counts_frequencies,3)\n",
    "remove_omni_frequencies(counts_frequencies,len(get_students()))\n",
    "\n",
    "# update student frequencies by removing those removed in the collection of all frequencies\n",
    "frequencies = clean_student_frequencies(counts_frequencies, frequencies)"
   ]
  },
  {
   "cell_type": "markdown",
   "metadata": {},
   "source": [
    "Next we split the frequencies by student type and compare them"
   ]
  },
  {
   "cell_type": "code",
   "execution_count": 7,
   "metadata": {
    "collapsed": false
   },
   "outputs": [],
   "source": [
    "fs = select_frequencies(frequencies,\"scaffolding\",\"scaff\")\n",
    "fn = select_frequencies(frequencies,\"scaffolding\",\"not\")\n",
    "\n",
    "sum_frequencies = sum(fs.values(), Counter())\n",
    "count_s = Counter({f:sum([ 1 if f in freq else 0 for freq in fs.values()]) for f in list(sum_frequencies)})\n",
    "sum_frequencies = sum(fn.values(), Counter())\n",
    "count_n = Counter({f:sum([ 1 if f in freq else 0 for freq in fn.values()]) for f in list(sum_frequencies)})"
   ]
  },
  {
   "cell_type": "code",
   "execution_count": 8,
   "metadata": {
    "collapsed": false
   },
   "outputs": [
    {
     "data": {
      "text/plain": [
       "[('PTPT', 20),\n",
       " ('PTP', 19),\n",
       " ('TPTPT', 19),\n",
       " ('PTPTP', 17),\n",
       " ('TPTP', 16),\n",
       " ('TPTPTP', 15),\n",
       " ('TPX', 14),\n",
       " ('RTPTPT', 13),\n",
       " ('TPTPTPT', 13),\n",
       " ('ITPT', 13)]"
      ]
     },
     "execution_count": 8,
     "metadata": {},
     "output_type": "execute_result"
    }
   ],
   "source": [
    "(count_s-count_n).most_common(10)"
   ]
  },
  {
   "cell_type": "code",
   "execution_count": 9,
   "metadata": {
    "collapsed": false
   },
   "outputs": [
    {
     "data": {
      "text/plain": [
       "[('ORPO', 21),\n",
       " ('RPR', 18),\n",
       " ('RBORP', 18),\n",
       " ('BROBOR', 17),\n",
       " ('BORPO', 17),\n",
       " ('OPO', 16),\n",
       " ('TRB', 15),\n",
       " ('ORPOR', 15),\n",
       " ('RBOBOBO', 14),\n",
       " ('OBTO', 13)]"
      ]
     },
     "execution_count": 9,
     "metadata": {},
     "output_type": "execute_result"
    }
   ],
   "source": [
    "(count_n-count_s).most_common(10)"
   ]
  },
  {
   "cell_type": "markdown",
   "metadata": {},
   "source": [
    "## Does this difference persist in activity 2?"
   ]
  },
  {
   "cell_type": "code",
   "execution_count": 10,
   "metadata": {
    "collapsed": true
   },
   "outputs": [],
   "source": [
    "df2 = df[df.Activity == 'a2']\n",
    "blocks = get_blocks(df2,get_students())\n",
    "frequencies = get_frequencies(blocks, shortest=3, longest=10)\n",
    "\n",
    "sum_frequencies = sum(frequencies.values(), Counter())\n",
    "counts_frequencies = Counter({f:sum([ 1 if f in freq else 0 for freq in frequencies.values()]) for f in list(sum_frequencies)})\n",
    "\n",
    "# Remove rare frequencies and those done by all students\n",
    "remove_rare_frequencies(counts_frequencies,3)\n",
    "remove_omni_frequencies(counts_frequencies,len(get_students()))\n",
    "\n",
    "# update student frequencies by removing those removed in the collection of all frequencies\n",
    "frequencies = clean_student_frequencies(counts_frequencies, frequencies)"
   ]
  },
  {
   "cell_type": "code",
   "execution_count": 11,
   "metadata": {
    "collapsed": true
   },
   "outputs": [],
   "source": [
    "fs = select_frequencies(frequencies,\"scaffolding\",\"scaff\")\n",
    "fn = select_frequencies(frequencies,\"scaffolding\",\"not\")\n",
    "\n",
    "sum_frequencies = sum(fs.values(), Counter())\n",
    "count_s = Counter({f:sum([ 1 if f in freq else 0 for freq in fs.values()]) for f in list(sum_frequencies)})\n",
    "sum_frequencies = sum(fn.values(), Counter())\n",
    "count_n = Counter({f:sum([ 1 if f in freq else 0 for freq in fn.values()]) for f in list(sum_frequencies)})"
   ]
  },
  {
   "cell_type": "code",
   "execution_count": 12,
   "metadata": {
    "collapsed": false
   },
   "outputs": [
    {
     "data": {
      "text/plain": [
       "[('SBOB', 13),\n",
       " ('SBOBO', 12),\n",
       " ('IPT', 12),\n",
       " ('XBO', 11),\n",
       " ('TRTP', 11),\n",
       " ('TRTPT', 10),\n",
       " ('PTPTR', 10),\n",
       " ('TPTPTR', 10),\n",
       " ('TPTPT', 10),\n",
       " ('XBOBO', 9)]"
      ]
     },
     "execution_count": 12,
     "metadata": {},
     "output_type": "execute_result"
    }
   ],
   "source": [
    "(count_s-count_n).most_common(10)"
   ]
  },
  {
   "cell_type": "code",
   "execution_count": 13,
   "metadata": {
    "collapsed": false
   },
   "outputs": [
    {
     "data": {
      "text/plain": [
       "[('IBOB', 15),\n",
       " ('RPR', 14),\n",
       " ('IBOBO', 13),\n",
       " ('RPRO', 12),\n",
       " ('ORBOROR', 12),\n",
       " ('BOROBR', 11),\n",
       " ('RBOROR', 11),\n",
       " ('BOBOROBO', 11),\n",
       " ('IBO', 11),\n",
       " ('BOBOROB', 10)]"
      ]
     },
     "execution_count": 13,
     "metadata": {},
     "output_type": "execute_result"
    }
   ],
   "source": [
    "(count_n-count_s).most_common(10)"
   ]
  },
  {
   "cell_type": "markdown",
   "metadata": {},
   "source": [
    "## Let's compare sequences from students from different clusters"
   ]
  },
  {
   "cell_type": "code",
   "execution_count": 14,
   "metadata": {
    "collapsed": true
   },
   "outputs": [],
   "source": [
    "df2 = df[df.Activity == 'a1']\n",
    "blocks = get_blocks(df2,get_students())\n",
    "frequencies = get_frequencies(blocks, shortest=3, longest=10)\n",
    "\n",
    "sum_frequencies = sum(frequencies.values(), Counter())\n",
    "counts_frequencies = Counter({f:sum([ 1 if f in freq else 0 for freq in frequencies.values()]) for f in list(sum_frequencies)})\n",
    "\n",
    "# Remove rare frequencies and those done by all students\n",
    "remove_rare_frequencies(counts_frequencies,3)\n",
    "remove_omni_frequencies(counts_frequencies,len(get_students()))\n",
    "\n",
    "# update student frequencies by removing those removed in the collection of all frequencies\n",
    "frequencies = clean_student_frequencies(counts_frequencies, frequencies)"
   ]
  },
  {
   "cell_type": "code",
   "execution_count": 15,
   "metadata": {
    "collapsed": true
   },
   "outputs": [],
   "source": [
    "fs = select_frequencies(frequencies,\"Clustergroups\",\"knowledge\")\n",
    "fn = select_frequencies(frequencies,\"Clustergroups\",\"attitude\")\n",
    "\n",
    "\n",
    "sum_frequencies = sum(fs.values(), Counter())\n",
    "count_s = Counter({f:sum([ 1 if f in freq else 0 for freq in fs.values()]) for f in list(sum_frequencies)})\n",
    "sum_frequencies = sum(fn.values(), Counter())\n",
    "count_n = Counter({f:sum([ 1 if f in freq else 0 for freq in fn.values()]) for f in list(sum_frequencies)})\n",
    "\n",
    "remove_rare_frequencies(count_s,3)\n",
    "remove_omni_frequencies(count_s,len(fs.keys()))\n",
    "remove_rare_frequencies(count_n,3)\n",
    "remove_omni_frequencies(count_n,len(fn.keys()))"
   ]
  },
  {
   "cell_type": "code",
   "execution_count": 16,
   "metadata": {
    "collapsed": false
   },
   "outputs": [
    {
     "data": {
      "text/plain": [
       "[('ROBO', 28),\n",
       " ('OROB', 28),\n",
       " ('ROB', 28),\n",
       " ('OBR', 27),\n",
       " ('TOBOBT', 7),\n",
       " ('OTPTO', 7),\n",
       " ('ROITIT', 6),\n",
       " ('TPTPTPTPT', 6),\n",
       " ('RBROBOBOB', 6),\n",
       " ('ORBORORORO', 5)]"
      ]
     },
     "execution_count": 16,
     "metadata": {},
     "output_type": "execute_result"
    }
   ],
   "source": [
    "(count_s-count_n).most_common(10)"
   ]
  },
  {
   "cell_type": "code",
   "execution_count": 17,
   "metadata": {
    "collapsed": false
   },
   "outputs": [
    {
     "data": {
      "text/plain": [
       "[('BORO', 65),\n",
       " ('ROR', 65),\n",
       " ('OBOBOR', 65),\n",
       " ('OBOBOB', 64),\n",
       " ('OBOBOBO', 62),\n",
       " ('BOBOBOB', 61),\n",
       " ('BOBOBOBO', 57),\n",
       " ('ORP', 37),\n",
       " ('ROBOB', 37),\n",
       " ('ORBO', 36)]"
      ]
     },
     "execution_count": 17,
     "metadata": {},
     "output_type": "execute_result"
    }
   ],
   "source": [
    "(count_n-count_s).most_common(10)"
   ]
  },
  {
   "cell_type": "markdown",
   "metadata": {},
   "source": [
    "## Let's compare sequences from students with high and low learning gain"
   ]
  },
  {
   "cell_type": "code",
   "execution_count": 18,
   "metadata": {
    "collapsed": true
   },
   "outputs": [],
   "source": [
    "df2 = df[df.Activity == 'a1']\n",
    "blocks = get_blocks(df2,get_students())\n",
    "frequencies = get_frequencies(blocks, shortest=3, longest=10)\n",
    "\n",
    "sum_frequencies = sum(frequencies.values(), Counter())\n",
    "counts_frequencies = Counter({f:sum([ 1 if f in freq else 0 for freq in frequencies.values()]) for f in list(sum_frequencies)})\n",
    "\n",
    "# Remove rare frequencies and those done by all students\n",
    "remove_rare_frequencies(counts_frequencies,3)\n",
    "remove_omni_frequencies(counts_frequencies,len(get_students()))\n",
    "\n",
    "# update student frequencies by removing those removed in the collection of all frequencies\n",
    "frequencies = clean_student_frequencies(counts_frequencies, frequencies)"
   ]
  },
  {
   "cell_type": "markdown",
   "metadata": {},
   "source": [
    "First we need to split students by learning gains in each activity"
   ]
  },
  {
   "cell_type": "code",
   "execution_count": 19,
   "metadata": {
    "collapsed": false
   },
   "outputs": [],
   "source": [
    "def label_learning (row):\n",
    "    if row['learning'] >= median_learning: return 'high'\n",
    "    else: return 'low'\n",
    "\n",
    "df_scores['learning'] = df_scores[\"post t1\"] - df_scores[\"pre\"]\n",
    "median_learning = np.median(df_scores['learning'])\n",
    "df_scores['learning1'] = df_scores.apply (lambda row: label_learning (row),axis=1)\n",
    "\n",
    "df_scores['learning'] = df_scores[\"post t2\"] - df_scores[\"pre\"]\n",
    "median_learning = np.median(df_scores['learning'])\n",
    "df_scores['learning2'] = df_scores.apply (lambda row: label_learning (row),axis=1)\n",
    "# len(df_scores[(df_scores['learning1']=='high') & (df_scores['learning2']=='high')])"
   ]
  },
  {
   "cell_type": "code",
   "execution_count": 20,
   "metadata": {
    "collapsed": true
   },
   "outputs": [],
   "source": [
    "fs = select_frequencies(frequencies,\"learning1\",\"high\")\n",
    "fn = select_frequencies(frequencies,\"learning1\",\"low\")\n",
    "\n",
    "\n",
    "sum_frequencies = sum(fs.values(), Counter())\n",
    "count_s = Counter({f:sum([ 1 if f in freq else 0 for freq in fs.values()]) for f in list(sum_frequencies)})\n",
    "sum_frequencies = sum(fn.values(), Counter())\n",
    "count_n = Counter({f:sum([ 1 if f in freq else 0 for freq in fn.values()]) for f in list(sum_frequencies)})\n",
    "\n",
    "remove_rare_frequencies(count_s,3)\n",
    "remove_omni_frequencies(count_s,len(fs.keys()))\n",
    "remove_rare_frequencies(count_n,3)\n",
    "remove_omni_frequencies(count_n,len(fn.keys()))"
   ]
  },
  {
   "cell_type": "code",
   "execution_count": 21,
   "metadata": {
    "collapsed": false
   },
   "outputs": [
    {
     "data": {
      "text/plain": [
       "[('OBOBOR', 47),\n",
       " ('OROB', 46),\n",
       " ('ROBO', 46),\n",
       " ('ROB', 46),\n",
       " ('OBR', 45),\n",
       " ('TRTB', 14),\n",
       " ('BOBOBORO', 14),\n",
       " ('OBOBOBORO', 13),\n",
       " ('OBOBORO', 11),\n",
       " ('OROBOBOBOB', 11)]"
      ]
     },
     "execution_count": 21,
     "metadata": {},
     "output_type": "execute_result"
    }
   ],
   "source": [
    "(count_s-count_n).most_common(10)"
   ]
  },
  {
   "cell_type": "code",
   "execution_count": 22,
   "metadata": {
    "collapsed": false
   },
   "outputs": [
    {
     "data": {
      "text/plain": [
       "[('BORO', 47),\n",
       " ('ROR', 47),\n",
       " ('TPRO', 16),\n",
       " ('TPR', 15),\n",
       " ('BRBOBOBO', 15),\n",
       " ('TROBO', 14),\n",
       " ('XBOBOBO', 13),\n",
       " ('XBOBOBOBO', 13),\n",
       " ('XBOBOBOB', 13),\n",
       " ('OBOROROBOB', 13)]"
      ]
     },
     "execution_count": 22,
     "metadata": {},
     "output_type": "execute_result"
    }
   ],
   "source": [
    "(count_n-count_s).most_common(10)"
   ]
  },
  {
   "cell_type": "markdown",
   "metadata": {},
   "source": [
    "### Steps\n",
    "\n",
    "Mine sequences\n",
    "1. Find all sequences of length 3 to N per student per activity\n",
    "* Calculate count per sequences **done**\n",
    "* Prune collection of sequences for those significant likely to be non-random\n",
    "\n",
    "Analyze sequences\n",
    "1. Intepret top 5 sequences \n",
    "* Measure uniformity of sequences per condition\n",
    "* Measure uniformity of sequences per cluster\n",
    "* Measure correlation between use of sequence and pre to post gains\n",
    "\n",
    "\n"
   ]
  }
 ],
 "metadata": {
  "kernelspec": {
   "display_name": "Python 2",
   "language": "python",
   "name": "python2"
  },
  "language_info": {
   "codemirror_mode": {
    "name": "ipython",
    "version": 2
   },
   "file_extension": ".py",
   "mimetype": "text/x-python",
   "name": "python",
   "nbconvert_exporter": "python",
   "pygments_lexer": "ipython2",
   "version": "2.7.11"
  }
 },
 "nbformat": 4,
 "nbformat_minor": 0
}
