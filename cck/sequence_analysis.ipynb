{
 "cells": [
  {
   "cell_type": "code",
   "execution_count": 17,
   "metadata": {
    "collapsed": true
   },
   "outputs": [],
   "source": [
    "import numpy as np\n",
    "import pandas as pd\n",
    "import sys\n",
    "import getpass\n",
    "import re\n",
    "from functions import *\n",
    "from collections import Counter\n",
    "np.set_printoptions(precision=2)\n",
    "pd.set_option('precision', 2)"
   ]
  },
  {
   "cell_type": "code",
   "execution_count": 18,
   "metadata": {
    "collapsed": true
   },
   "outputs": [],
   "source": [
    "df = pd.read_csv('C:\\Users\\\\'+getpass.getuser()+'\\\\Google Drive\\Sarah Ido folder\\data\\CCK\\MATCHING_phet_cck_user_actions+sophistication_WITHPAUSE_anonymized.txt')\n",
    "df_scores = pd.read_csv('C:\\Users\\\\'+getpass.getuser()+'\\\\Google Drive\\Sarah Ido folder\\data\\CCK\\MATCHING_phet_cck_user_data_anonymized.txt')\n",
    "df[\"student\"] = df[\"student\"].astype('category')\n",
    "df_scores[\"student\"] = df_scores[\"student\"].astype('category')\n",
    "df[\"Family\"]=df[\"Family\"].str.capitalize()"
   ]
  },
  {
   "cell_type": "markdown",
   "metadata": {
    "collapsed": false
   },
   "source": [
    "Let's get the sequences by students in blocks of actions."
   ]
  },
  {
   "cell_type": "code",
   "execution_count": 40,
   "metadata": {
    "collapsed": true
   },
   "outputs": [],
   "source": [
    "def get_blocks(df, students):\n",
    "    '''gets blocks of sequences a list of students'''\n",
    "    blocks = {student:'S' for student in students}\n",
    "    for student in students:\n",
    "        sequence =  list(df[df['student']==student]['Family'])\n",
    "        blocks[student] += re.sub(r'(.)\\1+', r'\\1',''.join([action[0] if action != 'Reset' else 'X' for action in sequence]))\n",
    "    return blocks\n",
    "\n",
    "def get_frequencies(blocks):\n",
    "    frequencies = {}\n",
    "    for student,sequence in blocks.iteritems():\n",
    "        for seq_length in range(3,10):  # loops through different possible sequence lengths\n",
    "            frequencies[student] = Counter(sequence[i:i+seq_length] for i in range(len(sequence)-seq_length-1))  # counts string matches for every string of the current length\n",
    "    return frequencies"
   ]
  },
  {
   "cell_type": "code",
   "execution_count": 41,
   "metadata": {
    "collapsed": false
   },
   "outputs": [],
   "source": [
    "df2 = df[df.Activity == 'a3']\n",
    "blocks = get_blocks(df2,get_students())\n",
    "frequencies = get_frequencies(blocks)\n",
    "all_frequencies = sum(frequencies.values(), Counter())"
   ]
  },
  {
   "cell_type": "code",
   "execution_count": null,
   "metadata": {
    "collapsed": false
   },
   "outputs": [],
   "source": []
  },
  {
   "cell_type": "code",
   "execution_count": null,
   "metadata": {
    "collapsed": true
   },
   "outputs": [],
   "source": []
  },
  {
   "cell_type": "code",
   "execution_count": null,
   "metadata": {
    "collapsed": true
   },
   "outputs": [],
   "source": []
  },
  {
   "cell_type": "markdown",
   "metadata": {},
   "source": [
    "### Steps\n",
    "\n",
    "Mine sequences\n",
    "1. Find all sequences of length 3 to N per student per activity\n",
    "* Calculate count per sequences\n",
    "* Prune collection of sequences for those significant likely to be non-random\n",
    "\n",
    "Analyze sequences\n",
    "1. Intepret top 5 sequences\n",
    "* Measure uniformity of sequences per condition\n",
    "* Measure uniformity of sequences per cluster\n",
    "* Measure correlation between use of sequence and pre to post gains\n",
    "\n",
    "\n"
   ]
  },
  {
   "cell_type": "code",
   "execution_count": null,
   "metadata": {
    "collapsed": true
   },
   "outputs": [],
   "source": []
  }
 ],
 "metadata": {
  "kernelspec": {
   "display_name": "Python 2",
   "language": "python",
   "name": "python2"
  },
  "language_info": {
   "codemirror_mode": {
    "name": "ipython",
    "version": 2
   },
   "file_extension": ".py",
   "mimetype": "text/x-python",
   "name": "python",
   "nbconvert_exporter": "python",
   "pygments_lexer": "ipython2",
   "version": "2.7.11"
  }
 },
 "nbformat": 4,
 "nbformat_minor": 0
}
