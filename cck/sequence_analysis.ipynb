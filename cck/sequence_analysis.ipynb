{
 "cells": [
  {
   "cell_type": "code",
   "execution_count": 1,
   "metadata": {
    "collapsed": false
   },
   "outputs": [],
   "source": [
    "import numpy as np\n",
    "import pandas as pd\n",
    "import sys\n",
    "import getpass\n",
    "import re\n",
    "from functions import *\n",
    "from collections import Counter\n",
    "import copy\n",
    "np.set_printoptions(precision=2)\n",
    "pd.set_option('precision', 2)\n",
    "%matplotlib inline\n",
    "matplotlib.style.use('ggplot')"
   ]
  },
  {
   "cell_type": "code",
   "execution_count": 2,
   "metadata": {
    "collapsed": true
   },
   "outputs": [],
   "source": [
    "df = pd.read_csv('C:\\Users\\\\'+getpass.getuser()+'\\\\Google Drive\\Sarah Ido folder\\data\\CCK\\MATCHING_phet_cck_user_actions+sophistication_WITHPAUSE_anonymized.txt')\n",
    "df_scores = pd.read_csv('C:\\Users\\\\'+getpass.getuser()+'\\\\Google Drive\\Sarah Ido folder\\data\\CCK\\MATCHING_phet_cck_user_data_anonymized.txt')\n",
    "df[\"student\"] = df[\"student\"].astype('category')\n",
    "df_scores[\"student\"] = df_scores[\"student\"].astype('category')\n",
    "df[\"Family\"]=df[\"Family\"].str.capitalize()"
   ]
  },
  {
   "cell_type": "markdown",
   "metadata": {
    "collapsed": false
   },
   "source": [
    "Let's get the sequences by students in blocks of actions."
   ]
  },
  {
   "cell_type": "markdown",
   "metadata": {
    "collapsed": true
   },
   "source": [
    "## Here is how we get sequences "
   ]
  },
  {
   "cell_type": "code",
   "execution_count": 3,
   "metadata": {
    "collapsed": false
   },
   "outputs": [],
   "source": [
    "# df2 = df[df.Activity == 'a1']\n",
    "# blocks = get_blocks(df2,get_students())\n",
    "# frequencies = get_frequencies(blocks, shortest=3, longest=10)\n",
    "# #Count number of time sequences occurs accross all students\n",
    "# sum_frequencies = sum(frequencies.values(), Counter())\n",
    "# #Count number of students that conducted that frequency\n",
    "# counts_frequencies = Counter({f:sum([ 1 if f in freq else 0 for freq in frequencies.values()]) for f in list(sum_frequencies)})"
   ]
  },
  {
   "cell_type": "markdown",
   "metadata": {},
   "source": [
    "## Here is how to select certain sequences"
   ]
  },
  {
   "cell_type": "code",
   "execution_count": 4,
   "metadata": {
    "collapsed": false
   },
   "outputs": [],
   "source": [
    "# ## Clean up sequences with count less than N\n",
    "# N = 5\n",
    "# remove_rare_frequencies(counts_frequencies,N)\n",
    "# # keep_frequencies_with(counts_frequencies,keep='P')\n",
    "# frequencies = clean_student_frequencies(counts_frequencies, frequencies)\n",
    "# # counts_frequencies.most_common(10)"
   ]
  },
  {
   "cell_type": "markdown",
   "metadata": {
    "collapsed": false
   },
   "source": [
    "## Let's compare sequences from students in the different conditions in Activity 1\n",
    "Get all frequencies of length 3 to 10, cleaning them up by removing those common to all students and the rare ones."
   ]
  },
  {
   "cell_type": "code",
   "execution_count": 5,
   "metadata": {
    "collapsed": false
   },
   "outputs": [
    {
     "name": "stdout",
     "output_type": "stream",
     "text": [
      "Sequence: count = seq1 - seq2\n",
      "-----------------------------\n",
      "PTPT: \t 20 = 36 - 16 \n",
      "PTP: \t 19 = 46 - 27 \n",
      "TPTPT: \t 19 = 30 - 11 \n",
      "PTPTP: \t 17 = 29 - 12 \n",
      "TPTP: \t 16 = 40 - 24 \n",
      "TPTPTP: \t 15 = 24 - 9 \n",
      "TPX: \t 14 = 20 - 6 \n",
      "IPT: \t 13 = 15 - 2 \n",
      "RPTP: \t 13 = 24 - 11 \n",
      "RTPTPT: \t 13 = 19 - 6 \n",
      "\n",
      "Sequence: count = seq2 - seq1\n",
      "----------------------------\n",
      "ORPO: \t 21 = 29 - 8 \n",
      "RPR: \t 18 = 23 - 5 \n",
      "RBORP: \t 18 = 23 - 5 \n",
      "BORPO: \t 17 = 22 - 5 \n",
      "BROBOR: \t 17 = 25 - 8 \n",
      "OPO: \t 16 = 26 - 10 \n",
      "ORPOR: \t 15 = 19 - 4 \n",
      "TRB: \t 15 = 26 - 11 \n",
      "RBOBOBO: \t 14 = 38 - 24 \n",
      "ORPR: \t 13 = 16 - 3 \n"
     ]
    }
   ],
   "source": [
    "summed_seqs, seq_scaff, seq_not = mega_process(activity='a1', level='scaffolding', value1='scaff', value2='not', shortest=3, longest=10)\n",
    "difference(seq_scaff,seq_not,N=10)"
   ]
  },
  {
   "cell_type": "markdown",
   "metadata": {
    "collapsed": false
   },
   "source": [
    "We can now look at the difference in number of students that conduct sequences in both groups."
   ]
  },
  {
   "cell_type": "code",
   "execution_count": 6,
   "metadata": {
    "collapsed": false
   },
   "outputs": [],
   "source": [
    "## Does this difference persist in activity 2?"
   ]
  },
  {
   "cell_type": "code",
   "execution_count": 7,
   "metadata": {
    "collapsed": false
   },
   "outputs": [
    {
     "name": "stdout",
     "output_type": "stream",
     "text": [
      "Sequence: count = seq1 - seq2\n",
      "-----------------------------\n",
      "SBOB: \t 13 = 37 - 24 \n",
      "IPT: \t 12 = 17 - 5 \n",
      "SBOBO: \t 12 = 36 - 24 \n",
      "XBO: \t 11 = 16 - 5 \n",
      "TRTP: \t 11 = 27 - 16 \n",
      "PTPTR: \t 10 = 14 - 4 \n",
      "TRTPT: \t 10 = 17 - 7 \n",
      "TPTPTR: \t 10 = 12 - 2 \n",
      "TPTPT: \t 10 = 19 - 9 \n",
      "XBOB: \t 9 = 14 - 5 \n",
      "\n",
      "Sequence: count = seq2 - seq1\n",
      "----------------------------\n",
      "IBOB: \t 15 = 28 - 13 \n",
      "RPR: \t 14 = 27 - 13 \n",
      "IBOBO: \t 13 = 26 - 13 \n",
      "ORBOROR: \t 12 = 13 - 1 \n",
      "RPRO: \t 12 = 13 - 1 \n",
      "IBO: \t 11 = 32 - 21 \n",
      "BOBOROBO: \t 11 = 24 - 13 \n",
      "RBOROR: \t 11 = 16 - 5 \n",
      "BOROBR: \t 11 = 18 - 7 \n",
      "ORPR: \t 10 = 14 - 4 \n"
     ]
    }
   ],
   "source": [
    "summed_seqs, seq_scaff, seq_not = mega_process(activity='a2', level='scaffolding', value1='scaff', value2='not', shortest=3, longest=10)\n",
    "difference(seq_scaff,seq_not,N=10)"
   ]
  },
  {
   "cell_type": "markdown",
   "metadata": {},
   "source": [
    "## Let's compare sequences from students from different clusters\n",
    "In activity 1"
   ]
  },
  {
   "cell_type": "code",
   "execution_count": 8,
   "metadata": {
    "collapsed": false
   },
   "outputs": [
    {
     "name": "stdout",
     "output_type": "stream",
     "text": [
      "Sequence: count = seq1 - seq2\n",
      "-----------------------------\n",
      "OBOBOBOBRO: \t 15 = 24 - 9 \n",
      "ROPI: \t 15 = 20 - 5 \n",
      "BOBT: \t 15 = 40 - 25 \n",
      "OPI: \t 14 = 24 - 10 \n",
      "TPBO: \t 14 = 28 - 14 \n",
      "RBRBO: \t 14 = 34 - 20 \n",
      "TPTO: \t 14 = 30 - 16 \n",
      "TOBOBT: \t 14 = 14 - 0 \n",
      "OTPTO: \t 13 = 14 - 1 \n",
      "BOBTB: \t 12 = 20 - 8 \n",
      "\n",
      "Sequence: count = seq2 - seq1\n",
      "----------------------------\n",
      "BRP: \t 19 = 41 - 22 \n",
      "PBOB: \t 17 = 41 - 24 \n",
      "TPR: \t 16 = 34 - 18 \n",
      "BOROBO: \t 16 = 56 - 40 \n",
      "BOBRP: \t 15 = 23 - 8 \n",
      "OBOBRP: \t 15 = 19 - 4 \n",
      "OBORBOB: \t 15 = 47 - 32 \n",
      "BOBORBOB: \t 15 = 39 - 24 \n",
      "BRT: \t 15 = 47 - 32 \n",
      "PBOBO: \t 14 = 38 - 24 \n"
     ]
    }
   ],
   "source": [
    "summed_seqs, seq_know, seq_att = mega_process(activity='a1', level='Clustergroups', value1='knowledge', value2='attitude', shortest=3, longest=10)\n",
    "difference(seq_know+seq_know,seq_att,N=10)"
   ]
  },
  {
   "cell_type": "markdown",
   "metadata": {},
   "source": [
    "**Note**: Here we are doubling the number of counts for the knowledge group since it's half the size"
   ]
  },
  {
   "cell_type": "markdown",
   "metadata": {},
   "source": [
    "In activity 2"
   ]
  },
  {
   "cell_type": "code",
   "execution_count": 9,
   "metadata": {
    "collapsed": false
   },
   "outputs": [
    {
     "name": "stdout",
     "output_type": "stream",
     "text": [
      "Sequence: count = seq1 - seq2\n",
      "-----------------------------\n",
      "TPTO: \t 19 = 32 - 13 \n",
      "PTO: \t 15 = 36 - 21 \n",
      "BOROT: \t 12 = 24 - 12 \n",
      "IPT: \t 11 = 22 - 11 \n",
      "BPB: \t 11 = 20 - 9 \n",
      "TPTOR: \t 11 = 18 - 7 \n",
      "PTOR: \t 10 = 24 - 14 \n",
      "TRBOB: \t 10 = 16 - 6 \n",
      "BPBO: \t 10 = 18 - 8 \n",
      "BRORBOB: \t 10 = 14 - 4 \n",
      "\n",
      "Sequence: count = seq2 - seq1\n",
      "----------------------------\n",
      "RTPO: \t 22 = 28 - 6 \n",
      "OROBOR: \t 21 = 49 - 28 \n",
      "ROROB: \t 20 = 50 - 30 \n",
      "TROR: \t 19 = 35 - 16 \n",
      "ROBOBOBO: \t 18 = 34 - 16 \n",
      "ROROR: \t 18 = 42 - 24 \n",
      "OROROR: \t 18 = 38 - 20 \n",
      "BRT: \t 18 = 44 - 26 \n",
      "BRBO: \t 17 = 45 - 28 \n",
      "OBOROR: \t 17 = 39 - 22 \n"
     ]
    }
   ],
   "source": [
    "summed_seqs, seq_know, seq_att = mega_process(activity='a2', level='Clustergroups', value1='knowledge', value2='attitude', shortest=3, longest=10)\n",
    "difference(seq_know+seq_know,seq_att,N=10)"
   ]
  },
  {
   "cell_type": "markdown",
   "metadata": {},
   "source": [
    "**Note**: Here we are doubling the number of counts for the knowledge group since it's half the size"
   ]
  },
  {
   "cell_type": "markdown",
   "metadata": {},
   "source": [
    "## Let's compare sequences from students with high and low learning gain"
   ]
  },
  {
   "cell_type": "markdown",
   "metadata": {},
   "source": [
    "First we need to split students by learning gains in each activity"
   ]
  },
  {
   "cell_type": "code",
   "execution_count": 10,
   "metadata": {
    "collapsed": false
   },
   "outputs": [
    {
     "ename": "TypeError",
     "evalue": "cannot convert the series to <type 'float'>",
     "output_type": "error",
     "traceback": [
      "\u001b[1;31m---------------------------------------------------------------------------\u001b[0m",
      "\u001b[1;31mTypeError\u001b[0m                                 Traceback (most recent call last)",
      "\u001b[1;32m<ipython-input-10-d2075343d906>\u001b[0m in \u001b[0;36m<module>\u001b[1;34m()\u001b[0m\n\u001b[0;32m      3\u001b[0m     \u001b[1;32melse\u001b[0m\u001b[1;33m:\u001b[0m \u001b[1;32mreturn\u001b[0m \u001b[1;34m'low'\u001b[0m\u001b[1;33m\u001b[0m\u001b[0m\n\u001b[0;32m      4\u001b[0m \u001b[1;33m\u001b[0m\u001b[0m\n\u001b[1;32m----> 5\u001b[1;33m \u001b[0mdf_scores\u001b[0m\u001b[1;33m[\u001b[0m\u001b[1;34m'learning1score'\u001b[0m\u001b[1;33m]\u001b[0m \u001b[1;33m=\u001b[0m \u001b[0mfloat\u001b[0m\u001b[1;33m(\u001b[0m\u001b[0mdf_scores\u001b[0m\u001b[1;33m[\u001b[0m\u001b[1;34m\"post t1\"\u001b[0m\u001b[1;33m]\u001b[0m \u001b[1;33m-\u001b[0m \u001b[0mdf_scores\u001b[0m\u001b[1;33m[\u001b[0m\u001b[1;34m\"pre\"\u001b[0m\u001b[1;33m]\u001b[0m\u001b[1;33m)\u001b[0m\u001b[1;33m/\u001b[0m\u001b[0mfloat\u001b[0m\u001b[1;33m(\u001b[0m\u001b[0mdf_scores\u001b[0m\u001b[1;33m[\u001b[0m\u001b[1;34m\"pre\"\u001b[0m\u001b[1;33m]\u001b[0m\u001b[1;33m)\u001b[0m\u001b[1;33m\u001b[0m\u001b[0m\n\u001b[0m\u001b[0;32m      6\u001b[0m \u001b[0mmedian_learning\u001b[0m \u001b[1;33m=\u001b[0m \u001b[0mnp\u001b[0m\u001b[1;33m.\u001b[0m\u001b[0mmedian\u001b[0m\u001b[1;33m(\u001b[0m\u001b[0mdf_scores\u001b[0m\u001b[1;33m[\u001b[0m\u001b[1;34m'learning1score'\u001b[0m\u001b[1;33m]\u001b[0m\u001b[1;33m)\u001b[0m\u001b[1;33m\u001b[0m\u001b[0m\n\u001b[0;32m      7\u001b[0m \u001b[0mdf_scores\u001b[0m\u001b[1;33m[\u001b[0m\u001b[1;34m'learning1'\u001b[0m\u001b[1;33m]\u001b[0m \u001b[1;33m=\u001b[0m \u001b[0mdf_scores\u001b[0m\u001b[1;33m.\u001b[0m\u001b[0mapply\u001b[0m \u001b[1;33m(\u001b[0m\u001b[1;32mlambda\u001b[0m \u001b[0mrow\u001b[0m\u001b[1;33m:\u001b[0m \u001b[0mlabel_learning\u001b[0m \u001b[1;33m(\u001b[0m\u001b[0mrow\u001b[0m\u001b[1;33m,\u001b[0m\u001b[1;34m\"learning1score\"\u001b[0m\u001b[1;33m)\u001b[0m\u001b[1;33m,\u001b[0m\u001b[0maxis\u001b[0m\u001b[1;33m=\u001b[0m\u001b[1;36m1\u001b[0m\u001b[1;33m)\u001b[0m\u001b[1;33m\u001b[0m\u001b[0m\n",
      "\u001b[1;32mC:\\Users\\Sarah\\Anaconda2\\lib\\site-packages\\pandas\\core\\series.pyc\u001b[0m in \u001b[0;36mwrapper\u001b[1;34m(self)\u001b[0m\n\u001b[0;32m     78\u001b[0m             \u001b[1;32mreturn\u001b[0m \u001b[0mconverter\u001b[0m\u001b[1;33m(\u001b[0m\u001b[0mself\u001b[0m\u001b[1;33m.\u001b[0m\u001b[0miloc\u001b[0m\u001b[1;33m[\u001b[0m\u001b[1;36m0\u001b[0m\u001b[1;33m]\u001b[0m\u001b[1;33m)\u001b[0m\u001b[1;33m\u001b[0m\u001b[0m\n\u001b[0;32m     79\u001b[0m         raise TypeError(\"cannot convert the series to \"\n\u001b[1;32m---> 80\u001b[1;33m                         \"{0}\".format(str(converter)))\n\u001b[0m\u001b[0;32m     81\u001b[0m \u001b[1;33m\u001b[0m\u001b[0m\n\u001b[0;32m     82\u001b[0m     \u001b[1;32mreturn\u001b[0m \u001b[0mwrapper\u001b[0m\u001b[1;33m\u001b[0m\u001b[0m\n",
      "\u001b[1;31mTypeError\u001b[0m: cannot convert the series to <type 'float'>"
     ]
    }
   ],
   "source": [
    "def label_learning (row,column):\n",
    "    if row[column] >= median_learning: return 'high'\n",
    "    else: return 'low'\n",
    "\n",
    "df_scores['learning1score'] = float(df_scores[\"post t1\"] - df_scores[\"pre\"])/float(df_scores[\"pre\"])\n",
    "median_learning = np.median(df_scores['learning1score'])\n",
    "df_scores['learning1'] = df_scores.apply (lambda row: label_learning (row,\"learning1score\"),axis=1)\n",
    "\n",
    "df_scores['learning2score'] = float(df_scores[\"post t2\"] - df_scores[\"pre\"])/float(df_scores[\"pre\"])\n",
    "median_learning = np.median(df_scores['learning2score'])\n",
    "df_scores['learning2'] = df_scores.apply (lambda row: label_learning (row,\"learning2score\"),axis=1)\n",
    "# len(df_scores[(df_scores['learning1']=='high') & (df_scores['learning2']=='high')])"
   ]
  },
  {
   "cell_type": "markdown",
   "metadata": {
    "collapsed": true
   },
   "source": [
    "Now we look at the different in sequences in activity 1"
   ]
  },
  {
   "cell_type": "code",
   "execution_count": null,
   "metadata": {
    "collapsed": false
   },
   "outputs": [],
   "source": [
    "summed_seqs, seq_high, seq_low = mega_process(activity='a1', level='learning1', value1='high', value2='low', shortest=3, longest=10)\n",
    "difference(seq_high,seq_low,N=10)"
   ]
  },
  {
   "cell_type": "markdown",
   "metadata": {
    "collapsed": false
   },
   "source": [
    "\n",
    "\n",
    "And activity 2"
   ]
  },
  {
   "cell_type": "code",
   "execution_count": null,
   "metadata": {
    "collapsed": false
   },
   "outputs": [],
   "source": [
    "summed_seqs, seq_high, seq_low = mega_process(activity='a2', level='learning2', value1='high', value2='low', shortest=3, longest=10)\n",
    "difference(seq_high,seq_low,N=10)"
   ]
  },
  {
   "cell_type": "markdown",
   "metadata": {},
   "source": [
    "## Well, one thing we are really interested in, is what happens before/after students pause. So let's look at those sequences, and compare low/high learners."
   ]
  },
  {
   "cell_type": "code",
   "execution_count": null,
   "metadata": {
    "collapsed": false
   },
   "outputs": [],
   "source": [
    "# summed_seqs, seq_high, seq_low = mega_process(activity='a1', level='learning1', value1='high', \n",
    "#                                               value2='low', shortest=3, longest=10, keep = \"P\")\n",
    "# difference(seq_high,seq_low,N=10)"
   ]
  },
  {
   "cell_type": "code",
   "execution_count": null,
   "metadata": {
    "collapsed": false
   },
   "outputs": [],
   "source": [
    "# summed_seqs, seq_high, seq_low = mega_process(activity='a2', level='learning2', value1='high', \n",
    "#                                               value2='low', shortest=3, longest=10, keep = \"P\")\n",
    "# difference(seq_high,seq_low,N=10)"
   ]
  },
  {
   "cell_type": "markdown",
   "metadata": {
    "collapsed": true
   },
   "source": [
    "#### Now let's pick a sequence visualize how much it's used by students"
   ]
  },
  {
   "cell_type": "code",
   "execution_count": null,
   "metadata": {
    "collapsed": false
   },
   "outputs": [],
   "source": [
    "def plot_seq_gains(activity, seqs):\n",
    "    df2 = df[df.Activity == activity]\n",
    "    if activity == 'a1': score_column = \"learning1score\"\n",
    "    else: score_column = \"learning2score\"\n",
    "        \n",
    "    blocks = get_blocks(df2,get_students())\n",
    "    frequencies = get_frequencies(blocks, shortest=3, longest=6)\n",
    "    sum_frequencies = sum(frequencies.values(), Counter())\n",
    "    counts_frequencies = Counter({f:sum([ 1 if f in freq else 0 for freq in frequencies.values()]) for f in list(sum_frequencies)})\n",
    "    totals = {student:float(sum(count.values())) for student,count in frequencies.iteritems()}\n",
    "\n",
    "    fig, axs = plt.subplots(nrows=len(seqs),ncols=1,figsize=(15,3*len(seqs)))\n",
    "    fig.suptitle('Normalize frequency of usage of sequences versus learning gain. Students are colored depending on their scaffolding.',fontsize=16)\n",
    "    for seq,ax in zip(seqs,axs):\n",
    "        counts = keep_frequencies_with(counts_frequencies,keep=seq)\n",
    "        cleaned_frequencies = clean_student_frequencies(counts, frequencies)\n",
    "\n",
    "        f1 = select_frequencies(cleaned_frequencies,\"scaffolding\",\"scaff\")\n",
    "        f2 = select_frequencies(cleaned_frequencies,\"scaffolding\",\"not\")\n",
    "\n",
    "        total1 = {student:float(sum(count.values()))/totals[student] for student,count in f1.iteritems()}\n",
    "        values1 = {k:(v, float(df_scores[df_scores[\"student\"]==k][score_column]) ) for k,v in total1.iteritems()}\n",
    "        total2 = {student:float(sum(count.values()))/totals[student] for student,count in f2.iteritems()}\n",
    "        values2 = {k:(v, float(df_scores[df_scores[\"student\"]==k][score_column]) ) for k,v in total2.iteritems()}\n",
    "        x,y = zip(*values1.values())\n",
    "        rec1 = ax.scatter(x,y, c='r',s=100, alpha=0.4)\n",
    "        x,y = zip(*values2.values())\n",
    "        rec2 = ax.scatter(x,y, c='b',s=100, alpha=0.4)\n",
    "        ax.axhline(0, color='darkgrey')\n",
    "        ax.set_ylabel(seq)\n",
    "        ax.legend((rec1, rec2), ('Scaffolded', 'Not scaffolded'))\n",
    "        \n",
    "#         ax.set_xlabel('Normalized frequency of usage')\n",
    "#         ax.set_ylabel('Learning gain in activity 1 (post-pre)')\n",
    "#         ax.set_title('Normalize frequency of usage of {0} versus learning gain. Students are colored depending on their scaffolding.'.format(seq))"
   ]
  },
  {
   "cell_type": "markdown",
   "metadata": {
    "collapsed": false
   },
   "source": [
    "### Want to make a matrix where rows are sequences, columns students, cells represent number of times sequence was performed by student"
   ]
  },
  {
   "cell_type": "code",
   "execution_count": null,
   "metadata": {
    "collapsed": false
   },
   "outputs": [],
   "source": [
    "df2 = df[df.Activity == 'a1']\n",
    "blocks = get_blocks(df2,get_students())\n",
    "frequencies = get_frequencies(blocks, shortest=3, longest=6)\n",
    "sum_frequencies = sum(frequencies.values(), Counter())\n",
    "counts_frequencies = Counter({f:sum([ 1 if f in freq else 0 for freq in frequencies.values()]) for f in list(sum_frequencies)})\n",
    "totals = {student:float(sum(count.values())) for student,count in frequencies.iteritems()}\n",
    "\n",
    "students, sequences = frequencies.keys(), sum_frequencies.keys()\n",
    "A = np.zeros((len(students), len(sequences)))\n",
    "A.shape\n",
    "\n",
    "for st,seqs in frequencies.iteritems():\n",
    "    i = students.index(st)\n",
    "    for sq,count in seqs.iteritems():\n",
    "        j = sequences.index(sq)\n",
    "        A[i][j] = count"
   ]
  },
  {
   "cell_type": "markdown",
   "metadata": {},
   "source": [
    "We normalize the matrix (in reality the right way to normalize is to divide by number of blocks of sequences per student. Right now, the number of sequences per students depends on how diverse their set of seqs is)"
   ]
  },
  {
   "cell_type": "code",
   "execution_count": null,
   "metadata": {
    "collapsed": false
   },
   "outputs": [],
   "source": []
  },
  {
   "cell_type": "code",
   "execution_count": null,
   "metadata": {
    "collapsed": false
   },
   "outputs": [],
   "source": []
  },
  {
   "cell_type": "code",
   "execution_count": null,
   "metadata": {
    "collapsed": false
   },
   "outputs": [],
   "source": [
    "B = np.zeros((len(students), len(sequences)))\n",
    "for i,row in enumerate(A):\n",
    "    B[i,:] = A[i,:]/len(blocks[students[i]])"
   ]
  },
  {
   "cell_type": "markdown",
   "metadata": {
    "collapsed": false
   },
   "source": [
    "We calculate correlations with learning outcomes for each sequence"
   ]
  },
  {
   "cell_type": "code",
   "execution_count": null,
   "metadata": {
    "collapsed": false
   },
   "outputs": [],
   "source": [
    "gains = [round(float(df_scores[df_scores[\"student\"]==student]['learning1score']),5) for student in students]\n",
    "\n",
    "from scipy.stats import pearsonr\n",
    "correlation_measure = pearsonr\n",
    "corr = []\n",
    "for sq in sequences:\n",
    "    j = sequences.index(sq)\n",
    "    if np.count_nonzero(B[:,j]) > 10:\n",
    "        c = correlation_measure(B[:,j],gains)\n",
    "        corr.append((sq, c[0], c[1]))    "
   ]
  },
  {
   "cell_type": "markdown",
   "metadata": {},
   "source": [
    "Now let's keep only the significant sequences.\n",
    "\n",
    "**Note**: we still need to do some boostrapping and permutation test to confirm that these are significant results."
   ]
  },
  {
   "cell_type": "code",
   "execution_count": null,
   "metadata": {
    "collapsed": false
   },
   "outputs": [],
   "source": [
    "sig_corr = []\n",
    "for s,c,p in corr:\n",
    "    p = p/2.0\n",
    "    if p <= 0.05 and abs(c) > 0.25:\n",
    "        sig_corr.append((s,c,p))\n",
    "        print s,c,p        "
   ]
  },
  {
   "cell_type": "code",
   "execution_count": null,
   "metadata": {
    "collapsed": false,
    "scrolled": false
   },
   "outputs": [],
   "source": [
    "plot_seq_gains('a1',zip(*sig_corr)[0])"
   ]
  },
  {
   "cell_type": "markdown",
   "metadata": {},
   "source": [
    "Clearly, how much students did an action doesn't matter as much as who did it at least once (or more?)\n",
    "Let's repeat the analysis using # of students who did the sequence instead of frequency."
   ]
  },
  {
   "cell_type": "code",
   "execution_count": null,
   "metadata": {
    "collapsed": true
   },
   "outputs": [],
   "source": [
    "df2 = df[df.Activity == 'a1']\n",
    "blocks = get_blocks(df2,get_students())\n",
    "frequencies = get_frequencies(blocks, shortest=3, longest=6)\n",
    "sum_frequencies = sum(frequencies.values(), Counter())\n",
    "counts_frequencies = Counter({f:sum([ 1 if f in freq else 0 for freq in frequencies.values()]) for f in list(sum_frequencies)})\n",
    "totals = {student:float(sum(count.values())) for student,count in frequencies.iteritems()}\n",
    "\n",
    "students, sequences = frequencies.keys(), sum_frequencies.keys()\n",
    "A = np.zeros((len(students), len(sequences)))\n",
    "A.shape\n",
    "\n",
    "\n",
    "for st,seqs in frequencies.iteritems():\n",
    "    i = students.index(st)\n",
    "    for sq,count in seqs.iteritems():\n",
    "        j = sequences.index(sq)\n",
    "        if count >= 1: x =1\n",
    "        else: x = 0\n",
    "        A[i][j] = x"
   ]
  },
  {
   "cell_type": "code",
   "execution_count": null,
   "metadata": {
    "collapsed": false
   },
   "outputs": [],
   "source": [
    "from scipy.stats import ttest_ind\n",
    "gains = np.array([round(float(df_scores[df_scores[\"student\"]==student]['learning1score']),5) for student in students])\n",
    "\n",
    "tests = []\n",
    "seq_gains = {}\n",
    "for sq in sequences:\n",
    "    j = sequences.index(sq)\n",
    "    a = gains[np.where(A[:,j]==1)] #learning gains of student who used sequence\n",
    "    b = gains[np.where(A[:,j]==0)] #learning gains of student who didn't\n",
    "    t = ttest_ind(a, b, equal_var=False)\n",
    "    tests.append((sq, t[0], t[1]))\n",
    "    seq_gains[sq] = (a,b)"
   ]
  },
  {
   "cell_type": "code",
   "execution_count": null,
   "metadata": {
    "collapsed": false
   },
   "outputs": [],
   "source": [
    "sig_tests = []\n",
    "print \"Sequence, # students/{0}, t-test, p-value\".format(len(students))\n",
    "for s,t,p in tests:\n",
    "    p = p/2.0\n",
    "    if p <= 0.05:\n",
    "        n = len(seq_gains[s][0]) #number of students who did the sequence\n",
    "        if n > 10 and n < 86: # and 'P' in s:\n",
    "            sig_tests.append((s,n,t,p))\n",
    "\n",
    "# order by ttest value\n",
    "results = sorted(sig_tests, key=lambda x: x[2])\n",
    "for s,n,t,p in results:\n",
    "    print \"{0} \\t\\t {1}\\t {2} \\t {3}\".format(s, n, round(t,2), round(p,3))"
   ]
  },
  {
   "cell_type": "code",
   "execution_count": null,
   "metadata": {
    "collapsed": false
   },
   "outputs": [],
   "source": [
    "plt.figure()\n",
    "seq = 'ROPT'\n",
    "means = [np.mean(seq_gains[seq][0]),np.mean(seq_gains[seq][1])]\n",
    "stdes = [np.std(seq_gains[seq][0]),np.std(seq_gains[seq][1])]\n",
    "plt.boxplot(seq_gains[seq])\n",
    "plt.ylabel('Average learning gain')\n",
    "plt.xticks(range(1,3),[str(len(seq_gains[seq][0])) +' did it', str(len(seq_gains[seq][1])) + ' didn\\'t'])\n",
    "plt.title('Learning gains depending on use of sequence '+seq)\n",
    "plt.grid()"
   ]
  },
  {
   "cell_type": "code",
   "execution_count": null,
   "metadata": {
    "collapsed": true
   },
   "outputs": [],
   "source": []
  },
  {
   "cell_type": "code",
   "execution_count": null,
   "metadata": {
    "collapsed": true
   },
   "outputs": [],
   "source": []
  }
 ],
 "metadata": {
  "kernelspec": {
   "display_name": "Python 2",
   "language": "python",
   "name": "python2"
  },
  "language_info": {
   "codemirror_mode": {
    "name": "ipython",
    "version": 2
   },
   "file_extension": ".py",
   "mimetype": "text/x-python",
   "name": "python",
   "nbconvert_exporter": "python",
   "pygments_lexer": "ipython2",
   "version": "2.7.12"
  }
 },
 "nbformat": 4,
 "nbformat_minor": 0
}
