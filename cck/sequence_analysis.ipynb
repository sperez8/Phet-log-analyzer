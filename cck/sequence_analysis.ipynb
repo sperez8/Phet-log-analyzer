{
 "cells": [
  {
   "cell_type": "code",
   "execution_count": 1,
   "metadata": {
    "collapsed": true
   },
   "outputs": [],
   "source": [
    "import numpy as np\n",
    "import pandas as pd\n",
    "import sys\n",
    "import getpass\n",
    "import re\n",
    "from functions import *\n",
    "from collections import Counter\n",
    "np.set_printoptions(precision=2)\n",
    "pd.set_option('precision', 2)"
   ]
  },
  {
   "cell_type": "code",
   "execution_count": 2,
   "metadata": {
    "collapsed": true
   },
   "outputs": [],
   "source": [
    "df = pd.read_csv('C:\\Users\\\\'+getpass.getuser()+'\\\\Google Drive\\Sarah Ido folder\\data\\CCK\\MATCHING_phet_cck_user_actions+sophistication_WITHPAUSE_anonymized.txt')\n",
    "df_scores = pd.read_csv('C:\\Users\\\\'+getpass.getuser()+'\\\\Google Drive\\Sarah Ido folder\\data\\CCK\\MATCHING_phet_cck_user_data_anonymized.txt')\n",
    "df[\"student\"] = df[\"student\"].astype('category')\n",
    "df_scores[\"student\"] = df_scores[\"student\"].astype('category')\n",
    "df[\"Family\"]=df[\"Family\"].str.capitalize()"
   ]
  },
  {
   "cell_type": "markdown",
   "metadata": {
    "collapsed": false
   },
   "source": [
    "Let's get the sequences by students in blocks of actions."
   ]
  },
  {
   "cell_type": "code",
   "execution_count": 3,
   "metadata": {
    "collapsed": false
   },
   "outputs": [],
   "source": [
    "def get_blocks(df, students):\n",
    "    '''gets blocks of sequences a list of students'''\n",
    "    def convert(action):\n",
    "        if action == 'Reset':\n",
    "            return 'X'\n",
    "#         if action == \"Organize\" or action == \"Build\":\n",
    "#             return 'M'\n",
    "        else: \n",
    "            return action[0]\n",
    "    \n",
    "    blocks = {student:'S' for student in students}\n",
    "    for student in students:\n",
    "        sequence =  list(df[df['student']==student]['Family'])\n",
    "        blocks[student] += re.sub(r'(.)\\1+', r'\\1',''.join([convert(action) for action in sequence]))\n",
    "    return blocks\n",
    "\n",
    "def get_frequencies(blocks, shortest=3, longest=11):\n",
    "    frequencies = {student:Counter() for student in blocks.keys()}\n",
    "    for student,sequence in blocks.iteritems():\n",
    "        for seq_length in range(shortest, longest+1):  # loops through different possible sequence lengths\n",
    "            frequencies[student] += Counter(sequence[i:i+seq_length] for i in range(len(sequence)-seq_length-1))  # counts string matches for every string of the current length\n",
    "    return frequencies\n",
    "\n",
    "def remove_rare_frequencies(frequencies, N=2):\n",
    "    for k in list(frequencies):\n",
    "            if frequencies[k] < N:\n",
    "                del frequencies[k]\n",
    "    return None\n",
    "\n",
    "def remove_omni_frequencies(frequencies, N=96):\n",
    "    for k in list(frequencies):\n",
    "            if frequencies[k] == N:\n",
    "                del frequencies[k]\n",
    "    return None\n",
    "\n",
    "def clean_student_frequencies(all_frequencies, frequencies):\n",
    "    new_frequencies = {}\n",
    "    for student, freqs in frequencies.iteritems():\n",
    "        new_frequencies[student] = freqs & all_frequencies\n",
    "    return new_frequencies\n",
    "\n",
    "def keep_frequencies_with(frequencies,keep='P'):\n",
    "    for k in list(frequencies):\n",
    "        if keep not in k:\n",
    "            del frequencies[k]\n",
    "    return None\n",
    "\n",
    "def select_frequencies(frequencies, attribute, level):\n",
    "    new_frequencies = {}\n",
    "    '''gets frequencies of students given an attribute of the student'''\n",
    "    relevant_students =  set(df_scores[df_scores[attribute]==level]['student'])\n",
    "    for student, f in frequencies.iteritems():\n",
    "        if student in relevant_students:\n",
    "            new_frequencies[student] = f\n",
    "    return new_frequencies\n",
    "\n",
    "def mega_process(activity='a1', level='scaffolding', value1='scaff', value2='not', shortest=3, longest=10):\n",
    "    df2 = df[df.Activity == activity]\n",
    "    blocks = get_blocks(df2,get_students())\n",
    "    frequencies = get_frequencies(blocks, shortest=shortest, longest=longest)\n",
    "\n",
    "    sum_frequencies = sum(frequencies.values(), Counter())\n",
    "    counts_frequencies = Counter({f:sum([ 1 if f in freq else 0 for freq in frequencies.values()]) for f in list(sum_frequencies)})\n",
    "\n",
    "    # Remove frequencies done by few and all students\n",
    "    remove_rare_frequencies(counts_frequencies,3)\n",
    "    remove_omni_frequencies(counts_frequencies,len(get_students()))\n",
    "\n",
    "    # update student frequencies by removing those removed in the collection of all frequencies\n",
    "    frequencies = clean_student_frequencies(counts_frequencies, frequencies)\n",
    "    \n",
    "    f1 = select_frequencies(frequencies,level,value1)\n",
    "    f2 = select_frequencies(frequencies,level,value2)\n",
    "\n",
    "    sum_frequencies = sum(f1.values(), Counter())\n",
    "    count1 = Counter({f:sum([ 1 if f in freq else 0 for freq in f1.values()]) for f in list(sum_frequencies)})\n",
    "    sum_frequencies = sum(f2.values(), Counter())\n",
    "    count2 = Counter({f:sum([ 1 if f in freq else 0 for freq in f2.values()]) for f in list(sum_frequencies)})\n",
    "\n",
    "    return sum_frequencies, count1, count2\n",
    "\n",
    "def difference(seqs1,seqs2,N=10):\n",
    "    diff = (seqs1-seqs2).most_common(N)\n",
    "    print \"Sequence: count = seq1 - seq2\\n-----------------------------\"\n",
    "    for seq,count in diff:\n",
    "        print \"{0}: \\t {1} = {2} - {3} \".format(seq, count, seqs1[seq], seqs2[seq])\n",
    "    \n",
    "    diff = (seqs2-seqs1).most_common(N)\n",
    "    print \"\\nSequence: count = seq2 - seq1\\n----------------------------\"\n",
    "    for seq,count in diff:\n",
    "        print \"{0}: \\t {1} = {2} - {3} \".format(seq, count, seqs2[seq], seqs1[seq])"
   ]
  },
  {
   "cell_type": "markdown",
   "metadata": {
    "collapsed": true
   },
   "source": [
    "## Here is how we get sequences "
   ]
  },
  {
   "cell_type": "code",
   "execution_count": 4,
   "metadata": {
    "collapsed": false
   },
   "outputs": [],
   "source": [
    "# df2 = df[df.Activity == 'a1']\n",
    "# blocks = get_blocks(df2,get_students())\n",
    "# frequencies = get_frequencies(blocks, shortest=3, longest=10)\n",
    "# #Count number of time sequences occurs accross all students\n",
    "# sum_frequencies = sum(frequencies.values(), Counter())\n",
    "# #Count number of students that conducted that frequency\n",
    "# counts_frequencies = Counter({f:sum([ 1 if f in freq else 0 for freq in frequencies.values()]) for f in list(sum_frequencies)})"
   ]
  },
  {
   "cell_type": "markdown",
   "metadata": {},
   "source": [
    "## Here is how to select certain sequences"
   ]
  },
  {
   "cell_type": "code",
   "execution_count": 5,
   "metadata": {
    "collapsed": false
   },
   "outputs": [],
   "source": [
    "# ## Clean up sequences with count less than N\n",
    "# N = 5\n",
    "# remove_rare_frequencies(counts_frequencies,N)\n",
    "# # keep_frequencies_with(counts_frequencies,keep='P')\n",
    "# frequencies = clean_student_frequencies(counts_frequencies, frequencies)\n",
    "# # counts_frequencies.most_common(10)"
   ]
  },
  {
   "cell_type": "markdown",
   "metadata": {
    "collapsed": false
   },
   "source": [
    "## Let's compare sequences from students in the different conditions in Activity 1\n",
    "Get all frequencies of length 3 to 10, cleaning them up by removing those common to all students and the rare ones."
   ]
  },
  {
   "cell_type": "code",
   "execution_count": 6,
   "metadata": {
    "collapsed": false
   },
   "outputs": [],
   "source": [
    "summed_seqs, seq_scaff, seq_not = mega_process(activity='a1', level='scaffolding', value1='scaff', value2='not', shortest=3, longest=10)"
   ]
  },
  {
   "cell_type": "markdown",
   "metadata": {
    "collapsed": false
   },
   "source": [
    "We can now look at the difference in number of students that conduct sequences in both groups."
   ]
  },
  {
   "cell_type": "code",
   "execution_count": 7,
   "metadata": {
    "collapsed": false
   },
   "outputs": [
    {
     "name": "stdout",
     "output_type": "stream",
     "text": [
      "Sequence: count = seq1 - seq2\n",
      "-----------------------------\n",
      "PTPT: \t 20 = 36 - 16 \n",
      "PTP: \t 19 = 46 - 27 \n",
      "TPTPT: \t 19 = 30 - 11 \n",
      "PTPTP: \t 17 = 29 - 12 \n",
      "TPTP: \t 16 = 40 - 24 \n",
      "TPTPTP: \t 15 = 24 - 9 \n",
      "TPX: \t 14 = 20 - 6 \n",
      "RTPTPT: \t 13 = 19 - 6 \n",
      "TPTPTPT: \t 13 = 15 - 2 \n",
      "ITPT: \t 13 = 28 - 15 \n",
      "\n",
      "Sequence: count = seq2 - seq1\n",
      "----------------------------\n",
      "ORPO: \t 21 = 29 - 8 \n",
      "RPR: \t 18 = 23 - 5 \n",
      "RBORP: \t 18 = 23 - 5 \n",
      "BROBOR: \t 17 = 25 - 8 \n",
      "BORPO: \t 17 = 22 - 5 \n",
      "OPO: \t 16 = 26 - 10 \n",
      "TRB: \t 15 = 26 - 11 \n",
      "ORPOR: \t 15 = 19 - 4 \n",
      "RBOBOBO: \t 14 = 38 - 24 \n",
      "OBTO: \t 13 = 25 - 12 \n"
     ]
    }
   ],
   "source": [
    "difference(seq_scaff,seq_not,N=10)"
   ]
  },
  {
   "cell_type": "markdown",
   "metadata": {},
   "source": [
    "## Does this difference persist in activity 2?"
   ]
  },
  {
   "cell_type": "code",
   "execution_count": 8,
   "metadata": {
    "collapsed": false
   },
   "outputs": [
    {
     "name": "stdout",
     "output_type": "stream",
     "text": [
      "Sequence: count = seq1 - seq2\n",
      "-----------------------------\n",
      "SBOB: \t 13 = 37 - 24 \n",
      "SBOBO: \t 12 = 36 - 24 \n",
      "IPT: \t 12 = 17 - 5 \n",
      "XBO: \t 11 = 16 - 5 \n",
      "TRTP: \t 11 = 27 - 16 \n",
      "TRTPT: \t 10 = 17 - 7 \n",
      "PTPTR: \t 10 = 14 - 4 \n",
      "TPTPTR: \t 10 = 12 - 2 \n",
      "TPTPT: \t 10 = 19 - 9 \n",
      "XBOBO: \t 9 = 14 - 5 \n",
      "\n",
      "Sequence: count = seq2 - seq1\n",
      "----------------------------\n",
      "IBOB: \t 15 = 28 - 13 \n",
      "RPR: \t 14 = 27 - 13 \n",
      "IBOBO: \t 13 = 26 - 13 \n",
      "RPRO: \t 12 = 13 - 1 \n",
      "ORBOROR: \t 12 = 13 - 1 \n",
      "BOROBR: \t 11 = 18 - 7 \n",
      "RBOROR: \t 11 = 16 - 5 \n",
      "BOBOROBO: \t 11 = 24 - 13 \n",
      "IBO: \t 11 = 32 - 21 \n",
      "BOBOROB: \t 10 = 27 - 17 \n"
     ]
    }
   ],
   "source": [
    "summed_seqs, seq_scaff, seq_not = mega_process(activity='a2', level='scaffolding', value1='scaff', value2='not', shortest=3, longest=10)\n",
    "difference(seq_scaff,seq_not,N=10)"
   ]
  },
  {
   "cell_type": "markdown",
   "metadata": {},
   "source": [
    "## Let's compare sequences from students from different clusters\n",
    "In activity 1"
   ]
  },
  {
   "cell_type": "code",
   "execution_count": 9,
   "metadata": {
    "collapsed": false
   },
   "outputs": [],
   "source": [
    "summed_seqs, seq_know, seq_att = mega_process(activity='a1', level='Clustergroups', value1='knowledge', value2='attitude', shortest=3, longest=10)"
   ]
  },
  {
   "cell_type": "markdown",
   "metadata": {},
   "source": [
    "**Note**: Here we are doubling the number of counts for the knowledge group since it's half the size"
   ]
  },
  {
   "cell_type": "code",
   "execution_count": 10,
   "metadata": {
    "collapsed": false
   },
   "outputs": [
    {
     "name": "stdout",
     "output_type": "stream",
     "text": [
      "Sequence: count = seq1 - seq2\n",
      "-----------------------------\n",
      "OBOBOBOBRO: \t 15 = 24 - 9 \n",
      "ROPI: \t 15 = 20 - 5 \n",
      "BOBT: \t 15 = 40 - 25 \n",
      "TPTO: \t 14 = 30 - 16 \n",
      "RBRBO: \t 14 = 34 - 20 \n",
      "TPBO: \t 14 = 28 - 14 \n",
      "OPI: \t 14 = 24 - 10 \n",
      "TOBOBT: \t 14 = 14 - 0 \n",
      "OTPTO: \t 13 = 14 - 1 \n",
      "BOBTB: \t 12 = 20 - 8 \n",
      "\n",
      "Sequence: count = seq2 - seq1\n",
      "----------------------------\n",
      "BRP: \t 19 = 41 - 22 \n",
      "PBOB: \t 17 = 41 - 24 \n",
      "TPR: \t 16 = 34 - 18 \n",
      "BOROBO: \t 16 = 56 - 40 \n",
      "OBORBOB: \t 15 = 47 - 32 \n",
      "BOBORBOB: \t 15 = 39 - 24 \n",
      "BOBRP: \t 15 = 23 - 8 \n",
      "BRT: \t 15 = 47 - 32 \n",
      "OBOBRP: \t 15 = 19 - 4 \n",
      "ORP: \t 14 = 60 - 46 \n"
     ]
    }
   ],
   "source": [
    "difference(seq_know+seq_know,seq_att,N=10)"
   ]
  },
  {
   "cell_type": "markdown",
   "metadata": {},
   "source": [
    "In activity 2"
   ]
  },
  {
   "cell_type": "code",
   "execution_count": 11,
   "metadata": {
    "collapsed": false
   },
   "outputs": [],
   "source": [
    "summed_seqs, seq_know, seq_att = mega_process(activity='a2', level='Clustergroups', value1='knowledge', value2='attitude', shortest=3, longest=10)"
   ]
  },
  {
   "cell_type": "markdown",
   "metadata": {},
   "source": [
    "**Note**: Here we are doubling the number of counts for the knowledge group since it's half the size"
   ]
  },
  {
   "cell_type": "code",
   "execution_count": 12,
   "metadata": {
    "collapsed": false
   },
   "outputs": [
    {
     "name": "stdout",
     "output_type": "stream",
     "text": [
      "Sequence: count = seq1 - seq2\n",
      "-----------------------------\n",
      "TPTO: \t 19 = 32 - 13 \n",
      "PTO: \t 15 = 36 - 21 \n",
      "BOROT: \t 12 = 24 - 12 \n",
      "TPTOR: \t 11 = 18 - 7 \n",
      "BPB: \t 11 = 20 - 9 \n",
      "IPT: \t 11 = 22 - 11 \n",
      "BPBO: \t 10 = 18 - 8 \n",
      "PTOR: \t 10 = 24 - 14 \n",
      "BRORBOB: \t 10 = 14 - 4 \n",
      "SBPBO: \t 10 = 12 - 2 \n",
      "\n",
      "Sequence: count = seq2 - seq1\n",
      "----------------------------\n",
      "RTPO: \t 22 = 28 - 6 \n",
      "OROBOR: \t 21 = 49 - 28 \n",
      "ROROB: \t 20 = 50 - 30 \n",
      "TROR: \t 19 = 35 - 16 \n",
      "ROROR: \t 18 = 42 - 24 \n",
      "BRT: \t 18 = 44 - 26 \n",
      "ROBOBOBO: \t 18 = 34 - 16 \n",
      "OROROR: \t 18 = 38 - 20 \n",
      "OROBOBOBO: \t 17 = 27 - 10 \n",
      "RTR: \t 17 = 49 - 32 \n"
     ]
    }
   ],
   "source": [
    "difference(seq_know+seq_know,seq_att,N=10)"
   ]
  },
  {
   "cell_type": "markdown",
   "metadata": {},
   "source": [
    "## Let's compare sequences from students with high and low learning gain"
   ]
  },
  {
   "cell_type": "markdown",
   "metadata": {},
   "source": [
    "First we need to split students by learning gains in each activity"
   ]
  },
  {
   "cell_type": "code",
   "execution_count": 13,
   "metadata": {
    "collapsed": false
   },
   "outputs": [],
   "source": [
    "def label_learning (row):\n",
    "    if row['learning'] >= median_learning: return 'high'\n",
    "    else: return 'low'\n",
    "\n",
    "df_scores['learning'] = df_scores[\"post t1\"] - df_scores[\"pre\"]\n",
    "median_learning = np.median(df_scores['learning'])\n",
    "df_scores['learning1'] = df_scores.apply (lambda row: label_learning (row),axis=1)\n",
    "\n",
    "df_scores['learning'] = df_scores[\"post t2\"] - df_scores[\"pre\"]\n",
    "median_learning = np.median(df_scores['learning'])\n",
    "df_scores['learning2'] = df_scores.apply (lambda row: label_learning (row),axis=1)\n",
    "# len(df_scores[(df_scores['learning1']=='high') & (df_scores['learning2']=='high')])"
   ]
  },
  {
   "cell_type": "markdown",
   "metadata": {
    "collapsed": true
   },
   "source": [
    "Now we look at the different in sequences in activity 1"
   ]
  },
  {
   "cell_type": "code",
   "execution_count": 14,
   "metadata": {
    "collapsed": false
   },
   "outputs": [],
   "source": [
    "summed_seqs, seq_high, seq_low = mega_process(activity='a1', level='learning1', value1='high', value2='low', shortest=3, longest=10)"
   ]
  },
  {
   "cell_type": "code",
   "execution_count": 15,
   "metadata": {
    "collapsed": false
   },
   "outputs": [
    {
     "name": "stdout",
     "output_type": "stream",
     "text": [
      "Sequence: count = seq1 - seq2\n",
      "-----------------------------\n",
      "BOBOBORO: \t 14 = 42 - 28 \n",
      "OBOBOBORO: \t 13 = 38 - 25 \n",
      "TRTB: \t 12 = 14 - 2 \n",
      "OBOBORO: \t 11 = 46 - 35 \n",
      "OROBOBOBOB: \t 11 = 24 - 13 \n",
      "RORT: \t 11 = 22 - 11 \n",
      "OBOBOROR: \t 11 = 32 - 21 \n",
      "BOBORO: \t 10 = 47 - 37 \n",
      "POTO: \t 10 = 18 - 8 \n",
      "ROBOBOBOB: \t 10 = 29 - 19 \n",
      "\n",
      "Sequence: count = seq2 - seq1\n",
      "----------------------------\n",
      "TPR: \t 15 = 29 - 14 \n",
      "BRBOBOBO: \t 15 = 22 - 7 \n",
      "TPRO: \t 14 = 16 - 2 \n",
      "TROBO: \t 14 = 21 - 7 \n",
      "XBOBOBO: \t 13 = 19 - 6 \n",
      "XBOBOBOBO: \t 13 = 19 - 6 \n",
      "XBOBOBOB: \t 13 = 19 - 6 \n",
      "OBOROROBOB: \t 13 = 19 - 6 \n",
      "XBOBOB: \t 12 = 19 - 7 \n",
      "TROB: \t 12 = 24 - 12 \n"
     ]
    }
   ],
   "source": [
    "difference(seq_high,seq_low,N=10)"
   ]
  },
  {
   "cell_type": "markdown",
   "metadata": {
    "collapsed": false
   },
   "source": [
    "And activity 2"
   ]
  },
  {
   "cell_type": "code",
   "execution_count": 16,
   "metadata": {
    "collapsed": false
   },
   "outputs": [],
   "source": [
    "summed_seqs, seq_high, seq_low = mega_process(activity='a2', level='learning1', value1='high', value2='low', shortest=3, longest=10)"
   ]
  },
  {
   "cell_type": "code",
   "execution_count": 17,
   "metadata": {
    "collapsed": false
   },
   "outputs": [
    {
     "name": "stdout",
     "output_type": "stream",
     "text": [
      "Sequence: count = seq1 - seq2\n",
      "-----------------------------\n",
      "PRP: \t 9 = 19 - 10 \n",
      "TPRT: \t 8 = 19 - 11 \n",
      "TPRTO: \t 8 = 9 - 1 \n",
      "TPTOR: \t 8 = 12 - 4 \n",
      "TOBOBOBO: \t 8 = 8 - 0 \n",
      "OTPT: \t 8 = 12 - 4 \n",
      "OROBOBOB: \t 8 = 24 - 16 \n",
      "RTOR: \t 8 = 24 - 16 \n",
      "OPT: \t 8 = 13 - 5 \n",
      "ROP: \t 8 = 14 - 6 \n",
      "\n",
      "Sequence: count = seq2 - seq1\n",
      "----------------------------\n",
      "RBRB: \t 18 = 33 - 15 \n",
      "ORBRB: \t 15 = 22 - 7 \n",
      "ORBR: \t 15 = 35 - 20 \n",
      "RBT: \t 15 = 26 - 11 \n",
      "BRBRB: \t 15 = 17 - 2 \n",
      "RBRBO: \t 15 = 21 - 6 \n",
      "BOBORBR: \t 14 = 20 - 6 \n",
      "ORBOR: \t 13 = 30 - 17 \n",
      "OBORBRB: \t 13 = 16 - 3 \n",
      "OBORBR: \t 13 = 22 - 9 \n"
     ]
    }
   ],
   "source": [
    "difference(seq_high,seq_low,N=10)"
   ]
  },
  {
   "cell_type": "markdown",
   "metadata": {},
   "source": [
    "\n",
    "Now what?\n",
    "\n"
   ]
  },
  {
   "cell_type": "code",
   "execution_count": null,
   "metadata": {
    "collapsed": true
   },
   "outputs": [],
   "source": []
  },
  {
   "cell_type": "code",
   "execution_count": null,
   "metadata": {
    "collapsed": true
   },
   "outputs": [],
   "source": []
  }
 ],
 "metadata": {
  "kernelspec": {
   "display_name": "Python 2",
   "language": "python",
   "name": "python2"
  },
  "language_info": {
   "codemirror_mode": {
    "name": "ipython",
    "version": 2
   },
   "file_extension": ".py",
   "mimetype": "text/x-python",
   "name": "python",
   "nbconvert_exporter": "python",
   "pygments_lexer": "ipython2",
   "version": "2.7.11"
  }
 },
 "nbformat": 4,
 "nbformat_minor": 0
}
