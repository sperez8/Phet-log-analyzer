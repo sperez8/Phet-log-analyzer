{
 "cells": [
  {
   "cell_type": "markdown",
   "metadata": {},
   "source": [
    "# The following document details to data analyses found in these notebooks and documents any data transformations and analysis choices made.\n",
    "\n",
    "## Notebooks overview\n",
    "\n",
    "The ''functions.py\" script contains all of the data loading and processing functions that are comon to most notebooks such action sequence processing, finding blocks in sequences, counting frequencies of action pairs etc.\n",
    "\n",
    "The following table describes each notebook.\n",
    "\n",
    "| Notebook | Description |\n",
    "| --- | --- |\n",
    "| general_analysys.ipynb\t|\tProvides an overview of the data and preliminary analyses and descriptors\t|\n",
    "| HMM_analysis.ipynb\t|\tConducts Hidden Markov Model analysis of student blocked action sequences and visualizes their hidden states.\t|\n",
    "| load_data.ipynb\t|\tWas used to anonymize the data for sharing with colleagues outside UBC. Was also use to remove the student with only test scores (computer crashed)\t|\n",
    "| markov_chain_analysis.py.ipynb\t|\tConducts markov chain analysis of student blocked action sequences and visualizes the transition from blocks of actions for different groups of students.\t|\n",
    "| sequence_analysis.ipynb\t|\tContains preliminary sequence analysis for CMU workshop. Counts number of times sequences were used by student groups\t|\n",
    "| time_series_analysis.ipynb\t|\tAnalyzes the use of actions over time by different student groups\t|"
   ]
  },
  {
   "cell_type": "markdown",
   "metadata": {},
   "source": [
    "## Data transformations\n",
    "### Action categories"
   ]
  },
  {
   "cell_type": "markdown",
   "metadata": {},
   "source": [
    "Possible subactions by action:\n",
    "\n",
    "| Action | Subactions |\n",
    "| --- | --- |\n",
    "|Reset |\t reset |\n",
    "|Pause |\t pause |\n",
    "|Extra |\t moreVoltsOption, join, remove, changeResistance, sliderEndDrag, add, organizeWorkspace, joinX |\n",
    "|Test |\t startMeasure, playPause, traceMeasure, endMeasure |\n",
    "|Organize |\t organizeWorkspace |\n",
    "|Build |\t join, reverse, switch, changeResistance, sliderEndDrag, add, changeVoltage, joinX |\n",
    "|Interface |\t deiconified, help, iconified, exitSim, enableComponent, disableComponent, view |\n",
    "|Revise |\t join, reverse, switch, remove, changeResistance, sliderEndDrag, add, split, changeVoltage, joinX |\n",
    "\n",
    "\n",
    "Here are all the different actions used for analysis. The first six are most commonly used.\n",
    "\n",
    "\n",
    "| Action | Identifier | Description |\n",
    "| --- | --- | --- |\n",
    "| Pause | P | Inactivity for 15seconds of longer |\n",
    "| Test | T | Any action where a voltmeter or ammeter is used |\n",
    "| Construct | C | All actions that lead to building and revising circuits when there is no outcome on the circuit (ie. current or voltage doesn't change) |\n",
    "| Construct with Feedback | F | All actions that lead to building and revising circuits that change the circuit (ie. current or voltage change) |\n",
    "| Reset | X | Press the reset button which clears the circuit board |\n",
    "| Extra | X | Actions related to using the extra features such as connecting a dog to the circuit. |\n",
    "| Interface | I | Something in the interface is changed like the zoom feature |\n",
    "| Organize | O | The pieces of the circuit are moved without changing the configuration |\n",
    "| Start | S | The first event. |\n",
    "| Build | B | All actions related to addign wires, lightbulbs, etc |\n",
    "| Revise | R | Same as build but where an outcome is changed or the item that is changed was already part of the circuit. |\n",
    "\n",
    "\n",
    "Typically, the actions of type \"Interface\", \"Organize\" and \"Start\" are removed from analysis."
   ]
  },
  {
   "cell_type": "code",
   "execution_count": null,
   "metadata": {
    "collapsed": true
   },
   "outputs": [],
   "source": []
  }
 ],
 "metadata": {
  "kernelspec": {
   "display_name": "Python 2",
   "language": "python",
   "name": "python2"
  },
  "language_info": {
   "codemirror_mode": {
    "name": "ipython",
    "version": 2
   },
   "file_extension": ".py",
   "mimetype": "text/x-python",
   "name": "python",
   "nbconvert_exporter": "python",
   "pygments_lexer": "ipython2",
   "version": "2.7.12"
  }
 },
 "nbformat": 4,
 "nbformat_minor": 0
}
