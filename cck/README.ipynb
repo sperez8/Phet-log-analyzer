{
 "cells": [
  {
   "cell_type": "markdown",
   "metadata": {},
   "source": [
    "# The following document details to data analyses found in these notebooks and documents any data transformations and analysis choices made.\n",
    "\n",
    "## Notebooks overview\n",
    "\n",
    "The ''functions.py\" script contains all of the data loading and processing functions that are comon to most notebooks such action sequence processing, finding blocks in sequences, counting frequencies of action pairs etc.\n",
    "\n",
    "The ''mining_functions.py\" script contains all of the processing functions used to do the sequence mining including transforming sequences of actions into blocks and calculate the infogain of sequences.\n",
    "\n",
    "The following table describes each notebook.\n",
    "\n",
    "| Notebook | Description |\n",
    "| --- | --- |\n",
    "| general_analysys.ipynb\t|\tProvides an overview of the data and preliminary analyses and descriptors\t|\n",
    "|\tanalysis_interesting_temporal_sequences.ipynb\t|\tConducts analysis on temporal sequence including building blocks and other subsequences - Contains most of the analysis for the AIED paper.\t|\n",
    "|\tdemo_mining_functions.ipynb\t|\tDemos how to use the functions in \"mining_functions.py\"\t|\n",
    "|\tdemo_entropy_calc_and_heatMapPlots.ipynb\t|\tDemos the calculation of the entropy and info gain of a sequence along with the heatmap generation. These functions are in \"mining_function.py\"\t|\n",
    "|\tfreq_of_use_analysis_new_categories.ipynb\t|\tConducts descriptive analysis on use of individual actions and circuits built. No longer maintained.\t|\n",
    "|\tidentifying_student_conditions_from_strategies.ipynb\t|\tConducts analysis on the use of the top ten sequences by student groups given learning and condition. (For journal paper)\t|\n",
    "|\tsequence_brokenBarPlot_maker.ipynb\t|\tDemos how to plot activities per student. Shows the activity of different kinds of students: shared with colleage so please maintain!\t|\n",
    "|\tsequence_length_analysis.ipynb\t|\tConducts analysis of activity lengths to motivate the truncation of activities to differentiate between activity 2 and 3.\t|\n",
    "|\tsplitting_groups_and_run_infogain.ipynb\t|\tContains the bulk of the analysis for the AIED paper: split students into two groups, plots pre and post tests distributions as well as runs the info gain algorithms and plots the top 10 sequences.\t|\n",
    "| load_data.ipynb\t|\tWas used to anonymize the data for sharing with colleagues outside UBC. Was also use to remove the student with only test scores (computer crashed)\t|\n",
    "| old\\HMM_analysis.ipynb\t|\tConducts Hidden Markov Model analysis of student blocked action sequences and visualizes their hidden states.\t|\n",
    "| old\\markov_chain_analysis.py.ipynb\t|\tConducts markov chain analysis of student blocked action sequences and visualizes the transition from blocks of actions for different groups of students.\t|\n",
    "| old\\greedy_sequence_analysis.ipynb\t|\tConducts a count based and greedy algorithm to extract important sequence given students split by learning gains. This analysis was done during the CMU Learning Week.\t|\n",
    "| old\\recategorization_and_general_analysys-.ipynb\t|\tThe notebooks explains the categorization of actions given different parameters such as testing tool. It is not longer maintained.\t|"
   ]
  },
  {
   "cell_type": "markdown",
   "metadata": {},
   "source": [
    "## Data transformations\n",
    "### Action categories"
   ]
  },
  {
   "cell_type": "markdown",
   "metadata": {},
   "source": [
    "**NOTE**: For a detailed explanation of the analysis and design decisions made, please see our meeting notes for this project: <https://drive.google.com/open?id=1s_zyJ8MsnWRxjetL2bnsKjZ_VCgzvuXz4dYL1DLzChI>"
   ]
  },
  {
   "cell_type": "markdown",
   "metadata": {},
   "source": [
    "Possible subactions by action:\n",
    "\n",
    "| Action | Subactions |\n",
    "| --- | --- |\n",
    "|Reset |\t reset |\n",
    "|Pause |\t pause |\n",
    "|Extra |\t moreVoltsOption, join, remove, changeResistance, sliderEndDrag, add, organizeWorkspace, joinX |\n",
    "|Test |\t startMeasure, playPause, traceMeasure, endMeasure |\n",
    "|Organize |\t organizeWorkspace |\n",
    "|Build |\t join, reverse, switch, changeResistance, sliderEndDrag, add, changeVoltage, joinX |\n",
    "|Interface |\t deiconified, help, iconified, exitSim, enableComponent, disableComponent, view |\n",
    "|Revise |\t join, reverse, switch, remove, changeResistance, sliderEndDrag, add, split, changeVoltage, joinX |\n",
    "\n",
    "\n",
    "Here are all the different actions used for analysis. The first six are most commonly used.\n",
    "\n",
    "\n",
    "| Action | Identifier | Description |\n",
    "| --- | --- | --- |\n",
    "| Pause | P | Inactivity for 15seconds of longer |\n",
    "| Test | T | Any action where a voltmeter or ammeter is used |\n",
    "| Construct | C | All actions that lead to building and revising circuits when there is no outcome on the circuit (ie. current or voltage doesn't change) |\n",
    "| Construct with Feedback | F | All actions that lead to building and revising circuits that change the circuit (ie. current or voltage change) |\n",
    "| Reset | X | Press the reset button which clears the circuit board |\n",
    "| Extra | X | Actions related to using the extra features such as connecting a dog to the circuit. |\n",
    "| Interface | I | Something in the interface is changed like the zoom feature |\n",
    "| Organize | O | The pieces of the circuit are moved without changing the configuration |\n",
    "| Start | S | The first event. |\n",
    "| Build | B | All actions related to addign wires, lightbulbs, etc |\n",
    "| Revise | R | Same as build but where an outcome is changed or the item that is changed was already part of the circuit. |\n",
    "\n",
    "\n",
    "Typically, the actions of type \"Interface\", \"Organize\" and \"Start\" are removed from analysis."
   ]
  },
  {
   "cell_type": "markdown",
   "metadata": {
    "collapsed": true
   },
   "source": [
    "# A note on perfect pre students\n",
    "On March 1s 2018, Sarah dug up and recuperated the log data for the three students with perfect pre score that were removed from analysis early on. The folder \"raw_data_parsing_check\\recuperating perfect pre students\" has the scripts necessary to do this.\n",
    "\n",
    "Since then, the data files in \"raw_data_parsing_check\" have been updated."
   ]
  }
 ],
 "metadata": {
  "kernelspec": {
   "display_name": "Python 2",
   "language": "python",
   "name": "python2"
  },
  "language_info": {
   "codemirror_mode": {
    "name": "ipython",
    "version": 2
   },
   "file_extension": ".py",
   "mimetype": "text/x-python",
   "name": "python",
   "nbconvert_exporter": "python",
   "pygments_lexer": "ipython2",
   "version": "2.7.13"
  },
  "toc": {
   "nav_menu": {},
   "number_sections": true,
   "sideBar": false,
   "skip_h1_title": false,
   "toc_cell": false,
   "toc_position": {},
   "toc_section_display": "block",
   "toc_window_display": false
  }
 },
 "nbformat": 4,
 "nbformat_minor": 1
}
