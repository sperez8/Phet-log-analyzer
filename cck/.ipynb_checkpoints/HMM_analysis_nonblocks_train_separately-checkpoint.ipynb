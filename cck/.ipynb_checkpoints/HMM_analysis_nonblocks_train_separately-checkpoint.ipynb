{
 "cells": [
  {
   "cell_type": "code",
   "execution_count": 28,
   "metadata": {
    "collapsed": false
   },
   "outputs": [
    {
     "ename": "ImportError",
     "evalue": "No module named pydot",
     "output_type": "error",
     "traceback": [
      "\u001b[1;31m---------------------------------------------------------------------------\u001b[0m",
      "\u001b[1;31mImportError\u001b[0m                               Traceback (most recent call last)",
      "\u001b[1;32m<ipython-input-28-9d511245495f>\u001b[0m in \u001b[0;36m<module>\u001b[1;34m()\u001b[0m\n\u001b[0;32m     11\u001b[0m \u001b[1;32mfrom\u001b[0m \u001b[0mrandom\u001b[0m \u001b[1;32mimport\u001b[0m \u001b[0mseed\u001b[0m\u001b[1;33m\u001b[0m\u001b[0m\n\u001b[0;32m     12\u001b[0m \u001b[1;32mfrom\u001b[0m \u001b[0mgraphviz\u001b[0m \u001b[1;32mimport\u001b[0m \u001b[0mDigraph\u001b[0m\u001b[1;33m\u001b[0m\u001b[0m\n\u001b[1;32m---> 13\u001b[1;33m \u001b[1;32mimport\u001b[0m \u001b[0mpydot\u001b[0m\u001b[1;33m\u001b[0m\u001b[0m\n\u001b[0m\u001b[0;32m     14\u001b[0m \u001b[0mnp\u001b[0m\u001b[1;33m.\u001b[0m\u001b[0mset_printoptions\u001b[0m\u001b[1;33m(\u001b[0m\u001b[0mprecision\u001b[0m\u001b[1;33m=\u001b[0m\u001b[1;36m2\u001b[0m\u001b[1;33m)\u001b[0m\u001b[1;33m\u001b[0m\u001b[0m\n\u001b[0;32m     15\u001b[0m \u001b[0mpd\u001b[0m\u001b[1;33m.\u001b[0m\u001b[0mset_option\u001b[0m\u001b[1;33m(\u001b[0m\u001b[1;34m'precision'\u001b[0m\u001b[1;33m,\u001b[0m \u001b[1;36m2\u001b[0m\u001b[1;33m)\u001b[0m\u001b[1;33m\u001b[0m\u001b[0m\n",
      "\u001b[1;31mImportError\u001b[0m: No module named pydot"
     ]
    }
   ],
   "source": [
    "import networkx as nx\n",
    "import matplotlib\n",
    "import matplotlib.pyplot as plt\n",
    "import numpy as np\n",
    "import pandas as pd\n",
    "import sys\n",
    "import getpass\n",
    "from hmmlearn import hmm\n",
    "from functions import *\n",
    "from random import shuffle\n",
    "from random import seed\n",
    "from graphviz import Digraph\n",
    "import pydot\n",
    "np.set_printoptions(precision=2)\n",
    "pd.set_option('precision', 2)\n",
    "%matplotlib inline\n",
    "matplotlib.style.use('ggplot')"
   ]
  },
  {
   "cell_type": "markdown",
   "metadata": {},
   "source": [
    "### Loading the data"
   ]
  },
  {
   "cell_type": "code",
   "execution_count": 2,
   "metadata": {
    "collapsed": false
   },
   "outputs": [],
   "source": [
    "df = pd.read_csv('C:\\Users\\\\'+getpass.getuser()+'\\\\Google Drive\\Jonathan Sarah Ido folder\\data\\CCK\\MATCHING_phet_cck_user_actions+sophistication_WITHPAUSE_anonymized.txt')\n",
    "df_scores = pd.read_csv('C:\\Users\\\\'+getpass.getuser()+'\\\\Google Drive\\Jonathan Sarah Ido folder\\data\\CCK\\MATCHING_phet_cck_user_data_anonymized.txt')\n",
    "df[\"student\"] = df[\"student\"].astype('category')\n",
    "df_scores[\"student\"] = df_scores[\"student\"].astype('category')\n",
    "df[\"Family\"]=df[\"Family\"].str.capitalize()\n",
    "\n",
    "def remodel_families(row):\n",
    "    if row[\"Family\"] == \"Build\" or row[\"Family\"] == \"Revise\":  # or row[\"Family\"] == \"Extra\":\n",
    "        if row[\"Outcome\"] != \"None\":\n",
    "            return \"ConstructWithFeedback\"\n",
    "        else:\n",
    "            return \"Construct\"\n",
    "    else:\n",
    "        return row[\"Family\"]\n",
    "    \n",
    "df['Family'] = df.apply (lambda row: remodel_families (row),axis=1)"
   ]
  },
  {
   "cell_type": "code",
   "execution_count": 3,
   "metadata": {
    "collapsed": false
   },
   "outputs": [],
   "source": [
    "# from pivottablejs import pivot_ui\n",
    "# pivot_ui(df)"
   ]
  },
  {
   "cell_type": "markdown",
   "metadata": {},
   "source": [
    "### Some parameters"
   ]
  },
  {
   "cell_type": "code",
   "execution_count": 4,
   "metadata": {
    "collapsed": false
   },
   "outputs": [],
   "source": [
    "ACTIONS_TO_REMOVE = ['I','O','S']\n",
    "ITERS = 300\n",
    "RAND_INT = 2\n",
    "seed(RAND_INT)\n",
    "CUTOFF = 0.01\n",
    "events = [e for e in [\"T\",\"S\",\"O\",\"F\",\"P\",\"I\",\"E\",\"X\",\"C\",] if e not in ACTIONS_TO_REMOVE]\n",
    "blues = [\"#c7e9b4\",\"#7fcdbb\",\"#41b6c4\",\"#2c7fb8\",\"#253494\"]\n",
    "greys = ['#d9d9d9','#bdbdbd','#969696','#737373','#525252']"
   ]
  },
  {
   "cell_type": "markdown",
   "metadata": {},
   "source": [
    "### Declaring a few functions"
   ]
  },
  {
   "cell_type": "code",
   "execution_count": 5,
   "metadata": {
    "collapsed": false
   },
   "outputs": [],
   "source": [
    "translater = {e:events.index(e) for e in events}\n",
    "decoder = {events.index(e):e for e in events}\n",
    "decoder_plus = {\"T\":\"Test\",\"S\":\"Start\",\"O\":\"Organize\",\"F\":\"C.w.Feedback\",\"P\":\"Pause\",\"I\":\"Interface\",\"E\":\"Extra\",\"X\":\"Reset\",\"C\":\"Construct\"}\n",
    "\n",
    "def state_labeller(state,emission):\n",
    "    indices = list(np.where(emission[state]>0.05)[0])\n",
    "    label = \" +\\n\".join([decoder_plus[decoder[i]] + ' (' + str(int(emission[state,i]*100)) + '%)' for i in indices])\n",
    "    return label\n",
    "    \n",
    "def get_color(w,color_set):\n",
    "    def get_cmap(colors):\n",
    "        return [(float(i)/len(colors),c) for i,c in enumerate(colors)]\n",
    "    color = None\n",
    "    for p,c in get_cmap(color_set):\n",
    "        if w >= p:\n",
    "            color = c\n",
    "    return color\n",
    "\n",
    "def prepare_data(blocks):\n",
    "    shuffled_blocks = blocks.values()\n",
    "    shuffle(shuffled_blocks)\n",
    "    X = np.array( np.array([np.concatenate([  [int(translater[event]) for event in block.split(' ')] for block in shuffled_blocks])]).T )\n",
    "    lengths = [len(b.split(' ')) for b in blocks.values()]\n",
    "    return X, lengths\n",
    "\n",
    "def split_data(X, lengths, split):\n",
    "    n_train = int(len(lengths)*split)\n",
    "    n_test = len(lengths) - n_train\n",
    "    lengths_train, lengths_test = lengths[0:n_test], lengths[n_test:]\n",
    "    X_train, X_test = X[0:sum(lengths_train)], X[sum(lengths_train):]\n",
    "    return X_train, X_test, lengths_train, lengths_test\n",
    "\n",
    "def get_model(X,lengths,n_states, iters=ITERS, random_state=RAND_INT):\n",
    "    '''Note that all integers in the range of observations must be present in the data!!'''\n",
    "    converged = False\n",
    "    tries = 0\n",
    "    while converged == False:\n",
    "        model = hmm.MultinomialHMM(n_components=n_states,\n",
    "                            n_iter = iters,\n",
    "                            random_state = random_state).fit(X,lengths)\n",
    "        converged = model.monitor_.converged\n",
    "        tries += 1\n",
    "    print \"Model with {0} hidden states converged after {1} tries, with {2} iterations\".format(n_states, tries, model.monitor_.iter)\n",
    "    return model\n",
    "\n",
    "def draw_states_graph(model, cutoff = CUTOFF, label = True):\n",
    "    states = Digraph('states')\n",
    "    states.graph_attr.update(rankdir='LR')\n",
    "    states.node_attr.update(shape='circle')\n",
    "    for (i,j), p in np.ndenumerate(model.transmat_):\n",
    "        if p >= cutoff:\n",
    "            if label:\n",
    "                states.edge(str(state_labeller(i,model.emissionprob_)),\n",
    "                        str(state_labeller(j,model.emissionprob_)), \n",
    "                        color = get_color(p,blues), label = \"{:.02f}\".format(p), penwidth=str(5*p+2))\n",
    "            else:\n",
    "                states.edge(str(i), str(j), \n",
    "                    color = get_color(p,blues), label = \"{:.02f}\".format(p), penwidth=str(5*p+2))\n",
    "#     if save:\n",
    "#         figname = 'hmm_non_blocked.png'#N={0}_act={1}_{2}.png'.format(N,ACTIVITY,'low')\n",
    "#         plt.savefig(figname)\n",
    "    return states\n",
    "\n",
    "def draw_hmm_graph(model, cutoff = CUTOFF, label = True, layout_circle=True):\n",
    "    g = Digraph('G')\n",
    "    if layout_circle:\n",
    "        g.graph_attr.update(layout='circo')\n",
    "    states = Digraph('states')\n",
    "    states.node_attr.update(shape='circle',rank=\"max\", fontsize='12')\n",
    "    #Adding edge between hidden states\n",
    "    for (i,j), p in np.ndenumerate(model.transmat_):\n",
    "        if p >= cutoff:\n",
    "            if label:\n",
    "                states.edge(str(state_labeller(i,model.emissionprob_)),\n",
    "                        str(state_labeller(j,model.emissionprob_)), \n",
    "                        color = get_color(p,blues), label = \"{:.02f}\".format(p), penwidth=str(5*p+2))\n",
    "            else:\n",
    "                states.edge(str(i), str(j), \n",
    "                        color = get_color(p,blues), label = \"{:.02f}\".format(p), penwidth=str(5*p+2))\n",
    "    states.body.append('label = \"states\"')\n",
    "\n",
    "    actions = Digraph('actions')\n",
    "    actions.node_attr.update(shape='square')\n",
    "    for (i,j), p in np.ndenumerate(model.emissionprob_):\n",
    "        if p >= CUTOFF:\n",
    "            if label:\n",
    "                actions.edge(str(state_labeller(i,model.emissionprob_)),\n",
    "                         str(decoder[j]), color = get_color(p,greys), \n",
    "                         label = \"{:.02f}\".format(p), penwidth=str(5*p+2))\n",
    "            else:\n",
    "                actions.edge(str(i), str(decoder[j]), color = get_color(p,greys), \n",
    "                         label = \"{:.02f}\".format(p), penwidth=str(5*p+2))\n",
    "    actions.body.append('label = \"actions\"')\n",
    "    actions.body.append('color=blue')\n",
    "\n",
    "    g.subgraph(states);g.subgraph(actions)\n",
    "    return g"
   ]
  },
  {
   "cell_type": "markdown",
   "metadata": {},
   "source": [
    "### Modelling\n",
    "#### Getting the data\n",
    " First, we get the student actions in blocks and keep only the actions we care about. We also build a translator and decoder to pass the actions as discreet integers instead of strings"
   ]
  },
  {
   "cell_type": "code",
   "execution_count": 6,
   "metadata": {
    "collapsed": false
   },
   "outputs": [],
   "source": [
    "ACTIVITY = 'a1'\n",
    "blocks = get_non_blocks(df[df.Activity==ACTIVITY],get_students(),add_spaces=True, ignore = ACTIONS_TO_REMOVE, start = False)"
   ]
  },
  {
   "cell_type": "markdown",
   "metadata": {},
   "source": [
    "We concatenate the student actions into one array and computer their lengths. Since the student sequences might be stored in a specific order, we shuffle them first."
   ]
  },
  {
   "cell_type": "code",
   "execution_count": 7,
   "metadata": {
    "collapsed": false
   },
   "outputs": [
    {
     "data": {
      "text/plain": [
       "{1075123: 'C C C C C C C C C C C F F F F P F F P F T T T T P T T T T T T T T T T T T T P T F C C C C F P T T T T T T T T T T T T T T T T T T T T T T T T T T T T T T T T P T T F C C C C F T T T T T T T T T T T T T T T T T P T T T T T T T P T T T T T T T P T T T T T T X C C C C C C C C C C C C C C C F C C C C C C C C C C F T T T T T T T T T T T T T T F F T T T T T T T T T T T T T T T T T T T P T T P C C C C C C C C C C F P T T T T T T T T T T T T T T T T P T T T C F C F C T T T C T C C F C C C C C C C C C C F T T T T T T T T T T T T T T T T T T T T T T T T T T T T T T T T T T T T T T T T T T P P T T T T T T T T T T T T T T T T T T T T T T T T T P T T T T T T T P X C C C C C C C C C C C C C C C C C C C C C C C C F T T T T T T T T T T T T T T T T T T T T T T T T T T P C C C C C C C C C F F F F C C C P T T T T T T T T T',\n",
       " 3591123: 'C C C C C C C C C C C F P T T T T T T T T P T T T T T T T T T T T T T T T T T T T T T T T T T P T T T C C F C C C C C C F F C C C F T T T T T F T T T C C C C F F T T C F C F T T T T C C F T T T T T T T T T T T T T T T T T P T T T T T P C C T T T T T T T T T T C C F P T T T T T T T T T T T T T P T T T T X C C C C T C C C C C T T C C C C C C C C C C C C C C C C C C C C C C C C C C F T T T T T T T T T T T P T T T T T T T T T P F C C C C C C C C C F T T T T T T T T T T T T T T T T T T T T T P T T T T T T T T T T T T P X T T C C C C C C C C C C C C C C C C C C C C C C C C C C C C C C F T T T T C T C T T T T T T T T T T T T T T T T T T T T T T T T T T T T T T T T T T T T T P T P T T T T T T P P E E E E C C F T T F F C F C C F F C C F F C C T T T T T T T T T T T T T T T T T T T C C C F F F T T T T T T T T T T T T T T T T T T T T T T T T T F T T F P X T',\n",
       " 3932129: 'C C C C C C C C C C C C C C F C F P F C C C F F C C C C C C C C F C F C F F C F E E E E E E E E E T T F C C F F C F F C F T T T T T T T F X T C C C C C C C C C C C C C C C C F T T T T T T T T T T T T T C C T C F P C F T C F C F C C T C C F P C F C F X C C C C C C C C C C C C C C C C C C C C C C C C C C C C C F C C F P T T T T T T T P T T T T T T T T T T T T T T T T T C C T C F P P C F C C F P T T T T T T T T T T T T T T T T T T T T T T T P F T C C C C C T T C C C T T C T T T T T T P T T T T X C C C C C C C C C C C C C X C C C C C C C C C C C C X C C C C C C C C T T T C C T T X C C C C C C C C T T T T P C C C C C C C C C F C T T T T T T T T C C C C C C C C C C C C C C C C F T T T T T T T T T T T T T T T T T T P T T T T T T T T T T T T T T T T T T T T F C C C C F T T T T P T T T T T T T T T T T T T T T T T T T T T T T P F F F C C C C C C C C C C F P T T T',\n",
       " 4762120: 'C C C C C C C C C C C C F T C T T C T C T F T P C C C C C C C C T T T T T T T T T T T T T T T T T T T T T T T T T T T T T T T T T T T T F C C F T T T P T T T F C C C C C C F T T P T T T T T T T T T T T T T T T T T T T T P F F F C C F P T T F P C C C C C C C C C C C C C C C C C C F T T T T T T T T T T T T T T T T T T T T T T T T T T T T T T T T P C C C T C C C C C C C C C C C C F P T T T T T T T T T T T T T T T T T T T T T T T T T T T T T T F C C C C C C F F C C F T T T T T T T T T T T T T T T T T P F C C C C C C C C C C C F C C C C C C C C C T C C C C C C C C C C C C C C C C F T C C C C C C C C C C C T T C C C C T P T T T T T T T T T T T T T T T T T T T T T T T P C C C C C C C C C C C C C C C C C C C C C C C C C C F T T T T T T T T T T T T T C C C C C C C C C C F P T T T T T T T T T T T T T T T T T T T T T T T T T P F C F C C C C C C F C C C C C C C C C C C C C F C F C C C C C F C C C C C C C C F P T T T T T T T T T T T T T T T T T T T T T T T T T T T T P T T T F C C C C',\n",
       " 4936123: 'C C C C C C C C C C C C C C C C C C T T T P C P T T T T T T T C F C C C C C C C C C C C C C C C C C C C C C C T T C F C C F C T T T T T T T T C C C C C C C C C C C C C C C C C C C C F C F C P F C C F C C C C C C P C C C C C C C P C C C F P T T T T T T T T P T T T T T T T T T T C F C F T T T T T T T T T T T T F F T T T T T T T T P F C C C C C F F C F T T T T T T T T P C C F F C C F T T T T T T T T T T P C C C T T T T C C C C C C C C C C F F C C T T T T T T C C C C C C C C C C C C F F P F F C F C C C F C F C C F T F P F C T F F T T C C C C F C C F T T F C F P F T F C T C C C T C F T T F T T F T C T C C T C T T F C C C F F T T T C C C C C F C F C C F F C C C C C C C C F C C C F F T T P C C F C F T T T T F C C F F P C C F T T T T T T T T T T P T F C C F T C C C C C C F P T T T T',\n",
       " 8580120: 'C P C C C C C C C C C C C C C C C C C C C T T C F T T T T T T T T P F T T T T T T T T T T T P T F T T T C F T T T T T T T T T P T T T T T T T T T T T P T T T T T T P T T T T F C C F F T T C F T T T T T T T T T T P T P P T T F C C C C C F C C C C F C F C C C C C C F T T T T T T T T T T T T T P T T T F C C C C C C C C C C C C C C C C F T T T T T T P T T P T T T T T T P T T T T T T T T T T T T P C T T F C C C C F F F T T T T T T T T P T T P T T T T T T T T T T T T T T T T T T T T T T T P T T T T T T T T T T',\n",
       " 8775127: 'C C C C C C C C P C C C C C C F T T T T T T T T T T T T T T P T C F F F C F C F C C F P C C F P T F T C T C C T T C C C C C C T C C T C C C C C C T T T T T T T T T T T T T T T T T T T T P T T T C C C T T T C C T C T T C C C C C C C T T C C C C C C C C C P T T C C C C C C X C C C C C C C C C C C C P C C C P C C C C C C C C F T T T T T T T T T T F C C F T T T T T T T T T T T T T T T T T T T C P F C C C F F C C C C C C C C C C C F F P T T P T T T T T T T T T T T T T T T T T T T T T T T P T T F C C F P T T C C F C C F P T T T T T T T T T T T T T T T T T T T T T T T T T T T T T T T T T T T T T T P T T T T P T T T T P F F T T T T P T T T P T T T T T T T T T T T P X',\n",
       " 8889108: 'C P C C C C C C C C C C F C C C C C C C F P F C F P T T T T T P T T T T T T T T T T T T T T T T T T T T T T T T T T T T F C C C C C C C C F F F C P C C C C C C C F C C C F T T T T T T T T T T T T T T T T T P C C C C C F T P C T T T T T T T T T T T T P T T T T T P T T T T T T T T T T T T T T T C C F F C C C C F C C F T T T T P T T T F C C C C C P C C C C C C C C C P C C C C F C C C C C C C C C F F F T T P T T T T T T T T P T T T T T T T T T P T T T T C F C C C C C C C C C C C C C C C C C C F C C C C F C C F P T T T T T T T T T T T T T T T T T T T T T T T T T T T T T P T T C F F C C C C C C C C C C C C C C C C C C C C C C C C C C C C C C C C C C C C C C C C C C C C C C C C T T T T C C C F T T T T T T T T T T T T T T T T T T T T T T T T T',\n",
       " 9331415: 'C C C C C C C F P T T T T T T T T T T T T P T T T T T T T T T T T P T F C C C C C C C C C C F T T T T T T T T T T T T T T T T T T T T T T T T T T T T T T T T T T P T T T T T T T T T T T T T T T T T P T T T T T F C C C C C C F T T T T T T T T T T T T T T T T T T T T T T T T P T T T T T T T T T T P F C C T T F F C F T C C C C C C C F C F C C F F C F T T T T T T T T T T T T T T T T T T T T T T T T T T T T T T T T T T T P F C T T T C C C C C C F C C C C C F C C C C T T C F T T T T T T T T T T T T T T T T T T T T T T T T T T T T T T T T P T T T T T T T T T T T T T T T T T T T T T T T T T T T T T T T T T T T T T T T T T T T T P P T T T T T T T T T T T T T T T T T T T P T T P P T T T T T T T T T T T T T T T T T T T T T T T T T T T T T T T T T T T P F C C C F C C C C C C C C C C C C C C C C C F C C C C C C C C C C C C F P T T T T T T T T T T T T T T T T T T T T T T T T T T T T T T T T T T T T T T P T F F F F F C C C C P F C F F C C C C C C C C C C C C C F P C C C C C C F F C C C C C C C C C F',\n",
       " 10009106: 'C C C C C C C C C C C C C E E E P T T E C T C C C C C C T T T T T T T T T T P F T T T C C X T C C C C C C C C C C C C C C C C C F T T T T T P T T T T T T T C F C C C C C C F T T T T T T T T P T T T T T T T T T T P C F C C C C C C C C C C C C F C C C C C C C C C C C C C C C C C C C F C T T T T T T P T T T T T T T T T T T T T T T T T T T T T T T T T T T T T T T T T T T T P C F C C C C C C C T T C F F C T C F T T T T T T T T T T T T T T T T T T T T T T T P T T F C T T T T T T T T T T T T P C C C C C F T T T T T T T T T T T T T T T T T T T T T T T P F F T T T T T T T T T T T T T T P T T T T C C C C C F C C C C C C C C C C C C C C C C C C C C C F T T T T T T P T T T T T T T T T T T T T T T T T T T T T T T T T T T T T T T T T T T T T T T T T T T T T T T T T T T T T T T T T T T T T T T T P F C T T T T',\n",
       " 10942128: 'C C C C C C C C C C C C C C C C C C C C C C C C C C C C C C C C C C C C C C C C C F P F F C C C T T F P F C C C F C C F C C C C C C F F F P C C C C C C C C F C F C C C C C F F F F C C C C C F P T F C C F T T T T T T T T T F C C C C C C F P T T T T T T T T T T T T T T T T T T T T T T T T C T T F F T P F F F C T T T X T T T T T C C C C C C C C C C C C C C C C C C C C C T T C C C F P T T T T T T T T T T T T T T T T F T C C C C F T T T T T T T T T T T T T T T T T P T T T T P C F C C C C C C C F T T T T T T T T T T T T T F T T T F T F C C C C C C C C F C C C C C C C C C C C F T T T T T',\n",
       " 12235124: 'C X P C C C C C C C F C C C T C C C C C C T T C C C C C C T T C C C C C C C C C C C C C C C C C C C C C C C C C T T P X P C C C C C C C C T T T T T P T T T T T T T X T C C C C C C C C C C C C C F C C C F T T T T T T T T T T T T T T T T T T T T T T C T T T T P T T T P X T C C C C C C C C C C C C F T T T T T T T T T T T C C C C C C F T T T T T T F C C C C C C C C C C F T T T T P T T T T T T T T T T T T T T T T T T T T T T T T T T T T T T T P X P C C C P C C C C C C C C C C C C C C C F C C C E E E E E E E E E E C C C C C C C F C C C C C C C C C C F P T T T T F C C C C F F C C C C C C C C F P C T T T T T T T T T T T T T T T T T T T T T P T T T T T T T T T T T T T T T T T T T T T T T T P E E E X C C C C C C C C C C C C C C C C C C C C C C C C E E E E E E E E E E E C C F T T T T T T T F C C F T T T T T T T T T T T T T T F C C C C F T T T P X C T C C C C C C X',\n",
       " 12949120: 'C C C C C C C C C C C C C C C F P T T F C F P T T T T T T T T T T T T T T T T T T T T T T T T T T F C C C C F T T T T T T T T T T T T T T T T T T T T T P F C C C C C C F T T T T T T T T T T T T T T T T T P T T T F C C C C C C C C C C C C C C C C F C C C C C C C C C F T T T T T T T T T T T T T T T T T T P P C C C C C C C C C C F T T T T T T T T T T P T T T T T P T T T T T T T T T T T T T T T T T T T T T T T T T T T T T T T T T T P T T T T T T T T T T T T P F C F C C T F C C F F C C C C C C C C C C C C C C C F C C C C C C C C C C C C F C C C C F C C C C F C C C C C C C C C C C C C C C C C C C C C C C C C C C F C C F P T T T T T T T T T T T T T T T T T T T T T T T T T T T T T T P C F C C C C C C C F F C C C C C C C C C C P F F C C F T T T T T T T T T T P T T T T T T T T T T T T T F T T C C F C C F C C F F F F C C F F C C C F T T T T T T T T T T T T T T T T T F F T T P T T T T T T T T T F C C C C C C C F T T T T P T T T T T T T T T T T T T T T T P',\n",
       " 13205111: 'C C C C C C C C P F C C C C F F C C C C F P T T T T T T T T T T T T T T T T P P T T T T T T T T F P C C C C F P T T T T T T T T T T T P T T T T T T T T T T T T P F C C C C F P T T T T T T T T T T T T T T T T T T T T T T T T T T T T T T P F F X T T C C C C C C C C C C C C C C C C C C F C C C C C C C C C F F F T T T T T T T T T T T T T T T T T T T T T T T P T T C T C C C C C C C C T C F T T T T T T T T T T T T T T T T T T T T T T T T T T T T P T F F F C X C C C C C C C C C C C C C C C C C C C C C C C C C C C C C F C C F F F F F T T T T T T T T T T T T T T T T T T T T T T T T T T T T T T T T T',\n",
       " 13378139: 'C C C C C C C C C C C C C C C C C C C C C C C C C C C C C C C C X C C C C C C C C C C C C C C C C C C C C F F C F C F C C C C C F P F C C C F C C C F F F C C C C F F P X C C C C C C C C C C C C C C C F T T T T T T T T T T T C F C C C F F C C C C C C C C X T T C C C C C C C P C C C C C C C P C C C C C C C C C C C C C C C C C C C F T T T T T T T T T T T P C C C C C C F P T T T T T T T T T T T T T P F F C C F T T T T T T T T T T T T T T T T P T P X T C C C T T C C C C C C C C C C C C C C C C F C C C C C C C C C F P T T T T T T T T T T T T T T T T P C C C C C C C C C C F T T T T T T T T T T T T T T T T T T T T T T T T T T T T T T T T T T T T T T T T T T T T T T T P X C C C C C C C C C C C C C C C C C C C C C C C C C C C C C C C C C C C C C C C C C C C C C C C C C C C F P T T T T T T T T T T T T T T T T T T T T T T T T T T T',\n",
       " 13679110: 'C C C C C C C C C C C F C C F C F P C C C C C C C C C C F F C C C F P F F C F F C C F P F C C F C C C C C C C C C C C C C F F C C F T T C C C C C C C F F C T F C C T C C T T T T T T P F F P F F F C C C C T C C T T T C C C C C C C C C T F C C C C C C C C F F F F C C C C C C C C C C C C C C C C C C T C C C C C C C C C C X C C C C C C C C C C C C C C C C C C C C C C C C C C C C C C C C C C C T T C C C C C C C C C C C C P T T C C C T T T T T T T P T T T T T T T T T T T T T T T T T T T T T T T T T T P C C C C C C C C C C C C C C C F C C C C C C F C T T T T T T P T T T T T T T T P T T T T T T T T T T T T T T T T T T T T T T T T T T T T T T P T P T T F C C C C C C F T T T T T T T T T T T T T T T T T T P T T T T T T T T T T T T T T T F T C T C F T T T T T T T T F F T T T T T T T T T T T T T T P T T T T T T T T T T T T T T T T T T T T T T T T T T T T T T E E E E P T T T T T T T T T T T T T T T T T T T T T T T T T T C C C C F C C F T T T T T T T T T T T T P T T T T F C C F F C C T C C C T T T T T T T T C C C T T T E E F E E E E E E T T T T T T T E E E C E E E C E E E F F F F C C F F C C F F C C C C F T',\n",
       " 14769115: 'C C C C C C C C C C C C F T T F C C F F C F F C C F F C C F F C T T F F C C F F C C C C C C F F C C F F C C C C C C F P T T T T T T T T T T T T T T T T T T T T T T T T T T T T T C F C F F T F T T F C F F C F T T T T T T T T T C C F C C C C C C F F F F C F T T T T T T P F C C C C C C C C C C C F T T T T T T C T P T T T T T T T T T T T T T T T T T T T T T T T T T T T T P T T T T T T T T T T T T T T T T T T T T T T T T T T T T P F F E E E E E E T E E E E E E E E E P F F F C C F F F F C C C C P F C C T C T T T F T F T C C C C C T C F P T T T T T T P T T T T F C C C C C C C F T T T T T T T T T T C C C C C C C C C C C F C C C F E F F F F F F E E F F F F F F F F F F F F C C P T T T T T T T T T T T T T T P E F C F F F F F F F F F C C C C C C C C F F F C C C E F F C C F C F F F F F F F F F F F F C C C C F T T T T P T T T T T T T T T T T E E F T E T T E E E E T E E T E E T',\n",
       " 15616121: 'C C C C C C C C P C C P T T T P C C C C T T T T T P C C C C T T T T C T C C C C C C C C C C C F F F F C C C C C C C C C C C C C F T T T T P T T T T T T T T T C C C C C C C F C C C T T P C C F C F T P C C C C C C C C C C C C C C T T T T C C C C C C C C C F P F P C C C C C F T T T T T T T T T T T T T T T T T T P T T T T T T T T T T T T T T T T T T T T T T T T T C F T T C C C C C C C C C C C C F T T T T T T T T T T T T F C C F C C F P P C C C C C C C F P T T T T T T T T T T T T T T T T T T P T T T T T T T T T T P T T T T P T T T T T T T T P T T P C C C C C C F T T T T T T T T T',\n",
       " 17070059: 'C C C C C C C C C C C C C F F C C F P P T T T T T T T T T T T T T T T T T T T T T T T T T T T P T T T T T T T T T T T T T T P T T T T P T T T T T T T T T T T T P T T C C C C C C C C C C C C C C C C C C C C C C C C C C C C C C F T T T T T T T T C T T T T T T T T T T T T T T P C C C C C C C C C C C C C C C C C C C C C C C C C C C C F P T T T T T T T T T T T T T T T T T T T T T T T T T T T T T T P P F C C C C C C C F C C C C C C C C C C C C C C C C C C C C C C C C C C C C C C C C C C C C C C C C C C C C F T T T T T T T T T T T T T T T T T T T T T T T T T T T T T T P F C C C C C C C C C C C C C C C C C C C C C C C C C C C F T T T T T T T T T T T T T T T T T T T T T T T T T T T T T T T T P T T T T T T T T T T T T T T T T T T T T T T T T T T T T T T T T T T T T T T T T T T T T T T T T T T T T T T P F F F C C C C C C C C C C C C C C C C C C C C C C C C C C C C C C C C C C C C C C C C C C C C C C C C C F',\n",
       " 17580122: 'C P C X C C C C C C C T T T T T C C C T C C C T F T T X T C T P T T C C C X T T C C C C C C C C C C C C C C C C C C C C F T T T T T T X P C C C C C C C C C C C C C T T T T P C C C C C C C C F P X T T C C C C C C C C C C C C C C F C C C C C C F F C C C C C C C C C F P T T T T T T T T T T T T F T T T T T T T T T T T T C F C C C C C C F C C F P P X C C C C C C C C C C C C C C C C C C C C C C C C C C C C C C F C C C C C C C F T T T T T T T T P C F C C C C C F F F C C F',\n",
       " 18088102: 'C C C C C C C C C C T T C C C C C F T C C C C C C C C C C T T P C C C C C C C C T T C C C C C C C C T F C F F C F P C C F F C F C C C C C F F F C F C C C C C C C C C F P F C C C C F P F F F C F C F P C C E E E E E E E F F P P F C C F F C C F P E E E E E E E E E E E P E E E E F C C C T T C C C C C C C C C C C C C F P C C C F P C F F C F C C C C F F F P P F C C C C F P F F P C F F C C F P C C C C T T T T T T T T T F C F T T T P T T T T T T T T T P',\n",
       " 18838125: 'C C C C C C C C C C C C C C C F T T T T T T T T T T T T T T T T T T T T T T T T T T T T T T T T T T F C C F F C C C C C T C F F C C C C C F T T T T T T F C C T C C C C F T T T T T T T T T T T T T T T T T T T T T T T T T T T T T T T T T T T T P C F C C C C C F T T T T T T T T T T T T T T T T T T T P T T T T T T T T T T P F T T T T C C C F C C C C C C C C C C F T T T T T T T T T T T T T T T T T T T T T T T T T P T T T C C C C C C C C C C F T T T T T T T T T T T T T T T T T T T T T T T T P T T T T T P C F C C C C C C C C C F T T T P T T T T T F F T T T T T T T T T T T T P T T T T T P X T C C C C C C C C C C C C T T C C C C C C C C C C C T C C C C C C C C C C C C C C C C C C C C C C C C F T T T T T T T T T T T T T T T T T T T T T T T T T T P T T T T T T T T T T T T T T T T T T T T T T T T P T T T',\n",
       " 18893119: 'C C C C C C C C C C C C C C C F P T T T T T P T T T T T T T T T T T T T T T T F C C C C F F C F T T T T T T T T T T T T T T T T T T T T P C C C C F P T T T T T T T T T T T T T T T T T P F T T F T F T T T T C C F F C T C F F C C C C C T C C C F C C C F C C F C F T T T T T T T T T T T T T T T T T T T T T P T T T T T C C C C C C C C C C F P T T T T T T T T T T T T T T T T T T T T T T T T T T T T T T T T T T T T T T T T T T T T P F C F C C C T T T T C C C F C C C F C C C C C C C C C C C C C F F C C C T T T T C C C C T T C C C C T C C C C C F F C C F C C F P T T T T T T T T T T T T T T T T T T T T T T T T T T T T P C C C C C F C C P T T T T T T T T T T T P T T C T T C C C C C F P T T T T T T T T P T E E T T F C E E E T T E F P T T T T T T T P E',\n",
       " 19930112: 'C P C C C C C C C C C C C C C C C C F P T T T T T T P F F F T C C F T P T T T F C F F C F F C F P F T T F F F C F P X T C C C C C C C C C C C C C C C C C C C C C C C C C C C C C C C C C C F T T T T T T T F F P F F C C C C F F C F P T T T T C C C C F F C F P F F F F F F C C C C F F C F F F P F P F C F F F F P F T C C C C F F C F T F F F F P F F F C C F F F T T C C F F C P F P F C F F F P F F F C C F F F',\n",
       " 20717120: 'C P C C C C C C C C C C C C F F C C C F E E E E E E C C C C F T T C C C F C C C C F C F F F C C F C C F F C C F C C C C C C C F C C F F P F F F F F F F F F E E E E E E E E E E E C C C C C C C C C C C C C C C C C C F C C C C C C F C C E E E F E F C C C C C C C C F F C C C C C C C C C C C F F C C C C F C C F C C F F C C F P C E E E E F F E F F C F F C C C C C C C C C C C C C C C C C C C F F C C F P F F C C C F F F F C C F F C C F F C C C F C F F F C C F C C F F F F C C C C C F P P X P C C C C C C C C C C C C C C C C C C C C C C C C C F C C C C C C F F C C F P C C C C C C C C F C C C C C C C C C C C C C F F C C C C C C F C C F F C C F C F P F F C C F C C F F F F C C C C C C C C C C C C F C F F C F F C F F C F F F C F F F F X C C C C C C C C C C C C C C C C C C C C C C C C C C C C C C C C C C C C C C C C C C C C C C C C C C C C C C C C F C C C C F F C C F F C C F C F C F F C C F F C F F C C C F C F P E E F E E E E F E E E E E E C C C E E E E',\n",
       " 23112113: 'C C C C C P C P C C P C C P C C C C C C C C C C C C C C C C C C C C C T T P C C C C F F C C F F C C C C F F F P P C F F F T T T T T T T T T T T T P T T C F C F C F C C F P P F C C F F C C F P F C C C C C C C C C C C C C F T T T T T T T T T T C C C T T T T T T T T T T T P F F C C T C F T C F T C T C F F C C F P F C C C C C C C C C C C C F F C C C C F F C C P F C C F F C F C C C C C C C C C C F F F C C C C C C C F F C C C C C C C C C F T T T T P F C C C T T P P T',\n",
       " 23143099: 'C C C C C C C C C C P C C C C C C P X C C C C C C C C C C C C C C C F T T T T T T T T T T T T T T T T C T T C C C C C C C C C C C T T T T T T T T T T T T T T T C C C C T T T F T C F C C F C X C C C C C C C C C C C F F C C F T T T T T T T T T T T T T T T T T P P T T T F C C C C F T T T T T T T T T T T T T T T T T T T T P T T T T T T T T P T T T T T T T T T T T T T T T T T T T P X X C C C C X C C C C C C C C C C C C C C C C C C C C C C C C C C C F T T T T T T T T T T T T T T T T T T T T T T T T T T T T T T T T T T T T T T T T T T T T T T T T T T T P T T T T T T T T T T T T T T T T T T T T P T T T T P T T T T P T T C C C C C C C C C C C C F P T T T T T T T T T T T T T T T T T T T T T T T T T T T T T T T T T T T T T T T T T T T T T T T T T T T T T P T T T T T T T T T T T T P T T T T P T T T T T T T T T T T T T T T T T P X T C C C C C C C C C C X X X X X C C C C C C C C C C C C C C C C C C C C C C C C C C C C C C C C C C C C C F T T T T T T T T T T T T T T T T P T T T T T T T T T T T T T T T T T T T T',\n",
       " 24387118: 'C P C C C C C C C C C C C C C F F C C F P C C C C C C C C C C C C F T P T T T T T T T T T F C C C C C F T T T T F C C C C F F C C C F T T T T T T T T T T T T T F F F C F T P F C F F F F F F C C F T T T T T T T T T T T T T T T T T T T T T T T T T T T T T T T T T T T T T T T T T T F C F T T T T T T T T T T F C P F F P T P T F C C C F F C C F C C C T T T T F F C C C C F T T T T T T T T T T T T T T T T T T T T T P T T T T T T T T F C C F T T T T T T T F F C C F T T F C C F T T T T T T T T T T T P T T T T T T T T T T T T T P C C C C C C C C C F T T T T T T X C C C C C C C C C C C C C C C C C C C C C C C C F T T T T T T T T F C C C C F T T T T T T T T T T P F F F F F F C F T C C C C T T T T C C C T T P C C C C C C C C T F F F F F T C C C T F E P T C C C C C C C C C C C C C C C T T C C C C T C F X C C C C C C C C C F C C C C C C F C C C C C C F F C C C C C F C C F F F C C F F F F F F C F P T T T T T T T T C C T T T T T T T T T T P C X',\n",
       " 24582121: 'C C C C C C C C C C C P X C C P C C C C C C C C C F P P T T T T T T T T T T T T P T T T T T T T T T T C C T T C C C C T P T T T T T T T T P T T T T T T T P F C C C C F F C F T P T T T T T T T T T T T T T T T T T T T P F T T C C C T T T C F T T T T T T T T T T T P T T T T T T T T T T T T T T T T P X T T C C C C C C C C C C C C C C C C C C C C C C C C C C F T T T T T T T T T T T T T T T T T T T T T T T T T T T P T T T T T T T T T T P F F F F C C C C C C C C C C C C C C C C C C C C C C C F T T T T T T T T T T T T T T T T T T T T T T T T T T T T T P T T T T T T P T T T T P T T T T T T T T P X C C C C C C C C C C C C C C C C C C C C C C C C C C C C C C C C F P T T T T T T T T T T T T T T T T T T T T T T T T T T T T T T T T T T T T T T T T',\n",
       " 26225080: 'C P C C C C C C C C C C C C C C C C C C C C C F F F T T T T T T T T T T T T T T T T F F C C C C C F C C F T T T T T T T T T T T T F C P C C C C C F F C C F P C C C C C C C C C C C C C C C C C C F C C C C C C C C C C C F P F F F P C C C C F F C C C F F C F P F F F C C F T T F T F C C F C T F C C F P F F P F C C C T T F T T T F T T T T T T T T T T T T T T T T T T T T T T P T T T T T T T T T T T T P F C C C C F T T T T T T T T T T T T P P T T T C F T F T T F C T C C C C F F C C F',\n",
       " 28098102: 'C P P C C C C C C C C C C C T T T T C T T C C T T T C C T T T T C C C C X C C C C C C C C C C C C C C C C C C F P T T T T T T T T C F C C C C C F T T T T T T P X T T C C C C C C C C C C C C C C C F C C P C C T T T T C C C C C C C F T T T T P F C C C C C C C C C F T T T T P C C F C C F P F C T F F C C C C C F P F C F P F C C F P C F C C C F P E E E E E E C C C E E C F E T C C T E E T C C F F E E T C C F E C E T C C C C E E E C C C C T F F C C T E C F P T T T T T T T T T T T T',\n",
       " 28582129: 'C C C C C C C C C C C C C C C F F C F P F C C F P C C C C F P F C C C C F P F C C C C F P T T T T T T T T F T T C C T F T T T T T T T P T T T T T T T T P F C C C F F C F T T T T T T T T T T T T T F T C C C C F T P T T P T T T T T T C F F F P C C C C C F F C F F C C F C C C F C C F C C F C C F P T T F F C F F T F T T T T T T T T T T T T T T T T T T T T T T T P F T T T T T T T T T T P F T T T T C F C C F F C C C C C C C C C C C C C C C C C C C C F T F P F P F C C C C C C C C F T T T T P T T P T T T T T T T T T T T T T T T T T P F F T T T F F C P X C T T',\n",
       " 31091114: 'C C C C C C C C C C F F P F C C C C F F F F C C F F F C F P X C C C C C C C C C C C C C C C C C C C C C C C C C C C C C C C F F C F F C F F C F P T T T T T T T T T T T T T T T T T T T T T T T T T T T T T T F C F T T T P C X T T C C C C C C C C C C C C C C C C C C C C C C F F C C C C C C C C C C C C C C C C C C C C C C C C C F F F T T T F T X C C C C C C C C C C C C C C C C C C F C C C C C C C C C C C C F T T T T T T T P T T T T F F F F F C C C F P X T C C C C C C C C E X C C C C C C C C C C C F C X C P X C C C C C C C C C C C C C C C C C C F T T T T T T T T T T T F F F F F F F T T T T T T T T T T T T T T P T T T T T T T X T C C C C C T C C C C C C C C C C C C C F P P P C C C C C C C C C C C C X C C C C C C C C C C C C C C C C C C C C C C C C C C C C C C C C C C',\n",
       " 35155125: 'C C C C C P C C F P T T T T T T T P T T T T T T T T P T T T T T T T T T T T T F C C F P C C C C C C C C C C C C C C C F T T T T P T T T T T T T T T T T T T T T T T T T T T T T P F C T F C C C C C C C F F C C F T T T T T T T T T T T T T T T T T T T P T F C C C C C C C C C C C F T C C C C C C C C C C C C C C C C C C T T C C C C T T T T T T P F C T C T T T T T T T T T T T T T T T T P T T T C C C C C C F T T T T T T T T T T T T T P T T T T P T T C F T T T T T T T T T T T T T T T T T T T T T P T T T T T T P T T T P T F C C C C F C F C C C C C C C C C C F F C F F C C C F F C C C C C T C F C C C C C C F T T T T T T T T T T T T T T T T T T T T T T T T T T T T T T T P X C C C T T',\n",
       " 37842114: 'C C C C C C C C C C C C P T T T T T T T T T T T T T T T P T T T T C C F T T C C F T T F T C C T F P P T T T T T T T T T T T T P T T T T T T T T C C F T C C C C C T C F P T T T T T T T T T T T T T T T P T T T T P X T C C C C T T C C C C C C C C C C C C C C C C C C C C C C F T T T T T T T P T T T T T T T T T T T T T T T T T T P T T T T P C C C C C C F T T T T T T T T T T T T T T T T T T T T T T T T T T T T T P T T T T T T T T T T T T T T T T T T T T T T T T T T T T T T T T T T T T T T T T T F C C C C C C C C C C F T T T T T T T T T T T T T T T T T T T T P T T T T T T T T T T P T T T T T T T T T T T T T T T T T T T T T P T T T T T P T T P T T T T T T T T T T T T T T P T T T T T T P X T C C C C C C C C C C C C T T C C C C C C C C C C C C C C C C C C C C C C F F C C C C C C C C C C F F C C F F C C F T T T T T T T T T T T T T T T T T T T T T T T T T T T T T T T T T T T T T T T T',\n",
       " 37987123: 'C P C C C C C C C C C C C C C C C C C C F C C C C C C C C C C C C P C C F C F F C F F C F X C C C C C C C C C C C C C C C C C C C C C C C C C C C C C F C C F T T T T T T T T T T T T C C F F F C F F C F T T T T T T T T F C C C T C F F C C F F C F C C F T T T T T T T T T T T T T T T T T T T T T T T T T T T T T X T T C C C C C C C C C C C C C F T T F C C F T T T T T T T T T T T T T F C C T T C T C T T F T T T T T P T T F C C F T T T T T T T T T T T T P T T T T P T T T T C F T C F T T P T F F T C C C T F P T P T T T T T T T T T T T T T T T T T T T T T T T T T T T P F P T T T T T P C T C T T F P X T T C C C C C C C C C C C C C C C C C C C C C C C F C C F T T P T T T T P C C C C C C C C C C C C C C C C C F T T T T F C C F P C C C C F P X T T C C C C C C C C C C C C C C C C C F C C C C C C C C C C C T F T C C C F F C C F X C C C C C C C C C C C C C C C C C F T T F C C C C F F C C F F C P C C F T T T T T T T T P F C C C C C C C C C C C C C C C C C C C C T P C C F T T T T T T T T',\n",
       " 38648120: 'C C C C C C C C P T T T T T T T T T T P T T T T C T T T T T T T T T T T T T T P T T T T T P F C C C C C C C C C C F P T T T T T T T T T T T T T T T T T T T T P C F C C C C C C F P T T T T T T T T T T T T T T T P X T C C C C C C C C C C C C C C C C C C C C C C C C C C C C C C F T T T T T T T T T T T T T T T T T T T T T T T T T T T T T T T T T T T P C C C C C C F C F C C C C C C C C C C C C C C C F T T T T T T T T T P T T T T T T T T T T T T T T T T T P T T T T T T T T T T P X C C C C C C C C C C C C C C C C C C C C C C C C C C C C C C C C F P T T T T T T T T T T T T T T T T T T T T T T T T T T T T T T T T P F F C C F C C F F F C C C C C F X C C C C C C C C C C C C C C C C C C C C F F C C C C C C C C C C C C C C C F F C C F F C C C F C C C C C C C C C C C F C C C C C C F F C C C C C C C C F X C C C C C C C C C C C C C C C C C C C C C C C C C C C C F F F F C C C C C F F F X C C C C C C C C C C C C C C C F T T T T T T F C C C C C C F T T T C C C T C C F X C C C C C P C C C C C C C C C C C C C C C C C C C C C C C C C C C C C C C C F F C C C C C C C C C C F F C C C C C C F F F T T T T T T T T T T',\n",
       " 38732121: 'C C C C C C C C C C C C C C C C C C C C C C C C C C C C C F F F E E F E E E E E E T T T T T T T T T T T T T T T T T T T T T T T T T T T P X T C C C C C C C C C C C C C C F P T T T T P T T T T T T T T T T T T T T T T T T T T T T T T T T T T T P T T F C C C T C T F T T F C C T T T T F F T T C C C F F C T T F P T T T T T T T T T T T T T T T T T T T T P T T T T T T T T T T T T T T T T T T T T P F C C C C F P T T T T T T T T T T T T T P T T T T T T T T T T T P F C T T T C C T C T C C C C C C C C C C F T T C C C C C C C C F P T T T T T T T T T T T T T T T T T T T T T T T T T T T T P T T T T T T T T T T T T T T P T T T T T T T T T T T T T P T C C C C C C C C C C F P T T T T T T T T T T T T T T T T T T T T T T T T T T T T T T T T T T T T T T T P T T T T T T T T T T T T T T T T T T T T T T T T T T T P P T T T T T T T T P T T T P F C C C C C C C C F F F F F F F F P T T T T T T P T T T T T T T T T T T T T T T T T T T T T T T T T T T T T T T T T T T T T',\n",
       " 39619124: 'C P C C C C C C C C C C C C C C C C C C F P C T T T T T T T T T T C T T T T F T T T T T T T T T T T T T T T T T T P T T C C C C F C C C C F T P T T T T T T T T T T T T T T T T T T T T T P T T T T T P T T T P T T T T T T P T T T T T T T T P T F C C C C F T T T T T T T T T T T T T T T T T T T T T T T T T P F F F C F P C F P F C C C C C C C C C T F T T F C C C C F F T T T T T T T T T T T T T T T P T T T T T T T T T T T P T T F C C C C C C F C C C C C C F P T T T T T T T T T T T T T T T T T T T T T T P T T T T T T T T T T T T T T T T',\n",
       " 41045127: 'C C C C C C C C C C C C C C C F P T T T T T T T T C C T T T C T T T T T T T T T T T P C F C C C F P T T T T T T T T T T T T T P T T T T T T T T T T T T F C C C C F T T T T T T T T T T T T T T T T T T P X T T C C C C C C C C C C C C C C C C C C C C C C X C C C C C C C C C C C C C C C C C C F C C C C C C C C C C F F C C F T T T T T T P T T T T T T T T T T T T P T T T T T T T T T T C C T T C C C C C C F P T T T T T T T T T T T P T T T T T T T T T T T T P P X T C C C C C C C C C C C C C C C C C C C C C C C C C C C C F C C F C F C C C F C C F F C C F T C F C F T T T T T T T T T T T T T T T T T T T T T T T T T T T T T T T T T P X T C C C T T C C C C C C C C C C C C C C C C C C C C C C C C C C C C C C C C C C C C C C C C C C C C C C C C C C F P F C C C C C C C C C C C F F F P C C F P T T T T T T T T T T T T P T T T T T T T T P T T T T T T T T T T T T T T T T T P E E E E E E E P E E E E E F E E E',\n",
       " 41295172: 'C C C C C C C C C C C C C F T P T T P T C C C T P T T T T T T T P T T T T T T T T T T P F C C C C C C F P T T T T T T T T T T T T T T T T T T T T T T T P F C C C C F F C C C C F F C F P T T T T T T T T T T T T T T T T P F C C C C C C C C C C C C C C F C C C F T T T T T T T T T T T T T T T T T T T T T T P P T P C C C C C C C C C C C F T T T T T T T T T T T T T T T T T T T T T T T T T T T T T T T T T P P P X C C C C C C C C C C C C C C C C C C C C C C C C C C C C C C C C F F C C C F C C F C C F C C C C C C C C F T T T T T T T T T T T T T T T T T T T P T T T T T T T T T T T T T T T T P T T T T P C C C C C C T T T F C F F T T T T T F P X',\n",
       " 42175126: 'C C C C C C C C C C C C C C C F C P T T T T T T T T T T P T T T T T T T T T T T T T T T T C T T T T T T T P T T T T T T T T T T T T T T T T T T T T T T T T T T T T T T T T T T T C C C C C F F C C T T T T T T T T T T T T T T T P T T T T T T T T T T T T T T T T T T T T P T P F C C C C C C F T T T T T T T P T T T T T T T T T T T T T T T T T T T T T T T T P T T T P T T T T P F C C C C C C F T T T T T T T T T T T T T T T T T T T T P T T T T T T T T P F C C C C C C C C C C F C C C C C C C C C C F T T T T T T T T T T T T T T T T T P T T T T T T T T T P T T T P F T T T F F F C T C F T T C C C C F C C C C C C C C C C F T T T P T T T T T T T T T T T T T T T P F P C C C C F C C C C C C C C C F T F C C F F C C C C C C C C F T T T T T T T T T T T T T T T T T T T F C T C F T T T T T T T T T T T T T T T T T',\n",
       " 42822113: 'C C C C C C C C C C C C C C C F T C C T C F P T T T T T T T T T T T T T T T T T F F F F F C C F F C C F F C F T T T T T P T T T T T T F C C F P C C C C F P X T T C C C C C C C C C C C P C C C C C C C C C C C C C C C C C C C C C C C C C F C C P F C C F F P C F P T T T T P T T T T T T F C C F T T T T T T P F T T F T T T T P F C F P C C F T T T T T T T T P C C F P T T T F F P C C C C T T T C C T T C T T T T C T P F C C C P T T T T T T T T T C F F T C T C C C C F F C C F F F P T T T T',\n",
       " 43999105: 'C P C C C C C C C C C C F F C C C C C C F F C C C C C C F F C P C C C C C C C C C C C C C C C F C C C C C C F P F C C C C C C F P F C C C C F T T T T T T C C F T T F T C C C C C T C F T T P T T F F C C C C C C F T T T T T T T F T C C C C C C F T T T T T T P T T T T T T T T T T T T T T T T T T T T T T P C C F C C C F C F F C C C F F C C C C C C F F C C C C C C C C T C C C C C C C F C E E E F F F F F F F F C F F P F C C C C C F F C C C C F F C C C C C C C F C C F C C F F F F C C C C C C F F F F F P E E E E E E E E F C C C E E E E E E P P C C F C F C C C C F F F C C C C C C F F C C C C C C C C C C F F C C F F F C C C C C C F F F C C C C C C C C C C C C C C C C C C F C C C C C C C C C F F C C C C F F C C C C C F F C C C C C C F F F C C C C C F C C C C C C F C C C C C F F C F F F C C C C C C F F C C F F P F C C C C C C F F C C F P T T T T T T T T T T T T',\n",
       " 44827119: 'C C C C C C C T T T T T T P C C C C C P C C C F F F P C C F C F P P T T T F T T F T T T T T T T T T T T T T T T T P T T T T T T F F T T T T P C C C F C C F P C T C F P C C C C C C C C C C C C C C C C C C C C C C C C C C C C P X C C C C C T T C C C C C C C C C C C F C T F F C T T F T T T T T C C T C C T T T F F F C C C F C C C C C C C C C C C C C C C P C C C C C C T T T T T T T T P P C C C F F F C C F T T T T F C C F P T T T T F C C F P P C F C C C F C T C C C C C C T C P C C C C P C C C C C C C C C C C C C C C T T T T T T T T T T T P X T C C C C C C C C C C C C C C C C C C C C C C C C C C C C C C C C F C C C C C C C C C C F P C F C C C F F P C F C T C C F F C T C C C F C C F P',\n",
       " 46231117: 'C C C C C C C C C C C C P X P C C C C C C C C C C C C C F F C C C C F P F C C C F T T T T T P T T T T T T T T P C C F C C F F F T T T T T T T T T T T F P T T C C C C F T T T T T T T T T T T T T T T T T T T T P F C C C C C C F F F F C C C C F P T T P X T C C C C C C C C T T C C C C C C C C C C C C C C C C C C C C C C C C C C C C C C C C C F P F C F C C F F C C C C F F C P C C C C C C C C F C C F C P T T T T T T T T T T T T T T T T T T T T T T T P C C C C C C C C C C F T T T T T T T T T T T T T T T T T T T P X T T C C C C C C C C C C C C C C C C C C C C C C C C C C C C C C C C C C C C C C C F P T T T T T T T T T T T T T T T T T T T T T T P T T T T T T T T T T T',\n",
       " 48107113: 'C C C C C C C F C C C F C C F F C F T T T T T T T T T T T T P T T C F C C C P T T T T C C C C C C F F C C F F C C F F F T T T T T T T T T T T T T T T T T T T T T T T T T T T T T T T T T T T T T T T F C C C C C C F F F F F F C C F T T T T T T T T T T T T T T T T T T T T T T T T T T T P T T T T T T T T T T T T T T T T P T T T T T T P F C C C C C C C C C C C F C C C C F T T T T T T T T T T T T T T T T T T T T T T T P P P T T T T P C F C F F F F C F F F C F F C C C C C C C C C C C C C C C C C T C C C C C C C C C C C C C F P T T T T T T T T T T T T T T T T T T T T T T T T T P T T P C C C C C T C T F F C F T T T F C C X C C C C C C C C C C C C C C C C C C C C F C C C C C F C C C C F C C C C C C C C C C C C C C F T T T T T T T T T T T T T T T T T T T T T T T T T T',\n",
       " 51352592: 'C C C C C C C C C X C C C C C C C C C C C C C C C C C C X C C C C C C C C C C C C C F E T E T T T T T T T T T T T T T T T T T T T T T X T T C C C C C C C C C C C C C C C C C C C C C C C C P P C C C C T C F C C F T T T T T T T T T T T T T T T T T T T T T T T T T T T T T T T P C T P F C C C C C C F F C C F C F C C F T T T T T T T T T T T T P T T T T P F T T T C C T C C C C C C C C C C C C C C C C C C C C F T C C C C C C C T C T C C T T T T T T T T T T T T T T T T T T T T T T P F C C C C C C C F C C C C C C C C F T C C C C C T T T F P T T T T T T T T T T T T T P T T T T T T T T T T T T T T T T T T T T T T T T T T T T T T T T T T T T T T T T T T T T T T T P X C C C C C C C C C C C T T C C C C C C C C C C C C C C C C C C C C C C C C C C C C C C C C C C C F P T T T T T T T T T T T T T T T T T T T T T T T T T T T T T P X T T C C C C C C C C C C C C C C C F T T T T T T T T T T T T T T P X T C C T T C C C C C C C C C C C C C C C C C C C C C C C C F T T T T T T T T P T T T X T T X',\n",
       " 51876107: 'C P C C C C C C C C C C C C C C C C C C C C F F T T C C F T T T T T T T T T T T T T T T T T T T T T T T T F C T T T T T T C C C T T T T T C C T C C C C C C C T C C C C C C C C C C C C C C C C C C C C C C C C C E E C C C C C C C C C C C C C C C C C C C C C C C C C C C C T T T T T T T T T T T C C T T E E E E E E E T T C C C C C T T T T E E E E E E E E E T E F C F F T T T C C F C F C F E F E E E E C C C F C C F P E T T T T T T T T T T T T T T T T T T F C C C C C C C C C C C C C C F F C C C F F C F F F P F F P T T T T P F T C C C C F T E E F F P F P C C F C F E T T T T T T T T T T T T T T T T T T T T T T T T T T T T T T P P T F T T T T T T T T T T T T P F F C F T T T T T T T T T T T T T T P T T T T T T T T T T T T T T T T T T T T T T T T T T T T T T T T E T T T P T T T T T E T T T T T T T T T T T T F C T T F F T T T T T T T T T T T E T T T T T T T T T T T T T T T T T T T T T T',\n",
       " 52041105: 'C C C C C C C C C C C C F C C C C C C C C C C C C C F C C C C C C C C C C C C C C C C C C C C C C T C C C C C C C C C C C C C C C C C C C C C C C C C C C C C C C C C C C C C C C C C C C C C C C C T T C C T T T T C C C C C T F T C T T C C C C C C C C C C T F T C C C C C C C C C C C C T F F F F F F F F T T C C C C F C C F C F F F F F F T T T T T T T T T T T T F F F F P T T T T P P F P F P F T C C C C C T C F P T T T T F F C C T T T T T F C T F T T P T T F F P T T T T T T F F T T T T T T T T T T T T P F F C T T T T T T F T T T F F P F C C C C F T F C C C C C C F T F C C C C C C F P F C C T F',\n",
       " 55188124: 'C C C C C C C C C C C C F F C C C C C C F F C C C C C C F F C C F F F F C C F P F F C C C C C C C C C C C C C F C C C C C C C C C C C C F F F F F F C C C C C F F F C C C C C C F C C C C C C C C F C C C C C C C F F F F F F F C C C C C C F P T T T T T T T T T T T T T P T T T T T T T T T T T T T T T P C C F C C C C C F P F C C C C C C C C C C C C C C C C C C C F T T T T T T T T T T T T T T P F C C C C C C F T T T T T T F F P P T T T T T T T T T T T T T T T T T T T T T T T T P F C C F C T T T T T T T T T T T T T F F F F T P F T C C C C C C C C C C C C C C C C C F F C C C C F C C F F F F C C C C C C F T T T T T T T T T P X',\n",
       " 57521121: 'C C C C C C C C C C C C C C C C C C C C C C C C C C C C C P P C C C C T T C C C C C C C C F F F F C C C C F C C C C C C C C C C F C C C C C C C C C C C C C C C C C C C C C F C C C C C F P C C C C C C C C C C C C C C C C C C C C C C C F F F F F C C C F C C F P C F C C C C C C C C C F C C C C C F P F C C F C C C F F F F C F C C F F C C C F C C C C C T T T T T T T T T T T T T T T T T T T T T T T T T T T T T T T T T T C C C C C C C C C C C C C C C C C F T T T T T T T T T T T T T T F F F F F F F F F F F F F F F F F F E E E E E E E E F T T T T T T T T T T T T F P C F C F P T T T T T T T T T T T T P E E E E E E E F C C C C C F T T T T F C F F C C C C F F T T T T T T T T T T P T T T T T T T T T T T T T T T T T T T T T T T T T T P T T P',\n",
       " 59553121: 'C P P C C C C C C C C C C C C C C C C C C F P T T T T T T T T T T T T T T T T T T C T T T T T T T P T C C C C C C C C C C C C C C C C C C C C C C C F T T T T T T T T T T T T T T T T T T T T T T T T T T T T T T T P C C C C C C C C C C C C C C T C C C T C C C C F T T T T T T T T T T T T T T T T T T T T T T T T T T T T T T T T T T P T T T P P F C C C C C C C C C C C C C F C C C C C C C C F F C C C C C C C C C C C C C C F P C C F C F C C F F C C F C C C C C C C C C C C F C C C C C C C C C C C C C C C C C C C C C C C C C C F C C C C C C C C C C F T T T T T T T T T T T T T T T P C C C C C C C C C C F T T T T T T T T P T F C C C C C F C C C C C C C C C C C C C C C C C C C C C C F T T T T T T T T T T T T T T T T T T T T T T T',\n",
       " 60076128: 'C C C C C C C C C C C C C C C C C C C C C C C C C C C C F P F C C C C C C C C C C C C C C C F P T C C C C C C C C C C C C C C C C C C C C C C C C C C C C C C C C T P C C C C C C C C P C C C C C C C C C F P T T T T T T T T T T T T T T T T T P T F C C C F C C C P E E E E E E E E E T T T T T T T T T T T T T T T T P F C C F C C C C C C C P T T T T T T T T T T T T C P C C F F F C F F F C C F C C C F F C C F T T P F C C C X T C C C C C C C C C C C C C C C C C C C F P F C F C C C C C C C C C P F C C C F C C C C C F C C F P C C C F P C C T T T T T T T T T T T T T T T T T T T T T T P C C C C C C C C C C F T T T T T T P X T T P C',\n",
       " 61117124: 'C C C C C C C C C F P T T C T T T T T T T T T T P T T T T T T T T T T P T T T T T P T T T T T F C C C T C C C C C C C C C C C C C F F C C C C C C C C C C C C C F C C C C C C C C C C C C F C C C C C C C C F P C F F C F T T T T T T T T T T T T T T T T T T T T T T T T T P T T T T T T T T T T T P T T F C C F T T T T T T T T P T T T T T T T T T P T T T T P F C C C T C C C C F C C C C F P T T T T T T T T T P T T T T T T P T T T T F C C F C C C C C C C C F F C C F T T T T T T T T T T T T T T T T T T P T T T T T T P F F F C C F C C C F F F C C C C C C F F F F C C T C C',\n",
       " 61296129: 'C C C C C C C C C C C C C C C F C C C C C C C C C T T P T T T T P F F T T T T T F F T C P C F C F C F F C C F F C P F F C F F C F P F F F C C C F T T C T C T T C T P F C C C F P C T C F C C C F T T T T T T P C F C C C F P T T T T T T P P T T F C T C T C C C C C T T T C C C C C T C T T T C C C C C C C C C C C C C C C C C C C C C T T T C C C C F T T T T T P F C T C C T C C C C C C C C C C T T C T F F C F F T F F F F F T T C C C T T C T T C T C C C C C C C C C C C C C C C C C C C C C C C C C C C C C C C C C C C C C C C C C C C F T C C C C C C C C C C C C C C C C C C C C C C C C C C C C T C C C C C C C C C C C C C C C C C C C C C T C C C C C T T T T C C C C C C C C C C C C T T T T T T T T T P F F F C C F C F C C F F C C C C F P F C P C F F F C F C C C F P C F P T T T T T T T T T T T T',\n",
       " 62238125: 'C P C C C C C C C F P T T T T T T T T P T T T T T T T T T T T P C T T T F C C C C C T T C P T T T T T T T T T T T T T T T P C F C C C C C C C C C F T T T T T T T T T T T P T T T T T P F T F T F C C T F C C F C C C T T C C C C C C C C C C C C C C C F C C C C F T T T T T T T T T T T T T T T T T T T T T T T T T T T T T T T T P T C C C C C C C C C C C F P T T T T T T T T T T T T T T T T T T T P T T T T T T T T T T T T T T T T T T T T T T T T T T T T T T T T T T T T T T T T P T T T T T T T T T T T T T T T T T T T T T P T T T P X C C C C C C C C C C C C C C C C C C C C C C C C C C C C F T T T T T T T T T T T T T T T T T T T T T T T T T T T T T T T P E F E E E E E E E E E E T T T T T T P E F F C C C E E E E E E E E E E P E C C F P X T C C C C C E E E E E E E C C C C C C C C C C C C C C C C C C C F P F F F C C F P F C C F C F C C F F F F C F F F F',\n",
       " 62898116: 'C C C C C C C C C C C C C C C C P T T T T T T T T F C C F P F C C C C C C F F C C F P T T P F C C F T T T T T T F C C C C F T P X T C C C C C C C C C C C C C P C C C C C C C C C C C C C C C C F F C C F C C F F F C C C C C P C F C P T T T T T T T T X C C C C C C C C C C C C C C C C C C C C C C C C C C C C C C C F F F F C C C C C C C C C F C C F T T T C C C C P C C C C C C F T T T T T T T C C C F T T T T P T P C C C T F T T T T T T T T T T F C C F T T T T T T T T P T T T T P F F C C C C C C C C C C C C C F F C P C P F F C C F F C P T P C C C C C C C F F C F F P X C C C C C C C C C C C C C C C C C C C C C C C C C C C C C C C C C C C C F C C C C F C C F C C F P X C P C C C C C C C C C F C X C C C C C C C C C C C C C F F C C F',\n",
       " 62935112: 'C C C C P C C C C C C C C C C F C C C C C F P T T T T P F C F F C F P T P T T T T C C C T T T T T P X T C C C C C C C C C C C C C C C C C C C F T T T T T T T T T T T T P T T T T T T T P X T C C C C C C C C C C C C C C C C C C C C C C C C C F P T T T T T T T T T T T T T T T T T T T P X T C C C C C C C C C C C C C C C C C C C C C C C C C C C C C C C C C F P T T T T T T T T T T T T T T T T T T T T T T T P T F C C C C C C C C C C C C C C C C C C F P T T T T T T T T T T T T T T T T T T T T T T T P X T C C C C C C C C C C C C C C C C C C C C C C C C C C C C C C C C C F P F C C C C F F C C F P T T T T T T T T T T T T T T T T T T T T T T T T T P X T C C C C C C',\n",
       " 64153126: 'C C C C C C C C C C C C C P C C C C C C C C C C F P T T T T T T T T T T T T T T T T T T T T C C C C T T T T T T T T T P F C C C C C C F C F C C F P T T T T T T T T T T T T T T T T T T T T P T T T T F C C C C C C C C C C C C F F C F C F C F P T T T T T T T T T T T T T T T T T T T T T T T T T P T T T F F F F F F T C F T F F P C T C C C C C C C C C C C C C C C C C C C C C C C C F P T T T T T T T T T T T T T T T T T T T T P C C C C C C C C C C F P T T T T T T T T T T T T T T T T P T T T P T F C C C C C C C C F F C F F C C C C C C X C C C C C C C C C C C C C C C C C C C C C C C C C C C C C C C C C F C C F F F P T T T T T T T T T T T T T T T T T T T T P P F T T T T F T T F C C C C F P F F F X P C C C C C C C',\n",
       " 64687090: 'C C C C C P C C F P T T T T T T T T T T T T C C C F C C F T T T T T T T P T P F P C C C C C C C C C C F P T T T T T T T T T T T T T T T T T T T T T T P F C C C T C C C C C C C C C F F C C C F T T T T T T T T P T T T T T T T T T T T T T T T T T T T T T T T T T T P T T T T T T T T T T F C C C C C F P F C C C C F T T T T T T T T T T T T T T T T T T T T T T P F C F P F T C C C C C C F C C C C C C C C C F T T T T T T T T T T T T T T T T T T T T T T T T T T T T T T T T T T T T T T P T T T T T T T T T T T T T T T T T T T T P T F C C F C C C C C C C C C C F T T T T T T T T T T T T T T T T T T T T T T T T T T T T T T T T T P T T T T T T P T T T T T T T T T T T T P T T T T T T T T T T T T T T P F F F C C C C C C C C C C C C C C C C P C C C C F C C C C C C C C C C F T T T T T T T T T T T T T T T T T T T T T T T T T T T T',\n",
       " 64944126: 'C C C C C C C C C C T T C C C C C C C C C C C F P T T T T T T T T T T T T T T T T F C C C C F T T T T T T T T T T T T P T F C C C C F T T T P F C T T C T C F T P C T C C C T F T T T T T T T T T T T T T T T T T T T T T T T T P F C F C C C C F T T T T T T T T P T P F F T T T T F F P F F F F P T T F F C T C T F C T F T F P T T T T T T P T T T T T T T T T T T T T T T T T T P F C C C F P T T T T T T T T T T T T T T F C F F C F T T P T T T T P T T T T T T T T T T',\n",
       " 66362122: 'C P C C C C C C C T T C T T C C T T T T P C C C C C C C C C C C C C C C C C C C C C C C C C C C C T T P T T P T C C T C C C C C C C C C C C C C C C F F T T T C C F T P T T T T C C C C F C F T T P T T C F C F P F F P T T T T T T T T C F C F P F F P C F C F P F P F C C C C C C C F P T T T T T T P T T T T T T T T T T T T T T T T T T T P T T F T C T T T C C C C C C C C C C C C C C C C C C C C C C C C C C C C C C C P T T T T P F C C F P C C F C C F P F F C C C F C F P T T T T T T T T P T T T T T T F F T T P T T F T T T T T T T T P C F F T T T T T T T T C F C F P T T T T T P T T T T T T P F C C C C F T T T T T T T T T P T T T T T T',\n",
       " 66472128: 'C C C C C P C C C C C C C C C C C C F T T T T T T P F T T C C C C F F C F F C C F P F C C C C F C P C C C C C C C F F C C C C C C C F P F F F F C C C C C C C C C C C C C C C F F C C C C C C F P F T T T T C C F T T T T T T T T F C C T T T C F T T T F T T T C F T T T P T T T T C C C F F T T T T C C C F F P F C C C F P F T P F C C C C C C T F C F C C C C T F C C C C T C C F P F T T F C F F C C C C C C C C C C C C C C C C C C C C C C C C C C C C C C C C C C C C C C C C C C C C C C C C C C C C C C C C C C C C X C C C C C C C C C C C C C C C C C C C C C C C C C C C C C C C C C C C C C C C C C C C C C C C C C C C C T C T T T C C C C C C C C C C C C C C C C C T T C C C C C C C C T T T C C T T T T T T T P C T C C C X T',\n",
       " 66828119: 'C C C C C C C C C C C T T T T C C C C C C T T T T T T T C C C C C T T C C C C T T C C C C C C T P C T C C C C C C C T P T C C C C C C C C C C T C C C P F C C C C C C C C C C C F T T T T T T T T T T T T T C C C C C C C C T T T P T T T T T T T T T T T X T T C C C C C C C C C C C C T T T T T T T T T T T T T T T T T C C C T T P T X C C C C C C C C C C C C C C C C C C C C C C C C C C C C C C C C T T C C C C T T T T C C C C T T C C C C T T C C C C C C C T C C C C C C X C C C C C C C C P C C C C C C C F T T T T T T T T T T T X C C C C C C C C C C C C C F T T T T C C C F F C C C C C C C T T C C E E E E E E E E E E E E E E E E E E E E E E E E C C C P C C C C C C F T T T T T T T T T T P T T T C C C C C C C C C C T T C C C T P C F C C T T T T T T T T C C T T C F C C C C C C F C C C C C C C F C T T F F C C C C F T T C C C F F C C C C F T T T T F F F F F F F F P F T F F T T T T T T P T T T T T T T T T T P C C C C F C C F C C C F C F X T T C C C C C C C F C C C C C C F C C F C C C F T T T T T T T T T T T T T T T T T T C C C C C C F',\n",
       " 67755125: 'C C C C C C C C C F P T T T T T T T T T T T T P T T T T T T T T T T T T T T T T T T T T T T P T T F C C C C C C F C C F C C C C C C C C C C C C C C C C C F F C C F F C F F C C C C C C F F C C F F C C F T T T T T T T T T T T P T T F C C C C C C C C C C C C C C C C C C C F C C C C C C C C C C F P T T T T T T T T T P T T T T T T T T T T T T T T T T T T P F C C C C F C C C C C C C C C C C C C C F C C C C C C C C C C F P T T T T T T T T T T T P T T T T T T T T T P T T T T P T T T T P T T T T T T T T T T T T P C C C C F C F T C C C C C C C C C T C C C C C C C P C C F F C C C C C C C C C C C C C C C C C C C C C C C C C C C C C C F F C C F T T T T T T T T T T T T T T T T T T T T T T T T T T T T T T P C C C C C C C C F T T T T T T T T T T T T T T T T T T T T C F F C C C C C C F C C C C C C C C C C C C',\n",
       " 67899116: 'C C C C C C C C T T C C T F T T F C C C C C C C C C C F F F C C F C C F P F C C C C C F C C C C C C C C C C C T T T T C C C C C C C C P C C T T T F F C C C C C F C F F F C F T T T T T T T P F C C C C C C C C C C C C C C C T C C T C C C C C C C C C C C C C C C F T T T T T T P C F C C C C T T T C T C F T T T F T C C C C C C C F P F T T C C C C C T C C C F T F F F C C T P T T T T T F P C C C C C C C C C C C C C C X C T T P C C C C C C C C C C C C C C C X C C C C C C C C C C C C C C C C C C C C C E E E E P C F C F P F F F T T T T T T C C C F T T C C F T T C C C T T T T T T F C F T P C F F C C F F F F F F C F F C C C C F P E E E F C C C C T F E E E E C F C C T T C C F F C C C C C C C C C F F C C F F C C C C F T T T T P T T C C C C C C C C C C C C T T T T T E E F C F T T T T T E E E E T T E E E F E E E C E E E C E E E E E T T E C E E E E C E F T T F T C C C C C C F T F C F T T F C C C F F C F',\n",
       " 68995094: 'C C C C C C C F F F F C F T T C T T T C F T T T T C C C C C F T C C C C C C C C F P X C C C C C C C C C C C C C C C C C C C C C C C C F F C C C C F P X C C C C C C C C C C C C C C C C C C C C C C C C C C C C C C F C C C C C C C F T T T T T T T T T T T T T T T T T P C C C C C C C C C C C F T T T T C P C C C C C C C C C C C C C C C C C C C C C C C C C C C C C C C C C F T T T T T T T T P T T T T T T T T T P T T T T T T T P E E E C C C C C C C C C C C E E E E E E E E E C F E E E E E E E E E E E E E E E E E E E E T T P',\n",
       " 69251126: 'C P C C C C C C C C C C C F C C F F F T T T T T T T T T T T T T T T T T T T T T T T T C C T C F C F C C T T T F C F P T T T T T T T T T T P F C C C T T T T T C C C C C C C C C C C C C C C C C C C C C C C C C C C C C C C C T T T T T T T T T T T T T T T T T T T T C C F C C C C C T T F T T T T T T T T T T P T T T T T T T T T T T P F F C C C C C C C C C C C C C P C C C C F P T T T T T T T T T T T T T P T T T T T T T F C C C C C C C P F C C C C C C C C C C C C C C C C C C C C C C C C C C C C C C C C C C C C F T T T T T T T T T T T T T T T T T T T T T T T T T T T T T T T T T P T T T T T T T T T T P T T C C C C C C C C F T C C C C C C C C C C C C C T T T T T T T T T T T T T P T T T T T T T T T T T T T T T T P T T T T F C F F C C F C C C C C C F C C C C C C F P X T C C C C C C C C C C C C C C C C C C C C C C C C C C C C C C C C C F T T T T F C C C C F T T T T T T T T T T T T T T T F C C C C F T T T T T T T T P X T C C C C C C C C T T C C C C C C C C',\n",
       " 70209120: 'C P C C C C C P C C C C C C C P C C C C C C C C C C C C C C C C C C C C C C F P T T T T T T T T T T T T T T T T T T P T T T T T T T T T T T T T T T T T T T T T T T T C C C C F C F T T T T T T P T T T T T T T T T T T T T T P C F F F F F C C C F F C F F C C T T C C F P T P T T T T T T T T T P F C C C C C F C C C C C C F C F F F F C C C C C C C C C C F P T T T T T T T T T T T T T T T T T T T T T T T T T T T T T T T T T T T T T P T T T T T T P F F F C C C C C C C C C C C C C F P T T T T T T T T T T T P T T T T T T T T T T T T T T T T T T T T T T T T T T T T P F F C F F C F F F C F F F C F C C C C C C C C C C C C C C C C C C C C C C C C C C C C C C C C C C C C C C C C C C C C C C C C F P T T T T T T T T T T T T T T T T T T T T T T T T T T T T T T T T T T T T T P C C C C C C',\n",
       " 72794100: 'C C C C C C C C C C C F C C C C C C C C C C C C C C C F P T T X C C C C C C C C C C C C C C C F T T T T T T T T T T T T T T T T T T T T T T T T T T T T T T T T T T T T T T T T T T P F C C C C C C F P T T T T T T T T T T T T T T T T T T T P T T T F C C C C C C F F C C F T T T T T T T T T P T T T T T F C C C C C F F C C C C C C C C C C C C C C C C F T T T T T T T T T T T T T T T T T T T T T T T T T T T T T T T T P T T T T P T T T T T T T T T T T T C C C C F T T T F T T T C T T T C T T T T T C C F C C C C C C F C C C C C C F T T T T T T T T T T P T T T T T T T T T T T T T T T T T T P F C C C C C C C F F C C C C C C C C C F F C C C C C F C C F C C C C C C C C C C F C C C C F P F C C C C C C C C C C F P T T T T T T T T T T T T T T T T T T T T T T T T T T T T T T T T P T T T T T T T T T T T P F C C C F T P T T T T T T T T P C C C C C C C C C C T T T T T T T T T T T T T T T T P F C C C C C C F T T T T T T T T T T T T T T T T T C C C F T T F P X T T C C C C C C C F X C C C C C C C C C C C C C C C C C C F C C F P X C C C C C C C C C C C C C C C C C C C C C C C C C C C C C F F C C P F',\n",
       " 73538121: 'C P C C C C C C C C C C C C C C C C F T T T T T T T T T T T T T T T T T T P T T T T T T T T T P T T T T F C C C C F F F F C F P T T T T T T T T T T T T T T T T T T T P C C C C F F P C C F F C C C C C F T T T T T T T T T T T T P T T T T T T T T T T T T T T T T T T T P F T T T T C C C F C F F C C F T T T T T T T T T T T T T T T T T T T T T T T T T T T T T T P C C C C C C C C C C F T T T T T T T T T T T T T T T T T T T P T C C F C C C C C C C C C C C C C C C C C C C C C C C C T T F F C C C C C C C C C F T T T T T T T T T T T T T T T T P T T T T T T T T T T T T T T T T T T T T T T T P F C F T T T T T T T T T T T T T T T T T T T T T P X T C C C C C C C T T',\n",
       " 77882125: 'C C C C C C C C C C C C C C C C C C C C C C C C C C C C C F P F C C F T T T T T T T T T T T P C C C F C C C C F F C C C C C C C C C T T C C C C C C C C C C C C C C C C C X C C C C C C C C C C C C C C C C C C C C C C C C C C C C C C T T C T T C P C C C C C C C C C C C C C C C C C C C C C C C C C C F T T T T T T T T P F F F T C C C C C C C C C C C C F F C C C C C C C C C C C C F F F F F F F F F C C C C C C C C C C C C C C C C C C C C C C C C C C C C C C C C C C C C F F C C C C C C C C C C C F E E E E E E E E E E E E E E E E T T C C C F F F F F F F F C C C C C C C C C C C C C C C F E E E F T T E F F T T T T T T T T T T T T T T T T T T T T T T T T T T T T T T T T T T T T T T T P C C C C C C C C C C C C C C C C C C C C C C C C C C C C F F F T T T T T T T T T T T T T T T T T T T T T T P F F P T T T T T T T T T T T T T T P C C T T C C X C C C C C C C C C C C C C C C C C C P C C C C C C C C C C C C C C C C C C C C C C C C C C C C C C C C C C C C C C C C C C C C C C C F T T T T T T F C C C C C F T T P T T F C C C C C C C C C C C C C C C C C C C C C C C C C C C C C C C C C C C C C C C C C C C C C F C C C C C C C C C C C C F F F E E E E E E E C C C C C C C C C C C C C C C C C C C C C C C C C C C C C C F E E E X C C C C C C C C C C C C C C C C C C C C C C C C C C C',\n",
       " 77984114: 'C P C C C C C C C C C C C C C C F P T T T T T T C C C C T T C C T P T T T T T T T T T T T T T T T T T T T T P T T T T T T T T T T T T T P C F C C C C C F T T T T T T T T T T T T T T T T T T T T T T T T T T T T T T T T T T T T T P T T T T T T T T F C C C C C C C C C C C C C C C C C C F F C C F F C C F T T T T T T T T T T T T T T T T T T T T T T T T T T T T T T P P X T C C C T T C C C C C C C C C C C C C C C C C C C C C C F C C C C C C F P T T T T P T T T T T T T T T T T T T T T T T T T T T T T T T T T T T T T T T T T P C C C C C C C C C C C C C F T T T T T T T T T T T T T T T T T T T T T T T T T T T T T T T T T T P T T T T T T T T T T T T T T T T T T T T T T T P X T C C C C C C C C C C C C C C C C C T T C C C C C C C C C C C C C C C C C C C C C C C C C C C C C C C C C C C C F T T T T T T T T T T T T T T T T T T T T P T T T T T T T T T T T T T P T T T',\n",
       " 80308126: 'C P X C C X P C C C C C C C C F F C C C F P T C C C C C C T C C C C C C C C F P T T T T T T P T T T T T T T T T T T C T C C C C C T T C T T C T P T T T T P T T T C C C C C C C C C C C F T T T T T T T T T T T T T T T T T T T P T T T T T C C C C C C C C C C C C C C C F P T T T P T T T T T T T T T T T T T T T T P T T T F C C C F C C C C C C C C C C C C C F C C C C C F F F C C C C C C C C C C C C C C C F C C C C C F F C C F T T T C T T T T T T P T T C C C C C C F T T T T T T T T T P T T T T T T P T T T T T T T T T T T T T T T P C C C C C C C C C C C C C C C C F C C C C C F T T T P T T T T T T T T T T T T T T T F C F C C C C C C C C T T T T T T T T T T T T T P T',\n",
       " 82224125: 'C C C C C C C C C C C F C C C C C C C C C C C C C C C C C F C F F F C F F C F P F C C C C C C C C C C C C C C C C C C C C C C C C F F F F P F C C C C C C C C C C C C C C C C C F F F C F C C C C C C C C F P C F C C C C C C C C C F P T T T F T T T T T T T T T T T T T T T T T C C F T T T T T T T T T T T T T T T T T T T T T T T T T T T T T T T T T T F C F T T T T T T T T T T T F C C F T T T T T T T T T T T P T T T T T C C F C F T T T P F C C C C F T T F P F F C C F T T C C F C F C F C C C C C C C F C C F T T T T T T T T T T T T T T T T T T T T T T T T T T T T T T T T T T T T T T T T P T T T T T T T T T T T T T T T T T T T P T T T T F F T T T T T T T T T T T T P C C C P T T T T T T T T F C C F T T T T T T T T T T T T T T T T P T P T T T T T T T T T T T T T T T T T T T T T T T T T T T T T T T T T T T T T T T T P T T T T T T P T T T T T T T P P P T T',\n",
       " 82243121: 'C P C C C C C C C C F T T T T T T T T X T T C C C C C C C C C C C C C C C F F F F F C F T T T T P T T T T T T T T T T T T T T T T T T T T T T T T T T T T T T C C C C F C F T T P F C T T C C C C C C C C T T T F C C T T T T F T T F F C F C C C C C F T T T C F F C F F C F T T T T T T P C C F C C F T T T T T T T T T T T T T T T T T T T T F F T T T T T T T T T C C C P F F F T C T T T T C F T T T T T T F T T T T T T P F C T T F F C T C T F C C F T T T T T T T T T T T T T T T T T T T T F C C C C F P F F E E E E E T T C C P T T T T T T T T T T T T T T F C C F T F F T T T T T T T T T T T F T T F F F T C C C T F C C C C C F C C C C C C C F T T T F F F F T C C C C C C C F T T T T T T T T T F T T T T T C F C C F C C C F T T C C C C C C C C C C C T T T T T T C C C C F C F F C C F F T T T T T T T T T T T T T T T T T T T F T T T T T C C F F F F F F F F F F F F F F F F F C F C F T T T T T P F X T C C C C C C C C C C C C C C T T C C C C C C C C C C C C C C C C C C C C C F F C C T C F F C C C C F F F F C C C T C F C C C C C C C C C C C C C F F F F F F T T T T T T T T T T T T T T F T F T T T T T T T T T P T T T T T T T T T T T T T T T T T E E E E E E F F F F F F E E E E E E E E E E T T T T T T C C F F C C F T F F F T T T T T T T T T T T T T T T T T T T T T T P C C C C T C C T T C C C C C C C C T C C C C C C C C C C C C C C C F T T T T T T T T T T T T T T T T T T T T T T T C C C T T T T T T T T T T T T T T T T T T T C C F F C C F C F F F F F F F F F F F F F F F F E E F F F F F T F F',\n",
       " 82616120: 'C P C C X C C C C C C C C C C C C C C C P X C C C C C C C C C C C C C C C C C E E E E P C C F P T T T T T T T T T T C C C P E E C C C C C C C T T T C C C C C C C C C C C C C T T P C F C C C C F C C C C C E C T T T C C C C C C C C P T T T T C C T T T T C C C C C C C F F C C C C C C F X T T C C C C C C C C C C C C C C C C C C C C C C C C C C C C C C C C C C C C C C C C C C C C C C C C C C C C C C C C C C C C C C C C C C F T T T T T T T T T T T P X T C C C C C C C C C C C C C C C C C C C C C C C C T T C C C C C C C C C C C C C C C C C C C C C C C C C C C C C C C C C C C C C C C C C C C C C P X C P C C C C C C C C C C C C C C C C C C C C C C C C C C C C C C C C C C C F T T T T T T P X T T C C C C C C C F P C C C F C C C C C C C F C C C C C C F P F C C F F C C C C C C C F X',\n",
       " 82752122: 'C C C C C C C C C C C C C C C F C C F F P T T T T T T T T T T T T T T T T T T T T T T T T T T T T T T T T T T T T T T T T T T P T T C T T T T T T T T T T T T T T P F C C F F C C C C C C C C C C C C C C C C C C C C C C C C C C C C C C C F P T T T T T T T T P T T T T T T T T T T T T P T T T T T T T T P T T T T T T T T T T T T T T F C C F F F P C C F P T T T T T T T T T T T T F C C C C T C C C C C C F T T T T T T T T T T T T T T T T T T T T T T T T T T T T T P T T T T T T T T P T T T T T T T T T T T T P T T T T T T T T T T T T T T T T T T T T T T T P F F C C F F T T T F F C C C F F F F F F F F C C C C F P T P F T X C C C C C C C C C C C C C C C C C C C C C C C C C C F P T T T T T T T T T T T T T T T T T T T P T T C C C C C C C C C C C C C C C T F C C F T C C C T P T T T T T T T T T T T T T T T T T T T T T T T T T T T T T T T T T T T P T T T T T T T T T P T T P T T T T T P X T C C C C C C C C C C',\n",
       " 82885110: 'C C C C C C C C C C C C F C C C C C C F F P F F C F T T T T T T T T T T T T F T C C F T T T T T T T T T T T P T T T T T T F C C C C F T T T T T T T T T T T T T T T P T T T T T F C C C C C C C C C C C C F T T P T T T T T T T T T T T T T P T T T F C C F F C C C F P T T T T T T T T T T T T T T T T T T P T T T T F C C C C C C C C C C C C C C C C F C C C C C C F C C C C C C C C C C C C C F C C F C C C C C C C C C F C C C F F F C F C C C C C C C C F T T T T T T T T T T T T T T T T T T P C F C C F C C C C C C C C C C F T T T T T T T T T T T T T T T T T T P T T T P F C T T T C C C C C C C C F C C C C C C C F C C C C C F T T T T T T T T T T T T T T T T T T T T T T T T T P C C F F F C F C T C F F C C C C C F T F C F F C F F C F F T F F C F T T T T C C C C C C F T',\n",
       " 82920121: 'C C C C C C C C C C C F F C C C C F P T T T T T T T T T T T C F C F F F F T C F P C F P T T T T T T T T T F C F F C C C C F C C F C C C F C C F F C C F P T T T T T T T T P T T F P F T T T T T T T T T T E E E E P P T T T T P E E E F T F F C C C C F T T T T T T T T T F F F F F F F F F F F F F F F P T T T T T T T E E E E T T P T T T F C F E E E E P E F C F C C C C C C C C F T T T T T T T T E T T T T T T T T T T T T T T T E P C C C C F F C F F F T T T T T T T T T T T T T E E T T T T T E E E E E F E E E P C T T T T T T T T T P T T E E E E E E E P F E E E E E E E E E E E E E E E E E E E E E E E E P E E T T E E C F C F T T T T T T T E T P T P C F F F F C F F P F P C F C T C F F C F C F T P C P C C C X T',\n",
       " 83841128: 'C C C C C C C C C C C C C C C C C C C C C C C C C C C C C C C C C F C C C C C F P F C C C C C C C C C C C C C C C C C C C C C C C C C F F C C C C C C C C C C C C C C C C C C C C C C C F C C F C C F C C F P T P T T T X P C C C C C T T T T T T T T T T T T T T C C C C C C C C C C C C C C F T T T T T T T T F C C C C C C F F C F T T T T T T T T T T T T F C C C C C C F T T T T P F C C T T C C C C C C F T T T T T C C C C C F T T T T T T T T T T T T T T T T T T T T T T T T T F F F F T T T T T T T T T T T T T T T C F T T T T T T C T C C T C C C F P T T T P',\n",
       " 85298121: 'C P C C C C C C C C C C C C C C F T T T T T T T T T T T T T T T T T T T T T T T T T T T T T T T T T T T T T T T T T T F C C C C C C C C F P T T T T T T T T T T T T T T T T T T T T T T T P T F C C C C F T T T T T T T T T T T T T T P T T T T T T T T T P T T F C C C C C C C C C C C C C C C C C C C C C F C C C C C C C C C C C C F T T T T T T T T T T T T T T T T T T P T T T C C C C C C C C C C F F C C F T T T T T T T T T T T T T T T T T P T T T T T T T T T T T T T T T T T T T T T T T T T T T T T P T T T T T T T T T T T P F C C F X C C C C C C C C C C C C C C C C C C C C C C C F C C C C C C C C F P T T T T T T T T T T T T T T T T T T T T T T T T T T T T T T T P X T T C C C C C C C C C C C C C C C F F C C C C C C C C F F C F F C C C C C C X C C C C C E E E C E C C C C C C C C F T T T T T T T T T T T T T T T T T T T T T T F C C C C F T T T T T T T T T T T F C C C C F T T T T T T T T T T T T T T T T T T T T T T T T T T T T T T X T C C C',\n",
       " 85458129: 'C C C C C C C C C C C C C C C C F F F E E E E E E E E E E E E E E P P F C C C C F E E E F C F F C F P P C T T T T T T T T T T T C C C C C C C C C C C C C C C C C C C C C C C C C C C C C C C C C C T T C C F T T C C T C F C F C C C C C C F F C C C C F P C C C C C C C C C C C C C C C C C C C C C C C C C C C C C C C C C C C C C C C C C C C C C C P C C C C C C C C C C C C C C C C C C C C E E E E C C C C C C C C C C C C C C C C C C T T T T C X C C C C C C C C C C C C C C C C P C C C C T T T T T T T T F C C C C F T T F C C C C F T T T T T T T T P F C F C C C C P C C F C F C C C C C F F C C F F C C F P T T T T T T T T T T T T',\n",
       " 85576116: 'C P C C C C C C T T C C C C C C C C T T X T T C P C C C C C C C P C C C C C C F P C P T T T T T T T P C C T C P T T T T T T T T T T T F C C T C C C C F P T T T T T T P T T T T T T T T T T T T T P F C C C C C C F F C C C F F C C C C C F T T F C C C T C C T F T T P T T T T T T T T T T T T T T T T T T T T T T P F C T T T T T T T C C C C C C C C C C C C C C C F P C C C C C C C F F C C F F C C F T T T T T T T T T T T T T T P T T T T T T T T T T T T T T T T T T T T T T T T T T T T T T T T T P T T C C C C C C C C C C F T T T T T T T T T T P T T T T T T P T T T T T T T T T T T P C F C C F C C C C C C C C C C C C C C C C C C C C C C F F C C C C C C C C C C C C F P T T T T T T T T T T T T T T T T T T T T T T T P T T P T T T T T T T T T T T T T T T T T T T T T T T T T',\n",
       " 86170104: 'C C C C C C C C C C C C C C C C F F C C F T T T T T T T T T T T T T T T T T T T T T T P T T T T T T F C C C C F T P T T T T T T T T T F C C C C C C C C C C C C C C C C F T T T T T T C C C P C C C C C C C F T T T T T T T T T T T T T T P T T E E E E C C C C C C C C C C F T T T T T T T T T T T T T T T P T F C C C C F C C C C F T T T T T T T T T T T T T T T T T T T P T T T T T T T T T T T T T T T T T T T T T T T P T T T P F C C C T T C F F C C F F C C C F F F F F F C C F C C C F C C F E C F F F F F F F F C C C F F E T E C C C C C C C E E E C C C C F F F F F F F E E E E E E E E F F F F F F F F F F F F F F F C F F F F F F C F C F T T T F C F C F C F E F F F F F F F F F F F F F F F F F F F C F F F F F F F F C C F F F F C F F F F F C F F C F F F F C F P T T T T T T P T T T T T T T T T T T T T T T T P T P T T T T T T T T T T T T T T T P T T T E E E E E E E F F F T T T T T T T T T T T T T E E T T T T E F F E T T T T T T P F',\n",
       " 87612126: 'C C C C C C C C C F C C F C F P T T T T T T P F F C F C T C C F F F C F F F C C F P T T F C F C C C C C F C T T F T T T T P F C T T C C T T C T T C T C T C T C C T F T C T T C C C C C T T C C C C C C C C C C C C C C C C C C C C T C C C C C F C C C C C C C C T T C F F F C F C C C F C C C C C C C C C C F F F P T T T T T T T T T T T T T T T T T T T T T T T T T T T T C F C C C C F F F F F C C F F C C C F P P F F F F F F C F C F F P F T T T C P F F C F C C C F F F F F F T T T T T T T P T T T T T T T T T T T T T T P F T T T T T T T T T T T T T T T T T T T T T T T T T T T T T T T T T P F F F F C C C C F F F F P F F P T T T T T T P T T T T T T T T T T T T P C C C C C C C C C C C C C C F T T T T T T T T T T T T T T T T F C C C C F C C C C C C C C C C C C F F C C C C C C F C C F F C F P F C C C C C C F C F F F C C F C C C F P P F C C C C F',\n",
       " 88156121: 'C C C P C C C C C C C C C C C C C C C C C C C C C C C C C C C C C C C F P C C C C C C C C C C C C C C C F P T T T T T T T T T T T T T T T T T T T T T T T T T T T T T T T T T T P T P T T P C F P C F C F C F T T T T C F T C F C C C C C C C C C F C C C F C C F C C F C F C C C C C C C F F C C P C C F F F P C C C C C C C C C F C C C C F T T T T T T T T T T P C F F F C F C F T T T C P T T T T T T T T T P F F F C C F T T T T T T P T T T T T T T T P T T P F C F T T T T C C C F C C F C F P C C C C C C C C F F C C C C C C C C C C C C C C C C C C C C C C P C C C C C C C C C C C C C C C C C C F C C C C C C F F C C F C C P T T T P C F',\n",
       " 89224093: 'C C C C C C C C C C C C C C C F T T T T T T T T T T T T T P C C C T T T T T T T T P T T F C C C C C C F P T T T T T T T P T T T T F C C C C C C F T T T T T T T P X T C C C C T T C C C C C C C C C C C C C C C C C C C C C C C C C C F F T T T T T T T T T T T T T T P C C C C C C C C C C C F T T T T P T T T T T T T T T T T T T P P P F C C C C F T T C C C C C C F P T T T T T T T P T T P T T T T T T T',\n",
       " 89332129: 'C P C C C C C C C C C C C C C C F F P C F F C C C C C C P C F F C C C C F P T T T T T T T T T T T T T T T T T T T T T T T T T T T T T T T T T T T T T T T T T T T F C T F T T T T T T T T T T P P T T T P T T T T T T T P T F C C C C C C F T T T T T T T P T T T T T T T T P F T T F P T T T T T T T T T C F T T C C C C T C C C C C C C T F T T T T T T T T T T T T P T T T T T T T T T T T T T T T T T T T T T T P F C T C C C C F C C C C F P P T T T T T T T T T T T T T T T P T T T T T T T P F F C C C C C F C C C C C C C C C C F T T T T T T T T T T T P T T T T T T P T T T T T T T T T T T T T T P F T C C F F C C F F T T F T C C C F F T C C T C T C C C C C C F P T T T T T T T T T T T T T T T T T T T T T T T T T T T P T T T T T T P T T T T',\n",
       " 89337123: 'C C C C C C C C C C C F P P C F F C C C C C C C C C C C F F C F P T T T T T T T T T T T T P T T T T P T T T T P T T T T P C F C C C F T T T T T T P T T T T T T P C C C C C C F F C F T T T T T T T T T T T T P C C C C C C C C F F T T T T T T T T T T T T T T T T T P C C C F C C C C C C F T T T P T C C C F C F C C C C C C C C C C C C C C C C C C C F T T T T T T T T T T T T T T T T T T P P P C C C C C C C C C C C C P P C C C C C C C C C C C C C C C C C C P T T T T T T T T T T T T T T P T T T T P T T T T T T T P T T T T P C C C C C C T T T T T T T T T T P T T T T T T P C C C C C C C C C C T T T T T T T T T T T T T T P C C C C C C C C C C T T T T T T T T T T T T T T T T T T T T T T T T T P C C C C C C C C C C C T T T T P T C C C C C C C C C C C C C C C C C C C C C C C C C C T T T T T T T T T T T T T T T T T T P P P C C C C C C C C C C C C P P C C C C C C C C C C C C C C C C C C P T T T T T T T T T T T T T T P T T T T P T T T T T T T P T T T T P C C C C C C T T T T T T T T T T P T T T T T T P C C C C C C C C C C T T T T T T T T T T T T T T P C C C C C C C C C C T T T T T T T T T T T T T T T T T T T T T T T T T P C C C C C C C C C C C T T T T P T C C C C C C C C C C C C C C C C C C C C C C C C C C T T T T T T T T T T T T T T T T T T P P P C C C C C C C C C C C C P P C C C C C C C C C C C C C C C C C C P T T T T T T T T T T T T T T P T T T T P T T T T T T T P T T T T P C C C C C C T T T T T T T T T T P T T T T T T P C C C C C C C C C C T T T T T T T T T T T T T T P C C C C C C C C C C T T T T T T T T T T T T T T T T T T T T T T T T T P C C C C C C C C C C C T T T T P T C C C C C C C C C C C C C C C C C C C C C C C C C C T T T T T T T T T T T T T T T T T T P P P C C C C C C C C C C C C P P C C C C C C C C C C C C C C C C C C P T T T T T T T T T T T T T T P T T T T P T T T T T T T P T T T T P C C C C C C T T T T T T T T T T P T T T T T T P C C C C C C C C C C T T T T T T T T T T T T T T P C C C C C C C C C C T T T T T T T T T T T T T T T T T T T T T T T T T P C C C C C C C C C C C T T T T P T C C C C C C C C C C C C C C C C C C C C C C C C C C T T T T T T T T T T T T T T T T T T P P',\n",
       " 91203122: 'C C C C C C C C C C C C C C C C C C C C C C F F F F T T T T T T T T T T T T T T T T T T T T T T T T T T F T F F F P T T T T T T T T T T T T T T T P T T T T T T T T T T T T T T T T T P F T C C T F P F C C F T T T T T T T T T T T T T T T P C C T F T T T T T T T T P T X C C C C P P T T T T T T T T T T P C C T T C C C F C C C C C C F T T T T P T T T T T T T T T T T T T T P P F C C C C C C C C C C T T C C C C C C C C C C C C C C C C C C C C C C C F T P T T T T T T T T P T T T T T T T T T T T T T T T T T T T T T P E T T T T T T T T T T T T P T T T T T T P T T',\n",
       " 91235128: 'C C C C C C C C C C C C C C C C T T T T T T T P T T T T T T T T T P F C C C C C C F P T T T T T T T T T P X T C C T T C C C C C C C C C F C C C C F T T T T T P T P T T T T T F C C C C C C C C C C C C C C C C C C C C C C C C C C C F T T T T T T T T T T T T T T T P T T T T T T T P T T T T T T T P C F P C C C C T F C T T C C C C C F F T T T T T T T T T T T T T T T T T T T T T T T T T T T T T T T P E E E E E E E E C C F F T T T T T T X T T C C C C C C C C C C C C C C C C C E C C C C E C C C C C C C F F E E E E E E E E E E E E E E E E E E E E E F T T E T E E E E T E E C C C C C C C C C C C C C C C C F F C C C C C C C C C C C C C C C C C C C C C F C F C C C C C C C C C C C C C C F C P T T T T T T T T T F T T C C F F C C C C C C C C C C C C C C C C C C C C C C C C C C C C C C C C C C F P X T C C C C C C C C C C C C C C C C C C C C C C C C C C C C C C C C C C C C C C X',\n",
       " 94186123: 'C P C C C C C C C C C C C C X C C C C C C C C C C C C C C C C C C C C C C C C C C C C C C C C C C C C C T T C C T C C C C C P T C C C P C X C C C C C C C C C C T C C T C C C C C C C C T T C T T C C C C C F T C F C C C C C C C C C C C C C C C C T C C C C T C C T T C C T T F C T F T C C F F C C T T C F T F F C C F C T C C C C C C C C C C T F F C F C C C C F P F C F F C F F C C C C F P F C C F C C C C C C C C C C C C C C C P C C C C C C C C E E P T T T T T T T T T T T T T T T T P E E E E E E P C C C C E E E E E E E E E E P C P T T T T P T T P C F C T C C C C C C C C C C C C C C C C C C T T T T T T T T T T T P C C C C C C C C C C C C C C C C C F F C C F P C C C C C C F F C F F T C T T T T T F F F C C F F C C F F F F C C F C F C C C C C C C F E E E E E E E T T T X C C C C T T C C C C C C C C C C C C C C C C C C C C C C C C C C C C T T T T T T C C T T T T T C C C F T C C C C T T P C C C C T T C C C C C T E E E E E F F T C C C C C C T T E E T E P F C C F E E E E E E E E E E E E E E E E E E E E E E E',\n",
       " 94792123: 'C P C C C C C C F F C C C C C C F F C C C C C C F T T P T T T T T T T T T T T T T T T T T T T T T T T T T T T T T T T P T T T T T T T T T T P T T T T T T T T T T T T T T T T T T T T T T T T T T T T T T T T T T T T T T T T T T T T T T T T P T F C C C C F F C C F F C C C C F P T T T T T T T T T T T T T T T T T T T T T T T T T T T T T T T T T T T T T T T T T T T T T T T T T T T T T T T T T T T T T T T T T T T T T T T T T P T T T T T F C C C C F P T T T T T T T T T T T T T T T T T T T T T T T T T T T T T T T T T T T T T T T T T T T T T T T T P F C C C C F T T T T P T T T T T T T T T T F F F C C C C F P X T C C C C C C C C C C C C C T T C C C C C C C C C C C C C C C C C C C C C C C C C C F P T T T T T T T T T T T T T T T T T T T T T T T T T T T T T T T T T T T T T T T T T T T T T T T T T T T T T T T T T T T T T T T T T T T T T T T T T T T T T T T T T T T T T T T P T T T T T T T T T T P F C C C C C C C C C C C C F F C F F F F F F F F T T T T T T T T T T T T T T T T T T T T T T T T T T T T T T T T T T T T T T T T T T T T T T T P F C C F C F P T T T T T T T T P X T C C C C C C C C C C C T T C C C C C C C C T C T C C C C C C C C C C F C F C F C C C C C C C C C C F F F F F',\n",
       " 96314111: 'C P C C C C C C C C C C C C F C C F C F P P T T T T T P C F C F P P C C F C C C C C T T X T C C C C C C C T T C C C C C C C C C C C C C C C C C C C C C C C C C C T F T T T T T T T T T T T T T T T T T T T T T T T T T T T T T T T T T T T P T T T T T T T T T P T T T T T T T T P F F F F C C F T T T T P T T T F C C F P C C C F P T T P T T T T T T T P F C C F C C C C C F F F F C C F C C C C C F F C F T T T T T P T P T T T P X'}"
      ]
     },
     "execution_count": 7,
     "metadata": {},
     "output_type": "execute_result"
    }
   ],
   "source": [
    "blocks"
   ]
  },
  {
   "cell_type": "code",
   "execution_count": null,
   "metadata": {
    "collapsed": false
   },
   "outputs": [],
   "source": []
  },
  {
   "cell_type": "code",
   "execution_count": 8,
   "metadata": {
    "collapsed": false
   },
   "outputs": [],
   "source": [
    "X, lengths = prepare_data(blocks)"
   ]
  },
  {
   "cell_type": "markdown",
   "metadata": {},
   "source": [
    "#### Formatting the data for cross validation\n",
    "We split the data into a training and test set using a 60/40 % split"
   ]
  },
  {
   "cell_type": "code",
   "execution_count": 9,
   "metadata": {
    "collapsed": false
   },
   "outputs": [],
   "source": [
    "X_train, X_test, lengths_train, lengths_test = split_data(X, lengths, 0.6)"
   ]
  },
  {
   "cell_type": "markdown",
   "metadata": {},
   "source": [
    "We produce the model with the train set using different number of hidden states"
   ]
  },
  {
   "cell_type": "code",
   "execution_count": 10,
   "metadata": {
    "collapsed": false
   },
   "outputs": [],
   "source": [
    "# scores = []\n",
    "# models = []\n",
    "# n_states = range(1,len(events)+3)\n",
    "# print \"Computing HMM model for 39 samples of observations\"\n",
    "# for n in n_states:\n",
    "#     %time model = get_model(X_train, lengths_train, n)\n",
    "#     scores.append(model.score(X_test, lengths = lengths_test))\n",
    "#     models.append(model)"
   ]
  },
  {
   "cell_type": "markdown",
   "metadata": {
    "collapsed": false
   },
   "source": [
    "#### Now we can plot the scores"
   ]
  },
  {
   "cell_type": "code",
   "execution_count": 11,
   "metadata": {
    "collapsed": false
   },
   "outputs": [],
   "source": [
    "# bics = [-2*L + k*np.log(len(X_train)) for L,k in zip(scores, n_states)]\n",
    "# plt.plot(n_states, bics,'-o')\n",
    "# plt.title(\"BIC of models vs. number of hidden states in model\")"
   ]
  },
  {
   "cell_type": "markdown",
   "metadata": {},
   "source": [
    "### Analysis of model\n",
    "Given that we want to trade off between the number of hidden states and the information gained, we pick the number of hidden states as 4 (which is where there is an elbow in the plot above). We store the transition and emition probabilities and visualize them. \n",
    "\n",
    "**Note**: We only draw edges with an emission or transition porbability greater than the CUTOFF variable declared above."
   ]
  },
  {
   "cell_type": "code",
   "execution_count": 12,
   "metadata": {
    "collapsed": false
   },
   "outputs": [],
   "source": [
    "# N = 4\n",
    "# draw_hmm_graph(models[N-1], label=False)"
   ]
  },
  {
   "cell_type": "markdown",
   "metadata": {},
   "source": [
    "Unfortunately, seems like having 4 hidden states creates a pretty boring HMM: each states produces one of the main actions with 0.9 prob or more. So let's go back to 3 states and see what that gives us."
   ]
  },
  {
   "cell_type": "code",
   "execution_count": 13,
   "metadata": {
    "collapsed": false
   },
   "outputs": [],
   "source": [
    "# N = 3\n",
    "# draw_hmm_graph(models[N-1],label=False)"
   ]
  },
  {
   "cell_type": "markdown",
   "metadata": {},
   "source": [
    "### Analysis of student groups\n",
    "Now that we have it all figure it out, we can repeat the process with different groups of students and compare them!"
   ]
  },
  {
   "cell_type": "code",
   "execution_count": 14,
   "metadata": {
    "collapsed": true
   },
   "outputs": [],
   "source": [
    "ACTIVITY = 'a1'\n",
    "\n",
    "blocks_scaff = get_non_blocks(df[df.Activity==ACTIVITY],get_students(\"scaffolding\",\"scaff\"),add_spaces=True, ignore = ACTIONS_TO_REMOVE, start = False)\n",
    "blocks_not = get_non_blocks(df[df.Activity==ACTIVITY],get_students(\"scaffolding\",\"not\"),add_spaces=True, ignore = ACTIONS_TO_REMOVE, start = False)\n",
    "X_scaff, lengths_scaff = prepare_data(blocks_scaff)\n",
    "X_not, lengths_not = prepare_data(blocks_not)"
   ]
  },
  {
   "cell_type": "code",
   "execution_count": 15,
   "metadata": {
    "collapsed": false
   },
   "outputs": [
    {
     "name": "stdout",
     "output_type": "stream",
     "text": [
      "Model with 4 hidden states converged after 1 tries, with 135 iterations\n",
      "Model with 4 hidden states converged after 1 tries, with 57 iterations\n"
     ]
    }
   ],
   "source": [
    "N = 4\n",
    "model_scaff = get_model(X_scaff, lengths_scaff, N)\n",
    "model_not = get_model(X_not, lengths_not, N)"
   ]
  },
  {
   "cell_type": "code",
   "execution_count": 16,
   "metadata": {
    "collapsed": false
   },
   "outputs": [
    {
     "name": "stdout",
     "output_type": "stream",
     "text": [
      "-11365.8506882 -13938.3928149\n"
     ]
    }
   ],
   "source": [
    "print model_scaff.score(X_scaff,lengths_scaff), model_not.score(X_not,lengths_not)"
   ]
  },
  {
   "cell_type": "code",
   "execution_count": 17,
   "metadata": {
    "collapsed": false
   },
   "outputs": [
    {
     "data": {
      "image/svg+xml": [
       "<?xml version=\"1.0\" encoding=\"UTF-8\" standalone=\"no\"?>\r\n",
       "<!DOCTYPE svg PUBLIC \"-//W3C//DTD SVG 1.1//EN\"\r\n",
       " \"http://www.w3.org/Graphics/SVG/1.1/DTD/svg11.dtd\">\r\n",
       "<!-- Generated by graphviz version 2.38.0 (20140413.2041)\r\n",
       " -->\r\n",
       "<!-- Title: states Pages: 1 -->\r\n",
       "<svg width=\"614pt\" height=\"447pt\"\r\n",
       " viewBox=\"0.00 0.00 613.81 447.00\" xmlns=\"http://www.w3.org/2000/svg\" xmlns:xlink=\"http://www.w3.org/1999/xlink\">\r\n",
       "<g id=\"graph0\" class=\"graph\" transform=\"scale(1 1) rotate(0) translate(4 442.995)\">\r\n",
       "<title>states</title>\r\n",
       "<polygon fill=\"white\" stroke=\"none\" points=\"-4,4 -4,-442.995 609.813,-442.995 609.813,4 -4,4\"/>\r\n",
       "<!-- Test (59%) +\r\n",
       "Pause (35%) -->\r\n",
       "<g id=\"node1\" class=\"node\"><title>Test (59%) +\r\n",
       "Pause (35%)</title>\r\n",
       "<ellipse fill=\"none\" stroke=\"black\" cx=\"65.0538\" cy=\"-189.995\" rx=\"65.1077\" ry=\"65.1077\"/>\r\n",
       "<text text-anchor=\"middle\" x=\"65.0538\" y=\"-193.795\" font-family=\"Times New Roman,serif\" font-size=\"14.00\">Test (59%) +</text>\r\n",
       "<text text-anchor=\"middle\" x=\"65.0538\" y=\"-178.795\" font-family=\"Times New Roman,serif\" font-size=\"14.00\">Pause (35%)</text>\r\n",
       "</g>\r\n",
       "<!-- Test (59%) +\r\n",
       "Pause (35%)&#45;&gt;Test (59%) +\r\n",
       "Pause (35%) -->\r\n",
       "<g id=\"edge1\" class=\"edge\"><title>Test (59%) +\r\n",
       "Pause (35%)&#45;&gt;Test (59%) +\r\n",
       "Pause (35%)</title>\r\n",
       "<path fill=\"none\" stroke=\"#7fcdbb\" stroke-width=\"3.76538\" d=\"M48.3335,-253.011C50.3925,-264.769 55.9659,-273.049 65.0538,-273.049 71.3017,-273.049 75.8885,-269.135 78.8142,-262.869\"/>\r\n",
       "<polygon fill=\"#7fcdbb\" stroke=\"#7fcdbb\" stroke-width=\"3.76538\" points=\"82.2504,-263.595 81.7741,-253.011 75.5461,-261.582 82.2504,-263.595\"/>\r\n",
       "<text text-anchor=\"middle\" x=\"65.0538\" y=\"-276.849\" font-family=\"Times New Roman,serif\" font-size=\"14.00\">0.35</text>\r\n",
       "</g>\r\n",
       "<!-- C.w.Feedback (75%) +\r\n",
       "Extra (6%) +\r\n",
       "Construct (17%) -->\r\n",
       "<g id=\"node2\" class=\"node\"><title>C.w.Feedback (75%) +\r\n",
       "Extra (6%) +\r\n",
       "Construct (17%)</title>\r\n",
       "<ellipse fill=\"none\" stroke=\"black\" cx=\"296.467\" cy=\"-189.995\" rx=\"105.218\" ry=\"105.218\"/>\r\n",
       "<text text-anchor=\"middle\" x=\"296.467\" y=\"-201.295\" font-family=\"Times New Roman,serif\" font-size=\"14.00\">C.w.Feedback (75%) +</text>\r\n",
       "<text text-anchor=\"middle\" x=\"296.467\" y=\"-186.295\" font-family=\"Times New Roman,serif\" font-size=\"14.00\">Extra (6%) +</text>\r\n",
       "<text text-anchor=\"middle\" x=\"296.467\" y=\"-171.295\" font-family=\"Times New Roman,serif\" font-size=\"14.00\">Construct (17%)</text>\r\n",
       "</g>\r\n",
       "<!-- Test (59%) +\r\n",
       "Pause (35%)&#45;&gt;C.w.Feedback (75%) +\r\n",
       "Extra (6%) +\r\n",
       "Construct (17%) -->\r\n",
       "<g id=\"edge2\" class=\"edge\"><title>Test (59%) +\r\n",
       "Pause (35%)&#45;&gt;C.w.Feedback (75%) +\r\n",
       "Extra (6%) +\r\n",
       "Construct (17%)</title>\r\n",
       "<path fill=\"none\" stroke=\"#c7e9b4\" stroke-width=\"2.95761\" d=\"M130.263,-189.995C145.998,-189.995 163.316,-189.995 180.639,-189.995\"/>\r\n",
       "<polygon fill=\"#c7e9b4\" stroke=\"#c7e9b4\" stroke-width=\"2.95761\" points=\"180.826,-193.495 190.826,-189.995 180.826,-186.495 180.826,-193.495\"/>\r\n",
       "<text text-anchor=\"middle\" x=\"160.608\" y=\"-193.795\" font-family=\"Times New Roman,serif\" font-size=\"14.00\">0.19</text>\r\n",
       "</g>\r\n",
       "<!-- Construct (99%) -->\r\n",
       "<g id=\"node3\" class=\"node\"><title>Construct (99%)</title>\r\n",
       "<ellipse fill=\"none\" stroke=\"black\" cx=\"534.319\" cy=\"-321.995\" rx=\"71.4873\" ry=\"71.4873\"/>\r\n",
       "<text text-anchor=\"middle\" x=\"534.319\" y=\"-318.295\" font-family=\"Times New Roman,serif\" font-size=\"14.00\">Construct (99%)</text>\r\n",
       "</g>\r\n",
       "<!-- Test (59%) +\r\n",
       "Pause (35%)&#45;&gt;Construct (99%) -->\r\n",
       "<g id=\"edge3\" class=\"edge\"><title>Test (59%) +\r\n",
       "Pause (35%)&#45;&gt;Construct (99%)</title>\r\n",
       "<path fill=\"none\" stroke=\"#c7e9b4\" stroke-width=\"2.99711\" d=\"M77.111,-254.358C87.8572,-296.399 108.616,-348.745 148.108,-377.995 254.079,-456.487 320.499,-421.971 444.825,-377.995 452.177,-375.395 459.549,-372.094 466.729,-368.4\"/>\r\n",
       "<polygon fill=\"#c7e9b4\" stroke=\"#c7e9b4\" stroke-width=\"2.99711\" points=\"468.581,-371.377 475.704,-363.534 465.245,-365.224 468.581,-371.377\"/>\r\n",
       "<text text-anchor=\"middle\" x=\"296.467\" y=\"-427.795\" font-family=\"Times New Roman,serif\" font-size=\"14.00\">0.20</text>\r\n",
       "</g>\r\n",
       "<!-- Test (97%) -->\r\n",
       "<g id=\"node4\" class=\"node\"><title>Test (97%)</title>\r\n",
       "<ellipse fill=\"none\" stroke=\"black\" cx=\"534.319\" cy=\"-51.9954\" rx=\"51.9908\" ry=\"51.9908\"/>\r\n",
       "<text text-anchor=\"middle\" x=\"534.319\" y=\"-48.2954\" font-family=\"Times New Roman,serif\" font-size=\"14.00\">Test (97%)</text>\r\n",
       "</g>\r\n",
       "<!-- Test (59%) +\r\n",
       "Pause (35%)&#45;&gt;Test (97%) -->\r\n",
       "<g id=\"edge4\" class=\"edge\"><title>Test (59%) +\r\n",
       "Pause (35%)&#45;&gt;Test (97%)</title>\r\n",
       "<path fill=\"none\" stroke=\"#7fcdbb\" stroke-width=\"3.27991\" d=\"M86.1866,-128.172C104.986,-83.306 138.224,-28.2501 191.108,-14.9954 281.95,7.77344 309.052,-2.19165 401.825,-14.9954 426.28,-18.3704 452.589,-25.1184 475.2,-31.9383\"/>\r\n",
       "<polygon fill=\"#7fcdbb\" stroke=\"#7fcdbb\" stroke-width=\"3.27991\" points=\"474.39,-35.3511 484.977,-34.9599 476.457,-28.6632 474.39,-35.3511\"/>\r\n",
       "<text text-anchor=\"middle\" x=\"296.467\" y=\"-18.7954\" font-family=\"Times New Roman,serif\" font-size=\"14.00\">0.26</text>\r\n",
       "</g>\r\n",
       "<!-- C.w.Feedback (75%) +\r\n",
       "Extra (6%) +\r\n",
       "Construct (17%)&#45;&gt;Test (59%) +\r\n",
       "Pause (35%) -->\r\n",
       "<g id=\"edge5\" class=\"edge\"><title>C.w.Feedback (75%) +\r\n",
       "Extra (6%) +\r\n",
       "Construct (17%)&#45;&gt;Test (59%) +\r\n",
       "Pause (35%)</title>\r\n",
       "<path fill=\"none\" stroke=\"#7fcdbb\" stroke-width=\"3.03996\" d=\"M192.854,-170.349C177.854,-169.342 162.588,-169.341 148.108,-170.995 144.912,-171.361 141.659,-171.803 138.383,-172.308\"/>\r\n",
       "<polygon fill=\"#7fcdbb\" stroke=\"#7fcdbb\" stroke-width=\"3.03996\" points=\"137.788,-168.859 128.518,-173.989 138.964,-175.759 137.788,-168.859\"/>\r\n",
       "<text text-anchor=\"middle\" x=\"160.608\" y=\"-174.795\" font-family=\"Times New Roman,serif\" font-size=\"14.00\">0.21</text>\r\n",
       "</g>\r\n",
       "<!-- C.w.Feedback (75%) +\r\n",
       "Extra (6%) +\r\n",
       "Construct (17%)&#45;&gt;C.w.Feedback (75%) +\r\n",
       "Extra (6%) +\r\n",
       "Construct (17%) -->\r\n",
       "<g id=\"edge6\" class=\"edge\"><title>C.w.Feedback (75%) +\r\n",
       "Extra (6%) +\r\n",
       "Construct (17%)&#45;&gt;C.w.Feedback (75%) +\r\n",
       "Extra (6%) +\r\n",
       "Construct (17%)</title>\r\n",
       "<path fill=\"none\" stroke=\"#7fcdbb\" stroke-width=\"3.7898\" d=\"M275.024,-293.485C278.981,-305.523 286.129,-313.354 296.467,-313.354 303.735,-313.354 309.427,-309.482 313.541,-302.999\"/>\r\n",
       "<polygon fill=\"#7fcdbb\" stroke=\"#7fcdbb\" stroke-width=\"3.7898\" points=\"316.918,-304.033 317.91,-293.485 310.556,-301.112 316.918,-304.033\"/>\r\n",
       "<text text-anchor=\"middle\" x=\"296.467\" y=\"-317.154\" font-family=\"Times New Roman,serif\" font-size=\"14.00\">0.36</text>\r\n",
       "</g>\r\n",
       "<!-- C.w.Feedback (75%) +\r\n",
       "Extra (6%) +\r\n",
       "Construct (17%)&#45;&gt;Construct (99%) -->\r\n",
       "<g id=\"edge7\" class=\"edge\"><title>C.w.Feedback (75%) +\r\n",
       "Extra (6%) +\r\n",
       "Construct (17%)&#45;&gt;Construct (99%)</title>\r\n",
       "<path fill=\"none\" stroke=\"#7fcdbb\" stroke-width=\"3.59501\" d=\"M397.293,-220.825C413.66,-227.488 430.075,-235.216 444.825,-243.995 455.137,-250.132 465.364,-257.546 475.006,-265.331\"/>\r\n",
       "<polygon fill=\"#7fcdbb\" stroke=\"#7fcdbb\" stroke-width=\"3.59501\" points=\"473.028,-268.238 482.956,-271.938 477.502,-262.855 473.028,-268.238\"/>\r\n",
       "<text text-anchor=\"middle\" x=\"432.325\" y=\"-247.795\" font-family=\"Times New Roman,serif\" font-size=\"14.00\">0.32</text>\r\n",
       "</g>\r\n",
       "<!-- C.w.Feedback (75%) +\r\n",
       "Extra (6%) +\r\n",
       "Construct (17%)&#45;&gt;Test (97%) -->\r\n",
       "<g id=\"edge8\" class=\"edge\"><title>C.w.Feedback (75%) +\r\n",
       "Extra (6%) +\r\n",
       "Construct (17%)&#45;&gt;Test (97%)</title>\r\n",
       "<path fill=\"none\" stroke=\"#c7e9b4\" stroke-width=\"2.57522\" d=\"M387.979,-137.036C419.141,-118.802 453.007,-98.9871 480.202,-83.0746\"/>\r\n",
       "<polygon fill=\"#c7e9b4\" stroke=\"#c7e9b4\" stroke-width=\"2.57522\" points=\"482.292,-85.9068 489.156,-77.8357 478.757,-79.8651 482.292,-85.9068\"/>\r\n",
       "<text text-anchor=\"middle\" x=\"432.325\" y=\"-119.795\" font-family=\"Times New Roman,serif\" font-size=\"14.00\">0.12</text>\r\n",
       "</g>\r\n",
       "<!-- Construct (99%)&#45;&gt;Test (59%) +\r\n",
       "Pause (35%) -->\r\n",
       "<g id=\"edge9\" class=\"edge\"><title>Construct (99%)&#45;&gt;Test (59%) +\r\n",
       "Pause (35%)</title>\r\n",
       "<path fill=\"none\" stroke=\"#c7e9b4\" stroke-width=\"2.08614\" d=\"M465.811,-342.515C394.126,-360.409 279.233,-377.726 191.108,-336.995 154.271,-319.97 124.3,-286.152 102.942,-255.241\"/>\r\n",
       "<polygon fill=\"#c7e9b4\" stroke=\"#c7e9b4\" stroke-width=\"2.08614\" points=\"105.63,-252.966 97.1479,-246.616 99.819,-256.869 105.63,-252.966\"/>\r\n",
       "<text text-anchor=\"middle\" x=\"296.467\" y=\"-364.795\" font-family=\"Times New Roman,serif\" font-size=\"14.00\">0.02</text>\r\n",
       "</g>\r\n",
       "<!-- Construct (99%)&#45;&gt;C.w.Feedback (75%) +\r\n",
       "Extra (6%) +\r\n",
       "Construct (17%) -->\r\n",
       "<g id=\"edge10\" class=\"edge\"><title>Construct (99%)&#45;&gt;C.w.Feedback (75%) +\r\n",
       "Extra (6%) +\r\n",
       "Construct (17%)</title>\r\n",
       "<path fill=\"none\" stroke=\"#c7e9b4\" stroke-width=\"2.5618\" d=\"M471.429,-287.739C454.67,-278.436 436.542,-268.348 419.825,-258.995 412.559,-254.93 405.055,-250.722 397.505,-246.481\"/>\r\n",
       "<polygon fill=\"#c7e9b4\" stroke=\"#c7e9b4\" stroke-width=\"2.5618\" points=\"399.066,-243.343 388.633,-241.495 395.636,-249.445 399.066,-243.343\"/>\r\n",
       "<text text-anchor=\"middle\" x=\"432.325\" y=\"-275.795\" font-family=\"Times New Roman,serif\" font-size=\"14.00\">0.11</text>\r\n",
       "</g>\r\n",
       "<!-- Construct (99%)&#45;&gt;Construct (99%) -->\r\n",
       "<g id=\"edge11\" class=\"edge\"><title>Construct (99%)&#45;&gt;Construct (99%)</title>\r\n",
       "<path fill=\"none\" stroke=\"#253494\" stroke-width=\"6.35206\" d=\"M516.815,-391.414C519.207,-403.273 525.042,-411.489 534.319,-411.489 540.697,-411.489 545.448,-407.606 548.572,-401.325\"/>\r\n",
       "<polygon fill=\"#253494\" stroke=\"#253494\" stroke-width=\"6.35206\" points=\"553.987,-402.648 551.823,-391.414 543.425,-399.184 553.987,-402.648\"/>\r\n",
       "<text text-anchor=\"middle\" x=\"534.319\" y=\"-415.289\" font-family=\"Times New Roman,serif\" font-size=\"14.00\">0.87</text>\r\n",
       "</g>\r\n",
       "<!-- Test (97%)&#45;&gt;Test (59%) +\r\n",
       "Pause (35%) -->\r\n",
       "<g id=\"edge12\" class=\"edge\"><title>Test (97%)&#45;&gt;Test (59%) +\r\n",
       "Pause (35%)</title>\r\n",
       "<path fill=\"none\" stroke=\"#c7e9b4\" stroke-width=\"2.33428\" d=\"M482.237,-48.6817C399.861,-44.1099 241.787,-38.7507 191.108,-60.9954 158.494,-75.3106 130.094,-102.521 108.638,-128.274\"/>\r\n",
       "<polygon fill=\"#c7e9b4\" stroke=\"#c7e9b4\" stroke-width=\"2.33428\" points=\"105.787,-126.233 102.205,-136.204 111.223,-130.643 105.787,-126.233\"/>\r\n",
       "<text text-anchor=\"middle\" x=\"296.467\" y=\"-64.7954\" font-family=\"Times New Roman,serif\" font-size=\"14.00\">0.07</text>\r\n",
       "</g>\r\n",
       "<!-- Test (97%)&#45;&gt;Test (97%) -->\r\n",
       "<g id=\"edge13\" class=\"edge\"><title>Test (97%)&#45;&gt;Test (97%)</title>\r\n",
       "<path fill=\"none\" stroke=\"#253494\" stroke-width=\"6.66419\" d=\"M515.827,-100.735C517.12,-112.899 523.284,-121.991 534.319,-121.991 542.078,-121.991 547.429,-117.496 550.372,-110.599\"/>\r\n",
       "<polygon fill=\"#253494\" stroke=\"#253494\" stroke-width=\"6.66419\" points=\"556.071,-111.842 552.812,-100.735 544.75,-109.042 556.071,-111.842\"/>\r\n",
       "<text text-anchor=\"middle\" x=\"534.319\" y=\"-125.791\" font-family=\"Times New Roman,serif\" font-size=\"14.00\">0.93</text>\r\n",
       "</g>\r\n",
       "</g>\r\n",
       "</svg>\r\n"
      ],
      "text/plain": [
       "<graphviz.dot.Digraph at 0xdbe92e8>"
      ]
     },
     "execution_count": 17,
     "metadata": {},
     "output_type": "execute_result"
    },
    {
     "data": {
      "text/plain": [
       "<matplotlib.figure.Figure at 0xdbe92b0>"
      ]
     },
     "metadata": {},
     "output_type": "display_data"
    }
   ],
   "source": [
    "draw_states_graph(model_scaff)"
   ]
  },
  {
   "cell_type": "code",
   "execution_count": 18,
   "metadata": {
    "collapsed": false
   },
   "outputs": [
    {
     "data": {
      "image/svg+xml": [
       "<?xml version=\"1.0\" encoding=\"UTF-8\" standalone=\"no\"?>\r\n",
       "<!DOCTYPE svg PUBLIC \"-//W3C//DTD SVG 1.1//EN\"\r\n",
       " \"http://www.w3.org/Graphics/SVG/1.1/DTD/svg11.dtd\">\r\n",
       "<!-- Generated by graphviz version 2.38.0 (20140413.2041)\r\n",
       " -->\r\n",
       "<!-- Title: states Pages: 1 -->\r\n",
       "<svg width=\"758pt\" height=\"333pt\"\r\n",
       " viewBox=\"0.00 0.00 757.89 333.18\" xmlns=\"http://www.w3.org/2000/svg\" xmlns:xlink=\"http://www.w3.org/1999/xlink\">\r\n",
       "<g id=\"graph0\" class=\"graph\" transform=\"scale(1 1) rotate(0) translate(4 329.178)\">\r\n",
       "<title>states</title>\r\n",
       "<polygon fill=\"white\" stroke=\"none\" points=\"-4,4 -4,-329.178 753.886,-329.178 753.886,4 -4,4\"/>\r\n",
       "<!-- Extra (90%) -->\r\n",
       "<g id=\"node1\" class=\"node\"><title>Extra (90%)</title>\r\n",
       "<ellipse fill=\"none\" stroke=\"black\" cx=\"54.5952\" cy=\"-73.8192\" rx=\"54.6905\" ry=\"54.6905\"/>\r\n",
       "<text text-anchor=\"middle\" x=\"54.5952\" y=\"-70.1192\" font-family=\"Times New Roman,serif\" font-size=\"14.00\">Extra (90%)</text>\r\n",
       "</g>\r\n",
       "<!-- Extra (90%)&#45;&gt;Extra (90%) -->\r\n",
       "<g id=\"edge1\" class=\"edge\"><title>Extra (90%)&#45;&gt;Extra (90%)</title>\r\n",
       "<path fill=\"none\" stroke=\"#253494\" stroke-width=\"6.22105\" d=\"M39.2691,-126.351C40.7091,-137.96 45.8178,-146.414 54.5952,-146.414 60.6296,-146.414 64.93,-142.418 67.4964,-136.148\"/>\r\n",
       "<polygon fill=\"#253494\" stroke=\"#253494\" stroke-width=\"6.22105\" points=\"72.8027,-137.366 69.9212,-126.351 62.2347,-134.75 72.8027,-137.366\"/>\r\n",
       "<text text-anchor=\"middle\" x=\"54.5952\" y=\"-150.214\" font-family=\"Times New Roman,serif\" font-size=\"14.00\">0.84</text>\r\n",
       "</g>\r\n",
       "<!-- C.w.Feedback (53%) +\r\n",
       "Pause (10%) +\r\n",
       "Construct (31%) -->\r\n",
       "<g id=\"node2\" class=\"node\"><title>C.w.Feedback (53%) +\r\n",
       "Pause (10%) +\r\n",
       "Construct (31%)</title>\r\n",
       "<ellipse fill=\"none\" stroke=\"black\" cx=\"275.549\" cy=\"-186.819\" rx=\"105.218\" ry=\"105.218\"/>\r\n",
       "<text text-anchor=\"middle\" x=\"275.549\" y=\"-198.119\" font-family=\"Times New Roman,serif\" font-size=\"14.00\">C.w.Feedback (53%) +</text>\r\n",
       "<text text-anchor=\"middle\" x=\"275.549\" y=\"-183.119\" font-family=\"Times New Roman,serif\" font-size=\"14.00\">Pause (10%) +</text>\r\n",
       "<text text-anchor=\"middle\" x=\"275.549\" y=\"-168.119\" font-family=\"Times New Roman,serif\" font-size=\"14.00\">Construct (31%)</text>\r\n",
       "</g>\r\n",
       "<!-- Extra (90%)&#45;&gt;C.w.Feedback (53%) +\r\n",
       "Pause (10%) +\r\n",
       "Construct (31%) -->\r\n",
       "<g id=\"edge2\" class=\"edge\"><title>Extra (90%)&#45;&gt;C.w.Feedback (53%) +\r\n",
       "Pause (10%) +\r\n",
       "Construct (31%)</title>\r\n",
       "<path fill=\"none\" stroke=\"#c7e9b4\" stroke-width=\"2.47048\" d=\"M100.976,-102.77C109.582,-107.956 118.586,-113.18 127.19,-117.819 140.884,-125.202 155.505,-132.602 170.021,-139.669\"/>\r\n",
       "<polygon fill=\"#c7e9b4\" stroke=\"#c7e9b4\" stroke-width=\"2.47048\" points=\"168.509,-142.826 179.036,-144.024 171.554,-136.523 168.509,-142.826\"/>\r\n",
       "<text text-anchor=\"middle\" x=\"139.69\" y=\"-134.619\" font-family=\"Times New Roman,serif\" font-size=\"14.00\">0.09</text>\r\n",
       "</g>\r\n",
       "<!-- Construct (98%) -->\r\n",
       "<g id=\"node3\" class=\"node\"><title>Construct (98%)</title>\r\n",
       "<ellipse fill=\"none\" stroke=\"black\" cx=\"678.393\" cy=\"-120.819\" rx=\"71.4873\" ry=\"71.4873\"/>\r\n",
       "<text text-anchor=\"middle\" x=\"678.393\" y=\"-117.119\" font-family=\"Times New Roman,serif\" font-size=\"14.00\">Construct (98%)</text>\r\n",
       "</g>\r\n",
       "<!-- Extra (90%)&#45;&gt;Construct (98%) -->\r\n",
       "<g id=\"edge3\" class=\"edge\"><title>Extra (90%)&#45;&gt;Construct (98%)</title>\r\n",
       "<path fill=\"none\" stroke=\"#c7e9b4\" stroke-width=\"2.13832\" d=\"M106.16,-54.8258C196.8,-23.7295 391.856,29.6863 545.899,-21.8192 572.333,-30.6576 597.712,-47.1328 619.004,-64.1422\"/>\r\n",
       "<polygon fill=\"#c7e9b4\" stroke=\"#c7e9b4\" stroke-width=\"2.13832\" points=\"617.008,-67.0319 626.957,-70.6726 621.45,-61.6219 617.008,-67.0319\"/>\r\n",
       "<text text-anchor=\"middle\" x=\"411.408\" y=\"-4.6192\" font-family=\"Times New Roman,serif\" font-size=\"14.00\">0.03</text>\r\n",
       "</g>\r\n",
       "<!-- Test (95%) -->\r\n",
       "<g id=\"node4\" class=\"node\"><title>Test (95%)</title>\r\n",
       "<ellipse fill=\"none\" stroke=\"black\" cx=\"493.904\" cy=\"-82.8192\" rx=\"51.9908\" ry=\"51.9908\"/>\r\n",
       "<text text-anchor=\"middle\" x=\"493.904\" y=\"-79.1192\" font-family=\"Times New Roman,serif\" font-size=\"14.00\">Test (95%)</text>\r\n",
       "</g>\r\n",
       "<!-- Extra (90%)&#45;&gt;Test (95%) -->\r\n",
       "<g id=\"edge4\" class=\"edge\"><title>Extra (90%)&#45;&gt;Test (95%)</title>\r\n",
       "<path fill=\"none\" stroke=\"#c7e9b4\" stroke-width=\"2.17015\" d=\"M108.494,-64.872C127.844,-62.0125 149.95,-59.2254 170.19,-57.8192 263.617,-51.3284 287.82,-47.5558 380.908,-57.8192 398.206,-59.7264 416.74,-63.243 433.651,-67.0486\"/>\r\n",
       "<polygon fill=\"#c7e9b4\" stroke=\"#c7e9b4\" stroke-width=\"2.17015\" points=\"432.867,-70.4595 443.4,-69.3126 434.451,-63.641 432.867,-70.4595\"/>\r\n",
       "<text text-anchor=\"middle\" x=\"275.549\" y=\"-61.6192\" font-family=\"Times New Roman,serif\" font-size=\"14.00\">0.03</text>\r\n",
       "</g>\r\n",
       "<!-- C.w.Feedback (53%) +\r\n",
       "Pause (10%) +\r\n",
       "Construct (31%)&#45;&gt;Extra (90%) -->\r\n",
       "<g id=\"edge5\" class=\"edge\"><title>C.w.Feedback (53%) +\r\n",
       "Pause (10%) +\r\n",
       "Construct (31%)&#45;&gt;Extra (90%)</title>\r\n",
       "<path fill=\"none\" stroke=\"#c7e9b4\" stroke-width=\"2.05729\" d=\"M192.508,-121.663C179.489,-113.163 165.813,-105.206 152.19,-98.8192 141.53,-93.8216 129.721,-89.7154 118.125,-86.3796\"/>\r\n",
       "<polygon fill=\"#c7e9b4\" stroke=\"#c7e9b4\" stroke-width=\"2.05729\" points=\"119.032,-82.9993 108.464,-83.7561 117.197,-89.7546 119.032,-82.9993\"/>\r\n",
       "<text text-anchor=\"middle\" x=\"139.69\" y=\"-102.619\" font-family=\"Times New Roman,serif\" font-size=\"14.00\">0.01</text>\r\n",
       "</g>\r\n",
       "<!-- C.w.Feedback (53%) +\r\n",
       "Pause (10%) +\r\n",
       "Construct (31%)&#45;&gt;C.w.Feedback (53%) +\r\n",
       "Pause (10%) +\r\n",
       "Construct (31%) -->\r\n",
       "<g id=\"edge6\" class=\"edge\"><title>C.w.Feedback (53%) +\r\n",
       "Pause (10%) +\r\n",
       "Construct (31%)&#45;&gt;C.w.Feedback (53%) +\r\n",
       "Pause (10%) +\r\n",
       "Construct (31%)</title>\r\n",
       "<path fill=\"none\" stroke=\"#2c7fb8\" stroke-width=\"5.47574\" d=\"M254.106,-290.308C258.064,-302.346 265.211,-310.178 275.549,-310.178 282.818,-310.178 288.51,-306.306 292.624,-299.823\"/>\r\n",
       "<polygon fill=\"#2c7fb8\" stroke=\"#2c7fb8\" stroke-width=\"5.47574\" points=\"297.174,-301.395 296.992,-290.308 288.466,-297.397 297.174,-301.395\"/>\r\n",
       "<text text-anchor=\"middle\" x=\"275.549\" y=\"-313.978\" font-family=\"Times New Roman,serif\" font-size=\"14.00\">0.70</text>\r\n",
       "</g>\r\n",
       "<!-- C.w.Feedback (53%) +\r\n",
       "Pause (10%) +\r\n",
       "Construct (31%)&#45;&gt;Construct (98%) -->\r\n",
       "<g id=\"edge7\" class=\"edge\"><title>C.w.Feedback (53%) +\r\n",
       "Pause (10%) +\r\n",
       "Construct (31%)&#45;&gt;Construct (98%)</title>\r\n",
       "<path fill=\"none\" stroke=\"#c7e9b4\" stroke-width=\"2.83215\" d=\"M380.962,-191.736C431.355,-191.888 492.353,-188.785 545.899,-176.819 565.682,-172.398 586.231,-165.096 605.041,-157.201\"/>\r\n",
       "<polygon fill=\"#c7e9b4\" stroke=\"#c7e9b4\" stroke-width=\"2.83215\" points=\"606.617,-160.333 614.414,-153.16 603.845,-153.905 606.617,-160.333\"/>\r\n",
       "<text text-anchor=\"middle\" x=\"493.904\" y=\"-194.619\" font-family=\"Times New Roman,serif\" font-size=\"14.00\">0.17</text>\r\n",
       "</g>\r\n",
       "<!-- C.w.Feedback (53%) +\r\n",
       "Pause (10%) +\r\n",
       "Construct (31%)&#45;&gt;Test (95%) -->\r\n",
       "<g id=\"edge8\" class=\"edge\"><title>C.w.Feedback (53%) +\r\n",
       "Pause (10%) +\r\n",
       "Construct (31%)&#45;&gt;Test (95%)</title>\r\n",
       "<path fill=\"none\" stroke=\"#c7e9b4\" stroke-width=\"2.63482\" d=\"M363.899,-128.73C375.424,-122.214 387.277,-116.051 398.908,-110.819 409.827,-105.908 421.839,-101.583 433.519,-97.8916\"/>\r\n",
       "<polygon fill=\"#c7e9b4\" stroke=\"#c7e9b4\" stroke-width=\"2.63482\" points=\"434.672,-101.199 443.222,-94.9412 432.636,-94.502 434.672,-101.199\"/>\r\n",
       "<text text-anchor=\"middle\" x=\"411.408\" y=\"-114.619\" font-family=\"Times New Roman,serif\" font-size=\"14.00\">0.13</text>\r\n",
       "</g>\r\n",
       "<!-- Construct (98%)&#45;&gt;C.w.Feedback (53%) +\r\n",
       "Pause (10%) +\r\n",
       "Construct (31%) -->\r\n",
       "<g id=\"edge9\" class=\"edge\"><title>Construct (98%)&#45;&gt;C.w.Feedback (53%) +\r\n",
       "Pause (10%) +\r\n",
       "Construct (31%)</title>\r\n",
       "<path fill=\"none\" stroke=\"#c7e9b4\" stroke-width=\"2.61436\" d=\"M624.347,-167.641C601.786,-184.499 574.175,-201.424 545.899,-209.819 495.284,-224.846 437.138,-222.224 387.856,-214.563\"/>\r\n",
       "<polygon fill=\"#c7e9b4\" stroke=\"#c7e9b4\" stroke-width=\"2.61436\" points=\"388.236,-211.079 377.801,-212.912 387.102,-217.986 388.236,-211.079\"/>\r\n",
       "<text text-anchor=\"middle\" x=\"493.904\" y=\"-223.619\" font-family=\"Times New Roman,serif\" font-size=\"14.00\">0.12</text>\r\n",
       "</g>\r\n",
       "<!-- Construct (98%)&#45;&gt;Construct (98%) -->\r\n",
       "<g id=\"edge10\" class=\"edge\"><title>Construct (98%)&#45;&gt;Construct (98%)</title>\r\n",
       "<path fill=\"none\" stroke=\"#253494\" stroke-width=\"6.32044\" d=\"M660.889,-190.238C663.281,-202.097 669.115,-210.313 678.393,-210.313 684.771,-210.313 689.522,-206.429 692.645,-200.149\"/>\r\n",
       "<polygon fill=\"#253494\" stroke=\"#253494\" stroke-width=\"6.32044\" points=\"698.034,-201.463 695.896,-190.238 687.525,-198.016 698.034,-201.463\"/>\r\n",
       "<text text-anchor=\"middle\" x=\"678.393\" y=\"-214.113\" font-family=\"Times New Roman,serif\" font-size=\"14.00\">0.86</text>\r\n",
       "</g>\r\n",
       "<!-- Construct (98%)&#45;&gt;Test (95%) -->\r\n",
       "<g id=\"edge11\" class=\"edge\"><title>Construct (98%)&#45;&gt;Test (95%)</title>\r\n",
       "<path fill=\"none\" stroke=\"#c7e9b4\" stroke-width=\"2.05334\" d=\"M613.059,-90.5988C605.065,-87.8394 596.89,-85.4669 588.899,-83.8192 578.375,-81.6494 567.046,-80.5296 556.023,-80.0632\"/>\r\n",
       "<polygon fill=\"#c7e9b4\" stroke=\"#c7e9b4\" stroke-width=\"2.05334\" points=\"556.104,-76.5642 546.018,-79.8072 555.925,-83.5619 556.104,-76.5642\"/>\r\n",
       "<text text-anchor=\"middle\" x=\"576.399\" y=\"-87.6192\" font-family=\"Times New Roman,serif\" font-size=\"14.00\">0.01</text>\r\n",
       "</g>\r\n",
       "<!-- Test (95%)&#45;&gt;C.w.Feedback (53%) +\r\n",
       "Pause (10%) +\r\n",
       "Construct (31%) -->\r\n",
       "<g id=\"edge12\" class=\"edge\"><title>Test (95%)&#45;&gt;C.w.Feedback (53%) +\r\n",
       "Pause (10%) +\r\n",
       "Construct (31%)</title>\r\n",
       "<path fill=\"none\" stroke=\"#c7e9b4\" stroke-width=\"2.36902\" d=\"M450.107,-111.003C441.574,-116.19 432.569,-121.366 423.908,-125.819 411.103,-132.403 397.421,-138.829 383.745,-144.889\"/>\r\n",
       "<polygon fill=\"#c7e9b4\" stroke=\"#c7e9b4\" stroke-width=\"2.36902\" points=\"382.049,-141.811 374.289,-149.024 384.854,-148.224 382.049,-141.811\"/>\r\n",
       "<text text-anchor=\"middle\" x=\"411.408\" y=\"-141.619\" font-family=\"Times New Roman,serif\" font-size=\"14.00\">0.07</text>\r\n",
       "</g>\r\n",
       "<!-- Test (95%)&#45;&gt;Construct (98%) -->\r\n",
       "<g id=\"edge13\" class=\"edge\"><title>Test (95%)&#45;&gt;Construct (98%)</title>\r\n",
       "<path fill=\"none\" stroke=\"#c7e9b4\" stroke-width=\"2.15936\" d=\"M544.601,-94.5716C551.085,-96.038 557.645,-97.4884 563.899,-98.8192 574.907,-101.162 586.538,-103.533 597.99,-105.809\"/>\r\n",
       "<polygon fill=\"#c7e9b4\" stroke=\"#c7e9b4\" stroke-width=\"2.15936\" points=\"597.501,-109.28 607.989,-107.782 598.855,-102.412 597.501,-109.28\"/>\r\n",
       "<text text-anchor=\"middle\" x=\"576.399\" y=\"-108.619\" font-family=\"Times New Roman,serif\" font-size=\"14.00\">0.03</text>\r\n",
       "</g>\r\n",
       "<!-- Test (95%)&#45;&gt;Test (95%) -->\r\n",
       "<g id=\"edge14\" class=\"edge\"><title>Test (95%)&#45;&gt;Test (95%)</title>\r\n",
       "<path fill=\"none\" stroke=\"#253494\" stroke-width=\"6.44624\" d=\"M478.867,-132.839C480.163,-144.355 485.175,-152.815 493.904,-152.815 499.904,-152.815 504.149,-148.816 506.636,-142.575\"/>\r\n",
       "<polygon fill=\"#253494\" stroke=\"#253494\" stroke-width=\"6.44624\" points=\"512.126,-143.869 508.94,-132.839 501.148,-141.271 512.126,-143.869\"/>\r\n",
       "<text text-anchor=\"middle\" x=\"493.904\" y=\"-156.615\" font-family=\"Times New Roman,serif\" font-size=\"14.00\">0.89</text>\r\n",
       "</g>\r\n",
       "</g>\r\n",
       "</svg>\r\n"
      ],
      "text/plain": [
       "<graphviz.dot.Digraph at 0xdbe9588>"
      ]
     },
     "execution_count": 18,
     "metadata": {},
     "output_type": "execute_result"
    },
    {
     "data": {
      "text/plain": [
       "<matplotlib.figure.Figure at 0x4431320>"
      ]
     },
     "metadata": {},
     "output_type": "display_data"
    }
   ],
   "source": [
    "draw_states_graph(model_not)"
   ]
  },
  {
   "cell_type": "markdown",
   "metadata": {},
   "source": [
    "Clearly, scaffolded students do switch from a state of Test + Pause to Construct with Feedback and later Construct. Not scaffolded students go from a Pause and Construct with Feedback state to Constructing state and occasionaly enter a Testing state."
   ]
  },
  {
   "cell_type": "markdown",
   "metadata": {},
   "source": [
    "#### Now let's see if the treatment differences transfered to activity 2"
   ]
  },
  {
   "cell_type": "code",
   "execution_count": 19,
   "metadata": {
    "collapsed": false
   },
   "outputs": [
    {
     "name": "stdout",
     "output_type": "stream",
     "text": [
      "Model with 4 hidden states converged after 1 tries, with 160 iterations\n",
      "Model with 4 hidden states converged after 1 tries, with 300 iterations\n",
      "-11148.8396457 -11899.4859981\n"
     ]
    }
   ],
   "source": [
    "ACTIVITY = 'a2'\n",
    "\n",
    "blocks_scaff = get_non_blocks(df[df.Activity==ACTIVITY],get_students(\"scaffolding\",\"scaff\"),add_spaces=True, ignore = ACTIONS_TO_REMOVE, start = False)\n",
    "blocks_not = get_non_blocks(df[df.Activity==ACTIVITY],get_students(\"scaffolding\",\"not\"),add_spaces=True, ignore = ACTIONS_TO_REMOVE, start = False)\n",
    "X_scaff, lengths_scaff = prepare_data(blocks_scaff)\n",
    "X_not, lengths_not = prepare_data(blocks_not)\n",
    "\n",
    "N = 4\n",
    "model_scaff = get_model(X_scaff, lengths_scaff, N)\n",
    "model_not = get_model(X_not, lengths_not, N)\n",
    "\n",
    "print model_scaff.score(X_scaff,lengths_scaff), model_not.score(X_not,lengths_not)"
   ]
  },
  {
   "cell_type": "code",
   "execution_count": 20,
   "metadata": {
    "collapsed": false
   },
   "outputs": [
    {
     "data": {
      "text/plain": [
       "<matplotlib.figure.Figure at 0x10da6e48>"
      ]
     },
     "metadata": {},
     "output_type": "display_data"
    }
   ],
   "source": [
    "draw_states_graph(model_scaff)"
   ]
  },
  {
   "cell_type": "code",
   "execution_count": 21,
   "metadata": {
    "collapsed": false
   },
   "outputs": [
    {
     "data": {
      "text/plain": [
       "<matplotlib.figure.Figure at 0xab0fa58>"
      ]
     },
     "metadata": {},
     "output_type": "display_data"
    }
   ],
   "source": [
    "draw_states_graph(model_not)"
   ]
  },
  {
   "cell_type": "markdown",
   "metadata": {},
   "source": [
    "### Let's compare students by learning"
   ]
  },
  {
   "cell_type": "code",
   "execution_count": 22,
   "metadata": {
    "collapsed": true
   },
   "outputs": [],
   "source": [
    "ACTIVITY = 'a2'\n",
    "\n",
    "blocks_high = get_non_blocks(df[df.Activity==ACTIVITY],get_students(\"learning2\",\"high\"),add_spaces=True, ignore = ACTIONS_TO_REMOVE, start = False)\n",
    "blocks_low = get_non_blocks(df[df.Activity==ACTIVITY],get_students(\"learning2\",\"low\"),add_spaces=True, ignore = ACTIONS_TO_REMOVE, start = False)\n",
    "X_high, lengths_high = prepare_data(blocks_high)\n",
    "X_low, lengths_low = prepare_data(blocks_low)"
   ]
  },
  {
   "cell_type": "code",
   "execution_count": 23,
   "metadata": {
    "collapsed": false
   },
   "outputs": [
    {
     "name": "stdout",
     "output_type": "stream",
     "text": [
      "Model with 4 hidden states converged after 1 tries, with 300 iterations\n",
      "Model with 4 hidden states converged after 1 tries, with 181 iterations\n",
      "-11054.049315 -12077.8474446\n"
     ]
    }
   ],
   "source": [
    "N = 4\n",
    "model_high = get_model(X_high, lengths_high, N)\n",
    "model_low = get_model(X_low, lengths_low, N)\n",
    "print model_high.score(X_high,lengths_high), model_low.score(X_low,lengths_low)"
   ]
  },
  {
   "cell_type": "code",
   "execution_count": 24,
   "metadata": {
    "collapsed": false
   },
   "outputs": [
    {
     "data": {
      "text/plain": [
       "<matplotlib.figure.Figure at 0x107d9e48>"
      ]
     },
     "metadata": {},
     "output_type": "display_data"
    }
   ],
   "source": [
    "draw_states_graph(model_high)"
   ]
  },
  {
   "cell_type": "code",
   "execution_count": 25,
   "metadata": {
    "collapsed": false
   },
   "outputs": [
    {
     "data": {
      "image/svg+xml": [
       "<?xml version=\"1.0\" encoding=\"UTF-8\" standalone=\"no\"?>\r\n",
       "<!DOCTYPE svg PUBLIC \"-//W3C//DTD SVG 1.1//EN\"\r\n",
       " \"http://www.w3.org/Graphics/SVG/1.1/DTD/svg11.dtd\">\r\n",
       "<!-- Generated by graphviz version 2.38.0 (20140413.2041)\r\n",
       " -->\r\n",
       "<!-- Title: states Pages: 1 -->\r\n",
       "<svg width=\"859pt\" height=\"390pt\"\r\n",
       " viewBox=\"0.00 0.00 859.41 389.72\" xmlns=\"http://www.w3.org/2000/svg\" xmlns:xlink=\"http://www.w3.org/1999/xlink\">\r\n",
       "<g id=\"graph0\" class=\"graph\" transform=\"scale(1 1) rotate(0) translate(4 385.718)\">\r\n",
       "<title>states</title>\r\n",
       "<polygon fill=\"white\" stroke=\"none\" points=\"-4,4 -4,-385.718 855.414,-385.718 855.414,4 -4,4\"/>\r\n",
       "<!-- C.w.Feedback (10%) +\r\n",
       "Pause (5%) +\r\n",
       "Extra (79%) -->\r\n",
       "<g id=\"node1\" class=\"node\"><title>C.w.Feedback (10%) +\r\n",
       "Pause (5%) +\r\n",
       "Extra (79%)</title>\r\n",
       "<ellipse fill=\"none\" stroke=\"black\" cx=\"105.359\" cy=\"-105.359\" rx=\"105.218\" ry=\"105.218\"/>\r\n",
       "<text text-anchor=\"middle\" x=\"105.359\" y=\"-116.659\" font-family=\"Times New Roman,serif\" font-size=\"14.00\">C.w.Feedback (10%) +</text>\r\n",
       "<text text-anchor=\"middle\" x=\"105.359\" y=\"-101.659\" font-family=\"Times New Roman,serif\" font-size=\"14.00\">Pause (5%) +</text>\r\n",
       "<text text-anchor=\"middle\" x=\"105.359\" y=\"-86.6589\" font-family=\"Times New Roman,serif\" font-size=\"14.00\">Extra (79%)</text>\r\n",
       "</g>\r\n",
       "<!-- C.w.Feedback (10%) +\r\n",
       "Pause (5%) +\r\n",
       "Extra (79%)&#45;&gt;C.w.Feedback (10%) +\r\n",
       "Pause (5%) +\r\n",
       "Extra (79%) -->\r\n",
       "<g id=\"edge1\" class=\"edge\"><title>C.w.Feedback (10%) +\r\n",
       "Pause (5%) +\r\n",
       "Extra (79%)&#45;&gt;C.w.Feedback (10%) +\r\n",
       "Pause (5%) +\r\n",
       "Extra (79%)</title>\r\n",
       "<path fill=\"none\" stroke=\"#253494\" stroke-width=\"6.00701\" d=\"M83.9159,-208.848C87.8733,-220.886 95.021,-228.718 105.359,-228.718 112.628,-228.718 118.319,-224.846 122.434,-218.362\"/>\r\n",
       "<polygon fill=\"#253494\" stroke=\"#253494\" stroke-width=\"6.00701\" points=\"127.406,-220.129 126.802,-208.848 117.853,-215.743 127.406,-220.129\"/>\r\n",
       "<text text-anchor=\"middle\" x=\"105.359\" y=\"-232.518\" font-family=\"Times New Roman,serif\" font-size=\"14.00\">0.80</text>\r\n",
       "</g>\r\n",
       "<!-- C.w.Feedback (81%) +\r\n",
       "Pause (8%) +\r\n",
       "Construct (9%) -->\r\n",
       "<g id=\"node2\" class=\"node\"><title>C.w.Feedback (81%) +\r\n",
       "Pause (8%) +\r\n",
       "Construct (9%)</title>\r\n",
       "<ellipse fill=\"none\" stroke=\"black\" cx=\"377.077\" cy=\"-243.359\" rx=\"105.218\" ry=\"105.218\"/>\r\n",
       "<text text-anchor=\"middle\" x=\"377.077\" y=\"-254.659\" font-family=\"Times New Roman,serif\" font-size=\"14.00\">C.w.Feedback (81%) +</text>\r\n",
       "<text text-anchor=\"middle\" x=\"377.077\" y=\"-239.659\" font-family=\"Times New Roman,serif\" font-size=\"14.00\">Pause (8%) +</text>\r\n",
       "<text text-anchor=\"middle\" x=\"377.077\" y=\"-224.659\" font-family=\"Times New Roman,serif\" font-size=\"14.00\">Construct (9%)</text>\r\n",
       "</g>\r\n",
       "<!-- C.w.Feedback (10%) +\r\n",
       "Pause (5%) +\r\n",
       "Extra (79%)&#45;&gt;C.w.Feedback (81%) +\r\n",
       "Pause (8%) +\r\n",
       "Construct (9%) -->\r\n",
       "<g id=\"edge2\" class=\"edge\"><title>C.w.Feedback (10%) +\r\n",
       "Pause (5%) +\r\n",
       "Extra (79%)&#45;&gt;C.w.Feedback (81%) +\r\n",
       "Pause (8%) +\r\n",
       "Construct (9%)</title>\r\n",
       "<path fill=\"none\" stroke=\"#c7e9b4\" stroke-width=\"2.12236\" d=\"M199.558,-153.044C223.562,-165.325 249.518,-178.605 273.948,-191.105\"/>\r\n",
       "<polygon fill=\"#c7e9b4\" stroke=\"#c7e9b4\" stroke-width=\"2.12236\" points=\"272.377,-194.233 282.874,-195.672 275.566,-188.001 272.377,-194.233\"/>\r\n",
       "<text text-anchor=\"middle\" x=\"241.218\" y=\"-182.159\" font-family=\"Times New Roman,serif\" font-size=\"14.00\">0.02</text>\r\n",
       "</g>\r\n",
       "<!-- Construct (95%) -->\r\n",
       "<g id=\"node3\" class=\"node\"><title>Construct (95%)</title>\r\n",
       "<ellipse fill=\"none\" stroke=\"black\" cx=\"614.929\" cy=\"-140.359\" rx=\"71.4873\" ry=\"71.4873\"/>\r\n",
       "<text text-anchor=\"middle\" x=\"614.929\" y=\"-136.659\" font-family=\"Times New Roman,serif\" font-size=\"14.00\">Construct (95%)</text>\r\n",
       "</g>\r\n",
       "<!-- C.w.Feedback (10%) +\r\n",
       "Pause (5%) +\r\n",
       "Extra (79%)&#45;&gt;Construct (95%) -->\r\n",
       "<g id=\"edge3\" class=\"edge\"><title>C.w.Feedback (10%) +\r\n",
       "Pause (5%) +\r\n",
       "Extra (79%)&#45;&gt;Construct (95%)</title>\r\n",
       "<path fill=\"none\" stroke=\"#c7e9b4\" stroke-width=\"2.49392\" d=\"M210.838,-103.077C286.482,-102.588 391.063,-104.307 482.436,-114.359 499.548,-116.241 517.752,-119.207 534.986,-122.473\"/>\r\n",
       "<polygon fill=\"#c7e9b4\" stroke=\"#c7e9b4\" stroke-width=\"2.49392\" points=\"534.522,-125.948 545.006,-124.425 535.86,-119.077 534.522,-125.948\"/>\r\n",
       "<text text-anchor=\"middle\" x=\"377.077\" y=\"-118.159\" font-family=\"Times New Roman,serif\" font-size=\"14.00\">0.10</text>\r\n",
       "</g>\r\n",
       "<!-- Test (94%) -->\r\n",
       "<g id=\"node4\" class=\"node\"><title>Test (94%)</title>\r\n",
       "<ellipse fill=\"none\" stroke=\"black\" cx=\"799.418\" cy=\"-178.359\" rx=\"51.9908\" ry=\"51.9908\"/>\r\n",
       "<text text-anchor=\"middle\" x=\"799.418\" y=\"-174.659\" font-family=\"Times New Roman,serif\" font-size=\"14.00\">Test (94%)</text>\r\n",
       "</g>\r\n",
       "<!-- C.w.Feedback (10%) +\r\n",
       "Pause (5%) +\r\n",
       "Extra (79%)&#45;&gt;Test (94%) -->\r\n",
       "<g id=\"edge4\" class=\"edge\"><title>C.w.Feedback (10%) +\r\n",
       "Pause (5%) +\r\n",
       "Extra (79%)&#45;&gt;Test (94%)</title>\r\n",
       "<path fill=\"none\" stroke=\"#c7e9b4\" stroke-width=\"2.37671\" d=\"M205.085,-70.6683C324.324,-34.7274 528.535,7.46773 686.423,-60.3589 718.153,-73.9896 745.121,-101.517 764.638,-126.557\"/>\r\n",
       "<polygon fill=\"#c7e9b4\" stroke=\"#c7e9b4\" stroke-width=\"2.37671\" points=\"761.884,-128.718 770.709,-134.579 767.465,-124.493 761.884,-128.718\"/>\r\n",
       "<text text-anchor=\"middle\" x=\"512.936\" y=\"-29.1589\" font-family=\"Times New Roman,serif\" font-size=\"14.00\">0.08</text>\r\n",
       "</g>\r\n",
       "<!-- C.w.Feedback (81%) +\r\n",
       "Pause (8%) +\r\n",
       "Construct (9%)&#45;&gt;C.w.Feedback (81%) +\r\n",
       "Pause (8%) +\r\n",
       "Construct (9%) -->\r\n",
       "<g id=\"edge5\" class=\"edge\"><title>C.w.Feedback (81%) +\r\n",
       "Pause (8%) +\r\n",
       "Construct (9%)&#45;&gt;C.w.Feedback (81%) +\r\n",
       "Pause (8%) +\r\n",
       "Construct (9%)</title>\r\n",
       "<path fill=\"none\" stroke=\"#2c7fb8\" stroke-width=\"5.32252\" d=\"M355.634,-346.848C359.591,-358.886 366.739,-366.718 377.077,-366.718 384.346,-366.718 390.037,-362.846 394.152,-356.362\"/>\r\n",
       "<polygon fill=\"#2c7fb8\" stroke=\"#2c7fb8\" stroke-width=\"5.32252\" points=\"398.58,-357.879 398.52,-346.848 390.115,-353.993 398.58,-357.879\"/>\r\n",
       "<text text-anchor=\"middle\" x=\"377.077\" y=\"-370.518\" font-family=\"Times New Roman,serif\" font-size=\"14.00\">0.66</text>\r\n",
       "</g>\r\n",
       "<!-- C.w.Feedback (81%) +\r\n",
       "Pause (8%) +\r\n",
       "Construct (9%)&#45;&gt;Construct (95%) -->\r\n",
       "<g id=\"edge6\" class=\"edge\"><title>C.w.Feedback (81%) +\r\n",
       "Pause (8%) +\r\n",
       "Construct (9%)&#45;&gt;Construct (95%)</title>\r\n",
       "<path fill=\"none\" stroke=\"#c7e9b4\" stroke-width=\"2.79823\" d=\"M477.219,-209.419C493.503,-203.164 510.07,-196.378 525.436,-189.359 531.446,-186.614 537.601,-183.617 543.728,-180.502\"/>\r\n",
       "<polygon fill=\"#c7e9b4\" stroke=\"#c7e9b4\" stroke-width=\"2.79823\" points=\"545.399,-183.578 552.666,-175.869 542.177,-177.364 545.399,-183.578\"/>\r\n",
       "<text text-anchor=\"middle\" x=\"512.936\" y=\"-203.159\" font-family=\"Times New Roman,serif\" font-size=\"14.00\">0.16</text>\r\n",
       "</g>\r\n",
       "<!-- C.w.Feedback (81%) +\r\n",
       "Pause (8%) +\r\n",
       "Construct (9%)&#45;&gt;Test (94%) -->\r\n",
       "<g id=\"edge7\" class=\"edge\"><title>C.w.Feedback (81%) +\r\n",
       "Pause (8%) +\r\n",
       "Construct (9%)&#45;&gt;Test (94%)</title>\r\n",
       "<path fill=\"none\" stroke=\"#c7e9b4\" stroke-width=\"2.85332\" d=\"M472.037,-289.419C547.401,-319.171 652.869,-343.968 729.423,-294.359 750.5,-280.7 766.023,-258.143 776.948,-236.534\"/>\r\n",
       "<polygon fill=\"#c7e9b4\" stroke=\"#c7e9b4\" stroke-width=\"2.85332\" points=\"780.179,-237.89 781.351,-227.36 773.868,-234.861 780.179,-237.89\"/>\r\n",
       "<text text-anchor=\"middle\" x=\"614.929\" y=\"-326.159\" font-family=\"Times New Roman,serif\" font-size=\"14.00\">0.17</text>\r\n",
       "</g>\r\n",
       "<!-- Construct (95%)&#45;&gt;C.w.Feedback (81%) +\r\n",
       "Pause (8%) +\r\n",
       "Construct (9%) -->\r\n",
       "<g id=\"edge8\" class=\"edge\"><title>Construct (95%)&#45;&gt;C.w.Feedback (81%) +\r\n",
       "Pause (8%) +\r\n",
       "Construct (9%)</title>\r\n",
       "<path fill=\"none\" stroke=\"#c7e9b4\" stroke-width=\"2.54215\" d=\"M544.782,-155.338C529.893,-159.47 514.431,-164.472 500.436,-170.359 492.063,-173.881 483.575,-177.894 475.177,-182.185\"/>\r\n",
       "<polygon fill=\"#c7e9b4\" stroke=\"#c7e9b4\" stroke-width=\"2.54215\" points=\"473.34,-179.197 466.11,-186.941 476.591,-185.396 473.34,-179.197\"/>\r\n",
       "<text text-anchor=\"middle\" x=\"512.936\" y=\"-174.159\" font-family=\"Times New Roman,serif\" font-size=\"14.00\">0.11</text>\r\n",
       "</g>\r\n",
       "<!-- Construct (95%)&#45;&gt;Construct (95%) -->\r\n",
       "<g id=\"edge9\" class=\"edge\"><title>Construct (95%)&#45;&gt;Construct (95%)</title>\r\n",
       "<path fill=\"none\" stroke=\"#253494\" stroke-width=\"6.35668\" d=\"M597.426,-209.778C599.817,-221.636 605.652,-229.853 614.929,-229.853 621.307,-229.853 626.058,-225.969 629.182,-219.688\"/>\r\n",
       "<polygon fill=\"#253494\" stroke=\"#253494\" stroke-width=\"6.35668\" points=\"634.601,-221.013 632.433,-209.778 624.031,-217.546 634.601,-221.013\"/>\r\n",
       "<text text-anchor=\"middle\" x=\"614.929\" y=\"-233.653\" font-family=\"Times New Roman,serif\" font-size=\"14.00\">0.87</text>\r\n",
       "</g>\r\n",
       "<!-- Construct (95%)&#45;&gt;Test (94%) -->\r\n",
       "<g id=\"edge10\" class=\"edge\"><title>Construct (95%)&#45;&gt;Test (94%)</title>\r\n",
       "<path fill=\"none\" stroke=\"#c7e9b4\" stroke-width=\"2.08716\" d=\"M686.54,-135.726C700.896,-136.246 715.774,-137.866 729.423,-141.359 734.772,-142.728 740.161,-144.594 745.443,-146.765\"/>\r\n",
       "<polygon fill=\"#c7e9b4\" stroke=\"#c7e9b4\" stroke-width=\"2.08716\" points=\"744.245,-150.064 754.802,-150.961 747.109,-143.676 744.245,-150.064\"/>\r\n",
       "<text text-anchor=\"middle\" x=\"716.923\" y=\"-145.159\" font-family=\"Times New Roman,serif\" font-size=\"14.00\">0.02</text>\r\n",
       "</g>\r\n",
       "<!-- Test (94%)&#45;&gt;C.w.Feedback (81%) +\r\n",
       "Pause (8%) +\r\n",
       "Construct (9%) -->\r\n",
       "<g id=\"edge11\" class=\"edge\"><title>Test (94%)&#45;&gt;C.w.Feedback (81%) +\r\n",
       "Pause (8%) +\r\n",
       "Construct (9%)</title>\r\n",
       "<path fill=\"none\" stroke=\"#c7e9b4\" stroke-width=\"2.33624\" d=\"M759.926,-212.457C739.578,-228.204 713.291,-245.194 686.423,-253.359 623.688,-272.425 550.443,-270.969 491.084,-264.259\"/>\r\n",
       "<polygon fill=\"#c7e9b4\" stroke=\"#c7e9b4\" stroke-width=\"2.33624\" points=\"491.272,-260.757 480.927,-263.045 490.441,-267.707 491.272,-260.757\"/>\r\n",
       "<text text-anchor=\"middle\" x=\"614.929\" y=\"-272.159\" font-family=\"Times New Roman,serif\" font-size=\"14.00\">0.07</text>\r\n",
       "</g>\r\n",
       "<!-- Test (94%)&#45;&gt;Construct (95%) -->\r\n",
       "<g id=\"edge12\" class=\"edge\"><title>Test (94%)&#45;&gt;Construct (95%)</title>\r\n",
       "<path fill=\"none\" stroke=\"#c7e9b4\" stroke-width=\"2.13967\" d=\"M748.243,-167.911C731.816,-164.49 713.145,-160.602 695.114,-156.848\"/>\r\n",
       "<polygon fill=\"#c7e9b4\" stroke=\"#c7e9b4\" stroke-width=\"2.13967\" points=\"695.684,-153.391 685.181,-154.779 694.257,-160.244 695.684,-153.391\"/>\r\n",
       "<text text-anchor=\"middle\" x=\"716.923\" y=\"-167.159\" font-family=\"Times New Roman,serif\" font-size=\"14.00\">0.03</text>\r\n",
       "</g>\r\n",
       "<!-- Test (94%)&#45;&gt;Test (94%) -->\r\n",
       "<g id=\"edge13\" class=\"edge\"><title>Test (94%)&#45;&gt;Test (94%)</title>\r\n",
       "<path fill=\"none\" stroke=\"#253494\" stroke-width=\"6.51067\" d=\"M784.382,-228.378C785.678,-239.895 790.69,-248.354 799.418,-248.354 805.419,-248.354 809.663,-244.356 812.151,-238.114\"/>\r\n",
       "<polygon fill=\"#253494\" stroke=\"#253494\" stroke-width=\"6.51067\" points=\"817.696,-239.421 814.455,-228.378 806.608,-236.798 817.696,-239.421\"/>\r\n",
       "<text text-anchor=\"middle\" x=\"799.418\" y=\"-252.154\" font-family=\"Times New Roman,serif\" font-size=\"14.00\">0.90</text>\r\n",
       "</g>\r\n",
       "</g>\r\n",
       "</svg>\r\n"
      ],
      "text/plain": [
       "<graphviz.dot.Digraph at 0x10da66d8>"
      ]
     },
     "execution_count": 25,
     "metadata": {},
     "output_type": "execute_result"
    },
    {
     "data": {
      "text/plain": [
       "<matplotlib.figure.Figure at 0xab0f828>"
      ]
     },
     "metadata": {},
     "output_type": "display_data"
    }
   ],
   "source": [
    "draw_states_graph(model_low, save=True)"
   ]
  },
  {
   "cell_type": "code",
   "execution_count": null,
   "metadata": {
    "collapsed": true
   },
   "outputs": [],
   "source": []
  },
  {
   "cell_type": "code",
   "execution_count": null,
   "metadata": {
    "collapsed": true
   },
   "outputs": [],
   "source": []
  },
  {
   "cell_type": "code",
   "execution_count": null,
   "metadata": {
    "collapsed": true
   },
   "outputs": [],
   "source": []
  },
  {
   "cell_type": "code",
   "execution_count": null,
   "metadata": {
    "collapsed": true
   },
   "outputs": [],
   "source": []
  }
 ],
 "metadata": {
  "anaconda-cloud": {},
  "kernelspec": {
   "display_name": "Python 2",
   "language": "python",
   "name": "python2"
  },
  "language_info": {
   "codemirror_mode": {
    "name": "ipython",
    "version": 2
   },
   "file_extension": ".py",
   "mimetype": "text/x-python",
   "name": "python",
   "nbconvert_exporter": "python",
   "pygments_lexer": "ipython2",
   "version": "2.7.12"
  }
 },
 "nbformat": 4,
 "nbformat_minor": 0
}
