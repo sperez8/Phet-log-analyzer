{
 "cells": [
  {
   "cell_type": "code",
   "execution_count": 112,
   "metadata": {
    "collapsed": false
   },
   "outputs": [],
   "source": [
    "import numpy as np\n",
    "import pandas as pd\n",
    "import sys\n",
    "import getpass\n",
    "import re\n",
    "from functions import *\n",
    "from collections import Counter\n",
    "import copy\n",
    "np.set_printoptions(precision=2)\n",
    "pd.set_option('precision', 2)\n",
    "%matplotlib inline\n",
    "matplotlib.style.use('ggplot')"
   ]
  },
  {
   "cell_type": "code",
   "execution_count": 113,
   "metadata": {
    "collapsed": true
   },
   "outputs": [],
   "source": [
    "df = pd.read_csv('C:\\Users\\\\'+getpass.getuser()+'\\\\Google Drive\\Sarah Ido folder\\data\\CCK\\MATCHING_phet_cck_user_actions+sophistication_WITHPAUSE_anonymized.txt')\n",
    "df_scores = pd.read_csv('C:\\Users\\\\'+getpass.getuser()+'\\\\Google Drive\\Sarah Ido folder\\data\\CCK\\MATCHING_phet_cck_user_data_anonymized.txt')\n",
    "df[\"student\"] = df[\"student\"].astype('category')\n",
    "df_scores[\"student\"] = df_scores[\"student\"].astype('category')\n",
    "df[\"Family\"]=df[\"Family\"].str.capitalize()"
   ]
  },
  {
   "cell_type": "markdown",
   "metadata": {
    "collapsed": false
   },
   "source": [
    "Let's get the sequences by students in blocks of actions."
   ]
  },
  {
   "cell_type": "code",
   "execution_count": 144,
   "metadata": {
    "collapsed": false
   },
   "outputs": [],
   "source": [
    "def get_blocks(df, students):\n",
    "    '''gets blocks of sequences a list of students'''\n",
    "    def convert(action):\n",
    "        if action == 'Reset':\n",
    "            return 'X'\n",
    "#         if action == \"Organize\" or action == \"Build\":\n",
    "#             return 'M'\n",
    "        else: \n",
    "            return action[0]\n",
    "    \n",
    "    blocks = {student:'S' for student in students}\n",
    "    for student in students:\n",
    "        sequence =  list(df[df['student']==student]['Family'])\n",
    "        blocks[student] += re.sub(r'(.)\\1+', r'\\1',''.join([convert(action) for action in sequence]))\n",
    "    return blocks\n",
    "\n",
    "def get_frequencies(blocks, shortest=3, longest=11):\n",
    "    frequencies = {student:Counter() for student in blocks.keys()}\n",
    "    for student,sequence in blocks.iteritems():\n",
    "        for seq_length in range(shortest, longest+1):  # loops through different possible sequence lengths\n",
    "            frequencies[student] += Counter(sequence[i:i+seq_length] for i in range(len(sequence)-seq_length-1))  # counts string matches for every string of the current length\n",
    "    return frequencies\n",
    "\n",
    "def remove_rare_frequencies(frequencies, N=2):\n",
    "    new_frequencies = copy.copy(frequencies)\n",
    "    for k in list(new_frequencies):\n",
    "            if new_frequencies[k] < N:\n",
    "                del new_frequencies[k]\n",
    "    return new_frequencies\n",
    "\n",
    "def remove_omni_frequencies(frequencies, N=96):\n",
    "    new_frequencies = copy.copy(frequencies)\n",
    "    for k in list(new_frequencies):\n",
    "            if new_frequencies[k] == N:\n",
    "                del new_frequencies[k]\n",
    "    return new_frequencies\n",
    "\n",
    "def clean_student_frequencies(all_frequencies, frequencies):\n",
    "    new_frequencies = {}\n",
    "    for student, freqs in frequencies.iteritems():\n",
    "        new_frequencies[student] = freqs & all_frequencies\n",
    "    return new_frequencies\n",
    "\n",
    "def keep_frequencies_with(frequencies,keep='P'):\n",
    "    new_frequencies = copy.copy(frequencies)\n",
    "    for k in list(new_frequencies):\n",
    "        if keep not in k:\n",
    "            del new_frequencies[k]\n",
    "    return new_frequencies\n",
    "\n",
    "def select_frequencies(frequencies, attribute, level):\n",
    "    new_frequencies = {}\n",
    "    '''gets frequencies of students given an attribute of the student'''\n",
    "    relevant_students =  set(df_scores[df_scores[attribute]==level]['student'])\n",
    "    for student, f in frequencies.iteritems():\n",
    "        if student in relevant_students:\n",
    "            new_frequencies[student] = f\n",
    "    return new_frequencies\n",
    "\n",
    "def mega_process(activity='a1', level='scaffolding', value1='scaff', value2='not', shortest=3, longest=10, keep = None):\n",
    "    df2 = df[df.Activity == activity]\n",
    "    blocks = get_blocks(df2,get_students())\n",
    "    frequencies = get_frequencies(blocks, shortest=shortest, longest=longest)\n",
    "\n",
    "    sum_frequencies = sum(frequencies.values(), Counter())\n",
    "    counts_frequencies = Counter({f:sum([ 1 if f in freq else 0 for freq in frequencies.values()]) for f in list(sum_frequencies)})\n",
    "\n",
    "#     # Remove frequencies done by few and all students\n",
    "#     counts_frequencies = remove_rare_frequencies(counts_frequencies,3)\n",
    "#     counts_frequencies = remove_omni_frequencies(counts_frequencies,len(get_students()))\n",
    "\n",
    "#     # update student frequencies by removing those removed in the collection of all frequencies\n",
    "#     frequencies = clean_student_frequencies(counts_frequencies, frequencies)\n",
    "    \n",
    "    if keep:\n",
    "        counts_frequencies = keep_frequencies_with(counts_frequencies,keep=keep)\n",
    "        frequencies = clean_student_frequencies(counts_frequencies, frequencies)\n",
    "    \n",
    "    f1 = select_frequencies(frequencies,level,value1)\n",
    "    f2 = select_frequencies(frequencies,level,value2)\n",
    "\n",
    "    sum_frequencies = sum(f1.values(), Counter())\n",
    "    count1 = Counter({f:sum([ 1 if f in freq else 0 for freq in f1.values()]) for f in list(sum_frequencies)})\n",
    "    sum_frequencies = sum(f2.values(), Counter())\n",
    "    count2 = Counter({f:sum([ 1 if f in freq else 0 for freq in f2.values()]) for f in list(sum_frequencies)})\n",
    "\n",
    "    return sum_frequencies, count1, count2\n",
    "\n",
    "def difference(seqs1,seqs2,N=10):\n",
    "    diff = (seqs1-seqs2).most_common(N)\n",
    "    print \"Sequence: count = seq1 - seq2\\n-----------------------------\"\n",
    "    for seq,count in diff:\n",
    "        print \"{0}: \\t {1} = {2} - {3} \".format(seq, count, seqs1[seq], seqs2[seq])\n",
    "    \n",
    "    diff = (seqs2-seqs1).most_common(N)\n",
    "    print \"\\nSequence: count = seq2 - seq1\\n----------------------------\"\n",
    "    for seq,count in diff:\n",
    "        print \"{0}: \\t {1} = {2} - {3} \".format(seq, count, seqs2[seq], seqs1[seq])"
   ]
  },
  {
   "cell_type": "markdown",
   "metadata": {
    "collapsed": true
   },
   "source": [
    "## Here is how we get sequences "
   ]
  },
  {
   "cell_type": "code",
   "execution_count": 115,
   "metadata": {
    "collapsed": false
   },
   "outputs": [],
   "source": [
    "# df2 = df[df.Activity == 'a1']\n",
    "# blocks = get_blocks(df2,get_students())\n",
    "# frequencies = get_frequencies(blocks, shortest=3, longest=10)\n",
    "# #Count number of time sequences occurs accross all students\n",
    "# sum_frequencies = sum(frequencies.values(), Counter())\n",
    "# #Count number of students that conducted that frequency\n",
    "# counts_frequencies = Counter({f:sum([ 1 if f in freq else 0 for freq in frequencies.values()]) for f in list(sum_frequencies)})"
   ]
  },
  {
   "cell_type": "markdown",
   "metadata": {},
   "source": [
    "## Here is how to select certain sequences"
   ]
  },
  {
   "cell_type": "code",
   "execution_count": 116,
   "metadata": {
    "collapsed": false
   },
   "outputs": [],
   "source": [
    "# ## Clean up sequences with count less than N\n",
    "# N = 5\n",
    "# remove_rare_frequencies(counts_frequencies,N)\n",
    "# # keep_frequencies_with(counts_frequencies,keep='P')\n",
    "# frequencies = clean_student_frequencies(counts_frequencies, frequencies)\n",
    "# # counts_frequencies.most_common(10)"
   ]
  },
  {
   "cell_type": "markdown",
   "metadata": {
    "collapsed": false
   },
   "source": [
    "## Let's compare sequences from students in the different conditions in Activity 1\n",
    "Get all frequencies of length 3 to 10, cleaning them up by removing those common to all students and the rare ones."
   ]
  },
  {
   "cell_type": "code",
   "execution_count": 117,
   "metadata": {
    "collapsed": false
   },
   "outputs": [],
   "source": [
    "# summed_seqs, seq_scaff, seq_not = mega_process(activity='a1', level='scaffolding', value1='scaff', value2='not', shortest=3, longest=10)\n",
    "# difference(seq_scaff,seq_not,N=10)"
   ]
  },
  {
   "cell_type": "markdown",
   "metadata": {
    "collapsed": false
   },
   "source": [
    "We can now look at the difference in number of students that conduct sequences in both groups."
   ]
  },
  {
   "cell_type": "code",
   "execution_count": 118,
   "metadata": {
    "collapsed": false
   },
   "outputs": [],
   "source": [
    "## Does this difference persist in activity 2?"
   ]
  },
  {
   "cell_type": "code",
   "execution_count": 119,
   "metadata": {
    "collapsed": false
   },
   "outputs": [],
   "source": [
    "# summed_seqs, seq_scaff, seq_not = mega_process(activity='a2', level='scaffolding', value1='scaff', value2='not', shortest=3, longest=10)\n",
    "# difference(seq_scaff,seq_not,N=10)"
   ]
  },
  {
   "cell_type": "markdown",
   "metadata": {},
   "source": [
    "## Let's compare sequences from students from different clusters\n",
    "In activity 1"
   ]
  },
  {
   "cell_type": "code",
   "execution_count": 120,
   "metadata": {
    "collapsed": false
   },
   "outputs": [],
   "source": [
    "# summed_seqs, seq_know, seq_att = mega_process(activity='a1', level='Clustergroups', value1='knowledge', value2='attitude', shortest=3, longest=10)\n",
    "# difference(seq_know+seq_know,seq_att,N=10)"
   ]
  },
  {
   "cell_type": "markdown",
   "metadata": {},
   "source": [
    "**Note**: Here we are doubling the number of counts for the knowledge group since it's half the size"
   ]
  },
  {
   "cell_type": "markdown",
   "metadata": {},
   "source": [
    "In activity 2"
   ]
  },
  {
   "cell_type": "code",
   "execution_count": 121,
   "metadata": {
    "collapsed": false
   },
   "outputs": [],
   "source": [
    "# summed_seqs, seq_know, seq_att = mega_process(activity='a2', level='Clustergroups', value1='knowledge', value2='attitude', shortest=3, longest=10)\n",
    "# difference(seq_know+seq_know,seq_att,N=10)"
   ]
  },
  {
   "cell_type": "markdown",
   "metadata": {},
   "source": [
    "**Note**: Here we are doubling the number of counts for the knowledge group since it's half the size"
   ]
  },
  {
   "cell_type": "markdown",
   "metadata": {},
   "source": [
    "## Let's compare sequences from students with high and low learning gain"
   ]
  },
  {
   "cell_type": "markdown",
   "metadata": {},
   "source": [
    "First we need to split students by learning gains in each activity"
   ]
  },
  {
   "cell_type": "code",
   "execution_count": 122,
   "metadata": {
    "collapsed": false
   },
   "outputs": [],
   "source": [
    "def label_learning (row,column):\n",
    "    if row[column] >= median_learning: return 'high'\n",
    "    else: return 'low'\n",
    "\n",
    "df_scores['learning1score'] = df_scores[\"post t1\"] - df_scores[\"pre\"]\n",
    "median_learning = np.median(df_scores['learning1score'])\n",
    "df_scores['learning1'] = df_scores.apply (lambda row: label_learning (row,\"learning1score\"),axis=1)\n",
    "\n",
    "df_scores['learning2score'] = df_scores[\"post t2\"] - df_scores[\"pre\"]\n",
    "median_learning = np.median(df_scores['learning2score'])\n",
    "df_scores['learning2'] = df_scores.apply (lambda row: label_learning (row,\"learning2score\"),axis=1)\n",
    "# len(df_scores[(df_scores['learning1']=='high') & (df_scores['learning2']=='high')])"
   ]
  },
  {
   "cell_type": "markdown",
   "metadata": {
    "collapsed": true
   },
   "source": [
    "Now we look at the different in sequences in activity 1"
   ]
  },
  {
   "cell_type": "code",
   "execution_count": 123,
   "metadata": {
    "collapsed": false
   },
   "outputs": [],
   "source": [
    "# summed_seqs, seq_high, seq_low = mega_process(activity='a1', level='learning1', value1='high', value2='low', shortest=3, longest=10)\n",
    "# difference(seq_high,seq_low,N=10)"
   ]
  },
  {
   "cell_type": "markdown",
   "metadata": {
    "collapsed": false
   },
   "source": [
    "\n",
    "\n",
    "And activity 2"
   ]
  },
  {
   "cell_type": "code",
   "execution_count": 124,
   "metadata": {
    "collapsed": false
   },
   "outputs": [],
   "source": [
    "# summed_seqs, seq_high, seq_low = mega_process(activity='a2', level='learning2', value1='high', value2='low', shortest=3, longest=10)\n",
    "# difference(seq_high,seq_low,N=10)"
   ]
  },
  {
   "cell_type": "markdown",
   "metadata": {},
   "source": [
    "## Well, one thing we are really interested in, is what happens before/after students pause. So let's look at those sequences, and compare low/high learners."
   ]
  },
  {
   "cell_type": "code",
   "execution_count": 125,
   "metadata": {
    "collapsed": false
   },
   "outputs": [],
   "source": [
    "# summed_seqs, seq_high, seq_low = mega_process(activity='a1', level='learning1', value1='high', \n",
    "#                                               value2='low', shortest=3, longest=10, keep = \"P\")\n",
    "# difference(seq_high,seq_low,N=10)"
   ]
  },
  {
   "cell_type": "code",
   "execution_count": 126,
   "metadata": {
    "collapsed": false
   },
   "outputs": [],
   "source": [
    "# summed_seqs, seq_high, seq_low = mega_process(activity='a2', level='learning2', value1='high', \n",
    "#                                               value2='low', shortest=3, longest=10, keep = \"P\")\n",
    "# difference(seq_high,seq_low,N=10)"
   ]
  },
  {
   "cell_type": "markdown",
   "metadata": {
    "collapsed": true
   },
   "source": [
    "#### Now let's pick a sequence visualize how much it's used by students"
   ]
  },
  {
   "cell_type": "code",
   "execution_count": 197,
   "metadata": {
    "collapsed": false
   },
   "outputs": [],
   "source": [
    "def plot_seq_gains(activity, seqs):\n",
    "    df2 = df[df.Activity == activity]\n",
    "    if activity == 'a1': score_column = \"learning1score\"\n",
    "    else: score_column = \"learning2score\"\n",
    "        \n",
    "    blocks = get_blocks(df2,get_students())\n",
    "    frequencies = get_frequencies(blocks, shortest=3, longest=6)\n",
    "    sum_frequencies = sum(frequencies.values(), Counter())\n",
    "    counts_frequencies = Counter({f:sum([ 1 if f in freq else 0 for freq in frequencies.values()]) for f in list(sum_frequencies)})\n",
    "    totals = {student:float(sum(count.values())) for student,count in frequencies.iteritems()}\n",
    "\n",
    "    fig, axs = plt.subplots(nrows=len(seqs),ncols=1,figsize=(15,3*len(seqs)))\n",
    "    fig.suptitle('Normalize frequency of usage of sequences versus learning gain. Students are colored depending on their scaffolding.',fontsize=16)\n",
    "    for seq,ax in zip(seqs,axs):\n",
    "        counts = keep_frequencies_with(counts_frequencies,keep=seq)\n",
    "        cleaned_frequencies = clean_student_frequencies(counts, frequencies)\n",
    "\n",
    "        f1 = select_frequencies(cleaned_frequencies,\"scaffolding\",\"scaff\")\n",
    "        f2 = select_frequencies(cleaned_frequencies,\"scaffolding\",\"not\")\n",
    "\n",
    "        total1 = {student:float(sum(count.values()))/totals[student] for student,count in f1.iteritems()}\n",
    "        values1 = {k:(v, float(df_scores[df_scores[\"student\"]==k][score_column]) ) for k,v in total1.iteritems()}\n",
    "        total2 = {student:float(sum(count.values()))/totals[student] for student,count in f2.iteritems()}\n",
    "        values2 = {k:(v, float(df_scores[df_scores[\"student\"]==k][score_column]) ) for k,v in total2.iteritems()}\n",
    "        x,y = zip(*values1.values())\n",
    "        rec1 = ax.scatter(x,y, c='r',s=100, alpha=0.4)\n",
    "        x,y = zip(*values2.values())\n",
    "        rec2 = ax.scatter(x,y, c='b',s=100, alpha=0.4)\n",
    "        ax.axhline(0, color='darkgrey')\n",
    "        ax.set_ylabel(seq)\n",
    "        ax.legend((rec1, rec2), ('Scaffolded', 'Not scaffolded'))\n",
    "        \n",
    "#         ax.set_xlabel('Normalized frequency of usage')\n",
    "#         ax.set_ylabel('Learning gain in activity 1 (post-pre)')\n",
    "#         ax.set_title('Normalize frequency of usage of {0} versus learning gain. Students are colored depending on their scaffolding.'.format(seq))"
   ]
  },
  {
   "cell_type": "markdown",
   "metadata": {
    "collapsed": false
   },
   "source": [
    "### Want to make a matrix where rows are sequences, columns students, cells represent number of times sequence was performed by student"
   ]
  },
  {
   "cell_type": "code",
   "execution_count": 240,
   "metadata": {
    "collapsed": false
   },
   "outputs": [],
   "source": [
    "df2 = df[df.Activity == 'a1']\n",
    "blocks = get_blocks(df2,get_students())\n",
    "frequencies = get_frequencies(blocks, shortest=3, longest=6)\n",
    "sum_frequencies = sum(frequencies.values(), Counter())\n",
    "counts_frequencies = Counter({f:sum([ 1 if f in freq else 0 for freq in frequencies.values()]) for f in list(sum_frequencies)})\n",
    "totals = {student:float(sum(count.values())) for student,count in frequencies.iteritems()}\n",
    "\n",
    "students, sequences = frequencies.keys(), sum_frequencies.keys()\n",
    "A = np.zeros((len(students), len(sequences)))\n",
    "A.shape\n",
    "\n",
    "for st,seqs in frequencies.iteritems():\n",
    "    i = students.index(st)\n",
    "    for sq,count in seqs.iteritems():\n",
    "        j = sequences.index(sq)\n",
    "        A[i][j] = count"
   ]
  },
  {
   "cell_type": "markdown",
   "metadata": {},
   "source": [
    "We normalize the matrix"
   ]
  },
  {
   "cell_type": "code",
   "execution_count": 236,
   "metadata": {
    "collapsed": true
   },
   "outputs": [],
   "source": [
    "B = (A.T / np.sum(A,axis=1)).T"
   ]
  },
  {
   "cell_type": "markdown",
   "metadata": {
    "collapsed": false
   },
   "source": [
    "We calculate correlations with learning outcomes for each sequence"
   ]
  },
  {
   "cell_type": "code",
   "execution_count": 237,
   "metadata": {
    "collapsed": false
   },
   "outputs": [],
   "source": [
    "gains = [round(float(df_scores[df_scores[\"student\"]==student]['learning1score']),5) for student in students]\n",
    "\n",
    "from scipy.stats import pearsonr\n",
    "correlation_measure = pearsonr\n",
    "corr = []\n",
    "for sq in sequences:\n",
    "    j = sequences.index(sq)\n",
    "    c = correlation_measure(matrix[:,j],gains)\n",
    "    corr.append((sq, c[0], c[1]))    "
   ]
  },
  {
   "cell_type": "markdown",
   "metadata": {},
   "source": [
    "Now let's keep only the significant sequences.\n",
    "\n",
    "**Note**: we still need to do some boostrapping and permutation test to confirm that these are significant results."
   ]
  },
  {
   "cell_type": "code",
   "execution_count": 238,
   "metadata": {
    "collapsed": false
   },
   "outputs": [
    {
     "name": "stdout",
     "output_type": "stream",
     "text": [
      "IBITPR 0.39226281515 7.7284363845e-05\n",
      "RPOPT 0.39226281515 7.7284363845e-05\n",
      "BOROEI 0.39226281515 7.7284363845e-05\n",
      "TBRPTR 0.39226281515 7.7284363845e-05\n",
      "TPOTPO 0.39226281515 7.7284363845e-05\n",
      "TIEBO 0.39226281515 7.7284363845e-05\n",
      "TRBTRT 0.39226281515 7.7284363845e-05\n",
      "POTBRO 0.39226281515 7.7284363845e-05\n",
      "OBIROR 0.39226281515 7.7284363845e-05\n",
      "RERIPX 0.39226281515 7.7284363845e-05\n",
      "ORITBO 0.39226281515 7.7284363845e-05\n",
      "BOPBO 0.39226281515 7.7284363845e-05\n",
      "OETR 0.39226281515 7.7284363845e-05\n",
      "RTPTI 0.39226281515 7.7284363845e-05\n",
      "TOBRBT 0.39226281515 7.7284363845e-05\n",
      "BOPXB 0.39226281515 7.7284363845e-05\n",
      "XTRIBO 0.39226281515 7.7284363845e-05\n",
      "RBRETR 0.39226281515 7.7284363845e-05\n",
      "OIEOBO 0.39226281515 7.7284363845e-05\n",
      "TIPITR 0.39226281515 7.7284363845e-05\n",
      "IXPBOB 0.39226281515 7.7284363845e-05\n",
      "BTRBT 0.39226281515 7.7284363845e-05\n",
      "PTPBRO 0.39226281515 7.7284363845e-05\n"
     ]
    }
   ],
   "source": [
    "sig_corr = []\n",
    "for s,c,p in corr:\n",
    "    if p <= 0.05 and abs(c) > 0.39:\n",
    "        sig_corr.append((s,c,p))\n",
    "        print s,c,p"
   ]
  },
  {
   "cell_type": "code",
   "execution_count": 241,
   "metadata": {
    "collapsed": false,
    "scrolled": false
   },
   "outputs": [],
   "source": [
    "# plot_seq_gains('a1',zip(*sig_corr)[0])"
   ]
  },
  {
   "cell_type": "markdown",
   "metadata": {},
   "source": [
    "Clearly, how much students did an action doesn't matter as much as who did it at least once (or more?)\n",
    "Let's repeat the analysis using # of students who did the sequence instead of frequency."
   ]
  },
  {
   "cell_type": "code",
   "execution_count": 245,
   "metadata": {
    "collapsed": true
   },
   "outputs": [],
   "source": [
    "df2 = df[df.Activity == 'a1']\n",
    "blocks = get_blocks(df2,get_students())\n",
    "frequencies = get_frequencies(blocks, shortest=3, longest=6)\n",
    "sum_frequencies = sum(frequencies.values(), Counter())\n",
    "counts_frequencies = Counter({f:sum([ 1 if f in freq else 0 for freq in frequencies.values()]) for f in list(sum_frequencies)})\n",
    "totals = {student:float(sum(count.values())) for student,count in frequencies.iteritems()}\n",
    "\n",
    "students, sequences = frequencies.keys(), sum_frequencies.keys()\n",
    "A = np.zeros((len(students), len(sequences)))\n",
    "A.shape\n",
    "\n",
    "for st,seqs in frequencies.iteritems():\n",
    "    i = students.index(st)\n",
    "    for sq,count in seqs.iteritems():\n",
    "        j = sequences.index(sq)\n",
    "        if count > 3: x =1\n",
    "        else: x = 0\n",
    "        A[i][j] = x"
   ]
  },
  {
   "cell_type": "code",
   "execution_count": 251,
   "metadata": {
    "collapsed": false
   },
   "outputs": [],
   "source": [
    "from scipy.stats import ttest_ind\n",
    "gains = np.array([round(float(df_scores[df_scores[\"student\"]==student]['learning1score']),5) for student in students])\n",
    "\n",
    "tests = []\n",
    "for sq in sequences:\n",
    "    j = sequences.index(sq)\n",
    "    a = gains[np.where(A[:,j]==1)]\n",
    "    b = gains[np.where(A[:,j]==0)]\n",
    "    t = ttest_ind(a, b, equal_var=False)\n",
    "    tests.append((sq, t[0], t[1]))"
   ]
  },
  {
   "cell_type": "code",
   "execution_count": 254,
   "metadata": {
    "collapsed": false
   },
   "outputs": [
    {
     "name": "stdout",
     "output_type": "stream",
     "text": [
      "IBOBO \t4.62 \t0.001\n",
      "RPTP \t5.61 \t0.0\n",
      "RBO \t-2.8 \t0.007\n",
      "PTI \t6.12 \t0.003\n",
      "RBORBO \t3.5 \t0.003\n",
      "IBOB \t4.62 \t0.001\n",
      "TOROB \t-6.48 \t0.013\n",
      "OBOBRB \t4.47 \t0.001\n",
      "BTB \t2.47 \t0.028\n",
      "TPO \t2.11 \t0.05\n",
      "ITPO \t13.17 \t0.0\n",
      "ROBT \t-19.76 \t0.0\n",
      "BORT \t-2.21 \t0.044\n"
     ]
    }
   ],
   "source": [
    "sig_tests = []\n",
    "for s,t,p in tests:\n",
    "    if p <= 0.05:\n",
    "        sig_corr.append((s,t,p))\n",
    "        print s, '\\t', round(t,2),'\\t', round(p,3)"
   ]
  },
  {
   "cell_type": "code",
   "execution_count": null,
   "metadata": {
    "collapsed": true
   },
   "outputs": [],
   "source": []
  }
 ],
 "metadata": {
  "kernelspec": {
   "display_name": "Python 2",
   "language": "python",
   "name": "python2"
  },
  "language_info": {
   "codemirror_mode": {
    "name": "ipython",
    "version": 2
   },
   "file_extension": ".py",
   "mimetype": "text/x-python",
   "name": "python",
   "nbconvert_exporter": "python",
   "pygments_lexer": "ipython2",
   "version": "2.7.11"
  }
 },
 "nbformat": 4,
 "nbformat_minor": 0
}
