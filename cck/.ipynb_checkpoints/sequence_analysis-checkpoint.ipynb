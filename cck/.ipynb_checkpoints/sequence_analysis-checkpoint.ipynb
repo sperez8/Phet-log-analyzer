{
 "cells": [
  {
   "cell_type": "code",
   "execution_count": 1,
   "metadata": {
    "collapsed": false
   },
   "outputs": [],
   "source": [
    "import numpy as np\n",
    "import pandas as pd\n",
    "import sys\n",
    "import getpass\n",
    "import re\n",
    "from functions import *\n",
    "from collections import Counter\n",
    "import copy\n",
    "np.set_printoptions(precision=2)\n",
    "pd.set_option('precision', 2)\n",
    "%matplotlib inline\n",
    "matplotlib.style.use('ggplot')"
   ]
  },
  {
   "cell_type": "code",
   "execution_count": 2,
   "metadata": {
    "collapsed": true
   },
   "outputs": [],
   "source": [
    "df = pd.read_csv('C:\\Users\\\\'+getpass.getuser()+'\\\\Google Drive\\Sarah Ido folder\\data\\CCK\\MATCHING_phet_cck_user_actions+sophistication_WITHPAUSE_anonymized.txt')\n",
    "df_scores = pd.read_csv('C:\\Users\\\\'+getpass.getuser()+'\\\\Google Drive\\Sarah Ido folder\\data\\CCK\\MATCHING_phet_cck_user_data_anonymized.txt')\n",
    "df[\"student\"] = df[\"student\"].astype('category')\n",
    "df_scores[\"student\"] = df_scores[\"student\"].astype('category')\n",
    "df[\"Family\"]=df[\"Family\"].str.capitalize()"
   ]
  },
  {
   "cell_type": "markdown",
   "metadata": {
    "collapsed": false
   },
   "source": [
    "Let's get the sequences by students in blocks of actions."
   ]
  },
  {
   "cell_type": "code",
   "execution_count": 3,
   "metadata": {
    "collapsed": false
   },
   "outputs": [],
   "source": [
    "def get_blocks(df, students):\n",
    "    '''gets blocks of sequences a list of students'''\n",
    "    def convert(action):\n",
    "        if action == 'Reset':\n",
    "            return 'X'\n",
    "#         if action == \"Organize\" or action == \"Build\":\n",
    "#             return 'M'\n",
    "        else: \n",
    "            return action[0]\n",
    "    \n",
    "    blocks = {student:'S' for student in students}\n",
    "    for student in students:\n",
    "        sequence =  list(df[df['student']==student]['Family'])\n",
    "        blocks[student] += re.sub(r'(.)\\1+', r'\\1',''.join([convert(action) for action in sequence]))\n",
    "    return blocks\n",
    "\n",
    "def get_frequencies(blocks, shortest=3, longest=11):\n",
    "    frequencies = {student:Counter() for student in blocks.keys()}\n",
    "    for student,sequence in blocks.iteritems():\n",
    "        for seq_length in range(shortest, longest+1):  # loops through different possible sequence lengths\n",
    "            frequencies[student] += Counter(sequence[i:i+seq_length] for i in range(len(sequence)-seq_length-1))  # counts string matches for every string of the current length\n",
    "    return frequencies\n",
    "\n",
    "def remove_rare_frequencies(frequencies, N=2):\n",
    "    new_frequencies = copy.copy(frequencies)\n",
    "    for k in list(new_frequencies):\n",
    "            if new_frequencies[k] < N:\n",
    "                del new_frequencies[k]\n",
    "    return new_frequencies\n",
    "\n",
    "def remove_omni_frequencies(frequencies, N=96):\n",
    "    new_frequencies = copy.copy(frequencies)\n",
    "    for k in list(new_frequencies):\n",
    "            if new_frequencies[k] == N:\n",
    "                del new_frequencies[k]\n",
    "    return new_frequencies\n",
    "\n",
    "def clean_student_frequencies(all_frequencies, frequencies):\n",
    "    new_frequencies = {}\n",
    "    for student, freqs in frequencies.iteritems():\n",
    "        new_frequencies[student] = freqs & all_frequencies\n",
    "    return new_frequencies\n",
    "\n",
    "def keep_frequencies_with(frequencies,keep='P'):\n",
    "    new_frequencies = copy.copy(frequencies)\n",
    "    for k in list(new_frequencies):\n",
    "        if keep not in k:\n",
    "            del new_frequencies[k]\n",
    "    return new_frequencies\n",
    "\n",
    "def select_frequencies(frequencies, attribute, level):\n",
    "    new_frequencies = {}\n",
    "    '''gets frequencies of students given an attribute of the student'''\n",
    "    relevant_students =  set(df_scores[df_scores[attribute]==level]['student'])\n",
    "    for student, f in frequencies.iteritems():\n",
    "        if student in relevant_students:\n",
    "            new_frequencies[student] = f\n",
    "    return new_frequencies\n",
    "\n",
    "def mega_process(activity='a1', level='scaffolding', value1='scaff', value2='not', shortest=3, longest=10, keep = None):\n",
    "    df2 = df[df.Activity == activity]\n",
    "    blocks = get_blocks(df2,get_students())\n",
    "    frequencies = get_frequencies(blocks, shortest=shortest, longest=longest)\n",
    "\n",
    "    sum_frequencies = sum(frequencies.values(), Counter())\n",
    "    counts_frequencies = Counter({f:sum([ 1 if f in freq else 0 for freq in frequencies.values()]) for f in list(sum_frequencies)})\n",
    "\n",
    "#     # Remove frequencies done by few and all students\n",
    "#     counts_frequencies = remove_rare_frequencies(counts_frequencies,3)\n",
    "#     counts_frequencies = remove_omni_frequencies(counts_frequencies,len(get_students()))\n",
    "\n",
    "#     # update student frequencies by removing those removed in the collection of all frequencies\n",
    "#     frequencies = clean_student_frequencies(counts_frequencies, frequencies)\n",
    "    \n",
    "    if keep:\n",
    "        counts_frequencies = keep_frequencies_with(counts_frequencies,keep=keep)\n",
    "        frequencies = clean_student_frequencies(counts_frequencies, frequencies)\n",
    "    \n",
    "    f1 = select_frequencies(frequencies,level,value1)\n",
    "    f2 = select_frequencies(frequencies,level,value2)\n",
    "\n",
    "    sum_frequencies = sum(f1.values(), Counter())\n",
    "    count1 = Counter({f:sum([ 1 if f in freq else 0 for freq in f1.values()]) for f in list(sum_frequencies)})\n",
    "    sum_frequencies = sum(f2.values(), Counter())\n",
    "    count2 = Counter({f:sum([ 1 if f in freq else 0 for freq in f2.values()]) for f in list(sum_frequencies)})\n",
    "\n",
    "    return sum_frequencies, count1, count2\n",
    "\n",
    "def difference(seqs1,seqs2,N=10):\n",
    "    diff = (seqs1-seqs2).most_common(N)\n",
    "    print \"Sequence: count = seq1 - seq2\\n-----------------------------\"\n",
    "    for seq,count in diff:\n",
    "        print \"{0}: \\t {1} = {2} - {3} \".format(seq, count, seqs1[seq], seqs2[seq])\n",
    "    \n",
    "    diff = (seqs2-seqs1).most_common(N)\n",
    "    print \"\\nSequence: count = seq2 - seq1\\n----------------------------\"\n",
    "    for seq,count in diff:\n",
    "        print \"{0}: \\t {1} = {2} - {3} \".format(seq, count, seqs2[seq], seqs1[seq])"
   ]
  },
  {
   "cell_type": "markdown",
   "metadata": {
    "collapsed": true
   },
   "source": [
    "## Here is how we get sequences "
   ]
  },
  {
   "cell_type": "code",
   "execution_count": 4,
   "metadata": {
    "collapsed": false
   },
   "outputs": [],
   "source": [
    "# df2 = df[df.Activity == 'a1']\n",
    "# blocks = get_blocks(df2,get_students())\n",
    "# frequencies = get_frequencies(blocks, shortest=3, longest=10)\n",
    "# #Count number of time sequences occurs accross all students\n",
    "# sum_frequencies = sum(frequencies.values(), Counter())\n",
    "# #Count number of students that conducted that frequency\n",
    "# counts_frequencies = Counter({f:sum([ 1 if f in freq else 0 for freq in frequencies.values()]) for f in list(sum_frequencies)})"
   ]
  },
  {
   "cell_type": "markdown",
   "metadata": {},
   "source": [
    "## Here is how to select certain sequences"
   ]
  },
  {
   "cell_type": "code",
   "execution_count": 5,
   "metadata": {
    "collapsed": false
   },
   "outputs": [],
   "source": [
    "# ## Clean up sequences with count less than N\n",
    "# N = 5\n",
    "# remove_rare_frequencies(counts_frequencies,N)\n",
    "# # keep_frequencies_with(counts_frequencies,keep='P')\n",
    "# frequencies = clean_student_frequencies(counts_frequencies, frequencies)\n",
    "# # counts_frequencies.most_common(10)"
   ]
  },
  {
   "cell_type": "markdown",
   "metadata": {
    "collapsed": false
   },
   "source": [
    "## Let's compare sequences from students in the different conditions in Activity 1\n",
    "Get all frequencies of length 3 to 10, cleaning them up by removing those common to all students and the rare ones."
   ]
  },
  {
   "cell_type": "code",
   "execution_count": 6,
   "metadata": {
    "collapsed": false
   },
   "outputs": [],
   "source": [
    "# summed_seqs, seq_scaff, seq_not = mega_process(activity='a1', level='scaffolding', value1='scaff', value2='not', shortest=3, longest=10)\n",
    "# difference(seq_scaff,seq_not,N=10)"
   ]
  },
  {
   "cell_type": "markdown",
   "metadata": {
    "collapsed": false
   },
   "source": [
    "We can now look at the difference in number of students that conduct sequences in both groups."
   ]
  },
  {
   "cell_type": "code",
   "execution_count": 7,
   "metadata": {
    "collapsed": false
   },
   "outputs": [],
   "source": [
    "## Does this difference persist in activity 2?"
   ]
  },
  {
   "cell_type": "code",
   "execution_count": 8,
   "metadata": {
    "collapsed": false
   },
   "outputs": [],
   "source": [
    "# summed_seqs, seq_scaff, seq_not = mega_process(activity='a2', level='scaffolding', value1='scaff', value2='not', shortest=3, longest=10)\n",
    "# difference(seq_scaff,seq_not,N=10)"
   ]
  },
  {
   "cell_type": "markdown",
   "metadata": {},
   "source": [
    "## Let's compare sequences from students from different clusters\n",
    "In activity 1"
   ]
  },
  {
   "cell_type": "code",
   "execution_count": 9,
   "metadata": {
    "collapsed": false
   },
   "outputs": [],
   "source": [
    "# summed_seqs, seq_know, seq_att = mega_process(activity='a1', level='Clustergroups', value1='knowledge', value2='attitude', shortest=3, longest=10)\n",
    "# difference(seq_know+seq_know,seq_att,N=10)"
   ]
  },
  {
   "cell_type": "markdown",
   "metadata": {},
   "source": [
    "**Note**: Here we are doubling the number of counts for the knowledge group since it's half the size"
   ]
  },
  {
   "cell_type": "markdown",
   "metadata": {},
   "source": [
    "In activity 2"
   ]
  },
  {
   "cell_type": "code",
   "execution_count": 10,
   "metadata": {
    "collapsed": false
   },
   "outputs": [],
   "source": [
    "# summed_seqs, seq_know, seq_att = mega_process(activity='a2', level='Clustergroups', value1='knowledge', value2='attitude', shortest=3, longest=10)\n",
    "# difference(seq_know+seq_know,seq_att,N=10)"
   ]
  },
  {
   "cell_type": "markdown",
   "metadata": {},
   "source": [
    "**Note**: Here we are doubling the number of counts for the knowledge group since it's half the size"
   ]
  },
  {
   "cell_type": "markdown",
   "metadata": {},
   "source": [
    "## Let's compare sequences from students with high and low learning gain"
   ]
  },
  {
   "cell_type": "markdown",
   "metadata": {},
   "source": [
    "First we need to split students by learning gains in each activity"
   ]
  },
  {
   "cell_type": "code",
   "execution_count": 11,
   "metadata": {
    "collapsed": false
   },
   "outputs": [],
   "source": [
    "def label_learning (row,column):\n",
    "    if row[column] >= median_learning: return 'high'\n",
    "    else: return 'low'\n",
    "\n",
    "df_scores['learning1score'] = df_scores[\"post t1\"] - df_scores[\"pre\"]\n",
    "median_learning = np.median(df_scores['learning1score'])\n",
    "df_scores['learning1'] = df_scores.apply (lambda row: label_learning (row,\"learning1score\"),axis=1)\n",
    "\n",
    "df_scores['learning2score'] = df_scores[\"post t2\"] - df_scores[\"pre\"]\n",
    "median_learning = np.median(df_scores['learning2score'])\n",
    "df_scores['learning2'] = df_scores.apply (lambda row: label_learning (row,\"learning2score\"),axis=1)\n",
    "# len(df_scores[(df_scores['learning1']=='high') & (df_scores['learning2']=='high')])"
   ]
  },
  {
   "cell_type": "markdown",
   "metadata": {
    "collapsed": true
   },
   "source": [
    "Now we look at the different in sequences in activity 1"
   ]
  },
  {
   "cell_type": "code",
   "execution_count": 12,
   "metadata": {
    "collapsed": false
   },
   "outputs": [],
   "source": [
    "# summed_seqs, seq_high, seq_low = mega_process(activity='a1', level='learning1', value1='high', value2='low', shortest=3, longest=10)\n",
    "# difference(seq_high,seq_low,N=10)"
   ]
  },
  {
   "cell_type": "markdown",
   "metadata": {
    "collapsed": false
   },
   "source": [
    "\n",
    "\n",
    "And activity 2"
   ]
  },
  {
   "cell_type": "code",
   "execution_count": 13,
   "metadata": {
    "collapsed": false
   },
   "outputs": [],
   "source": [
    "# summed_seqs, seq_high, seq_low = mega_process(activity='a2', level='learning2', value1='high', value2='low', shortest=3, longest=10)\n",
    "# difference(seq_high,seq_low,N=10)"
   ]
  },
  {
   "cell_type": "markdown",
   "metadata": {},
   "source": [
    "## Well, one thing we are really interested in, is what happens before/after students pause. So let's look at those sequences, and compare low/high learners."
   ]
  },
  {
   "cell_type": "code",
   "execution_count": 14,
   "metadata": {
    "collapsed": false
   },
   "outputs": [],
   "source": [
    "# summed_seqs, seq_high, seq_low = mega_process(activity='a1', level='learning1', value1='high', \n",
    "#                                               value2='low', shortest=3, longest=10, keep = \"P\")\n",
    "# difference(seq_high,seq_low,N=10)"
   ]
  },
  {
   "cell_type": "code",
   "execution_count": 15,
   "metadata": {
    "collapsed": false
   },
   "outputs": [],
   "source": [
    "# summed_seqs, seq_high, seq_low = mega_process(activity='a2', level='learning2', value1='high', \n",
    "#                                               value2='low', shortest=3, longest=10, keep = \"P\")\n",
    "# difference(seq_high,seq_low,N=10)"
   ]
  },
  {
   "cell_type": "markdown",
   "metadata": {
    "collapsed": true
   },
   "source": [
    "#### Now let's pick a sequence visualize how much it's used by students"
   ]
  },
  {
   "cell_type": "code",
   "execution_count": 16,
   "metadata": {
    "collapsed": false
   },
   "outputs": [],
   "source": [
    "def plot_seq_gains(activity, seqs):\n",
    "    df2 = df[df.Activity == activity]\n",
    "    if activity == 'a1': score_column = \"learning1score\"\n",
    "    else: score_column = \"learning2score\"\n",
    "        \n",
    "    blocks = get_blocks(df2,get_students())\n",
    "    frequencies = get_frequencies(blocks, shortest=3, longest=6)\n",
    "    sum_frequencies = sum(frequencies.values(), Counter())\n",
    "    counts_frequencies = Counter({f:sum([ 1 if f in freq else 0 for freq in frequencies.values()]) for f in list(sum_frequencies)})\n",
    "    totals = {student:float(sum(count.values())) for student,count in frequencies.iteritems()}\n",
    "\n",
    "    fig, axs = plt.subplots(nrows=len(seqs),ncols=1,figsize=(15,3*len(seqs)))\n",
    "    fig.suptitle('Normalize frequency of usage of sequences versus learning gain. Students are colored depending on their scaffolding.',fontsize=16)\n",
    "    for seq,ax in zip(seqs,axs):\n",
    "        counts = keep_frequencies_with(counts_frequencies,keep=seq)\n",
    "        cleaned_frequencies = clean_student_frequencies(counts, frequencies)\n",
    "\n",
    "        f1 = select_frequencies(cleaned_frequencies,\"scaffolding\",\"scaff\")\n",
    "        f2 = select_frequencies(cleaned_frequencies,\"scaffolding\",\"not\")\n",
    "\n",
    "        total1 = {student:float(sum(count.values()))/totals[student] for student,count in f1.iteritems()}\n",
    "        values1 = {k:(v, float(df_scores[df_scores[\"student\"]==k][score_column]) ) for k,v in total1.iteritems()}\n",
    "        total2 = {student:float(sum(count.values()))/totals[student] for student,count in f2.iteritems()}\n",
    "        values2 = {k:(v, float(df_scores[df_scores[\"student\"]==k][score_column]) ) for k,v in total2.iteritems()}\n",
    "        x,y = zip(*values1.values())\n",
    "        rec1 = ax.scatter(x,y, c='r',s=100, alpha=0.4)\n",
    "        x,y = zip(*values2.values())\n",
    "        rec2 = ax.scatter(x,y, c='b',s=100, alpha=0.4)\n",
    "        ax.axhline(0, color='darkgrey')\n",
    "        ax.set_ylabel(seq)\n",
    "        ax.legend((rec1, rec2), ('Scaffolded', 'Not scaffolded'))\n",
    "        \n",
    "#         ax.set_xlabel('Normalized frequency of usage')\n",
    "#         ax.set_ylabel('Learning gain in activity 1 (post-pre)')\n",
    "#         ax.set_title('Normalize frequency of usage of {0} versus learning gain. Students are colored depending on their scaffolding.'.format(seq))"
   ]
  },
  {
   "cell_type": "markdown",
   "metadata": {
    "collapsed": false
   },
   "source": [
    "### Want to make a matrix where rows are sequences, columns students, cells represent number of times sequence was performed by student"
   ]
  },
  {
   "cell_type": "code",
   "execution_count": 37,
   "metadata": {
    "collapsed": false
   },
   "outputs": [],
   "source": [
    "df2 = df[df.Activity == 'a1']\n",
    "blocks = get_blocks(df2,get_students())\n",
    "frequencies = get_frequencies(blocks, shortest=3, longest=6)\n",
    "sum_frequencies = sum(frequencies.values(), Counter())\n",
    "counts_frequencies = Counter({f:sum([ 1 if f in freq else 0 for freq in frequencies.values()]) for f in list(sum_frequencies)})\n",
    "totals = {student:float(sum(count.values())) for student,count in frequencies.iteritems()}\n",
    "\n",
    "students, sequences = frequencies.keys(), sum_frequencies.keys()\n",
    "A = np.zeros((len(students), len(sequences)))\n",
    "A.shape\n",
    "\n",
    "for st,seqs in frequencies.iteritems():\n",
    "    i = students.index(st)\n",
    "    for sq,count in seqs.iteritems():\n",
    "        j = sequences.index(sq)\n",
    "        A[i][j] = count"
   ]
  },
  {
   "cell_type": "markdown",
   "metadata": {},
   "source": [
    "We normalize the matrix (in reality the right way to normalize is to divide by number of blocks of sequences per student. Right now, the number of sequences per students depends on how diverse their set of seqs is)"
   ]
  },
  {
   "cell_type": "code",
   "execution_count": 38,
   "metadata": {
    "collapsed": false
   },
   "outputs": [],
   "source": [
    "B = np.zeros((len(students), len(sequences)))\n",
    "for i,row in enumerate(A):\n",
    "    B[i,:] = A[i,:]/len(blocks[students[i]])"
   ]
  },
  {
   "cell_type": "markdown",
   "metadata": {
    "collapsed": false
   },
   "source": [
    "We calculate correlations with learning outcomes for each sequence"
   ]
  },
  {
   "cell_type": "code",
   "execution_count": 45,
   "metadata": {
    "collapsed": false
   },
   "outputs": [],
   "source": [
    "gains = [round(float(df_scores[df_scores[\"student\"]==student]['learning1score']),5) for student in students]\n",
    "\n",
    "from scipy.stats import pearsonr\n",
    "correlation_measure = pearsonr\n",
    "corr = []\n",
    "for sq in sequences:\n",
    "    j = sequences.index(sq)\n",
    "    if np.count_nonzero(B[:,j]) > 10:\n",
    "        c = correlation_measure(B[:,j],gains)\n",
    "        corr.append((sq, c[0], c[1]))    "
   ]
  },
  {
   "cell_type": "markdown",
   "metadata": {},
   "source": [
    "Now let's keep only the significant sequences.\n",
    "\n",
    "**Note**: we still need to do some boostrapping and permutation test to confirm that these are significant results."
   ]
  },
  {
   "cell_type": "code",
   "execution_count": 47,
   "metadata": {
    "collapsed": false
   },
   "outputs": [
    {
     "name": "stdout",
     "output_type": "stream",
     "text": [
      "BOPB -0.284591730683 0.00247514695093\n",
      "ROROBR -0.270279014722 0.00386945305618\n",
      "TRP 0.2588131346 0.00544571671316\n",
      "IORO -0.333285631379 0.000453082811492\n",
      "TROBO -0.264056972054 0.00466605105741\n",
      "BRBROB -0.292251880379 0.00193035418187\n",
      "ROTB -0.291426553181 0.00198339494718\n",
      "BTRO -0.298625850606 0.00156160568442\n",
      "IOROR -0.370645826566 0.000100674613657\n",
      "BOPBO -0.257165542603 0.00571314155474\n",
      "OPBO -0.262011273055 0.00495771088876\n",
      "BOP -0.25480460119 0.00611632135675\n",
      "BRBRO -0.286838999542 0.00230265031656\n",
      "RBROB -0.250925670261 0.00683266561957\n",
      "OBRBRO -0.303959531233 0.00130302592425\n"
     ]
    }
   ],
   "source": [
    "sig_corr = []\n",
    "for s,c,p in corr:\n",
    "    p = p/2.0\n",
    "    if p <= 0.05 and abs(c) > 0.25:\n",
    "        sig_corr.append((s,c,p))\n",
    "        print s,c,p        "
   ]
  },
  {
   "cell_type": "code",
   "execution_count": 49,
   "metadata": {
    "collapsed": false,
    "scrolled": false
   },
   "outputs": [],
   "source": [
    "# plot_seq_gains('a1',zip(*sig_corr)[0])"
   ]
  },
  {
   "cell_type": "markdown",
   "metadata": {},
   "source": [
    "Clearly, how much students did an action doesn't matter as much as who did it at least once (or more?)\n",
    "Let's repeat the analysis using # of students who did the sequence instead of frequency."
   ]
  },
  {
   "cell_type": "code",
   "execution_count": 50,
   "metadata": {
    "collapsed": true
   },
   "outputs": [],
   "source": [
    "df2 = df[df.Activity == 'a1']\n",
    "blocks = get_blocks(df2,get_students())\n",
    "frequencies = get_frequencies(blocks, shortest=3, longest=6)\n",
    "sum_frequencies = sum(frequencies.values(), Counter())\n",
    "counts_frequencies = Counter({f:sum([ 1 if f in freq else 0 for freq in frequencies.values()]) for f in list(sum_frequencies)})\n",
    "totals = {student:float(sum(count.values())) for student,count in frequencies.iteritems()}\n",
    "\n",
    "students, sequences = frequencies.keys(), sum_frequencies.keys()\n",
    "A = np.zeros((len(students), len(sequences)))\n",
    "A.shape\n",
    "\n",
    "\n",
    "for st,seqs in frequencies.iteritems():\n",
    "    i = students.index(st)\n",
    "    for sq,count in seqs.iteritems():\n",
    "        j = sequences.index(sq)\n",
    "        if count >= 1: x =1\n",
    "        else: x = 0\n",
    "        A[i][j] = x"
   ]
  },
  {
   "cell_type": "code",
   "execution_count": 52,
   "metadata": {
    "collapsed": false
   },
   "outputs": [],
   "source": [
    "from scipy.stats import ttest_ind\n",
    "gains = np.array([round(float(df_scores[df_scores[\"student\"]==student]['learning1score']),5) for student in students])\n",
    "\n",
    "tests = []\n",
    "seq_gains = {}\n",
    "for sq in sequences:\n",
    "    j = sequences.index(sq)\n",
    "    a = gains[np.where(A[:,j]==1)] #learning gains of student who used sequence\n",
    "    b = gains[np.where(A[:,j]==0)] #learning gains of student who didn't\n",
    "    t = ttest_ind(a, b, equal_var=False)\n",
    "    tests.append((sq, t[0], t[1]))\n",
    "    seq_gains[sq] = (a,b)"
   ]
  },
  {
   "cell_type": "code",
   "execution_count": 61,
   "metadata": {
    "collapsed": false
   },
   "outputs": [
    {
     "name": "stdout",
     "output_type": "stream",
     "text": [
      "Sequence, # students/96, t-test, p-value\n",
      "IOROR \t\t 12\t -3.8 \t 0.001\n",
      "BROROB \t\t 36\t -3.65 \t 0.0\n",
      "IORO \t\t 21\t -3.39 \t 0.001\n",
      "IOR \t\t 28\t -3.26 \t 0.001\n",
      "ROROBR \t\t 36\t -3.24 \t 0.001\n",
      "ORBR \t\t 68\t -3.03 \t 0.002\n",
      "TROBO \t\t 28\t -2.97 \t 0.002\n",
      "RORB \t\t 78\t -2.84 \t 0.004\n",
      "BOP \t\t 36\t -2.74 \t 0.004\n",
      "BOPB \t\t 22\t -2.73 \t 0.005\n",
      "BRORO \t\t 57\t -2.58 \t 0.006\n",
      "ROTB \t\t 14\t -2.55 \t 0.011\n",
      "BTRO \t\t 12\t -2.53 \t 0.013\n",
      "TPTRO \t\t 16\t -2.51 \t 0.01\n",
      "TPRO \t\t 18\t -2.51 \t 0.008\n",
      "OTB \t\t 29\t -2.48 \t 0.008\n",
      "BOROBR \t\t 38\t -2.42 \t 0.009\n",
      "TPT \t\t 85\t -2.32 \t 0.018\n",
      "TROB \t\t 36\t -2.3 \t 0.013\n",
      "BOPBO \t\t 20\t -2.29 \t 0.015\n",
      "OROBR \t\t 67\t -2.28 \t 0.013\n",
      "PTPTR \t\t 11\t -2.27 \t 0.021\n",
      "OPBOBO \t\t 19\t -2.22 \t 0.018\n",
      "OTBOBO \t\t 11\t -2.22 \t 0.023\n",
      "XBOBOB \t\t 26\t -2.21 \t 0.016\n",
      "TBRO \t\t 22\t -2.21 \t 0.017\n",
      "ORORB \t\t 64\t -2.17 \t 0.017\n",
      "RPITI \t\t 17\t -2.14 \t 0.021\n",
      "OBORPO \t\t 20\t -2.13 \t 0.021\n",
      "TPTROB \t\t 11\t -2.12 \t 0.028\n",
      "OBROR \t\t 60\t -2.1 \t 0.019\n",
      "BROR \t\t 79\t -2.1 \t 0.023\n",
      "TOTORO \t\t 15\t -2.1 \t 0.025\n",
      "OTBOB \t\t 12\t -2.09 \t 0.027\n",
      "RBROR \t\t 39\t -2.08 \t 0.02\n",
      "BOTP \t\t 11\t -2.06 \t 0.031\n",
      "RBRO \t\t 60\t -2.05 \t 0.022\n",
      "PTPT \t\t 52\t -2.02 \t 0.023\n",
      "ITPTP \t\t 26\t -2.02 \t 0.025\n",
      "ORBORO \t\t 59\t -2.01 \t 0.024\n",
      "BORPO \t\t 27\t -2.01 \t 0.026\n",
      "PTROBO \t\t 11\t -2.0 \t 0.034\n",
      "ROBRB \t\t 35\t -2.0 \t 0.025\n",
      "BRBROR \t\t 14\t -1.99 \t 0.032\n",
      "PTRO \t\t 21\t -1.98 \t 0.028\n",
      "PTROB \t\t 15\t -1.96 \t 0.033\n",
      "BTR \t\t 20\t -1.96 \t 0.031\n",
      "BORBOR \t\t 51\t -1.95 \t 0.027\n",
      "XBO \t\t 32\t -1.93 \t 0.029\n",
      "TROBOR \t\t 16\t -1.93 \t 0.033\n",
      "XBOB \t\t 31\t -1.93 \t 0.029\n",
      "RORBR \t\t 42\t -1.93 \t 0.029\n",
      "BRPR \t\t 12\t -1.91 \t 0.038\n",
      "RBORO \t\t 65\t -1.88 \t 0.032\n",
      "TRBOB \t\t 11\t -1.87 \t 0.043\n",
      "OPBOB \t\t 20\t -1.85 \t 0.038\n",
      "TROBOB \t\t 15\t -1.85 \t 0.04\n",
      "RBR \t\t 81\t -1.85 \t 0.038\n",
      "ORBOR \t\t 73\t -1.84 \t 0.037\n",
      "BOPBOB \t\t 16\t -1.83 \t 0.041\n",
      "ROBROB \t\t 31\t -1.82 \t 0.037\n",
      "OBRBRO \t\t 16\t -1.81 \t 0.042\n",
      "ORPOBO \t\t 11\t -1.8 \t 0.049\n",
      "OPOR \t\t 18\t -1.79 \t 0.044\n",
      "ROROB \t\t 83\t -1.78 \t 0.045\n",
      "OROROB \t\t 77\t -1.78 \t 0.041\n",
      "RBOR \t\t 78\t -1.77 \t 0.044\n",
      "OBTBR \t\t 16\t -1.77 \t 0.047\n",
      "OPBO \t\t 25\t -1.73 \t 0.046\n",
      "ROBOR \t\t 77\t -1.73 \t 0.046\n",
      "RBT \t\t 26\t -1.71 \t 0.047\n",
      "PBR \t\t 19\t 1.73 \t 0.046\n",
      "TOTOT \t\t 24\t 1.73 \t 0.046\n",
      "IBORO \t\t 16\t 1.82 \t 0.04\n",
      "ORORTO \t\t 11\t 1.84 \t 0.043\n",
      "BRBRBO \t\t 17\t 1.9 \t 0.034\n",
      "IBOROB \t\t 11\t 1.94 \t 0.036\n",
      "OBROP \t\t 12\t 1.96 \t 0.034\n",
      "ORORP \t\t 21\t 1.98 \t 0.028\n",
      "TRORO \t\t 15\t 2.02 \t 0.028\n",
      "PIP \t\t 23\t 2.03 \t 0.025\n",
      "RORTO \t\t 15\t 2.03 \t 0.028\n",
      "TRTBO \t\t 12\t 2.12 \t 0.023\n",
      "TRTBOB \t\t 12\t 2.12 \t 0.023\n",
      "BROP \t\t 16\t 2.14 \t 0.021\n",
      "PTRB \t\t 11\t 2.16 \t 0.024\n",
      "PTPTPR \t\t 11\t 2.2 \t 0.019\n",
      "TRP \t\t 11\t 2.23 \t 0.022\n",
      "RTBOB \t\t 21\t 2.48 \t 0.008\n",
      "RTBT \t\t 11\t 2.57 \t 0.011\n",
      "OPT \t\t 29\t 2.59 \t 0.006\n",
      "RTBOBO \t\t 18\t 2.84 \t 0.004\n",
      "OBRBRB \t\t 13\t 2.89 \t 0.005\n",
      "TRTB \t\t 16\t 3.05 \t 0.002\n",
      "BOBORO \t\t 84\t 3.09 \t 0.004\n",
      "TPOTO \t\t 18\t 3.1 \t 0.002\n",
      "ROPT \t\t 15\t 4.51 \t 0.0\n"
     ]
    }
   ],
   "source": [
    "sig_tests = []\n",
    "print \"Sequence, # students/{0}, t-test, p-value\".format(len(students))\n",
    "for s,t,p in tests:\n",
    "    p = p/2.0\n",
    "    if p <= 0.05:\n",
    "        n = len(seq_gains[s][0]) #number of students who did the sequence\n",
    "        if n > 10 and n < 86: # and 'P' in s:\n",
    "            sig_tests.append((s,n,t,p))\n",
    "\n",
    "# order by ttest value\n",
    "results = sorted(sig_tests, key=lambda x: x[2])\n",
    "for s,n,t,p in results:\n",
    "    print \"{0} \\t\\t {1}\\t {2} \\t {3}\".format(s, n, round(t,2), round(p,3))"
   ]
  },
  {
   "cell_type": "code",
   "execution_count": 64,
   "metadata": {
    "collapsed": false
   },
   "outputs": [
    {
     "data": {
      "image/png": "[encoded data removed]",
      "text/plain": [
       "<matplotlib.figure.Figure at 0x117669b0>"
      ]
     },
     "metadata": {},
     "output_type": "display_data"
    }
   ],
   "source": [
    "plt.figure()\n",
    "seq = 'ROPT'\n",
    "means = [np.mean(seq_gains[seq][0]),np.mean(seq_gains[seq][1])]\n",
    "stdes = [np.std(seq_gains[seq][0]),np.std(seq_gains[seq][1])]\n",
    "plt.boxplot(seq_gains[seq])\n",
    "plt.ylabel('Average learning gain')\n",
    "plt.xticks(range(1,3),[str(len(seq_gains[seq][0])) +' did it', str(len(seq_gains[seq][1])) + ' didn\\'t'])\n",
    "plt.title('Learning gains depending on use of sequence '+seq)\n",
    "plt.grid()"
   ]
  },
  {
   "cell_type": "code",
   "execution_count": null,
   "metadata": {
    "collapsed": true
   },
   "outputs": [],
   "source": []
  }
 ],
 "metadata": {
  "kernelspec": {
   "display_name": "Python 2",
   "language": "python",
   "name": "python2"
  },
  "language_info": {
   "codemirror_mode": {
    "name": "ipython",
    "version": 2
   },
   "file_extension": ".py",
   "mimetype": "text/x-python",
   "name": "python",
   "nbconvert_exporter": "python",
   "pygments_lexer": "ipython2",
   "version": "2.7.11"
  }
 },
 "nbformat": 4,
 "nbformat_minor": 0
}
