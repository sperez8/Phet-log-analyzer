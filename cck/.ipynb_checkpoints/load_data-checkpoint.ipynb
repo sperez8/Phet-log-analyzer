{
 "cells": [
  {
   "cell_type": "code",
   "execution_count": 1,
   "metadata": {
    "collapsed": true
   },
   "outputs": [],
   "source": [
    "import numpy as np\n",
    "import pandas as pd\n",
    "import sys\n",
    "import getpass\n",
    "import matplotlib.pyplot as plt\n",
    "np.set_printoptions(precision=2)\n",
    "pd.set_option('precision', 2)\n",
    "\n",
    "df = pd.read_csv('C:\\Users\\\\'+getpass.getuser()+'\\\\Google Drive\\Sarah Ido folder\\data\\CCK\\CCK click stream data\\phet_cck_user_actions+sophistication_WITHPAUSE.csv')\n",
    "df[\"Student#\"] = df[\"Student#\"].astype('category')\n",
    "df[\"Family\"]=df[\"Family\"].str.capitalize()\n",
    "#getting knowledge and attitude data for each student\n",
    "df_scores = pd.read_csv('C:\\Users\\\\'+getpass.getuser()+'\\\\Google Drive\\Sarah Ido folder\\data\\CCK\\\\2015.05.15 all CCK_cleaned.csv')\n",
    "\n",
    "#Fixing student ids\n",
    "# one student has two number 20717120 and 20377120\n",
    "df_scores['student'] = df_scores['StudentID']\n",
    "df['student'] = df['Student#']\n",
    "df_scores.loc[df_scores['StudentID'] == 20377120, 'student'] = 20717120\n",
    "# df.loc[df['Student#'] == 20377120 , 'student'] = 20717120\n",
    "\n",
    "# this one, his computer crashed so we have no log data 16204127\n",
    "df_scores = df_scores[df_scores['student'] != 16204127]\n",
    "\n",
    "df = df.drop('Student#', 1)\n",
    "df_scores = df_scores.drop('StudentID', 1)\n",
    "set(df['student'])==set(df_scores['student'])\n",
    "\n",
    "## Anonymizing data and saving\n",
    "df_out1 = df.copy()\n",
    "df_out2 = df_scores.copy()\n",
    "df_out1['Anon Student Id'] = [hash(str(x)) for x in df_out1['student']]\n",
    "df_out2['Anon Student Id'] = [hash(str(x)) for x in df_out2['student']]\n",
    "df_out1.to_csv(path_or_buf='C:\\Users\\\\'+getpass.getuser()+'\\\\Google Drive\\Sarah Ido folder\\data\\CCK\\MATCHING_phet_cck_user_actions+sophistication_WITHPAUSE_anonymized.txt', sep=',', header=True, index=False)\n",
    "df_out2.to_csv(path_or_buf='C:\\Users\\\\'+getpass.getuser()+'\\\\Google Drive\\Sarah Ido folder\\data\\CCK\\MATCHING_phet_cck_user_data_anonymized.txt', sep=',', header=True, index=False)\n",
    "df_out1 = df_out1.drop('student', 1)\n",
    "df_out2 = df_out2.drop('student', 1)\n",
    "df_out1.to_csv(path_or_buf='C:\\Users\\\\'+getpass.getuser()+'\\\\Google Drive\\Sarah Ido folder\\data\\CCK\\phet_cck_user_actions+sophistication_WITHPAUSE_anonymized.txt', sep=',', header=True, index=False)\n",
    "df_out2.to_csv(path_or_buf='C:\\Users\\\\'+getpass.getuser()+'\\\\Google Drive\\Sarah Ido folder\\data\\CCK\\phet_cck_user_data_anonymized.txt', sep=',', header=True, index=False)"
   ]
  },
  {
   "cell_type": "code",
   "execution_count": null,
   "metadata": {
    "collapsed": true
   },
   "outputs": [],
   "source": []
  }
 ],
 "metadata": {
  "kernelspec": {
   "display_name": "Python 2",
   "language": "python",
   "name": "python2"
  },
  "language_info": {
   "codemirror_mode": {
    "name": "ipython",
    "version": 2
   },
   "file_extension": ".py",
   "mimetype": "text/x-python",
   "name": "python",
   "nbconvert_exporter": "python",
   "pygments_lexer": "ipython2",
   "version": "2.7.11"
  }
 },
 "nbformat": 4,
 "nbformat_minor": 0
}
