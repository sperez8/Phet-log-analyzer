{
 "cells": [
  {
   "cell_type": "code",
   "execution_count": 1,
   "metadata": {
    "collapsed": true
   },
   "outputs": [],
   "source": [
    "%matplotlib inline\n",
    "import numpy as np\n",
    "import pandas as pd\n",
    "import sys\n",
    "import getpass\n",
    "#import matplotlib.pyplot as plt\n"
   ]
  },
  {
   "cell_type": "markdown",
   "metadata": {},
   "source": [
    "## Reading in dataframe"
   ]
  },
  {
   "cell_type": "code",
   "execution_count": 38,
   "metadata": {
    "collapsed": false
   },
   "outputs": [],
   "source": [
    "df = pd.read_csv('C:\\Users\\\\'+getpass.getuser()+'\\\\Google Drive\\Sarah Ido folder\\data\\CCK\\CCK click stream data\\phet_cck_user_actions+sophistication_WITHPAUSE.csv')\n",
    "df[\"Student#\"] = df[\"Student#\"].astype('category')"
   ]
  },
  {
   "cell_type": "markdown",
   "metadata": {},
   "source": [
    "## Getting a sense of the data"
   ]
  },
  {
   "cell_type": "code",
   "execution_count": 40,
   "metadata": {
    "collapsed": false
   },
   "outputs": [
    {
     "data": {
      "text/plain": [
       "'There are 96 students with an average number of actions of: 537.94 actvity 1, 407.00 for actvity 2, 81.83 for actvity 3'"
      ]
     },
     "execution_count": 40,
     "metadata": {},
     "output_type": "execute_result"
    }
   ],
   "source": [
    "actions = [np.mean([  df[ (df['Student#']==student) & \n",
    "            (df['Activity']=='a'+str(activity)) ].shape[0] for student in set(df['Student#'])  ]) for activity in [1,2,3]]\n",
    "'''There are {0} students with an average number of actions of: {1:.2f} actvity 1, {2:.2f} for actvity 2, {3:.2f} for actvity 3'''.format(len(set(df['Student#'])), actions[0],actions[1],actions[2])"
   ]
  },
  {
   "cell_type": "code",
   "execution_count": 41,
   "metadata": {
    "collapsed": false
   },
   "outputs": [
    {
     "data": {
      "text/html": [
       "<div>\n",
       "<table border=\"1\" class=\"dataframe\">\n",
       "  <thead>\n",
       "    <tr style=\"text-align: right;\">\n",
       "      <th></th>\n",
       "      <th>Activity</th>\n",
       "      <th>Student#</th>\n",
       "      <th>Time Stamp</th>\n",
       "      <th>Family</th>\n",
       "      <th>Action</th>\n",
       "      <th>Component</th>\n",
       "      <th>Outcome</th>\n",
       "      <th>#circuits</th>\n",
       "      <th>#loops</th>\n",
       "      <th>#components</th>\n",
       "      <th>#battery</th>\n",
       "      <th>#circuitSwitch</th>\n",
       "      <th>#grabBagResistor</th>\n",
       "      <th>#lightBulb</th>\n",
       "      <th>#resistor</th>\n",
       "      <th>#seriesAmmeter</th>\n",
       "    </tr>\n",
       "  </thead>\n",
       "  <tbody>\n",
       "    <tr>\n",
       "      <th>0</th>\n",
       "      <td>a1</td>\n",
       "      <td>10009106</td>\n",
       "      <td>1363978501425</td>\n",
       "      <td>Build</td>\n",
       "      <td>add</td>\n",
       "      <td>lightBulb</td>\n",
       "      <td>None</td>\n",
       "      <td>NaN</td>\n",
       "      <td>NaN</td>\n",
       "      <td>NaN</td>\n",
       "      <td>NaN</td>\n",
       "      <td>NaN</td>\n",
       "      <td>NaN</td>\n",
       "      <td>NaN</td>\n",
       "      <td>NaN</td>\n",
       "      <td>NaN</td>\n",
       "    </tr>\n",
       "    <tr>\n",
       "      <th>1</th>\n",
       "      <td>a1</td>\n",
       "      <td>10009106</td>\n",
       "      <td>1363978503940</td>\n",
       "      <td>Organize</td>\n",
       "      <td>organizeWorkspace</td>\n",
       "      <td>junction</td>\n",
       "      <td>None</td>\n",
       "      <td>NaN</td>\n",
       "      <td>NaN</td>\n",
       "      <td>NaN</td>\n",
       "      <td>NaN</td>\n",
       "      <td>NaN</td>\n",
       "      <td>NaN</td>\n",
       "      <td>NaN</td>\n",
       "      <td>NaN</td>\n",
       "      <td>NaN</td>\n",
       "    </tr>\n",
       "    <tr>\n",
       "      <th>2</th>\n",
       "      <td>a1</td>\n",
       "      <td>10009106</td>\n",
       "      <td>1363978506034</td>\n",
       "      <td>Organize</td>\n",
       "      <td>organizeWorkspace</td>\n",
       "      <td>junction</td>\n",
       "      <td>None</td>\n",
       "      <td>NaN</td>\n",
       "      <td>NaN</td>\n",
       "      <td>NaN</td>\n",
       "      <td>NaN</td>\n",
       "      <td>NaN</td>\n",
       "      <td>NaN</td>\n",
       "      <td>NaN</td>\n",
       "      <td>NaN</td>\n",
       "      <td>NaN</td>\n",
       "    </tr>\n",
       "    <tr>\n",
       "      <th>3</th>\n",
       "      <td>a1</td>\n",
       "      <td>10009106</td>\n",
       "      <td>1363978508034</td>\n",
       "      <td>Organize</td>\n",
       "      <td>organizeWorkspace</td>\n",
       "      <td>junction</td>\n",
       "      <td>None</td>\n",
       "      <td>NaN</td>\n",
       "      <td>NaN</td>\n",
       "      <td>NaN</td>\n",
       "      <td>NaN</td>\n",
       "      <td>NaN</td>\n",
       "      <td>NaN</td>\n",
       "      <td>NaN</td>\n",
       "      <td>NaN</td>\n",
       "      <td>NaN</td>\n",
       "    </tr>\n",
       "    <tr>\n",
       "      <th>4</th>\n",
       "      <td>a1</td>\n",
       "      <td>10009106</td>\n",
       "      <td>1363978509800</td>\n",
       "      <td>Organize</td>\n",
       "      <td>organizeWorkspace</td>\n",
       "      <td>lightBulb</td>\n",
       "      <td>None</td>\n",
       "      <td>NaN</td>\n",
       "      <td>NaN</td>\n",
       "      <td>NaN</td>\n",
       "      <td>NaN</td>\n",
       "      <td>NaN</td>\n",
       "      <td>NaN</td>\n",
       "      <td>NaN</td>\n",
       "      <td>NaN</td>\n",
       "      <td>NaN</td>\n",
       "    </tr>\n",
       "  </tbody>\n",
       "</table>\n",
       "</div>"
      ],
      "text/plain": [
       "  Activity  Student#     Time Stamp    Family             Action  Component  \\\n",
       "0       a1  10009106  1363978501425     Build                add  lightBulb   \n",
       "1       a1  10009106  1363978503940  Organize  organizeWorkspace   junction   \n",
       "2       a1  10009106  1363978506034  Organize  organizeWorkspace   junction   \n",
       "3       a1  10009106  1363978508034  Organize  organizeWorkspace   junction   \n",
       "4       a1  10009106  1363978509800  Organize  organizeWorkspace  lightBulb   \n",
       "\n",
       "  Outcome  #circuits  #loops  #components  #battery  #circuitSwitch  \\\n",
       "0    None        NaN     NaN          NaN       NaN             NaN   \n",
       "1    None        NaN     NaN          NaN       NaN             NaN   \n",
       "2    None        NaN     NaN          NaN       NaN             NaN   \n",
       "3    None        NaN     NaN          NaN       NaN             NaN   \n",
       "4    None        NaN     NaN          NaN       NaN             NaN   \n",
       "\n",
       "   #grabBagResistor  #lightBulb  #resistor  #seriesAmmeter  \n",
       "0               NaN         NaN        NaN             NaN  \n",
       "1               NaN         NaN        NaN             NaN  \n",
       "2               NaN         NaN        NaN             NaN  \n",
       "3               NaN         NaN        NaN             NaN  \n",
       "4               NaN         NaN        NaN             NaN  "
      ]
     },
     "execution_count": 41,
     "metadata": {},
     "output_type": "execute_result"
    }
   ],
   "source": [
    "df.head()"
   ]
  },
  {
   "cell_type": "markdown",
   "metadata": {},
   "source": [
    "## Let's look at sequence of action types for Activity 2\n",
    "For each student we want to find the number of transitions from one type of actions to another"
   ]
  },
  {
   "cell_type": "code",
   "execution_count": 72,
   "metadata": {
    "collapsed": false
   },
   "outputs": [
    {
     "name": "stdout",
     "output_type": "stream",
     "text": [
      "The following are the possible actions grouped by family:\n",
      "\n",
      "Reset:\t reset\n",
      "pause:\t pause\n",
      "Extra:\t moreVoltsOption,join,remove,changeResistance,sliderEndDrag,add,organizeWorkspace,joinX\n",
      "Test:\t startMeasure,playPause,traceMeasure,endMeasure\n",
      "Organize:\t organizeWorkspace\n",
      "Build:\t join,reverse,switch,changeResistance,sliderEndDrag,add,changeVoltage,joinX\n",
      "Interface:\t deiconified,help,iconified,exitSim,enableComponent,disableComponent,view\n",
      "Revise:\t join,reverse,switch,remove,changeResistance,sliderEndDrag,add,split,changeVoltage,joinX\n"
     ]
    }
   ],
   "source": [
    "df2 = df[df['Activity']==\"a2\"]\n",
    "print \"The following are the possible actions grouped by family:\\n\"\n",
    "actionTypes = {}\n",
    "for family in set(df2['Family']):\n",
    "    actionTypes[family] = list(set(df2[df2['Family']==family]['Action']))\n",
    "    print '{0}:\\t {1}'.format(family,','.join(list(set(df2[df2['Family']==family]['Action']))))"
   ]
  },
  {
   "cell_type": "code",
   "execution_count": 111,
   "metadata": {
    "collapsed": false
   },
   "outputs": [
    {
     "data": {
      "text/plain": [
       "array([[   0.,    0.,    0.,    0.,    0.,    0.,    0.,    0.],\n",
       "       [   0.,    0.,    0.,    4.,    0.,    0.,    5.,    3.],\n",
       "       [   0.,    0.,    0.,    0.,    0.,    0.,    0.,    0.],\n",
       "       [   0.,    5.,    0.,    5.,    2.,    1.,    8.,    0.],\n",
       "       [   0.,    0.,    0.,    2.,   13.,   27.,    1.,    8.],\n",
       "       [   0.,    1.,    0.,    0.,   31.,   63.,    1.,    4.],\n",
       "       [   0.,    6.,    0.,   10.,    0.,    0.,  112.,    7.],\n",
       "       [   0.,    0.,    0.,    0.,    5.,    8.,    8.,   13.]])"
      ]
     },
     "execution_count": 111,
     "metadata": {},
     "output_type": "execute_result"
    }
   ],
   "source": [
    "# sequences = {before:{after:0 for after in actions.keys()} for before in actions.keys()}\n",
    "# sequences\n",
    "families = actionTypes.keys()\n",
    "data = np.zeros((len(families),len(families)), dtype='float')\n",
    "sequence = list(df2[df2['Student#']==10009106]['Family'])\n",
    "for i,family in enumerate(sequence):\n",
    "    if i +1 < len(sequence):\n",
    "        data[families.index(family)][families.index(sequence[i+1])] += 1\n",
    "    \n",
    "data"
   ]
  },
  {
   "cell_type": "code",
   "execution_count": 112,
   "metadata": {
    "collapsed": false
   },
   "outputs": [
    {
     "data": {
      "image/png": "[encoded data removed]",
      "text/plain": [
       "<matplotlib.figure.Figure at 0x979df98>"
      ]
     },
     "metadata": {},
     "output_type": "display_data"
    }
   ],
   "source": [
    "column_labels = families\n",
    "row_labels = families\n",
    "fig, ax = plt.subplots()\n",
    "heatmap = ax.pcolor(data, cmap=plt.cm.Blues)\n",
    "\n",
    "# put the major ticks at the middle of each cell\n",
    "ax.set_xticks(np.arange(data.shape[0])+0.5, minor=False)\n",
    "ax.set_yticks(np.arange(data.shape[1])+0.5, minor=False)\n",
    "\n",
    "# want a more natural, table-like display\n",
    "ax.invert_yaxis()\n",
    "ax.xaxis.tick_top()\n",
    "\n",
    "ax.set_xticklabels(row_labels, minor=False)\n",
    "ax.set_yticklabels(column_labels, minor=False)\n",
    "plt.show()"
   ]
  },
  {
   "cell_type": "code",
   "execution_count": null,
   "metadata": {
    "collapsed": true
   },
   "outputs": [],
   "source": []
  }
 ],
 "metadata": {
  "kernelspec": {
   "display_name": "Python 2",
   "language": "python",
   "name": "python2"
  },
  "language_info": {
   "codemirror_mode": {
    "name": "ipython",
    "version": 2
   },
   "file_extension": ".py",
   "mimetype": "text/x-python",
   "name": "python",
   "nbconvert_exporter": "python",
   "pygments_lexer": "ipython2",
   "version": "2.7.11"
  }
 },
 "nbformat": 4,
 "nbformat_minor": 0
}
