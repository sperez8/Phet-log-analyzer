{
 "cells": [
  {
   "cell_type": "code",
   "execution_count": 1,
   "metadata": {
    "collapsed": false
   },
   "outputs": [],
   "source": [
    "import networkx as nx\n",
    "import matplotlib\n",
    "import matplotlib.pyplot as plt\n",
    "import numpy as np\n",
    "import pandas as pd\n",
    "import sys\n",
    "import getpass  #this might not be needed anymore\n",
    "from os import environ, name\n",
    "from functions import *\n",
    "from random import shuffle\n",
    "from random import seed\n",
    "np.set_printoptions(precision=2)\n",
    "pd.set_option('display.max_columns', None)\n",
    "pd.set_option('display.max_rows', None)\n",
    "pd.set_option('precision', 2)\n",
    "%matplotlib inline\n",
    "matplotlib.style.use('ggplot')\n",
    "matplotlib.rcParams['figure.figsize'] = 25, 15"
   ]
  },
  {
   "cell_type": "markdown",
   "metadata": {},
   "source": [
    "### Loading the data"
   ]
  },
  {
   "cell_type": "code",
   "execution_count": 118,
   "metadata": {
    "collapsed": false
   },
   "outputs": [],
   "source": [
    "PATH = '/Google Drive/Jonathan Sarah Ido folder/data/CCK/'\n",
    "def get_path(path = PATH):\n",
    "    if os.name == 'posix':\n",
    "        return os.environ['HOME']+path #'/Google Drive/Jonathan Sarah Ido folder/data/CCK/'\n",
    "    elif os.name == 'nt':\n",
    "        return os.environ['USERPROFILE']+ path.replace('/','\\\\') #'\\\\Google Drive\\Jonathan Sarah Ido folder\\data\\CCK\\\\'\n",
    "    else:\n",
    "        raise Exception('OS not recongnized. I\\'m confused.')\n",
    "\n",
    "# dfx = pd.read_csv(get_path() + 'phet_cck_user_actions+sophistication_WITHPAUSE_more_circuit_info.txt',index_col=False)\n",
    "dfx = pd.read_csv('C:\\Users\\sperez8\\git\\Phet-log-analyzer\\cck\\\\raw_data_parsing_check\\phet_cck_user_actions+sophistication_WITHPAUSE_more_circuit_info.txt',index_col=False)\n",
    "dfx[\"student\"] = dfx[\"student\"].astype('category')\n",
    "dfx[\"Family\"]=dfx[\"Family\"].str.capitalize()\n",
    "\n",
    "df_scores = pd.read_csv(data_path + 'MATCHING_phet_cck_user_data_anonymized.txt')\n",
    "df_scores[\"student\"] = df_scores[\"student\"].astype('category')\n",
    "\n",
    "####\n",
    "\n",
    "df = pd.read_csv(get_path() + 'MATCHING_phet_cck_user_actions+sophistication_WITHPAUSE_anonymized_DONT_TOUCH_ME.txt')\n",
    "df[\"student\"] = df[\"student\"].astype('category')\n",
    "df[\"Family\"]=df[\"Family\"].str.capitalize()\n",
    "\n",
    "def remodel_families(row):\n",
    "    if row[\"Family\"] == \"Build\" or row[\"Family\"] == \"Revise\":  # or row[\"Family\"] == \"Extra\":\n",
    "        if row[\"Outcome\"] != \"None\":\n",
    "            return \"ConstructWithFeedback\"\n",
    "        else:\n",
    "            return \"Construct\"\n",
    "    else:\n",
    "        return row[\"Family\"]\n",
    "    \n",
    "def remodel_families2(row):\n",
    "    if row[\"Family\"] == \"ConstructWithFeedback\" or row[\"Family\"] == \"Organize\":\n",
    "        return \"Construct\"\n",
    "    else:\n",
    "        return row[\"Family\"]\n",
    "\n",
    "df['Family'] = df.apply (lambda row: remodel_families (row),axis=1)\n",
    "df2 = df.copy()\n",
    "df2['Family'] = df2.apply (lambda row: remodel_families2 (row),axis=1)"
   ]
  },
  {
   "cell_type": "code",
   "execution_count": 119,
   "metadata": {
    "collapsed": false
   },
   "outputs": [],
   "source": [
    "def get_blocks_withTime(df, students, add_spaces = False, ignore = [], start = True):\n",
    "    '''gets blocks of sequences for a list of students'''\n",
    "    def convert(action,ignore):\n",
    "        if action[0] in ignore:\n",
    "            return ''\n",
    "        elif action == 'Reset':\n",
    "            return 'X'\n",
    "        elif action == 'ConstructWithFeedback':\n",
    "            return 'F'\n",
    "        else: \n",
    "            return action[0]\n",
    "    if start:\n",
    "        if add_spaces:\n",
    "            blocks = {student:'S ' for student in students}\n",
    "        else:\n",
    "            blocks = {student:'S' for student in students}\n",
    "    else:\n",
    "        blocks = {student:'' for student in students}\n",
    "    for student in students:\n",
    "        sequence =  list(df[df['student']==student]['Family'])\n",
    "        time_stamps =  list(df[df['student']==student]['Time Stamp'])\n",
    "        time_stamps = (time_stamps - min(time_stamps))/1000.  #human readable seconds\n",
    "        time_coord=[]  #coordinate array for broken bar plot, takes array of (start time, duration)\n",
    "        p = re.compile(r'(.)\\1*')  #this regex finds all action blocks of length 1+\n",
    "        #print ''.join([convert(action,ignore) for action in sequence])\n",
    "        #print time_stamps\n",
    "        #use finditer to return a sequence of matches as an iterator \n",
    "        for match in p.finditer(''.join([convert(action,ignore) for action in sequence])):\n",
    "            ind = match.span()  #this gives start and end of matched block\n",
    "            if ind[1] >= len(time_stamps):  #block location offset from real index by 1\n",
    "                duration = time_stamps[ind[1]-1] - time_stamps[ind[0]]  #time duration of block\n",
    "            else:\n",
    "                duration = time_stamps[ind[1]] - time_stamps[ind[0]]\n",
    "            time_coord.append((time_stamps[ind[0]],duration))\n",
    "            #print match.group(), match.span(), duration\n",
    "        #actual regex that converts block of similar actions to just one action\n",
    "        block = re.sub(r'(.)\\1+', r'\\1',''.join([convert(action,ignore) for action in sequence]))\n",
    "        if add_spaces:\n",
    "            spaced_block = block[0]\n",
    "            for b in block[1:]:\n",
    "                spaced_block += ' '+b\n",
    "            blocks[student] += spaced_block\n",
    "        else:\n",
    "            blocks[student] += block\n",
    "    return blocks, time_coord"
   ]
  },
  {
   "cell_type": "code",
   "execution_count": 120,
   "metadata": {
    "collapsed": false
   },
   "outputs": [],
   "source": [
    "def plot_barGraph(df,ACTIVITY, studentID, pltFamilies):\n",
    "    \n",
    "    #get blocks of actions and their time coordinate for broken bar plot\n",
    "    blocks, time_coord = get_blocks_withTime(df[df.Activity==ACTIVITY],{studentID},add_spaces=True, ignore = [], start = False)\n",
    "    #create figure and axes\n",
    "    fig, ax = plt.subplots()\n",
    "    #set figure size\n",
    "    #need this to convert desired action families back to letter code\n",
    "    def convert(action,ignore):\n",
    "            if action[0] in ignore:\n",
    "                return ''\n",
    "            elif action == 'Reset':\n",
    "                return 'X'\n",
    "            elif action == 'ConstructWithFeedback':\n",
    "                return 'F'\n",
    "            else: \n",
    "                return action[0]\n",
    "    nn=1\n",
    "    colorArr=iter(plt.cm.rainbow(np.linspace(0,1,len(pltFamilies))))\n",
    "    for action in pltFamilies: \n",
    "        #next 2 lines sample out relevant action blocks for one broken horizontal bar\n",
    "        out = [(x,y) for x,y in zip(blocks[studentID].split(),time_coord) if any(convert(action,[])==z for z in x)]\n",
    "        junk, time_coord_filtered = map(list,zip(*out))  \n",
    "        ax.broken_barh(time_coord_filtered,(10*nn,9),facecolors=next(colorArr))\n",
    "        nn+=1\n",
    "    \n",
    "    ax.set_ylim(5, len(pltFamilies)*10+15)\n",
    "    ax.set_xlim(0, time_coord[-1][0]+time_coord[-1][1]+2)\n",
    "    ax.set_xlabel('Time (s)', fontsize=25)\n",
    "    ax.xaxis.set_tick_params(labelsize=20)\n",
    "    ax.set_yticks(range(15,len(pltFamilies)*10+15,10))\n",
    "    ax.set_yticklabels(pltFamilies, fontsize=25)\n",
    "    ax.grid(True)\n",
    "    \n",
    "    plt.show()\n"
   ]
  },
  {
   "cell_type": "markdown",
   "metadata": {},
   "source": [
    "## Using new categories\n",
    "Here are the new \"family\" action categories."
   ]
  },
  {
   "cell_type": "code",
   "execution_count": 121,
   "metadata": {
    "collapsed": false
   },
   "outputs": [
    {
     "data": {
      "text/plain": [
       "{'Construct',\n",
       " 'Constructwithfeedback',\n",
       " 'Constructwithfire',\n",
       " 'Interface',\n",
       " 'Pause',\n",
       " 'Test_basic_noncontactammeter',\n",
       " 'Test_basic_voltmeter',\n",
       " 'Test_complex_noncontactammeter',\n",
       " 'Test_complex_voltmeter',\n",
       " 'Test_lightbulb',\n",
       " 'Test_other',\n",
       " 'Test_series_noncontactammeter'}"
      ]
     },
     "execution_count": 121,
     "metadata": {},
     "output_type": "execute_result"
    }
   ],
   "source": [
    "set(dfx['Family'])"
   ]
  },
  {
   "cell_type": "code",
   "execution_count": 125,
   "metadata": {
    "collapsed": false
   },
   "outputs": [],
   "source": [
    "converter =  {'Construct':'C',\n",
    "    'Constructwithfeedback':'F',\n",
    "    'Constructwithfire':'Z',\n",
    "    'Interface':'I',\n",
    "    'Pause':'P',\n",
    "    'Test_lightbulb':'Tl',\n",
    "    'Test_other':'To',\n",
    "    'Test_basic_noncontactammeter':'Tba',\n",
    "    'Test_basic_voltmeter':'Tbv',\n",
    "    'Test_basic_seriesammeter':'Tbs',\n",
    "    'Test_complex_noncontactammeter':'Tca',\n",
    "    'Test_complex_seriesammeter':'Tcs',\n",
    "    'Test_complex_voltmeter':'Tcv',\n",
    "    'Test_parallel_noncontactammeter':'Tpa',\n",
    "    'Test_parallel_voltmeter':'Tpv',\n",
    "    'Test_parallel_seriesammeter':'Tps',\n",
    "    'Test_series_noncontactammeter':'Tsa',\n",
    "    'Test_series_voltmeter':'Tsv',\n",
    "    'Test_series_seriesammeter':'Tss',}\n",
    "\n",
    "pltFamilies_new=converter.keys()\n",
    "pltFamilies_new.sort()\n",
    "pltFamilies_new.remove('Interface')\n",
    "\n",
    "def get_blocks_withTime_new(df, students, add_spaces = False, ignore = [], start = True):\n",
    "    '''gets blocks of sequences for a list of students'''\n",
    "    def convert(action,ignore):\n",
    "        return converter[action]\n",
    "    \n",
    "    if start:\n",
    "        if add_spaces:\n",
    "            blocks = {student:'S ' for student in students}\n",
    "        else:\n",
    "            blocks = {student:'S' for student in students}\n",
    "    else:\n",
    "        blocks = {student:'' for student in students}\n",
    "\n",
    "    for student in students:\n",
    "        sequence =  list(df[df['student']==student]['Family'])\n",
    "        time_stamps =  list(df[df['student']==student]['Time Stamp'])\n",
    "        time_stamps = (time_stamps - min(time_stamps))/1000.  #human readable seconds\n",
    "        time_coord=[]  #coordinate array for broken bar plot, takes array of (start time, duration)\n",
    "        p = re.compile(r'([A-Z][a-z]{0,2})\\1*')  #this regex finds all action blocks of length 1+\n",
    "        #print ''.join([convert(action,ignore) for action in sequence])\n",
    "        #print time_stamps\n",
    "        #use finditer to return a sequence of matches as an iterator\n",
    "        previous_start = 0\n",
    "        for match in p.finditer(''.join([convert(action,ignore) for action in sequence])):\n",
    "            ind = match.span()  #this gives start and end of matched block\n",
    "            #for matches of action denoted by more than 1 letter, need to correct the span\n",
    "            ind = (previous_start, previous_start + (ind[1]-ind[0])/len(set(match.group())))\n",
    "            previous_start = ind[1]\n",
    "            #print match.group(), ind\n",
    "            if ind[1] >= len(time_stamps):  #block location offset from real index by 1\n",
    "                duration = time_stamps[ind[1]-1] - time_stamps[ind[0]]  #time duration of block\n",
    "                #print time_stamps[ind[1]-1], time_stamps[ind[0]]  #time duration of block\n",
    "            else:\n",
    "                duration = time_stamps[ind[1]] - time_stamps[ind[0]]\n",
    "                #print time_stamps[ind[1]] , time_stamps[ind[0]]\n",
    "            time_coord.append((time_stamps[ind[0]],duration))\n",
    "            #print match.group(), match.span(), duration\n",
    "        #actual regex that converts block of similar actions to just one action\n",
    "        block = re.sub(r'([A-Z][a-z]{0,2})\\1+', r'\\1',''.join([convert(action,ignore) for action in sequence]))\n",
    "        if add_spaces:\n",
    "            spaced_block = block[0]\n",
    "            for b in block[1:]:\n",
    "                spaced_block += ' '+b\n",
    "            blocks[student] += spaced_block\n",
    "        else:\n",
    "            blocks[student] += block\n",
    "    return blocks, time_coord\n",
    " "
   ]
  },
  {
   "cell_type": "code",
   "execution_count": 126,
   "metadata": {
    "collapsed": false
   },
   "outputs": [
    {
     "data": {
      "image/png": "[encoded data removed]",
      "text/plain": [
       "<matplotlib.figure.Figure at 0x10ebacf8>"
      ]
     },
     "metadata": {},
     "output_type": "display_data"
    }
   ],
   "source": [
    "def plot_barGraph_new(df,ACTIVITY, studentID, pltFamilies):\n",
    "    \n",
    "    #get blocks of actions and their time coordinate for broken bar plot\n",
    "    blocks, time_coord = get_blocks_withTime_new(df[df.Activity==ACTIVITY],{studentID},add_spaces=False, ignore = [], start = False)\n",
    "    #create figure and axes\n",
    "    fig, ax = plt.subplots()\n",
    "    #set figure size\n",
    "    #need this to convert desired action families back to letter code\n",
    "\n",
    "    def convert(action,ignore):\n",
    "        return converter[action]\n",
    "    nn=1\n",
    "    colorArr=iter(plt.cm.rainbow(np.linspace(0,1,len(pltFamilies))))\n",
    "    \n",
    "    splitblocks = re.compile(r'([A-Z]{1}[a-z]{0,2})\\1*').split(blocks[studentID])\n",
    "    splitblocks = [s for s in splitblocks if s != \"\"]\n",
    "    axis_labels = []\n",
    "    for action in pltFamilies: \n",
    "        #next 2 lines sample out relevant action blocks for one broken horizontal bar\n",
    "        #print action\n",
    "        #print (blocks[studentID])\n",
    "        #print len(splitblocks), len(time_coord)\n",
    "        if convert(action,[]) in splitblocks:\n",
    "            axis_labels.append(action)\n",
    "#             print convert(action,[])\n",
    "#             print sum([1 for s in splitblocks if s ==convert(action,()) ])\n",
    "            #out = [(x,y) for x,y in zip(splitblocks,time_coord) if any(convert(action,[]) == z for z in x)]\n",
    "            out = [(x,y) for x,y in zip(splitblocks,time_coord) if convert(action,[]) == x]\n",
    "            try:\n",
    "                junk, time_coord_filtered = map(list,zip(*out))  \n",
    "                ax.broken_barh(time_coord_filtered,(10*nn,9),facecolors=next(colorArr))\n",
    "                nn+=1\n",
    "            except:\n",
    "                print 'failed', action,convert(action,[])\n",
    "#                 for x,y in zip(splitblocks,time_coord):\n",
    "#                     print convert(action,[]), x,y, convert(action,[]) == x\n",
    "                pass\n",
    "    ax.set_ylim(5, len(axis_labels)*10+15)\n",
    "    ax.set_xlim(0, time_coord[-1][0]+time_coord[-1][1]+2)\n",
    "    ax.set_xlabel('Time (s)', fontsize=25)\n",
    "    ax.xaxis.set_tick_params(labelsize=20)\n",
    "    ax.set_yticks(range(15,len(axis_labels)*10+15,10))\n",
    "    ax.set_yticklabels(axis_labels, fontsize=25)\n",
    "    ax.grid(True)\n",
    "    \n",
    "    plt.show()\n",
    "plot_barGraph_new(dfx,'a2', 94792123, pltFamilies_new) "
   ]
  },
  {
   "cell_type": "markdown",
   "metadata": {},
   "source": [
    "## Plot broken bar plots for both activities and different archtypical students"
   ]
  },
  {
   "cell_type": "code",
   "execution_count": null,
   "metadata": {
    "collapsed": false
   },
   "outputs": [],
   "source": [
    "#creating new columns in df_scores to find interesting cases to look at\n",
    "df_scores[\"learning diff a2\"]=df_scores[\"z post t2\"]-df_scores[\"z pre\"]\n",
    "df_scores[\"learning gains a2\"]=(df_scores[\"post t2\"]-df_scores[\"pre\"])/df_scores[\"pre\"]\n",
    "df_scores.sort_values(\"learning diff a2\")"
   ]
  },
  {
   "cell_type": "code",
   "execution_count": null,
   "metadata": {
    "collapsed": true
   },
   "outputs": [],
   "source": [
    "#Define what action families to plot and in what order.\n",
    "#pltFamilies=['Construct', 'Organize', 'Interface', 'Extra', 'Pause', 'Test', 'ConstructWithFeedback', 'Reset']\n",
    "pltFamilies=['Construct', 'Organize', 'ConstructWithFeedback','Pause', 'Test']\n",
    "pltFamilies2=['Construct','Pause', 'Test']\n",
    "pltFamilies3=['ContructWithFeedback','Construct','Pause', 'Test']"
   ]
  },
  {
   "cell_type": "markdown",
   "metadata": {},
   "source": [
    "## Resistor activity"
   ]
  },
  {
   "cell_type": "markdown",
   "metadata": {},
   "source": [
    "### Low to high scores"
   ]
  },
  {
   "cell_type": "code",
   "execution_count": null,
   "metadata": {
    "collapsed": false
   },
   "outputs": [],
   "source": [
    "df_scores[df_scores[\"student\"]==86170104]  #high learning gains (low to high z-scores)"
   ]
  },
  {
   "cell_type": "code",
   "execution_count": null,
   "metadata": {
    "collapsed": false
   },
   "outputs": [],
   "source": [
    "plot_barGraph(df,'a2', 86170104, pltFamilies)  "
   ]
  },
  {
   "cell_type": "code",
   "execution_count": null,
   "metadata": {
    "collapsed": false,
    "scrolled": false
   },
   "outputs": [],
   "source": [
    "plot_barGraph(df,'a2', 86170104, pltFamilies)  "
   ]
  },
  {
   "cell_type": "code",
   "execution_count": null,
   "metadata": {
    "collapsed": false
   },
   "outputs": [],
   "source": [
    "df_scores[df_scores[\"student\"]==1075123]  #high learning gains (low to high z-scores)"
   ]
  },
  {
   "cell_type": "code",
   "execution_count": null,
   "metadata": {
    "collapsed": false
   },
   "outputs": [],
   "source": [
    "plot_barGraph(df,'a2', 1075123, pltFamilies)  #another low to high z-scores"
   ]
  },
  {
   "cell_type": "markdown",
   "metadata": {},
   "source": [
    "### High to low scores"
   ]
  },
  {
   "cell_type": "code",
   "execution_count": null,
   "metadata": {
    "collapsed": false
   },
   "outputs": [],
   "source": [
    "df_scores[df_scores[\"student\"]==31091114]  #high learning gains (low to high z-scores)"
   ]
  },
  {
   "cell_type": "code",
   "execution_count": null,
   "metadata": {
    "collapsed": false
   },
   "outputs": [],
   "source": [
    "plot_barGraph(df,'a2',31091114, pltFamilies) #high low z-scores"
   ]
  },
  {
   "cell_type": "code",
   "execution_count": null,
   "metadata": {
    "collapsed": false
   },
   "outputs": [],
   "source": [
    "df_scores[df_scores[\"student\"]==13205111]"
   ]
  },
  {
   "cell_type": "code",
   "execution_count": null,
   "metadata": {
    "collapsed": false
   },
   "outputs": [],
   "source": [
    "plot_barGraph(df,'a2',13205111, pltFamilies) #high low z-scores"
   ]
  },
  {
   "cell_type": "markdown",
   "metadata": {},
   "source": [
    "### Low to low scores"
   ]
  },
  {
   "cell_type": "code",
   "execution_count": null,
   "metadata": {
    "collapsed": false
   },
   "outputs": [],
   "source": [
    "df_scores[df_scores[\"student\"]==8889108]"
   ]
  },
  {
   "cell_type": "code",
   "execution_count": null,
   "metadata": {
    "collapsed": false
   },
   "outputs": [],
   "source": [
    "plot_barGraph(df,'a2',8889108, pltFamilies) #low low z-scores"
   ]
  },
  {
   "cell_type": "code",
   "execution_count": null,
   "metadata": {
    "collapsed": false
   },
   "outputs": [],
   "source": [
    "df_scores[df_scores[\"student\"]==19930112]"
   ]
  },
  {
   "cell_type": "code",
   "execution_count": null,
   "metadata": {
    "collapsed": false
   },
   "outputs": [],
   "source": [
    "plot_barGraph(df,'a2',19930112, pltFamilies) #low low z-scores"
   ]
  },
  {
   "cell_type": "markdown",
   "metadata": {},
   "source": [
    "### High to high scores"
   ]
  },
  {
   "cell_type": "code",
   "execution_count": null,
   "metadata": {
    "collapsed": false
   },
   "outputs": [],
   "source": [
    "df_scores[df_scores[\"student\"]==8580120]"
   ]
  },
  {
   "cell_type": "code",
   "execution_count": null,
   "metadata": {
    "collapsed": false
   },
   "outputs": [],
   "source": [
    "plot_barGraph(df,'a2',8580120, pltFamilies) #high high z-scores"
   ]
  },
  {
   "cell_type": "code",
   "execution_count": null,
   "metadata": {
    "collapsed": false
   },
   "outputs": [],
   "source": [
    "df_scores[df_scores[\"student\"]==18838125]"
   ]
  },
  {
   "cell_type": "code",
   "execution_count": null,
   "metadata": {
    "collapsed": false
   },
   "outputs": [],
   "source": [
    "plot_barGraph(df,'a2',18838125, pltFamilies) #high high z-scores"
   ]
  },
  {
   "cell_type": "markdown",
   "metadata": {},
   "source": [
    "## Plotting fewer action families: Construct = (Construct, ConstructWithFeedback, Organize)"
   ]
  },
  {
   "cell_type": "markdown",
   "metadata": {},
   "source": [
    "### Low to high"
   ]
  },
  {
   "cell_type": "code",
   "execution_count": null,
   "metadata": {
    "collapsed": false
   },
   "outputs": [],
   "source": [
    "plot_barGraph(df2,'a2', 86170104, pltFamilies2) "
   ]
  },
  {
   "cell_type": "markdown",
   "metadata": {},
   "source": [
    "### High high"
   ]
  },
  {
   "cell_type": "code",
   "execution_count": null,
   "metadata": {
    "collapsed": false
   },
   "outputs": [],
   "source": [
    "plot_barGraph(df2,'a2',8580120, pltFamilies2) #high high z-scores"
   ]
  },
  {
   "cell_type": "markdown",
   "metadata": {},
   "source": [
    "### High to low"
   ]
  },
  {
   "cell_type": "code",
   "execution_count": null,
   "metadata": {
    "collapsed": false
   },
   "outputs": [],
   "source": [
    "plot_barGraph(df2,'a2',31091114, pltFamilies2) #high low z-scores"
   ]
  },
  {
   "cell_type": "markdown",
   "metadata": {},
   "source": [
    "### Low to low"
   ]
  },
  {
   "cell_type": "code",
   "execution_count": null,
   "metadata": {
    "collapsed": false
   },
   "outputs": [],
   "source": [
    "plot_barGraph(df2,'a2',8889108, pltFamilies2) #low low z-scores"
   ]
  },
  {
   "cell_type": "code",
   "execution_count": null,
   "metadata": {
    "collapsed": false
   },
   "outputs": [],
   "source": [
    "plot_barGraph(df,'a2',94792123, pltFamilies)"
   ]
  },
  {
   "cell_type": "code",
   "execution_count": null,
   "metadata": {
    "collapsed": false
   },
   "outputs": [],
   "source": [
    "plot_barGraph(df3,'a2',94792123, pltFamilies)"
   ]
  },
  {
   "cell_type": "code",
   "execution_count": null,
   "metadata": {
    "collapsed": true
   },
   "outputs": [],
   "source": []
  }
 ],
 "metadata": {
  "anaconda-cloud": {},
  "kernelspec": {
   "display_name": "Python [Root]",
   "language": "python",
   "name": "Python [Root]"
  },
  "language_info": {
   "codemirror_mode": {
    "name": "ipython",
    "version": 2
   },
   "file_extension": ".py",
   "mimetype": "text/x-python",
   "name": "python",
   "nbconvert_exporter": "python",
   "pygments_lexer": "ipython2",
   "version": "2.7.12"
  }
 },
 "nbformat": 4,
 "nbformat_minor": 0
}
