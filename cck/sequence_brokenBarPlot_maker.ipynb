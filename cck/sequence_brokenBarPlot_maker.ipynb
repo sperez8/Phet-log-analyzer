{
 "cells": [
  {
   "cell_type": "code",
   "execution_count": 1,
   "metadata": {
    "collapsed": false
   },
   "outputs": [],
   "source": [
    "import networkx as nx\n",
    "import matplotlib\n",
    "import matplotlib.pyplot as plt\n",
    "import numpy as np\n",
    "import pandas as pd\n",
    "import sys\n",
    "import getpass  #this might not be needed anymore\n",
    "from os import environ, name\n",
    "from functions import *\n",
    "from random import shuffle\n",
    "from random import seed\n",
    "np.set_printoptions(precision=2)\n",
    "pd.set_option('display.max_columns', None)\n",
    "pd.set_option('display.max_rows', None)\n",
    "pd.set_option('precision', 2)\n",
    "%matplotlib inline\n",
    "matplotlib.style.use('ggplot')\n",
    "matplotlib.rcParams['figure.figsize'] = 25, 15"
   ]
  },
  {
   "cell_type": "markdown",
   "metadata": {},
   "source": [
    "### Loading the data"
   ]
  },
  {
   "cell_type": "code",
   "execution_count": 76,
   "metadata": {
    "collapsed": false
   },
   "outputs": [
    {
     "name": "stdout",
     "output_type": "stream",
     "text": [
      "\n"
     ]
    }
   ],
   "source": [
    "PATH = '/Google Drive/Jonathan Sarah Ido folder/data/CCK/'\n",
    "def get_path(path = PATH):\n",
    "    if os.name == 'posix':\n",
    "        return os.environ['HOME']+path #'/Google Drive/Jonathan Sarah Ido folder/data/CCK/'\n",
    "    elif os.name == 'nt':\n",
    "        return os.environ['USERPROFILE']+ path.replace('/','\\\\') #'\\\\Google Drive\\Jonathan Sarah Ido folder\\data\\CCK\\\\'\n",
    "    else:\n",
    "        raise Exception('OS not recongnized. I\\'m confused.')\n",
    "\n",
    "# dfx = pd.read_csv(get_path() + 'phet_cck_user_actions+sophistication_WITHPAUSE_more_circuit_info.txt',index_col=False)\n",
    "dfx = pd.read_csv('C:\\Users\\Sarah\\Documents\\git\\Phet-log-analyzer\\cck\\\\raw_data_parsing_check\\phet_cck_user_actions+sophistication_WITHPAUSE_more_circuit_info.txt',index_col=False)\n",
    "dfx[\"student\"] = dfx[\"student\"].astype('category')\n",
    "dfx[\"Family\"]=dfx[\"Family\"].str.capitalize()\n",
    "\n",
    "df_scores = pd.read_csv(data_path + 'MATCHING_phet_cck_user_data_anonymized.txt')\n",
    "df_scores[\"student\"] = df_scores[\"student\"].astype('category')\n",
    "\n",
    "####\n",
    "\n",
    "df = pd.read_csv(get_path() + 'MATCHING_phet_cck_user_actions+sophistication_WITHPAUSE_anonymized_DONT_TOUCH_ME.txt')\n",
    "df[\"student\"] = df[\"student\"].astype('category')\n",
    "df[\"Family\"]=df[\"Family\"].str.capitalize()\n",
    "\n",
    "def remodel_families(row):\n",
    "    if row[\"Family\"] == \"Build\" or row[\"Family\"] == \"Revise\":  # or row[\"Family\"] == \"Extra\":\n",
    "        if row[\"Outcome\"] != \"None\":\n",
    "            return \"ConstructWithFeedback\"\n",
    "        else:\n",
    "            return \"Construct\"\n",
    "    else:\n",
    "        return row[\"Family\"]\n",
    "    \n",
    "def remodel_families2(row):\n",
    "    if row[\"Family\"] == \"ConstructWithFeedback\" or row[\"Family\"] == \"Organize\":\n",
    "        return \"Construct\"\n",
    "    else:\n",
    "        return row[\"Family\"]\n",
    "\n",
    "df['Family'] = df.apply (lambda row: remodel_families (row),axis=1)\n",
    "df2 = df.copy()\n",
    "df2['Family'] = df2.apply (lambda row: remodel_families2 (row),axis=1)"
   ]
  },
  {
   "cell_type": "code",
   "execution_count": 77,
   "metadata": {
    "collapsed": false
   },
   "outputs": [],
   "source": [
    "def get_blocks_withTime(df, students, add_spaces = False, ignore = [], start = True):\n",
    "    '''gets blocks of sequences for a list of students'''\n",
    "    def convert(action,ignore):\n",
    "        if action[0] in ignore:\n",
    "            return ''\n",
    "        elif action == 'Reset':\n",
    "            return 'X'\n",
    "        elif action == 'ConstructWithFeedback':\n",
    "            return 'F'\n",
    "        else: \n",
    "            return action[0]\n",
    "    if start:\n",
    "        if add_spaces:\n",
    "            blocks = {student:'S ' for student in students}\n",
    "        else:\n",
    "            blocks = {student:'S' for student in students}\n",
    "    else:\n",
    "        blocks = {student:'' for student in students}\n",
    "    for student in students:\n",
    "        sequence =  list(df[df['student']==student]['Family'])\n",
    "        time_stamps =  list(df[df['student']==student]['Time Stamp'])\n",
    "        time_stamps = (time_stamps - min(time_stamps))/1000.  #human readable seconds\n",
    "        time_coord=[]  #coordinate array for broken bar plot, takes array of (start time, duration)\n",
    "        p = re.compile(r'(.)\\1*')  #this regex finds all action blocks of length 1+\n",
    "        #print ''.join([convert(action,ignore) for action in sequence])\n",
    "        #print time_stamps\n",
    "        #use finditer to return a sequence of matches as an iterator \n",
    "        for match in p.finditer(''.join([convert(action,ignore) for action in sequence])):\n",
    "            ind = match.span()  #this gives start and end of matched block\n",
    "            if ind[1] >= len(time_stamps):  #block location offset from real index by 1\n",
    "                duration = time_stamps[ind[1]-1] - time_stamps[ind[0]]  #time duration of block\n",
    "            else:\n",
    "                duration = time_stamps[ind[1]] - time_stamps[ind[0]]\n",
    "            time_coord.append((time_stamps[ind[0]],duration))\n",
    "            #print match.group(), match.span(), duration\n",
    "        #actual regex that converts block of similar actions to just one action\n",
    "        block = re.sub(r'(.)\\1+', r'\\1',''.join([convert(action,ignore) for action in sequence]))\n",
    "        if add_spaces:\n",
    "            spaced_block = block[0]\n",
    "            for b in block[1:]:\n",
    "                spaced_block += ' '+b\n",
    "            blocks[student] += spaced_block\n",
    "        else:\n",
    "            blocks[student] += block\n",
    "    return blocks, time_coord"
   ]
  },
  {
   "cell_type": "code",
   "execution_count": 78,
   "metadata": {
    "collapsed": false
   },
   "outputs": [],
   "source": [
    "def plot_barGraph(df,ACTIVITY, studentID, pltFamilies):\n",
    "    \n",
    "    #get blocks of actions and their time coordinate for broken bar plot\n",
    "    blocks, time_coord = get_blocks_withTime(df[df.Activity==ACTIVITY],{studentID},add_spaces=True, ignore = [], start = False)\n",
    "    #create figure and axes\n",
    "    fig, ax = plt.subplots()\n",
    "    #set figure size\n",
    "    #need this to convert desired action families back to letter code\n",
    "    def convert(action,ignore):\n",
    "            if action[0] in ignore:\n",
    "                return ''\n",
    "            elif action == 'Reset':\n",
    "                return 'X'\n",
    "            elif action == 'ConstructWithFeedback':\n",
    "                return 'F'\n",
    "            else: \n",
    "                return action[0]\n",
    "    nn=1\n",
    "    colorArr=iter(plt.cm.rainbow(np.linspace(0,1,len(pltFamilies))))\n",
    "    for action in pltFamilies: \n",
    "        #next 2 lines sample out relevant action blocks for one broken horizontal bar\n",
    "        out = [(x,y) for x,y in zip(blocks[studentID].split(),time_coord) if any(convert(action,[])==z for z in x)]\n",
    "        junk, time_coord_filtered = map(list,zip(*out))  \n",
    "        ax.broken_barh(time_coord_filtered,(10*nn,9),facecolors=next(colorArr))\n",
    "        nn+=1\n",
    "    \n",
    "    ax.set_ylim(5, len(pltFamilies)*10+15)\n",
    "    ax.set_xlim(0, time_coord[-1][0]+time_coord[-1][1]+2)\n",
    "    ax.set_xlabel('Time (s)', fontsize=25)\n",
    "    ax.xaxis.set_tick_params(labelsize=20)\n",
    "    ax.set_yticks(range(15,len(pltFamilies)*10+15,10))\n",
    "    ax.set_yticklabels(pltFamilies, fontsize=25)\n",
    "    ax.grid(True)\n",
    "    \n",
    "    plt.show()\n"
   ]
  },
  {
   "cell_type": "markdown",
   "metadata": {},
   "source": [
    "## Using new categories\n",
    "Here are the new \"family\" action categories."
   ]
  },
  {
   "cell_type": "code",
   "execution_count": 84,
   "metadata": {
    "collapsed": false
   },
   "outputs": [
    {
     "name": "stdout",
     "output_type": "stream",
     "text": [
      " ['C', 'C', 'C', 'C', 'C', 'C', 'C', 'C', 'C', 'C', 'C', 'C', 'C', 'C', 'C', 'C', 'C', 'C', 'C', 'C', 'C', 'C', 'C', 'C', 'C', 'C', 'C', 'C', 'C', 'C', 'C', 'I', 'I', 'Tl', 'Tl', 'Tl', 'Tl', 'Tl', 'Tl', 'Tl', 'Tl', 'To', 'C', 'C', 'C', 'C', 'C', 'C', 'C', 'C', 'Tl', 'F', 'F', 'Tba', 'Tba', 'I', 'Z', 'F', 'Z', 'Z', 'F', 'Z', 'F', 'F', 'F', 'F', 'F', 'F', 'F', 'F', 'F', 'F', 'Tba', 'F', 'F', 'F', 'F', 'F', 'C', 'C', 'F', 'F', 'Z', 'F', 'F', 'F', 'F', 'C', 'C', 'F', 'Tbv', 'Tbv', 'F', 'Z', 'F', 'F', 'F', 'F', 'F', 'F', 'F', 'Z', 'F', 'F', 'F', 'F', 'C', 'Z', 'F', 'Z', 'F', 'Z', 'F', 'C', 'C', 'C', 'C', 'C', 'C', 'C', 'C', 'C', 'C', 'C', 'C', 'C', 'C', 'C', 'C', 'I', 'C', 'C', 'C', 'C', 'C', 'C', 'C', 'C', 'C', 'C', 'C', 'C', 'C', 'C', 'C', 'C', 'C', 'C', 'C', 'C', 'C', 'C', 'C', 'C', 'C', 'C', 'C', 'C', 'C', 'C', 'C', 'C', 'C', 'C', 'C', 'C', 'C', 'I', 'F', 'C', 'C', 'C', 'C', 'Test_noncontactammeter', 'Test_noncontactammeter', 'Test_noncontactammeter', 'Test_noncontactammeter', 'C', 'C', 'C', 'C', 'C', 'F', 'C', 'C', 'C', 'C', 'F', 'C', 'F', 'C', 'C', 'C', 'C', 'F', 'C', 'C', 'C', 'C', 'C', 'C', 'C', 'C', 'C', 'F', 'Test_voltmeter', 'Test_voltmeter', 'Test_voltmeter', 'Test_voltmeter', 'Test_noncontactammeter', 'Test_noncontactammeter', 'Test_noncontactammeter', 'Test_noncontactammeter', 'Test_noncontactammeter', 'Test_noncontactammeter', 'Test_noncontactammeter', 'Test_noncontactammeter', 'C', 'C', 'C', 'C', 'C', 'F', 'F', 'F', 'Test_voltmeter', 'Test_voltmeter', 'I', 'I', 'I', 'I', 'I', 'I', 'C', 'F', 'C', 'F', 'C', 'C', 'C', 'C', 'C', 'C', 'C', 'F', 'F', 'C', 'F', 'C', 'F', 'C', 'C', 'C', 'C', 'C', 'F', 'C', 'F', 'C', 'C', 'C', 'C', 'C', 'C', 'F', 'C', 'F', 'C', 'C', 'C', 'C', 'C', 'C', 'C', 'F', 'C', 'X', 'C', 'C', 'C', 'C', 'C', 'C', 'C', 'C', 'C', 'C', 'C', 'C', 'C', 'C', 'C', 'C', 'C', 'C', 'C', 'C', 'C', 'C', 'C', 'C', 'C', 'C', 'C', 'C', 'C', 'C', 'C', 'C', 'C', 'C', 'C', 'C', 'C', 'C', 'C', 'C', 'C', 'C', 'C', 'C', 'C', 'C', 'C', 'C', 'C', 'C', 'C', 'C', 'C', 'C', 'C', 'C', 'C', 'C', 'C', 'C', 'C', 'C', 'C', 'C', 'C', 'C', 'C', 'C', 'C', 'C', 'C', 'C', 'C', 'C', 'C', 'C', 'C', 'C', 'C', 'C', 'C', 'C', 'C', 'C', 'C', 'C', 'C', 'C', 'C', 'C', 'C', 'C', 'C', 'C', 'C', 'C', 'C', 'C', 'C', 'C', 'C', 'C', 'C', 'C', 'C', 'Tba', 'Tsa', 'Test_noncontactammeter', 'Test_noncontactammeter', 'Test_noncontactammeter', 'Test_noncontactammeter', 'C', 'C', 'C', 'C', 'C', 'C', 'C', 'C', 'C', 'C', 'C', 'C', 'C', 'C', 'C', 'C', 'C', 'C', 'C', 'C', 'C', 'C', 'C', 'C', 'Test_noncontactammeter', 'Test_noncontactammeter', 'Test_noncontactammeter', 'Test_noncontactammeter', 'Test_noncontactammeter', 'Test_noncontactammeter', 'Test_noncontactammeter', 'Test_noncontactammeter', 'Test_noncontactammeter', 'Test_noncontactammeter', 'Test_noncontactammeter', 'Test_noncontactammeter', 'Tba', 'Tba', 'Tsa', 'Tsa', 'Test_noncontactammeter', 'Test_noncontactammeter', 'Test_noncontactammeter', 'C', 'C', 'C', 'C', 'C', 'C', 'C', 'C', 'C', 'C', 'C', 'C', 'C', 'C', 'C', 'C', 'C', 'C', 'C', 'C', 'C', 'C', 'C', 'C', 'Test_noncontactammeter', 'Test_noncontactammeter', 'Test_noncontactammeter', 'Test_noncontactammeter', 'Test_noncontactammeter', 'Tba', 'Test_noncontactammeter', 'Test_noncontactammeter', 'Test_noncontactammeter', 'Test_noncontactammeter', 'Test_noncontactammeter', 'Test_noncontactammeter', 'Test_noncontactammeter', 'Test_noncontactammeter', 'Test_noncontactammeter', 'Test_noncontactammeter', 'Test_noncontactammeter', 'C', 'C', 'C', 'C', 'C', 'C', 'C', 'C', 'C', 'Test_noncontactammeter', 'Test_noncontactammeter', 'Test_noncontactammeter', 'C', 'C', 'C', 'C', 'C', 'C', 'C', 'C']\n",
      "CCCCCCCCCCCCCCCCCCCCCCCCCCCCCCC (0, 31) 75.028 0.0\n",
      "II (31, 33) 85.779 84.384\n",
      "TlTlTlTlTlTlTlTl (33, 49) 125.252 88.5\n",
      "To (49, 51) 130.866 126.972\n",
      "CCCCCCCC (51, 59) 201.937 167.463\n",
      "Tl (59, 61) 203.81 202.865\n",
      "FF (61, 63) 211.813 205.595\n",
      "TbaTba (63, 69) 230.295 216.0\n",
      "I (69, 70) 232.709 232.709\n",
      "Z (70, 71) 236.049 236.049\n",
      "F (71, 72) 242.654 242.654\n",
      "ZZ (72, 74) 250.769 248.172\n",
      "F (74, 75) 251.381 251.381\n",
      "Z (75, 76) 251.906 251.906\n",
      "FFFFFFFFFF (76, 86) 299.681 252.458\n",
      "Tba (86, 89) 301.999 300.267\n",
      "FFFFF (89, 94) 328.461 320.538\n",
      "CC (94, 96) 331.341 330.769\n",
      "FF (96, 98) 332.382 331.854\n",
      "Z (98, 99) 332.984 332.984\n",
      "FFFF (99, 103) 335.58 333.5\n",
      "CC (103, 105) 336.63 336.089\n",
      "F (105, 106) 337.179 337.179\n",
      "TbvTbv (106, 112) 342.069 337.681\n",
      "F (112, 113) 343.59 343.59\n",
      "Z (113, 114) 387.338 387.338\n",
      "FFFFFFF (114, 121) 402.531 391.195\n",
      "Z (121, 122) 403.04 403.04\n",
      "FFFF (122, 126) 409.223 405.416\n",
      "C (126, 127) 410.018 410.018\n",
      "Z (127, 128) 410.876 410.876\n",
      "F (128, 129) 412.841 412.841\n",
      "Z (129, 130) 414.16 414.16\n",
      "F (130, 131) 419.86 419.86\n",
      "Z (131, 132) 421.366 421.366\n",
      "F (132, 133) 422.473 422.473\n",
      "CCCCCCCCCCCCCCCC (133, 149) 442.771 423.185\n",
      "I (149, 150) 443.601 443.601\n",
      "CCCCCCCCCCCCCCCCCCCCCCCCCCCCCCCCCCCCC (150, 187) 497.339 443.641\n",
      "I (187, 188) 500.167 500.167\n",
      "F (188, 189) 501.007 501.007\n",
      "CCCC (189, 193) 507.637 501.725\n",
      "Tes (193, 196) 515.09 509.933\n",
      "Tes (215, 218) 560.626 554.711\n",
      "Tes (237, 240) 671.262 666.273\n",
      "Tes (259, 262) 713.28 711.296\n",
      "CCCCC (281, 286) 809.438 809.217\n",
      "F (286, 287) 809.491 809.491\n",
      "CCCC (287, 291) 809.683 809.523\n",
      "F (291, 292) 809.747 809.747\n",
      "C (292, 293) 809.811 809.811\n",
      "F (293, 294) 809.907 809.907\n",
      "CCCC (294, 298) 810.179 809.969\n",
      "F (298, 299) 810.251 810.251\n",
      "CCCCCCCCC (299, 308) 811.002 810.313\n",
      "F (308, 309) 811.066 811.066\n",
      "Tes (309, 312) 818.156 811.178\n",
      "Tes (323, 326) 835.866 833.096\n",
      "Tes (337, 340) 863.859 859.955\n",
      "Tes (351, 354) 882.176 879.441\n",
      "Tes (365, 368) 904.547 903.52\n",
      "Tes (387, 390) 948.264 945.482\n",
      "Tes (409, 412) 970.885 969.88\n",
      "Tes (431, 434) 1009.838 1006.729\n",
      "Tes (453, 456) 1036.719 1034.392\n",
      "Tes (475, 478) 1209.342 1204.455\n",
      "Tes (497, 500)"
     ]
    },
    {
     "ename": "IndexError",
     "evalue": "index 499 is out of bounds for axis 0 with size 492",
     "output_type": "error",
     "traceback": [
      "\u001b[1;31m---------------------------------------------------------------------------\u001b[0m",
      "\u001b[1;31mIndexError\u001b[0m                                Traceback (most recent call last)",
      "\u001b[1;32m<ipython-input-84-48dd61b9233f>\u001b[0m in \u001b[0;36m<module>\u001b[1;34m()\u001b[0m\n\u001b[0;32m     67\u001b[0m     \u001b[1;32mreturn\u001b[0m \u001b[0mblocks\u001b[0m\u001b[1;33m,\u001b[0m \u001b[0mtime_coord\u001b[0m\u001b[1;33m\u001b[0m\u001b[0m\n\u001b[0;32m     68\u001b[0m \u001b[1;33m\u001b[0m\u001b[0m\n\u001b[1;32m---> 69\u001b[1;33m \u001b[0mblocks\u001b[0m\u001b[1;33m,\u001b[0m \u001b[0mtime_coord\u001b[0m \u001b[1;33m=\u001b[0m \u001b[0mget_blocks_withTime_new\u001b[0m\u001b[1;33m(\u001b[0m\u001b[0mdfx\u001b[0m\u001b[1;33m[\u001b[0m\u001b[0mdfx\u001b[0m\u001b[1;33m.\u001b[0m\u001b[0mActivity\u001b[0m\u001b[1;33m==\u001b[0m\u001b[1;34m'a2'\u001b[0m\u001b[1;33m]\u001b[0m\u001b[1;33m,\u001b[0m\u001b[1;33m{\u001b[0m\u001b[1;36m94792123\u001b[0m\u001b[1;33m}\u001b[0m\u001b[1;33m,\u001b[0m\u001b[0madd_spaces\u001b[0m\u001b[1;33m=\u001b[0m\u001b[0mTrue\u001b[0m\u001b[1;33m,\u001b[0m \u001b[0mignore\u001b[0m \u001b[1;33m=\u001b[0m \u001b[1;33m[\u001b[0m\u001b[1;33m]\u001b[0m\u001b[1;33m,\u001b[0m \u001b[0mstart\u001b[0m \u001b[1;33m=\u001b[0m \u001b[0mFalse\u001b[0m\u001b[1;33m)\u001b[0m\u001b[1;33m\u001b[0m\u001b[0m\n\u001b[0m\u001b[0;32m     70\u001b[0m \u001b[1;31m# plot_barGraph(dfx,'a2', 94792123, pltFamilies_new)\u001b[0m\u001b[1;33m\u001b[0m\u001b[1;33m\u001b[0m\u001b[0m\n",
      "\u001b[1;32m<ipython-input-84-48dd61b9233f>\u001b[0m in \u001b[0;36mget_blocks_withTime_new\u001b[1;34m(df, students, add_spaces, ignore, start)\u001b[0m\n\u001b[0;32m     49\u001b[0m         \u001b[1;32mfor\u001b[0m \u001b[0mmatch\u001b[0m \u001b[1;32min\u001b[0m \u001b[0mp\u001b[0m\u001b[1;33m.\u001b[0m\u001b[0mfinditer\u001b[0m\u001b[1;33m(\u001b[0m\u001b[1;34m''\u001b[0m\u001b[1;33m.\u001b[0m\u001b[0mjoin\u001b[0m\u001b[1;33m(\u001b[0m\u001b[1;33m[\u001b[0m\u001b[0mconvert\u001b[0m\u001b[1;33m(\u001b[0m\u001b[0maction\u001b[0m\u001b[1;33m,\u001b[0m\u001b[0mignore\u001b[0m\u001b[1;33m)\u001b[0m \u001b[1;32mfor\u001b[0m \u001b[0maction\u001b[0m \u001b[1;32min\u001b[0m \u001b[0msequence\u001b[0m\u001b[1;33m]\u001b[0m\u001b[1;33m)\u001b[0m\u001b[1;33m)\u001b[0m\u001b[1;33m:\u001b[0m\u001b[1;33m\u001b[0m\u001b[0m\n\u001b[0;32m     50\u001b[0m             \u001b[0mind\u001b[0m \u001b[1;33m=\u001b[0m \u001b[0mmatch\u001b[0m\u001b[1;33m.\u001b[0m\u001b[0mspan\u001b[0m\u001b[1;33m(\u001b[0m\u001b[1;33m)\u001b[0m  \u001b[1;31m#this gives start and end of matched block\u001b[0m\u001b[1;33m\u001b[0m\u001b[0m\n\u001b[1;32m---> 51\u001b[1;33m             \u001b[1;32mprint\u001b[0m \u001b[0mmatch\u001b[0m\u001b[1;33m.\u001b[0m\u001b[0mgroup\u001b[0m\u001b[1;33m(\u001b[0m\u001b[1;33m)\u001b[0m\u001b[1;33m,\u001b[0m \u001b[0mind\u001b[0m\u001b[1;33m,\u001b[0m \u001b[0mtime_stamps\u001b[0m\u001b[1;33m[\u001b[0m\u001b[0mind\u001b[0m\u001b[1;33m[\u001b[0m\u001b[1;36m1\u001b[0m\u001b[1;33m]\u001b[0m\u001b[1;33m-\u001b[0m\u001b[1;36m1\u001b[0m\u001b[1;33m]\u001b[0m\u001b[1;33m,\u001b[0m\u001b[0mtime_stamps\u001b[0m\u001b[1;33m[\u001b[0m\u001b[0mind\u001b[0m\u001b[1;33m[\u001b[0m\u001b[1;36m0\u001b[0m\u001b[1;33m]\u001b[0m\u001b[1;33m]\u001b[0m\u001b[1;33m\u001b[0m\u001b[0m\n\u001b[0m\u001b[0;32m     52\u001b[0m             \u001b[1;32mif\u001b[0m \u001b[0mind\u001b[0m\u001b[1;33m[\u001b[0m\u001b[1;36m1\u001b[0m\u001b[1;33m]\u001b[0m \u001b[1;33m>=\u001b[0m \u001b[0mlen\u001b[0m\u001b[1;33m(\u001b[0m\u001b[0mtime_stamps\u001b[0m\u001b[1;33m)\u001b[0m\u001b[1;33m:\u001b[0m  \u001b[1;31m#block location offset from real index by 1\u001b[0m\u001b[1;33m\u001b[0m\u001b[0m\n\u001b[0;32m     53\u001b[0m                 \u001b[0mduration\u001b[0m \u001b[1;33m=\u001b[0m \u001b[0mtime_stamps\u001b[0m\u001b[1;33m[\u001b[0m\u001b[0mind\u001b[0m\u001b[1;33m[\u001b[0m\u001b[1;36m1\u001b[0m\u001b[1;33m]\u001b[0m\u001b[1;33m-\u001b[0m\u001b[1;36m1\u001b[0m\u001b[1;33m]\u001b[0m \u001b[1;33m-\u001b[0m \u001b[0mtime_stamps\u001b[0m\u001b[1;33m[\u001b[0m\u001b[0mind\u001b[0m\u001b[1;33m[\u001b[0m\u001b[1;36m0\u001b[0m\u001b[1;33m]\u001b[0m\u001b[1;33m]\u001b[0m  \u001b[1;31m#time duration of block\u001b[0m\u001b[1;33m\u001b[0m\u001b[0m\n",
      "\u001b[1;31mIndexError\u001b[0m: index 499 is out of bounds for axis 0 with size 492"
     ]
    }
   ],
   "source": [
    "converter =  {'Construct':'C',\n",
    "    'Constructwithfeedback':'F',\n",
    "    'Constructwithfire':'Z',\n",
    "    'Interface':'I',\n",
    "    'Reset':'X',\n",
    "    'Test_lightbulb_noncontactammeter':'Tl',\n",
    "    'Test_lightbulb_voltmeter':'Tl',\n",
    "    'Test_noncontactammeter':'Test_noncontactammeter',#bug\n",
    "    'Test_seriesammeter':'Test_seriesammeter',#bug\n",
    "    'Test_voltmeter':'Test_voltmeter',#bug\n",
    "    'Test_other_noncontactammeter':'To',\n",
    "    'Test_other_playpause':'To',\n",
    "    'Test_other_stepbutton':'To',\n",
    "    'Test_other_voltmeter':'To',\n",
    "    'Test_basic_noncontactammeter':'Tba',\n",
    "    'Test_basic_voltmeter':'Tbv',\n",
    "    'Test_complex_noncontactammeter':'Tca',\n",
    "    'Test_complex_seriesammeter':'Tca',\n",
    "    'Test_complex_voltmeter':'Tcv',\n",
    "    'Test_parallel_noncontactammeter':'Tpa',\n",
    "    'Test_series_noncontactammeter':'Tsa',\n",
    "    'Test_series_voltmeter':'Tsv'}\n",
    "\n",
    "pltFamilies_new=converter.keys()\n",
    "\n",
    "def get_blocks_withTime_new(df, students, add_spaces = False, ignore = [], start = True):\n",
    "    '''gets blocks of sequences for a list of students'''\n",
    "    def convert(action,ignore):\n",
    "        return converter[action]\n",
    "    \n",
    "    if start:\n",
    "        if add_spaces:\n",
    "            blocks = {student:'S ' for student in students}\n",
    "        else:\n",
    "            blocks = {student:'S' for student in students}\n",
    "    else:\n",
    "        blocks = {student:'' for student in students}\n",
    "\n",
    "    for student in students:\n",
    "        sequence =  list(df[df['student']==student]['Family'])\n",
    "        time_stamps =  list(df[df['student']==student]['Time Stamp'])\n",
    "        time_stamps = (time_stamps - min(time_stamps))/1000.  #human readable seconds\n",
    "        time_coord=[]  #coordinate array for broken bar plot, takes array of (start time, duration)\n",
    "        p = re.compile(r'([A-Z][a-z]{0,2})\\1*')  #this regex finds all action blocks of length 1+\n",
    "        #print ''.join([convert(action,ignore) for action in sequence])\n",
    "        #print time_stamps\n",
    "        #use finditer to return a sequence of matches as an iterator \n",
    "        print [convert(s,[]) for s in sequence]\n",
    "        for match in p.finditer(''.join([convert(action,ignore) for action in sequence])):\n",
    "            ind = match.span()  #this gives start and end of matched block\n",
    "            print match.group(), ind, time_stamps[ind[1]-1],time_stamps[ind[0]]\n",
    "            if ind[1] >= len(time_stamps):  #block location offset from real index by 1\n",
    "                duration = time_stamps[ind[1]-1] - time_stamps[ind[0]]  #time duration of block\n",
    "            else:\n",
    "                duration = time_stamps[ind[1]] - time_stamps[ind[0]]\n",
    "            time_coord.append((time_stamps[ind[0]],duration))\n",
    "            #print match.group(), match.span(), duration\n",
    "        #actual regex that converts block of similar actions to just one action\n",
    "        block = re.sub(r'([A-Z][a-z]{0,2})\\1+', r'\\1',''.join([convert(action,ignore) for action in sequence]))\n",
    "        if add_spaces:\n",
    "            spaced_block = block[0]\n",
    "            for b in block[1:]:\n",
    "                spaced_block += ' '+b\n",
    "            blocks[student] += spaced_block\n",
    "        else:\n",
    "            blocks[student] += block\n",
    "    return blocks, time_coord\n",
    "\n",
    "blocks, time_coord = get_blocks_withTime_new(dfx[dfx.Activity=='a2'],{94792123},add_spaces=True, ignore = [], start = False)\n",
    "# plot_barGraph(dfx,'a2', 94792123, pltFamilies_new)  "
   ]
  },
  {
   "cell_type": "markdown",
   "metadata": {},
   "source": [
    "## Plot broken bar plots for both activities and different archtypical students"
   ]
  },
  {
   "cell_type": "code",
   "execution_count": null,
   "metadata": {
    "collapsed": false
   },
   "outputs": [],
   "source": [
    "#creating new columns in df_scores to find interesting cases to look at\n",
    "df_scores[\"learning diff a2\"]=df_scores[\"z post t2\"]-df_scores[\"z pre\"]\n",
    "df_scores[\"learning gains a2\"]=(df_scores[\"post t2\"]-df_scores[\"pre\"])/df_scores[\"pre\"]\n",
    "df_scores.sort_values(\"learning diff a2\")"
   ]
  },
  {
   "cell_type": "code",
   "execution_count": null,
   "metadata": {
    "collapsed": true
   },
   "outputs": [],
   "source": [
    "#Define what action families to plot and in what order.\n",
    "#pltFamilies=['Construct', 'Organize', 'Interface', 'Extra', 'Pause', 'Test', 'ConstructWithFeedback', 'Reset']\n",
    "pltFamilies=['Construct', 'Organize', 'ConstructWithFeedback','Pause', 'Test']\n",
    "pltFamilies2=['Construct','Pause', 'Test']\n",
    "pltFamilies3=['ContructWithFeedback','Construct','Pause', 'Test']"
   ]
  },
  {
   "cell_type": "markdown",
   "metadata": {},
   "source": [
    "## Resistor activity"
   ]
  },
  {
   "cell_type": "markdown",
   "metadata": {},
   "source": [
    "### Low to high scores"
   ]
  },
  {
   "cell_type": "code",
   "execution_count": null,
   "metadata": {
    "collapsed": false
   },
   "outputs": [],
   "source": [
    "df_scores[df_scores[\"student\"]==86170104]  #high learning gains (low to high z-scores)"
   ]
  },
  {
   "cell_type": "code",
   "execution_count": null,
   "metadata": {
    "collapsed": false
   },
   "outputs": [],
   "source": [
    "plot_barGraph(df,'a2', 86170104, pltFamilies)  "
   ]
  },
  {
   "cell_type": "code",
   "execution_count": null,
   "metadata": {
    "collapsed": false,
    "scrolled": false
   },
   "outputs": [],
   "source": [
    "plot_barGraph(df,'a2', 86170104, pltFamilies)  "
   ]
  },
  {
   "cell_type": "code",
   "execution_count": null,
   "metadata": {
    "collapsed": false
   },
   "outputs": [],
   "source": [
    "df_scores[df_scores[\"student\"]==1075123]  #high learning gains (low to high z-scores)"
   ]
  },
  {
   "cell_type": "code",
   "execution_count": null,
   "metadata": {
    "collapsed": false
   },
   "outputs": [],
   "source": [
    "plot_barGraph(df,'a2', 1075123, pltFamilies)  #another low to high z-scores"
   ]
  },
  {
   "cell_type": "markdown",
   "metadata": {},
   "source": [
    "### High to low scores"
   ]
  },
  {
   "cell_type": "code",
   "execution_count": null,
   "metadata": {
    "collapsed": false
   },
   "outputs": [],
   "source": [
    "df_scores[df_scores[\"student\"]==31091114]  #high learning gains (low to high z-scores)"
   ]
  },
  {
   "cell_type": "code",
   "execution_count": null,
   "metadata": {
    "collapsed": false
   },
   "outputs": [],
   "source": [
    "plot_barGraph(df,'a2',31091114, pltFamilies) #high low z-scores"
   ]
  },
  {
   "cell_type": "code",
   "execution_count": null,
   "metadata": {
    "collapsed": false
   },
   "outputs": [],
   "source": [
    "df_scores[df_scores[\"student\"]==13205111]"
   ]
  },
  {
   "cell_type": "code",
   "execution_count": null,
   "metadata": {
    "collapsed": false
   },
   "outputs": [],
   "source": [
    "plot_barGraph(df,'a2',13205111, pltFamilies) #high low z-scores"
   ]
  },
  {
   "cell_type": "markdown",
   "metadata": {},
   "source": [
    "### Low to low scores"
   ]
  },
  {
   "cell_type": "code",
   "execution_count": null,
   "metadata": {
    "collapsed": false
   },
   "outputs": [],
   "source": [
    "df_scores[df_scores[\"student\"]==8889108]"
   ]
  },
  {
   "cell_type": "code",
   "execution_count": null,
   "metadata": {
    "collapsed": false
   },
   "outputs": [],
   "source": [
    "plot_barGraph(df,'a2',8889108, pltFamilies) #low low z-scores"
   ]
  },
  {
   "cell_type": "code",
   "execution_count": null,
   "metadata": {
    "collapsed": false
   },
   "outputs": [],
   "source": [
    "df_scores[df_scores[\"student\"]==19930112]"
   ]
  },
  {
   "cell_type": "code",
   "execution_count": null,
   "metadata": {
    "collapsed": false
   },
   "outputs": [],
   "source": [
    "plot_barGraph(df,'a2',19930112, pltFamilies) #low low z-scores"
   ]
  },
  {
   "cell_type": "markdown",
   "metadata": {},
   "source": [
    "### High to high scores"
   ]
  },
  {
   "cell_type": "code",
   "execution_count": null,
   "metadata": {
    "collapsed": false
   },
   "outputs": [],
   "source": [
    "df_scores[df_scores[\"student\"]==8580120]"
   ]
  },
  {
   "cell_type": "code",
   "execution_count": null,
   "metadata": {
    "collapsed": false
   },
   "outputs": [],
   "source": [
    "plot_barGraph(df,'a2',8580120, pltFamilies) #high high z-scores"
   ]
  },
  {
   "cell_type": "code",
   "execution_count": null,
   "metadata": {
    "collapsed": false
   },
   "outputs": [],
   "source": [
    "df_scores[df_scores[\"student\"]==18838125]"
   ]
  },
  {
   "cell_type": "code",
   "execution_count": null,
   "metadata": {
    "collapsed": false
   },
   "outputs": [],
   "source": [
    "plot_barGraph(df,'a2',18838125, pltFamilies) #high high z-scores"
   ]
  },
  {
   "cell_type": "markdown",
   "metadata": {},
   "source": [
    "## Plotting fewer action families: Construct = (Construct, ConstructWithFeedback, Organize)"
   ]
  },
  {
   "cell_type": "markdown",
   "metadata": {},
   "source": [
    "### Low to high"
   ]
  },
  {
   "cell_type": "code",
   "execution_count": null,
   "metadata": {
    "collapsed": false
   },
   "outputs": [],
   "source": [
    "plot_barGraph(df2,'a2', 86170104, pltFamilies2) "
   ]
  },
  {
   "cell_type": "markdown",
   "metadata": {},
   "source": [
    "### High high"
   ]
  },
  {
   "cell_type": "code",
   "execution_count": null,
   "metadata": {
    "collapsed": false
   },
   "outputs": [],
   "source": [
    "plot_barGraph(df2,'a2',8580120, pltFamilies2) #high high z-scores"
   ]
  },
  {
   "cell_type": "markdown",
   "metadata": {},
   "source": [
    "### High to low"
   ]
  },
  {
   "cell_type": "code",
   "execution_count": null,
   "metadata": {
    "collapsed": false
   },
   "outputs": [],
   "source": [
    "plot_barGraph(df2,'a2',31091114, pltFamilies2) #high low z-scores"
   ]
  },
  {
   "cell_type": "markdown",
   "metadata": {},
   "source": [
    "### Low to low"
   ]
  },
  {
   "cell_type": "code",
   "execution_count": null,
   "metadata": {
    "collapsed": false
   },
   "outputs": [],
   "source": [
    "plot_barGraph(df2,'a2',8889108, pltFamilies2) #low low z-scores"
   ]
  },
  {
   "cell_type": "code",
   "execution_count": null,
   "metadata": {
    "collapsed": false
   },
   "outputs": [],
   "source": [
    "plot_barGraph(df,'a2',94792123, pltFamilies)"
   ]
  },
  {
   "cell_type": "code",
   "execution_count": null,
   "metadata": {
    "collapsed": false
   },
   "outputs": [],
   "source": [
    "plot_barGraph(df3,'a2',94792123, pltFamilies)"
   ]
  },
  {
   "cell_type": "code",
   "execution_count": null,
   "metadata": {
    "collapsed": true
   },
   "outputs": [],
   "source": []
  }
 ],
 "metadata": {
  "anaconda-cloud": {},
  "kernelspec": {
   "display_name": "Python 2",
   "language": "python",
   "name": "python2"
  },
  "language_info": {
   "codemirror_mode": {
    "name": "ipython",
    "version": 2
   },
   "file_extension": ".py",
   "mimetype": "text/x-python",
   "name": "python",
   "nbconvert_exporter": "python",
   "pygments_lexer": "ipython2",
   "version": "2.7.12"
  }
 },
 "nbformat": 4,
 "nbformat_minor": 0
}
