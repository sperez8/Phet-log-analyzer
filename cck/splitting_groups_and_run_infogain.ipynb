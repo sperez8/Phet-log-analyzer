{
 "cells": [
  {
   "cell_type": "code",
   "execution_count": 1,
   "metadata": {
    "collapsed": false
   },
   "outputs": [],
   "source": [
    "import math\n",
    "import numpy as np\n",
    "import pandas as pd\n",
    "import sys\n",
    "import re\n",
    "from functions import *\n",
    "from mining_functions import *\n",
    "from collections import Counter\n",
    "from matplotlib.backends.backend_pdf import PdfPages\n",
    "import seaborn as sns\n",
    "from scipy import stats\n",
    "np.set_printoptions(precision=2)\n",
    "pd.set_option('precision', 2)\n",
    "%matplotlib inline\n",
    "matplotlib.style.use('ggplot')"
   ]
  },
  {
   "cell_type": "code",
   "execution_count": 2,
   "metadata": {
    "collapsed": false
   },
   "outputs": [],
   "source": [
    "PATH = '/Google Drive/Jonathan Sarah Ido folder/data/CCK/'\n",
    "def get_path(path = PATH):\n",
    "    if os.name == 'posix':\n",
    "        path = '/Documents/code/Phet-log-analyzer/cck/raw_data_parsing_check/'\n",
    "        return os.environ['HOME']+path #'/Google Drive/Jonathan Sarah Ido folder/data/CCK/'\n",
    "    elif os.name == 'nt':\n",
    "        if os.getenv(\"COMPUTERNAME\") == 'PYRRHA':\n",
    "                path = '/Documents/git/Phet-log-analyzer/cck/raw_data_parsing_check/'\n",
    "        else:\n",
    "            path = '/git/Phet-log-analyzer/cck/raw_data_parsing_check/'\n",
    "        return os.environ['USERPROFILE']+ path.replace('/','\\\\') #'\\\\Google Drive\\Jonathan Sarah Ido folder\\data\\CCK\\\\'\n",
    "    else:\n",
    "        raise Exception('OS not recongnized. I\\'m confused.')\n",
    "        \n",
    "df = pd.read_csv(get_path() + 'phet_cck_user_actions+sophistication_WITHPAUSE_more_circuit_info.txt',index_col=False)\n",
    "# dfx = pd.read_csv('C:\\Users\\Sarah\\Documents\\git\\Phet-log-analyzer\\cck\\\\raw_data_parsing_check\\phet_cck_user_actions+sophistication_WITHPAUSE_more_circuit_info.txt',index_col=False)\n",
    "df[\"student\"] = df[\"student\"].astype('category')\n",
    "df[\"Family\"]=df[\"Family\"].str.capitalize()\n",
    "df[\"Family_tool\"]=df[\"Family_tool\"].str.capitalize()\n",
    "df[\"Family_default\"]=df[\"Family_default\"].str.capitalize()\n",
    "df[\"Family_both\"]=df[\"Family_both\"].str.capitalize()\n",
    "\n",
    "df_scores = pd.read_csv(data_path + 'MATCHING_phet_cck_user_data_anonymized.txt')\n",
    "df_scores[\"student\"] = df_scores[\"student\"].astype('category')"
   ]
  },
  {
   "cell_type": "code",
   "execution_count": 3,
   "metadata": {
    "collapsed": true
   },
   "outputs": [],
   "source": [
    "max_time = 25*60*1000\n",
    "max_times = {s:min(df[df['student']==s][\"Time Stamp\"])+max_time for s in set(df['student'])}\n",
    "\n",
    "def keep_by_time (row):\n",
    "    if row[\"Time Stamp\"] <= max_times[row[\"student\"]]:\n",
    "        return True\n",
    "    else: \n",
    "        return False\n",
    "\n",
    "df['keep'] = df.apply (lambda row: keep_by_time (row),axis=1)\n",
    "df=df[df['keep']]"
   ]
  },
  {
   "cell_type": "markdown",
   "metadata": {},
   "source": [
    "### Functions used to calculate information gain, plot use, etc..."
   ]
  },
  {
   "cell_type": "code",
   "execution_count": 4,
   "metadata": {
    "collapsed": false
   },
   "outputs": [],
   "source": [
    "def add_text(attribute,family_category,cut_off, shortest_seq_length, longest_seq_length,B):\n",
    "    text = \"\"\"Showing sequences for students split by {0}, using the categories {1}.\n",
    "            Removed sequences used by less than {2}% of students.\n",
    "            Found sequences of lenght {3} to {4}.\n",
    "            Using {5} time bins\"\"\".format(attribute,family_category,int(cut_off*100), shortest_seq_length, longest_seq_length,B)\n",
    "    fig = plt.figure(figsize=(10, 4))\n",
    "    ax = plt.gca()\n",
    "    ax.text(0.5,0.5,text,\n",
    "        horizontalalignment='center',\n",
    "        verticalalignment='center',\n",
    "        fontsize = 15)\n",
    "    plt.axis('off')\n",
    "    return fig"
   ]
  },
  {
   "cell_type": "code",
   "execution_count": 5,
   "metadata": {
    "collapsed": true
   },
   "outputs": [],
   "source": [
    "def rank_sequences(sequence_counts,B,axesnum=None):\n",
    "    ranks = []\n",
    "    for seq,counts in sequence_counts.iteritems():\n",
    "#         if np.sum(counts)>0:\n",
    "        ranks.append((seq,calc_infogain(counts,B,axesnum)))\n",
    "    return sorted(ranks, key=lambda tup: tup[1])\n",
    "\n",
    "def get_top_seqs(ranks,N):\n",
    "    return ranks[-N:]"
   ]
  },
  {
   "cell_type": "markdown",
   "metadata": {},
   "source": [
    "### Let's investigate how best to split students"
   ]
  },
  {
   "cell_type": "code",
   "execution_count": 6,
   "metadata": {
    "collapsed": false
   },
   "outputs": [
    {
     "data": {
      "image/png": "[encoded data removed]",
      "text/plain": [
       "<matplotlib.figure.Figure at 0xc8edf28>"
      ]
     },
     "metadata": {},
     "output_type": "display_data"
    }
   ],
   "source": [
    "# df_scores.hist(column='z pre')\n",
    "# print list(df_scores['z pre'])\n",
    "sns.set_style(\"darkgrid\")\n",
    "sns.set_context(\"paper\")\n",
    "fig, ax = plt.subplots(1, figsize=(5.5,2.5))\n",
    "sns.distplot(list([x for x in df_scores['z pre'] if x <= 0.45]), \n",
    "             bins=7, kde=False, rug=False, color='#3f007d', hist_kws={'alpha':0.7}, label = 'low incoming knowledge');\n",
    "X = list([x for x in df_scores['z pre'] if x > 0.45])\n",
    "X.extend([2.45,2.45,2.45])\n",
    "sns.distplot(X,bins=3, kde=False, rug=False, color='#525252', hist_kws={'alpha':0.7},  label = 'high incoming knowledge');\n",
    "ax.set_ylabel('Number of students')\n",
    "ax.set_xlabel('pre-test z-score')\n",
    "handles, labels = ax.get_legend_handles_labels()\n",
    "lgd = ax.legend(handles, labels, loc='upper right', bbox_to_anchor=(1.0,0.95))\n",
    "fig.savefig('figs/hist_pre.svg')"
   ]
  },
  {
   "cell_type": "markdown",
   "metadata": {},
   "source": [
    "#### Clearly, students' pre test is a bi modal distribution. Let's split them this way."
   ]
  },
  {
   "cell_type": "code",
   "execution_count": 7,
   "metadata": {
    "collapsed": false
   },
   "outputs": [],
   "source": [
    "median_learning0 = 0.45\n",
    "df_scores['split pre'] = df_scores.apply (lambda row: label_learning (median_learning0,row,\"z pre\"),axis=1)\n",
    "median_learning2 = np.median(df_scores[df_scores['split pre']=='low']['z post t2'])\n",
    "df_scores['split post t2'] = df_scores.apply (lambda row: label_learning (median_learning2,row,\"z post t2\"),axis=1)"
   ]
  },
  {
   "cell_type": "code",
   "execution_count": 8,
   "metadata": {
    "collapsed": false
   },
   "outputs": [
    {
     "name": "stdout",
     "output_type": "stream",
     "text": [
      "high high 19\n",
      "high low 3\n",
      "low high 38\n",
      "low low 36\n"
     ]
    }
   ],
   "source": [
    "for x in ['high','low']:\n",
    "    for y in ['high','low']:\n",
    "        print x,y, len(set(df_scores[(df_scores['split pre']==x)&(df_scores['split post t2']==y)]['student']))"
   ]
  },
  {
   "cell_type": "code",
   "execution_count": 9,
   "metadata": {
    "collapsed": false
   },
   "outputs": [],
   "source": [
    "# #making student ids groups csv file for Lauren\n",
    "# for x in ['high','low']:\n",
    "#     for y in ['high','low']:\n",
    "#         for z in list(set(df_scores[(df_scores['split pre']==x)&(df_scores['split post t2']==y)]['student'])):\n",
    "#             print str(z)+','+x+'-'+y\n",
    "# #         print x,y, len(set(df_scores[(df_scores['split pre']==x)&(df_scores['split post t2']==y)]['student']))"
   ]
  },
  {
   "cell_type": "code",
   "execution_count": 10,
   "metadata": {
    "collapsed": false
   },
   "outputs": [
    {
     "name": "stdout",
     "output_type": "stream",
     "text": [
      "high scaff 10\n",
      "high not 12\n",
      "low scaff 38\n",
      "low not 36\n"
     ]
    }
   ],
   "source": [
    "for x in ['high','low']:\n",
    "    for y in ['scaff','not']:\n",
    "        print x,y, len(set(df_scores[(df_scores['scaffolding']==y)&(df_scores['split pre']==x)]['student']))"
   ]
  },
  {
   "cell_type": "code",
   "execution_count": 11,
   "metadata": {
    "collapsed": false
   },
   "outputs": [
    {
     "name": "stdout",
     "output_type": "stream",
     "text": [
      "high scaff 21\n",
      "high not 17\n",
      "low scaff 17\n",
      "low not 19\n"
     ]
    }
   ],
   "source": [
    "for x in ['high','low']:\n",
    "    for y in ['scaff','not']:\n",
    "        print x,y, len(set(df_scores[(df_scores['scaffolding']==y)&(df_scores[df_scores['split pre']=='low']['split post t2']==x)]['student']))"
   ]
  },
  {
   "cell_type": "code",
   "execution_count": 12,
   "metadata": {
    "collapsed": false
   },
   "outputs": [
    {
     "name": "stdout",
     "output_type": "stream",
     "text": [
      "57 37 20 17\n"
     ]
    }
   ],
   "source": [
    "a = set(get_students('split post t2','high'))\n",
    "b = set(get_students('used this circuit sim before?',1))\n",
    "c = set(get_students('split post t2','low'))\n",
    "print len(a), len(b), len(a.intersection(b)), len(c.intersection(b))"
   ]
  },
  {
   "cell_type": "code",
   "execution_count": 13,
   "metadata": {
    "collapsed": false
   },
   "outputs": [
    {
     "name": "stdout",
     "output_type": "stream",
     "text": [
      "-0.45 0.589665502981\n",
      "1.48909090909 0.517554644378\n"
     ]
    }
   ],
   "source": [
    "z = df_scores[df_scores['split pre']=='low']['z pre']\n",
    "y = df_scores[df_scores['split pre']=='high']['z pre']\n",
    "print np.mean(z), np.std(z)\n",
    "print np.mean(y), np.std(y)"
   ]
  },
  {
   "cell_type": "code",
   "execution_count": 14,
   "metadata": {
    "collapsed": false
   },
   "outputs": [
    {
     "data": {
      "image/png": "[encoded data removed]",
      "text/plain": [
       "<matplotlib.figure.Figure at 0xc8d7710>"
      ]
     },
     "metadata": {},
     "output_type": "display_data"
    }
   ],
   "source": [
    "median_learning2 = np.median(df_scores[df_scores['split pre']=='low']['z post t2'])\n",
    "fig, ax = plt.subplots(1, figsize=(5.5,2.5))\n",
    "sns.axes_style({'legend.numpoints': 20})\n",
    "ax.set_ylim(0,13)\n",
    "bar1 = sns.distplot(list([x for x in df_scores[df_scores['split pre']=='low']['z post t2'] if x <= median_learning2]), \n",
    "             bins=5, kde=False, rug=False, color='#3f007d', hist_kws={'alpha':0.7},  label = 'Low-Low learners');\n",
    "bar2 = sns.distplot(list([x for x in df_scores[df_scores['split pre']=='low']['z post t2'] if x > median_learning2]), \n",
    "             bins=6, kde=False, rug=False, color='#3f007d', hist_kws={'alpha':0.7}, label = 'Low-High learners');\n",
    "# Define some hatches\n",
    "hatches = ['-', '+', 'x', '\\\\', '*', 'o','-', '+', 'x', '\\\\', '*', 'o']\n",
    "# Loop over the bars\n",
    "for i,thisbar in enumerate(bar1.patches):\n",
    "    if i <=4:\n",
    "    # Set a different hatch for each bar\n",
    "        thisbar.set_hatch(hatches[5])\n",
    "    else:\n",
    "        thisbar.set_hatch(hatches[2])\n",
    "ax.set_xlabel('post-test z-score')\n",
    "handles, labels = ax.get_legend_handles_labels()\n",
    "lgd = ax.legend(handles, labels, loc='upper right', bbox_to_anchor=(.95,0.95))\n",
    "fig.savefig('figs/hist_post.svg')"
   ]
  },
  {
   "cell_type": "code",
   "execution_count": 15,
   "metadata": {
    "collapsed": false
   },
   "outputs": [
    {
     "name": "stdout",
     "output_type": "stream",
     "text": [
      "(-0.010227478363913882, 0.93108127855166911)\n",
      "SpearmanrResult(correlation=0.056539492731624882, pvalue=0.63231299992151602)\n"
     ]
    },
    {
     "data": {
      "text/plain": [
       "[<matplotlib.lines.Line2D at 0x10e4ee10>]"
      ]
     },
     "execution_count": 15,
     "metadata": {},
     "output_type": "execute_result"
    },
    {
     "data": {
      "image/png": "[encoded data removed]",
      "text/plain": [
       "<matplotlib.figure.Figure at 0x10d1b7f0>"
      ]
     },
     "metadata": {},
     "output_type": "display_data"
    }
   ],
   "source": [
    "import scipy.stats as st\n",
    "print st.pearsonr(df_scores[df_scores['split pre']=='low'][\"z pre\"],df_scores[df_scores['split pre']=='low'][\"z post t2\"] )\n",
    "print st.spearmanr(df_scores[df_scores['split pre']=='low'][\"z pre\"],df_scores[df_scores['split pre']=='low'][\"z post t2\"] )\n",
    "plt.plot(df_scores[df_scores['split pre']=='low'][\"z pre\"],df_scores[df_scores['split pre']=='low'][\"z post t2\"],'.')"
   ]
  },
  {
   "cell_type": "code",
   "execution_count": 16,
   "metadata": {
    "collapsed": false
   },
   "outputs": [
    {
     "name": "stdout",
     "output_type": "stream",
     "text": [
      "high m 0.726363636364\n",
      "high s 0.165626783477\n",
      "low m 0.392297297297\n",
      "low s 0.171536688922\n"
     ]
    }
   ],
   "source": [
    "#making student ids groups csv file for Lauren\n",
    "for x in ['high','low']:\n",
    "        print x, 'm', np.mean(list(df_scores[(df_scores['split pre']==x)]['pre']))\n",
    "        print x,'s', np.std(list(df_scores[(df_scores['split pre']==x)]['post t2']))"
   ]
  },
  {
   "cell_type": "code",
   "execution_count": 17,
   "metadata": {
    "collapsed": false
   },
   "outputs": [
    {
     "name": "stdout",
     "output_type": "stream",
     "text": [
      "96\n",
      "0.468854166667 0.626666666667\n",
      "0.171335865284 0.233865464649\n",
      "5.3056285136 3.37928876342e-07\n",
      "0.769821495704\n"
     ]
    }
   ],
   "source": [
    "pre_same = list(df_scores['pre'])\n",
    "post_same = list(df_scores['post identical to pre'])\n",
    "print len(pre_same)\n",
    "print np.mean(pre_same),np.mean(post_same)\n",
    "print np.std(pre_same),np.std(post_same)\n",
    "t,p =  stats.ttest_ind(post_same,pre_same,equal_var=False)\n",
    "print t,p\n",
    "d = (np.mean(post_same)-np.mean(pre_same))/math.sqrt((np.std(pre_same)**2+np.std(post_same)**2)/2)\n",
    "print d"
   ]
  },
  {
   "cell_type": "markdown",
   "metadata": {},
   "source": [
    "### We can calculate the information gain of each sequence by time bin \n",
    "given a split by pre test"
   ]
  },
  {
   "cell_type": "code",
   "execution_count": 18,
   "metadata": {
    "collapsed": false
   },
   "outputs": [],
   "source": [
    "### if redoing this analysis, fix algorithm wot use frequency of use in each time bin because we have unequal groups\n",
    "\n",
    "# students = get_students()\n",
    "# CUT_OFF = 0.35 #we keep only sequences used once by at least 20% of students\n",
    "# shortest_seq_length = 2\n",
    "# longest_seq_length = 10\n",
    "# BINS = 4  #number of bins\n",
    "\n",
    "# ### PARAMETERS\n",
    "# attributes = [('split pre','high','low')]\n",
    "# family_categories = [\"Family\",\"Family_tool\",\"Family_default\"]\n",
    "\n",
    "# parse_axis = {0:'time',1:'group',None:'time and group'}\n",
    "# pdf = PdfPages('infogain_results_by_pre.pdf')\n",
    "\n",
    "# for attribute,level1,level2 in attributes:\n",
    "#     for family_category in family_categories:\n",
    "#         for axis in [0,1,None]:\n",
    "#             if axis == 1: B = 1\n",
    "#             else: B = BINS\n",
    "        \n",
    "#             print \"For attribute {0}, category {1}\".format(attribute,family_category)\n",
    "#             pdf.savefig(add_text(attribute,family_category,CUT_OFF, shortest_seq_length, longest_seq_length,B))\n",
    "#             sequence_counts = get_sequence_use_by_timebin(df,students,family_category,\n",
    "#                                                           B,attribute,level1,level2,\n",
    "#                                                           shortest_seq_length,longest_seq_length,CUT_OFF)\n",
    "#             print len(sequence_counts)\n",
    "#             ylabels = [level1,level2]\n",
    "#             tops = get_top_seqs(rank_sequences(sequence_counts,B,axis),5)\n",
    "#             for seq,infogain in tops:\n",
    "# #                 print seq, sequence_counts[seq]\n",
    "#                 title = '{0}: infogain {1} by {2}'.format(seq,round(infogain,3),parse_axis[axis])\n",
    "#                 plot = plot_heat_map(sequence_counts[seq],title, ylabels)\n",
    "#                 pdf.savefig( plot )\n",
    "#                 plot.clf()\n",
    "# pdf.close()"
   ]
  },
  {
   "cell_type": "markdown",
   "metadata": {},
   "source": [
    "### We can calculate the information gain of each sequence by time bin \n",
    "given a split by post test, for only students that did poorly on pre test"
   ]
  },
  {
   "cell_type": "code",
   "execution_count": 19,
   "metadata": {
    "collapsed": false
   },
   "outputs": [
    {
     "name": "stdout",
     "output_type": "stream",
     "text": [
      "For attribute split post t2, categories Family\n",
      "Getting sequence use over 4 time bins for 74 students split by split post t2. \n",
      "    Keeping only sequences used once by at least 35% of students \n",
      "    in each group and overall.\n",
      "For attribute split post t2, categories Family\n",
      "Getting sequence use over 1 time bins for 74 students split by split post t2. \n",
      "    Keeping only sequences used once by at least 35% of students \n",
      "    in each group and overall.\n"
     ]
    },
    {
     "name": "stderr",
     "output_type": "stream",
     "text": [
      "C:\\Users\\Sarah\\Anaconda2\\lib\\site-packages\\matplotlib\\pyplot.py:516: RuntimeWarning: More than 20 figures have been opened. Figures created through the pyplot interface (`matplotlib.pyplot.figure`) are retained until explicitly closed and may consume too much memory. (To control this warning, see the rcParam `figure.max_open_warning`).\n",
      "  max_open_warning, RuntimeWarning)\n"
     ]
    },
    {
     "name": "stdout",
     "output_type": "stream",
     "text": [
      "For attribute split post t2, categories Family\n",
      "Getting sequence use over 4 time bins for 74 students split by split post t2. \n",
      "    Keeping only sequences used once by at least 35% of students \n",
      "    in each group and overall.\n"
     ]
    },
    {
     "data": {
      "image/png": "[encoded data removed]",
      "text/plain": [
       "<matplotlib.figure.Figure at 0xed8a2e8>"
      ]
     },
     "metadata": {},
     "output_type": "display_data"
    },
    {
     "data": {
      "text/plain": [
       "<matplotlib.figure.Figure at 0xed7dcf8>"
      ]
     },
     "metadata": {},
     "output_type": "display_data"
    },
    {
     "data": {
      "text/plain": [
       "<matplotlib.figure.Figure at 0x41ba160>"
      ]
     },
     "metadata": {},
     "output_type": "display_data"
    },
    {
     "data": {
      "text/plain": [
       "<matplotlib.figure.Figure at 0x111ac1d0>"
      ]
     },
     "metadata": {},
     "output_type": "display_data"
    },
    {
     "data": {
      "text/plain": [
       "<matplotlib.figure.Figure at 0x104d1828>"
      ]
     },
     "metadata": {},
     "output_type": "display_data"
    },
    {
     "data": {
      "text/plain": [
       "<matplotlib.figure.Figure at 0xec96f60>"
      ]
     },
     "metadata": {},
     "output_type": "display_data"
    },
    {
     "data": {
      "text/plain": [
       "<matplotlib.figure.Figure at 0x10ba3940>"
      ]
     },
     "metadata": {},
     "output_type": "display_data"
    },
    {
     "data": {
      "text/plain": [
       "<matplotlib.figure.Figure at 0xf5a60b8>"
      ]
     },
     "metadata": {},
     "output_type": "display_data"
    },
    {
     "data": {
      "text/plain": [
       "<matplotlib.figure.Figure at 0xf689f98>"
      ]
     },
     "metadata": {},
     "output_type": "display_data"
    },
    {
     "data": {
      "text/plain": [
       "<matplotlib.figure.Figure at 0x109ae748>"
      ]
     },
     "metadata": {},
     "output_type": "display_data"
    },
    {
     "data": {
      "text/plain": [
       "<matplotlib.figure.Figure at 0xf606eb8>"
      ]
     },
     "metadata": {},
     "output_type": "display_data"
    },
    {
     "data": {
      "text/plain": [
       "<matplotlib.figure.Figure at 0x112fb048>"
      ]
     },
     "metadata": {},
     "output_type": "display_data"
    },
    {
     "data": {
      "text/plain": [
       "<matplotlib.figure.Figure at 0x1060bcf8>"
      ]
     },
     "metadata": {},
     "output_type": "display_data"
    },
    {
     "data": {
      "text/plain": [
       "<matplotlib.figure.Figure at 0x10b69e80>"
      ]
     },
     "metadata": {},
     "output_type": "display_data"
    },
    {
     "data": {
      "text/plain": [
       "<matplotlib.figure.Figure at 0x10ba3f98>"
      ]
     },
     "metadata": {},
     "output_type": "display_data"
    },
    {
     "data": {
      "text/plain": [
       "<matplotlib.figure.Figure at 0x111af8d0>"
      ]
     },
     "metadata": {},
     "output_type": "display_data"
    },
    {
     "data": {
      "image/png": "[encoded data removed]",
      "text/plain": [
       "<matplotlib.figure.Figure at 0x10c0ff28>"
      ]
     },
     "metadata": {},
     "output_type": "display_data"
    },
    {
     "data": {
      "text/plain": [
       "<matplotlib.figure.Figure at 0xf5c3b00>"
      ]
     },
     "metadata": {},
     "output_type": "display_data"
    },
    {
     "data": {
      "text/plain": [
       "<matplotlib.figure.Figure at 0x10953c50>"
      ]
     },
     "metadata": {},
     "output_type": "display_data"
    },
    {
     "data": {
      "text/plain": [
       "<matplotlib.figure.Figure at 0x10e5d748>"
      ]
     },
     "metadata": {},
     "output_type": "display_data"
    },
    {
     "data": {
      "text/plain": [
       "<matplotlib.figure.Figure at 0x10a88780>"
      ]
     },
     "metadata": {},
     "output_type": "display_data"
    },
    {
     "data": {
      "text/plain": [
       "<matplotlib.figure.Figure at 0x10a889e8>"
      ]
     },
     "metadata": {},
     "output_type": "display_data"
    },
    {
     "data": {
      "text/plain": [
       "<matplotlib.figure.Figure at 0xf414160>"
      ]
     },
     "metadata": {},
     "output_type": "display_data"
    },
    {
     "data": {
      "text/plain": [
       "<matplotlib.figure.Figure at 0x1053a748>"
      ]
     },
     "metadata": {},
     "output_type": "display_data"
    },
    {
     "data": {
      "text/plain": [
       "<matplotlib.figure.Figure at 0x10b6e908>"
      ]
     },
     "metadata": {},
     "output_type": "display_data"
    },
    {
     "data": {
      "text/plain": [
       "<matplotlib.figure.Figure at 0x106c02e8>"
      ]
     },
     "metadata": {},
     "output_type": "display_data"
    },
    {
     "data": {
      "text/plain": [
       "<matplotlib.figure.Figure at 0x10af6e80>"
      ]
     },
     "metadata": {},
     "output_type": "display_data"
    },
    {
     "data": {
      "text/plain": [
       "<matplotlib.figure.Figure at 0xf648208>"
      ]
     },
     "metadata": {},
     "output_type": "display_data"
    },
    {
     "data": {
      "text/plain": [
       "<matplotlib.figure.Figure at 0x11185390>"
      ]
     },
     "metadata": {},
     "output_type": "display_data"
    },
    {
     "data": {
      "text/plain": [
       "<matplotlib.figure.Figure at 0xfb1d4a8>"
      ]
     },
     "metadata": {},
     "output_type": "display_data"
    },
    {
     "data": {
      "text/plain": [
       "<matplotlib.figure.Figure at 0x105c8ac8>"
      ]
     },
     "metadata": {},
     "output_type": "display_data"
    },
    {
     "data": {
      "text/plain": [
       "<matplotlib.figure.Figure at 0x114fccc0>"
      ]
     },
     "metadata": {},
     "output_type": "display_data"
    },
    {
     "data": {
      "image/png": "[encoded data removed]",
      "text/plain": [
       "<matplotlib.figure.Figure at 0x10c07630>"
      ]
     },
     "metadata": {},
     "output_type": "display_data"
    },
    {
     "data": {
      "text/plain": [
       "<matplotlib.figure.Figure at 0xd3dc8d0>"
      ]
     },
     "metadata": {},
     "output_type": "display_data"
    },
    {
     "data": {
      "text/plain": [
       "<matplotlib.figure.Figure at 0xd317f60>"
      ]
     },
     "metadata": {},
     "output_type": "display_data"
    },
    {
     "data": {
      "text/plain": [
       "<matplotlib.figure.Figure at 0x1057c4a8>"
      ]
     },
     "metadata": {},
     "output_type": "display_data"
    },
    {
     "data": {
      "text/plain": [
       "<matplotlib.figure.Figure at 0x10898cc0>"
      ]
     },
     "metadata": {},
     "output_type": "display_data"
    },
    {
     "data": {
      "text/plain": [
       "<matplotlib.figure.Figure at 0x10614da0>"
      ]
     },
     "metadata": {},
     "output_type": "display_data"
    },
    {
     "data": {
      "text/plain": [
       "<matplotlib.figure.Figure at 0x108970f0>"
      ]
     },
     "metadata": {},
     "output_type": "display_data"
    },
    {
     "data": {
      "text/plain": [
       "<matplotlib.figure.Figure at 0x10a75438>"
      ]
     },
     "metadata": {},
     "output_type": "display_data"
    },
    {
     "data": {
      "text/plain": [
       "<matplotlib.figure.Figure at 0xf1d7d68>"
      ]
     },
     "metadata": {},
     "output_type": "display_data"
    },
    {
     "data": {
      "text/plain": [
       "<matplotlib.figure.Figure at 0xf5b85c0>"
      ]
     },
     "metadata": {},
     "output_type": "display_data"
    },
    {
     "data": {
      "text/plain": [
       "<matplotlib.figure.Figure at 0x1153c780>"
      ]
     },
     "metadata": {},
     "output_type": "display_data"
    },
    {
     "data": {
      "text/plain": [
       "<matplotlib.figure.Figure at 0x104c2940>"
      ]
     },
     "metadata": {},
     "output_type": "display_data"
    },
    {
     "data": {
      "text/plain": [
       "<matplotlib.figure.Figure at 0xf1b30b8>"
      ]
     },
     "metadata": {},
     "output_type": "display_data"
    },
    {
     "data": {
      "text/plain": [
       "<matplotlib.figure.Figure at 0x1117be80>"
      ]
     },
     "metadata": {},
     "output_type": "display_data"
    },
    {
     "data": {
      "text/plain": [
       "<matplotlib.figure.Figure at 0x10a90198>"
      ]
     },
     "metadata": {},
     "output_type": "display_data"
    },
    {
     "data": {
      "text/plain": [
       "<matplotlib.figure.Figure at 0xfa12ef0>"
      ]
     },
     "metadata": {},
     "output_type": "display_data"
    }
   ],
   "source": [
    "students = get_students(attribute='split pre',level='low')\n",
    "CUT_OFF = 0.35 #we keep only sequences used once by at least 10% of students\n",
    "shortest_seq_length = 2\n",
    "longest_seq_length = 10\n",
    "BINS = 4  #number of bins\n",
    "\n",
    "### PARAMETERS\n",
    "attributes = [('split post t2','high','low')]\n",
    "family_categories = [\"Family\"]#,\"Family_tool\",\"Family_default\"]\n",
    "\n",
    "parse_axis = {0:'time',1:'group',None:'time and group'}\n",
    "pdf = PdfPages('infogain_results_by_post2.pdf')\n",
    "\n",
    "for attribute,level1,level2 in attributes:\n",
    "    for family_category in family_categories:\n",
    "        for axis in [0,1,None]:\n",
    "            if axis == 1: B = 1\n",
    "            else: B = BINS\n",
    "        \n",
    "            print \"For attribute {0}, categories {1}\".format(attribute,family_category)\n",
    "            pdf.savefig(add_text(attribute,family_category,CUT_OFF, shortest_seq_length, longest_seq_length,B))\n",
    "            sequence_counts = get_sequence_use_by_timebin(df,students,family_category,\n",
    "                                                          B,attribute,level1,level2,\n",
    "                                                          shortest_seq_length,longest_seq_length,CUT_OFF)\n",
    "            ylabels = [level1,level2]\n",
    "            tops = get_top_seqs(rank_sequences(sequence_counts,B,axis),15)\n",
    "#             print parse_axis[axis]\n",
    "            for seq,infogain in tops:\n",
    "#                 print seq, infogain\n",
    "                title = '{0}: infogain {1} by {2}'.format(seq,round(infogain,3),parse_axis[axis])\n",
    "                plot = plot_heat_map(sequence_counts[seq],title, ylabels)\n",
    "                pdf.savefig( plot )\n",
    "                plot.clf()\n",
    "pdf.close()"
   ]
  },
  {
   "cell_type": "markdown",
   "metadata": {},
   "source": [
    "### We repeat the same analysis, only remove the first time bin before to see if what students do in other time bins differentiates them as well (though not as significantly)."
   ]
  },
  {
   "cell_type": "code",
   "execution_count": 20,
   "metadata": {
    "collapsed": false
   },
   "outputs": [],
   "source": [
    "# parse_axis = {0:'time',1:'group',None:'time and group'}\n",
    "\n",
    "# pdf = PdfPages('infogain_results_no_first_bin.pdf')\n",
    "\n",
    "# for attribute,level1,level2 in attributes:\n",
    "#     for family_category in family_categories:\n",
    "#         for axis in [0,1,None]:\n",
    "#             if axis == 1:\n",
    "#                 B = 1\n",
    "#             else:\n",
    "#                 B = 3\n",
    "        \n",
    "#             print \"For attribute {0}, categories {1}\".format(attribute,family_category)\n",
    "#             pdf.savefig(add_text(attribute,family_category,N, shortest_seq_length, longest_seq_length,B))\n",
    "#             sequence_counts = get_sequence_use_by_timebin(df,students,family_category,B,attribute,level1,level2,shortest_seq_length,longest_seq_length,N)\n",
    "#             sequence_counts = remove_first_bin(sequence_counts)\n",
    "#             ylabels = [level1,level2]\n",
    "#             tops = get_top_seqs(rank_sequences(sequence_counts,B,axis),1)\n",
    "#             for seq,infogain in tops:\n",
    "#                 print seq, sequence_counts[seq]\n",
    "#                 title = '{0}: infogain {1} by {2}'.format(seq,round(infogain,3),parse_axis[axis])\n",
    "#                 plot = plot_heat_map(sequence_counts[seq],title, ylabels)\n",
    "#                 pdf.savefig( plot )\n",
    "#                 plot.clf()\n",
    "# pdf.close()"
   ]
  },
  {
   "cell_type": "code",
   "execution_count": 21,
   "metadata": {
    "collapsed": false
   },
   "outputs": [],
   "source": [
    "# def remove_first_bin(sequence_counts):\n",
    "#     new_seq_counts = {}\n",
    "#     for s,c in sequence_counts.iteritems():\n",
    "#         new_seq_counts[s] = c[:,1:]\n",
    "#     return new_seq_counts  "
   ]
  },
  {
   "cell_type": "code",
   "execution_count": 22,
   "metadata": {
    "collapsed": false
   },
   "outputs": [
    {
     "name": "stdout",
     "output_type": "stream",
     "text": [
      "Getting sequence use over 1 time bins for 74 students split by split post t2. \n",
      "    Keeping only sequences used once by at least 35% of students \n",
      "    in each group and overall.\n",
      "114\n"
     ]
    }
   ],
   "source": [
    "students = get_students(attribute='split pre',level='low')\n",
    "CUT_OFF = 0.35 #we keep only sequences used once by at least 35% of students\n",
    "shortest_seq_length = 2\n",
    "longest_seq_length = 10\n",
    "B = 1  #number of bins\n",
    "\n",
    "### PARAMETERS\n",
    "attribute, level1, level2 = ('split post t2','high','low')\n",
    "family_category = \"Family\"\n",
    "sequence_counts = get_sequence_use_by_timebin(df,students,family_category,\n",
    "                                                          B,attribute,level1,level2,\n",
    "                                                          shortest_seq_length,longest_seq_length,CUT_OFF)\n",
    "print len(set(sequence_counts.keys()))"
   ]
  },
  {
   "cell_type": "code",
   "execution_count": 23,
   "metadata": {
    "collapsed": false
   },
   "outputs": [
    {
     "name": "stdout",
     "output_type": "stream",
     "text": [
      "[('CPTs', 0.097606717205021232), ('TsCTsC', 0.10025624130173738), ('TcCPC', 0.10950835978050866), ('PCPCTcC', 0.12601895187264223), ('PTsP', 0.14285156257162845), ('CTsPTsP', 0.14759482135052138), ('CPCTsC', 0.14759482135052138), ('TsPTsPC', 0.14759482135052138), ('PCTcCTcC', 0.14759482135052138), ('PTsPC', 0.17437347384210455)]\n"
     ]
    }
   ],
   "source": [
    "tops = get_top_seqs(rank_sequences(sequence_counts,1,1),10)\n",
    "print tops\n",
    "tops.sort(key=lambda tup: tup[1],reverse=True)\n",
    "tops.append(('CPTb',1.275))\n",
    "tops.append(('CTbCP',1.073))"
   ]
  },
  {
   "cell_type": "code",
   "execution_count": 24,
   "metadata": {
    "collapsed": false
   },
   "outputs": [
    {
     "data": {
      "text/plain": [
       "{'CP': array([[ 38.],\n",
       "        [ 35.]]), 'CPC': array([[ 35.],\n",
       "        [ 35.]]), 'CPCP': array([[ 28.],\n",
       "        [ 29.]]), 'CPCPC': array([[ 20.],\n",
       "        [ 26.]]), 'CPCPCP': array([[ 10.],\n",
       "        [ 19.]]), 'CPCPCPC': array([[  7.],\n",
       "        [ 14.]]), 'CPCTb': array([[  8.],\n",
       "        [ 13.]]), 'CPCTc': array([[ 22.],\n",
       "        [ 23.]]), 'CPCTcC': array([[ 11.],\n",
       "        [ 19.]]), 'CPCTcP': array([[ 13.],\n",
       "        [ 10.]]), 'CPCTs': array([[ 10.],\n",
       "        [ 15.]]), 'CPCTsC': array([[  5.],\n",
       "        [ 13.]]), 'CPTb': array([[ 14.],\n",
       "        [ 10.]]), 'CPTc': array([[ 18.],\n",
       "        [ 19.]]), 'CPTcP': array([[ 13.],\n",
       "        [ 10.]]), 'CPTs': array([[ 15.],\n",
       "        [  7.]]), 'CPTsP': array([[ 12.],\n",
       "        [  6.]]), 'CTb': array([[ 27.],\n",
       "        [ 21.]]), 'CTbC': array([[ 23.],\n",
       "        [ 18.]]), 'CTbCP': array([[ 13.],\n",
       "        [  9.]]), 'CTbP': array([[ 17.],\n",
       "        [ 16.]]), 'CTbPC': array([[ 13.],\n",
       "        [ 12.]]), 'CTc': array([[ 33.],\n",
       "        [ 34.]]), 'CTcC': array([[ 28.],\n",
       "        [ 33.]]), 'CTcCP': array([[ 15.],\n",
       "        [ 17.]]), 'CTcCPC': array([[  8.],\n",
       "        [ 13.]]), 'CTcCTc': array([[ 19.],\n",
       "        [ 24.]]), 'CTcCTcC': array([[ 11.],\n",
       "        [ 17.]]), 'CTcCTcP': array([[ 15.],\n",
       "        [ 17.]]), 'CTcP': array([[ 30.],\n",
       "        [ 28.]]), 'CTcPC': array([[ 25.],\n",
       "        [ 20.]]), 'CTcPCP': array([[ 14.],\n",
       "        [ 14.]]), 'CTcPCPC': array([[ 11.],\n",
       "        [ 13.]]), 'CTcPCTc': array([[ 13.],\n",
       "        [  9.]]), 'CTcPTc': array([[ 20.],\n",
       "        [ 19.]]), 'CTcPTcP': array([[ 16.],\n",
       "        [ 12.]]), 'CTs': array([[ 30.],\n",
       "        [ 24.]]), 'CTsC': array([[ 21.],\n",
       "        [ 21.]]), 'CTsCTs': array([[ 10.],\n",
       "        [ 16.]]), 'CTsP': array([[ 22.],\n",
       "        [ 21.]]), 'CTsPC': array([[ 17.],\n",
       "        [ 16.]]), 'CTsPTs': array([[ 15.],\n",
       "        [ 13.]]), 'CTsPTsP': array([[ 13.],\n",
       "        [  5.]]), 'PC': array([[ 38.],\n",
       "        [ 36.]]), 'PCP': array([[ 34.],\n",
       "        [ 32.]]), 'PCPC': array([[ 28.],\n",
       "        [ 31.]]), 'PCPCP': array([[ 18.],\n",
       "        [ 23.]]), 'PCPCPC': array([[ 16.],\n",
       "        [ 19.]]), 'PCPCPCP': array([[ 10.],\n",
       "        [ 16.]]), 'PCPCTc': array([[ 13.],\n",
       "        [ 15.]]), 'PCPCTcC': array([[  5.],\n",
       "        [ 12.]]), 'PCPTc': array([[ 12.],\n",
       "        [ 14.]]), 'PCTb': array([[ 15.],\n",
       "        [ 17.]]), 'PCTbC': array([[ 12.],\n",
       "        [ 11.]]), 'PCTc': array([[ 31.],\n",
       "        [ 31.]]), 'PCTcC': array([[ 20.],\n",
       "        [ 28.]]), 'PCTcCP': array([[  8.],\n",
       "        [ 13.]]), 'PCTcCTc': array([[ 12.],\n",
       "        [ 20.]]), 'PCTcCTcC': array([[  5.],\n",
       "        [ 13.]]), 'PCTcP': array([[ 21.],\n",
       "        [ 22.]]), 'PCTcPC': array([[ 14.],\n",
       "        [ 14.]]), 'PCTs': array([[ 25.],\n",
       "        [ 23.]]), 'PCTsC': array([[ 14.],\n",
       "        [ 17.]]), 'PCTsP': array([[ 19.],\n",
       "        [ 12.]]), 'PTb': array([[ 18.],\n",
       "        [ 13.]]), 'PTbC': array([[ 11.],\n",
       "        [ 12.]]), 'PTc': array([[ 28.],\n",
       "        [ 27.]]), 'PTcC': array([[ 20.],\n",
       "        [ 20.]]), 'PTcCTc': array([[ 18.],\n",
       "        [ 12.]]), 'PTcP': array([[ 24.],\n",
       "        [ 18.]]), 'PTcPC': array([[ 20.],\n",
       "        [ 17.]]), 'PTcPCTc': array([[  9.],\n",
       "        [ 13.]]), 'PTs': array([[ 25.],\n",
       "        [ 16.]]), 'PTsC': array([[ 11.],\n",
       "        [ 12.]]), 'PTsP': array([[ 23.],\n",
       "        [  9.]]), 'PTsPC': array([[ 20.],\n",
       "        [  7.]]), 'TbC': array([[ 26.],\n",
       "        [ 20.]]), 'TbCP': array([[ 16.],\n",
       "        [ 11.]]), 'TbCPC': array([[ 15.],\n",
       "        [ 10.]]), 'TbCTb': array([[ 13.],\n",
       "        [ 14.]]), 'TbCTbP': array([[  8.],\n",
       "        [ 11.]]), 'TbP': array([[ 22.],\n",
       "        [ 18.]]), 'TbPC': array([[ 20.],\n",
       "        [ 15.]]), 'TcC': array([[ 30.],\n",
       "        [ 33.]]), 'TcCP': array([[ 17.],\n",
       "        [ 22.]]), 'TcCPC': array([[  8.],\n",
       "        [ 18.]]), 'TcCPTc': array([[  9.],\n",
       "        [ 12.]]), 'TcCTc': array([[ 26.],\n",
       "        [ 25.]]), 'TcCTcC': array([[ 15.],\n",
       "        [ 19.]]), 'TcCTcCTc': array([[  9.],\n",
       "        [ 16.]]), 'TcCTcP': array([[ 20.],\n",
       "        [ 19.]]), 'TcCTcPC': array([[ 17.],\n",
       "        [ 12.]]), 'TcP': array([[ 32.],\n",
       "        [ 30.]]), 'TcPC': array([[ 31.],\n",
       "        [ 26.]]), 'TcPCP': array([[ 22.],\n",
       "        [ 19.]]), 'TcPCPC': array([[ 16.],\n",
       "        [ 17.]]), 'TcPCTc': array([[ 18.],\n",
       "        [ 16.]]), 'TcPCTcC': array([[  7.],\n",
       "        [ 12.]]), 'TcPTc': array([[ 24.],\n",
       "        [ 22.]]), 'TcPTcC': array([[ 12.],\n",
       "        [ 14.]]), 'TcPTcP': array([[ 19.],\n",
       "        [ 15.]]), 'TcPTcPC': array([[ 16.],\n",
       "        [ 13.]]), 'TsC': array([[ 25.],\n",
       "        [ 23.]]), 'TsCP': array([[ 15.],\n",
       "        [ 11.]]), 'TsCTs': array([[ 11.],\n",
       "        [ 17.]]), 'TsCTsC': array([[  6.],\n",
       "        [ 13.]]), 'TsCTsP': array([[  9.],\n",
       "        [ 13.]]), 'TsP': array([[ 28.],\n",
       "        [ 22.]]), 'TsPC': array([[ 26.],\n",
       "        [ 20.]]), 'TsPCP': array([[ 14.],\n",
       "        [  8.]]), 'TsPCTs': array([[ 15.],\n",
       "        [ 11.]]), 'TsPTs': array([[ 18.],\n",
       "        [ 15.]]), 'TsPTsP': array([[ 14.],\n",
       "        [  7.]]), 'TsPTsPC': array([[ 13.],\n",
       "        [  5.]])}"
      ]
     },
     "execution_count": 24,
     "metadata": {},
     "output_type": "execute_result"
    }
   ],
   "source": [
    "sequence_counts"
   ]
  },
  {
   "cell_type": "code",
   "execution_count": 25,
   "metadata": {
    "collapsed": false
   },
   "outputs": [
    {
     "name": "stdout",
     "output_type": "stream",
     "text": [
      "----  --------  --------  --  --  -----  -----  --------  -----  ----------\n",
      "rank  seq       infogain  lh  ll  chi2   p      chi2 new  p new  fisher's p\n",
      "1     PTsPC     0.174     20  7   5.58   0.018  8.786     0.003  0.004\n",
      "2     CTsPTsP   0.148     13  5   3.139  0.076  4.147     0.042  0.058\n",
      "3     CPCTsC    0.148     5   13  4.004  0.045  5.291     0.021  0.03\n",
      "4     TsPTsPC   0.148     13  5   3.139  0.076  4.147     0.042  0.058\n",
      "5     PCTcCTcC  0.148     5   13  4.004  0.045  5.291     0.021  0.03\n",
      "6     PTsP      0.143     23  9   5.396  0.02   9.506     0.002  0.003\n",
      "7     PCPCTcC   0.126     5   12  3.276  0.07   4.252     0.039  0.054\n",
      "8     TcCPC     0.11      8   18  4.409  0.036  6.797     0.009  0.014\n",
      "9     TsCTsC    0.1       6   13  2.973  0.085  4.001     0.045  0.063\n",
      "10    CPTs      0.098     15  7   2.495  0.114  3.55      0.06   0.077\n",
      "11    CPTb      1.275     14  10  0.468  0.494  0.693     0.405  0.462\n",
      "12    CTbCP     1.073     13  9   0.528  0.468  0.751     0.386  0.451\n",
      "----  --------  --------  --  --  -----  -----  --------  -----  ----------\n"
     ]
    }
   ],
   "source": [
    "from tabulate import tabulate\n",
    "table = [['rank','seq','infogain','lh','ll','chi2','p','chi2 new','p new','fisher\\'s p']]\n",
    "for i,(seq,infogain) in enumerate(tops):\n",
    "    i = i+1\n",
    "    lh = int(sequence_counts[seq][0])\n",
    "    ll = int(sequence_counts[seq][1])\n",
    "    nlh = 38-lh\n",
    "    nll = 36-ll\n",
    "    obs = [[lh,ll],[nlh,nll]]\n",
    "    \n",
    "    total = float(lh + nlh + ll + nll)\n",
    "    result = stats.chisquare(f_obs= [lh,ll],   # Array of observed counts\n",
    "                    f_exp= [(lh+nlh)*(lh+ll)/total,(ll+nll)*(lh+ll)/total])   # Array of expected counts\n",
    "    c2 = result.statistic\n",
    "    p = result.pvalue\n",
    "    C2,P,_,_ =  stats.chi2_contingency(obs, correction=False)\n",
    "    _,fp = stats.fisher_exact(obs)\n",
    "    table.append([str(x) for x in [i,seq, round(infogain,3),lh,ll,round(c2,3),round(p,3),round(C2,3),round(P,3),round(fp,3)]])\n",
    "print tabulate(table)"
   ]
  },
  {
   "cell_type": "code",
   "execution_count": 26,
   "metadata": {
    "collapsed": false
   },
   "outputs": [
    {
     "name": "stdout",
     "output_type": "stream",
     "text": [
      "Getting sequence use over 4 time bins for 74 students split by split post t2. \n",
      "    Keeping only sequences used once by at least 35% of students \n",
      "    in each group and overall.\n",
      "114\n"
     ]
    }
   ],
   "source": [
    "students = get_students(attribute='split pre',level='low')\n",
    "CUT_OFF = 0.35 #we keep only sequences used once by at least 35% of students\n",
    "shortest_seq_length = 2\n",
    "longest_seq_length = 10\n",
    "B = 4  #number of bins\n",
    "\n",
    "### PARAMETERS\n",
    "attribute, level1, level2 = ('split post t2','high','low')\n",
    "family_category = \"Family\"\n",
    "sequence_counts = get_sequence_use_by_timebin(df,students,family_category,\n",
    "                                                          B,attribute,level1,level2,\n",
    "                                                          shortest_seq_length,longest_seq_length,CUT_OFF)\n",
    "print len(set(sequence_counts.keys()))"
   ]
  },
  {
   "cell_type": "code",
   "execution_count": 27,
   "metadata": {
    "collapsed": true
   },
   "outputs": [],
   "source": [
    "chi2 = {'PTsPC':5.580,'CTsPTsP':3.138,'CPCTsC':4.004,'TsPTsPC':3.138,\n",
    "        'PCTcCTcC':4.004,'PTsP':5.395,'PCPCTcC':3.275,'TcCPC':4.408,\n",
    "        'TsCTsC':2.973,'CPTs':2.494,'CPTb':None,'CTbCP':None}\n",
    "numbers = {'PTsPC':(20,7),  'CTsPTsP':(13,5),  'CPCTsC':(5,13), \n",
    "           'TsPTsPC':(13,5),  'PCTcCTcC':(5,13),  'PTsP':(23,9),  'PCPCTcC':(5,12), \n",
    "           'TcCPC':(8,18),  'TsCTsC':(6,13),  'CPTs':(15,7), 'CPTb':(14,10),'CTbCP':(13,9)}"
   ]
  },
  {
   "cell_type": "code",
   "execution_count": 28,
   "metadata": {
    "collapsed": false
   },
   "outputs": [
    {
     "data": {
      "image/png": "[encoded data removed]",
      "text/plain": [
       "<matplotlib.figure.Figure at 0xd1dd390>"
      ]
     },
     "metadata": {},
     "output_type": "display_data"
    }
   ],
   "source": [
    "sns.set_style(\"darkgrid\")\n",
    "sns.set_context(\"paper\")\n",
    "all_seqs = zip(*tops)[0]\n",
    "fig, axes = plt.subplots(len(all_seqs),1)#, sharex=True, sharey=True)\n",
    "maximum = int(max([np.amax(counts) for seq,counts in sequence_counts.iteritems() if seq in all_seqs]))\n",
    "for i,(seq,ig) in enumerate(tops):\n",
    "    ax = axes[i]\n",
    "    data = sequence_counts[seq]\n",
    "    chi = chi2[seq]\n",
    "    hl,ll = numbers[seq]\n",
    "    seq = \"$\"+seq.replace('Ts','T_2').replace('Tb','T_1').replace('Tc','T_m')+\"$\"\n",
    "    ax.text(0,2.05, seq, fontsize=14)\n",
    "    if chi:\n",
    "        ax.text(1.35,2.05, \"$IG$= {0}, $LL$: {1}, $LH$: {2}, $\\chi^2$= {3}\".format(str(round(ig,2)),ll,hl,round(chi,1)),\n",
    "                fontsize=10)\n",
    "    else:\n",
    "        ax.text(2.0,2.05, \"$IG$= {0}, $LL$: {1}, $LH$: {2}\".format(str(round(ig,2)),ll,hl), fontsize=10)\n",
    "\n",
    "    # heatmap = ax.pcolor(data, cmap=plt.cm.Blues, alpha=0.8, vmin=0)\n",
    "    heatmap = sns.heatmap(data, ax=ax, cmap=plt.cm.Blues,alpha=0.8, vmin=0, vmax=maximum, cbar=False,\n",
    "                          annot=False) #, annot_kws={'fontweight':'bold'})\n",
    "\n",
    "    if i==0:\n",
    "        xlabels = map(str, np.arange(data.shape[1])+1) \n",
    "        xlabels = ['1st time bin','2nd','3rd','4th']\n",
    "        ax.set_xticklabels([],)\n",
    "        ax.set_xticks(np.arange(data.shape[1]) + 0.5)\n",
    "        ax.set_xticklabels(xlabels)\n",
    "        ax.set_yticks(np.arange(data.shape[0]) + 0.5)\n",
    "        ylabels = ['Low-Low','Low-High']\n",
    "        ax.set_yticklabels(ylabels)\n",
    "\n",
    "#         cbar = ax.figure.colorbar(ax.collections[0])\n",
    "#         cbar.set_ticks([0,1,3,5,7,9,11,13])\n",
    "#         cbar.set_ticklabels([0,1,3,5,7,9,11,13])\n",
    "    else: \n",
    "        ax.set_xticklabels(['','','',''])\n",
    "        ax.set_yticklabels(['',''])\n",
    "\n",
    "        \n",
    "\n",
    "#     cbar = ax.figure.colorbar(ax.collections[0])\n",
    "#     cbar.set_ticks([0,1,3,5,7,9,11,13])\n",
    "#     cbar.set_ticklabels([0,1,3,5,7,9,11,13])\n",
    "\n",
    "    fig.set_size_inches(4,1.6*len(all_seqs))\n",
    "    ax.set_frame_on(False)\n",
    "#     ax.tick_params(\n",
    "#         axis='both',        # changes apply to both the x and y-axis\n",
    "#         which='both',       # both major and minor ticks are affected\n",
    "#         bottom='off',       # ticks along the those edges are off\n",
    "#         right='off', \n",
    "#         left='off',\n",
    "#         top='off') \n",
    "fig.savefig('figs/heatmap_all.svg')"
   ]
  },
  {
   "cell_type": "code",
   "execution_count": null,
   "metadata": {
    "collapsed": true
   },
   "outputs": [],
   "source": []
  }
 ],
 "metadata": {
  "anaconda-cloud": {},
  "kernelspec": {
   "display_name": "Python [Root]",
   "language": "python",
   "name": "Python [Root]"
  },
  "language_info": {
   "codemirror_mode": {
    "name": "ipython",
    "version": 2
   },
   "file_extension": ".py",
   "mimetype": "text/x-python",
   "name": "python",
   "nbconvert_exporter": "python",
   "pygments_lexer": "ipython2",
   "version": "2.7.12"
  }
 },
 "nbformat": 4,
 "nbformat_minor": 0
}
