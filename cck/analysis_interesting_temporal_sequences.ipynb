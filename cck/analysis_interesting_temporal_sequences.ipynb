{
 "cells": [
  {
   "cell_type": "code",
   "execution_count": 1,
   "metadata": {
    "collapsed": false
   },
   "outputs": [],
   "source": [
    "import math\n",
    "import numpy as np\n",
    "import pandas as pd\n",
    "import sys\n",
    "import itertools\n",
    "from functions import *\n",
    "from mining_functions import *\n",
    "from collections import Counter\n",
    "import matplotlib.pyplot as plt\n",
    "from scipy import stats\n",
    "from matplotlib.backends.backend_pdf import PdfPages\n",
    "np.set_printoptions(precision=2)\n",
    "pd.set_option('precision', 2)\n",
    "%matplotlib inline\n",
    "matplotlib.style.use('ggplot')"
   ]
  },
  {
   "cell_type": "code",
   "execution_count": 2,
   "metadata": {
    "collapsed": false
   },
   "outputs": [],
   "source": [
    "PATH = '/Google Drive/Jonathan Sarah Ido folder/data/CCK/'\n",
    "def get_path(path = PATH):\n",
    "    if os.name == 'posix':\n",
    "        return os.environ['HOME']+path #'/Google Drive/Jonathan Sarah Ido folder/data/CCK/'\n",
    "    elif os.name == 'nt':\n",
    "        return os.environ['USERPROFILE']+ path.replace('/','\\\\') #'\\\\Google Drive\\Jonathan Sarah Ido folder\\data\\CCK\\\\'\n",
    "    else:\n",
    "        raise Exception('OS not recongnized. I\\'m confused.')\n",
    "gitpath = '/git/Phet-log-analyzer/cck/raw_data_parsing_check/'\n",
    "df = pd.read_csv(get_path(path = gitpath) + 'phet_cck_user_actions+sophistication_WITHPAUSE_more_circuit_info.txt',index_col=False)\n",
    "# dfx = pd.read_csv('C:\\Users\\Sarah\\Documents\\git\\Phet-log-analyzer\\cck\\\\raw_data_parsing_check\\phet_cck_user_actions+sophistication_WITHPAUSE_more_circuit_info.txt',index_col=False)\n",
    "df[\"student\"] = df[\"student\"].astype('category')\n",
    "df[\"Family\"]=df[\"Family\"].str.capitalize()\n",
    "df[\"Family_tool\"]=df[\"Family_tool\"].str.capitalize()\n",
    "df[\"Family_default\"]=df[\"Family_default\"].str.capitalize()\n",
    "df[\"Family_both\"]=df[\"Family_both\"].str.capitalize()\n",
    "\n",
    "df_scores = pd.read_csv(data_path + 'MATCHING_phet_cck_user_data_anonymized.txt')\n",
    "df_scores[\"student\"] = df_scores[\"student\"].astype('category')"
   ]
  },
  {
   "cell_type": "code",
   "execution_count": 29,
   "metadata": {
    "collapsed": false
   },
   "outputs": [],
   "source": [
    "merge_actions = {'C':'C', 'P':'P', 'Tb':'T', 'Tc':'T', 'Ts':'T', 'To':'T'}\n",
    "\n",
    "def make_hist_discrete(seq_of_interest,freq_HL,freq_LL):\n",
    "    fig, axs = plt.subplots(1,figsize=(12,2.5))\n",
    "    ymax= max(max(freq_HL),max(freq_LL))\n",
    "    bins = range(0,int(ymax)+1,1)\n",
    "    plt.hist(freq_HL,color ='r',alpha = 0.4,bins = bins)\n",
    "    plt.hist(freq_LL,color = 'b',alpha = 0.4,bins = bins)\n",
    "    plt.title(\"Use of the sequence ''{0}'' by HL (red) and LL (blue)\".format(seq_of_interest))\n",
    "    return None\n",
    "\n",
    "def make_hist_continuous(seq_of_interest,freq_HL,freq_LL):\n",
    "    fig, axs = plt.subplots(1,figsize=(12,2.5))\n",
    "    plt.hist(freq_HL,color ='r',alpha = 0.4)\n",
    "    plt.hist(freq_LL,color = 'b',alpha = 0.4)\n",
    "    plt.title(\"Use of the sequence ''{0}'' by HL (red) and LL (blue)\".format(seq_of_interest))\n",
    "    return None\n",
    "\n",
    "def get_frequencies(seq_of_interest,blocks1,blocks2,normalize_by='length'):\n",
    "    if normalize_by == None:\n",
    "        freq1 = {student : float(''.join(seq).count(seq_of_interest)) for student,seq in blocks1.iteritems()}\n",
    "        freq2 = {student : float(''.join(seq).count(seq_of_interest)) for student,seq in blocks2.iteritems()}\n",
    "    elif normalize_by == 'length':\n",
    "        freq1 = {student : float(''.join(seq).count(seq_of_interest))/len(seq) for student,seq in blocks1.iteritems()}\n",
    "        freq2 = {student : float(''.join(seq).count(seq_of_interest))/len(seq) for student,seq in blocks2.iteritems()}\n",
    "    else:\n",
    "        freq1 = {student : float(''.join(seq).count(seq_of_interest))/''.join(seq).count(normalize_by) for student,seq in blocks1.iteritems()}\n",
    "        freq2 = {student : float(''.join(seq).count(seq_of_interest))/''.join(seq).count(normalize_by) for student,seq in blocks2.iteritems()}\n",
    "    return freq1.values(),freq2.values()"
   ]
  },
  {
   "cell_type": "markdown",
   "metadata": {},
   "source": [
    "# Story line\n",
    "This notebook raises and explores hypotheses generated fom the analysis in the notebook  \"temporal_sequence_infogain_mining.ipynb\"\n",
    "\n",
    "Here are the Hypotheses:\n",
    "* CTsPTsP (HL)\n",
    "    * TsP\n",
    "        * Ts (**1.1**)\n",
    "        * TP (**1.2**)\n",
    "    * TsPTsP\n",
    "        * TPTP (**2.1**)\n",
    "* PCTcCTcC (LL)\n",
    "    * TcC\n",
    "        * Tc (**3.1**)\n",
    "        * TC (**3.2**)\n",
    "    * TcCTcC\n",
    "        * TCTC (**4.1**)\n",
    "* PCPCTcC (LL)\n",
    "    * PC (**5.1**)\n",
    "    * CP (**5.2**)\n",
    "* PTsPC (HL)\n",
    "    * PTs\n",
    "    * PT (**6**)\n"
   ]
  },
  {
   "cell_type": "markdown",
   "metadata": {},
   "source": [
    "# Frequency analysis of single blocks of actions -> Hypotheses 1.1 and 3.1\n",
    "First we get the sequence of action of each students in blocks. Recall that we only look at students who had a low pre.\n",
    "We also ignore the Interface becasue they aren't interesting."
   ]
  },
  {
   "cell_type": "code",
   "execution_count": 4,
   "metadata": {
    "collapsed": false
   },
   "outputs": [
    {
     "name": "stdout",
     "output_type": "stream",
     "text": [
      "There are 74 low pre students, of which 38 are high learners and 36 low learners.\n"
     ]
    }
   ],
   "source": [
    "students_Lpre = set(get_students('split pre','low'));H_post = set(get_students('split post t2','high'));L_post = set(get_students('split post t2','low'))\n",
    "students_HL = H_post.intersection(students_Lpre)\n",
    "students_LL = L_post.intersection(students_Lpre)\n",
    "print \"There are {0} low pre students, of which {1} are high learners and {2} low learners.\".format(len(students_Lpre),len(students_HL),len(students_LL))"
   ]
  },
  {
   "cell_type": "code",
   "execution_count": 5,
   "metadata": {
    "collapsed": false
   },
   "outputs": [],
   "source": [
    "blocks_HL, time_coords_HL =  get_blocks_withTime_new(df,students_HL,\"Family\",start=False,ignore=['I'], as_list=True)\n",
    "blocks_LL, time_coords_LL =  get_blocks_withTime_new(df,students_LL,\"Family\",start=False,ignore=['I'], as_list=True)\n",
    "blocks_merged_HL = {student:[merge_actions[s] for s in seq] for student,seq in blocks_HL.iteritems()}\n",
    "blocks_merged_LL = {student:[merge_actions[s] for s in seq] for student,seq in blocks_LL.iteritems()}\n",
    "actions_merged = ['C','P','T']\n",
    "actions_all = ['C', 'P', 'Tb', 'Tc', 'Ts']"
   ]
  },
  {
   "cell_type": "markdown",
   "metadata": {},
   "source": [
    "We may need to plot sequences so let's load them up"
   ]
  },
  {
   "cell_type": "code",
   "execution_count": 6,
   "metadata": {
    "collapsed": false
   },
   "outputs": [
    {
     "name": "stdout",
     "output_type": "stream",
     "text": [
      "Getting sequence use over 4 time bins for 74 students split by split post t2. \n",
      "    Keeping only sequences used once by at least 35% of students \n",
      "    in each group and overall.\n"
     ]
    }
   ],
   "source": [
    "CUT_OFF = 0.35 #we keep only sequences used once by at least 20% of students\n",
    "shortest_seq_length = 1\n",
    "longest_seq_length = 10\n",
    "B = 4  #number of bins\n",
    "family_category = \"Family\"\n",
    "sequence_counts = get_sequence_use_by_timebin(df,students_Lpre,family_category,\n",
    "                                                          B,'split post t2','high','low',\n",
    "                                                          shortest_seq_length,longest_seq_length,CUT_OFF)"
   ]
  },
  {
   "cell_type": "markdown",
   "metadata": {},
   "source": [
    "First we need to check that students tend to do the same number of blocks of actions in their sequences"
   ]
  },
  {
   "cell_type": "code",
   "execution_count": 7,
   "metadata": {
    "collapsed": false
   },
   "outputs": [
    {
     "data": {
      "text/plain": [
       "<matplotlib.text.Text at 0xeaadd68>"
      ]
     },
     "execution_count": 7,
     "metadata": {},
     "output_type": "execute_result"
    },
    {
     "data": {
      "image/png": "[encoded data removed]",
      "text/plain": [
       "<matplotlib.figure.Figure at 0xab82470>"
      ]
     },
     "metadata": {},
     "output_type": "display_data"
    }
   ],
   "source": [
    "length_HL = [len(seq) for seq in blocks_HL.values()];length_LL = [len(seq) for seq in blocks_LL.values()]\n",
    "fig, axs = plt.subplots(1,figsize=(12,2.5))\n",
    "ymax= max(max(length_HL),max(length_LL))\n",
    "bins = range(0,ymax+5,5)\n",
    "plt.hist(length_HL,color ='r',alpha = 0.5,bins = bins);plt.hist(length_LL,color = 'b',alpha = 0.5,bins = bins)\n",
    "plt.title(\" Length of sequences in blocks for HL (red) and LL (blue)\")"
   ]
  },
  {
   "cell_type": "markdown",
   "metadata": {},
   "source": [
    "Indeed they do not! We are going to have to normalize given the length of each student's sequence"
   ]
  },
  {
   "cell_type": "code",
   "execution_count": 16,
   "metadata": {
    "collapsed": false
   },
   "outputs": [],
   "source": [
    "for action in actions_all:\n",
    "    freq_HL,freq_LL = get_frequencies(action,blocks_HL,blocks_LL,normalize_by=None)\n",
    "#     make_hist_discrete(action,freq_HL,freq_LL)\n",
    "#     plot_heat_map(sequence_counts[action],action,('high','low'))"
   ]
  },
  {
   "cell_type": "markdown",
   "metadata": {},
   "source": [
    "We notice that:\n",
    "* Everyone constructs and pause during the entire activity\n",
    "* Everyone Test simple and basic early as well as Test complex late. \n",
    "* some students never Test basic (13 LL, 6 HL) nor Test simple (13 LL and 5 HL).\n",
    "* Several LL do many many Test complex actions, and do them earlier on in the activity\n",
    "* Several LL have more Construct blocks.\n",
    "\n",
    "Note that we don't look at Test other because only 9 students use it.\n",
    "\n",
    "We can do some t-tests to confirm that most patterns above are not significant."
   ]
  },
  {
   "cell_type": "markdown",
   "metadata": {},
   "source": [
    "\n",
    "## Let's repeat the analysis normalizing by sequence length"
   ]
  },
  {
   "cell_type": "code",
   "execution_count": 27,
   "metadata": {
    "collapsed": false
   },
   "outputs": [
    {
     "name": "stdout",
     "output_type": "stream",
     "text": [
      "C :\n",
      "\tT-test:\t-2.459 \t p=0.017\n",
      "\tHL<LL:\t427.0 \t p=0.003\n",
      "\tHL>LL:\t427.0 \t p=0.997\n",
      "P :\n",
      "\tT-test:\t1.141 \t p=0.258\n",
      "\tHL<LL:\t784.5 \t p=0.863\n",
      "\tHL>LL:\t784.5 \t p=0.14\n",
      "Tb :\n",
      "\tT-test:\t0.69 \t p=0.492\n",
      "\tHL<LL:\t799.5 \t p=0.897\n",
      "\tHL>LL:\t799.5 \t p=0.105\n",
      "Tc :\n",
      "\tT-test:\t-0.568 \t p=0.572\n",
      "\tHL<LL:\t630.5 \t p=0.283\n",
      "\tHL>LL:\t630.5 \t p=0.72\n",
      "Ts :\n",
      "\tT-test:\t0.68 \t p=0.499\n",
      "\tHL<LL:\t763.5 \t p=0.808\n",
      "\tHL>LL:\t763.5 \t p=0.195\n"
     ]
    },
    {
     "data": {
      "image/png": "[encoded data removed]",
      "text/plain": [
       "<matplotlib.figure.Figure at 0x119b14a8>"
      ]
     },
     "metadata": {},
     "output_type": "display_data"
    },
    {
     "data": {
      "image/png": "[encoded data removed]",
      "text/plain": [
       "<matplotlib.figure.Figure at 0x10cf89b0>"
      ]
     },
     "metadata": {},
     "output_type": "display_data"
    },
    {
     "data": {
      "image/png": "[encoded data removed]",
      "text/plain": [
       "<matplotlib.figure.Figure at 0xe97be48>"
      ]
     },
     "metadata": {},
     "output_type": "display_data"
    },
    {
     "data": {
      "image/png": "[encoded data removed]",
      "text/plain": [
       "<matplotlib.figure.Figure at 0xe97be80>"
      ]
     },
     "metadata": {},
     "output_type": "display_data"
    },
    {
     "data": {
      "image/png": "[encoded data removed]",
      "text/plain": [
       "<matplotlib.figure.Figure at 0x11f0dbe0>"
      ]
     },
     "metadata": {},
     "output_type": "display_data"
    }
   ],
   "source": [
    "\n",
    "def perform_comparative_stats(seq_of_interest,freq1,freq2):\n",
    "    t,p =  stats.ttest_ind(freq_HL,freq_LL,equal_var=False)\n",
    "    print seq_of_interest,':'\n",
    "    print \"\\tT-test:\\t{0} \\t p={1}\".format(round(t,3),round(p,3))\n",
    "    m,p = stats.mannwhitneyu(freq_HL,freq_LL, alternative='less')\n",
    "    print '\\tHL<LL:\\t{0} \\t p={1}'.format(round(m,3),round(p,3))\n",
    "    m,p = stats.mannwhitneyu(freq_HL,freq_LL, alternative='greater')\n",
    "    print '\\tHL>LL:\\t{0} \\t p={1}'.format(round(m,3),round(p,3))\n",
    "\n",
    "for action in actions_all:\n",
    "    freq_HL,freq_LL = get_frequencies(action,blocks_HL,blocks_LL,normalize_by='length')\n",
    "    make_hist_continuous(action,freq_HL,freq_LL)\n",
    "    perform_comparative_stats(action,freq_HL,freq_LL)"
   ]
  },
  {
   "cell_type": "markdown",
   "metadata": {},
   "source": [
    "** <font color='blue'> Clearly, LL have more construction blocks given the number of blocks they have ($p < 0.05$) </font> **"
   ]
  },
  {
   "cell_type": "markdown",
   "metadata": {},
   "source": [
    "# Let's start digging into our Hypotheses\n",
    "## Hypothesis 1.2 and 3.2: What to do after testing? \n",
    "### HL do more TsP?"
   ]
  },
  {
   "cell_type": "code",
   "execution_count": 31,
   "metadata": {
    "collapsed": false
   },
   "outputs": [
    {
     "ename": "ZeroDivisionError",
     "evalue": "float division by zero",
     "output_type": "error",
     "traceback": [
      "\u001b[1;31m---------------------------------------------------------------------------\u001b[0m",
      "\u001b[1;31mZeroDivisionError\u001b[0m                         Traceback (most recent call last)",
      "\u001b[1;32m<ipython-input-31-631a0e28f3a7>\u001b[0m in \u001b[0;36m<module>\u001b[1;34m()\u001b[0m\n\u001b[0;32m      1\u001b[0m \u001b[0mseq\u001b[0m \u001b[1;33m=\u001b[0m \u001b[1;34m'TsP'\u001b[0m\u001b[1;33m\u001b[0m\u001b[0m\n\u001b[1;32m----> 2\u001b[1;33m \u001b[0mfreq_HL\u001b[0m\u001b[1;33m,\u001b[0m\u001b[0mfreq_LL\u001b[0m \u001b[1;33m=\u001b[0m \u001b[0mget_frequencies\u001b[0m\u001b[1;33m(\u001b[0m\u001b[0mseq\u001b[0m\u001b[1;33m,\u001b[0m\u001b[0mblocks_HL\u001b[0m\u001b[1;33m,\u001b[0m\u001b[0mblocks_LL\u001b[0m\u001b[1;33m,\u001b[0m\u001b[0mnormalize_by\u001b[0m\u001b[1;33m=\u001b[0m\u001b[1;34m'Ts'\u001b[0m\u001b[1;33m)\u001b[0m\u001b[1;33m\u001b[0m\u001b[0m\n\u001b[0m\u001b[0;32m      3\u001b[0m \u001b[0mmake_hist_continuous\u001b[0m\u001b[1;33m(\u001b[0m\u001b[0mseq\u001b[0m\u001b[1;33m,\u001b[0m\u001b[0mfreq_HL\u001b[0m\u001b[1;33m,\u001b[0m\u001b[0mfreq_LL\u001b[0m\u001b[1;33m)\u001b[0m\u001b[1;33m\u001b[0m\u001b[0m\n\u001b[0;32m      4\u001b[0m \u001b[0mperform_comparative_stats\u001b[0m\u001b[1;33m(\u001b[0m\u001b[0mseq\u001b[0m\u001b[1;33m,\u001b[0m\u001b[0mfreq_HL\u001b[0m\u001b[1;33m,\u001b[0m\u001b[0mfreq_LL\u001b[0m\u001b[1;33m)\u001b[0m\u001b[1;33m\u001b[0m\u001b[0m\n",
      "\u001b[1;32m<ipython-input-29-7a8861feab24>\u001b[0m in \u001b[0;36mget_frequencies\u001b[1;34m(seq_of_interest, blocks1, blocks2, normalize_by)\u001b[0m\n\u001b[0;32m     25\u001b[0m         \u001b[0mfreq2\u001b[0m \u001b[1;33m=\u001b[0m \u001b[1;33m{\u001b[0m\u001b[0mstudent\u001b[0m \u001b[1;33m:\u001b[0m \u001b[0mfloat\u001b[0m\u001b[1;33m(\u001b[0m\u001b[1;34m''\u001b[0m\u001b[1;33m.\u001b[0m\u001b[0mjoin\u001b[0m\u001b[1;33m(\u001b[0m\u001b[0mseq\u001b[0m\u001b[1;33m)\u001b[0m\u001b[1;33m.\u001b[0m\u001b[0mcount\u001b[0m\u001b[1;33m(\u001b[0m\u001b[0mseq_of_interest\u001b[0m\u001b[1;33m)\u001b[0m\u001b[1;33m)\u001b[0m\u001b[1;33m/\u001b[0m\u001b[0mlen\u001b[0m\u001b[1;33m(\u001b[0m\u001b[0mseq\u001b[0m\u001b[1;33m)\u001b[0m \u001b[1;32mfor\u001b[0m \u001b[0mstudent\u001b[0m\u001b[1;33m,\u001b[0m\u001b[0mseq\u001b[0m \u001b[1;32min\u001b[0m \u001b[0mblocks2\u001b[0m\u001b[1;33m.\u001b[0m\u001b[0miteritems\u001b[0m\u001b[1;33m(\u001b[0m\u001b[1;33m)\u001b[0m\u001b[1;33m}\u001b[0m\u001b[1;33m\u001b[0m\u001b[0m\n\u001b[0;32m     26\u001b[0m     \u001b[1;32melse\u001b[0m\u001b[1;33m:\u001b[0m\u001b[1;33m\u001b[0m\u001b[0m\n\u001b[1;32m---> 27\u001b[1;33m         \u001b[0mfreq1\u001b[0m \u001b[1;33m=\u001b[0m \u001b[1;33m{\u001b[0m\u001b[0mstudent\u001b[0m \u001b[1;33m:\u001b[0m \u001b[0mfloat\u001b[0m\u001b[1;33m(\u001b[0m\u001b[1;34m''\u001b[0m\u001b[1;33m.\u001b[0m\u001b[0mjoin\u001b[0m\u001b[1;33m(\u001b[0m\u001b[0mseq\u001b[0m\u001b[1;33m)\u001b[0m\u001b[1;33m.\u001b[0m\u001b[0mcount\u001b[0m\u001b[1;33m(\u001b[0m\u001b[0mseq_of_interest\u001b[0m\u001b[1;33m)\u001b[0m\u001b[1;33m)\u001b[0m\u001b[1;33m/\u001b[0m\u001b[1;34m''\u001b[0m\u001b[1;33m.\u001b[0m\u001b[0mjoin\u001b[0m\u001b[1;33m(\u001b[0m\u001b[0mseq\u001b[0m\u001b[1;33m)\u001b[0m\u001b[1;33m.\u001b[0m\u001b[0mcount\u001b[0m\u001b[1;33m(\u001b[0m\u001b[0mnormalize_by\u001b[0m\u001b[1;33m)\u001b[0m \u001b[1;32mfor\u001b[0m \u001b[0mstudent\u001b[0m\u001b[1;33m,\u001b[0m\u001b[0mseq\u001b[0m \u001b[1;32min\u001b[0m \u001b[0mblocks1\u001b[0m\u001b[1;33m.\u001b[0m\u001b[0miteritems\u001b[0m\u001b[1;33m(\u001b[0m\u001b[1;33m)\u001b[0m\u001b[1;33m}\u001b[0m\u001b[1;33m\u001b[0m\u001b[0m\n\u001b[0m\u001b[0;32m     28\u001b[0m         \u001b[0mfreq2\u001b[0m \u001b[1;33m=\u001b[0m \u001b[1;33m{\u001b[0m\u001b[0mstudent\u001b[0m \u001b[1;33m:\u001b[0m \u001b[0mfloat\u001b[0m\u001b[1;33m(\u001b[0m\u001b[1;34m''\u001b[0m\u001b[1;33m.\u001b[0m\u001b[0mjoin\u001b[0m\u001b[1;33m(\u001b[0m\u001b[0mseq\u001b[0m\u001b[1;33m)\u001b[0m\u001b[1;33m.\u001b[0m\u001b[0mcount\u001b[0m\u001b[1;33m(\u001b[0m\u001b[0mseq_of_interest\u001b[0m\u001b[1;33m)\u001b[0m\u001b[1;33m)\u001b[0m\u001b[1;33m/\u001b[0m\u001b[1;34m''\u001b[0m\u001b[1;33m.\u001b[0m\u001b[0mjoin\u001b[0m\u001b[1;33m(\u001b[0m\u001b[0mseq\u001b[0m\u001b[1;33m)\u001b[0m\u001b[1;33m.\u001b[0m\u001b[0mcount\u001b[0m\u001b[1;33m(\u001b[0m\u001b[0mnormalize_by\u001b[0m\u001b[1;33m)\u001b[0m \u001b[1;32mfor\u001b[0m \u001b[0mstudent\u001b[0m\u001b[1;33m,\u001b[0m\u001b[0mseq\u001b[0m \u001b[1;32min\u001b[0m \u001b[0mblocks2\u001b[0m\u001b[1;33m.\u001b[0m\u001b[0miteritems\u001b[0m\u001b[1;33m(\u001b[0m\u001b[1;33m)\u001b[0m\u001b[1;33m}\u001b[0m\u001b[1;33m\u001b[0m\u001b[0m\n\u001b[0;32m     29\u001b[0m     \u001b[1;32mreturn\u001b[0m \u001b[0mfreq1\u001b[0m\u001b[1;33m.\u001b[0m\u001b[0mvalues\u001b[0m\u001b[1;33m(\u001b[0m\u001b[1;33m)\u001b[0m\u001b[1;33m,\u001b[0m\u001b[0mfreq2\u001b[0m\u001b[1;33m.\u001b[0m\u001b[0mvalues\u001b[0m\u001b[1;33m(\u001b[0m\u001b[1;33m)\u001b[0m\u001b[1;33m\u001b[0m\u001b[0m\n",
      "\u001b[1;32m<ipython-input-29-7a8861feab24>\u001b[0m in \u001b[0;36m<dictcomp>\u001b[1;34m((student, seq))\u001b[0m\n\u001b[0;32m     25\u001b[0m         \u001b[0mfreq2\u001b[0m \u001b[1;33m=\u001b[0m \u001b[1;33m{\u001b[0m\u001b[0mstudent\u001b[0m \u001b[1;33m:\u001b[0m \u001b[0mfloat\u001b[0m\u001b[1;33m(\u001b[0m\u001b[1;34m''\u001b[0m\u001b[1;33m.\u001b[0m\u001b[0mjoin\u001b[0m\u001b[1;33m(\u001b[0m\u001b[0mseq\u001b[0m\u001b[1;33m)\u001b[0m\u001b[1;33m.\u001b[0m\u001b[0mcount\u001b[0m\u001b[1;33m(\u001b[0m\u001b[0mseq_of_interest\u001b[0m\u001b[1;33m)\u001b[0m\u001b[1;33m)\u001b[0m\u001b[1;33m/\u001b[0m\u001b[0mlen\u001b[0m\u001b[1;33m(\u001b[0m\u001b[0mseq\u001b[0m\u001b[1;33m)\u001b[0m \u001b[1;32mfor\u001b[0m \u001b[0mstudent\u001b[0m\u001b[1;33m,\u001b[0m\u001b[0mseq\u001b[0m \u001b[1;32min\u001b[0m \u001b[0mblocks2\u001b[0m\u001b[1;33m.\u001b[0m\u001b[0miteritems\u001b[0m\u001b[1;33m(\u001b[0m\u001b[1;33m)\u001b[0m\u001b[1;33m}\u001b[0m\u001b[1;33m\u001b[0m\u001b[0m\n\u001b[0;32m     26\u001b[0m     \u001b[1;32melse\u001b[0m\u001b[1;33m:\u001b[0m\u001b[1;33m\u001b[0m\u001b[0m\n\u001b[1;32m---> 27\u001b[1;33m         \u001b[0mfreq1\u001b[0m \u001b[1;33m=\u001b[0m \u001b[1;33m{\u001b[0m\u001b[0mstudent\u001b[0m \u001b[1;33m:\u001b[0m \u001b[0mfloat\u001b[0m\u001b[1;33m(\u001b[0m\u001b[1;34m''\u001b[0m\u001b[1;33m.\u001b[0m\u001b[0mjoin\u001b[0m\u001b[1;33m(\u001b[0m\u001b[0mseq\u001b[0m\u001b[1;33m)\u001b[0m\u001b[1;33m.\u001b[0m\u001b[0mcount\u001b[0m\u001b[1;33m(\u001b[0m\u001b[0mseq_of_interest\u001b[0m\u001b[1;33m)\u001b[0m\u001b[1;33m)\u001b[0m\u001b[1;33m/\u001b[0m\u001b[1;34m''\u001b[0m\u001b[1;33m.\u001b[0m\u001b[0mjoin\u001b[0m\u001b[1;33m(\u001b[0m\u001b[0mseq\u001b[0m\u001b[1;33m)\u001b[0m\u001b[1;33m.\u001b[0m\u001b[0mcount\u001b[0m\u001b[1;33m(\u001b[0m\u001b[0mnormalize_by\u001b[0m\u001b[1;33m)\u001b[0m \u001b[1;32mfor\u001b[0m \u001b[0mstudent\u001b[0m\u001b[1;33m,\u001b[0m\u001b[0mseq\u001b[0m \u001b[1;32min\u001b[0m \u001b[0mblocks1\u001b[0m\u001b[1;33m.\u001b[0m\u001b[0miteritems\u001b[0m\u001b[1;33m(\u001b[0m\u001b[1;33m)\u001b[0m\u001b[1;33m}\u001b[0m\u001b[1;33m\u001b[0m\u001b[0m\n\u001b[0m\u001b[0;32m     28\u001b[0m         \u001b[0mfreq2\u001b[0m \u001b[1;33m=\u001b[0m \u001b[1;33m{\u001b[0m\u001b[0mstudent\u001b[0m \u001b[1;33m:\u001b[0m \u001b[0mfloat\u001b[0m\u001b[1;33m(\u001b[0m\u001b[1;34m''\u001b[0m\u001b[1;33m.\u001b[0m\u001b[0mjoin\u001b[0m\u001b[1;33m(\u001b[0m\u001b[0mseq\u001b[0m\u001b[1;33m)\u001b[0m\u001b[1;33m.\u001b[0m\u001b[0mcount\u001b[0m\u001b[1;33m(\u001b[0m\u001b[0mseq_of_interest\u001b[0m\u001b[1;33m)\u001b[0m\u001b[1;33m)\u001b[0m\u001b[1;33m/\u001b[0m\u001b[1;34m''\u001b[0m\u001b[1;33m.\u001b[0m\u001b[0mjoin\u001b[0m\u001b[1;33m(\u001b[0m\u001b[0mseq\u001b[0m\u001b[1;33m)\u001b[0m\u001b[1;33m.\u001b[0m\u001b[0mcount\u001b[0m\u001b[1;33m(\u001b[0m\u001b[0mnormalize_by\u001b[0m\u001b[1;33m)\u001b[0m \u001b[1;32mfor\u001b[0m \u001b[0mstudent\u001b[0m\u001b[1;33m,\u001b[0m\u001b[0mseq\u001b[0m \u001b[1;32min\u001b[0m \u001b[0mblocks2\u001b[0m\u001b[1;33m.\u001b[0m\u001b[0miteritems\u001b[0m\u001b[1;33m(\u001b[0m\u001b[1;33m)\u001b[0m\u001b[1;33m}\u001b[0m\u001b[1;33m\u001b[0m\u001b[0m\n\u001b[0;32m     29\u001b[0m     \u001b[1;32mreturn\u001b[0m \u001b[0mfreq1\u001b[0m\u001b[1;33m.\u001b[0m\u001b[0mvalues\u001b[0m\u001b[1;33m(\u001b[0m\u001b[1;33m)\u001b[0m\u001b[1;33m,\u001b[0m\u001b[0mfreq2\u001b[0m\u001b[1;33m.\u001b[0m\u001b[0mvalues\u001b[0m\u001b[1;33m(\u001b[0m\u001b[1;33m)\u001b[0m\u001b[1;33m\u001b[0m\u001b[0m\n",
      "\u001b[1;31mZeroDivisionError\u001b[0m: float division by zero"
     ]
    }
   ],
   "source": [
    "seq = 'TsP'\n",
    "freq_HL,freq_LL = get_frequencies(seq,blocks_HL,blocks_LL,normalize_by='Ts')\n",
    "make_hist_continuous(seq,freq_HL,freq_LL)\n",
    "perform_comparative_stats(seq,freq_HL,freq_LL)"
   ]
  },
  {
   "cell_type": "markdown",
   "metadata": {},
   "source": [
    "### LL do more TcC?"
   ]
  },
  {
   "cell_type": "code",
   "execution_count": null,
   "metadata": {
    "collapsed": false
   },
   "outputs": [],
   "source": [
    "run_frequency_analysis('TcC',blocks_HL,blocks_LL,sequence_counts"
   ]
  },
  {
   "cell_type": "markdown",
   "metadata": {},
   "source": [
    "** <font color='blue'> LL Test complex + Construct more ($p < 0.05$) </font> **\n",
    "\n",
    "But HL do not significantly Test simple and Pause more."
   ]
  },
  {
   "cell_type": "markdown",
   "metadata": {},
   "source": [
    "### Let's generalize these hypotheses and repeat the analysis for TP and TC\n",
    "We merge all test actions (and don't ignore Test Other for this analysis)"
   ]
  },
  {
   "cell_type": "code",
   "execution_count": null,
   "metadata": {
    "collapsed": false
   },
   "outputs": [],
   "source": [
    "run_frequency_analysis_with_merge('TP',blocks_HL,blocks_LL,sequence_counts)"
   ]
  },
  {
   "cell_type": "code",
   "execution_count": null,
   "metadata": {
    "collapsed": false
   },
   "outputs": [],
   "source": [
    "run_frequency_analysis_with_merge('TC',blocks_HL,blocks_LL,sequence_counts)"
   ]
  },
  {
   "cell_type": "markdown",
   "metadata": {},
   "source": [
    "Visibly there is a trend however it is not significant. \n",
    "## Hypothesis 5.1 and 5.2: LL do more CP or PC?"
   ]
  },
  {
   "cell_type": "code",
   "execution_count": null,
   "metadata": {
    "collapsed": false
   },
   "outputs": [],
   "source": [
    "run_frequency_analysis_with_merge('CP',blocks_HL,blocks_LL,sequence_counts)"
   ]
  },
  {
   "cell_type": "code",
   "execution_count": null,
   "metadata": {
    "collapsed": false
   },
   "outputs": [],
   "source": [
    "run_frequency_analysis_with_merge('PC',blocks_HL,blocks_LL,sequence_counts)"
   ]
  },
  {
   "cell_type": "markdown",
   "metadata": {},
   "source": [
    "Once again, visisbly there is a trend however it is not significant.\n",
    "## So everyone pauses during the activity, but they possibly use pauses differently..."
   ]
  },
  {
   "cell_type": "code",
   "execution_count": null,
   "metadata": {
    "collapsed": false
   },
   "outputs": [],
   "source": [
    "plot = plot_heat_map(sequence_counts['P'],'P',('high','low'))"
   ]
  },
  {
   "cell_type": "code",
   "execution_count": null,
   "metadata": {
    "collapsed": false
   },
   "outputs": [],
   "source": [
    "for seq in ['TPC','CPT','TPT','CPC']:\n",
    "    run_frequency_analysis_with_merge(seq,blocks_HL,blocks_LL,sequence_counts)"
   ]
  },
  {
   "cell_type": "markdown",
   "metadata": {
    "collapsed": true
   },
   "source": [
    "## What about repetitions of building blocks?"
   ]
  },
  {
   "cell_type": "code",
   "execution_count": null,
   "metadata": {
    "collapsed": true
   },
   "outputs": [],
   "source": []
  }
 ],
 "metadata": {
  "anaconda-cloud": {},
  "kernelspec": {
   "display_name": "Python [Root]",
   "language": "python",
   "name": "Python [Root]"
  },
  "language_info": {
   "codemirror_mode": {
    "name": "ipython",
    "version": 2
   },
   "file_extension": ".py",
   "mimetype": "text/x-python",
   "name": "python",
   "nbconvert_exporter": "python",
   "pygments_lexer": "ipython2",
   "version": "2.7.12"
  }
 },
 "nbformat": 4,
 "nbformat_minor": 0
}
