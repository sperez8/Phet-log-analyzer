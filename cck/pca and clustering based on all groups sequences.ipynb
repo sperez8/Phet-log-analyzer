{
 "cells": [
  {
   "cell_type": "code",
   "execution_count": 249,
   "metadata": {},
   "outputs": [
    {
     "name": "stdout",
     "output_type": "stream",
     "text": [
      "The autoreload extension is already loaded. To reload it, use:\n",
      "  %reload_ext autoreload\n"
     ]
    }
   ],
   "source": [
    "import math\n",
    "import numpy as np\n",
    "import pandas as pd\n",
    "import sys\n",
    "import re\n",
    "import itertools\n",
    "from functions import *\n",
    "from sklearn.cluster import KMeans\n",
    "from sklearn.decomposition import PCA as sklearnPCA\n",
    "from sklearn.discriminant_analysis import LinearDiscriminantAnalysis as sklearnLDA\n",
    "from scipy.spatial.distance import cdist\n",
    "import scipy.cluster.hierarchy\n",
    "import jellyfish as jf\n",
    "import seaborn as sns\n",
    "np.set_printoptions(precision=2)\n",
    "pd.set_option('precision', 2)\n",
    "%matplotlib inline\n",
    "matplotlib.style.use('ggplot')\n",
    "matplotlib.rcParams['figure.figsize'] = (10, 3)\n",
    "%load_ext autoreload\n",
    "%autoreload 2"
   ]
  },
  {
   "cell_type": "markdown",
   "metadata": {},
   "source": [
    "### Data wrangling"
   ]
  },
  {
   "cell_type": "markdown",
   "metadata": {},
   "source": [
    "#### Loaded dataframe with every actions for all students and dataframe with student pre/post scores"
   ]
  },
  {
   "cell_type": "code",
   "execution_count": 2,
   "metadata": {},
   "outputs": [
    {
     "data": {
      "text/html": [
       "<div>\n",
       "<style scoped>\n",
       "    .dataframe tbody tr th:only-of-type {\n",
       "        vertical-align: middle;\n",
       "    }\n",
       "\n",
       "    .dataframe tbody tr th {\n",
       "        vertical-align: top;\n",
       "    }\n",
       "\n",
       "    .dataframe thead th {\n",
       "        text-align: right;\n",
       "    }\n",
       "</style>\n",
       "<table border=\"1\" class=\"dataframe\">\n",
       "  <thead>\n",
       "    <tr style=\"text-align: right;\">\n",
       "      <th></th>\n",
       "      <th>Activity</th>\n",
       "      <th>student</th>\n",
       "      <th>Time Stamp</th>\n",
       "      <th>Family</th>\n",
       "      <th>Family_tool</th>\n",
       "      <th>Family_default</th>\n",
       "      <th>Family_both</th>\n",
       "      <th>Action</th>\n",
       "      <th>Component</th>\n",
       "      <th>Outcome</th>\n",
       "      <th>...</th>\n",
       "      <th>current_is_circuit</th>\n",
       "      <th>current_#loops</th>\n",
       "      <th>current_#components</th>\n",
       "      <th>current_#battery</th>\n",
       "      <th>current_#circuitSwitch</th>\n",
       "      <th>current_#grabBagResistor</th>\n",
       "      <th>current_#lightBulb</th>\n",
       "      <th>current_#resistor</th>\n",
       "      <th>current_#seriesAmmeter</th>\n",
       "      <th>non_default_resistor_values</th>\n",
       "    </tr>\n",
       "  </thead>\n",
       "  <tbody>\n",
       "    <tr>\n",
       "      <th>0</th>\n",
       "      <td>a2</td>\n",
       "      <td>10009106</td>\n",
       "      <td>1363981168331</td>\n",
       "      <td>Construct</td>\n",
       "      <td>Construct</td>\n",
       "      <td>Construct</td>\n",
       "      <td>Construct</td>\n",
       "      <td>add</td>\n",
       "      <td>wire</td>\n",
       "      <td>None</td>\n",
       "      <td>...</td>\n",
       "      <td>0</td>\n",
       "      <td>0</td>\n",
       "      <td>0</td>\n",
       "      <td>0</td>\n",
       "      <td>0</td>\n",
       "      <td>0</td>\n",
       "      <td>0</td>\n",
       "      <td>0</td>\n",
       "      <td>0</td>\n",
       "      <td>0</td>\n",
       "    </tr>\n",
       "    <tr>\n",
       "      <th>1</th>\n",
       "      <td>a2</td>\n",
       "      <td>10009106</td>\n",
       "      <td>1363981175425</td>\n",
       "      <td>Construct</td>\n",
       "      <td>Construct</td>\n",
       "      <td>Construct</td>\n",
       "      <td>Construct</td>\n",
       "      <td>add</td>\n",
       "      <td>battery</td>\n",
       "      <td>None</td>\n",
       "      <td>...</td>\n",
       "      <td>0</td>\n",
       "      <td>0</td>\n",
       "      <td>0</td>\n",
       "      <td>0</td>\n",
       "      <td>0</td>\n",
       "      <td>0</td>\n",
       "      <td>0</td>\n",
       "      <td>0</td>\n",
       "      <td>0</td>\n",
       "      <td>0</td>\n",
       "    </tr>\n",
       "  </tbody>\n",
       "</table>\n",
       "<p>2 rows × 30 columns</p>\n",
       "</div>"
      ],
      "text/plain": [
       "  Activity   student     Time Stamp     Family Family_tool Family_default  \\\n",
       "0       a2  10009106  1363981168331  Construct   Construct      Construct   \n",
       "1       a2  10009106  1363981175425  Construct   Construct      Construct   \n",
       "\n",
       "  Family_both Action Component Outcome             ...               \\\n",
       "0   Construct    add      wire    None             ...                \n",
       "1   Construct    add   battery    None             ...                \n",
       "\n",
       "   current_is_circuit  current_#loops  current_#components  current_#battery  \\\n",
       "0                   0               0                    0                 0   \n",
       "1                   0               0                    0                 0   \n",
       "\n",
       "   current_#circuitSwitch  current_#grabBagResistor  current_#lightBulb  \\\n",
       "0                       0                         0                   0   \n",
       "1                       0                         0                   0   \n",
       "\n",
       "   current_#resistor  current_#seriesAmmeter  non_default_resistor_values  \n",
       "0                  0                       0                            0  \n",
       "1                  0                       0                            0  \n",
       "\n",
       "[2 rows x 30 columns]"
      ]
     },
     "execution_count": 2,
     "metadata": {},
     "output_type": "execute_result"
    }
   ],
   "source": [
    "df.head(2)"
   ]
  },
  {
   "cell_type": "code",
   "execution_count": 3,
   "metadata": {},
   "outputs": [
    {
     "data": {
      "text/html": [
       "<div>\n",
       "<style scoped>\n",
       "    .dataframe tbody tr th:only-of-type {\n",
       "        vertical-align: middle;\n",
       "    }\n",
       "\n",
       "    .dataframe tbody tr th {\n",
       "        vertical-align: top;\n",
       "    }\n",
       "\n",
       "    .dataframe thead th {\n",
       "        text-align: right;\n",
       "    }\n",
       "</style>\n",
       "<table border=\"1\" class=\"dataframe\">\n",
       "  <thead>\n",
       "    <tr style=\"text-align: right;\">\n",
       "      <th></th>\n",
       "      <th>Wave</th>\n",
       "      <th>scaffolding</th>\n",
       "      <th>how many PhETs in the past?</th>\n",
       "      <th>how comfortable with phets?</th>\n",
       "      <th>p100</th>\n",
       "      <th>used this circuit sim before?</th>\n",
       "      <th>COMPLETEDNESS</th>\n",
       "      <th>PRIORKNOWLEDGE</th>\n",
       "      <th>COMPLEXITY</th>\n",
       "      <th>DIAGRAMS</th>\n",
       "      <th>...</th>\n",
       "      <th>Anon Student Id</th>\n",
       "      <th>incoming_knowledge</th>\n",
       "      <th>incoming_attitude</th>\n",
       "      <th>learning1score</th>\n",
       "      <th>learning1</th>\n",
       "      <th>learning2score</th>\n",
       "      <th>learning2</th>\n",
       "      <th>split pre</th>\n",
       "      <th>split post t2</th>\n",
       "      <th>three groups</th>\n",
       "    </tr>\n",
       "  </thead>\n",
       "  <tbody>\n",
       "    <tr>\n",
       "      <th>0</th>\n",
       "      <td>March</td>\n",
       "      <td>not</td>\n",
       "      <td>NaN</td>\n",
       "      <td>NaN</td>\n",
       "      <td>NaN</td>\n",
       "      <td>NaN</td>\n",
       "      <td>NaN</td>\n",
       "      <td>NaN</td>\n",
       "      <td>NaN</td>\n",
       "      <td>NaN</td>\n",
       "      <td>...</td>\n",
       "      <td>NaN</td>\n",
       "      <td>high</td>\n",
       "      <td>low</td>\n",
       "      <td>NaN</td>\n",
       "      <td>low</td>\n",
       "      <td>NaN</td>\n",
       "      <td>low</td>\n",
       "      <td>high</td>\n",
       "      <td>high</td>\n",
       "      <td>HH</td>\n",
       "    </tr>\n",
       "    <tr>\n",
       "      <th>1</th>\n",
       "      <td>March</td>\n",
       "      <td>scaff</td>\n",
       "      <td>NaN</td>\n",
       "      <td>NaN</td>\n",
       "      <td>NaN</td>\n",
       "      <td>NaN</td>\n",
       "      <td>NaN</td>\n",
       "      <td>NaN</td>\n",
       "      <td>NaN</td>\n",
       "      <td>NaN</td>\n",
       "      <td>...</td>\n",
       "      <td>NaN</td>\n",
       "      <td>high</td>\n",
       "      <td>low</td>\n",
       "      <td>NaN</td>\n",
       "      <td>low</td>\n",
       "      <td>NaN</td>\n",
       "      <td>low</td>\n",
       "      <td>high</td>\n",
       "      <td>high</td>\n",
       "      <td>HH</td>\n",
       "    </tr>\n",
       "  </tbody>\n",
       "</table>\n",
       "<p>2 rows × 37 columns</p>\n",
       "</div>"
      ],
      "text/plain": [
       "    Wave scaffolding  how many PhETs in the past?  \\\n",
       "0  March         not                          NaN   \n",
       "1  March       scaff                          NaN   \n",
       "\n",
       "   how comfortable with phets?  p100  used this circuit sim before?  \\\n",
       "0                          NaN   NaN                            NaN   \n",
       "1                          NaN   NaN                            NaN   \n",
       "\n",
       "   COMPLETEDNESS  PRIORKNOWLEDGE  COMPLEXITY  DIAGRAMS      ...       \\\n",
       "0            NaN             NaN         NaN       NaN      ...        \n",
       "1            NaN             NaN         NaN       NaN      ...        \n",
       "\n",
       "   Anon Student Id  incoming_knowledge  incoming_attitude  learning1score  \\\n",
       "0              NaN                high                low             NaN   \n",
       "1              NaN                high                low             NaN   \n",
       "\n",
       "   learning1  learning2score  learning2  split pre  split post t2  \\\n",
       "0        low             NaN        low       high           high   \n",
       "1        low             NaN        low       high           high   \n",
       "\n",
       "   three groups  \n",
       "0            HH  \n",
       "1            HH  \n",
       "\n",
       "[2 rows x 37 columns]"
      ]
     },
     "execution_count": 3,
     "metadata": {},
     "output_type": "execute_result"
    }
   ],
   "source": [
    "df_scores.head(2)"
   ]
  },
  {
   "cell_type": "markdown",
   "metadata": {},
   "source": [
    "#### Crop activity data to get rid of activity #3"
   ]
  },
  {
   "cell_type": "code",
   "execution_count": 4,
   "metadata": {},
   "outputs": [],
   "source": [
    "max_time = 25*60*1000\n",
    "max_times = {s:min(df[df['student']==s][\"Time Stamp\"])+max_time for s in set(df['student'])}\n",
    "\n",
    "def keep_by_time (row):\n",
    "    if row[\"Time Stamp\"] <= max_times[row[\"student\"]]:\n",
    "        return True\n",
    "    else: \n",
    "        return False\n",
    "\n",
    "df['keep'] = df.apply (lambda row: keep_by_time (row),axis=1)\n",
    "df=df[df['keep']]"
   ]
  },
  {
   "cell_type": "markdown",
   "metadata": {},
   "source": [
    "#### Define LL, LH, HL and HH groups based on median split on pre and bimodal dist of post tests"
   ]
  },
  {
   "cell_type": "code",
   "execution_count": 5,
   "metadata": {},
   "outputs": [],
   "source": [
    "median_learning0 = 0.45\n",
    "df_scores['split pre'] = df_scores.apply (lambda row: label_learning (median_learning0,row,\"z pre\"),axis=1)\n",
    "median_learning2 = np.median(df_scores[df_scores['split pre']=='low']['z post t2'])\n",
    "df_scores['split post t2'] = df_scores.apply (lambda row: label_learning (median_learning2,row,\"z post t2\"),axis=1)"
   ]
  },
  {
   "cell_type": "code",
   "execution_count": 6,
   "metadata": {},
   "outputs": [
    {
     "name": "stdout",
     "output_type": "stream",
     "text": [
      "high high 22\n",
      "high low 3\n",
      "low high 38\n",
      "low low 36\n"
     ]
    }
   ],
   "source": [
    "for x in ['high','low']:\n",
    "    for y in ['high','low']:\n",
    "        print x,y, len(set(df_scores[(df_scores['split pre']==x)&(df_scores['split post t2']==y)]['student']))"
   ]
  },
  {
   "cell_type": "code",
   "execution_count": 7,
   "metadata": {},
   "outputs": [],
   "source": [
    "def label_3_groups (row):\n",
    "    if row['split pre']  == 'high' and row['split post t2'] == 'high':\n",
    "        return 'HH'\n",
    "    if row['split pre']  == 'high' and row['split post t2'] == 'low':\n",
    "        return 'HL'\n",
    "    if row['split pre']  == 'low' and row['split post t2'] == 'high':\n",
    "        return 'LH'\n",
    "    if row['split pre']  == 'low' and row['split post t2'] == 'low':\n",
    "        return 'LL'\n",
    "df_scores['three groups'] = df_scores.apply (lambda row: label_3_groups (row),axis=1)"
   ]
  },
  {
   "cell_type": "markdown",
   "metadata": {},
   "source": [
    "#### Convert action families into string sequences"
   ]
  },
  {
   "cell_type": "code",
   "execution_count": 16,
   "metadata": {},
   "outputs": [],
   "source": [
    "def convert(action, test_granular = True):\n",
    "        \n",
    "    '''\n",
    "    this function converts action families into single codes more amenable for sequence interpretation\n",
    "    '''\n",
    "\n",
    "    if test_granular:\n",
    "        converter =  {\"Construct\" : \"C\",\n",
    "        \"Interface\" : \"I\",\n",
    "        \"Pause\" : \"P\",\n",
    "        \"Test_basic\" : \"T1\",\n",
    "        \"Test_complex\" : \"Tm\",\n",
    "        \"Test_other\" : \"To\",\n",
    "        \"Test_simple\" : \"T2\",\n",
    "        }\n",
    "    else:\n",
    "        converter =  {\"Construct\" : \"C\",\n",
    "        \"Interface\" : \"I\",\n",
    "        \"Pause\" : \"P\",\n",
    "        \"Test_basic\" : \"T\",\n",
    "        \"Test_complex\" : \"T\",\n",
    "        \"Test_other\" : \"T\",\n",
    "        \"Test_simple\" : \"T\",\n",
    "        }   \n",
    "    return converter[action]"
   ]
  },
  {
   "cell_type": "code",
   "execution_count": 17,
   "metadata": {},
   "outputs": [
    {
     "name": "stdout",
     "output_type": "stream",
     "text": [
      "CCCPCCCCCCCCCCCCCCCCCCCCCCCCTmCCCCCCCCCCCCCCCCCCCCCCCCCCCCCCCCCCCCCCCCCCCCCCCCCCCCCCCCCCCCCCCCCCCCCCCCCCCCCCCCCCCCCCCCCCCCCCCCCCCCCCCCCCCCCCCCCCCCCCCCCCCCCCCCCCCCT1T1PT1T1PT1CCCCCCCT1T1T1CCCCCCT1PT2T2T2T2PT2T2T2PT2T2PT2PT2T2T2T2CCT2T2T2T2CCT2T2T2T2T2T2PCCCCT2T2T2T2T2T2T2T2CT2T2T2T2T2T2T2PCCT2T2T2T2T2T2CT2T2T2T2T2T2T2PPCCCCCCCC\n",
      "CPCTCTPTPTCTCTPTPTPTPTPTCTCTPCTCTPCTCTPC\n",
      "CPCTmCT1T1PT1T1PT1CT1T1T1CT1PT2T2T2T2PT2T2T2PT2T2PT2PT2T2T2T2CT2T2T2T2CT2T2T2T2T2T2PCT2T2T2T2T2T2T2T2CT2T2T2T2T2T2T2PCT2T2T2T2T2T2CT2T2T2T2T2T2T2PC\n"
     ]
    }
   ],
   "source": [
    "''' \n",
    "this is a test cell to assess regex\n",
    "'''\n",
    "ignore=['I', 'To']\n",
    "sequence = list(df[df['student']==10009106][\"Family\"])\n",
    "\n",
    "#prints raw sequence\n",
    "print ''.join([convert(action) for action in sequence if convert(action) not in ignore])\n",
    "\n",
    "#prints blocked action sequence\n",
    "block = re.sub(r'([A-Z][a-z]{0,3})\\1+', \n",
    "               r'\\1',\n",
    "               ''.join([convert(action, False) for action in sequence if convert(action, False) not in ignore]))\n",
    "print block\n",
    "\n",
    "#prints blocked action for all action families except tests\n",
    "block2 = re.sub(r'([CPI])\\1+', \n",
    "                r'\\1',\n",
    "                ''.join([convert(action) for action in sequence if convert(action) not in ignore]))\n",
    "print block2"
   ]
  },
  {
   "cell_type": "code",
   "execution_count": 340,
   "metadata": {},
   "outputs": [],
   "source": [
    "'''\n",
    "This creates dictionary (keys are student ID) and values are action sequences\n",
    "'''\n",
    "ignore=['I', 'To']\n",
    "students = list(df['student'].unique())\n",
    "sequences = {student:'' for student in students}\n",
    "for student in students:\n",
    "    sequence = list(df[df['student']==student][\"Family\"])\n",
    "    sequences[student] = re.sub(r'([A-Z][a-z]{0,3})\\1+', \n",
    "                                r'\\1',\n",
    "                                ''.join([convert(action) for action in sequence if convert(action) not in ignore]))"
   ]
  },
  {
   "cell_type": "code",
   "execution_count": 240,
   "metadata": {},
   "outputs": [
    {
     "name": "stdout",
     "output_type": "stream",
     "text": [
      "12\n",
      "['CPC', 'CPT', 'CTC', 'CTP', 'PCP', 'PCT', 'PTC', 'PTP', 'TCP', 'TCT', 'TPC', 'TPT']\n"
     ]
    }
   ],
   "source": [
    "'''\n",
    "This creates a list of possible 3 action \"phrases\" (short sequences of actions) that will define\n",
    "the dimensions along which we will cluster students.  The phrases cannot contain the same action in a row.\n",
    "'''\n",
    "# actions = ['C','P','T1','T2','Tm']\n",
    "actions = ['C','P','T']\n",
    "phrases = []    \n",
    "for action1 in actions:\n",
    "    temp2 = actions[:]\n",
    "    temp2.remove(action1)\n",
    "    for action2 in temp2:\n",
    "        temp3 = actions[:]\n",
    "        temp3.remove(action2)\n",
    "        for action3 in temp3:\n",
    "#             temp4 = actions[:]\n",
    "#             temp4.remove(action3)\n",
    "#             for action4 in temp4: \n",
    "                phrases = phrases + [action1+action2+action3]\n",
    "\n",
    "print len(phrases)             \n",
    "print phrases"
   ]
  },
  {
   "cell_type": "code",
   "execution_count": 241,
   "metadata": {},
   "outputs": [
    {
     "name": "stdout",
     "output_type": "stream",
     "text": [
      "19\n"
     ]
    }
   ],
   "source": [
    "#testing regex for detecting number of instances a phrase appears in a student whole sequence\n",
    "s = sequences[1075123]\n",
    "matches = re.finditer(r'(?=(CTC))',s)\n",
    "results = [match.group(1) for match in matches]\n",
    "print len(results)"
   ]
  },
  {
   "cell_type": "code",
   "execution_count": 242,
   "metadata": {},
   "outputs": [],
   "source": [
    "'''\n",
    "This creates a large matrix where each row is a student and each column represent a phrase.  \n",
    "Each element is the normalized count of instances that the corresponding phrase appears\n",
    "in that students whole sequence.\n",
    "'''\n",
    "# phrases = ['CPCTC', 'CPCTCP', 'TCTC', 'TCPCP', 'CTCT', 'PTPCT', 'PTCT', 'TPTC', 'TPCPCP', 'TPCT']\n",
    "# phrases = ['TP','CP', 'PC', 'PT', 'CT', 'TC']\n",
    "X=np.zeros([len(students),len(phrases)])\n",
    "nn = 0\n",
    "for student in students:\n",
    "    mm = 0\n",
    "    for phrase in phrases:\n",
    "        rx = r'(?=({0}))'.format(phrase)\n",
    "        matches = re.finditer(rx,sequences[student])\n",
    "        X[nn,mm] = len([match.group(1) for match in matches]) / float(len(sequences[student]))\n",
    "        mm += 1\n",
    "    nn += 1  "
   ]
  },
  {
   "cell_type": "code",
   "execution_count": 243,
   "metadata": {},
   "outputs": [
    {
     "name": "stdout",
     "output_type": "stream",
     "text": [
      "[[ 0.36 -0.14  0.55 -0.25  0.1  -0.07 -0.06 -0.36  0.11  0.37 -0.33 -0.28]\n",
      " [ 0.17 -0.37  0.02  0.41 -0.13  0.59 -0.22 -0.34 -0.07 -0.16  0.27 -0.19]]\n",
      "[5.03e-01 2.48e-01 1.06e-01 5.67e-02 4.74e-02 3.26e-02 3.09e-03 2.17e-03\n",
      " 1.02e-03 2.38e-04 6.49e-05 1.92e-32]\n"
     ]
    }
   ],
   "source": [
    "# n_components=2\n",
    "sklearn_pca = sklearnPCA()\n",
    "pca = sklearn_pca.fit(X)\n",
    "# transformed_X = np.dot(X, pca.components_.T)\n",
    "X_tr = sklearn_pca.fit_transform(X)\n",
    "# plt.figure(figsize=(5, 6))\n",
    "# plt.scatter(transformed_X[:,0],transformed_X[:,1])\n",
    "# plt.scatter(X_tr[:,0],X_tr[:,1])\n",
    "print(pca.components_[1:3,:]) \n",
    "print(pca.explained_variance_ratio_)"
   ]
  },
  {
   "cell_type": "code",
   "execution_count": 244,
   "metadata": {},
   "outputs": [
    {
     "data": {
      "image/png": "[encoded data removed]",
      "text/plain": [
       "<Figure size 1296x216 with 2 Axes>"
      ]
     },
     "metadata": {},
     "output_type": "display_data"
    }
   ],
   "source": [
    "plt.figure(figsize=(18, 3))\n",
    "ax = sns.heatmap(pca.components_[1:3,:], cmap=\"RdBu\", xticklabels=phrases)"
   ]
  },
  {
   "cell_type": "code",
   "execution_count": 245,
   "metadata": {},
   "outputs": [
    {
     "data": {
      "text/plain": [
       "<seaborn.axisgrid.FacetGrid at 0x1a238eba90>"
      ]
     },
     "execution_count": 245,
     "metadata": {},
     "output_type": "execute_result"
    },
    {
     "data": {
      "image/png": "[encoded data removed]",
      "text/plain": [
       "<Figure size 445.5x360 with 1 Axes>"
      ]
     },
     "metadata": {},
     "output_type": "display_data"
    }
   ],
   "source": [
    "df_action_counts = pd.DataFrame(X_tr)\n",
    "df_action_counts.columns = ['PC'+ str(nn) for nn in range(0,X_tr.shape[1])]\n",
    "df_action_counts['student'] = students\n",
    "# df_action_counts.head()\n",
    "df_category = df_scores.loc[:,['student','three groups']]\n",
    "df_action_counts = df_action_counts.join(df_category.set_index('student'), on='student')\n",
    "# df_action_counts.head()\n",
    "sns.lmplot('PC0', 'PC1', data=df_action_counts, hue='three groups', fit_reg=False)"
   ]
  },
  {
   "cell_type": "code",
   "execution_count": 246,
   "metadata": {},
   "outputs": [
    {
     "name": "stdout",
     "output_type": "stream",
     "text": [
      "[[ 39.59  -8.63  44.76  -5.2  -39.45 -19.07  74.89  17.08 -69.66 -47.53\n",
      "   28.44 -13.74]\n",
      " [ 62.54 -15.48  30.91  17.4   -9.82 -19.09  32.28  60.04  39.01  29.52\n",
      "   86.15   3.89]\n",
      " [ -9.66   2.42  -3.76  12.97   5.22 -14.29 -26.38  -6.92  25.73   0.29\n",
      "    1.95   5.39]\n",
      " [-19.2    4.01 -25.96 -11.96  19.42  28.32 -20.61  -8.14  12.16  26.29\n",
      "  -26.61   2.38]]\n",
      "[0.58 0.33 0.08]\n"
     ]
    }
   ],
   "source": [
    "# n_components=2\n",
    "sklearn_lda = sklearnLDA()\n",
    "y = df_action_counts['three groups'].values\n",
    "lda = sklearn_lda.fit(X, y)\n",
    "X_tr_lda = sklearn_lda.fit_transform(X, y)\n",
    "print(lda.coef_) \n",
    "print(lda.explained_variance_ratio_)"
   ]
  },
  {
   "cell_type": "code",
   "execution_count": 247,
   "metadata": {},
   "outputs": [
    {
     "data": {
      "text/plain": [
       "<seaborn.axisgrid.FacetGrid at 0x1a2582b950>"
      ]
     },
     "execution_count": 247,
     "metadata": {},
     "output_type": "execute_result"
    },
    {
     "data": {
      "image/png": "[encoded data removed]",
      "text/plain": [
       "<Figure size 445.5x360 with 1 Axes>"
      ]
     },
     "metadata": {},
     "output_type": "display_data"
    }
   ],
   "source": [
    "df_action_counts2 = pd.DataFrame(X_tr_lda)\n",
    "df_action_counts2.columns = ['LD'+ str(nn) for nn in range(0,X_tr_lda.shape[1])]\n",
    "df_action_counts2['student'] = students\n",
    "# df_action_counts2.head()\n",
    "df_action_counts2 = df_action_counts2.join(df_category.set_index('student'), on='student')\n",
    "sns.lmplot('LD0', 'LD1', data=df_action_counts2, hue='three groups', fit_reg=False)"
   ]
  },
  {
   "cell_type": "code",
   "execution_count": 234,
   "metadata": {},
   "outputs": [],
   "source": [
    "K=2\n",
    "# Number of clusters\n",
    "kmeans = KMeans(n_clusters=K)\n",
    "# Fitting the input data\n",
    "kmeans = kmeans.fit(X)\n",
    "# Getting the cluster labels\n",
    "labels = kmeans.predict(X)\n",
    "# Centroid values\n",
    "centroids = kmeans.cluster_centers_"
   ]
  },
  {
   "cell_type": "code",
   "execution_count": 235,
   "metadata": {},
   "outputs": [
    {
     "name": "stdout",
     "output_type": "stream",
     "text": [
      "30\n",
      "69\n"
     ]
    }
   ],
   "source": [
    "for nn in range(0, K):\n",
    "    print len([label for label in labels if label == nn])"
   ]
  },
  {
   "cell_type": "code",
   "execution_count": 236,
   "metadata": {},
   "outputs": [
    {
     "data": {
      "image/png": "[encoded data removed]",
      "text/plain": [
       "<Figure size 1296x216 with 2 Axes>"
      ]
     },
     "metadata": {},
     "output_type": "display_data"
    }
   ],
   "source": [
    "plt.figure(figsize=(18, 3))\n",
    "ax = sns.heatmap(centroids/np.max(centroids[:]), cmap=\"YlGnBu\", xticklabels=phrases)"
   ]
  },
  {
   "cell_type": "code",
   "execution_count": 237,
   "metadata": {},
   "outputs": [
    {
     "data": {
      "image/png": "[encoded data removed]",
      "text/plain": [
       "<Figure size 720x216 with 1 Axes>"
      ]
     },
     "metadata": {},
     "output_type": "display_data"
    }
   ],
   "source": [
    "# k means determine k\n",
    "sse = []\n",
    "K = range(1,10)\n",
    "for k in K:\n",
    "    kmeanModel = KMeans(n_clusters=k).fit(X)\n",
    "    kmeanModel.fit(X)\n",
    "#     sse.append(sum(np.min(cdist(X, kmeanModel.cluster_centers_, 'sqeuclidean'), axis=1)))\n",
    "    sse.append(kmeanModel.inertia_)\n",
    "\n",
    "plt.plot(K, sse, 'bx-')\n",
    "plt.xlabel('k')\n",
    "plt.ylabel('sse')\n",
    "plt.title('Elbow Method showing the optimal k')\n",
    "plt.show()"
   ]
  },
  {
   "cell_type": "markdown",
   "metadata": {},
   "source": [
    "#### Creating new dataframe with clusters and pre-identified groups"
   ]
  },
  {
   "cell_type": "code",
   "execution_count": 238,
   "metadata": {},
   "outputs": [
    {
     "data": {
      "text/html": [
       "<div>\n",
       "<style scoped>\n",
       "    .dataframe tbody tr th:only-of-type {\n",
       "        vertical-align: middle;\n",
       "    }\n",
       "\n",
       "    .dataframe tbody tr th {\n",
       "        vertical-align: top;\n",
       "    }\n",
       "\n",
       "    .dataframe thead th {\n",
       "        text-align: right;\n",
       "    }\n",
       "</style>\n",
       "<table border=\"1\" class=\"dataframe\">\n",
       "  <thead>\n",
       "    <tr style=\"text-align: right;\">\n",
       "      <th></th>\n",
       "      <th>student</th>\n",
       "      <th>k-means label</th>\n",
       "      <th>three groups</th>\n",
       "    </tr>\n",
       "  </thead>\n",
       "  <tbody>\n",
       "    <tr>\n",
       "      <th>0</th>\n",
       "      <td>10009106</td>\n",
       "      <td>1</td>\n",
       "      <td>LL</td>\n",
       "    </tr>\n",
       "    <tr>\n",
       "      <th>1</th>\n",
       "      <td>1075123</td>\n",
       "      <td>1</td>\n",
       "      <td>LH</td>\n",
       "    </tr>\n",
       "    <tr>\n",
       "      <th>2</th>\n",
       "      <td>10942128</td>\n",
       "      <td>0</td>\n",
       "      <td>LH</td>\n",
       "    </tr>\n",
       "    <tr>\n",
       "      <th>3</th>\n",
       "      <td>12235124</td>\n",
       "      <td>1</td>\n",
       "      <td>LL</td>\n",
       "    </tr>\n",
       "    <tr>\n",
       "      <th>4</th>\n",
       "      <td>12949120</td>\n",
       "      <td>1</td>\n",
       "      <td>LH</td>\n",
       "    </tr>\n",
       "  </tbody>\n",
       "</table>\n",
       "</div>"
      ],
      "text/plain": [
       "    student  k-means label three groups\n",
       "0  10009106              1           LL\n",
       "1   1075123              1           LH\n",
       "2  10942128              0           LH\n",
       "3  12235124              1           LL\n",
       "4  12949120              1           LH"
      ]
     },
     "execution_count": 238,
     "metadata": {},
     "output_type": "execute_result"
    }
   ],
   "source": [
    "df2 = pd.DataFrame(np.array([students,labels]).transpose())\n",
    "df2.columns = ['student','k-means label']\n",
    "df_category = df_scores.loc[:,['student','three groups']]\n",
    "df2 = df2.join(df_category.set_index('student'), on='student')\n",
    "df2.head()"
   ]
  },
  {
   "cell_type": "code",
   "execution_count": 239,
   "metadata": {},
   "outputs": [
    {
     "data": {
      "text/html": [
       "<div>\n",
       "<style scoped>\n",
       "    .dataframe tbody tr th:only-of-type {\n",
       "        vertical-align: middle;\n",
       "    }\n",
       "\n",
       "    .dataframe tbody tr th {\n",
       "        vertical-align: top;\n",
       "    }\n",
       "\n",
       "    .dataframe thead th {\n",
       "        text-align: right;\n",
       "    }\n",
       "</style>\n",
       "<table border=\"1\" class=\"dataframe\">\n",
       "  <thead>\n",
       "    <tr style=\"text-align: right;\">\n",
       "      <th>three groups</th>\n",
       "      <th>HH</th>\n",
       "      <th>HL</th>\n",
       "      <th>LH</th>\n",
       "      <th>LL</th>\n",
       "    </tr>\n",
       "    <tr>\n",
       "      <th>k-means label</th>\n",
       "      <th></th>\n",
       "      <th></th>\n",
       "      <th></th>\n",
       "      <th></th>\n",
       "    </tr>\n",
       "  </thead>\n",
       "  <tbody>\n",
       "    <tr>\n",
       "      <th>0</th>\n",
       "      <td>9.0</td>\n",
       "      <td>0.0</td>\n",
       "      <td>8.0</td>\n",
       "      <td>13.0</td>\n",
       "    </tr>\n",
       "    <tr>\n",
       "      <th>1</th>\n",
       "      <td>13.0</td>\n",
       "      <td>3.0</td>\n",
       "      <td>30.0</td>\n",
       "      <td>23.0</td>\n",
       "    </tr>\n",
       "  </tbody>\n",
       "</table>\n",
       "</div>"
      ],
      "text/plain": [
       "three groups     HH   HL    LH    LL\n",
       "k-means label                       \n",
       "0               9.0  0.0   8.0  13.0\n",
       "1              13.0  3.0  30.0  23.0"
      ]
     },
     "execution_count": 239,
     "metadata": {},
     "output_type": "execute_result"
    }
   ],
   "source": [
    "df2.groupby(['k-means label', 'three groups']).size().unstack().fillna(0)"
   ]
  },
  {
   "cell_type": "code",
   "execution_count": 338,
   "metadata": {},
   "outputs": [
    {
     "name": "stdout",
     "output_type": "stream",
     "text": [
      "CPCCCCCCCCCCCCCCCCCCCCCCCCCCCCCCCCCCCCCCCCCCPTTTTPCCCCCCTTTTTCPCCCCCCCCCCCCCTTTTTTTTTCCTPCCCCCCCCCCCCCCCCCCCCCCCCCCCCCCCCCCCCCCCCCCCCCCCCCCCCPCCCCCCCCCCPCCCPCCCCCCCPTTTTTTTPCCCCCCCCCCCCCCCCCCCCCCCCCCCCCCCCCCCCCCCCCPCCCCCCCCCCCCCCCCCCCCCCCCCCCCCCCCCCCCCPCCCCCCCCCCCCCCCCCPCCCCCCCPTTTTCCCCCTTTCCCCCCCCCCCCCCTTTTTTTCCCCCCCTTTTPCCCCCCCCCCCCCCCCCCCCCCCCCCCCCCCPTTTTTCCCCCTTCCCCCCCCCCCCCCCCCCCCCCCCCCCCCCCCPCCCCCCCCCCCCCCCCCCCCCCCCCCCCCCCCCCCCCCCCCCCCCCCCCCCCCCCCCCCCCPCCCCCCCCCPCCCCCCCCCCCCCCCCCCPCCPCCCCC\n",
      "CCCCCCCCCCCCCPCCCCCCCCCCCCCCCCCCCCCCCPCCCCCCCPCCPCCCCCCPCCCCCCCCCCCCCCCCCCCCCCCCCCCCCCCCCTPTCCCTTPCCCCPCCCCCCCCCCCCCCCCPCCCCCCCCCCCCCCCCCCCCPCCCCCCCPCCCCCCCTCCCCCCCCCCCCCCCCCCCCCCCCCCCCCCCCCCCCPCCCCCCCCCCCCCCCCCCCCCTTTTTTTTPCCCCCCCCCCCCTTTTTTCCCCCCCCCCCCCCCCCCCCCCCCCCCCCCCCCCCCCCCCCCCCCCCCCCCCPCCCCCCCTTTTCCCCCCCCCPCCCCCPCTCTCCCCCCTTTCCCCCCCCCCCCCPCCCCCCCCCCCCCCCCCCCCCCCCCCCCCCCCCCPCCCPCCCCCCCCCCCCCCCCCCCCCCCCCCCCCCCCCCCCCCCCCCPCCCCCCCCCCCCCCCCCCCCCCCCCCCCCCCCPTCCCCCCCCCCCCCPCCCCCCCCCCCCCCCC\n",
      "99\n"
     ]
    }
   ],
   "source": [
    "print sentences[35]\n",
    "print sentences[40]\n",
    "print len(sentences)"
   ]
  },
  {
   "cell_type": "code",
   "execution_count": 349,
   "metadata": {},
   "outputs": [
    {
     "data": {
      "image/png": "[encoded data removed]",
      "text/plain": [
       "<Figure size 1296x432 with 1 Axes>"
      ]
     },
     "metadata": {},
     "output_type": "display_data"
    }
   ],
   "source": [
    "sentences = map(unicode, sequences.values())\n",
    "\n",
    "def distmetric(coord):\n",
    "    i, j = coord\n",
    "    return 1 - jf.jaro_distance(sentences[i], sentences[j])\n",
    "\n",
    "coord = np.triu_indices(len(sentences), 1)\n",
    "distmatrix = np.apply_along_axis(distmetric, 0, coord)\n",
    "Z = scipy.cluster.hierarchy.linkage(distmatrix)\n",
    "plt.figure(figsize=(18, 6))\n",
    "max_d = 0.68*max(Z[:,2])\n",
    "results = scipy.cluster.hierarchy.dendrogram(Z, color_threshold = max_d)"
   ]
  },
  {
   "cell_type": "code",
   "execution_count": 350,
   "metadata": {},
   "outputs": [
    {
     "name": "stdout",
     "output_type": "stream",
     "text": [
      "[ 5  4  5  5  5  5 11  5  4  4  5  5  4  9  1  4  4  4  2 15  4  4  5  5\n",
      "  5  5  5  5  4  4  5  5  8  5  5  5  4  5  5  5  5  5 13  5  5  4  5  5\n",
      "  5  5  5  4  4  5  5  4  4  2  5  5 14  5  4  4  3  5  5  5  4  5  4  4\n",
      " 12  1  5  5  5  5  5  7  5  1  5  5  5  5  5  5  5  5  5  4  4 10  5  3\n",
      "  5  5  6]\n"
     ]
    }
   ],
   "source": [
    "clusters = scipy.cluster.hierarchy.fcluster(Z, max_d, criterion='distance')\n",
    "print clusters"
   ]
  },
  {
   "cell_type": "code",
   "execution_count": 353,
   "metadata": {},
   "outputs": [
    {
     "data": {
      "text/html": [
       "<div>\n",
       "<style scoped>\n",
       "    .dataframe tbody tr th:only-of-type {\n",
       "        vertical-align: middle;\n",
       "    }\n",
       "\n",
       "    .dataframe tbody tr th {\n",
       "        vertical-align: top;\n",
       "    }\n",
       "\n",
       "    .dataframe thead th {\n",
       "        text-align: right;\n",
       "    }\n",
       "</style>\n",
       "<table border=\"1\" class=\"dataframe\">\n",
       "  <thead>\n",
       "    <tr style=\"text-align: right;\">\n",
       "      <th>three groups</th>\n",
       "      <th>HH</th>\n",
       "      <th>HL</th>\n",
       "      <th>LH</th>\n",
       "      <th>LL</th>\n",
       "    </tr>\n",
       "    <tr>\n",
       "      <th>hierarchical label</th>\n",
       "      <th></th>\n",
       "      <th></th>\n",
       "      <th></th>\n",
       "      <th></th>\n",
       "    </tr>\n",
       "  </thead>\n",
       "  <tbody>\n",
       "    <tr>\n",
       "      <th>1</th>\n",
       "      <td>NaN</td>\n",
       "      <td>1.0</td>\n",
       "      <td>NaN</td>\n",
       "      <td>2.0</td>\n",
       "    </tr>\n",
       "    <tr>\n",
       "      <th>2</th>\n",
       "      <td>NaN</td>\n",
       "      <td>NaN</td>\n",
       "      <td>1.0</td>\n",
       "      <td>1.0</td>\n",
       "    </tr>\n",
       "    <tr>\n",
       "      <th>3</th>\n",
       "      <td>NaN</td>\n",
       "      <td>1.0</td>\n",
       "      <td>NaN</td>\n",
       "      <td>1.0</td>\n",
       "    </tr>\n",
       "    <tr>\n",
       "      <th>4</th>\n",
       "      <td>5.0</td>\n",
       "      <td>NaN</td>\n",
       "      <td>9.0</td>\n",
       "      <td>10.0</td>\n",
       "    </tr>\n",
       "    <tr>\n",
       "      <th>5</th>\n",
       "      <td>14.0</td>\n",
       "      <td>1.0</td>\n",
       "      <td>24.0</td>\n",
       "      <td>19.0</td>\n",
       "    </tr>\n",
       "    <tr>\n",
       "      <th>6</th>\n",
       "      <td>1.0</td>\n",
       "      <td>NaN</td>\n",
       "      <td>NaN</td>\n",
       "      <td>NaN</td>\n",
       "    </tr>\n",
       "    <tr>\n",
       "      <th>7</th>\n",
       "      <td>NaN</td>\n",
       "      <td>NaN</td>\n",
       "      <td>1.0</td>\n",
       "      <td>NaN</td>\n",
       "    </tr>\n",
       "    <tr>\n",
       "      <th>8</th>\n",
       "      <td>NaN</td>\n",
       "      <td>NaN</td>\n",
       "      <td>NaN</td>\n",
       "      <td>1.0</td>\n",
       "    </tr>\n",
       "    <tr>\n",
       "      <th>9</th>\n",
       "      <td>1.0</td>\n",
       "      <td>NaN</td>\n",
       "      <td>NaN</td>\n",
       "      <td>NaN</td>\n",
       "    </tr>\n",
       "    <tr>\n",
       "      <th>10</th>\n",
       "      <td>NaN</td>\n",
       "      <td>NaN</td>\n",
       "      <td>1.0</td>\n",
       "      <td>NaN</td>\n",
       "    </tr>\n",
       "    <tr>\n",
       "      <th>11</th>\n",
       "      <td>NaN</td>\n",
       "      <td>NaN</td>\n",
       "      <td>1.0</td>\n",
       "      <td>NaN</td>\n",
       "    </tr>\n",
       "    <tr>\n",
       "      <th>12</th>\n",
       "      <td>1.0</td>\n",
       "      <td>NaN</td>\n",
       "      <td>NaN</td>\n",
       "      <td>NaN</td>\n",
       "    </tr>\n",
       "    <tr>\n",
       "      <th>13</th>\n",
       "      <td>NaN</td>\n",
       "      <td>NaN</td>\n",
       "      <td>NaN</td>\n",
       "      <td>1.0</td>\n",
       "    </tr>\n",
       "    <tr>\n",
       "      <th>14</th>\n",
       "      <td>NaN</td>\n",
       "      <td>NaN</td>\n",
       "      <td>NaN</td>\n",
       "      <td>1.0</td>\n",
       "    </tr>\n",
       "    <tr>\n",
       "      <th>15</th>\n",
       "      <td>NaN</td>\n",
       "      <td>NaN</td>\n",
       "      <td>1.0</td>\n",
       "      <td>NaN</td>\n",
       "    </tr>\n",
       "  </tbody>\n",
       "</table>\n",
       "</div>"
      ],
      "text/plain": [
       "three groups          HH   HL    LH    LL\n",
       "hierarchical label                       \n",
       "1                    NaN  1.0   NaN   2.0\n",
       "2                    NaN  NaN   1.0   1.0\n",
       "3                    NaN  1.0   NaN   1.0\n",
       "4                    5.0  NaN   9.0  10.0\n",
       "5                   14.0  1.0  24.0  19.0\n",
       "6                    1.0  NaN   NaN   NaN\n",
       "7                    NaN  NaN   1.0   NaN\n",
       "8                    NaN  NaN   NaN   1.0\n",
       "9                    1.0  NaN   NaN   NaN\n",
       "10                   NaN  NaN   1.0   NaN\n",
       "11                   NaN  NaN   1.0   NaN\n",
       "12                   1.0  NaN   NaN   NaN\n",
       "13                   NaN  NaN   NaN   1.0\n",
       "14                   NaN  NaN   NaN   1.0\n",
       "15                   NaN  NaN   1.0   NaN"
      ]
     },
     "execution_count": 353,
     "metadata": {},
     "output_type": "execute_result"
    }
   ],
   "source": [
    "df3 = pd.DataFrame(np.array([students,clusters]).transpose())\n",
    "df3.columns = ['student','hierarchical label']\n",
    "df_category3 = df_scores.loc[:,['student','three groups']]\n",
    "df3 = df3.join(df_category3.set_index('student'), on='student')\n",
    "# df3[df3['three groups']=='LH']\n",
    "df3.groupby(['hierarchical label', 'three groups']).size().unstack()"
   ]
  }
 ],
 "metadata": {
  "kernelspec": {
   "display_name": "Python [conda env:anaconda]",
   "language": "python",
   "name": "conda-env-anaconda-py"
  },
  "language_info": {
   "codemirror_mode": {
    "name": "ipython",
    "version": 2
   },
   "file_extension": ".py",
   "mimetype": "text/x-python",
   "name": "python",
   "nbconvert_exporter": "python",
   "pygments_lexer": "ipython2",
   "version": "2.7.14"
  }
 },
 "nbformat": 4,
 "nbformat_minor": 2
}
