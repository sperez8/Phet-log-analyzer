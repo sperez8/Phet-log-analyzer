{
 "cells": [
  {
   "cell_type": "code",
   "execution_count": null,
   "metadata": {
    "collapsed": false
   },
   "outputs": [],
   "source": [
    "import networkx as nx\n",
    "import matplotlib\n",
    "import matplotlib.pyplot as plt\n",
    "import numpy as np\n",
    "import pandas as pd\n",
    "import sys\n",
    "import getpass\n",
    "from hmmlearn import hmm\n",
    "from functions import *\n",
    "from random import shuffle\n",
    "from random import seed\n",
    "from graphviz import Digraph\n",
    "np.set_printoptions(precision=2)\n",
    "pd.set_option('precision', 2)\n",
    "%matplotlib inline\n",
    "matplotlib.style.use('ggplot')"
   ]
  },
  {
   "cell_type": "markdown",
   "metadata": {},
   "source": [
    "### Loading the data"
   ]
  },
  {
   "cell_type": "code",
   "execution_count": null,
   "metadata": {
    "collapsed": false
   },
   "outputs": [],
   "source": [
    "df = pd.read_csv('C:\\Users\\\\'+getpass.getuser()+'\\\\Google Drive\\Sarah Ido folder\\data\\CCK\\MATCHING_phet_cck_user_actions+sophistication_WITHPAUSE_anonymized.txt')\n",
    "df_scores = pd.read_csv('C:\\Users\\\\'+getpass.getuser()+'\\\\Google Drive\\Sarah Ido folder\\data\\CCK\\MATCHING_phet_cck_user_data_anonymized.txt')\n",
    "df[\"student\"] = df[\"student\"].astype('category')\n",
    "df_scores[\"student\"] = df_scores[\"student\"].astype('category')\n",
    "df[\"Family\"]=df[\"Family\"].str.capitalize()\n",
    "\n",
    "def remodel_families(row):\n",
    "    if row[\"Family\"] == \"Build\" or row[\"Family\"] == \"Revise\":  # or row[\"Family\"] == \"Extra\":\n",
    "        if row[\"Outcome\"] != \"None\":\n",
    "            return \"ConstructWithFeedback\"\n",
    "        else:\n",
    "            return \"Construct\"\n",
    "    else:\n",
    "        return row[\"Family\"]\n",
    "    \n",
    "df['Family'] = df.apply (lambda row: remodel_families (row),axis=1)"
   ]
  },
  {
   "cell_type": "code",
   "execution_count": null,
   "metadata": {
    "collapsed": false
   },
   "outputs": [],
   "source": [
    "# from pivottablejs import pivot_ui\n",
    "# pivot_ui(df)"
   ]
  },
  {
   "cell_type": "markdown",
   "metadata": {},
   "source": [
    "### Some parameters"
   ]
  },
  {
   "cell_type": "code",
   "execution_count": null,
   "metadata": {
    "collapsed": false
   },
   "outputs": [],
   "source": [
    "ACTIONS_TO_REMOVE = ['I','O','S']\n",
    "ITERS = 300\n",
    "RAND_INT = 2\n",
    "seed(RAND_INT)\n",
    "CUTOFF = 0.01\n",
    "events = [e for e in [\"T\",\"S\",\"O\",\"F\",\"P\",\"I\",\"E\",\"X\",\"C\",] if e not in ACTIONS_TO_REMOVE]\n",
    "blues = [\"#c7e9b4\",\"#7fcdbb\",\"#41b6c4\",\"#2c7fb8\",\"#253494\"]\n",
    "greys = ['#d9d9d9','#bdbdbd','#969696','#737373','#525252']"
   ]
  },
  {
   "cell_type": "markdown",
   "metadata": {},
   "source": [
    "### Declaring a few functions"
   ]
  },
  {
   "cell_type": "code",
   "execution_count": null,
   "metadata": {
    "collapsed": false
   },
   "outputs": [],
   "source": [
    "translater = {e:events.index(e) for e in events}\n",
    "decoder = {events.index(e):e for e in events}\n",
    "decoder_plus = {\"T\":\"Test\",\"S\":\"Start\",\"O\":\"Organize\",\"F\":\"C.w.Feedback\",\"P\":\"Pause\",\"I\":\"Interface\",\"E\":\"Extra\",\"X\":\"Reset\",\"C\":\"Construct\"}\n",
    "\n",
    "def state_labeller(state,emission):\n",
    "    indices = list(np.where(emission[state]>0.2)[0])\n",
    "    label = \" +\\n\".join([decoder_plus[decoder[i]] + ' (' + str(int(emission[state,i]*100)) + '%)' for i in indices])\n",
    "    return label\n",
    "    \n",
    "def get_color(w,color_set):\n",
    "    def get_cmap(colors):\n",
    "        return [(float(i)/len(colors),c) for i,c in enumerate(colors)]\n",
    "    color = None\n",
    "    for p,c in get_cmap(color_set):\n",
    "        if w >= p:\n",
    "            color = c\n",
    "    return color\n",
    "\n",
    "def prepare_data(blocks):\n",
    "    shuffled_blocks = blocks.values()\n",
    "    shuffle(shuffled_blocks)\n",
    "    X = np.array( np.array([np.concatenate([  [int(translater[event]) for event in block.split(' ')] for block in shuffled_blocks])]).T )\n",
    "    lengths = [len(b.split(' ')) for b in blocks.values()]\n",
    "    return X, lengths\n",
    "\n",
    "def split_data(X, lengths, split):\n",
    "    n_train = int(len(lengths)*split)\n",
    "    n_test = len(lengths) - n_train\n",
    "    lengths_train, lengths_test = lengths[0:n_test], lengths[n_test:]\n",
    "    X_train, X_test = X[0:sum(lengths_train)], X[sum(lengths_train):]\n",
    "    return X_train, X_test, lengths_train, lengths_test\n",
    "\n",
    "def get_model(X,lengths,n_states, iters=ITERS, random_state=RAND_INT):\n",
    "    '''Note that all integers in the range of observations must be present in the data!!'''\n",
    "    converged = False\n",
    "    tries = 0\n",
    "    while converged == False:\n",
    "        model = hmm.MultinomialHMM(n_components=n_states,\n",
    "                            n_iter = iters,\n",
    "                            random_state = random_state).fit(X,lengths)\n",
    "        converged = model.monitor_.converged\n",
    "        tries += 1\n",
    "    print \"Model with {0} hidden states converged after {1} tries, with {2} iterations\".format(n_states, tries, model.monitor_.iter)\n",
    "    return model\n",
    "\n",
    "def draw_states_graph(model, cutoff = CUTOFF, label = True):\n",
    "    states = Digraph('states')\n",
    "    states.graph_attr.update(rankdir='LR')\n",
    "    states.node_attr.update(shape='circle')\n",
    "    for (i,j), p in np.ndenumerate(model.transmat_):\n",
    "        if p >= cutoff:\n",
    "            if label:\n",
    "                states.edge(str(state_labeller(i,model.emissionprob_)),\n",
    "                        str(state_labeller(j,model.emissionprob_)), \n",
    "                        color = get_color(p,blues), label = \"{:.02f}\".format(p), penwidth=str(5*p+2))\n",
    "            else:\n",
    "                states.edge(str(i), str(j), \n",
    "                    color = get_color(p,blues), label = \"{:.02f}\".format(p), penwidth=str(5*p+2))\n",
    "    return states\n",
    "\n",
    "def draw_hmm_graph(model, cutoff = CUTOFF, label = True, layout_circle=True):\n",
    "    g = Digraph('G')\n",
    "    if layout_circle:\n",
    "        g.graph_attr.update(layout='circo')\n",
    "    states = Digraph('states')\n",
    "    states.node_attr.update(shape='circle',rank=\"max\", fontsize='12')\n",
    "    #Adding edge between hidden states\n",
    "    for (i,j), p in np.ndenumerate(model.transmat_):\n",
    "        if p >= cutoff:\n",
    "            if label:\n",
    "                states.edge(str(state_labeller(i,model.emissionprob_)),\n",
    "                        str(state_labeller(j,model.emissionprob_)), \n",
    "                        color = get_color(p,blues), label = \"{:.02f}\".format(p), penwidth=str(5*p+2))\n",
    "            else:\n",
    "                states.edge(str(i), str(j), \n",
    "                        color = get_color(p,blues), label = \"{:.02f}\".format(p), penwidth=str(5*p+2))\n",
    "    states.body.append('label = \"states\"')\n",
    "\n",
    "    actions = Digraph('actions')\n",
    "    actions.node_attr.update(shape='square')\n",
    "    for (i,j), p in np.ndenumerate(model.emissionprob_):\n",
    "        if p >= CUTOFF:\n",
    "            if label:\n",
    "                actions.edge(str(state_labeller(i,model.emissionprob_)),\n",
    "                         str(decoder[j]), color = get_color(p,greys), \n",
    "                         label = \"{:.02f}\".format(p), penwidth=str(5*p+2))\n",
    "            else:\n",
    "                actions.edge(str(i), str(decoder[j]), color = get_color(p,greys), \n",
    "                         label = \"{:.02f}\".format(p), penwidth=str(5*p+2))\n",
    "    actions.body.append('label = \"actions\"')\n",
    "    actions.body.append('color=blue')\n",
    "\n",
    "    g.subgraph(states);g.subgraph(actions)\n",
    "    return g"
   ]
  },
  {
   "cell_type": "markdown",
   "metadata": {},
   "source": [
    "### Modelling\n",
    "#### Getting the data\n",
    " First, we get the student actions in blocks and keep only the actions we care about. We also build a translator and decoder to pass the actions as discreet integers instead of strings"
   ]
  },
  {
   "cell_type": "code",
   "execution_count": null,
   "metadata": {
    "collapsed": false
   },
   "outputs": [],
   "source": [
    "ACTIVITY = 'a1'\n",
    "blocks = get_blocks(df[df.Activity==ACTIVITY],get_students(),add_spaces=True, ignore = ACTIONS_TO_REMOVE, start = False)"
   ]
  },
  {
   "cell_type": "markdown",
   "metadata": {},
   "source": [
    "We concatenate the student actions into one array and computer their lengths. Since the student sequences might be stored in a specific order, we shuffle them first."
   ]
  },
  {
   "cell_type": "code",
   "execution_count": null,
   "metadata": {
    "collapsed": false
   },
   "outputs": [],
   "source": [
    "X, lengths = prepare_data(blocks)"
   ]
  },
  {
   "cell_type": "markdown",
   "metadata": {},
   "source": [
    "#### Formatting the data for cross validation\n",
    "We split the data into a training and test set using a 60/40 % split"
   ]
  },
  {
   "cell_type": "code",
   "execution_count": null,
   "metadata": {
    "collapsed": false
   },
   "outputs": [],
   "source": [
    "X_train, X_test, lengths_train, lengths_test = split_data(X, lengths, 0.6)"
   ]
  },
  {
   "cell_type": "markdown",
   "metadata": {},
   "source": [
    "We produce the model with the train set using different number of hidden states"
   ]
  },
  {
   "cell_type": "code",
   "execution_count": null,
   "metadata": {
    "collapsed": false
   },
   "outputs": [],
   "source": [
    "scores = []\n",
    "models = []\n",
    "n_states = range(1,len(events)+3)\n",
    "print \"Computing HMM model for 39 samples of observations\"\n",
    "for n in n_states:\n",
    "    %time model = get_model(X_train, lengths_train, n)\n",
    "    scores.append(model.score(X_test, lengths = lengths_test))\n",
    "    models.append(model)"
   ]
  },
  {
   "cell_type": "markdown",
   "metadata": {
    "collapsed": false
   },
   "source": [
    "#### Now we can plot the scores"
   ]
  },
  {
   "cell_type": "code",
   "execution_count": null,
   "metadata": {
    "collapsed": false
   },
   "outputs": [],
   "source": [
    "bics = [-2*L + k*np.log(len(X_train)) for L,k in zip(scores, n_states)]\n",
    "plt.plot(n_states, bics,'-o')\n",
    "plt.title(\"BIC of models vs. number of hidden states in model\")"
   ]
  },
  {
   "cell_type": "markdown",
   "metadata": {},
   "source": [
    "### Analysis of model\n",
    "Given that we want to trade off between the number of hidden states and the information gained, we pick the number of hidden states as 4 (which is where there is an elbow in the plot above). We store the transition and emition probabilities and visualize them. \n",
    "\n",
    "**Note**: We only draw edges with an emission or trasnition porbability greater than 0.5% "
   ]
  },
  {
   "cell_type": "code",
   "execution_count": null,
   "metadata": {
    "collapsed": false
   },
   "outputs": [],
   "source": [
    "N = 4\n",
    "draw_hmm_graph(models[N-1], label=False)"
   ]
  },
  {
   "cell_type": "markdown",
   "metadata": {},
   "source": [
    "Unfortunately, seems like having 4 hidden states creates a pretty boring HMM: each states produces one of the main actions with 0.9 prob or more. So let's go back to 3 states and see what that gives us."
   ]
  },
  {
   "cell_type": "code",
   "execution_count": null,
   "metadata": {
    "collapsed": false
   },
   "outputs": [],
   "source": [
    "N = 3\n",
    "draw_hmm_graph(models[N-1],label=False)"
   ]
  },
  {
   "cell_type": "markdown",
   "metadata": {},
   "source": [
    "### Analysis of student groups\n",
    "Now that we have it all figure it out, we can repeat the process with different groups of students and compare them!"
   ]
  },
  {
   "cell_type": "code",
   "execution_count": null,
   "metadata": {
    "collapsed": true
   },
   "outputs": [],
   "source": [
    "ACTIVITY = 'a1'\n",
    "\n",
    "blocks_scaff = get_blocks(df[df.Activity==ACTIVITY],get_students(\"scaffolding\",\"scaff\"),add_spaces=True, ignore = ACTIONS_TO_REMOVE, start = False)\n",
    "blocks_not = get_blocks(df[df.Activity==ACTIVITY],get_students(\"scaffolding\",\"not\"),add_spaces=True, ignore = ACTIONS_TO_REMOVE, start = False)\n",
    "X_scaff, lengths_scaff = prepare_data(blocks_scaff)\n",
    "X_not, lengths_not = prepare_data(blocks_not)"
   ]
  },
  {
   "cell_type": "code",
   "execution_count": null,
   "metadata": {
    "collapsed": false
   },
   "outputs": [],
   "source": [
    "N = 3\n",
    "model_scaff = get_model(X_scaff, lengths_scaff, N)\n",
    "model_not = get_model(X_not, lengths_not, N)"
   ]
  },
  {
   "cell_type": "code",
   "execution_count": null,
   "metadata": {
    "collapsed": false
   },
   "outputs": [],
   "source": [
    "print model_scaff.score(X_scaff,lengths_scaff), model_not.score(X_not,lengths_not)"
   ]
  },
  {
   "cell_type": "code",
   "execution_count": null,
   "metadata": {
    "collapsed": false
   },
   "outputs": [],
   "source": [
    "draw_states_graph(model_scaff)"
   ]
  },
  {
   "cell_type": "code",
   "execution_count": null,
   "metadata": {
    "collapsed": false
   },
   "outputs": [],
   "source": [
    "draw_states_graph(model_not)"
   ]
  },
  {
   "cell_type": "markdown",
   "metadata": {},
   "source": [
    "Clearly, scaffolded students do switch from a state of Test + Pause to Construct with Feedback and later Construct. Not scaffolded students go from a Pause and Construct with Feedback state to Constructing state and occasionaly enter a Testing state."
   ]
  },
  {
   "cell_type": "markdown",
   "metadata": {},
   "source": [
    "#### Now let's see if the treatment differences transfered to activity 2"
   ]
  },
  {
   "cell_type": "code",
   "execution_count": null,
   "metadata": {
    "collapsed": false
   },
   "outputs": [],
   "source": [
    "ACTIVITY = 'a2'\n",
    "\n",
    "blocks_scaff = get_blocks(df[df.Activity==ACTIVITY],get_students(\"scaffolding\",\"scaff\"),add_spaces=True, ignore = ACTIONS_TO_REMOVE, start = False)\n",
    "blocks_not = get_blocks(df[df.Activity==ACTIVITY],get_students(\"scaffolding\",\"not\"),add_spaces=True, ignore = ACTIONS_TO_REMOVE, start = False)\n",
    "X_scaff, lengths_scaff = prepare_data(blocks_scaff)\n",
    "X_not, lengths_not = prepare_data(blocks_not)\n",
    "\n",
    "N = 3\n",
    "model_scaff = get_model(X_scaff, lengths_scaff, N)\n",
    "model_not = get_model(X_not, lengths_not, N)\n",
    "\n",
    "print model_scaff.score(X_scaff,lengths_scaff), model_not.score(X_not,lengths_not)"
   ]
  },
  {
   "cell_type": "code",
   "execution_count": null,
   "metadata": {
    "collapsed": false
   },
   "outputs": [],
   "source": [
    "draw_states_graph(model_scaff)"
   ]
  },
  {
   "cell_type": "code",
   "execution_count": null,
   "metadata": {
    "collapsed": false
   },
   "outputs": [],
   "source": [
    "draw_states_graph(model_not)"
   ]
  },
  {
   "cell_type": "markdown",
   "metadata": {},
   "source": [
    "### Let's compare students by learning"
   ]
  },
  {
   "cell_type": "code",
   "execution_count": null,
   "metadata": {
    "collapsed": true
   },
   "outputs": [],
   "source": [
    "ACTIVITY = 'a2'\n",
    "\n",
    "blocks_high = get_blocks(df[df.Activity==ACTIVITY],get_students(\"learning2\",\"high\"),add_spaces=True, ignore = ACTIONS_TO_REMOVE, start = False)\n",
    "blocks_low = get_blocks(df[df.Activity==ACTIVITY],get_students(\"learning2\",\"low\"),add_spaces=True, ignore = ACTIONS_TO_REMOVE, start = False)\n",
    "X_high, lengths_high = prepare_data(blocks_high)\n",
    "X_low, lengths_low = prepare_data(blocks_low)"
   ]
  },
  {
   "cell_type": "code",
   "execution_count": null,
   "metadata": {
    "collapsed": false
   },
   "outputs": [],
   "source": [
    "N = 3\n",
    "model_high = get_model(X_high, lengths_high, N)\n",
    "model_low = get_model(X_low, lengths_low, N)\n",
    "print model_high.score(X_high,lengths_high), model_low.score(X_low,lengths_low)"
   ]
  },
  {
   "cell_type": "code",
   "execution_count": null,
   "metadata": {
    "collapsed": false
   },
   "outputs": [],
   "source": [
    "draw_states_graph(model_high)"
   ]
  },
  {
   "cell_type": "code",
   "execution_count": null,
   "metadata": {
    "collapsed": false
   },
   "outputs": [],
   "source": [
    "draw_states_graph(model_low)"
   ]
  },
  {
   "cell_type": "code",
   "execution_count": null,
   "metadata": {
    "collapsed": true
   },
   "outputs": [],
   "source": []
  },
  {
   "cell_type": "code",
   "execution_count": null,
   "metadata": {
    "collapsed": true
   },
   "outputs": [],
   "source": []
  }
 ],
 "metadata": {
  "anaconda-cloud": {},
  "kernelspec": {
   "display_name": "Python [Root]",
   "language": "python",
   "name": "Python [Root]"
  },
  "language_info": {
   "codemirror_mode": {
    "name": "ipython",
    "version": 2
   },
   "file_extension": ".py",
   "mimetype": "text/x-python",
   "name": "python",
   "nbconvert_exporter": "python",
   "pygments_lexer": "ipython2",
   "version": "2.7.12"
  }
 },
 "nbformat": 4,
 "nbformat_minor": 0
}
