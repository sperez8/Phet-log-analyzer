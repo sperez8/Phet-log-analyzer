{
 "cells": [
  {
   "cell_type": "code",
   "execution_count": 1,
   "metadata": {
    "collapsed": false
   },
   "outputs": [],
   "source": [
    "import networkx as nx\n",
    "import matplotlib\n",
    "import matplotlib.pyplot as plt\n",
    "import numpy as np\n",
    "import pandas as pd\n",
    "import sys\n",
    "import getpass\n",
    "from hmmlearn import hmm\n",
    "from functions import *\n",
    "from random import shuffle\n",
    "from random import seed\n",
    "from graphviz import Digraph\n",
    "np.set_printoptions(precision=2)\n",
    "pd.set_option('precision', 2)\n",
    "%matplotlib inline\n",
    "matplotlib.style.use('ggplot')"
   ]
  },
  {
   "cell_type": "markdown",
   "metadata": {},
   "source": [
    "### Loading the data"
   ]
  },
  {
   "cell_type": "code",
   "execution_count": 2,
   "metadata": {
    "collapsed": false
   },
   "outputs": [],
   "source": [
    "df = pd.read_csv('C:\\Users\\\\'+getpass.getuser()+'\\\\Google Drive\\Sarah Ido folder\\data\\CCK\\MATCHING_phet_cck_user_actions+sophistication_WITHPAUSE_anonymized.txt')\n",
    "df_scores = pd.read_csv('C:\\Users\\\\'+getpass.getuser()+'\\\\Google Drive\\Sarah Ido folder\\data\\CCK\\MATCHING_phet_cck_user_data_anonymized.txt')\n",
    "df[\"student\"] = df[\"student\"].astype('category')\n",
    "df_scores[\"student\"] = df_scores[\"student\"].astype('category')\n",
    "df[\"Family\"]=df[\"Family\"].str.capitalize()\n",
    "\n",
    "def remodel_families(row):\n",
    "    if row[\"Family\"] == \"Build\" or row[\"Family\"] == \"Revise\":  # or row[\"Family\"] == \"Extra\":\n",
    "        if row[\"Outcome\"] != \"None\":\n",
    "            return \"ConstructWithFeedback\"\n",
    "        else:\n",
    "            return \"Construct\"\n",
    "    else:\n",
    "        return row[\"Family\"]\n",
    "    \n",
    "df['Family'] = df.apply (lambda row: remodel_families (row),axis=1)"
   ]
  },
  {
   "cell_type": "code",
   "execution_count": 3,
   "metadata": {
    "collapsed": false
   },
   "outputs": [],
   "source": [
    "# from pivottablejs import pivot_ui\n",
    "# pivot_ui(df)"
   ]
  },
  {
   "cell_type": "markdown",
   "metadata": {},
   "source": [
    "### Some parameters"
   ]
  },
  {
   "cell_type": "code",
   "execution_count": 4,
   "metadata": {
    "collapsed": false
   },
   "outputs": [],
   "source": [
    "ACTIONS_TO_REMOVE = ['I','O','S']\n",
    "ITERS = 300\n",
    "RAND_INT = 2\n",
    "seed(RAND_INT)\n",
    "CUTOFF = 0.01\n",
    "events = [e for e in [\"T\",\"S\",\"O\",\"F\",\"P\",\"I\",\"E\",\"X\",\"C\",] if e not in ACTIONS_TO_REMOVE]\n",
    "blues = [\"#c7e9b4\",\"#7fcdbb\",\"#41b6c4\",\"#2c7fb8\",\"#253494\"]\n",
    "greys = ['#d9d9d9','#bdbdbd','#969696','#737373','#525252']"
   ]
  },
  {
   "cell_type": "markdown",
   "metadata": {},
   "source": [
    "### Declaring a few functions"
   ]
  },
  {
   "cell_type": "code",
   "execution_count": 5,
   "metadata": {
    "collapsed": false
   },
   "outputs": [],
   "source": [
    "translater = {e:events.index(e) for e in events}\n",
    "decoder = {events.index(e):e for e in events}\n",
    "decoder_plus = {\"T\":\"Test\",\"S\":\"Start\",\"O\":\"Organize\",\"F\":\"C.w.Feedback\",\"P\":\"Pause\",\"I\":\"Interface\",\"E\":\"Extra\",\"X\":\"Reset\",\"C\":\"Construct\"}\n",
    "\n",
    "def state_labeller(state,emission):\n",
    "    indices = list(np.where(emission[state]>0.2)[0])\n",
    "    label = \" +\\n\".join([decoder_plus[decoder[i]] + ' (' + str(int(emission[state,i]*100)) + '%)' for i in indices])\n",
    "    return label\n",
    "    \n",
    "def get_color(w,color_set):\n",
    "    def get_cmap(colors):\n",
    "        return [(float(i)/len(colors),c) for i,c in enumerate(colors)]\n",
    "    color = None\n",
    "    for p,c in get_cmap(color_set):\n",
    "        if w >= p:\n",
    "            color = c\n",
    "    return color\n",
    "\n",
    "def prepare_data(blocks):\n",
    "    shuffled_blocks = blocks.values()\n",
    "    shuffle(shuffled_blocks)\n",
    "    X = np.array( np.array([np.concatenate([  [int(translater[event]) for event in block.split(' ')] for block in shuffled_blocks])]).T )\n",
    "    lengths = [len(b.split(' ')) for b in blocks.values()]\n",
    "    return X, lengths\n",
    "\n",
    "def split_data(X, lengths, split):\n",
    "    n_train = int(len(lengths)*split)\n",
    "    n_test = len(lengths) - n_train\n",
    "    lengths_train, lengths_test = lengths[0:n_test], lengths[n_test:]\n",
    "    X_train, X_test = X[0:sum(lengths_train)], X[sum(lengths_train):]\n",
    "    return X_train, X_test, lengths_train, lengths_test\n",
    "\n",
    "def get_model(X,lengths,n_states, iters=ITERS, random_state=RAND_INT):\n",
    "    '''Note that all integers in the range of observations must be present in the data!!'''\n",
    "    converged = False\n",
    "    tries = 0\n",
    "    while converged == False:\n",
    "        model = hmm.MultinomialHMM(n_components=n_states,\n",
    "                            n_iter = iters,\n",
    "                            random_state = random_state).fit(X,lengths)\n",
    "        converged = model.monitor_.converged\n",
    "        tries += 1\n",
    "    print \"Model with {0} hidden states converged after {1} tries, with {2} iterations\".format(n_states, tries, model.monitor_.iter)\n",
    "    return model\n",
    "\n",
    "def draw_states_graph(model, cutoff = CUTOFF, label = True):\n",
    "    states = Digraph('states')\n",
    "    states.graph_attr.update(rankdir='LR')\n",
    "    states.node_attr.update(shape='circle')\n",
    "    for (i,j), p in np.ndenumerate(model.transmat_):\n",
    "        if p >= cutoff:\n",
    "            if label:\n",
    "                states.edge(str(state_labeller(i,model.emissionprob_)),\n",
    "                        str(state_labeller(j,model.emissionprob_)), \n",
    "                        color = get_color(p,blues), label = \"{:.02f}\".format(p), penwidth=str(5*p+2))\n",
    "            else:\n",
    "                states.edge(str(i), str(j), \n",
    "                    color = get_color(p,blues), label = \"{:.02f}\".format(p), penwidth=str(5*p+2))\n",
    "    return states\n",
    "\n",
    "def draw_hmm_graph(model, cutoff = CUTOFF, label = True, layout_circle=True):\n",
    "    g = Digraph('G')\n",
    "    if layout_circle:\n",
    "        g.graph_attr.update(layout='circo')\n",
    "    states = Digraph('states')\n",
    "    states.node_attr.update(shape='circle',rank=\"max\", fontsize='12')\n",
    "    #Adding edge between hidden states\n",
    "    for (i,j), p in np.ndenumerate(model.transmat_):\n",
    "        if p >= cutoff:\n",
    "            if label:\n",
    "                states.edge(str(state_labeller(i,model.emissionprob_)),\n",
    "                        str(state_labeller(j,model.emissionprob_)), \n",
    "                        color = get_color(p,blues), label = \"{:.02f}\".format(p), penwidth=str(5*p+2))\n",
    "            else:\n",
    "                states.edge(str(i), str(j), \n",
    "                        color = get_color(p,blues), label = \"{:.02f}\".format(p), penwidth=str(5*p+2))\n",
    "    states.body.append('label = \"states\"')\n",
    "\n",
    "    actions = Digraph('actions')\n",
    "    actions.node_attr.update(shape='square')\n",
    "    for (i,j), p in np.ndenumerate(model.emissionprob_):\n",
    "        if p >= CUTOFF:\n",
    "            if label:\n",
    "                actions.edge(str(state_labeller(i,model.emissionprob_)),\n",
    "                         str(decoder[j]), color = get_color(p,greys), \n",
    "                         label = \"{:.02f}\".format(p), penwidth=str(5*p+2))\n",
    "            else:\n",
    "                actions.edge(str(i), str(decoder[j]), color = get_color(p,greys), \n",
    "                         label = \"{:.02f}\".format(p), penwidth=str(5*p+2))\n",
    "    actions.body.append('label = \"actions\"')\n",
    "    actions.body.append('color=blue')\n",
    "\n",
    "    g.subgraph(states);g.subgraph(actions)\n",
    "    return g"
   ]
  },
  {
   "cell_type": "markdown",
   "metadata": {},
   "source": [
    "### Modelling\n",
    "#### Getting the data\n",
    " First, we get the student actions in blocks and keep only the actions we care about. We also build a translator and decoder to pass the actions as discreet integers instead of strings"
   ]
  },
  {
   "cell_type": "code",
   "execution_count": 6,
   "metadata": {
    "collapsed": false
   },
   "outputs": [],
   "source": [
    "ACTIVITY = 'a1'\n",
    "blocks = get_blocks(df[df.Activity==ACTIVITY],get_students(),add_spaces=True, ignore = ACTIONS_TO_REMOVE, start = False)"
   ]
  },
  {
   "cell_type": "markdown",
   "metadata": {},
   "source": [
    "We concatenate the student actions into one array and computer their lengths. Since the student sequences might be stored in a specific order, we shuffle them first."
   ]
  },
  {
   "cell_type": "code",
   "execution_count": 7,
   "metadata": {
    "collapsed": false
   },
   "outputs": [],
   "source": [
    "X, lengths = prepare_data(blocks)"
   ]
  },
  {
   "cell_type": "markdown",
   "metadata": {},
   "source": [
    "#### Formatting the data for cross validation\n",
    "We split the data into a training and test set using a 60/40 % split"
   ]
  },
  {
   "cell_type": "code",
   "execution_count": 8,
   "metadata": {
    "collapsed": false
   },
   "outputs": [],
   "source": [
    "X_train, X_test, lengths_train, lengths_test = split_data(X, lengths, 0.6)"
   ]
  },
  {
   "cell_type": "markdown",
   "metadata": {},
   "source": [
    "We produce the model with the train set using different number of hidden states"
   ]
  },
  {
   "cell_type": "code",
   "execution_count": 9,
   "metadata": {
    "collapsed": false
   },
   "outputs": [
    {
     "name": "stdout",
     "output_type": "stream",
     "text": [
      "Computing HMM model for 39 samples of observations\n",
      "Model with 1 hidden states converged after 1 tries, with 3 iterations\n",
      "Wall time: 79 ms\n",
      "Model with 2 hidden states converged after 1 tries, with 42 iterations\n",
      "Wall time: 871 ms\n",
      "Model with 3 hidden states converged after 1 tries, with 62 iterations\n",
      "Wall time: 1.41 s\n",
      "Model with 4 hidden states converged after 1 tries, with 73 iterations\n",
      "Wall time: 1.84 s\n",
      "Model with 5 hidden states converged after 1 tries, with 95 iterations\n",
      "Wall time: 2.49 s\n",
      "Model with 6 hidden states converged after 1 tries, with 98 iterations\n",
      "Wall time: 2.76 s\n",
      "Model with 7 hidden states converged after 1 tries, with 79 iterations\n",
      "Wall time: 2.42 s\n",
      "Model with 8 hidden states converged after 1 tries, with 170 iterations\n",
      "Wall time: 5.7 s\n"
     ]
    }
   ],
   "source": [
    "scores = []\n",
    "models = []\n",
    "n_states = range(1,len(events)+3)\n",
    "print \"Computing HMM model for 39 samples of observations\"\n",
    "for n in n_states:\n",
    "    %time model = get_model(X_train, lengths_train, n)\n",
    "    scores.append(model.score(X_test, lengths = lengths_test))\n",
    "    models.append(model)"
   ]
  },
  {
   "cell_type": "markdown",
   "metadata": {
    "collapsed": false
   },
   "source": [
    "#### Now we can plot the scores"
   ]
  },
  {
   "cell_type": "code",
   "execution_count": 10,
   "metadata": {
    "collapsed": false
   },
   "outputs": [
    {
     "data": {
      "text/plain": [
       "<matplotlib.text.Text at 0x1203eeb8>"
      ]
     },
     "execution_count": 10,
     "metadata": {},
     "output_type": "execute_result"
    },
    {
     "data": {
      "image/png": "[encoded data removed]",
      "text/plain": [
       "<matplotlib.figure.Figure at 0xc46dfd0>"
      ]
     },
     "metadata": {},
     "output_type": "display_data"
    }
   ],
   "source": [
    "bics = [-2*L + k*np.log(len(X_train)) for L,k in zip(scores, n_states)]\n",
    "plt.plot(n_states, bics,'-o')\n",
    "plt.title(\"BIC of models vs. number of hidden states in model\")"
   ]
  },
  {
   "cell_type": "markdown",
   "metadata": {},
   "source": [
    "### Analysis of model\n",
    "Given that we want to trade off between the number of hidden states and the information gained, we pick the number of hidden states as 4 (which is where there is an elbow in the plot above). We store the transition and emition probabilities and visualize them. \n",
    "\n",
    "**Note**: We only draw edges with an emission or trasnition porbability greater than 0.5% "
   ]
  },
  {
   "cell_type": "code",
   "execution_count": 11,
   "metadata": {
    "collapsed": false
   },
   "outputs": [
    {
     "data": {
      "image/svg+xml": [
       "<?xml version=\"1.0\" encoding=\"UTF-8\" standalone=\"no\"?>\r\n",
       "<!DOCTYPE svg PUBLIC \"-//W3C//DTD SVG 1.1//EN\"\r\n",
       " \"http://www.w3.org/Graphics/SVG/1.1/DTD/svg11.dtd\">\r\n",
       "<!-- Generated by graphviz version 2.38.0 (20140413.2041)\r\n",
       " -->\r\n",
       "<!-- Title: G Pages: 1 -->\r\n",
       "<svg width=\"441pt\" height=\"349pt\"\r\n",
       " viewBox=\"0.00 0.00 441.07 348.70\" xmlns=\"http://www.w3.org/2000/svg\" xmlns:xlink=\"http://www.w3.org/1999/xlink\">\r\n",
       "<g id=\"graph0\" class=\"graph\" transform=\"scale(1 1) rotate(0) translate(4 344.697)\">\r\n",
       "<title>G</title>\r\n",
       "<polygon fill=\"white\" stroke=\"none\" points=\"-4,4 -4,-344.697 437.068,-344.697 437.068,4 -4,4\"/>\r\n",
       "<!-- 0 -->\r\n",
       "<g id=\"node1\" class=\"node\"><title>0</title>\r\n",
       "<ellipse fill=\"none\" stroke=\"black\" cx=\"25\" cy=\"-223.258\" rx=\"18\" ry=\"18\"/>\r\n",
       "<text text-anchor=\"middle\" x=\"25\" y=\"-220.158\" font-family=\"Times New Roman,serif\" font-size=\"12.00\">0</text>\r\n",
       "</g>\r\n",
       "<!-- 1 -->\r\n",
       "<g id=\"node2\" class=\"node\"><title>1</title>\r\n",
       "<ellipse fill=\"none\" stroke=\"black\" cx=\"325.068\" cy=\"-170.348\" rx=\"18\" ry=\"18\"/>\r\n",
       "<text text-anchor=\"middle\" x=\"325.068\" y=\"-167.248\" font-family=\"Times New Roman,serif\" font-size=\"12.00\">1</text>\r\n",
       "</g>\r\n",
       "<!-- 0&#45;&gt;1 -->\r\n",
       "<g id=\"edge1\" class=\"edge\"><title>0&#45;&gt;1</title>\r\n",
       "<path fill=\"none\" stroke=\"#7fcdbb\" stroke-width=\"3.10465\" d=\"M43.0161,-223.509C93.7836,-218.866 238.181,-193.65 298.298,-179.232\"/>\r\n",
       "<polygon fill=\"#7fcdbb\" stroke=\"#7fcdbb\" stroke-width=\"3.10465\" points=\"299.326,-182.583 308.177,-176.759 297.626,-175.792 299.326,-182.583\"/>\r\n",
       "<text text-anchor=\"middle\" x=\"158.157\" y=\"-205.171\" font-family=\"Times New Roman,serif\" font-size=\"14.00\">0.22</text>\r\n",
       "</g>\r\n",
       "<!-- 2 -->\r\n",
       "<g id=\"node3\" class=\"node\"><title>2</title>\r\n",
       "<ellipse fill=\"none\" stroke=\"black\" cx=\"197.232\" cy=\"-322.697\" rx=\"18\" ry=\"18\"/>\r\n",
       "<text text-anchor=\"middle\" x=\"197.232\" y=\"-319.597\" font-family=\"Times New Roman,serif\" font-size=\"12.00\">2</text>\r\n",
       "</g>\r\n",
       "<!-- 0&#45;&gt;2 -->\r\n",
       "<g id=\"edge2\" class=\"edge\"><title>0&#45;&gt;2</title>\r\n",
       "<path fill=\"none\" stroke=\"#c7e9b4\" stroke-width=\"2.88241\" d=\"M38.261,-235.588C66.6091,-255.776 133.281,-294.581 170.683,-312.978\"/>\r\n",
       "<polygon fill=\"#c7e9b4\" stroke=\"#c7e9b4\" stroke-width=\"2.88241\" points=\"169.427,-316.257 179.96,-317.394 172.435,-309.936 169.427,-316.257\"/>\r\n",
       "<text text-anchor=\"middle\" x=\"91.972\" y=\"-263.083\" font-family=\"Times New Roman,serif\" font-size=\"14.00\">0.18</text>\r\n",
       "</g>\r\n",
       "<!-- 3 -->\r\n",
       "<g id=\"node4\" class=\"node\"><title>3</title>\r\n",
       "<ellipse fill=\"none\" stroke=\"black\" cx=\"197.232\" cy=\"-18\" rx=\"18\" ry=\"18\"/>\r\n",
       "<text text-anchor=\"middle\" x=\"197.232\" y=\"-14.9\" font-family=\"Times New Roman,serif\" font-size=\"12.00\">3</text>\r\n",
       "</g>\r\n",
       "<!-- 0&#45;&gt;3 -->\r\n",
       "<g id=\"edge3\" class=\"edge\"><title>0&#45;&gt;3</title>\r\n",
       "<path fill=\"none\" stroke=\"#2c7fb8\" stroke-width=\"5.01294\" d=\"M39.3226,-211.783C71.7596,-179.264 149.77,-86.6752 182.54,-42.2451\"/>\r\n",
       "<polygon fill=\"#2c7fb8\" stroke=\"#2c7fb8\" stroke-width=\"5.01294\" points=\"186.171,-44.7095 188.464,-34.0332 179.056,-39.5771 186.171,-44.7095\"/>\r\n",
       "<text text-anchor=\"middle\" x=\"98.4313\" y=\"-130.814\" font-family=\"Times New Roman,serif\" font-size=\"14.00\">0.60</text>\r\n",
       "</g>\r\n",
       "<!-- P -->\r\n",
       "<g id=\"node5\" class=\"node\"><title>P</title>\r\n",
       "<polygon fill=\"none\" stroke=\"black\" points=\"43,-135.438 7,-135.438 7,-99.4383 43,-99.4383 43,-135.438\"/>\r\n",
       "<text text-anchor=\"middle\" x=\"25\" y=\"-113.738\" font-family=\"Times New Roman,serif\" font-size=\"14.00\">P</text>\r\n",
       "</g>\r\n",
       "<!-- 0&#45;&gt;P -->\r\n",
       "<g id=\"edge13\" class=\"edge\"><title>0&#45;&gt;P</title>\r\n",
       "<path fill=\"none\" stroke=\"#525252\" stroke-width=\"6.18767\" d=\"M25,-204.826C25,-188.514 25,-164.458 25,-145.713\"/>\r\n",
       "<polygon fill=\"#525252\" stroke=\"#525252\" stroke-width=\"6.18767\" points=\"30.4143,-145.66 25,-135.66 19.5859,-145.66 30.4143,-145.66\"/>\r\n",
       "<text text-anchor=\"middle\" x=\"12.5\" y=\"-179.07\" font-family=\"Times New Roman,serif\" font-size=\"14.00\">0.84</text>\r\n",
       "</g>\r\n",
       "<!-- E -->\r\n",
       "<g id=\"node6\" class=\"node\"><title>E</title>\r\n",
       "<polygon fill=\"none\" stroke=\"black\" points=\"306.875,-287.787 270.875,-287.787 270.875,-251.787 306.875,-251.787 306.875,-287.787\"/>\r\n",
       "<text text-anchor=\"middle\" x=\"288.875\" y=\"-266.087\" font-family=\"Times New Roman,serif\" font-size=\"14.00\">E</text>\r\n",
       "</g>\r\n",
       "<!-- 0&#45;&gt;E -->\r\n",
       "<g id=\"edge14\" class=\"edge\"><title>0&#45;&gt;E</title>\r\n",
       "<path fill=\"none\" stroke=\"#d9d9d9\" stroke-width=\"2.18307\" d=\"M43.1372,-226.457C88.3302,-234.425 206.219,-255.212 260.618,-264.804\"/>\r\n",
       "<polygon fill=\"#d9d9d9\" stroke=\"#d9d9d9\" stroke-width=\"2.18307\" points=\"260.155,-268.277 270.611,-266.566 261.371,-261.383 260.155,-268.277\"/>\r\n",
       "<text text-anchor=\"middle\" x=\"139.378\" y=\"-249.43\" font-family=\"Times New Roman,serif\" font-size=\"14.00\">0.04</text>\r\n",
       "</g>\r\n",
       "<!-- C -->\r\n",
       "<g id=\"node7\" class=\"node\"><title>C</title>\r\n",
       "<polygon fill=\"none\" stroke=\"black\" points=\"111.02,-322.321 75.0198,-322.321 75.0198,-286.321 111.02,-286.321 111.02,-322.321\"/>\r\n",
       "<text text-anchor=\"middle\" x=\"93.0198\" y=\"-300.621\" font-family=\"Times New Roman,serif\" font-size=\"14.00\">C</text>\r\n",
       "</g>\r\n",
       "<!-- 0&#45;&gt;C -->\r\n",
       "<g id=\"edge15\" class=\"edge\"><title>0&#45;&gt;C</title>\r\n",
       "<path fill=\"none\" stroke=\"#d9d9d9\" stroke-width=\"2.59902\" d=\"M36.8482,-237.379C46.3299,-248.678 59.8823,-264.83 71.2996,-278.436\"/>\r\n",
       "<polygon fill=\"#d9d9d9\" stroke=\"#d9d9d9\" stroke-width=\"2.59902\" points=\"68.6193,-280.687 77.7284,-286.098 73.9816,-276.187 68.6193,-280.687\"/>\r\n",
       "<text text-anchor=\"middle\" x=\"41.5739\" y=\"-261.707\" font-family=\"Times New Roman,serif\" font-size=\"14.00\">0.12</text>\r\n",
       "</g>\r\n",
       "<!-- 1&#45;&gt;0 -->\r\n",
       "<g id=\"edge4\" class=\"edge\"><title>1&#45;&gt;0</title>\r\n",
       "<path fill=\"none\" stroke=\"#c7e9b4\" stroke-width=\"2.87686\" d=\"M307.052,-170.097C256.284,-174.741 111.886,-199.957 51.7696,-214.375\"/>\r\n",
       "<polygon fill=\"#c7e9b4\" stroke=\"#c7e9b4\" stroke-width=\"2.87686\" points=\"50.7415,-211.024 41.8911,-216.848 52.4418,-217.814 50.7415,-211.024\"/>\r\n",
       "<text text-anchor=\"middle\" x=\"166.911\" y=\"-181.036\" font-family=\"Times New Roman,serif\" font-size=\"14.00\">0.18</text>\r\n",
       "</g>\r\n",
       "<!-- 1&#45;&gt;2 -->\r\n",
       "<g id=\"edge5\" class=\"edge\"><title>1&#45;&gt;2</title>\r\n",
       "<path fill=\"none\" stroke=\"#41b6c4\" stroke-width=\"4.86157\" d=\"M310.623,-181.267C285.881,-205.617 236.276,-264.303 211.6,-297.984\"/>\r\n",
       "<polygon fill=\"#41b6c4\" stroke=\"#41b6c4\" stroke-width=\"4.86157\" points=\"207.961,-295.76 205.617,-306.372 214.887,-300.701 207.961,-295.76\"/>\r\n",
       "<text text-anchor=\"middle\" x=\"248.611\" y=\"-243.425\" font-family=\"Times New Roman,serif\" font-size=\"14.00\">0.57</text>\r\n",
       "</g>\r\n",
       "<!-- 1&#45;&gt;3 -->\r\n",
       "<g id=\"edge6\" class=\"edge\"><title>1&#45;&gt;3</title>\r\n",
       "<path fill=\"none\" stroke=\"#7fcdbb\" stroke-width=\"3.26157\" d=\"M316.823,-154.227C297.139,-125.633 247.959,-66.5907 219.075,-36.4405\"/>\r\n",
       "<polygon fill=\"#7fcdbb\" stroke=\"#7fcdbb\" stroke-width=\"3.26157\" points=\"221.359,-33.7712 211.853,-29.0922 216.366,-38.6778 221.359,-33.7712\"/>\r\n",
       "<text text-anchor=\"middle\" x=\"255.449\" y=\"-99.1338\" font-family=\"Times New Roman,serif\" font-size=\"14.00\">0.25</text>\r\n",
       "</g>\r\n",
       "<!-- 1&#45;&gt;P -->\r\n",
       "<g id=\"edge18\" class=\"edge\"><title>1&#45;&gt;P</title>\r\n",
       "<path fill=\"none\" stroke=\"#d9d9d9\" stroke-width=\"2.15616\" d=\"M307.196,-167.197C256.968,-158.341 114.244,-133.174 53.2269,-122.416\"/>\r\n",
       "<polygon fill=\"#d9d9d9\" stroke=\"#d9d9d9\" stroke-width=\"2.15616\" points=\"53.6136,-118.93 43.1577,-120.64 52.398,-125.823 53.6136,-118.93\"/>\r\n",
       "<text text-anchor=\"middle\" x=\"167.711\" y=\"-148.606\" font-family=\"Times New Roman,serif\" font-size=\"14.00\">0.03</text>\r\n",
       "</g>\r\n",
       "<!-- 1&#45;&gt;E -->\r\n",
       "<g id=\"edge19\" class=\"edge\"><title>1&#45;&gt;E</title>\r\n",
       "<path fill=\"none\" stroke=\"#d9d9d9\" stroke-width=\"2.06852\" d=\"M318.763,-187.669C313.312,-202.647 305.332,-224.573 298.988,-242.001\"/>\r\n",
       "<polygon fill=\"#d9d9d9\" stroke=\"#d9d9d9\" stroke-width=\"2.06852\" points=\"295.605,-241.063 295.474,-251.657 302.183,-243.457 295.605,-241.063\"/>\r\n",
       "<text text-anchor=\"middle\" x=\"296.376\" y=\"-218.635\" font-family=\"Times New Roman,serif\" font-size=\"14.00\">0.01</text>\r\n",
       "</g>\r\n",
       "<!-- T -->\r\n",
       "<g id=\"node8\" class=\"node\"><title>T</title>\r\n",
       "<polygon fill=\"none\" stroke=\"black\" points=\"306.875,-88.91 270.875,-88.91 270.875,-52.91 306.875,-52.91 306.875,-88.91\"/>\r\n",
       "<text text-anchor=\"middle\" x=\"288.875\" y=\"-67.21\" font-family=\"Times New Roman,serif\" font-size=\"14.00\">T</text>\r\n",
       "</g>\r\n",
       "<!-- 1&#45;&gt;T -->\r\n",
       "<g id=\"edge16\" class=\"edge\"><title>1&#45;&gt;T</title>\r\n",
       "<path fill=\"none\" stroke=\"#d9d9d9\" stroke-width=\"2.07767\" d=\"M318.763,-153.028C313.312,-138.05 305.332,-116.124 298.988,-98.6956\"/>\r\n",
       "<polygon fill=\"#d9d9d9\" stroke=\"#d9d9d9\" stroke-width=\"2.07767\" points=\"302.183,-97.24 295.474,-89.0402 295.605,-99.6342 302.183,-97.24\"/>\r\n",
       "<text text-anchor=\"middle\" x=\"296.376\" y=\"-129.662\" font-family=\"Times New Roman,serif\" font-size=\"14.00\">0.02</text>\r\n",
       "</g>\r\n",
       "<!-- F -->\r\n",
       "<g id=\"node9\" class=\"node\"><title>F</title>\r\n",
       "<polygon fill=\"none\" stroke=\"black\" points=\"433.068,-188.348 397.068,-188.348 397.068,-152.348 433.068,-152.348 433.068,-188.348\"/>\r\n",
       "<text text-anchor=\"middle\" x=\"415.068\" y=\"-166.648\" font-family=\"Times New Roman,serif\" font-size=\"14.00\">F</text>\r\n",
       "</g>\r\n",
       "<!-- 1&#45;&gt;F -->\r\n",
       "<g id=\"edge17\" class=\"edge\"><title>1&#45;&gt;F</title>\r\n",
       "<path fill=\"none\" stroke=\"#525252\" stroke-width=\"6.51877\" d=\"M343.281,-170.348C355.723,-170.348 372.462,-170.348 386.647,-170.348\"/>\r\n",
       "<polygon fill=\"#525252\" stroke=\"#525252\" stroke-width=\"6.51877\" points=\"386.882,-176.052 396.882,-170.348 386.882,-164.645 386.882,-176.052\"/>\r\n",
       "<text text-anchor=\"middle\" x=\"377.464\" y=\"-174.148\" font-family=\"Times New Roman,serif\" font-size=\"14.00\">0.90</text>\r\n",
       "</g>\r\n",
       "<!-- X -->\r\n",
       "<g id=\"node10\" class=\"node\"><title>X</title>\r\n",
       "<polygon fill=\"none\" stroke=\"black\" points=\"111.02,-54.3755 75.0198,-54.3755 75.0198,-18.3755 111.02,-18.3755 111.02,-54.3755\"/>\r\n",
       "<text text-anchor=\"middle\" x=\"93.0198\" y=\"-32.6755\" font-family=\"Times New Roman,serif\" font-size=\"14.00\">X</text>\r\n",
       "</g>\r\n",
       "<!-- 1&#45;&gt;X -->\r\n",
       "<g id=\"edge20\" class=\"edge\"><title>1&#45;&gt;X</title>\r\n",
       "<path fill=\"none\" stroke=\"#d9d9d9\" stroke-width=\"2.17888\" d=\"M309.118,-161.14C269.967,-138.536 168.774,-80.1119 120.038,-51.9744\"/>\r\n",
       "<polygon fill=\"#d9d9d9\" stroke=\"#d9d9d9\" stroke-width=\"2.17888\" points=\"121.71,-48.8981 111.299,-46.9292 118.21,-54.9603 121.71,-48.8981\"/>\r\n",
       "<text text-anchor=\"middle\" x=\"202.078\" y=\"-110.357\" font-family=\"Times New Roman,serif\" font-size=\"14.00\">0.04</text>\r\n",
       "</g>\r\n",
       "<!-- 2&#45;&gt;0 -->\r\n",
       "<g id=\"edge7\" class=\"edge\"><title>2&#45;&gt;0</title>\r\n",
       "<path fill=\"none\" stroke=\"#c7e9b4\" stroke-width=\"2.10883\" d=\"M183.971,-310.368C155.623,-290.179 88.9511,-251.374 51.5492,-232.977\"/>\r\n",
       "<polygon fill=\"#c7e9b4\" stroke=\"#c7e9b4\" stroke-width=\"2.10883\" points=\"52.8055,-229.699 42.2718,-228.562 49.7974,-236.019 52.8055,-229.699\"/>\r\n",
       "<text text-anchor=\"middle\" x=\"130.26\" y=\"-275.472\" font-family=\"Times New Roman,serif\" font-size=\"14.00\">0.02</text>\r\n",
       "</g>\r\n",
       "<!-- 2&#45;&gt;1 -->\r\n",
       "<g id=\"edge8\" class=\"edge\"><title>2&#45;&gt;1</title>\r\n",
       "<path fill=\"none\" stroke=\"#253494\" stroke-width=\"6.38858\" d=\"M211.677,-311.778C236.419,-287.428 286.024,-228.742 310.7,-195.061\"/>\r\n",
       "<polygon fill=\"#253494\" stroke=\"#253494\" stroke-width=\"6.38858\" points=\"315.427,-198.061 316.683,-186.673 306.325,-191.569 315.427,-198.061\"/>\r\n",
       "<text text-anchor=\"middle\" x=\"248.689\" y=\"-257.22\" font-family=\"Times New Roman,serif\" font-size=\"14.00\">0.88</text>\r\n",
       "</g>\r\n",
       "<!-- 2&#45;&gt;3 -->\r\n",
       "<g id=\"edge9\" class=\"edge\"><title>2&#45;&gt;3</title>\r\n",
       "<path fill=\"none\" stroke=\"#c7e9b4\" stroke-width=\"2.50259\" d=\"M200.608,-304.998C204.851,-254.195 205.092,-107.613 201.333,-45.9056\"/>\r\n",
       "<polygon fill=\"#c7e9b4\" stroke=\"#c7e9b4\" stroke-width=\"2.50259\" points=\"204.811,-45.4749 200.612,-35.7477 197.828,-45.9703 204.811,-45.4749\"/>\r\n",
       "<text text-anchor=\"middle\" x=\"213.47\" y=\"-179.252\" font-family=\"Times New Roman,serif\" font-size=\"14.00\">0.10</text>\r\n",
       "</g>\r\n",
       "<!-- 2&#45;&gt;E -->\r\n",
       "<g id=\"edge21\" class=\"edge\"><title>2&#45;&gt;E</title>\r\n",
       "<path fill=\"none\" stroke=\"#d9d9d9\" stroke-width=\"2.08341\" d=\"M213.195,-313.481C226.57,-305.759 245.957,-294.566 261.76,-285.442\"/>\r\n",
       "<polygon fill=\"#d9d9d9\" stroke=\"#d9d9d9\" stroke-width=\"2.08341\" points=\"263.667,-288.382 270.578,-280.351 260.167,-282.32 263.667,-288.382\"/>\r\n",
       "<text text-anchor=\"middle\" x=\"224.977\" y=\"-288.261\" font-family=\"Times New Roman,serif\" font-size=\"14.00\">0.02</text>\r\n",
       "</g>\r\n",
       "<!-- 2&#45;&gt;C -->\r\n",
       "<g id=\"edge22\" class=\"edge\"><title>2&#45;&gt;C</title>\r\n",
       "<path fill=\"none\" stroke=\"#525252\" stroke-width=\"6.91655\" d=\"M179.08,-319.496C163.114,-316.681 139.614,-312.537 121.204,-309.291\"/>\r\n",
       "<polygon fill=\"#525252\" stroke=\"#525252\" stroke-width=\"6.91655\" points=\"122.213,-303.324 111.314,-307.547 120.111,-315.244 122.213,-303.324\"/>\r\n",
       "<text text-anchor=\"middle\" x=\"137.642\" y=\"-318.193\" font-family=\"Times New Roman,serif\" font-size=\"14.00\">0.98</text>\r\n",
       "</g>\r\n",
       "<!-- 3&#45;&gt;0 -->\r\n",
       "<g id=\"edge10\" class=\"edge\"><title>3&#45;&gt;0</title>\r\n",
       "<path fill=\"none\" stroke=\"#41b6c4\" stroke-width=\"4.76975\" d=\"M182.91,-29.475C150.473,-61.9947 72.4624,-154.583 39.6923,-199.013\"/>\r\n",
       "<polygon fill=\"#41b6c4\" stroke=\"#41b6c4\" stroke-width=\"4.76975\" points=\"36.2342,-196.673 33.7684,-207.225 43.0037,-201.557 36.2342,-196.673\"/>\r\n",
       "<text text-anchor=\"middle\" x=\"98.801\" y=\"-103.044\" font-family=\"Times New Roman,serif\" font-size=\"14.00\">0.55</text>\r\n",
       "</g>\r\n",
       "<!-- 3&#45;&gt;1 -->\r\n",
       "<g id=\"edge11\" class=\"edge\"><title>3&#45;&gt;1</title>\r\n",
       "<path fill=\"none\" stroke=\"#7fcdbb\" stroke-width=\"3.1726\" d=\"M205.477,-34.1212C225.161,-62.7155 274.341,-121.758 303.225,-151.908\"/>\r\n",
       "<polygon fill=\"#7fcdbb\" stroke=\"#7fcdbb\" stroke-width=\"3.1726\" points=\"300.941,-154.577 310.447,-159.256 305.934,-149.671 300.941,-154.577\"/>\r\n",
       "<text text-anchor=\"middle\" x=\"241.851\" y=\"-81.8145\" font-family=\"Times New Roman,serif\" font-size=\"14.00\">0.23</text>\r\n",
       "</g>\r\n",
       "<!-- 3&#45;&gt;2 -->\r\n",
       "<g id=\"edge12\" class=\"edge\"><title>3&#45;&gt;2</title>\r\n",
       "<path fill=\"none\" stroke=\"#7fcdbb\" stroke-width=\"3.05765\" d=\"M193.857,-35.6988C189.614,-86.5013 189.372,-233.084 193.132,-294.791\"/>\r\n",
       "<polygon fill=\"#7fcdbb\" stroke=\"#7fcdbb\" stroke-width=\"3.05765\" points=\"189.654,-295.222 193.852,-304.949 196.636,-294.727 189.654,-295.222\"/>\r\n",
       "<text text-anchor=\"middle\" x=\"205.994\" y=\"-154.045\" font-family=\"Times New Roman,serif\" font-size=\"14.00\">0.21</text>\r\n",
       "</g>\r\n",
       "<!-- 3&#45;&gt;E -->\r\n",
       "<g id=\"edge24\" class=\"edge\"><title>3&#45;&gt;E</title>\r\n",
       "<path fill=\"none\" stroke=\"#d9d9d9\" stroke-width=\"2.13362\" d=\"M203.531,-35.3063C219.151,-78.2206 259.774,-189.832 278.786,-242.068\"/>\r\n",
       "<polygon fill=\"#d9d9d9\" stroke=\"#d9d9d9\" stroke-width=\"2.13362\" points=\"275.578,-243.485 282.287,-251.685 282.155,-241.091 275.578,-243.485\"/>\r\n",
       "<text text-anchor=\"middle\" x=\"228.659\" y=\"-127.487\" font-family=\"Times New Roman,serif\" font-size=\"14.00\">0.03</text>\r\n",
       "</g>\r\n",
       "<!-- 3&#45;&gt;T -->\r\n",
       "<g id=\"edge23\" class=\"edge\"><title>3&#45;&gt;T</title>\r\n",
       "<path fill=\"none\" stroke=\"#525252\" stroke-width=\"6.75254\" d=\"M213.195,-27.2162C226.57,-34.9383 245.957,-46.1311 261.76,-55.2549\"/>\r\n",
       "<polygon fill=\"#525252\" stroke=\"#525252\" stroke-width=\"6.75254\" points=\"258.963,-60.4628 270.578,-60.3459 264.872,-50.229 258.963,-60.4628\"/>\r\n",
       "<text text-anchor=\"middle\" x=\"224.977\" y=\"-45.0356\" font-family=\"Times New Roman,serif\" font-size=\"14.00\">0.95</text>\r\n",
       "</g>\r\n",
       "<!-- 3&#45;&gt;X -->\r\n",
       "<g id=\"edge25\" class=\"edge\"><title>3&#45;&gt;X</title>\r\n",
       "<path fill=\"none\" stroke=\"#d9d9d9\" stroke-width=\"2.06876\" d=\"M179.08,-21.2008C163.114,-24.016 139.614,-28.1596 121.204,-31.4059\"/>\r\n",
       "<polygon fill=\"#d9d9d9\" stroke=\"#d9d9d9\" stroke-width=\"2.06876\" points=\"120.554,-27.9663 111.314,-33.1497 121.77,-34.86 120.554,-27.9663\"/>\r\n",
       "<text text-anchor=\"middle\" x=\"137.642\" y=\"-30.1033\" font-family=\"Times New Roman,serif\" font-size=\"14.00\">0.01</text>\r\n",
       "</g>\r\n",
       "</g>\r\n",
       "</svg>\r\n"
      ],
      "text/plain": [
       "<graphviz.dot.Digraph at 0x3b8d7f0>"
      ]
     },
     "execution_count": 11,
     "metadata": {},
     "output_type": "execute_result"
    }
   ],
   "source": [
    "N = 4\n",
    "draw_hmm_graph(models[N-1], label=False)"
   ]
  },
  {
   "cell_type": "markdown",
   "metadata": {},
   "source": [
    "Unfortunately, seems like having 4 hidden states creates a pretty boring HMM: each states produces one of the main actions with 0.9 prob or more. So let's go back to 3 states and see what that gives us."
   ]
  },
  {
   "cell_type": "code",
   "execution_count": 12,
   "metadata": {
    "collapsed": false
   },
   "outputs": [
    {
     "data": {
      "image/svg+xml": [
       "<?xml version=\"1.0\" encoding=\"UTF-8\" standalone=\"no\"?>\r\n",
       "<!DOCTYPE svg PUBLIC \"-//W3C//DTD SVG 1.1//EN\"\r\n",
       " \"http://www.w3.org/Graphics/SVG/1.1/DTD/svg11.dtd\">\r\n",
       "<!-- Generated by graphviz version 2.38.0 (20140413.2041)\r\n",
       " -->\r\n",
       "<!-- Title: G Pages: 1 -->\r\n",
       "<svg width=\"444pt\" height=\"279pt\"\r\n",
       " viewBox=\"0.00 0.00 443.81 278.61\" xmlns=\"http://www.w3.org/2000/svg\" xmlns:xlink=\"http://www.w3.org/1999/xlink\">\r\n",
       "<g id=\"graph0\" class=\"graph\" transform=\"scale(1 1) rotate(0) translate(4 274.609)\">\r\n",
       "<title>G</title>\r\n",
       "<polygon fill=\"white\" stroke=\"none\" points=\"-4,4 -4,-274.609 439.814,-274.609 439.814,4 -4,4\"/>\r\n",
       "<!-- 0 -->\r\n",
       "<g id=\"node1\" class=\"node\"><title>0</title>\r\n",
       "<ellipse fill=\"none\" stroke=\"black\" cx=\"99.0872\" cy=\"-83.0991\" rx=\"18\" ry=\"18\"/>\r\n",
       "<text text-anchor=\"middle\" x=\"99.0872\" y=\"-79.9991\" font-family=\"Times New Roman,serif\" font-size=\"12.00\">0</text>\r\n",
       "</g>\r\n",
       "<!-- 0&#45;&gt;0 -->\r\n",
       "<g id=\"edge1\" class=\"edge\"><title>0&#45;&gt;0</title>\r\n",
       "<path fill=\"none\" stroke=\"#41b6c4\" stroke-width=\"4.86581\" d=\"M116.125,-89.4783C125.945,-90.7801 135.087,-88.6537 135.087,-83.0991 135.087,-79.6274 131.516,-77.4949 126.44,-76.7015\"/>\r\n",
       "<polygon fill=\"#41b6c4\" stroke=\"#41b6c4\" stroke-width=\"4.86581\" points=\"126.117,-72.4444 116.125,-76.7198 126.132,-80.9596 126.117,-72.4444\"/>\r\n",
       "<text text-anchor=\"middle\" x=\"147.587\" y=\"-79.3991\" font-family=\"Times New Roman,serif\" font-size=\"14.00\">0.57</text>\r\n",
       "</g>\r\n",
       "<!-- 1 -->\r\n",
       "<g id=\"node2\" class=\"node\"><title>1</title>\r\n",
       "<ellipse fill=\"none\" stroke=\"black\" cx=\"327.814\" cy=\"-135.304\" rx=\"18\" ry=\"18\"/>\r\n",
       "<text text-anchor=\"middle\" x=\"327.814\" y=\"-132.204\" font-family=\"Times New Roman,serif\" font-size=\"12.00\">1</text>\r\n",
       "</g>\r\n",
       "<!-- 0&#45;&gt;1 -->\r\n",
       "<g id=\"edge2\" class=\"edge\"><title>0&#45;&gt;1</title>\r\n",
       "<path fill=\"none\" stroke=\"#7fcdbb\" stroke-width=\"3.21878\" d=\"M115.439,-90.7017C154.027,-103.288 251.087,-125.712 299.48,-133.521\"/>\r\n",
       "<polygon fill=\"#7fcdbb\" stroke=\"#7fcdbb\" stroke-width=\"3.21878\" points=\"299.171,-137.014 309.579,-135.032 300.207,-130.091 299.171,-137.014\"/>\r\n",
       "<text text-anchor=\"middle\" x=\"194.96\" y=\"-115.912\" font-family=\"Times New Roman,serif\" font-size=\"14.00\">0.24</text>\r\n",
       "</g>\r\n",
       "<!-- 2 -->\r\n",
       "<g id=\"node3\" class=\"node\"><title>2</title>\r\n",
       "<ellipse fill=\"none\" stroke=\"black\" cx=\"282.512\" cy=\"-41.2336\" rx=\"18\" ry=\"18\"/>\r\n",
       "<text text-anchor=\"middle\" x=\"282.512\" y=\"-38.1336\" font-family=\"Times New Roman,serif\" font-size=\"12.00\">2</text>\r\n",
       "</g>\r\n",
       "<!-- 0&#45;&gt;2 -->\r\n",
       "<g id=\"edge3\" class=\"edge\"><title>0&#45;&gt;2</title>\r\n",
       "<path fill=\"none\" stroke=\"#c7e9b4\" stroke-width=\"2.91541\" d=\"M117.266,-83.2026C149.926,-79.0004 218.599,-63.6083 256.327,-52.3087\"/>\r\n",
       "<polygon fill=\"#c7e9b4\" stroke=\"#c7e9b4\" stroke-width=\"2.91541\" points=\"257.6,-55.5777 266.092,-49.2429 255.503,-48.8991 257.6,-55.5777\"/>\r\n",
       "<text text-anchor=\"middle\" x=\"174.297\" y=\"-71.5557\" font-family=\"Times New Roman,serif\" font-size=\"14.00\">0.18</text>\r\n",
       "</g>\r\n",
       "<!-- T -->\r\n",
       "<g id=\"node4\" class=\"node\"><title>T</title>\r\n",
       "<polygon fill=\"none\" stroke=\"black\" points=\"117.087,-205.51 81.0872,-205.51 81.0872,-169.51 117.087,-169.51 117.087,-205.51\"/>\r\n",
       "<text text-anchor=\"middle\" x=\"99.0872\" y=\"-183.81\" font-family=\"Times New Roman,serif\" font-size=\"14.00\">T</text>\r\n",
       "</g>\r\n",
       "<!-- 0&#45;&gt;T -->\r\n",
       "<g id=\"edge8\" class=\"edge\"><title>0&#45;&gt;T</title>\r\n",
       "<path fill=\"none\" stroke=\"#969696\" stroke-width=\"4.36441\" d=\"M99.0872,-101.286C99.0872,-117.208 99.0872,-140.608 99.0872,-159.015\"/>\r\n",
       "<polygon fill=\"#969696\" stroke=\"#969696\" stroke-width=\"4.36441\" points=\"95.2684,-159.181 99.0872,-169.181 102.906,-159.181 95.2684,-159.181\"/>\r\n",
       "<text text-anchor=\"middle\" x=\"86.5872\" y=\"-133.95\" font-family=\"Times New Roman,serif\" font-size=\"14.00\">0.47</text>\r\n",
       "</g>\r\n",
       "<!-- P -->\r\n",
       "<g id=\"node5\" class=\"node\"><title>P</title>\r\n",
       "<polygon fill=\"none\" stroke=\"black\" points=\"198.719,-270.609 162.719,-270.609 162.719,-234.609 198.719,-234.609 198.719,-270.609\"/>\r\n",
       "<text text-anchor=\"middle\" x=\"180.719\" y=\"-248.909\" font-family=\"Times New Roman,serif\" font-size=\"14.00\">P</text>\r\n",
       "</g>\r\n",
       "<!-- 0&#45;&gt;P -->\r\n",
       "<g id=\"edge9\" class=\"edge\"><title>0&#45;&gt;P</title>\r\n",
       "<path fill=\"none\" stroke=\"#969696\" stroke-width=\"4.09729\" d=\"M106.914,-99.3524C120.885,-128.362 150.256,-189.352 167.436,-225.026\"/>\r\n",
       "<polygon fill=\"#969696\" stroke=\"#969696\" stroke-width=\"4.09729\" points=\"164.366,-226.915 171.935,-234.369 170.826,-223.804 164.366,-226.915\"/>\r\n",
       "<text text-anchor=\"middle\" x=\"124.675\" y=\"-150.989\" font-family=\"Times New Roman,serif\" font-size=\"14.00\">0.42</text>\r\n",
       "</g>\r\n",
       "<!-- E -->\r\n",
       "<g id=\"node6\" class=\"node\"><title>E</title>\r\n",
       "<polygon fill=\"none\" stroke=\"black\" points=\"36,-62.0495 0,-62.0495 0,-26.0495 36,-26.0495 36,-62.0495\"/>\r\n",
       "<text text-anchor=\"middle\" x=\"18\" y=\"-40.3495\" font-family=\"Times New Roman,serif\" font-size=\"14.00\">E</text>\r\n",
       "</g>\r\n",
       "<!-- 0&#45;&gt;E -->\r\n",
       "<g id=\"edge10\" class=\"edge\"><title>0&#45;&gt;E</title>\r\n",
       "<path fill=\"none\" stroke=\"#d9d9d9\" stroke-width=\"2.21349\" d=\"M82.678,-75.1968C71.9099,-70.0111 57.5706,-63.1057 45.1302,-57.1147\"/>\r\n",
       "<polygon fill=\"#d9d9d9\" stroke=\"#d9d9d9\" stroke-width=\"2.21349\" points=\"46.606,-53.9408 36.0777,-52.7553 43.5688,-60.2476 46.606,-53.9408\"/>\r\n",
       "<text text-anchor=\"middle\" x=\"51.4041\" y=\"-69.9558\" font-family=\"Times New Roman,serif\" font-size=\"14.00\">0.04</text>\r\n",
       "</g>\r\n",
       "<!-- X -->\r\n",
       "<g id=\"node7\" class=\"node\"><title>X</title>\r\n",
       "<polygon fill=\"none\" stroke=\"black\" points=\"300.512,-247.375 264.512,-247.375 264.512,-211.375 300.512,-211.375 300.512,-247.375\"/>\r\n",
       "<text text-anchor=\"middle\" x=\"282.512\" y=\"-225.675\" font-family=\"Times New Roman,serif\" font-size=\"14.00\">X</text>\r\n",
       "</g>\r\n",
       "<!-- 0&#45;&gt;X -->\r\n",
       "<g id=\"edge11\" class=\"edge\"><title>0&#45;&gt;X</title>\r\n",
       "<path fill=\"none\" stroke=\"#d9d9d9\" stroke-width=\"2.12218\" d=\"M113.176,-94.3342C143.876,-118.817 217.205,-177.295 256.536,-208.66\"/>\r\n",
       "<polygon fill=\"#d9d9d9\" stroke=\"#d9d9d9\" stroke-width=\"2.12218\" points=\"254.385,-211.422 264.386,-214.92 258.749,-205.949 254.385,-211.422\"/>\r\n",
       "<text text-anchor=\"middle\" x=\"172.356\" y=\"-155.297\" font-family=\"Times New Roman,serif\" font-size=\"14.00\">0.02</text>\r\n",
       "</g>\r\n",
       "<!-- C -->\r\n",
       "<g id=\"node8\" class=\"node\"><title>C</title>\r\n",
       "<polygon fill=\"none\" stroke=\"black\" points=\"198.719,-36 162.719,-36 162.719,-0 198.719,-0 198.719,-36\"/>\r\n",
       "<text text-anchor=\"middle\" x=\"180.719\" y=\"-14.3\" font-family=\"Times New Roman,serif\" font-size=\"14.00\">C</text>\r\n",
       "</g>\r\n",
       "<!-- 0&#45;&gt;C -->\r\n",
       "<g id=\"edge12\" class=\"edge\"><title>0&#45;&gt;C</title>\r\n",
       "<path fill=\"none\" stroke=\"#d9d9d9\" stroke-width=\"2.20262\" d=\"M113.306,-71.7597C124.655,-62.7095 140.862,-49.7846 154.541,-38.876\"/>\r\n",
       "<polygon fill=\"#d9d9d9\" stroke=\"#d9d9d9\" stroke-width=\"2.20262\" points=\"157.029,-41.3685 162.665,-32.3971 152.665,-35.8956 157.029,-41.3685\"/>\r\n",
       "<text text-anchor=\"middle\" x=\"121.424\" y=\"-44.1178\" font-family=\"Times New Roman,serif\" font-size=\"14.00\">0.04</text>\r\n",
       "</g>\r\n",
       "<!-- 1&#45;&gt;0 -->\r\n",
       "<g id=\"edge4\" class=\"edge\"><title>1&#45;&gt;0</title>\r\n",
       "<path fill=\"none\" stroke=\"#41b6c4\" stroke-width=\"4.025\" d=\"M311.462,-127.702C272.874,-115.116 175.814,-92.6911 127.421,-84.882\"/>\r\n",
       "<polygon fill=\"#41b6c4\" stroke=\"#41b6c4\" stroke-width=\"4.025\" points=\"127.733,-81.3678 117.322,-83.3716 126.691,-88.334 127.733,-81.3678\"/>\r\n",
       "<text text-anchor=\"middle\" x=\"206.941\" y=\"-95.0919\" font-family=\"Times New Roman,serif\" font-size=\"14.00\">0.41</text>\r\n",
       "</g>\r\n",
       "<!-- 1&#45;&gt;2 -->\r\n",
       "<g id=\"edge5\" class=\"edge\"><title>1&#45;&gt;2</title>\r\n",
       "<path fill=\"none\" stroke=\"#41b6c4\" stroke-width=\"4.975\" d=\"M324.829,-117.083C319.37,-101.79 309.154,-79.9432 299.989,-63.5999\"/>\r\n",
       "<polygon fill=\"#41b6c4\" stroke=\"#41b6c4\" stroke-width=\"4.975\" points=\"303.58,-61.1179 294.758,-54.7043 296.075,-65.531 303.58,-61.1179\"/>\r\n",
       "<text text-anchor=\"middle\" x=\"299.909\" y=\"-94.1414\" font-family=\"Times New Roman,serif\" font-size=\"14.00\">0.59</text>\r\n",
       "</g>\r\n",
       "<!-- 1&#45;&gt;T -->\r\n",
       "<g id=\"edge13\" class=\"edge\"><title>1&#45;&gt;T</title>\r\n",
       "<path fill=\"none\" stroke=\"#d9d9d9\" stroke-width=\"2.52433\" d=\"M310.246,-139.314C270.859,-148.304 175.205,-170.136 127.343,-181.061\"/>\r\n",
       "<polygon fill=\"#d9d9d9\" stroke=\"#d9d9d9\" stroke-width=\"2.52433\" points=\"126.319,-177.704 117.348,-183.342 127.876,-184.529 126.319,-177.704\"/>\r\n",
       "<text text-anchor=\"middle\" x=\"206.294\" y=\"-163.987\" font-family=\"Times New Roman,serif\" font-size=\"14.00\">0.10</text>\r\n",
       "</g>\r\n",
       "<!-- 1&#45;&gt;P -->\r\n",
       "<g id=\"edge15\" class=\"edge\"><title>1&#45;&gt;P</title>\r\n",
       "<path fill=\"none\" stroke=\"#d9d9d9\" stroke-width=\"2.11341\" d=\"M313.71,-146.552C289.154,-166.134 238.195,-206.773 206.975,-231.67\"/>\r\n",
       "<polygon fill=\"#d9d9d9\" stroke=\"#d9d9d9\" stroke-width=\"2.11341\" points=\"204.747,-228.97 199.111,-237.941 209.112,-234.443 204.747,-228.97\"/>\r\n",
       "<text text-anchor=\"middle\" x=\"247.842\" y=\"-192.911\" font-family=\"Times New Roman,serif\" font-size=\"14.00\">0.02</text>\r\n",
       "</g>\r\n",
       "<!-- 1&#45;&gt;X -->\r\n",
       "<g id=\"edge16\" class=\"edge\"><title>1&#45;&gt;X</title>\r\n",
       "<path fill=\"none\" stroke=\"#d9d9d9\" stroke-width=\"2.09606\" d=\"M319.923,-151.69C313.226,-165.596 303.482,-185.831 295.616,-202.164\"/>\r\n",
       "<polygon fill=\"#d9d9d9\" stroke=\"#d9d9d9\" stroke-width=\"2.09606\" points=\"292.425,-200.723 291.24,-211.251 298.732,-203.76 292.425,-200.723\"/>\r\n",
       "<text text-anchor=\"middle\" x=\"295.27\" y=\"-180.727\" font-family=\"Times New Roman,serif\" font-size=\"14.00\">0.02</text>\r\n",
       "</g>\r\n",
       "<!-- F -->\r\n",
       "<g id=\"node9\" class=\"node\"><title>F</title>\r\n",
       "<polygon fill=\"none\" stroke=\"black\" points=\"435.814,-153.304 399.814,-153.304 399.814,-117.304 435.814,-117.304 435.814,-153.304\"/>\r\n",
       "<text text-anchor=\"middle\" x=\"417.814\" y=\"-131.604\" font-family=\"Times New Roman,serif\" font-size=\"14.00\">F</text>\r\n",
       "</g>\r\n",
       "<!-- 1&#45;&gt;F -->\r\n",
       "<g id=\"edge14\" class=\"edge\"><title>1&#45;&gt;F</title>\r\n",
       "<path fill=\"none\" stroke=\"#525252\" stroke-width=\"6.22106\" d=\"M346.027,-135.304C358.47,-135.304 375.209,-135.304 389.393,-135.304\"/>\r\n",
       "<polygon fill=\"#525252\" stroke=\"#525252\" stroke-width=\"6.22106\" points=\"389.628,-140.748 399.628,-135.304 389.628,-129.861 389.628,-140.748\"/>\r\n",
       "<text text-anchor=\"middle\" x=\"380.21\" y=\"-139.104\" font-family=\"Times New Roman,serif\" font-size=\"14.00\">0.84</text>\r\n",
       "</g>\r\n",
       "<!-- 2&#45;&gt;0 -->\r\n",
       "<g id=\"edge6\" class=\"edge\"><title>2&#45;&gt;0</title>\r\n",
       "<path fill=\"none\" stroke=\"#c7e9b4\" stroke-width=\"2.33101\" d=\"M264.333,-41.13C231.673,-45.3322 163,-60.7244 125.272,-72.0239\"/>\r\n",
       "<polygon fill=\"#c7e9b4\" stroke=\"#c7e9b4\" stroke-width=\"2.33101\" points=\"123.999,-68.755 115.507,-75.0898 126.096,-75.4335 123.999,-68.755\"/>\r\n",
       "<text text-anchor=\"middle\" x=\"182.302\" y=\"-45.377\" font-family=\"Times New Roman,serif\" font-size=\"14.00\">0.07</text>\r\n",
       "</g>\r\n",
       "<!-- 2&#45;&gt;1 -->\r\n",
       "<g id=\"edge7\" class=\"edge\"><title>2&#45;&gt;1</title>\r\n",
       "<path fill=\"none\" stroke=\"#253494\" stroke-width=\"6.66899\" d=\"M285.496,-59.455C290.956,-74.7478 301.172,-96.5949 310.337,-112.938\"/>\r\n",
       "<polygon fill=\"#253494\" stroke=\"#253494\" stroke-width=\"6.66899\" points=\"305.468,-116.172 315.567,-121.834 315.529,-110.256 305.468,-116.172\"/>\r\n",
       "<text text-anchor=\"middle\" x=\"285.416\" y=\"-74.9966\" font-family=\"Times New Roman,serif\" font-size=\"14.00\">0.93</text>\r\n",
       "</g>\r\n",
       "<!-- 2&#45;&gt;C -->\r\n",
       "<g id=\"edge17\" class=\"edge\"><title>2&#45;&gt;C</title>\r\n",
       "<path fill=\"none\" stroke=\"#525252\" stroke-width=\"6.90356\" d=\"M264.781,-37.1866C249.353,-33.6653 226.724,-28.5005 208.83,-24.4163\"/>\r\n",
       "<polygon fill=\"#525252\" stroke=\"#525252\" stroke-width=\"6.90356\" points=\"210.026,-18.4932 198.932,-22.157 207.337,-30.2715 210.026,-18.4932\"/>\r\n",
       "<text text-anchor=\"middle\" x=\"224.306\" y=\"-34.6014\" font-family=\"Times New Roman,serif\" font-size=\"14.00\">0.98</text>\r\n",
       "</g>\r\n",
       "</g>\r\n",
       "</svg>\r\n"
      ],
      "text/plain": [
       "<graphviz.dot.Digraph at 0xc46d2e8>"
      ]
     },
     "execution_count": 12,
     "metadata": {},
     "output_type": "execute_result"
    }
   ],
   "source": [
    "N = 3\n",
    "draw_hmm_graph(models[N-1],label=False)"
   ]
  },
  {
   "cell_type": "markdown",
   "metadata": {},
   "source": [
    "### Analysis of student groups\n",
    "Now that we have it all figure it out, we can repeat the process with different groups of students and compare them!"
   ]
  },
  {
   "cell_type": "code",
   "execution_count": 13,
   "metadata": {
    "collapsed": true
   },
   "outputs": [],
   "source": [
    "ACTIVITY = 'a1'\n",
    "\n",
    "blocks_scaff = get_blocks(df[df.Activity==ACTIVITY],get_students(\"scaffolding\",\"scaff\"),add_spaces=True, ignore = ACTIONS_TO_REMOVE, start = False)\n",
    "blocks_not = get_blocks(df[df.Activity==ACTIVITY],get_students(\"scaffolding\",\"not\"),add_spaces=True, ignore = ACTIONS_TO_REMOVE, start = False)\n",
    "X_scaff, lengths_scaff = prepare_data(blocks_scaff)\n",
    "X_not, lengths_not = prepare_data(blocks_not)"
   ]
  },
  {
   "cell_type": "code",
   "execution_count": 14,
   "metadata": {
    "collapsed": false
   },
   "outputs": [
    {
     "name": "stdout",
     "output_type": "stream",
     "text": [
      "Model with 3 hidden states converged after 1 tries, with 66 iterations\n",
      "Model with 3 hidden states converged after 1 tries, with 70 iterations\n"
     ]
    }
   ],
   "source": [
    "N = 3\n",
    "model_scaff = get_model(X_scaff, lengths_scaff, N)\n",
    "model_not = get_model(X_not, lengths_not, N)"
   ]
  },
  {
   "cell_type": "code",
   "execution_count": 15,
   "metadata": {
    "collapsed": false
   },
   "outputs": [
    {
     "name": "stdout",
     "output_type": "stream",
     "text": [
      "-4762.76744674 -5787.62651608\n"
     ]
    }
   ],
   "source": [
    "print model_scaff.score(X_scaff,lengths_scaff), model_not.score(X_not,lengths_not)"
   ]
  },
  {
   "cell_type": "code",
   "execution_count": 16,
   "metadata": {
    "collapsed": false
   },
   "outputs": [
    {
     "data": {
      "image/svg+xml": [
       "<?xml version=\"1.0\" encoding=\"UTF-8\" standalone=\"no\"?>\r\n",
       "<!DOCTYPE svg PUBLIC \"-//W3C//DTD SVG 1.1//EN\"\r\n",
       " \"http://www.w3.org/Graphics/SVG/1.1/DTD/svg11.dtd\">\r\n",
       "<!-- Generated by graphviz version 2.38.0 (20140413.2041)\r\n",
       " -->\r\n",
       "<!-- Title: states Pages: 1 -->\r\n",
       "<svg width=\"581pt\" height=\"262pt\"\r\n",
       " viewBox=\"0.00 0.00 581.18 261.54\" xmlns=\"http://www.w3.org/2000/svg\" xmlns:xlink=\"http://www.w3.org/1999/xlink\">\r\n",
       "<g id=\"graph0\" class=\"graph\" transform=\"scale(1 1) rotate(0) translate(4 257.536)\">\r\n",
       "<title>states</title>\r\n",
       "<polygon fill=\"white\" stroke=\"none\" points=\"-4,4 -4,-257.536 577.179,-257.536 577.179,4 -4,4\"/>\r\n",
       "<!-- Test (47%) +\r\n",
       "Pause (43%) -->\r\n",
       "<g id=\"node1\" class=\"node\"><title>Test (47%) +\r\n",
       "Pause (43%)</title>\r\n",
       "<ellipse fill=\"none\" stroke=\"black\" cx=\"65.0538\" cy=\"-65.4937\" rx=\"65.1077\" ry=\"65.1077\"/>\r\n",
       "<text text-anchor=\"middle\" x=\"65.0538\" y=\"-69.2937\" font-family=\"Times New Roman,serif\" font-size=\"14.00\">Test (47%) +</text>\r\n",
       "<text text-anchor=\"middle\" x=\"65.0538\" y=\"-54.2937\" font-family=\"Times New Roman,serif\" font-size=\"14.00\">Pause (43%)</text>\r\n",
       "</g>\r\n",
       "<!-- Test (47%) +\r\n",
       "Pause (43%)&#45;&gt;Test (47%) +\r\n",
       "Pause (43%) -->\r\n",
       "<g id=\"edge1\" class=\"edge\"><title>Test (47%) +\r\n",
       "Pause (43%)&#45;&gt;Test (47%) +\r\n",
       "Pause (43%)</title>\r\n",
       "<path fill=\"none\" stroke=\"#2c7fb8\" stroke-width=\"5.29998\" d=\"M48.3335,-128.509C50.3925,-140.267 55.9659,-148.547 65.0538,-148.547 71.3017,-148.547 75.8885,-144.634 78.8142,-138.367\"/>\r\n",
       "<polygon fill=\"#2c7fb8\" stroke=\"#2c7fb8\" stroke-width=\"5.29998\" points=\"83.3398,-139.42 81.7741,-128.509 74.4566,-136.753 83.3398,-139.42\"/>\r\n",
       "<text text-anchor=\"middle\" x=\"65.0538\" y=\"-152.347\" font-family=\"Times New Roman,serif\" font-size=\"14.00\">0.66</text>\r\n",
       "</g>\r\n",
       "<!-- C.w.Feedback (79%) -->\r\n",
       "<g id=\"node2\" class=\"node\"><title>C.w.Feedback (79%)</title>\r\n",
       "<ellipse fill=\"none\" stroke=\"black\" cx=\"280.15\" cy=\"-164.494\" rx=\"89.0842\" ry=\"89.0842\"/>\r\n",
       "<text text-anchor=\"middle\" x=\"280.15\" y=\"-160.794\" font-family=\"Times New Roman,serif\" font-size=\"14.00\">C.w.Feedback (79%)</text>\r\n",
       "</g>\r\n",
       "<!-- Test (47%) +\r\n",
       "Pause (43%)&#45;&gt;C.w.Feedback (79%) -->\r\n",
       "<g id=\"edge2\" class=\"edge\"><title>Test (47%) +\r\n",
       "Pause (43%)&#45;&gt;C.w.Feedback (79%)</title>\r\n",
       "<path fill=\"none\" stroke=\"#c7e9b4\" stroke-width=\"2.95781\" d=\"M123.212,-95.3291C131.522,-99.4982 140.006,-103.663 148.108,-107.494 161.046,-113.612 174.808,-119.867 188.364,-125.886\"/>\r\n",
       "<polygon fill=\"#c7e9b4\" stroke=\"#c7e9b4\" stroke-width=\"2.95781\" points=\"187.142,-129.173 197.704,-130.012 189.971,-122.77 187.142,-129.173\"/>\r\n",
       "<text text-anchor=\"middle\" x=\"160.608\" y=\"-122.294\" font-family=\"Times New Roman,serif\" font-size=\"14.00\">0.19</text>\r\n",
       "</g>\r\n",
       "<!-- Construct (99%) -->\r\n",
       "<g id=\"node3\" class=\"node\"><title>Construct (99%)</title>\r\n",
       "<ellipse fill=\"none\" stroke=\"black\" cx=\"501.686\" cy=\"-71.4937\" rx=\"71.4873\" ry=\"71.4873\"/>\r\n",
       "<text text-anchor=\"middle\" x=\"501.686\" y=\"-67.7937\" font-family=\"Times New Roman,serif\" font-size=\"14.00\">Construct (99%)</text>\r\n",
       "</g>\r\n",
       "<!-- Test (47%) +\r\n",
       "Pause (43%)&#45;&gt;Construct (99%) -->\r\n",
       "<g id=\"edge3\" class=\"edge\"><title>Test (47%) +\r\n",
       "Pause (43%)&#45;&gt;Construct (99%)</title>\r\n",
       "<path fill=\"none\" stroke=\"#c7e9b4\" stroke-width=\"2.74221\" d=\"M129.557,-56.9971C149.245,-54.7365 171.04,-52.6135 191.108,-51.4937 270.133,-47.0839 290.269,-45.5259 369.192,-51.4937 386.13,-52.7744 404.191,-54.9706 421.332,-57.4503\"/>\r\n",
       "<polygon fill=\"#c7e9b4\" stroke=\"#c7e9b4\" stroke-width=\"2.74221\" points=\"420.895,-60.9237 431.302,-58.9383 421.928,-54.0004 420.895,-60.9237\"/>\r\n",
       "<text text-anchor=\"middle\" x=\"280.15\" y=\"-55.2937\" font-family=\"Times New Roman,serif\" font-size=\"14.00\">0.15</text>\r\n",
       "</g>\r\n",
       "<!-- C.w.Feedback (79%)&#45;&gt;Test (47%) +\r\n",
       "Pause (43%) -->\r\n",
       "<g id=\"edge4\" class=\"edge\"><title>C.w.Feedback (79%)&#45;&gt;Test (47%) +\r\n",
       "Pause (43%)</title>\r\n",
       "<path fill=\"none\" stroke=\"#41b6c4\" stroke-width=\"4.18165\" d=\"M210.292,-109.117C198.376,-101.329 185.742,-94.0863 173.108,-88.4937 162.621,-83.8515 151.132,-80.12 139.695,-77.1278\"/>\r\n",
       "<polygon fill=\"#41b6c4\" stroke=\"#41b6c4\" stroke-width=\"4.18165\" points=\"140.266,-73.501 129.684,-74.6842 138.531,-80.6102 140.266,-73.501\"/>\r\n",
       "<text text-anchor=\"middle\" x=\"160.608\" y=\"-92.2937\" font-family=\"Times New Roman,serif\" font-size=\"14.00\">0.44</text>\r\n",
       "</g>\r\n",
       "<!-- C.w.Feedback (79%)&#45;&gt;Construct (99%) -->\r\n",
       "<g id=\"edge5\" class=\"edge\"><title>C.w.Feedback (79%)&#45;&gt;Construct (99%)</title>\r\n",
       "<path fill=\"none\" stroke=\"#41b6c4\" stroke-width=\"4.81835\" d=\"M365.485,-137.851C381.189,-132.239 397.326,-126.024 412.192,-119.494 417.968,-116.957 423.874,-114.181 429.759,-111.284\"/>\r\n",
       "<polygon fill=\"#41b6c4\" stroke=\"#41b6c4\" stroke-width=\"4.81835\" points=\"431.931,-114.911 438.968,-106.649 428.14,-107.379 431.931,-114.911\"/>\r\n",
       "<text text-anchor=\"middle\" x=\"399.692\" y=\"-133.294\" font-family=\"Times New Roman,serif\" font-size=\"14.00\">0.56</text>\r\n",
       "</g>\r\n",
       "<!-- Construct (99%)&#45;&gt;Test (47%) +\r\n",
       "Pause (43%) -->\r\n",
       "<g id=\"edge6\" class=\"edge\"><title>Construct (99%)&#45;&gt;Test (47%) +\r\n",
       "Pause (43%)</title>\r\n",
       "<path fill=\"none\" stroke=\"#c7e9b4\" stroke-width=\"2.2545\" d=\"M434.8,-45.4438C414.133,-38.5025 391.013,-31.971 369.192,-28.4937 291.03,-16.0382 269.439,-17.1487 191.108,-28.4937 173.052,-31.1087 153.974,-35.7432 136.305,-40.8668\"/>\r\n",
       "<polygon fill=\"#c7e9b4\" stroke=\"#c7e9b4\" stroke-width=\"2.2545\" points=\"135.227,-37.5358 126.649,-43.7539 137.233,-44.2424 135.227,-37.5358\"/>\r\n",
       "<text text-anchor=\"middle\" x=\"280.15\" y=\"-32.2937\" font-family=\"Times New Roman,serif\" font-size=\"14.00\">0.05</text>\r\n",
       "</g>\r\n",
       "<!-- Construct (99%)&#45;&gt;C.w.Feedback (79%) -->\r\n",
       "<g id=\"edge7\" class=\"edge\"><title>Construct (99%)&#45;&gt;C.w.Feedback (79%)</title>\r\n",
       "<path fill=\"none\" stroke=\"#253494\" stroke-width=\"6.7455\" d=\"M431.507,-85.7297C416.62,-89.7391 401.167,-94.6412 387.192,-100.494 379.494,-103.717 371.692,-107.435 363.996,-111.422\"/>\r\n",
       "<polygon fill=\"#253494\" stroke=\"#253494\" stroke-width=\"6.7455\" points=\"361.064,-106.297 355.022,-116.213 366.623,-116.71 361.064,-106.297\"/>\r\n",
       "<text text-anchor=\"middle\" x=\"399.692\" y=\"-104.294\" font-family=\"Times New Roman,serif\" font-size=\"14.00\">0.95</text>\r\n",
       "</g>\r\n",
       "</g>\r\n",
       "</svg>\r\n"
      ],
      "text/plain": [
       "<graphviz.dot.Digraph at 0x3b3bb38>"
      ]
     },
     "execution_count": 16,
     "metadata": {},
     "output_type": "execute_result"
    }
   ],
   "source": [
    "draw_states_graph(model_scaff)"
   ]
  },
  {
   "cell_type": "code",
   "execution_count": 17,
   "metadata": {
    "collapsed": false
   },
   "outputs": [
    {
     "data": {
      "image/svg+xml": [
       "<?xml version=\"1.0\" encoding=\"UTF-8\" standalone=\"no\"?>\r\n",
       "<!DOCTYPE svg PUBLIC \"-//W3C//DTD SVG 1.1//EN\"\r\n",
       " \"http://www.w3.org/Graphics/SVG/1.1/DTD/svg11.dtd\">\r\n",
       "<!-- Generated by graphviz version 2.38.0 (20140413.2041)\r\n",
       " -->\r\n",
       "<!-- Title: states Pages: 1 -->\r\n",
       "<svg width=\"555pt\" height=\"268pt\"\r\n",
       " viewBox=\"0.00 0.00 555.06 267.54\" xmlns=\"http://www.w3.org/2000/svg\" xmlns:xlink=\"http://www.w3.org/1999/xlink\">\r\n",
       "<g id=\"graph0\" class=\"graph\" transform=\"scale(1 1) rotate(0) translate(4 263.536)\">\r\n",
       "<title>states</title>\r\n",
       "<polygon fill=\"white\" stroke=\"none\" points=\"-4,4 -4,-263.536 551.062,-263.536 551.062,4 -4,4\"/>\r\n",
       "<!-- Construct (77%) -->\r\n",
       "<g id=\"node1\" class=\"node\"><title>Construct (77%)</title>\r\n",
       "<ellipse fill=\"none\" stroke=\"black\" cx=\"71.4937\" cy=\"-71.4937\" rx=\"71.4873\" ry=\"71.4873\"/>\r\n",
       "<text text-anchor=\"middle\" x=\"71.4937\" y=\"-67.7937\" font-family=\"Times New Roman,serif\" font-size=\"14.00\">Construct (77%)</text>\r\n",
       "</g>\r\n",
       "<!-- C.w.Feedback (83%) -->\r\n",
       "<g id=\"node2\" class=\"node\"><title>C.w.Feedback (83%)</title>\r\n",
       "<ellipse fill=\"none\" stroke=\"black\" cx=\"293.029\" cy=\"-170.494\" rx=\"89.0842\" ry=\"89.0842\"/>\r\n",
       "<text text-anchor=\"middle\" x=\"293.029\" y=\"-166.794\" font-family=\"Times New Roman,serif\" font-size=\"14.00\">C.w.Feedback (83%)</text>\r\n",
       "</g>\r\n",
       "<!-- Construct (77%)&#45;&gt;C.w.Feedback (83%) -->\r\n",
       "<g id=\"edge1\" class=\"edge\"><title>Construct (77%)&#45;&gt;C.w.Feedback (83%)</title>\r\n",
       "<path fill=\"none\" stroke=\"#2c7fb8\" stroke-width=\"5.46964\" d=\"M136.181,-102.027C144.506,-105.928 152.937,-109.834 160.987,-113.494 174.016,-119.417 187.827,-125.565 201.406,-131.536\"/>\r\n",
       "<polygon fill=\"#2c7fb8\" stroke=\"#2c7fb8\" stroke-width=\"5.46964\" points=\"199.677,-136.004 210.758,-135.637 203.521,-127.238 199.677,-136.004\"/>\r\n",
       "<text text-anchor=\"middle\" x=\"173.487\" y=\"-128.294\" font-family=\"Times New Roman,serif\" font-size=\"14.00\">0.69</text>\r\n",
       "</g>\r\n",
       "<!-- Test (86%) -->\r\n",
       "<g id=\"node3\" class=\"node\"><title>Test (86%)</title>\r\n",
       "<ellipse fill=\"none\" stroke=\"black\" cx=\"495.067\" cy=\"-77.4937\" rx=\"51.9908\" ry=\"51.9908\"/>\r\n",
       "<text text-anchor=\"middle\" x=\"495.067\" y=\"-73.7937\" font-family=\"Times New Roman,serif\" font-size=\"14.00\">Test (86%)</text>\r\n",
       "</g>\r\n",
       "<!-- Construct (77%)&#45;&gt;Test (86%) -->\r\n",
       "<g id=\"edge2\" class=\"edge\"><title>Construct (77%)&#45;&gt;Test (86%)</title>\r\n",
       "<path fill=\"none\" stroke=\"#7fcdbb\" stroke-width=\"3.50446\" d=\"M142.673,-62.6297C162.467,-60.5085 184.042,-58.5524 203.987,-57.4937 283.025,-53.298 303.232,-50.5093 382.072,-57.4937 399.016,-58.9947 417.235,-61.7495 433.954,-64.7444\"/>\r\n",
       "<polygon fill=\"#7fcdbb\" stroke=\"#7fcdbb\" stroke-width=\"3.50446\" points=\"433.674,-68.2521 444.144,-66.6312 434.949,-61.3691 433.674,-68.2521\"/>\r\n",
       "<text text-anchor=\"middle\" x=\"293.029\" y=\"-61.2937\" font-family=\"Times New Roman,serif\" font-size=\"14.00\">0.30</text>\r\n",
       "</g>\r\n",
       "<!-- C.w.Feedback (83%)&#45;&gt;Construct (77%) -->\r\n",
       "<g id=\"edge3\" class=\"edge\"><title>C.w.Feedback (83%)&#45;&gt;Construct (77%)</title>\r\n",
       "<path fill=\"none\" stroke=\"#2c7fb8\" stroke-width=\"5.43777\" d=\"M223.228,-114.989C211.305,-107.216 198.654,-100.012 185.987,-94.4937 175.51,-89.9286 164.089,-86.2569 152.661,-83.3068\"/>\r\n",
       "<polygon fill=\"#2c7fb8\" stroke=\"#2c7fb8\" stroke-width=\"5.43777\" points=\"153.475,-78.6089 142.639,-80.8957 151.249,-87.861 153.475,-78.6089\"/>\r\n",
       "<text text-anchor=\"middle\" x=\"173.487\" y=\"-98.2937\" font-family=\"Times New Roman,serif\" font-size=\"14.00\">0.69</text>\r\n",
       "</g>\r\n",
       "<!-- C.w.Feedback (83%)&#45;&gt;Test (86%) -->\r\n",
       "<g id=\"edge4\" class=\"edge\"><title>C.w.Feedback (83%)&#45;&gt;Test (86%)</title>\r\n",
       "<path fill=\"none\" stroke=\"#7fcdbb\" stroke-width=\"3.56223\" d=\"M378.643,-145.301C394.399,-139.534 410.483,-132.891 425.072,-125.494 431.603,-122.182 438.225,-118.323 444.652,-114.26\"/>\r\n",
       "<polygon fill=\"#7fcdbb\" stroke=\"#7fcdbb\" stroke-width=\"3.56223\" points=\"446.814,-117.028 453.267,-108.625 442.982,-111.17 446.814,-117.028\"/>\r\n",
       "<text text-anchor=\"middle\" x=\"412.572\" y=\"-140.294\" font-family=\"Times New Roman,serif\" font-size=\"14.00\">0.31</text>\r\n",
       "</g>\r\n",
       "<!-- Test (86%)&#45;&gt;Construct (77%) -->\r\n",
       "<g id=\"edge5\" class=\"edge\"><title>Test (86%)&#45;&gt;Construct (77%)</title>\r\n",
       "<path fill=\"none\" stroke=\"#2c7fb8\" stroke-width=\"5.19709\" d=\"M448.095,-54.9393C428.286,-46.4156 404.547,-37.7503 382.072,-33.4937 304.305,-18.7655 282.354,-22.3972 203.987,-33.4937 185.922,-36.0516 166.865,-40.4935 149.035,-45.4592\"/>\r\n",
       "<polygon fill=\"#2c7fb8\" stroke=\"#2c7fb8\" stroke-width=\"5.19709\" points=\"147.627,-41.1322 139.271,-48.2631 150.137,-49.8739 147.627,-41.1322\"/>\r\n",
       "<text text-anchor=\"middle\" x=\"293.029\" y=\"-37.2937\" font-family=\"Times New Roman,serif\" font-size=\"14.00\">0.64</text>\r\n",
       "</g>\r\n",
       "<!-- Test (86%)&#45;&gt;C.w.Feedback (83%) -->\r\n",
       "<g id=\"edge6\" class=\"edge\"><title>Test (86%)&#45;&gt;C.w.Feedback (83%)</title>\r\n",
       "<path fill=\"none\" stroke=\"#7fcdbb\" stroke-width=\"3.80291\" d=\"M444.449,-90.3353C429.88,-94.7609 414.098,-100.21 400.072,-106.494 392.525,-109.874 384.854,-113.683 377.264,-117.715\"/>\r\n",
       "<polygon fill=\"#7fcdbb\" stroke=\"#7fcdbb\" stroke-width=\"3.80291\" points=\"375.514,-114.683 368.405,-122.539 378.862,-120.83 375.514,-114.683\"/>\r\n",
       "<text text-anchor=\"middle\" x=\"412.572\" y=\"-110.294\" font-family=\"Times New Roman,serif\" font-size=\"14.00\">0.36</text>\r\n",
       "</g>\r\n",
       "</g>\r\n",
       "</svg>\r\n"
      ],
      "text/plain": [
       "<graphviz.dot.Digraph at 0x12958a58>"
      ]
     },
     "execution_count": 17,
     "metadata": {},
     "output_type": "execute_result"
    }
   ],
   "source": [
    "draw_states_graph(model_not)"
   ]
  },
  {
   "cell_type": "markdown",
   "metadata": {},
   "source": [
    "Clearly, scaffolded students do switch from a state of Test + Pause to Construct with Feedback and later Construct. Not scaffolded students go from a Pause and Construct with Feedback state to Constructing state and occasionaly enter a Testing state."
   ]
  },
  {
   "cell_type": "markdown",
   "metadata": {},
   "source": [
    "#### Now let's see if the treatment differences transfered to activity 2"
   ]
  },
  {
   "cell_type": "code",
   "execution_count": 18,
   "metadata": {
    "collapsed": false
   },
   "outputs": [
    {
     "name": "stdout",
     "output_type": "stream",
     "text": [
      "Model with 3 hidden states converged after 1 tries, with 113 iterations\n",
      "Model with 3 hidden states converged after 1 tries, with 96 iterations\n",
      "-4552.36044748 -4893.06505773\n"
     ]
    }
   ],
   "source": [
    "ACTIVITY = 'a2'\n",
    "\n",
    "blocks_scaff = get_blocks(df[df.Activity==ACTIVITY],get_students(\"scaffolding\",\"scaff\"),add_spaces=True, ignore = ACTIONS_TO_REMOVE, start = False)\n",
    "blocks_not = get_blocks(df[df.Activity==ACTIVITY],get_students(\"scaffolding\",\"not\"),add_spaces=True, ignore = ACTIONS_TO_REMOVE, start = False)\n",
    "X_scaff, lengths_scaff = prepare_data(blocks_scaff)\n",
    "X_not, lengths_not = prepare_data(blocks_not)\n",
    "\n",
    "N = 3\n",
    "model_scaff = get_model(X_scaff, lengths_scaff, N)\n",
    "model_not = get_model(X_not, lengths_not, N)\n",
    "\n",
    "print model_scaff.score(X_scaff,lengths_scaff), model_not.score(X_not,lengths_not)"
   ]
  },
  {
   "cell_type": "code",
   "execution_count": 19,
   "metadata": {
    "collapsed": false
   },
   "outputs": [
    {
     "data": {
      "image/svg+xml": [
       "<?xml version=\"1.0\" encoding=\"UTF-8\" standalone=\"no\"?>\r\n",
       "<!DOCTYPE svg PUBLIC \"-//W3C//DTD SVG 1.1//EN\"\r\n",
       " \"http://www.w3.org/Graphics/SVG/1.1/DTD/svg11.dtd\">\r\n",
       "<!-- Generated by graphviz version 2.38.0 (20140413.2041)\r\n",
       " -->\r\n",
       "<!-- Title: states Pages: 1 -->\r\n",
       "<svg width=\"619pt\" height=\"274pt\"\r\n",
       " viewBox=\"0.00 0.00 619.21 273.82\" xmlns=\"http://www.w3.org/2000/svg\" xmlns:xlink=\"http://www.w3.org/1999/xlink\">\r\n",
       "<g id=\"graph0\" class=\"graph\" transform=\"scale(1 1) rotate(0) translate(4 269.824)\">\r\n",
       "<title>states</title>\r\n",
       "<polygon fill=\"white\" stroke=\"none\" points=\"-4,4 -4,-269.824 615.211,-269.824 615.211,4 -4,4\"/>\r\n",
       "<!-- Test (57%) +\r\n",
       "Construct (40%) -->\r\n",
       "<g id=\"node1\" class=\"node\"><title>Test (57%) +\r\n",
       "Construct (40%)</title>\r\n",
       "<ellipse fill=\"none\" stroke=\"black\" cx=\"77.7817\" cy=\"-77.7817\" rx=\"77.5641\" ry=\"77.5641\"/>\r\n",
       "<text text-anchor=\"middle\" x=\"77.7817\" y=\"-81.5817\" font-family=\"Times New Roman,serif\" font-size=\"14.00\">Test (57%) +</text>\r\n",
       "<text text-anchor=\"middle\" x=\"77.7817\" y=\"-66.5817\" font-family=\"Times New Roman,serif\" font-size=\"14.00\">Construct (40%)</text>\r\n",
       "</g>\r\n",
       "<!-- Test (57%) +\r\n",
       "Construct (40%)&#45;&gt;Test (57%) +\r\n",
       "Construct (40%) -->\r\n",
       "<g id=\"edge1\" class=\"edge\"><title>Test (57%) +\r\n",
       "Construct (40%)&#45;&gt;Test (57%) +\r\n",
       "Construct (40%)</title>\r\n",
       "<path fill=\"none\" stroke=\"#c7e9b4\" stroke-width=\"2.19029\" d=\"M59.2238,-153.66C61.9981,-165.495 68.1841,-173.563 77.7817,-173.563 84.5301,-173.563 89.5918,-169.575 92.9668,-163.092\"/>\r\n",
       "<polygon fill=\"#c7e9b4\" stroke=\"#c7e9b4\" stroke-width=\"2.19029\" points=\"96.268,-164.255 96.3397,-153.66 89.6768,-161.898 96.268,-164.255\"/>\r\n",
       "<text text-anchor=\"middle\" x=\"77.7817\" y=\"-177.363\" font-family=\"Times New Roman,serif\" font-size=\"14.00\">0.04</text>\r\n",
       "</g>\r\n",
       "<!-- C.w.Feedback (93%) -->\r\n",
       "<g id=\"node2\" class=\"node\"><title>C.w.Feedback (93%)</title>\r\n",
       "<ellipse fill=\"none\" stroke=\"black\" cx=\"305.606\" cy=\"-176.782\" rx=\"89.0842\" ry=\"89.0842\"/>\r\n",
       "<text text-anchor=\"middle\" x=\"305.606\" y=\"-173.082\" font-family=\"Times New Roman,serif\" font-size=\"14.00\">C.w.Feedback (93%)</text>\r\n",
       "</g>\r\n",
       "<!-- Test (57%) +\r\n",
       "Construct (40%)&#45;&gt;C.w.Feedback (93%) -->\r\n",
       "<g id=\"edge2\" class=\"edge\"><title>Test (57%) +\r\n",
       "Construct (40%)&#45;&gt;C.w.Feedback (93%)</title>\r\n",
       "<path fill=\"none\" stroke=\"#41b6c4\" stroke-width=\"4.82876\" d=\"M149.15,-109.028C157.377,-112.662 165.653,-116.309 173.563,-119.782 186.668,-125.535 200.521,-131.59 214.119,-137.518\"/>\r\n",
       "<polygon fill=\"#41b6c4\" stroke=\"#41b6c4\" stroke-width=\"4.82876\" points=\"212.625,-141.476 223.48,-141.597 216,-133.729 212.625,-141.476\"/>\r\n",
       "<text text-anchor=\"middle\" x=\"186.063\" y=\"-133.582\" font-family=\"Times New Roman,serif\" font-size=\"14.00\">0.57</text>\r\n",
       "</g>\r\n",
       "<!-- Pause (66%) +\r\n",
       "Construct (31%) -->\r\n",
       "<g id=\"node3\" class=\"node\"><title>Pause (66%) +\r\n",
       "Construct (31%)</title>\r\n",
       "<ellipse fill=\"none\" stroke=\"black\" cx=\"533.429\" cy=\"-83.7817\" rx=\"77.5641\" ry=\"77.5641\"/>\r\n",
       "<text text-anchor=\"middle\" x=\"533.429\" y=\"-87.5817\" font-family=\"Times New Roman,serif\" font-size=\"14.00\">Pause (66%) +</text>\r\n",
       "<text text-anchor=\"middle\" x=\"533.429\" y=\"-72.5817\" font-family=\"Times New Roman,serif\" font-size=\"14.00\">Construct (31%)</text>\r\n",
       "</g>\r\n",
       "<!-- Test (57%) +\r\n",
       "Construct (40%)&#45;&gt;Pause (66%) +\r\n",
       "Construct (31%) -->\r\n",
       "<g id=\"edge3\" class=\"edge\"><title>Test (57%) +\r\n",
       "Construct (40%)&#45;&gt;Pause (66%) +\r\n",
       "Construct (31%)</title>\r\n",
       "<path fill=\"none\" stroke=\"#7fcdbb\" stroke-width=\"3.98095\" d=\"M155.199,-68.6261C175.143,-66.6184 196.633,-64.7917 216.563,-63.7817 295.611,-59.7761 315.705,-58.082 394.648,-63.7817 411.476,-64.9967 429.37,-67.036 446.498,-69.3598\"/>\r\n",
       "<polygon fill=\"#7fcdbb\" stroke=\"#7fcdbb\" stroke-width=\"3.98095\" points=\"446.092,-72.837 456.481,-70.7568 447.062,-65.9045 446.092,-72.837\"/>\r\n",
       "<text text-anchor=\"middle\" x=\"305.606\" y=\"-67.5817\" font-family=\"Times New Roman,serif\" font-size=\"14.00\">0.40</text>\r\n",
       "</g>\r\n",
       "<!-- C.w.Feedback (93%)&#45;&gt;Test (57%) +\r\n",
       "Construct (40%) -->\r\n",
       "<g id=\"edge4\" class=\"edge\"><title>C.w.Feedback (93%)&#45;&gt;Test (57%) +\r\n",
       "Construct (40%)</title>\r\n",
       "<path fill=\"none\" stroke=\"#2c7fb8\" stroke-width=\"5.8062\" d=\"M235.854,-121.164C223.924,-113.405 211.258,-106.236 198.563,-100.782 187.924,-96.2107 176.363,-92.5429 164.761,-89.6012\"/>\r\n",
       "<polygon fill=\"#2c7fb8\" stroke=\"#2c7fb8\" stroke-width=\"5.8062\" points=\"165.927,-84.6563 155.025,-87.2971 163.587,-94.544 165.927,-84.6563\"/>\r\n",
       "<text text-anchor=\"middle\" x=\"186.063\" y=\"-104.582\" font-family=\"Times New Roman,serif\" font-size=\"14.00\">0.76</text>\r\n",
       "</g>\r\n",
       "<!-- C.w.Feedback (93%)&#45;&gt;Pause (66%) +\r\n",
       "Construct (31%) -->\r\n",
       "<g id=\"edge5\" class=\"edge\"><title>C.w.Feedback (93%)&#45;&gt;Pause (66%) +\r\n",
       "Construct (31%)</title>\r\n",
       "<path fill=\"none\" stroke=\"#7fcdbb\" stroke-width=\"3.1938\" d=\"M390.794,-149.797C406.512,-144.217 422.691,-138.101 437.648,-131.782 443.39,-129.355 449.268,-126.733 455.146,-124.009\"/>\r\n",
       "<polygon fill=\"#7fcdbb\" stroke=\"#7fcdbb\" stroke-width=\"3.1938\" points=\"456.814,-127.092 464.363,-119.658 453.826,-120.762 456.814,-127.092\"/>\r\n",
       "<text text-anchor=\"middle\" x=\"425.148\" y=\"-144.582\" font-family=\"Times New Roman,serif\" font-size=\"14.00\">0.24</text>\r\n",
       "</g>\r\n",
       "<!-- Pause (66%) +\r\n",
       "Construct (31%)&#45;&gt;Test (57%) +\r\n",
       "Construct (40%) -->\r\n",
       "<g id=\"edge6\" class=\"edge\"><title>Pause (66%) +\r\n",
       "Construct (31%)&#45;&gt;Test (57%) +\r\n",
       "Construct (40%)</title>\r\n",
       "<path fill=\"none\" stroke=\"#2c7fb8\" stroke-width=\"5.03555\" d=\"M460.462,-56.8245C439.54,-50.2238 416.447,-44.1044 394.648,-40.7817 316.403,-28.8558 295.032,-30.4291 216.563,-40.7817 198.642,-43.1462 179.74,-47.1698 161.874,-51.7143\"/>\r\n",
       "<polygon fill=\"#2c7fb8\" stroke=\"#2c7fb8\" stroke-width=\"5.03555\" points=\"160.623,-47.4871 152.068,-54.2854 162.858,-56.0112 160.623,-47.4871\"/>\r\n",
       "<text text-anchor=\"middle\" x=\"305.606\" y=\"-44.5817\" font-family=\"Times New Roman,serif\" font-size=\"14.00\">0.61</text>\r\n",
       "</g>\r\n",
       "<!-- Pause (66%) +\r\n",
       "Construct (31%)&#45;&gt;C.w.Feedback (93%) -->\r\n",
       "<g id=\"edge7\" class=\"edge\"><title>Pause (66%) +\r\n",
       "Construct (31%)&#45;&gt;C.w.Feedback (93%)</title>\r\n",
       "<path fill=\"none\" stroke=\"#7fcdbb\" stroke-width=\"3.96445\" d=\"M456.871,-98.3555C441.949,-102.266 426.598,-107.043 412.648,-112.782 404.929,-115.957 397.114,-119.64 389.408,-123.605\"/>\r\n",
       "<polygon fill=\"#7fcdbb\" stroke=\"#7fcdbb\" stroke-width=\"3.96445\" points=\"387.616,-120.594 380.425,-128.375 390.899,-126.776 387.616,-120.594\"/>\r\n",
       "<text text-anchor=\"middle\" x=\"425.148\" y=\"-116.582\" font-family=\"Times New Roman,serif\" font-size=\"14.00\">0.39</text>\r\n",
       "</g>\r\n",
       "</g>\r\n",
       "</svg>\r\n"
      ],
      "text/plain": [
       "<graphviz.dot.Digraph at 0x3b8d748>"
      ]
     },
     "execution_count": 19,
     "metadata": {},
     "output_type": "execute_result"
    }
   ],
   "source": [
    "draw_states_graph(model_scaff)"
   ]
  },
  {
   "cell_type": "code",
   "execution_count": 20,
   "metadata": {
    "collapsed": false
   },
   "outputs": [
    {
     "data": {
      "image/svg+xml": [
       "<?xml version=\"1.0\" encoding=\"UTF-8\" standalone=\"no\"?>\r\n",
       "<!DOCTYPE svg PUBLIC \"-//W3C//DTD SVG 1.1//EN\"\r\n",
       " \"http://www.w3.org/Graphics/SVG/1.1/DTD/svg11.dtd\">\r\n",
       "<!-- Generated by graphviz version 2.38.0 (20140413.2041)\r\n",
       " -->\r\n",
       "<!-- Title: states Pages: 1 -->\r\n",
       "<svg width=\"581pt\" height=\"268pt\"\r\n",
       " viewBox=\"0.00 0.00 581.18 267.54\" xmlns=\"http://www.w3.org/2000/svg\" xmlns:xlink=\"http://www.w3.org/1999/xlink\">\r\n",
       "<g id=\"graph0\" class=\"graph\" transform=\"scale(1 1) rotate(0) translate(4 263.536)\">\r\n",
       "<title>states</title>\r\n",
       "<polygon fill=\"white\" stroke=\"none\" points=\"-4,4 -4,-263.536 577.179,-263.536 577.179,4 -4,4\"/>\r\n",
       "<!-- Construct (71%) -->\r\n",
       "<g id=\"node1\" class=\"node\"><title>Construct (71%)</title>\r\n",
       "<ellipse fill=\"none\" stroke=\"black\" cx=\"71.4937\" cy=\"-71.4937\" rx=\"71.4873\" ry=\"71.4873\"/>\r\n",
       "<text text-anchor=\"middle\" x=\"71.4937\" y=\"-67.7937\" font-family=\"Times New Roman,serif\" font-size=\"14.00\">Construct (71%)</text>\r\n",
       "</g>\r\n",
       "<!-- Construct (71%)&#45;&gt;Construct (71%) -->\r\n",
       "<g id=\"edge1\" class=\"edge\"><title>Construct (71%)&#45;&gt;Construct (71%)</title>\r\n",
       "<path fill=\"none\" stroke=\"#c7e9b4\" stroke-width=\"2.0531\" d=\"M53.9899,-140.912C56.3817,-152.771 62.2163,-160.987 71.4937,-160.987 77.8718,-160.987 82.6228,-157.104 85.7464,-150.823\"/>\r\n",
       "<polygon fill=\"#c7e9b4\" stroke=\"#c7e9b4\" stroke-width=\"2.0531\" points=\"89.2062,-151.505 88.9974,-140.912 82.5549,-149.323 89.2062,-151.505\"/>\r\n",
       "<text text-anchor=\"middle\" x=\"71.4937\" y=\"-164.787\" font-family=\"Times New Roman,serif\" font-size=\"14.00\">0.01</text>\r\n",
       "</g>\r\n",
       "<!-- C.w.Feedback (94%) -->\r\n",
       "<g id=\"node2\" class=\"node\"><title>C.w.Feedback (94%)</title>\r\n",
       "<ellipse fill=\"none\" stroke=\"black\" cx=\"293.029\" cy=\"-170.494\" rx=\"89.0842\" ry=\"89.0842\"/>\r\n",
       "<text text-anchor=\"middle\" x=\"293.029\" y=\"-166.794\" font-family=\"Times New Roman,serif\" font-size=\"14.00\">C.w.Feedback (94%)</text>\r\n",
       "</g>\r\n",
       "<!-- Construct (71%)&#45;&gt;C.w.Feedback (94%) -->\r\n",
       "<g id=\"edge2\" class=\"edge\"><title>Construct (71%)&#45;&gt;C.w.Feedback (94%)</title>\r\n",
       "<path fill=\"none\" stroke=\"#2c7fb8\" stroke-width=\"5.79632\" d=\"M136.181,-102.027C144.506,-105.928 152.937,-109.834 160.987,-113.494 174.016,-119.417 187.827,-125.565 201.406,-131.536\"/>\r\n",
       "<polygon fill=\"#2c7fb8\" stroke=\"#2c7fb8\" stroke-width=\"5.79632\" points=\"199.563,-136.266 210.758,-135.637 203.636,-126.976 199.563,-136.266\"/>\r\n",
       "<text text-anchor=\"middle\" x=\"173.487\" y=\"-128.294\" font-family=\"Times New Roman,serif\" font-size=\"14.00\">0.76</text>\r\n",
       "</g>\r\n",
       "<!-- Test (54%) +\r\n",
       "Pause (39%) -->\r\n",
       "<g id=\"node3\" class=\"node\"><title>Test (54%) +\r\n",
       "Pause (39%)</title>\r\n",
       "<ellipse fill=\"none\" stroke=\"black\" cx=\"508.125\" cy=\"-77.4937\" rx=\"65.1077\" ry=\"65.1077\"/>\r\n",
       "<text text-anchor=\"middle\" x=\"508.125\" y=\"-81.2937\" font-family=\"Times New Roman,serif\" font-size=\"14.00\">Test (54%) +</text>\r\n",
       "<text text-anchor=\"middle\" x=\"508.125\" y=\"-66.2937\" font-family=\"Times New Roman,serif\" font-size=\"14.00\">Pause (39%)</text>\r\n",
       "</g>\r\n",
       "<!-- Construct (71%)&#45;&gt;Test (54%) +\r\n",
       "Pause (39%) -->\r\n",
       "<g id=\"edge3\" class=\"edge\"><title>Construct (71%)&#45;&gt;Test (54%) +\r\n",
       "Pause (39%)</title>\r\n",
       "<path fill=\"none\" stroke=\"#7fcdbb\" stroke-width=\"3.15057\" d=\"M142.673,-62.6297C162.467,-60.5085 184.042,-58.5524 203.987,-57.4937 283.025,-53.298 303.172,-51.2242 382.072,-57.4937 399.019,-58.8403 417.138,-61.1981 434.174,-63.8334\"/>\r\n",
       "<polygon fill=\"#7fcdbb\" stroke=\"#7fcdbb\" stroke-width=\"3.15057\" points=\"433.636,-67.2917 444.062,-65.4115 434.739,-60.3792 433.636,-67.2917\"/>\r\n",
       "<text text-anchor=\"middle\" x=\"293.029\" y=\"-61.2937\" font-family=\"Times New Roman,serif\" font-size=\"14.00\">0.23</text>\r\n",
       "</g>\r\n",
       "<!-- C.w.Feedback (94%)&#45;&gt;Construct (71%) -->\r\n",
       "<g id=\"edge4\" class=\"edge\"><title>C.w.Feedback (94%)&#45;&gt;Construct (71%)</title>\r\n",
       "<path fill=\"none\" stroke=\"#2c7fb8\" stroke-width=\"5.39367\" d=\"M223.228,-114.989C211.305,-107.216 198.654,-100.012 185.987,-94.4937 175.51,-89.9286 164.089,-86.2569 152.661,-83.3068\"/>\r\n",
       "<polygon fill=\"#2c7fb8\" stroke=\"#2c7fb8\" stroke-width=\"5.39367\" points=\"153.466,-78.6464 142.639,-80.8957 151.258,-87.8235 153.466,-78.6464\"/>\r\n",
       "<text text-anchor=\"middle\" x=\"173.487\" y=\"-98.2937\" font-family=\"Times New Roman,serif\" font-size=\"14.00\">0.68</text>\r\n",
       "</g>\r\n",
       "<!-- C.w.Feedback (94%)&#45;&gt;Test (54%) +\r\n",
       "Pause (39%) -->\r\n",
       "<g id=\"edge5\" class=\"edge\"><title>C.w.Feedback (94%)&#45;&gt;Test (54%) +\r\n",
       "Pause (39%)</title>\r\n",
       "<path fill=\"none\" stroke=\"#7fcdbb\" stroke-width=\"3.60633\" d=\"M378.191,-144.365C393.989,-138.685 410.204,-132.313 425.072,-125.494 431.119,-122.72 437.296,-119.629 443.413,-116.391\"/>\r\n",
       "<polygon fill=\"#7fcdbb\" stroke=\"#7fcdbb\" stroke-width=\"3.60633\" points=\"445.192,-119.408 452.309,-111.56 441.851,-113.256 445.192,-119.408\"/>\r\n",
       "<text text-anchor=\"middle\" x=\"412.572\" y=\"-139.294\" font-family=\"Times New Roman,serif\" font-size=\"14.00\">0.32</text>\r\n",
       "</g>\r\n",
       "<!-- Test (54%) +\r\n",
       "Pause (39%)&#45;&gt;Construct (71%) -->\r\n",
       "<g id=\"edge6\" class=\"edge\"><title>Test (54%) +\r\n",
       "Pause (39%)&#45;&gt;Construct (71%)</title>\r\n",
       "<path fill=\"none\" stroke=\"#41b6c4\" stroke-width=\"4.22287\" d=\"M447.747,-52.584C427.31,-45.2271 404.036,-38.1645 382.072,-34.4937 304.006,-21.447 282.393,-23.6728 203.987,-34.4937 186.049,-36.9694 167.112,-41.2601 149.369,-46.0628\"/>\r\n",
       "<polygon fill=\"#41b6c4\" stroke=\"#41b6c4\" stroke-width=\"4.22287\" points=\"148.288,-42.5284 139.649,-48.7754 150.274,-49.6465 148.288,-42.5284\"/>\r\n",
       "<text text-anchor=\"middle\" x=\"293.029\" y=\"-38.2937\" font-family=\"Times New Roman,serif\" font-size=\"14.00\">0.44</text>\r\n",
       "</g>\r\n",
       "<!-- Test (54%) +\r\n",
       "Pause (39%)&#45;&gt;C.w.Feedback (94%) -->\r\n",
       "<g id=\"edge7\" class=\"edge\"><title>Test (54%) +\r\n",
       "Pause (39%)&#45;&gt;C.w.Feedback (94%)</title>\r\n",
       "<path fill=\"none\" stroke=\"#7fcdbb\" stroke-width=\"3.27719\" d=\"M444.425,-91.3418C429.61,-95.4673 414.06,-100.517 400.072,-106.494 392.397,-109.773 384.612,-113.529 376.926,-117.541\"/>\r\n",
       "<polygon fill=\"#7fcdbb\" stroke=\"#7fcdbb\" stroke-width=\"3.27719\" points=\"375.115,-114.541 367.962,-122.357 378.428,-120.708 375.115,-114.541\"/>\r\n",
       "<text text-anchor=\"middle\" x=\"412.572\" y=\"-110.294\" font-family=\"Times New Roman,serif\" font-size=\"14.00\">0.26</text>\r\n",
       "</g>\r\n",
       "<!-- Test (54%) +\r\n",
       "Pause (39%)&#45;&gt;Test (54%) +\r\n",
       "Pause (39%) -->\r\n",
       "<g id=\"edge8\" class=\"edge\"><title>Test (54%) +\r\n",
       "Pause (39%)&#45;&gt;Test (54%) +\r\n",
       "Pause (39%)</title>\r\n",
       "<path fill=\"none\" stroke=\"#7fcdbb\" stroke-width=\"3.49993\" d=\"M491.405,-140.509C493.464,-152.267 499.037,-160.547 508.125,-160.547 514.373,-160.547 518.96,-156.634 521.886,-150.367\"/>\r\n",
       "<polygon fill=\"#7fcdbb\" stroke=\"#7fcdbb\" stroke-width=\"3.49993\" points=\"525.322,-151.093 524.846,-140.509 518.618,-149.08 525.322,-151.093\"/>\r\n",
       "<text text-anchor=\"middle\" x=\"508.125\" y=\"-164.347\" font-family=\"Times New Roman,serif\" font-size=\"14.00\">0.30</text>\r\n",
       "</g>\r\n",
       "</g>\r\n",
       "</svg>\r\n"
      ],
      "text/plain": [
       "<graphviz.dot.Digraph at 0x3b8d438>"
      ]
     },
     "execution_count": 20,
     "metadata": {},
     "output_type": "execute_result"
    }
   ],
   "source": [
    "draw_states_graph(model_not)"
   ]
  },
  {
   "cell_type": "markdown",
   "metadata": {},
   "source": [
    "### Let's compare students by learning"
   ]
  },
  {
   "cell_type": "code",
   "execution_count": 21,
   "metadata": {
    "collapsed": true
   },
   "outputs": [],
   "source": [
    "ACTIVITY = 'a2'\n",
    "\n",
    "blocks_high = get_blocks(df[df.Activity==ACTIVITY],get_students(\"learning2\",\"high\"),add_spaces=True, ignore = ACTIONS_TO_REMOVE, start = False)\n",
    "blocks_low = get_blocks(df[df.Activity==ACTIVITY],get_students(\"learning2\",\"low\"),add_spaces=True, ignore = ACTIONS_TO_REMOVE, start = False)\n",
    "X_high, lengths_high = prepare_data(blocks_high)\n",
    "X_low, lengths_low = prepare_data(blocks_low)"
   ]
  },
  {
   "cell_type": "code",
   "execution_count": 22,
   "metadata": {
    "collapsed": false
   },
   "outputs": [
    {
     "name": "stdout",
     "output_type": "stream",
     "text": [
      "Model with 3 hidden states converged after 1 tries, with 81 iterations\n",
      "Model with 3 hidden states converged after 1 tries, with 154 iterations\n",
      "-4439.32220934 -4962.07046555\n"
     ]
    }
   ],
   "source": [
    "N = 3\n",
    "model_high = get_model(X_high, lengths_high, N)\n",
    "model_low = get_model(X_low, lengths_low, N)\n",
    "print model_high.score(X_high,lengths_high), model_low.score(X_low,lengths_low)"
   ]
  },
  {
   "cell_type": "code",
   "execution_count": 23,
   "metadata": {
    "collapsed": false
   },
   "outputs": [
    {
     "data": {
      "image/svg+xml": [
       "<?xml version=\"1.0\" encoding=\"UTF-8\" standalone=\"no\"?>\r\n",
       "<!DOCTYPE svg PUBLIC \"-//W3C//DTD SVG 1.1//EN\"\r\n",
       " \"http://www.w3.org/Graphics/SVG/1.1/DTD/svg11.dtd\">\r\n",
       "<!-- Generated by graphviz version 2.38.0 (20140413.2041)\r\n",
       " -->\r\n",
       "<!-- Title: states Pages: 1 -->\r\n",
       "<svg width=\"619pt\" height=\"274pt\"\r\n",
       " viewBox=\"0.00 0.00 619.21 273.82\" xmlns=\"http://www.w3.org/2000/svg\" xmlns:xlink=\"http://www.w3.org/1999/xlink\">\r\n",
       "<g id=\"graph0\" class=\"graph\" transform=\"scale(1 1) rotate(0) translate(4 269.824)\">\r\n",
       "<title>states</title>\r\n",
       "<polygon fill=\"white\" stroke=\"none\" points=\"-4,4 -4,-269.824 615.211,-269.824 615.211,4 -4,4\"/>\r\n",
       "<!-- Test (58%) +\r\n",
       "Construct (40%) -->\r\n",
       "<g id=\"node1\" class=\"node\"><title>Test (58%) +\r\n",
       "Construct (40%)</title>\r\n",
       "<ellipse fill=\"none\" stroke=\"black\" cx=\"77.7817\" cy=\"-77.7817\" rx=\"77.5641\" ry=\"77.5641\"/>\r\n",
       "<text text-anchor=\"middle\" x=\"77.7817\" y=\"-81.5817\" font-family=\"Times New Roman,serif\" font-size=\"14.00\">Test (58%) +</text>\r\n",
       "<text text-anchor=\"middle\" x=\"77.7817\" y=\"-66.5817\" font-family=\"Times New Roman,serif\" font-size=\"14.00\">Construct (40%)</text>\r\n",
       "</g>\r\n",
       "<!-- Test (58%) +\r\n",
       "Construct (40%)&#45;&gt;Test (58%) +\r\n",
       "Construct (40%) -->\r\n",
       "<g id=\"edge1\" class=\"edge\"><title>Test (58%) +\r\n",
       "Construct (40%)&#45;&gt;Test (58%) +\r\n",
       "Construct (40%)</title>\r\n",
       "<path fill=\"none\" stroke=\"#c7e9b4\" stroke-width=\"2.19036\" d=\"M59.2238,-153.66C61.9981,-165.495 68.1841,-173.563 77.7817,-173.563 84.5301,-173.563 89.5918,-169.575 92.9668,-163.092\"/>\r\n",
       "<polygon fill=\"#c7e9b4\" stroke=\"#c7e9b4\" stroke-width=\"2.19036\" points=\"96.268,-164.255 96.3397,-153.66 89.6768,-161.898 96.268,-164.255\"/>\r\n",
       "<text text-anchor=\"middle\" x=\"77.7817\" y=\"-177.363\" font-family=\"Times New Roman,serif\" font-size=\"14.00\">0.04</text>\r\n",
       "</g>\r\n",
       "<!-- C.w.Feedback (95%) -->\r\n",
       "<g id=\"node2\" class=\"node\"><title>C.w.Feedback (95%)</title>\r\n",
       "<ellipse fill=\"none\" stroke=\"black\" cx=\"305.606\" cy=\"-176.782\" rx=\"89.0842\" ry=\"89.0842\"/>\r\n",
       "<text text-anchor=\"middle\" x=\"305.606\" y=\"-173.082\" font-family=\"Times New Roman,serif\" font-size=\"14.00\">C.w.Feedback (95%)</text>\r\n",
       "</g>\r\n",
       "<!-- Test (58%) +\r\n",
       "Construct (40%)&#45;&gt;C.w.Feedback (95%) -->\r\n",
       "<g id=\"edge2\" class=\"edge\"><title>Test (58%) +\r\n",
       "Construct (40%)&#45;&gt;C.w.Feedback (95%)</title>\r\n",
       "<path fill=\"none\" stroke=\"#41b6c4\" stroke-width=\"4.86546\" d=\"M149.15,-109.028C157.377,-112.662 165.653,-116.309 173.563,-119.782 186.668,-125.535 200.521,-131.59 214.119,-137.518\"/>\r\n",
       "<polygon fill=\"#41b6c4\" stroke=\"#41b6c4\" stroke-width=\"4.86546\" points=\"212.612,-141.506 223.48,-141.597 216.013,-133.7 212.612,-141.506\"/>\r\n",
       "<text text-anchor=\"middle\" x=\"186.063\" y=\"-133.582\" font-family=\"Times New Roman,serif\" font-size=\"14.00\">0.57</text>\r\n",
       "</g>\r\n",
       "<!-- Pause (69%) +\r\n",
       "Construct (28%) -->\r\n",
       "<g id=\"node3\" class=\"node\"><title>Pause (69%) +\r\n",
       "Construct (28%)</title>\r\n",
       "<ellipse fill=\"none\" stroke=\"black\" cx=\"533.429\" cy=\"-83.7817\" rx=\"77.5641\" ry=\"77.5641\"/>\r\n",
       "<text text-anchor=\"middle\" x=\"533.429\" y=\"-87.5817\" font-family=\"Times New Roman,serif\" font-size=\"14.00\">Pause (69%) +</text>\r\n",
       "<text text-anchor=\"middle\" x=\"533.429\" y=\"-72.5817\" font-family=\"Times New Roman,serif\" font-size=\"14.00\">Construct (28%)</text>\r\n",
       "</g>\r\n",
       "<!-- Test (58%) +\r\n",
       "Construct (40%)&#45;&gt;Pause (69%) +\r\n",
       "Construct (28%) -->\r\n",
       "<g id=\"edge3\" class=\"edge\"><title>Test (58%) +\r\n",
       "Construct (40%)&#45;&gt;Pause (69%) +\r\n",
       "Construct (28%)</title>\r\n",
       "<path fill=\"none\" stroke=\"#7fcdbb\" stroke-width=\"3.94418\" d=\"M155.199,-68.6261C175.143,-66.6184 196.633,-64.7917 216.563,-63.7817 295.611,-59.7761 315.705,-58.082 394.648,-63.7817 411.476,-64.9967 429.37,-67.036 446.498,-69.3598\"/>\r\n",
       "<polygon fill=\"#7fcdbb\" stroke=\"#7fcdbb\" stroke-width=\"3.94418\" points=\"446.092,-72.837 456.481,-70.7568 447.062,-65.9045 446.092,-72.837\"/>\r\n",
       "<text text-anchor=\"middle\" x=\"305.606\" y=\"-67.5817\" font-family=\"Times New Roman,serif\" font-size=\"14.00\">0.39</text>\r\n",
       "</g>\r\n",
       "<!-- C.w.Feedback (95%)&#45;&gt;Test (58%) +\r\n",
       "Construct (40%) -->\r\n",
       "<g id=\"edge4\" class=\"edge\"><title>C.w.Feedback (95%)&#45;&gt;Test (58%) +\r\n",
       "Construct (40%)</title>\r\n",
       "<path fill=\"none\" stroke=\"#2c7fb8\" stroke-width=\"5.74619\" d=\"M235.854,-121.164C223.924,-113.405 211.258,-106.236 198.563,-100.782 187.924,-96.2107 176.363,-92.5429 164.761,-89.6012\"/>\r\n",
       "<polygon fill=\"#2c7fb8\" stroke=\"#2c7fb8\" stroke-width=\"5.74619\" points=\"165.915,-84.7074 155.025,-87.2971 163.599,-94.4929 165.915,-84.7074\"/>\r\n",
       "<text text-anchor=\"middle\" x=\"186.063\" y=\"-104.582\" font-family=\"Times New Roman,serif\" font-size=\"14.00\">0.75</text>\r\n",
       "</g>\r\n",
       "<!-- C.w.Feedback (95%)&#45;&gt;Pause (69%) +\r\n",
       "Construct (28%) -->\r\n",
       "<g id=\"edge5\" class=\"edge\"><title>C.w.Feedback (95%)&#45;&gt;Pause (69%) +\r\n",
       "Construct (28%)</title>\r\n",
       "<path fill=\"none\" stroke=\"#7fcdbb\" stroke-width=\"3.25381\" d=\"M390.794,-149.797C406.512,-144.217 422.691,-138.101 437.648,-131.782 443.39,-129.355 449.268,-126.733 455.146,-124.009\"/>\r\n",
       "<polygon fill=\"#7fcdbb\" stroke=\"#7fcdbb\" stroke-width=\"3.25381\" points=\"456.814,-127.092 464.363,-119.658 453.826,-120.762 456.814,-127.092\"/>\r\n",
       "<text text-anchor=\"middle\" x=\"425.148\" y=\"-144.582\" font-family=\"Times New Roman,serif\" font-size=\"14.00\">0.25</text>\r\n",
       "</g>\r\n",
       "<!-- Pause (69%) +\r\n",
       "Construct (28%)&#45;&gt;Test (58%) +\r\n",
       "Construct (40%) -->\r\n",
       "<g id=\"edge6\" class=\"edge\"><title>Pause (69%) +\r\n",
       "Construct (28%)&#45;&gt;Test (58%) +\r\n",
       "Construct (40%)</title>\r\n",
       "<path fill=\"none\" stroke=\"#2c7fb8\" stroke-width=\"5.00783\" d=\"M460.462,-56.8245C439.54,-50.2238 416.447,-44.1044 394.648,-40.7817 316.403,-28.8558 295.032,-30.4291 216.563,-40.7817 198.642,-43.1462 179.74,-47.1698 161.874,-51.7143\"/>\r\n",
       "<polygon fill=\"#2c7fb8\" stroke=\"#2c7fb8\" stroke-width=\"5.00783\" points=\"160.63,-47.5106 152.068,-54.2854 162.852,-55.9878 160.63,-47.5106\"/>\r\n",
       "<text text-anchor=\"middle\" x=\"305.606\" y=\"-44.5817\" font-family=\"Times New Roman,serif\" font-size=\"14.00\">0.60</text>\r\n",
       "</g>\r\n",
       "<!-- Pause (69%) +\r\n",
       "Construct (28%)&#45;&gt;C.w.Feedback (95%) -->\r\n",
       "<g id=\"edge7\" class=\"edge\"><title>Pause (69%) +\r\n",
       "Construct (28%)&#45;&gt;C.w.Feedback (95%)</title>\r\n",
       "<path fill=\"none\" stroke=\"#7fcdbb\" stroke-width=\"3.99217\" d=\"M456.871,-98.3555C441.949,-102.266 426.598,-107.043 412.648,-112.782 404.929,-115.957 397.114,-119.64 389.408,-123.605\"/>\r\n",
       "<polygon fill=\"#7fcdbb\" stroke=\"#7fcdbb\" stroke-width=\"3.99217\" points=\"387.616,-120.594 380.425,-128.375 390.899,-126.776 387.616,-120.594\"/>\r\n",
       "<text text-anchor=\"middle\" x=\"425.148\" y=\"-116.582\" font-family=\"Times New Roman,serif\" font-size=\"14.00\">0.40</text>\r\n",
       "</g>\r\n",
       "</g>\r\n",
       "</svg>\r\n"
      ],
      "text/plain": [
       "<graphviz.dot.Digraph at 0x11f32d68>"
      ]
     },
     "execution_count": 23,
     "metadata": {},
     "output_type": "execute_result"
    }
   ],
   "source": [
    "draw_states_graph(model_high)"
   ]
  },
  {
   "cell_type": "code",
   "execution_count": 24,
   "metadata": {
    "collapsed": false
   },
   "outputs": [
    {
     "data": {
      "image/svg+xml": [
       "<?xml version=\"1.0\" encoding=\"UTF-8\" standalone=\"no\"?>\r\n",
       "<!DOCTYPE svg PUBLIC \"-//W3C//DTD SVG 1.1//EN\"\r\n",
       " \"http://www.w3.org/Graphics/SVG/1.1/DTD/svg11.dtd\">\r\n",
       "<!-- Generated by graphviz version 2.38.0 (20140413.2041)\r\n",
       " -->\r\n",
       "<!-- Title: states Pages: 1 -->\r\n",
       "<svg width=\"581pt\" height=\"268pt\"\r\n",
       " viewBox=\"0.00 0.00 581.18 267.54\" xmlns=\"http://www.w3.org/2000/svg\" xmlns:xlink=\"http://www.w3.org/1999/xlink\">\r\n",
       "<g id=\"graph0\" class=\"graph\" transform=\"scale(1 1) rotate(0) translate(4 263.536)\">\r\n",
       "<title>states</title>\r\n",
       "<polygon fill=\"white\" stroke=\"none\" points=\"-4,4 -4,-263.536 577.179,-263.536 577.179,4 -4,4\"/>\r\n",
       "<!-- Construct (87%) -->\r\n",
       "<g id=\"node1\" class=\"node\"><title>Construct (87%)</title>\r\n",
       "<ellipse fill=\"none\" stroke=\"black\" cx=\"71.4937\" cy=\"-71.4937\" rx=\"71.4873\" ry=\"71.4873\"/>\r\n",
       "<text text-anchor=\"middle\" x=\"71.4937\" y=\"-67.7937\" font-family=\"Times New Roman,serif\" font-size=\"14.00\">Construct (87%)</text>\r\n",
       "</g>\r\n",
       "<!-- Construct (87%)&#45;&gt;Construct (87%) -->\r\n",
       "<g id=\"edge1\" class=\"edge\"><title>Construct (87%)&#45;&gt;Construct (87%)</title>\r\n",
       "<path fill=\"none\" stroke=\"#c7e9b4\" stroke-width=\"2.07052\" d=\"M53.9899,-140.912C56.3817,-152.771 62.2163,-160.987 71.4937,-160.987 77.8718,-160.987 82.6228,-157.104 85.7464,-150.823\"/>\r\n",
       "<polygon fill=\"#c7e9b4\" stroke=\"#c7e9b4\" stroke-width=\"2.07052\" points=\"89.2062,-151.505 88.9974,-140.912 82.5549,-149.323 89.2062,-151.505\"/>\r\n",
       "<text text-anchor=\"middle\" x=\"71.4937\" y=\"-164.787\" font-family=\"Times New Roman,serif\" font-size=\"14.00\">0.01</text>\r\n",
       "</g>\r\n",
       "<!-- C.w.Feedback (83%) -->\r\n",
       "<g id=\"node2\" class=\"node\"><title>C.w.Feedback (83%)</title>\r\n",
       "<ellipse fill=\"none\" stroke=\"black\" cx=\"293.029\" cy=\"-170.494\" rx=\"89.0842\" ry=\"89.0842\"/>\r\n",
       "<text text-anchor=\"middle\" x=\"293.029\" y=\"-166.794\" font-family=\"Times New Roman,serif\" font-size=\"14.00\">C.w.Feedback (83%)</text>\r\n",
       "</g>\r\n",
       "<!-- Construct (87%)&#45;&gt;C.w.Feedback (83%) -->\r\n",
       "<g id=\"edge2\" class=\"edge\"><title>Construct (87%)&#45;&gt;C.w.Feedback (83%)</title>\r\n",
       "<path fill=\"none\" stroke=\"#253494\" stroke-width=\"6.28438\" d=\"M136.181,-102.027C144.506,-105.928 152.937,-109.834 160.987,-113.494 174.016,-119.417 187.827,-125.565 201.406,-131.536\"/>\r\n",
       "<polygon fill=\"#253494\" stroke=\"#253494\" stroke-width=\"6.28438\" points=\"199.391,-136.657 210.758,-135.637 203.808,-126.585 199.391,-136.657\"/>\r\n",
       "<text text-anchor=\"middle\" x=\"173.487\" y=\"-128.294\" font-family=\"Times New Roman,serif\" font-size=\"14.00\">0.86</text>\r\n",
       "</g>\r\n",
       "<!-- Test (52%) +\r\n",
       "Pause (41%) -->\r\n",
       "<g id=\"node3\" class=\"node\"><title>Test (52%) +\r\n",
       "Pause (41%)</title>\r\n",
       "<ellipse fill=\"none\" stroke=\"black\" cx=\"508.125\" cy=\"-77.4937\" rx=\"65.1077\" ry=\"65.1077\"/>\r\n",
       "<text text-anchor=\"middle\" x=\"508.125\" y=\"-81.2937\" font-family=\"Times New Roman,serif\" font-size=\"14.00\">Test (52%) +</text>\r\n",
       "<text text-anchor=\"middle\" x=\"508.125\" y=\"-66.2937\" font-family=\"Times New Roman,serif\" font-size=\"14.00\">Pause (41%)</text>\r\n",
       "</g>\r\n",
       "<!-- Construct (87%)&#45;&gt;Test (52%) +\r\n",
       "Pause (41%) -->\r\n",
       "<g id=\"edge3\" class=\"edge\"><title>Construct (87%)&#45;&gt;Test (52%) +\r\n",
       "Pause (41%)</title>\r\n",
       "<path fill=\"none\" stroke=\"#c7e9b4\" stroke-width=\"2.6451\" d=\"M142.673,-62.6297C162.467,-60.5085 184.042,-58.5524 203.987,-57.4937 283.025,-53.298 303.172,-51.2242 382.072,-57.4937 399.019,-58.8403 417.138,-61.1981 434.174,-63.8334\"/>\r\n",
       "<polygon fill=\"#c7e9b4\" stroke=\"#c7e9b4\" stroke-width=\"2.6451\" points=\"433.636,-67.2917 444.062,-65.4115 434.739,-60.3792 433.636,-67.2917\"/>\r\n",
       "<text text-anchor=\"middle\" x=\"293.029\" y=\"-61.2937\" font-family=\"Times New Roman,serif\" font-size=\"14.00\">0.13</text>\r\n",
       "</g>\r\n",
       "<!-- C.w.Feedback (83%)&#45;&gt;Construct (87%) -->\r\n",
       "<g id=\"edge4\" class=\"edge\"><title>C.w.Feedback (83%)&#45;&gt;Construct (87%)</title>\r\n",
       "<path fill=\"none\" stroke=\"#2c7fb8\" stroke-width=\"5.1161\" d=\"M223.228,-114.989C211.305,-107.216 198.654,-100.012 185.987,-94.4937 175.51,-89.9286 164.089,-86.2569 152.661,-83.3068\"/>\r\n",
       "<polygon fill=\"#2c7fb8\" stroke=\"#2c7fb8\" stroke-width=\"5.1161\" points=\"153.409,-78.8825 142.639,-80.8957 151.315,-87.5873 153.409,-78.8825\"/>\r\n",
       "<text text-anchor=\"middle\" x=\"173.487\" y=\"-98.2937\" font-family=\"Times New Roman,serif\" font-size=\"14.00\">0.62</text>\r\n",
       "</g>\r\n",
       "<!-- C.w.Feedback (83%)&#45;&gt;Test (52%) +\r\n",
       "Pause (41%) -->\r\n",
       "<g id=\"edge5\" class=\"edge\"><title>C.w.Feedback (83%)&#45;&gt;Test (52%) +\r\n",
       "Pause (41%)</title>\r\n",
       "<path fill=\"none\" stroke=\"#7fcdbb\" stroke-width=\"3.8839\" d=\"M378.191,-144.365C393.989,-138.685 410.204,-132.313 425.072,-125.494 431.119,-122.72 437.296,-119.629 443.413,-116.391\"/>\r\n",
       "<polygon fill=\"#7fcdbb\" stroke=\"#7fcdbb\" stroke-width=\"3.8839\" points=\"445.192,-119.408 452.309,-111.56 441.851,-113.256 445.192,-119.408\"/>\r\n",
       "<text text-anchor=\"middle\" x=\"412.572\" y=\"-139.294\" font-family=\"Times New Roman,serif\" font-size=\"14.00\">0.38</text>\r\n",
       "</g>\r\n",
       "<!-- Test (52%) +\r\n",
       "Pause (41%)&#45;&gt;Construct (87%) -->\r\n",
       "<g id=\"edge6\" class=\"edge\"><title>Test (52%) +\r\n",
       "Pause (41%)&#45;&gt;Construct (87%)</title>\r\n",
       "<path fill=\"none\" stroke=\"#7fcdbb\" stroke-width=\"3.08708\" d=\"M447.747,-52.584C427.31,-45.2271 404.036,-38.1645 382.072,-34.4937 304.006,-21.447 282.393,-23.6728 203.987,-34.4937 186.049,-36.9694 167.112,-41.2601 149.369,-46.0628\"/>\r\n",
       "<polygon fill=\"#7fcdbb\" stroke=\"#7fcdbb\" stroke-width=\"3.08708\" points=\"148.34,-42.7162 139.649,-48.7754 150.222,-49.4586 148.34,-42.7162\"/>\r\n",
       "<text text-anchor=\"middle\" x=\"293.029\" y=\"-38.2937\" font-family=\"Times New Roman,serif\" font-size=\"14.00\">0.22</text>\r\n",
       "</g>\r\n",
       "<!-- Test (52%) +\r\n",
       "Pause (41%)&#45;&gt;C.w.Feedback (83%) -->\r\n",
       "<g id=\"edge7\" class=\"edge\"><title>Test (52%) +\r\n",
       "Pause (41%)&#45;&gt;C.w.Feedback (83%)</title>\r\n",
       "<path fill=\"none\" stroke=\"#7fcdbb\" stroke-width=\"3.90251\" d=\"M444.425,-91.3418C429.61,-95.4673 414.06,-100.517 400.072,-106.494 392.397,-109.773 384.612,-113.529 376.926,-117.541\"/>\r\n",
       "<polygon fill=\"#7fcdbb\" stroke=\"#7fcdbb\" stroke-width=\"3.90251\" points=\"375.115,-114.541 367.962,-122.357 378.428,-120.708 375.115,-114.541\"/>\r\n",
       "<text text-anchor=\"middle\" x=\"412.572\" y=\"-110.294\" font-family=\"Times New Roman,serif\" font-size=\"14.00\">0.38</text>\r\n",
       "</g>\r\n",
       "<!-- Test (52%) +\r\n",
       "Pause (41%)&#45;&gt;Test (52%) +\r\n",
       "Pause (41%) -->\r\n",
       "<g id=\"edge8\" class=\"edge\"><title>Test (52%) +\r\n",
       "Pause (41%)&#45;&gt;Test (52%) +\r\n",
       "Pause (41%)</title>\r\n",
       "<path fill=\"none\" stroke=\"#41b6c4\" stroke-width=\"4.01041\" d=\"M491.405,-140.509C493.464,-152.267 499.037,-160.547 508.125,-160.547 514.373,-160.547 518.96,-156.634 521.886,-150.367\"/>\r\n",
       "<polygon fill=\"#41b6c4\" stroke=\"#41b6c4\" stroke-width=\"4.01041\" points=\"525.331,-151.096 524.846,-140.509 518.609,-149.078 525.331,-151.096\"/>\r\n",
       "<text text-anchor=\"middle\" x=\"508.125\" y=\"-164.347\" font-family=\"Times New Roman,serif\" font-size=\"14.00\">0.40</text>\r\n",
       "</g>\r\n",
       "</g>\r\n",
       "</svg>\r\n"
      ],
      "text/plain": [
       "<graphviz.dot.Digraph at 0x11f32278>"
      ]
     },
     "execution_count": 24,
     "metadata": {},
     "output_type": "execute_result"
    }
   ],
   "source": [
    "draw_states_graph(model_low)"
   ]
  },
  {
   "cell_type": "code",
   "execution_count": null,
   "metadata": {
    "collapsed": true
   },
   "outputs": [],
   "source": []
  },
  {
   "cell_type": "code",
   "execution_count": null,
   "metadata": {
    "collapsed": true
   },
   "outputs": [],
   "source": []
  }
 ],
 "metadata": {
  "anaconda-cloud": {},
  "kernelspec": {
   "display_name": "Python [Root]",
   "language": "python",
   "name": "Python [Root]"
  },
  "language_info": {
   "codemirror_mode": {
    "name": "ipython",
    "version": 2
   },
   "file_extension": ".py",
   "mimetype": "text/x-python",
   "name": "python",
   "nbconvert_exporter": "python",
   "pygments_lexer": "ipython2",
   "version": "2.7.12"
  }
 },
 "nbformat": 4,
 "nbformat_minor": 0
}
