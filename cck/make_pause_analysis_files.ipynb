{
 "cells": [
  {
   "cell_type": "code",
   "execution_count": 1,
   "metadata": {
    "collapsed": false
   },
   "outputs": [
    {
     "name": "stderr",
     "output_type": "stream",
     "text": [
      "C:\\Users\\sperez8\\AppData\\Local\\Continuum\\Anaconda2\\lib\\site-packages\\numpy\\lib\\function_base.py:4011: RuntimeWarning: Invalid value encountered in median\n",
      "  r = func(a, **kwargs)\n"
     ]
    }
   ],
   "source": [
    "import math\n",
    "import numpy as np\n",
    "import pandas as pd\n",
    "import sys\n",
    "import re\n",
    "from functions import *\n",
    "from mining_functions import *\n",
    "import seaborn as sns\n",
    "from scipy import stats\n",
    "from tabulate import tabulate\n",
    "np.set_printoptions(precision=2)\n",
    "pd.set_option('precision', 2)\n",
    "%matplotlib inline\n",
    "matplotlib.style.use('ggplot')\n",
    "%load_ext autoreload\n",
    "%autoreload 2"
   ]
  },
  {
   "cell_type": "code",
   "execution_count": 2,
   "metadata": {
    "collapsed": false
   },
   "outputs": [],
   "source": [
    "PATH = '/Google Drive/Jonathan Sarah Ido folder/data/CCK/'\n",
    "def get_path(path = PATH):\n",
    "    if os.name == 'posix':\n",
    "        path = '/Documents/code/Phet-log-analyzer/cck/raw_data_parsing_check/'\n",
    "        return os.environ['HOME']+path #'/Google Drive/Jonathan Sarah Ido folder/data/CCK/'\n",
    "    elif os.name == 'nt':\n",
    "        if os.getenv(\"COMPUTERNAME\") == 'PYRRHA':\n",
    "                path = '/Documents/git/Phet-log-analyzer/cck/raw_data_parsing_check/'\n",
    "        else:\n",
    "            path = '/git/Phet-log-analyzer/cck/raw_data_parsing_check/'\n",
    "        return os.environ['USERPROFILE']+ path.replace('/','\\\\') #'\\\\Google Drive\\Jonathan Sarah Ido folder\\data\\CCK\\\\'\n",
    "    else:\n",
    "        raise Exception('OS not recongnized. I\\'m confused.')\n",
    "        \n",
    "df = pd.read_csv(get_path() + 'phet_cck_user_actions+sophistication_WITHPAUSE_more_circuit_info_with_perfect_pre.txt',index_col=False)\n",
    "# dfx = pd.read_csv('C:\\Users\\Sarah\\Documents\\git\\Phet-log-analyzer\\cck\\\\raw_data_parsing_check\\phet_cck_user_actions+sophistication_WITHPAUSE_more_circuit_info.txt',index_col=False)\n",
    "df[\"student\"] = df[\"student\"].astype('category')\n",
    "df[\"Family\"]=df[\"Family\"].str.capitalize()\n",
    "df[\"Family_tool\"]=df[\"Family_tool\"].str.capitalize()\n",
    "df[\"Family_default\"]=df[\"Family_default\"].str.capitalize()\n",
    "df[\"Family_both\"]=df[\"Family_both\"].str.capitalize()\n",
    "\n",
    "df_scores = pd.read_csv(data_path + 'MATCHING_phet_cck_user_data_anonymized_with_perfect_pre.txt')\n",
    "df_scores[\"student\"] = df_scores[\"student\"].astype('category')"
   ]
  },
  {
   "cell_type": "code",
   "execution_count": 3,
   "metadata": {
    "collapsed": true
   },
   "outputs": [],
   "source": [
    "max_time = 25*60*1000\n",
    "max_times = {s:min(df[df['student']==s][\"Time Stamp\"])+max_time for s in set(df['student'])}\n",
    "\n",
    "def keep_by_time (row):\n",
    "    if row[\"Time Stamp\"] <= max_times[row[\"student\"]]:\n",
    "        return True\n",
    "    else: \n",
    "        return False\n",
    "\n",
    "df['keep'] = df.apply (lambda row: keep_by_time (row),axis=1)\n",
    "df=df[df['keep']]"
   ]
  },
  {
   "cell_type": "code",
   "execution_count": 4,
   "metadata": {
    "collapsed": true
   },
   "outputs": [],
   "source": [
    "merge_actions = {'C':'C', 'P':'P', 'Tb':'T', 'Tc':'T', 'Ts':'T', 'To':'T'}\n",
    "\n",
    "def occurrences(string, sub):\n",
    "    count = start = 0\n",
    "    while True:\n",
    "        start = string.find(sub, start) + 1\n",
    "        if start > 0:\n",
    "            count+=1\n",
    "        else:\n",
    "            return count\n",
    "        \n",
    "def make_hist_discrete(seq_of_interest,freq_HL,freq_LL):\n",
    "    fig, axs = plt.subplots(1,figsize=(12,2.5))\n",
    "    ymax= max(max(freq_HL),max(freq_LL))\n",
    "    bins = range(0,int(ymax)+1,1)\n",
    "    plt.hist(freq_HL,color ='r',alpha = 0.4,bins = bins)\n",
    "    plt.hist(freq_LL,color = 'b',alpha = 0.4,bins = bins)\n",
    "    plt.title(\"Use of the sequence ''{0}'' by HL (red) and LL (blue)\".format(seq_of_interest))\n",
    "    return plt\n",
    "\n",
    "def make_hist_continuous(seq_of_interest,freq_HL,freq_LL):\n",
    "    fig, axs = plt.subplots(1,figsize=(12,2.5))\n",
    "    bins = np.arange(0,1.05,0.05)\n",
    "    plt.hist(freq_HL,color ='r',alpha = 0.4,bins = bins)\n",
    "    plt.hist(freq_LL,color = 'b',alpha = 0.4,bins = bins)\n",
    "    plt.title(\"Use of the sequence ''{0}'' by HL (red) and LL (blue)\".format(seq_of_interest))\n",
    "    return plt\n",
    "\n",
    "def get_frequencies(seq_of_interest,blocks1,blocks2,normalize_by='length'):\n",
    "    def coo(seq, seq_of_interest):\n",
    "        return float(occurrences(''.join(seq),seq_of_interest))\n",
    "    \n",
    "    if normalize_by == None:\n",
    "        # count number of occurrences of \"seq_of_interest\" in a student's seq\n",
    "        freq1 = {student : coo(seq, seq_of_interest) for student,seq in blocks1.iteritems()}\n",
    "        freq2 = {student : coo(seq, seq_of_interest) for student,seq in blocks2.iteritems()}\n",
    "    elif normalize_by == 'length':\n",
    "        len_seqi = len(''.join([c for c in seq_of_interest if c.isupper()]))\n",
    "        # count number of occurrences of \"seq_of_interest\" in a student's seq divided by the length of seq\n",
    "        freq1 = {student : coo(seq, seq_of_interest)/(len(seq)/len_seqi) if coo(seq, seq_of_interest) >0 else 0 for student,seq in blocks1.iteritems()}\n",
    "        freq2 = {student : coo(seq, seq_of_interest)/(len(seq)/len_seqi) if coo(seq, seq_of_interest) >0 else 0 for student,seq in blocks2.iteritems()}\n",
    "    else:\n",
    "        # count number of occurrences of \"seq_of_interest\" in a student's seq divided by the number of occurrences of the seq \"normalize_by\"\n",
    "        freq1 = {student : coo(seq, seq_of_interest)/coo(seq, normalize_by) if coo(seq, normalize_by) >0 else 0 for student,seq in blocks1.iteritems()}\n",
    "        freq2 = {student : coo(seq, seq_of_interest)/coo(seq, normalize_by) if coo(seq, normalize_by) >0 else 0 for student,seq in blocks2.iteritems()}\n",
    "    return freq1.values(),freq2.values()\n",
    "\n",
    "def run_chi2(seq_of_interest,blocks1,blocks2,consider_if=None):\n",
    "    def coo(seq, seq_of_interest):\n",
    "        if occurrences(\"\".join(seq),seq_of_interest) >=1:\n",
    "            return 1\n",
    "        else:\n",
    "            return 0\n",
    "        \n",
    "    if consider_if:\n",
    "        hl = sum([coo(seq, seq_of_interest) for student,seq in blocks1.iteritems()])\n",
    "        nhl = sum([coo(seq, consider_if) for student,seq in blocks1.iteritems()])-hl\n",
    "        ll =  sum([coo(seq, seq_of_interest) for student,seq in blocks2.iteritems()])\n",
    "        nll = sum([coo(seq, consider_if) for student,seq in blocks2.iteritems()])-ll\n",
    "    else:\n",
    "        hl = sum([coo(seq, seq_of_interest) for student,seq in blocks1.iteritems()])\n",
    "        nhl = len(blocks1.keys())-hl\n",
    "        ll =  sum([coo(seq, seq_of_interest) for student,seq in blocks2.iteritems()])\n",
    "        nll = len(blocks2.keys())-ll\n",
    "    \n",
    "    to_print = [[\"\",\"Low-High\",\"Low-Low\",\"total\"]]\n",
    "    to_print.append([\"used it\",hl,ll,ll+hl])\n",
    "    to_print.append([\"didn't use it\",nhl,nll,nll+nhl])\n",
    "    to_print.append([\"total\",nhl+hl,nll+ll,nll+ll+nhl+hl])\n",
    "    print tabulate(to_print)\n",
    "    \n",
    "    total = float(hl + nhl + ll + nll)\n",
    "    print 'old: ',stats.chisquare(f_obs= [hl,ll],   # Array of observed counts\n",
    "                    f_exp= [(hl+nhl)*(hl+ll)/total,(ll+nll)*(hl+ll)/total])   # Array of expected counts\n",
    "    print 'new:', stats.chi2_contingency([[hl,ll],[nhl,nll]], correction=False)\n",
    "    return None\n",
    "# ### Demonstration of function above\n",
    "# b1 = {1:[\"A\",\"Bo\",\"C\",\"Bo\",\"C\",\"A\",\"C\",\"A\"]}\n",
    "# b2 = {3:[\"A\",\"Bo\",\"C\",\"Bo\",\"A\",\"Bo\",\"A\",\"Bo\"]}\n",
    "# f1,f2 = get_frequencies('BoC',b1,b2,normalize_by='Bo')\n",
    "# print f1,f2\n",
    "\n",
    "def perform_comparative_stats(seq_of_interest,freq1,freq2):\n",
    "    t,p =  stats.ttest_ind(freq1,freq2,equal_var=False)\n",
    "    print seq_of_interest,':'\n",
    "    print \"\\tT-test:\\t{0} \\t p={1}\".format(round(t,3),round(p,4))\n",
    "    m,p = stats.mannwhitneyu(freq1,freq2, alternative='less')\n",
    "    print '\\tHL<LL:\\t{0} \\t p={1}'.format(round(m,3),round(p,4))\n",
    "    m,p = stats.mannwhitneyu(freq1,freq2, alternative='greater')\n",
    "    print '\\tHL>LL:\\t{0} \\t p={1}'.format(round(m,3),round(p,4))\n",
    "    m,p = stats.mannwhitneyu(freq1,freq2, alternative='two-sided')\n",
    "    print '\\ttwo-sided:\\t{0} \\t p={1}'.format(round(m,3),round(p,4))\n",
    "    \n",
    "# def remodel_families_lightbulb(row):\n",
    "#     if row[\"Family\"] == \"Test_complex\":\n",
    "#         if row['current_#lightBulb']>0:\n",
    "#             if row[\"current_#battery\"] == 1: \n",
    "#                 #we have a simple circuit ;)\n",
    "#                 if row[\"current_#loops\"] == 1:\n",
    "#                     if row[\"current_#resistor\"] == 0: #basic circuit!\n",
    "#                         return 'Test_series_l'\n",
    "#                     if row[\"current_#resistor\"] == 1: #basic circuit!\n",
    "#                         return 'Test_series_l_r'\n",
    "#                     if row[\"current_#resistor\"] == 2: #basic circuit!\n",
    "#                         return 'Test_series_l_r_r'\n",
    "#                 elif row[\"current_#loops\"] == 2:\n",
    "#                     if row[\"current_#resistor\"] == 0: #basic circuit!\n",
    "#                         return 'Test_parallel_l'\n",
    "#                     if row[\"current_#resistor\"] == 1: #basic circuit!\n",
    "#                         return 'Test_parallel_l_r'\n",
    "#                     if row[\"current_#resistor\"] == 2: #basic circuit!\n",
    "#                         return 'Test_parallel_l_r_r'\n",
    "#     return row[\"Family\"]\n",
    "# df2 = df.copy()\n",
    "# df2['Family'] = df2.apply (lambda row: remodel_families_lightbulb (row),axis=1)\n",
    "\n",
    "# blocks_HL_lightbulb, time_coords_HL =  get_blocks_withTime_new(df2,students_HL,\"Family\",start=False,ignore=['I'], as_list=True)\n",
    "# blocks_LL_lightbulb, time_coords_LL =  get_blocks_withTime_new(df2,students_LL,\"Family\",start=False,ignore=['I'], as_list=True)"
   ]
  },
  {
   "cell_type": "code",
   "execution_count": 5,
   "metadata": {
    "collapsed": false
   },
   "outputs": [
    {
     "name": "stdout",
     "output_type": "stream",
     "text": [
      "There are 22 HH, 38 LH and 36 LL.\n"
     ]
    }
   ],
   "source": [
    "students_Lpre = set(get_students('split pre','low'));students_Hpre = set(get_students('split pre','high'));H_post = set(get_students('split post t2','high'));L_post = set(get_students('split post t2','low'))\n",
    "students_HL = H_post.intersection(students_Lpre)\n",
    "students_LL = L_post.intersection(students_Lpre)\n",
    "students_HH = H_post.intersection(students_Hpre)\n",
    "print \"There are {0} HH, {1} LH and {2} LL.\".format(len(students_HH),len(students_HL),len(students_LL))"
   ]
  },
  {
   "cell_type": "code",
   "execution_count": 6,
   "metadata": {
    "collapsed": true
   },
   "outputs": [],
   "source": [
    "blocks_HH, time_coords_HH =  get_blocks_withTime_new(df,students_HH,\"Family\",start=False,ignore=['I'], as_list=True)\n",
    "blocks_HL, time_coords_HL =  get_blocks_withTime_new(df,students_HL,\"Family\",start=False,ignore=['I'], as_list=True)\n",
    "blocks_LL, time_coords_LL =  get_blocks_withTime_new(df,students_LL,\"Family\",start=False,ignore=['I'], as_list=True)\n",
    "blocks_merged_HH = {student:[merge_actions[s] for s in seq] for student,seq in blocks_HH.iteritems()}\n",
    "blocks_merged_HL = {student:[merge_actions[s] for s in seq] for student,seq in blocks_HL.iteritems()}\n",
    "blocks_merged_LL = {student:[merge_actions[s] for s in seq] for student,seq in blocks_LL.iteritems()}\n",
    "actions_merged = ['C','P','T']\n",
    "actions_all = ['C', 'P', 'Tb', 'Tc', 'Ts']"
   ]
  },
  {
   "cell_type": "code",
   "execution_count": 7,
   "metadata": {
    "collapsed": false
   },
   "outputs": [],
   "source": [
    "data = np.chararray(shape=(len(students_HH)+len(students_HL)+len(students_LL)+1,7),itemsize=1000)\n",
    "all_students = students_HH.union(students_HL.union(students_LL))\n",
    "data[1:,0] = [str(s) for s in all_students]\n",
    "data[0,:] = ['Studentid','Group','TPT','TPC','CPC','CPT','Num P']\n",
    "for student in all_students:\n",
    "    row = np.where(data==str(student))[0][0]\n",
    "    if student in students_HH:\n",
    "        group = 2\n",
    "        seq = blocks_merged_HH[student]\n",
    "    elif student in students_HL:\n",
    "        group = 1\n",
    "        seq = blocks_merged_HL[student]\n",
    "    else:\n",
    "        group = 0\n",
    "        seq = blocks_merged_LL[student]\n",
    "    \n",
    "    TPT = occurrences(\"\".join(seq),'TPT')\n",
    "    TPC = occurrences(\"\".join(seq),'TPC')\n",
    "    CPC = occurrences(\"\".join(seq),'CPC')\n",
    "    CPT = occurrences(\"\".join(seq),'CPT')\n",
    "    data[row,1:] = [group,TPT,TPC,CPC,CPT, TPT+TPC+CPC+CPT]\n",
    "    \n",
    "np.savetxt('pause_counts_TPT_for_SPSS_analysis_with_HH.txt', data, delimiter=',', newline='\\n', header='',fmt='%.1000s')"
   ]
  }
 ],
 "metadata": {
  "kernelspec": {
   "display_name": "Python [Anaconda2]",
   "language": "python",
   "name": "Python [Anaconda2]"
  },
  "language_info": {
   "codemirror_mode": {
    "name": "ipython",
    "version": 2
   },
   "file_extension": ".py",
   "mimetype": "text/x-python",
   "name": "python",
   "nbconvert_exporter": "python",
   "pygments_lexer": "ipython2",
   "version": "2.7.12"
  },
  "toc": {
   "nav_menu": {},
   "number_sections": true,
   "sideBar": true,
   "skip_h1_title": false,
   "toc_cell": false,
   "toc_position": {},
   "toc_section_display": "block",
   "toc_window_display": false
  }
 },
 "nbformat": 4,
 "nbformat_minor": 2
}
